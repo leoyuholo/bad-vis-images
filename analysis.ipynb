{
 "cells": [
  {
   "cell_type": "code",
   "execution_count": 10,
   "metadata": {},
   "outputs": [],
   "source": [
    "from pymongo import MongoClient\n",
    "import json\n",
    "from collections import Counter"
   ]
  },
  {
   "cell_type": "code",
   "execution_count": 11,
   "metadata": {},
   "outputs": [],
   "source": [
    "mongo = MongoClient('172.17.0.1', 27017)\n",
    "db = mongo['bad-vis']\n",
    "posts = db['posts']"
   ]
  },
  {
   "cell_type": "code",
   "execution_count": 12,
   "metadata": {},
   "outputs": [],
   "source": [
    "source_url = {'https://www.reddit.com/r/dataisugly', 'https://badvisualisations.tumblr.com/', 'https://viz.wtf/'}"
   ]
  },
  {
   "cell_type": "code",
   "execution_count": 13,
   "metadata": {},
   "outputs": [],
   "source": [
    "output = [p for p in posts.find({})\n",
    "              if p['source_url'] in source_url and\n",
    "                 p['preview']['url'] != '' and\n",
    "                 p['thumbnail']['url'] != '' and\n",
    "                 p['media_type'] == 'image'\n",
    "         ]"
   ]
  },
  {
   "cell_type": "code",
   "execution_count": 14,
   "metadata": {},
   "outputs": [
    {
     "data": {
      "text/plain": [
       "6589"
      ]
     },
     "execution_count": 14,
     "metadata": {},
     "output_type": "execute_result"
    }
   ],
   "source": [
    "len(output)"
   ]
  },
  {
   "cell_type": "code",
   "execution_count": 15,
   "metadata": {},
   "outputs": [],
   "source": [
    "for o in output:\n",
    "    del o['_id']"
   ]
  },
  {
   "cell_type": "code",
   "execution_count": 16,
   "metadata": {},
   "outputs": [],
   "source": [
    "json.dump(output[0:1000], open('./output.json', 'w'))"
   ]
  },
  {
   "cell_type": "code",
   "execution_count": null,
   "metadata": {},
   "outputs": [],
   "source": []
  },
  {
   "cell_type": "code",
   "execution_count": 24,
   "metadata": {},
   "outputs": [],
   "source": [
    "c = Counter([t for p in posts.find() for t in p['tags']])"
   ]
  },
  {
   "cell_type": "code",
   "execution_count": 25,
   "metadata": {},
   "outputs": [
    {
     "data": {
      "text/plain": [
       "[('WTFViz', 2119),\n",
       " ('Percentages', 985),\n",
       " ('BarChart', 705),\n",
       " ('submission', 704),\n",
       " ('PieChart', 477),\n",
       " ('DonutChart', 373),\n",
       " ('3D', 304),\n",
       " ('Radial', 276),\n",
       " ('Bad Scale', 231),\n",
       " ('Diagram', 162),\n",
       " ('Map', 156),\n",
       " ('Pie Gore', 150),\n",
       " ('LabelLines', 147),\n",
       " ('Clusterfuck', 139),\n",
       " ('LineChart', 131),\n",
       " ('OC', 113),\n",
       " ('What the Fuck?', 94),\n",
       " ('Iconography', 88),\n",
       " ('StackedBarChart', 84),\n",
       " ('Agendas Gone Wild', 81),\n",
       " ('Timeline', 81),\n",
       " ('Wedges', 70),\n",
       " ('Arrows', 69),\n",
       " ('BubbleChart', 67),\n",
       " ('CoxcombChart', 63),\n",
       " ('Euler', 61),\n",
       " ('R2: Nothing wrong', 55),\n",
       " ('data visualisation', 50),\n",
       " ('AreaChart', 45),\n",
       " ('data visualization', 42),\n",
       " ('NotPartToWhole', 35),\n",
       " ('Venn', 32),\n",
       " ('R1: Parody', 31),\n",
       " ('bar graph', 29),\n",
       " ('Rainbow', 28),\n",
       " ('Area/Volume', 27),\n",
       " ('Clock', 26),\n",
       " ('3D is Cool!', 25),\n",
       " ('NotPartWhole', 25),\n",
       " ('R3: Dataisbeautiful', 20),\n",
       " ('Flawed Flows', 19),\n",
       " ('PartToWhole', 19),\n",
       " ('Scatterplot', 18),\n",
       " ('NetworkDiagram', 16),\n",
       " ('NotPeriodic', 16),\n",
       " ('TriangleChart', 15),\n",
       " ('Dial', 15),\n",
       " ('ISOTYPE', 14),\n",
       " ('DonutCharts', 13),\n",
       " ('Advice', 12)]"
      ]
     },
     "execution_count": 25,
     "metadata": {},
     "output_type": "execute_result"
    }
   ],
   "source": [
    "c.most_common()[:50]"
   ]
  },
  {
   "cell_type": "code",
   "execution_count": null,
   "metadata": {},
   "outputs": [],
   "source": []
  },
  {
   "cell_type": "code",
   "execution_count": 26,
   "metadata": {},
   "outputs": [],
   "source": [
    "c = Counter([p['author'] for p in posts.find() if 'author' in p])"
   ]
  },
  {
   "cell_type": "code",
   "execution_count": 27,
   "metadata": {},
   "outputs": [
    {
     "data": {
      "text/plain": [
       "[('', 1374),\n",
       " ('rhiever', 80),\n",
       " ('CJMinard', 58),\n",
       " ('minimaxir', 36),\n",
       " ('zonination', 34),\n",
       " ('[deleted]', 31),\n",
       " ('akeemtheafricandream', 28),\n",
       " ('NelsonMinar', 24),\n",
       " ('jensyao', 20),\n",
       " ('confused_confucius07', 19),\n",
       " ('ProgVal', 17),\n",
       " ('OllyTwist', 16),\n",
       " ('Renegade_Meister', 15),\n",
       " ('zevobh', 14),\n",
       " ('denacioust', 14),\n",
       " ('Epistaxis', 12),\n",
       " ('almodozo', 11),\n",
       " ('misnamed', 11),\n",
       " ('suity1', 10),\n",
       " ('WE_THEPEOPLE', 10),\n",
       " ('phil_blumpkin', 10),\n",
       " ('wspaniel', 10),\n",
       " ('SymphMeta', 10),\n",
       " ('iqueerified', 9),\n",
       " ('WHY_DO_I_SHOUT', 8),\n",
       " ('crvc', 8),\n",
       " ('Thefriendlyfaceplant', 8),\n",
       " ('MatthewLaw', 8),\n",
       " ('Batrachus', 8),\n",
       " ('colako', 8),\n",
       " ('pongpingpongpingpong', 7),\n",
       " ('Catharrrsis', 7),\n",
       " ('DiamondMinah', 7),\n",
       " ('nate_silver_surfer', 7),\n",
       " ('Curran919', 7),\n",
       " ('toot_ma_boot', 7),\n",
       " ('Null_HHockey', 7),\n",
       " ('mrdelayer', 7),\n",
       " ('ar_604', 6),\n",
       " ('wheresflateric', 6),\n",
       " ('ofsinope', 6),\n",
       " ('Reddits_Worst_Night', 6),\n",
       " ('rocketman0739', 6),\n",
       " ('--DrScience--', 6),\n",
       " ('bubbles212', 6),\n",
       " ('mrgann', 6),\n",
       " ('owmyfoothurts', 6),\n",
       " ('vbevan', 6),\n",
       " ('vernazza', 6),\n",
       " ('colt_45s', 6)]"
      ]
     },
     "execution_count": 27,
     "metadata": {},
     "output_type": "execute_result"
    }
   ],
   "source": [
    "c.most_common()[:50]"
   ]
  },
  {
   "cell_type": "code",
   "execution_count": null,
   "metadata": {},
   "outputs": [],
   "source": []
  }
 ],
 "metadata": {
  "kernelspec": {
   "display_name": "Python 3",
   "language": "python",
   "name": "python3"
  },
  "language_info": {
   "codemirror_mode": {
    "name": "ipython",
    "version": 3
   },
   "file_extension": ".py",
   "mimetype": "text/x-python",
   "name": "python",
   "nbconvert_exporter": "python",
   "pygments_lexer": "ipython3",
   "version": "3.7.3"
  }
 },
 "nbformat": 4,
 "nbformat_minor": 4
}
