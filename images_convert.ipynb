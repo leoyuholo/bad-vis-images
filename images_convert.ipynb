{
 "cells": [
  {
   "cell_type": "code",
   "execution_count": 1,
   "metadata": {
    "Collapsed": "false"
   },
   "outputs": [],
   "source": [
    "# !python3 -m pip install pyppeteer\n",
    "# !apt install libxrender1 libxtst6 libxi6\n",
    "\n",
    "# !pip install ffmpy\n",
    "\n",
    "# !pip install webp\n",
    "# !pip uninstall Pillow\n",
    "# !pip install Pillow\n",
    "\n",
    "# !pip install piexif"
   ]
  },
  {
   "cell_type": "code",
   "execution_count": 2,
   "metadata": {
    "Collapsed": "false"
   },
   "outputs": [],
   "source": [
    "import os\n",
    "from pathlib import Path"
   ]
  },
  {
   "cell_type": "code",
   "execution_count": 3,
   "metadata": {
    "Collapsed": "false"
   },
   "outputs": [],
   "source": [
    "images_dir = Path('./images')\n",
    "recycle_dir = Path('./recycle')"
   ]
  },
  {
   "cell_type": "code",
   "execution_count": 4,
   "metadata": {
    "Collapsed": "false"
   },
   "outputs": [],
   "source": [
    "recycle_dir.mkdir(parents=True, exist_ok=True)"
   ]
  },
  {
   "cell_type": "markdown",
   "metadata": {
    "Collapsed": "false"
   },
   "source": [
    "# Convert .svg to .png"
   ]
  },
  {
   "cell_type": "markdown",
   "metadata": {
    "Collapsed": "false"
   },
   "source": [
    "Tried svglib, cairosvg and phantomjs, all are error prone. Improper font, color, etc.\n",
    "\n",
    "Finally settled with puppeteer, the output images are rendered just like chrome does"
   ]
  },
  {
   "cell_type": "code",
   "execution_count": 5,
   "metadata": {
    "Collapsed": "false"
   },
   "outputs": [],
   "source": [
    "from pyppeteer import launch"
   ]
  },
  {
   "cell_type": "code",
   "execution_count": 6,
   "metadata": {
    "Collapsed": "false"
   },
   "outputs": [],
   "source": [
    "async def svg2png (in_svg_path, out_png_path):\n",
    "    browser = await launch(args=['--no-sandbox'])\n",
    "    page = await browser.newPage()\n",
    "    await page.goto(f\"file://{os.path.abspath(in_svg_path)}\")\n",
    "    dimensions = await page.evaluate('''() => {\n",
    "        return {\n",
    "            width: document.documentElement.width.baseVal.value,\n",
    "            height: document.documentElement.height.baseVal.value\n",
    "        }\n",
    "    }''')\n",
    "    await page.setViewport({'width': int(dimensions['width']), 'height': int(dimensions['height'])})\n",
    "    await page.screenshot({'path': out_png_path})\n",
    "    await browser.close()"
   ]
  },
  {
   "cell_type": "code",
   "execution_count": 7,
   "metadata": {
    "Collapsed": "false"
   },
   "outputs": [],
   "source": [
    "for root, dirs, files in os.walk(images_dir):\n",
    "    for name in files:\n",
    "        try:\n",
    "            if name.endswith('.svg'):\n",
    "                basename, ext = os.path.splitext(name)\n",
    "                f_in = os.path.join(root, name)\n",
    "                f_out = os.path.join(root, f\"{basename}.png\")\n",
    "                print(f_in)\n",
    "                await svg2png(f_in, f_out)\n",
    "                f_mv = recycle_dir/name\n",
    "                !mv {f_in} {f_mv}\n",
    "        except Exception as inst:\n",
    "            print(f\"Error converting image: {name} {inst}\")"
   ]
  },
  {
   "cell_type": "markdown",
   "metadata": {
    "Collapsed": "false"
   },
   "source": [
    "# Convert Imgur .gifv format, which downloaded as .mp4, to .gif"
   ]
  },
  {
   "cell_type": "code",
   "execution_count": 8,
   "metadata": {
    "Collapsed": "false"
   },
   "outputs": [],
   "source": [
    "import ffmpy"
   ]
  },
  {
   "cell_type": "code",
   "execution_count": 9,
   "metadata": {
    "Collapsed": "false"
   },
   "outputs": [],
   "source": [
    "for root, dirs, files in os.walk(images_dir):\n",
    "    for name in files:\n",
    "        try:\n",
    "            if name.endswith('.mp4'):\n",
    "                basename, ext = os.path.splitext(name)\n",
    "                f_in = os.path.join(root, name)\n",
    "                f_out = os.path.join(root, f\"{basename}.gif\")\n",
    "                print(f_in)\n",
    "                !rm {f_out}\n",
    "                ffmpy.FFmpeg(inputs={f_in: None}, outputs={f_out: None}).run()\n",
    "                f_mv = recycle_dir/name\n",
    "                !mv {f_in} {f_mv}\n",
    "        except Exception as inst:\n",
    "            print(f\"Error converting video: {name} {inst}\")"
   ]
  },
  {
   "cell_type": "markdown",
   "metadata": {
    "Collapsed": "false"
   },
   "source": [
    "# Convert .bmp to .png"
   ]
  },
  {
   "cell_type": "code",
   "execution_count": 10,
   "metadata": {
    "Collapsed": "false"
   },
   "outputs": [],
   "source": [
    "import imageio"
   ]
  },
  {
   "cell_type": "code",
   "execution_count": 11,
   "metadata": {
    "Collapsed": "false"
   },
   "outputs": [],
   "source": [
    "for root, dirs, files in os.walk(images_dir):\n",
    "    for name in files:\n",
    "        basename, ext = os.path.splitext(name)\n",
    "        if ext == '.bmp':\n",
    "            print(os.path.join(root, name))\n",
    "            f_in = os.path.join(root, name)\n",
    "            f_out = os.path.join(root, f\"{basename}.png\")\n",
    "            im = imageio.imread(os.path.join(root, name))\n",
    "            imageio.imwrite(f_out, im)\n",
    "\n",
    "            f_mv = recycle_dir/name\n",
    "            !mv {f_in} {f_mv}"
   ]
  },
  {
   "cell_type": "markdown",
   "metadata": {
    "Collapsed": "false"
   },
   "source": [
    "# Convert .webp to .png"
   ]
  },
  {
   "cell_type": "code",
   "execution_count": 12,
   "metadata": {
    "Collapsed": "false"
   },
   "outputs": [],
   "source": [
    "from PIL import Image"
   ]
  },
  {
   "cell_type": "code",
   "execution_count": 13,
   "metadata": {
    "Collapsed": "false"
   },
   "outputs": [],
   "source": [
    "for root, dirs, files in os.walk(images_dir):\n",
    "    for name in files:\n",
    "        basename, ext = os.path.splitext(name)\n",
    "        if ext == '.webp':\n",
    "            print(os.path.join(root, name))\n",
    "            f_in = os.path.join(root, name)\n",
    "            f_out = os.path.join(root, f\"{basename}.png\")\n",
    "            im = Image.open(os.path.join(root, name))\n",
    "            im.save(f_out, 'png')\n",
    "\n",
    "            f_mv = recycle_dir/name\n",
    "            !mv {f_in} {f_mv}"
   ]
  },
  {
   "cell_type": "markdown",
   "metadata": {
    "Collapsed": "false"
   },
   "source": [
    "# Correct extension"
   ]
  },
  {
   "cell_type": "code",
   "execution_count": 14,
   "metadata": {
    "Collapsed": "false"
   },
   "outputs": [],
   "source": [
    "import os"
   ]
  },
  {
   "cell_type": "code",
   "execution_count": 15,
   "metadata": {
    "Collapsed": "false"
   },
   "outputs": [],
   "source": [
    "# id: '2w19o1' downloaded from 'http://i.imgur.com/GE7LJR6.pngh' as .pngh\n",
    "\n",
    "for root, dirs, files in os.walk(images_dir):\n",
    "    for name in files:\n",
    "        basename, ext = os.path.splitext(name)\n",
    "        if ext == '.jpeg':\n",
    "            print(os.path.join(root, name))\n",
    "            os.rename(os.path.join(root, name), os.path.join(root, basename) + '.jpg')\n",
    "        if ext == '.pngh':\n",
    "            print(os.path.join(root, name))\n",
    "            os.rename(os.path.join(root, name), os.path.join(root, basename) + '.png')"
   ]
  },
  {
   "cell_type": "markdown",
   "metadata": {
    "Collapsed": "false"
   },
   "source": [
    "# Delete invalid file"
   ]
  },
  {
   "cell_type": "code",
   "execution_count": 16,
   "metadata": {
    "Collapsed": "false"
   },
   "outputs": [],
   "source": [
    "# id: '4f927p' downloaded from 'http://imgur.com/(null)' as '4f927p(null'\n",
    "\n",
    "for root, dirs, files in os.walk(images_dir):\n",
    "    for name in files:\n",
    "        basename, ext = os.path.splitext(name)\n",
    "        if ext == '':\n",
    "            print(os.path.join(root, name))\n",
    "            os.remove(os.path.join(root, name))"
   ]
  },
  {
   "cell_type": "markdown",
   "metadata": {
    "Collapsed": "false"
   },
   "source": [
    "# Repair corrupted files"
   ]
  },
  {
   "cell_type": "code",
   "execution_count": 17,
   "metadata": {
    "Collapsed": "false"
   },
   "outputs": [],
   "source": [
    "import piexif"
   ]
  },
  {
   "cell_type": "code",
   "execution_count": 18,
   "metadata": {
    "Collapsed": "false"
   },
   "outputs": [],
   "source": [
    "# import warnings\n",
    "# warnings.filterwarnings(\"error\")"
   ]
  },
  {
   "cell_type": "code",
   "execution_count": 19,
   "metadata": {
    "Collapsed": "false"
   },
   "outputs": [],
   "source": [
    "# Error digesting image: 63027680638.jpg Corrupt EXIF data.  Expecting to read 2 bytes but only got 0.\n",
    "# im = Image.open('images/preview/tumblr/wtf-viz/63027680638.jpg')\n",
    "# piexif.remove('images/preview/tumblr/wtf-viz/63027680638.jpg')"
   ]
  },
  {
   "cell_type": "code",
   "execution_count": 20,
   "metadata": {
    "Collapsed": "false"
   },
   "outputs": [],
   "source": [
    "# Error digesting image: 63027680638.jpg Corrupt EXIF data.  Expecting to read 2 bytes but only got 0.\n",
    "# im = Image.open('images/thumbnail/tumblr/wtf-viz/63027680638.jpg')\n",
    "# piexif.remove('images/thumbnail/tumblr/wtf-viz/63027680638.jpg')"
   ]
  },
  {
   "cell_type": "code",
   "execution_count": 21,
   "metadata": {
    "Collapsed": "false"
   },
   "outputs": [
    {
     "name": "stderr",
     "output_type": "stream",
     "text": [
      "/opt/conda/lib/python3.7/site-packages/PIL/Image.py:2800: DecompressionBombWarning: Image size (135364608 pixels) exceeds limit of 89478485 pixels, could be decompression bomb DOS attack.\n",
      "  DecompressionBombWarning,\n"
     ]
    }
   ],
   "source": [
    "# Error digesting image: 2jtymg.jpg Image size (135364608 pixels) exceeds limit of 89478485 pixels, could be decompression bomb DOS attack.\n",
    "# 39744830 bytes ~37.9MB\n",
    "# huge image, nothing to do\n",
    "im = Image.open('images/archive/reddit/dataisugly/2jtymg.jpg')"
   ]
  },
  {
   "cell_type": "code",
   "execution_count": 22,
   "metadata": {
    "Collapsed": "false"
   },
   "outputs": [
    {
     "name": "stderr",
     "output_type": "stream",
     "text": [
      "/opt/conda/lib/python3.7/site-packages/PIL/Image.py:2800: DecompressionBombWarning: Image size (100000000 pixels) exceeds limit of 89478485 pixels, could be decompression bomb DOS attack.\n",
      "  DecompressionBombWarning,\n"
     ]
    }
   ],
   "source": [
    "# Error digesting image: 9g6pzu.png Image size (100000000 pixels) exceeds limit of 89478485 pixels, could be decompression bomb DOS attack.\n",
    "# 2208964 bytes ~\n",
    "# huge image, nothing to do\n",
    "im = Image.open('images/external_link/reddit/dataisugly/9g6pzu.png')"
   ]
  },
  {
   "cell_type": "code",
   "execution_count": 23,
   "metadata": {
    "Collapsed": "false"
   },
   "outputs": [
    {
     "name": "stderr",
     "output_type": "stream",
     "text": [
      "/opt/conda/lib/python3.7/site-packages/PIL/Image.py:960: UserWarning: Palette images with Transparency expressed in bytes should be converted to RGBA images\n",
      "  \"Palette images with Transparency expressed in bytes should be \"\n"
     ]
    }
   ],
   "source": [
    "# Error digesting image: anqyqb.png Palette images with Transparency expressed in bytes should be converted to RGBA images\n",
    "# Happens when converting transparent .png to grayscale, nothing to do\n",
    "im = Image.open('images/preview/reddit/dataisbeautiful/anqyqb.png')\n",
    "imL = im.convert('L')"
   ]
  },
  {
   "cell_type": "code",
   "execution_count": null,
   "metadata": {
    "Collapsed": "false"
   },
   "outputs": [],
   "source": []
  }
 ],
 "metadata": {
  "kernelspec": {
   "display_name": "Python 3",
   "language": "python",
   "name": "python3"
  },
  "language_info": {
   "codemirror_mode": {
    "name": "ipython",
    "version": 3
   },
   "file_extension": ".py",
   "mimetype": "text/x-python",
   "name": "python",
   "nbconvert_exporter": "python",
   "pygments_lexer": "ipython3",
   "version": "3.7.6"
  },
  "widgets": {
   "application/vnd.jupyter.widget-state+json": {
    "state": {},
    "version_major": 2,
    "version_minor": 0
   }
  }
 },
 "nbformat": 4,
 "nbformat_minor": 4
}
