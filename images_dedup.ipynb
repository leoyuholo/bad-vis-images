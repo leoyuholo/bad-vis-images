{
 "cells": [
  {
   "cell_type": "code",
   "execution_count": 1,
   "metadata": {
    "Collapsed": "false"
   },
   "outputs": [],
   "source": [
    "# !pip install networkx"
   ]
  },
  {
   "cell_type": "code",
   "execution_count": 2,
   "metadata": {
    "Collapsed": "false"
   },
   "outputs": [],
   "source": [
    "from pymongo import MongoClient\n",
    "from functools import cmp_to_key\n",
    "from pathlib import Path\n",
    "from tqdm.notebook import tqdm\n",
    "import numpy as np\n",
    "import simplejson as json\n",
    "import networkx as nx\n",
    "\n",
    "from lib.image_dedup import make_hashes, calculate_distance"
   ]
  },
  {
   "cell_type": "code",
   "execution_count": 3,
   "metadata": {
    "Collapsed": "false"
   },
   "outputs": [],
   "source": [
    "mongo = MongoClient('172.17.0.1', 27017)\n",
    "db = mongo['bad-vis']\n",
    "posts = db['posts']\n",
    "imagemeta = db['imagemeta']\n",
    "imagededup = db['imagededup']"
   ]
  },
  {
   "cell_type": "code",
   "execution_count": 4,
   "metadata": {
    "Collapsed": "false"
   },
   "outputs": [],
   "source": [
    "images_dir = Path('./images')\n",
    "handmade_dir = Path('./handmade')\n",
    "handmade_dir.mkdir(exist_ok=True)"
   ]
  },
  {
   "cell_type": "code",
   "execution_count": 5,
   "metadata": {
    "Collapsed": "false"
   },
   "outputs": [],
   "source": [
    "# imagededup.drop()\n",
    "# imagededup.insert_many([i for i in imagemeta.find()])"
   ]
  },
  {
   "cell_type": "code",
   "execution_count": 6,
   "metadata": {
    "Collapsed": "false"
   },
   "outputs": [],
   "source": [
    "imageMetas = [m for m in imagededup.find()]\n",
    "imageMetas.sort(key=lambda x: x['image_id'])"
   ]
  },
  {
   "cell_type": "code",
   "execution_count": 7,
   "metadata": {
    "Collapsed": "false"
   },
   "outputs": [],
   "source": [
    "image_id_to_idx_mapping = {imageMetas[i]['image_id']:i for i in range(len(imageMetas))}\n",
    "def image_id_to_idx (image_id):\n",
    "    return image_id_to_idx_mapping.get(image_id, None)"
   ]
  },
  {
   "cell_type": "code",
   "execution_count": 8,
   "metadata": {
    "Collapsed": "false"
   },
   "outputs": [],
   "source": [
    "image_hashes = [make_hashes(m) for m in imageMetas]"
   ]
  },
  {
   "cell_type": "code",
   "execution_count": 9,
   "metadata": {
    "Collapsed": "false"
   },
   "outputs": [
    {
     "ename": "ValueError",
     "evalue": "range() arg 3 must not be zero",
     "output_type": "error",
     "traceback": [
      "\u001b[0;31m---------------------------------------------------------------------------\u001b[0m",
      "\u001b[0;31mValueError\u001b[0m                                Traceback (most recent call last)",
      "\u001b[0;32m<ipython-input-9-11b42ba3c642>\u001b[0m in \u001b[0;36m<module>\u001b[0;34m\u001b[0m\n\u001b[0;32m----> 1\u001b[0;31m \u001b[0mdistance\u001b[0m \u001b[0;34m=\u001b[0m \u001b[0mcalculate_distance\u001b[0m\u001b[0;34m(\u001b[0m\u001b[0mimage_hashes\u001b[0m\u001b[0;34m)\u001b[0m\u001b[0;34m\u001b[0m\u001b[0;34m\u001b[0m\u001b[0m\n\u001b[0m",
      "\u001b[0;32m~/projects/bad-vis-browser/lib/image_hashes.py\u001b[0m in \u001b[0;36mcalculate_distance\u001b[0;34m(hashes)\u001b[0m\n\u001b[1;32m     32\u001b[0m     \u001b[0mbs\u001b[0m \u001b[0;34m=\u001b[0m \u001b[0msize\u001b[0m \u001b[0;34m//\u001b[0m \u001b[0;36m50\u001b[0m\u001b[0;34m\u001b[0m\u001b[0;34m\u001b[0m\u001b[0m\n\u001b[1;32m     33\u001b[0m \u001b[0;34m\u001b[0m\u001b[0m\n\u001b[0;32m---> 34\u001b[0;31m     \u001b[0midxs\u001b[0m \u001b[0;34m=\u001b[0m \u001b[0;34m[\u001b[0m\u001b[0;34m(\u001b[0m\u001b[0mi\u001b[0m\u001b[0;34m,\u001b[0m \u001b[0mj\u001b[0m\u001b[0;34m)\u001b[0m \u001b[0;32mfor\u001b[0m \u001b[0mi\u001b[0m\u001b[0;34m,\u001b[0m \u001b[0mj\u001b[0m \u001b[0;32min\u001b[0m \u001b[0mitertools\u001b[0m\u001b[0;34m.\u001b[0m\u001b[0mproduct\u001b[0m\u001b[0;34m(\u001b[0m\u001b[0mrange\u001b[0m\u001b[0;34m(\u001b[0m\u001b[0;36m0\u001b[0m\u001b[0;34m,\u001b[0m \u001b[0msize\u001b[0m\u001b[0;34m,\u001b[0m \u001b[0mbs\u001b[0m\u001b[0;34m)\u001b[0m\u001b[0;34m,\u001b[0m \u001b[0mrange\u001b[0m\u001b[0;34m(\u001b[0m\u001b[0;36m0\u001b[0m\u001b[0;34m,\u001b[0m \u001b[0msize\u001b[0m\u001b[0;34m,\u001b[0m \u001b[0mbs\u001b[0m\u001b[0;34m)\u001b[0m\u001b[0;34m)\u001b[0m\u001b[0;34m]\u001b[0m\u001b[0;34m\u001b[0m\u001b[0;34m\u001b[0m\u001b[0m\n\u001b[0m\u001b[1;32m     35\u001b[0m \u001b[0;34m\u001b[0m\u001b[0m\n\u001b[1;32m     36\u001b[0m     \u001b[0mdistance\u001b[0m \u001b[0;34m=\u001b[0m \u001b[0mnp\u001b[0m\u001b[0;34m.\u001b[0m\u001b[0mndarray\u001b[0m\u001b[0;34m(\u001b[0m\u001b[0;34m(\u001b[0m\u001b[0msize\u001b[0m\u001b[0;34m,\u001b[0m \u001b[0msize\u001b[0m\u001b[0;34m)\u001b[0m\u001b[0;34m)\u001b[0m\u001b[0;34m\u001b[0m\u001b[0;34m\u001b[0m\u001b[0m\n",
      "\u001b[0;31mValueError\u001b[0m: range() arg 3 must not be zero"
     ]
    }
   ],
   "source": [
    "distance = calculate_distance(image_hashes)"
   ]
  },
  {
   "cell_type": "code",
   "execution_count": null,
   "metadata": {
    "Collapsed": "false"
   },
   "outputs": [],
   "source": [
    "def set_distance (image_id_x, image_id_y, value, mat=distance):\n",
    "    idx_x = image_id_to_idx(image_id_x)\n",
    "    idx_y = image_id_to_idx(image_id_y)\n",
    "    if not idx_x or not idx_y:\n",
    "        return\n",
    "    mat[idx_x, idx_y] = value\n",
    "    mat[idx_y, idx_x] = value\n",
    "\n",
    "def set_distance_pairs (id_pairs, value, mat=distance):\n",
    "    for ids in id_pairs:\n",
    "        set_distance(*list(ids), value, mat=mat)"
   ]
  },
  {
   "cell_type": "code",
   "execution_count": 28,
   "metadata": {
    "Collapsed": "false"
   },
   "outputs": [
    {
     "data": {
      "text/plain": [
       "738"
      ]
     },
     "execution_count": 28,
     "metadata": {},
     "output_type": "execute_result"
    }
   ],
   "source": [
    "duplicated_images = [[imageMetas[idx]['image_id'] for idx in c]\n",
    "                     for c in nx.components.connected_components(nx.Graph(distance <= 1))\n",
    "                     if len(c) > 1]\n",
    "len(duplicated_images)"
   ]
  },
  {
   "cell_type": "code",
   "execution_count": 30,
   "metadata": {
    "Collapsed": "false"
   },
   "outputs": [],
   "source": [
    "class ImageDedup ():\n",
    "    _attrs = [\n",
    "        'id',\n",
    "        'post_id',\n",
    "        'datetime',\n",
    "        'url',\n",
    "        'title',\n",
    "        'content',\n",
    "        'author',\n",
    "        'removed',\n",
    "        'ups',\n",
    "        'num_comments',\n",
    "        'external_link',\n",
    "        'source',\n",
    "        'source_platform',\n",
    "        'source_url',\n",
    "        'tags',\n",
    "        'labels',\n",
    "        'media_type',\n",
    "\n",
    "        'thumbnail',\n",
    "        'preview',\n",
    "        'external_link',\n",
    "        'archive',\n",
    "\n",
    "        'image_id',\n",
    "        'short_image_id',\n",
    "        'album',\n",
    "        'index_in_album',\n",
    "        'file_path',\n",
    "        'ext',\n",
    "        'animated',\n",
    "        'size',\n",
    "        'width',\n",
    "        'height',\n",
    "        'ahash',\n",
    "        'phash',\n",
    "        'pshash',\n",
    "        'dhash',\n",
    "        'whash',\n",
    "\n",
    "        'duplicated_posts',\n",
    "        'related_images',\n",
    "        'duplicated_images'\n",
    "    ]\n",
    "\n",
    "    rank = {\n",
    "        'dataisugly': 3,\n",
    "        'wtf-viz': 2,\n",
    "        'badvisualisations': 1\n",
    "    }\n",
    "\n",
    "    def __init__ (self, imageMetas=[]):\n",
    "        if len(imageMetas) == 0:\n",
    "            raise Exception('Empty imageFiles array.')\n",
    "        self._imageMetas = imageMetas\n",
    "        self._image_ids = [i['image_id'] for i in imageMetas]\n",
    "        self._image_order = self.sort_images()\n",
    "        self._post_ids = {i['post_id'] for i in imageMetas}\n",
    "        self._posts = [posts.find_one({'post_id': i}) for i in self._post_ids]\n",
    "        self._post_order = self.sort_posts()\n",
    "        for k, v in self.main_image.items():\n",
    "            if k in ['duplicated_posts']:\n",
    "                continue\n",
    "            setattr(self, k, v)\n",
    "        for k, v in self.main_post.items():\n",
    "            if k in ['duplicated_posts']:\n",
    "                continue\n",
    "            if k in ['preview', 'thumbnail']:\n",
    "                setattr(self, f\"{k}_url\", v)\n",
    "            else:\n",
    "                setattr(self, k, v)\n",
    "\n",
    "    def digest (self):\n",
    "        return {a:getattr(self, a) for a in ImageDedup._attrs if hasattr(self, a)}\n",
    "\n",
    "    @property\n",
    "    def duplicated_posts (self):\n",
    "        post_ids = list(self._post_ids)\n",
    "        for p in self._posts:\n",
    "            if 'duplicated_posts' in post_ids:\n",
    "                post_ids += p['duplicated_posts']\n",
    "        return [i for i in set(post_ids) if i != self.post_id]\n",
    "\n",
    "    @property\n",
    "    def duplicated_images (self):\n",
    "#         return self._image_ids\n",
    "        return [i for i in self._image_ids if i != self.image_id]\n",
    "\n",
    "    @property\n",
    "    def main_post (self):\n",
    "        return self._post_order[0]\n",
    "\n",
    "    def post_score (self, post):\n",
    "        score = post['ups'] if 'ups' in post else 0\n",
    "        score += 5 * post['num_comments'] if 'num_comments' in post else 0\n",
    "        return score\n",
    "\n",
    "    def source_rank (self, source):\n",
    "        return ImageDedup.rank.get(source, 0)\n",
    "\n",
    "    def sort_posts (self):\n",
    "        def preferred (post_x, post_y):\n",
    "            rank_x = self.source_rank(post_x['source'])\n",
    "            rank_y = self.source_rank(post_y['source'])\n",
    "            if rank_x != rank_y:\n",
    "                return rank_y - rank_x\n",
    "            post_score_x = self.post_score(post_x)\n",
    "            post_score_y = self.post_score(post_y)\n",
    "            return post_score_y - post_score_x\n",
    "\n",
    "        return sorted(self._posts, key=cmp_to_key(preferred))\n",
    "\n",
    "    @property\n",
    "    def main_image (self):\n",
    "        return self._image_order[0]\n",
    "\n",
    "    def sort_images (self):\n",
    "        def preferred (image_x, image_y):\n",
    "            if image_x['animated'] != image_y['animated']:\n",
    "                if image_x['animated']:\n",
    "                    return -1\n",
    "                if image_y['animated']:\n",
    "                    return 1\n",
    "\n",
    "            pixels_x = image_x['width'] * image_x['height']\n",
    "            pixels_y = image_y['width'] * image_y['height']\n",
    "\n",
    "            if pixels_x == pixels_y:\n",
    "\n",
    "                if image_x['ext'] != image_y['ext']:\n",
    "                    if image_x['ext'] == '.png':\n",
    "                        return -1\n",
    "                    if image_y['ext'] == '.png':\n",
    "                        return 1\n",
    "\n",
    "                if image_x['size'] != image_y['size']:\n",
    "                    return image_y['size'] - image_x['size']\n",
    "\n",
    "                return self.source_rank(image_y['source']) - self.source_rank(image_x['source'])\n",
    "            else:\n",
    "                return pixels_y - pixels_x\n",
    "\n",
    "        return sorted(self._imageMetas, key=cmp_to_key(preferred))"
   ]
  },
  {
   "cell_type": "code",
   "execution_count": 34,
   "metadata": {
    "Collapsed": "false"
   },
   "outputs": [],
   "source": [
    "for ids in duplicated_images:\n",
    "    imagedd = ImageDedup([imagemeta.find_one({'image_id': i}) for i in ids])\n",
    "    for i in imagedd.duplicated_images:\n",
    "        imagededup.delete_one({'image_id': i})\n",
    "    imagededup.replace_one({'image_id': imagedd.image_id}, imagedd.digest(), upsert=True)"
   ]
  },
  {
   "cell_type": "code",
   "execution_count": null,
   "metadata": {
    "Collapsed": "false"
   },
   "outputs": [],
   "source": [
    "similarities = [(distance <= i) & (distance > (i-1)) for i in range(20)]"
   ]
  },
  {
   "cell_type": "code",
   "execution_count": null,
   "metadata": {
    "Collapsed": "false"
   },
   "outputs": [],
   "source": [
    "similar_image_idxs = [[c for c in nx.components.connected_components(nx.Graph(s)) if len(c) > 1] for s in similarities]"
   ]
  },
  {
   "cell_type": "code",
   "execution_count": null,
   "metadata": {
    "Collapsed": "false"
   },
   "outputs": [],
   "source": [
    "{i:len(similar_image_idxs[i]) for i in range(20)}"
   ]
  },
  {
   "cell_type": "code",
   "execution_count": null,
   "metadata": {
    "Collapsed": "false"
   },
   "outputs": [],
   "source": [
    "threshold = 7\n",
    "print(f\"distance <= {threshold} & > {threshold-1} total: {len(similar_image_idxs[threshold])}\")\n",
    "for idxs in similar_image_idxs[threshold]:\n",
    "#     pass\n",
    "#     display(*[Image(filename=imageMetas[i]['file_path'], width=100, height=100) for i in idxs])\n",
    "    print(f\"{[imageMetas[i]['image_id'] for i in idxs]}\")\n",
    "#     print(f\"image_id: {[imageMetas[i]['image_id'] for i in idxs]}\")\n",
    "    print(f\"file_path: {[imageMetas[i]['file_path'] for i in idxs]}\")\n",
    "    if len(idxs) > 4:\n",
    "        continue\n",
    "    display(HBox([widgets.Image(value=open(imageMetas[i]['file_path'], 'rb').read(), width=150, height=150) for i in idxs]))"
   ]
  },
  {
   "cell_type": "code",
   "execution_count": null,
   "metadata": {
    "Collapsed": "false"
   },
   "outputs": [],
   "source": []
  }
 ],
 "metadata": {
  "kernelspec": {
   "display_name": "Python 3",
   "language": "python",
   "name": "python3"
  },
  "language_info": {
   "codemirror_mode": {
    "name": "ipython",
    "version": 3
   },
   "file_extension": ".py",
   "mimetype": "text/x-python",
   "name": "python",
   "nbconvert_exporter": "python",
   "pygments_lexer": "ipython3",
   "version": "3.7.4"
  },
  "widgets": {
   "application/vnd.jupyter.widget-state+json": {
    "state": {},
    "version_major": 2,
    "version_minor": 0
   }
  }
 },
 "nbformat": 4,
 "nbformat_minor": 4
}
