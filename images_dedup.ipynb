{
 "cells": [
  {
   "cell_type": "code",
   "execution_count": null,
   "metadata": {
    "Collapsed": "false"
   },
   "outputs": [],
   "source": [
    "# !pip install simplejson"
   ]
  },
  {
   "cell_type": "code",
   "execution_count": 2,
   "metadata": {
    "Collapsed": "false"
   },
   "outputs": [],
   "source": [
    "from pymongo import MongoClient\n",
    "from pathlib import Path\n",
    "from tqdm.notebook import tqdm\n",
    "import numpy as np\n",
    "import simplejson as json\n",
    "import itertools\n",
    "from functools import cmp_to_key\n",
    "import networkx as nx\n",
    "\n",
    "from IPython.display import display, Image, JSON\n",
    "from ipywidgets import widgets, Image, HBox, VBox, Button, ButtonStyle\n",
    "\n",
    "from lib.image_dedup import make_hashes, calculate_distance, hashes_diff"
   ]
  },
  {
   "cell_type": "code",
   "execution_count": 3,
   "metadata": {
    "Collapsed": "false"
   },
   "outputs": [],
   "source": [
    "images_dir = Path('./images')\n",
    "handmade_dir = Path('./handmade')\n",
    "handmade_dir.mkdir(exist_ok=True)"
   ]
  },
  {
   "cell_type": "code",
   "execution_count": 4,
   "metadata": {
    "Collapsed": "false"
   },
   "outputs": [],
   "source": [
    "mongo = MongoClient('172.17.0.1', 27017)\n",
    "db = mongo['bad-vis']\n",
    "posts = db['posts']\n",
    "imagemeta = db['imagemeta']\n",
    "imagededup = db['imagededup']"
   ]
  },
  {
   "cell_type": "code",
   "execution_count": 5,
   "metadata": {
    "Collapsed": "false"
   },
   "outputs": [
    {
     "data": {
      "text/plain": [
       "<pymongo.results.InsertManyResult at 0x7fc45d9ae500>"
      ]
     },
     "execution_count": 5,
     "metadata": {},
     "output_type": "execute_result"
    }
   ],
   "source": [
    "# imagededup.drop()\n",
    "# imagededup.insert_many([i for i in imagemeta.find()])"
   ]
  },
  {
   "cell_type": "markdown",
   "metadata": {
    "Collapsed": "false"
   },
   "source": [
    "# Load image metadata"
   ]
  },
  {
   "cell_type": "code",
   "execution_count": 6,
   "metadata": {
    "Collapsed": "false"
   },
   "outputs": [],
   "source": [
    "imageDedup = [m for m in imagededup.find()]\n",
    "imageDedup.sort(key=lambda x: x['image_id'])"
   ]
  },
  {
   "cell_type": "code",
   "execution_count": 7,
   "metadata": {
    "Collapsed": "false"
   },
   "outputs": [],
   "source": [
    "phash_to_idx_mapping = {}\n",
    "for i in range(len(imageDedup)):\n",
    "    phash = imageDedup[i]['phash']\n",
    "    l = phash_to_idx_mapping.get(phash, [])\n",
    "    l.append(i)\n",
    "    phash_to_idx_mapping[phash] = l\n",
    "def phash_to_idx (phash):\n",
    "    return phash_to_idx_mapping.get(phash, None)"
   ]
  },
  {
   "cell_type": "code",
   "execution_count": 8,
   "metadata": {
    "Collapsed": "false"
   },
   "outputs": [],
   "source": [
    "image_id_to_idx_mapping = {imageDedup[i]['image_id']:i for i in range(len(imageDedup))}\n",
    "def image_id_to_idx (image_id):\n",
    "    return image_id_to_idx_mapping.get(image_id, None)"
   ]
  },
  {
   "cell_type": "markdown",
   "metadata": {
    "Collapsed": "false"
   },
   "source": [
    "# Calculate distance"
   ]
  },
  {
   "cell_type": "markdown",
   "metadata": {
    "Collapsed": "false"
   },
   "source": [
    "## Hash distance"
   ]
  },
  {
   "cell_type": "code",
   "execution_count": 9,
   "metadata": {
    "Collapsed": "false"
   },
   "outputs": [],
   "source": [
    "image_hashes = [make_hashes(m) for m in imageDedup]"
   ]
  },
  {
   "cell_type": "code",
   "execution_count": 10,
   "metadata": {
    "Collapsed": "false"
   },
   "outputs": [
    {
     "data": {
      "application/vnd.jupyter.widget-view+json": {
       "model_id": "dc3b6b6b649c4468b37e890797709006",
       "version_major": 2,
       "version_minor": 0
      },
      "text/plain": [
       "HBox(children=(FloatProgress(value=0.0, max=2601.0), HTML(value='')))"
      ]
     },
     "metadata": {},
     "output_type": "display_data"
    },
    {
     "name": "stdout",
     "output_type": "stream",
     "text": [
      "\n"
     ]
    },
    {
     "data": {
      "application/vnd.jupyter.widget-view+json": {
       "model_id": "1317d9c1b37043aaa955d8f5e889c74b",
       "version_major": 2,
       "version_minor": 0
      },
      "text/plain": [
       "HBox(children=(FloatProgress(value=0.0, max=7993.0), HTML(value='')))"
      ]
     },
     "metadata": {},
     "output_type": "display_data"
    },
    {
     "name": "stdout",
     "output_type": "stream",
     "text": [
      "\n"
     ]
    }
   ],
   "source": [
    "distance = calculate_distance(image_hashes)"
   ]
  },
  {
   "cell_type": "code",
   "execution_count": 11,
   "metadata": {
    "Collapsed": "false"
   },
   "outputs": [],
   "source": [
    "# distance2 = np.ndarray([len(image_hashes), len(image_hashes)])\n",
    "# for i in tqdm(range(len(image_hashes))):\n",
    "#     for j in range(i+1):\n",
    "#         diff = hashes_diff(image_hashes[i], image_hashes[j])\n",
    "#         distance2[i, j] = diff\n",
    "#         distance2[j, i] = diff\n",
    "# np.array_equal(distance, distance2)"
   ]
  },
  {
   "cell_type": "code",
   "execution_count": 12,
   "metadata": {
    "Collapsed": "false"
   },
   "outputs": [
    {
     "data": {
      "application/vnd.jupyter.widget-view+json": {
       "model_id": "78cdde675e4246ec918d71cb46af1a57",
       "version_major": 2,
       "version_minor": 0
      },
      "text/plain": [
       "HBox(children=(FloatProgress(value=0.0, max=2601.0), HTML(value='')))"
      ]
     },
     "metadata": {},
     "output_type": "display_data"
    },
    {
     "name": "stdout",
     "output_type": "stream",
     "text": [
      "\n"
     ]
    },
    {
     "data": {
      "application/vnd.jupyter.widget-view+json": {
       "model_id": "d5107f607e4b4e498885b0b3a48d2df5",
       "version_major": 2,
       "version_minor": 0
      },
      "text/plain": [
       "HBox(children=(FloatProgress(value=0.0, max=7993.0), HTML(value='')))"
      ]
     },
     "metadata": {},
     "output_type": "display_data"
    },
    {
     "name": "stdout",
     "output_type": "stream",
     "text": [
      "\n"
     ]
    }
   ],
   "source": [
    "pdistance = calculate_distance(image_hashes, hash_type='phash')"
   ]
  },
  {
   "cell_type": "markdown",
   "metadata": {
    "Collapsed": "false"
   },
   "source": [
    "## Find duplicated pairs from distance matrix"
   ]
  },
  {
   "cell_type": "code",
   "execution_count": 13,
   "metadata": {
    "Collapsed": "false"
   },
   "outputs": [],
   "source": [
    "def set_distance (hashes, value, mat=distance):\n",
    "    phash_x = hashes[0]\n",
    "    phash_y = phash_x if len(hashes) == 1 else hashes[1]\n",
    "    idx_x = phash_to_idx(phash_x)\n",
    "    idx_y = phash_to_idx(phash_y)\n",
    "    if idx_x == None or idx_y == None:\n",
    "        return\n",
    "    for s in itertools.product(idx_x, idx_y):\n",
    "        i, j = s\n",
    "        mat[i, j] = value\n",
    "        mat[j, i] = value\n",
    "\n",
    "def set_distance_pairs (phash_pairs, value, mat=distance):\n",
    "    for p in phash_pairs:\n",
    "        set_distance(list(p), value, mat=mat)"
   ]
  },
  {
   "cell_type": "code",
   "execution_count": 14,
   "metadata": {
    "Collapsed": "false"
   },
   "outputs": [],
   "source": [
    "class PersistentSet (set):\n",
    "    @staticmethod\n",
    "    def load_set (file):\n",
    "        if Path(file).exists():\n",
    "            s = PersistentSet([frozenset(a) if isinstance(a, list) else a for a in json.load(open(file))])\n",
    "        else:\n",
    "            s = PersistentSet()\n",
    "        s.set_file(file)\n",
    "        return s\n",
    "\n",
    "    def set_file (self, file):\n",
    "        self.file = file\n",
    "\n",
    "    def save (self):\n",
    "        json.dump(list(self), open(self.file, 'w'), iterable_as_array=True)\n",
    "\n",
    "    def persist_add (self, item):\n",
    "        self.add(item)\n",
    "        self.save()\n",
    "\n",
    "    def persist_remove (self, item):\n",
    "        self.remove(item)\n",
    "        self.save()"
   ]
  },
  {
   "cell_type": "code",
   "execution_count": 15,
   "metadata": {
    "Collapsed": "false"
   },
   "outputs": [],
   "source": [
    "auto_duplicated_image_phash_pairs = PersistentSet()\n",
    "auto_duplicated_image_phash_pairs.set_file(handmade_dir/'duplicated_image_phash_pairs_auto.json')"
   ]
  },
  {
   "cell_type": "code",
   "execution_count": 16,
   "metadata": {
    "Collapsed": "false"
   },
   "outputs": [
    {
     "data": {
      "application/vnd.jupyter.widget-view+json": {
       "model_id": "5c922d7f5c0240c09da160715284b3fc",
       "version_major": 2,
       "version_minor": 0
      },
      "text/plain": [
       "HBox(children=(FloatProgress(value=0.0, max=7993.0), HTML(value='')))"
      ]
     },
     "metadata": {},
     "output_type": "display_data"
    },
    {
     "name": "stdout",
     "output_type": "stream",
     "text": [
      "\n"
     ]
    }
   ],
   "source": [
    "for i in tqdm(range(distance.shape[0])):\n",
    "    for j in range(i):\n",
    "        if distance[i, j] <= 1: # checked, all distance <= 1 are duplicated\n",
    "            auto_duplicated_image_phash_pairs.add(frozenset([imageDedup[i]['phash'], imageDedup[j]['phash']]))"
   ]
  },
  {
   "cell_type": "code",
   "execution_count": 17,
   "metadata": {
    "Collapsed": "false"
   },
   "outputs": [
    {
     "data": {
      "application/vnd.jupyter.widget-view+json": {
       "model_id": "a2ef43bf538a4b6f89335827b400fba3",
       "version_major": 2,
       "version_minor": 0
      },
      "text/plain": [
       "HBox(children=(FloatProgress(value=0.0, max=7993.0), HTML(value='')))"
      ]
     },
     "metadata": {},
     "output_type": "display_data"
    },
    {
     "name": "stdout",
     "output_type": "stream",
     "text": [
      "\n"
     ]
    }
   ],
   "source": [
    "for i in tqdm(range(pdistance.shape[0])):\n",
    "    for j in range(i):\n",
    "        if pdistance[i, j] <= 1: # checked, all distance <= 1 are duplicated\n",
    "            auto_duplicated_image_phash_pairs.add(frozenset([imageDedup[i]['phash'], imageDedup[j]['phash']]))"
   ]
  },
  {
   "cell_type": "code",
   "execution_count": 18,
   "metadata": {
    "Collapsed": "false"
   },
   "outputs": [],
   "source": [
    "auto_duplicated_image_phash_pairs.save()"
   ]
  },
  {
   "cell_type": "markdown",
   "metadata": {
    "Collapsed": "false"
   },
   "source": [
    "## Apply information from meta data"
   ]
  },
  {
   "cell_type": "code",
   "execution_count": 19,
   "metadata": {
    "Collapsed": "false"
   },
   "outputs": [],
   "source": [
    "duplicated_post_image_phash_pairs = PersistentSet()\n",
    "duplicated_post_image_phash_pairs.set_file(handmade_dir/'duplicated_post_image_phash_pairs.json')\n",
    "\n",
    "for p in posts.find():\n",
    "    if 'duplicated_posts' not in p or len(p['duplicated_posts']) == 0:\n",
    "        continue\n",
    "\n",
    "    dp_phashes = [i['phash']\n",
    "                    for dp in p['duplicated_posts']\n",
    "                    for i in imagemeta.find({'post_id': dp})]\n",
    "    if len(dp_phashes) > 1:\n",
    "        print(f\"More than 1 image {p['post_id']} {dp_phashes}\")\n",
    "\n",
    "    phashes = [i['phash'] for i in imagemeta.find({'post_id': p['post_id']})]\n",
    "    for s in itertools.product(dp_phashes, phashes):\n",
    "        fs = frozenset(s)\n",
    "        if len(fs) > 1:\n",
    "            duplicated_post_image_phash_pairs.add(fs)\n",
    "\n",
    "duplicated_post_image_phash_pairs.save()"
   ]
  },
  {
   "cell_type": "code",
   "execution_count": 20,
   "metadata": {
    "Collapsed": "false"
   },
   "outputs": [],
   "source": [
    "related_album_image_phash_pairs = PersistentSet()\n",
    "related_album_image_phash_pairs.set_file(handmade_dir/'related_album_image_phash_pairs.json')\n",
    "\n",
    "for album in {i['album'] for i in imagemeta.find({'album': {'$exists': True, '$ne': ''}})}:\n",
    "    ra_phashes = [i['phash'] for i in imagemeta.find({'album': album})]\n",
    "    if len(ra_phashes) <= 1:\n",
    "        print(f\"Only 1 or less image {album} {p['post_id']} {ra_phashes}\")\n",
    "\n",
    "    for s in itertools.product(ra_phashes, ra_phashes):\n",
    "        fs = frozenset(s)\n",
    "        if len(fs) > 1:\n",
    "            related_album_image_phash_pairs.add(fs)\n",
    "\n",
    "related_album_image_phash_pairs.save()"
   ]
  },
  {
   "cell_type": "markdown",
   "metadata": {
    "Collapsed": "false"
   },
   "source": [
    "## Apply manual labeled data"
   ]
  },
  {
   "cell_type": "code",
   "execution_count": 21,
   "metadata": {
    "Collapsed": "false"
   },
   "outputs": [],
   "source": [
    "duplicated_image_phash_pairs = PersistentSet.load_set(handmade_dir/'duplicated_image_phash_pairs.json')\n",
    "not_duplicated_image_phash_pairs = PersistentSet.load_set(handmade_dir/'not_duplicated_image_phash_pairs.json')\n",
    "related_image_phash_pairs = PersistentSet.load_set(handmade_dir/'related_image_phash_pairs.json')\n",
    "invalid_image_phashes = PersistentSet.load_set(handmade_dir/'invalid_image_phashes.json')"
   ]
  },
  {
   "cell_type": "code",
   "execution_count": 22,
   "metadata": {
    "Collapsed": "false"
   },
   "outputs": [],
   "source": [
    "set_distance_pairs(auto_duplicated_image_phash_pairs, 0)\n",
    "set_distance_pairs(duplicated_post_image_phash_pairs, 0)\n",
    "set_distance_pairs(duplicated_image_phash_pairs, 0)\n",
    "set_distance_pairs(not_duplicated_image_phash_pairs, 60)\n",
    "set_distance_pairs(related_album_image_phash_pairs, 60)\n",
    "set_distance_pairs(related_image_phash_pairs, 60)\n",
    "\n",
    "related_distance = np.full(distance.shape, 60)\n",
    "set_distance_pairs(related_album_image_phash_pairs, 0, mat=related_distance)\n",
    "set_distance_pairs(related_image_phash_pairs, 0, mat=related_distance)"
   ]
  },
  {
   "cell_type": "markdown",
   "metadata": {
    "Collapsed": "true"
   },
   "source": [
    "# Human in the Loop"
   ]
  },
  {
   "cell_type": "code",
   "execution_count": 23,
   "metadata": {
    "Collapsed": "false"
   },
   "outputs": [],
   "source": [
    "def make_dedup_box (idx_x, idx_y, default=None):\n",
    "    image_x = imageDedup[idx_x]\n",
    "    phash_x = image_x['phash']\n",
    "    image_y = imageDedup[idx_y]\n",
    "    phash_y = image_y['phash']\n",
    "    hash_pair = frozenset([phash_x, phash_y])\n",
    "\n",
    "    yes_btn = widgets.Button(description=\"Duplicated\", button_style='success')\n",
    "    no_btn = widgets.Button(description=\"Not\", button_style='info')\n",
    "    related_btn = widgets.Button(description=\"Related\", button_style='warning')\n",
    "    invalid_x_btn = widgets.Button(description=\"X Invalid\")\n",
    "    invalid_y_btn = widgets.Button(description=\"Y Invalid\")\n",
    "    reset_btn = widgets.Button(description=\"Reset\")\n",
    "    output = widgets.Output()\n",
    "\n",
    "    def on_yes (btn):\n",
    "        with output:\n",
    "            if default == 'no' and hash_pair in not_duplicated_image_phash_pairs:\n",
    "                not_duplicated_image_phash_pairs.persist_remove(hash_pair)\n",
    "                print('-Not')\n",
    "            duplicated_image_phash_pairs.persist_add(hash_pair)\n",
    "            print('Duplicated')\n",
    "\n",
    "    def on_no (btn):\n",
    "        not_duplicated_image_phash_pairs.persist_add(hash_pair)\n",
    "        with output:\n",
    "            print('Not')\n",
    "\n",
    "    def on_related (btn):\n",
    "        with output:\n",
    "            if default == 'no' and hash_pair in not_duplicated_image_phash_pairs:\n",
    "                not_duplicated_image_phash_pairs.persist_remove(hash_pair)\n",
    "                print('-Not')\n",
    "            related_image_phash_pairs.persist_add(hash_pair)\n",
    "            print('Related')\n",
    "\n",
    "    def on_invalid_x (btn):\n",
    "        invalid_image_phashes.persist_add(phash_x)\n",
    "        with output:\n",
    "            print('Invalid X')\n",
    "\n",
    "    def on_invalid_y (btn):\n",
    "        invalid_image_phashes.persist_add(phash_y)\n",
    "        with output:\n",
    "            print('Invalid Y')\n",
    "\n",
    "    def on_reset (btn):\n",
    "        with output:\n",
    "            if hash_pair in duplicated_image_phash_pairs:\n",
    "                duplicated_image_phash_pairs.persist_remove(hash_pair)\n",
    "                print('-Duplicated')\n",
    "            if hash_pair in not_duplicated_image_phash_pairs:\n",
    "                not_duplicated_image_phash_pairs.persist_remove(hash_pair)\n",
    "                print('-Not')\n",
    "            if hash_pair in related_image_phash_pairs:\n",
    "                related_image_phash_pairs.persist_remove(hash_pair)\n",
    "                print('-Related')\n",
    "            if phash_x in invalid_image_phashes:\n",
    "                invalid_image_phashes.persist_remove(phash_x)\n",
    "                print('-Invalid X')\n",
    "            if phash_y in invalid_image_phashes:\n",
    "                invalid_image_phashes.persist_remove(phash_y)\n",
    "                print('-Invalid Y')\n",
    "            print('Reset')\n",
    "\n",
    "    yes_btn.on_click(on_yes)\n",
    "    no_btn.on_click(on_no)\n",
    "    related_btn.on_click(on_related)\n",
    "    invalid_x_btn.on_click(on_invalid_x)\n",
    "    invalid_y_btn.on_click(on_invalid_y)\n",
    "    reset_btn.on_click(on_reset)\n",
    "\n",
    "    if default == 'no':\n",
    "        on_no(None)\n",
    "\n",
    "    return HBox([VBox([yes_btn, no_btn, related_btn, invalid_x_btn, invalid_y_btn, reset_btn, output]),\n",
    "                 widgets.Image(value=open(image_x['file_path'], 'rb').read(), width=250, height=150),\n",
    "                 widgets.Image(value=open(image_y['file_path'], 'rb').read(), width=250, height=150)])"
   ]
  },
  {
   "cell_type": "code",
   "execution_count": 24,
   "metadata": {
    "Collapsed": "false"
   },
   "outputs": [],
   "source": [
    "def potential_duplicates (threshold):\n",
    "    for i in range(distance.shape[0]):\n",
    "        for j in range(i):\n",
    "            if distance[i, j] <= threshold:\n",
    "                phash_pair = frozenset([imageDedup[i]['phash'], imageDedup[j]['phash']])\n",
    "                if (phash_pair not in auto_duplicated_image_phash_pairs and\n",
    "                    phash_pair not in duplicated_post_image_phash_pairs and\n",
    "                    phash_pair not in duplicated_image_phash_pairs and\n",
    "                    phash_pair not in not_duplicated_image_phash_pairs and\n",
    "                    phash_pair not in related_album_image_phash_pairs and\n",
    "                    phash_pair not in related_image_phash_pairs):\n",
    "                    yield (i, j)"
   ]
  },
  {
   "cell_type": "code",
   "execution_count": 25,
   "metadata": {
    "Collapsed": "false"
   },
   "outputs": [],
   "source": [
    "distance_threshold = 12"
   ]
  },
  {
   "cell_type": "code",
   "execution_count": 26,
   "metadata": {
    "Collapsed": "false"
   },
   "outputs": [],
   "source": [
    "# pdup = potential_duplicates(distance_threshold)"
   ]
  },
  {
   "cell_type": "code",
   "execution_count": 27,
   "metadata": {
    "Collapsed": "false"
   },
   "outputs": [],
   "source": [
    "# for i in range(10):\n",
    "#     try:\n",
    "#         next_pdup = next(pdup)\n",
    "#     except StopIteration:\n",
    "#         print('StopIteration')\n",
    "#         break\n",
    "\n",
    "#     idx_x, idx_y = next_pdup\n",
    "#     image_x = imageDedup[idx_x]\n",
    "#     image_y = imageDedup[idx_y]\n",
    "#     print(f\"{idx_x} {idx_y} {distance[idx_x, idx_y]} {image_x['phash']} {image_y['phash']} {image_x['width']} {image_y['width']} {image_x['image_id']} {image_y['image_id']}\")\n",
    "#     display(make_dedup_box(idx_x, idx_y, default=None if distance[idx_x, idx_y] < 9 else 'no'))"
   ]
  },
  {
   "cell_type": "markdown",
   "metadata": {
    "Collapsed": "true"
   },
   "source": [
    "## Images with high variety"
   ]
  },
  {
   "cell_type": "code",
   "execution_count": 28,
   "metadata": {
    "Collapsed": "false"
   },
   "outputs": [],
   "source": [
    "# interested_phashes = set()"
   ]
  },
  {
   "cell_type": "code",
   "execution_count": 29,
   "metadata": {
    "Collapsed": "false"
   },
   "outputs": [],
   "source": [
    "# def potential_duplicates_high (threshold):\n",
    "#     for i in range(distance.shape[0]):\n",
    "#         for j in range(i):\n",
    "#             if distance[i, j] >= threshold:\n",
    "#                 phash_pair = frozenset([imageDedup[i]['phash'], imageDedup[j]['phash']])\n",
    "#                 if (phash_pair in duplicated_image_phash_pairs):\n",
    "#                     interested_phashes.add(imageMetas[i]['phash'])\n",
    "#                     interested_phashes.add(imageMetas[j]['phash'])\n",
    "#                     yield (i, j)"
   ]
  },
  {
   "cell_type": "code",
   "execution_count": 30,
   "metadata": {
    "Collapsed": "false"
   },
   "outputs": [],
   "source": [
    "# pduph = potential_duplicates_high(10)"
   ]
  },
  {
   "cell_type": "code",
   "execution_count": 31,
   "metadata": {
    "Collapsed": "false"
   },
   "outputs": [],
   "source": [
    "# for i in range(100):\n",
    "#     try:\n",
    "#         next_pdup = next(pduph)\n",
    "#     except StopIteration:\n",
    "#         print('StopIteration')\n",
    "#         break\n",
    "\n",
    "#     idx_x, idx_y = next_pdup\n",
    "#     image_x = imageDedup[idx_x]\n",
    "#     image_y = imageDedup[idx_y]\n",
    "#     print(f\"{idx_x} {idx_y} {distance[idx_x, idx_y]} {image_x['phash']} {image_y['phash']} {image_x['width']} {image_y['width']} {image_x['image_id']} {image_y['image_id']}\")\n",
    "# #     display(make_dedup_box(idx_x, idx_y))"
   ]
  },
  {
   "cell_type": "code",
   "execution_count": 32,
   "metadata": {
    "Collapsed": "false"
   },
   "outputs": [],
   "source": [
    "# def potential_duplicates_interested (threshold):\n",
    "#     for i in range(distance.shape[0]):\n",
    "#         for j in range(i):\n",
    "#             if distance[i, j] <= threshold:\n",
    "#                 phash_pair = frozenset([imageDedup[i]['phash'], imageDedup[j]['phash']])\n",
    "#                 if (imageMetas[i]['phash'] in interested_phashes or\n",
    "#                     imageMetas[j]['phash'] in interested_phashes) and (\n",
    "#                     phash_pair not in auto_duplicated_image_phash_pairs and\n",
    "#                     phash_pair not in duplicated_post_image_phash_pairs and\n",
    "#                     phash_pair not in duplicated_image_phash_pairs and\n",
    "#                     phash_pair not in not_duplicated_image_phash_pairs and\n",
    "#                     phash_pair not in related_album_image_phash_pairs and\n",
    "#                     phash_pair not in related_image_phash_pairs):\n",
    "#                     yield (i, j)"
   ]
  },
  {
   "cell_type": "code",
   "execution_count": 33,
   "metadata": {
    "Collapsed": "false"
   },
   "outputs": [],
   "source": [
    "# pdupi = potential_duplicates_interested(18)"
   ]
  },
  {
   "cell_type": "code",
   "execution_count": 34,
   "metadata": {
    "Collapsed": "false"
   },
   "outputs": [],
   "source": [
    "# for i in range(10):\n",
    "#     try:\n",
    "#         next_pdup = next(pdupi)\n",
    "#     except StopIteration:\n",
    "#         print('StopIteration')\n",
    "#         break\n",
    "\n",
    "#     idx_x, idx_y = next_pdup\n",
    "#     image_x = imageDedup[idx_x]\n",
    "#     image_y = imageDedup[idx_y]\n",
    "#     print(f\"{idx_x} {idx_y} {distance[idx_x, idx_y]} {image_x['phash']} {image_y['phash']} {image_x['width']} {image_y['width']} {image_x['image_id']} {image_y['image_id']}\")\n",
    "#     display(make_dedup_box(idx_x, idx_y))"
   ]
  },
  {
   "cell_type": "code",
   "execution_count": 35,
   "metadata": {
    "Collapsed": "false"
   },
   "outputs": [],
   "source": [
    "# def potential_duplicates_related ():\n",
    "#     for i in range(distance.shape[0]):\n",
    "#         for j in range(i):\n",
    "#             if related_distance[i, j] == 0:\n",
    "#                 phash_pair = frozenset([imageDedup[i]['phash'], imageDedup[j]['phash']])\n",
    "#                 if (phash_pair not in related_album_image_phash_pairs):\n",
    "#                     yield (i, j)"
   ]
  },
  {
   "cell_type": "code",
   "execution_count": 36,
   "metadata": {
    "Collapsed": "false"
   },
   "outputs": [],
   "source": [
    "# pdupr = potential_duplicates_related()"
   ]
  },
  {
   "cell_type": "code",
   "execution_count": 37,
   "metadata": {
    "Collapsed": "false"
   },
   "outputs": [],
   "source": [
    "# for i in range(10):\n",
    "#     try:\n",
    "#         next_pdup = next(pdupr)\n",
    "#     except StopIteration:\n",
    "#         print('StopIteration')\n",
    "#         break\n",
    "\n",
    "#     idx_x, idx_y = next_pdup\n",
    "#     image_x = imageDedup[idx_x]\n",
    "#     image_y = imageDedup[idx_y]\n",
    "#     print(f\"{idx_x} {idx_y} {pdistance[idx_x, idx_y]} {distance[idx_x, idx_y]} {image_x['phash']} {image_y['phash']} {image_x['width']} {image_y['width']} {image_x['image_id']} {image_y['image_id']}\")\n",
    "#     display(make_dedup_box(idx_x, idx_y))"
   ]
  },
  {
   "cell_type": "markdown",
   "metadata": {
    "Collapsed": "false"
   },
   "source": [
    "# Consolidate"
   ]
  },
  {
   "cell_type": "markdown",
   "metadata": {
    "Collapsed": "false"
   },
   "source": [
    "## Related images"
   ]
  },
  {
   "cell_type": "code",
   "execution_count": 38,
   "metadata": {
    "Collapsed": "false"
   },
   "outputs": [
    {
     "data": {
      "text/plain": [
       "72"
      ]
     },
     "execution_count": 38,
     "metadata": {},
     "output_type": "execute_result"
    }
   ],
   "source": [
    "related_images = [[imageDedup[idx]['image_id'] for idx in c]\n",
    "                     for c in nx.components.connected_components(nx.Graph(related_distance <= 1))\n",
    "                     if len(c) > 1]\n",
    "len(related_images)"
   ]
  },
  {
   "cell_type": "code",
   "execution_count": 39,
   "metadata": {
    "Collapsed": "false"
   },
   "outputs": [],
   "source": [
    "for ids in related_images:\n",
    "    for i in ids:\n",
    "        imageMeta = imagemeta.find_one({'image_id': i})\n",
    "        ri = [r for r in set(imageMeta.get('related_images', []) + ids) if r != i]\n",
    "        imagededup.update_one({'image_id': i}, {'$set': {'related_images': ri}})"
   ]
  },
  {
   "cell_type": "markdown",
   "metadata": {
    "Collapsed": "false"
   },
   "source": [
    "## Duplicated images"
   ]
  },
  {
   "cell_type": "code",
   "execution_count": 43,
   "metadata": {
    "Collapsed": "false"
   },
   "outputs": [],
   "source": [
    "class ImageDedup ():\n",
    "    _attrs = [\n",
    "        'id',\n",
    "        'post_id',\n",
    "        'datetime',\n",
    "        'url',\n",
    "        'title',\n",
    "        'content',\n",
    "        'author',\n",
    "        'removed',\n",
    "        'ups',\n",
    "        'num_comments',\n",
    "        'external_link',\n",
    "        'source',\n",
    "        'source_platform',\n",
    "        'source_url',\n",
    "        'tags',\n",
    "        'labels',\n",
    "        'media_type',\n",
    "\n",
    "        'thumbnail',\n",
    "        'preview',\n",
    "        'external_link',\n",
    "        'archive',\n",
    "\n",
    "        'image_id',\n",
    "        'short_image_id',\n",
    "        'album',\n",
    "        'index_in_album',\n",
    "        'file_path',\n",
    "        'ext',\n",
    "        'animated',\n",
    "        'size',\n",
    "        'width',\n",
    "        'height',\n",
    "        'ahash',\n",
    "        'phash',\n",
    "        'pshash',\n",
    "        'dhash',\n",
    "        'whash',\n",
    "\n",
    "        'duplicated_posts',\n",
    "        'related_images',\n",
    "        'duplicated_images'\n",
    "    ]\n",
    "\n",
    "    rank = {\n",
    "        'dataisugly': 3,\n",
    "        'wtf-viz': 2,\n",
    "        'badvisualisations': 1\n",
    "    }\n",
    "\n",
    "    def __init__ (self, imageMetas=[]):\n",
    "        if len(imageMetas) == 0:\n",
    "            raise Exception('Empty imageFiles array.')\n",
    "        self._imageMetas = imageMetas\n",
    "        self._image_ids = [i['image_id'] for i in imageMetas]\n",
    "        self._image_order = self.sort_images()\n",
    "        self._post_ids = {i['post_id'] for i in imageMetas}\n",
    "        self._posts = [posts.find_one({'post_id': i}) for i in self._post_ids]\n",
    "        self._post_order = self.sort_posts()\n",
    "        for k, v in self.main_image.items():\n",
    "            if k in ['duplicated_posts', 'related_images']:\n",
    "                continue\n",
    "            setattr(self, k, v)\n",
    "        for k, v in self.main_post.items():\n",
    "            if k in ['duplicated_posts', 'related_images']:\n",
    "                continue\n",
    "            if k in ['preview', 'thumbnail']:\n",
    "                setattr(self, f\"{k}_url\", v)\n",
    "            else:\n",
    "                setattr(self, k, v)\n",
    "\n",
    "    def digest (self):\n",
    "        return {a:getattr(self, a) for a in ImageDedup._attrs if hasattr(self, a)}\n",
    "\n",
    "    @property\n",
    "    def duplicated_posts (self):\n",
    "        post_ids = list(self._post_ids)\n",
    "        for p in self._posts:\n",
    "            if 'duplicated_posts' in post_ids:\n",
    "                post_ids += p['duplicated_posts']\n",
    "        return [i for i in set(post_ids) if i != self.post_id]\n",
    "\n",
    "    @property\n",
    "    def duplicated_images (self):\n",
    "#         return self._image_ids\n",
    "        return [i for i in self._image_ids if i != self.image_id]\n",
    "\n",
    "    @property\n",
    "    def related_images (self):\n",
    "        return [ri for i in self._imageMetas for ri in i.get('related_images', []) if ri != self.image_id]\n",
    "\n",
    "    @property\n",
    "    def main_post (self):\n",
    "        return self._post_order[0]\n",
    "\n",
    "    def post_score (self, post):\n",
    "        score = post['ups'] if 'ups' in post else 0\n",
    "        score += 5 * post['num_comments'] if 'num_comments' in post else 0\n",
    "        return score\n",
    "\n",
    "    def source_rank (self, source):\n",
    "        return ImageDedup.rank.get(source, 0)\n",
    "\n",
    "    def sort_posts (self):\n",
    "        def preferred (post_x, post_y):\n",
    "            rank_x = self.source_rank(post_x['source'])\n",
    "            rank_y = self.source_rank(post_y['source'])\n",
    "            if rank_x != rank_y:\n",
    "                return rank_y - rank_x\n",
    "            post_score_x = self.post_score(post_x)\n",
    "            post_score_y = self.post_score(post_y)\n",
    "            return post_score_y - post_score_x\n",
    "\n",
    "        return sorted(self._posts, key=cmp_to_key(preferred))\n",
    "\n",
    "    @property\n",
    "    def main_image (self):\n",
    "        return self._image_order[0]\n",
    "\n",
    "    def sort_images (self):\n",
    "        def preferred (image_x, image_y):\n",
    "            if image_x['animated'] != image_y['animated']:\n",
    "                if image_x['animated']:\n",
    "                    return -1\n",
    "                if image_y['animated']:\n",
    "                    return 1\n",
    "\n",
    "            pixels_x = image_x['width'] * image_x['height']\n",
    "            pixels_y = image_y['width'] * image_y['height']\n",
    "\n",
    "            if pixels_x == pixels_y:\n",
    "\n",
    "                if image_x['ext'] != image_y['ext']:\n",
    "                    if image_x['ext'] == '.png':\n",
    "                        return -1\n",
    "                    if image_y['ext'] == '.png':\n",
    "                        return 1\n",
    "\n",
    "                if image_x['size'] != image_y['size']:\n",
    "                    return image_y['size'] - image_x['size']\n",
    "\n",
    "                return self.source_rank(image_y['source']) - self.source_rank(image_x['source'])\n",
    "            else:\n",
    "                return pixels_y - pixels_x\n",
    "\n",
    "        return sorted(self._imageMetas, key=cmp_to_key(preferred))"
   ]
  },
  {
   "cell_type": "code",
   "execution_count": 41,
   "metadata": {
    "Collapsed": "false"
   },
   "outputs": [
    {
     "data": {
      "text/plain": [
       "744"
      ]
     },
     "execution_count": 41,
     "metadata": {},
     "output_type": "execute_result"
    }
   ],
   "source": [
    "duplicated_images = [[imageDedup[idx]['image_id'] for idx in c]\n",
    "                     for c in nx.components.connected_components(nx.Graph(distance <= 1))\n",
    "                     if len(c) > 1]\n",
    "len(duplicated_images)"
   ]
  },
  {
   "cell_type": "code",
   "execution_count": 44,
   "metadata": {
    "Collapsed": "false"
   },
   "outputs": [],
   "source": [
    "for ids in duplicated_images:\n",
    "    imagedd = ImageDedup([imagemeta.find_one({'image_id': i}) for i in ids])\n",
    "    for i in imagedd.duplicated_images:\n",
    "        imagededup.delete_one({'image_id': i})\n",
    "    imagededup.replace_one({'image_id': imagedd.image_id}, imagedd.digest(), upsert=True)"
   ]
  },
  {
   "cell_type": "code",
   "execution_count": null,
   "metadata": {
    "Collapsed": "false"
   },
   "outputs": [],
   "source": [
    "# duplicated_image_ids = [c\n",
    "#                      for c in nx.components.connected_components(nx.Graph(distance <= 1))\n",
    "#                      if len(c) > 1]\n",
    "# len(duplicated_image_ids)\n",
    "# for idxs in duplicated_image_ids:\n",
    "#     print(f\"{[imageDedup[i]['image_id'] for i in idxs]}\")\n",
    "#     if len(idxs) >= 4:\n",
    "#         display(HBox([\n",
    "#             widgets.Image(value=open(imageDedup[i]['file_path'], 'rb').read(), width=100, height=100)\n",
    "#             for i in idxs]))"
   ]
  },
  {
   "cell_type": "code",
   "execution_count": null,
   "metadata": {
    "Collapsed": "false"
   },
   "outputs": [],
   "source": []
  }
 ],
 "metadata": {
  "kernelspec": {
   "display_name": "Python 3",
   "language": "python",
   "name": "python3"
  },
  "language_info": {
   "codemirror_mode": {
    "name": "ipython",
    "version": 3
   },
   "file_extension": ".py",
   "mimetype": "text/x-python",
   "name": "python",
   "nbconvert_exporter": "python",
   "pygments_lexer": "ipython3",
   "version": "3.7.4"
  }
 },
 "nbformat": 4,
 "nbformat_minor": 4
}
