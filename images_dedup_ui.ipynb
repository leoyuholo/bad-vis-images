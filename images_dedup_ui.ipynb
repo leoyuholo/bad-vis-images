{
 "cells": [
  {
   "cell_type": "code",
   "execution_count": 1,
   "metadata": {
    "Collapsed": "false"
   },
   "outputs": [],
   "source": [
    "# !pip install simplejson"
   ]
  },
  {
   "cell_type": "code",
   "execution_count": 2,
   "metadata": {
    "Collapsed": "false"
   },
   "outputs": [],
   "source": [
    "from pymongo import MongoClient\n",
    "from pathlib import Path\n",
    "from tqdm.notebook import tqdm\n",
    "import numpy as np\n",
    "import simplejson as json\n",
    "import itertools\n",
    "\n",
    "from IPython.display import display, Image, JSON\n",
    "from ipywidgets import widgets, Image, HBox, VBox, Button, ButtonStyle\n",
    "\n",
    "from lib.image_dedup import make_hashes, calculate_distance, hashes_diff"
   ]
  },
  {
   "cell_type": "code",
   "execution_count": 4,
   "metadata": {
    "Collapsed": "false"
   },
   "outputs": [],
   "source": [
    "import ipywidgets\n",
    "ipywidgets.Widget.close_all()"
   ]
  },
  {
   "cell_type": "code",
   "execution_count": null,
   "metadata": {
    "Collapsed": "false"
   },
   "outputs": [],
   "source": [
    "images_dir = Path('./images')\n",
    "handmade_dir = Path('./handmade')\n",
    "handmade_dir.mkdir(exist_ok=True)"
   ]
  },
  {
   "cell_type": "code",
   "execution_count": null,
   "metadata": {
    "Collapsed": "false"
   },
   "outputs": [],
   "source": [
    "mongo = MongoClient('172.17.0.1', 27017)\n",
    "db = mongo['bad-vis']\n",
    "posts = db['posts']\n",
    "imagemeta = db['imagemeta']"
   ]
  },
  {
   "cell_type": "markdown",
   "metadata": {
    "Collapsed": "false"
   },
   "source": [
    "# Load image metadata"
   ]
  },
  {
   "cell_type": "code",
   "execution_count": null,
   "metadata": {
    "Collapsed": "false"
   },
   "outputs": [],
   "source": [
    "imageMetas = [m for m in imagemeta.find()]\n",
    "imageMetas.sort(key=lambda x: x['image_id'])"
   ]
  },
  {
   "cell_type": "code",
   "execution_count": null,
   "metadata": {
    "Collapsed": "false"
   },
   "outputs": [],
   "source": [
    "phash_to_idx_mapping = {}\n",
    "for i in range(len(imageMetas)):\n",
    "    phash = imageMetas[i]['phash']\n",
    "    l = phash_to_idx_mapping.get(phash, [])\n",
    "    l.append(i)\n",
    "    phash_to_idx_mapping['phash'] = l\n"
   ]
  },
  {
   "cell_type": "code",
   "execution_count": null,
   "metadata": {
    "Collapsed": "false"
   },
   "outputs": [],
   "source": [
    "def phash_to_idx (phash):\n",
    "    return phash_to_idx_mapping.get(phash, None)"
   ]
  },
  {
   "cell_type": "markdown",
   "metadata": {
    "Collapsed": "false"
   },
   "source": [
    "# Calculate distance"
   ]
  },
  {
   "cell_type": "markdown",
   "metadata": {
    "Collapsed": "false"
   },
   "source": [
    "## Hash distance"
   ]
  },
  {
   "cell_type": "code",
   "execution_count": null,
   "metadata": {
    "Collapsed": "false"
   },
   "outputs": [],
   "source": [
    "image_hashes = [make_hashes(m) for m in imageMetas]"
   ]
  },
  {
   "cell_type": "code",
   "execution_count": null,
   "metadata": {
    "Collapsed": "false"
   },
   "outputs": [],
   "source": [
    "distance = calculate_distance(image_hashes)"
   ]
  },
  {
   "cell_type": "code",
   "execution_count": null,
   "metadata": {
    "Collapsed": "false"
   },
   "outputs": [],
   "source": [
    "# distance2 = np.ndarray([len(image_hashes), len(image_hashes)])\n",
    "# for i in tqdm(range(len(image_hashes))):\n",
    "#     for j in range(i+1):\n",
    "#         diff = hashes_diff(image_hashes[i], image_hashes[j])\n",
    "#         distance2[i, j] = diff\n",
    "#         distance2[j, i] = diff\n",
    "# np.array_equal(distance, distance2)"
   ]
  },
  {
   "cell_type": "code",
   "execution_count": null,
   "metadata": {
    "Collapsed": "false"
   },
   "outputs": [],
   "source": [
    "pdistance = calculate_distance(image_hashes, hash_type='phash')"
   ]
  },
  {
   "cell_type": "code",
   "execution_count": null,
   "metadata": {
    "Collapsed": "false"
   },
   "outputs": [],
   "source": [
    "duplicated_image_phash_pairs_auto = set()\n",
    "for i in tqdm(range(distance.shape[0])):\n",
    "    for j in range(i):\n",
    "        if distance[i, j] <= 1: # checked, all distance <= 1 are duplicated\n",
    "            duplicated_image_phash_pairs_auto.add(frozenset([imageMetas[i]['phash'], imageMetas[j]['phash']]))"
   ]
  },
  {
   "cell_type": "code",
   "execution_count": null,
   "metadata": {
    "Collapsed": "false"
   },
   "outputs": [],
   "source": [
    "duplicated_image_phash_pairs_auto = set()\n",
    "for i in tqdm(range(distance.shape[0])):\n",
    "    for j in range(i):\n",
    "        if distance[i, j] <= 1: # checked, all distance <= 1 are duplicated\n",
    "            duplicated_image_phash_pairs_auto.add(frozenset([imageMetas[i]['phash'], imageMetas[j]['phash']]))"
   ]
  },
  {
   "cell_type": "code",
   "execution_count": null,
   "metadata": {
    "Collapsed": "false"
   },
   "outputs": [],
   "source": [
    "def set_distance (phash_x, phash_y, value, mat=distance):\n",
    "    idx_x = phash_to_idx(phash_x)\n",
    "    idx_y = phash_to_idx(phash_y)\n",
    "    if not idx_x or not idx_y:\n",
    "        return\n",
    "    for s in itertools.product(idx_x, idx_y):\n",
    "        i, j = s\n",
    "        mat[i, j] = value\n",
    "        mat[j, i] = value\n",
    "\n",
    "def set_distance_pairs (phash_pairs, value, mat=distance):\n",
    "    for p in phash_pairs:\n",
    "        if len(p) > 1:\n",
    "            set_distance(*list(p), value, mat=mat)"
   ]
  },
  {
   "cell_type": "markdown",
   "metadata": {
    "Collapsed": "false"
   },
   "source": [
    "## Apply information from meta data"
   ]
  },
  {
   "cell_type": "code",
   "execution_count": null,
   "metadata": {
    "Collapsed": "false"
   },
   "outputs": [],
   "source": [
    "duplicated_post_image_phash_pairs = set()\n",
    "\n",
    "for p in posts.find():\n",
    "    if 'duplicated_posts' not in p or len(p['duplicated_posts']) == 0:\n",
    "        continue\n",
    "\n",
    "    dp_phashes = [i['phash']\n",
    "                    for dp in p['duplicated_posts']\n",
    "                    for i in imagemeta.find({'post_id': dp})]\n",
    "    if len(dp_phashes) > 1:\n",
    "        print(f\"More than 1 image {p['post_id']} {dp_phashes}\")\n",
    "\n",
    "    phashes = [i['phash'] for i in imagemeta.find({'post_id': p['post_id']})]\n",
    "    for s in itertools.product(dp_phashes, phashes):\n",
    "        fs = frozenset(s)\n",
    "        if len(fs) > 1:\n",
    "            duplicated_post_image_phash_pairs.add(fs)\n",
    "\n",
    "set_distance_pairs(duplicated_post_image_phash_pairs, 0)"
   ]
  },
  {
   "cell_type": "code",
   "execution_count": null,
   "metadata": {
    "Collapsed": "false"
   },
   "outputs": [],
   "source": [
    "related_album_image_phash_pairs = set()\n",
    "\n",
    "for album in {i['album'] for i in imagemeta.find({'album': {'$exists': True, '$ne': ''}})}:\n",
    "    ra_phashes = [i['phash'] for i in imagemeta.find({'album': album})]\n",
    "    if len(ra_phashes) <= 1:\n",
    "        print(f\"Only 1 or less image {album} {p['post_id']} {ra_phashes}\")\n",
    "\n",
    "    for s in itertools.product(ra_phashes, ra_phashes):\n",
    "        fs = frozenset(s)\n",
    "        if len(fs) > 1:\n",
    "            related_album_image_phash_pairs.add(fs)\n",
    "\n",
    "set_distance_pairs(related_album_image_phash_pairs, 60)"
   ]
  },
  {
   "cell_type": "markdown",
   "metadata": {
    "Collapsed": "false"
   },
   "source": [
    "## Apply manual labeled data"
   ]
  },
  {
   "cell_type": "code",
   "execution_count": null,
   "metadata": {
    "Collapsed": "false"
   },
   "outputs": [],
   "source": [
    "class PersistentSet (set):\n",
    "    @staticmethod\n",
    "    def load_set (file):\n",
    "        if Path(file).exists():\n",
    "            s = PersistentSet([frozenset(a) if isinstance(a, list) else a for a in json.load(open(file))])\n",
    "        else:\n",
    "            s = PersistentSet()\n",
    "        s.set_file(file)\n",
    "        return s\n",
    "\n",
    "    def set_file (self, file):\n",
    "        self.file = file\n",
    "\n",
    "    def persist_add (self, item):\n",
    "        self.add(item)\n",
    "        json.dump(list(self), open(self.file, 'w'), iterable_as_array=True)\n",
    "\n",
    "    def persist_remove (self, item):\n",
    "        self.remove(item)\n",
    "        json.dump(list(self), open(self.file, 'w'), iterable_as_array=True)"
   ]
  },
  {
   "cell_type": "code",
   "execution_count": null,
   "metadata": {
    "Collapsed": "false"
   },
   "outputs": [],
   "source": [
    "duplicated_image_phash_pairs = PersistentSet.load_set(handmade_dir/'duplicated_image_phash_pairs.json')\n",
    "not_duplicated_image_phash_pairs = PersistentSet.load_set(handmade_dir/'not_duplicated_image_phash_pairs.json')\n",
    "related_image_phash_pairs = PersistentSet.load_set(handmade_dir/'related_image_phash_pairs.json')\n",
    "invalid_image_phashes = PersistentSet.load_set(handmade_dir/'invalid_image_phashes.json')"
   ]
  },
  {
   "cell_type": "code",
   "execution_count": null,
   "metadata": {
    "Collapsed": "false"
   },
   "outputs": [],
   "source": [
    "set_distance_pairs(duplicated_post_image_phash_pairs, 0)\n",
    "set_distance_pairs(duplicated_image_phash_pairs, 0)\n",
    "set_distance_pairs(not_duplicated_image_phash_pairs, 60)\n",
    "\n",
    "related_distance = np.full(distance.shape, 60)\n",
    "set_distance_pairs(related_album_image_phash_pairs, 0, mat=related_distance)\n",
    "set_distance_pairs(related_image_phash_pairs, 0, mat=related_distance)"
   ]
  },
  {
   "cell_type": "code",
   "execution_count": null,
   "metadata": {
    "Collapsed": "false"
   },
   "outputs": [],
   "source": [
    "def make_dedup_box (idx_x, idx_y, default=None):\n",
    "    image_x = imageMetas[idx_x]\n",
    "    phash_x = image_x['phash']\n",
    "    image_y = imageMetas[idx_y]\n",
    "    phash_y = image_y['phash']\n",
    "    hash_pair = frozenset([phash_x, phash_y])\n",
    "\n",
    "    yes_btn = widgets.Button(description=\"Duplicated\", button_style='success')\n",
    "    no_btn = widgets.Button(description=\"Not\", button_style='info')\n",
    "    related_btn = widgets.Button(description=\"Related\", button_style='warning')\n",
    "    invalid_x_btn = widgets.Button(description=\"X Invalid\")\n",
    "    invalid_y_btn = widgets.Button(description=\"Y Invalid\")\n",
    "    reset_btn = widgets.Button(description=\"Reset\")\n",
    "    output = widgets.Output()\n",
    "\n",
    "    def on_yes (btn):\n",
    "        with output:\n",
    "            if default == 'no' and hash_pair in not_duplicated_image_phash_pairs:\n",
    "                not_duplicated_image_phash_pairs.persist_remove(hash_pair)\n",
    "                print('-Not')\n",
    "            duplicated_image_phash_pairs.persist_add(hash_pair)\n",
    "            print('Duplicated')\n",
    "\n",
    "    def on_no (btn):\n",
    "        not_duplicated_image_phash_pairs.persist_add(hash_pair)\n",
    "        with output:\n",
    "            print('Not')\n",
    "\n",
    "    def on_related (btn):\n",
    "        with output:\n",
    "            if default == 'no' and hash_pair in not_duplicated_image_phash_pairs:\n",
    "                not_duplicated_image_phash_pairs.persist_remove(hash_pair)\n",
    "                print('-Not')\n",
    "            related_image_phash_pairs.persist_add(hash_pair)\n",
    "            print('Related')\n",
    "\n",
    "    def on_invalid_x (btn):\n",
    "        invalid_image_phashes.persist_add(phash_x)\n",
    "        with output:\n",
    "            print('Invalid X')\n",
    "\n",
    "    def on_invalid_y (btn):\n",
    "        invalid_image_phashes.persist_add(phash_y)\n",
    "        with output:\n",
    "            print('Invalid Y')\n",
    "\n",
    "    def on_reset (btn):\n",
    "        with output:\n",
    "            if hash_pair in duplicated_image_phash_pairs:\n",
    "                duplicated_image_phash_pairs.persist_remove(hash_pair)\n",
    "                print('-Duplicated')\n",
    "            if hash_pair in not_duplicated_image_phash_pairs:\n",
    "                not_duplicated_image_phash_pairs.persist_remove(hash_pair)\n",
    "                print('-Not')\n",
    "            if hash_pair in related_image_phash_pairs:\n",
    "                related_image_phash_pairs.persist_remove(hash_pair)\n",
    "                print('-Related')\n",
    "            if phash_x in invalid_image_phashes:\n",
    "                invalid_image_phashes.persist_remove(phash_x)\n",
    "                print('-Invalid X')\n",
    "            if phash_y in invalid_image_phashes:\n",
    "                invalid_image_phashes.persist_remove(phash_y)\n",
    "                print('-Invalid Y')\n",
    "            print('Reset')\n",
    "\n",
    "    yes_btn.on_click(on_yes)\n",
    "    no_btn.on_click(on_no)\n",
    "    related_btn.on_click(on_related)\n",
    "    invalid_x_btn.on_click(on_invalid_x)\n",
    "    invalid_y_btn.on_click(on_invalid_y)\n",
    "    reset_btn.on_click(on_reset)\n",
    "\n",
    "    if default == 'no':\n",
    "        on_no(None)\n",
    "\n",
    "    return HBox([VBox([yes_btn, no_btn, related_btn, invalid_x_btn, invalid_y_btn, reset_btn, output]),\n",
    "                 widgets.Image(value=open(image_x['file_path'], 'rb').read(), width=250, height=150),\n",
    "                 widgets.Image(value=open(image_y['file_path'], 'rb').read(), width=250, height=150)])"
   ]
  },
  {
   "cell_type": "code",
   "execution_count": null,
   "metadata": {
    "Collapsed": "false"
   },
   "outputs": [],
   "source": [
    "# interested_phashes = set()"
   ]
  },
  {
   "cell_type": "code",
   "execution_count": null,
   "metadata": {
    "Collapsed": "false"
   },
   "outputs": [],
   "source": [
    "# def potential_duplicates_high (threshold):\n",
    "#     for i in range(distance.shape[0]):\n",
    "#         for j in range(i):\n",
    "#             if distance[i, j] >= threshold:\n",
    "#                 phash_pair = frozenset([imageMetas[i]['phash'], imageMetas[j]['phash']])\n",
    "#                 if (phash_pair in duplicated_image_phash_pairs):\n",
    "#                     interested_phashes.add(imageMetas[i]['phash'])\n",
    "#                     interested_phashes.add(imageMetas[j]['phash'])\n",
    "#                     yield (i, j)"
   ]
  },
  {
   "cell_type": "code",
   "execution_count": null,
   "metadata": {
    "Collapsed": "false"
   },
   "outputs": [],
   "source": [
    "# pduph = potential_duplicates_high(10)"
   ]
  },
  {
   "cell_type": "code",
   "execution_count": null,
   "metadata": {
    "Collapsed": "false"
   },
   "outputs": [],
   "source": [
    "# for i in range(100):\n",
    "#     try:\n",
    "#         next_pdup = next(pduph)\n",
    "#     except StopIteration:\n",
    "#         print('StopIteration')\n",
    "#         break\n",
    "\n",
    "#     idx_x, idx_y = next_pdup\n",
    "#     image_x = imageMetas[idx_x]\n",
    "#     image_y = imageMetas[idx_y]\n",
    "#     print(f\"{idx_x} {idx_y} {distance[idx_x, idx_y]} {image_x['phash']} {image_y['phash']} {image_x['width']} {image_y['width']} {image_x['image_id']} {image_y['image_id']}\")\n",
    "# #     display(make_dedup_box(idx_x, idx_y))"
   ]
  },
  {
   "cell_type": "code",
   "execution_count": null,
   "metadata": {
    "Collapsed": "false"
   },
   "outputs": [],
   "source": [
    "# interested_phashes.remove('bf1ed0e0c49cb16a')"
   ]
  },
  {
   "cell_type": "code",
   "execution_count": null,
   "metadata": {
    "Collapsed": "false"
   },
   "outputs": [],
   "source": [
    "# def potential_duplicates_interested (threshold):\n",
    "#     for i in range(distance.shape[0]):\n",
    "#         for j in range(i):\n",
    "#             if distance[i, j] <= threshold:\n",
    "#                 phash_pair = frozenset([imageMetas[i]['phash'], imageMetas[j]['phash']])\n",
    "#                 if (imageMetas[i]['phash'] in interested_phashes or\n",
    "#                     imageMetas[j]['phash'] in interested_phashes) and (\n",
    "#                     phash_pair not in duplicated_image_phash_pairs_auto and\n",
    "#                     phash_pair not in duplicated_post_image_phash_pairs and\n",
    "#                     phash_pair not in duplicated_image_phash_pairs and\n",
    "#                     phash_pair not in not_duplicated_image_phash_pairs and\n",
    "#                     phash_pair not in related_album_image_phash_pairs and\n",
    "#                     phash_pair not in related_image_phash_pairs):\n",
    "#                     yield (i, j)"
   ]
  },
  {
   "cell_type": "code",
   "execution_count": null,
   "metadata": {
    "Collapsed": "false"
   },
   "outputs": [],
   "source": [
    "# pdupi = potential_duplicates_interested(18)"
   ]
  },
  {
   "cell_type": "code",
   "execution_count": null,
   "metadata": {
    "Collapsed": "false"
   },
   "outputs": [],
   "source": [
    "# for i in range(10):\n",
    "#     try:\n",
    "#         next_pdup = next(pdupi)\n",
    "#     except StopIteration:\n",
    "#         print('StopIteration')\n",
    "#         break\n",
    "\n",
    "#     idx_x, idx_y = next_pdup\n",
    "#     image_x = imageMetas[idx_x]\n",
    "#     image_y = imageMetas[idx_y]\n",
    "#     print(f\"{idx_x} {idx_y} {distance[idx_x, idx_y]} {image_x['phash']} {image_y['phash']} {image_x['width']} {image_y['width']} {image_x['image_id']} {image_y['image_id']}\")\n",
    "#     display(make_dedup_box(idx_x, idx_y))"
   ]
  },
  {
   "cell_type": "code",
   "execution_count": null,
   "metadata": {
    "Collapsed": "false"
   },
   "outputs": [],
   "source": [
    "def potential_duplicates (threshold):\n",
    "    for i in range(distance.shape[0]):\n",
    "        for j in range(i):\n",
    "            if distance[i, j] <= threshold:\n",
    "                phash_pair = frozenset([imageMetas[i]['phash'], imageMetas[j]['phash']])\n",
    "                if (phash_pair not in duplicated_image_phash_pairs_auto and\n",
    "                    phash_pair not in duplicated_post_image_phash_pairs and\n",
    "                    phash_pair not in duplicated_image_phash_pairs and\n",
    "                    phash_pair not in not_duplicated_image_phash_pairs and\n",
    "                    phash_pair not in related_album_image_phash_pairs and\n",
    "                    phash_pair not in related_image_phash_pairs):\n",
    "                    yield (i, j)"
   ]
  },
  {
   "cell_type": "code",
   "execution_count": null,
   "metadata": {
    "Collapsed": "false"
   },
   "outputs": [],
   "source": [
    "distance_threshold = 12"
   ]
  },
  {
   "cell_type": "code",
   "execution_count": null,
   "metadata": {
    "Collapsed": "false"
   },
   "outputs": [],
   "source": [
    "pdup = potential_duplicates(distance_threshold)"
   ]
  },
  {
   "cell_type": "code",
   "execution_count": null,
   "metadata": {
    "Collapsed": "false"
   },
   "outputs": [],
   "source": [
    "# for i in range(10):\n",
    "#     try:\n",
    "#         next_pdup = next(pdup)\n",
    "#     except StopIteration:\n",
    "#         print('StopIteration')\n",
    "#         break\n",
    "\n",
    "#     idx_x, idx_y = next_pdup\n",
    "#     image_x = imageMetas[idx_x]\n",
    "#     image_y = imageMetas[idx_y]\n",
    "#     print(f\"{idx_x} {idx_y} {distance[idx_x, idx_y]} {image_x['phash']} {image_y['phash']} {image_x['width']} {image_y['width']} {image_x['image_id']} {image_y['image_id']}\")\n",
    "#     display(make_dedup_box(idx_x, idx_y, default=None if distance[idx_x, idx_y] < 9 else 'no'))"
   ]
  },
  {
   "cell_type": "code",
   "execution_count": null,
   "metadata": {
    "Collapsed": "false"
   },
   "outputs": [],
   "source": []
  }
 ],
 "metadata": {
  "kernelspec": {
   "display_name": "Python 3",
   "language": "python",
   "name": "python3"
  },
  "language_info": {
   "codemirror_mode": {
    "name": "ipython",
    "version": 3
   },
   "file_extension": ".py",
   "mimetype": "text/x-python",
   "name": "python",
   "nbconvert_exporter": "python",
   "pygments_lexer": "ipython3",
   "version": "3.7.4"
  }
 },
 "nbformat": 4,
 "nbformat_minor": 4
}
