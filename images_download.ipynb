{
 "cells": [
  {
   "cell_type": "code",
   "execution_count": null,
   "metadata": {
    "Collapsed": "false"
   },
   "outputs": [],
   "source": [
    "# !pip install imgur-downloader\n",
    "# !pip install python-magic\n",
    "# !apt install libmagic-dev\n",
    "# !pip install requests_toolbelt"
   ]
  },
  {
   "cell_type": "code",
   "execution_count": null,
   "metadata": {
    "Collapsed": "false"
   },
   "outputs": [],
   "source": [
    "# no web cache, file check instead"
   ]
  },
  {
   "cell_type": "code",
   "execution_count": null,
   "metadata": {
    "Collapsed": "false"
   },
   "outputs": [],
   "source": [
    "from pymongo import MongoClient\n",
    "import requests\n",
    "from requests_toolbelt import SSLAdapter\n",
    "from pathlib import Path\n",
    "import glob\n",
    "from PIL import Image\n",
    "from io import BytesIO\n",
    "import magic\n",
    "# from imgur_downloader import ImgurDownloader\n",
    "from lib.libpatching.ImgurDownloader import ImgurDownloader\n",
    "from collections import Counter\n",
    "\n",
    "from lib.parallel import parallel"
   ]
  },
  {
   "cell_type": "code",
   "execution_count": null,
   "metadata": {
    "Collapsed": "false"
   },
   "outputs": [],
   "source": [
    "mongo = MongoClient('172.17.0.1', 27017)\n",
    "db = mongo['bad-vis']\n",
    "posts = db['posts']\n",
    "dlthumbnailresults = db['dlthumbnailresults']\n",
    "dlpreviewresults = db['dlpreviewresults']\n",
    "dlexternalresults = db['dlexternalresults']"
   ]
  },
  {
   "cell_type": "code",
   "execution_count": null,
   "metadata": {
    "Collapsed": "false"
   },
   "outputs": [],
   "source": [
    "images_dir = Path('./images')"
   ]
  },
  {
   "cell_type": "code",
   "execution_count": null,
   "metadata": {
    "Collapsed": "false"
   },
   "outputs": [],
   "source": [
    "post = posts.find_one()\n",
    "r = requests.get(post['preview']['url'])\n",
    "pil_image = Image.open(BytesIO(r.content))\n",
    "pil_image"
   ]
  },
  {
   "cell_type": "code",
   "execution_count": null,
   "metadata": {
    "Collapsed": "false"
   },
   "outputs": [],
   "source": [
    "ImgurDownloader('http://imgur.com/(null)')"
   ]
  },
  {
   "cell_type": "code",
   "execution_count": null,
   "metadata": {
    "Collapsed": "false"
   },
   "outputs": [],
   "source": [
    "def get_content_type_ext (content_type, req=None):\n",
    "    if not content_type:\n",
    "        content_type = ''\n",
    "    content_type = content_type.lower()\n",
    "    if content_type.startswith('image/jpeg') or content_type.startswith('image/jpg'):\n",
    "        return '.jpg'\n",
    "    elif content_type.startswith('image/png'):\n",
    "        return '.png'\n",
    "    elif content_type.startswith('image/gif'):\n",
    "        return '.gif'\n",
    "    elif content_type.startswith('image/webp'):\n",
    "        return '.webp'\n",
    "    elif content_type.startswith('image/svg'):\n",
    "        return '.svg'\n",
    "    elif content_type.startswith('image/bmp'):\n",
    "        return '.bmp'\n",
    "    elif content_type.startswith('video/mp4'):\n",
    "        return '.mp4'\n",
    "    elif req:\n",
    "        return get_content_type_ext(magic.from_buffer(req.content, mime=True))\n",
    "    elif content_type.startswith('text/html'):\n",
    "        return '.html'\n",
    "    elif content_type.startswith('application/pdf'):\n",
    "        return '.pdf'\n",
    "    else:\n",
    "        print(f'Unknow content-type: {content_type}')\n",
    "        return ''\n",
    "\n",
    "def download_image (post, t='preview', outdir=None):\n",
    "    if t in post:\n",
    "        if type(post[t]) == str:\n",
    "            link = post[t]\n",
    "        else:\n",
    "            link = post[t]['url']\n",
    "    else:\n",
    "        link = ''\n",
    "    if not outdir:\n",
    "        outdir = t\n",
    "    result = {\n",
    "        'id': post['id'],\n",
    "        'post_id': post['post_id'],\n",
    "        'link': link,\n",
    "        'dest': images_dir/outdir/post['post_id']\n",
    "    }\n",
    "\n",
    "    if len(glob.glob(f'{result[\"dest\"]}*')) != 0:\n",
    "        result['status'] = 'exists'\n",
    "        return result\n",
    "    else:\n",
    "        result['dest'].parent.mkdir(parents=True, exist_ok=True)\n",
    "\n",
    "    if not link or link == 'None' or type(link) != str:\n",
    "        result['status'] = 'invalid_url'\n",
    "        return result\n",
    "\n",
    "    try:\n",
    "        if t == 'external_link':\n",
    "            if 'imgur.com' in link and not (link.endswith('.jpg') or link.endswith('.png') or link.endswith('.gif')):\n",
    "                filename, skipped = ImgurDownloader(link.split('#')[0], # remove image identifier hash\n",
    "                                                    dir_download=result['dest'].parent,\n",
    "                                                    file_name=result['id'],\n",
    "                                                    delete_dne=True).save_images()\n",
    "                if skipped != 0:\n",
    "                    result['status'] = 'imgur_dne'\n",
    "                else:\n",
    "                    result['status'] = 'downloaded'\n",
    "                return result\n",
    "            elif 'viz.wtf' in link:\n",
    "                result['status'] = 'skip_wtf-viz'\n",
    "                return result\n",
    "            elif 'twitter.com' in link:\n",
    "                result['status'] = 'skip_twitter'\n",
    "                return result\n",
    "            elif 'youtube.com' in link or 'youtu.be' in link:\n",
    "                result['status'] = 'skip_youtube'\n",
    "                return result\n",
    "            elif 'vimeo.com' in link:\n",
    "                result['status'] = 'skip_vimeo'\n",
    "                return result\n",
    "            elif 'reddit.com/r' in link:\n",
    "                result['status'] = 'skip_subreddit'\n",
    "                return result\n",
    "            elif 'reddit.com/user' in link:\n",
    "                result['status'] = 'skip_redditor'\n",
    "                return result\n",
    "\n",
    "        try:\n",
    "            r = requests.get(link, timeout=60)\n",
    "        except requests.exceptions.SSLError:\n",
    "            adapter = SSLAdapter('TLSv1')\n",
    "            s = requests.Session()\n",
    "            s.mount('https://', adapter)\n",
    "            r = s.get(link, timeout=60, verify=False)\n",
    "        except requests.exceptions.Timeout:\n",
    "            r = requests.get(link, timeout=60)\n",
    "\n",
    "        result['request_status'] = r.status_code\n",
    "        if result['request_status'] >= 400:\n",
    "            if result['request_status'] == 404:\n",
    "                result['status'] = 'not_found'\n",
    "            else:\n",
    "                result['status'] = 'http_error'\n",
    "            return result\n",
    "\n",
    "        result['ext'] = get_content_type_ext(r.headers.get('content-type'), r)\n",
    "        if result['ext'] == '':\n",
    "            result['status'] = 'invalid_content_type'\n",
    "            print(f'id: {result[\"id\"]} link: {result[\"link\"]}')\n",
    "            return result\n",
    "        if result['ext'] == '.html' or result['ext'] == '.pdf':\n",
    "            result['status'] = 'skip_content_type'\n",
    "            return result\n",
    "\n",
    "        result['output'] = f'{result[\"dest\"]}{result[\"ext\"]}'\n",
    "        with open(result['output'], 'wb') as f:\n",
    "            f.write(r.content)\n",
    "        result['status'] = 'downloaded'\n",
    "        return result\n",
    "    except Exception as inst:\n",
    "        print(f\"Download error: {post['post_id']} {link} {inst}\")\n",
    "        result['status'] = 'download_error'\n",
    "        return result\n",
    "\n",
    "    return result"
   ]
  },
  {
   "cell_type": "code",
   "execution_count": null,
   "metadata": {
    "Collapsed": "false"
   },
   "outputs": [],
   "source": [
    "for post in [posts.find_one()]:\n",
    "    result = download_image(post, t='preview')\n",
    "    print(result)"
   ]
  },
  {
   "cell_type": "code",
   "execution_count": null,
   "metadata": {
    "Collapsed": "false"
   },
   "outputs": [],
   "source": [
    "for post in [posts.find_one()]:\n",
    "    result = download_image(post, t='preview')\n",
    "    print(result)"
   ]
  },
  {
   "cell_type": "code",
   "execution_count": null,
   "metadata": {
    "Collapsed": "false"
   },
   "outputs": [],
   "source": [
    "for post in [posts.find_one()]:\n",
    "    result = download_image(post, t='thumbnail')\n",
    "    print(result)"
   ]
  },
  {
   "cell_type": "code",
   "execution_count": null,
   "metadata": {
    "Collapsed": "false"
   },
   "outputs": [],
   "source": [
    "for post in [posts.find_one({'id': '5chz6p'})]:\n",
    "    result = download_image(post, t='external_link', outdir='external_link')\n",
    "    print(result)"
   ]
  },
  {
   "cell_type": "code",
   "execution_count": null,
   "metadata": {
    "Collapsed": "false"
   },
   "outputs": [],
   "source": [
    "dl_preview_results = parallel(download_image, posts.find(), params_dict={'t': 'preview', 'outdir': 'preview'}, total=posts.estimated_document_count(), n_jobs=20)"
   ]
  },
  {
   "cell_type": "code",
   "execution_count": null,
   "metadata": {
    "Collapsed": "false",
    "scrolled": true
   },
   "outputs": [],
   "source": [
    "dl_thumbnail_results = parallel(download_image, posts.find(), params_dict={'t': 'thumbnail', 'outdir': 'thumbnail'}, total=posts.estimated_document_count(), n_jobs=20)"
   ]
  },
  {
   "cell_type": "code",
   "execution_count": null,
   "metadata": {
    "Collapsed": "false"
   },
   "outputs": [],
   "source": [
    "dl_external_link_results = parallel(download_image, posts.find(), params_dict={'t': 'external_link', 'outdir': 'external_link'}, total=posts.estimated_document_count(), n_jobs=20)"
   ]
  },
  {
   "cell_type": "code",
   "execution_count": null,
   "metadata": {
    "Collapsed": "false"
   },
   "outputs": [],
   "source": [
    "dl_results = [\n",
    "    (dl_preview_results, dlthumbnailresults),\n",
    "    (dl_thumbnail_results, dlpreviewresults),\n",
    "    (dl_external_link_results, dlexternalresults)\n",
    "]\n",
    "\n",
    "for results, outdb in dl_results:\n",
    "    for r in results:\n",
    "        r['dest'] = str(r['dest'])\n",
    "\n",
    "    outdb.drop()\n",
    "    outdb.insert_many(results)"
   ]
  },
  {
   "cell_type": "code",
   "execution_count": null,
   "metadata": {
    "Collapsed": "false"
   },
   "outputs": [],
   "source": [
    "Counter([r['status'] for r in dl_thumbnail_results])"
   ]
  },
  {
   "cell_type": "code",
   "execution_count": null,
   "metadata": {
    "Collapsed": "false"
   },
   "outputs": [],
   "source": [
    "Counter([r['status'] for r in dl_preview_results])"
   ]
  },
  {
   "cell_type": "code",
   "execution_count": null,
   "metadata": {
    "Collapsed": "false"
   },
   "outputs": [],
   "source": [
    "Counter([r['status'] for r in dl_external_link_results])"
   ]
  },
  {
   "cell_type": "code",
   "execution_count": null,
   "metadata": {
    "Collapsed": "false"
   },
   "outputs": [],
   "source": [
    "[r for r in dlexternalresults.find({'status': 'imgur_dne'})]"
   ]
  }
 ],
 "metadata": {
  "kernelspec": {
   "display_name": "Python 3",
   "language": "python",
   "name": "python3"
  },
  "language_info": {
   "codemirror_mode": {
    "name": "ipython",
    "version": 3
   },
   "file_extension": ".py",
   "mimetype": "text/x-python",
   "name": "python",
   "nbconvert_exporter": "python",
   "pygments_lexer": "ipython3",
   "version": "3.7.4"
  }
 },
 "nbformat": 4,
 "nbformat_minor": 4
}
