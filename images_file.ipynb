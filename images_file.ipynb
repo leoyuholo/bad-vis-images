{
 "cells": [
  {
   "cell_type": "code",
   "execution_count": null,
   "metadata": {
    "Collapsed": "false"
   },
   "outputs": [],
   "source": [
    "# !pip install ImageHash"
   ]
  },
  {
   "cell_type": "code",
   "execution_count": null,
   "metadata": {
    "Collapsed": "false"
   },
   "outputs": [],
   "source": [
    "from pymongo import MongoClient\n",
    "import os\n",
    "from pathlib import Path\n",
    "from PIL import Image\n",
    "import imagehash\n",
    "from tqdm.notebook import tqdm\n",
    "import numpy as np\n",
    "import json\n",
    "\n",
    "from lib.parallel import parallel"
   ]
  },
  {
   "cell_type": "code",
   "execution_count": null,
   "metadata": {
    "Collapsed": "false"
   },
   "outputs": [],
   "source": [
    "from lib.fix_nested_tqdm import fix_nested_tqdm\n",
    "\n",
    "fix_nested_tqdm()"
   ]
  },
  {
   "cell_type": "code",
   "execution_count": null,
   "metadata": {
    "Collapsed": "false"
   },
   "outputs": [],
   "source": [
    "mongo = MongoClient('172.17.0.1', 27017)\n",
    "db = mongo['bad-vis']\n",
    "imagefiles = db['imagefiles']"
   ]
  },
  {
   "cell_type": "code",
   "execution_count": null,
   "metadata": {
    "Collapsed": "false"
   },
   "outputs": [],
   "source": [
    "images_dir = Path('./images')"
   ]
  },
  {
   "cell_type": "code",
   "execution_count": null,
   "metadata": {
    "Collapsed": "false"
   },
   "outputs": [],
   "source": [
    "class ImageFile ():\n",
    "    _attrs = [\n",
    "        'id',\n",
    "        'post_id',\n",
    "        'image_id',\n",
    "        'short_image_id',\n",
    "        'album',\n",
    "        'index_in_album',\n",
    "        'image_type',\n",
    "        'file_path',\n",
    "        'filename',\n",
    "        'basename',\n",
    "        'ext',\n",
    "        'animated',\n",
    "        'source_platform',\n",
    "        'source',\n",
    "        'size',\n",
    "        'width',\n",
    "        'height',\n",
    "        'ahash',\n",
    "        'phash',\n",
    "        'pshash',\n",
    "        'dhash',\n",
    "        'whash'\n",
    "    ]\n",
    "\n",
    "    def __init__ (self, file_path):\n",
    "        self.file_path = file_path\n",
    "        self.filename = os.path.basename(file_path)\n",
    "        self.basename, self.ext = os.path.splitext(self.filename)\n",
    "        self._im = Image.open(file_path)\n",
    "        self.width, self.height = self._im.size\n",
    "\n",
    "        self._file_path_tokens = self.file_path.split('/')\n",
    "\n",
    "    def digest (self):\n",
    "        return {a:getattr(self, a) for a in ImageFile._attrs}\n",
    "\n",
    "    @property\n",
    "    def size (self):\n",
    "        return os.path.getsize(self.file_path)\n",
    "\n",
    "    @property\n",
    "    def animated (self):\n",
    "        return self._im.is_animated if self._im.format == 'GIF' or self._im.format == 'WEBP' else False\n",
    "\n",
    "    @property\n",
    "    def image_type (self):\n",
    "        return self._file_path_tokens[1]\n",
    "\n",
    "    @property\n",
    "    def source_platform (self):\n",
    "        return self._file_path_tokens[2]\n",
    "\n",
    "    @property\n",
    "    def source (self):\n",
    "        return self._file_path_tokens[3]\n",
    "\n",
    "    @property\n",
    "    def album (self):\n",
    "        return self._file_path_tokens[4] if len(self._file_path_tokens) > 5 else ''\n",
    "\n",
    "    @property\n",
    "    def index_in_album (self):\n",
    "        return int(self.basename.split('-')[0]) if '-' in self.basename else 0\n",
    "\n",
    "    @property\n",
    "    def id (self):\n",
    "        return self.album if self.album else self.basename\n",
    "\n",
    "    @property\n",
    "    def post_id (self):\n",
    "        return f\"{self.source_platform}/{self.source}/{self.id}\"\n",
    "\n",
    "    @property\n",
    "    def image_id (self):\n",
    "        return f\"{self.post_id}:{self.index_in_album}\"\n",
    "\n",
    "    @property\n",
    "    def short_image_id (self):\n",
    "        return f\"{self.id}:{self.index_in_album}\"\n",
    "\n",
    "    @property\n",
    "    def ahash (self):\n",
    "        if not hasattr(self, '_ahash'):\n",
    "            self._ahash = imagehash.average_hash(self._im)\n",
    "        return str(self._ahash)\n",
    "\n",
    "    @property\n",
    "    def phash (self):\n",
    "        if not hasattr(self, '_phash'):\n",
    "            self._phash = imagehash.phash(self._im)\n",
    "        return str(self._phash)\n",
    "\n",
    "    @property\n",
    "    def pshash (self):\n",
    "        if not hasattr(self, '_pshash'):\n",
    "            self._pshash = imagehash.phash_simple(self._im)\n",
    "        return str(self._pshash)\n",
    "\n",
    "    @property\n",
    "    def dhash (self):\n",
    "        if not hasattr(self, '_dhash'):\n",
    "            self._dhash = imagehash.dhash(self._im)\n",
    "        return str(self._dhash)\n",
    "\n",
    "    @property\n",
    "    def whash (self):\n",
    "        if not hasattr(self, '_whash'):\n",
    "            self._whash = imagehash.whash(self._im)\n",
    "        return str(self._whash)"
   ]
  },
  {
   "cell_type": "code",
   "execution_count": null,
   "metadata": {
    "Collapsed": "false"
   },
   "outputs": [],
   "source": [
    "def digest_file (name, root=''):\n",
    "    basename, ext = os.path.splitext(name)\n",
    "    imageFile = ImageFile(os.path.join(root, name))\n",
    "    if not imagefiles.find_one({'file_path': imageFile.file_path}, {'_id': 1}):\n",
    "        imagefiles.insert_one(imageFile.digest())\n",
    "\n",
    "with tqdm(os.walk(images_dir)) as t:\n",
    "    for root, dirs, files in t:\n",
    "        t.set_postfix(root=root)\n",
    "        parallel(digest_file, files, params_dict={'root': root}, tqdm_postfix=root, leave=None)"
   ]
  },
  {
   "cell_type": "code",
   "execution_count": null,
   "metadata": {
    "Collapsed": "false"
   },
   "outputs": [],
   "source": [
    "# import warnings\n",
    "# warnings.filterwarnings(\"error\")\n",
    "# %%capture cap_out --no-stderr\n",
    "# for root, dirs, files in os.walk(images_dir):\n",
    "#     for name in files:\n",
    "#         try:\n",
    "#             imageFile = ImageFile(os.path.join(root, name))\n",
    "#             imageFile.digest()\n",
    "#         except Exception as inst:\n",
    "#             print(f\"Error digesting image: {os.path.join(root, name)} {inst}\")"
   ]
  },
  {
   "cell_type": "code",
   "execution_count": null,
   "metadata": {
    "Collapsed": "false"
   },
   "outputs": [],
   "source": [
    "# with open('error.txt', 'w') as f:\n",
    "#     f.write(cap_out.stdout)"
   ]
  },
  {
   "cell_type": "markdown",
   "metadata": {
    "Collapsed": "false"
   },
   "source": [
    "# Match up reddit preview with Imgur albums"
   ]
  },
  {
   "cell_type": "code",
   "execution_count": null,
   "metadata": {
    "Collapsed": "false"
   },
   "outputs": [],
   "source": [
    "from IPython.display import Image, display"
   ]
  },
  {
   "cell_type": "code",
   "execution_count": null,
   "metadata": {
    "Collapsed": "false"
   },
   "outputs": [],
   "source": [
    "post_ids = {f['post_id'] for f in [f for f in imagefiles.find({'index_in_album': {'$ne': 0}})]}\n",
    "len(post_ids)"
   ]
  },
  {
   "cell_type": "code",
   "execution_count": null,
   "metadata": {
    "Collapsed": "false"
   },
   "outputs": [],
   "source": [
    "hashes = ['phash', 'whash', 'dhash', 'ahash']\n",
    "def make_hashes (image):\n",
    "    return [imagehash.hex_to_hash(image[h]) for h in hashes]\n",
    "\n",
    "def hashes_diff (hashes_x, hashes_y):\n",
    "#     return hashes_x[0] - hashes_y[0]\n",
    "    diffs = [abs(hashes_x[i] - hashes_y[i]) for i in range(len(hashes))]\n",
    "    diffs.sort()\n",
    "    diff = sum(diffs[1:3]) / 2\n",
    "    return diff"
   ]
  },
  {
   "cell_type": "code",
   "execution_count": null,
   "metadata": {
    "Collapsed": "false"
   },
   "outputs": [],
   "source": [
    "for i in post_ids:\n",
    "    related_image_files = [f for f in imagefiles.find({'post_id': i})]\n",
    "    previews = [r for r in related_image_files if r['index_in_album'] == 0]\n",
    "\n",
    "    if len(previews) < 1:\n",
    "        print('No preview image', i)\n",
    "        continue\n",
    "\n",
    "    preview = [p for p in previews if p['image_type'] == 'preview']\n",
    "\n",
    "    if len(preview) == 0:\n",
    "        preview = [p for p in previews if p['image_type'] == 'thumbnail']\n",
    "\n",
    "    if len(preview) > 1:\n",
    "        print('More than 1 preview image', i)\n",
    "        continue\n",
    "\n",
    "    preview = preview[0]\n",
    "\n",
    "    album = [r for r in related_image_files if r['index_in_album'] != 0]\n",
    "    preview_hashes = make_hashes(preview)\n",
    "    album_hashes = [make_hashes(a) for a in album]\n",
    "\n",
    "    distance = [hashes_diff(preview_hashes, ah) for ah in album_hashes]\n",
    "    min_index = np.argmin(np.asarray(distance))\n",
    "#     print(min_index, distance[min_index], preview['image_id'], preview['image_type'])\n",
    "    if distance[min_index] >= 4:\n",
    "        print(min_index, distance[min_index], preview['image_id'], preview['image_type'], distance)\n",
    "        display(Image(filename=preview['file_path']), Image(filename=album[min_index]['file_path']))\n",
    "        break\n",
    "    for p in previews:\n",
    "        new_album = album[min_index]['album']\n",
    "        new_index_in_album = album[min_index]['index_in_album']\n",
    "        imagefiles.update_one({'file_path': p['file_path']},\n",
    "                              {'$set': {\n",
    "                                  'album': new_album,\n",
    "                                  'index_in_album': new_index_in_album,\n",
    "                                  'image_id': p['image_id'].replace(':0', f\":{new_index_in_album}\"),\n",
    "                                  'short_image_id': p['short_image_id'].replace(':0', f\":{new_index_in_album}\")\n",
    "                              }})"
   ]
  }
 ],
 "metadata": {
  "kernelspec": {
   "display_name": "Python 3",
   "language": "python",
   "name": "python3"
  },
  "language_info": {
   "codemirror_mode": {
    "name": "ipython",
    "version": 3
   },
   "file_extension": ".py",
   "mimetype": "text/x-python",
   "name": "python",
   "nbconvert_exporter": "python",
   "pygments_lexer": "ipython3",
   "version": "3.7.4"
  }
 },
 "nbformat": 4,
 "nbformat_minor": 4
}
