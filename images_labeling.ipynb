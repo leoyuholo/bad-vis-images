{
 "cells": [
  {
   "cell_type": "code",
   "execution_count": 1,
   "metadata": {
    "Collapsed": "false"
   },
   "outputs": [],
   "source": [
    "# !pip install pymongo"
   ]
  },
  {
   "cell_type": "code",
   "execution_count": 2,
   "metadata": {
    "Collapsed": "false"
   },
   "outputs": [],
   "source": [
    "from pymongo import MongoClient, DESCENDING\n",
    "from pathlib import Path\n",
    "import datetime\n",
    "import json\n",
    "from pydash import omit, find_index\n",
    "from functools import partial\n",
    "from bson import json_util\n",
    "import os\n",
    "\n",
    "from IPython.display import display, Image, JSON\n",
    "import ipywidgets as widgets\n",
    "from ipywidgets import HBox, VBox, Button, ButtonStyle, AppLayout, Layout, Style\n",
    "\n",
    "from lib.PersistentSet import PersistentSet"
   ]
  },
  {
   "cell_type": "code",
   "execution_count": 3,
   "metadata": {
    "Collapsed": "false"
   },
   "outputs": [],
   "source": [
    "images_dir = Path('./images')\n",
    "gallery_dir = Path('./gallery')\n",
    "handmade_dir = Path('./handmade')\n",
    "label_dir = handmade_dir/'labels'\n",
    "label_dir.mkdir(exist_ok=True)\n",
    "current_ids_filepath = Path('./labeling_current_ids.json')"
   ]
  },
  {
   "cell_type": "code",
   "execution_count": 4,
   "metadata": {
    "Collapsed": "false"
   },
   "outputs": [],
   "source": [
    "mongo = MongoClient('172.17.0.1', 27017)\n",
    "db = mongo['bad-vis']\n",
    "posts = db['posts']\n",
    "visimages = db['visimages']\n",
    "vislabels = db['vislabels']"
   ]
  },
  {
   "cell_type": "markdown",
   "metadata": {
    "Collapsed": "false"
   },
   "source": [
    "# Backup labels"
   ]
  },
  {
   "cell_type": "code",
   "execution_count": 5,
   "metadata": {
    "Collapsed": "false"
   },
   "outputs": [],
   "source": [
    "if os.path.isfile(label_dir/'labels.json'):\n",
    "    os.rename(label_dir/'labels.json', label_dir/f\"labels_{datetime.datetime.now().strftime('%Y%m%d%H%M%S')}.json\")"
   ]
  },
  {
   "cell_type": "code",
   "execution_count": 6,
   "metadata": {
    "Collapsed": "false"
   },
   "outputs": [],
   "source": [
    "json.dump([omit(l, '_id') for l in vislabels.find()], open(label_dir/'labels.json', 'w'), default=json_util.default)"
   ]
  },
  {
   "cell_type": "markdown",
   "metadata": {
    "Collapsed": "false"
   },
   "source": [
    "# Labeling"
   ]
  },
  {
   "cell_type": "code",
   "execution_count": 7,
   "metadata": {
    "Collapsed": "false"
   },
   "outputs": [],
   "source": [
    "remarks_output = widgets.Output()"
   ]
  },
  {
   "cell_type": "code",
   "execution_count": 8,
   "metadata": {
    "Collapsed": "false"
   },
   "outputs": [
    {
     "data": {
      "application/vnd.jupyter.widget-view+json": {
       "model_id": "974616e66e9e4e5baa853d3763264b41",
       "version_major": 2,
       "version_minor": 0
      },
      "text/plain": [
       "Output()"
      ]
     },
     "metadata": {},
     "output_type": "display_data"
    }
   ],
   "source": [
    "remarks_output"
   ]
  },
  {
   "cell_type": "code",
   "execution_count": 41,
   "metadata": {
    "Collapsed": "false"
   },
   "outputs": [],
   "source": [
    "box_height = 800\n",
    "\n",
    "def make_label_box (image_id, next_callback=None, prev_callback=None):\n",
    "    visimage = visimages.find_one({'image_id': image_id})\n",
    "    vislabel = vislabels.find_one({'image_id': image_id}) or {'image_id': image_id, 'labels': [], 'remarks': ''}\n",
    "\n",
    "    labels = set(vislabel['labels'])\n",
    "\n",
    "    output = widgets.Output()\n",
    "\n",
    "    layoutArgs = {\n",
    "        'padding': '10px',\n",
    "        'margin': '5px',\n",
    "        'border': '3px solid lightblue'\n",
    "    }\n",
    "    ckb_layout = Layout(\n",
    "        width='120px'\n",
    "    )\n",
    "    ckb_box_layout = lambda row, col: Layout(\n",
    "        flex_flow='column wrap',\n",
    "        height=f\"{row*30+20}px\",\n",
    "        width=f\"{col*125}px\",\n",
    "        align_content='flex-start'\n",
    "    )\n",
    "\n",
    "    form_item_layout = Layout(**layoutArgs)\n",
    "    image_box_layout = Layout(height=f'{box_height}px', justify_content='center', **layoutArgs)\n",
    "\n",
    "    imageBox = HBox([widgets.Image(value=open(visimage['image_path'], 'rb').read(), width=600, height=box_height, layout=Layout(object_position='center center', object_fit='contain'))], layout=image_box_layout)\n",
    "\n",
    "    link = widgets.HTML(value=f\"<a href='{visimage['url']}' target='_blank'>{visimage['image_id']}</a>\")\n",
    "    image_link = widgets.HTML(value=f\"<a href='http://vpn2d.mydev:7000/projects/bad-vis-browser/{visimage['image_path']}' target='_blank'>{visimage['image_path']}</a>\")\n",
    "\n",
    "    description = widgets.Output()\n",
    "    with description:\n",
    "        print(f\"{find_index(label_img_ids, lambda x: x == image_id)} / {len(label_img_ids)}\")\n",
    "        print(f\"tags: {len(visimage['tags'])}\")\n",
    "        for t in visimage['tags']:\n",
    "            print(t)\n",
    "\n",
    "#     autoLabelCkbs = [widgets.Checkbox(value=False, description=f\"{l}\", disabled=True, indent=False) for l in sorted(visimage['labels']['auto'])]\n",
    "#     autoLabels = VBox([widgets.Label(value=f\"Auto Labels: {len(visimage['labels']['auto'])}\")] + autoLabelCkbs, layout=form_item_layout)\n",
    "\n",
    "    currentLabelsOutput = widgets.Output()\n",
    "    currentLabels = VBox([currentLabelsOutput], layout=form_item_layout)\n",
    "    def show_current_labels ():\n",
    "        currentLabelsOutput.clear_output()\n",
    "        with currentLabelsOutput:\n",
    "            for l in sorted(list(labels)):\n",
    "                print(l)\n",
    "\n",
    "    infoBox = VBox([link, image_link, description, currentLabels, output])\n",
    "#     infoBox = VBox([link, description, autoLabels, currentLabels, output])\n",
    "\n",
    "    def on_ckb_change (change):\n",
    "        ckb = change['owner']\n",
    "        labelName = ckb.tooltip\n",
    "        if change['new']:\n",
    "            labels.add(labelName)\n",
    "            ckb.icon = 'check'\n",
    "            ckb.button_style = 'success'\n",
    "        else:\n",
    "            labels.remove(labelName)\n",
    "            ckb.icon = ''\n",
    "            ckb.button_style = ''\n",
    "        show_current_labels()\n",
    "\n",
    "    labelFormCkbsByCat = {}\n",
    "    labelFormCkbsByName = {}\n",
    "    for cat, names in labelOptions.items():\n",
    "        ckbs = []\n",
    "        for n in names:\n",
    "            name = f\"{cat}:{n}\"\n",
    "            ckb = widgets.ToggleButton(value=False, description=n.capitalize(), tooltip=name, icon='', button_style='', disabled=False, indent=False, layout=ckb_layout)\n",
    "            ckb.observe(on_ckb_change, names='value')\n",
    "            labelFormCkbsByName[name] = ckb\n",
    "            ckbs.append(ckb)\n",
    "        labelFormCkbsByCat[cat] = ckbs\n",
    "    remarks = widgets.Textarea(value=vislabel.get('remarks', ''), layout=Layout(height='180px', width='240px'), disabled=False)\n",
    "    labelFormCkbsByCat['remarks'] = [remarks]\n",
    "\n",
    "    n_rows = 10\n",
    "    labelForm = VBox([\n",
    "        HBox([\n",
    "            VBox([widgets.Label(value=f\"{cat.capitalize()}\")] + [VBox(labelFormCkbsByCat[cat], layout=ckb_box_layout(row=n_rows,col=(-(len(labelFormCkbsByCat[cat])//-n_rows) if cat != 'remarks' else 2)))], layout=form_item_layout)\n",
    "            for cat in row\n",
    "         ])\n",
    "        for row in [['form', 'fault'], ['data', 'layout', 'metaphor', 'media', 'flag', 'remarks']]\n",
    "    ])\n",
    "\n",
    "    def update_label ():\n",
    "        vislabels.find_one_and_update({'image_id': image_id}, {\n",
    "            '$set': {\n",
    "                'labels': sorted(list(labels)),\n",
    "                'remarks': remarks.value,\n",
    "                'updatedAt': datetime.datetime.utcnow()\n",
    "            },\n",
    "            '$setOnInsert': {'createdAt': datetime.datetime.utcnow()}\n",
    "        }, upsert=True)\n",
    "        with remarks_output:\n",
    "            if remarks.value:\n",
    "                print(f\"{remarks.value}\")\n",
    "        with output:\n",
    "            print(f\"{visimage['short_image_id']} updated\")\n",
    "\n",
    "    btns = []\n",
    "\n",
    "    if prev_callback:\n",
    "        updateAndPrevBtn = widgets.Button(description=\"Save -> Prev\", button_style=\"info\")\n",
    "        def update_and_prev (btn):\n",
    "            update_label()\n",
    "            prev_callback(image_id)\n",
    "        updateAndPrevBtn.on_click(update_and_prev)\n",
    "        btns.append(updateAndPrevBtn)\n",
    "\n",
    "    updateBtn = widgets.Button(description=\"Save\", button_style=\"success\")\n",
    "    def update (btn):\n",
    "        update_label()\n",
    "    updateBtn.on_click(update)\n",
    "    btns.append(updateBtn)\n",
    "\n",
    "    if next_callback:\n",
    "        updateAndNextBtn = widgets.Button(description=\"Save -> Next\", button_style=\"info\")\n",
    "        def update_and_next (btn):\n",
    "            update_label()\n",
    "            next_callback(image_id)\n",
    "        updateAndNextBtn.on_click(update_and_next)\n",
    "        btns.append(updateAndNextBtn)\n",
    "\n",
    "    btnBox = HBox(btns)\n",
    "\n",
    "    panelBoxLayout = Layout(\n",
    "        justify_content= 'flex-start',\n",
    "        align_items= 'flex-start',\n",
    "        align_content= 'flex-start',\n",
    "    )\n",
    "    panelBox = VBox([labelForm, btnBox], layout=panelBoxLayout)\n",
    "\n",
    "#     for ckb in autoLabelCkbs:\n",
    "#         widgets.link((ckb, 'value'), (labelFormCkbsByName[ckb.description], 'value'))\n",
    "\n",
    "    for l in labels:\n",
    "        labelFormCkbsByName[l].value = True\n",
    "\n",
    "    with output:\n",
    "        print('ready')\n",
    "\n",
    "    pane_widths = [2, 4, 1]\n",
    "    return AppLayout(left_sidebar=imageBox, center=panelBox, right_sidebar=infoBox, pane_widths=pane_widths, height=f'{box_height+10}px')"
   ]
  },
  {
   "cell_type": "code",
   "execution_count": 10,
   "metadata": {
    "Collapsed": "false"
   },
   "outputs": [],
   "source": [
    "current_ids = ''\n",
    "if not os.path.isfile(current_ids_filepath):\n",
    "    current_ids = PersistentSet()\n",
    "    current_ids.set_file(current_ids_filepath)\n",
    "else:\n",
    "    current_ids = PersistentSet.load_set(current_ids_filepath)"
   ]
  },
  {
   "cell_type": "code",
   "execution_count": 11,
   "metadata": {
    "Collapsed": "false"
   },
   "outputs": [],
   "source": [
    "visImages = [i for i in visimages.find()]\n",
    "visImages.sort(key=lambda x: x['popularity_score'])\n",
    "visImages.reverse()\n",
    "\n",
    "def label_images ():\n",
    "    for i in visImages:\n",
    "        visLabel = vislabels.find_one({'image_id': i['image_id']})\n",
    "        if visLabel == None:\n",
    "            yield i['image_id']\n",
    "\n",
    "label_img_ids = [i['image_id'] for i in visImages]"
   ]
  },
  {
   "cell_type": "code",
   "execution_count": 34,
   "metadata": {
    "Collapsed": "false"
   },
   "outputs": [],
   "source": [
    "cell_outputs = [widgets.Output(layout=Layout(height=f'{box_height+30}px')) for i in range(len(current_ids))]"
   ]
  },
  {
   "cell_type": "code",
   "execution_count": 42,
   "metadata": {
    "Collapsed": "false"
   },
   "outputs": [],
   "source": [
    "labelOptions = {\n",
    "    'form': [\n",
    "        'barchart', 'linechart', 'scatterplot', 'dotplot', 'barcodechart', 'areachart', 'histogram',\n",
    "        'nodelink', 'radarchart', 'bubblechart', 'dumbbellplot',\n",
    "        'piechart', 'donutchart',\n",
    "        'pyramid', 'venn', 'choropleth', 'flowmap', 'map', 'chernoffface',\n",
    "        'table', 'heatmap', 'treemap',\n",
    "        'boxplot', 'violinplot', 'parallelcoor', 'streamgraph',\n",
    "        'pictogram', 'guagechart', 'sankeydiagram', 'chorddiagram', 'sunbrust',\n",
    "        'unknown'\n",
    "    ],\n",
    "    'data': [\n",
    "        'categorical', 'quantitative', 'indexvalue', 'accumulated',\n",
    "        'percentage', 'probability',\n",
    "        'ordinal', 'ranking', 'sequential',\n",
    "        'timeseries', 'cyclic',\n",
    "        'geospatial', 'flow',\n",
    "        'network', 'tree',\n",
    "        'set', 'bitmap',\n",
    "        'text', 'multivariate',\n",
    "    ],\n",
    "#     'encoding': [\n",
    "#         'position', 'position(unaligned)', 'length', 'area', 'tilt',\n",
    "#         'curvature', 'region', 'motion', 'shape',\n",
    "#         'depth', 'volume',\n",
    "#         'luminance', 'saturation', 'hue'\n",
    "#     ],\n",
    "#     'mark': [\n",
    "#         'line', 'rectangle', 'point'\n",
    "#     ],\n",
    "    'layout': [\n",
    "        'circular', 'infographics', 'stacked', 'map', 'juxtaposition', 'overlay', 'mixed'\n",
    "    ],\n",
    "    'metaphor': [\n",
    "        'pictograph', 'periodictable', 'gear', 'clock'\n",
    "    ],\n",
    "    'media': [\n",
    "        'inreallife', 'printed', 'handdrawn', 'tv', 'ads', 'news', 'NSFW'\n",
    "    ],\n",
    "    'fault': [\n",
    "        'percentage', 'percentage:sum', 'percentage:encoding',\n",
    "        'label', 'description',\n",
    "        'axis', 'axis:label', 'axis:flipped', 'axis:truncated', 'axis:double', # axis:dual\n",
    "        'legend',\n",
    "        'color', 'color:over12',\n",
    "        'scale', 'scale:log', 'scale:inconsistent', 'binning',\n",
    "        'area',\n",
    "        'picto:distortion', 'picto:area',\n",
    "        'position', 'itemorder',\n",
    "        'connection',\n",
    "        '3d', 'animation',\n",
    "        'cluttering', 'occulusion',\n",
    "        'data:selective', 'data:questionable', 'data:missingvalues', 'data:redundant',\n",
    "        'index:comparison', # index:crossbasiscomparison\n",
    "        'parody', 'faultylogic', 'missingcontext',\n",
    "        'confirmationbias', 'chartjunk', 'betteralternative',\n",
    "        'faultystatistics', 'invalidcomparison',\n",
    "        'map:population', 'invalidencoding',\n",
    "        'unreadable', 'visuallyawful'\n",
    "    ],\n",
    "    'flag': [\n",
    "        'needreview', 'invalid', 'notbad', 'starred'\n",
    "    ]\n",
    "}"
   ]
  },
  {
   "cell_type": "code",
   "execution_count": 43,
   "metadata": {
    "Collapsed": "false"
   },
   "outputs": [],
   "source": [
    "def prev_id (image_id):\n",
    "    i = image_id\n",
    "    while i in current_ids:\n",
    "        if i == label_img_ids[0]:\n",
    "            break\n",
    "        i = label_img_ids[max(0, find_index(label_img_ids, lambda x: x == i) - 1)]\n",
    "    current_ids.persist_remove(image_id)\n",
    "    current_ids.persist_add(i)\n",
    "    return i\n",
    "\n",
    "def next_id (image_id):\n",
    "    i = image_id\n",
    "    while i in current_ids:\n",
    "        if i == label_img_ids[-1]:\n",
    "            break\n",
    "        i = label_img_ids[min(len(label_img_ids), find_index(label_img_ids, lambda x: x == i) + 1)]\n",
    "    current_ids.persist_remove(image_id)\n",
    "    current_ids.persist_add(i)\n",
    "    return i\n",
    "\n",
    "def prev_img (output, image_id):\n",
    "    show_img(prev_id(image_id), output)\n",
    "\n",
    "def next_img (output, image_id):\n",
    "    show_img(next_id(image_id), output)\n",
    "\n",
    "def show_img (image_id, output=None):\n",
    "    output.clear_output()\n",
    "    with output:\n",
    "        display(make_label_box(image_id, next_callback=partial(next_img, output), prev_callback=partial(prev_img, output)))\n",
    "\n",
    "for i, current_id in zip(range(len(current_ids)), list(current_ids)):\n",
    "    show_img(current_id, cell_outputs[i])"
   ]
  },
  {
   "cell_type": "code",
   "execution_count": 37,
   "metadata": {
    "Collapsed": "false"
   },
   "outputs": [
    {
     "data": {
      "application/vnd.jupyter.widget-view+json": {
       "model_id": "f52bb5fde61f4f8483875cdc9960e6bf",
       "version_major": 2,
       "version_minor": 0
      },
      "text/plain": [
       "VBox(children=(Output(layout=Layout(height='830px'), outputs=({'output_type': 'display_data', 'data': {'text/p…"
      ]
     },
     "metadata": {},
     "output_type": "display_data"
    }
   ],
   "source": [
    "VBox(cell_outputs)"
   ]
  },
  {
   "cell_type": "code",
   "execution_count": 16,
   "metadata": {
    "Collapsed": "false"
   },
   "outputs": [],
   "source": [
    "# visImages = [i for i in visimages.find()]\n",
    "# visImages.sort(key=lambda x: x['popularity_score'])\n",
    "# visImages.reverse()\n",
    "\n",
    "# def label_images ():\n",
    "#     for i in visImages:\n",
    "#         visLabel = vislabels.find_one({'image_id': i['image_id']})\n",
    "#         if visLabel == None:\n",
    "#             yield i['image_id']\n",
    "\n",
    "# cell_output = widgets.Output()\n",
    "# label_img_ids = [i for i in label_images()]\n",
    "# current = {'image_id': label_img_ids[0]}"
   ]
  },
  {
   "cell_type": "code",
   "execution_count": 17,
   "metadata": {
    "Collapsed": "false"
   },
   "outputs": [],
   "source": [
    "# def prev_img (image_id):\n",
    "#     show_img(label_img_ids[max(0, find_index(label_img_ids, lambda x: x == image_id) - 1)])\n",
    "\n",
    "# def next_img (image_id):\n",
    "#     show_img(label_img_ids[min(len(label_img_ids), find_index(label_img_ids, lambda x: x == image_id) + 1)])\n",
    "\n",
    "# def show_img (image_id):\n",
    "#     current['image_id'] = image_id\n",
    "#     cell_output.clear_output()\n",
    "#     with cell_output:\n",
    "#         display(make_label_box(image_id, next_callback=next_img, prev_callback=prev_img))\n",
    "\n",
    "# show_img(current['image_id'])"
   ]
  },
  {
   "cell_type": "code",
   "execution_count": 18,
   "metadata": {
    "Collapsed": "false"
   },
   "outputs": [],
   "source": [
    "# cell_output"
   ]
  },
  {
   "cell_type": "code",
   "execution_count": 19,
   "metadata": {
    "Collapsed": "false"
   },
   "outputs": [],
   "source": [
    "# label_img = label_images()"
   ]
  },
  {
   "cell_type": "code",
   "execution_count": 20,
   "metadata": {
    "Collapsed": "false"
   },
   "outputs": [],
   "source": [
    "# for i in range(3):\n",
    "#     try:\n",
    "#         next_image_id = next(label_img)\n",
    "#     except StopIteration:\n",
    "#         print('StopIteration')\n",
    "#         break\n",
    "\n",
    "#     display(make_label_box(next_image_id))"
   ]
  },
  {
   "cell_type": "code",
   "execution_count": 21,
   "metadata": {
    "Collapsed": "false"
   },
   "outputs": [],
   "source": [
    "# def make_colored_text (color, text):\n",
    "#     return r'\\(\\color{' + color + '} {' + text + '}\\)'"
   ]
  }
 ],
 "metadata": {
  "kernelspec": {
   "display_name": "Python 3",
   "language": "python",
   "name": "python3"
  },
  "language_info": {
   "codemirror_mode": {
    "name": "ipython",
    "version": 3
   },
   "file_extension": ".py",
   "mimetype": "text/x-python",
   "name": "python",
   "nbconvert_exporter": "python",
   "pygments_lexer": "ipython3",
   "version": "3.7.6"
  }
 },
 "nbformat": 4,
 "nbformat_minor": 4
}
