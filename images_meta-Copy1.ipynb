{
 "cells": [
  {
   "cell_type": "code",
   "execution_count": null,
   "metadata": {
    "Collapsed": "false"
   },
   "outputs": [],
   "source": [
    "# !pip install ImageHash"
   ]
  },
  {
   "cell_type": "code",
   "execution_count": null,
   "metadata": {
    "Collapsed": "false"
   },
   "outputs": [],
   "source": [
    "from pymongo import MongoClient\n",
    "import os\n",
    "from pathlib import Path\n",
    "from PIL import Image\n",
    "import imagehash\n",
    "import numpy as np\n",
    "from tqdm.notebook import tqdm"
   ]
  },
  {
   "cell_type": "code",
   "execution_count": null,
   "metadata": {
    "Collapsed": "false"
   },
   "outputs": [],
   "source": [
    "mongo = MongoClient('172.17.0.1', 27017)\n",
    "db = mongo['bad-vis']\n",
    "imagesmeta = db['imagesmeta']"
   ]
  },
  {
   "cell_type": "code",
   "execution_count": null,
   "metadata": {
    "Collapsed": "false"
   },
   "outputs": [],
   "source": [
    "images_dir = Path('./images')"
   ]
  },
  {
   "cell_type": "code",
   "execution_count": null,
   "metadata": {
    "Collapsed": "false"
   },
   "outputs": [],
   "source": [
    "class ImageFile ():\n",
    "    _attrs = [\n",
    "        'id',\n",
    "        'post_id',\n",
    "        'file_path',\n",
    "        'filename',\n",
    "        'ext',\n",
    "        'size',\n",
    "        'width',\n",
    "        'height',\n",
    "        'ahash',\n",
    "        'phash',\n",
    "        'pshash',\n",
    "        'dhash',\n",
    "        'whash'\n",
    "    ]\n",
    "\n",
    "    def digest (self):\n",
    "        return {a:str(getattr(self, a)) for a in ImageFile._attrs}\n",
    "\n",
    "    def __init__ (self, file_path):\n",
    "        self.file_path = file_path\n",
    "        self.filename = os.path.basename(file_path)\n",
    "        self.id, self.ext = os.path.splitext(self.filename)\n",
    "        self._im = Image.open(file_path)\n",
    "        self.width, self.height = self._im.size\n",
    "\n",
    "    @property\n",
    "    def post_id (self):\n",
    "        return ('/').join(self.file_path.split('/')[-3:-1]) + '/' + self.id\n",
    "\n",
    "    @property\n",
    "    def size (self):\n",
    "        return os.path.getsize(self.file_path)\n",
    "\n",
    "    @property\n",
    "    def ahash (self):\n",
    "        if not hasattr(self, '_ahash'):\n",
    "            self._ahash = imagehash.average_hash(self._im)\n",
    "        return self._ahash\n",
    "\n",
    "    @property\n",
    "    def phash (self):\n",
    "        if not hasattr(self, '_phash'):\n",
    "            self._phash = imagehash.phash(self._im)\n",
    "        return self._phash\n",
    "\n",
    "    @property\n",
    "    def pshash (self):\n",
    "        if not hasattr(self, '_pshash'):\n",
    "            self._pshash = imagehash.phash_simple(self._im)\n",
    "        return self._pshash\n",
    "\n",
    "    @property\n",
    "    def dhash (self):\n",
    "        if not hasattr(self, '_dhash'):\n",
    "            self._dhash = imagehash.dhash(self._im)\n",
    "        return self._dhash\n",
    "\n",
    "    @property\n",
    "    def whash (self):\n",
    "        if not hasattr(self, '_whash'):\n",
    "            self._whash = imagehash.whash(self._im)\n",
    "        return self._whash"
   ]
  },
  {
   "cell_type": "code",
   "execution_count": null,
   "metadata": {
    "Collapsed": "false"
   },
   "outputs": [],
   "source": [
    "path = images_dir/'preview'/'tumblr'\n",
    "\n",
    "imageFiles = [ImageFile(os.path.join(root, name)) for root, dirs, files in os.walk(path) for name in files]"
   ]
  },
  {
   "cell_type": "code",
   "execution_count": null,
   "metadata": {
    "Collapsed": "false"
   },
   "outputs": [],
   "source": [
    "num_images = len(imageFiles)"
   ]
  },
  {
   "cell_type": "code",
   "execution_count": null,
   "metadata": {
    "Collapsed": "false"
   },
   "outputs": [],
   "source": [
    "imageFiles[0].ahash - imageFiles[1].ahash"
   ]
  },
  {
   "cell_type": "code",
   "execution_count": null,
   "metadata": {
    "Collapsed": "false"
   },
   "outputs": [],
   "source": [
    "adistance = np.ndarray(shape=(len(imageFiles), len(imageFiles)))\n",
    "for i in tqdm(range(len(imageFiles))):\n",
    "    for j in range(i+1):\n",
    "        diff = imageFiles[i].ahash - imageFiles[j].ahash\n",
    "        adistance[i][j] = diff\n",
    "        adistance[j][i] = diff"
   ]
  },
  {
   "cell_type": "code",
   "execution_count": null,
   "metadata": {
    "Collapsed": "false"
   },
   "outputs": [],
   "source": [
    "pdistance = np.ndarray(shape=(len(imageFiles), len(imageFiles)))\n",
    "for i in tqdm(range(len(imageFiles))):\n",
    "    for j in range(i+1):\n",
    "        diff = imageFiles[i].phash - imageFiles[j].phash\n",
    "        pdistance[i][j] = diff\n",
    "        pdistance[j][i] = diff"
   ]
  },
  {
   "cell_type": "code",
   "execution_count": null,
   "metadata": {
    "Collapsed": "false"
   },
   "outputs": [],
   "source": [
    "psdistance = np.ndarray(shape=(len(imageFiles), len(imageFiles)))\n",
    "for i in tqdm(range(len(imageFiles))):\n",
    "    for j in range(i+1):\n",
    "        diff = imageFiles[i].pshash - imageFiles[j].pshash\n",
    "        psdistance[i][j] = diff\n",
    "        psdistance[j][i] = diff"
   ]
  },
  {
   "cell_type": "code",
   "execution_count": null,
   "metadata": {
    "Collapsed": "false"
   },
   "outputs": [],
   "source": [
    "wdistance = np.ndarray(shape=(len(imageFiles), len(imageFiles)))\n",
    "for i in tqdm(range(len(imageFiles))):\n",
    "    for j in range(i+1):\n",
    "        diff = imageFiles[i].whash - imageFiles[j].whash\n",
    "        wdistance[i][j] = diff\n",
    "        wdistance[j][i] = diff"
   ]
  },
  {
   "cell_type": "code",
   "execution_count": null,
   "metadata": {
    "Collapsed": "false"
   },
   "outputs": [],
   "source": [
    "ddistance = np.ndarray(shape=(len(imageFiles), len(imageFiles)))\n",
    "for i in tqdm(range(len(imageFiles))):\n",
    "    for j in range(i+1):\n",
    "        diff = imageFiles[i].dhash - imageFiles[j].dhash\n",
    "        ddistance[i][j] = diff\n",
    "        ddistance[j][i] = diff"
   ]
  },
  {
   "cell_type": "code",
   "execution_count": null,
   "metadata": {
    "Collapsed": "false"
   },
   "outputs": [],
   "source": [
    "sns.set(rc={'figure.figsize':(10,10)})"
   ]
  },
  {
   "cell_type": "code",
   "execution_count": null,
   "metadata": {
    "Collapsed": "false"
   },
   "outputs": [],
   "source": [
    "ax = sns.heatmap(pdistance, linewidth=0.5, vmax=10)\n",
    "plt.show()"
   ]
  },
  {
   "cell_type": "code",
   "execution_count": null,
   "metadata": {
    "Collapsed": "false"
   },
   "outputs": [],
   "source": [
    "ax = sns.heatmap(ddistance, linewidth=0.5, vmax=10)\n",
    "plt.show()"
   ]
  },
  {
   "cell_type": "code",
   "execution_count": null,
   "metadata": {
    "Collapsed": "false"
   },
   "outputs": [],
   "source": [
    "ax = sns.heatmap(wdistance, linewidth=0.5, vmax=10)\n",
    "plt.show()"
   ]
  },
  {
   "cell_type": "code",
   "execution_count": null,
   "metadata": {
    "Collapsed": "false"
   },
   "outputs": [],
   "source": [
    "ax = sns.heatmap(adistance, linewidth=0.5, vmax=10)\n",
    "plt.show()"
   ]
  },
  {
   "cell_type": "code",
   "execution_count": null,
   "metadata": {
    "Collapsed": "false"
   },
   "outputs": [],
   "source": [
    "ax = sns.heatmap(psdistance, linewidth=0.5, vmax=10)\n",
    "plt.show()"
   ]
  },
  {
   "cell_type": "code",
   "execution_count": null,
   "metadata": {
    "Collapsed": "false"
   },
   "outputs": [],
   "source": [
    "def func ():\n",
    "    cnt = 0\n",
    "\n",
    "    for i in range(num_images):\n",
    "        for j in range(i):\n",
    "            if abs(pdistance[i][j]) < 10 and i != j:\n",
    "                print(cnt, i, j, imageFiles[i].post_id, imageFiles[j].post_id, imageFiles[i].phash, imageFiles[j].phash, pdistance[i][j])\n",
    "                f = plt.figure()\n",
    "                f.add_subplot(1, 2, 1)\n",
    "                plt.imshow(np.asarray(imageFiles[i]._im))\n",
    "                f.add_subplot(1, 2, 2)\n",
    "                plt.imshow(np.asarray(imageFiles[j]._im))\n",
    "                cnt += 1\n",
    "                if cnt == 24:\n",
    "                    return\n",
    "func()"
   ]
  },
  {
   "cell_type": "code",
   "execution_count": null,
   "metadata": {
    "Collapsed": "false"
   },
   "outputs": [],
   "source": []
  }
 ],
 "metadata": {
  "kernelspec": {
   "display_name": "Python 3",
   "language": "python",
   "name": "python3"
  },
  "language_info": {
   "codemirror_mode": {
    "name": "ipython",
    "version": 3
   },
   "file_extension": ".py",
   "mimetype": "text/x-python",
   "name": "python",
   "nbconvert_exporter": "python",
   "pygments_lexer": "ipython3",
   "version": "3.7.3"
  }
 },
 "nbformat": 4,
 "nbformat_minor": 4
}
