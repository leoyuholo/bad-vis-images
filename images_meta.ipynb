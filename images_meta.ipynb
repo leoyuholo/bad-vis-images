{
 "cells": [
  {
   "cell_type": "code",
   "execution_count": 1,
   "metadata": {
    "Collapsed": "false"
   },
   "outputs": [],
   "source": [
    "# !pip install pydash"
   ]
  },
  {
   "cell_type": "code",
   "execution_count": 2,
   "metadata": {
    "Collapsed": "false"
   },
   "outputs": [],
   "source": [
    "from pymongo import MongoClient\n",
    "from functools import cmp_to_key\n",
    "from pathlib import Path\n",
    "import imagehash\n",
    "from tqdm.notebook import tqdm\n",
    "import pydash as _\n",
    "import numpy as np\n",
    "import json\n",
    "\n",
    "from IPython.display import display, Image"
   ]
  },
  {
   "cell_type": "code",
   "execution_count": 3,
   "metadata": {
    "Collapsed": "false"
   },
   "outputs": [],
   "source": [
    "mongo = MongoClient('172.17.0.1', 27017)\n",
    "db = mongo['bad-vis']\n",
    "posts = db['posts']\n",
    "imagefiles = db['imagefiles']\n",
    "imagemeta = db['imagemeta']"
   ]
  },
  {
   "cell_type": "code",
   "execution_count": 4,
   "metadata": {
    "Collapsed": "false"
   },
   "outputs": [],
   "source": [
    "images_dir = Path('./images')"
   ]
  },
  {
   "cell_type": "code",
   "execution_count": 5,
   "metadata": {
    "Collapsed": "false"
   },
   "outputs": [],
   "source": [
    "invalid_post_ids = set(json.load(open('handmade/invalid_post_ids.json')))"
   ]
  },
  {
   "cell_type": "code",
   "execution_count": 6,
   "metadata": {
    "Collapsed": "false"
   },
   "outputs": [],
   "source": [
    "invalid_image_phashes = set(json.load(open('handmade/invalid_image_phashes.json')))"
   ]
  },
  {
   "cell_type": "markdown",
   "metadata": {
    "Collapsed": "false"
   },
   "source": [
    "# Group image files into images"
   ]
  },
  {
   "cell_type": "code",
   "execution_count": 7,
   "metadata": {
    "Collapsed": "false"
   },
   "outputs": [
    {
     "data": {
      "text/plain": [
       "8066"
      ]
     },
     "execution_count": 7,
     "metadata": {},
     "output_type": "execute_result"
    }
   ],
   "source": [
    "image_ids =  list({f['image_id'] for f in imagefiles.find()})\n",
    "len(image_ids)"
   ]
  },
  {
   "cell_type": "code",
   "execution_count": 8,
   "metadata": {
    "Collapsed": "false"
   },
   "outputs": [],
   "source": [
    "imageMetas = []"
   ]
  },
  {
   "cell_type": "code",
   "execution_count": 9,
   "metadata": {
    "Collapsed": "false"
   },
   "outputs": [],
   "source": [
    "class ImageMeta ():\n",
    "    _attrs = [\n",
    "        'id',\n",
    "        'post_id',\n",
    "        'image_id',\n",
    "        'short_image_id',\n",
    "        'album',\n",
    "        'index_in_album',\n",
    "        'file_path',\n",
    "        'source_platform',\n",
    "        'source',\n",
    "        'ext',\n",
    "        'animated',\n",
    "        'size',\n",
    "        'width',\n",
    "        'height',\n",
    "        'thumbnail',\n",
    "        'preview',\n",
    "        'external_link',\n",
    "        'archive',\n",
    "        'ahash',\n",
    "        'phash',\n",
    "        'pshash',\n",
    "        'dhash',\n",
    "        'whash',\n",
    "        'duplicated_posts',\n",
    "        'related_images',\n",
    "        'image_order'\n",
    "    ]\n",
    "\n",
    "    rank = {\n",
    "        'archive': 3,\n",
    "        'external': 2,\n",
    "        'preview': 1\n",
    "    }\n",
    "\n",
    "    def __init__ (self, imageFiles=[]):\n",
    "        if len(imageFiles) == 0:\n",
    "            raise Exception('Empty imageFiles array.')\n",
    "        self._imageFiles = imageFiles\n",
    "        self.image_order = self.sort_images()\n",
    "        for k, v in self.main_image.items():\n",
    "            setattr(self, k, v)\n",
    "\n",
    "    def digest (self):\n",
    "        return {a:getattr(self, a) for a in ImageMeta._attrs}\n",
    "\n",
    "    @property\n",
    "    def is_hash_consistent (self):\n",
    "        return _.every([self.hash_consistent(h) for h in ['phash']])\n",
    "#         return _.every([self.hash_consistent(h) for h in ['phash', 'pshash', 'dhash', 'whash']])\n",
    "#         return _.every([self.hash_consistent(hash_type) for hash_type in ['ahash', 'phash', 'pshash', 'dhash', 'whash']])\n",
    "\n",
    "    def hash_distance (self, hash_type):\n",
    "        main_hash = imagehash.hex_to_hash(self.main_image[hash_type])\n",
    "        image_types = [t for t in self.image_order if t != 'thumbnail']\n",
    "        return [imagehash.hex_to_hash(self.find_image_type(t)[hash_type]) - main_hash for t in image_types]\n",
    "\n",
    "    def hash_consistent (self, hash_type):\n",
    "        main_hash = imagehash.hex_to_hash(self.main_image[hash_type])\n",
    "        return _.every(self.hash_distance(hash_type), lambda x: abs(x) < 5) # magic number threshold, by experiment when trying out the imagehash library\n",
    "\n",
    "    @property\n",
    "    def main_image (self):\n",
    "        return getattr(self, self.image_order[0])\n",
    "\n",
    "    @property\n",
    "    def duplicated_posts (self):\n",
    "        post = posts.find_one({'post_id': self.post_id})\n",
    "        return post['duplicated_posts'] if 'duplicated_posts' in post else []\n",
    "\n",
    "    @property\n",
    "    def related_images (self):\n",
    "        return list({f['image_id'] for f in imagefiles.find({'post_id': self.post_id})})\n",
    "\n",
    "    @property\n",
    "    def thumbnail (self):\n",
    "        return self.find_image_type('thumbnail')\n",
    "\n",
    "    @property\n",
    "    def preview (self):\n",
    "        return self.find_image_type('preview')\n",
    "\n",
    "    @property\n",
    "    def external_link (self):\n",
    "        return self.find_image_type('external_link')\n",
    "\n",
    "    @property\n",
    "    def archive (self):\n",
    "        return self.find_image_type('archive')\n",
    "\n",
    "    def find_image_type (self, image_type):\n",
    "        return _.find(self._imageFiles, lambda x: x['image_type'] == image_type)\n",
    "\n",
    "    @property\n",
    "    def available_image_types (self):\n",
    "        return [image_type\n",
    "             for image_type in ['thumbnail', 'preview', 'external_link', 'archive']\n",
    "             if getattr(self, image_type)]\n",
    "\n",
    "    def image_type_rank (self, source):\n",
    "        return ImageMeta.rank.get(source, 0)\n",
    "\n",
    "    def sort_images (self):\n",
    "        def preferred (x, y):\n",
    "            image_x = getattr(self, x)\n",
    "            image_y = getattr(self, y)\n",
    "\n",
    "            # animated over non-animated\n",
    "            if image_x['animated'] != image_y['animated']:\n",
    "                if image_x['animated']:\n",
    "                    return -1\n",
    "                if image_y['animated']:\n",
    "                    return 1\n",
    "\n",
    "            pixels_x = image_x['width'] * image_x['height']\n",
    "            pixels_y = image_y['width'] * image_y['height']\n",
    "            # high resolution over low\n",
    "            if pixels_x != pixels_y:\n",
    "                return pixels_y - pixels_x\n",
    "\n",
    "            # png over others\n",
    "            if image_x['ext'] != image_y['ext']:\n",
    "                if image_x['ext'] == '.png':\n",
    "                    return -1\n",
    "                if image_y['ext'] == '.png':\n",
    "                    return 1\n",
    "\n",
    "            rank_x = self.image_type_rank(image_x['image_type'])\n",
    "            rank_y = self.image_type_rank(image_y['image_type'])\n",
    "            # external over preview\n",
    "            if rank_x != rank_y:\n",
    "                return rank_y - rank_x\n",
    "\n",
    "            return image_y['size'] - image_x['size']\n",
    "\n",
    "        return sorted(self.available_image_types, key=cmp_to_key(preferred))"
   ]
  },
  {
   "cell_type": "code",
   "execution_count": 10,
   "metadata": {
    "Collapsed": "false"
   },
   "outputs": [
    {
     "data": {
      "application/vnd.jupyter.widget-view+json": {
       "model_id": "25dc2b88b492487996200a2de095d9df",
       "version_major": 2,
       "version_minor": 0
      },
      "text/plain": [
       "HBox(children=(FloatProgress(value=0.0, max=8066.0), HTML(value='')))"
      ]
     },
     "metadata": {},
     "output_type": "display_data"
    },
    {
     "name": "stdout",
     "output_type": "stream",
     "text": [
      "All image files are invalid: reddit/dataisugly/921umu:0\n",
      "All image files are invalid: reddit/dataisugly/2hbbbr:0\n",
      "All image files are invalid: reddit/dataisugly/2nwubr:0\n",
      "All image files are invalid: reddit/dataisugly/2ajjde:0\n",
      "All image files are invalid: reddit/dataisugly/40s58x:0\n",
      "All image files are invalid: reddit/dataisugly/4n6jh9:0\n",
      "All image files are invalid: reddit/dataisugly/2zrizi:0\n",
      "All image files are invalid: reddit/dataisugly/1ktavo:0\n",
      "All image files are invalid: reddit/dataisugly/148uv0:0\n",
      "All image files are invalid: reddit/dataisugly/24ammj:0\n",
      "All image files are invalid: reddit/dataisugly/3f3c4w:0\n",
      "All image files are invalid: reddit/dataisugly/29fugw:0\n",
      "All image files are invalid: reddit/dataisugly/1mbw5k:0\n",
      "All image files are invalid: reddit/dataisugly/1nlcmx:0\n",
      "All image files are invalid: reddit/dataisugly/23mkib:0\n",
      "All image files are invalid: reddit/dataisugly/2p3g6k:0\n",
      "All image files are invalid: reddit/dataisugly/54srjj:0\n",
      "All image files are invalid: reddit/dataisugly/2o08rl:0\n",
      "All image files are invalid: reddit/dataisugly/3zcw30:0\n",
      "All image files are invalid: reddit/dataisugly/24knuu:0\n",
      "All image files are invalid: reddit/dataisugly/2xoi4e:0\n",
      "All image files are invalid: reddit/dataisugly/3tg3am:0\n",
      "All image files are invalid: reddit/dataisugly/47oj0j:0\n",
      "All image files are invalid: reddit/dataisugly/2bjxri:0\n",
      "All image files are invalid: reddit/dataisugly/2wfu07:0\n",
      "All image files are invalid: reddit/dataisugly/2x1the:0\n",
      "All image files are invalid: reddit/dataisugly/2l5nix:0\n",
      "All image files are invalid: reddit/dataisugly/13q6qd:0\n",
      "All image files are invalid: reddit/dataisugly/2m1vle:0\n",
      "All image files are invalid: reddit/dataisugly/28rgez:0\n",
      "All image files are invalid: reddit/dataisugly/93hkmk:0\n",
      "All image files are invalid: reddit/dataisugly/5iobqn:0\n",
      "All image files are invalid: reddit/dataisugly/2zp3lb:0\n",
      "All image files are invalid: reddit/dataisugly/245agu:0\n",
      "All image files are invalid: reddit/dataisugly/5i4fyf:0\n",
      "All image files are invalid: reddit/dataisugly/1zzxxs:0\n",
      "All image files are invalid: reddit/dataisugly/4immw6:0\n",
      "All image files are invalid: reddit/dataisugly/1tclw5:0\n",
      "All image files are invalid: reddit/dataisugly/2o4m8n:0\n",
      "All image files are invalid: reddit/dataisugly/3pcwdn:0\n",
      "All image files are invalid: reddit/dataisugly/3cd39x:0\n",
      "All image files are invalid: reddit/dataisugly/36vg4y:0\n",
      "All image files are invalid: reddit/dataisugly/8noc3e:0\n",
      "All image files are invalid: reddit/dataisugly/30zqtf:0\n",
      "All image files are invalid: reddit/dataisugly/3ie62k:0\n",
      "All image files are invalid: reddit/dataisugly/31qrc2:0\n",
      "All image files are invalid: reddit/dataisugly/8e9kjh:0\n",
      "All image files are invalid: reddit/dataisugly/4vozlw:0\n",
      "All image files are invalid: reddit/dataisugly/5i4i7k:0\n",
      "All image files are invalid: reddit/dataisugly/3or2g0:0\n",
      "All image files are invalid: reddit/dataisugly/683b4i:0\n",
      "All image files are invalid: reddit/dataisugly/5p549g:0\n",
      "All image files are invalid: reddit/dataisugly/9ifxcs:3\n",
      "All image files are invalid: reddit/dataisugly/34xxf6:0\n",
      "All image files are invalid: reddit/dataisugly/308tua:0\n",
      "\n"
     ]
    }
   ],
   "source": [
    "for image_id in tqdm(image_ids):\n",
    "    imageFiles = [i for i in imagefiles.find({'image_id': image_id})]\n",
    "\n",
    "    if imageFiles[0]['post_id'] in invalid_post_ids:\n",
    "        continue\n",
    "\n",
    "    valid_imageFiles = [i for i in imageFiles if i['phash'] not in invalid_image_phashes]\n",
    "    if len(valid_imageFiles) == 0:\n",
    "        print(f\"All image files are invalid: {image_id}\")\n",
    "#         display(*[Image(filename=i['file_path']) for i in imageFiles])\n",
    "        continue\n",
    "\n",
    "    for i in valid_imageFiles:\n",
    "        del i['_id']\n",
    "    imageMeta = ImageMeta(valid_imageFiles)\n",
    "    imagemeta.replace_one({'image_id': imageMeta.image_id}, imageMeta.digest(), upsert=True)\n",
    "    imageMetas.append(imageMeta)"
   ]
  },
  {
   "cell_type": "markdown",
   "metadata": {
    "Collapsed": "false"
   },
   "source": [
    "# Find images with inconsistent hash"
   ]
  },
  {
   "cell_type": "code",
   "execution_count": 11,
   "metadata": {
    "Collapsed": "false"
   },
   "outputs": [],
   "source": [
    "images = []"
   ]
  },
  {
   "cell_type": "code",
   "execution_count": 12,
   "metadata": {
    "Collapsed": "false"
   },
   "outputs": [],
   "source": [
    "processed_image_id = set()"
   ]
  },
  {
   "cell_type": "code",
   "execution_count": 13,
   "metadata": {
    "Collapsed": "false"
   },
   "outputs": [],
   "source": [
    "examed_images = [\n",
    "    'reddit/dataisugly/2wkifl:0', # image edited, bottom right corner\n",
    "    'reddit/dataisbeautiful/bx1fzb:0', # image edited, color and others changed\n",
    "    'reddit/dataisugly/basasb:0', # transparent background in png\n",
    "    'reddit/dataisugly/6aiz8g:0', # transparent background in png\n",
    "    'reddit/dataisugly/blxz6t:0', # visually the same\n",
    "    'reddit/dataisugly/3asdm5:0', # visually the same\n",
    "    'reddit/dataisugly/4pp4ua:0', # visually the same\n",
    "    'reddit/dataisugly/8a69j1:1', # visually the same\n",
    "    'reddit/dataisugly/20mwkm:0', # visually the same\n",
    "    'reddit/dataisugly/5icrv4:0', # visually the same\n",
    "    'reddit/dataisugly/b8jz25:0', # preview clipped\n",
    "#     'reddit/dataisugly/148fmk:0', # expired imgur\n",
    "#     'reddit/dataisugly/1asr8h:0', # wrong preview, thumbnail\n",
    "#     'reddit/dataisugly/2htbld:0', # wrong preview, thumbnail\n",
    "#     'reddit/dataisugly/4aujij:0', # wrong preview, thumbnail\n",
    "#     'reddit/dataisugly/4eymb0:0', # wrong preview, thumbnail\n",
    "#     'reddit/dataisugly/3cdyxc:0', # external_link tinypic.com expired\n",
    "#     'reddit/dataisugly/4au6ms:0', # only archive image is valid\n",
    "#     'reddit/dataisugly/3mu2oh:0', # only archive image is valid\n",
    "#     'reddit/dataisugly/34g2jr:0', # only archive image is valid\n",
    "#     'reddit/dataisugly/40hq6g:0', # only archive image is valid\n",
    "#     'reddit/dataisugly/4a4j9m:0', # only archive image is valid\n",
    "#     'reddit/dataisugly/3hg337:0', # only archive image is valid\n",
    "]"
   ]
  },
  {
   "cell_type": "code",
   "execution_count": 14,
   "metadata": {
    "Collapsed": "false"
   },
   "outputs": [
    {
     "data": {
      "application/vnd.jupyter.widget-view+json": {
       "model_id": "c508c58c836c4428a77a30591e252484",
       "version_major": 2,
       "version_minor": 0
      },
      "text/plain": [
       "HBox(children=(FloatProgress(value=0.0, max=7999.0), HTML(value='')))"
      ]
     },
     "metadata": {},
     "output_type": "display_data"
    },
    {
     "name": "stdout",
     "output_type": "stream",
     "text": [
      "\n"
     ]
    }
   ],
   "source": [
    "for imageMeta in tqdm(imageMetas):\n",
    "    if imageMeta.image_id in processed_image_id:\n",
    "        continue\n",
    "    if not imageMeta.is_hash_consistent and imageMeta.image_id not in examed_images:\n",
    "        print(imageMeta.image_id)\n",
    "        print(imageMeta.image_order)\n",
    "        print(imageMeta.hash_distance('phash'))\n",
    "        print([imageMeta.find_image_type(i)['phash'] for i in imageMeta.image_order])\n",
    "        print([imageMeta.find_image_type(i)['ext'] for i in imageMeta.image_order])\n",
    "        print([imageMeta.find_image_type(i)['width'] for i in imageMeta.image_order])\n",
    "        print([imageMeta.find_image_type(i)['height'] for i in imageMeta.image_order])\n",
    "        print([imageMeta.find_image_type(i)['size'] for i in imageMeta.image_order])\n",
    "        images = [imageMeta.find_image_type(i)['file_path'] for i in imageMeta.image_order]\n",
    "        break\n",
    "    processed_image_id.add(imageMeta.image_id)"
   ]
  },
  {
   "cell_type": "code",
   "execution_count": 15,
   "metadata": {
    "Collapsed": "false"
   },
   "outputs": [],
   "source": [
    "if images and len(images) > 0:\n",
    "    display(*[Image(filename=i) for i in images])"
   ]
  },
  {
   "cell_type": "code",
   "execution_count": null,
   "metadata": {
    "Collapsed": "false"
   },
   "outputs": [],
   "source": []
  }
 ],
 "metadata": {
  "kernelspec": {
   "display_name": "Python 3",
   "language": "python",
   "name": "python3"
  },
  "language_info": {
   "codemirror_mode": {
    "name": "ipython",
    "version": 3
   },
   "file_extension": ".py",
   "mimetype": "text/x-python",
   "name": "python",
   "nbconvert_exporter": "python",
   "pygments_lexer": "ipython3",
   "version": "3.7.4"
  },
  "widgets": {
   "application/vnd.jupyter.widget-state+json": {
    "state": {
     "10f8a5ca755b4a6ca22b95b79c39ae78": {
      "model_module": "@jupyter-widgets/base",
      "model_module_version": "1.2.0",
      "model_name": "LayoutModel",
      "state": {}
     },
     "114a410f07d74359897fb8fe9d8bd4e6": {
      "model_module": "@jupyter-widgets/controls",
      "model_module_version": "1.5.0",
      "model_name": "ProgressStyleModel",
      "state": {
       "description_width": "initial"
      }
     },
     "18c8d1b0dc854c289539cd442a8a666f": {
      "model_module": "@jupyter-widgets/controls",
      "model_module_version": "1.5.0",
      "model_name": "HTMLModel",
      "state": {
       "layout": "IPY_MODEL_5aee68b8a05145d49036b439f223cc80",
       "style": "IPY_MODEL_d3d3c961723447389cbc4671443998f4",
       "value": " 7999/7999 [20:09&lt;00:00,  6.62it/s]"
      }
     },
     "35dae7b3de55490fb56556e2012d397b": {
      "model_module": "@jupyter-widgets/controls",
      "model_module_version": "1.5.0",
      "model_name": "ProgressStyleModel",
      "state": {
       "description_width": "initial"
      }
     },
     "51c1664e3e294c03b0a142d7470ee0a9": {
      "model_module": "@jupyter-widgets/base",
      "model_module_version": "1.2.0",
      "model_name": "LayoutModel",
      "state": {}
     },
     "5a305fe6d3b04193b068d3c720a2ce80": {
      "model_module": "@jupyter-widgets/controls",
      "model_module_version": "1.5.0",
      "model_name": "HTMLModel",
      "state": {
       "layout": "IPY_MODEL_f021203cce5941d5b2f4daa146979a97",
       "style": "IPY_MODEL_eb7921a1228a442b9e88c23320a77c6d",
       "value": " 8066/8066 [02:29&lt;00:00, 53.89it/s]"
      }
     },
     "5aee68b8a05145d49036b439f223cc80": {
      "model_module": "@jupyter-widgets/base",
      "model_module_version": "1.2.0",
      "model_name": "LayoutModel",
      "state": {}
     },
     "7ce32ac60e04449ab8c4c4a0d4adef79": {
      "model_module": "@jupyter-widgets/base",
      "model_module_version": "1.2.0",
      "model_name": "LayoutModel",
      "state": {}
     },
     "7f584b9f170c41dfab6f4c852c0f4d18": {
      "model_module": "@jupyter-widgets/controls",
      "model_module_version": "1.5.0",
      "model_name": "FloatProgressModel",
      "state": {
       "bar_style": "success",
       "description": "100%",
       "layout": "IPY_MODEL_7ce32ac60e04449ab8c4c4a0d4adef79",
       "max": 7999,
       "style": "IPY_MODEL_35dae7b3de55490fb56556e2012d397b",
       "value": 7999
      }
     },
     "c5c8ae60e5cb4accbfad79e35abfc345": {
      "model_module": "@jupyter-widgets/controls",
      "model_module_version": "1.5.0",
      "model_name": "HBoxModel",
      "state": {
       "children": [
        "IPY_MODEL_f64cdc2233a34315bde8c40ab3f16d86",
        "IPY_MODEL_5a305fe6d3b04193b068d3c720a2ce80"
       ],
       "layout": "IPY_MODEL_10f8a5ca755b4a6ca22b95b79c39ae78"
      }
     },
     "d3d3c961723447389cbc4671443998f4": {
      "model_module": "@jupyter-widgets/controls",
      "model_module_version": "1.5.0",
      "model_name": "DescriptionStyleModel",
      "state": {
       "description_width": ""
      }
     },
     "e3f573de85ce416d83775827bd9e897a": {
      "model_module": "@jupyter-widgets/base",
      "model_module_version": "1.2.0",
      "model_name": "LayoutModel",
      "state": {}
     },
     "eb7921a1228a442b9e88c23320a77c6d": {
      "model_module": "@jupyter-widgets/controls",
      "model_module_version": "1.5.0",
      "model_name": "DescriptionStyleModel",
      "state": {
       "description_width": ""
      }
     },
     "f021203cce5941d5b2f4daa146979a97": {
      "model_module": "@jupyter-widgets/base",
      "model_module_version": "1.2.0",
      "model_name": "LayoutModel",
      "state": {}
     },
     "f0ca0b20e98d4e8782f0331d3680ca99": {
      "model_module": "@jupyter-widgets/controls",
      "model_module_version": "1.5.0",
      "model_name": "HBoxModel",
      "state": {
       "children": [
        "IPY_MODEL_7f584b9f170c41dfab6f4c852c0f4d18",
        "IPY_MODEL_18c8d1b0dc854c289539cd442a8a666f"
       ],
       "layout": "IPY_MODEL_e3f573de85ce416d83775827bd9e897a"
      }
     },
     "f64cdc2233a34315bde8c40ab3f16d86": {
      "model_module": "@jupyter-widgets/controls",
      "model_module_version": "1.5.0",
      "model_name": "FloatProgressModel",
      "state": {
       "bar_style": "success",
       "description": "100%",
       "layout": "IPY_MODEL_51c1664e3e294c03b0a142d7470ee0a9",
       "max": 8066,
       "style": "IPY_MODEL_114a410f07d74359897fb8fe9d8bd4e6",
       "value": 8066
      }
     }
    },
    "version_major": 2,
    "version_minor": 0
   }
  }
 },
 "nbformat": 4,
 "nbformat_minor": 4
}
