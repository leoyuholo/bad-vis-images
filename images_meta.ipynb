{
 "cells": [
  {
   "cell_type": "code",
   "execution_count": 1,
   "metadata": {
    "Collapsed": "false"
   },
   "outputs": [],
   "source": [
    "# !pip install ImageHash"
   ]
  },
  {
   "cell_type": "code",
   "execution_count": 2,
   "metadata": {
    "Collapsed": "false"
   },
   "outputs": [],
   "source": [
    "from pymongo import MongoClient\n",
    "import os\n",
    "from pathlib import Path\n",
    "from PIL import Image\n",
    "import imagehash\n",
    "from tqdm.notebook import tqdm"
   ]
  },
  {
   "cell_type": "code",
   "execution_count": 3,
   "metadata": {
    "Collapsed": "false"
   },
   "outputs": [],
   "source": [
    "mongo = MongoClient('172.17.0.1', 27017)\n",
    "db = mongo['bad-vis']\n",
    "imagesmeta = db['imagesmeta']"
   ]
  },
  {
   "cell_type": "code",
   "execution_count": 4,
   "metadata": {
    "Collapsed": "false"
   },
   "outputs": [],
   "source": [
    "images_dir = Path('./images')"
   ]
  },
  {
   "cell_type": "code",
   "execution_count": 5,
   "metadata": {
    "Collapsed": "false"
   },
   "outputs": [],
   "source": [
    "class ImageFile ():\n",
    "    _attrs = [\n",
    "        'id',\n",
    "        'post_id',\n",
    "        'file_path',\n",
    "        'filename',\n",
    "        'ext',\n",
    "        'size',\n",
    "        'width',\n",
    "        'height',\n",
    "        'ahash',\n",
    "        'phash',\n",
    "        'pshash',\n",
    "        'dhash',\n",
    "        'whash'\n",
    "    ]\n",
    "\n",
    "    def digest (self):\n",
    "        return {a:getattr(self, a) for a in ImageFile._attrs}\n",
    "\n",
    "    def __init__ (self, file_path):\n",
    "        self.file_path = file_path\n",
    "        self.filename = os.path.basename(file_path)\n",
    "        self.id, self.ext = os.path.splitext(self.filename)\n",
    "        self._im = Image.open(file_path)\n",
    "        self.width, self.height = self._im.size\n",
    "\n",
    "    @property\n",
    "    def post_id (self):\n",
    "        return ('/').join(self.file_path.split('/')[-3:-1]) + '/' + self.id\n",
    "\n",
    "    @property\n",
    "    def size (self):\n",
    "        return os.path.getsize(self.file_path)\n",
    "\n",
    "    @property\n",
    "    def ahash (self):\n",
    "        if not hasattr(self, '_ahash'):\n",
    "            self._ahash = imagehash.average_hash(self._im)\n",
    "        return self._ahash\n",
    "\n",
    "    @property\n",
    "    def phash (self):\n",
    "        if not hasattr(self, '_phash'):\n",
    "            self._phash = imagehash.phash(self._im)\n",
    "        return self._phash\n",
    "\n",
    "    @property\n",
    "    def pshash (self):\n",
    "        if not hasattr(self, '_pshash'):\n",
    "            self._pshash = imagehash.phash_simple(self._im)\n",
    "        return self._pshash\n",
    "\n",
    "    @property\n",
    "    def dhash (self):\n",
    "        if not hasattr(self, '_dhash'):\n",
    "            self._dhash = imagehash.dhash(self._im)\n",
    "        return self._dhash\n",
    "\n",
    "    @property\n",
    "    def whash (self):\n",
    "        if not hasattr(self, '_whash'):\n",
    "            self._whash = imagehash.whash(self._im)\n",
    "        return self._whash"
   ]
  },
  {
   "cell_type": "code",
   "execution_count": 6,
   "metadata": {
    "Collapsed": "false"
   },
   "outputs": [],
   "source": [
    "# import warnings\n",
    "# warnings.filterwarnings(\"error\")"
   ]
  },
  {
   "cell_type": "code",
   "execution_count": 8,
   "metadata": {
    "Collapsed": "false"
   },
   "outputs": [
    {
     "name": "stdout",
     "output_type": "stream",
     "text": [
      "Error digesting image: 763yfl.png cannot identify image file 'images/archive/reddit/dataisugly/763yfl.png'\n",
      "Error digesting image: 8oilco.svg cannot identify image file 'images/archive/reddit/dataisugly/8oilco.svg'\n"
     ]
    },
    {
     "name": "stderr",
     "output_type": "stream",
     "text": [
      "/opt/conda/lib/python3.7/site-packages/PIL/Image.py:2731: DecompressionBombWarning: Image size (135364608 pixels) exceeds limit of 89478485 pixels, could be decompression bomb DOS attack.\n",
      "  DecompressionBombWarning,\n"
     ]
    },
    {
     "name": "stdout",
     "output_type": "stream",
     "text": [
      "Error digesting image: 8cwcbu.mp4 cannot identify image file 'images/external_link/reddit/dataisbeautiful/8cwcbu.mp4'\n",
      "Error digesting image: 4f927p(null cannot identify image file 'images/external_link/reddit/dataisugly/4f927p(null'\n",
      "Error digesting image: 65whnm.svg cannot identify image file 'images/external_link/reddit/dataisugly/65whnm.svg'\n",
      "Error digesting image: 8d0z8l.mp4 cannot identify image file 'images/external_link/reddit/dataisugly/8d0z8l.mp4'\n",
      "Error digesting image: 6k75ne.mp4 cannot identify image file 'images/external_link/reddit/dataisugly/6k75ne.mp4'\n",
      "Error digesting image: 70u6d2.svg cannot identify image file 'images/external_link/reddit/dataisugly/70u6d2.svg'\n",
      "Error digesting image: 67k7av.svg cannot identify image file 'images/external_link/reddit/dataisugly/67k7av.svg'\n",
      "Error digesting image: 4nrtbc.svg cannot identify image file 'images/external_link/reddit/dataisugly/4nrtbc.svg'\n",
      "Error digesting image: 6flghc.mp4 cannot identify image file 'images/external_link/reddit/dataisugly/6flghc.mp4'\n",
      "Error digesting image: aq45ys.mp4 cannot identify image file 'images/external_link/reddit/dataisugly/aq45ys.mp4'\n",
      "Error digesting image: 825ac2.svg cannot identify image file 'images/external_link/reddit/dataisugly/825ac2.svg'\n",
      "Error digesting image: 69yvyt.svg cannot identify image file 'images/external_link/reddit/dataisugly/69yvyt.svg'\n"
     ]
    },
    {
     "name": "stderr",
     "output_type": "stream",
     "text": [
      "/opt/conda/lib/python3.7/site-packages/PIL/Image.py:2817: UserWarning: image file could not be identified because WEBP support not installed\n",
      "  warnings.warn(message)\n"
     ]
    },
    {
     "name": "stdout",
     "output_type": "stream",
     "text": [
      "Error digesting image: 71cunh.webp cannot identify image file 'images/external_link/reddit/dataisugly/71cunh.webp'\n",
      "Error digesting image: 4p4v8y.svg cannot identify image file 'images/external_link/reddit/dataisugly/4p4v8y.svg'\n",
      "Error digesting image: 1zdq1a.mp4 cannot identify image file 'images/external_link/reddit/dataisugly/1zdq1a.mp4'\n",
      "Error digesting image: 3s9u7s.mp4 cannot identify image file 'images/external_link/reddit/dataisugly/3s9u7s.mp4'\n"
     ]
    },
    {
     "name": "stderr",
     "output_type": "stream",
     "text": [
      "/opt/conda/lib/python3.7/site-packages/PIL/Image.py:2731: DecompressionBombWarning: Image size (100000000 pixels) exceeds limit of 89478485 pixels, could be decompression bomb DOS attack.\n",
      "  DecompressionBombWarning,\n"
     ]
    },
    {
     "name": "stdout",
     "output_type": "stream",
     "text": [
      "Error digesting image: 73e22a.mp4 cannot identify image file 'images/external_link/reddit/dataisugly/73e22a.mp4'\n",
      "Error digesting image: 9lnnlr.webp cannot identify image file 'images/external_link/reddit/dataisugly/9lnnlr.webp'\n",
      "Error digesting image: 24wwx0.svg cannot identify image file 'images/external_link/reddit/dataisugly/24wwx0.svg'\n",
      "Error digesting image: 560wz7.svg cannot identify image file 'images/external_link/reddit/dataisugly/560wz7.svg'\n",
      "Error digesting image: 37burb.mp4 cannot identify image file 'images/external_link/reddit/dataisugly/37burb.mp4'\n",
      "Error digesting image: 2ozjnf.svg cannot identify image file 'images/external_link/reddit/dataisugly/2ozjnf.svg'\n",
      "Error digesting image: aq45ob.mp4 cannot identify image file 'images/external_link/reddit/dataisugly/aq45ob.mp4'\n",
      "Error digesting image: 2lrdlz.svg cannot identify image file 'images/external_link/reddit/dataisugly/2lrdlz.svg'\n",
      "Error digesting image: 349nuy.mp4 cannot identify image file 'images/external_link/reddit/dataisugly/349nuy.mp4'\n",
      "Error digesting image: 2gs5vv.svg cannot identify image file 'images/external_link/reddit/dataisugly/2gs5vv.svg'\n",
      "Error digesting image: 6ni2bk.mp4 cannot identify image file 'images/external_link/reddit/dataisugly/6ni2bk.mp4'\n",
      "Error digesting image: 35t7xu.mp4 cannot identify image file 'images/external_link/reddit/dataisugly/35t7xu.mp4'\n",
      "Error digesting image: 5akipl.svg cannot identify image file 'images/external_link/reddit/dataisugly/5akipl.svg'\n",
      "Error digesting image: 77jqk2.svg cannot identify image file 'images/external_link/reddit/dataisugly/77jqk2.svg'\n",
      "Error digesting image: 49f8u8.mp4 cannot identify image file 'images/external_link/reddit/dataisugly/49f8u8.mp4'\n",
      "Error digesting image: 35m7pn.mp4 cannot identify image file 'images/external_link/reddit/dataisugly/35m7pn.mp4'\n"
     ]
    }
   ],
   "source": [
    "for root, dirs, files in os.walk(images_dir):\n",
    "    for name in files:\n",
    "        try:\n",
    "            imageFile = ImageFile(os.path.join(root, name))\n",
    "            if not imagesmeta.find_one({'file_path': imageFile.file_path}, {'_id': 1}):\n",
    "                imagesmeta.insert_one(imageFile.digest())\n",
    "        except Exception as inst:\n",
    "            print(f\"Error digesting image: {name} {inst}\")"
   ]
  },
  {
   "cell_type": "code",
   "execution_count": null,
   "metadata": {
    "Collapsed": "false"
   },
   "outputs": [],
   "source": []
  }
 ],
 "metadata": {
  "kernelspec": {
   "display_name": "Python 3",
   "language": "python",
   "name": "python3"
  },
  "language_info": {
   "codemirror_mode": {
    "name": "ipython",
    "version": 3
   },
   "file_extension": ".py",
   "mimetype": "text/x-python",
   "name": "python",
   "nbconvert_exporter": "python",
   "pygments_lexer": "ipython3",
   "version": "3.7.3"
  }
 },
 "nbformat": 4,
 "nbformat_minor": 4
}
