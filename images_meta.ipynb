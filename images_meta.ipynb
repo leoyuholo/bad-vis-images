{
 "cells": [
  {
   "cell_type": "code",
   "execution_count": 1,
   "metadata": {
    "Collapsed": "false"
   },
   "outputs": [],
   "source": [
    "# !pip install pydash"
   ]
  },
  {
   "cell_type": "code",
   "execution_count": 2,
   "metadata": {
    "Collapsed": "false"
   },
   "outputs": [],
   "source": [
    "from pymongo import MongoClient\n",
    "from functools import cmp_to_key\n",
    "from pathlib import Path\n",
    "from PIL import Image\n",
    "import imagehash\n",
    "from tqdm.notebook import tqdm\n",
    "import pydash as _\n",
    "\n",
    "from IPython.display import display, Image"
   ]
  },
  {
   "cell_type": "code",
   "execution_count": 3,
   "metadata": {
    "Collapsed": "false"
   },
   "outputs": [],
   "source": [
    "images_dir = Path('./images')"
   ]
  },
  {
   "cell_type": "code",
   "execution_count": 4,
   "metadata": {
    "Collapsed": "false"
   },
   "outputs": [],
   "source": [
    "mongo = MongoClient('172.17.0.1', 27017)\n",
    "db = mongo['bad-vis']\n",
    "posts = db['posts']\n",
    "imagefiles = db['imagefiles']\n",
    "imagemeta = db['imagemeta']"
   ]
  },
  {
   "cell_type": "markdown",
   "metadata": {
    "Collapsed": "false"
   },
   "source": [
    "# Group image files into images"
   ]
  },
  {
   "cell_type": "code",
   "execution_count": 5,
   "metadata": {
    "Collapsed": "false"
   },
   "outputs": [
    {
     "data": {
      "text/plain": [
       "8100"
      ]
     },
     "execution_count": 5,
     "metadata": {},
     "output_type": "execute_result"
    }
   ],
   "source": [
    "image_ids =  list({f['image_id'] for f in imagefiles.find()})\n",
    "len(image_ids)"
   ]
  },
  {
   "cell_type": "code",
   "execution_count": 13,
   "metadata": {
    "Collapsed": "false"
   },
   "outputs": [],
   "source": [
    "class ImageMeta ():\n",
    "    _attrs = [\n",
    "        'id',\n",
    "        'post_id',\n",
    "        'image_id',\n",
    "        'album',\n",
    "        'index_in_album',\n",
    "        'main_image',\n",
    "        'thumbnail',\n",
    "        'preview',\n",
    "        'external_link',\n",
    "        'archive',\n",
    "        'ahash',\n",
    "        'phash',\n",
    "        'pshash',\n",
    "        'dhash',\n",
    "        'whash',\n",
    "        'duplicated_posts',\n",
    "        'related_images',\n",
    "        'image_order'\n",
    "    ]\n",
    "\n",
    "    def __init__ (self, imageFiles=[]):\n",
    "        if len(imageFiles) == 0:\n",
    "            raise Exception('Empty imageFiles array.')\n",
    "        self._imageFiles = imageFiles\n",
    "        self.image_order = self.sort_images()\n",
    "\n",
    "    def digest (self):\n",
    "        return {a:getattr(self, a) for a in ImageMeta._attrs}\n",
    "\n",
    "    @property\n",
    "    def id (self):\n",
    "        return self.main_image['id']\n",
    "\n",
    "    @property\n",
    "    def post_id (self):\n",
    "        return self.main_image['post_id']\n",
    "\n",
    "    @property\n",
    "    def image_id (self):\n",
    "        return self.main_image['image_id']\n",
    "\n",
    "    @property\n",
    "    def album (self):\n",
    "        return self.main_image['album']\n",
    "\n",
    "    @property\n",
    "    def index_in_album (self):\n",
    "        return self.main_image['index_in_album']\n",
    "\n",
    "    @property\n",
    "    def ahash (self):\n",
    "        return self.main_image['ahash']\n",
    "\n",
    "    @property\n",
    "    def phash (self):\n",
    "        return self.main_image['phash']\n",
    "\n",
    "    @property\n",
    "    def pshash (self):\n",
    "        return self.main_image['pshash']\n",
    "\n",
    "    @property\n",
    "    def dhash (self):\n",
    "        return self.main_image['dhash']\n",
    "\n",
    "    @property\n",
    "    def whash (self):\n",
    "        return self.main_image['whash']\n",
    "\n",
    "    @property\n",
    "    def is_hash_consistent (self):\n",
    "        return _.every([self.hash_consistent(h) for h in ['phash']])\n",
    "#         return _.every([self.hash_consistent(h) for h in ['phash', 'pshash', 'dhash', 'whash']])\n",
    "#         return _.every([self.hash_consistent(hash_type) for hash_type in ['ahash', 'phash', 'pshash', 'dhash', 'whash']])\n",
    "\n",
    "    def hash_distance (self, hash_type):\n",
    "        main_hash = imagehash.hex_to_hash(self.main_image[hash_type])\n",
    "        image_types = [t for t in self.image_order if t != 'thumbnail']\n",
    "        return [imagehash.hex_to_hash(self.find_image_type(t)[hash_type]) - main_hash for t in image_types]\n",
    "\n",
    "    def hash_consistent (self, hash_type):\n",
    "        main_hash = imagehash.hex_to_hash(self.main_image[hash_type])\n",
    "        return _.every(self.hash_distance(hash_type), lambda x: abs(x) < 5) # magic number threshold, by experiment when trying out the imagehash library\n",
    "\n",
    "    @property\n",
    "    def main_image (self):\n",
    "        return getattr(self, self.image_order[0])\n",
    "\n",
    "    @property\n",
    "    def duplicated_posts (self):\n",
    "        post = posts.find_one({'post_id': self.post_id})\n",
    "        return post['duplicated_posts'] if 'duplicated_posts' in post else []\n",
    "\n",
    "    @property\n",
    "    def related_images (self):\n",
    "        if self.index_in_album == 0:\n",
    "            return []\n",
    "        return [f['image_id'] for f in imagefiles.find({'post_id': self.post_id})]\n",
    "\n",
    "    @property\n",
    "    def thumbnail (self):\n",
    "        return self.find_image_type('thumbnail')\n",
    "\n",
    "    @property\n",
    "    def preview (self):\n",
    "        return self.find_image_type('preview')\n",
    "\n",
    "    @property\n",
    "    def external_link (self):\n",
    "        return self.find_image_type('external_link')\n",
    "\n",
    "    @property\n",
    "    def archive (self):\n",
    "        return self.find_image_type('archive')\n",
    "\n",
    "    def find_image_type (self, image_type):\n",
    "        return _.find(self._imageFiles, lambda x: x['image_type'] == image_type)\n",
    "\n",
    "    @property\n",
    "    def available_image_types (self):\n",
    "        return [image_type\n",
    "             for image_type in ['thumbnail', 'preview', 'external_link', 'archive']\n",
    "             if getattr(self, image_type)]\n",
    "\n",
    "    def sort_images (self):\n",
    "        def preferred (x, y):\n",
    "            if x == 'thumbnail':\n",
    "                return 1\n",
    "            if y == 'thumbnail':\n",
    "                return -1\n",
    "\n",
    "            image_x = getattr(self, x)\n",
    "            image_y = getattr(self, y)\n",
    "\n",
    "            if image_x['ext'] != image_y['ext']:\n",
    "                if image_x['ext'] == '.png':\n",
    "                    return -1\n",
    "                if image_y['ext'] == '.png':\n",
    "                    return 1\n",
    "\n",
    "            if image_x['width'] == image_y['width']:\n",
    "                return image_y['size'] - image_x['size']\n",
    "            else:\n",
    "                return image_y['width'] - image_x['width']\n",
    "\n",
    "        return sorted(self.available_image_types, key=cmp_to_key(preferred))"
   ]
  },
  {
   "cell_type": "code",
   "execution_count": 14,
   "metadata": {
    "Collapsed": "false"
   },
   "outputs": [
    {
     "data": {
      "application/vnd.jupyter.widget-view+json": {
       "model_id": "76d69bd6e7ce47d6a3e52318af9a5bd3",
       "version_major": 2,
       "version_minor": 0
      },
      "text/plain": [
       "HBox(children=(FloatProgress(value=0.0, max=8100.0), HTML(value='')))"
      ]
     },
     "metadata": {},
     "output_type": "display_data"
    },
    {
     "name": "stdout",
     "output_type": "stream",
     "text": [
      "\n"
     ]
    }
   ],
   "source": [
    "for image_id in tqdm(image_ids):\n",
    "    imageFiles = [i for i in imagefiles.find({'image_id': image_id})]\n",
    "    for i in imageFiles:\n",
    "        del i['_id']\n",
    "    imageMeta = ImageMeta(imageFiles)\n",
    "    imagemeta.replace_one({'image_id': imageMeta.image_id}, imageMeta.digest(), upsert=True)"
   ]
  },
  {
   "cell_type": "markdown",
   "metadata": {
    "Collapsed": "false"
   },
   "source": [
    "# Find images with inconsistent hash"
   ]
  },
  {
   "cell_type": "code",
   "execution_count": 8,
   "metadata": {
    "Collapsed": "false"
   },
   "outputs": [],
   "source": [
    "images = []"
   ]
  },
  {
   "cell_type": "code",
   "execution_count": 9,
   "metadata": {
    "Collapsed": "false"
   },
   "outputs": [],
   "source": [
    "processed_image_id = set()"
   ]
  },
  {
   "cell_type": "code",
   "execution_count": 10,
   "metadata": {
    "Collapsed": "false"
   },
   "outputs": [],
   "source": [
    "examed_images = [\n",
    "    'reddit/dataisugly/2wkifl:0', # image edited, bottom right corner\n",
    "    'reddit/dataisugly/4aujij:0', # wrong preview, thumbnail\n",
    "    'reddit/dataisugly/5icrv4:0', # png over gif\n",
    "    'reddit/dataisugly/b8jz25:0', # preview clipped\n",
    "    'reddit/dataisugly/3cdyxc:0', # external_link tinypic.com expired\n",
    "    'reddit/dataisbeautiful/bx1fzb:0', # image edited, color and others changed\n",
    "    'reddit/dataisugly/2htbld:0', # wrong preview, thumbnail\n",
    "    'reddit/dataisugly/blxz6t:0', # visually the same, maybe difference in color?\n",
    "    'reddit/dataisugly/basasb:0', # transparent background in png\n",
    "    'reddit/dataisugly/6aiz8g:0', # transparent background in png\n",
    "    'reddit/dataisugly/1asr8h:0', # wrong preview, thumbnail\n",
    "    'reddit/dataisugly/148fmk:0', # expired imgur\n",
    "    'reddit/dataisugly/3asdm5:0', # visually the same\n",
    "    'reddit/dataisugly/4eymb0:0', # wrong preview, thumbnail\n",
    "    'reddit/dataisugly/4pp4ua:0', # visually the same\n",
    "    'reddit/dataisugly/20mwkm:0', # png over gif\n",
    "]"
   ]
  },
  {
   "cell_type": "code",
   "execution_count": 11,
   "metadata": {
    "Collapsed": "false"
   },
   "outputs": [
    {
     "data": {
      "application/vnd.jupyter.widget-view+json": {
       "model_id": "cb4b68e9e68a40a185700494dab266df",
       "version_major": 2,
       "version_minor": 0
      },
      "text/plain": [
       "HBox(children=(FloatProgress(value=0.0, max=8100.0), HTML(value='')))"
      ]
     },
     "metadata": {},
     "output_type": "display_data"
    },
    {
     "name": "stdout",
     "output_type": "stream",
     "text": [
      "\n"
     ]
    }
   ],
   "source": [
    "for image_id in tqdm(image_ids):\n",
    "    if image_id in processed_image_id:\n",
    "        continue\n",
    "    imageFiles = [i for i in imagefiles.find({'image_id': image_id})]\n",
    "    for i in imageFiles:\n",
    "        del i['_id']\n",
    "    imageMeta = ImageMeta(imageFiles)\n",
    "    if not imageMeta.is_hash_consistent and image_id not in examed_images:\n",
    "        print(image_id)\n",
    "        print(imageMeta.image_order)\n",
    "        print(imageMeta.hash_distance('phash'))\n",
    "        print([imageMeta.find_image_type(i)['phash'] for i in imageMeta.image_order])\n",
    "        print([imageMeta.find_image_type(i)['ext'] for i in imageMeta.image_order])\n",
    "        print([imageMeta.find_image_type(i)['width'] for i in imageMeta.image_order])\n",
    "        print([imageMeta.find_image_type(i)['height'] for i in imageMeta.image_order])\n",
    "        print([imageMeta.find_image_type(i)['size'] for i in imageMeta.image_order])\n",
    "        images = [imageMeta.find_image_type(i)['file_path'] for i in imageMeta.image_order]\n",
    "        break\n",
    "    processed_image_id.add(image_id)\n",
    "#     imagemeta.replace_one({'image_id': imageMeta.image_id}, imageMeta.digest(), upsert=True)"
   ]
  },
  {
   "cell_type": "code",
   "execution_count": 12,
   "metadata": {
    "Collapsed": "false"
   },
   "outputs": [],
   "source": [
    "if images and len(images) > 0:\n",
    "    display(*[Image(filename=i) for i in images])"
   ]
  }
 ],
 "metadata": {
  "kernelspec": {
   "display_name": "Python 3",
   "language": "python",
   "name": "python3"
  },
  "language_info": {
   "codemirror_mode": {
    "name": "ipython",
    "version": 3
   },
   "file_extension": ".py",
   "mimetype": "text/x-python",
   "name": "python",
   "nbconvert_exporter": "python",
   "pygments_lexer": "ipython3",
   "version": "3.7.4"
  }
 },
 "nbformat": 4,
 "nbformat_minor": 4
}
