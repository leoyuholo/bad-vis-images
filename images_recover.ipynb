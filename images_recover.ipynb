{
 "cells": [
  {
   "cell_type": "code",
   "execution_count": null,
   "metadata": {
    "Collapsed": "false"
   },
   "outputs": [],
   "source": [
    "import requests_cache\n",
    "requests_cache.install_cache('archive_cache')"
   ]
  },
  {
   "cell_type": "code",
   "execution_count": 1,
   "metadata": {
    "Collapsed": "false"
   },
   "outputs": [],
   "source": [
    "from pymongo import MongoClient\n",
    "import requests\n",
    "from pathlib import Path\n",
    "import pandas as pd\n",
    "import glob\n",
    "from PIL import Image\n",
    "from io import BytesIO\n",
    "from matplotlib.pyplot import imshow\n",
    "import numpy as np\n",
    "from joblib import Parallel, delayed\n",
    "from tqdm.notebook import tqdm\n",
    "import json\n",
    "import magic\n",
    "from IPython.display import JSON"
   ]
  },
  {
   "cell_type": "code",
   "execution_count": 2,
   "metadata": {
    "Collapsed": "false"
   },
   "outputs": [],
   "source": [
    "mongo = MongoClient('172.17.0.1', 27017)\n",
    "db = mongo['bad-vis']\n",
    "posts = db['posts']\n",
    "dlexternalresults = db['dlexternalresults']\n",
    "dlarchiveresults = db['dlarchiveresults']"
   ]
  },
  {
   "cell_type": "code",
   "execution_count": 3,
   "metadata": {
    "Collapsed": "false"
   },
   "outputs": [],
   "source": [
    "images_dir = Path('./images')"
   ]
  },
  {
   "cell_type": "code",
   "execution_count": 4,
   "metadata": {
    "Collapsed": "false"
   },
   "outputs": [],
   "source": [
    "error_downloads = [p for p in dlexternalresults.find()\n",
    "                   if not (p['status'] == 'invalid_url' or\n",
    "                           p['status'] == 'downloaded' or\n",
    "                           p['status'] == 'exists' or\n",
    "                           'skip_' in p['status'])]"
   ]
  },
  {
   "cell_type": "code",
   "execution_count": 5,
   "metadata": {
    "Collapsed": "false"
   },
   "outputs": [
    {
     "data": {
      "text/plain": [
       "777"
      ]
     },
     "execution_count": 5,
     "metadata": {},
     "output_type": "execute_result"
    }
   ],
   "source": [
    "len(error_downloads)"
   ]
  },
  {
   "cell_type": "code",
   "execution_count": 6,
   "metadata": {
    "Collapsed": "false"
   },
   "outputs": [
    {
     "data": {
      "text/plain": [
       "{'_id': ObjectId('5e352e225a2161cfd5843933'),\n",
       " 'id': '74e6w7',\n",
       " 'post_id': 'reddit/dataisugly/74e6w7',\n",
       " 'link': 'http://www.worldmapper.org/images/largepng/623.png',\n",
       " 'dest': 'images/external_link/reddit/dataisugly/74e6w7',\n",
       " 'request_status': 404,\n",
       " 'status': 'not_found'}"
      ]
     },
     "execution_count": 6,
     "metadata": {},
     "output_type": "execute_result"
    }
   ],
   "source": [
    "error_downloads[0]"
   ]
  },
  {
   "cell_type": "code",
   "execution_count": 7,
   "metadata": {
    "Collapsed": "false"
   },
   "outputs": [
    {
     "data": {
      "application/json": {
       "archived_snapshots": {
        "closest": {
         "available": true,
         "status": "200",
         "timestamp": "20130829190754",
         "url": "http://web.archive.org/web/20130829190754/http://worldmapper.org/images/largepng/623.png"
        }
       },
       "url": "http://www.worldmapper.org/images/largepng/623.png"
      },
      "text/plain": [
       "<IPython.core.display.JSON object>"
      ]
     },
     "execution_count": 7,
     "metadata": {
      "application/json": {
       "expanded": false,
       "root": "root"
      }
     },
     "output_type": "execute_result"
    }
   ],
   "source": [
    "r = requests.get(f\"https://archive.org/wayback/available?url={error_downloads[0]['link']}\")\n",
    "r_json = r.json()\n",
    "JSON(r_json)"
   ]
  },
  {
   "cell_type": "code",
   "execution_count": 8,
   "metadata": {
    "Collapsed": "false"
   },
   "outputs": [
    {
     "data": {
      "text/plain": [
       "'http://web.archive.org/web/20130829190754if_/http://worldmapper.org/images/largepng/623.png'"
      ]
     },
     "execution_count": 8,
     "metadata": {},
     "output_type": "execute_result"
    }
   ],
   "source": [
    "url = r_json['archived_snapshots']['closest']['url'].replace('/http', 'if_/http')\n",
    "url"
   ]
  },
  {
   "cell_type": "code",
   "execution_count": 9,
   "metadata": {
    "Collapsed": "false"
   },
   "outputs": [
    {
     "data": {
      "text/plain": [
       "<matplotlib.image.AxesImage at 0x7fd7edc110b8>"
      ]
     },
     "execution_count": 9,
     "metadata": {},
     "output_type": "execute_result"
    },
    {
     "data": {
      "image/png": "[encoded data removed]",
      "text/plain": [
       "<Figure size 432x288 with 1 Axes>"
      ]
     },
     "metadata": {
      "needs_background": "light"
     },
     "output_type": "display_data"
    }
   ],
   "source": [
    "r = requests.get(url)\n",
    "pil_image = Image.open(BytesIO(r.content))\n",
    "imshow(np.asarray(pil_image))"
   ]
  },
  {
   "cell_type": "code",
   "execution_count": 10,
   "metadata": {
    "Collapsed": "false"
   },
   "outputs": [],
   "source": [
    "def get_content_type_ext (content_type, req=None):\n",
    "    content_type = content_type.lower()\n",
    "    if content_type.startswith('image/jpeg') or content_type.startswith('image/jpg'):\n",
    "        return '.jpg'\n",
    "    elif content_type.startswith('image/png'):\n",
    "        return '.png'\n",
    "    elif content_type.startswith('image/gif'):\n",
    "        return '.gif'\n",
    "    elif content_type.startswith('image/webp'):\n",
    "        return '.webp'\n",
    "    elif content_type.startswith('image/svg'):\n",
    "        return '.svg'\n",
    "    elif content_type.startswith('image/bmp'):\n",
    "        return '.bmp'\n",
    "    elif req:\n",
    "        return get_content_type_ext(magic.from_buffer(req.content, mime=True))\n",
    "    elif content_type.startswith('text/html'):\n",
    "        return '.html'\n",
    "    elif content_type.startswith('application/pdf'):\n",
    "        return '.pdf'\n",
    "    else:\n",
    "        print(f'Unknow content-type: {content_type}')\n",
    "        return ''\n",
    "\n",
    "def download_image (post, t='preview', outdir=None):\n",
    "    if t in post:\n",
    "        if type(post[t]) == str:\n",
    "            link = post[t]\n",
    "        else:\n",
    "            link = post[t]['url']\n",
    "    else:\n",
    "        link = ''\n",
    "    if not outdir:\n",
    "        outdir = t\n",
    "    result = {\n",
    "        'id': post['id'],\n",
    "        'post_id': post['post_id'],\n",
    "        'link': link,\n",
    "        'dest': images_dir/outdir/post['post_id']\n",
    "    }\n",
    "\n",
    "    if len(glob.glob(f'{result[\"dest\"]}*')) != 0:\n",
    "        result['status'] = 'exists'\n",
    "        return result\n",
    "    else:\n",
    "        result['dest'].parent.mkdir(parents=True, exist_ok=True)\n",
    "\n",
    "    if not link or link == 'None' or type(link) != str:\n",
    "        result['status'] = 'invalid_url'\n",
    "        return result\n",
    "\n",
    "    try:\n",
    "        archive_url = f\"https://archive.org/wayback/available?url={link}\"\n",
    "        r = requests.get(archive_url)\n",
    "        r_json = r.json()\n",
    "        if 'closest' in r_json['archived_snapshots']:\n",
    "            result['archive_link'] = r_json['archived_snapshots']['closest']['url'].replace('/http', 'if_/http')\n",
    "            r = requests.get(result['archive_link'])\n",
    "            result['archive_request_status'] = r.status_code\n",
    "            if result['archive_request_status'] >= 400:\n",
    "                result['archive_status'] = 'archive_error'\n",
    "                return result\n",
    "        else:\n",
    "            result['archive_status'] = 'archive_not_found'\n",
    "            return result\n",
    "\n",
    "        result['ext'] = get_content_type_ext(r.headers.get('content-type'), r)\n",
    "        if result['ext'] == '':\n",
    "            result['status'] = 'invalid_content_type'\n",
    "            print(f'id: {result[\"id\"]} link: {result[\"link\"]}')\n",
    "            return result\n",
    "        if result['ext'] == '.html' or result['ext'] == '.pdf':\n",
    "            result['status'] = 'skip_content_type'\n",
    "            return result\n",
    "\n",
    "        result['output'] = f'{result[\"dest\"]}{result[\"ext\"]}'\n",
    "        with open(result['output'], 'wb') as f:\n",
    "            f.write(r.content)\n",
    "        result['status'] = 'downloaded'\n",
    "        return result\n",
    "    except Exception as inst:\n",
    "        print(f\"Download error: {post['post_id']} {link} {inst}\")\n",
    "        print(f\"Archive: {post['post_id']} {archive_url}\")\n",
    "        result['status'] = 'download_error'\n",
    "        return result\n",
    "\n",
    "    return result"
   ]
  },
  {
   "cell_type": "code",
   "execution_count": 17,
   "metadata": {
    "Collapsed": "false"
   },
   "outputs": [],
   "source": [
    "!rm images/archive/reddit/dataisugly/763yfl.png"
   ]
  },
  {
   "cell_type": "code",
   "execution_count": 19,
   "metadata": {
    "Collapsed": "false"
   },
   "outputs": [
    {
     "name": "stdout",
     "output_type": "stream",
     "text": [
      "-rw-r--r-- 1 jovyan jovyan 703496 Feb  2 02:24 images/archive/reddit/dataisugly/763yfl.png\n"
     ]
    }
   ],
   "source": [
    "!ls -al images/archive/reddit/dataisugly/763yfl.png"
   ]
  },
  {
   "cell_type": "code",
   "execution_count": 18,
   "metadata": {
    "Collapsed": "false"
   },
   "outputs": [
    {
     "name": "stdout",
     "output_type": "stream",
     "text": [
      "{'id': '763yfl', 'post_id': 'reddit/dataisugly/763yfl', 'link': 'https://i.redd.it/86caflkvskrz.png', 'dest': PosixPath('images/archive/reddit/dataisugly/763yfl'), 'archive_link': 'http://web.archive.org/web/20171013104105if_/https://i.redd.it/86caflkvskrz.png', 'archive_request_status': 200, 'ext': '.png', 'output': 'images/archive/reddit/dataisugly/763yfl.png', 'status': 'downloaded'}\n"
     ]
    }
   ],
   "source": [
    "for post in [dlexternalresults.find_one({'id': '763yfl'})]:\n",
    "    result = download_image(post, t='link', outdir='archive')\n",
    "    print(result)"
   ]
  },
  {
   "cell_type": "code",
   "execution_count": null,
   "metadata": {
    "Collapsed": "false"
   },
   "outputs": [],
   "source": [
    "def parallel (f, params_list, params_dict={}, total=None, n_jobs=-2):\n",
    "    results = []\n",
    "    with Parallel(n_jobs=n_jobs, require='sharedmem') as p:\n",
    "        results = p(delayed(f)(params, **params_dict) for params in tqdm(params_list, total=total))\n",
    "    return results"
   ]
  },
  {
   "cell_type": "code",
   "execution_count": null,
   "metadata": {
    "Collapsed": "false"
   },
   "outputs": [],
   "source": [
    "dl_archive_results = parallel(download_image, error_downloads, total=len(error_downloads), params_dict={'t': 'link', 'outdir': 'archive'})"
   ]
  },
  {
   "cell_type": "code",
   "execution_count": null,
   "metadata": {
    "Collapsed": "false"
   },
   "outputs": [],
   "source": [
    "for r in dl_archive_results:\n",
    "    r['dest'] = str(r['dest'])\n",
    "\n",
    "dlarchiveresults.drop()\n",
    "dlarchiveresults.insert_many(dl_archive_results)"
   ]
  },
  {
   "cell_type": "code",
   "execution_count": null,
   "metadata": {
    "Collapsed": "false"
   },
   "outputs": [],
   "source": []
  }
 ],
 "metadata": {
  "kernelspec": {
   "display_name": "Python 3",
   "language": "python",
   "name": "python3"
  },
  "language_info": {
   "codemirror_mode": {
    "name": "ipython",
    "version": 3
   },
   "file_extension": ".py",
   "mimetype": "text/x-python",
   "name": "python",
   "nbconvert_exporter": "python",
   "pygments_lexer": "ipython3",
   "version": "3.7.3"
  }
 },
 "nbformat": 4,
 "nbformat_minor": 4
}
