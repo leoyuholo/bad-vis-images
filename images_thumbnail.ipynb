{
 "cells": [
  {
   "cell_type": "code",
   "execution_count": 1,
   "metadata": {
    "Collapsed": "false"
   },
   "outputs": [],
   "source": [
    "# !pip install imutils\n",
    "# !pip install opencv-python"
   ]
  },
  {
   "cell_type": "code",
   "execution_count": 2,
   "metadata": {
    "Collapsed": "false"
   },
   "outputs": [],
   "source": [
    "from pymongo import MongoClient\n",
    "from pathlib import Path\n",
    "from tqdm.notebook import tqdm\n",
    "from shutil import copyfile\n",
    "import imutils\n",
    "import cv2\n",
    "from PIL import Image\n",
    "import json\n",
    "from itertools import chain\n",
    "from pydash import pick, omit\n",
    "from datetime import datetime\n",
    "\n",
    "from lib.parallel import parallel"
   ]
  },
  {
   "cell_type": "code",
   "execution_count": 3,
   "metadata": {
    "Collapsed": "false"
   },
   "outputs": [],
   "source": [
    "images_dir = Path('./images')\n",
    "gallery_dir = Path('./bad-vis-images')"
   ]
  },
  {
   "cell_type": "code",
   "execution_count": 4,
   "metadata": {
    "Collapsed": "false"
   },
   "outputs": [],
   "source": [
    "!rm -r {gallery_dir/'preview'}\n",
    "!rm -r {gallery_dir/'thumbnail'}\n",
    "!rm -r {gallery_dir/'meta'}\n",
    "!rm -r {gallery_dir/'image_lists'}"
   ]
  },
  {
   "cell_type": "code",
   "execution_count": 5,
   "metadata": {
    "Collapsed": "false"
   },
   "outputs": [],
   "source": [
    "gallery_dir.mkdir(exist_ok=True)\n",
    "\n",
    "preview_dir = gallery_dir/'preview'\n",
    "thumbnail_dir = gallery_dir/'thumbnail'\n",
    "meta_dir = gallery_dir/'meta'\n",
    "imagelist_dir = gallery_dir/'image_lists'\n",
    "\n",
    "preview_dir.mkdir(exist_ok=True)\n",
    "thumbnail_dir.mkdir(exist_ok=True)\n",
    "meta_dir.mkdir(exist_ok=True)\n",
    "imagelist_dir.mkdir(exist_ok=True)"
   ]
  },
  {
   "cell_type": "code",
   "execution_count": 6,
   "metadata": {
    "Collapsed": "false"
   },
   "outputs": [],
   "source": [
    "mongo = MongoClient('172.17.0.1', 27017)\n",
    "db = mongo['bad-vis']\n",
    "posts = db['posts']\n",
    "imagededup = db['imagededup']\n",
    "visimages = db['visimages']\n",
    "vislabels = db['vislabels']"
   ]
  },
  {
   "cell_type": "code",
   "execution_count": 7,
   "metadata": {
    "Collapsed": "false"
   },
   "outputs": [],
   "source": [
    "visimages.drop()"
   ]
  },
  {
   "cell_type": "code",
   "execution_count": 8,
   "metadata": {
    "Collapsed": "false"
   },
   "outputs": [],
   "source": [
    "thumbnail_size = 140"
   ]
  },
  {
   "cell_type": "code",
   "execution_count": 9,
   "metadata": {
    "Collapsed": "false"
   },
   "outputs": [],
   "source": [
    "class VisImage ():\n",
    "    _attrs = [\n",
    "        'id',\n",
    "        'image_name',\n",
    "        'image_path',\n",
    "        'thumbnail_path',\n",
    "\n",
    "        'datetime',\n",
    "        'url',\n",
    "        'title',\n",
    "        'author',\n",
    "        'source',\n",
    "        'source_url',\n",
    "        'source_platform',\n",
    "        'popularity_score',\n",
    "\n",
    "    #     'size',\n",
    "    #     'width',\n",
    "    #     'height',\n",
    "        'phash',\n",
    "\n",
    "        'labels',\n",
    "        'remarks'\n",
    "    ]\n",
    "\n",
    "    def __init__ (self, image):\n",
    "        self._image = image\n",
    "\n",
    "        for k, v in image.items():\n",
    "            if k in ['labels', 'datetime']:\n",
    "                continue\n",
    "            setattr(self, k, v)\n",
    "\n",
    "    def digest (self):\n",
    "        return {a:getattr(self, a) for a in VisImage._attrs if hasattr(self, a)}\n",
    "\n",
    "    @property\n",
    "    def image_name (self):\n",
    "        return f\"{self._image['id']}_{self._image['index_in_album']}\"\n",
    "\n",
    "    @property\n",
    "    def datetime (self):\n",
    "        return datetime.fromisoformat(self._image['datetime']).timestamp()\n",
    "\n",
    "    @property\n",
    "    def visLabel (self):\n",
    "        if not hasattr(self, '_labels'):\n",
    "            image_ids = [self._image['image_id']] + [i for i in self._image['duplicated_images']]\n",
    "            visLabels = [l for l in vislabels.find({'image_id': {'$in': image_ids}})]\n",
    "            if len(visLabels) == 0:\n",
    "                return None\n",
    "\n",
    "            if len(visLabels) > 1:\n",
    "                print(f\"labels warning: more than 1 label {image_ids} {visLabels}\")\n",
    "\n",
    "            self._labels = visLabels[0]\n",
    "        return self._labels\n",
    "\n",
    "    @property\n",
    "    def labels (self):\n",
    "        if not self.visLabel:\n",
    "            return []\n",
    "        labels = [l for l in self.visLabel['labels'] if l != 'flag:starred']\n",
    "        if self._image.get('animated'):\n",
    "            labels.append('layout:animated')\n",
    "        return labels\n",
    "\n",
    "    @property\n",
    "    def exclude_from_list (self):\n",
    "        return len(self.labels) == 0 or 'flag:invalid' in self.labels or 'flag:needreview' in self.labels or 'flag:notbad' in self.labels\n",
    "\n",
    "    @property\n",
    "    def remarks (self):\n",
    "        if not self.visLabel:\n",
    "            return ''\n",
    "        return self.visLabel['remarks']\n",
    "\n",
    "    @property\n",
    "    def image_path (self):\n",
    "        return str(preview_dir/f\"{self.image_name}{self._image['ext']}\")\n",
    "\n",
    "    @property\n",
    "    def thumbnail_path (self):\n",
    "        return str(thumbnail_dir/f\"{self.image_name}.jpg\")\n",
    "\n",
    "    def makePreview (self):\n",
    "        copyfile(self._image['file_path'], self.image_path)\n",
    "\n",
    "    def makeThumbnail (self):\n",
    "        ratio = thumbnail_size / max([self._image['width'], self._image['height']])\n",
    "        thumbnail_width = min([thumbnail_size, int(round(self._image['width'] * ratio))])\n",
    "        thumbnail_height = min([thumbnail_size, int(round(self._image['height'] * ratio))])\n",
    "\n",
    "        im = Image.open(self._image['file_path']).convert('RGB')\n",
    "        im.thumbnail((thumbnail_width, thumbnail_height))\n",
    "        im.save(self.thumbnail_path, 'JPEG')\n",
    "\n",
    "    def makeMetaData (self):\n",
    "        digest = self.digest()\n",
    "        with open(meta_dir/f\"{self.image_name}.json\", 'w') as f:\n",
    "            json.dump(digest, f)\n",
    "        visimages.insert_one(digest)"
   ]
  },
  {
   "cell_type": "code",
   "execution_count": 10,
   "metadata": {
    "Collapsed": "false"
   },
   "outputs": [],
   "source": [
    "def finalize_image (image):\n",
    "    visImage = VisImage(image)\n",
    "    if visImage.exclude_from_list:\n",
    "        return None\n",
    "    visImage.makePreview()\n",
    "    visImage.makeThumbnail()\n",
    "    visImage.makeMetaData()\n",
    "    return visImage"
   ]
  },
  {
   "cell_type": "code",
   "execution_count": 11,
   "metadata": {
    "Collapsed": "false"
   },
   "outputs": [
    {
     "data": {
      "application/vnd.jupyter.widget-view+json": {
       "model_id": "9384c2a5e19e4a0a8bfdb4e28e0e27a2",
       "version_major": 2,
       "version_minor": 0
      },
      "text/plain": [
       "HBox(children=(FloatProgress(value=0.0, max=5840.0), HTML(value='')))"
      ]
     },
     "metadata": {},
     "output_type": "display_data"
    },
    {
     "name": "stdout",
     "output_type": "stream",
     "text": [
      "\n"
     ]
    }
   ],
   "source": [
    "visImages = parallel(finalize_image, imagededup.find(), total=imagededup.estimated_document_count())"
   ]
  },
  {
   "cell_type": "code",
   "execution_count": 12,
   "metadata": {
    "Collapsed": "false"
   },
   "outputs": [],
   "source": [
    "visImages = [i for i in visImages if i]"
   ]
  },
  {
   "cell_type": "markdown",
   "metadata": {
    "Collapsed": "false"
   },
   "source": [
    "# Image Lists"
   ]
  },
  {
   "cell_type": "code",
   "execution_count": 13,
   "metadata": {
    "Collapsed": "false"
   },
   "outputs": [],
   "source": [
    "visImages = [i for i in visimages.find()]"
   ]
  },
  {
   "cell_type": "code",
   "execution_count": 14,
   "metadata": {
    "Collapsed": "false"
   },
   "outputs": [],
   "source": [
    "visImages.sort(key=lambda x: x['popularity_score'])"
   ]
  },
  {
   "cell_type": "code",
   "execution_count": 15,
   "metadata": {
    "Collapsed": "false"
   },
   "outputs": [],
   "source": [
    "visImages.reverse()"
   ]
  },
  {
   "cell_type": "code",
   "execution_count": 16,
   "metadata": {
    "Collapsed": "false"
   },
   "outputs": [
    {
     "data": {
      "text/plain": [
       "500"
      ]
     },
     "execution_count": 16,
     "metadata": {},
     "output_type": "execute_result"
    }
   ],
   "source": [
    "len(visImages)"
   ]
  },
  {
   "cell_type": "code",
   "execution_count": 17,
   "metadata": {
    "Collapsed": "false"
   },
   "outputs": [],
   "source": [
    "for i in visImages:\n",
    "    del i['_id']"
   ]
  },
  {
   "cell_type": "code",
   "execution_count": 18,
   "metadata": {
    "Collapsed": "false"
   },
   "outputs": [],
   "source": [
    "json.dump({'images': visImages}, open(imagelist_dir/'all.json', 'w'), separators=(',', ':'))"
   ]
  },
  {
   "cell_type": "code",
   "execution_count": 19,
   "metadata": {
    "Collapsed": "false"
   },
   "outputs": [],
   "source": [
    "batch_cuts = [0] + [i for i in range(225, len(visImages), 400)] + [len(visImages)]\n",
    "for (batch_begin, batch_end) in zip(batch_cuts[:-1], batch_cuts[1:]):\n",
    "    json.dump({\n",
    "        'images': visImages[batch_begin:batch_end],\n",
    "        'next': f\"image_lists/{batch_end}.json\" if batch_end != len(visImages) else None\n",
    "    }, open(imagelist_dir/f\"{batch_begin}.json\", 'w'), separators=(',', ':'))"
   ]
  },
  {
   "cell_type": "markdown",
   "metadata": {
    "Collapsed": "false"
   },
   "source": [
    "# Labels Options"
   ]
  },
  {
   "cell_type": "code",
   "execution_count": 27,
   "metadata": {
    "Collapsed": "false"
   },
   "outputs": [],
   "source": [
    "labelOptions = [{\n",
    "    'tag': 'fault',\n",
    "    'name': 'Issues',\n",
    "    'options': [\n",
    "        'percentage:sum', 'percentage:encoding', 'percentage:wholepart',\n",
    "        'label', 'description',\n",
    "        'axis', 'axis:label', 'axis:flipped', 'axis:truncated', \"axis:missing\", 'axis:double', # axis:dual\n",
    "        'legend',\n",
    "        'color', 'color:over12',\n",
    "        'scale', 'scale:log', 'scale:inconsistent', 'binning',\n",
    "        'area',\n",
    "        'picto:distortion', 'picto:area',\n",
    "        'position', 'itemorder',\n",
    "        'connection',\n",
    "        '3d', 'animation',\n",
    "        'cluttering', 'occulusion',\n",
    "        'data', 'data:selective', 'data:questionable', 'data:missingvalues', 'data:redundant', 'data:prediction',\n",
    "        'index:comparison', # index:crossbasiscomparison\n",
    "        'parody', 'faultylogic', 'missingcontext',\n",
    "        'confirmationbias', 'chartjunk', 'betteralternative',\n",
    "        'faultystatistics', 'invalidcomparison',\n",
    "        'map:population', 'invalidencoding',\n",
    "        'unreadable', 'visuallyawful',\n",
    "        'encoding', 'cannotaddup', 'legibility'\n",
    "    ]}, {\n",
    "    'tag': 'form',\n",
    "    'name': 'Chart Type',\n",
    "    'options': [\n",
    "        'barchart', 'linechart', 'scatterplot', 'dotplot', 'barcodechart', 'areachart', 'histogram',\n",
    "        'nodelink', 'radarchart', 'bubblechart', 'dumbbellplot',\n",
    "        'piechart', 'donutchart',\n",
    "        'pyramid', 'venn', 'choropleth', 'flowmap', 'map', 'chernoffface',\n",
    "        'table', 'heatmap', 'treemap', 'quadrant',\n",
    "        'boxplot', 'violinplot', 'parallelcoor', 'streamgraph',\n",
    "        'pictogram', 'guagechart', 'sankeydiagram', 'chorddiagram', 'sunbrust', 'voronoi',\n",
    "        'unknown'\n",
    "    ]}, {\n",
    "    'tag': 'data',\n",
    "    'name': 'Data Types',\n",
    "    'options': [\n",
    "        'categorical', 'quantitative', 'indexvalue', 'accumulated',\n",
    "        'percentage', 'probability',\n",
    "        'ordinal', 'ranking', 'sequential',\n",
    "        'timeseries', 'cyclic',\n",
    "        'geospatial', 'flow',\n",
    "        'network', 'tree',\n",
    "        'set', 'bitmap',\n",
    "        'text', 'multivariate',\n",
    "    ]}, {\n",
    "    'tag': 'media',\n",
    "    'name': 'Medium',\n",
    "    'options': [\n",
    "        'inreallife', 'printed', 'handdrawn', 'tv', 'ads', 'news', 'NSFW'\n",
    "    ]}, {\n",
    "    'tag': 'layout',\n",
    "    'name': 'Layout',\n",
    "    'options': [\n",
    "        'circular', 'infographics', 'stacked', 'map', 'juxtaposition', 'overlay', 'mixed'\n",
    "    ]}, {\n",
    "    'tag': 'metaphor',\n",
    "    'name': 'Metaphor',\n",
    "    'options': [\n",
    "        'pictograph', 'periodictable', 'gear', 'clock'\n",
    "    ]}, {\n",
    "    'tag': 'flag',\n",
    "    'name': 'Flag',\n",
    "    'options': [\n",
    "        'needreview', 'invalid', 'notbad', 'starred'\n",
    "    ]}\n",
    "]"
   ]
  },
  {
   "cell_type": "code",
   "execution_count": 28,
   "metadata": {
    "Collapsed": "false"
   },
   "outputs": [],
   "source": [
    "# dump all tags but flag\n",
    "json.dump(labelOptions[:-1], open(imagelist_dir/f\"labelOptions.json\", 'w'), separators=(',', ':'))"
   ]
  },
  {
   "cell_type": "markdown",
   "metadata": {
    "Collapsed": "false"
   },
   "source": [
    "# Sprite"
   ]
  },
  {
   "cell_type": "code",
   "execution_count": 22,
   "metadata": {
    "Collapsed": "false"
   },
   "outputs": [],
   "source": [
    "# ims = []\n",
    "# sprites_path = str(gallery_dir/'0.jpg')\n",
    "# for i in range(225):\n",
    "#     visImage = visImages[i]\n",
    "#     visImage['sprites_path'] = sprites_path\n",
    "#     visImage['sprites_pos_x'] = (i % 15) * thumbnail_size\n",
    "#     visImage['sprites_pos_y'] = (i // 15) * thumbnail_size\n",
    "#     im = cv2.imread(visImage['thumbnail_path'])\n",
    "#     w, h = im.shape[:2]\n",
    "#     new_im = cv2.copyMakeBorder(im, 0, thumbnail_size-w, 0, thumbnail_size-h, cv2.BORDER_CONSTANT, value=[0, 0, 0])\n",
    "#     ims.append(new_im)\n",
    "# montages = imutils.build_montages(ims, (140, 140), (15, 15))\n",
    "# cv2.imwrite(sprites_path, montages[0])"
   ]
  },
  {
   "cell_type": "code",
   "execution_count": null,
   "metadata": {
    "Collapsed": "false"
   },
   "outputs": [],
   "source": []
  }
 ],
 "metadata": {
  "kernelspec": {
   "display_name": "Python 3",
   "language": "python",
   "name": "python3"
  },
  "language_info": {
   "codemirror_mode": {
    "name": "ipython",
    "version": 3
   },
   "file_extension": ".py",
   "mimetype": "text/x-python",
   "name": "python",
   "nbconvert_exporter": "python",
   "pygments_lexer": "ipython3",
   "version": "3.7.6"
  }
 },
 "nbformat": 4,
 "nbformat_minor": 4
}
