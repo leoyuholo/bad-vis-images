{
 "cells": [
  {
   "cell_type": "code",
   "execution_count": null,
   "metadata": {
    "Collapsed": "false"
   },
   "outputs": [],
   "source": [
    "# !pip install imutils\n",
    "# !pip install opencv-python"
   ]
  },
  {
   "cell_type": "code",
   "execution_count": 2,
   "metadata": {
    "Collapsed": "false"
   },
   "outputs": [],
   "source": [
    "from pymongo import MongoClient\n",
    "from pathlib import Path\n",
    "from tqdm.notebook import tqdm\n",
    "from shutil import copyfile\n",
    "import imutils\n",
    "import cv2\n",
    "from PIL import Image\n",
    "import json\n",
    "from itertools import chain\n",
    "from pydash import pick\n",
    "\n",
    "from lib.parallel import parallel"
   ]
  },
  {
   "cell_type": "code",
   "execution_count": 3,
   "metadata": {
    "Collapsed": "false"
   },
   "outputs": [],
   "source": [
    "images_dir = Path('./images')\n",
    "gallery_dir = Path('./bad-vis-images')"
   ]
  },
  {
   "cell_type": "code",
   "execution_count": 4,
   "metadata": {
    "Collapsed": "false"
   },
   "outputs": [],
   "source": [
    "!rm -r {gallery_dir}"
   ]
  },
  {
   "cell_type": "code",
   "execution_count": 5,
   "metadata": {
    "Collapsed": "false"
   },
   "outputs": [],
   "source": [
    "gallery_dir.mkdir(exist_ok=True)\n",
    "preview_dir = gallery_dir/'preview'\n",
    "preview_dir.mkdir(exist_ok=True)\n",
    "thumbnail_dir = gallery_dir/'thumbnail'\n",
    "thumbnail_dir.mkdir(exist_ok=True)\n",
    "meta_dir = gallery_dir/'meta'\n",
    "meta_dir.mkdir(exist_ok=True)\n",
    "imagelist_dir = gallery_dir/'image_lists'\n",
    "imagelist_dir.mkdir(exist_ok=True)"
   ]
  },
  {
   "cell_type": "code",
   "execution_count": 6,
   "metadata": {
    "Collapsed": "false"
   },
   "outputs": [],
   "source": [
    "mongo = MongoClient('172.17.0.1', 27017)\n",
    "db = mongo['bad-vis']\n",
    "posts = db['posts']\n",
    "imagededup = db['imagededup']\n",
    "visimages = db['visimages']"
   ]
  },
  {
   "cell_type": "code",
   "execution_count": 7,
   "metadata": {
    "Collapsed": "false"
   },
   "outputs": [],
   "source": [
    "visimages.drop()"
   ]
  },
  {
   "cell_type": "code",
   "execution_count": 8,
   "metadata": {
    "Collapsed": "false"
   },
   "outputs": [],
   "source": [
    "thumbnail_size = 140"
   ]
  },
  {
   "cell_type": "code",
   "execution_count": 9,
   "metadata": {
    "Collapsed": "false"
   },
   "outputs": [],
   "source": [
    "def finalize_image (image):\n",
    "    image['image_name'] = f\"{image['id']}_{image['index_in_album']}\"\n",
    "    image['image_path'] = str(preview_dir/f\"{image['image_name']}{image['ext']}\")\n",
    "    copyfile(image['file_path'], image['image_path'])\n",
    "\n",
    "    image['thumbnail_path'] = str(thumbnail_dir/f\"{image['image_name']}.jpg\")\n",
    "    ratio = thumbnail_size / max([image['width'], image['height']])\n",
    "    image['thumbnail_width'] = min([thumbnail_size, int(round(image['width'] * ratio))])\n",
    "    image['thumbnail_height'] = min([thumbnail_size, int(round(image['height'] * ratio))])\n",
    "\n",
    "    im = Image.open(image['file_path']).convert('RGB')\n",
    "    im.thumbnail((image['thumbnail_width'], image['thumbnail_height']))\n",
    "    im.save(image['thumbnail_path'], 'JPEG')\n",
    "\n",
    "    del image['_id']\n",
    "\n",
    "    with open(meta_dir/f\"{image['image_name']}.json\", 'w') as f:\n",
    "        json.dump(image, f)\n",
    "\n",
    "    visimages.insert_one(image)\n",
    "\n",
    "    return image"
   ]
  },
  {
   "cell_type": "code",
   "execution_count": 10,
   "metadata": {
    "Collapsed": "false"
   },
   "outputs": [
    {
     "data": {
      "application/vnd.jupyter.widget-view+json": {
       "model_id": "2477401a3a6445e1be8b9c4aafcf1226",
       "version_major": 2,
       "version_minor": 0
      },
      "text/plain": [
       "HBox(children=(FloatProgress(value=0.0, max=7249.0), HTML(value='')))"
      ]
     },
     "metadata": {},
     "output_type": "display_data"
    },
    {
     "name": "stderr",
     "output_type": "stream",
     "text": [
      "/opt/conda/lib/python3.7/site-packages/PIL/Image.py:932: UserWarning: Palette images with Transparency expressed in bytes should be converted to RGBA images\n",
      "  \"Palette images with Transparency expressed in bytes should be \"\n",
      "/opt/conda/lib/python3.7/site-packages/PIL/Image.py:2766: DecompressionBombWarning: Image size (135364608 pixels) exceeds limit of 89478485 pixels, could be decompression bomb DOS attack.\n",
      "  DecompressionBombWarning,\n",
      "/opt/conda/lib/python3.7/site-packages/PIL/Image.py:2766: DecompressionBombWarning: Image size (100000000 pixels) exceeds limit of 89478485 pixels, could be decompression bomb DOS attack.\n",
      "  DecompressionBombWarning,\n"
     ]
    },
    {
     "name": "stdout",
     "output_type": "stream",
     "text": [
      "\n"
     ]
    }
   ],
   "source": [
    "images = parallel(finalize_image, imagededup.find(), total=imagededup.estimated_document_count())"
   ]
  },
  {
   "cell_type": "markdown",
   "metadata": {
    "Collapsed": "false"
   },
   "source": [
    "# Image Lists"
   ]
  },
  {
   "cell_type": "code",
   "execution_count": 11,
   "metadata": {
    "Collapsed": "false"
   },
   "outputs": [],
   "source": [
    "visImages = [i for i in visimages.find()]"
   ]
  },
  {
   "cell_type": "code",
   "execution_count": 12,
   "metadata": {
    "Collapsed": "false"
   },
   "outputs": [],
   "source": [
    "visImages.sort(key=lambda x: x['popularity_score'])"
   ]
  },
  {
   "cell_type": "code",
   "execution_count": 13,
   "metadata": {
    "Collapsed": "false"
   },
   "outputs": [],
   "source": [
    "visImages.reverse()"
   ]
  },
  {
   "cell_type": "code",
   "execution_count": 14,
   "metadata": {
    "Collapsed": "false"
   },
   "outputs": [],
   "source": [
    "attrs = [\n",
    "    'id',\n",
    "    'image_name',\n",
    "    'image_path',\n",
    "    'thumbnail_path',\n",
    "\n",
    "    'datetime',\n",
    "    'url',\n",
    "    'title',\n",
    "    'author',\n",
    "    'source',\n",
    "    'source_url',\n",
    "    'source_platform',\n",
    "    'popularity_score',\n",
    "\n",
    "    'size',\n",
    "    'width',\n",
    "    'height',\n",
    "    'phash',\n",
    "\n",
    "    'animated',\n",
    "    'tags',\n",
    "    'labels',\n",
    "]"
   ]
  },
  {
   "cell_type": "code",
   "execution_count": 15,
   "metadata": {
    "Collapsed": "false"
   },
   "outputs": [],
   "source": [
    "for i in range(len(visImages)):\n",
    "    del visImages[i]['_id']"
   ]
  },
  {
   "cell_type": "code",
   "execution_count": 16,
   "metadata": {
    "Collapsed": "false"
   },
   "outputs": [],
   "source": [
    "visImages = [pick(i, *attrs) for i in visImages]"
   ]
  },
  {
   "cell_type": "code",
   "execution_count": 17,
   "metadata": {
    "Collapsed": "false"
   },
   "outputs": [],
   "source": [
    "json.dump({'images': visImages}, open(imagelist_dir/'all.json', 'w'), separators=(',', ':'))"
   ]
  },
  {
   "cell_type": "code",
   "execution_count": 18,
   "metadata": {
    "Collapsed": "false"
   },
   "outputs": [],
   "source": [
    "batch_cuts = [0] + [i for i in range(225, len(visImages), 400)] + [len(visImages)]\n",
    "for (batch_begin, batch_end) in zip(batch_cuts[:-1], batch_cuts[1:]):\n",
    "    json.dump({\n",
    "        'images': visImages[batch_begin:batch_end],\n",
    "        'next': f\"image_lists/{batch_end}.json\" if batch_end != len(visImages) else None\n",
    "    }, open(imagelist_dir/f\"{batch_begin}.json\", 'w'), separators=(',', ':'))"
   ]
  },
  {
   "cell_type": "markdown",
   "metadata": {
    "Collapsed": "false"
   },
   "source": [
    "# Sprite"
   ]
  },
  {
   "cell_type": "code",
   "execution_count": 19,
   "metadata": {
    "Collapsed": "false"
   },
   "outputs": [],
   "source": [
    "# ims = []\n",
    "# sprites_path = str(gallery_dir/'0.jpg')\n",
    "# for i in range(225):\n",
    "#     visImage = visImages[i]\n",
    "#     visImage['sprites_path'] = sprites_path\n",
    "#     visImage['sprites_pos_x'] = (i % 15) * thumbnail_size\n",
    "#     visImage['sprites_pos_y'] = (i // 15) * thumbnail_size\n",
    "#     im = cv2.imread(visImage['thumbnail_path'])\n",
    "#     w, h = im.shape[:2]\n",
    "#     new_im = cv2.copyMakeBorder(im, 0, thumbnail_size-w, 0, thumbnail_size-h, cv2.BORDER_CONSTANT, value=[0, 0, 0])\n",
    "#     ims.append(new_im)\n",
    "# montages = imutils.build_montages(ims, (140, 140), (15, 15))\n",
    "# cv2.imwrite(sprites_path, montages[0])"
   ]
  },
  {
   "cell_type": "code",
   "execution_count": null,
   "metadata": {
    "Collapsed": "false"
   },
   "outputs": [],
   "source": []
  }
 ],
 "metadata": {
  "kernelspec": {
   "display_name": "Python 3",
   "language": "python",
   "name": "python3"
  },
  "language_info": {
   "codemirror_mode": {
    "name": "ipython",
    "version": 3
   },
   "file_extension": ".py",
   "mimetype": "text/x-python",
   "name": "python",
   "nbconvert_exporter": "python",
   "pygments_lexer": "ipython3",
   "version": "3.7.6"
  }
 },
 "nbformat": 4,
 "nbformat_minor": 4
}
