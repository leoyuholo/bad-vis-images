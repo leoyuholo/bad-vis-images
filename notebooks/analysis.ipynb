{
 "cells": [
  {
   "cell_type": "code",
   "execution_count": 1,
   "metadata": {},
   "outputs": [],
   "source": [
    "import json\n",
    "import pydash as _\n",
    "\n",
    "from IPython.display import JSON"
   ]
  },
  {
   "cell_type": "code",
   "execution_count": 2,
   "metadata": {},
   "outputs": [],
   "source": [
    "labelOptions = json.load(open('./tmp/labelOptions.json'))"
   ]
  },
  {
   "cell_type": "code",
   "execution_count": 3,
   "metadata": {},
   "outputs": [
    {
     "data": {
      "application/json": [
       {
        "category": "fault",
        "grouped": true,
        "hierarchical": true,
        "name": "Issues",
        "options": [
         {
          "count": 9,
          "description": "Cherry-picking the scope of data, e.g., picking an arbitrary starting point of the time axis.",
          "name": "Selective Data",
          "subcategories": [
           "data"
          ],
          "tag": "fault:data:selective"
         },
         {
          "count": 8,
          "description": "Null values in the chart that causes confusion.",
          "name": "Missing Values",
          "subcategories": [
           "data"
          ],
          "tag": "fault:data:missingvalues"
         },
         {
          "count": 2,
          "description": "Items appear more than once in the chart.",
          "name": "Redundant Values",
          "subcategories": [
           "data"
          ],
          "tag": "fault:data:redundant"
         },
         {
          "count": 25,
          "description": "Dubious data source.",
          "name": "Questionable Data",
          "subcategories": [
           "data"
          ],
          "tag": "fault:data:questionable"
         },
         {
          "count": 16,
          "description": "Not real data, but drawn like backed by data.",
          "name": "Hypothetical Data",
          "subcategories": [
           "data"
          ],
          "tag": "fault:data:hypothetical"
         },
         {
          "count": 17,
          "description": "Items are grouped arbitrarily.",
          "name": "Arbitrary Binning",
          "subcategories": [
           "derive"
          ],
          "tag": "fault:binning"
         },
         {
          "count": 25,
          "description": "Items are not sorted, or out of order.",
          "name": "Items Out of Order",
          "subcategories": [
           "derive"
          ],
          "tag": "fault:itemorder"
         },
         {
          "count": 50,
          "description": "Percentages do not add up to 100% in a whole-part relationship.",
          "name": "Percentage Not 100%",
          "subcategories": [
           "derive"
          ],
          "tag": "fault:percentage:sum"
         },
         {
          "count": 26,
          "description": "Improper use of statistics, e.g., a regression line with high error.",
          "name": "Faulty Regression",
          "subcategories": [
           "derive"
          ],
          "tag": "fault:faultystatistics"
         },
         {
          "count": 9,
          "description": "Plotting future data points derived from unreliable prediction.",
          "name": "Unreliable Forecasting",
          "subcategories": [
           "derive"
          ],
          "tag": "fault:data:prediction"
         },
         {
          "count": 11,
          "description": "Poor positioning, alignment, or rotation of items.",
          "name": "Poor Positioning",
          "subcategories": [
           "graph"
          ],
          "tag": "fault:position"
         },
         {
          "count": 13,
          "description": "Valid encoding choice but incorrectly drawn, e.g., a glitch.",
          "name": "Plotting Error",
          "subcategories": [
           "graph"
          ],
          "tag": "fault:encoding"
         },
         {
          "count": 38,
          "description": "Too many colors, mostly related to the scalability issues.",
          "name": "Too Many Colors",
          "subcategories": [
           "graph",
           "color"
          ],
          "tag": "fault:color:over12"
         },
         {
          "count": 184,
          "description": "The geometric shapes do not match the labelled values.",
          "name": "Misrepresentation",
          "subcategories": [
           "graph",
           "scale"
          ],
          "tag": "fault:scale:inconsistent"
         },
         {
          "count": 18,
          "description": "Different scales across related charts.",
          "name": "Inconsistent Scale Across",
          "subcategories": [
           "graph",
           "scale"
          ],
          "tag": "fault:scale:inconsistentacross"
         },
         {
          "count": 24,
          "description": "Missing label for item details.",
          "name": "Missing Item Labels",
          "subcategories": [
           "graph",
           "text"
          ],
          "tag": "fault:missinglabel"
         },
         {
          "count": 34,
          "description": "Items are labeled with incorrect description.",
          "name": "Incorrect Item Labels",
          "subcategories": [
           "graph",
           "text"
          ],
          "tag": "fault:wronglabel"
         },
         {
          "count": 49,
          "description": "Axis is missing for a coordinated chart.",
          "name": "Missing Axis",
          "subcategories": [
           "graph",
           "axis"
          ],
          "tag": "fault:axis:missing"
         },
         {
          "count": 38,
          "description": "Axis is not labeled with tick marks.",
          "name": "Missing Axis Labels",
          "subcategories": [
           "graph",
           "axis",
           "text"
          ],
          "tag": "fault:axis:label"
         },
         {
          "count": 39,
          "description": "Axis is incorrectly labeled.",
          "name": "Incorrect Axis Labels",
          "subcategories": [
           "graph",
           "axis",
           "text"
          ],
          "tag": "fault:axis:incorrectlabel"
         },
         {
          "count": 5,
          "description": "Intervals on an axis does not follow a scale.",
          "name": "Inconsistent Tick Interval",
          "subcategories": [
           "graph",
           "axis"
          ],
          "tag": "fault:inconsistentaxisinterval"
         },
         {
          "count": 17,
          "description": "Inconsistent time interval between data points.",
          "name": "Inconsistent Time Interval",
          "subcategories": [
           "graph",
           "axis"
          ],
          "tag": "fault:inconsistentinterval"
         },
         {
          "count": 39,
          "description": "Legend is needed but missing.",
          "name": "Missing Legend",
          "subcategories": [
           "graph",
           "scale"
          ],
          "tag": "fault:legend"
         },
         {
          "count": 77,
          "description": "Chart is understandable, but unintuitive, there are better alternatives.",
          "name": "Ineffective Encoding",
          "subcategories": [
           "visual",
           "encoding"
          ],
          "tag": "fault:betteralternative"
         },
         {
          "count": 80,
          "description": "Categorical colors are undistinguishable with each other.",
          "name": "Undistinguishable Colors",
          "subcategories": [
           "visual",
           "color"
          ],
          "tag": "fault:colormess"
         },
         {
          "count": 15,
          "description": "Eye beats memory, comparing changes across animation frames is impossible.",
          "name": "Unjustified Animation",
          "subcategories": [
           "visual"
          ],
          "tag": "fault:animation"
         },
         {
          "count": 35,
          "description": "Lengend is not helpful in understanding the chart.",
          "name": "Confusing Legend",
          "subcategories": [
           "visual",
           "scale"
          ],
          "tag": "fault:legendconfuse"
         },
         {
          "count": 11,
          "description": "Labels are hard to understand or not understandable at all.",
          "name": "Confusing Label",
          "subcategories": [
           "visual",
           "text"
          ],
          "tag": "fault:labelconfuse"
         },
         {
          "count": 51,
          "description": "Overwhelmed by visual clutter.",
          "name": "Cluttering",
          "subcategories": [
           "visual"
          ],
          "tag": "fault:cluttering"
         },
         {
          "count": 17,
          "description": "Some items are not visible in the visualization because of blockage by another item.",
          "name": "Occlusion",
          "subcategories": [
           "visual"
          ],
          "tag": "fault:occulusion"
         },
         {
          "count": 16,
          "description": "Chart ornament that causes negative effect in understanding.",
          "name": "Chart Junk",
          "subcategories": [
           "visual"
          ],
          "tag": "fault:chartjunk"
         },
         {
          "count": 29,
          "description": "Text in the chart are illegible.",
          "name": "Illegible Text",
          "subcategories": [
           "visual",
           "text"
          ],
          "tag": "fault:legibility"
         },
         {
          "count": 18,
          "description": "Very disturbing while looking at it.",
          "name": "Visually Awful",
          "subcategories": [
           "visual"
          ],
          "tag": "fault:visuallyawful"
         },
         {
          "count": 34,
          "description": "Ineffective color scheme, e.g., categorical colors for continuous variable.",
          "name": "Ineffective Color Scheme",
          "subcategories": [
           "perception",
           "color"
          ],
          "tag": "fault:colorscale"
         },
         {
          "count": 15,
          "description": "Mismatch between colors and the objects that they represent, e.g., blue for apples.",
          "name": "Color Mismatch",
          "subcategories": [
           "perception",
           "color"
          ],
          "tag": "fault:colorconvention"
         },
         {
          "count": 6,
          "description": "Distort map projection to encode information",
          "name": "Distorted Map Projection",
          "subcategories": [
           "perception",
           "encoding"
          ],
          "tag": "fault:mapprojection"
         },
         {
          "count": 4,
          "description": "Incorrect use of log scale.",
          "name": "Incorrect Use of Log Scale",
          "subcategories": [
           "perception",
           "scale"
          ],
          "tag": "fault:scale:log"
         },
         {
          "count": 21,
          "description": "Plotting more than one different scale on a single dimension, most often the y-axis.",
          "name": "Dual Axes",
          "subcategories": [
           "perception",
           "axis"
          ],
          "tag": "fault:axis:double"
         },
         {
          "count": 19,
          "description": "Axis values are increasing in an unconventional direction.",
          "name": "Flipped Axis",
          "subcategories": [
           "perception",
           "axis"
          ],
          "tag": "fault:axis:flipped"
         },
         {
          "count": 75,
          "description": "Non-zero starting point on an axis that exaggerates or understates differences between items.",
          "name": "Truncated Axis",
          "subcategories": [
           "perception",
           "axis"
          ],
          "tag": "fault:axis:truncated"
         },
         {
          "count": 7,
          "description": "Items with same or similar colors are not related.",
          "name": "False Color Correlation",
          "subcategories": [
           "perception",
           "color"
          ],
          "tag": "fault:colorcorrelation"
         },
         {
          "count": 69,
          "description": "Unjustified use of 3D, it distorts the perceived size of the items.",
          "name": "Unjustified 3D",
          "subcategories": [
           "perception"
          ],
          "tag": "fault:3d"
         },
         {
          "count": 27,
          "description": "Incorrect use of area encoding that exaggerates or understates differences between items.",
          "name": "Area Encoding",
          "subcategories": [
           "perception",
           "encoding"
          ],
          "tag": "fault:area"
         },
         {
          "count": 16,
          "description": "Pictogram is improperly scaled to reflect value differences.",
          "name": "Area Encoded Pictogram",
          "subcategories": [
           "perception",
           "encoding"
          ],
          "tag": "fault:picto:distortion"
         },
         {
          "count": 5,
          "description": "Misleading annotation or highlight that suggests unfaithful message.",
          "name": "Misleading Annotation",
          "subcategories": [
           "logical",
           "text"
          ],
          "tag": "fault:annotation"
         },
         {
          "count": 25,
          "description": "Looks like a visualization, but not visualizing any data, also known as non-sequitur.",
          "name": "Disguised Visualization",
          "subcategories": [
           "logical"
          ],
          "tag": "fault:nonsequitur"
         },
         {
          "count": 23,
          "description": "Description and visualization do not add up.",
          "name": "False Description",
          "subcategories": [
           "logical",
           "text"
          ],
          "tag": "fault:description"
         },
         {
          "count": 11,
          "description": "Lines or arrows are connecting unrelated dots.",
          "name": "Invalid Connection",
          "subcategories": [
           "logical",
           "encoding"
          ],
          "tag": "fault:connection"
         },
         {
          "count": 12,
          "description": "Data is drawn to an unconventional scale.",
          "name": "Cryptic Scale",
          "subcategories": [
           "logical",
           "scale"
          ],
          "tag": "fault:scale"
         },
         {
          "count": 34,
          "description": "Cannot decode any data nor information.",
          "name": "Not Understandable",
          "subcategories": [
           "logical"
          ],
          "tag": "fault:cannotunderstand"
         },
         {
          "count": 11,
          "description": "Not whole-part relationship but draw as a chart for whole-part relationship like pie chart.",
          "name": "Faulty Whole Part",
          "subcategories": [
           "logical"
          ],
          "tag": "fault:percentage:wholepart"
         },
         {
          "count": 10,
          "description": "Conveying an illogical message.",
          "name": "Faulty Logic",
          "subcategories": [
           "logical"
          ],
          "tag": "fault:faultylogic"
         },
         {
          "count": 10,
          "description": "Need background information in order to understand the message.",
          "name": "Missing Context",
          "subcategories": [
           "logical"
          ],
          "tag": "fault:missingcontext"
         },
         {
          "count": 14,
          "description": "Comparison between items that are incomparable.",
          "name": "Invalid Comparison",
          "subcategories": [
           "logical"
          ],
          "tag": "fault:invalidcomparison"
         },
         {
          "count": 3,
          "description": "The observed pattern is nothing more than the pattern of population density.",
          "name": "Just a Population Map",
          "subcategories": [
           "logical"
          ],
          "tag": "fault:map:population"
         },
         {
          "count": 2,
          "description": "Suggesting causal relationships from correlations.",
          "name": "Spurious Correlation",
          "subcategories": [
           "logical"
          ],
          "tag": "fault:spuriousocorrelation"
         }
        ],
        "sorted": true,
        "subcategories": [
         {
          "category": "fault",
          "description": "Issues related to the axes of coordinated planes",
          "group": "grammar",
          "name": "Axis",
          "subcategory": "axis"
         },
         {
          "category": "fault",
          "description": "Issues related to legends and the use of scales",
          "group": "grammar",
          "name": "Legends and Scales",
          "subcategory": "scale"
         },
         {
          "category": "fault",
          "description": "Issues in the use of colors",
          "group": "grammar",
          "name": "Color",
          "subcategory": "color"
         },
         {
          "category": "fault",
          "description": "Issues related to titles, annotations and labels",
          "group": "grammar",
          "name": "Text",
          "subcategory": "text"
         },
         {
          "category": "fault",
          "description": "Issues related to visual encoding",
          "group": "grammar",
          "name": "Encoding",
          "subcategory": "encoding"
         },
         {
          "category": "fault",
          "description": "Issues related to the underlying data, its sources and completeness",
          "group": "pipeline",
          "name": "Data",
          "subcategory": "data"
         },
         {
          "category": "fault",
          "description": "Issues introduced when processing data or applying statistical transformations",
          "group": "pipeline",
          "name": "Data Transformation",
          "subcategory": "derive"
         },
         {
          "category": "fault",
          "description": "Issues introduced in the graph drawing process, leads to missing graph elements or incomplete graph",
          "group": "pipeline",
          "name": "Graph Drawing",
          "subcategory": "graph"
         },
         {
          "category": "fault",
          "description": "Difficulties in reading",
          "group": "pipeline",
          "name": "Reading",
          "subcategory": "visual"
         },
         {
          "category": "fault",
          "description": "Issues related to the weaknesses in human perception",
          "group": "pipeline",
          "name": "Perception",
          "subcategory": "perception"
         },
         {
          "category": "fault",
          "description": "Visualizations that are trying to convey nonsense or illogical messages",
          "group": "pipeline",
          "name": "Message",
          "subcategory": "logical"
         }
        ]
       },
       {
        "category": "form",
        "group_subcat_threshold": 10,
        "name": "Chart Types",
        "options": [
         {
          "count": 289,
          "name": "Bar Chart",
          "subcategory": "bar",
          "tag": "form:barchart"
         },
         {
          "count": 37,
          "name": "Stacked Bar Chart",
          "subcategory": "bar",
          "tag": "form:stackedbarchart"
         },
         {
          "count": 6,
          "name": "Dot Plot",
          "subcategory": "bar",
          "tag": "form:dotplot"
         },
         {
          "count": 4,
          "name": "Histogram",
          "subcategory": "bar",
          "tag": "form:histogram"
         },
         {
          "count": 2,
          "name": "Barcode Chart",
          "subcategory": "bar",
          "tag": "form:barcodechart"
         },
         {
          "count": 7,
          "name": "Progress Bar",
          "subcategory": "bar",
          "tag": "form:progressbar"
         },
         {
          "count": 195,
          "name": "Line Chart",
          "subcategory": "line",
          "tag": "form:linechart"
         },
         {
          "count": 23,
          "name": "Node-Link Diagram",
          "subcategory": "line",
          "tag": "form:nodelink"
         },
         {
          "count": 5,
          "name": "Parallel Coordinates",
          "subcategory": "line",
          "tag": "form:parallelcoor"
         },
         {
          "count": 1,
          "name": "Radar Chart",
          "subcategory": "line",
          "tag": "form:radarchart"
         },
         {
          "count": 12,
          "name": "Sankey Diagram",
          "subcategory": "line",
          "tag": "form:sankeydiagram"
         },
         {
          "count": 8,
          "name": "Box Plot",
          "subcategory": "line",
          "tag": "form:boxplot"
         },
         {
          "count": 1,
          "name": "Violin Plot",
          "subcategory": "line",
          "tag": "form:violinplot"
         },
         {
          "count": 1,
          "name": "Time Line",
          "subcategory": "line",
          "tag": "form:timeline"
         },
         {
          "count": 5,
          "name": "Flow Chart",
          "subcategory": "line",
          "tag": "form:flowchart"
         },
         {
          "count": 10,
          "name": "Connected Scatter Plot",
          "subcategory": "dot",
          "tag": "form:connectedscatterplot"
         },
         {
          "count": 24,
          "name": "Scatter Plot",
          "subcategory": "dot",
          "tag": "form:scatterplot"
         },
         {
          "count": 3,
          "name": "Dumbbell Plot",
          "subcategory": "dot",
          "tag": "form:dumbbellplot"
         },
         {
          "count": 5,
          "name": "Polar Graph",
          "subcategory": "dot",
          "tag": "form:polargraph"
         },
         {
          "count": 5,
          "name": "Bubble Chart",
          "subcategory": "circle",
          "tag": "form:bubblechart"
         },
         {
          "count": 156,
          "name": "Pie Chart",
          "subcategory": "circle",
          "tag": "form:piechart"
         },
         {
          "count": 59,
          "name": "Donut Chart",
          "subcategory": "circle",
          "tag": "form:donutchart"
         },
         {
          "count": 3,
          "name": "Guage Chart",
          "subcategory": "circle",
          "tag": "form:guagechart"
         },
         {
          "count": 1,
          "name": "Sunbrust Diagram",
          "subcategory": "circle",
          "tag": "form:sunbrust"
         },
         {
          "count": 21,
          "name": "Venn Diagram",
          "subcategory": "circle",
          "tag": "form:venn"
         },
         {
          "count": 4,
          "name": "Nested Bubbles",
          "subcategory": "circle",
          "tag": "form:nestedbubble"
         },
         {
          "count": 7,
          "name": "Polar Area Chart",
          "subcategory": "circle",
          "tag": "form:polararea"
         },
         {
          "count": 3,
          "name": "Chord Diagram",
          "subcategory": "circle",
          "tag": "form:chord"
         },
         {
          "count": 29,
          "name": "Area Chart",
          "subcategory": "area",
          "tag": "form:areachart"
         },
         {
          "count": 13,
          "name": "Stacked Area Chart",
          "subcategory": "area",
          "tag": "form:stackedareachart"
         },
         {
          "count": 1,
          "name": "Stream Graph",
          "subcategory": "area",
          "tag": "form:streamgraph"
         },
         {
          "count": 6,
          "name": "Treemap",
          "subcategory": "area",
          "tag": "form:treemap"
         },
         {
          "count": 4,
          "name": "Voronoi Diagram",
          "subcategory": "area",
          "tag": "form:voronoi"
         },
         {
          "count": 7,
          "name": "Pyramid",
          "subcategory": "area",
          "tag": "form:pyramid"
         },
         {
          "count": 7,
          "name": "Proportional Area Chart",
          "subcategory": "area",
          "tag": "form:proportionalarea"
         },
         {
          "count": 85,
          "name": "Choropleth",
          "subcategory": "map",
          "tag": "form:choropleth"
         },
         {
          "count": 2,
          "name": "Flow Map",
          "subcategory": "map",
          "tag": "form:flowmap"
         },
         {
          "count": 50,
          "name": "Map",
          "subcategory": "map",
          "tag": "form:map"
         },
         {
          "count": 43,
          "name": "Table",
          "subcategory": "table",
          "tag": "form:table"
         },
         {
          "count": 10,
          "name": "Heatmap",
          "subcategory": "table",
          "tag": "form:heatmap"
         },
         {
          "count": 5,
          "name": "Quadrant",
          "subcategory": "table",
          "tag": "form:quadrant"
         },
         {
          "count": 67,
          "name": "Pictogram",
          "subcategory": "icon",
          "tag": "form:pictogram"
         },
         {
          "count": 3,
          "name": "Chernoff Face",
          "subcategory": "icon",
          "tag": "form:chernoffface"
         },
         {
          "count": 4,
          "name": "Diagram",
          "subcategory": "other",
          "tag": "form:diagram"
         },
         {
          "count": 1,
          "name": "Word Cloud",
          "subcategory": "other",
          "tag": "form:wordle"
         },
         {
          "count": 37,
          "name": "Unclassified",
          "subcategory": "other",
          "tag": "form:unknown"
         }
        ],
        "subcategories": [
         {
          "category": "form",
          "name": "Bar",
          "subcategory": "bar"
         },
         {
          "category": "form",
          "name": "Line",
          "subcategory": "line"
         },
         {
          "category": "form",
          "name": "Dot",
          "subcategory": "dot"
         },
         {
          "category": "form",
          "name": "Circle",
          "subcategory": "circle"
         },
         {
          "category": "form",
          "name": "Area",
          "subcategory": "area"
         },
         {
          "category": "form",
          "name": "Map",
          "subcategory": "map"
         },
         {
          "category": "form",
          "name": "Table",
          "subcategory": "table"
         },
         {
          "category": "form",
          "name": "Icon",
          "subcategory": "icon"
         },
         {
          "category": "form",
          "name": "Other",
          "subcategory": "other"
         }
        ]
       },
       {
        "category": "data",
        "name": "Data Types",
        "options": [
         {
          "count": 737,
          "name": "Categorical",
          "subcategory": "attribute",
          "tag": "data:categorical"
         },
         {
          "count": 481,
          "name": "Quantitative",
          "subcategory": "attribute",
          "tag": "data:quantitative"
         },
         {
          "count": 48,
          "name": "Sequential",
          "subcategory": "attribute",
          "tag": "data:sequential"
         },
         {
          "count": 14,
          "name": "Diverging",
          "subcategory": "attribute",
          "tag": "data:diverging"
         },
         {
          "count": 36,
          "name": "Ordinal",
          "subcategory": "attribute",
          "tag": "data:ordinal"
         },
         {
          "count": 243,
          "name": "Time Series",
          "subcategory": "time",
          "tag": "data:timeseries"
         },
         {
          "count": 9,
          "name": "Cyclic",
          "subcategory": "time",
          "tag": "data:cyclic"
         },
         {
          "count": 126,
          "name": "Geospatial",
          "subcategory": "position",
          "tag": "data:geospatial"
         },
         {
          "count": 2,
          "name": "Flow",
          "subcategory": "position",
          "tag": "data:flow"
         },
         {
          "count": 4,
          "name": "Bitmap",
          "subcategory": "position",
          "tag": "data:bitmap"
         },
         {
          "count": 6,
          "name": "Positional",
          "subcategory": "position",
          "tag": "data:positional"
         },
         {
          "count": 36,
          "name": "Network",
          "subcategory": "relation",
          "tag": "data:network"
         },
         {
          "count": 4,
          "name": "Tree",
          "subcategory": "relation",
          "tag": "data:tree"
         },
         {
          "count": 22,
          "name": "Set",
          "subcategory": "relation",
          "tag": "data:set"
         },
         {
          "count": 15,
          "name": "Ranked",
          "subcategory": "derived",
          "tag": "data:ranking"
         },
         {
          "count": 30,
          "name": "Index Value",
          "subcategory": "derived",
          "tag": "data:indexvalue"
         },
         {
          "count": 4,
          "name": "Accumulated",
          "subcategory": "derived",
          "tag": "data:accumulated"
         },
         {
          "count": 401,
          "name": "Percentage",
          "subcategory": "derived",
          "tag": "data:percentage"
         },
         {
          "count": 5,
          "name": "Probability",
          "subcategory": "derived",
          "tag": "data:probability"
         },
         {
          "count": 5,
          "name": "Text",
          "subcategory": "other",
          "tag": "data:text"
         },
         {
          "count": 9,
          "name": "Multivariate",
          "subcategory": "other",
          "tag": "data:multivariate"
         }
        ],
        "subcategories": [
         {
          "category": "data",
          "description": "Basic attributes",
          "name": "Attribute",
          "subcategory": "attribute"
         },
         {
          "category": "data",
          "description": "Derived attributes",
          "name": "Derived",
          "subcategory": "derived"
         },
         {
          "category": "data",
          "description": "Time related data",
          "name": "Time",
          "subcategory": "time"
         },
         {
          "category": "data",
          "description": "Spatial meaning in x-, y-, or z-axes",
          "name": "Coordinated",
          "subcategory": "position"
         },
         {
          "category": "data",
          "description": "Items are inter-linked",
          "name": "Relational",
          "subcategory": "relation"
         },
         {
          "category": "data",
          "description": "Other uncategorized data types",
          "name": "Other",
          "subcategory": "other"
         }
        ]
       },
       {
        "category": "domain",
        "name": "Domains",
        "options": [
         {
          "count": 134,
          "name": "Politics",
          "tag": "domain:politics"
         },
         {
          "count": 100,
          "name": "Business",
          "tag": "domain:business"
         },
         {
          "count": 103,
          "name": "Entertainment",
          "tag": "domain:entertainment"
         },
         {
          "count": 34,
          "name": "Scientific",
          "tag": "domain:scientific"
         },
         {
          "count": 52,
          "name": "Sports",
          "tag": "domain:sports"
         },
         {
          "count": 139,
          "name": "Health",
          "tag": "domain:health"
         },
         {
          "count": 54,
          "name": "Education",
          "tag": "domain:education"
         },
         {
          "count": 36,
          "name": "Food",
          "tag": "domain:catering"
         },
         {
          "count": 94,
          "name": "Computer",
          "tag": "domain:computer"
         },
         {
          "count": 65,
          "name": "Environment",
          "tag": "domain:environment"
         },
         {
          "count": 84,
          "name": "International",
          "tag": "domain:international"
         },
         {
          "count": 197,
          "name": "Public",
          "tag": "domain:public"
         },
         {
          "count": 56,
          "name": "Personal",
          "tag": "domain:personal"
         },
         {
          "count": 39,
          "name": "Unknown",
          "tag": "domain:unknown"
         }
        ]
       },
       {
        "category": "media",
        "name": "Medium",
        "options": [
         {
          "count": 63,
          "name": "TV",
          "tag": "media:tv"
         },
         {
          "count": 15,
          "name": "News Article",
          "tag": "media:news"
         },
         {
          "count": 20,
          "name": "Ads",
          "tag": "media:ads"
         },
         {
          "count": 95,
          "name": "Printed",
          "tag": "media:printed"
         },
         {
          "count": 12,
          "name": "Handdrawn",
          "tag": "media:handdrawn"
         },
         {
          "count": 5,
          "name": "Inreallife",
          "tag": "media:inreallife"
         },
         {
          "count": 8,
          "name": "NSFW",
          "tag": "media:NSFW"
         },
         {
          "count": 23,
          "name": "Infographic",
          "tag": "media:infographic"
         },
         {
          "count": 15,
          "name": "Google Products",
          "tag": "media:google"
         }
        ]
       },
       {
        "category": "layout",
        "name": "Layouts",
        "options": [
         {
          "count": 14,
          "name": "Circular",
          "tag": "layout:circular"
         },
         {
          "count": 64,
          "name": "Juxtaposition",
          "tag": "layout:juxtaposition"
         },
         {
          "count": 8,
          "name": "Superimposed",
          "tag": "layout:overlay"
         },
         {
          "count": 18,
          "name": "Multiple-views",
          "tag": "layout:mixed"
         },
         {
          "count": 2,
          "name": "Periodictable",
          "tag": "layout:periodictable"
         },
         {
          "count": 5,
          "name": "Clock",
          "tag": "layout:clock"
         },
         {
          "count": 2,
          "name": "Calendar",
          "tag": "layout:calendar"
         }
        ]
       },
       {
        "category": "effect",
        "name": "Effects",
        "options": [
         {
          "count": 11,
          "name": "Reversed",
          "tag": "effect:reversed"
         },
         {
          "count": 477,
          "name": "Distorted",
          "tag": "effect:distorted"
         },
         {
          "count": 556,
          "name": "Confused",
          "tag": "effect:confuesed"
         },
         {
          "count": 25,
          "name": "Suggestive",
          "tag": "effect:suggestive"
         }
        ]
       },
       {
        "category": "flag",
        "name": "Flags",
        "options": [
         {
          "count": 0,
          "name": "Need Review",
          "tag": "flag:needreview"
         },
         {
          "count": 0,
          "name": "Duplicated",
          "tag": "flag:duplicated"
         },
         {
          "count": 31,
          "name": "Invalid",
          "tag": "flag:invalid"
         },
         {
          "count": 98,
          "name": "Not Bad",
          "tag": "flag:notbad"
         },
         {
          "count": 4,
          "name": "Starred",
          "tag": "flag:starred"
         },
         {
          "count": 18,
          "name": "Parody",
          "tag": "flag:parody"
         }
        ]
       }
      ],
      "text/plain": [
       "<IPython.core.display.JSON object>"
      ]
     },
     "execution_count": 3,
     "metadata": {
      "application/json": {
       "expanded": false,
       "root": "root"
      }
     },
     "output_type": "execute_result"
    }
   ],
   "source": [
    "JSON(labelOptions)"
   ]
  },
  {
   "cell_type": "code",
   "execution_count": 4,
   "metadata": {},
   "outputs": [
    {
     "name": "stdout",
     "output_type": "stream",
     "text": [
      "Bar\tBar Chart, Stacked Bar Chart, Dot Plot, Histogram, Barcode Chart, Progress Bar\n",
      "Line\tLine Chart, Node-Link Diagram, Parallel Coordinates, Radar Chart, Sankey Diagram, Box Plot, Violin Plot, Time Line, Flow Chart\n",
      "Dot\tConnected Scatter Plot, Scatter Plot, Dumbbell Plot, Polar Graph\n",
      "Circle\tBubble Chart, Pie Chart, Donut Chart, Guage Chart, Sunbrust Diagram, Venn Diagram, Nested Bubbles, Polar Area Chart, Chord Diagram\n",
      "Area\tArea Chart, Stacked Area Chart, Stream Graph, Treemap, Voronoi Diagram, Pyramid, Proportional Area Chart\n",
      "Map\tChoropleth, Flow Map, Map\n",
      "Table\tTable, Heatmap, Quadrant\n",
      "Icon\tPictogram, Chernoff Face\n",
      "Other\tDiagram, Word Cloud, Unclassified\n",
      " \n",
      "Attribute\tCategorical, Quantitative, Sequential, Diverging, Ordinal\n",
      "Time\tTime Series, Cyclic\n",
      "Coordinated\tGeospatial, Flow, Bitmap, Positional\n",
      "Relational\tNetwork, Tree, Set\n",
      "Derived\tRanked, Index Value, Accumulated, Percentage, Probability\n",
      "Other\tText, Multivariate\n",
      " \n"
     ]
    }
   ],
   "source": [
    "for o in labelOptions[1:3]:\n",
    "    for k, v in _.group_by(o['options'], 'subcategory').items():\n",
    "        print(f\"{_.find(o['subcategories'], lambda x: x['subcategory'] == k)['name']}\\t{', '.join([t['name'] for t in v])}\")\n",
    "    print(' ')"
   ]
  },
  {
   "cell_type": "code",
   "execution_count": 5,
   "metadata": {},
   "outputs": [
    {
     "name": "stdout",
     "output_type": "stream",
     "text": [
      "Axis\n",
      "Legends and Scales\n",
      "Color\n",
      "Text\n",
      "Encoding\n",
      "Data\n",
      "Data Transformation\n",
      "Graph Drawing\n",
      "Reading\n",
      "Perception\n",
      "Message\n"
     ]
    }
   ],
   "source": [
    "grouped = _.group_by(labelOptions[0]['subcategories'], 'group')\n",
    "for group, subcats in grouped.items():\n",
    "    for s in subcats:\n",
    "        print(s['name'])"
   ]
  },
  {
   "cell_type": "code",
   "execution_count": 6,
   "metadata": {},
   "outputs": [
    {
     "name": "stdout",
     "output_type": "stream",
     "text": [
      "Data\tSelective Data\t\tCherry-picking the scope of data, e.g., picking an arbitrary starting point of the time axis.\n",
      "Data\tMissing Values\t\tNull values in the chart that causes confusion.\n",
      "Data\tRedundant Values\t\tItems appear more than once in the chart.\n",
      "Data\tQuestionable Data\t\tDubious data source.\n",
      "Data\tHypothetical Data\t\tNot real data, but drawn like backed by data.\n",
      "Data Transformation\tArbitrary Binning\t\tItems are grouped arbitrarily.\n",
      "Data Transformation\tItems Out of Order\t\tItems are not sorted, or out of order.\n",
      "Data Transformation\tPercentage Not 100%\t\tPercentages do not add up to 100% in a whole-part relationship.\n",
      "Data Transformation\tFaulty Regression\t\tImproper use of statistics, e.g., a regression line with high error.\n",
      "Data Transformation\tUnreliable Forecasting\t\tPlotting future data points derived from unreliable prediction.\n",
      "Graph Drawing\tPoor Positioning\t\tPoor positioning, alignment, or rotation of items.\n",
      "Graph Drawing\tPlotting Error\t\tValid encoding choice but incorrectly drawn, e.g., a glitch.\n",
      "Graph Drawing\tToo Many Colors\tColor\tToo many colors, mostly related to the scalability issues.\n",
      "Graph Drawing\tMisrepresentation\tLegends and Scales\tThe geometric shapes do not match the labelled values.\n",
      "Graph Drawing\tInconsistent Scale Across\tLegends and Scales\tDifferent scales across related charts.\n",
      "Graph Drawing\tMissing Item Labels\tText\tMissing label for item details.\n",
      "Graph Drawing\tIncorrect Item Labels\tText\tItems are labeled with incorrect description.\n",
      "Graph Drawing\tMissing Axis\tAxis\tAxis is missing for a coordinated chart.\n",
      "Graph Drawing\tMissing Axis Labels\tAxis\tAxis is not labeled with tick marks.\n",
      "Graph Drawing\tIncorrect Axis Labels\tAxis\tAxis is incorrectly labeled.\n",
      "Graph Drawing\tInconsistent Tick Interval\tAxis\tIntervals on an axis does not follow a scale.\n",
      "Graph Drawing\tInconsistent Time Interval\tAxis\tInconsistent time interval between data points.\n",
      "Graph Drawing\tMissing Legend\tLegends and Scales\tLegend is needed but missing.\n",
      "Reading\tIneffective Encoding\tEncoding\tChart is understandable, but unintuitive, there are better alternatives.\n",
      "Reading\tUndistinguishable Colors\tColor\tCategorical colors are undistinguishable with each other.\n",
      "Reading\tUnjustified Animation\t\tEye beats memory, comparing changes across animation frames is impossible.\n",
      "Reading\tConfusing Legend\tLegends and Scales\tLengend is not helpful in understanding the chart.\n",
      "Reading\tConfusing Label\tText\tLabels are hard to understand or not understandable at all.\n",
      "Reading\tCluttering\t\tOverwhelmed by visual clutter.\n",
      "Reading\tOcclusion\t\tSome items are not visible in the visualization because of blockage by another item.\n",
      "Reading\tChart Junk\t\tChart ornament that causes negative effect in understanding.\n",
      "Reading\tIllegible Text\tText\tText in the chart are illegible.\n",
      "Reading\tVisually Awful\t\tVery disturbing while looking at it.\n",
      "Perception\tIneffective Color Scheme\tColor\tIneffective color scheme, e.g., categorical colors for continuous variable.\n",
      "Perception\tColor Mismatch\tColor\tMismatch between colors and the objects that they represent, e.g., blue for apples.\n",
      "Perception\tDistorted Map Projection\tEncoding\tDistort map projection to encode information\n",
      "Perception\tIncorrect Use of Log Scale\tLegends and Scales\tIncorrect use of log scale.\n",
      "Perception\tDual Axes\tAxis\tPlotting more than one different scale on a single dimension, most often the y-axis.\n",
      "Perception\tFlipped Axis\tAxis\tAxis values are increasing in an unconventional direction.\n",
      "Perception\tTruncated Axis\tAxis\tNon-zero starting point on an axis that exaggerates or understates differences between items.\n",
      "Perception\tFalse Color Correlation\tColor\tItems with same or similar colors are not related.\n",
      "Perception\tUnjustified 3D\t\tUnjustified use of 3D, it distorts the perceived size of the items.\n",
      "Perception\tArea Encoding\tEncoding\tIncorrect use of area encoding that exaggerates or understates differences between items.\n",
      "Perception\tArea Encoded Pictogram\tEncoding\tPictogram is improperly scaled to reflect value differences.\n",
      "Message\tMisleading Annotation\tText\tMisleading annotation or highlight that suggests unfaithful message.\n",
      "Message\tDisguised Visualization\t\tLooks like a visualization, but not visualizing any data, also known as non-sequitur.\n",
      "Message\tFalse Description\tText\tDescription and visualization do not add up.\n",
      "Message\tInvalid Connection\tEncoding\tLines or arrows are connecting unrelated dots.\n",
      "Message\tCryptic Scale\tLegends and Scales\tData is drawn to an unconventional scale.\n",
      "Message\tNot Understandable\t\tCannot decode any data nor information.\n",
      "Message\tFaulty Whole Part\t\tNot whole-part relationship but draw as a chart for whole-part relationship like pie chart.\n",
      "Message\tFaulty Logic\t\tConveying an illogical message.\n",
      "Message\tMissing Context\t\tNeed background information in order to understand the message.\n",
      "Message\tInvalid Comparison\t\tComparison between items that are incomparable.\n",
      "Message\tJust a Population Map\t\tThe observed pattern is nothing more than the pattern of population density.\n",
      "Message\tSpurious Correlation\t\tSuggesting causal relationships from correlations.\n"
     ]
    }
   ],
   "source": [
    "grouped = _.group_by(labelOptions[0]['options'], lambda x: x['subcategories'][0])\n",
    "def s_name (subcat_code):\n",
    "    return _.find(labelOptions[0]['subcategories'], lambda x: x['subcategory'] == subcat_code)['name']\n",
    "for k, v in grouped.items():\n",
    "    for tag in v:\n",
    "        print(f\"{s_name(tag['subcategories'][0])}\\t{tag['name']}\\t{s_name(tag['subcategories'][1]) if len(tag['subcategories']) > 1 else ''}\\t{tag['description']}\")"
   ]
  },
  {
   "cell_type": "code",
   "execution_count": null,
   "metadata": {},
   "outputs": [],
   "source": []
  }
 ],
 "metadata": {
  "kernelspec": {
   "display_name": "Python 3",
   "language": "python",
   "name": "python3"
  },
  "language_info": {
   "codemirror_mode": {
    "name": "ipython",
    "version": 3
   },
   "file_extension": ".py",
   "mimetype": "text/x-python",
   "name": "python",
   "nbconvert_exporter": "python",
   "pygments_lexer": "ipython3",
   "version": "3.8.5"
  }
 },
 "nbformat": 4,
 "nbformat_minor": 4
}
