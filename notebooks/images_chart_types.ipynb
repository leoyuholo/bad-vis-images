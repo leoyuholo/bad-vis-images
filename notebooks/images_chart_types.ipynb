{
 "cells": [
  {
   "cell_type": "code",
   "execution_count": 1,
   "id": "intelligent-newark",
   "metadata": {},
   "outputs": [],
   "source": [
    "from pathlib import Path\n",
    "from functools import partial\n",
    "import datetime\n",
    "import os\n",
    "\n",
    "import json\n",
    "from bson import json_util\n",
    "import ipywidgets as widgets\n",
    "from IPython.display import JSON\n",
    "\n",
    "from pymongo import MongoClient\n",
    "import pydash as _\n",
    "import pandas as pd"
   ]
  },
  {
   "cell_type": "code",
   "execution_count": 2,
   "id": "weird-naples",
   "metadata": {},
   "outputs": [],
   "source": [
    "images_dir = Path(\"../images\")\n",
    "gallery_dir = Path(\"../\")\n",
    "handmade_dir = Path(\"./handmade\")\n",
    "label_dir = handmade_dir / \"labels\"\n",
    "label_dir.mkdir(exist_ok=True)"
   ]
  },
  {
   "cell_type": "code",
   "execution_count": 3,
   "id": "ultimate-mountain",
   "metadata": {},
   "outputs": [
    {
     "data": {
      "text/plain": [
       "'image_id_1'"
      ]
     },
     "execution_count": 3,
     "metadata": {},
     "output_type": "execute_result"
    }
   ],
   "source": [
    "mongo_uri = json.load(open('./credentials/mongodb_credentials.json'))['uri']\n",
    "mongo = MongoClient(mongo_uri)\n",
    "db = mongo[\"bad-vis\"]\n",
    "imagelabel = db[\"imagelabel\"]\n",
    "visclean = db[\"visclean\"]\n",
    "visclean.create_index('image_id', unique=True)"
   ]
  },
  {
   "cell_type": "markdown",
   "id": "limiting-procedure",
   "metadata": {},
   "source": [
    "## Save Labels"
   ]
  },
  {
   "cell_type": "code",
   "execution_count": 4,
   "id": "religious-property",
   "metadata": {},
   "outputs": [],
   "source": [
    "if os.path.isfile(label_dir / \"cleaning_labels.json\"):\n",
    "    os.rename(\n",
    "        label_dir / \"chart_types.json\",\n",
    "        label_dir / f\"chart_types_{datetime.datetime.now().strftime('%Y%m%d%H%M%S')}.json\",\n",
    "    )"
   ]
  },
  {
   "cell_type": "code",
   "execution_count": 5,
   "id": "homeless-tennis",
   "metadata": {},
   "outputs": [],
   "source": [
    "json.dump(\n",
    "    [_.omit(l, \"_id\") for l in visclean.find()],\n",
    "    open(label_dir / \"chart_types.json\", \"w\"),\n",
    "    default=json_util.default,\n",
    ")"
   ]
  },
  {
   "cell_type": "markdown",
   "id": "growing-rugby",
   "metadata": {},
   "source": [
    "## Load dataset"
   ]
  },
  {
   "cell_type": "code",
   "execution_count": 6,
   "id": "unknown-class",
   "metadata": {},
   "outputs": [
    {
     "data": {
      "text/html": [
       "<div>\n",
       "<style scoped>\n",
       "    .dataframe tbody tr th:only-of-type {\n",
       "        vertical-align: middle;\n",
       "    }\n",
       "\n",
       "    .dataframe tbody tr th {\n",
       "        vertical-align: top;\n",
       "    }\n",
       "\n",
       "    .dataframe thead th {\n",
       "        text-align: right;\n",
       "    }\n",
       "</style>\n",
       "<table border=\"1\" class=\"dataframe\">\n",
       "  <thead>\n",
       "    <tr style=\"text-align: right;\">\n",
       "      <th></th>\n",
       "      <th>source</th>\n",
       "      <th>filepath</th>\n",
       "      <th>result</th>\n",
       "      <th>image_name</th>\n",
       "    </tr>\n",
       "  </thead>\n",
       "  <tbody>\n",
       "    <tr>\n",
       "      <th>0</th>\n",
       "      <td>targets</td>\n",
       "      <td>../datasets/badvis/labelling/preview/2l5nix_0.jpg</td>\n",
       "      <td>other</td>\n",
       "      <td>2l5nix_0</td>\n",
       "    </tr>\n",
       "    <tr>\n",
       "      <th>1</th>\n",
       "      <td>targets</td>\n",
       "      <td>../datasets/badvis/labelling/preview/iv1xj9_0.jpg</td>\n",
       "      <td>bar</td>\n",
       "      <td>iv1xj9_0</td>\n",
       "    </tr>\n",
       "    <tr>\n",
       "      <th>2</th>\n",
       "      <td>targets</td>\n",
       "      <td>../datasets/badvis/labelling/preview/133942386...</td>\n",
       "      <td>circle</td>\n",
       "      <td>133942386291_0</td>\n",
       "    </tr>\n",
       "    <tr>\n",
       "      <th>3</th>\n",
       "      <td>targets</td>\n",
       "      <td>../datasets/badvis/labelling/preview/997384124...</td>\n",
       "      <td>map</td>\n",
       "      <td>99738412430_0</td>\n",
       "    </tr>\n",
       "    <tr>\n",
       "      <th>4</th>\n",
       "      <td>targets</td>\n",
       "      <td>../datasets/badvis/labelling/preview/1mgcoa_0.jpg</td>\n",
       "      <td>bar</td>\n",
       "      <td>1mgcoa_0</td>\n",
       "    </tr>\n",
       "    <tr>\n",
       "      <th>...</th>\n",
       "      <td>...</td>\n",
       "      <td>...</td>\n",
       "      <td>...</td>\n",
       "      <td>...</td>\n",
       "    </tr>\n",
       "    <tr>\n",
       "      <th>8892</th>\n",
       "      <td>targets</td>\n",
       "      <td>../datasets/badvis/labelling/preview/dq9mu7_0.png</td>\n",
       "      <td>bar</td>\n",
       "      <td>dq9mu7_0</td>\n",
       "    </tr>\n",
       "    <tr>\n",
       "      <th>8893</th>\n",
       "      <td>targets</td>\n",
       "      <td>../datasets/badvis/labelling/preview/ab453y_0.png</td>\n",
       "      <td>other</td>\n",
       "      <td>ab453y_0</td>\n",
       "    </tr>\n",
       "    <tr>\n",
       "      <th>8894</th>\n",
       "      <td>targets</td>\n",
       "      <td>../datasets/badvis/labelling/preview/8dwi6p_0.png</td>\n",
       "      <td>other</td>\n",
       "      <td>8dwi6p_0</td>\n",
       "    </tr>\n",
       "    <tr>\n",
       "      <th>8895</th>\n",
       "      <td>targets</td>\n",
       "      <td>../datasets/badvis/labelling/preview/bt9wvk_0.png</td>\n",
       "      <td>line</td>\n",
       "      <td>bt9wvk_0</td>\n",
       "    </tr>\n",
       "    <tr>\n",
       "      <th>8896</th>\n",
       "      <td>targets</td>\n",
       "      <td>../datasets/badvis/labelling/preview/bx36ov_0.png</td>\n",
       "      <td>map</td>\n",
       "      <td>bx36ov_0</td>\n",
       "    </tr>\n",
       "  </tbody>\n",
       "</table>\n",
       "<p>8897 rows × 4 columns</p>\n",
       "</div>"
      ],
      "text/plain": [
       "       source                                           filepath  result  \\\n",
       "0     targets  ../datasets/badvis/labelling/preview/2l5nix_0.jpg   other   \n",
       "1     targets  ../datasets/badvis/labelling/preview/iv1xj9_0.jpg     bar   \n",
       "2     targets  ../datasets/badvis/labelling/preview/133942386...  circle   \n",
       "3     targets  ../datasets/badvis/labelling/preview/997384124...     map   \n",
       "4     targets  ../datasets/badvis/labelling/preview/1mgcoa_0.jpg     bar   \n",
       "...       ...                                                ...     ...   \n",
       "8892  targets  ../datasets/badvis/labelling/preview/dq9mu7_0.png     bar   \n",
       "8893  targets  ../datasets/badvis/labelling/preview/ab453y_0.png   other   \n",
       "8894  targets  ../datasets/badvis/labelling/preview/8dwi6p_0.png   other   \n",
       "8895  targets  ../datasets/badvis/labelling/preview/bt9wvk_0.png    line   \n",
       "8896  targets  ../datasets/badvis/labelling/preview/bx36ov_0.png     map   \n",
       "\n",
       "          image_name  \n",
       "0           2l5nix_0  \n",
       "1           iv1xj9_0  \n",
       "2     133942386291_0  \n",
       "3      99738412430_0  \n",
       "4           1mgcoa_0  \n",
       "...              ...  \n",
       "8892        dq9mu7_0  \n",
       "8893        ab453y_0  \n",
       "8894        8dwi6p_0  \n",
       "8895        bt9wvk_0  \n",
       "8896        bx36ov_0  \n",
       "\n",
       "[8897 rows x 4 columns]"
      ]
     },
     "execution_count": 6,
     "metadata": {},
     "output_type": "execute_result"
    }
   ],
   "source": [
    "df_classifier_results = pd.read_csv('./tmp/targets_classified.csv')\n",
    "df_classifier_results['image_name'] = df_classifier_results['filepath'].str.extract(r'w\\/(.+?)\\.')\n",
    "df_classifier_results"
   ]
  },
  {
   "cell_type": "code",
   "execution_count": 7,
   "id": "identical-documentation",
   "metadata": {},
   "outputs": [
    {
     "data": {
      "text/plain": [
       "bar       2878\n",
       "circle    1809\n",
       "other     1631\n",
       "line      1167\n",
       "map        838\n",
       "area       299\n",
       "graph      130\n",
       "point      102\n",
       "grid        35\n",
       "box          7\n",
       "text         1\n",
       "Name: result, dtype: int64"
      ]
     },
     "execution_count": 7,
     "metadata": {},
     "output_type": "execute_result"
    }
   ],
   "source": [
    "df_classifier_results['result'].value_counts()"
   ]
  },
  {
   "cell_type": "code",
   "execution_count": 8,
   "id": "confidential-seattle",
   "metadata": {},
   "outputs": [
    {
     "name": "stdout",
     "output_type": "stream",
     "text": [
      "2878\n"
     ]
    }
   ],
   "source": [
    "chart_type = 'bar'\n",
    "df_tagging = df_classifier_results[df_classifier_results['result'] == chart_type]\n",
    "default_tag = chart_type\n",
    "print(len(df_tagging))"
   ]
  },
  {
   "cell_type": "code",
   "execution_count": 9,
   "id": "listed-sally",
   "metadata": {},
   "outputs": [],
   "source": [
    "def make_image_box(image, width=1000, height=800, layoutArgs={}):\n",
    "    #     image = widgets.Image(value=open(gallery_dir/image['labelling_path'], 'rb').read(), width=600, layout=Layout(object_position='center center', object_fit='contain'))\n",
    "    image = widgets.Image(\n",
    "        value=open(gallery_dir / image[\"labelling_path\"], \"rb\").read(),\n",
    "        width=width,\n",
    "        height=height,\n",
    "        layout=widgets.Layout(object_position=\"center center\", object_fit=\"contain\"),\n",
    "    )\n",
    "    boxItems = {\"image\": image}\n",
    "\n",
    "    image_box_layout = widgets.Layout(justify_content=\"center\", **layoutArgs)\n",
    "    image_box_layout = widgets.Layout(\n",
    "        height=\"500px\", justify_content=\"center\", **layoutArgs\n",
    "    )\n",
    "    imageBox = widgets.HBox([image], layout=image_box_layout)\n",
    "\n",
    "    return (imageBox, boxItems)\n",
    "\n",
    "def make_cleaning_box (image_name, default_tag=None):\n",
    "    visImage = imagelabel.find_one({'image_name': image_name})\n",
    "    if not visImage:\n",
    "        print(image_name)\n",
    "        return\n",
    "    visClean = visclean.find_one({'image_name': image_name})\n",
    "    \n",
    "    btns_by_name = {}\n",
    "    btns = []\n",
    "    output = widgets.Output()\n",
    "    \n",
    "    btn_configs = [\n",
    "        {'name': 'multipleviews', 'description': 'MultipleViews', 'tag': 'multipleviews', 'style': 'info'},\n",
    "        {'name': 'infographics', 'description': 'Infographics', 'tag': 'infographics', 'style': 'info'},\n",
    "        {'name': 'bar', 'description': 'Bar', 'tag': 'bar'},\n",
    "        {'name': 'line', 'description': 'Line', 'tag': 'line'},\n",
    "        {'name': 'circle', 'description': 'Circle', 'tag': 'circle'},\n",
    "        {'name': 'map', 'description': 'Map', 'tag': 'map'},\n",
    "        {'name': 'point', 'description': 'Point', 'tag': 'invalid'},\n",
    "        {'name': 'area', 'description': 'Area', 'tag': 'area'},\n",
    "        {'name': 'grid', 'description': 'Grid', 'tag': 'grid'},\n",
    "        {'name': 'graph', 'description': 'Graph', 'tag': 'graph'},\n",
    "        {'name': 'box', 'description': 'Box', 'tag': 'box'},\n",
    "        {'name': 'text', 'description': 'Text', 'tag': 'text'},\n",
    "        {'name': 'invalid', 'description': 'Invalid', 'tag': 'invalid', 'style': 'warning'},\n",
    "    ]\n",
    "    \n",
    "    def update_label (tag):\n",
    "        visclean.find_one_and_update({'image_id': visImage['image_id']}, {'$set': {'tag': tag}})\n",
    "        \n",
    "    def create_label (default_tag=None):\n",
    "        visclean.insert_one({\n",
    "            'image_id': visImage['image_id'],\n",
    "            'image_name': visImage['image_name'],\n",
    "            'labelling_path': visImage['labelling_path'],\n",
    "            'phash': visImage['phash'],\n",
    "            'auto': default_tag,\n",
    "            'checked': True,\n",
    "            \"updatedAt\": datetime.datetime.utcnow(),\n",
    "            \"createdAt\": datetime.datetime.utcnow()\n",
    "        })\n",
    "    \n",
    "    def on_click (btn_config, btn):\n",
    "        btn.button_style = 'success'\n",
    "        update_label(btn_config['tag'])\n",
    "        with output:\n",
    "            print(btn_config['description'], 'clicked')\n",
    "    \n",
    "    for btn_config in btn_configs:\n",
    "        btn = widgets.Button(description=btn_config['description'], button_style=btn_config.get('style', ''))\n",
    "        btns_by_name[btn_config['name']] = btn\n",
    "        btns.append(btn)\n",
    "        btn.on_click(partial(on_click, btn_config))\n",
    "    \n",
    "    # create_label(default_tag)\n",
    "    with output:\n",
    "        print('default:', default_tag)\n",
    "        if visClean:\n",
    "            print('Cleaning label exists')\n",
    "            print('createdAt', visClean['createdAt'])\n",
    "            print('updatedAt', visClean['updatedAt'])\n",
    "            print('auto', visClean['auto'])\n",
    "            if 'tag' in visClean: print('tag', visClean['tag'])\n",
    "            \n",
    "    imageBox, boxItems = make_image_box(visImage)\n",
    "\n",
    "    return widgets.HBox([\n",
    "        imageBox,\n",
    "        widgets.VBox(btns),\n",
    "        output\n",
    "    ])"
   ]
  },
  {
   "cell_type": "code",
   "execution_count": 10,
   "id": "handy-citizen",
   "metadata": {},
   "outputs": [],
   "source": [
    "examined = 0\n",
    "charts = df_tagging.iterrows()"
   ]
  },
  {
   "cell_type": "code",
   "execution_count": 11,
   "id": "historical-drawing",
   "metadata": {},
   "outputs": [
    {
     "name": "stdout",
     "output_type": "stream",
     "text": [
      "kspyrw_0\n"
     ]
    },
    {
     "data": {
      "text/plain": [
       "None"
      ]
     },
     "metadata": {},
     "output_type": "display_data"
    },
    {
     "name": "stdout",
     "output_type": "stream",
     "text": [
      "4oy2x9_0\n"
     ]
    },
    {
     "data": {
      "text/plain": [
       "None"
      ]
     },
     "metadata": {},
     "output_type": "display_data"
    },
    {
     "name": "stdout",
     "output_type": "stream",
     "text": [
      "2qvicf_1\n"
     ]
    },
    {
     "data": {
      "text/plain": [
       "None"
      ]
     },
     "metadata": {},
     "output_type": "display_data"
    }
   ],
   "source": [
    "showed = 0\n",
    "for index, chart in charts:\n",
    "    label = visclean.find_one({'image_name': chart['image_name']})\n",
    "    if not label:\n",
    "        display(make_cleaning_box(chart['image_name'], default_tag=default_tag))\n",
    "        showed += 1\n",
    "    examined += 1\n",
    "    if showed >= 100:\n",
    "        print(examined, '/', len(df_tagging_charts))\n",
    "        break"
   ]
  },
  {
   "cell_type": "code",
   "execution_count": null,
   "id": "enormous-volleyball",
   "metadata": {},
   "outputs": [],
   "source": []
  }
 ],
 "metadata": {
  "kernelspec": {
   "display_name": "Python 3",
   "language": "python",
   "name": "python3"
  },
  "language_info": {
   "codemirror_mode": {
    "name": "ipython",
    "version": 3
   },
   "file_extension": ".py",
   "mimetype": "text/x-python",
   "name": "python",
   "nbconvert_exporter": "python",
   "pygments_lexer": "ipython3",
   "version": "3.8.6"
  }
 },
 "nbformat": 4,
 "nbformat_minor": 5
}
