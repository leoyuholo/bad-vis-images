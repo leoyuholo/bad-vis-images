{
 "cells": [
  {
   "cell_type": "code",
   "execution_count": 1,
   "metadata": {
    "Collapsed": "false"
   },
   "outputs": [],
   "source": [
    "# !pip install simplejson"
   ]
  },
  {
   "cell_type": "code",
   "execution_count": 2,
   "metadata": {
    "Collapsed": "false"
   },
   "outputs": [],
   "source": [
    "from pymongo import MongoClient\n",
    "from pathlib import Path\n",
    "from tqdm.notebook import tqdm\n",
    "import numpy as np\n",
    "import simplejson as json\n",
    "import itertools\n",
    "from functools import cmp_to_key\n",
    "import networkx as nx\n",
    "\n",
    "from IPython.display import display, Image, JSON\n",
    "from ipywidgets import widgets, Image, HBox, VBox, Button, ButtonStyle\n",
    "\n",
    "from lib.image_dedup import make_hashes, calculate_distance, hashes_diff\n",
    "from lib.PersistentSet import PersistentSet\n",
    "from lib.sort_things import post_score, sort_posts, sort_images\n",
    "from lib.parallel import parallel"
   ]
  },
  {
   "cell_type": "code",
   "execution_count": 3,
   "metadata": {
    "Collapsed": "false"
   },
   "outputs": [],
   "source": [
    "images_dir = Path('./images')\n",
    "handmade_dir = Path('./handmade')\n",
    "handmade_dir.mkdir(exist_ok=True)"
   ]
  },
  {
   "cell_type": "code",
   "execution_count": 4,
   "metadata": {
    "Collapsed": "false"
   },
   "outputs": [],
   "source": [
    "mongo = MongoClient('172.17.0.1', 27017)\n",
    "db = mongo['bad-vis']\n",
    "posts = db['posts']\n",
    "imagemeta = db['imagemeta']\n",
    "imagededup = db['imagededup']"
   ]
  },
  {
   "cell_type": "code",
   "execution_count": 5,
   "metadata": {
    "Collapsed": "false"
   },
   "outputs": [],
   "source": [
    "imagededup.drop()\n",
    "for i in imagemeta.find():\n",
    "    imagededup.insert_one(i)"
   ]
  },
  {
   "cell_type": "markdown",
   "metadata": {
    "Collapsed": "false"
   },
   "source": [
    "# Load image metadata"
   ]
  },
  {
   "cell_type": "code",
   "execution_count": 6,
   "metadata": {
    "Collapsed": "false"
   },
   "outputs": [],
   "source": [
    "imageDedup = [m for m in imagemeta.find()]\n",
    "imageDedup.sort(key=lambda x: x['image_id'])"
   ]
  },
  {
   "cell_type": "code",
   "execution_count": 7,
   "metadata": {
    "Collapsed": "false"
   },
   "outputs": [],
   "source": [
    "phash_to_idx_mapping = {}\n",
    "for i in range(len(imageDedup)):\n",
    "    phash = imageDedup[i]['phash']\n",
    "    l = phash_to_idx_mapping.get(phash, [])\n",
    "    l.append(i)\n",
    "    phash_to_idx_mapping[phash] = l\n",
    "def phash_to_idx (phash):\n",
    "    return phash_to_idx_mapping.get(phash, None)"
   ]
  },
  {
   "cell_type": "code",
   "execution_count": 8,
   "metadata": {
    "Collapsed": "false"
   },
   "outputs": [],
   "source": [
    "image_id_to_idx_mapping = {imageDedup[i]['image_id']:i for i in range(len(imageDedup))}\n",
    "def image_id_to_idx (image_id):\n",
    "    return image_id_to_idx_mapping.get(image_id, None)"
   ]
  },
  {
   "cell_type": "markdown",
   "metadata": {
    "Collapsed": "false"
   },
   "source": [
    "# Calculate distance"
   ]
  },
  {
   "cell_type": "markdown",
   "metadata": {
    "Collapsed": "false"
   },
   "source": [
    "## Hash distance"
   ]
  },
  {
   "cell_type": "code",
   "execution_count": 9,
   "metadata": {
    "Collapsed": "false"
   },
   "outputs": [],
   "source": [
    "image_hashes = [make_hashes(m) for m in imageDedup]"
   ]
  },
  {
   "cell_type": "code",
   "execution_count": 10,
   "metadata": {
    "Collapsed": "false"
   },
   "outputs": [
    {
     "data": {
      "application/vnd.jupyter.widget-view+json": {
       "model_id": "16db65dfafc54c2ca9c33eaa69c46270",
       "version_major": 2,
       "version_minor": 0
      },
      "text/plain": [
       "HBox(children=(FloatProgress(value=0.0, max=2601.0), HTML(value='')))"
      ]
     },
     "metadata": {},
     "output_type": "display_data"
    },
    {
     "name": "stdout",
     "output_type": "stream",
     "text": [
      "\n"
     ]
    },
    {
     "data": {
      "application/vnd.jupyter.widget-view+json": {
       "model_id": "71d86e0575144b738ad07bbf8d7d2394",
       "version_major": 2,
       "version_minor": 0
      },
      "text/plain": [
       "HBox(children=(FloatProgress(value=0.0, max=6738.0), HTML(value='')))"
      ]
     },
     "metadata": {},
     "output_type": "display_data"
    },
    {
     "name": "stdout",
     "output_type": "stream",
     "text": [
      "\n"
     ]
    }
   ],
   "source": [
    "distance = calculate_distance(image_hashes)"
   ]
  },
  {
   "cell_type": "code",
   "execution_count": 11,
   "metadata": {
    "Collapsed": "false"
   },
   "outputs": [],
   "source": [
    "# distance2 = np.ndarray([len(image_hashes), len(image_hashes)])\n",
    "# for i in tqdm(range(len(image_hashes))):\n",
    "#     for j in range(i+1):\n",
    "#         diff = hashes_diff(image_hashes[i], image_hashes[j])\n",
    "#         distance2[i, j] = diff\n",
    "#         distance2[j, i] = diff\n",
    "# np.array_equal(distance, distance2)"
   ]
  },
  {
   "cell_type": "code",
   "execution_count": 12,
   "metadata": {
    "Collapsed": "false"
   },
   "outputs": [
    {
     "data": {
      "application/vnd.jupyter.widget-view+json": {
       "model_id": "630a30b7133f4251aca93fa04f597c18",
       "version_major": 2,
       "version_minor": 0
      },
      "text/plain": [
       "HBox(children=(FloatProgress(value=0.0, max=2601.0), HTML(value='')))"
      ]
     },
     "metadata": {},
     "output_type": "display_data"
    },
    {
     "name": "stdout",
     "output_type": "stream",
     "text": [
      "\n"
     ]
    },
    {
     "data": {
      "application/vnd.jupyter.widget-view+json": {
       "model_id": "405dc4335f354c3f937bb13543d45758",
       "version_major": 2,
       "version_minor": 0
      },
      "text/plain": [
       "HBox(children=(FloatProgress(value=0.0, max=6738.0), HTML(value='')))"
      ]
     },
     "metadata": {},
     "output_type": "display_data"
    },
    {
     "name": "stdout",
     "output_type": "stream",
     "text": [
      "\n"
     ]
    }
   ],
   "source": [
    "pdistance = calculate_distance(image_hashes, hash_type='phash')"
   ]
  },
  {
   "cell_type": "markdown",
   "metadata": {
    "Collapsed": "false"
   },
   "source": [
    "## Find duplicated pairs from distance matrix"
   ]
  },
  {
   "cell_type": "code",
   "execution_count": 13,
   "metadata": {
    "Collapsed": "false"
   },
   "outputs": [],
   "source": [
    "def set_distance (hashes, value, mat=distance):\n",
    "    phash_x = hashes[0]\n",
    "    phash_y = phash_x if len(hashes) == 1 else hashes[1]\n",
    "    idx_x = phash_to_idx(phash_x)\n",
    "    idx_y = phash_to_idx(phash_y)\n",
    "    if idx_x == None or idx_y == None:\n",
    "        return\n",
    "    for s in itertools.product(idx_x, idx_y):\n",
    "        i, j = s\n",
    "        mat[i, j] = value\n",
    "        mat[j, i] = value\n",
    "\n",
    "def set_distance_pairs (phash_pairs, value, mat=distance):\n",
    "    for p in phash_pairs:\n",
    "        set_distance(list(p), value, mat=mat)"
   ]
  },
  {
   "cell_type": "code",
   "execution_count": 14,
   "metadata": {
    "Collapsed": "false"
   },
   "outputs": [],
   "source": [
    "auto_duplicated_image_phash_pairs = PersistentSet()\n",
    "auto_duplicated_image_phash_pairs.set_file(handmade_dir/'auto_duplicated_image_phash_pairs.json')"
   ]
  },
  {
   "cell_type": "code",
   "execution_count": 15,
   "metadata": {
    "Collapsed": "false"
   },
   "outputs": [
    {
     "data": {
      "application/vnd.jupyter.widget-view+json": {
       "model_id": "97335cdbc6114e6294ef5fa17b1cef50",
       "version_major": 2,
       "version_minor": 0
      },
      "text/plain": [
       "HBox(children=(FloatProgress(value=0.0, max=6738.0), HTML(value='')))"
      ]
     },
     "metadata": {},
     "output_type": "display_data"
    },
    {
     "name": "stdout",
     "output_type": "stream",
     "text": [
      "\n"
     ]
    }
   ],
   "source": [
    "for i in tqdm(range(distance.shape[0])):\n",
    "    for j in range(i):\n",
    "        if distance[i, j] <= 1: # checked, all distance <= 1 are duplicated\n",
    "            auto_duplicated_image_phash_pairs.add(frozenset([imageDedup[i]['phash'], imageDedup[j]['phash']]))"
   ]
  },
  {
   "cell_type": "code",
   "execution_count": 16,
   "metadata": {
    "Collapsed": "false"
   },
   "outputs": [
    {
     "data": {
      "application/vnd.jupyter.widget-view+json": {
       "model_id": "f673f2253bee4a33add56293e2789e12",
       "version_major": 2,
       "version_minor": 0
      },
      "text/plain": [
       "HBox(children=(FloatProgress(value=0.0, max=6738.0), HTML(value='')))"
      ]
     },
     "metadata": {},
     "output_type": "display_data"
    },
    {
     "name": "stdout",
     "output_type": "stream",
     "text": [
      "\n"
     ]
    }
   ],
   "source": [
    "for i in tqdm(range(pdistance.shape[0])):\n",
    "    for j in range(i):\n",
    "        if pdistance[i, j] <= 1: # checked, all distance <= 1 are duplicated\n",
    "            auto_duplicated_image_phash_pairs.add(frozenset([imageDedup[i]['phash'], imageDedup[j]['phash']]))"
   ]
  },
  {
   "cell_type": "code",
   "execution_count": 17,
   "metadata": {
    "Collapsed": "false"
   },
   "outputs": [],
   "source": [
    "auto_duplicated_image_phash_pairs.save()"
   ]
  },
  {
   "cell_type": "markdown",
   "metadata": {
    "Collapsed": "false"
   },
   "source": [
    "## Apply information from meta data"
   ]
  },
  {
   "cell_type": "code",
   "execution_count": 18,
   "metadata": {
    "Collapsed": "false"
   },
   "outputs": [
    {
     "data": {
      "application/vnd.jupyter.widget-view+json": {
       "model_id": "5c49b964ff33431fbb7bf671261a8d8c",
       "version_major": 2,
       "version_minor": 0
      },
      "text/plain": [
       "HBox(children=(FloatProgress(value=1.0, bar_style='info', max=1.0), HTML(value='')))"
      ]
     },
     "metadata": {},
     "output_type": "display_data"
    },
    {
     "name": "stdout",
     "output_type": "stream",
     "text": [
      "More than 1 dp image reddit/coolguides/egra3f\n",
      "More than 1 dp image reddit/dataisbeautiful/eawwrn\n",
      "More than 1 dp image reddit/PewdiepieSubmissions/duc30c\n",
      "More than 1 dp image reddit/programming/d2qrx6\n",
      "More than 1 image reddit/dataisugly/c9dmi4 ['b89ef6818f27981c', 'ba1eaf0f9284a99c']\n",
      "More than 1 dp image reddit/dataisbeautiful/c918xs\n",
      "More than 1 dp image reddit/dataisbeautiful/bx1fzb\n",
      "More than 1 dp image reddit/dataisugly/bmp6dx\n",
      "More than 1 dp image reddit/ireland/bpcyrr\n",
      "More than 1 dp image reddit/sixers/bmoi3z\n",
      "More than 1 dp image reddit/Netherlands/bpcsix\n",
      "More than 1 dp image reddit/germany/bpck0u\n",
      "More than 1 dp image reddit/europe/bpceo9\n",
      "More than 1 dp image reddit/educationalgifs/bjxrje\n",
      "More than 1 dp image reddit/worldpolitics/av0d28\n",
      "More than 1 dp image reddit/Artifact/a5wa9g\n",
      "More than 1 dp image reddit/singapore/a2327a\n",
      "More than 1 dp image reddit/dataisbeautiful/9q3l0i\n",
      "More than 1 dp image reddit/CryptoCurrency/98w53e\n",
      "More than 1 dp image reddit/totallynotrobots/90nsmq\n",
      "More than 1 dp image reddit/dataisbeautiful/8r1l7t\n",
      "More than 1 dp image reddit/Frugal/8qd3ic\n",
      "More than 1 dp image reddit/dataisbeautiful/8miru1\n",
      "More than 1 dp image reddit/dataisbeautiful/8l9bq7\n",
      "More than 1 dp image reddit/MapPorn/8guarg\n",
      "More than 1 dp image reddit/dataisbeautiful/8e3eax\n",
      "More than 1 dp image reddit/dataisbeautiful/8dwfsu\n",
      "More than 1 dp image reddit/dataisbeautiful/86ui6o\n",
      "More than 1 dp image reddit/dataisbeautiful/86ar3y\n",
      "More than 1 dp image reddit/codes/861ava\n",
      "More than 1 dp image reddit/dataisbeautiful/84joxm\n",
      "More than 1 dp image reddit/dataisugly/67a3ud\n",
      "More than 1 dp image reddit/dataisbeautiful/677vav\n",
      "More than 1 dp image reddit/dataisugly/678w9t\n",
      "More than 1 dp image reddit/dataisbeautiful/61vf1e\n",
      "More than 1 dp image reddit/dataisugly/5qbbm4\n",
      "More than 1 dp image reddit/dataisbeautiful/5qakm4\n",
      "More than 1 dp image reddit/dataisugly/5m0fea\n",
      "More than 1 dp image reddit/movies/5lzjo9\n",
      "More than 1 dp image reddit/nyc/5ehkxb\n",
      "More than 1 dp image reddit/dataisugly/5d5auw\n",
      "More than 1 dp image reddit/dataisbeautiful/5d475f\n",
      "More than 1 dp image reddit/dataisbeautiful/58qds7\n",
      "More than 1 dp image reddit/dataisbeautiful/55ap1u\n",
      "More than 1 dp image reddit/dataisbeautiful/525rpk\n",
      "More than 1 dp image reddit/dataisugly/4vzaku\n",
      "More than 1 dp image reddit/dataisbeautiful/4vvl91\n",
      "More than 1 image reddit/dataisugly/3e30w8 ['be9cc36bc0231f94', 'bcc7c3988c312ce7', 'ed8c923939e5cc32', 'aa855a69857ea51e', '9fe8f0e8a0b07e07', 'ba78c585913e6a6a']\n",
      "More than 1 dp image reddit/dataisbeautiful/3e2l2u\n",
      "More than 1 dp image reddit/Damnthatsinteresting/2ttwo0\n",
      "More than 1 dp image reddit/dataisbeautiful/2hn63g\n",
      "More than 1 dp image reddit/CrappyDesign/evaj5j\n",
      "More than 1 dp image reddit/SandersForPresident/fe25ka\n",
      "\n"
     ]
    }
   ],
   "source": [
    "duplicated_post_image_phash_pairs = PersistentSet()\n",
    "duplicated_post_image_phash_pairs.set_file(handmade_dir/'duplicated_post_image_phash_pairs.json')\n",
    "\n",
    "for p in tqdm(posts.find()):\n",
    "    if len(p.get('duplicated_posts', [])) == 0:\n",
    "        continue\n",
    "\n",
    "    dp_phashes = {i['phash']\n",
    "                    for dp in p['duplicated_posts']\n",
    "                    for i in imagemeta.find({'post_id': dp})}\n",
    "    if len(dp_phashes) > 1:\n",
    "        print(f\"More than 1 dp image {p['post_id']}\")\n",
    "#         print(f\"{p['duplicated_posts']} {dp_phashes}\")\n",
    "        continue\n",
    "\n",
    "    phashes = [i['phash'] for i in imagemeta.find({'post_id': p['post_id']})]\n",
    "    if len(phashes) > 1:\n",
    "        print(f\"More than 1 image {p['post_id']} {phashes}\")\n",
    "        continue\n",
    "    for s in itertools.product(dp_phashes, phashes):\n",
    "        fs = frozenset(s)\n",
    "        if len(fs) > 1:\n",
    "            duplicated_post_image_phash_pairs.add(fs)\n",
    "\n",
    "duplicated_post_image_phash_pairs.save()"
   ]
  },
  {
   "cell_type": "code",
   "execution_count": 19,
   "metadata": {
    "Collapsed": "false"
   },
   "outputs": [
    {
     "data": {
      "application/vnd.jupyter.widget-view+json": {
       "model_id": "773e25bef5f04db39858886ec2f1aa10",
       "version_major": 2,
       "version_minor": 0
      },
      "text/plain": [
       "HBox(children=(FloatProgress(value=0.0, max=104.0), HTML(value='')))"
      ]
     },
     "metadata": {},
     "output_type": "display_data"
    },
    {
     "name": "stdout",
     "output_type": "stream",
     "text": [
      "Only 1 or less image 2ophbe ['8c7233d364cc6673']\n",
      "\n"
     ]
    }
   ],
   "source": [
    "related_album_image_phash_pairs = PersistentSet()\n",
    "related_album_image_phash_pairs.set_file(handmade_dir/'related_album_image_phash_pairs.json')\n",
    "\n",
    "for album in tqdm({i['album'] for i in imagemeta.find({'album': {'$exists': True, '$ne': ''}})}):\n",
    "    ra_phashes = [i['phash'] for i in imagemeta.find({'album': album})]\n",
    "    if len(ra_phashes) <= 1:\n",
    "        print(f\"Only 1 or less image {album} {ra_phashes}\")\n",
    "\n",
    "    for s in itertools.product(ra_phashes, ra_phashes):\n",
    "        fs = frozenset(s)\n",
    "        if len(fs) > 1:\n",
    "            related_album_image_phash_pairs.add(fs)\n",
    "\n",
    "related_album_image_phash_pairs.save()"
   ]
  },
  {
   "cell_type": "markdown",
   "metadata": {
    "Collapsed": "false"
   },
   "source": [
    "## Apply manual labeled data"
   ]
  },
  {
   "cell_type": "code",
   "execution_count": 20,
   "metadata": {
    "Collapsed": "false"
   },
   "outputs": [],
   "source": [
    "duplicated_image_phash_pairs = PersistentSet.load_set(handmade_dir/'duplicated_image_phash_pairs.json')\n",
    "not_duplicated_image_phash_pairs = PersistentSet.load_set(handmade_dir/'not_duplicated_image_phash_pairs.json')\n",
    "related_image_phash_pairs = PersistentSet.load_set(handmade_dir/'related_image_phash_pairs.json')\n",
    "invalid_image_phashes = PersistentSet.load_set(handmade_dir/'invalid_image_phashes.json')"
   ]
  },
  {
   "cell_type": "code",
   "execution_count": 21,
   "metadata": {
    "Collapsed": "false"
   },
   "outputs": [],
   "source": [
    "duplicated_image_phash_pairs.persist_add(frozenset(['ea11bc7f91b99094', 'c1c417436a1b6d3f']))\n",
    "duplicated_image_phash_pairs.persist_add(frozenset(['ecc6913b9a68c365', 'c66e3b313886c7ca']))\n",
    "duplicated_image_phash_pairs.persist_add(frozenset(['fed095305e626a9a', 'd2d4d6d093d8926b']))\n",
    "duplicated_image_phash_pairs.persist_add(frozenset(['afdfc0402eb59692', 'd9b681e04d3b8e6c']))\n",
    "duplicated_image_phash_pairs.persist_add(frozenset(['949a13b659757263', 'afdfc0402eb59692']))\n",
    "duplicated_image_phash_pairs.persist_add(frozenset(['fe81837a94e3807e', 'c1cf027147e6e1e9']))\n",
    "duplicated_image_phash_pairs.persist_add(frozenset(['d1c66d8132b783b5', 'd445eb81b6aed12a']))\n",
    "duplicated_image_phash_pairs.persist_add(frozenset(['e79e9068e7c29b84', 'ff9911311f1b1915']))\n",
    "duplicated_image_phash_pairs.persist_add(frozenset(['ea97856e1e216987', 'b0c9ceb0d2c63c6d']))\n",
    "duplicated_image_phash_pairs.persist_add(frozenset(['d25264dfa9659392', 'd1c66d8132b783b5']))\n",
    "duplicated_image_phash_pairs.persist_add(frozenset(['c13e3ae10e70fd86', 'fe81837a94e3807e']))\n",
    "duplicated_image_phash_pairs.persist_add(frozenset(['b163cb988e8e6d43', 'ead685999b447b60']))\n",
    "duplicated_image_phash_pairs.persist_add(frozenset(['ead685999b447b60', 'fb65953b889dd108']))\n",
    "duplicated_image_phash_pairs.persist_add(frozenset(['8278d797282a8b9f', '82897eff698302f4']))\n",
    "duplicated_image_phash_pairs.persist_add(frozenset(['fed095305e626a9a', 'afdfc0402eb59692']))"
   ]
  },
  {
   "cell_type": "code",
   "execution_count": 22,
   "metadata": {
    "Collapsed": "false"
   },
   "outputs": [],
   "source": [
    "related_image_phash_pairs.persist_add(frozenset(['c13e3ae10e70fd86', 'c1cf027147e6e1e9']))\n",
    "related_image_phash_pairs.persist_add(frozenset(['b63e4c6e2d6c0c2d', 'e66f1b1b1b64254c']))\n",
    "related_image_phash_pairs.persist_add(frozenset(['aaa3a383a3a4a3b7', 'ff01805b017f057f']))\n",
    "related_image_phash_pairs.persist_add(frozenset(['9ba4581be45abd46', '93adc404dbf8f981']))\n",
    "related_image_phash_pairs.persist_add(frozenset(['c6158b9b14647b3e', 'c45485cb9b96e6e1']))\n",
    "related_image_phash_pairs.persist_add(frozenset(['9fe1a39c414f20bb', '8fd17949388bba86']))\n",
    "related_image_phash_pairs.persist_add(frozenset(['c0953f6b3fc1c095', 'c014bf62bf1fe144']))\n",
    "related_image_phash_pairs.persist_add(frozenset(['d2d2ad39c38c3ab1', 'ec929b6d9628c33c']))"
   ]
  },
  {
   "cell_type": "code",
   "execution_count": 23,
   "metadata": {
    "Collapsed": "false"
   },
   "outputs": [],
   "source": [
    "set_distance_pairs(auto_duplicated_image_phash_pairs, 0)\n",
    "set_distance_pairs(duplicated_post_image_phash_pairs, 0)\n",
    "set_distance_pairs(duplicated_image_phash_pairs, 0)\n",
    "set_distance_pairs(not_duplicated_image_phash_pairs, 60)\n",
    "set_distance_pairs(related_album_image_phash_pairs, 60)\n",
    "set_distance_pairs(related_image_phash_pairs, 60)\n",
    "\n",
    "related_distance = np.full(distance.shape, 60)\n",
    "set_distance_pairs(related_album_image_phash_pairs, 0, mat=related_distance)\n",
    "set_distance_pairs(related_image_phash_pairs, 0, mat=related_distance)"
   ]
  },
  {
   "cell_type": "markdown",
   "metadata": {
    "Collapsed": "false"
   },
   "source": [
    "# Human in the Loop"
   ]
  },
  {
   "cell_type": "code",
   "execution_count": 24,
   "metadata": {
    "Collapsed": "false"
   },
   "outputs": [],
   "source": [
    "def make_dedup_box (idx_x, idx_y, default=None):\n",
    "    image_x = imageDedup[idx_x]\n",
    "    phash_x = image_x['phash']\n",
    "    image_y = imageDedup[idx_y]\n",
    "    phash_y = image_y['phash']\n",
    "    hash_pair = frozenset([phash_x, phash_y])\n",
    "\n",
    "    yes_btn = widgets.Button(description=\"Duplicated\", button_style='success')\n",
    "    no_btn = widgets.Button(description=\"Not\", button_style='info')\n",
    "    related_btn = widgets.Button(description=\"Related\", button_style='warning')\n",
    "    invalid_x_btn = widgets.Button(description=\"X Invalid\")\n",
    "    invalid_y_btn = widgets.Button(description=\"Y Invalid\")\n",
    "    reset_btn = widgets.Button(description=\"Reset\")\n",
    "    output = widgets.Output()\n",
    "\n",
    "    def on_yes (btn):\n",
    "        with output:\n",
    "            if hash_pair in not_duplicated_image_phash_pairs:\n",
    "                not_duplicated_image_phash_pairs.persist_remove(hash_pair)\n",
    "                print('-Not')\n",
    "            duplicated_image_phash_pairs.persist_add(hash_pair)\n",
    "            print('Duplicated')\n",
    "\n",
    "    def on_no (btn):\n",
    "        not_duplicated_image_phash_pairs.persist_add(hash_pair)\n",
    "        with output:\n",
    "            print('Not')\n",
    "\n",
    "    def on_related (btn):\n",
    "        with output:\n",
    "            if hash_pair in not_duplicated_image_phash_pairs:\n",
    "                not_duplicated_image_phash_pairs.persist_remove(hash_pair)\n",
    "                print('-Not')\n",
    "            related_image_phash_pairs.persist_add(hash_pair)\n",
    "            print('Related')\n",
    "\n",
    "    def on_invalid_x (btn):\n",
    "        invalid_image_phashes.persist_add(phash_x)\n",
    "        with output:\n",
    "            print('Invalid X')\n",
    "\n",
    "    def on_invalid_y (btn):\n",
    "        invalid_image_phashes.persist_add(phash_y)\n",
    "        with output:\n",
    "            print('Invalid Y')\n",
    "\n",
    "    def on_reset (btn):\n",
    "        with output:\n",
    "            if hash_pair in duplicated_image_phash_pairs:\n",
    "                duplicated_image_phash_pairs.persist_remove(hash_pair)\n",
    "                print('-Duplicated')\n",
    "            if hash_pair in not_duplicated_image_phash_pairs:\n",
    "                not_duplicated_image_phash_pairs.persist_remove(hash_pair)\n",
    "                print('-Not')\n",
    "            if hash_pair in related_image_phash_pairs:\n",
    "                related_image_phash_pairs.persist_remove(hash_pair)\n",
    "                print('-Related')\n",
    "            if phash_x in invalid_image_phashes:\n",
    "                invalid_image_phashes.persist_remove(phash_x)\n",
    "                print('-Invalid X')\n",
    "            if phash_y in invalid_image_phashes:\n",
    "                invalid_image_phashes.persist_remove(phash_y)\n",
    "                print('-Invalid Y')\n",
    "            print('Reset')\n",
    "\n",
    "    yes_btn.on_click(on_yes)\n",
    "    no_btn.on_click(on_no)\n",
    "    related_btn.on_click(on_related)\n",
    "    invalid_x_btn.on_click(on_invalid_x)\n",
    "    invalid_y_btn.on_click(on_invalid_y)\n",
    "    reset_btn.on_click(on_reset)\n",
    "\n",
    "    if default == 'no':\n",
    "        on_no(None)\n",
    "\n",
    "    return HBox([VBox([yes_btn, no_btn, related_btn, invalid_x_btn, invalid_y_btn, reset_btn, output]),\n",
    "                 widgets.Image(value=open(image_x['file_path'], 'rb').read(), width=250, height=150),\n",
    "                 widgets.Image(value=open(image_y['file_path'], 'rb').read(), width=250, height=150)])"
   ]
  },
  {
   "cell_type": "code",
   "execution_count": 25,
   "metadata": {
    "Collapsed": "false"
   },
   "outputs": [],
   "source": [
    "def potential_duplicates (threshold):\n",
    "    for i in range(distance.shape[0]):\n",
    "        for j in range(i):\n",
    "            if distance[i, j] <= threshold:\n",
    "                phash_pair = frozenset([imageDedup[i]['phash'], imageDedup[j]['phash']])\n",
    "                if (phash_pair not in auto_duplicated_image_phash_pairs and\n",
    "                    phash_pair not in duplicated_post_image_phash_pairs and\n",
    "                    phash_pair not in duplicated_image_phash_pairs and\n",
    "                    phash_pair not in not_duplicated_image_phash_pairs and\n",
    "                    phash_pair not in related_album_image_phash_pairs and\n",
    "                    phash_pair not in related_image_phash_pairs):\n",
    "                    yield (i, j)"
   ]
  },
  {
   "cell_type": "code",
   "execution_count": 26,
   "metadata": {
    "Collapsed": "false"
   },
   "outputs": [],
   "source": [
    "distance_threshold = 13"
   ]
  },
  {
   "cell_type": "code",
   "execution_count": 27,
   "metadata": {
    "Collapsed": "false"
   },
   "outputs": [],
   "source": [
    "pdup = potential_duplicates(distance_threshold)"
   ]
  },
  {
   "cell_type": "code",
   "execution_count": 28,
   "metadata": {
    "Collapsed": "false"
   },
   "outputs": [
    {
     "name": "stdout",
     "output_type": "stream",
     "text": [
      "StopIteration\n"
     ]
    }
   ],
   "source": [
    "for i in range(10):\n",
    "    try:\n",
    "        next_pdup = next(pdup)\n",
    "    except StopIteration:\n",
    "        print('StopIteration')\n",
    "        break\n",
    "\n",
    "    idx_x, idx_y = next_pdup\n",
    "    image_x = imageDedup[idx_x]\n",
    "    image_y = imageDedup[idx_y]\n",
    "    print(f\"{idx_x} {idx_y} {distance[idx_x, idx_y]} {image_x['phash']} {image_y['phash']} {image_x['width']} {image_y['width']} {image_x['image_id']} {image_y['image_id']}\")\n",
    "    display(make_dedup_box(idx_x, idx_y, default=None if distance[idx_x, idx_y] < 9 else 'no'))"
   ]
  },
  {
   "cell_type": "markdown",
   "metadata": {
    "Collapsed": "false"
   },
   "source": [
    "## Images with high variability"
   ]
  },
  {
   "cell_type": "code",
   "execution_count": 29,
   "metadata": {
    "Collapsed": "false"
   },
   "outputs": [],
   "source": [
    "# interested_phashes = set()"
   ]
  },
  {
   "cell_type": "code",
   "execution_count": 30,
   "metadata": {
    "Collapsed": "false"
   },
   "outputs": [],
   "source": [
    "# def potential_duplicates_high (threshold):\n",
    "#     for i in range(distance.shape[0]):\n",
    "#         for j in range(i):\n",
    "#             if distance[i, j] >= threshold:\n",
    "#                 phash_pair = frozenset([imageDedup[i]['phash'], imageDedup[j]['phash']])\n",
    "#                 if (phash_pair in duplicated_image_phash_pairs):\n",
    "#                     interested_phashes.add(imageMetas[i]['phash'])\n",
    "#                     interested_phashes.add(imageMetas[j]['phash'])\n",
    "#                     yield (i, j)"
   ]
  },
  {
   "cell_type": "code",
   "execution_count": 31,
   "metadata": {
    "Collapsed": "false"
   },
   "outputs": [],
   "source": [
    "# pduph = potential_duplicates_high(10)"
   ]
  },
  {
   "cell_type": "code",
   "execution_count": 32,
   "metadata": {
    "Collapsed": "false"
   },
   "outputs": [],
   "source": [
    "# for i in range(100):\n",
    "#     try:\n",
    "#         next_pdup = next(pduph)\n",
    "#     except StopIteration:\n",
    "#         print('StopIteration')\n",
    "#         break\n",
    "\n",
    "#     idx_x, idx_y = next_pdup\n",
    "#     image_x = imageDedup[idx_x]\n",
    "#     image_y = imageDedup[idx_y]\n",
    "#     print(f\"{idx_x} {idx_y} {distance[idx_x, idx_y]} {image_x['phash']} {image_y['phash']} {image_x['width']} {image_y['width']} {image_x['image_id']} {image_y['image_id']}\")\n",
    "# #     display(make_dedup_box(idx_x, idx_y))"
   ]
  },
  {
   "cell_type": "code",
   "execution_count": 33,
   "metadata": {
    "Collapsed": "false"
   },
   "outputs": [],
   "source": [
    "# def potential_duplicates_interested (threshold):\n",
    "#     for i in range(distance.shape[0]):\n",
    "#         for j in range(i):\n",
    "#             if distance[i, j] <= threshold:\n",
    "#                 phash_pair = frozenset([imageDedup[i]['phash'], imageDedup[j]['phash']])\n",
    "#                 if (imageMetas[i]['phash'] in interested_phashes or\n",
    "#                     imageMetas[j]['phash'] in interested_phashes) and (\n",
    "#                     phash_pair not in auto_duplicated_image_phash_pairs and\n",
    "#                     phash_pair not in duplicated_post_image_phash_pairs and\n",
    "#                     phash_pair not in duplicated_image_phash_pairs and\n",
    "#                     phash_pair not in not_duplicated_image_phash_pairs and\n",
    "#                     phash_pair not in related_album_image_phash_pairs and\n",
    "#                     phash_pair not in related_image_phash_pairs):\n",
    "#                     yield (i, j)"
   ]
  },
  {
   "cell_type": "code",
   "execution_count": 34,
   "metadata": {
    "Collapsed": "false"
   },
   "outputs": [],
   "source": [
    "# pdupi = potential_duplicates_interested(18)"
   ]
  },
  {
   "cell_type": "code",
   "execution_count": 35,
   "metadata": {
    "Collapsed": "false"
   },
   "outputs": [],
   "source": [
    "# for i in range(10):\n",
    "#     try:\n",
    "#         next_pdup = next(pdupi)\n",
    "#     except StopIteration:\n",
    "#         print('StopIteration')\n",
    "#         break\n",
    "\n",
    "#     idx_x, idx_y = next_pdup\n",
    "#     image_x = imageDedup[idx_x]\n",
    "#     image_y = imageDedup[idx_y]\n",
    "#     print(f\"{idx_x} {idx_y} {distance[idx_x, idx_y]} {image_x['phash']} {image_y['phash']} {image_x['width']} {image_y['width']} {image_x['image_id']} {image_y['image_id']}\")\n",
    "#     display(make_dedup_box(idx_x, idx_y))"
   ]
  },
  {
   "cell_type": "code",
   "execution_count": 36,
   "metadata": {
    "Collapsed": "false"
   },
   "outputs": [],
   "source": [
    "# def potential_duplicates_related ():\n",
    "#     for i in range(distance.shape[0]):\n",
    "#         for j in range(i):\n",
    "#             if related_distance[i, j] == 0:\n",
    "#                 phash_pair = frozenset([imageDedup[i]['phash'], imageDedup[j]['phash']])\n",
    "#                 if (phash_pair not in related_album_image_phash_pairs):\n",
    "#                     yield (i, j)"
   ]
  },
  {
   "cell_type": "code",
   "execution_count": 37,
   "metadata": {
    "Collapsed": "false"
   },
   "outputs": [],
   "source": [
    "# pdupr = potential_duplicates_related()"
   ]
  },
  {
   "cell_type": "code",
   "execution_count": 38,
   "metadata": {
    "Collapsed": "false"
   },
   "outputs": [],
   "source": [
    "# for i in range(10):\n",
    "#     try:\n",
    "#         next_pdup = next(pdupr)\n",
    "#     except StopIteration:\n",
    "#         print('StopIteration')\n",
    "#         break\n",
    "\n",
    "#     idx_x, idx_y = next_pdup\n",
    "#     image_x = imageDedup[idx_x]\n",
    "#     image_y = imageDedup[idx_y]\n",
    "#     print(f\"{idx_x} {idx_y} {pdistance[idx_x, idx_y]} {distance[idx_x, idx_y]} {image_x['phash']} {image_y['phash']} {image_x['width']} {image_y['width']} {image_x['image_id']} {image_y['image_id']}\")\n",
    "#     display(make_dedup_box(idx_x, idx_y))"
   ]
  },
  {
   "cell_type": "markdown",
   "metadata": {
    "Collapsed": "false"
   },
   "source": [
    "# Consolidate"
   ]
  },
  {
   "cell_type": "markdown",
   "metadata": {
    "Collapsed": "false"
   },
   "source": [
    "## Related images"
   ]
  },
  {
   "cell_type": "code",
   "execution_count": 39,
   "metadata": {
    "Collapsed": "false"
   },
   "outputs": [
    {
     "data": {
      "text/plain": [
       "124"
      ]
     },
     "execution_count": 39,
     "metadata": {},
     "output_type": "execute_result"
    }
   ],
   "source": [
    "related_images = [[imageDedup[idx]['image_id'] for idx in c]\n",
    "                     for c in nx.components.connected_components(nx.Graph(related_distance <= 1))\n",
    "                     if len(c) > 1]\n",
    "len(related_images)"
   ]
  },
  {
   "cell_type": "code",
   "execution_count": 40,
   "metadata": {
    "Collapsed": "false"
   },
   "outputs": [],
   "source": [
    "for ids in related_images:\n",
    "    for i in ids:\n",
    "        imageMeta = imageDedup[image_id_to_idx(i)]\n",
    "        ri = [r for r in set(imageMeta.get('related_images', []) + ids) if r != i]\n",
    "        imagededup.update_one({'image_id': i}, {'$set': {'related_images': ri}})"
   ]
  },
  {
   "cell_type": "markdown",
   "metadata": {
    "Collapsed": "false"
   },
   "source": [
    "## Duplicated images"
   ]
  },
  {
   "cell_type": "code",
   "execution_count": 41,
   "metadata": {
    "Collapsed": "false"
   },
   "outputs": [],
   "source": [
    "class ImageDedup ():\n",
    "    _attrs = [\n",
    "        'id',\n",
    "        'post_id',\n",
    "        'datetime',\n",
    "        'url',\n",
    "        'title',\n",
    "        'content',\n",
    "        'author',\n",
    "        'removed',\n",
    "        'ups',\n",
    "        'num_comments',\n",
    "        'external_link',\n",
    "        'source',\n",
    "        'source_platform',\n",
    "        'source_url',\n",
    "        'tags',\n",
    "        'labels',\n",
    "        'media_type',\n",
    "        'thumbnail_url',\n",
    "        'preview_url',\n",
    "        'external_link_url',\n",
    "        'archive_url',\n",
    "\n",
    "        'thumbnail',\n",
    "        'preview',\n",
    "        'external_link',\n",
    "        'archive',\n",
    "        'manual',\n",
    "\n",
    "        'image_id',\n",
    "        'short_image_id',\n",
    "        'album',\n",
    "        'index_in_album',\n",
    "        'image_type',\n",
    "        'file_path',\n",
    "        'ext',\n",
    "        'animated',\n",
    "        'size',\n",
    "        'width',\n",
    "        'height',\n",
    "        'pixels',\n",
    "        'image_order',\n",
    "        'ahash',\n",
    "        'phash',\n",
    "        'pshash',\n",
    "        'dhash',\n",
    "        'whash',\n",
    "\n",
    "        'duplicated_posts',\n",
    "        'related_images',\n",
    "        'duplicated_images',\n",
    "        'popularity_score'\n",
    "    ]\n",
    "\n",
    "    def __init__ (self, imageMetas=[]):\n",
    "        if len(imageMetas) == 0:\n",
    "            raise Exception('Empty imageFiles array.')\n",
    "\n",
    "        self._imageMetas = imageMetas\n",
    "        self._image_ids = [i['image_id'] for i in imageMetas]\n",
    "        self._image_order = sort_images(self._imageMetas)\n",
    "\n",
    "        self._post_ids = {i['post_id'] for i in imageMetas}\n",
    "        self._posts = [posts.find_one({'post_id': i}) for i in self._post_ids]\n",
    "        self._posts += [posts.find_one({'post_id': i}) for p in self._posts for i in p['duplicated_posts'] if 'duplicated_posts' in p]\n",
    "        if None in self._posts:\n",
    "            print(self._post_ids)\n",
    "        self._post_order = sort_posts(self._posts)\n",
    "\n",
    "        for k, v in self.main_image.items():\n",
    "            if k in ['duplicated_posts', 'related_images']:\n",
    "                continue\n",
    "            setattr(self, k, v)\n",
    "\n",
    "        for k, v in self.main_post.items():\n",
    "            if k in ['duplicated_posts', 'related_images']:\n",
    "                continue\n",
    "            if k in ['preview', 'thumbnail', 'external_link', 'archive', 'manual']:\n",
    "                setattr(self, f\"{k}_url\", v)\n",
    "            else:\n",
    "                setattr(self, k, v)\n",
    "\n",
    "    def digest (self):\n",
    "        return {a:getattr(self, a) for a in ImageDedup._attrs if hasattr(self, a)}\n",
    "\n",
    "    @property\n",
    "    def duplicated_posts (self):\n",
    "        post_ids = self._post_ids.union(*[set(p.get('duplicated_posts', [])) for p in self._posts])\n",
    "        return [i for i in post_ids if i != self.post_id]\n",
    "\n",
    "    @property\n",
    "    def duplicated_images (self):\n",
    "        return [i for i in self._image_ids if i != self.image_id]\n",
    "\n",
    "    @property\n",
    "    def related_images (self):\n",
    "        return [ri for i in self._imageMetas for ri in i.get('related_images', []) if ri != self.image_id]\n",
    "\n",
    "    @property\n",
    "    def main_post (self):\n",
    "#         if len(self._post_order) > 1 and self._post_order[0]['source_platform'] != 'reddit':\n",
    "#             print(f\"main post warning: {[p['post_id'] for p in self._post_order]}\")\n",
    "        return self._post_order[0]\n",
    "\n",
    "    @property\n",
    "    def popularity_score (self):\n",
    "        return sum([post_score(p) for p in self._posts])\n",
    "\n",
    "    @property\n",
    "    def main_image (self):\n",
    "#         if len(self._image_order) > 1 and self._image_order[0]['source_platform'] != 'reddit':\n",
    "#             print(f\"main image warning: {[i['image_id'] for i in self._image_order]}\")\n",
    "        return self._image_order[0]"
   ]
  },
  {
   "cell_type": "code",
   "execution_count": 42,
   "metadata": {
    "Collapsed": "false"
   },
   "outputs": [],
   "source": [
    "duplicated_images = [[imageDedup[idx]['image_id'] for idx in c]\n",
    "                     for c in nx.components.connected_components(nx.Graph(distance <= 1))]"
   ]
  },
  {
   "cell_type": "code",
   "execution_count": 43,
   "metadata": {
    "Collapsed": "false"
   },
   "outputs": [],
   "source": [
    "# imageDedup[image_id_to_idx('reddit/AusFinance/fman6b_0')]"
   ]
  },
  {
   "cell_type": "code",
   "execution_count": 44,
   "metadata": {
    "Collapsed": "false"
   },
   "outputs": [],
   "source": [
    "def dedup_image (ids):\n",
    "    imagedd = ImageDedup([imageDedup[image_id_to_idx(i)] for i in ids])\n",
    "    if imagedd.main_post['source'] != 'dataisugly':\n",
    "        print(f\"Image not from dataisugly: {imagedd.main_post['post_id']}\")\n",
    "    for i in imagedd.duplicated_images:\n",
    "        imagededup.delete_one({'image_id': i})\n",
    "    imagededup.replace_one({'image_id': imagedd.image_id}, imagedd.digest(), upsert=True)\n",
    "    return imagedd"
   ]
  },
  {
   "cell_type": "code",
   "execution_count": 45,
   "metadata": {
    "Collapsed": "false"
   },
   "outputs": [
    {
     "data": {
      "application/vnd.jupyter.widget-view+json": {
       "model_id": "753cfc76d083421f9a3c53db8e265f17",
       "version_major": 2,
       "version_minor": 0
      },
      "text/plain": [
       "HBox(children=(FloatProgress(value=0.0, max=5840.0), HTML(value='')))"
      ]
     },
     "metadata": {},
     "output_type": "display_data"
    },
    {
     "name": "stdout",
     "output_type": "stream",
     "text": [
      "\n"
     ]
    }
   ],
   "source": [
    "imagedds = parallel(dedup_image, duplicated_images, n_jobs=1)"
   ]
  },
  {
   "cell_type": "code",
   "execution_count": 46,
   "metadata": {
    "Collapsed": "false"
   },
   "outputs": [
    {
     "data": {
      "application/vnd.jupyter.widget-view+json": {
       "model_id": "93be715f97dd4f39bf338f6c5a273035",
       "version_major": 2,
       "version_minor": 0
      },
      "text/plain": [
       "HBox(children=(Image(value=b'\\xff\\xd8\\xff\\xe0\\x00\\x10JFIF\\x00\\x01\\x01\\x00\\x00\\x01\\x00\\x01\\x00\\x00\\xff\\xed\\x00|…"
      ]
     },
     "metadata": {},
     "output_type": "display_data"
    },
    {
     "data": {
      "application/vnd.jupyter.widget-view+json": {
       "model_id": "4631d0d489624a0baa2596ab1eedfa17",
       "version_major": 2,
       "version_minor": 0
      },
      "text/plain": [
       "HBox(children=(Image(value=b'\\xff\\xd8\\xff\\xe0\\x00\\x10JFIF\\x00\\x01\\x01\\x00\\x00\\x01\\x00\\x01\\x00\\x00\\xff\\xdb\\x00C…"
      ]
     },
     "metadata": {},
     "output_type": "display_data"
    },
    {
     "data": {
      "application/vnd.jupyter.widget-view+json": {
       "model_id": "f5c6c54017c34bce8eb5dd7c6152a996",
       "version_major": 2,
       "version_minor": 0
      },
      "text/plain": [
       "HBox(children=(Image(value=b'\\xff\\xd8\\xff\\xe0\\x00\\x10JFIF\\x00\\x01\\x01\\x00\\x00\\x01\\x00\\x01\\x00\\x00\\xff\\xed\\x00\\…"
      ]
     },
     "metadata": {},
     "output_type": "display_data"
    },
    {
     "data": {
      "application/vnd.jupyter.widget-view+json": {
       "model_id": "09b42fe507074c4c9ddaf4a354114a32",
       "version_major": 2,
       "version_minor": 0
      },
      "text/plain": [
       "HBox(children=(Image(value=b'\\x89PNG\\r\\n\\x1a\\n\\x00\\x00\\x00\\rIHDR\\x00\\x00\\x02v\\x00\\x00\\x01\\xf4\\x08\\x06\\x00\\x00\\…"
      ]
     },
     "metadata": {},
     "output_type": "display_data"
    },
    {
     "data": {
      "application/vnd.jupyter.widget-view+json": {
       "model_id": "281befe2a2654ce08276d520f597c241",
       "version_major": 2,
       "version_minor": 0
      },
      "text/plain": [
       "HBox(children=(Image(value=b'\\xff\\xd8\\xff\\xe0\\x00\\x10JFIF\\x00\\x01\\x01\\x00\\x00\\x01\\x00\\x01\\x00\\x00\\xff\\xdb\\x00C…"
      ]
     },
     "metadata": {},
     "output_type": "display_data"
    },
    {
     "data": {
      "application/vnd.jupyter.widget-view+json": {
       "model_id": "1aeb8be6fe8140bb850367212a16ceca",
       "version_major": 2,
       "version_minor": 0
      },
      "text/plain": [
       "HBox(children=(Image(value=b'\\xff\\xd8\\xff\\xe0\\x00\\x10JFIF\\x00\\x01\\x01\\x00\\x00\\x01\\x00\\x01\\x00\\x00\\xff\\xdb\\x00C…"
      ]
     },
     "metadata": {},
     "output_type": "display_data"
    },
    {
     "data": {
      "application/vnd.jupyter.widget-view+json": {
       "model_id": "3850771b52644e1082d6f1701bb9bbb4",
       "version_major": 2,
       "version_minor": 0
      },
      "text/plain": [
       "HBox(children=(Image(value=b'\\xff\\xd8\\xff\\xe0\\x00\\x10JFIF\\x00\\x01\\x01\\x00\\x00\\x01\\x00\\x01\\x00\\x00\\xff\\xe2\\x02\\…"
      ]
     },
     "metadata": {},
     "output_type": "display_data"
    },
    {
     "data": {
      "application/vnd.jupyter.widget-view+json": {
       "model_id": "d48a7533c6f84b7e94a7a8a154d5fb75",
       "version_major": 2,
       "version_minor": 0
      },
      "text/plain": [
       "HBox(children=(Image(value=b'\\x89PNG\\r\\n\\x1a\\n\\x00\\x00\\x00\\rIHDR\\x00\\x00\\x03 \\x00\\x00\\x03 \\x08\\x06\\x00\\x00\\x00…"
      ]
     },
     "metadata": {},
     "output_type": "display_data"
    },
    {
     "data": {
      "application/vnd.jupyter.widget-view+json": {
       "model_id": "5003fcc4c99545abaf99b14aa8a5cdf8",
       "version_major": 2,
       "version_minor": 0
      },
      "text/plain": [
       "HBox(children=(Image(value=b'\\xff\\xd8\\xff\\xe0\\x00\\x10JFIF\\x00\\x01\\x01\\x00\\x00\\x01\\x00\\x01\\x00\\x00\\xff\\xdb\\x00C…"
      ]
     },
     "metadata": {},
     "output_type": "display_data"
    },
    {
     "data": {
      "application/vnd.jupyter.widget-view+json": {
       "model_id": "75fad7bb05274c2ebf7c169856d4aed0",
       "version_major": 2,
       "version_minor": 0
      },
      "text/plain": [
       "HBox(children=(Image(value=b'\\xff\\xd8\\xff\\xe0\\x00\\x10JFIF\\x00\\x01\\x01\\x00\\x00\\x01\\x00\\x01\\x00\\x00\\xff\\xe2\\x02\\…"
      ]
     },
     "metadata": {},
     "output_type": "display_data"
    },
    {
     "data": {
      "application/vnd.jupyter.widget-view+json": {
       "model_id": "4e54fe152e3645379fddf8726b8e4b81",
       "version_major": 2,
       "version_minor": 0
      },
      "text/plain": [
       "HBox(children=(Image(value=b'\\x89PNG\\r\\n\\x1a\\n\\x00\\x00\\x00\\rIHDR\\x00\\x00\\x03\\xc9\\x00\\x00\\x02\\xee\\x08\\x06\\x00\\x…"
      ]
     },
     "metadata": {},
     "output_type": "display_data"
    },
    {
     "data": {
      "application/vnd.jupyter.widget-view+json": {
       "model_id": "9ac27f8f22e8498a950fa6481e217ebc",
       "version_major": 2,
       "version_minor": 0
      },
      "text/plain": [
       "HBox(children=(Image(value=b'\\x89PNG\\r\\n\\x1a\\n\\x00\\x00\\x00\\rIHDR\\x00\\x00\\x042\\x00\\x00\\x03\\x0c\\x08\\x06\\x00\\x00\\…"
      ]
     },
     "metadata": {},
     "output_type": "display_data"
    },
    {
     "data": {
      "application/vnd.jupyter.widget-view+json": {
       "model_id": "31e27536d4064374b6deef1a4280f8ed",
       "version_major": 2,
       "version_minor": 0
      },
      "text/plain": [
       "HBox(children=(Image(value=b'\\x89PNG\\r\\n\\x1a\\n\\x00\\x00\\x00\\rIHDR\\x00\\x00\\n\\x9d\\x00\\x00\\t\\xa6\\x08\\x03\\x00\\x00\\x…"
      ]
     },
     "metadata": {},
     "output_type": "display_data"
    },
    {
     "data": {
      "application/vnd.jupyter.widget-view+json": {
       "model_id": "1c48ccf98d094a4e8fe5614218a62359",
       "version_major": 2,
       "version_minor": 0
      },
      "text/plain": [
       "HBox(children=(Image(value=b'\\x89PNG\\r\\n\\x1a\\n\\x00\\x00\\x00\\rIHDR\\x00\\x00\\x06\\x05\\x00\\x00\\x03\\x8b\\x08\\x06\\x00\\x…"
      ]
     },
     "metadata": {},
     "output_type": "display_data"
    },
    {
     "data": {
      "application/vnd.jupyter.widget-view+json": {
       "model_id": "5e84c237f8604824af5351fefa367559",
       "version_major": 2,
       "version_minor": 0
      },
      "text/plain": [
       "HBox(children=(Image(value=b'\\x89PNG\\r\\n\\x1a\\n\\x00\\x00\\x00\\rIHDR\\x00\\x00\\x03\\x06\\x00\\x00\\x04A\\x08\\x02\\x00\\x00\\…"
      ]
     },
     "metadata": {},
     "output_type": "display_data"
    },
    {
     "data": {
      "application/vnd.jupyter.widget-view+json": {
       "model_id": "bde1d11d28a3422ba3c15d4e0f05bbb5",
       "version_major": 2,
       "version_minor": 0
      },
      "text/plain": [
       "HBox(children=(Image(value=b'\\xff\\xd8\\xff\\xe0\\x00\\x10JFIF\\x00\\x01\\x01\\x00\\x00\\x01\\x00\\x01\\x00\\x00\\xff\\xdb\\x00C…"
      ]
     },
     "metadata": {},
     "output_type": "display_data"
    },
    {
     "data": {
      "application/vnd.jupyter.widget-view+json": {
       "model_id": "8bbbd9088ffb44acbb3799a7f335fd83",
       "version_major": 2,
       "version_minor": 0
      },
      "text/plain": [
       "HBox(children=(Image(value=b'\\x89PNG\\r\\n\\x1a\\n\\x00\\x00\\x00\\rIHDR\\x00\\x00\\x02\\x84\\x00\\x00\\x01\\xdc\\x08\\x02\\x00\\x…"
      ]
     },
     "metadata": {},
     "output_type": "display_data"
    },
    {
     "data": {
      "application/vnd.jupyter.widget-view+json": {
       "model_id": "b90903c8ca2248e0aa5711c6704b4820",
       "version_major": 2,
       "version_minor": 0
      },
      "text/plain": [
       "HBox(children=(Image(value=b'\\xff\\xd8\\xff\\xe0\\x00\\x10JFIF\\x00\\x01\\x01\\x00\\x00\\x01\\x00\\x01\\x00\\x00\\xff\\xdb\\x00C…"
      ]
     },
     "metadata": {},
     "output_type": "display_data"
    },
    {
     "data": {
      "application/vnd.jupyter.widget-view+json": {
       "model_id": "03a0307998774aa9b5491cac1b8becc6",
       "version_major": 2,
       "version_minor": 0
      },
      "text/plain": [
       "HBox(children=(Image(value=b'GIF89a\\x07\\x03$\\x01\\xf7\\x00\\x00\\x01\\x01\\x01\\x08\\x08\\x08>==z?\\x19z>\\x17y9\\x10c(\\':…"
      ]
     },
     "metadata": {},
     "output_type": "display_data"
    },
    {
     "data": {
      "application/vnd.jupyter.widget-view+json": {
       "model_id": "e4bab67c5c114c5a99eb58f80e07e791",
       "version_major": 2,
       "version_minor": 0
      },
      "text/plain": [
       "HBox(children=(Image(value=b'\\x89PNG\\r\\n\\x1a\\n\\x00\\x00\\x00\\rIHDR\\x00\\x00\\x07^\\x00\\x00\\x04\\xb6\\x08\\x02\\x00\\x00\\…"
      ]
     },
     "metadata": {},
     "output_type": "display_data"
    }
   ],
   "source": [
    "duplicated_image_ids = [c\n",
    "                     for c in nx.components.connected_components(nx.Graph(distance <= 1))\n",
    "                     if len(c) > 1]\n",
    "# len(duplicated_image_ids)\n",
    "cnt = 0\n",
    "for idxs in duplicated_image_ids:\n",
    "#     print(f\"{[imageDedup[i]['image_id'] for i in idxs]}\")\n",
    "    if len(idxs) >= 4:\n",
    "        display(HBox([\n",
    "            widgets.Image(value=open(imageDedup[i]['file_path'], 'rb').read(), width=100, height=100)\n",
    "            for i in idxs]))\n",
    "        cnt += 1\n",
    "        if cnt >= 20:\n",
    "            break"
   ]
  },
  {
   "cell_type": "code",
   "execution_count": null,
   "metadata": {
    "Collapsed": "false"
   },
   "outputs": [],
   "source": []
  }
 ],
 "metadata": {
  "kernelspec": {
   "display_name": "Python 3",
   "language": "python",
   "name": "python3"
  },
  "language_info": {
   "codemirror_mode": {
    "name": "ipython",
    "version": 3
   },
   "file_extension": ".py",
   "mimetype": "text/x-python",
   "name": "python",
   "nbconvert_exporter": "python",
   "pygments_lexer": "ipython3",
   "version": "3.7.6"
  }
 },
 "nbformat": 4,
 "nbformat_minor": 4
}
