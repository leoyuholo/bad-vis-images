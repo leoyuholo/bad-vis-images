{
 "cells": [
  {
   "cell_type": "code",
   "execution_count": 1,
   "metadata": {
    "Collapsed": "false"
   },
   "outputs": [],
   "source": [
    "# !pip install simplejson"
   ]
  },
  {
   "cell_type": "code",
   "execution_count": 2,
   "metadata": {
    "Collapsed": "false"
   },
   "outputs": [],
   "source": [
    "from pymongo import MongoClient\n",
    "from pathlib import Path\n",
    "from tqdm.notebook import tqdm\n",
    "import numpy as np\n",
    "import simplejson as json\n",
    "import itertools\n",
    "from functools import cmp_to_key\n",
    "import networkx as nx\n",
    "\n",
    "from IPython.display import display, Image, JSON\n",
    "from ipywidgets import widgets, Image, HBox, VBox, Button, ButtonStyle\n",
    "\n",
    "from lib.image_dedup import make_hashes, calculate_distance, hashes_diff\n",
    "from lib.PersistentSet import PersistentSet\n",
    "from lib.sort_things import post_score, sort_posts, sort_images\n",
    "from lib.parallel import parallel"
   ]
  },
  {
   "cell_type": "code",
   "execution_count": 3,
   "metadata": {
    "Collapsed": "false"
   },
   "outputs": [],
   "source": [
    "images_dir = Path('../images')\n",
    "handmade_dir = Path('./handmade')\n",
    "handmade_dir.mkdir(exist_ok=True)"
   ]
  },
  {
   "cell_type": "code",
   "execution_count": 4,
   "metadata": {
    "Collapsed": "false"
   },
   "outputs": [],
   "source": [
    "mongo = MongoClient('172.17.0.1', 27017)\n",
    "db = mongo['bad-vis']\n",
    "posts = db['posts']\n",
    "imagemeta = db['imagemeta']\n",
    "imagededup = db['imagededup']"
   ]
  },
  {
   "cell_type": "code",
   "execution_count": 5,
   "metadata": {
    "Collapsed": "false"
   },
   "outputs": [],
   "source": [
    "imagededup.drop()\n",
    "for i in imagemeta.find():\n",
    "    imagededup.insert_one(i)"
   ]
  },
  {
   "cell_type": "markdown",
   "metadata": {
    "Collapsed": "false"
   },
   "source": [
    "# Load image metadata"
   ]
  },
  {
   "cell_type": "code",
   "execution_count": 6,
   "metadata": {
    "Collapsed": "false"
   },
   "outputs": [],
   "source": [
    "imageDedup = [m for m in imagemeta.find()]\n",
    "imageDedup.sort(key=lambda x: x['image_id'])"
   ]
  },
  {
   "cell_type": "code",
   "execution_count": 7,
   "metadata": {
    "Collapsed": "false"
   },
   "outputs": [],
   "source": [
    "phash_to_idx_mapping = {}\n",
    "for i in range(len(imageDedup)):\n",
    "    phash = imageDedup[i]['phash']\n",
    "    l = phash_to_idx_mapping.get(phash, [])\n",
    "    l.append(i)\n",
    "    phash_to_idx_mapping[phash] = l\n",
    "def phash_to_idx (phash):\n",
    "    return phash_to_idx_mapping.get(phash, None)"
   ]
  },
  {
   "cell_type": "code",
   "execution_count": 8,
   "metadata": {
    "Collapsed": "false"
   },
   "outputs": [],
   "source": [
    "image_id_to_idx_mapping = {imageDedup[i]['image_id']:i for i in range(len(imageDedup))}\n",
    "def image_id_to_idx (image_id):\n",
    "    return image_id_to_idx_mapping.get(image_id, None)"
   ]
  },
  {
   "cell_type": "markdown",
   "metadata": {
    "Collapsed": "false"
   },
   "source": [
    "# Calculate distance"
   ]
  },
  {
   "cell_type": "markdown",
   "metadata": {
    "Collapsed": "false"
   },
   "source": [
    "## Hash distance"
   ]
  },
  {
   "cell_type": "code",
   "execution_count": 9,
   "metadata": {
    "Collapsed": "false"
   },
   "outputs": [],
   "source": [
    "image_hashes = [make_hashes(m) for m in imageDedup]"
   ]
  },
  {
   "cell_type": "code",
   "execution_count": 10,
   "metadata": {
    "Collapsed": "false"
   },
   "outputs": [
    {
     "data": {
      "application/vnd.jupyter.widget-view+json": {
       "model_id": "d3190728d2fe41b0a53db4722119f508",
       "version_major": 2,
       "version_minor": 0
      },
      "text/plain": [
       "HBox(children=(FloatProgress(value=0.0, max=2601.0), HTML(value='')))"
      ]
     },
     "metadata": {},
     "output_type": "display_data"
    },
    {
     "name": "stdout",
     "output_type": "stream",
     "text": [
      "\n"
     ]
    },
    {
     "data": {
      "application/vnd.jupyter.widget-view+json": {
       "model_id": "2f5cbd05ad04442091e6c1dd17e5aa06",
       "version_major": 2,
       "version_minor": 0
      },
      "text/plain": [
       "HBox(children=(FloatProgress(value=0.0, max=6736.0), HTML(value='')))"
      ]
     },
     "metadata": {},
     "output_type": "display_data"
    },
    {
     "name": "stdout",
     "output_type": "stream",
     "text": [
      "\n"
     ]
    }
   ],
   "source": [
    "distance = calculate_distance(image_hashes)"
   ]
  },
  {
   "cell_type": "code",
   "execution_count": 11,
   "metadata": {
    "Collapsed": "false"
   },
   "outputs": [],
   "source": [
    "# distance2 = np.ndarray([len(image_hashes), len(image_hashes)])\n",
    "# for i in tqdm(range(len(image_hashes))):\n",
    "#     for j in range(i+1):\n",
    "#         diff = hashes_diff(image_hashes[i], image_hashes[j])\n",
    "#         distance2[i, j] = diff\n",
    "#         distance2[j, i] = diff\n",
    "# np.array_equal(distance, distance2)"
   ]
  },
  {
   "cell_type": "code",
   "execution_count": 12,
   "metadata": {
    "Collapsed": "false"
   },
   "outputs": [
    {
     "data": {
      "application/vnd.jupyter.widget-view+json": {
       "model_id": "7654cc11c1bd4b08b504075d08b4ef2e",
       "version_major": 2,
       "version_minor": 0
      },
      "text/plain": [
       "HBox(children=(FloatProgress(value=0.0, max=2601.0), HTML(value='')))"
      ]
     },
     "metadata": {},
     "output_type": "display_data"
    },
    {
     "name": "stdout",
     "output_type": "stream",
     "text": [
      "\n"
     ]
    },
    {
     "data": {
      "application/vnd.jupyter.widget-view+json": {
       "model_id": "f95a57a44c6246f3a8dc72b9831d568f",
       "version_major": 2,
       "version_minor": 0
      },
      "text/plain": [
       "HBox(children=(FloatProgress(value=0.0, max=6736.0), HTML(value='')))"
      ]
     },
     "metadata": {},
     "output_type": "display_data"
    },
    {
     "name": "stdout",
     "output_type": "stream",
     "text": [
      "\n"
     ]
    }
   ],
   "source": [
    "pdistance = calculate_distance(image_hashes, hash_type='phash')"
   ]
  },
  {
   "cell_type": "markdown",
   "metadata": {
    "Collapsed": "false"
   },
   "source": [
    "## Find duplicated pairs from distance matrix"
   ]
  },
  {
   "cell_type": "code",
   "execution_count": 13,
   "metadata": {
    "Collapsed": "false"
   },
   "outputs": [],
   "source": [
    "def set_distance (hashes, value, mat=distance):\n",
    "    phash_x = hashes[0]\n",
    "    phash_y = phash_x if len(hashes) == 1 else hashes[1]\n",
    "    idx_x = phash_to_idx(phash_x)\n",
    "    idx_y = phash_to_idx(phash_y)\n",
    "    if idx_x == None or idx_y == None:\n",
    "        return\n",
    "    for s in itertools.product(idx_x, idx_y):\n",
    "        i, j = s\n",
    "        mat[i, j] = value\n",
    "        mat[j, i] = value\n",
    "\n",
    "def set_distance_pairs (phash_pairs, value, mat=distance):\n",
    "    for p in phash_pairs:\n",
    "        set_distance(list(p), value, mat=mat)"
   ]
  },
  {
   "cell_type": "code",
   "execution_count": 14,
   "metadata": {
    "Collapsed": "false"
   },
   "outputs": [],
   "source": [
    "auto_duplicated_image_phash_pairs = PersistentSet()\n",
    "auto_duplicated_image_phash_pairs.set_file(handmade_dir/'auto_duplicated_image_phash_pairs.json')"
   ]
  },
  {
   "cell_type": "code",
   "execution_count": 15,
   "metadata": {
    "Collapsed": "false"
   },
   "outputs": [
    {
     "data": {
      "application/vnd.jupyter.widget-view+json": {
       "model_id": "3aef91b5e1ea4f4b9257522b78b98290",
       "version_major": 2,
       "version_minor": 0
      },
      "text/plain": [
       "HBox(children=(FloatProgress(value=0.0, max=6736.0), HTML(value='')))"
      ]
     },
     "metadata": {},
     "output_type": "display_data"
    },
    {
     "name": "stdout",
     "output_type": "stream",
     "text": [
      "\n"
     ]
    }
   ],
   "source": [
    "for i in tqdm(range(distance.shape[0])):\n",
    "    for j in range(i):\n",
    "        if distance[i, j] <= 1: # checked, all distance <= 1 are duplicated\n",
    "            auto_duplicated_image_phash_pairs.add(frozenset([imageDedup[i]['phash'], imageDedup[j]['phash']]))"
   ]
  },
  {
   "cell_type": "code",
   "execution_count": 16,
   "metadata": {
    "Collapsed": "false"
   },
   "outputs": [
    {
     "data": {
      "application/vnd.jupyter.widget-view+json": {
       "model_id": "2f011bf6f530403a8e620efc3b3cf053",
       "version_major": 2,
       "version_minor": 0
      },
      "text/plain": [
       "HBox(children=(FloatProgress(value=0.0, max=6736.0), HTML(value='')))"
      ]
     },
     "metadata": {},
     "output_type": "display_data"
    },
    {
     "name": "stdout",
     "output_type": "stream",
     "text": [
      "\n"
     ]
    }
   ],
   "source": [
    "for i in tqdm(range(pdistance.shape[0])):\n",
    "    for j in range(i):\n",
    "        if pdistance[i, j] <= 1: # checked, all distance <= 1 are duplicated\n",
    "            auto_duplicated_image_phash_pairs.add(frozenset([imageDedup[i]['phash'], imageDedup[j]['phash']]))"
   ]
  },
  {
   "cell_type": "code",
   "execution_count": 17,
   "metadata": {
    "Collapsed": "false"
   },
   "outputs": [],
   "source": [
    "auto_duplicated_image_phash_pairs.save()"
   ]
  },
  {
   "cell_type": "markdown",
   "metadata": {
    "Collapsed": "false"
   },
   "source": [
    "## Apply information from meta data"
   ]
  },
  {
   "cell_type": "code",
   "execution_count": 18,
   "metadata": {
    "Collapsed": "false"
   },
   "outputs": [
    {
     "data": {
      "application/vnd.jupyter.widget-view+json": {
       "model_id": "d0f73b6088604ab19c8ee757dd9c247f",
       "version_major": 2,
       "version_minor": 0
      },
      "text/plain": [
       "HBox(children=(FloatProgress(value=1.0, bar_style='info', max=1.0), HTML(value='')))"
      ]
     },
     "metadata": {},
     "output_type": "display_data"
    },
    {
     "name": "stdout",
     "output_type": "stream",
     "text": [
      "\n"
     ]
    }
   ],
   "source": [
    "duplicated_post_image_phash_pairs = PersistentSet()\n",
    "duplicated_post_image_phash_pairs.set_file(handmade_dir/'duplicated_post_image_phash_pairs.json')\n",
    "\n",
    "for p in tqdm(posts.find()):\n",
    "    if len(p.get('duplicated_posts', [])) == 0:\n",
    "        continue\n",
    "\n",
    "    dp_phashes = {i['phash']\n",
    "                    for dp in p['duplicated_posts']\n",
    "                    for i in imagemeta.find({'post_id': dp})}\n",
    "    if len(dp_phashes) > 1:\n",
    "#         print(f\"More than 1 dp image {p['post_id']}\")\n",
    "#         print(f\"{p['duplicated_posts']} {dp_phashes}\")\n",
    "        continue\n",
    "\n",
    "    phashes = [i['phash'] for i in imagemeta.find({'post_id': p['post_id']})]\n",
    "    if len(phashes) > 1:\n",
    "#         print(f\"More than 1 image {p['post_id']} {phashes}\")\n",
    "        continue\n",
    "    for s in itertools.product(dp_phashes, phashes):\n",
    "        fs = frozenset(s)\n",
    "        if len(fs) > 1:\n",
    "            duplicated_post_image_phash_pairs.add(fs)\n",
    "\n",
    "duplicated_post_image_phash_pairs.save()"
   ]
  },
  {
   "cell_type": "code",
   "execution_count": 19,
   "metadata": {
    "Collapsed": "false"
   },
   "outputs": [
    {
     "data": {
      "application/vnd.jupyter.widget-view+json": {
       "model_id": "462eab66cf844072a85f4c3ce668b3fd",
       "version_major": 2,
       "version_minor": 0
      },
      "text/plain": [
       "HBox(children=(FloatProgress(value=0.0, max=104.0), HTML(value='')))"
      ]
     },
     "metadata": {},
     "output_type": "display_data"
    },
    {
     "name": "stdout",
     "output_type": "stream",
     "text": [
      "Only 1 or less image 2ophbe ['8c7233d364cc6673']\n",
      "\n"
     ]
    }
   ],
   "source": [
    "related_album_image_phash_pairs = PersistentSet()\n",
    "related_album_image_phash_pairs.set_file(handmade_dir/'related_album_image_phash_pairs.json')\n",
    "\n",
    "for album in tqdm({i['album'] for i in imagemeta.find({'album': {'$exists': True, '$ne': ''}})}):\n",
    "    ra_phashes = [i['phash'] for i in imagemeta.find({'album': album})]\n",
    "    if len(ra_phashes) <= 1:\n",
    "        print(f\"Only 1 or less image {album} {ra_phashes}\")\n",
    "\n",
    "    for s in itertools.product(ra_phashes, ra_phashes):\n",
    "        fs = frozenset(s)\n",
    "        if len(fs) > 1:\n",
    "            related_album_image_phash_pairs.add(fs)\n",
    "\n",
    "related_album_image_phash_pairs.save()"
   ]
  },
  {
   "cell_type": "markdown",
   "metadata": {
    "Collapsed": "false"
   },
   "source": [
    "## Apply manual labeled data"
   ]
  },
  {
   "cell_type": "code",
   "execution_count": 20,
   "metadata": {
    "Collapsed": "false"
   },
   "outputs": [],
   "source": [
    "duplicated_image_phash_pairs = PersistentSet.load_set(handmade_dir/'duplicated_image_phash_pairs.json')\n",
    "not_duplicated_image_phash_pairs = PersistentSet.load_set(handmade_dir/'not_duplicated_image_phash_pairs.json')\n",
    "related_image_phash_pairs = PersistentSet.load_set(handmade_dir/'related_image_phash_pairs.json')\n",
    "invalid_image_phashes = PersistentSet.load_set(handmade_dir/'invalid_image_phashes.json')"
   ]
  },
  {
   "cell_type": "code",
   "execution_count": 21,
   "metadata": {
    "Collapsed": "false"
   },
   "outputs": [],
   "source": [
    "duplicated_image_phash_pairs.persist_add(frozenset(['ea11bc7f91b99094', 'c1c417436a1b6d3f']))\n",
    "duplicated_image_phash_pairs.persist_add(frozenset(['ecc6913b9a68c365', 'c66e3b313886c7ca']))\n",
    "duplicated_image_phash_pairs.persist_add(frozenset(['fed095305e626a9a', 'd2d4d6d093d8926b']))\n",
    "duplicated_image_phash_pairs.persist_add(frozenset(['afdfc0402eb59692', 'd9b681e04d3b8e6c']))\n",
    "duplicated_image_phash_pairs.persist_add(frozenset(['949a13b659757263', 'afdfc0402eb59692']))\n",
    "duplicated_image_phash_pairs.persist_add(frozenset(['fe81837a94e3807e', 'c1cf027147e6e1e9']))\n",
    "duplicated_image_phash_pairs.persist_add(frozenset(['d1c66d8132b783b5', 'd445eb81b6aed12a']))\n",
    "duplicated_image_phash_pairs.persist_add(frozenset(['e79e9068e7c29b84', 'ff9911311f1b1915']))\n",
    "duplicated_image_phash_pairs.persist_add(frozenset(['ea97856e1e216987', 'b0c9ceb0d2c63c6d']))\n",
    "duplicated_image_phash_pairs.persist_add(frozenset(['d25264dfa9659392', 'd1c66d8132b783b5']))\n",
    "duplicated_image_phash_pairs.persist_add(frozenset(['c13e3ae10e70fd86', 'fe81837a94e3807e']))\n",
    "duplicated_image_phash_pairs.persist_add(frozenset(['b163cb988e8e6d43', 'ead685999b447b60']))\n",
    "duplicated_image_phash_pairs.persist_add(frozenset(['ead685999b447b60', 'fb65953b889dd108']))\n",
    "duplicated_image_phash_pairs.persist_add(frozenset(['8278d797282a8b9f', '82897eff698302f4']))\n",
    "duplicated_image_phash_pairs.persist_add(frozenset(['fed095305e626a9a', 'afdfc0402eb59692']))\n",
    "duplicated_image_phash_pairs.persist_add(frozenset(['af9da24292fae149', 'ad87d2696738ca4c']))\n",
    "duplicated_image_phash_pairs.persist_add(frozenset(['bbb3e5cc10b143b1', 'bb33e5cc9073c330']))"
   ]
  },
  {
   "cell_type": "code",
   "execution_count": 22,
   "metadata": {
    "Collapsed": "false"
   },
   "outputs": [],
   "source": [
    "related_image_phash_pairs.persist_add(frozenset(['c13e3ae10e70fd86', 'c1cf027147e6e1e9']))\n",
    "related_image_phash_pairs.persist_add(frozenset(['b63e4c6e2d6c0c2d', 'e66f1b1b1b64254c']))\n",
    "related_image_phash_pairs.persist_add(frozenset(['aaa3a383a3a4a3b7', 'ff01805b017f057f']))\n",
    "related_image_phash_pairs.persist_add(frozenset(['9ba4581be45abd46', '93adc404dbf8f981']))\n",
    "related_image_phash_pairs.persist_add(frozenset(['c6158b9b14647b3e', 'c45485cb9b96e6e1']))\n",
    "related_image_phash_pairs.persist_add(frozenset(['9fe1a39c414f20bb', '8fd17949388bba86']))\n",
    "related_image_phash_pairs.persist_add(frozenset(['c0953f6b3fc1c095', 'c014bf62bf1fe144']))\n",
    "related_image_phash_pairs.persist_add(frozenset(['d2d2ad39c38c3ab1', 'ec929b6d9628c33c']))"
   ]
  },
  {
   "cell_type": "code",
   "execution_count": 23,
   "metadata": {
    "Collapsed": "false"
   },
   "outputs": [],
   "source": [
    "set_distance_pairs(auto_duplicated_image_phash_pairs, 0)\n",
    "set_distance_pairs(duplicated_post_image_phash_pairs, 0)\n",
    "set_distance_pairs(duplicated_image_phash_pairs, 0)\n",
    "set_distance_pairs(not_duplicated_image_phash_pairs, 60)\n",
    "set_distance_pairs(related_album_image_phash_pairs, 60)\n",
    "set_distance_pairs(related_image_phash_pairs, 60)\n",
    "\n",
    "related_distance = np.full(distance.shape, 60)\n",
    "set_distance_pairs(related_album_image_phash_pairs, 0, mat=related_distance)\n",
    "set_distance_pairs(related_image_phash_pairs, 0, mat=related_distance)"
   ]
  },
  {
   "cell_type": "markdown",
   "metadata": {
    "Collapsed": "false"
   },
   "source": [
    "# Human in the Loop"
   ]
  },
  {
   "cell_type": "code",
   "execution_count": 24,
   "metadata": {
    "Collapsed": "false"
   },
   "outputs": [],
   "source": [
    "def make_dedup_box (idx_x, idx_y, default=None):\n",
    "    image_x = imageDedup[idx_x]\n",
    "    phash_x = image_x['phash']\n",
    "    image_y = imageDedup[idx_y]\n",
    "    phash_y = image_y['phash']\n",
    "    hash_pair = frozenset([phash_x, phash_y])\n",
    "\n",
    "    yes_btn = widgets.Button(description=\"Duplicated\", button_style='success')\n",
    "    no_btn = widgets.Button(description=\"Not\", button_style='info')\n",
    "    related_btn = widgets.Button(description=\"Related\", button_style='warning')\n",
    "    invalid_x_btn = widgets.Button(description=\"X Invalid\")\n",
    "    invalid_y_btn = widgets.Button(description=\"Y Invalid\")\n",
    "    reset_btn = widgets.Button(description=\"Reset\")\n",
    "    output = widgets.Output()\n",
    "\n",
    "    def on_yes (btn):\n",
    "        with output:\n",
    "            if hash_pair in not_duplicated_image_phash_pairs:\n",
    "                not_duplicated_image_phash_pairs.persist_remove(hash_pair)\n",
    "                print('-Not')\n",
    "            duplicated_image_phash_pairs.persist_add(hash_pair)\n",
    "            print('Duplicated')\n",
    "\n",
    "    def on_no (btn):\n",
    "        not_duplicated_image_phash_pairs.persist_add(hash_pair)\n",
    "        with output:\n",
    "            print('Not')\n",
    "\n",
    "    def on_related (btn):\n",
    "        with output:\n",
    "            if hash_pair in not_duplicated_image_phash_pairs:\n",
    "                not_duplicated_image_phash_pairs.persist_remove(hash_pair)\n",
    "                print('-Not')\n",
    "            related_image_phash_pairs.persist_add(hash_pair)\n",
    "            print('Related')\n",
    "\n",
    "    def on_invalid_x (btn):\n",
    "        invalid_image_phashes.persist_add(phash_x)\n",
    "        with output:\n",
    "            print('Invalid X')\n",
    "\n",
    "    def on_invalid_y (btn):\n",
    "        invalid_image_phashes.persist_add(phash_y)\n",
    "        with output:\n",
    "            print('Invalid Y')\n",
    "\n",
    "    def on_reset (btn):\n",
    "        with output:\n",
    "            if hash_pair in duplicated_image_phash_pairs:\n",
    "                duplicated_image_phash_pairs.persist_remove(hash_pair)\n",
    "                print('-Duplicated')\n",
    "            if hash_pair in not_duplicated_image_phash_pairs:\n",
    "                not_duplicated_image_phash_pairs.persist_remove(hash_pair)\n",
    "                print('-Not')\n",
    "            if hash_pair in related_image_phash_pairs:\n",
    "                related_image_phash_pairs.persist_remove(hash_pair)\n",
    "                print('-Related')\n",
    "            if phash_x in invalid_image_phashes:\n",
    "                invalid_image_phashes.persist_remove(phash_x)\n",
    "                print('-Invalid X')\n",
    "            if phash_y in invalid_image_phashes:\n",
    "                invalid_image_phashes.persist_remove(phash_y)\n",
    "                print('-Invalid Y')\n",
    "            print('Reset')\n",
    "\n",
    "    yes_btn.on_click(on_yes)\n",
    "    no_btn.on_click(on_no)\n",
    "    related_btn.on_click(on_related)\n",
    "    invalid_x_btn.on_click(on_invalid_x)\n",
    "    invalid_y_btn.on_click(on_invalid_y)\n",
    "    reset_btn.on_click(on_reset)\n",
    "\n",
    "    if default == 'no':\n",
    "        on_no(None)\n",
    "\n",
    "    return HBox([VBox([yes_btn, no_btn, related_btn, invalid_x_btn, invalid_y_btn, reset_btn, output]),\n",
    "                 widgets.Image(value=open(image_x['file_path'], 'rb').read(), width=250, height=150),\n",
    "                 widgets.Image(value=open(image_y['file_path'], 'rb').read(), width=250, height=150)])"
   ]
  },
  {
   "cell_type": "code",
   "execution_count": 25,
   "metadata": {
    "Collapsed": "false"
   },
   "outputs": [],
   "source": [
    "def potential_duplicates (threshold):\n",
    "    for i in range(distance.shape[0]):\n",
    "        for j in range(i):\n",
    "            if distance[i, j] <= threshold:\n",
    "                phash_pair = frozenset([imageDedup[i]['phash'], imageDedup[j]['phash']])\n",
    "                if (phash_pair not in auto_duplicated_image_phash_pairs and\n",
    "                    phash_pair not in duplicated_post_image_phash_pairs and\n",
    "                    phash_pair not in duplicated_image_phash_pairs and\n",
    "                    phash_pair not in not_duplicated_image_phash_pairs and\n",
    "                    phash_pair not in related_album_image_phash_pairs and\n",
    "                    phash_pair not in related_image_phash_pairs):\n",
    "                    yield (i, j)"
   ]
  },
  {
   "cell_type": "code",
   "execution_count": 26,
   "metadata": {
    "Collapsed": "false"
   },
   "outputs": [],
   "source": [
    "distance_threshold = 13"
   ]
  },
  {
   "cell_type": "code",
   "execution_count": 27,
   "metadata": {
    "Collapsed": "false"
   },
   "outputs": [],
   "source": [
    "pdup = potential_duplicates(distance_threshold)"
   ]
  },
  {
   "cell_type": "code",
   "execution_count": 28,
   "metadata": {
    "Collapsed": "false"
   },
   "outputs": [
    {
     "name": "stdout",
     "output_type": "stream",
     "text": [
      "StopIteration\n"
     ]
    }
   ],
   "source": [
    "for i in range(10):\n",
    "    try:\n",
    "        next_pdup = next(pdup)\n",
    "    except StopIteration:\n",
    "        print('StopIteration')\n",
    "        break\n",
    "\n",
    "    idx_x, idx_y = next_pdup\n",
    "    image_x = imageDedup[idx_x]\n",
    "    image_y = imageDedup[idx_y]\n",
    "    print(f\"{idx_x} {idx_y} {distance[idx_x, idx_y]} {image_x['phash']} {image_y['phash']} {image_x['width']} {image_y['width']} {image_x['image_id']} {image_y['image_id']}\")\n",
    "    display(make_dedup_box(idx_x, idx_y, default=None if distance[idx_x, idx_y] < 9 else 'no'))"
   ]
  },
  {
   "cell_type": "markdown",
   "metadata": {
    "Collapsed": "false"
   },
   "source": [
    "## Images with high variability"
   ]
  },
  {
   "cell_type": "code",
   "execution_count": 29,
   "metadata": {
    "Collapsed": "false"
   },
   "outputs": [],
   "source": [
    "# interested_phashes = set()"
   ]
  },
  {
   "cell_type": "code",
   "execution_count": 30,
   "metadata": {
    "Collapsed": "false"
   },
   "outputs": [],
   "source": [
    "# def potential_duplicates_high (threshold):\n",
    "#     for i in range(distance.shape[0]):\n",
    "#         for j in range(i):\n",
    "#             if distance[i, j] >= threshold:\n",
    "#                 phash_pair = frozenset([imageDedup[i]['phash'], imageDedup[j]['phash']])\n",
    "#                 if (phash_pair in duplicated_image_phash_pairs):\n",
    "#                     interested_phashes.add(imageMetas[i]['phash'])\n",
    "#                     interested_phashes.add(imageMetas[j]['phash'])\n",
    "#                     yield (i, j)"
   ]
  },
  {
   "cell_type": "code",
   "execution_count": 31,
   "metadata": {
    "Collapsed": "false"
   },
   "outputs": [],
   "source": [
    "# pduph = potential_duplicates_high(10)"
   ]
  },
  {
   "cell_type": "code",
   "execution_count": 32,
   "metadata": {
    "Collapsed": "false"
   },
   "outputs": [],
   "source": [
    "# for i in range(100):\n",
    "#     try:\n",
    "#         next_pdup = next(pduph)\n",
    "#     except StopIteration:\n",
    "#         print('StopIteration')\n",
    "#         break\n",
    "\n",
    "#     idx_x, idx_y = next_pdup\n",
    "#     image_x = imageDedup[idx_x]\n",
    "#     image_y = imageDedup[idx_y]\n",
    "#     print(f\"{idx_x} {idx_y} {distance[idx_x, idx_y]} {image_x['phash']} {image_y['phash']} {image_x['width']} {image_y['width']} {image_x['image_id']} {image_y['image_id']}\")\n",
    "# #     display(make_dedup_box(idx_x, idx_y))"
   ]
  },
  {
   "cell_type": "code",
   "execution_count": 33,
   "metadata": {
    "Collapsed": "false"
   },
   "outputs": [],
   "source": [
    "# def potential_duplicates_interested (threshold):\n",
    "#     for i in range(distance.shape[0]):\n",
    "#         for j in range(i):\n",
    "#             if distance[i, j] <= threshold:\n",
    "#                 phash_pair = frozenset([imageDedup[i]['phash'], imageDedup[j]['phash']])\n",
    "#                 if (imageMetas[i]['phash'] in interested_phashes or\n",
    "#                     imageMetas[j]['phash'] in interested_phashes) and (\n",
    "#                     phash_pair not in auto_duplicated_image_phash_pairs and\n",
    "#                     phash_pair not in duplicated_post_image_phash_pairs and\n",
    "#                     phash_pair not in duplicated_image_phash_pairs and\n",
    "#                     phash_pair not in not_duplicated_image_phash_pairs and\n",
    "#                     phash_pair not in related_album_image_phash_pairs and\n",
    "#                     phash_pair not in related_image_phash_pairs):\n",
    "#                     yield (i, j)"
   ]
  },
  {
   "cell_type": "code",
   "execution_count": 34,
   "metadata": {
    "Collapsed": "false"
   },
   "outputs": [],
   "source": [
    "# pdupi = potential_duplicates_interested(18)"
   ]
  },
  {
   "cell_type": "code",
   "execution_count": 35,
   "metadata": {
    "Collapsed": "false"
   },
   "outputs": [],
   "source": [
    "# for i in range(10):\n",
    "#     try:\n",
    "#         next_pdup = next(pdupi)\n",
    "#     except StopIteration:\n",
    "#         print('StopIteration')\n",
    "#         break\n",
    "\n",
    "#     idx_x, idx_y = next_pdup\n",
    "#     image_x = imageDedup[idx_x]\n",
    "#     image_y = imageDedup[idx_y]\n",
    "#     print(f\"{idx_x} {idx_y} {distance[idx_x, idx_y]} {image_x['phash']} {image_y['phash']} {image_x['width']} {image_y['width']} {image_x['image_id']} {image_y['image_id']}\")\n",
    "#     display(make_dedup_box(idx_x, idx_y))"
   ]
  },
  {
   "cell_type": "code",
   "execution_count": 36,
   "metadata": {
    "Collapsed": "false"
   },
   "outputs": [],
   "source": [
    "# def potential_duplicates_related ():\n",
    "#     for i in range(distance.shape[0]):\n",
    "#         for j in range(i):\n",
    "#             if related_distance[i, j] == 0:\n",
    "#                 phash_pair = frozenset([imageDedup[i]['phash'], imageDedup[j]['phash']])\n",
    "#                 if (phash_pair not in related_album_image_phash_pairs):\n",
    "#                     yield (i, j)"
   ]
  },
  {
   "cell_type": "code",
   "execution_count": 37,
   "metadata": {
    "Collapsed": "false"
   },
   "outputs": [],
   "source": [
    "# pdupr = potential_duplicates_related()"
   ]
  },
  {
   "cell_type": "code",
   "execution_count": 38,
   "metadata": {
    "Collapsed": "false"
   },
   "outputs": [],
   "source": [
    "# for i in range(10):\n",
    "#     try:\n",
    "#         next_pdup = next(pdupr)\n",
    "#     except StopIteration:\n",
    "#         print('StopIteration')\n",
    "#         break\n",
    "\n",
    "#     idx_x, idx_y = next_pdup\n",
    "#     image_x = imageDedup[idx_x]\n",
    "#     image_y = imageDedup[idx_y]\n",
    "#     print(f\"{idx_x} {idx_y} {pdistance[idx_x, idx_y]} {distance[idx_x, idx_y]} {image_x['phash']} {image_y['phash']} {image_x['width']} {image_y['width']} {image_x['image_id']} {image_y['image_id']}\")\n",
    "#     display(make_dedup_box(idx_x, idx_y))"
   ]
  },
  {
   "cell_type": "markdown",
   "metadata": {
    "Collapsed": "false"
   },
   "source": [
    "# Consolidate"
   ]
  },
  {
   "cell_type": "markdown",
   "metadata": {
    "Collapsed": "false"
   },
   "source": [
    "## Related images"
   ]
  },
  {
   "cell_type": "code",
   "execution_count": 39,
   "metadata": {
    "Collapsed": "false"
   },
   "outputs": [
    {
     "data": {
      "text/plain": [
       "124"
      ]
     },
     "execution_count": 39,
     "metadata": {},
     "output_type": "execute_result"
    }
   ],
   "source": [
    "related_images = [[imageDedup[idx]['image_id'] for idx in c]\n",
    "                     for c in nx.components.connected_components(nx.Graph(related_distance <= 1))\n",
    "                     if len(c) > 1]\n",
    "len(related_images)"
   ]
  },
  {
   "cell_type": "code",
   "execution_count": 40,
   "metadata": {
    "Collapsed": "false"
   },
   "outputs": [],
   "source": [
    "for ids in related_images:\n",
    "    for i in ids:\n",
    "        imageMeta = imageDedup[image_id_to_idx(i)]\n",
    "        ri = [r for r in set(imageMeta.get('related_images', []) + ids) if r != i]\n",
    "        imagededup.update_one({'image_id': i}, {'$set': {'related_images': ri}})"
   ]
  },
  {
   "cell_type": "markdown",
   "metadata": {
    "Collapsed": "false"
   },
   "source": [
    "## Duplicated images"
   ]
  },
  {
   "cell_type": "code",
   "execution_count": 41,
   "metadata": {
    "Collapsed": "false"
   },
   "outputs": [],
   "source": [
    "excluding_image_phashes = PersistentSet.load_set(handmade_dir/'excluding_image_phashes.json')"
   ]
  },
  {
   "cell_type": "code",
   "execution_count": 42,
   "metadata": {
    "Collapsed": "false"
   },
   "outputs": [],
   "source": [
    "excluding_image_phashes.persist_add('c13e3ae10e70fd86')\n",
    "excluding_image_phashes.persist_add('fe81837a94e3807e')\n",
    "excluding_image_phashes.persist_add('af9da24292fae149')\n",
    "excluding_image_phashes.persist_add('ad87d2696738ca4c')\n",
    "excluding_image_phashes.persist_add('d25264dfa9659392')"
   ]
  },
  {
   "cell_type": "code",
   "execution_count": 43,
   "metadata": {
    "Collapsed": "false"
   },
   "outputs": [],
   "source": [
    "class ImageDedup ():\n",
    "    _attrs = [\n",
    "        'id',\n",
    "        'post_id',\n",
    "        'datetime',\n",
    "        'url',\n",
    "        'title',\n",
    "        'content',\n",
    "        'author',\n",
    "        'removed',\n",
    "        'ups',\n",
    "        'num_comments',\n",
    "        'external_link',\n",
    "        'source',\n",
    "        'source_platform',\n",
    "        'source_url',\n",
    "        'tags',\n",
    "        'labels',\n",
    "        'media_type',\n",
    "        'thumbnail_url',\n",
    "        'preview_url',\n",
    "        'external_link_url',\n",
    "        'archive_url',\n",
    "\n",
    "        'thumbnail',\n",
    "        'preview',\n",
    "        'external_link',\n",
    "        'archive',\n",
    "        'manual',\n",
    "\n",
    "        'image_id',\n",
    "        'short_image_id',\n",
    "        'album',\n",
    "        'index_in_album',\n",
    "        'image_type',\n",
    "        'file_path',\n",
    "        'ext',\n",
    "        'animated',\n",
    "        'size',\n",
    "        'width',\n",
    "        'height',\n",
    "        'pixels',\n",
    "        'image_order',\n",
    "        'ahash',\n",
    "        'phash',\n",
    "        'pshash',\n",
    "        'dhash',\n",
    "        'whash',\n",
    "\n",
    "        'duplicated_posts',\n",
    "        'related_images',\n",
    "        'duplicated_images',\n",
    "        'popularity_score'\n",
    "    ]\n",
    "\n",
    "    def __init__ (self, imageMetas=[]):\n",
    "        if len(imageMetas) == 0:\n",
    "            raise Exception('Empty imageFiles array.')\n",
    "\n",
    "        self._imageMetas = imageMetas\n",
    "        self._image_ids = [i['image_id'] for i in imageMetas]\n",
    "        self._image_order = sort_images(self._imageMetas)\n",
    "\n",
    "        self._post_ids = {i['post_id'] for i in imageMetas}\n",
    "        self._posts = [posts.find_one({'post_id': i}) for i in self._post_ids]\n",
    "        self._posts += [posts.find_one({'post_id': i}) for p in self._posts for i in p['duplicated_posts'] if 'duplicated_posts' in p]\n",
    "        if None in self._posts:\n",
    "            print(self._post_ids)\n",
    "        self._post_order = sort_posts(self._posts)\n",
    "\n",
    "        for k, v in self.main_image.items():\n",
    "            if k in ['duplicated_posts', 'related_images']:\n",
    "                continue\n",
    "            setattr(self, k, v)\n",
    "\n",
    "        for k, v in self.main_post.items():\n",
    "            if k in ['duplicated_posts', 'related_images']:\n",
    "                continue\n",
    "            if k in ['preview', 'thumbnail', 'external_link', 'archive', 'manual']:\n",
    "                setattr(self, f\"{k}_url\", v)\n",
    "            else:\n",
    "                setattr(self, k, v)\n",
    "\n",
    "    def digest (self):\n",
    "        return {a:getattr(self, a) for a in ImageDedup._attrs if hasattr(self, a)}\n",
    "\n",
    "    @property\n",
    "    def duplicated_posts (self):\n",
    "        post_ids = self._post_ids.union(*[set(p.get('duplicated_posts', [])) for p in self._posts])\n",
    "        return [i for i in post_ids if i != self.post_id]\n",
    "\n",
    "    @property\n",
    "    def duplicated_images (self):\n",
    "        return [i for i in self._image_ids if i != self.image_id]\n",
    "\n",
    "    @property\n",
    "    def related_images (self):\n",
    "        return [ri for i in self._imageMetas for ri in i.get('related_images', []) if ri != self.image_id]\n",
    "\n",
    "    @property\n",
    "    def main_post (self):\n",
    "#         if len(self._post_order) > 1 and self._post_order[0]['source_platform'] != 'reddit':\n",
    "#             print(f\"main post warning: {[p['post_id'] for p in self._post_order]}\")\n",
    "        return self._post_order[0]\n",
    "\n",
    "    @property\n",
    "    def popularity_score (self):\n",
    "        return sum([post_score(p) for p in self._posts if p['source'] == 'dataisugly'])\n",
    "\n",
    "    @property\n",
    "    def main_image (self):\n",
    "#         if len(self._image_order) > 1 and self._image_order[0]['source_platform'] != 'reddit':\n",
    "#             print(f\"main image warning: {[i['image_id'] for i in self._image_order]}\")\n",
    "        return [i for i in self._image_order if i['phash'] not in excluding_image_phashes][0]"
   ]
  },
  {
   "cell_type": "code",
   "execution_count": 44,
   "metadata": {
    "Collapsed": "false"
   },
   "outputs": [],
   "source": [
    "duplicated_images = [[imageDedup[idx]['image_id'] for idx in c]\n",
    "                     for c in nx.components.connected_components(nx.Graph(distance <= 1))]"
   ]
  },
  {
   "cell_type": "code",
   "execution_count": 45,
   "metadata": {
    "Collapsed": "false"
   },
   "outputs": [],
   "source": [
    "# imageDedup[image_id_to_idx('reddit/AusFinance/fman6b_0')]"
   ]
  },
  {
   "cell_type": "code",
   "execution_count": 46,
   "metadata": {
    "Collapsed": "false"
   },
   "outputs": [],
   "source": [
    "def dedup_image (ids):\n",
    "    imagedd = ImageDedup([imageDedup[image_id_to_idx(i)] for i in ids])\n",
    "    if imagedd.main_post['source'] != 'dataisugly':\n",
    "        print(f\"Image not from dataisugly: {imagedd.main_post['post_id']}\")\n",
    "    for i in imagedd.duplicated_images:\n",
    "        imagededup.delete_one({'image_id': i})\n",
    "    imagededup.replace_one({'image_id': imagedd.image_id}, imagedd.digest(), upsert=True)\n",
    "    return imagedd"
   ]
  },
  {
   "cell_type": "code",
   "execution_count": 47,
   "metadata": {
    "Collapsed": "false"
   },
   "outputs": [
    {
     "data": {
      "application/vnd.jupyter.widget-view+json": {
       "model_id": "caf516a5bff54bc483eccdbab043038a",
       "version_major": 2,
       "version_minor": 0
      },
      "text/plain": [
       "HBox(children=(FloatProgress(value=0.0, max=5837.0), HTML(value='')))"
      ]
     },
     "metadata": {},
     "output_type": "display_data"
    },
    {
     "name": "stdout",
     "output_type": "stream",
     "text": [
      "\n"
     ]
    }
   ],
   "source": [
    "imagedds = parallel(dedup_image, duplicated_images, n_jobs=1)"
   ]
  },
  {
   "cell_type": "code",
   "execution_count": 48,
   "metadata": {
    "Collapsed": "false"
   },
   "outputs": [],
   "source": [
    "duplicated_image_ids = [c\n",
    "                     for c in nx.components.connected_components(nx.Graph(distance <= 1))\n",
    "                     if len(c) > 1]\n",
    "start = 0"
   ]
  },
  {
   "cell_type": "code",
   "execution_count": 49,
   "metadata": {
    "Collapsed": "false"
   },
   "outputs": [
    {
     "name": "stdout",
     "output_type": "stream",
     "text": [
      "reddit/CrappyDesign/8iz1cg_0 reddit/dataisugly/b867yj_0 reddit/dataisugly/8j0lpa_0 reddit/CrappyDesign/b8002y_0\n",
      "f5550a8a8e0f2f2d f5550a8a8e0f2f2d f5550a8a8e0f2f2d f5550a8a8e0f2f2d\n"
     ]
    },
    {
     "data": {
      "application/vnd.jupyter.widget-view+json": {
       "model_id": "61a6daa00112424aad49788b8dfbf147",
       "version_major": 2,
       "version_minor": 0
      },
      "text/plain": [
       "HBox(children=(Image(value=b'\\xff\\xd8\\xff\\xe0\\x00\\x10JFIF\\x00\\x01\\x01\\x00\\x00\\x01\\x00\\x01\\x00\\x00\\xff\\xed\\x00|…"
      ]
     },
     "metadata": {},
     "output_type": "display_data"
    },
    {
     "name": "stdout",
     "output_type": "stream",
     "text": [
      "reddit/CrappyDesign/97tsiq_0 reddit/dataisugly/980lxn_0 reddit/dataisugly/1kya1t_0 reddit/dataisugly/dc47v7_0 reddit/dataisugly/6qtgag_0\n",
      "e83f85655e9661c8 e83f85655e9661c8 e81f852d5e93618e ea97856e1e216987 e81f852d5e93618e\n"
     ]
    },
    {
     "data": {
      "application/vnd.jupyter.widget-view+json": {
       "model_id": "150b4fce520e437a83c1854527313221",
       "version_major": 2,
       "version_minor": 0
      },
      "text/plain": [
       "HBox(children=(Image(value=b'\\xff\\xd8\\xff\\xe0\\x00\\x10JFIF\\x00\\x01\\x01\\x00\\x00\\x01\\x00\\x01\\x00\\x00\\xff\\xdb\\x00C…"
      ]
     },
     "metadata": {},
     "output_type": "display_data"
    },
    {
     "name": "stdout",
     "output_type": "stream",
     "text": [
      "reddit/CrappyDesign/99wbgi_0 reddit/dataisugly/99xhcl_0 reddit/dataisugly/871gch_0 reddit/dataisugly/8607ml_0\n",
      "8778f06f3f016691 8778f06f3f016691 8778f06f3f416491 8778f06f3f016495\n"
     ]
    },
    {
     "data": {
      "application/vnd.jupyter.widget-view+json": {
       "model_id": "b5fc5ace34c941bab29ee4ed60c090ad",
       "version_major": 2,
       "version_minor": 0
      },
      "text/plain": [
       "HBox(children=(Image(value=b'\\xff\\xd8\\xff\\xe0\\x00\\x10JFIF\\x00\\x01\\x01\\x00\\x00\\x01\\x00\\x01\\x00\\x00\\xff\\xed\\x00\\…"
      ]
     },
     "metadata": {},
     "output_type": "display_data"
    },
    {
     "name": "stdout",
     "output_type": "stream",
     "text": [
      "reddit/dataisugly/75ai2y_0 reddit/CrappyDesign/dleakx_0 reddit/dataisugly/75aiuv_0 reddit/CrappyDesign/9ed335_0 reddit/dataisugly/dlhzfz_0 reddit/dataisugly/dllhdy_0 reddit/dataisugly/2kacwz_0 reddit/dataisugly/9ed9wo_0\n",
      "ef8099adc231b94e ef8099adc231b94e ef8099adc231b94e ef909d8dc231394e ef8099adc231b94e ef8099adc231b94e efd0990dc231b94e ef909d8dc231394e\n"
     ]
    },
    {
     "data": {
      "application/vnd.jupyter.widget-view+json": {
       "model_id": "b12abd65ed0d4b37a117573723622c94",
       "version_major": 2,
       "version_minor": 0
      },
      "text/plain": [
       "HBox(children=(Image(value=b'\\xff\\xd8\\xff\\xe1\\x00\\x18Exif\\x00\\x00II*\\x00\\x08\\x00\\x00\\x00\\x00\\x00\\x00\\x00\\x00\\x…"
      ]
     },
     "metadata": {},
     "output_type": "display_data"
    },
    {
     "name": "stdout",
     "output_type": "stream",
     "text": [
      "reddit/dataisugly/9upbl2_0 reddit/dataisugly/3r9t40_0 reddit/dataisugly/5ndt05_0 reddit/dataisugly/2h8nlb_0 reddit/CrappyDesign/9ujpoy_0\n",
      "b5f84cb371c48693 b5f80cd313d58633 b5f80cd313d58633 b5f80cd313d58633 b5f84cb371c48693\n"
     ]
    },
    {
     "data": {
      "application/vnd.jupyter.widget-view+json": {
       "model_id": "1da56520c4844de7a3863ddaf064d7bb",
       "version_major": 2,
       "version_minor": 0
      },
      "text/plain": [
       "HBox(children=(Image(value=b'\\xff\\xd8\\xff\\xe0\\x00\\x10JFIF\\x00\\x01\\x01\\x00\\x00\\x01\\x00\\x01\\x00\\x00\\xff\\xdb\\x00C…"
      ]
     },
     "metadata": {},
     "output_type": "display_data"
    },
    {
     "name": "stdout",
     "output_type": "stream",
     "text": [
      "reddit/assholedesign/b9xt5m_0 reddit/dataisugly/b9uy2q_0 reddit/dataisugly/ba3jv8_0 reddit/CrappyDesign/b9saar_0\n",
      "a080e7a69cb6da7a a080e7a69cb6da7a a080e7a69cb6da7a a080e7a69cb6da7a\n"
     ]
    },
    {
     "data": {
      "application/vnd.jupyter.widget-view+json": {
       "model_id": "393a0389ee864e6595c8dee68d0df103",
       "version_major": 2,
       "version_minor": 0
      },
      "text/plain": [
       "HBox(children=(Image(value=b'\\xff\\xd8\\xff\\xe0\\x00\\x10JFIF\\x00\\x01\\x01\\x00\\x00\\x01\\x00\\x01\\x00\\x00\\xff\\xdb\\x00C…"
      ]
     },
     "metadata": {},
     "output_type": "display_data"
    },
    {
     "name": "stdout",
     "output_type": "stream",
     "text": [
      "reddit/dataisugly/5yzkfb_0 reddit/dataisugly/5a0wp5_0 reddit/dataisugly/bekc25_0 reddit/dataisugly/berk0m_0 reddit/dataisugly/cvwzge_0 reddit/dataisugly/dly75r_0 reddit/dataisugly/bg8cav_0 reddit/CrappyDesign/bg5d2w_0 reddit/dataisugly/5yr56m_0\n",
      "c1cf027147e6e1e9 c1cf027147e6e1e9 c1cf027147e6e1e9 c1cf027147e6e1e9 c1cf027147e6e1e9 c13e3ae10e70fd86 fe81837a94e3807e fe81837a94e3807e c1cf027147e6e1e9\n"
     ]
    },
    {
     "data": {
      "application/vnd.jupyter.widget-view+json": {
       "model_id": "989e6674e8cb4a7ea725b5a21ce876e1",
       "version_major": 2,
       "version_minor": 0
      },
      "text/plain": [
       "HBox(children=(Image(value=b'\\xff\\xd8\\xff\\xe0\\x00\\x10JFIF\\x00\\x01\\x01\\x00\\x00H\\x00H\\x00\\x00\\xff\\xdb\\x00C\\x00\\x…"
      ]
     },
     "metadata": {},
     "output_type": "display_data"
    },
    {
     "name": "stdout",
     "output_type": "stream",
     "text": [
      "reddit/dankmemes/gfc4b5_0 reddit/CrappyDesign/eqhtos_0 reddit/dataisugly/bmz8vg_0 reddit/dataisugly/gfgvq7_0 reddit/dataisugly/bo2suq_0 reddit/dataisugly/eqmum5_0 reddit/dataisugly/gy7r0c_0\n",
      "af9da24292fae149 ad92d2696518cacf ad92d2696518cacf af9da24292fae149 ad92d2696598cacd ad92d2696518cacf ad87d2696738ca4c\n"
     ]
    },
    {
     "data": {
      "application/vnd.jupyter.widget-view+json": {
       "model_id": "5365d2ad957a491193dc84043df3a49f",
       "version_major": 2,
       "version_minor": 0
      },
      "text/plain": [
       "HBox(children=(Image(value=b'\\xff\\xd8\\xff\\xe0\\x00\\x10JFIF\\x00\\x01\\x01\\x00\\x00\\x01\\x00\\x01\\x00\\x00\\xff\\xdb\\x00C…"
      ]
     },
     "metadata": {},
     "output_type": "display_data"
    },
    {
     "name": "stdout",
     "output_type": "stream",
     "text": [
      "reddit/dankmemes/d089ro_0 reddit/CrappyDesign/eqk87f_0 reddit/dataisugly/d0heqn_0 reddit/dataisugly/66xre9_0 reddit/dataisugly/4xrk13_0 reddit/dataisugly/eqrvfs_0 reddit/dataisugly/5gnp5m_0 reddit/dataisugly/5gnpf2_0 reddit/dataisugly/51xyst_0\n",
      "d25264dfa9659392 d445eb81b6aed12a d25264dfa9659392 d047e990be83f12b d1c66d8132b783b5 d445eb81b6aed12a d1c66d8132b783b5 d1c66d8132b783b5 d1c66d8132b783b5\n"
     ]
    },
    {
     "data": {
      "application/vnd.jupyter.widget-view+json": {
       "model_id": "1bdeb7bdbb2a4e938f659ba6c19d9b1c",
       "version_major": 2,
       "version_minor": 0
      },
      "text/plain": [
       "HBox(children=(Image(value=b'\\xff\\xd8\\xff\\xe0\\x00\\x10JFIF\\x00\\x01\\x01\\x00\\x00\\x01\\x00\\x01\\x00\\x00\\xff\\xdb\\x00C…"
      ]
     },
     "metadata": {},
     "output_type": "display_data"
    },
    {
     "name": "stdout",
     "output_type": "stream",
     "text": [
      "reddit/dataisugly/gyb8rm_0 reddit/dataisugly/3qcgue_0 reddit/dataisugly/hbcu3j_0 reddit/CrappyDesign/gy7g6n_0\n",
      "96e6c9183363769c 96e6c918366366bc 96e6c9183363769c 96e6c9183363769c\n"
     ]
    },
    {
     "data": {
      "application/vnd.jupyter.widget-view+json": {
       "model_id": "7c39fa85f4204c4d9f7e29343a16545d",
       "version_major": 2,
       "version_minor": 0
      },
      "text/plain": [
       "HBox(children=(Image(value=b'\\xff\\xd8\\xff\\xe0\\x00\\x10JFIF\\x00\\x01\\x01\\x00\\x00\\x01\\x00\\x01\\x00\\x00\\xff\\xe2\\x02\\…"
      ]
     },
     "metadata": {},
     "output_type": "display_data"
    },
    {
     "name": "stdout",
     "output_type": "stream",
     "text": [
      "reddit/dataisugly/8q2azf_0 reddit/dataisugly/8q3fz3_0 reddit/Design/8q1zia_0 reddit/dataisugly/1f81fn_0\n",
      "b739793bc822c6e0 b739793bc822c6e0 b739793bc822c6e0 b73878ecc0c7c6c1\n"
     ]
    },
    {
     "data": {
      "application/vnd.jupyter.widget-view+json": {
       "model_id": "924a495d71bb42baabe9194b9af67bea",
       "version_major": 2,
       "version_minor": 0
      },
      "text/plain": [
       "HBox(children=(Image(value=b'\\x89PNG\\r\\n\\x1a\\n\\x00\\x00\\x00\\rIHDR\\x00\\x00\\x04\\xfc\\x00\\x00\\x03v\\x08\\x03\\x00\\x00\\…"
      ]
     },
     "metadata": {},
     "output_type": "display_data"
    },
    {
     "name": "stdout",
     "output_type": "stream",
     "text": [
      "reddit/GlobalOffensive/9ghuza_0 reddit/dataisugly/at6w65_0 reddit/dataisugly/at72ik_0 reddit/dataisugly/9gj4n6_0\n",
      "b090cd6fb7613994 b090cd6fb7613994 b090cd6fb7613994 b090cd6fb7613994\n"
     ]
    },
    {
     "data": {
      "application/vnd.jupyter.widget-view+json": {
       "model_id": "44e65d97594b47b9a990c01295ef1ef3",
       "version_major": 2,
       "version_minor": 0
      },
      "text/plain": [
       "HBox(children=(Image(value=b'\\x89PNG\\r\\n\\x1a\\n\\x00\\x00\\x00\\rIHDR\\x00\\x00\\x042\\x00\\x00\\x03\\x0c\\x08\\x06\\x00\\x00\\…"
      ]
     },
     "metadata": {},
     "output_type": "display_data"
    },
    {
     "name": "stdout",
     "output_type": "stream",
     "text": [
      "reddit/dataisugly/29cfmb_0 reddit/dataisugly/524xb5_0 reddit/MapPorn/de7j6z_0 reddit/dataisugly/deek3l_0\n",
      "fca69c1cde42d2a4 fc269c0cd6cec2f0 fc269c1cdccec2b0 fc269c1cdccec2b0\n"
     ]
    },
    {
     "data": {
      "application/vnd.jupyter.widget-view+json": {
       "model_id": "97f46de8193845e8be91e4e5cd24c895",
       "version_major": 2,
       "version_minor": 0
      },
      "text/plain": [
       "HBox(children=(Image(value=b'\\x89PNG\\r\\n\\x1a\\n\\x00\\x00\\x00\\rIHDR\\x00\\x00\\n\\x9d\\x00\\x00\\t&\\x08\\x03\\x00\\x00\\x00\\…"
      ]
     },
     "metadata": {},
     "output_type": "display_data"
    },
    {
     "name": "stdout",
     "output_type": "stream",
     "text": [
      "reddit/Moronavirus/gmnpbd_0 reddit/dataisugly/gn4jdp_0 reddit/dataisugly/ghqau7_0 reddit/dataisugly/gtxzok_0\n",
      "d03fc0e83fc82dc5 d03fc0e83fc82dc5 d03f85e03fc06e95 d03fc1c03fc07b95\n"
     ]
    },
    {
     "data": {
      "application/vnd.jupyter.widget-view+json": {
       "model_id": "84d07e9d6b994536b1a5318a445b4ce6",
       "version_major": 2,
       "version_minor": 0
      },
      "text/plain": [
       "HBox(children=(Image(value=b'\\x89PNG\\r\\n\\x1a\\n\\x00\\x00\\x00\\rIHDR\\x00\\x00\\x06\\x05\\x00\\x00\\x03\\x8b\\x08\\x06\\x00\\x…"
      ]
     },
     "metadata": {},
     "output_type": "display_data"
    },
    {
     "name": "stdout",
     "output_type": "stream",
     "text": [
      "reddit/dataisugly/aeb70n_0 reddit/dataisugly/232rn0_0 reddit/dataisugly/1yb04c_0 reddit/dataisugly/5y493h_0 reddit/dataisugly/e2cvur_0 reddit/dataisugly/609x3l_0 reddit/assholedesign/ae8lq9_0 reddit/dataisugly/gu1unc_0\n",
      "af3a818d30b34f78 af3a818d30b34f78 af3a818d30b34f78 af3a818d30b34f78 af3a858d38b10f78 af3a818d30b34f78 af3a818d30b34f78 fa6a85951876b658\n"
     ]
    },
    {
     "data": {
      "application/vnd.jupyter.widget-view+json": {
       "model_id": "77be9d8e5ba6493093fe0a53ddb1a5d3",
       "version_major": 2,
       "version_minor": 0
      },
      "text/plain": [
       "HBox(children=(Image(value=b'\\xff\\xd8\\xff\\xe0\\x00\\x10JFIF\\x00\\x01\\x01\\x01\\x00\\x96\\x00\\x96\\x00\\x00\\xff\\xdb\\x00C…"
      ]
     },
     "metadata": {},
     "output_type": "display_data"
    },
    {
     "name": "stdout",
     "output_type": "stream",
     "text": [
      "reddit/dataisugly/6suhe6_0 reddit/assholedesign/cm8kuj_0 reddit/dataisugly/6t4c96_0 reddit/dataisugly/cmi4ei_0\n",
      "e6b4994999666695 e6b4994999666695 e6b4994999666695 e6b4994999666695\n"
     ]
    },
    {
     "data": {
      "application/vnd.jupyter.widget-view+json": {
       "model_id": "407529f23f76401e9de5d271aa17d4d0",
       "version_major": 2,
       "version_minor": 0
      },
      "text/plain": [
       "HBox(children=(Image(value=b'\\x89PNG\\r\\n\\x1a\\n\\x00\\x00\\x00\\rIHDR\\x00\\x00\\x01\\xe0\\x00\\x00\\x01!\\x08\\x02\\x00\\x00\\…"
      ]
     },
     "metadata": {},
     "output_type": "display_data"
    },
    {
     "name": "stdout",
     "output_type": "stream",
     "text": [
      "reddit/dataisugly/68scgb_5 reddit/dataisugly/23e5jb_0 reddit/assholedesign/d5t82w_0 reddit/dataisugly/d61iae_0\n",
      "9aaa64c75bb84674 9a6264c79992f63c 9aaa64c55b98c67c 9aaa64c55b98c67c\n"
     ]
    },
    {
     "data": {
      "application/vnd.jupyter.widget-view+json": {
       "model_id": "218ab251ce724453817d72d49075de76",
       "version_major": 2,
       "version_minor": 0
      },
      "text/plain": [
       "HBox(children=(Image(value=b'\\xff\\xd8\\xff\\xe0\\x00\\x10JFIF\\x00\\x01\\x01\\x01\\x00`\\x00`\\x00\\x00\\xff\\xdb\\x00C\\x00\\x…"
      ]
     },
     "metadata": {},
     "output_type": "display_data"
    },
    {
     "name": "stdout",
     "output_type": "stream",
     "text": [
      "reddit/dataisugly/c7ttba_0 reddit/dataisugly/ai5imk_0 reddit/funny/c7pwpq_0 reddit/dankmemes/ai4ggf_0\n",
      "c040e2aa7b5b1f97 c040e2aa7b5b1f97 c040e2aa7b5b1f97 c040e2aa7b5b1f97\n"
     ]
    },
    {
     "data": {
      "application/vnd.jupyter.widget-view+json": {
       "model_id": "580cde571a1f4d3e98e63ccb7ac468b1",
       "version_major": 2,
       "version_minor": 0
      },
      "text/plain": [
       "HBox(children=(Image(value=b'\\xff\\xd8\\xff\\xe0\\x00\\x10JFIF\\x00\\x01\\x01\\x00\\x00\\x01\\x00\\x01\\x00\\x00\\xff\\xdb\\x00C…"
      ]
     },
     "metadata": {},
     "output_type": "display_data"
    },
    {
     "name": "stdout",
     "output_type": "stream",
     "text": [
      "reddit/dataisugly/7pw4qy_0 reddit/dataisbeautiful/7pop2q_0 reddit/dataisugly/7pqi0j_0 reddit/dataisugly/7prteq_0\n",
      "a6c6d9d9d991cc30 a6c6d9d9d991cc30 a6c6d9d9d991cc30 a6c6d9d9d991cc30\n"
     ]
    },
    {
     "data": {
      "application/vnd.jupyter.widget-view+json": {
       "model_id": "9b5347feed7940bdbe51cf99ad59dc84",
       "version_major": 2,
       "version_minor": 0
      },
      "text/plain": [
       "HBox(children=(Image(value=b'GIF89a\\x07\\x03$\\x01\\xf7\\x00\\x00\\x01\\x01\\x01\\x08\\x08\\x08>==z?\\x19z>\\x17y9\\x10c(\\':…"
      ]
     },
     "metadata": {},
     "output_type": "display_data"
    },
    {
     "name": "stdout",
     "output_type": "stream",
     "text": [
      "reddit/dataisbeautiful/87q8pn_0 reddit/dataisugly/87rjas_0 reddit/dataisugly/87rtu5_0 reddit/dataisugly/87thcd_0\n",
      "aec4f1d9e333c032 aec4f1d9e333c032 aec4f1d9e333c032 aec4f1d9e333c032\n"
     ]
    },
    {
     "data": {
      "application/vnd.jupyter.widget-view+json": {
       "model_id": "7196953d86a0465385726640218feb68",
       "version_major": 2,
       "version_minor": 0
      },
      "text/plain": [
       "HBox(children=(Image(value=b'\\x89PNG\\r\\n\\x1a\\n\\x00\\x00\\x00\\rIHDR\\x00\\x00\\x07^\\x00\\x00\\x04\\xb6\\x08\\x02\\x00\\x00\\…"
      ]
     },
     "metadata": {},
     "output_type": "display_data"
    },
    {
     "name": "stdout",
     "output_type": "stream",
     "text": [
      "reddit/dataisugly/czpdip_0 reddit/dataisbeautiful/czmwxs_0 reddit/dataisugly/czp1vh_0 reddit/dataisugly/czp55c_0\n",
      "bf3e40611e6a751a bf3e40611e6a751a bf3e40611e6a751a bf3e40611e6a751a\n"
     ]
    },
    {
     "data": {
      "application/vnd.jupyter.widget-view+json": {
       "model_id": "8715dcfdc2de4fb88b75f08a7adfb320",
       "version_major": 2,
       "version_minor": 0
      },
      "text/plain": [
       "HBox(children=(Image(value=b'\\x89PNG\\r\\n\\x1a\\n\\x00\\x00\\x00\\rIHDR\\x00\\x00\\x15\\x18\\x00\\x00\\x0c\\xe4\\x08\\x02\\x00\\x…"
      ]
     },
     "metadata": {},
     "output_type": "display_data"
    },
    {
     "name": "stdout",
     "output_type": "stream",
     "text": [
      "reddit/dataisugly/bt1e3u_0 reddit/dataisugly/ej0y7z_0 reddit/dataisugly/b3stha_0 reddit/dataisugly/d32jqb_0 reddit/theydidthemonstermath/b3ryi5_0 reddit/dataisugly/1ohbqx_0\n",
      "ea7e95695a3e2828 ea7e94695a3e3828 ea7e94695a3e3828 ea7e94695a3e3828 ea7e94695a3e3828 ea7e94695a3e3828\n"
     ]
    },
    {
     "data": {
      "application/vnd.jupyter.widget-view+json": {
       "model_id": "07c04c454e6349f48bda74a35eebb248",
       "version_major": 2,
       "version_minor": 0
      },
      "text/plain": [
       "HBox(children=(Image(value=b'\\x89PNG\\r\\n\\x1a\\n\\x00\\x00\\x00\\rIHDR\\x00\\x00\\x02\\xd8\\x00\\x00\\x03\\xce\\x08\\x06\\x00\\x…"
      ]
     },
     "metadata": {},
     "output_type": "display_data"
    },
    {
     "name": "stdout",
     "output_type": "stream",
     "text": [
      "reddit/dataisugly/31cug4_0 reddit/dataisugly/ce0ocy_0 reddit/dataisugly/eowxaa_0 reddit/dataisugly/cciyu1_0 reddit/dataisugly/cdcwru_0\n",
      "b163cb988ece6943 b163cb988e8e6d43 ead685999b447b60 fb65953b889dd108 b163cb988e8e6d43\n"
     ]
    },
    {
     "data": {
      "application/vnd.jupyter.widget-view+json": {
       "model_id": "d934c75a6d6e462f98a89a5fbd58d986",
       "version_major": 2,
       "version_minor": 0
      },
      "text/plain": [
       "HBox(children=(Image(value=b'\\x89PNG\\r\\n\\x1a\\n\\x00\\x00\\x00\\rIHDR\\x00\\x00\\x06@\\x00\\x00\\x04\\xa2\\x08\\x03\\x00\\x00\\…"
      ]
     },
     "metadata": {},
     "output_type": "display_data"
    },
    {
     "name": "stdout",
     "output_type": "stream",
     "text": [
      "reddit/dataisugly/8vm5cw_0 reddit/dataisugly/356rfo_0 reddit/dataisugly/34u5o9_0 reddit/dataisugly/5ipia2_0\n",
      "ad9c96e344e649a3 af9695e140e611b7 af9695e140e611b7 af949141e636b533\n"
     ]
    },
    {
     "data": {
      "application/vnd.jupyter.widget-view+json": {
       "model_id": "2b08e542888e47279102d86e3ad8f893",
       "version_major": 2,
       "version_minor": 0
      },
      "text/plain": [
       "HBox(children=(Image(value=b'\\xff\\xd8\\xff\\xdb\\x00\\x84\\x00\\x03\\x02\\x02\\x03\\x02\\x02\\x03\\x03\\x03\\x03\\x04\\x03\\x03\\…"
      ]
     },
     "metadata": {},
     "output_type": "display_data"
    },
    {
     "name": "stdout",
     "output_type": "stream",
     "text": [
      "reddit/dataisugly/g5l0xq_0 reddit/dataisugly/3jm4wp_0 reddit/dataisugly/68j7se_0 reddit/dataisugly/41g8dg_0\n",
      "ab3cb5f1c0a4c3b2 ab3cb5f1c0a4c3b2 ab3cb5f1c0a4c3b2 ab3cb5f1c0a4c3b2\n"
     ]
    },
    {
     "data": {
      "application/vnd.jupyter.widget-view+json": {
       "model_id": "8051498ef11048eaadd901cbfac6686a",
       "version_major": 2,
       "version_minor": 0
      },
      "text/plain": [
       "HBox(children=(Image(value=b'\\x89PNG\\r\\n\\x1a\\n\\x00\\x00\\x00\\rIHDR\\x00\\x00\\x03\\x11\\x00\\x00\\x03\\x11\\x08\\x06\\x00\\x…"
      ]
     },
     "metadata": {},
     "output_type": "display_data"
    },
    {
     "name": "stdout",
     "output_type": "stream",
     "text": [
      "reddit/dataisugly/4c1k06_0 reddit/dataisugly/3zowal_0 reddit/dataisugly/3rie9d_0 reddit/dataisugly/5nu6zd_0 reddit/dataisugly/4cymab_0\n",
      "cea1715eb07cd609 8ea1715ea07cd61b 8ea1715ea07cd61b cea1715eb07cd609 cea1715eb07cd609\n"
     ]
    },
    {
     "data": {
      "application/vnd.jupyter.widget-view+json": {
       "model_id": "d8b63cfafee048eda7f89aed28785d1a",
       "version_major": 2,
       "version_minor": 0
      },
      "text/plain": [
       "HBox(children=(Image(value=b'\\xff\\xd8\\xff\\xdb\\x00C\\x00\\x02\\x01\\x01\\x02\\x01\\x01\\x02\\x02\\x02\\x02\\x02\\x02\\x02\\x02…"
      ]
     },
     "metadata": {},
     "output_type": "display_data"
    },
    {
     "name": "stdout",
     "output_type": "stream",
     "text": [
      "reddit/dataisugly/4n1l84_0 reddit/dataisugly/amgkhf_0 reddit/dataisugly/67k7av_0 reddit/dataisugly/3yjvhn_0\n",
      "af66d43dc03dc02d af66d439c13dc02d af66d43dc03dc02d af66d43dc03dc02d\n"
     ]
    },
    {
     "data": {
      "application/vnd.jupyter.widget-view+json": {
       "model_id": "1c9577dffd5140448871ac17d7e3292c",
       "version_major": 2,
       "version_minor": 0
      },
      "text/plain": [
       "HBox(children=(Image(value=b'\\x89PNG\\r\\n\\x1a\\n\\x00\\x00\\x00\\rIHDR\\x00\\x00\\x05\\x00\\x00\\x00\\x03\\x8e\\x08\\x02\\x00\\x…"
      ]
     },
     "metadata": {},
     "output_type": "display_data"
    },
    {
     "name": "stdout",
     "output_type": "stream",
     "text": [
      "reddit/interestingasfuck/fmavum_0 reddit/dataisugly/5fihxs_0 reddit/dataisugly/fmbknv_0 reddit/dataisugly/6344xo_0\n",
      "e297986a8d1ad879 e297986a8d1ad879 e297986a8d1ad879 e297986a8d1ad879\n"
     ]
    },
    {
     "data": {
      "application/vnd.jupyter.widget-view+json": {
       "model_id": "525300cbf9604168875f7246ec9f46c0",
       "version_major": 2,
       "version_minor": 0
      },
      "text/plain": [
       "HBox(children=(Image(value=b'\\xff\\xd8\\xff\\xe0\\x00\\x10JFIF\\x00\\x01\\x01\\x00\\x00\\x01\\x00\\x01\\x00\\x00\\xff\\xdb\\x00\\…"
      ]
     },
     "metadata": {},
     "output_type": "display_data"
    },
    {
     "name": "stdout",
     "output_type": "stream",
     "text": [
      "reddit/dataisugly/66i283_0 reddit/funnycharts/8kf3xt_0 reddit/dataisugly/8kf6qb_0 reddit/dataisugly/b80ksa_0\n",
      "c49133a49b6e8d7a c49133e4936e8d7a c49133e4936e8d7a c49133e49b6e8c7a\n"
     ]
    },
    {
     "data": {
      "application/vnd.jupyter.widget-view+json": {
       "model_id": "8f705339fac34bc5a22acf53c17a0a3f",
       "version_major": 2,
       "version_minor": 0
      },
      "text/plain": [
       "HBox(children=(Image(value=b'\\xff\\xd8\\xff\\xe0\\x00\\x10JFIF\\x00\\x01\\x01\\x00\\x00\\x01\\x00\\x01\\x00\\x00\\xff\\xe2\\x02\\…"
      ]
     },
     "metadata": {},
     "output_type": "display_data"
    },
    {
     "name": "stdout",
     "output_type": "stream",
     "text": [
      "reddit/dataisugly/97bf66_0 reddit/dataisugly/906vpi_0 reddit/dataisugly/912x11_0 reddit/dataisugly/8zze07_0\n",
      "eb1ba4279466d2b4 eb59a4279466d2b4 eb59a4279466d2b4 eb59a4279466d2b4\n"
     ]
    },
    {
     "data": {
      "application/vnd.jupyter.widget-view+json": {
       "model_id": "ce423b2c46b34ac8a35f4bd2aeed5849",
       "version_major": 2,
       "version_minor": 0
      },
      "text/plain": [
       "HBox(children=(Image(value=b'\\xff\\xd8\\xff\\xe0\\x00\\x10JFIF\\x00\\x01\\x01\\x00\\x00\\x01\\x00\\x01\\x00\\x00\\xff\\xdb\\x00C…"
      ]
     },
     "metadata": {},
     "output_type": "display_data"
    },
    {
     "name": "stdout",
     "output_type": "stream",
     "text": [
      "reddit/totallynotrobots/bx51zr_0 reddit/dataisugly/90rpd5_0 reddit/dataisugly/bx9eo5_0 reddit/totallynotrobots/90nsmq_0\n",
      "d0c62f396ccf90c6 d0c62f396ccf90c6 d0c62f396ccf90c6 d0c62f396ccf91c2\n"
     ]
    },
    {
     "data": {
      "application/vnd.jupyter.widget-view+json": {
       "model_id": "74c1f08092944f248c541f1436df932e",
       "version_major": 2,
       "version_minor": 0
      },
      "text/plain": [
       "HBox(children=(Image(value=b'\\xff\\xd8\\xff\\xe0\\x00\\x10JFIF\\x00\\x01\\x01\\x00\\x00\\x01\\x00\\x01\\x00\\x00\\xff\\xdb\\x00C…"
      ]
     },
     "metadata": {},
     "output_type": "display_data"
    },
    {
     "name": "stdout",
     "output_type": "stream",
     "text": [
      "reddit/dataisugly/abdrh2_0 reddit/dataisugly/abhb7y_0 reddit/movies/ab99a9_0 reddit/dataisugly/abcrxk_0\n",
      "8f684c1aba9bd1d1 8f684c1aba9bd1d1 8f684c1aba9bd1d1 8f684c1aba9bd1d1\n"
     ]
    },
    {
     "data": {
      "application/vnd.jupyter.widget-view+json": {
       "model_id": "6126a6deae9d415aa5b9661f94eaee0a",
       "version_major": 2,
       "version_minor": 0
      },
      "text/plain": [
       "HBox(children=(Image(value=b'\\xff\\xd8\\xff\\xdb\\x00C\\x00\\x02\\x02\\x02\\x02\\x02\\x02\\x03\\x02\\x02\\x03\\x05\\x03\\x03\\x03…"
      ]
     },
     "metadata": {},
     "output_type": "display_data"
    },
    {
     "name": "stdout",
     "output_type": "stream",
     "text": [
      "reddit/dataisugly/b9wgo4_0 reddit/dataisugly/cc0rm4_0 reddit/dataisugly/bigjq0_0 reddit/dataisugly/bp58u4_0 reddit/dataisugly/dt2hwh_0\n",
      "d9b681e04d3b8e6c fed095305e626a9a afdfc0402eb59692 d2d4d6d093d8926b 949a13b659757263\n"
     ]
    },
    {
     "data": {
      "application/vnd.jupyter.widget-view+json": {
       "model_id": "1228eeaa54494a2a8e9f13517b6a8456",
       "version_major": 2,
       "version_minor": 0
      },
      "text/plain": [
       "HBox(children=(Image(value=b'\\xff\\xd8\\xff\\xe0\\x00\\x10JFIF\\x00\\x01\\x01\\x01\\x00`\\x00`\\x00\\x00\\xff\\xdb\\x00C\\x00\\x…"
      ]
     },
     "metadata": {},
     "output_type": "display_data"
    },
    {
     "name": "stdout",
     "output_type": "stream",
     "text": [
      "reddit/geek/bjw35v_0 reddit/dataisugly/bjyox8_0 reddit/dataisugly/bk1xa3_0 reddit/educationalgifs/bjxrje_0\n",
      "eb2e7af094d0944b eb2e7af094d0944b eb2e7af094d0b44a eb2e7af094d0944b\n"
     ]
    },
    {
     "data": {
      "application/vnd.jupyter.widget-view+json": {
       "model_id": "7af76b4f01c94d60a967614dbcaba21d",
       "version_major": 2,
       "version_minor": 0
      },
      "text/plain": [
       "HBox(children=(Image(value=b'\\x89PNG\\r\\n\\x1a\\n\\x00\\x00\\x00\\rIHDR\\x00\\x00\\x01\\x18\\x00\\x00\\x01\\x18\\x08\\x03\\x00\\x…"
      ]
     },
     "metadata": {},
     "output_type": "display_data"
    }
   ],
   "source": [
    "# len(duplicated_image_ids)\n",
    "cnt = 0\n",
    "end = start + 50\n",
    "for idxs in duplicated_image_ids:\n",
    "#     print(f\"{[imageDedup[i]['image_id'] for i in idxs]}\")\n",
    "#     if len(idxs) == 2:\n",
    "    if len(idxs) >= 4:\n",
    "        if cnt >= start:\n",
    "            print(*[imageDedup[i]['image_id'] for i in idxs])\n",
    "            print(*[imageDedup[i]['phash'] for i in idxs])\n",
    "            display(HBox([\n",
    "                widgets.Image(value=open(imageDedup[i]['file_path'], 'rb').read(), width=100, height=100)\n",
    "                for i in idxs]))\n",
    "        cnt += 1\n",
    "        if cnt >= end:\n",
    "            print(end)\n",
    "            start = end\n",
    "            break"
   ]
  },
  {
   "cell_type": "code",
   "execution_count": null,
   "metadata": {
    "Collapsed": "false"
   },
   "outputs": [],
   "source": []
  }
 ],
 "metadata": {
  "kernelspec": {
   "display_name": "Python 3",
   "language": "python",
   "name": "python3"
  },
  "language_info": {
   "codemirror_mode": {
    "name": "ipython",
    "version": 3
   },
   "file_extension": ".py",
   "mimetype": "text/x-python",
   "name": "python",
   "nbconvert_exporter": "python",
   "pygments_lexer": "ipython3",
   "version": "3.7.6"
  }
 },
 "nbformat": 4,
 "nbformat_minor": 4
}
