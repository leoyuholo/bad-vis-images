{
 "cells": [
  {
   "cell_type": "code",
   "execution_count": 1,
   "metadata": {},
   "outputs": [],
   "source": [
    "# !pip install imgur-downloader\n",
    "# !pip install python-magic\n",
    "# !apt install libmagic-dev\n",
    "# !pip install requests_toolbelt\n",
    "# !pip install pytumblr\n",
    "# !pip install tweepy\n",
    "# !pip install pafy\n",
    "# !pip install youtube-dl"
   ]
  },
  {
   "cell_type": "code",
   "execution_count": 2,
   "metadata": {},
   "outputs": [],
   "source": [
    "# no web cache, file check instead"
   ]
  },
  {
   "cell_type": "code",
   "execution_count": 3,
   "metadata": {},
   "outputs": [],
   "source": [
    "from pymongo import MongoClient\n",
    "import json\n",
    "import requests\n",
    "from requests_toolbelt import SSLAdapter\n",
    "import pytumblr\n",
    "from pathlib import Path\n",
    "import glob\n",
    "from PIL import Image\n",
    "from io import BytesIO\n",
    "import magic\n",
    "# from imgur_downloader import ImgurDownloader\n",
    "from lib.libpatching.ImgurDownloader import ImgurDownloader\n",
    "from collections import Counter\n",
    "import tweepy\n",
    "import pafy\n",
    "\n",
    "from IPython.display import JSON\n",
    "\n",
    "from lib.parallel import parallel"
   ]
  },
  {
   "cell_type": "code",
   "execution_count": 4,
   "metadata": {},
   "outputs": [],
   "source": [
    "mongo_uri = json.load(open('./credentials/mongodb_credentials.json'))['uri']\n",
    "mongo = MongoClient(mongo_uri)\n",
    "db = mongo['bad-vis']\n",
    "posts = db['posts']\n",
    "dlthumbnailresults = db['dlthumbnailresults']\n",
    "dlpreviewresults = db['dlpreviewresults']\n",
    "dlexternalresults = db['dlexternalresults']\n",
    "dlthumbnailaltresults = db['dlthumbnailaltresults']\n",
    "dlpreviewaltresults = db['dlpreviewaltresults']\n",
    "dlexternalaltresults = db['dlexternalaltresults']"
   ]
  },
  {
   "cell_type": "code",
   "execution_count": 5,
   "metadata": {},
   "outputs": [],
   "source": [
    "images_dir = Path('../images')"
   ]
  },
  {
   "cell_type": "markdown",
   "metadata": {},
   "source": [
    "# Example"
   ]
  },
  {
   "cell_type": "code",
   "execution_count": 6,
   "metadata": {},
   "outputs": [
    {
     "data": {
      "image/png": "[encoded data removed]",
      "text/plain": [
       "<PIL.JpegImagePlugin.JpegImageFile image mode=RGB size=140x140 at 0x7F5A7C647F70>"
      ]
     },
     "execution_count": 6,
     "metadata": {},
     "output_type": "execute_result"
    }
   ],
   "source": [
    "post = posts.find_one({'id': 'e2cvur'})\n",
    "r = requests.get(post['thumbnail']['url'])\n",
    "pil_image = Image.open(BytesIO(r.content))\n",
    "pil_image"
   ]
  },
  {
   "cell_type": "markdown",
   "metadata": {},
   "source": [
    "# Downloaders"
   ]
  },
  {
   "cell_type": "code",
   "execution_count": 7,
   "metadata": {},
   "outputs": [],
   "source": [
    "def get_content_type_ext (content_type, req=None):\n",
    "    if not content_type:\n",
    "        content_type = ''\n",
    "    content_type = content_type.lower()\n",
    "    if content_type.startswith('image/jpeg') or content_type.startswith('image/jpg'):\n",
    "        return '.jpg'\n",
    "    elif content_type.startswith('image/png'):\n",
    "        return '.png'\n",
    "    elif content_type.startswith('image/gif'):\n",
    "        return '.gif'\n",
    "    elif content_type.startswith('image/webp'):\n",
    "        return '.webp'\n",
    "    elif content_type.startswith('image/svg'):\n",
    "        return '.svg'\n",
    "    elif content_type.startswith('image/bmp'):\n",
    "        return '.bmp'\n",
    "    elif content_type.startswith('video/mp4'):\n",
    "        return '.mp4'\n",
    "    elif req:\n",
    "        return get_content_type_ext(magic.from_buffer(req.content, mime=True))\n",
    "    elif content_type.startswith('text/html'):\n",
    "        return '.html'\n",
    "    elif content_type.startswith('application/pdf'):\n",
    "        return '.pdf'\n",
    "    else:\n",
    "        print(f'Unknow content-type: {content_type}')\n",
    "        return ''"
   ]
  },
  {
   "cell_type": "code",
   "execution_count": 8,
   "metadata": {},
   "outputs": [],
   "source": [
    "def download_image (result):\n",
    "    try:\n",
    "        r = requests.get(result['link'], timeout=60)\n",
    "    except requests.exceptions.SSLError:\n",
    "        adapter = SSLAdapter('TLSv1')\n",
    "        s = requests.Session()\n",
    "        s.mount('https://', adapter)\n",
    "        r = s.get(result['link'], timeout=60, verify=False)\n",
    "    except requests.exceptions.Timeout:\n",
    "        r = requests.get(result['link'], timeout=60)\n",
    "\n",
    "    result['request_status'] = r.status_code\n",
    "    if result['request_status'] >= 400:\n",
    "        if result['request_status'] == 404:\n",
    "            result['status'] = 'not_found'\n",
    "        else:\n",
    "            result['status'] = 'http_error'\n",
    "        return result\n",
    "\n",
    "    result['ext'] = get_content_type_ext(r.headers.get('content-type'), r)\n",
    "    if result['ext'] == '':\n",
    "        result['status'] = 'invalid_content_type'\n",
    "        print(f'id: {result[\"id\"]} link: {result[\"link\"]}')\n",
    "        return result\n",
    "    if result['ext'] == '.html' or result['ext'] == '.pdf':\n",
    "        result['status'] = 'skip_content_type'\n",
    "        return result\n",
    "\n",
    "    result['output'] = f'{result[\"dest\"]}{result[\"ext\"]}'\n",
    "    with open(result['output'], 'wb') as f:\n",
    "        f.write(r.content)\n",
    "    result['status'] = 'downloaded'\n",
    "    return result"
   ]
  },
  {
   "cell_type": "code",
   "execution_count": 9,
   "metadata": {},
   "outputs": [],
   "source": [
    "def download_imgur (result):\n",
    "    filename, skipped = ImgurDownloader(result['link'].split('#')[0], # remove image identifier hash\n",
    "                                        dir_download=result['dest'].parent,\n",
    "                                        file_name=result['id'],\n",
    "                                        delete_dne=True).save_images()\n",
    "    if skipped != 0:\n",
    "        result['status'] = 'imgur_dne'\n",
    "    else:\n",
    "        result['status'] = 'downloaded'\n",
    "    return result"
   ]
  },
  {
   "cell_type": "code",
   "execution_count": 11,
   "metadata": {},
   "outputs": [],
   "source": [
    "tumblr_credentials = \"\"\n",
    "\n",
    "with open('./credentials/tumblr_credentials.json') as f:\n",
    "    tumblr_credentials = json.load(f)\n",
    "\n",
    "tumblr_client = pytumblr.TumblrRestClient(tumblr_credentials['consumer_key'])\n",
    "\n",
    "def download_tumblr (result):\n",
    "    if 'media.tumblr.com' in result['link']:\n",
    "        return download_image(result)\n",
    "\n",
    "    tokens = result['link'].split('/')\n",
    "    if len(tokens) > 4 and tokens[4].isdigit():\n",
    "        reply = tumblr_client.posts(tokens[2], id=tokens[4])\n",
    "        if 'posts' not in reply or len(reply['posts']) == 0:\n",
    "            result['status'] = 'tumblr_tweet_not_found'\n",
    "            return result\n",
    "\n",
    "        r = result.copy()\n",
    "        try:\n",
    "            r['link'] = reply['posts'][0]['photos'][0]['original_size']['url']\n",
    "        except Exception as e:\n",
    "            print(f\"Tumblr error: {result['post_id']} {result['link']} {e}\")\n",
    "            result['status'] = 'tumblr_error'\n",
    "            return result\n",
    "        download_result = download_image(r)\n",
    "        download_result['link'] = result['link']\n",
    "        return download_result\n",
    "    else:\n",
    "        result['status'] = 'tumblr_invalid_image_url'\n",
    "        return result"
   ]
  },
  {
   "cell_type": "code",
   "execution_count": 12,
   "metadata": {},
   "outputs": [],
   "source": [
    "twitter_credentials = \"\"\n",
    "\n",
    "with open('./credentials/twitter_credentials.json') as f:\n",
    "    twitter_credentials = json.load(f)\n",
    "\n",
    "auth = tweepy.OAuthHandler(twitter_credentials['consumer_key'], twitter_credentials['consumer_secret'])\n",
    "auth.set_access_token(twitter_credentials['access_token'], twitter_credentials['access_token_secret'])\n",
    "\n",
    "twitter_client = tweepy.API(auth)\n",
    "\n",
    "def download_twitter (result):\n",
    "    s = result['link'].replace('?', '/')\n",
    "    tokens = s.split('/')\n",
    "    if len(tokens) > 5 and tokens[5].isdigit():\n",
    "        reply = twitter_client.statuses_lookup([tokens[5]], tweet_mode='extended')\n",
    "        if len(reply) == 0:\n",
    "            result['status'] = 'twitter_tweet_not_found'\n",
    "            return result\n",
    "\n",
    "        r = result.copy()\n",
    "        try:\n",
    "            r['link'] = reply[0]._json['entities']['media'][0]['media_url_https']\n",
    "        except Exception as e:\n",
    "            r['link'] = reply[0]._json['quoted_status']['entities']['media'][0]['media_url_https']\n",
    "        except Exception as e:\n",
    "            print(f\"Twitter error: {result['post_id']} {result['link']} {e}\")\n",
    "            result['status'] = 'twitter_error'\n",
    "            return result\n",
    "        download_result = download_image(r)\n",
    "        download_result['link'] = result['link']\n",
    "        return download_result\n",
    "    else:\n",
    "        result['status'] = 'twitter_invalid_image_url'\n",
    "        return result"
   ]
  },
  {
   "cell_type": "code",
   "execution_count": 13,
   "metadata": {},
   "outputs": [],
   "source": [
    "# reply = twitter_client.statuses_lookup([1238792393949937665], tweet_mode='extended')\n",
    "# JSON(reply[0]._json)"
   ]
  },
  {
   "cell_type": "code",
   "execution_count": 14,
   "metadata": {},
   "outputs": [],
   "source": [
    "def download_youtube (result):\n",
    "    try:\n",
    "        video = pafy.new(result['link'])\n",
    "        if video.length > 30:\n",
    "            result['status'] = 'youtube_video_longer_than_30s'\n",
    "            return result\n",
    "        else:\n",
    "            result['status'] = 'skip_youtube'\n",
    "            return result\n",
    "    except Exception as e:\n",
    "#         print(f\"YouTube error: {result['post_id']} {result['link']} {e}\")\n",
    "        result['status'] = 'youtube_error'\n",
    "        return result"
   ]
  },
  {
   "cell_type": "code",
   "execution_count": 15,
   "metadata": {},
   "outputs": [],
   "source": [
    "def download_post_image (post, t='preview', outdir=None):\n",
    "    if t in post:\n",
    "        if type(post[t]) == str:\n",
    "            link = post[t]\n",
    "        else:\n",
    "            link = post[t]['url']\n",
    "    else:\n",
    "        link = ''\n",
    "    if not outdir:\n",
    "        outdir = t\n",
    "    result = {\n",
    "        'id': post['id'],\n",
    "        'post_id': post['post_id'],\n",
    "        'link': link,\n",
    "        'dest': images_dir/outdir/post['post_id']\n",
    "    }\n",
    "\n",
    "    if 'skip' in post and post['skip']:\n",
    "        result['status'] = 'skip'\n",
    "        return result\n",
    "\n",
    "    if len(glob.glob(f'{result[\"dest\"]}*')) != 0:\n",
    "        result['status'] = 'exists'\n",
    "        return result\n",
    "    else:\n",
    "        result['dest'].parent.mkdir(parents=True, exist_ok=True)\n",
    "\n",
    "    if not link or link == 'None' or type(link) != str:\n",
    "        result['status'] = 'invalid_url'\n",
    "        return result\n",
    "\n",
    "    try:\n",
    "        if t == 'external_link':\n",
    "            if 'imgur.com' in link and not (link.endswith('.jpg') or link.endswith('.png') or link.endswith('.gif')):\n",
    "                return download_imgur(result)\n",
    "            elif 'tumblr.com' in link or 'viz.wtf' in link:\n",
    "                return download_tumblr(result)\n",
    "            elif 'twitter.com' in link:\n",
    "                return download_twitter(result)\n",
    "            elif 'youtube.com' in link or 'youtu.be' in link:\n",
    "                return download_youtube(result)\n",
    "            elif 'vimeo.com' in link:\n",
    "                result['status'] = 'skip_vimeo'\n",
    "                return result\n",
    "            elif 'reddit.com/r/' in link or 'reddit.com/user/' in link:\n",
    "                result['status'] = 'reddit_invalid_image_url'\n",
    "                return result\n",
    "        return download_image(result)\n",
    "    except Exception as inst:\n",
    "        print(f\"Download error: {post['post_id']} {link} {inst}\")\n",
    "        result['status'] = 'download_error'\n",
    "        return result\n",
    "\n",
    "    return result"
   ]
  },
  {
   "cell_type": "markdown",
   "metadata": {},
   "source": [
    "# Test"
   ]
  },
  {
   "cell_type": "markdown",
   "metadata": {},
   "source": [
    "## Test Reddit preview"
   ]
  },
  {
   "cell_type": "code",
   "execution_count": 16,
   "metadata": {},
   "outputs": [
    {
     "name": "stdout",
     "output_type": "stream",
     "text": [
      "{'id': 'e2cvur', 'post_id': 'reddit/dataisugly/e2cvur', 'link': 'https://external-preview.redd.it/7KwLWyf4c1EvBf0qKuANaXVNjS24zcUENmDioiXNKjQ.jpg?auto=webp&s=3d47a8b8e91779f1e0f6755eedf52bbf8a0c43fa', 'dest': PosixPath('../images/preview/reddit/dataisugly/e2cvur'), 'status': 'exists'}\n"
     ]
    }
   ],
   "source": [
    "for post in [posts.find_one({'id': 'e2cvur'})]:\n",
    "    result = download_post_image(post, t='preview')\n",
    "    print(result)"
   ]
  },
  {
   "cell_type": "markdown",
   "metadata": {},
   "source": [
    "## Test Reddit thumbnail"
   ]
  },
  {
   "cell_type": "code",
   "execution_count": 17,
   "metadata": {},
   "outputs": [
    {
     "name": "stdout",
     "output_type": "stream",
     "text": [
      "{'id': 'e2cvur', 'post_id': 'reddit/dataisugly/e2cvur', 'link': 'https://a.thumbs.redditmedia.com/WucC-RnMeSV37vU-YV3EFC6FmirIshnYYt5Pbt-bBi8.jpg', 'dest': PosixPath('../images/thumbnail/reddit/dataisugly/e2cvur'), 'status': 'exists'}\n"
     ]
    }
   ],
   "source": [
    "for post in [posts.find_one({'id': 'e2cvur'})]:\n",
    "    result = download_post_image(post, t='thumbnail')\n",
    "    print(result)"
   ]
  },
  {
   "cell_type": "markdown",
   "metadata": {},
   "source": [
    "## Test Imgur"
   ]
  },
  {
   "cell_type": "code",
   "execution_count": 18,
   "metadata": {},
   "outputs": [
    {
     "name": "stdout",
     "output_type": "stream",
     "text": [
      "{'id': 'e2cvur', 'post_id': 'reddit/dataisugly/e2cvur', 'link': 'https://i.imgur.com/sTVYOIH.jpg', 'dest': PosixPath('../images/external_link/reddit/dataisugly/e2cvur'), 'status': 'exists'}\n"
     ]
    }
   ],
   "source": [
    "for post in [posts.find_one({'id': 'e2cvur'})]:\n",
    "    result = download_post_image(post, t='external_link', outdir='external_link')\n",
    "    print(result)"
   ]
  },
  {
   "cell_type": "markdown",
   "metadata": {},
   "source": [
    "## Test Tumblr"
   ]
  },
  {
   "cell_type": "code",
   "execution_count": 19,
   "metadata": {},
   "outputs": [
    {
     "name": "stdout",
     "output_type": "stream",
     "text": [
      "{'id': '3hfwcd', 'post_id': 'reddit/dataisugly/3hfwcd', 'link': 'http://viz.wtf/post/126842211253/recent-studies', 'dest': PosixPath('../images/external_link/reddit/dataisugly/3hfwcd'), 'status': 'exists'}\n"
     ]
    }
   ],
   "source": [
    "for post in [posts.find_one({'id': '3hfwcd'})]:\n",
    "    result = download_post_image(post, t='external_link', outdir='external_link')\n",
    "    print(result)"
   ]
  },
  {
   "cell_type": "markdown",
   "metadata": {},
   "source": [
    "## Test Twitter"
   ]
  },
  {
   "cell_type": "code",
   "execution_count": 20,
   "metadata": {},
   "outputs": [
    {
     "name": "stdout",
     "output_type": "stream",
     "text": [
      "{'id': '37we2w', 'post_id': 'reddit/dataisugly/37we2w', 'link': 'https://twitter.com/TheEconomist/status/604789033961668608?s=09', 'dest': PosixPath('../images/external_link/reddit/dataisugly/37we2w'), 'status': 'exists'}\n"
     ]
    }
   ],
   "source": [
    "for post in [posts.find_one({'id': '37we2w'})]:\n",
    "    result = download_post_image(post, t='external_link', outdir='external_link')\n",
    "    print(result)"
   ]
  },
  {
   "cell_type": "markdown",
   "metadata": {},
   "source": [
    "## Test YouTube"
   ]
  },
  {
   "cell_type": "code",
   "execution_count": 21,
   "metadata": {},
   "outputs": [
    {
     "name": "stderr",
     "output_type": "stream",
     "text": [
      "ERROR: Video unavailable\n"
     ]
    },
    {
     "name": "stdout",
     "output_type": "stream",
     "text": [
      "{'id': '4dbv2i', 'post_id': 'reddit/dataisugly/4dbv2i', 'link': 'https://www.youtube.com/watch?v=OVNOu00vYpM', 'dest': PosixPath('../images/external_link/reddit/dataisugly/4dbv2i'), 'status': 'youtube_error'}\n"
     ]
    }
   ],
   "source": [
    "for post in [posts.find_one({'id': 'effgss'})]:\n",
    "    result = download_post_image(post, t='external_link', outdir='external_link')\n",
    "    print(result)"
   ]
  },
  {
   "cell_type": "markdown",
   "metadata": {},
   "source": [
    "# Batch download"
   ]
  },
  {
   "cell_type": "code",
   "execution_count": 22,
   "metadata": {},
   "outputs": [
    {
     "data": {
      "application/vnd.jupyter.widget-view+json": {
       "model_id": "db8061841e38438b901ce5783da5b6ea",
       "version_major": 2,
       "version_minor": 0
      },
      "text/plain": [
       "HBox(children=(FloatProgress(value=0.0, max=11217.0), HTML(value='')))"
      ]
     },
     "metadata": {},
     "output_type": "display_data"
    },
    {
     "name": "stdout",
     "output_type": "stream",
     "text": [
      "\n"
     ]
    }
   ],
   "source": [
    "dl_preview_results = parallel(download_post_image,\n",
    "                              posts.find(),\n",
    "                              params_dict={'t': 'preview', 'outdir': 'preview'},\n",
    "                              total=posts.estimated_document_count(),\n",
    "                              n_jobs=20)"
   ]
  },
  {
   "cell_type": "code",
   "execution_count": 23,
   "metadata": {},
   "outputs": [
    {
     "data": {
      "application/vnd.jupyter.widget-view+json": {
       "model_id": "9b2922db8b9d4eccab1d1675f84e220b",
       "version_major": 2,
       "version_minor": 0
      },
      "text/plain": [
       "HBox(children=(FloatProgress(value=1.0, bar_style='info', layout=Layout(width='20px'), max=1.0), HTML(value=''…"
      ]
     },
     "metadata": {},
     "output_type": "display_data"
    },
    {
     "name": "stdout",
     "output_type": "stream",
     "text": [
      "\n"
     ]
    }
   ],
   "source": [
    "dl_preview_alt_results = parallel(download_post_image,\n",
    "                                  posts.find({'preview_alt': {'$ne': None}}),\n",
    "                                  params_dict={'t': 'preview_alt', 'outdir': 'preview_alt'},\n",
    "                                  n_jobs=20)"
   ]
  },
  {
   "cell_type": "code",
   "execution_count": 24,
   "metadata": {
    "scrolled": true
   },
   "outputs": [
    {
     "data": {
      "application/vnd.jupyter.widget-view+json": {
       "model_id": "081bc60b4e164147a8453c10dd6c1d7e",
       "version_major": 2,
       "version_minor": 0
      },
      "text/plain": [
       "HBox(children=(FloatProgress(value=0.0, max=11217.0), HTML(value='')))"
      ]
     },
     "metadata": {},
     "output_type": "display_data"
    },
    {
     "name": "stdout",
     "output_type": "stream",
     "text": [
      "\n"
     ]
    }
   ],
   "source": [
    "dl_thumbnail_results = parallel(download_post_image,\n",
    "                                posts.find(),\n",
    "                                params_dict={'t': 'thumbnail', 'outdir': 'thumbnail'},\n",
    "                                total=posts.estimated_document_count(),\n",
    "                                n_jobs=20)"
   ]
  },
  {
   "cell_type": "code",
   "execution_count": 25,
   "metadata": {},
   "outputs": [
    {
     "data": {
      "application/vnd.jupyter.widget-view+json": {
       "model_id": "24b843abeb2049059eb92ee3b866594c",
       "version_major": 2,
       "version_minor": 0
      },
      "text/plain": [
       "HBox(children=(FloatProgress(value=1.0, bar_style='info', layout=Layout(width='20px'), max=1.0), HTML(value=''…"
      ]
     },
     "metadata": {},
     "output_type": "display_data"
    },
    {
     "name": "stdout",
     "output_type": "stream",
     "text": [
      "\n"
     ]
    }
   ],
   "source": [
    "dl_thumbnail_alt_results = parallel(download_post_image,\n",
    "                                    posts.find({'thumbnail_alt': {'$ne': None}}),\n",
    "                                    params_dict={'t': 'thumbnail_alt', 'outdir': 'thumbnail_alt'},\n",
    "                                    n_jobs=20)"
   ]
  },
  {
   "cell_type": "code",
   "execution_count": 26,
   "metadata": {},
   "outputs": [
    {
     "data": {
      "application/vnd.jupyter.widget-view+json": {
       "model_id": "0c69927f876e4473a2e70203a900be6f",
       "version_major": 2,
       "version_minor": 0
      },
      "text/plain": [
       "HBox(children=(FloatProgress(value=0.0, max=11217.0), HTML(value='')))"
      ]
     },
     "metadata": {},
     "output_type": "display_data"
    },
    {
     "name": "stderr",
     "output_type": "stream",
     "text": [
      "ERROR: Video unavailable\n",
      "ERROR: no conn, hlsvp, hlsManifestUrl or url_encoded_fmt_stream_map information found in video info; please report this issue on https://yt-dl.org/bug . Make sure you are using the latest version; see  https://yt-dl.org/update  on how to update. Be sure to call youtube-dl with the --verbose flag and include its complete output.\n",
      "ERROR: no conn, hlsvp, hlsManifestUrl or url_encoded_fmt_stream_map information found in video info; please report this issue on https://yt-dl.org/bug . Make sure you are using the latest version; see  https://yt-dl.org/update  on how to update. Be sure to call youtube-dl with the --verbose flag and include its complete output.\n",
      "ERROR: Video unavailable\n",
      "ERROR: Video unavailable\n",
      "ERROR: Video unavailable\n",
      "ERROR: Video unavailable\n",
      "ERROR: Video unavailable\n",
      "ERROR: Video unavailable\n",
      "ERROR: no conn, hlsvp, hlsManifestUrl or url_encoded_fmt_stream_map information found in video info; please report this issue on https://yt-dl.org/bug . Make sure you are using the latest version; see  https://yt-dl.org/update  on how to update. Be sure to call youtube-dl with the --verbose flag and include its complete output.\n",
      "ERROR: no conn, hlsvp, hlsManifestUrl or url_encoded_fmt_stream_map information found in video info; please report this issue on https://yt-dl.org/bug . Make sure you are using the latest version; see  https://yt-dl.org/update  on how to update. Be sure to call youtube-dl with the --verbose flag and include its complete output.\n",
      "ERROR: Video unavailable\n",
      "ERROR: Video unavailable\n"
     ]
    },
    {
     "name": "stdout",
     "output_type": "stream",
     "text": [
      "Download error: reddit/dataisugly/ariceq http://www.vairalm/live HTTPConnectionPool(host='www.vairalm', port=80): Max retries exceeded with url: /live (Caused by NewConnectionError('<urllib3.connection.HTTPConnection object at 0x7f59febd8a60>: Failed to establish a new connection: [Errno -2] Name or service not known'))\n",
      "Download error: reddit/dataisugly/aonhl5 https://datasignals.io/data/slug/where-the-holocaust-survivors-moved-post-ww2-588 HTTPSConnectionPool(host='datasignals.io', port=443): Max retries exceeded with url: /data/slug/where-the-holocaust-survivors-moved-post-ww2-588 (Caused by NewConnectionError('<urllib3.connection.HTTPSConnection object at 0x7f5a1c272880>: Failed to establish a new connection: [Errno -5] No address associated with hostname'))\n",
      "Download error: reddit/ww2/aokgpa https://datasignals.io/data/slug/where-the-holocaust-survivors-moved-post-ww2-588 HTTPSConnectionPool(host='datasignals.io', port=443): Max retries exceeded with url: /data/slug/where-the-holocaust-survivors-moved-post-ww2-588 (Caused by NewConnectionError('<urllib3.connection.HTTPSConnection object at 0x7f59fafd8310>: Failed to establish a new connection: [Errno -5] No address associated with hostname'))\n",
      "Download error: reddit/FortNiteBR/ag4huy https://datasignals.io/data/slug/comparing-the-number-of-matches-of-the-top-10-fortnite-pubg-players-and-black-ops4-players-on-the-wins-leaderboard-609 HTTPSConnectionPool(host='datasignals.io', port=443): Max retries exceeded with url: /data/slug/comparing-the-number-of-matches-of-the-top-10-fortnite-pubg-players-and-black-ops4-players-on-the-wins-leaderboard-609 (Caused by NewConnectionError('<urllib3.connection.HTTPSConnection object at 0x7f59fafeb400>: Failed to establish a new connection: [Errno -5] No address associated with hostname'))\n",
      "Download error: reddit/southpark/ag73kb https://datasignals.io/data/slug/south-park-visualised-47 HTTPSConnectionPool(host='datasignals.io', port=443): Max retries exceeded with url: /data/slug/south-park-visualised-47 (Caused by NewConnectionError('<urllib3.connection.HTTPSConnection object at 0x7f59ff1c7ee0>: Failed to establish a new connection: [Errno -5] No address associated with hostname'))\n",
      "Download error: reddit/psg/af7hbs https://datasignals.io/data/slug/correlation-between-transfer-market-value-and-performance-of-the-psg-squad-in-ligue-1-in-201819-520 [OC] HTTPSConnectionPool(host='datasignals.io', port=443): Max retries exceeded with url: /data/slug/correlation-between-transfer-market-value-and-performance-of-the-psg-squad-in-ligue-1-in-201819-520%20%5BOC%5D (Caused by NewConnectionError('<urllib3.connection.HTTPSConnection object at 0x7f59fafd6760>: Failed to establish a new connection: [Errno -5] No address associated with hostname'))\n",
      "Download error: reddit/dataisugly/ag8fbf https://datasignals.io/data/slug/south-park-visualised-47 HTTPSConnectionPool(host='datasignals.io', port=443): Max retries exceeded with url: /data/slug/south-park-visualised-47 (Caused by NewConnectionError('<urllib3.connection.HTTPSConnection object at 0x7f59fb083070>: Failed to establish a new connection: [Errno -5] No address associated with hostname'))\n",
      "Download error: reddit/dataisugly/ag4igb https://datasignals.io/data/slug/comparing-the-number-of-matches-of-the-top-10-fortnite-pubg-players-and-black-ops4-players-on-the-wins-leaderboard-609 HTTPSConnectionPool(host='datasignals.io', port=443): Max retries exceeded with url: /data/slug/comparing-the-number-of-matches-of-the-top-10-fortnite-pubg-players-and-black-ops4-players-on-the-wins-leaderboard-609 (Caused by NewConnectionError('<urllib3.connection.HTTPSConnection object at 0x7f59fb083fa0>: Failed to establish a new connection: [Errno -5] No address associated with hostname'))\n",
      "Download error: reddit/dataisugly/af7ra5 https://datasignals.io/data/slug/correlation-between-transfer-market-value-and-performance-of-the-psg-squad-in-ligue-1-in-201819-520 [OC] HTTPSConnectionPool(host='datasignals.io', port=443): Max retries exceeded with url: /data/slug/correlation-between-transfer-market-value-and-performance-of-the-psg-squad-in-ligue-1-in-201819-520%20%5BOC%5D (Caused by NewConnectionError('<urllib3.connection.HTTPSConnection object at 0x7f59fb0a8ac0>: Failed to establish a new connection: [Errno -5] No address associated with hostname'))\n",
      "Download error: reddit/GRE/ac7lg9 https://datasignals.io/data/5c2e3e12ca4912298708dfa8 HTTPSConnectionPool(host='datasignals.io', port=443): Max retries exceeded with url: /data/5c2e3e12ca4912298708dfa8 (Caused by NewConnectionError('<urllib3.connection.HTTPSConnection object at 0x7f59fb0a8280>: Failed to establish a new connection: [Errno -5] No address associated with hostname'))\n",
      "Download error: reddit/dataisugly/ac7nfo https://datasignals.io/data/5c2e3e12ca4912298708dfa8 HTTPSConnectionPool(host='datasignals.io', port=443): Max retries exceeded with url: /data/5c2e3e12ca4912298708dfa8 (Caused by NewConnectionError('<urllib3.connection.HTTPSConnection object at 0x7f59fb0ac340>: Failed to establish a new connection: [Errno -5] No address associated with hostname'))\n",
      "Download error: reddit/dataisbeautiful/a8xe8v https://datasignals.io/data/5c1fddffca4912298708df92 HTTPSConnectionPool(host='datasignals.io', port=443): Max retries exceeded with url: /data/5c1fddffca4912298708df92 (Caused by NewConnectionError('<urllib3.connection.HTTPSConnection object at 0x7f59fafd8940>: Failed to establish a new connection: [Errno -5] No address associated with hostname'))\n",
      "Download error: reddit/dataisugly/a8xfg3 https://datasignals.io/data/5c1fddffca4912298708df92 HTTPSConnectionPool(host='datasignals.io', port=443): Max retries exceeded with url: /data/5c1fddffca4912298708df92 (Caused by NewConnectionError('<urllib3.connection.HTTPSConnection object at 0x7f59fb0aad60>: Failed to establish a new connection: [Errno -5] No address associated with hostname'))\n",
      "Download error: reddit/dataisbeautiful/a6op5a https://datasignals.io/data/5c1641b8adf019753da5deb0 HTTPSConnectionPool(host='datasignals.io', port=443): Max retries exceeded with url: /data/5c1641b8adf019753da5deb0 (Caused by NewConnectionError('<urllib3.connection.HTTPSConnection object at 0x7f59fb173fd0>: Failed to establish a new connection: [Errno -5] No address associated with hostname'))\n",
      "Download error: reddit/dataisugly/a6oqx9 https://datasignals.io/data/5c1641b8adf019753da5deb0 HTTPSConnectionPool(host='datasignals.io', port=443): Max retries exceeded with url: /data/5c1641b8adf019753da5deb0 (Caused by NewConnectionError('<urllib3.connection.HTTPSConnection object at 0x7f59faff13d0>: Failed to establish a new connection: [Errno -5] No address associated with hostname'))\n",
      "Download error: reddit/dataisbeautiful/a5r5vw http://datasignals.io/data/5c120223ba384b60bbb30db8 HTTPConnectionPool(host='datasignals.io', port=80): Max retries exceeded with url: /data/5c120223ba384b60bbb30db8 (Caused by NewConnectionError('<urllib3.connection.HTTPConnection object at 0x7f59fb0d9a90>: Failed to establish a new connection: [Errno -5] No address associated with hostname'))\n",
      "Download error: reddit/dataisbeautiful/a5q4b0 http://datasignals.io/data/5c11de246542975fee5dd8f9 HTTPConnectionPool(host='datasignals.io', port=80): Max retries exceeded with url: /data/5c11de246542975fee5dd8f9 (Caused by NewConnectionError('<urllib3.connection.HTTPConnection object at 0x7f59fb0d9670>: Failed to establish a new connection: [Errno -5] No address associated with hostname'))\n",
      "Download error: reddit/dataisugly/a5r8dz http://datasignals.io/data/5c120223ba384b60bbb30db8 HTTPConnectionPool(host='datasignals.io', port=80): Max retries exceeded with url: /data/5c120223ba384b60bbb30db8 (Caused by NewConnectionError('<urllib3.connection.HTTPConnection object at 0x7f59fb114a00>: Failed to establish a new connection: [Errno -5] No address associated with hostname'))\n",
      "Download error: reddit/dataisugly/a5r2mn http://datasignals.io/data/5c11de246542975fee5dd8f9 HTTPConnectionPool(host='datasignals.io', port=80): Max retries exceeded with url: /data/5c11de246542975fee5dd8f9 (Caused by NewConnectionError('<urllib3.connection.HTTPConnection object at 0x7f5a7823dcd0>: Failed to establish a new connection: [Errno -5] No address associated with hostname'))\n",
      "Download error: reddit/dataisugly/9ht2b4 https://pushmio.tk/feed/dataisugly HTTPSConnectionPool(host='pushmio.tk', port=443): Max retries exceeded with url: /feed/dataisugly (Caused by NewConnectionError('<urllib3.connection.HTTPSConnection object at 0x7f59fb0b23a0>: Failed to establish a new connection: [Errno -2] Name or service not known'))\n"
     ]
    },
    {
     "name": "stderr",
     "output_type": "stream",
     "text": [
      "ERROR: no conn, hlsvp, hlsManifestUrl or url_encoded_fmt_stream_map information found in video info; please report this issue on https://yt-dl.org/bug . Make sure you are using the latest version; see  https://yt-dl.org/update  on how to update. Be sure to call youtube-dl with the --verbose flag and include its complete output.\n",
      "/opt/conda/lib/python3.8/site-packages/urllib3/connectionpool.py:981: InsecureRequestWarning: Unverified HTTPS request is being made to host 'www.eithealth.eu'. Adding certificate verification is strongly advised. See: https://urllib3.readthedocs.io/en/latest/advanced-usage.html#ssl-warnings\n",
      "  warnings.warn(\n"
     ]
    },
    {
     "name": "stdout",
     "output_type": "stream",
     "text": [
      "Download error: reddit/dataisugly/88dtv5 https://twitter.com/CasMudde/status/979807359840251904 'quoted_status'\n"
     ]
    },
    {
     "name": "stderr",
     "output_type": "stream",
     "text": [
      "/opt/conda/lib/python3.8/site-packages/urllib3/connectionpool.py:981: InsecureRequestWarning: Unverified HTTPS request is being made to host 'eithealth.eu'. Adding certificate verification is strongly advised. See: https://urllib3.readthedocs.io/en/latest/advanced-usage.html#ssl-warnings\n",
      "  warnings.warn(\n"
     ]
    },
    {
     "name": "stdout",
     "output_type": "stream",
     "text": [
      "Download error: reddit/dataisugly/7rui8a http://snapvisuals.com/2018/01/06/birtheatmap/?reddit=0001 HTTPConnectionPool(host='snapvisuals.com', port=80): Max retries exceeded with url: /2018/01/06/birtheatmap/?reddit=0001 (Caused by NewConnectionError('<urllib3.connection.HTTPConnection object at 0x7f59fc574fa0>: Failed to establish a new connection: [Errno -2] Name or service not known'))\n",
      "Download error: reddit/dataisugly/7dpwkw https://toptengamer-wmqtxv40cic.netdna-ssl.com/wp-content/uploads/2016/09/Timespy-Graphics-Score-GTX-1080-1070-1060-Benchmarks.jpg HTTPSConnectionPool(host='toptengamer-wmqtxv40cic.netdna-ssl.com', port=443): Max retries exceeded with url: /wp-content/uploads/2016/09/Timespy-Graphics-Score-GTX-1080-1070-1060-Benchmarks.jpg (Caused by NewConnectionError('<urllib3.connection.HTTPSConnection object at 0x7f59fe364310>: Failed to establish a new connection: [Errno -2] Name or service not known'))\n",
      "Download error: reddit/dataisugly/8jfgj8 https://doleta.gov/oa/data_statistics2016.cfm HTTPSConnectionPool(host='doleta.gov', port=443): Max retries exceeded with url: /oa/data_statistics2016.cfm (Caused by NewConnectionError('<urllib3.connection.HTTPSConnection object at 0x7f59fb07ce80>: Failed to establish a new connection: [Errno -2] Name or service not known'))\n"
     ]
    },
    {
     "name": "stderr",
     "output_type": "stream",
     "text": [
      "ERROR: Video unavailable\n"
     ]
    },
    {
     "name": "stdout",
     "output_type": "stream",
     "text": [
      "Download error: reddit/dataisugly/748jk3 http://tracetheguns.org/ HTTPConnectionPool(host='tracetheguns.org', port=80): Max retries exceeded with url: / (Caused by NewConnectionError('<urllib3.connection.HTTPConnection object at 0x7f59ff0c1ee0>: Failed to establish a new connection: [Errno -2] Name or service not known'))\n"
     ]
    },
    {
     "name": "stderr",
     "output_type": "stream",
     "text": [
      "ERROR: Video unavailable\n",
      "ERROR: Video unavailable\n"
     ]
    },
    {
     "name": "stdout",
     "output_type": "stream",
     "text": [
      "Download error: reddit/dataisugly/6gnf3k http://vogani88.blogspot.in/2017/06/indias-foreign-exchange-reserves_10.html HTTPConnectionPool(host='vogani88.blogspot.in', port=80): Max retries exceeded with url: /2017/06/indias-foreign-exchange-reserves_10.html (Caused by NewConnectionError('<urllib3.connection.HTTPConnection object at 0x7f59fb03d130>: Failed to establish a new connection: [Errno -5] No address associated with hostname'))\n",
      "Download error: reddit/dataisugly/6gqgay http://vogani88.blogspot.in/2017/05/cats-vs-dogs-who-wins.html HTTPConnectionPool(host='vogani88.blogspot.in', port=80): Max retries exceeded with url: /2017/05/cats-vs-dogs-who-wins.html (Caused by NewConnectionError('<urllib3.connection.HTTPConnection object at 0x7f59fb027a00>: Failed to establish a new connection: [Errno -2] Name or service not known'))\n",
      "Download error: reddit/dataisugly/6ibrpu http://imgur.com/a/6FDpU [ImgurDownloader] HTTP Response Code 404\n",
      "Download error: reddit/dataisugly/6ctr6f https://qph.ec.quoracdn.net/main-qimg-9c2eb75b9c11bf24f632898857dac0ee HTTPSConnectionPool(host='qph.ec.quoracdn.net', port=443): Max retries exceeded with url: /main-qimg-9c2eb75b9c11bf24f632898857dac0ee (Caused by NewConnectionError('<urllib3.connection.HTTPSConnection object at 0x7f59fa9fdd90>: Failed to establish a new connection: [Errno -2] Name or service not known'))\n",
      "Download error: reddit/dataisugly/692jim http://cdn.exstreamist.com/wp-content/uploads/2017/05/Netflix-vs-Comcast-subscriber-count.png HTTPConnectionPool(host='cdn.exstreamist.com', port=80): Max retries exceeded with url: /wp-content/uploads/2017/05/Netflix-vs-Comcast-subscriber-count.png (Caused by NewConnectionError('<urllib3.connection.HTTPConnection object at 0x7f59feeb0250>: Failed to establish a new connection: [Errno -2] Name or service not known'))\n",
      "Download error: reddit/dataisbeautiful/6896pd http://gervise.com/681-2 HTTPConnectionPool(host='gervise.com', port=80): Max retries exceeded with url: /681-2 (Caused by NewConnectionError('<urllib3.connection.HTTPConnection object at 0x7f59fdb2d940>: Failed to establish a new connection: [Errno -2] Name or service not known'))\n",
      "Download error: reddit/dataisugly/5wsccz http://cdn2.thr.com/sites/default/files/2017/02/thr_western_production_chart_1_-_embed.jpg HTTPConnectionPool(host='cdn2.thr.com', port=80): Max retries exceeded with url: /sites/default/files/2017/02/thr_western_production_chart_1_-_embed.jpg (Caused by NewConnectionError('<urllib3.connection.HTTPConnection object at 0x7f59faa11c10>: Failed to establish a new connection: [Errno -2] Name or service not known'))\n",
      "Download error: reddit/dataisugly/5x1vmz http://imgur.com/gallery/2UUYFqd [ImgurDownloader] HTTP Response Code 404\n",
      "Download error: reddit/dataisugly/5u7v72 http://imgur.com/wmfo9wN Failed to find regex match in html\n",
      "Download error: reddit/dataisugly/601md8 https://www.pcper.com/files/review/2017-03-10/ping-amd.png HTTPConnectionPool(host='localhost', port=80): Max retries exceeded with url: /files/review/2017-03-10/ping-amd.png (Caused by NewConnectionError('<urllib3.connection.HTTPConnection object at 0x7f59faa141f0>: Failed to establish a new connection: [Errno 111] Connection refused'))\n",
      "Download error: reddit/dataisugly/5tl79r http://imgur.com/M6F48Xr Failed to find regex match in html\n",
      "Download error: reddit/dataisugly/5te6py http://imgur.com/JRweuPK Failed to find regex match in html\n",
      "Download error: reddit/dataisugly/5tekrk http://imgur.com/nyYHCbp Failed to find regex match in html\n",
      "Download error: reddit/dataisugly/5qx15n http://imgur.com/gallery/EJUsV1K [ImgurDownloader] HTTP Response Code 404\n",
      "Download error: reddit/dataisugly/5ndt05 https://photos.xxxnoscopemlgxxx.com/8bb0f9cc60.jpg HTTPSConnectionPool(host='photos.xxxnoscopemlgxxx.com', port=443): Max retries exceeded with url: /8bb0f9cc60.jpg (Caused by NewConnectionError('<urllib3.connection.HTTPSConnection object at 0x7f59fd37e2e0>: Failed to establish a new connection: [Errno -2] Name or service not known'))\n",
      "Download error: reddit/dataisbeautiful/5njr2k http://imgur.com/uuWqwEz Failed to find regex match in html\n",
      "Download error: reddit/dataisugly/5iwool https://i.sli.mg/idmUfN.png HTTPSConnectionPool(host='i.sli.mg', port=443): Max retries exceeded with url: /idmUfN.png (Caused by NewConnectionError('<urllib3.connection.HTTPSConnection object at 0x7f59faa14ee0>: Failed to establish a new connection: [Errno -2] Name or service not known'))\n",
      "Download error: reddit/MapPorn/5hec00 https://i.sli.mg/CkK1NZ.jpg HTTPSConnectionPool(host='i.sli.mg', port=443): Max retries exceeded with url: /CkK1NZ.jpg (Caused by NewConnectionError('<urllib3.connection.HTTPSConnection object at 0x7f59fe5b60d0>: Failed to establish a new connection: [Errno -2] Name or service not known'))\n",
      "Download error: reddit/dataisugly/5hiwsp http://www.lonelyladies.ga HTTPConnectionPool(host='www.lonelyladies.ga', port=80): Max retries exceeded with url: / (Caused by NewConnectionError('<urllib3.connection.HTTPConnection object at 0x7f59faa16130>: Failed to establish a new connection: [Errno -2] Name or service not known'))\n",
      "Download error: reddit/dataisugly/5g3hkt http://www.lonelyladies.ga/ HTTPConnectionPool(host='www.lonelyladies.ga', port=80): Max retries exceeded with url: / (Caused by NewConnectionError('<urllib3.connection.HTTPConnection object at 0x7f59fe5a82b0>: Failed to establish a new connection: [Errno -2] Name or service not known'))\n",
      "Download error: reddit/dataisugly/5epz60 http://is.mediadelivery.io/img/468/cee9d862c60748d88bf91dc966cd3e5f.jpg HTTPConnectionPool(host='is.mediadelivery.io', port=80): Max retries exceeded with url: /img/468/cee9d862c60748d88bf91dc966cd3e5f.jpg (Caused by NewConnectionError('<urllib3.connection.HTTPConnection object at 0x7f59faa19070>: Failed to establish a new connection: [Errno -2] Name or service not known'))\n",
      "Download error: reddit/dataisugly/5chz6p https://my.buket.pw/sdqntjlj.jpg HTTPSConnectionPool(host='my.buket.pw', port=443): Max retries exceeded with url: /sdqntjlj.jpg (Caused by NewConnectionError('<urllib3.connection.HTTPSConnection object at 0x7f59fdd6b940>: Failed to establish a new connection: [Errno -2] Name or service not known'))\n"
     ]
    },
    {
     "name": "stderr",
     "output_type": "stream",
     "text": [
      "ERROR: Video unavailable\n"
     ]
    },
    {
     "name": "stdout",
     "output_type": "stream",
     "text": [
      "Download error: reddit/dataisugly/5af7vs https://qph.ec.quoracdn.net/main-qimg-5d73e421bf0afcf8f206f570b7b48faf?convert_to_webp=true HTTPSConnectionPool(host='qph.ec.quoracdn.net', port=443): Max retries exceeded with url: /main-qimg-5d73e421bf0afcf8f206f570b7b48faf?convert_to_webp=true (Caused by NewConnectionError('<urllib3.connection.HTTPSConnection object at 0x7f59faa21640>: Failed to establish a new connection: [Errno -2] Name or service not known'))\n",
      "Download error: reddit/dataisugly/56ndc8 https://i.sli.mg/wkBbzU.png HTTPSConnectionPool(host='i.sli.mg', port=443): Max retries exceeded with url: /wkBbzU.png (Caused by NewConnectionError('<urllib3.connection.HTTPSConnection object at 0x7f59fde4e1f0>: Failed to establish a new connection: [Errno -2] Name or service not known'))\n",
      "Download error: reddit/dataisugly/567qjy https://postimg.org/image/yn1ewdexr/ HTTPSConnectionPool(host='postimg.org', port=443): Max retries exceeded with url: /image/yn1ewdexr/ (Caused by NewConnectionError('<urllib3.connection.HTTPSConnection object at 0x7f59fed70040>: Failed to establish a new connection: [Errno -5] No address associated with hostname'))\n",
      "Download error: reddit/dataisugly/55mx6q https://1939815004.rsc.cdn77.org/cdn/farfuture/ZcuCMwFsXk93BYad7_c5WkdVdKwpyqFPPKUyQKxQJzQ/mtime:1475242909/sites/default/files/stadium-capacity-europe-map.png HTTPSConnectionPool(host='1939815004.rsc.cdn77.org', port=443): Max retries exceeded with url: /cdn/farfuture/ZcuCMwFsXk93BYad7_c5WkdVdKwpyqFPPKUyQKxQJzQ/mtime:1475242909/sites/default/files/stadium-capacity-europe-map.png (Caused by NewConnectionError('<urllib3.connection.HTTPSConnection object at 0x7f59feb83a30>: Failed to establish a new connection: [Errno -2] Name or service not known'))\n",
      "Download error: reddit/dataisugly/4xzwdt http://imagesgold.com/1471357100.html HTTPConnectionPool(host='imagesgold.com', port=80): Max retries exceeded with url: /1471357100.html (Caused by NewConnectionError('<urllib3.connection.HTTPConnection object at 0x7f59ff7f9610>: Failed to establish a new connection: [Errno -2] Name or service not known'))\n",
      "Download error: reddit/dataisugly/4xb0p1 https://14415-presscdn-0-52-pagely.netdna-ssl.com/wp-content/uploads/2016/08/Newspapers-targeted-1.png HTTPSConnectionPool(host='14415-presscdn-0-52-pagely.netdna-ssl.com', port=443): Max retries exceeded with url: /wp-content/uploads/2016/08/Newspapers-targeted-1.png (Caused by NewConnectionError('<urllib3.connection.HTTPSConnection object at 0x7f59fd453df0>: Failed to establish a new connection: [Errno -2] Name or service not known'))\n",
      "Download error: reddit/dataisugly/4tuhtu http://assets.dose.com/image/upload/v1445884829/prod/images/2683b8c206d9459a1c50ece9d856decc.jpg HTTPConnectionPool(host='assets.dose.com', port=80): Max retries exceeded with url: /image/upload/v1445884829/prod/images/2683b8c206d9459a1c50ece9d856decc.jpg (Caused by NewConnectionError('<urllib3.connection.HTTPConnection object at 0x7f59fd4f8a00>: Failed to establish a new connection: [Errno -2] Name or service not known'))\n",
      "Download error: reddit/dataisugly/4upzxm http://m.imgur.com/7h8hurd Failed to find regex match in html\n",
      "Download error: reddit/dataisugly/4nrwak http://imgur.com/gallery/u8Hl9QN [ImgurDownloader] HTTP Response Code 404\n",
      "Download error: reddit/dataisugly/4kznvt https://twitter.com/CanBorder/status/723506790210633729 'quoted_status'\n",
      "Download error: reddit/dataisugly/4iwj43 http://thesiliconjournal.com/ab-testing-crap-site/ HTTPConnectionPool(host='thesiliconjournal.com', port=80): Max retries exceeded with url: /ab-testing-crap-site/ (Caused by NewConnectionError('<urllib3.connection.HTTPConnection object at 0x7f59fccb8490>: Failed to establish a new connection: [Errno -2] Name or service not known'))\n",
      "Download error: reddit/dataisugly/4em9wl https://townipproject09.wikispaces.com/file/view/graph_food.jpg/70860961/649x418/graph_food.jpg HTTPSConnectionPool(host='townipproject09.wikispaces.com', port=443): Max retries exceeded with url: /file/view/graph_food.jpg/70860961/649x418/graph_food.jpg (Caused by NewConnectionError('<urllib3.connection.HTTPSConnection object at 0x7f59fe4147c0>: Failed to establish a new connection: [Errno -2] Name or service not known'))\n"
     ]
    },
    {
     "name": "stderr",
     "output_type": "stream",
     "text": [
      "ERROR: Video unavailable\n"
     ]
    },
    {
     "name": "stdout",
     "output_type": "stream",
     "text": [
      "Download error: reddit/dataisugly/49mmhe http://6ecpredel.ru HTTPConnectionPool(host='6ecpredel.ru', port=80): Max retries exceeded with url: / (Caused by NewConnectionError('<urllib3.connection.HTTPConnection object at 0x7f59ff8482b0>: Failed to establish a new connection: [Errno -2] Name or service not known'))\n",
      "Download error: reddit/dataisugly/48qa4d http://7493399.com/VnMJ6lDQzL0Ddvn HTTPConnectionPool(host='7493399.com', port=80): Max retries exceeded with url: /VnMJ6lDQzL0Ddvn (Caused by NewConnectionError('<urllib3.connection.HTTPConnection object at 0x7f59fecf2100>: Failed to establish a new connection: [Errno -2] Name or service not known'))\n",
      "Download error: reddit/dataisugly/48p5n6 http://baschai.com/bt2MnI8ES56 HTTPConnectionPool(host='baschai.com', port=80): Max retries exceeded with url: /bt2MnI8ES56 (Caused by NewConnectionError('<urllib3.connection.HTTPConnection object at 0x7f59fcde5490>: Failed to establish a new connection: [Errno -2] Name or service not known'))\n",
      "Download error: reddit/dataisugly/48npmk http://bereberraba.com/HEsYUzir2zW26nV HTTPConnectionPool(host='bereberraba.com', port=80): Max retries exceeded with url: /HEsYUzir2zW26nV (Caused by NewConnectionError('<urllib3.connection.HTTPConnection object at 0x7f59fe3a6070>: Failed to establish a new connection: [Errno -2] Name or service not known'))\n",
      "Download error: reddit/dataisugly/4874nx http://dreamtheteam.com/52620160226.php#cVVX0jE3 HTTPConnectionPool(host='dreamtheteam.com', port=80): Max retries exceeded with url: /52620160226.php (Caused by NewConnectionError('<urllib3.connection.HTTPConnection object at 0x7f59fe3a6d00>: Failed to establish a new connection: [Errno -2] Name or service not known'))\n",
      "Download error: reddit/dataisugly/486cxp http://rtsrealcommerce.com/7720160226.php#p21AUhI HTTPConnectionPool(host='rtsrealcommerce.com', port=80): Max retries exceeded with url: /7720160226.php (Caused by NewConnectionError('<urllib3.connection.HTTPConnection object at 0x7f59fe677f70>: Failed to establish a new connection: [Errno -2] Name or service not known'))\n",
      "Download error: reddit/dataisugly/486rip http://besthoteltvs.com/1220160226.php#ffnKAMTi HTTPConnectionPool(host='besthoteltvs.com', port=80): Max retries exceeded with url: /1220160226.php (Caused by NewConnectionError('<urllib3.connection.HTTPConnection object at 0x7f59faa245e0>: Failed to establish a new connection: [Errno -2] Name or service not known'))\n",
      "Download error: reddit/dataisugly/483rbl http://e-alisverismerkezi.com/19520160226.php#dMrjGwV4 HTTPConnectionPool(host='e-alisverismerkezi.com', port=80): Max retries exceeded with url: /19520160226.php (Caused by NewConnectionError('<urllib3.connection.HTTPConnection object at 0x7f59fb074160>: Failed to establish a new connection: [Errno -2] Name or service not known'))\n",
      "Download error: reddit/dataisugly/485jh1 http://whiplash-info.com/47320160226.php#qkjrekTRRYz HTTPConnectionPool(host='whiplash-info.com', port=80): Max retries exceeded with url: /47320160226.php (Caused by NewConnectionError('<urllib3.connection.HTTPConnection object at 0x7f59faa24f70>: Failed to establish a new connection: [Errno -2] Name or service not known'))\n",
      "Download error: reddit/dataisugly/483h5a http://unicomputadoras.com/44420160226.php#8XrHMHB HTTPConnectionPool(host='unicomputadoras.com', port=80): Max retries exceeded with url: /44420160226.php (Caused by NewConnectionError('<urllib3.connection.HTTPConnection object at 0x7f59fb074ee0>: Failed to establish a new connection: [Errno -2] Name or service not known'))\n",
      "Download error: reddit/dataisugly/4b7p1u http://123flatshare.com/8N6sipIrYOb HTTPConnectionPool(host='123flatshare.com', port=80): Max retries exceeded with url: /8N6sipIrYOb (Caused by NewConnectionError('<urllib3.connection.HTTPConnection object at 0x7f59feabedf0>: Failed to establish a new connection: [Errno -5] No address associated with hostname'))\n",
      "Download error: reddit/dataisugly/4837pz http://freshaquaponics.com/53720160226.php#z3CxYs9ys HTTPConnectionPool(host='freshaquaponics.com', port=80): Max retries exceeded with url: /53720160226.php (Caused by NewConnectionError('<urllib3.connection.HTTPConnection object at 0x7f59fb074760>: Failed to establish a new connection: [Errno -2] Name or service not known'))\n",
      "Download error: reddit/dataisugly/482vok http://xquiset.com/34020160226.php#rJNKD5T HTTPConnectionPool(host='xquiset.com', port=80): Max retries exceeded with url: /34020160226.php (Caused by NewConnectionError('<urllib3.connection.HTTPConnection object at 0x7f59fb074e20>: Failed to establish a new connection: [Errno -2] Name or service not known'))\n",
      "Download error: reddit/dataisugly/47ys83 http://longstoryshortentertainment.com/50820160226.php#MqPyAUMI HTTPConnectionPool(host='longstoryshortentertainment.com', port=80): Max retries exceeded with url: /50820160226.php (Caused by NewConnectionError('<urllib3.connection.HTTPConnection object at 0x7f59fe69d0d0>: Failed to establish a new connection: [Errno -2] Name or service not known'))\n",
      "Download error: reddit/dataisugly/482ab8 http://water4food.com/13820160226.php#Rz9mpP HTTPConnectionPool(host='water4food.com', port=80): Max retries exceeded with url: /13820160226.php (Caused by NewConnectionError('<urllib3.connection.HTTPConnection object at 0x7f59ff848400>: Failed to establish a new connection: [Errno -5] No address associated with hostname'))\n",
      "Download error: reddit/dataisugly/47v4ww http://espacloud.com/7.php#r87YuHR HTTPConnectionPool(host='espacloud.com', port=80): Max retries exceeded with url: /7.php (Caused by NewConnectionError('<urllib3.connection.HTTPConnection object at 0x7f59fcc93d00>: Failed to establish a new connection: [Errno -2] Name or service not known'))\n",
      "Download error: reddit/dataisugly/47wndd http://talonbike.com/305.php#TzODsSok HTTPConnectionPool(host='talonbike.com', port=80): Max retries exceeded with url: /305.php (Caused by NewConnectionError('<urllib3.connection.HTTPConnection object at 0x7f59fcc93d90>: Failed to establish a new connection: [Errno -2] Name or service not known'))\n",
      "Download error: reddit/dataisugly/481rm7 http://consumerguidetomosquitorepellants.com/18420160226.php#UTm6G6 HTTPConnectionPool(host='consumerguidetomosquitorepellants.com', port=80): Max retries exceeded with url: /18420160226.php (Caused by NewConnectionError('<urllib3.connection.HTTPConnection object at 0x7f59fe48cb80>: Failed to establish a new connection: [Errno -2] Name or service not known'))\n",
      "Download error: reddit/dataisugly/482i9v http://albertaimpaireddriving.com/46520160226.php#LJRCioI4PH HTTPConnectionPool(host='albertaimpaireddriving.com', port=80): Max retries exceeded with url: /46520160226.php (Caused by NewConnectionError('<urllib3.connection.HTTPConnection object at 0x7f59fe677df0>: Failed to establish a new connection: [Errno -2] Name or service not known'))\n",
      "Download error: reddit/dataisugly/481mps http://napafutbol.com/36220160226.php#1TIjme HTTPConnectionPool(host='napafutbol.com', port=80): Max retries exceeded with url: /36220160226.php (Caused by NewConnectionError('<urllib3.connection.HTTPConnection object at 0x7f59fe69d040>: Failed to establish a new connection: [Errno -2] Name or service not known'))\n",
      "Download error: reddit/dataisugly/47yt98 http://yoqs.com/29320160226.php#iEzDOiCOt HTTPConnectionPool(host='yoqs.com', port=80): Max retries exceeded with url: /29320160226.php (Caused by NewConnectionError('<urllib3.connection.HTTPConnection object at 0x7f59fecf2550>: Failed to establish a new connection: [Errno -2] Name or service not known'))\n",
      "Download error: reddit/dataisugly/47w2n1 http://superiormotorcycle.com/17.php#oiywLS HTTPConnectionPool(host='superiormotorcycle.com', port=80): Max retries exceeded with url: /17.php (Caused by NewConnectionError('<urllib3.connection.HTTPConnection object at 0x7f59ff8487f0>: Failed to establish a new connection: [Errno -2] Name or service not known'))\n",
      "Download error: reddit/dataisugly/46abao http://moscowwalking.com/r_6K4Z_j HTTPConnectionPool(host='moscowwalking.com', port=80): Max retries exceeded with url: /r_6K4Z_j (Caused by NewConnectionError('<urllib3.connection.HTTPConnection object at 0x7f59fed8f400>: Failed to establish a new connection: [Errno -2] Name or service not known'))\n",
      "Download error: reddit/dataisugly/46k3sz http://sexchat.3eeweb.com HTTPConnectionPool(host='sexchat.3eeweb.com', port=80): Max retries exceeded with url: / (Caused by NewConnectionError('<urllib3.connection.HTTPConnection object at 0x7f59fe2486a0>: Failed to establish a new connection: [Errno -2] Name or service not known'))\n",
      "Download error: reddit/dataisugly/45sp5q http://yashaman.com/yB_9D3n_r_6Q HTTPConnectionPool(host='yashaman.com', port=80): Max retries exceeded with url: /yB_9D3n_r_6Q (Caused by NewConnectionError('<urllib3.connection.HTTPConnection object at 0x7f59fe69d250>: Failed to establish a new connection: [Errno -2] Name or service not known'))\n",
      "Download error: reddit/dataisugly/461rju http://stories.whatsgoodly.com/index.php/2016/02/15/you-wont-believe-what-your-roommate-is-doing-when-youre-not-home/ HTTPConnectionPool(host='stories.whatsgoodly.com', port=80): Max retries exceeded with url: /index.php/2016/02/15/you-wont-believe-what-your-roommate-is-doing-when-youre-not-home/ (Caused by NewConnectionError('<urllib3.connection.HTTPConnection object at 0x7f59fed8f640>: Failed to establish a new connection: [Errno -2] Name or service not known'))\n",
      "Download error: reddit/dataisugly/45qusa http://westdeliverycenter.com/d_6YJ7n_8z_ HTTPConnectionPool(host='westdeliverycenter.com', port=80): Max retries exceeded with url: /d_6YJ7n_8z_ (Caused by NewConnectionError('<urllib3.connection.HTTPConnection object at 0x7f59fe69da60>: Failed to establish a new connection: [Errno -2] Name or service not known'))\n",
      "Download error: reddit/dataisugly/47q3p4 http://visittheiceage.com/C95quR5d6 HTTPConnectionPool(host='visittheiceage.com', port=80): Max retries exceeded with url: /C95quR5d6 (Caused by NewConnectionError('<urllib3.connection.HTTPConnection object at 0x7f59ff848520>: Failed to establish a new connection: [Errno -2] Name or service not known'))\n",
      "Download error: reddit/dataisugly/45k6no http://childrenofstreet.com/2Sb_s_T6 HTTPConnectionPool(host='childrenofstreet.com', port=80): Max retries exceeded with url: /2Sb_s_T6 (Caused by NewConnectionError('<urllib3.connection.HTTPConnection object at 0x7f59fe26d190>: Failed to establish a new connection: [Errno -2] Name or service not known'))\n",
      "Download error: reddit/dataisugly/45h2dm http://aiaansoaataii.eventew.com/ammm1 HTTPConnectionPool(host='aiaansoaataii.eventew.com', port=80): Max retries exceeded with url: /ammm1 (Caused by NewConnectionError('<urllib3.connection.HTTPConnection object at 0x7f59fccf1310>: Failed to establish a new connection: [Errno -2] Name or service not known'))\n",
      "Download error: reddit/dataisugly/46t38g http://bn71k85k8.seo-zona.com/YoEy5 HTTPConnectionPool(host='bn71k85k8.seo-zona.com', port=80): Max retries exceeded with url: /YoEy5 (Caused by NewConnectionError('<urllib3.connection.HTTPConnection object at 0x7f59fe3a6d00>: Failed to establish a new connection: [Errno -2] Name or service not known'))\n",
      "Download error: reddit/dataisugly/45rd0l http://zhilservice77.com/x_5NL4d__iZ79_ HTTPConnectionPool(host='zhilservice77.com', port=80): Max retries exceeded with url: /x_5NL4d__iZ79_ (Caused by NewConnectionError('<urllib3.connection.HTTPConnection object at 0x7f59fe677b50>: Failed to establish a new connection: [Errno -2] Name or service not known'))\n",
      "Download error: reddit/dataisugly/45r83y http://zhilservice77.com/7Ee__3HaD_n9_t2 HTTPConnectionPool(host='zhilservice77.com', port=80): Max retries exceeded with url: /7Ee__3HaD_n9_t2 (Caused by NewConnectionError('<urllib3.connection.HTTPConnection object at 0x7f59fe69d070>: Failed to establish a new connection: [Errno -5] No address associated with hostname'))\n",
      "Download error: reddit/dataisugly/455mxl http://nerabotay.com/mmm1#vx4fy8gb HTTPConnectionPool(host='nerabotay.com', port=80): Max retries exceeded with url: /mmm1 (Caused by NewConnectionError('<urllib3.connection.HTTPConnection object at 0x7f59fccf1190>: Failed to establish a new connection: [Errno -2] Name or service not known'))\n",
      "Download error: reddit/dataisugly/459f5f http://siatsgnsogtgioto.sk-vector.com/mmm1 HTTPConnectionPool(host='siatsgnsogtgioto.sk-vector.com', port=80): Max retries exceeded with url: /mmm1 (Caused by NewConnectionError('<urllib3.connection.HTTPConnection object at 0x7f59fe6774f0>: Failed to establish a new connection: [Errno -2] Name or service not known'))\n",
      "Download error: reddit/dataisugly/45cjnd http://aoatnaanasgdaaa.sxeinject.com/mmm1 HTTPConnectionPool(host='aoatnaanasgdaaa.sxeinject.com', port=80): Max retries exceeded with url: /mmm1 (Caused by NewConnectionError('<urllib3.connection.HTTPConnection object at 0x7f59fe4e4280>: Failed to establish a new connection: [Errno -2] Name or service not known'))\n",
      "Download error: reddit/dataisugly/44v4sw http://forman-tma.com/glaanaiaaaltdalilas HTTPConnectionPool(host='forman-tma.com', port=80): Max retries exceeded with url: /glaanaiaaaltdalilas (Caused by NewConnectionError('<urllib3.connection.HTTPConnection object at 0x7f59fe4e4460>: Failed to establish a new connection: [Errno -2] Name or service not known'))\n",
      "Download error: reddit/dataisugly/45t6t5 http://imgur.com/DtrxS6s Failed to find regex match in html\n",
      "Download error: reddit/dataisugly/44in42 http://d2brer6wwumtdu.cloudfront.net/wp-content/uploads/2015/12/phones-disappear-ericsson.jpg HTTPConnectionPool(host='d2brer6wwumtdu.cloudfront.net', port=80): Max retries exceeded with url: /wp-content/uploads/2015/12/phones-disappear-ericsson.jpg (Caused by NewConnectionError('<urllib3.connection.HTTPConnection object at 0x7f59fed8fa60>: Failed to establish a new connection: [Errno -5] No address associated with hostname'))\n",
      "Download error: reddit/dataisugly/44l15h http://cs-chanse.com/ECnK HTTPConnectionPool(host='cs-chanse.com', port=80): Max retries exceeded with url: /ECnK (Caused by NewConnectionError('<urllib3.connection.HTTPConnection object at 0x7f59fe69dfa0>: Failed to establish a new connection: [Errno -2] Name or service not known'))\n",
      "Download error: reddit/dataisugly/44durd http://33gid.com/UST HTTPConnectionPool(host='33gid.com', port=80): Max retries exceeded with url: /UST (Caused by NewConnectionError('<urllib3.connection.HTTPConnection object at 0x7f59ffefb9d0>: Failed to establish a new connection: [Errno -2] Name or service not known'))\n",
      "Download error: reddit/dataisugly/43qhls http://postimg.org/image/ymkrw0jjx/ HTTPConnectionPool(host='postimg.org', port=80): Max retries exceeded with url: /image/ymkrw0jjx/ (Caused by NewConnectionError('<urllib3.connection.HTTPConnection object at 0x7f59fecf2940>: Failed to establish a new connection: [Errno -5] No address associated with hostname'))\n",
      "Download error: reddit/dataisugly/444udb http://mycoffeebay.com HTTPConnectionPool(host='mycoffeebay.com', port=80): Max retries exceeded with url: / (Caused by NewConnectionError('<urllib3.connection.HTTPConnection object at 0x7f59fcf816a0>: Failed to establish a new connection: [Errno -2] Name or service not known'))\n",
      "Download error: reddit/dataisugly/43mrou http://aaaoaagaasssaagsngt.photo-gid.com HTTPConnectionPool(host='aaaoaagaasssaagsngt.photo-gid.com', port=80): Max retries exceeded with url: / (Caused by NewConnectionError('<urllib3.connection.HTTPConnection object at 0x7f59ff4750d0>: Failed to establish a new connection: [Errno -2] Name or service not known'))\n",
      "Download error: reddit/dataisugly/43kaaa http://saganaodananaloala.smogu-pomogu.com HTTPConnectionPool(host='saganaodananaloala.smogu-pomogu.com', port=80): Max retries exceeded with url: / (Caused by NewConnectionError('<urllib3.connection.HTTPConnection object at 0x7f59feabe730>: Failed to establish a new connection: [Errno -2] Name or service not known'))\n",
      "Download error: reddit/dataisugly/43davu http://ogidsoiastasato.gad-gets.com HTTPConnectionPool(host='ogidsoiastasato.gad-gets.com', port=80): Max retries exceeded with url: / (Caused by NewConnectionError('<urllib3.connection.HTTPConnection object at 0x7f59fcf92640>: Failed to establish a new connection: [Errno -2] Name or service not known'))\n",
      "Download error: reddit/dataisugly/437lzt http://n2ouzsm.vilazka.com HTTPConnectionPool(host='n2ouzsm.vilazka.com', port=80): Max retries exceeded with url: / (Caused by NewConnectionError('<urllib3.connection.HTTPConnection object at 0x7f59feab3100>: Failed to establish a new connection: [Errno -2] Name or service not known'))\n",
      "Download error: reddit/dataisugly/43an8u http://naldidaglaaang.granitadom.com/ HTTPConnectionPool(host='naldidaglaaang.granitadom.com', port=80): Max retries exceeded with url: / (Caused by NewConnectionError('<urllib3.connection.HTTPConnection object at 0x7f59fe4e4280>: Failed to establish a new connection: [Errno -2] Name or service not known'))\n",
      "Download error: reddit/dataisugly/42zjhd http://tliiadaaianllaaoa.eurofreetruck.com/993/ HTTPConnectionPool(host='tliiadaaianllaaoa.eurofreetruck.com', port=80): Max retries exceeded with url: /993/ (Caused by NewConnectionError('<urllib3.connection.HTTPConnection object at 0x7f59fe4e4850>: Failed to establish a new connection: [Errno -2] Name or service not known'))\n",
      "Download error: reddit/dataisugly/42w6w2 http://anksunamun.com/347/algtosliagadiiadti HTTPConnectionPool(host='anksunamun.com', port=80): Max retries exceeded with url: /347/algtosliagadiiadti (Caused by NewConnectionError('<urllib3.connection.HTTPConnection object at 0x7f59fd8ec3d0>: Failed to establish a new connection: [Errno -2] Name or service not known'))\n",
      "Download error: reddit/dataisugly/43v3h0 http://sdddataagnd.handmadefloor.com HTTPConnectionPool(host='sdddataagnd.handmadefloor.com', port=80): Max retries exceeded with url: / (Caused by NewConnectionError('<urllib3.connection.HTTPConnection object at 0x7f59fccd4070>: Failed to establish a new connection: [Errno -2] Name or service not known'))\n",
      "Download error: reddit/dataisugly/43oz42 http://slaaaglolioaaiansna.marahotin.com HTTPConnectionPool(host='slaaaglolioaaiansna.marahotin.com', port=80): Max retries exceeded with url: / (Caused by NewConnectionError('<urllib3.connection.HTTPConnection object at 0x7f59fe677a30>: Failed to establish a new connection: [Errno -2] Name or service not known'))\n",
      "Unknow content-type: text/plain\n",
      "id: 43srgc link: http://aoiinnaaasg.mega-machine.com\n",
      "Download error: reddit/dataisugly/43s69f http://imgur.com/gallery/FTrN74H [ImgurDownloader] HTTP Response Code 404\n",
      "Download error: reddit/dataisugly/40ljpp http://toiaoalsdlaaa.ekoicxoapkjxa.com/toiaoalsdlaaa HTTPConnectionPool(host='toiaoalsdlaaa.ekoicxoapkjxa.com', port=80): Max retries exceeded with url: /toiaoalsdlaaa (Caused by NewConnectionError('<urllib3.connection.HTTPConnection object at 0x7f59fd607940>: Failed to establish a new connection: [Errno -2] Name or service not known'))\n",
      "Download error: reddit/dataisugly/40h09k http://aataoonaa.ixgzaiuxv.com/aataoonaa HTTPConnectionPool(host='aataoonaa.ixgzaiuxv.com', port=80): Max retries exceeded with url: /aataoonaa (Caused by NewConnectionError('<urllib3.connection.HTTPConnection object at 0x7f59fd4fdc70>: Failed to establish a new connection: [Errno -2] Name or service not known'))\n",
      "Download error: reddit/dataisugly/406ui2 http://iodsisngdona.uneijxheu.com/iodsisngdona HTTPConnectionPool(host='iodsisngdona.uneijxheu.com', port=80): Max retries exceeded with url: /iodsisngdona (Caused by NewConnectionError('<urllib3.connection.HTTPConnection object at 0x7f59fd607850>: Failed to establish a new connection: [Errno -2] Name or service not known'))\n",
      "Download error: reddit/dataisugly/3zzghy http://aadtigdado.acqiyjgpui.com/aadtigdado HTTPConnectionPool(host='aadtigdado.acqiyjgpui.com', port=80): Max retries exceeded with url: /aadtigdado (Caused by NewConnectionError('<urllib3.connection.HTTPConnection object at 0x7f59fd6252e0>: Failed to establish a new connection: [Errno -2] Name or service not known'))\n",
      "Download error: reddit/dataisugly/3zomhj http://sharedkitty.top/el_iaogtssi HTTPConnectionPool(host='sharedkitty.top', port=80): Max retries exceeded with url: /el_iaogtssi (Caused by NewConnectionError('<urllib3.connection.HTTPConnection object at 0x7f59ff6246a0>: Failed to establish a new connection: [Errno -2] Name or service not known'))\n",
      "Download error: reddit/dataisugly/3zjdrb http://go.utgkoydi.com/tdnasoladl1 HTTPConnectionPool(host='go.utgkoydi.com', port=80): Max retries exceeded with url: /tdnasoladl1 (Caused by NewConnectionError('<urllib3.connection.HTTPConnection object at 0x7f59feab31c0>: Failed to establish a new connection: [Errno -2] Name or service not known'))\n",
      "Download error: reddit/dataisugly/3yma2e http://go.travelchance10.net/gaiao HTTPConnectionPool(host='go.travelchance10.net', port=80): Max retries exceeded with url: /gaiao (Caused by NewConnectionError('<urllib3.connection.HTTPConnection object at 0x7f59fd609b20>: Failed to establish a new connection: [Errno -2] Name or service not known'))\n",
      "Download error: reddit/dataisugly/3xebos http://d2brer6wwumtdu.cloudfront.net/wp-content/uploads/2015/12/phones-disappear-ericsson.jpg HTTPConnectionPool(host='d2brer6wwumtdu.cloudfront.net', port=80): Max retries exceeded with url: /wp-content/uploads/2015/12/phones-disappear-ericsson.jpg (Caused by NewConnectionError('<urllib3.connection.HTTPConnection object at 0x7f59fcf92af0>: Failed to establish a new connection: [Errno -5] No address associated with hostname'))\n",
      "Download error: reddit/dataisugly/3xytjo http://vizz.ly/blog/exercise_habits.php HTTPConnectionPool(host='vizz.ly', port=80): Max retries exceeded with url: /blog/exercise_habits.php (Caused by NewConnectionError('<urllib3.connection.HTTPConnection object at 0x7f59ff5485b0>: Failed to establish a new connection: [Errno -2] Name or service not known'))\n",
      "Download error: reddit/dataisugly/3zgze0 http://imgur.com/gallery/UXo49fR [ImgurDownloader] HTTP Response Code 404\n",
      "Download error: reddit/dataisugly/3yj8mh http://imgur.com/gallery/ovUTMrt [ImgurDownloader] HTTP Response Code 404\n",
      "Download error: reddit/dataisugly/3wbp3c http://imgur.com/gallery/MQo6sGw [ImgurDownloader] HTTP Response Code 404\n",
      "Unknow content-type: application/octet-stream\n",
      "id: 3wkmlo link: http://www.unz.com/isteve/how-many-would-emigrate-almost-7-billion-people-live-in-countries-poorer-than-us/\n",
      "Download error: reddit/dataisugly/3nb0mr http://imgur.com/8Y1LLYZ Failed to find regex match in html\n",
      "Download error: reddit/dataisugly/3kae7w http://d35lb3dl296zwu.cloudfront.net/uploads/photo/image/21352/apple-iphone-6s-live-_1815.jpg HTTPConnectionPool(host='d35lb3dl296zwu.cloudfront.net', port=80): Max retries exceeded with url: /uploads/photo/image/21352/apple-iphone-6s-live-_1815.jpg (Caused by NewConnectionError('<urllib3.connection.HTTPConnection object at 0x7f59fdcfc430>: Failed to establish a new connection: [Errno -5] No address associated with hostname'))\n",
      "Download error: reddit/dataisugly/3msfc0 http://imgur.com/gallery/zhGVAA0/new [ImgurDownloader] HTTP Response Code 404\n",
      "Download error: reddit/dataisugly/3kbnj7 http://myprofileid758.ssseexxx.tk/dataisugly HTTPConnectionPool(host='myprofileid758.ssseexxx.tk', port=80): Max retries exceeded with url: /dataisugly (Caused by NewConnectionError('<urllib3.connection.HTTPConnection object at 0x7f59fdcfc2b0>: Failed to establish a new connection: [Errno -2] Name or service not known'))\n",
      "Download error: reddit/dataisugly/3jpbaa http://real-dating.org/ep4r5x32.html HTTPConnectionPool(host='real-dating.org', port=80): Max retries exceeded with url: /ep4r5x32.html (Caused by NewConnectionError('<urllib3.connection.HTTPConnection object at 0x7f59fc0c4220>: Failed to establish a new connection: [Errno -2] Name or service not known'))\n",
      "Download error: reddit/dataisugly/3j6zij http://real-sex-adult-dating-site.ru/seks-znakomstva-v-novokuybishevske2104.html HTTPConnectionPool(host='real-sex-adult-dating-site.ru', port=80): Max retries exceeded with url: /seks-znakomstva-v-novokuybishevske2104.html (Caused by NewConnectionError('<urllib3.connection.HTTPConnection object at 0x7f59fd242cd0>: Failed to establish a new connection: [Errno -2] Name or service not known'))\n",
      "Download error: reddit/dataisugly/3j0ivo http://realadultsexdatings.worldoftanksmody097.ru/sayt-znakomstv-tatar3179.html HTTPConnectionPool(host='realadultsexdatings.worldoftanksmody097.ru', port=80): Max retries exceeded with url: /sayt-znakomstv-tatar3179.html (Caused by NewConnectionError('<urllib3.connection.HTTPConnection object at 0x7f59fd242be0>: Failed to establish a new connection: [Errno -2] Name or service not known'))\n",
      "Download error: reddit/dataisugly/3ikoei http://imgur.com/gallery/9elrxtH/new [ImgurDownloader] HTTP Response Code 404\n",
      "Download error: reddit/dataisugly/3jexhx https://www.medmalfirm.com/wp-content/uploads/2015/08/Average_Legal_Salary_Infographic-copy.jpg HTTPSConnectionPool(host='www.medmalfirm.com', port=443): Max retries exceeded with url: /wp-content/uploads/2015/08/Average_Legal_Salary_Infographic-copy.jpg (Caused by SSLError(SSLError(1, '[SSL: TLSV1_ALERT_PROTOCOL_VERSION] tlsv1 alert protocol version (_ssl.c:1123)')))\n",
      "Download error: reddit/dataisugly/3hpmx7 http://clamo.ftdata.co.uk/files/2015-08/20/Kazakh_tenge_per_US_dollar_-line_chart-ft-web-themelarge-600x396.png HTTPConnectionPool(host='clamo.ftdata.co.uk', port=80): Max retries exceeded with url: /files/2015-08/20/Kazakh_tenge_per_US_dollar_-line_chart-ft-web-themelarge-600x396.png (Caused by NewConnectionError('<urllib3.connection.HTTPConnection object at 0x7f59fd9c7430>: Failed to establish a new connection: [Errno -5] No address associated with hostname'))\n",
      "Download error: reddit/dataisugly/3u3ew3 https://twitter.com/realDonaldTrump/status/668520614697820160 'quoted_status'\n",
      "Download error: reddit/dataisugly/3hlx6b http://imgur.com/21nMm9t Failed to find regex match in html\n",
      "Download error: reddit/dataisugly/3ga26q http://blog.unreel.co/2015/08/infographic-what-makes-video-go-viral.html HTTPConnectionPool(host='blog.unreel.co', port=80): Max retries exceeded with url: /2015/08/infographic-what-makes-video-go-viral.html (Caused by NewConnectionError('<urllib3.connection.HTTPConnection object at 0x7f59fdfb85e0>: Failed to establish a new connection: [Errno -2] Name or service not known'))\n",
      "Download error: reddit/dataisugly/3fn9op http://cdn4.scmp.com/sites/default/files/styles/980w/public/2015/05/27/languages.png?itok=vmmQxGE7 HTTPConnectionPool(host='cdn4.scmp.com', port=80): Max retries exceeded with url: /sites/default/files/styles/980w/public/2015/05/27/languages.png?itok=vmmQxGE7 (Caused by NewConnectionError('<urllib3.connection.HTTPConnection object at 0x7f59fc0c4b50>: Failed to establish a new connection: [Errno -2] Name or service not known'))\n",
      "Download error: reddit/dataisugly/3ewlhx http://truthaboutguns-zippykid.netdna-ssl.com/wp-content/uploads/2013/12/HomicideCompare1.jpg HTTPConnectionPool(host='truthaboutguns-zippykid.netdna-ssl.com', port=80): Max retries exceeded with url: /wp-content/uploads/2013/12/HomicideCompare1.jpg (Caused by NewConnectionError('<urllib3.connection.HTTPConnection object at 0x7f59ff259190>: Failed to establish a new connection: [Errno -2] Name or service not known'))\n",
      "Unknow content-type: application/octet-stream\n",
      "id: 3fow34 link: http://www.cdc.gov/mmwr/preview/mmwrhtml/mm6032a3.htm\n",
      "Download error: reddit/dataisugly/3gp3b4 http://front.dadaviz.com/media/viz_images/a-time-lapse-of-the-most-popular-browser-in-each-c-1438778461.28-7500072.gif HTTPConnectionPool(host='front.dadaviz.com', port=80): Max retries exceeded with url: /media/viz_images/a-time-lapse-of-the-most-popular-browser-in-each-c-1438778461.28-7500072.gif (Caused by NewConnectionError('<urllib3.connection.HTTPConnection object at 0x7f59fd9c76d0>: Failed to establish a new connection: [Errno -2] Name or service not known'))\n",
      "Download error: reddit/dataisugly/3p7z4e http://www.jcmit.com/mem2015.htm HTTPConnectionPool(host='www.jcmit.com', port=80): Max retries exceeded with url: /mem2015.htm (Caused by NewConnectionError('<urllib3.connection.HTTPConnection object at 0x7f59fce9e040>: Failed to establish a new connection: [Errno -2] Name or service not known'))\n",
      "Download error: reddit/dataisugly/3dgsur http://www.compesis.com/en/top/country HTTPConnectionPool(host='www.compesis.com', port=80): Max retries exceeded with url: /en/top/country (Caused by NewConnectionError('<urllib3.connection.HTTPConnection object at 0x7f59fe877850>: Failed to establish a new connection: [Errno -2] Name or service not known'))\n"
     ]
    },
    {
     "name": "stderr",
     "output_type": "stream",
     "text": [
      "ERROR: no conn, hlsvp, hlsManifestUrl or url_encoded_fmt_stream_map information found in video info; please report this issue on https://yt-dl.org/bug . Make sure you are using the latest version; see  https://yt-dl.org/update  on how to update. Be sure to call youtube-dl with the --verbose flag and include its complete output.\n",
      "ERROR: Video unavailable\n"
     ]
    },
    {
     "name": "stdout",
     "output_type": "stream",
     "text": [
      "Download error: reddit/dataisugly/3dmg3h http://media.news.harvard.edu/gazette/wp-content/uploads/2015/07/sports_graph_ageNEW_700.jpg HTTPConnectionPool(host='media.news.harvard.edu', port=80): Max retries exceeded with url: /gazette/wp-content/uploads/2015/07/sports_graph_ageNEW_700.jpg (Caused by NewConnectionError('<urllib3.connection.HTTPConnection object at 0x7f59fd3f20a0>: Failed to establish a new connection: [Errno -2] Name or service not known'))\n",
      "Download error: reddit/dataisugly/3bhouj http://fun4funny.com/media/the-republican-chart-on-health-care-reform HTTPConnectionPool(host='fun4funny.com', port=80): Max retries exceeded with url: /media/the-republican-chart-on-health-care-reform (Caused by NewConnectionError('<urllib3.connection.HTTPConnection object at 0x7f59fe996a60>: Failed to establish a new connection: [Errno -2] Name or service not known'))\n",
      "Download error: reddit/dataisugly/3c9u97 http://imgur.com/gallery/k0gXvhG/new [ImgurDownloader] HTTP Response Code 404\n",
      "Download error: reddit/dataisugly/36g2wd http://s2.goldper10.com/800x/upload/2015/04/02/CopKDAKP.png HTTPConnectionPool(host='s2.goldper10.com', port=80): Max retries exceeded with url: /800x/upload/2015/04/02/CopKDAKP.png (Caused by NewConnectionError('<urllib3.connection.HTTPConnection object at 0x7f59ff092970>: Failed to establish a new connection: [Errno -2] Name or service not known'))\n",
      "Download error: reddit/dataisugly/36vg4y http://imgur.com/33FoP7i Failed to find regex match in html\n",
      "Download error: reddit/dataisugly/36vex2 http://imgur.com/33FoP7i Failed to find regex match in html\n",
      "Download error: reddit/dataisugly/35herk http://imgur.com/gallery/azu6xD9/new [ImgurDownloader] HTTP Response Code 404\n",
      "Download error: reddit/dataisugly/34qvxa http://dadaviz.com/i/3970 HTTPConnectionPool(host='dadaviz.com', port=80): Max retries exceeded with url: /i/3970 (Caused by NewConnectionError('<urllib3.connection.HTTPConnection object at 0x7f59ff586430>: Failed to establish a new connection: [Errno -2] Name or service not known'))\n",
      "Download error: reddit/dataisugly/34r8ij http://dadaviz.com/i/3968 HTTPConnectionPool(host='dadaviz.com', port=80): Max retries exceeded with url: /i/3968 (Caused by NewConnectionError('<urllib3.connection.HTTPConnection object at 0x7f59fda29790>: Failed to establish a new connection: [Errno -2] Name or service not known'))\n",
      "Download error: reddit/dataisugly/2zjmdm http://dadaviz.com/i/3619 HTTPConnectionPool(host='dadaviz.com', port=80): Max retries exceeded with url: /i/3619 (Caused by NewConnectionError('<urllib3.connection.HTTPConnection object at 0x7f59fb0a7490>: Failed to establish a new connection: [Errno -2] Name or service not known'))\n",
      "Download error: reddit/dataisugly/2z7jgb http://dadaviz.com/i/3252 HTTPConnectionPool(host='dadaviz.com', port=80): Max retries exceeded with url: /i/3252 (Caused by NewConnectionError('<urllib3.connection.HTTPConnection object at 0x7f59feb7a760>: Failed to establish a new connection: [Errno -2] Name or service not known'))\n",
      "Download error: reddit/dataisugly/2zhhbw http://dadaviz.com/i/3623 HTTPConnectionPool(host='dadaviz.com', port=80): Max retries exceeded with url: /i/3623 (Caused by NewConnectionError('<urllib3.connection.HTTPConnection object at 0x7f59fb0a7df0>: Failed to establish a new connection: [Errno -2] Name or service not known'))\n",
      "Download error: reddit/badpolitics/2z9gbp https://fbcdn-sphotos-b-a.akamaihd.net/hphotos-ak-xap1/v/t1.0-9/1505656_1441561949389226_1307176782_n.jpg?oh=50e73a7690bdd796bb21e02c180654f3&oe=55B2B1CC&__gda__=1433453716_b777ccfa7fde849d0eddecc811d71aa4 HTTPSConnectionPool(host='fbcdn-sphotos-b-a.akamaihd.net', port=443): Max retries exceeded with url: /hphotos-ak-xap1/v/t1.0-9/1505656_1441561949389226_1307176782_n.jpg?oh=50e73a7690bdd796bb21e02c180654f3&oe=55B2B1CC&__gda__=1433453716_b777ccfa7fde849d0eddecc811d71aa4 (Caused by NewConnectionError('<urllib3.connection.HTTPSConnection object at 0x7f59feb7a070>: Failed to establish a new connection: [Errno -2] Name or service not known'))\n",
      "Download error: reddit/dataisugly/2xxt64 http://dadaviz.com/i/3502 HTTPConnectionPool(host='dadaviz.com', port=80): Max retries exceeded with url: /i/3502 (Caused by NewConnectionError('<urllib3.connection.HTTPConnection object at 0x7f59febe0eb0>: Failed to establish a new connection: [Errno -2] Name or service not known'))\n",
      "Download error: reddit/dataisugly/2xymgm http://dadaviz.com/i/3501 HTTPConnectionPool(host='dadaviz.com', port=80): Max retries exceeded with url: /i/3501 (Caused by NewConnectionError('<urllib3.connection.HTTPConnection object at 0x7f59fe3c2550>: Failed to establish a new connection: [Errno -2] Name or service not known'))\n",
      "Download error: reddit/dataisugly/2xa32h http://s15.postimg.org/b6e6bg16j/N_Germanic_Languages.png HTTPConnectionPool(host='s15.postimg.org', port=80): Max retries exceeded with url: /b6e6bg16j/N_Germanic_Languages.png (Caused by NewConnectionError('<urllib3.connection.HTTPConnection object at 0x7f59fe5011f0>: Failed to establish a new connection: [Errno -2] Name or service not known'))\n",
      "Download error: reddit/dataisugly/2wzuzq http://dadaviz.com/i/3381 HTTPConnectionPool(host='dadaviz.com', port=80): Max retries exceeded with url: /i/3381 (Caused by NewConnectionError('<urllib3.connection.HTTPConnection object at 0x7f59fe6cdc10>: Failed to establish a new connection: [Errno -2] Name or service not known'))\n",
      "Download error: reddit/dataisugly/2t9zyr http://www.visualising.org/full-screen/417261 HTTPConnectionPool(host='files.visualizing.org', port=80): Max retries exceeded with url: /index.html (Caused by NewConnectionError('<urllib3.connection.HTTPConnection object at 0x7f59fed3d880>: Failed to establish a new connection: [Errno -2] Name or service not known'))\n",
      "Download error: reddit/dataisugly/2s0g5e http://imgur.com/gallery/xxkoDZo [ImgurDownloader] HTTP Response Code 404\n"
     ]
    },
    {
     "name": "stderr",
     "output_type": "stream",
     "text": [
      "ERROR: This video contains content from LDS, who has blocked it in your country on copyright grounds.\n"
     ]
    },
    {
     "name": "stdout",
     "output_type": "stream",
     "text": [
      "Download error: reddit/dataisugly/2p923e http://imgick.oregonlive.com/home/olive-media/width620/img/collegefootball_impact/photo/16557495-mmmain.png HTTPConnectionPool(host='imgick.oregonlive.com', port=80): Max retries exceeded with url: /home/olive-media/width620/img/collegefootball_impact/photo/16557495-mmmain.png (Caused by NewConnectionError('<urllib3.connection.HTTPConnection object at 0x7f59fbc6b310>: Failed to establish a new connection: [Errno -5] No address associated with hostname'))\n",
      "Download error: reddit/dataisugly/2otxaa http://s3-ak.buzzfeed.com/static/2014-11/21/15/enhanced/webdr03/anigif_enhanced-32153-1416601181-22.gif HTTPConnectionPool(host='s3-ak.buzzfeed.com', port=80): Max retries exceeded with url: /static/2014-11/21/15/enhanced/webdr03/anigif_enhanced-32153-1416601181-22.gif (Caused by NewConnectionError('<urllib3.connection.HTTPConnection object at 0x7f59fbc9cc40>: Failed to establish a new connection: [Errno -2] Name or service not known'))\n",
      "Download error: reddit/dataisugly/beivt8 https://www.seattletimes.com/seattle-news/politics/permanent-daylight-saving-time-in-washington-gets-closer-with-senate-approval/ HTTPSConnectionPool(host='www.seattletimes.com', port=443): Read timed out. (read timeout=60)\n",
      "Download error: reddit/dataisugly/2m3j1g http://dadaviz.com/i/1804 HTTPConnectionPool(host='dadaviz.com', port=80): Max retries exceeded with url: /i/1804 (Caused by NewConnectionError('<urllib3.connection.HTTPConnection object at 0x7f59fd5e9b20>: Failed to establish a new connection: [Errno -2] Name or service not known'))\n",
      "Download error: reddit/dataisugly/2lgmps http://img.qz.com/2014/11/screen-shot-2014-11-06-at-12-29-37-pm.png HTTPConnectionPool(host='img.qz.com', port=80): Max retries exceeded with url: /2014/11/screen-shot-2014-11-06-at-12-29-37-pm.png (Caused by NewConnectionError('<urllib3.connection.HTTPConnection object at 0x7f59fb013d60>: Failed to establish a new connection: [Errno -2] Name or service not known'))\n",
      "Download error: reddit/dataisugly/2f2ewv http://www.vaporizednw.com/wp-content/uploads/2014/07/OSHA.jpg HTTPConnectionPool(host='www.vaporizednw.com', port=80): Max retries exceeded with url: /wp-content/uploads/2014/07/OSHA.jpg (Caused by NewConnectionError('<urllib3.connection.HTTPConnection object at 0x7f59ff360ca0>: Failed to establish a new connection: [Errno -2] Name or service not known'))\n",
      "Download error: reddit/dataisugly/2eee46 http://arabtek.quazen.com/kids-and-teens/college-life/10-things-you-need-to-know-before-going-to-college-2/ HTTPConnectionPool(host='arabtek.quazen.com', port=80): Max retries exceeded with url: /kids-and-teens/college-life/10-things-you-need-to-know-before-going-to-college-2/ (Caused by NewConnectionError('<urllib3.connection.HTTPConnection object at 0x7f5a1c122970>: Failed to establish a new connection: [Errno -2] Name or service not known'))\n",
      "Download error: reddit/dataisugly/2b8dxz http://media2.policymic.com/a7f8683aa89e747c100864ab2b098e50.gif HTTPConnectionPool(host='media2.policymic.com', port=80): Max retries exceeded with url: /a7f8683aa89e747c100864ab2b098e50.gif (Caused by NewConnectionError('<urllib3.connection.HTTPConnection object at 0x7f59fd0267f0>: Failed to establish a new connection: [Errno -2] Name or service not known'))\n",
      "Download error: reddit/dataisugly/2ak914 http://themazzman.imgur.com/all/ URL must be a valid Imgur Album\n",
      "Download error: reddit/dataisugly/29zxab https://fbcdn-sphotos-a-a.akamaihd.net/hphotos-ak-xfa1/t1.0-9/10530866_10152581272476081_4641207393014441201_n.jpg HTTPSConnectionPool(host='fbcdn-sphotos-a-a.akamaihd.net', port=443): Max retries exceeded with url: /hphotos-ak-xfa1/t1.0-9/10530866_10152581272476081_4641207393014441201_n.jpg (Caused by NewConnectionError('<urllib3.connection.HTTPSConnection object at 0x7f59fb007370>: Failed to establish a new connection: [Errno -2] Name or service not known'))\n",
      "Download error: reddit/dataisugly/27nqgy http://cdn29.elitedaily.com/wp-content/uploads/2014/06/13.jpg HTTPConnectionPool(host='cdn29.elitedaily.com', port=80): Max retries exceeded with url: /wp-content/uploads/2014/06/13.jpg (Caused by NewConnectionError('<urllib3.connection.HTTPConnection object at 0x7f59fb008ac0>: Failed to establish a new connection: [Errno -2] Name or service not known'))\n",
      "Download error: reddit/dataisugly/27dvsm http://blog.metrotrends.org/2014/06/gses-serve-minority-borrowers/ HTTPConnectionPool(host='blog.metrotrends.org', port=80): Max retries exceeded with url: /2014/06/gses-serve-minority-borrowers/ (Caused by NewConnectionError('<urllib3.connection.HTTPConnection object at 0x7f5a1c309cd0>: Failed to establish a new connection: [Errno -2] Name or service not known'))\n",
      "Download error: reddit/dataisugly/25rwp3 http://i6.minus.com/ibrNKbHOSqfSpz.png HTTPConnectionPool(host='i6.minus.com', port=80): Max retries exceeded with url: /ibrNKbHOSqfSpz.png (Caused by NewConnectionError('<urllib3.connection.HTTPConnection object at 0x7f59fb07f340>: Failed to establish a new connection: [Errno -2] Name or service not known'))\n",
      "Download error: reddit/dataisugly/21um73 https://fbcdn-sphotos-d-a.akamaihd.net/hphotos-ak-prn2/t1.0-9/10154448_10151982322081167_17812843_n.jpg HTTPSConnectionPool(host='fbcdn-sphotos-d-a.akamaihd.net', port=443): Max retries exceeded with url: /hphotos-ak-prn2/t1.0-9/10154448_10151982322081167_17812843_n.jpg (Caused by NewConnectionError('<urllib3.connection.HTTPSConnection object at 0x7f59fb07cf70>: Failed to establish a new connection: [Errno -2] Name or service not known'))\n",
      "Download error: reddit/dataisugly/1xfoxl http://geekmovi.es/2014/02/whats-up-with-my-imdb-ratings/ HTTPConnectionPool(host='geekmovi.es', port=80): Max retries exceeded with url: /2014/02/whats-up-with-my-imdb-ratings/ (Caused by NewConnectionError('<urllib3.connection.HTTPConnection object at 0x7f59fe1782e0>: Failed to establish a new connection: [Errno -2] Name or service not known'))\n",
      "Download error: reddit/dataisugly/1wg50z http://www-deadline-com.vimg.net/wp-content/uploads/2014/01/Comcast-4__140128130930.png HTTPConnectionPool(host='www-deadline-com.vimg.net', port=80): Max retries exceeded with url: /wp-content/uploads/2014/01/Comcast-4__140128130930.png (Caused by NewConnectionError('<urllib3.connection.HTTPConnection object at 0x7f59fb069ac0>: Failed to establish a new connection: [Errno -2] Name or service not known'))\n"
     ]
    },
    {
     "name": "stderr",
     "output_type": "stream",
     "text": [
      "ERROR: This video contains content from LDS, who has blocked it in your country on copyright grounds.\n"
     ]
    },
    {
     "name": "stdout",
     "output_type": "stream",
     "text": [
      "Download error: reddit/dataisugly/1ikd99 https://fbcdn-sphotos-f-a.akamaihd.net/hphotos-ak-ash3/1045146_630143970339951_1199520085_n.jpg HTTPSConnectionPool(host='fbcdn-sphotos-f-a.akamaihd.net', port=443): Max retries exceeded with url: /hphotos-ak-ash3/1045146_630143970339951_1199520085_n.jpg (Caused by NewConnectionError('<urllib3.connection.HTTPSConnection object at 0x7f59fe1787f0>: Failed to establish a new connection: [Errno -2] Name or service not known'))\n",
      "Download error: reddit/dataisugly/1kya1t http://imgur.com/y9SzZaG Failed to find regex match in html\n",
      "Download error: reddit/dataisugly/1ktavo http://m.imgur.com/6K4Wked Failed to find regex match in html\n",
      "Download error: reddit/dataisugly/13ozj8 http://media.smashingmagazine.com/wp-content/uploads/2010/04/food-pyramid.jpg HTTPConnectionPool(host='media.smashingmagazine.com', port=80): Max retries exceeded with url: /wp-content/uploads/2010/04/food-pyramid.jpg (Caused by NewConnectionError('<urllib3.connection.HTTPConnection object at 0x7f59fbb03fd0>: Failed to establish a new connection: [Errno -2] Name or service not known'))\n",
      "Unknow content-type: application/x-empty\n",
      "id: kgo2yh link: https://vm.tiktok.com/ZMJp2CN2J/\n",
      "Download error: reddit/dataisugly/79c4xn https://jobsearch.direct.gov.uk/JobSearch/PowerSearch.aspx?redirect=http%3A%2F%2Fjobsearch.direct.gov.uk%2Fhome.aspx&pp=25&pg=1&tjt=%EB%B6%80%EC%B2%9C%EA%B1%B4%EB%A7%88%20%EC%B5%9C%EA%B3%A0%EC%9D%B8%EB%8D%B0%20%EB%B6%80%EC%B2%9C%EC%97%AD%EA%B1%B4%EB%A7%88%20%5BB%EF%BD%81%E2%93%9C%EF%BD%90%EF%BD%85%E2%93%A1%EF%BD%8F%EF%BD%92.c%D0%BE%E2%85%BF%5D%EB%B0%B1%ED%94%84%EB%A1%9C%EC%A0%95%EB%B3%B4%20%EB%B0%A4%EC%9D%98%ED%99%A9%EC%A0%9C%EC%97%90%EC%84%9C%20%EB%86%80%EB%8B%A4%EA%B0%80%20%EA%B0%80%EC%84%B8%EC%9A%94%20yesye%20%EB%B6%80%EC%B2%9C%EC%97%AD%EA%B1%B4%EB%A7%88%20%EB%B6%80%EC%B2%9C%EC%95%88%EB%A7%88%20%EB%B6%80%EC%B2%9C%EB%A7%88%EC%82%AC%EC%A7%80%20%EB%B6%80%EC%B2%9C%EA%B1%B4%EB%A7%88%EC%B6%94%EC%B2%9C%20%EB%B6%80%EC%B2%9C%EA%B1%B4%EB%A7%88%EB%B0%A9&sort=rv.dt.di&re=134 HTTPSConnectionPool(host='jobsearch.direct.gov.uk', port=443): Max retries exceeded with url: /JobSearch/PowerSearch.aspx?redirect=http%3A%2F%2Fjobsearch.direct.gov.uk%2Fhome.aspx&pp=25&pg=1&tjt=%EB%B6%80%EC%B2%9C%EA%B1%B4%EB%A7%88%20%EC%B5%9C%EA%B3%A0%EC%9D%B8%EB%8D%B0%20%EB%B6%80%EC%B2%9C%EC%97%AD%EA%B1%B4%EB%A7%88%20%5BB%EF%BD%81%E2%93%9C%EF%BD%90%EF%BD%85%E2%93%A1%EF%BD%8F%EF%BD%92.c%D0%BE%E2%85%BF%5D%EB%B0%B1%ED%94%84%EB%A1%9C%EC%A0%95%EB%B3%B4%20%EB%B0%A4%EC%9D%98%ED%99%A9%EC%A0%9C%EC%97%90%EC%84%9C%20%EB%86%80%EB%8B%A4%EA%B0%80%20%EA%B0%80%EC%84%B8%EC%9A%94%20yesye%20%EB%B6%80%EC%B2%9C%EC%97%AD%EA%B1%B4%EB%A7%88%20%EB%B6%80%EC%B2%9C%EC%95%88%EB%A7%88%20%EB%B6%80%EC%B2%9C%EB%A7%88%EC%82%AC%EC%A7%80%20%EB%B6%80%EC%B2%9C%EA%B1%B4%EB%A7%88%EC%B6%94%EC%B2%9C%20%EB%B6%80%EC%B2%9C%EA%B1%B4%EB%A7%88%EB%B0%A9&sort=rv.dt.di&re=134 (Caused by SSLError(SSLError(1, '[SSL: WRONG_VERSION_NUMBER] wrong version number (_ssl.c:1123)')))\n"
     ]
    },
    {
     "name": "stderr",
     "output_type": "stream",
     "text": [
      "ERROR: Video unavailable\n"
     ]
    },
    {
     "name": "stdout",
     "output_type": "stream",
     "text": [
      "Download error: reddit/dataisugly/jtl9wi https://imgur.com/09xM6Qc Failed to find regex match in html\n",
      "Download error: reddit/dataisugly/jq4hgz https://imgur.com/LFX6ibE Failed to find regex match in html\n",
      "Download error: reddit/dataisugly/jlckuw https://imgur.com/K2UYZOU Failed to find regex match in html\n"
     ]
    },
    {
     "name": "stderr",
     "output_type": "stream",
     "text": [
      "ERROR: Video unavailable\n"
     ]
    },
    {
     "name": "stdout",
     "output_type": "stream",
     "text": [
      "Download error: reddit/dataisugly/jcksw4 https://imgur.com/0Pl89Ds Failed to find regex match in html\n",
      "Download error: reddit/dataisugly/ira7bb https://imgur.com/acsgb64 Failed to find regex match in html\n",
      "Download error: reddit/dataisugly/5rar7a http://blogs-images.forbes.com/stevekeen/files/2016/03/image022.jpg?width=960 HTTPSConnectionPool(host='damapi.forbes.com', port=443): Max retries exceeded with url: /dam/stevekeen/files/2016/03/image022.jpg?width=960 (Caused by SSLError(SSLError(1, '[SSL: WRONG_VERSION_NUMBER] wrong version number (_ssl.c:1123)')))\n",
      "Download error: reddit/dataisugly/5t4mhd http://blogs-images.forbes.com/prestoncooper2/files/2017/01/Chetty.jpg?width=960 HTTPSConnectionPool(host='damapi.forbes.com', port=443): Max retries exceeded with url: /dam/prestoncooper2/files/2017/01/Chetty.jpg?width=960 (Caused by SSLError(SSLError(1, '[SSL: WRONG_VERSION_NUMBER] wrong version number (_ssl.c:1123)')))\n",
      "Download error: reddit/dataisugly/iit3uy https://imgur.com/SzzmVtJ Failed to find regex match in html\n"
     ]
    },
    {
     "name": "stderr",
     "output_type": "stream",
     "text": [
      "ERROR: Video unavailable\n",
      "ERROR: Video unavailable\n",
      "ERROR: Video unavailable\n"
     ]
    },
    {
     "name": "stdout",
     "output_type": "stream",
     "text": [
      "Download error: reddit/dataisugly/ibeyzx https://imgur.com/IFdouRY Failed to find regex match in html\n",
      "Download error: reddit/dataisugly/i5tbrh https://imgur.com/GMkSOB2 Failed to find regex match in html\n",
      "Download error: reddit/dataisugly/i2f54d https://imgur.com/i9vTGRk Failed to find regex match in html\n",
      "Download error: reddit/dataisugly/hwjc31 https://imgur.com/dFGsuLW Failed to find regex match in html\n",
      "Download error: reddit/dataisugly/hsphea https://imgur.com/EdhGFYg Failed to find regex match in html\n",
      "Download error: reddit/dataisugly/hpj8fr https://imgur.com/738wzXO Failed to find regex match in html\n",
      "Download error: reddit/dataisugly/hp3zzg https://imgur.com/xT5TtSz Failed to find regex match in html\n",
      "Download error: reddit/dataisugly/hllavf https://imgur.com/HStloY7 Failed to find regex match in html\n"
     ]
    },
    {
     "name": "stderr",
     "output_type": "stream",
     "text": [
      "ERROR: Video unavailable\n"
     ]
    },
    {
     "name": "stdout",
     "output_type": "stream",
     "text": [
      "Download error: reddit/dataisugly/hk8hku https://imgur.com/TvQx929 Failed to find regex match in html\n",
      "Download error: reddit/dataisugly/hfh7tj https://imgur.com/A9EX8hM Failed to find regex match in html\n",
      "Download error: reddit/india/hf6k98 https://imgur.com/A9EX8hM Failed to find regex match in html\n"
     ]
    },
    {
     "name": "stderr",
     "output_type": "stream",
     "text": [
      "ERROR: Video unavailable\n",
      "ERROR: Video unavailable\n"
     ]
    },
    {
     "name": "stdout",
     "output_type": "stream",
     "text": [
      "Download error: reddit/dataisugly/gyppkn https://imgur.com/SsxR4eU Failed to find regex match in html\n"
     ]
    },
    {
     "name": "stderr",
     "output_type": "stream",
     "text": [
      "ERROR: Video unavailable\n",
      "ERROR: Video unavailable\n",
      "ERROR: Video unavailable\n",
      "ERROR: Video unavailable\n",
      "ERROR: Video unavailable\n"
     ]
    },
    {
     "name": "stdout",
     "output_type": "stream",
     "text": [
      "Download error: reddit/dataisugly/gfhcua https://www.web-learning.tech/2020/05/learn-machine-learning-from-scratch.html HTTPSConnectionPool(host='www.web-learning.tech', port=443): Max retries exceeded with url: /2020/05/learn-machine-learning-from-scratch.html (Caused by NewConnectionError('<urllib3.connection.HTTPSConnection object at 0x7f59faa22d90>: Failed to establish a new connection: [Errno -2] Name or service not known'))\n"
     ]
    },
    {
     "name": "stderr",
     "output_type": "stream",
     "text": [
      "ERROR: Video unavailable\n",
      "ERROR: Video unavailable\n",
      "ERROR: Video unavailable\n",
      "ERROR: Video unavailable\n",
      "ERROR: Video unavailable\n",
      "ERROR: Video unavailable\n",
      "ERROR: no conn, hlsvp, hlsManifestUrl or url_encoded_fmt_stream_map information found in video info; please report this issue on https://yt-dl.org/bug . Make sure you are using the latest version; see  https://yt-dl.org/update  on how to update. Be sure to call youtube-dl with the --verbose flag and include its complete output.\n",
      "ERROR: no conn, hlsvp, hlsManifestUrl or url_encoded_fmt_stream_map information found in video info; please report this issue on https://yt-dl.org/bug . Make sure you are using the latest version; see  https://yt-dl.org/update  on how to update. Be sure to call youtube-dl with the --verbose flag and include its complete output.\n"
     ]
    },
    {
     "name": "stdout",
     "output_type": "stream",
     "text": [
      "Download error: reddit/dataisugly/g2fh6y https://imgur.com/dtKJGyD Failed to find regex match in html\n"
     ]
    },
    {
     "name": "stderr",
     "output_type": "stream",
     "text": [
      "ERROR: Video unavailable\n",
      "ERROR: Video unavailable\n",
      "ERROR: Video unavailable\n",
      "ERROR: Video unavailable\n",
      "ERROR: Video unavailable\n"
     ]
    },
    {
     "name": "stdout",
     "output_type": "stream",
     "text": [
      "Download error: reddit/dataisugly/fv8n2m https://imgur.com/Wzf8CH2 Failed to find regex match in html\n"
     ]
    },
    {
     "name": "stderr",
     "output_type": "stream",
     "text": [
      "ERROR: Video unavailable\n",
      "ERROR: Video unavailable\n",
      "ERROR: Video unavailable\n",
      "ERROR: Video unavailable\n"
     ]
    },
    {
     "name": "stdout",
     "output_type": "stream",
     "text": [
      "Download error: reddit/dataisugly/fqau2g https://imgur.com/zPXQpTq Failed to find regex match in html\n"
     ]
    },
    {
     "name": "stderr",
     "output_type": "stream",
     "text": [
      "ERROR: Video unavailable\n",
      "ERROR: Video unavailable\n",
      "ERROR: no conn, hlsvp, hlsManifestUrl or url_encoded_fmt_stream_map information found in video info; please report this issue on https://yt-dl.org/bug . Make sure you are using the latest version; see  https://yt-dl.org/update  on how to update. Be sure to call youtube-dl with the --verbose flag and include its complete output.\n",
      "ERROR: Video unavailable\n",
      "ERROR: Video unavailable\n",
      "ERROR: Video unavailable\n",
      "ERROR: Video unavailable\n"
     ]
    },
    {
     "name": "stdout",
     "output_type": "stream",
     "text": [
      "Download error: reddit/COVID19/fhyyjm http://2020corona.duckdns.org/?Italy&Iran&Germany HTTPConnectionPool(host='2020corona.duckdns.org', port=80): Max retries exceeded with url: /?Italy&Iran&Germany (Caused by NewConnectionError('<urllib3.connection.HTTPConnection object at 0x7f59fb28fb50>: Failed to establish a new connection: [Errno -2] Name or service not known'))\n",
      "Download error: reddit/dataisugly/fj04tz http://2020corona.duckdns.org/?Italy&Iran&Germany HTTPConnectionPool(host='2020corona.duckdns.org', port=80): Max retries exceeded with url: /?Italy&Iran&Germany (Caused by NewConnectionError('<urllib3.connection.HTTPConnection object at 0x7f59fd1eebb0>: Failed to establish a new connection: [Errno -5] No address associated with hostname'))\n"
     ]
    },
    {
     "name": "stderr",
     "output_type": "stream",
     "text": [
      "ERROR: Video unavailable\n"
     ]
    },
    {
     "name": "stdout",
     "output_type": "stream",
     "text": [
      "Download error: reddit/dataisugly/fhwn77 https://imgur.com/kDTghxr Failed to find regex match in html\n",
      "Download error: reddit/dataisugly/fgerr2 https://imgur.com/CAkadYM Failed to find regex match in html\n",
      "Download error: reddit/dataisugly/36g80c http://www.miamiherald.com/news/local/community/miami-dade/article21040056.html HTTPConnectionPool(host='www.miamiherald.com', port=80): Read timed out. (read timeout=60)\n"
     ]
    },
    {
     "name": "stderr",
     "output_type": "stream",
     "text": [
      "ERROR: Video unavailable\n",
      "ERROR: Video unavailable\n",
      "ERROR: Video unavailable\n"
     ]
    },
    {
     "name": "stdout",
     "output_type": "stream",
     "text": [
      "\n",
      "Unknow content-type: text/plain\n",
      "id: ejl7vd link: https://xkcd.com/1127/large/\n",
      "Download error: reddit/dataisugly/2e07bl http://blogs-images.forbes.com/dandiamond/files/2014/08/ALS2a.png HTTPSConnectionPool(host='damapi.forbes.com', port=443): Max retries exceeded with url: /dam/dandiamond/files/2014/08/ALS2a.png (Caused by SSLError(SSLError(1, '[SSL: WRONG_VERSION_NUMBER] wrong version number (_ssl.c:1123)')))\n"
     ]
    }
   ],
   "source": [
    "dl_external_link_results = parallel(download_post_image, posts.find(),\n",
    "                                    params_dict={'t': 'external_link', 'outdir': 'external_link'},\n",
    "                                    total=posts.estimated_document_count(),\n",
    "                                    n_jobs=20)"
   ]
  },
  {
   "cell_type": "code",
   "execution_count": 27,
   "metadata": {},
   "outputs": [
    {
     "data": {
      "application/vnd.jupyter.widget-view+json": {
       "model_id": "81585b03fe2241b4a92e23ecbb2ae332",
       "version_major": 2,
       "version_minor": 0
      },
      "text/plain": [
       "HBox(children=(FloatProgress(value=1.0, bar_style='info', layout=Layout(width='20px'), max=1.0), HTML(value=''…"
      ]
     },
     "metadata": {},
     "output_type": "display_data"
    },
    {
     "name": "stdout",
     "output_type": "stream",
     "text": [
      "\n",
      "Download error: reddit/dataisugly/fj04tz http://2020corona.duckdns.org/?Italy&amp;Iran&amp;Germany HTTPConnectionPool(host='2020corona.duckdns.org', port=80): Max retries exceeded with url: /?Italy&amp;Iran&amp;Germany (Caused by NewConnectionError('<urllib3.connection.HTTPConnection object at 0x7f59ff23d070>: Failed to establish a new connection: [Errno -2] Name or service not known'))\n",
      "Download error: reddit/dataisugly/79c4xn https://jobsearch.direct.gov.uk/JobSearch/PowerSearch.aspx?redirect=http%3A%2F%2Fjobsearch.direct.gov.uk%2Fhome.aspx&amp;pp=25&amp;pg=1&amp;tjt=%EB%B6%80%EC%B2%9C%EA%B1%B4%EB%A7%88%20%EC%B5%9C%EA%B3%A0%EC%9D%B8%EB%8D%B0%20%EB%B6%80%EC%B2%9C%EC%97%AD%EA%B1%B4%EB%A7%88%20%5BB%EF%BD%81%E2%93%9C%EF%BD%90%EF%BD%85%E2%93%A1%EF%BD%8F%EF%BD%92.c%D0%BE%E2%85%BF%5D%EB%B0%B1%ED%94%84%EB%A1%9C%EC%A0%95%EB%B3%B4%20%EB%B0%A4%EC%9D%98%ED%99%A9%EC%A0%9C%EC%97%90%EC%84%9C%20%EB%86%80%EB%8B%A4%EA%B0%80%20%EA%B0%80%EC%84%B8%EC%9A%94%20yesye%20%EB%B6%80%EC%B2%9C%EC%97%AD%EA%B1%B4%EB%A7%88%20%EB%B6%80%EC%B2%9C%EC%95%88%EB%A7%88%20%EB%B6%80%EC%B2%9C%EB%A7%88%EC%82%AC%EC%A7%80%20%EB%B6%80%EC%B2%9C%EA%B1%B4%EB%A7%88%EC%B6%94%EC%B2%9C%20%EB%B6%80%EC%B2%9C%EA%B1%B4%EB%A7%88%EB%B0%A9&amp;sort=rv.dt.di&amp;re=134 HTTPSConnectionPool(host='jobsearch.direct.gov.uk', port=443): Read timed out. (read timeout=60)\n"
     ]
    }
   ],
   "source": [
    "dl_external_link_alt_results = parallel(download_post_image,\n",
    "                                        posts.find({'external_link_alt': {'$ne': None}}),\n",
    "                                        params_dict={'t': 'external_link_alt', 'outdir': 'external_link_alt'},\n",
    "                                        n_jobs=20)"
   ]
  },
  {
   "cell_type": "markdown",
   "metadata": {},
   "source": [
    "## Download Results"
   ]
  },
  {
   "cell_type": "code",
   "execution_count": 28,
   "metadata": {},
   "outputs": [],
   "source": [
    "dl_results = [\n",
    "    (dl_preview_results, dlpreviewresults),\n",
    "    (dl_thumbnail_results, dlthumbnailresults),\n",
    "    (dl_external_link_results, dlexternalresults),\n",
    "    (dl_preview_alt_results, dlpreviewaltresults),\n",
    "    (dl_thumbnail_alt_results, dlthumbnailaltresults),\n",
    "    (dl_external_link_alt_results, dlexternalaltresults)\n",
    "]\n",
    "\n",
    "for results, outdb in dl_results:\n",
    "    for r in results:\n",
    "        r['dest'] = str(r['dest'])\n",
    "\n",
    "    outdb.drop()\n",
    "    outdb.insert_many(results)"
   ]
  },
  {
   "cell_type": "code",
   "execution_count": 29,
   "metadata": {},
   "outputs": [
    {
     "data": {
      "text/plain": [
       "Counter({'downloaded': 3119,\n",
       "         'invalid_url': 2806,\n",
       "         'exists': 5283,\n",
       "         'not_found': 8,\n",
       "         'skip': 1})"
      ]
     },
     "execution_count": 29,
     "metadata": {},
     "output_type": "execute_result"
    }
   ],
   "source": [
    "Counter([r['status'] for r in dl_preview_results])"
   ]
  },
  {
   "cell_type": "code",
   "execution_count": 30,
   "metadata": {},
   "outputs": [
    {
     "data": {
      "text/plain": [
       "Counter({'http_error': 2386, 'exists': 2725, 'not_found': 50})"
      ]
     },
     "execution_count": 30,
     "metadata": {},
     "output_type": "execute_result"
    }
   ],
   "source": [
    "Counter([r['status'] for r in dl_preview_alt_results])"
   ]
  },
  {
   "cell_type": "code",
   "execution_count": 31,
   "metadata": {},
   "outputs": [
    {
     "data": {
      "text/plain": [
       "Counter({'downloaded': 3111,\n",
       "         'invalid_url': 2778,\n",
       "         'exists': 5304,\n",
       "         'not_found': 23,\n",
       "         'skip': 1})"
      ]
     },
     "execution_count": 31,
     "metadata": {},
     "output_type": "execute_result"
    }
   ],
   "source": [
    "Counter([r['status'] for r in dl_thumbnail_results])"
   ]
  },
  {
   "cell_type": "code",
   "execution_count": 32,
   "metadata": {},
   "outputs": [
    {
     "data": {
      "text/plain": [
       "Counter({'not_found': 330, 'exists': 3118, 'downloaded': 496})"
      ]
     },
     "execution_count": 32,
     "metadata": {},
     "output_type": "execute_result"
    }
   ],
   "source": [
    "Counter([r['status'] for r in dl_thumbnail_alt_results])"
   ]
  },
  {
   "cell_type": "code",
   "execution_count": 33,
   "metadata": {},
   "outputs": [
    {
     "data": {
      "text/plain": [
       "Counter({'invalid_url': 2389,\n",
       "         'exists': 5534,\n",
       "         'not_found': 722,\n",
       "         'skip_content_type': 543,\n",
       "         'youtube_video_longer_than_30s': 204,\n",
       "         'youtube_error': 67,\n",
       "         'reddit_invalid_image_url': 283,\n",
       "         'http_error': 157,\n",
       "         'twitter_tweet_not_found': 16,\n",
       "         'download_error': 212,\n",
       "         'skip_vimeo': 2,\n",
       "         'downloaded': 1076,\n",
       "         'tumblr_tweet_not_found': 2,\n",
       "         'skip': 1,\n",
       "         'invalid_content_type': 5,\n",
       "         'tumblr_invalid_image_url': 2,\n",
       "         'skip_youtube': 2})"
      ]
     },
     "execution_count": 33,
     "metadata": {},
     "output_type": "execute_result"
    }
   ],
   "source": [
    "Counter([r['status'] for r in dl_external_link_results])"
   ]
  },
  {
   "cell_type": "code",
   "execution_count": 34,
   "metadata": {},
   "outputs": [
    {
     "data": {
      "text/plain": [
       "Counter({'exists': 88,\n",
       "         'http_error': 92,\n",
       "         'skip_content_type': 71,\n",
       "         'not_found': 35,\n",
       "         'download_error': 2,\n",
       "         'downloaded': 3})"
      ]
     },
     "execution_count": 34,
     "metadata": {},
     "output_type": "execute_result"
    }
   ],
   "source": [
    "Counter([r['status'] for r in dl_external_link_alt_results])"
   ]
  },
  {
   "cell_type": "code",
   "execution_count": 35,
   "metadata": {},
   "outputs": [
    {
     "data": {
      "text/plain": [
       "[]"
      ]
     },
     "execution_count": 35,
     "metadata": {},
     "output_type": "execute_result"
    }
   ],
   "source": [
    "[r for r in dlexternalresults.find({'status': 'imgur_dne'})]"
   ]
  },
  {
   "cell_type": "code",
   "execution_count": null,
   "metadata": {
    "collapsed": true,
    "jupyter": {
     "outputs_hidden": true
    }
   },
   "outputs": [],
   "source": []
  }
 ],
 "metadata": {
  "kernelspec": {
   "display_name": "Python 3",
   "language": "python",
   "name": "python3"
  },
  "language_info": {
   "codemirror_mode": {
    "name": "ipython",
    "version": 3
   },
   "file_extension": ".py",
   "mimetype": "text/x-python",
   "name": "python",
   "nbconvert_exporter": "python",
   "pygments_lexer": "ipython3",
   "version": "3.8.5"
  }
 },
 "nbformat": 4,
 "nbformat_minor": 4
}
