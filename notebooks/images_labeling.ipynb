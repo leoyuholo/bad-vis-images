{
 "cells": [
  {
   "cell_type": "code",
   "execution_count": 1,
   "metadata": {
    "Collapsed": "false"
   },
   "outputs": [],
   "source": [
    "# !pip install pymongo\n",
    "# !pip install termcolor"
   ]
  },
  {
   "cell_type": "code",
   "execution_count": 2,
   "metadata": {
    "Collapsed": "false"
   },
   "outputs": [],
   "source": [
    "from pymongo import MongoClient, DESCENDING\n",
    "from pathlib import Path\n",
    "import datetime\n",
    "# import json\n",
    "import simplejson\n",
    "from pydash import omit, find_index, merge, group_by\n",
    "from functools import partial\n",
    "from bson import json_util\n",
    "import os\n",
    "import json\n",
    "\n",
    "from termcolor import colored\n",
    "from IPython.display import display, Image, JSON\n",
    "import ipywidgets as widgets\n",
    "from ipywidgets import HBox, VBox, Box, Button, ButtonStyle, AppLayout, Layout, Style\n",
    "\n",
    "from lib.PersistentSet import PersistentSet"
   ]
  },
  {
   "cell_type": "code",
   "execution_count": 3,
   "metadata": {
    "Collapsed": "false"
   },
   "outputs": [],
   "source": [
    "images_dir = Path('../images')\n",
    "gallery_dir = Path('../')\n",
    "handmade_dir = Path('./handmade')\n",
    "label_dir = handmade_dir/'labels'\n",
    "label_dir.mkdir(exist_ok=True)\n",
    "current_ids_filepath = Path('./tmp/labeling_current_ids.json')"
   ]
  },
  {
   "cell_type": "code",
   "execution_count": 4,
   "metadata": {
    "Collapsed": "false"
   },
   "outputs": [],
   "source": [
    "mongo = MongoClient('172.17.0.1', 27017)\n",
    "db = mongo['bad-vis']\n",
    "posts = db['posts']\n",
    "imagemeta = db['imagemeta']\n",
    "imagelabel = db['imagelabel']\n",
    "vislabels = db['vislabels']"
   ]
  },
  {
   "cell_type": "code",
   "execution_count": 5,
   "metadata": {
    "Collapsed": "false"
   },
   "outputs": [],
   "source": [
    "image_url_prefix = 'http://vpn2d.mydev:7000'\n",
    "# image_url_prefix = 'http://localhost:7000'"
   ]
  },
  {
   "cell_type": "markdown",
   "metadata": {
    "Collapsed": "false"
   },
   "source": [
    "# Backup labels"
   ]
  },
  {
   "cell_type": "code",
   "execution_count": 6,
   "metadata": {
    "Collapsed": "false"
   },
   "outputs": [],
   "source": [
    "if os.path.isfile(label_dir/'labels.json'):\n",
    "    os.rename(label_dir/'labels.json', label_dir/f\"labels_{datetime.datetime.now().strftime('%Y%m%d%H%M%S')}.json\")"
   ]
  },
  {
   "cell_type": "code",
   "execution_count": 7,
   "metadata": {
    "Collapsed": "false"
   },
   "outputs": [],
   "source": [
    "json.dump([omit(l, '_id') for l in vislabels.find()], open(label_dir/'labels.json', 'w'), default=json_util.default)"
   ]
  },
  {
   "cell_type": "markdown",
   "metadata": {
    "Collapsed": "false"
   },
   "source": [
    "# Labeling"
   ]
  },
  {
   "cell_type": "code",
   "execution_count": 8,
   "metadata": {
    "Collapsed": "false"
   },
   "outputs": [],
   "source": [
    "labelbox_height = 1200\n",
    "gallery_limit = 50\n",
    "gallery_height = 1000\n",
    "\n",
    "all_images = [i for i in imagelabel.find().sort('popularity_score', DESCENDING)]\n",
    "\n",
    "labelOptions = json.load(open('tmp/labelOptions.json'))\n",
    "labelOptions = {c['tag']:c['options'] for c in labelOptions}\n",
    "\n",
    "labelling_states = {\n",
    "    'filter_states': {\n",
    "        'tags': set(),\n",
    "        'offset': 0,\n",
    "        'image_id': ''\n",
    "    },\n",
    "    'all_images': all_images,\n",
    "    'images': all_images[:50],\n",
    "    'current_image_id': '',\n",
    "    'labelOptions': labelOptions\n",
    "}\n",
    "\n",
    "current_ids = ''\n",
    "if not os.path.isfile(current_ids_filepath):\n",
    "    current_ids = PersistentSet()\n",
    "    current_ids.set_file(current_ids_filepath)\n",
    "else:\n",
    "    current_ids = PersistentSet.load_set(current_ids_filepath)\n",
    "\n",
    "def set_current_image_id (image_id):\n",
    "    current_ids.persist_remove(list(current_ids)[0])\n",
    "    current_ids.persist_add(image_id)\n",
    "\n",
    "def get_current_image_id ():\n",
    "    return list(current_ids)[0]\n",
    "\n",
    "labelBoxOutput = widgets.Output(layout=Layout(height=f\"{labelbox_height+30}px\"))"
   ]
  },
  {
   "cell_type": "code",
   "execution_count": 9,
   "metadata": {
    "Collapsed": "false"
   },
   "outputs": [],
   "source": [
    "# JSON(labelOptions)"
   ]
  },
  {
   "cell_type": "code",
   "execution_count": 10,
   "metadata": {
    "Collapsed": "false"
   },
   "outputs": [],
   "source": [
    "remarks_output = widgets.Output()"
   ]
  },
  {
   "cell_type": "code",
   "execution_count": 11,
   "metadata": {
    "Collapsed": "false"
   },
   "outputs": [
    {
     "data": {
      "application/vnd.jupyter.widget-view+json": {
       "model_id": "5fd238769a6e4a469450274db641bcf9",
       "version_major": 2,
       "version_minor": 0
      },
      "text/plain": [
       "Output()"
      ]
     },
     "metadata": {},
     "output_type": "display_data"
    }
   ],
   "source": [
    "remarks_output"
   ]
  },
  {
   "cell_type": "code",
   "execution_count": 12,
   "metadata": {
    "Collapsed": "false"
   },
   "outputs": [],
   "source": [
    "def find_image_idx (images, image_id):\n",
    "    return find_index(images, lambda x: x['image_id'] == image_id)\n",
    "\n",
    "def find_post (image_id):\n",
    "    return posts.find_one({'post_id': imagemeta.find_one({'image_id': image_id})['post_id']})\n",
    "\n",
    "def find_label (image_id):\n",
    "    image = imagelabel.find_one({'image_id': image_id})\n",
    "    if not image:\n",
    "        return None\n",
    "    image_ids = [image_id] + [i for i in image['duplicated_images']]\n",
    "    visLabels = [l for l in vislabels.find({'image_id': {'$in': image_ids}})]\n",
    "    if len(visLabels) > 1:\n",
    "        print(f\"labels warning: more than 1 label {image_ids} {visLabels}\")\n",
    "    return visLabels[0] if visLabels else None\n",
    "\n",
    "def find_image (image_id):\n",
    "    if '/' not in image_id:\n",
    "        image_id = imagemeta.find_one({'short_image_id': image_id}, {'image_id': True})['image_id']\n",
    "    image = imagelabel.find_one({'$or': [{'image_id': image_id}, {'duplicated_images': image_id}]})\n",
    "    if not image:\n",
    "        print(f\"Image not found: {image_id}\")\n",
    "    return image\n",
    "\n",
    "def find_images_by (tags=[], image_id='', offset=0, limit=50):\n",
    "    if image_id != '':\n",
    "        image = find_image(image_id)\n",
    "        return [image] if image else []\n",
    "\n",
    "    if len(tags) == 0:\n",
    "        return labelling_states['all_images'][offset:offset+limit]\n",
    "\n",
    "    images = []\n",
    "    for l in vislabels.find({'labels': {'$all': tags}}).limit(limit).skip(offset):\n",
    "        image = find_image(l['image_id'])\n",
    "        if image:\n",
    "            images.append(image)\n",
    "#             images.append({**image, 'labels': l['labels']})\n",
    "    images.sort(key=lambda x: x['popularity_score'])\n",
    "    images.reverse()\n",
    "    return images"
   ]
  },
  {
   "cell_type": "markdown",
   "metadata": {
    "Collapsed": "false"
   },
   "source": [
    "## Image Box"
   ]
  },
  {
   "cell_type": "code",
   "execution_count": 13,
   "metadata": {
    "Collapsed": "false"
   },
   "outputs": [],
   "source": [
    "def make_image_box (image, width=600, height=800, layoutArgs={}):\n",
    "#     image = widgets.Image(value=open(gallery_dir/image['labelling_path'], 'rb').read(), width=600, layout=Layout(object_position='center center', object_fit='contain'))\n",
    "    image = widgets.Image(value=open(gallery_dir/image['labelling_path'], 'rb').read(), width=600, height=height, layout=Layout(object_position='center center', object_fit='contain'))\n",
    "    boxItems = {\n",
    "        'image': image\n",
    "    }\n",
    "\n",
    "    image_box_layout = Layout(justify_content='center', **layoutArgs)\n",
    "    image_box_layout = Layout(height=f'{labelbox_height-500}px', justify_content='center', **layoutArgs)\n",
    "    imageBox = HBox([image], layout=image_box_layout)\n",
    "\n",
    "    return (imageBox, boxItems)"
   ]
  },
  {
   "cell_type": "markdown",
   "metadata": {
    "Collapsed": "false"
   },
   "source": [
    "## Info Box"
   ]
  },
  {
   "cell_type": "code",
   "execution_count": 14,
   "metadata": {
    "Collapsed": "false"
   },
   "outputs": [],
   "source": [
    "def make_link (url, text):\n",
    "    return widgets.HTML(value=f\"<a href='{url}' target='_blank'>{text}</a>\")\n",
    "\n",
    "def make_info_box (image, layoutArgs={}):\n",
    "    output = widgets.Output()\n",
    "\n",
    "    link = make_link(find_post(image['image_id'])['url'], image['image_id'])\n",
    "    dp_links = [\n",
    "        make_link(find_post(dp_image_id)['url'], dp_image_id)\n",
    "        for dp_image_id in image['duplicated_images']\n",
    "    ]\n",
    "    image_link = make_link(f\"{image_url_prefix}/projects/bad-vis-images/{image['labelling_path']}\", image['labelling_path'])\n",
    "\n",
    "    description = widgets.Output(layout=Layout(**layoutArgs))\n",
    "    with description:\n",
    "        image_idx_in_all_images = find_image_idx(labelling_states['all_images'], image['image_id'])\n",
    "        len_all_images = len(labelling_states['all_images'])\n",
    "        print(f\"{image_idx_in_all_images} / {len_all_images}\")\n",
    "        print(f\"popularity_score: {image['popularity_score']}\")\n",
    "        print(f\"phash: {image['phash']}\")\n",
    "        print(f\"tags: {len(image['tags'])}\")\n",
    "        for t in image['tags']:\n",
    "            print(t)\n",
    "\n",
    "    currentLabelsOutput = widgets.Output(layout=Layout(**layoutArgs))\n",
    "\n",
    "    outputs = {\n",
    "        'description': description,\n",
    "        'currentLabelsOutput': currentLabelsOutput,\n",
    "        'output': output\n",
    "    }\n",
    "\n",
    "    infoBox = VBox([description, currentLabelsOutput, output, link, *dp_links, image_link])\n",
    "\n",
    "    return (infoBox, outputs)"
   ]
  },
  {
   "cell_type": "markdown",
   "metadata": {
    "Collapsed": "false"
   },
   "source": [
    "## Checkboxes"
   ]
  },
  {
   "cell_type": "code",
   "execution_count": 15,
   "metadata": {
    "Collapsed": "false"
   },
   "outputs": [],
   "source": [
    "def ckb_box_layout (rows, cols, width):\n",
    "    return Layout(\n",
    "        flex_flow='column wrap',\n",
    "        height=f\"{rows*32}px\",\n",
    "        width=f\"{cols*(width + 5)}px\",\n",
    "        align_content='flex-start'\n",
    "    )\n",
    "\n",
    "def make_ckbs (title, options, n_rows=10, layoutArgs={}, on_ckb_change=None, grouping=False, sorting=True, ckb_width=100):\n",
    "    ckb_layout = Layout(\n",
    "        width=f\"{ckb_width}px\"\n",
    "    )\n",
    "\n",
    "    layout = Layout(**layoutArgs)\n",
    "    border_style = layoutArgs.get('border', '3px solid lightblue')\n",
    "    layout.border = border_style.replace(border_style.split(' ')[-1], 'orange')\n",
    "\n",
    "    form = ''\n",
    "    subcats = []\n",
    "    ckbsByName = {}\n",
    "\n",
    "    def ckb_handler (change):\n",
    "        ckb = change['owner']\n",
    "        if change['new']:\n",
    "            ckb.icon = 'check'\n",
    "            ckb.button_style = 'success'\n",
    "        else:\n",
    "            ckb.icon = ''\n",
    "            ckb.button_style = ''\n",
    "        if on_ckb_change:\n",
    "            on_ckb_change(change)\n",
    "        if len([v for k, v in ckbsByName.items() if v.value]) > 0:\n",
    "            form.layout.border = form.layout.border.replace(form.layout.border.split(' ')[-1], 'lightblue')\n",
    "        else:\n",
    "            form.layout.border = form.layout.border.replace(form.layout.border.split(' ')[-1], 'orange')\n",
    "\n",
    "    grouped = group_by(options, lambda o: o.get('subcategory', '')) if grouping else {'': options}\n",
    "    for subcategory, options in grouped.items():\n",
    "        ckbs = []\n",
    "        ordered_options = reversed(sorted(options, key=lambda x: x['count'])) if sorting else options\n",
    "        for n in ordered_options:\n",
    "            name = n['tag']\n",
    "            ckb = widgets.ToggleButton(value=False, description=n['name'], tooltip=name, icon='', button_style='', disabled=False, indent=False, layout=ckb_layout)\n",
    "            ckb.observe(ckb_handler, names='value')\n",
    "            ckbs.append(ckb)\n",
    "            ckbsByName[name] = ckb\n",
    "        subcats.append(VBox(ckbs, layout=ckb_box_layout(rows=n_rows, cols=(-(len(ckbs) // -n_rows)), width=ckb_width)))\n",
    "\n",
    "    form = VBox([\n",
    "#         widgets.Label(value=f\"{title.capitalize()}\"),\n",
    "        HBox(subcats)\n",
    "    ], layout=layout)\n",
    "\n",
    "    return (form, ckbsByName)\n",
    "\n",
    "def make_remarks (n_rows=10, layoutArgs={}):\n",
    "    form = ''\n",
    "    remarks = ''\n",
    "\n",
    "    layout = Layout(**layoutArgs)\n",
    "    border_style = layoutArgs.get('border', '3px solid lightblue')\n",
    "    layout.border = border_style.replace(border_style.split(' ')[-1], 'orange')\n",
    "\n",
    "    def remarks_handler (change):\n",
    "        if remarks.value and remarks.value != '':\n",
    "            form.layout.border = form.layout.border.replace(form.layout.border.split(' ')[-1], 'lightblue')\n",
    "        else:\n",
    "            form.layout.border = form.layout.border.replace(form.layout.border.split(' ')[-1], 'orange')\n",
    "\n",
    "    remarks = widgets.Textarea(value='', layout=Layout(height=f\"{n_rows*30-20}px\", width=f'240px'), disabled=False)\n",
    "    remarks.observe(remarks_handler, names='value')\n",
    "    form = VBox([widgets.Label(value=f\"{'remarks'.capitalize()}\"), remarks], layout=layout)\n",
    "    return (form, remarks)\n",
    "\n",
    "def make_ckb_box (options, n_rows=10, layoutArgs={}, on_ckb_change=None):\n",
    "\n",
    "    formCkbsBox, formCkbsByName = make_ckbs('form', options['form'], 7, layoutArgs, on_ckb_change, grouping=True, ckb_width=140)\n",
    "    layoutCkbsBox, layoutCkbsByName = make_ckbs('layout', options['layout'], 7, layoutArgs, on_ckb_change)\n",
    "    dataCkbsBox, dataCkbsByName = make_ckbs('data', options['data'], n_rows, layoutArgs, on_ckb_change, sorting=False)\n",
    "    domainCkbsBox, domainCkbsByName = make_ckbs('domain', options['domain'], n_rows, layoutArgs, on_ckb_change)\n",
    "    mediaCkbsBox, mediaCkbsByName = make_ckbs('media', options['media'], n_rows, layoutArgs, on_ckb_change)\n",
    "    flagCkbsBox, flagCkbsByName = make_ckbs('flag', options['flag'], n_rows, layoutArgs, on_ckb_change)\n",
    "\n",
    "    faultCkbsBox, faultCkbsByName = make_ckbs('fault', options['fault'], 10, layoutArgs, on_ckb_change, grouping=True, sorting=False,  ckb_width=180)\n",
    "    effectCkbsBox, effectCkbsByName = make_ckbs('effect', options['effect'], n_rows, layoutArgs, on_ckb_change)\n",
    "\n",
    "    remarksBox, remarks = make_remarks(n_rows, layoutArgs=layoutArgs)\n",
    "\n",
    "    boxItemsByName = {}\n",
    "    for d in [{'remarks': remarks}, formCkbsByName, faultCkbsByName, dataCkbsByName, domainCkbsByName, layoutCkbsByName, effectCkbsByName, mediaCkbsByName, flagCkbsByName]:\n",
    "        for k, v in d.items():\n",
    "            boxItemsByName[k] = v\n",
    "\n",
    "    boxesByName = {\n",
    "        'remarks': remarksBox,\n",
    "        'form': formCkbsBox,\n",
    "        'layout': layoutCkbsBox,\n",
    "        'data': dataCkbsBox,\n",
    "        'domain': domainCkbsBox,\n",
    "        'media': mediaCkbsBox,\n",
    "        'flag': flagCkbsBox,\n",
    "        'fault': faultCkbsBox,\n",
    "        'effect': effectCkbsBox,\n",
    "    }\n",
    "\n",
    "    return (VBox([\n",
    "        HBox([formCkbsBox, layoutCkbsBox]),\n",
    "        HBox([dataCkbsBox, domainCkbsBox, mediaCkbsBox, flagCkbsBox, effectCkbsBox, remarksBox]),\n",
    "        HBox([faultCkbsBox]),\n",
    "    ]), boxItemsByName, boxesByName)"
   ]
  },
  {
   "cell_type": "markdown",
   "metadata": {
    "Collapsed": "false"
   },
   "source": [
    "## Buttons"
   ]
  },
  {
   "cell_type": "code",
   "execution_count": 16,
   "metadata": {
    "Collapsed": "false"
   },
   "outputs": [],
   "source": [
    "def make_btn_box (on_update=None, on_prev=None, on_next=None):\n",
    "    btns = []\n",
    "\n",
    "    if on_prev:\n",
    "        prevBtn = widgets.Button(description='Prev', button_style='warning', layout=Layout(width='60px'))\n",
    "        def go_prev (btn):\n",
    "            if on_prev:\n",
    "                on_prev()\n",
    "        prevBtn.on_click(go_prev)\n",
    "        btns.append(prevBtn)\n",
    "\n",
    "        updateAndPrevBtn = widgets.Button(description='Save -> Prev', button_style='info')\n",
    "        def update_and_prev (btn):\n",
    "            if on_update:\n",
    "                on_update()\n",
    "            if on_prev:\n",
    "                on_prev()\n",
    "        updateAndPrevBtn.on_click(update_and_prev)\n",
    "        btns.append(updateAndPrevBtn)\n",
    "\n",
    "    updateBtn = widgets.Button(description='Save', button_style='success')\n",
    "    def update (btn):\n",
    "        if on_update:\n",
    "            on_update()\n",
    "    updateBtn.on_click(update)\n",
    "    btns.append(updateBtn)\n",
    "\n",
    "    if on_next:\n",
    "        updateAndNextBtn = widgets.Button(description='Save -> Next', button_style='info')\n",
    "        def update_and_next (btn):\n",
    "            if on_update:\n",
    "                on_update()\n",
    "            if on_next:\n",
    "                on_next()\n",
    "        updateAndNextBtn.on_click(update_and_next)\n",
    "        btns.append(updateAndNextBtn)\n",
    "\n",
    "        nextBtn = widgets.Button(description='Next', button_style='warning', layout=Layout(width='60px'))\n",
    "        def go_next (btn):\n",
    "            if on_next:\n",
    "                on_next()\n",
    "        nextBtn.on_click(go_next)\n",
    "        btns.append(nextBtn)\n",
    "\n",
    "    btnItems = {\n",
    "        'updateBtn': updateBtn,\n",
    "        'updateAndPrevBtn': updateAndPrevBtn,\n",
    "        'updateAndNextBtn': updateAndNextBtn\n",
    "    }\n",
    "\n",
    "    return (HBox(btns, layout=Layout(height='34px')), btnItems)"
   ]
  },
  {
   "cell_type": "markdown",
   "metadata": {
    "Collapsed": "false"
   },
   "source": [
    "## Label Box"
   ]
  },
  {
   "cell_type": "code",
   "execution_count": 17,
   "metadata": {
    "Collapsed": "false"
   },
   "outputs": [],
   "source": [
    "def make_label_box (image_id, options, next_callback=None, prev_callback=None):\n",
    "    visImage = imagelabel.find_one({'image_id': image_id})\n",
    "    if not visImage:\n",
    "        print(f\"Not found: {image_id}\")\n",
    "    vislabel = find_label(image_id)\n",
    "\n",
    "    labels = set(vislabel['labels']) if vislabel else set()\n",
    "\n",
    "    layoutArgs = {\n",
    "        'padding': '10px',\n",
    "        'margin': '5px',\n",
    "        'border': '3px solid lightblue'\n",
    "    }\n",
    "\n",
    "    imageBox, imageBoxItems = make_image_box(visImage, width=600, height=labelbox_height, layoutArgs=layoutArgs)\n",
    "\n",
    "    infoBox, infoBoxItems = make_info_box(visImage, layoutArgs=layoutArgs)\n",
    "\n",
    "    invalidLabels = set()\n",
    "    def show_current_labels ():\n",
    "        currentLabelsOutput = infoBoxItems['currentLabelsOutput']\n",
    "        currentLabelsOutput.clear_output()\n",
    "        with currentLabelsOutput:\n",
    "            for l in sorted(list(labels)):\n",
    "                if l in boxItemsByName:\n",
    "                    print(l)\n",
    "                else:\n",
    "                    invalidLabels.add(l)\n",
    "                    print(colored(l, 'red'))\n",
    "\n",
    "    def on_ckb_change (change):\n",
    "        ckb = change['owner']\n",
    "        labelName = ckb.tooltip\n",
    "        if change['new']:\n",
    "            labels.add(labelName)\n",
    "        else:\n",
    "            labels.remove(labelName)\n",
    "        show_current_labels()\n",
    "\n",
    "    ckbBox, boxItemsByName, boxesByName = make_ckb_box(options, n_rows=7, layoutArgs=layoutArgs, on_ckb_change=on_ckb_change)\n",
    "\n",
    "    remarks = boxItemsByName['remarks']\n",
    "\n",
    "    def update_label ():\n",
    "        vislabels.find_one_and_update({'image_id': vislabel['image_id'] if vislabel else visImage['image_id']}, {\n",
    "            '$set': {\n",
    "                'phash': visImage['phash'],\n",
    "                'labels': sorted(list(labels - invalidLabels)),\n",
    "                'remarks': remarks.value,\n",
    "                'updatedAt': datetime.datetime.utcnow()\n",
    "            },\n",
    "            '$setOnInsert': {'createdAt': datetime.datetime.utcnow()}\n",
    "        }, upsert=True)\n",
    "        with remarks_output:\n",
    "            if remarks.value:\n",
    "                print(f\"{remarks.value}\")\n",
    "        with infoBoxItems['output']:\n",
    "            print(f\"{visImage['short_image_id']} updated\")\n",
    "        show_current_labels()\n",
    "\n",
    "    def on_update ():\n",
    "        update_label()\n",
    "\n",
    "    def on_prev ():\n",
    "        if prev_callback:\n",
    "            prev_callback(image_id)\n",
    "\n",
    "    def on_next ():\n",
    "        if next_callback:\n",
    "            next_callback(image_id)\n",
    "\n",
    "    btnBox, btnBoxItems = make_btn_box(on_update=on_update, on_prev=on_prev, on_next=on_next)\n",
    "\n",
    "    panelBoxLayout = Layout(\n",
    "        justify_content= 'flex-start',\n",
    "        align_items= 'flex-start',\n",
    "        align_content= 'flex-start',\n",
    "    )\n",
    "    panelBox = VBox([ckbBox, btnBox], layout=panelBoxLayout)\n",
    "\n",
    "    for l in labels:\n",
    "        if l in boxItemsByName:\n",
    "            boxItemsByName[l].value = True\n",
    "\n",
    "    remarks.value = vislabel['remarks'] if vislabel else ''\n",
    "\n",
    "    with infoBoxItems['output']:\n",
    "        print('ready')\n",
    "\n",
    "    leftBox = VBox([imageBox, infoBox])\n",
    "\n",
    "    pane_widths = [2, 4, 1]\n",
    "    return AppLayout(left_sidebar=leftBox, center=panelBox, pane_widths=pane_widths, height=f'{labelbox_height+10}px')"
   ]
  },
  {
   "cell_type": "code",
   "execution_count": 18,
   "metadata": {
    "Collapsed": "false"
   },
   "outputs": [],
   "source": [
    "def next_id (image_id, prev=False):\n",
    "    images = labelling_states['all_images'] if len(labelling_states['filter_states']['tags']) == 0 else labelling_states['images']\n",
    "    idx = find_image_idx(images, image_id)\n",
    "    new_idx = max(0, idx - 1) if prev else min(len(images) - 1, idx + 1)\n",
    "    new_image_id = images[new_idx]['image_id']\n",
    "    set_current_image_id(new_image_id)\n",
    "    return new_image_id\n",
    "\n",
    "def prev_img (output, image_id):\n",
    "    show_img(next_id(image_id, prev=True), output)\n",
    "\n",
    "def next_img (output, image_id):\n",
    "    show_img(next_id(image_id, prev=False), output)\n",
    "\n",
    "def show_img (image_id, output=None):\n",
    "    output.clear_output()\n",
    "    with output:\n",
    "        display(make_label_box(image_id, options=labelOptions, next_callback=partial(next_img, output), prev_callback=partial(prev_img, output)))"
   ]
  },
  {
   "cell_type": "markdown",
   "metadata": {
    "Collapsed": "false"
   },
   "source": [
    "## Gallery Box"
   ]
  },
  {
   "cell_type": "code",
   "execution_count": 19,
   "metadata": {
    "Collapsed": "false"
   },
   "outputs": [],
   "source": [
    "def make_filter_box (options, on_filter_change=None, layoutArgs=None):\n",
    "    layout = Layout(**layoutArgs)\n",
    "\n",
    "    def ckb_handler (change):\n",
    "        tag = change['owner'].tag\n",
    "        if change['new']:\n",
    "            labelling_states['filter_states']['tags'].add(tag)\n",
    "        else:\n",
    "            labelling_states['filter_states']['tags'].remove(tag)\n",
    "        if on_filter_change:\n",
    "            on_filter_change(labelling_states['filter_states'])\n",
    "\n",
    "    def image_id_textbox_handler (change):\n",
    "        labelling_states['filter_states']['image_id'] = change['new']\n",
    "        on_filter_change(labelling_states['filter_states'])\n",
    "\n",
    "    def offset_textbox_handler (change):\n",
    "        labelling_states['filter_states']['offset'] = change['new']\n",
    "        on_filter_change(labelling_states['filter_states'])\n",
    "\n",
    "    ckbs = []\n",
    "    image_id_textbox = widgets.Text(value='', placeholder='1yb04c_0', description='Image ID:', disabled=False, layout={'width':'180px'})\n",
    "    image_id_textbox.observe(image_id_textbox_handler, names='value')\n",
    "    ckbs.append(image_id_textbox)\n",
    "    offset_textbox = widgets.BoundedIntText(value=labelling_states['filter_states']['offset'], min=0, max=len(labelling_states['all_images']), step=gallery_limit, description='Offset', disabled=False, layout={'width':'180px'})\n",
    "    offset_textbox.observe(offset_textbox_handler, names='value')\n",
    "    ckbs.append(offset_textbox)\n",
    "    for cat, opts in options.items():\n",
    "        for subcat, options in group_by(opts, lambda o: o.get('subcategory', '')).items():\n",
    "            ckbs.append(widgets.widgets.HTML(value=f\"<b>{cat.upper()}</b> {subcat.capitalize()}\"))\n",
    "            for o in options:\n",
    "                ckb = widgets.Checkbox(value=False, description=f\"{o['name']} ({o['count']})\", disabled=False, indent=False)\n",
    "                ckb.tag = o['tag']\n",
    "                ckb.observe(ckb_handler, names='value')\n",
    "                ckbs.append(ckb)\n",
    "\n",
    "    return VBox(ckbs, layout=layout)\n",
    "\n",
    "def make_gallery_box (images, on_select=None, layoutArgs=None):\n",
    "\n",
    "    def click_handler (btn):\n",
    "        image_id = btn.tooltip\n",
    "        if on_select:\n",
    "            on_select(image_id)\n",
    "\n",
    "    image_boxes = []\n",
    "    for i in images:\n",
    "        image_box = widgets.Image(value=open(f\"../{i['labelling_thumbnail_path']}\", 'rb').read(), width=140, height=140, layout=Layout(width='140px', height='140px'))\n",
    "        btn = widgets.Button(description=f\"{i['image_name']} ({i['popularity_score']})\", tooltip=i['image_id'])\n",
    "        btn.on_click(click_handler)\n",
    "        image_boxes.append(VBox([image_box, btn]))\n",
    "\n",
    "    return Box(image_boxes,\n",
    "               layout=Layout(display='flex', flex_flow='row wrap'))\n",
    "\n",
    "def make_gallery (options, select_callback=None):\n",
    "    layoutArgs = {\n",
    "        'padding': '10px',\n",
    "        'margin': '5px',\n",
    "        'border': '3px solid lightblue'\n",
    "    }\n",
    "\n",
    "    def select_handler (image_id):\n",
    "        show_img(image_id, labelBoxOutput)\n",
    "\n",
    "    labelling_states['images'] = find_images_by(limit=gallery_limit, offset=labelling_states['filter_states']['offset'])\n",
    "\n",
    "    galleryOutput = widgets.Output(layout=Layout(**layoutArgs, height=f\"{gallery_height-20}px\"))\n",
    "    with galleryOutput:\n",
    "        display(make_gallery_box(labelling_states['images'], on_select=select_handler, layoutArgs=layoutArgs))\n",
    "\n",
    "    def filter_handler (filter_states):\n",
    "        labelling_states['images'] = find_images_by(tags=list(filter_states['tags']), image_id=filter_states['image_id'], offset=filter_states['offset'], limit=gallery_limit)\n",
    "        galleryOutput.clear_output()\n",
    "        with galleryOutput:\n",
    "            display(make_gallery_box(labelling_states['images'], on_select=select_handler, layoutArgs=layoutArgs))\n",
    "\n",
    "    filterBox = make_filter_box(options, on_filter_change=filter_handler, layoutArgs=layoutArgs)\n",
    "\n",
    "    pane_widths = [1, 5, 1]\n",
    "    return AppLayout(left_sidebar=filterBox, center=galleryOutput, pane_widths=pane_widths, height=f\"{gallery_height}px\")"
   ]
  },
  {
   "cell_type": "markdown",
   "metadata": {
    "Collapsed": "false"
   },
   "source": [
    "# GUI"
   ]
  },
  {
   "cell_type": "code",
   "execution_count": 20,
   "metadata": {
    "Collapsed": "false"
   },
   "outputs": [
    {
     "data": {
      "application/vnd.jupyter.widget-view+json": {
       "model_id": "a33e9a86b1a04ab598597acb61712422",
       "version_major": 2,
       "version_minor": 0
      },
      "text/plain": [
       "AppLayout(children=(VBox(children=(Text(value='', description='Image ID:', layout=Layout(width='180px'), place…"
      ]
     },
     "metadata": {},
     "output_type": "display_data"
    }
   ],
   "source": [
    "make_gallery(labelling_states['labelOptions'])"
   ]
  },
  {
   "cell_type": "code",
   "execution_count": 21,
   "metadata": {
    "Collapsed": "false"
   },
   "outputs": [
    {
     "data": {
      "application/vnd.jupyter.widget-view+json": {
       "model_id": "9dbc66e8315d4d9eb6ecb1791cbbe938",
       "version_major": 2,
       "version_minor": 0
      },
      "text/plain": [
       "Output(layout=Layout(height='1230px'))"
      ]
     },
     "metadata": {},
     "output_type": "display_data"
    }
   ],
   "source": [
    "labelBoxOutput"
   ]
  },
  {
   "cell_type": "code",
   "execution_count": 22,
   "metadata": {
    "Collapsed": "false"
   },
   "outputs": [],
   "source": [
    "show_img(get_current_image_id(), labelBoxOutput)"
   ]
  },
  {
   "cell_type": "markdown",
   "metadata": {
    "Collapsed": "false"
   },
   "source": [
    "# Maintenance"
   ]
  },
  {
   "cell_type": "code",
   "execution_count": 23,
   "metadata": {
    "Collapsed": "false"
   },
   "outputs": [],
   "source": [
    "# for label in vislabels.find():\n",
    "#     visimage = imagelabel.find_one({'image_id': label['image_id']})\n",
    "#     if not visimage:\n",
    "# #         print(f\"missing {label['image_id']}\")\n",
    "#         duplicated = [i for i in imagelabel.find({'duplicated_images': label['image_id']})]\n",
    "#         if len(duplicated) > 1:\n",
    "#             pass\n",
    "# #             print(f\"found more than one duplicated {label['image_id']} {duplicated}\")\n",
    "#         if not duplicated:\n",
    "# #             pass\n",
    "#             print(f\"missing in duplicated either {label['image_id']}\")\n",
    "#             print(json.dumps(omit(label, '_id'), default=datetime.datetime.isoformat))\n",
    "#         else:\n",
    "#             duplicated = duplicated[0]\n",
    "# #             print(f\"found in duplicated {label['image_id']} {duplicated['image_id']}\")"
   ]
  },
  {
   "cell_type": "code",
   "execution_count": 24,
   "metadata": {
    "Collapsed": "false"
   },
   "outputs": [],
   "source": [
    "# for label in vislabels.find():\n",
    "#     if 'tumblr' in label['image_id']:\n",
    "#         continue\n",
    "\n",
    "#     visimage = imagelabel.find_one({'image_id': label['image_id']})\n",
    "#     if not visimage:\n",
    "#         visimage = imagelabel.find_one({'duplicated_images': label['image_id']})\n",
    "\n",
    "#     if not visimage:\n",
    "#         print(f\"missing {label['image_id']}\")\n",
    "#     else:\n",
    "#         label['image_id'] = visimage['image_id']\n",
    "#         label['phash'] = visimage['phash']\n",
    "#         vislabels.update_one({'_id': label['_id']}, {'$set': {'image_id': label['image_id'], 'phash': label['phash']}})"
   ]
  },
  {
   "cell_type": "code",
   "execution_count": 25,
   "metadata": {
    "Collapsed": "false"
   },
   "outputs": [],
   "source": [
    "# # replace labels\n",
    "# current_label = 'fault:percentage'\n",
    "# new_label = ''\n",
    "\n",
    "# for l in vislabels.find():\n",
    "#     if len([l for l in l['labels'] if current_label == l]) > 0:\n",
    "#         ori_length = len(l['labels'])\n",
    "#         print(len(l['labels']), l['_id'], l['image_id'], l['labels'])\n",
    "\n",
    "#         l['labels'] = [l for l in l['labels'] if current_label != l]\n",
    "# #         if new_label not in l['labels']:\n",
    "# #             l['labels'].append(new_label)\n",
    "\n",
    "#         new_length = len(l['labels'])\n",
    "#         print(new_length - ori_length, new_label in l['labels'], len(l['labels']), l['labels'])\n",
    "\n",
    "# #         vislabels.update_one({'_id': l['_id']}, {'$set': {'labels': l['labels']}})\n",
    "# #     break"
   ]
  },
  {
   "cell_type": "code",
   "execution_count": null,
   "metadata": {
    "Collapsed": "false"
   },
   "outputs": [],
   "source": []
  }
 ],
 "metadata": {
  "kernelspec": {
   "display_name": "Python 3",
   "language": "python",
   "name": "python3"
  },
  "language_info": {
   "codemirror_mode": {
    "name": "ipython",
    "version": 3
   },
   "file_extension": ".py",
   "mimetype": "text/x-python",
   "name": "python",
   "nbconvert_exporter": "python",
   "pygments_lexer": "ipython3",
   "version": "3.7.6"
  }
 },
 "nbformat": 4,
 "nbformat_minor": 4
}
