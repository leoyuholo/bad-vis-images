{
 "cells": [
  {
   "cell_type": "code",
   "execution_count": 1,
   "metadata": {
    "Collapsed": "false"
   },
   "outputs": [],
   "source": [
    "# !pip install pymongo"
   ]
  },
  {
   "cell_type": "code",
   "execution_count": 2,
   "metadata": {
    "Collapsed": "false"
   },
   "outputs": [],
   "source": [
    "from pymongo import MongoClient, DESCENDING\n",
    "from pathlib import Path\n",
    "import datetime\n",
    "# import json\n",
    "import simplejson\n",
    "from pydash import omit, find_index, merge\n",
    "from functools import partial\n",
    "from bson import json_util\n",
    "import os\n",
    "\n",
    "from IPython.display import display, Image, JSON\n",
    "import ipywidgets as widgets\n",
    "from ipywidgets import HBox, VBox, Button, ButtonStyle, AppLayout, Layout, Style\n",
    "\n",
    "from lib.PersistentSet import PersistentSet"
   ]
  },
  {
   "cell_type": "code",
   "execution_count": 3,
   "metadata": {
    "Collapsed": "false"
   },
   "outputs": [],
   "source": [
    "images_dir = Path('./images')\n",
    "gallery_dir = Path('./gallery')\n",
    "handmade_dir = Path('./handmade')\n",
    "label_dir = handmade_dir/'labels'\n",
    "label_dir.mkdir(exist_ok=True)\n",
    "current_ids_filepath = Path('./labeling_current_ids.json')"
   ]
  },
  {
   "cell_type": "code",
   "execution_count": 4,
   "metadata": {
    "Collapsed": "false"
   },
   "outputs": [],
   "source": [
    "mongo = MongoClient('172.17.0.1', 27017)\n",
    "db = mongo['bad-vis']\n",
    "posts = db['posts']\n",
    "imagemeta = db['imagemeta']\n",
    "visimages = db['visimages']\n",
    "vislabels = db['vislabels']"
   ]
  },
  {
   "cell_type": "markdown",
   "metadata": {
    "Collapsed": "false"
   },
   "source": [
    "# Backup labels"
   ]
  },
  {
   "cell_type": "code",
   "execution_count": 5,
   "metadata": {
    "Collapsed": "false"
   },
   "outputs": [],
   "source": [
    "# if os.path.isfile(label_dir/'labels.json'):\n",
    "#     os.rename(label_dir/'labels.json', label_dir/f\"labels_{datetime.datetime.now().strftime('%Y%m%d%H%M%S')}.json\")"
   ]
  },
  {
   "cell_type": "code",
   "execution_count": 6,
   "metadata": {
    "Collapsed": "false"
   },
   "outputs": [],
   "source": [
    "# json.dump([omit(l, '_id') for l in vislabels.find()], open(label_dir/'labels.json', 'w'), default=json_util.default)"
   ]
  },
  {
   "cell_type": "markdown",
   "metadata": {
    "Collapsed": "false"
   },
   "source": [
    "# Maintenance"
   ]
  },
  {
   "cell_type": "code",
   "execution_count": 7,
   "metadata": {
    "Collapsed": "false"
   },
   "outputs": [],
   "source": [
    "# for label in vislabels.find():\n",
    "#     visimage = visimages.find_one({'image_id': label['image_id']})\n",
    "#     if not visimage:\n",
    "# #         print(f\"missing {label['image_id']}\")\n",
    "#         duplicated = [i for i in visimages.find({'duplicated_images': label['image_id']})]\n",
    "#         if len(duplicated) > 1:\n",
    "#             pass\n",
    "# #             print(f\"found more than one duplicated {label['image_id']} {duplicated}\")\n",
    "#         if not duplicated:\n",
    "# #             pass\n",
    "#             print(f\"missing in duplicated either {label['image_id']}\")\n",
    "#             print(json.dumps(omit(label, '_id'), default=datetime.datetime.isoformat))\n",
    "#         else:\n",
    "#             duplicated = duplicated[0]\n",
    "# #             print(f\"found in duplicated {label['image_id']} {duplicated['image_id']}\")"
   ]
  },
  {
   "cell_type": "markdown",
   "metadata": {
    "Collapsed": "false"
   },
   "source": [
    "# Labeling"
   ]
  },
  {
   "cell_type": "code",
   "execution_count": 8,
   "metadata": {
    "Collapsed": "false"
   },
   "outputs": [],
   "source": [
    "remarks_output = widgets.Output()"
   ]
  },
  {
   "cell_type": "code",
   "execution_count": 9,
   "metadata": {
    "Collapsed": "false"
   },
   "outputs": [
    {
     "data": {
      "application/vnd.jupyter.widget-view+json": {
       "model_id": "17dcce51d23c443d8949604d2d581773",
       "version_major": 2,
       "version_minor": 0
      },
      "text/plain": [
       "Output()"
      ]
     },
     "metadata": {},
     "output_type": "display_data"
    }
   ],
   "source": [
    "remarks_output"
   ]
  },
  {
   "cell_type": "code",
   "execution_count": 10,
   "metadata": {
    "Collapsed": "false"
   },
   "outputs": [],
   "source": [
    "box_height = 800"
   ]
  },
  {
   "cell_type": "code",
   "execution_count": 11,
   "metadata": {
    "Collapsed": "false"
   },
   "outputs": [],
   "source": [
    "def find_post (image_id):\n",
    "    return posts.find_one({'post_id': imagemeta.find_one({'image_id': image_id})['post_id']})"
   ]
  },
  {
   "cell_type": "code",
   "execution_count": 12,
   "metadata": {
    "Collapsed": "false"
   },
   "outputs": [],
   "source": [
    "def find_label (image_id):\n",
    "    image = visimages.find_one({'image_id': image_id})\n",
    "    image_ids = [image_id] + [i for i in image['duplicated_images']]\n",
    "    visLabels = [l for l in vislabels.find({'image_id': {'$in': image_ids}})]\n",
    "    if len(visLabels) > 1:\n",
    "        print(f\"labels warning: more than 1 label {image_ids}\")\n",
    "    return visLabels[0] if visLabels else None"
   ]
  },
  {
   "cell_type": "code",
   "execution_count": 13,
   "metadata": {
    "Collapsed": "false"
   },
   "outputs": [],
   "source": [
    "def make_image_box (visImage, width=600, height=800, layoutArgs={}):\n",
    "    image = widgets.Image(value=open(visImage['image_path'], 'rb').read(), width=600, height=height, layout=Layout(object_position='center center', object_fit='contain'))\n",
    "    boxItems = {\n",
    "        'image': image\n",
    "    }\n",
    "\n",
    "    image_box_layout = Layout(height=f'{box_height}px', justify_content='center', **layoutArgs)\n",
    "    imageBox = HBox([image], layout=image_box_layout)\n",
    "\n",
    "    return (imageBox, boxItems)"
   ]
  },
  {
   "cell_type": "code",
   "execution_count": 14,
   "metadata": {
    "Collapsed": "false"
   },
   "outputs": [],
   "source": [
    "def make_link (url, text):\n",
    "    return widgets.HTML(value=f\"<a href='{url}' target='_blank'>{text}</a>\")"
   ]
  },
  {
   "cell_type": "code",
   "execution_count": 15,
   "metadata": {
    "Collapsed": "false"
   },
   "outputs": [],
   "source": [
    "def make_info_box (visImage, layoutArgs={}):\n",
    "    output = widgets.Output()\n",
    "\n",
    "    link = make_link(visImage['url'], visImage['image_id'])\n",
    "    dp_links = [\n",
    "        make_link(find_post(dp_image_id)['url'], dp_image_id)\n",
    "        for dp_image_id in visImage['duplicated_images']\n",
    "    ]\n",
    "    image_link = make_link(f\"http://vpn2d.mydev:7000/projects/bad-vis-browser/{visImage['image_path']}\", visImage['image_path'])\n",
    "\n",
    "    description = widgets.Output(layout=Layout(**layoutArgs))\n",
    "    with description:\n",
    "        print(f\"{find_index(label_img_ids, lambda x: x == visImage['image_id'])} / {len(label_img_ids)}\")\n",
    "        print(f\"tags: {len(visImage['tags'])}\")\n",
    "        for t in visImage['tags']:\n",
    "            print(t)\n",
    "\n",
    "    currentLabelsOutput = widgets.Output(layout=Layout(**layoutArgs))\n",
    "\n",
    "    outputs = {\n",
    "        'description': description,\n",
    "        'currentLabelsOutput': currentLabelsOutput,\n",
    "        'output': output\n",
    "    }\n",
    "\n",
    "    infoBox = VBox([link, *dp_links, image_link, description, currentLabelsOutput, output])\n",
    "\n",
    "    return (infoBox, outputs)"
   ]
  },
  {
   "cell_type": "code",
   "execution_count": 16,
   "metadata": {
    "Collapsed": "false"
   },
   "outputs": [],
   "source": [
    "def ckb_box_layout (rows, cols):\n",
    "    return Layout(\n",
    "        flex_flow='column wrap',\n",
    "        height=f\"{rows*30+20}px\",\n",
    "        width=f\"{cols*125}px\",\n",
    "        align_content='flex-start'\n",
    "    )\n",
    "\n",
    "def make_ckbs (title, options, n_rows=10, layoutArgs={}, on_ckb_change=None):\n",
    "    ckb_layout = Layout(\n",
    "        width='120px'\n",
    "    )\n",
    "\n",
    "    def ckb_handler (change):\n",
    "        ckb = change['owner']\n",
    "        if change['new']:\n",
    "            ckb.icon = 'check'\n",
    "            ckb.button_style = 'success'\n",
    "        else:\n",
    "            ckb.icon = ''\n",
    "            ckb.button_style = ''\n",
    "        if on_ckb_change:\n",
    "            on_ckb_change(change)\n",
    "\n",
    "    ckbs = []\n",
    "    ckbsByName = {}\n",
    "    for n in options:\n",
    "        name = f\"{title}:{n}\"\n",
    "        ckb = widgets.ToggleButton(value=False, description=n.capitalize(), tooltip=name, icon='', button_style='', disabled=False, indent=False, layout=ckb_layout)\n",
    "        ckb.observe(ckb_handler, names='value')\n",
    "        ckbs.append(ckb)\n",
    "        ckbsByName[name] = ckb\n",
    "\n",
    "    form = VBox([\n",
    "        widgets.Label(value=f\"{title.capitalize()}\"),\n",
    "        VBox(ckbs, layout=ckb_box_layout(rows=n_rows, cols=(-(len(ckbs) // -n_rows))))\n",
    "    ], layout=Layout(**layoutArgs))\n",
    "\n",
    "    return (form, ckbsByName)\n",
    "\n",
    "def make_remarks (n_rows=10, layoutArgs={}):\n",
    "    remarks = widgets.Textarea(value='', layout=Layout(height='300px', width=f'240px'), disabled=False)\n",
    "    return (VBox([widgets.Label(value=f\"{'remarks'.capitalize()}\"), remarks], layout=Layout(**layoutArgs)), remarks)\n",
    "\n",
    "def make_ckb_box (options, n_rows=10, layoutArgs={}, on_ckb_change=None):\n",
    "\n",
    "    formCkbsBox, formCkbsByName = make_ckbs('form', options['form'], n_rows, layoutArgs, on_ckb_change)\n",
    "    faultCkbsBox, faultCkbsByName = make_ckbs('fault', options['fault'], n_rows, layoutArgs, on_ckb_change)\n",
    "    dataCkbsBox, dataCkbsByName = make_ckbs('data', options['data'], n_rows, layoutArgs, on_ckb_change)\n",
    "    layoutCkbsBox, layoutCkbsByName = make_ckbs('layout', options['layout'], n_rows, layoutArgs, on_ckb_change)\n",
    "    metaphorCkbsBox, metaphorCkbsByName = make_ckbs('metaphor', options['metaphor'], n_rows, layoutArgs, on_ckb_change)\n",
    "    mediaCkbsBox, mediaCkbsByName = make_ckbs('media', options['media'], n_rows, layoutArgs, on_ckb_change)\n",
    "    flagCkbsBox, flagCkbsByName = make_ckbs('flag', options['flag'], n_rows, layoutArgs, on_ckb_change)\n",
    "\n",
    "    remarksBox, remarks = make_remarks(n_rows, layoutArgs=layoutArgs)\n",
    "\n",
    "    boxItemsByName = {}\n",
    "    for d in [{'remarks': remarks}, formCkbsByName, faultCkbsByName, dataCkbsByName, layoutCkbsByName, metaphorCkbsByName, mediaCkbsByName, flagCkbsByName]:\n",
    "        for k, v in d.items():\n",
    "            boxItemsByName[k] = v\n",
    "\n",
    "    return (VBox([\n",
    "        HBox([formCkbsBox, faultCkbsBox]),\n",
    "        HBox([dataCkbsBox, layoutCkbsBox, metaphorCkbsBox, mediaCkbsBox, flagCkbsBox, remarksBox])\n",
    "    ]), boxItemsByName)"
   ]
  },
  {
   "cell_type": "code",
   "execution_count": 17,
   "metadata": {
    "Collapsed": "false"
   },
   "outputs": [],
   "source": [
    "def make_btn_box (on_update=None, on_prev=None, on_next=None):\n",
    "    btns = []\n",
    "\n",
    "    if on_prev:\n",
    "        updateAndPrevBtn = widgets.Button(description=\"Save -> Prev\", button_style=\"info\")\n",
    "        def update_and_prev (btn):\n",
    "            if on_update:\n",
    "                on_update()\n",
    "            if on_prev:\n",
    "                on_prev()\n",
    "        updateAndPrevBtn.on_click(update_and_prev)\n",
    "        btns.append(updateAndPrevBtn)\n",
    "\n",
    "    updateBtn = widgets.Button(description=\"Save\", button_style=\"success\")\n",
    "    def update (btn):\n",
    "        if on_update:\n",
    "            on_update()\n",
    "    updateBtn.on_click(update)\n",
    "    btns.append(updateBtn)\n",
    "\n",
    "    if on_next:\n",
    "        updateAndNextBtn = widgets.Button(description=\"Save -> Next\", button_style=\"info\")\n",
    "        def update_and_next (btn):\n",
    "            if on_update:\n",
    "                on_update()\n",
    "            if on_next:\n",
    "                on_next()\n",
    "        updateAndNextBtn.on_click(update_and_next)\n",
    "        btns.append(updateAndNextBtn)\n",
    "\n",
    "    btnItems = {\n",
    "        'updateBtn': updateBtn,\n",
    "        'updateAndPrevBtn': updateAndPrevBtn,\n",
    "        'updateAndNextBtn': updateAndNextBtn\n",
    "    }\n",
    "\n",
    "    return (HBox(btns), btnItems)"
   ]
  },
  {
   "cell_type": "code",
   "execution_count": 18,
   "metadata": {
    "Collapsed": "false"
   },
   "outputs": [],
   "source": [
    "def make_label_box (image_id, options, next_callback=None, prev_callback=None):\n",
    "    visImage = visimages.find_one({'image_id': image_id})\n",
    "    vislabel = find_label(image_id)\n",
    "\n",
    "    labels = set(vislabel['labels']) if vislabel else set()\n",
    "\n",
    "    layoutArgs = {\n",
    "        'padding': '10px',\n",
    "        'margin': '5px',\n",
    "        'border': '3px solid lightblue'\n",
    "    }\n",
    "\n",
    "    imageBox, imageBoxItems = make_image_box(visImage, width=600, height=box_height, layoutArgs=layoutArgs)\n",
    "\n",
    "    infoBox, infoBoxItems = make_info_box(visImage, layoutArgs=layoutArgs)\n",
    "\n",
    "    def show_current_labels ():\n",
    "        currentLabelsOutput = infoBoxItems['currentLabelsOutput']\n",
    "        currentLabelsOutput.clear_output()\n",
    "        with currentLabelsOutput:\n",
    "            for l in sorted(list(labels)):\n",
    "                print(l)\n",
    "\n",
    "    def on_ckb_change (change):\n",
    "        ckb = change['owner']\n",
    "        labelName = ckb.tooltip\n",
    "        if change['new']:\n",
    "            labels.add(labelName)\n",
    "        else:\n",
    "            labels.remove(labelName)\n",
    "        show_current_labels()\n",
    "\n",
    "    ckbBox, boxItemsByName = make_ckb_box(options, layoutArgs=layoutArgs, on_ckb_change=on_ckb_change)\n",
    "\n",
    "    remarks = boxItemsByName['remarks']\n",
    "\n",
    "    def update_label ():\n",
    "        vislabels.find_one_and_update({'image_id': image_id}, {\n",
    "            '$set': {\n",
    "                'labels': sorted(list(labels)),\n",
    "                'remarks': remarks.value,\n",
    "                'updatedAt': datetime.datetime.utcnow()\n",
    "            },\n",
    "            '$setOnInsert': {'createdAt': datetime.datetime.utcnow()}\n",
    "        }, upsert=True)\n",
    "        with remarks_output:\n",
    "            if remarks.value:\n",
    "                print(f\"{remarks.value}\")\n",
    "        with infoBoxItems['output']:\n",
    "            print(f\"{visImage['short_image_id']} updated\")\n",
    "\n",
    "    def on_update ():\n",
    "        update_label()\n",
    "\n",
    "    def on_prev ():\n",
    "        if prev_callback:\n",
    "            prev_callback(image_id)\n",
    "\n",
    "    def on_next ():\n",
    "        if next_callback:\n",
    "            next_callback(image_id)\n",
    "\n",
    "    btnBox, btnBoxItems = make_btn_box(on_update=on_update, on_prev=on_prev, on_next=on_next)\n",
    "\n",
    "    panelBoxLayout = Layout(\n",
    "        justify_content= 'flex-start',\n",
    "        align_items= 'flex-start',\n",
    "        align_content= 'flex-start',\n",
    "    )\n",
    "    panelBox = VBox([ckbBox, btnBox], layout=panelBoxLayout)\n",
    "\n",
    "    for l in labels:\n",
    "        boxItemsByName[l].value = True\n",
    "\n",
    "    with infoBoxItems['output']:\n",
    "        print('ready')\n",
    "\n",
    "    pane_widths = [2, 4, 1]\n",
    "    return AppLayout(left_sidebar=imageBox, center=panelBox, right_sidebar=infoBox, pane_widths=pane_widths, height=f'{box_height+10}px')"
   ]
  },
  {
   "cell_type": "code",
   "execution_count": 19,
   "metadata": {
    "Collapsed": "false"
   },
   "outputs": [],
   "source": [
    "current_ids = ''\n",
    "if not os.path.isfile(current_ids_filepath):\n",
    "    current_ids = PersistentSet()\n",
    "    current_ids.set_file(current_ids_filepath)\n",
    "else:\n",
    "    current_ids = PersistentSet.load_set(current_ids_filepath)"
   ]
  },
  {
   "cell_type": "code",
   "execution_count": 20,
   "metadata": {
    "Collapsed": "false"
   },
   "outputs": [],
   "source": [
    "visImages = [i for i in visimages.find()]\n",
    "visImages.sort(key=lambda x: x['popularity_score'])\n",
    "visImages.reverse()\n",
    "\n",
    "def label_images ():\n",
    "    for i in visImages:\n",
    "        visLabel = vislabels.find_one({'image_id': i['image_id']})\n",
    "        if visLabel == None:\n",
    "            yield i['image_id']\n",
    "\n",
    "label_img_ids = [i['image_id'] for i in visImages]"
   ]
  },
  {
   "cell_type": "code",
   "execution_count": 21,
   "metadata": {
    "Collapsed": "false"
   },
   "outputs": [],
   "source": [
    "cell_outputs = [widgets.Output(layout=Layout(height=f'{box_height+30}px')) for i in range(len(current_ids))]"
   ]
  },
  {
   "cell_type": "code",
   "execution_count": 22,
   "metadata": {
    "Collapsed": "false"
   },
   "outputs": [],
   "source": [
    "labelOptions = {\n",
    "    'form': [\n",
    "        'barchart', 'linechart', 'scatterplot', 'dotplot', 'barcodechart', 'areachart', 'histogram',\n",
    "        'nodelink', 'radarchart', 'bubblechart', 'dumbbellplot',\n",
    "        'piechart', 'donutchart',\n",
    "        'pyramid', 'venn', 'choropleth', 'flowmap', 'map', 'chernoffface',\n",
    "        'table', 'heatmap', 'treemap', 'quadrant',\n",
    "        'boxplot', 'violinplot', 'parallelcoor', 'streamgraph',\n",
    "        'pictogram', 'guagechart', 'sankeydiagram', 'chorddiagram', 'sunbrust', 'voronoi',\n",
    "        'unknown'\n",
    "    ],\n",
    "    'data': [\n",
    "        'categorical', 'quantitative', 'indexvalue', 'accumulated',\n",
    "        'percentage', 'probability',\n",
    "        'ordinal', 'ranking', 'sequential',\n",
    "        'timeseries', 'cyclic',\n",
    "        'geospatial', 'flow',\n",
    "        'network', 'tree',\n",
    "        'set', 'bitmap',\n",
    "        'text', 'multivariate',\n",
    "    ],\n",
    "#     'encoding': [\n",
    "#         'position', 'position(unaligned)', 'length', 'area', 'tilt',\n",
    "#         'curvature', 'region', 'motion', 'shape',\n",
    "#         'depth', 'volume',\n",
    "#         'luminance', 'saturation', 'hue'\n",
    "#     ],\n",
    "#     'mark': [\n",
    "#         'line', 'rectangle', 'point'\n",
    "#     ],\n",
    "    'layout': [\n",
    "        'circular', 'infographics', 'stacked', 'map', 'juxtaposition', 'overlay', 'mixed'\n",
    "    ],\n",
    "    'metaphor': [\n",
    "        'pictograph', 'periodictable', 'gear', 'clock'\n",
    "    ],\n",
    "    'media': [\n",
    "        'inreallife', 'printed', 'handdrawn', 'tv', 'ads', 'news', 'NSFW'\n",
    "    ],\n",
    "    'fault': [\n",
    "        'percentage', 'percentage:sum', 'percentage:encoding', 'percentage:wholepart',\n",
    "        'label', 'description',\n",
    "        'axis', 'axis:label', 'axis:flipped', 'axis:truncated', \"axis:missing\", 'axis:double', # axis:dual\n",
    "        'legend',\n",
    "        'color', 'color:over12',\n",
    "        'scale', 'scale:log', 'scale:inconsistent', 'binning',\n",
    "        'area',\n",
    "        'picto:distortion', 'picto:area',\n",
    "        'position', 'itemorder',\n",
    "        'connection',\n",
    "        '3d', 'animation',\n",
    "        'cluttering', 'occulusion',\n",
    "        'data', 'data:selective', 'data:questionable', 'data:missingvalues', 'data:redundant', 'data:prediction',\n",
    "        'index:comparison', # index:crossbasiscomparison\n",
    "        'parody', 'faultylogic', 'missingcontext',\n",
    "        'confirmationbias', 'chartjunk', 'betteralternative',\n",
    "        'faultystatistics', 'invalidcomparison',\n",
    "        'map:population', 'invalidencoding',\n",
    "        'unreadable', 'visuallyawful',\n",
    "        'encoding', 'cannotaddup', 'legibility'\n",
    "    ],\n",
    "    'flag': [\n",
    "        'needreview', 'invalid', 'notbad', 'starred'\n",
    "    ]\n",
    "}"
   ]
  },
  {
   "cell_type": "code",
   "execution_count": 23,
   "metadata": {
    "Collapsed": "false"
   },
   "outputs": [],
   "source": [
    "def prev_id (image_id):\n",
    "    i = image_id\n",
    "    while i in current_ids:\n",
    "        if i == label_img_ids[0]:\n",
    "            break\n",
    "        i = label_img_ids[max(0, find_index(label_img_ids, lambda x: x == i) - 1)]\n",
    "    current_ids.persist_remove(image_id)\n",
    "    current_ids.persist_add(i)\n",
    "    return i\n",
    "\n",
    "def next_id (image_id):\n",
    "    i = image_id\n",
    "    while i in current_ids:\n",
    "        if i == label_img_ids[-1]:\n",
    "            break\n",
    "        i = label_img_ids[min(len(label_img_ids), find_index(label_img_ids, lambda x: x == i) + 1)]\n",
    "    current_ids.persist_remove(image_id)\n",
    "    current_ids.persist_add(i)\n",
    "    return i\n",
    "\n",
    "def prev_img (output, image_id):\n",
    "    show_img(prev_id(image_id), output)\n",
    "\n",
    "def next_img (output, image_id):\n",
    "    show_img(next_id(image_id), output)\n",
    "\n",
    "def show_img (image_id, output=None):\n",
    "    output.clear_output()\n",
    "    with output:\n",
    "        display(make_label_box(image_id, options=labelOptions, next_callback=partial(next_img, output), prev_callback=partial(prev_img, output)))\n",
    "\n",
    "for i, current_id in zip(range(len(current_ids)), list(current_ids)):\n",
    "    show_img(current_id, cell_outputs[i])"
   ]
  },
  {
   "cell_type": "code",
   "execution_count": 24,
   "metadata": {
    "Collapsed": "false"
   },
   "outputs": [
    {
     "data": {
      "application/vnd.jupyter.widget-view+json": {
       "model_id": "623cc31092b143ab975140356a323d2f",
       "version_major": 2,
       "version_minor": 0
      },
      "text/plain": [
       "VBox(children=(Output(layout=Layout(height='830px')), Output(layout=Layout(height='830px'))))"
      ]
     },
     "metadata": {},
     "output_type": "display_data"
    }
   ],
   "source": [
    "VBox(cell_outputs)"
   ]
  },
  {
   "cell_type": "code",
   "execution_count": 25,
   "metadata": {
    "Collapsed": "false"
   },
   "outputs": [
    {
     "ename": "TypeError",
     "evalue": "'NoneType' object is not subscriptable",
     "output_type": "error",
     "traceback": [
      "\u001b[0;31m---------------------------------------------------------------------------\u001b[0m",
      "\u001b[0;31mTypeError\u001b[0m                                 Traceback (most recent call last)",
      "\u001b[0;32m<ipython-input-25-efffa59e3024>\u001b[0m in \u001b[0;36m<module>\u001b[0;34m\u001b[0m\n\u001b[1;32m      1\u001b[0m \u001b[0mimageId\u001b[0m \u001b[0;34m=\u001b[0m \u001b[0;34m'tumblr/wtf-viz/60472192241_0'\u001b[0m\u001b[0;34m\u001b[0m\u001b[0;34m\u001b[0m\u001b[0m\n\u001b[1;32m      2\u001b[0m \u001b[0;31m# imageId = 'reddit/dataisugly/cofock_0'\u001b[0m\u001b[0;34m\u001b[0m\u001b[0;34m\u001b[0m\u001b[0;34m\u001b[0m\u001b[0m\n\u001b[0;32m----> 3\u001b[0;31m \u001b[0mmake_label_box\u001b[0m\u001b[0;34m(\u001b[0m\u001b[0mimageId\u001b[0m\u001b[0;34m,\u001b[0m \u001b[0mlabelOptions\u001b[0m\u001b[0;34m)\u001b[0m\u001b[0;34m\u001b[0m\u001b[0;34m\u001b[0m\u001b[0m\n\u001b[0m",
      "\u001b[0;32m<ipython-input-18-0a058a4a6685>\u001b[0m in \u001b[0;36mmake_label_box\u001b[0;34m(image_id, options, next_callback, prev_callback)\u001b[0m\n\u001b[1;32m      1\u001b[0m \u001b[0;32mdef\u001b[0m \u001b[0mmake_label_box\u001b[0m \u001b[0;34m(\u001b[0m\u001b[0mimage_id\u001b[0m\u001b[0;34m,\u001b[0m \u001b[0moptions\u001b[0m\u001b[0;34m,\u001b[0m \u001b[0mnext_callback\u001b[0m\u001b[0;34m=\u001b[0m\u001b[0;32mNone\u001b[0m\u001b[0;34m,\u001b[0m \u001b[0mprev_callback\u001b[0m\u001b[0;34m=\u001b[0m\u001b[0;32mNone\u001b[0m\u001b[0;34m)\u001b[0m\u001b[0;34m:\u001b[0m\u001b[0;34m\u001b[0m\u001b[0;34m\u001b[0m\u001b[0m\n\u001b[1;32m      2\u001b[0m     \u001b[0mvisImage\u001b[0m \u001b[0;34m=\u001b[0m \u001b[0mvisimages\u001b[0m\u001b[0;34m.\u001b[0m\u001b[0mfind_one\u001b[0m\u001b[0;34m(\u001b[0m\u001b[0;34m{\u001b[0m\u001b[0;34m'image_id'\u001b[0m\u001b[0;34m:\u001b[0m \u001b[0mimage_id\u001b[0m\u001b[0;34m}\u001b[0m\u001b[0;34m)\u001b[0m\u001b[0;34m\u001b[0m\u001b[0;34m\u001b[0m\u001b[0m\n\u001b[0;32m----> 3\u001b[0;31m     \u001b[0mvislabel\u001b[0m \u001b[0;34m=\u001b[0m \u001b[0mfind_label\u001b[0m\u001b[0;34m(\u001b[0m\u001b[0mimage_id\u001b[0m\u001b[0;34m)\u001b[0m\u001b[0;34m\u001b[0m\u001b[0;34m\u001b[0m\u001b[0m\n\u001b[0m\u001b[1;32m      4\u001b[0m \u001b[0;34m\u001b[0m\u001b[0m\n\u001b[1;32m      5\u001b[0m     \u001b[0mlabels\u001b[0m \u001b[0;34m=\u001b[0m \u001b[0mset\u001b[0m\u001b[0;34m(\u001b[0m\u001b[0mvislabel\u001b[0m\u001b[0;34m[\u001b[0m\u001b[0;34m'labels'\u001b[0m\u001b[0;34m]\u001b[0m\u001b[0;34m)\u001b[0m \u001b[0;32mif\u001b[0m \u001b[0mvislabel\u001b[0m \u001b[0;32melse\u001b[0m \u001b[0mset\u001b[0m\u001b[0;34m(\u001b[0m\u001b[0;34m)\u001b[0m\u001b[0;34m\u001b[0m\u001b[0;34m\u001b[0m\u001b[0m\n",
      "\u001b[0;32m<ipython-input-12-968c31ba35b6>\u001b[0m in \u001b[0;36mfind_label\u001b[0;34m(image_id)\u001b[0m\n\u001b[1;32m      1\u001b[0m \u001b[0;32mdef\u001b[0m \u001b[0mfind_label\u001b[0m \u001b[0;34m(\u001b[0m\u001b[0mimage_id\u001b[0m\u001b[0;34m)\u001b[0m\u001b[0;34m:\u001b[0m\u001b[0;34m\u001b[0m\u001b[0;34m\u001b[0m\u001b[0m\n\u001b[1;32m      2\u001b[0m     \u001b[0mimage\u001b[0m \u001b[0;34m=\u001b[0m \u001b[0mvisimages\u001b[0m\u001b[0;34m.\u001b[0m\u001b[0mfind_one\u001b[0m\u001b[0;34m(\u001b[0m\u001b[0;34m{\u001b[0m\u001b[0;34m'image_id'\u001b[0m\u001b[0;34m:\u001b[0m \u001b[0mimage_id\u001b[0m\u001b[0;34m}\u001b[0m\u001b[0;34m)\u001b[0m\u001b[0;34m\u001b[0m\u001b[0;34m\u001b[0m\u001b[0m\n\u001b[0;32m----> 3\u001b[0;31m     \u001b[0mimage_ids\u001b[0m \u001b[0;34m=\u001b[0m \u001b[0;34m[\u001b[0m\u001b[0mimage_id\u001b[0m\u001b[0;34m]\u001b[0m \u001b[0;34m+\u001b[0m \u001b[0;34m[\u001b[0m\u001b[0mi\u001b[0m \u001b[0;32mfor\u001b[0m \u001b[0mi\u001b[0m \u001b[0;32min\u001b[0m \u001b[0mimage\u001b[0m\u001b[0;34m[\u001b[0m\u001b[0;34m'duplicated_images'\u001b[0m\u001b[0;34m]\u001b[0m\u001b[0;34m]\u001b[0m\u001b[0;34m\u001b[0m\u001b[0;34m\u001b[0m\u001b[0m\n\u001b[0m\u001b[1;32m      4\u001b[0m     \u001b[0mvisLabels\u001b[0m \u001b[0;34m=\u001b[0m \u001b[0;34m[\u001b[0m\u001b[0ml\u001b[0m \u001b[0;32mfor\u001b[0m \u001b[0ml\u001b[0m \u001b[0;32min\u001b[0m \u001b[0mvislabels\u001b[0m\u001b[0;34m.\u001b[0m\u001b[0mfind\u001b[0m\u001b[0;34m(\u001b[0m\u001b[0;34m{\u001b[0m\u001b[0;34m'image_id'\u001b[0m\u001b[0;34m:\u001b[0m \u001b[0;34m{\u001b[0m\u001b[0;34m'$in'\u001b[0m\u001b[0;34m:\u001b[0m \u001b[0mimage_ids\u001b[0m\u001b[0;34m}\u001b[0m\u001b[0;34m}\u001b[0m\u001b[0;34m)\u001b[0m\u001b[0;34m]\u001b[0m\u001b[0;34m\u001b[0m\u001b[0;34m\u001b[0m\u001b[0m\n\u001b[1;32m      5\u001b[0m     \u001b[0;32mif\u001b[0m \u001b[0mlen\u001b[0m\u001b[0;34m(\u001b[0m\u001b[0mvisLabels\u001b[0m\u001b[0;34m)\u001b[0m \u001b[0;34m>\u001b[0m \u001b[0;36m1\u001b[0m\u001b[0;34m:\u001b[0m\u001b[0;34m\u001b[0m\u001b[0;34m\u001b[0m\u001b[0m\n",
      "\u001b[0;31mTypeError\u001b[0m: 'NoneType' object is not subscriptable"
     ]
    }
   ],
   "source": [
    "imageId = 'tumblr/wtf-viz/60472192241_0'\n",
    "# imageId = 'reddit/dataisugly/cofock_0'\n",
    "make_label_box(imageId, labelOptions)"
   ]
  },
  {
   "cell_type": "code",
   "execution_count": null,
   "metadata": {
    "Collapsed": "false"
   },
   "outputs": [],
   "source": [
    "# visImages = [i for i in visimages.find()]\n",
    "# visImages.sort(key=lambda x: x['popularity_score'])\n",
    "# visImages.reverse()\n",
    "\n",
    "# def label_images ():\n",
    "#     for i in visImages:\n",
    "#         visLabel = vislabels.find_one({'image_id': i['image_id']})\n",
    "#         if visLabel == None:\n",
    "#             yield i['image_id']\n",
    "\n",
    "# cell_output = widgets.Output()\n",
    "# label_img_ids = [i for i in label_images()]\n",
    "# current = {'image_id': label_img_ids[0]}"
   ]
  },
  {
   "cell_type": "code",
   "execution_count": null,
   "metadata": {
    "Collapsed": "false"
   },
   "outputs": [],
   "source": [
    "# def prev_img (image_id):\n",
    "#     show_img(label_img_ids[max(0, find_index(label_img_ids, lambda x: x == image_id) - 1)])\n",
    "\n",
    "# def next_img (image_id):\n",
    "#     show_img(label_img_ids[min(len(label_img_ids), find_index(label_img_ids, lambda x: x == image_id) + 1)])\n",
    "\n",
    "# def show_img (image_id):\n",
    "#     current['image_id'] = image_id\n",
    "#     cell_output.clear_output()\n",
    "#     with cell_output:\n",
    "#         display(make_label_box(image_id, next_callback=next_img, prev_callback=prev_img))\n",
    "\n",
    "# show_img(current['image_id'])"
   ]
  },
  {
   "cell_type": "code",
   "execution_count": null,
   "metadata": {
    "Collapsed": "false"
   },
   "outputs": [],
   "source": [
    "# cell_output"
   ]
  },
  {
   "cell_type": "code",
   "execution_count": null,
   "metadata": {
    "Collapsed": "false"
   },
   "outputs": [],
   "source": [
    "# label_img = label_images()"
   ]
  },
  {
   "cell_type": "code",
   "execution_count": null,
   "metadata": {
    "Collapsed": "false"
   },
   "outputs": [],
   "source": [
    "# for i in range(3):\n",
    "#     try:\n",
    "#         next_image_id = next(label_img)\n",
    "#     except StopIteration:\n",
    "#         print('StopIteration')\n",
    "#         break\n",
    "\n",
    "#     display(make_label_box(next_image_id))"
   ]
  },
  {
   "cell_type": "code",
   "execution_count": null,
   "metadata": {
    "Collapsed": "false"
   },
   "outputs": [],
   "source": [
    "# def make_colored_text (color, text):\n",
    "#     return r'\\(\\color{' + color + '} {' + text + '}\\)'"
   ]
  }
 ],
 "metadata": {
  "kernelspec": {
   "display_name": "Python 3",
   "language": "python",
   "name": "python3"
  },
  "language_info": {
   "codemirror_mode": {
    "name": "ipython",
    "version": 3
   },
   "file_extension": ".py",
   "mimetype": "text/x-python",
   "name": "python",
   "nbconvert_exporter": "python",
   "pygments_lexer": "ipython3",
   "version": "3.7.6"
  }
 },
 "nbformat": 4,
 "nbformat_minor": 4
}
