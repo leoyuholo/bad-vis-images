{
 "cells": [
  {
   "cell_type": "code",
   "execution_count": 1,
   "metadata": {
    "Collapsed": "false"
   },
   "outputs": [],
   "source": [
    "# !pip install pydash"
   ]
  },
  {
   "cell_type": "code",
   "execution_count": 2,
   "metadata": {
    "Collapsed": "false"
   },
   "outputs": [],
   "source": [
    "from pymongo import MongoClient\n",
    "from functools import cmp_to_key\n",
    "from pathlib import Path\n",
    "import imagehash\n",
    "from tqdm.notebook import tqdm\n",
    "import pydash as _\n",
    "import numpy as np\n",
    "import json\n",
    "import shelve\n",
    "\n",
    "from IPython.display import display, Image\n",
    "from ipywidgets import widgets, HBox, VBox, Box, Layout\n",
    "\n",
    "from lib.parallel import parallel\n",
    "from lib.sort_things import sort_images, simple_sort_images\n",
    "from lib.image_dedup import make_hashes, hashes_diff, is_duplicated\n",
    "from lib.PersistentSet import PersistentSet"
   ]
  },
  {
   "cell_type": "code",
   "execution_count": 3,
   "metadata": {
    "Collapsed": "false"
   },
   "outputs": [],
   "source": [
    "mongo = MongoClient('172.17.0.1', 27017)\n",
    "db = mongo['bad-vis']\n",
    "posts = db['posts']\n",
    "imagefiles = db['imagefiles']\n",
    "imagevalidfiles = db['imagevalidfiles']\n",
    "imagemeta = db['imagemeta']"
   ]
  },
  {
   "cell_type": "code",
   "execution_count": 4,
   "metadata": {
    "Collapsed": "false"
   },
   "outputs": [],
   "source": [
    "images_dir = Path('./images')"
   ]
  },
  {
   "cell_type": "code",
   "execution_count": 5,
   "metadata": {
    "Collapsed": "false"
   },
   "outputs": [],
   "source": [
    "main_image_phashes = shelve.open('handmade/main_image_phashes')"
   ]
  },
  {
   "cell_type": "code",
   "execution_count": 6,
   "metadata": {
    "Collapsed": "false"
   },
   "outputs": [],
   "source": [
    "invalid_post_ids = set(json.load(open('handmade/invalid_post_ids.json')))\n",
    "invalid_image_phashes = set(json.load(open('handmade/invalid_image_phashes.json')))\n",
    "duplicated_image_phash_pairs = PersistentSet.load_set('handmade/duplicated_image_phash_pairs.json')"
   ]
  },
  {
   "cell_type": "code",
   "execution_count": 7,
   "metadata": {
    "Collapsed": "false"
   },
   "outputs": [],
   "source": [
    "imagevalidfiles.drop()\n",
    "imagemeta.drop()"
   ]
  },
  {
   "cell_type": "code",
   "execution_count": 8,
   "metadata": {
    "Collapsed": "false"
   },
   "outputs": [
    {
     "data": {
      "text/plain": [
       "105"
      ]
     },
     "execution_count": 8,
     "metadata": {},
     "output_type": "execute_result"
    }
   ],
   "source": [
    "# discard reddit preview if (Imgur) albums or manual downloaded images exist\n",
    "discard_preview_post_ids = {f['post_id'] for f in [f for f in imagefiles.find({'index_in_album': {'$ne': 0}})]}\n",
    "len(discard_preview_post_ids)"
   ]
  },
  {
   "cell_type": "code",
   "execution_count": 9,
   "metadata": {
    "Collapsed": "false"
   },
   "outputs": [
    {
     "data": {
      "application/vnd.jupyter.widget-view+json": {
       "model_id": "09b1a22790b04ea8aeb3b578bb13542d",
       "version_major": 2,
       "version_minor": 0
      },
      "text/plain": [
       "HBox(children=(FloatProgress(value=1.0, bar_style='info', max=1.0), HTML(value='')))"
      ]
     },
     "metadata": {},
     "output_type": "display_data"
    },
    {
     "name": "stdout",
     "output_type": "stream",
     "text": [
      "\n"
     ]
    }
   ],
   "source": [
    "for f in tqdm(imagefiles.find()):\n",
    "    if f['post_id'] in invalid_post_ids:\n",
    "        # f['invalid'] = 'invalid_post'\n",
    "        continue\n",
    "    if f['phash'] in invalid_image_phashes:\n",
    "        # f['invalid'] = 'invalid_image'\n",
    "        continue\n",
    "    if f['post_id'] in discard_preview_post_ids and f['index_in_album'] == 0:\n",
    "        # f['invalid'] = 'overridden'\n",
    "        continue\n",
    "    imagevalidfiles.insert_one(f)"
   ]
  },
  {
   "cell_type": "markdown",
   "metadata": {
    "Collapsed": "false"
   },
   "source": [
    "# Group image files into images"
   ]
  },
  {
   "cell_type": "code",
   "execution_count": 10,
   "metadata": {
    "Collapsed": "false"
   },
   "outputs": [],
   "source": [
    "class ImageMeta ():\n",
    "    _attrs = [\n",
    "        'id',\n",
    "        'post_id',\n",
    "        'image_id',\n",
    "        'short_image_id',\n",
    "        'album',\n",
    "        'index_in_album',\n",
    "        'image_type',\n",
    "        'file_path',\n",
    "        'source_platform',\n",
    "        'source',\n",
    "        'ext',\n",
    "        'animated',\n",
    "        'size',\n",
    "        'width',\n",
    "        'height',\n",
    "        'pixels',\n",
    "        'thumbnail',\n",
    "        'preview',\n",
    "        'external_link',\n",
    "        'archive',\n",
    "        'manual',\n",
    "        'ahash',\n",
    "        'phash',\n",
    "        'pshash',\n",
    "        'dhash',\n",
    "        'whash',\n",
    "        'related_images',\n",
    "        'image_order'\n",
    "    ]\n",
    "\n",
    "    def __init__ (self, imageFiles=[]):\n",
    "        if len(imageFiles) == 0:\n",
    "            raise Exception('Empty imageFiles array.')\n",
    "        self._imageFiles = imageFiles\n",
    "        self.image_id = imageFiles[0]['image_id']\n",
    "        self.image_order = [i['image_type']\n",
    "                            for i in sort_images([\n",
    "                                getattr(self, a)\n",
    "                                for a in self.available_image_types])]\n",
    "        for k, v in self.main_image.items():\n",
    "            setattr(self, k, v)\n",
    "\n",
    "    def digest (self):\n",
    "        for k, v in self.main_image.items():\n",
    "            setattr(self, k, v)\n",
    "        return {a:getattr(self, a) for a in ImageMeta._attrs}\n",
    "\n",
    "    @property\n",
    "    def is_hash_consistent (self):\n",
    "        return _.every([self.hash_consistent(h) for h in ['phash']])\n",
    "#         return _.every([self.hash_consistent(h) for h in ['ahash', 'phash', 'dhash', 'whash']])\n",
    "\n",
    "    def hash_distance (self, hash_type):\n",
    "        main_hash = imagehash.hex_to_hash(self.main_image[hash_type])\n",
    "        image_types = [t for t in self.image_order if t != 'thumbnail' and t != 'thumbnail_alt']\n",
    "        return [imagehash.hex_to_hash(self.find_image_type(t)[hash_type]) - main_hash for t in image_types]\n",
    "\n",
    "    def hash_consistent (self, hash_type):\n",
    "        main_hash = imagehash.hex_to_hash(self.main_image[hash_type])\n",
    "        return _.every(self.hash_distance(hash_type), lambda x: abs(x) < 5) # magic number threshold, by experiment when trying out the imagehash library\n",
    "\n",
    "    @property\n",
    "    def main_image (self):\n",
    "        if self.main_image_phash:\n",
    "            images = [getattr(self, a) for a in self.image_order]\n",
    "            image = [i for i in images if i['phash'] == self.main_image_phash]\n",
    "            if len(image) > 0:\n",
    "                return image[0]\n",
    "        return getattr(self, self.image_order[0])\n",
    "\n",
    "    @property\n",
    "    def main_image_phash (self):\n",
    "        return main_image_phashes.get(self.image_id, None)\n",
    "\n",
    "    @property\n",
    "    def related_images (self):\n",
    "        return list({f['image_id'] for f in imagefiles.find({'post_id': self.post_id}, {'image_id': 1})})\n",
    "\n",
    "    @property\n",
    "    def thumbnail (self):\n",
    "        return self.find_image_type('thumbnail')\n",
    "\n",
    "    @property\n",
    "    def thumbnail_alt (self):\n",
    "        return self.find_image_type('thumbnail_alt')\n",
    "\n",
    "    @property\n",
    "    def preview (self):\n",
    "        return self.find_image_type('preview')\n",
    "\n",
    "    @property\n",
    "    def preview_alt (self):\n",
    "        return self.find_image_type('preview_alt')\n",
    "\n",
    "    @property\n",
    "    def external_link (self):\n",
    "        return self.find_image_type('external_link')\n",
    "\n",
    "    @property\n",
    "    def external_link_alt (self):\n",
    "        return self.find_image_type('external_link_alt')\n",
    "\n",
    "    @property\n",
    "    def archive (self):\n",
    "        return self.find_image_type('archive')\n",
    "\n",
    "    @property\n",
    "    def manual (self):\n",
    "        return self.find_image_type('manual')\n",
    "\n",
    "    def find_image_type (self, image_type):\n",
    "        return _.find(self._imageFiles, lambda x: x['image_type'] == image_type)\n",
    "\n",
    "    @property\n",
    "    def available_image_types (self):\n",
    "        return [image_type\n",
    "             for image_type in ['manual', 'archive', 'external_link', 'external_link_alt', 'preview', 'preview_alt', 'thumbnail', 'thumbnail_alt']\n",
    "             if getattr(self, image_type)]"
   ]
  },
  {
   "cell_type": "code",
   "execution_count": 11,
   "metadata": {
    "Collapsed": "false"
   },
   "outputs": [],
   "source": [
    "def make_imageMeta (image_id):\n",
    "    imageFiles = [i for i in imagevalidfiles.find({'image_id': image_id})]\n",
    "\n",
    "    if imageFiles[0]['post_id'] in invalid_post_ids:\n",
    "        return\n",
    "\n",
    "    if not posts.find_one({'post_id': imageFiles[0]['post_id']}, {'_id': 1}):\n",
    "        print(f\"Cannot find corresponding post: {imageFiles[0]['post_id']}\")\n",
    "        return\n",
    "\n",
    "    valid_imageFiles = [i for i in imageFiles if i['phash'] not in invalid_image_phashes]\n",
    "    if len(valid_imageFiles) == 0:\n",
    "        print(f\"All image files are invalid: {image_id}\")\n",
    "        return\n",
    "\n",
    "    for i in valid_imageFiles:\n",
    "        del i['_id']\n",
    "    imageMeta = ImageMeta(valid_imageFiles)\n",
    "    imagemeta.replace_one({'image_id': imageMeta.image_id}, imageMeta.digest(), upsert=True)\n",
    "    return imageMeta"
   ]
  },
  {
   "cell_type": "code",
   "execution_count": 12,
   "metadata": {
    "Collapsed": "false"
   },
   "outputs": [
    {
     "data": {
      "application/vnd.jupyter.widget-view+json": {
       "model_id": "d46299087fc54a958efeb0d7bef13916",
       "version_major": 2,
       "version_minor": 0
      },
      "text/plain": [
       "HBox(children=(FloatProgress(value=0.0, max=6738.0), HTML(value='')))"
      ]
     },
     "metadata": {},
     "output_type": "display_data"
    },
    {
     "name": "stdout",
     "output_type": "stream",
     "text": [
      "\n"
     ]
    }
   ],
   "source": [
    "imageMetas = parallel(make_imageMeta, {f['image_id'] for f in imagevalidfiles.find({}, {'image_id': 1})})\n",
    "# imageMetas = parallel(make_imageMeta, {f['image_id'] for f in imagefiles.find({'source_platform': 'reddit'}, {'image_id': 1})})"
   ]
  },
  {
   "cell_type": "markdown",
   "metadata": {
    "Collapsed": "false"
   },
   "source": [
    "# Find images with inconsistent hash"
   ]
  },
  {
   "cell_type": "code",
   "execution_count": 13,
   "metadata": {
    "Collapsed": "false"
   },
   "outputs": [],
   "source": [
    "def make_link (url, text):\n",
    "    return widgets.HTML(value=f\"<a href='{url}' target='_blank'>{text}</a>\")\n",
    "\n",
    "def make_main_image_box (imageMeta):\n",
    "\n",
    "    layoutArgs = {\n",
    "        'padding': '10px',\n",
    "        'margin': '5px',\n",
    "        'border': '3px solid lightblue'\n",
    "    }\n",
    "\n",
    "    output = widgets.Output()\n",
    "\n",
    "    def select (phash):\n",
    "        with output:\n",
    "            print(f\"-{main_image_phashes.get(imageMeta.image_id, '')}\")\n",
    "            main_image_phashes[imageMeta.image_id] = phash\n",
    "            imagemeta.replace_one({'image_id': imageMeta.image_id}, imageMeta.digest(), upsert=True)\n",
    "            print(f\"+{phash}\")\n",
    "            print(f\"+: {imageMeta.main_image['image_type']}\")\n",
    "\n",
    "    def makeSelectBtn (imageFile):\n",
    "        btn = widgets.Button(description=\"Select\", button_style='')\n",
    "        btn.on_click(lambda b: select(imageFile['phash']))\n",
    "        return btn\n",
    "\n",
    "    def makeImageBox (imageFile):\n",
    "        return VBox([\n",
    "            widgets.Label(value=f\"{imageFile['image_type']} {imageFile['ext']}\"),\n",
    "            widgets.Label(value=f\"{imageFile['width']} {imageFile['height']} {imageFile['size']}\"),\n",
    "            widgets.Label(value=f\"{imageFile['phash']}\"),\n",
    "            widgets.Image(value=open(imageFile['file_path'], 'rb').read(), width=200),\n",
    "            makeSelectBtn(imageFile)\n",
    "        ])\n",
    "\n",
    "    with output:\n",
    "        print(f\"manual: {main_image_phashes.get(imageMeta.image_id, '')}\")\n",
    "        print(f\"phash: {imageMeta.phash}\")\n",
    "        print(f\"image_type: {imageMeta.image_type}\")\n",
    "\n",
    "    return HBox(\n",
    "        [VBox([\n",
    "            make_link(f\"https://www.reddit.com/r/{imageMeta.source}/comments/{imageMeta.id}\", imageMeta.image_id),\n",
    "            output\n",
    "        ], layout=Layout(**layoutArgs))] + [makeImageBox(imageMeta.find_image_type(i)) for i in imageMeta.image_order])"
   ]
  },
  {
   "cell_type": "code",
   "execution_count": 14,
   "metadata": {
    "Collapsed": "false"
   },
   "outputs": [
    {
     "data": {
      "application/vnd.jupyter.widget-view+json": {
       "model_id": "6dde3ab8755043ef8fde0a89f8ff6dc0",
       "version_major": 2,
       "version_minor": 0
      },
      "text/plain": [
       "HBox(children=(FloatProgress(value=0.0, max=6738.0), HTML(value='')))"
      ]
     },
     "metadata": {},
     "output_type": "display_data"
    },
    {
     "name": "stdout",
     "output_type": "stream",
     "text": [
      "\n"
     ]
    }
   ],
   "source": [
    "cnt = 0\n",
    "for imageMeta in tqdm(imageMetas):\n",
    "    if not imageMeta:\n",
    "        continue\n",
    "    if not imageMeta.is_hash_consistent and imageMeta.image_order[0] != 'manual' and not imageMeta.main_image_phash:\n",
    "#     if not imageMeta.is_hash_consistent and imageMeta.image_order[0] != 'manual':\n",
    "        display(make_main_image_box(imageMeta))\n",
    "        cnt += 1\n",
    "        if cnt >= 10:\n",
    "            break"
   ]
  },
  {
   "cell_type": "code",
   "execution_count": 15,
   "metadata": {
    "Collapsed": "false"
   },
   "outputs": [],
   "source": [
    "# m = ImageMeta([f for f in imagevalidfiles.find({'id': '32rnec'})])\n",
    "# display(make_main_image_box(m))"
   ]
  },
  {
   "cell_type": "markdown",
   "metadata": {
    "Collapsed": "false"
   },
   "source": [
    "# Visually check invalid images"
   ]
  },
  {
   "cell_type": "code",
   "execution_count": 16,
   "metadata": {
    "Collapsed": "false"
   },
   "outputs": [],
   "source": [
    "# invalids = []\n",
    "# for h in invalid_image_phashes:\n",
    "#     invalid_images = [f for f in imagefiles.find({'phash': h})]\n",
    "#     if not invalid_images:\n",
    "#         continue\n",
    "# #     print(f\"{h} {[i['image_id'] for i in invalid_images]}\")\n",
    "# #     display(HBox([\n",
    "# #             widgets.Image(value=open(i['file_path'], 'rb').read(), width=100, height=100)\n",
    "# #             for i in invalid_images]))\n",
    "#     invalids.append(invalid_images[0])"
   ]
  },
  {
   "cell_type": "code",
   "execution_count": 17,
   "metadata": {
    "Collapsed": "false"
   },
   "outputs": [],
   "source": [
    "# display(Box([widgets.Image(value=open(i['file_path'], 'rb').read(), width=100, height=100) for i in invalids],\n",
    "#                 layout=Layout(display='flex', flex_flow='row wrap')))"
   ]
  },
  {
   "cell_type": "code",
   "execution_count": 18,
   "metadata": {
    "Collapsed": "false"
   },
   "outputs": [],
   "source": [
    "# duplicated_image_ids = [c\n",
    "#                      for c in nx.components.connected_components(nx.Graph(distance <= 1))\n",
    "#                      if len(c) > 1]\n",
    "# len(duplicated_image_ids)\n",
    "# for idxs in duplicated_image_ids:\n",
    "#     print(f\"{[imageDedup[i]['image_id'] for i in idxs]}\")\n",
    "#     if len(idxs) >= 4:\n",
    "#         display(HBox([\n",
    "#             widgets.Image(value=open(imageDedup[i]['file_path'], 'rb').read(), width=100, height=100)\n",
    "#             for i in idxs]))"
   ]
  },
  {
   "cell_type": "code",
   "execution_count": null,
   "metadata": {
    "Collapsed": "false"
   },
   "outputs": [],
   "source": []
  }
 ],
 "metadata": {
  "kernelspec": {
   "display_name": "Python 3",
   "language": "python",
   "name": "python3"
  },
  "language_info": {
   "codemirror_mode": {
    "name": "ipython",
    "version": 3
   },
   "file_extension": ".py",
   "mimetype": "text/x-python",
   "name": "python",
   "nbconvert_exporter": "python",
   "pygments_lexer": "ipython3",
   "version": "3.7.6"
  },
  "widgets": {
   "application/vnd.jupyter.widget-state+json": {
    "state": {
     "10f8a5ca755b4a6ca22b95b79c39ae78": {
      "model_module": "@jupyter-widgets/base",
      "model_module_version": "1.2.0",
      "model_name": "LayoutModel",
      "state": {}
     },
     "114a410f07d74359897fb8fe9d8bd4e6": {
      "model_module": "@jupyter-widgets/controls",
      "model_module_version": "1.5.0",
      "model_name": "ProgressStyleModel",
      "state": {
       "description_width": "initial"
      }
     },
     "18c8d1b0dc854c289539cd442a8a666f": {
      "model_module": "@jupyter-widgets/controls",
      "model_module_version": "1.5.0",
      "model_name": "HTMLModel",
      "state": {
       "layout": "IPY_MODEL_5aee68b8a05145d49036b439f223cc80",
       "style": "IPY_MODEL_d3d3c961723447389cbc4671443998f4",
       "value": " 7999/7999 [20:09&lt;00:00,  6.62it/s]"
      }
     },
     "35dae7b3de55490fb56556e2012d397b": {
      "model_module": "@jupyter-widgets/controls",
      "model_module_version": "1.5.0",
      "model_name": "ProgressStyleModel",
      "state": {
       "description_width": "initial"
      }
     },
     "51c1664e3e294c03b0a142d7470ee0a9": {
      "model_module": "@jupyter-widgets/base",
      "model_module_version": "1.2.0",
      "model_name": "LayoutModel",
      "state": {}
     },
     "5a305fe6d3b04193b068d3c720a2ce80": {
      "model_module": "@jupyter-widgets/controls",
      "model_module_version": "1.5.0",
      "model_name": "HTMLModel",
      "state": {
       "layout": "IPY_MODEL_f021203cce5941d5b2f4daa146979a97",
       "style": "IPY_MODEL_eb7921a1228a442b9e88c23320a77c6d",
       "value": " 8066/8066 [02:29&lt;00:00, 53.89it/s]"
      }
     },
     "5aee68b8a05145d49036b439f223cc80": {
      "model_module": "@jupyter-widgets/base",
      "model_module_version": "1.2.0",
      "model_name": "LayoutModel",
      "state": {}
     },
     "7ce32ac60e04449ab8c4c4a0d4adef79": {
      "model_module": "@jupyter-widgets/base",
      "model_module_version": "1.2.0",
      "model_name": "LayoutModel",
      "state": {}
     },
     "7f584b9f170c41dfab6f4c852c0f4d18": {
      "model_module": "@jupyter-widgets/controls",
      "model_module_version": "1.5.0",
      "model_name": "FloatProgressModel",
      "state": {
       "bar_style": "success",
       "description": "100%",
       "layout": "IPY_MODEL_7ce32ac60e04449ab8c4c4a0d4adef79",
       "max": 7999,
       "style": "IPY_MODEL_35dae7b3de55490fb56556e2012d397b",
       "value": 7999
      }
     },
     "c5c8ae60e5cb4accbfad79e35abfc345": {
      "model_module": "@jupyter-widgets/controls",
      "model_module_version": "1.5.0",
      "model_name": "HBoxModel",
      "state": {
       "children": [
        "IPY_MODEL_f64cdc2233a34315bde8c40ab3f16d86",
        "IPY_MODEL_5a305fe6d3b04193b068d3c720a2ce80"
       ],
       "layout": "IPY_MODEL_10f8a5ca755b4a6ca22b95b79c39ae78"
      }
     },
     "d3d3c961723447389cbc4671443998f4": {
      "model_module": "@jupyter-widgets/controls",
      "model_module_version": "1.5.0",
      "model_name": "DescriptionStyleModel",
      "state": {
       "description_width": ""
      }
     },
     "e3f573de85ce416d83775827bd9e897a": {
      "model_module": "@jupyter-widgets/base",
      "model_module_version": "1.2.0",
      "model_name": "LayoutModel",
      "state": {}
     },
     "eb7921a1228a442b9e88c23320a77c6d": {
      "model_module": "@jupyter-widgets/controls",
      "model_module_version": "1.5.0",
      "model_name": "DescriptionStyleModel",
      "state": {
       "description_width": ""
      }
     },
     "f021203cce5941d5b2f4daa146979a97": {
      "model_module": "@jupyter-widgets/base",
      "model_module_version": "1.2.0",
      "model_name": "LayoutModel",
      "state": {}
     },
     "f0ca0b20e98d4e8782f0331d3680ca99": {
      "model_module": "@jupyter-widgets/controls",
      "model_module_version": "1.5.0",
      "model_name": "HBoxModel",
      "state": {
       "children": [
        "IPY_MODEL_7f584b9f170c41dfab6f4c852c0f4d18",
        "IPY_MODEL_18c8d1b0dc854c289539cd442a8a666f"
       ],
       "layout": "IPY_MODEL_e3f573de85ce416d83775827bd9e897a"
      }
     },
     "f64cdc2233a34315bde8c40ab3f16d86": {
      "model_module": "@jupyter-widgets/controls",
      "model_module_version": "1.5.0",
      "model_name": "FloatProgressModel",
      "state": {
       "bar_style": "success",
       "description": "100%",
       "layout": "IPY_MODEL_51c1664e3e294c03b0a142d7470ee0a9",
       "max": 8066,
       "style": "IPY_MODEL_114a410f07d74359897fb8fe9d8bd4e6",
       "value": 8066
      }
     }
    },
    "version_major": 2,
    "version_minor": 0
   }
  }
 },
 "nbformat": 4,
 "nbformat_minor": 4
}
