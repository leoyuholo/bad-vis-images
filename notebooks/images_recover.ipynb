{
 "cells": [
  {
   "cell_type": "code",
   "execution_count": 1,
   "metadata": {
    "Collapsed": "false"
   },
   "outputs": [],
   "source": [
    "import requests_cache\n",
    "requests_cache.install_cache('web_cache/archive')"
   ]
  },
  {
   "cell_type": "code",
   "execution_count": 2,
   "metadata": {
    "Collapsed": "false"
   },
   "outputs": [],
   "source": [
    "from pymongo import MongoClient\n",
    "import requests\n",
    "from pathlib import Path\n",
    "import pandas as pd\n",
    "import glob\n",
    "from PIL import Image\n",
    "from io import BytesIO\n",
    "from matplotlib.pyplot import imshow\n",
    "import numpy as np\n",
    "from joblib import Parallel, delayed\n",
    "from tqdm.notebook import tqdm\n",
    "import json\n",
    "import magic\n",
    "import time\n",
    "from collections import Counter\n",
    "\n",
    "from lib.parallel import parallel\n",
    "\n",
    "from IPython.display import JSON"
   ]
  },
  {
   "cell_type": "code",
   "execution_count": 3,
   "metadata": {
    "Collapsed": "false"
   },
   "outputs": [],
   "source": [
    "mongo = MongoClient('172.17.0.1', 27017)\n",
    "db = mongo['bad-vis']\n",
    "posts = db['posts']\n",
    "dlthumbnailresults = db['dlthumbnailresults']\n",
    "dlpreviewresults = db['dlpreviewresults']\n",
    "dlexternalresults = db['dlexternalresults']\n",
    "dlthumbnailaltresults = db['dlthumbnailaltresults']\n",
    "dlpreviewaltresults = db['dlpreviewaltresults']\n",
    "dlexternalaltresults = db['dlexternalaltresults']\n",
    "dlarchiveresults = db['dlarchiveresults']"
   ]
  },
  {
   "cell_type": "code",
   "execution_count": 4,
   "metadata": {
    "Collapsed": "false"
   },
   "outputs": [],
   "source": [
    "images_dir = Path('../images')"
   ]
  },
  {
   "cell_type": "markdown",
   "metadata": {
    "Collapsed": "false"
   },
   "source": [
    "# Find urls need recovery"
   ]
  },
  {
   "cell_type": "code",
   "execution_count": 6,
   "metadata": {
    "Collapsed": "false"
   },
   "outputs": [
    {
     "data": {
      "text/plain": [
       "2360"
      ]
     },
     "execution_count": 6,
     "metadata": {},
     "output_type": "execute_result"
    }
   ],
   "source": [
    "recover_downloads = []\n",
    "dbs = [\n",
    "    dlthumbnailresults,\n",
    "    dlpreviewresults,\n",
    "    dlexternalresults,\n",
    "    dlthumbnailaltresults,\n",
    "    dlpreviewaltresults,\n",
    "    dlexternalaltresults\n",
    "]\n",
    "for db in dbs:\n",
    "    recover_downloads += [p for p in db.find()\n",
    "                          if (p['status'] == 'not_found' or\n",
    "                           p['status'] == 'http_error' or\n",
    "                           p['status'] == 'download_error' or\n",
    "                           p['status'] == 'invalid_content_type' or\n",
    "                           p['status'] == 'skip_content_type')]\n",
    "len(recover_downloads)"
   ]
  },
  {
   "cell_type": "markdown",
   "metadata": {
    "Collapsed": "true"
   },
   "source": [
    "## Also recover invalid images"
   ]
  },
  {
   "cell_type": "code",
   "execution_count": 7,
   "metadata": {
    "Collapsed": "false"
   },
   "outputs": [],
   "source": [
    "# imagefiles = db['imagefiles']\n",
    "# invalid_image_phashes = set(json.load(open('handmade/invalid_image_phashes.json')))\n",
    "\n",
    "# invalid_images = [{\n",
    "#     'id': i['id'],\n",
    "#     'post_id': i['post_id'],\n",
    "#     'link': posts.find_one({'post_id': i['post_id']})['external_link'],\n",
    "#     'dest': i['file_path'],\n",
    "#     'status': 'invalid_image',\n",
    "#     'request_status': 500\n",
    "# } for i in imagefiles.find() if i['phash'] in invalid_image_phashes]\n",
    "# len(invalid_images)\n",
    "\n",
    "# recover_downloads += invalid_images\n",
    "# len(recover_downloads)"
   ]
  },
  {
   "cell_type": "markdown",
   "metadata": {
    "Collapsed": "true"
   },
   "source": [
    "# Test recovering"
   ]
  },
  {
   "cell_type": "code",
   "execution_count": 8,
   "metadata": {
    "Collapsed": "false"
   },
   "outputs": [],
   "source": [
    "# recover_downloads[0]"
   ]
  },
  {
   "cell_type": "code",
   "execution_count": 9,
   "metadata": {
    "Collapsed": "false"
   },
   "outputs": [],
   "source": [
    "# r = requests.get(f\"https://archive.org/wayback/available?url={recover_downloads[0]['link']}\")\n",
    "# r_json = r.json()\n",
    "# JSON(r_json)"
   ]
  },
  {
   "cell_type": "code",
   "execution_count": 10,
   "metadata": {
    "Collapsed": "false"
   },
   "outputs": [],
   "source": [
    "# url = r_json['archived_snapshots']['closest']['url'].replace('/http', 'if_/http')\n",
    "# url"
   ]
  },
  {
   "cell_type": "code",
   "execution_count": 11,
   "metadata": {
    "Collapsed": "false"
   },
   "outputs": [],
   "source": [
    "# r = requests.get(url)\n",
    "# pil_image = Image.open(BytesIO(r.content))\n",
    "# imshow(np.asarray(pil_image))"
   ]
  },
  {
   "cell_type": "markdown",
   "metadata": {
    "Collapsed": "false"
   },
   "source": [
    "# Recover"
   ]
  },
  {
   "cell_type": "code",
   "execution_count": 12,
   "metadata": {
    "Collapsed": "false"
   },
   "outputs": [],
   "source": [
    "def get_content_type_ext (content_type, req=None):\n",
    "    content_type = content_type.lower()\n",
    "    if content_type.startswith('image/jpeg') or content_type.startswith('image/jpg'):\n",
    "        return '.jpg'\n",
    "    elif content_type.startswith('image/png'):\n",
    "        return '.png'\n",
    "    elif content_type.startswith('image/gif'):\n",
    "        return '.gif'\n",
    "    elif content_type.startswith('image/webp'):\n",
    "        return '.webp'\n",
    "    elif content_type.startswith('image/svg'):\n",
    "        return '.svg'\n",
    "    elif content_type.startswith('image/bmp'):\n",
    "        return '.bmp'\n",
    "    elif req:\n",
    "        return get_content_type_ext(magic.from_buffer(req.content, mime=True))\n",
    "    elif content_type.startswith('text/html'):\n",
    "        return '.html'\n",
    "    elif content_type.startswith('application/pdf'):\n",
    "        return '.pdf'\n",
    "    else:\n",
    "        print(f'Unknow content-type: {content_type}')\n",
    "        return ''\n",
    "\n",
    "def download_image (post, t='preview', outdir=None):\n",
    "    with requests.Session() as session:\n",
    "        if t in post:\n",
    "            if type(post[t]) == str:\n",
    "                link = post[t]\n",
    "            else:\n",
    "                link = post[t]['url']\n",
    "        else:\n",
    "            link = ''\n",
    "        if not outdir:\n",
    "            outdir = t\n",
    "        result = {\n",
    "            'id': post['id'],\n",
    "            'post_id': post['post_id'],\n",
    "            'link': link,\n",
    "            'dest': images_dir/outdir/post['post_id']\n",
    "        }\n",
    "\n",
    "        if len(glob.glob(f'{result[\"dest\"]}*')) != 0:\n",
    "            result['status'] = 'exists'\n",
    "            return result\n",
    "        else:\n",
    "            result['dest'].parent.mkdir(parents=True, exist_ok=True)\n",
    "\n",
    "        if not link or link == 'None' or type(link) != str:\n",
    "            result['status'] = 'invalid_url'\n",
    "            return result\n",
    "\n",
    "        try:\n",
    "            archive_url = f\"https://archive.org/wayback/available?url={link}\"\n",
    "            r = session.get(archive_url)\n",
    "            if r.status_code >= 400:\n",
    "                result['archive_status'] = 'archive_query_error'\n",
    "                return result\n",
    "            r_text = r.text\n",
    "            r_json = json.loads(r_text)\n",
    "            if 'closest' in r_json['archived_snapshots']:\n",
    "                result['archive_link'] = r_json['archived_snapshots']['closest']['url'].replace('/http', 'if_/http')\n",
    "                r = session.get(result['archive_link'])\n",
    "                result['archive_request_status'] = r.status_code\n",
    "                if result['archive_request_status'] >= 400:\n",
    "                    result['archive_status'] = 'archive_error'\n",
    "                    return result\n",
    "            else:\n",
    "                result['archive_status'] = 'archive_not_found'\n",
    "                return result\n",
    "\n",
    "            result['ext'] = get_content_type_ext(r.headers.get('content-type'), r)\n",
    "            if result['ext'] == '':\n",
    "                result['status'] = 'invalid_content_type'\n",
    "                print(f'id: {result[\"id\"]} link: {result[\"link\"]}')\n",
    "                return result\n",
    "            if result['ext'] == '.html' or result['ext'] == '.pdf':\n",
    "                result['status'] = 'skip_content_type'\n",
    "                return result\n",
    "\n",
    "            result['output'] = f'{result[\"dest\"]}{result[\"ext\"]}'\n",
    "            with open(result['output'], 'wb') as f:\n",
    "                f.write(r.content)\n",
    "            result['status'] = 'downloaded'\n",
    "            return result\n",
    "        except Exception as inst:\n",
    "            print(f\"Download error: {post['post_id']} {link} {inst} {r.status_code}\")\n",
    "            print(f\"Archive: {post['post_id']} {archive_url}\")\n",
    "            result['status'] = 'download_error'\n",
    "            return result\n",
    "\n",
    "        return result"
   ]
  },
  {
   "cell_type": "code",
   "execution_count": 13,
   "metadata": {
    "Collapsed": "false"
   },
   "outputs": [],
   "source": [
    "# !rm images/archive/reddit/dataisugly/763yfl.png"
   ]
  },
  {
   "cell_type": "code",
   "execution_count": 14,
   "metadata": {
    "Collapsed": "false"
   },
   "outputs": [],
   "source": [
    "# !ls -al images/archive/reddit/dataisugly/763yfl.png"
   ]
  },
  {
   "cell_type": "code",
   "execution_count": 15,
   "metadata": {
    "Collapsed": "false"
   },
   "outputs": [],
   "source": [
    "# for post in [dlexternalresults.find_one({'id': '763yfl'})]:\n",
    "#     result = download_image(post, t='link', outdir='archive')\n",
    "#     print(result)"
   ]
  },
  {
   "cell_type": "code",
   "execution_count": 16,
   "metadata": {
    "Collapsed": "false"
   },
   "outputs": [
    {
     "data": {
      "application/vnd.jupyter.widget-view+json": {
       "model_id": "3405baeea08f4ed4983587b6ca92fbcb",
       "version_major": 2,
       "version_minor": 0
      },
      "text/plain": [
       "HBox(children=(FloatProgress(value=0.0, max=2360.0), HTML(value='')))"
      ]
     },
     "metadata": {},
     "output_type": "display_data"
    },
    {
     "name": "stdout",
     "output_type": "stream",
     "text": [
      "Unknow content-type: application/octet-stream\n",
      "id: 6896pd link: http://gervise.com/681-2\n",
      "Unknow content-type: application/octet-stream\n",
      "id: 3wkmlo link: http://www.unz.com/isteve/how-many-would-emigrate-almost-7-billion-people-live-in-countries-poorer-than-us/\n",
      "Unknow content-type: application/octet-stream\n",
      "id: 3fow34 link: http://www.cdc.gov/mmwr/preview/mmwrhtml/mm6032a3.htm\n",
      "Unknow content-type: text/xml\n",
      "id: 2waaf6 link: http://www.msn.com/en-us/news/us/map-shows-loudest-and-quietest-places-in-the-us/ar-BBhGetT\n",
      "Unknow content-type: application/octet-stream\n",
      "id: 1oxrh5 link: http://www.badfigure.org/\n",
      "\n"
     ]
    }
   ],
   "source": [
    "dl_archive_results = parallel(download_image,\n",
    "                              recover_downloads,\n",
    "                              total=len(recover_downloads),\n",
    "                              params_dict={'t': 'link', 'outdir': 'archive'})"
   ]
  },
  {
   "cell_type": "code",
   "execution_count": 17,
   "metadata": {
    "Collapsed": "false"
   },
   "outputs": [
    {
     "data": {
      "text/plain": [
       "<pymongo.results.InsertManyResult at 0x7ff493b9d140>"
      ]
     },
     "execution_count": 17,
     "metadata": {},
     "output_type": "execute_result"
    }
   ],
   "source": [
    "for r in dl_archive_results:\n",
    "    r['dest'] = str(r['dest'])\n",
    "\n",
    "dlarchiveresults.drop()\n",
    "dlarchiveresults.insert_many(dl_archive_results)"
   ]
  },
  {
   "cell_type": "code",
   "execution_count": 18,
   "metadata": {
    "Collapsed": "false"
   },
   "outputs": [
    {
     "data": {
      "text/plain": [
       "Counter({'archive_query_error': 557,\n",
       "         'archive_not_found': 1146,\n",
       "         'exists': 169,\n",
       "         'downloaded': 12,\n",
       "         'skip_content_type': 471,\n",
       "         'invalid_content_type': 5})"
      ]
     },
     "execution_count": 18,
     "metadata": {},
     "output_type": "execute_result"
    }
   ],
   "source": [
    "Counter([r['archive_status'] if 'archive_status' in r else r['status'] for r in dl_archive_results])"
   ]
  },
  {
   "cell_type": "code",
   "execution_count": null,
   "metadata": {
    "Collapsed": "false"
   },
   "outputs": [],
   "source": []
  }
 ],
 "metadata": {
  "kernelspec": {
   "display_name": "Python 3",
   "language": "python",
   "name": "python3"
  },
  "language_info": {
   "codemirror_mode": {
    "name": "ipython",
    "version": 3
   },
   "file_extension": ".py",
   "mimetype": "text/x-python",
   "name": "python",
   "nbconvert_exporter": "python",
   "pygments_lexer": "ipython3",
   "version": "3.7.6"
  },
  "widgets": {
   "application/vnd.jupyter.widget-state+json": {
    "state": {
     "01420ca766694cd989dda69499c042a4": {
      "model_module": "@jupyter-widgets/controls",
      "model_module_version": "1.5.0",
      "model_name": "ProgressStyleModel",
      "state": {
       "description_width": "initial"
      }
     },
     "0d232df21dad4cbaae442d06c18c88ca": {
      "model_module": "@jupyter-widgets/base",
      "model_module_version": "1.2.0",
      "model_name": "LayoutModel",
      "state": {}
     },
     "0d2a966999d14f0d9102c9c25789a5fd": {
      "model_module": "@jupyter-widgets/base",
      "model_module_version": "1.2.0",
      "model_name": "LayoutModel",
      "state": {}
     },
     "1663a122af5a4f2ead1d55c4173bfae1": {
      "model_module": "@jupyter-widgets/controls",
      "model_module_version": "1.5.0",
      "model_name": "HTMLModel",
      "state": {
       "layout": "IPY_MODEL_0d2a966999d14f0d9102c9c25789a5fd",
       "style": "IPY_MODEL_4e0eae4dec124399ab9955d8d1f48a01",
       "value": " 864/864 [00:01&lt;00:00, 504.99it/s]"
      }
     },
     "1766fdc739e9489f92933ca90ab51d36": {
      "model_module": "@jupyter-widgets/controls",
      "model_module_version": "1.5.0",
      "model_name": "FloatProgressModel",
      "state": {
       "bar_style": "success",
       "description": "100%",
       "layout": "IPY_MODEL_0d232df21dad4cbaae442d06c18c88ca",
       "max": 864,
       "style": "IPY_MODEL_57f2319ad5a843aab57cf1d99f07c973",
       "value": 864
      }
     },
     "1fea726973e64b5280166488193d2282": {
      "model_module": "@jupyter-widgets/controls",
      "model_module_version": "1.5.0",
      "model_name": "HTMLModel",
      "state": {
       "layout": "IPY_MODEL_9c3fd141835442778a2f4b2847f7ccc2",
       "style": "IPY_MODEL_7e23d6a629de487dab10d7b37430b6de",
       "value": " 864/864 [01:27&lt;00:00,  9.87it/s]"
      }
     },
     "20acd25622674fb98291c9e72ee1d956": {
      "model_module": "@jupyter-widgets/base",
      "model_module_version": "1.2.0",
      "model_name": "LayoutModel",
      "state": {}
     },
     "2ab061f3bae34039b3c74c6498ada705": {
      "model_module": "@jupyter-widgets/controls",
      "model_module_version": "1.5.0",
      "model_name": "FloatProgressModel",
      "state": {
       "bar_style": "success",
       "description": "100%",
       "layout": "IPY_MODEL_9dd5db6c1cb34004963a5e142cb53bc4",
       "max": 864,
       "style": "IPY_MODEL_635b2ab2536741ffaf9d83c0cf92d656",
       "value": 864
      }
     },
     "3516d5200db647ef8e5232bde8ff3afb": {
      "model_module": "@jupyter-widgets/controls",
      "model_module_version": "1.5.0",
      "model_name": "HTMLModel",
      "state": {
       "layout": "IPY_MODEL_72967e0e4f4f4316baf0e36cdd655fe3",
       "style": "IPY_MODEL_df4b37fc90544e4c8808768d839e4486",
       "value": " 864/864 [00:01&lt;00:00, 513.69it/s]"
      }
     },
     "3944c4bc0d24410e883ce4efd24cc0c8": {
      "model_module": "@jupyter-widgets/base",
      "model_module_version": "1.2.0",
      "model_name": "LayoutModel",
      "state": {}
     },
     "3cc5e35532694582b0480b20f8a3a898": {
      "model_module": "@jupyter-widgets/controls",
      "model_module_version": "1.5.0",
      "model_name": "HBoxModel",
      "state": {
       "children": [
        "IPY_MODEL_1766fdc739e9489f92933ca90ab51d36",
        "IPY_MODEL_3516d5200db647ef8e5232bde8ff3afb"
       ],
       "layout": "IPY_MODEL_b4f6f4375a9b481d85357a1c892752d5"
      }
     },
     "3e54dccb569b4ead9970dafdc934fc87": {
      "model_module": "@jupyter-widgets/controls",
      "model_module_version": "1.5.0",
      "model_name": "ProgressStyleModel",
      "state": {
       "description_width": "initial"
      }
     },
     "4073367645ed4f1688d539d83f8a5d11": {
      "model_module": "@jupyter-widgets/controls",
      "model_module_version": "1.5.0",
      "model_name": "HTMLModel",
      "state": {
       "layout": "IPY_MODEL_3944c4bc0d24410e883ce4efd24cc0c8",
       "style": "IPY_MODEL_9900689c89744bc5bdb1a35916fbef20",
       "value": " 864/864 [00:03&lt;00:00, 269.11it/s]"
      }
     },
     "4e0eae4dec124399ab9955d8d1f48a01": {
      "model_module": "@jupyter-widgets/controls",
      "model_module_version": "1.5.0",
      "model_name": "DescriptionStyleModel",
      "state": {
       "description_width": ""
      }
     },
     "57f2319ad5a843aab57cf1d99f07c973": {
      "model_module": "@jupyter-widgets/controls",
      "model_module_version": "1.5.0",
      "model_name": "ProgressStyleModel",
      "state": {
       "description_width": "initial"
      }
     },
     "635b2ab2536741ffaf9d83c0cf92d656": {
      "model_module": "@jupyter-widgets/controls",
      "model_module_version": "1.5.0",
      "model_name": "ProgressStyleModel",
      "state": {
       "description_width": "initial"
      }
     },
     "6a5a85e94edd4975af6bd8292e9003fe": {
      "model_module": "@jupyter-widgets/base",
      "model_module_version": "1.2.0",
      "model_name": "LayoutModel",
      "state": {}
     },
     "72967e0e4f4f4316baf0e36cdd655fe3": {
      "model_module": "@jupyter-widgets/base",
      "model_module_version": "1.2.0",
      "model_name": "LayoutModel",
      "state": {}
     },
     "78b06bcf5b874924ac81336833460b68": {
      "model_module": "@jupyter-widgets/base",
      "model_module_version": "1.2.0",
      "model_name": "LayoutModel",
      "state": {}
     },
     "7e23d6a629de487dab10d7b37430b6de": {
      "model_module": "@jupyter-widgets/controls",
      "model_module_version": "1.5.0",
      "model_name": "DescriptionStyleModel",
      "state": {
       "description_width": ""
      }
     },
     "81c93e53de8c456da4ac8d959e94db37": {
      "model_module": "@jupyter-widgets/base",
      "model_module_version": "1.2.0",
      "model_name": "LayoutModel",
      "state": {}
     },
     "8bc7fb9f51c040c2893645bd618c2e16": {
      "model_module": "@jupyter-widgets/controls",
      "model_module_version": "1.5.0",
      "model_name": "FloatProgressModel",
      "state": {
       "bar_style": "success",
       "description": "100%",
       "layout": "IPY_MODEL_78b06bcf5b874924ac81336833460b68",
       "max": 864,
       "style": "IPY_MODEL_01420ca766694cd989dda69499c042a4",
       "value": 864
      }
     },
     "901c1fe9e99d4f9784f08820aeb23d6c": {
      "model_module": "@jupyter-widgets/controls",
      "model_module_version": "1.5.0",
      "model_name": "FloatProgressModel",
      "state": {
       "bar_style": "success",
       "description": "100%",
       "layout": "IPY_MODEL_20acd25622674fb98291c9e72ee1d956",
       "max": 864,
       "style": "IPY_MODEL_3e54dccb569b4ead9970dafdc934fc87",
       "value": 864
      }
     },
     "9900689c89744bc5bdb1a35916fbef20": {
      "model_module": "@jupyter-widgets/controls",
      "model_module_version": "1.5.0",
      "model_name": "DescriptionStyleModel",
      "state": {
       "description_width": ""
      }
     },
     "9c3fd141835442778a2f4b2847f7ccc2": {
      "model_module": "@jupyter-widgets/base",
      "model_module_version": "1.2.0",
      "model_name": "LayoutModel",
      "state": {}
     },
     "9dd5db6c1cb34004963a5e142cb53bc4": {
      "model_module": "@jupyter-widgets/base",
      "model_module_version": "1.2.0",
      "model_name": "LayoutModel",
      "state": {}
     },
     "b4f6f4375a9b481d85357a1c892752d5": {
      "model_module": "@jupyter-widgets/base",
      "model_module_version": "1.2.0",
      "model_name": "LayoutModel",
      "state": {}
     },
     "bb1c779cf1d6499990cda9172ceb44ea": {
      "model_module": "@jupyter-widgets/controls",
      "model_module_version": "1.5.0",
      "model_name": "HBoxModel",
      "state": {
       "children": [
        "IPY_MODEL_901c1fe9e99d4f9784f08820aeb23d6c",
        "IPY_MODEL_4073367645ed4f1688d539d83f8a5d11"
       ],
       "layout": "IPY_MODEL_81c93e53de8c456da4ac8d959e94db37"
      }
     },
     "df4b37fc90544e4c8808768d839e4486": {
      "model_module": "@jupyter-widgets/controls",
      "model_module_version": "1.5.0",
      "model_name": "DescriptionStyleModel",
      "state": {
       "description_width": ""
      }
     },
     "e20f6141ada948689bce72d8035b2ea7": {
      "model_module": "@jupyter-widgets/base",
      "model_module_version": "1.2.0",
      "model_name": "LayoutModel",
      "state": {}
     },
     "f27bf65712df43019859068ab4e4d598": {
      "model_module": "@jupyter-widgets/controls",
      "model_module_version": "1.5.0",
      "model_name": "HBoxModel",
      "state": {
       "children": [
        "IPY_MODEL_8bc7fb9f51c040c2893645bd618c2e16",
        "IPY_MODEL_1fea726973e64b5280166488193d2282"
       ],
       "layout": "IPY_MODEL_6a5a85e94edd4975af6bd8292e9003fe"
      }
     },
     "fe9d6a10999a4fc28b4492aef667edbb": {
      "model_module": "@jupyter-widgets/controls",
      "model_module_version": "1.5.0",
      "model_name": "HBoxModel",
      "state": {
       "children": [
        "IPY_MODEL_2ab061f3bae34039b3c74c6498ada705",
        "IPY_MODEL_1663a122af5a4f2ead1d55c4173bfae1"
       ],
       "layout": "IPY_MODEL_e20f6141ada948689bce72d8035b2ea7"
      }
     }
    },
    "version_major": 2,
    "version_minor": 0
   }
  }
 },
 "nbformat": 4,
 "nbformat_minor": 4
}
