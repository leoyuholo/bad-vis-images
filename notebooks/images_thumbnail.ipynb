{
 "cells": [
  {
   "cell_type": "code",
   "execution_count": 1,
   "metadata": {},
   "outputs": [],
   "source": [
    "# !pip install imutils\n",
    "# !pip install opencv-python"
   ]
  },
  {
   "cell_type": "code",
   "execution_count": 2,
   "metadata": {},
   "outputs": [],
   "source": [
    "from pymongo import MongoClient\n",
    "from pathlib import Path\n",
    "from tqdm.notebook import tqdm\n",
    "from shutil import copyfile\n",
    "import imutils\n",
    "import cv2\n",
    "from PIL import Image\n",
    "import json\n",
    "from itertools import chain\n",
    "from pydash import pick, omit\n",
    "from datetime import datetime\n",
    "\n",
    "from IPython.display import JSON\n",
    "\n",
    "from lib.parallel import parallel\n",
    "from lib.sort_things import sort_posts\n",
    "# from lib import images2gif"
   ]
  },
  {
   "cell_type": "code",
   "execution_count": 3,
   "metadata": {},
   "outputs": [],
   "source": [
    "images_dir = Path('../images')\n",
    "gallery_dir = Path('../')\n",
    "labelling_dir = Path('../labelling')"
   ]
  },
  {
   "cell_type": "code",
   "execution_count": 4,
   "metadata": {},
   "outputs": [],
   "source": [
    "# rebuild_images = True\n",
    "rebuild_images = False"
   ]
  },
  {
   "cell_type": "code",
   "execution_count": 5,
   "metadata": {},
   "outputs": [],
   "source": [
    "if rebuild_images:\n",
    "    !rm -r {labelling_dir/'preview'}\n",
    "    !rm -r {labelling_dir/'thumbnail'}\n",
    "\n",
    "    !rm -r {gallery_dir/'preview'}\n",
    "    !rm -r {gallery_dir/'thumbnail'}\n",
    "\n",
    "!rm -r {gallery_dir/'meta'}\n",
    "!rm -r {gallery_dir/'image_lists'}"
   ]
  },
  {
   "cell_type": "code",
   "execution_count": 6,
   "metadata": {},
   "outputs": [],
   "source": [
    "labelling_dir.mkdir(exist_ok=True)\n",
    "gallery_dir.mkdir(exist_ok=True)\n",
    "\n",
    "labelling_preview_dir = labelling_dir/'preview'\n",
    "labelling_thumbnail_dir = labelling_dir/'thumbnail'\n",
    "labelling_preview_dir.mkdir(exist_ok=True)\n",
    "labelling_thumbnail_dir.mkdir(exist_ok=True)\n",
    "\n",
    "preview_dir = gallery_dir/'preview'\n",
    "thumbnail_dir = gallery_dir/'thumbnail'\n",
    "preview_dir.mkdir(exist_ok=True)\n",
    "thumbnail_dir.mkdir(exist_ok=True)\n",
    "\n",
    "meta_dir = gallery_dir/'meta'\n",
    "imagelist_dir = gallery_dir/'image_lists'\n",
    "meta_dir.mkdir(exist_ok=True)\n",
    "imagelist_dir.mkdir(exist_ok=True)"
   ]
  },
  {
   "cell_type": "code",
   "execution_count": 7,
   "metadata": {},
   "outputs": [],
   "source": [
    "mongo = MongoClient('172.17.0.1', 27017)\n",
    "db = mongo['bad-vis']\n",
    "posts = db['posts']\n",
    "imagededup = db['imagededup']\n",
    "imagelabel = db['imagelabel']\n",
    "visimages = db['visimages']\n",
    "vislabels = db['vislabels']"
   ]
  },
  {
   "cell_type": "code",
   "execution_count": 8,
   "metadata": {},
   "outputs": [],
   "source": [
    "imagelabel.drop()\n",
    "visimages.drop()"
   ]
  },
  {
   "cell_type": "code",
   "execution_count": 9,
   "metadata": {},
   "outputs": [],
   "source": [
    "preview_size = 2048\n",
    "thumbnail_size = 140\n",
    "size_MB = 1024 * 1024"
   ]
  },
  {
   "cell_type": "code",
   "execution_count": 10,
   "metadata": {},
   "outputs": [],
   "source": [
    "class VisImage ():\n",
    "    _attrs = [\n",
    "        'id',\n",
    "        'post_id',\n",
    "        'image_name',\n",
    "        'image_path',\n",
    "        'thumbnail_path',\n",
    "\n",
    "        'datetime',\n",
    "        'url',\n",
    "        'title',\n",
    "        'author',\n",
    "        # 'source',\n",
    "        # 'source_url',\n",
    "        # 'source_platform',\n",
    "        'popularity_score',\n",
    "\n",
    "    #     'size',\n",
    "    #     'width',\n",
    "    #     'height',\n",
    "        'phash',\n",
    "        'duplicated_images',\n",
    "        'duplicated_posts',\n",
    "\n",
    "        'labels',\n",
    "        'remarks'\n",
    "    ]\n",
    "\n",
    "    def __init__ (self, image):\n",
    "        self._image = image\n",
    "\n",
    "        for k, v in image.items():\n",
    "            if k in ['labels', 'datetime', 'duplicated_posts']:\n",
    "                continue\n",
    "            setattr(self, k, v)\n",
    "\n",
    "    def digest (self, full=False):\n",
    "        digest = {a:getattr(self, a) for a in VisImage._attrs if hasattr(self, a)}\n",
    "        if full:\n",
    "            dict_digest = {k:v for k, v in self.__dict__.items() if not k.startswith('_')}\n",
    "            digest = {**digest, **dict_digest}\n",
    "            digest['labelling_path'] = self.labelling_path\n",
    "            digest['labelling_thumbnail_path'] = self.labelling_thumbnail_path\n",
    "            digest['exclude_from_list'] = self.exclude_from_list\n",
    "            digest['visLabel'] = self.visLabel\n",
    "        digest = {k:v if '_path' not in k else v[3:] for k, v in digest.items()}\n",
    "        return digest\n",
    "\n",
    "    @property\n",
    "    def image_name (self):\n",
    "        return f\"{self._image['id']}_{self._image['index_in_album']}\"\n",
    "\n",
    "    @property\n",
    "    def datetime (self):\n",
    "        return datetime.fromisoformat(self._image['datetime']).timestamp()\n",
    "\n",
    "    @property\n",
    "    def visLabel (self):\n",
    "        if not hasattr(self, '_labels'):\n",
    "            image_ids = [self._image['image_id']] + [i for i in self._image['duplicated_images']]\n",
    "            visLabels = [l for l in vislabels.find({'image_id': {'$in': image_ids}})]\n",
    "            if len(visLabels) == 0:\n",
    "                return None\n",
    "\n",
    "            if len(visLabels) > 1:\n",
    "                duplicated_labels = [l for l in visLabels if 'flag:duplicated' in l['labels']]\n",
    "                if (len(duplicated_labels) > 0):\n",
    "                    print(f\"labels duplicated: more than 1 label {len(duplicated_labels)} {image_ids} {visLabels}\")\n",
    "                    visLabels = [l for l in visLabels if l not in duplicated_labels]\n",
    "                else:\n",
    "                    print(f\"labels warning: more than 1 label {image_ids} {visLabels}\")\n",
    "\n",
    "            self._labels = visLabels[0]\n",
    "        return self._labels\n",
    "\n",
    "    @property\n",
    "    def labels (self):\n",
    "        if not self.visLabel:\n",
    "            return []\n",
    "        labels = [l for l in self.visLabel['labels'] if l != 'flag:starred']\n",
    "        if self._image.get('animated'):\n",
    "            labels.append('layout:animated')\n",
    "        return labels\n",
    "\n",
    "    @property\n",
    "    def duplicated_posts (self):\n",
    "        duplicated_post_ids = set(self._image['duplicated_posts'] + ['_'.join(image_id.split('_')[:-1]) for image_id in self._image['duplicated_images']])\n",
    "        duplicated_posts = [posts.find_one({'post_id': post_id}) for post_id in duplicated_post_ids if post_id != self.post_id]\n",
    "\n",
    "        return [{\n",
    "            **pick(p, ['url', 'title', 'author', 'post_id']),\n",
    "            'datetime': datetime.fromisoformat(p['datetime']).timestamp()\n",
    "        } for p in sort_posts(duplicated_posts)]\n",
    "\n",
    "    @property\n",
    "    def exclude_from_list (self):\n",
    "        return len(self.labels) == 0 or 'flag:invalid' in self.labels or 'flag:needreview' in self.labels or 'flag:notbad' in self.labels or 'flag:parody' in self.labels or 'media:NSFW' in self.labels\n",
    "\n",
    "    @property\n",
    "    def remarks (self):\n",
    "        if not self.visLabel:\n",
    "            return ''\n",
    "        return self.visLabel['remarks']\n",
    "\n",
    "    @property\n",
    "    def filename (self):\n",
    "        return f\"{self.image_name}{self._image['ext']}\"\n",
    "\n",
    "    @property\n",
    "    def labelling_path (self):\n",
    "        return str(labelling_preview_dir/self.filename)\n",
    "\n",
    "    @property\n",
    "    def labelling_thumbnail_path (self):\n",
    "        return str(labelling_thumbnail_dir/self.filename)\n",
    "\n",
    "    @property\n",
    "    def image_path (self):\n",
    "        return str(preview_dir/self.filename)\n",
    "\n",
    "    @property\n",
    "    def thumbnail_path (self):\n",
    "#         return str(thumbnail_dir/f\"{self.image_name}{'.gif' if self._image['ext'] == '.gif' else '.jpg'}\")\n",
    "        return str(thumbnail_dir/f\"{self.image_name}.jpg\")\n",
    "\n",
    "    def makePreview (self, direct_copy=False):\n",
    "        if direct_copy or self._image['animated']:\n",
    "            copyfile(self._image['file_path'], self.labelling_path)\n",
    "        else:\n",
    "            im = Image.open(self._image['file_path'])\n",
    "\n",
    "            if '.jpg' in self.labelling_path:\n",
    "                im = im.convert('RGB')\n",
    "\n",
    "            # if self._image['width'] > preview_size or self._image['height'] > preview_size:\n",
    "            #     im.thumbnail((preview_size, preview_size), Image.LANCZOS)\n",
    "\n",
    "            im.save(self.labelling_path, optimize=True)\n",
    "\n",
    "            old_size = Path(self._image['file_path']).stat().st_size\n",
    "            new_size = Path(self.labelling_path).stat().st_size\n",
    "            if new_size / old_size >= 1:\n",
    "                copyfile(self._image['file_path'], self.labelling_path)\n",
    "            if new_size > 3 * size_MB:\n",
    "                print(new_size/size_MB, old_size/size_MB, new_size/old_size, self._image['file_path'], self.labelling_path)\n",
    "\n",
    "        if not self.exclude_from_list:\n",
    "            copyfile(self.labelling_path, self.image_path)\n",
    "\n",
    "    def makeThumbnail (self):\n",
    "#         if self._image['ext'] == '.gif':\n",
    "#             frames = images2gif.readGif(self._image['file_path'], False)\n",
    "#             for frame in frames:\n",
    "#                 frame.thumbnail((thumbnail_size, thumbnail_size), Image.ANTIALIAS)\n",
    "\n",
    "#             images2gif.writeGif(self.thumbnail_path, frames)\n",
    "#         else:\n",
    "\n",
    "        im = Image.open(self._image['file_path']).convert('RGB')\n",
    "        im.thumbnail((thumbnail_size, thumbnail_size), Image.LANCZOS)\n",
    "        im.save(self.labelling_thumbnail_path, optimize=True)\n",
    "\n",
    "        if not self.exclude_from_list:\n",
    "            copyfile(self.labelling_thumbnail_path, self.thumbnail_path)\n",
    "\n",
    "#         ratio = thumbnail_size / max([self._image['width'], self._image['height']])\n",
    "#         thumbnail_width = min([thumbnail_size, int(round(self._image['width'] * ratio))])\n",
    "#         thumbnail_height = min([thumbnail_size, int(round(self._image['height'] * ratio))])\n",
    "\n",
    "#         im = Image.open(self._image['file_path']).convert('RGB')\n",
    "#         im.thumbnail((thumbnail_width, thumbnail_height))\n",
    "#         im.save(self.thumbnail_path, 'JPEG')\n",
    "\n",
    "    def makeMetaData (self):\n",
    "        imagelabel.insert_one(self.digest(full=True))\n",
    "\n",
    "        if not self.exclude_from_list:\n",
    "            digest = self.digest()\n",
    "            with open(meta_dir/f\"{self.image_name}.json\", 'w') as f:\n",
    "                json.dump(digest, f)\n",
    "            visimages.insert_one(digest)"
   ]
  },
  {
   "cell_type": "code",
   "execution_count": 11,
   "metadata": {},
   "outputs": [],
   "source": [
    "def finalize_image (image):\n",
    "    visImage = VisImage(image)\n",
    "    if rebuild_images:\n",
    "        visImage.makePreview()\n",
    "        visImage.makeThumbnail()\n",
    "    visImage.makeMetaData()\n",
    "    return visImage"
   ]
  },
  {
   "cell_type": "code",
   "execution_count": 12,
   "metadata": {},
   "outputs": [
    {
     "data": {
      "application/vnd.jupyter.widget-view+json": {
       "model_id": "5e65114ec66348089258794c4c5e3417",
       "version_major": 2,
       "version_minor": 0
      },
      "text/plain": [
       "HBox(children=(FloatProgress(value=0.0, max=5823.0), HTML(value='')))"
      ]
     },
     "metadata": {},
     "output_type": "display_data"
    },
    {
     "name": "stdout",
     "output_type": "stream",
     "text": [
      "\n"
     ]
    }
   ],
   "source": [
    "visImages = parallel(finalize_image, imagededup.find(), total=imagededup.estimated_document_count())"
   ]
  },
  {
   "cell_type": "code",
   "execution_count": 13,
   "metadata": {},
   "outputs": [],
   "source": [
    "visImages = [i for i in visImages if not i.exclude_from_list]"
   ]
  },
  {
   "cell_type": "markdown",
   "metadata": {},
   "source": [
    "# Image Lists"
   ]
  },
  {
   "cell_type": "code",
   "execution_count": 14,
   "metadata": {},
   "outputs": [],
   "source": [
    "visImages = [i for i in visimages.find()]"
   ]
  },
  {
   "cell_type": "code",
   "execution_count": 15,
   "metadata": {},
   "outputs": [],
   "source": [
    "visImages.sort(key=lambda x: x['popularity_score'])"
   ]
  },
  {
   "cell_type": "code",
   "execution_count": 16,
   "metadata": {},
   "outputs": [],
   "source": [
    "visImages.reverse()"
   ]
  },
  {
   "cell_type": "code",
   "execution_count": 17,
   "metadata": {},
   "outputs": [
    {
     "data": {
      "text/plain": [
       "905"
      ]
     },
     "execution_count": 17,
     "metadata": {},
     "output_type": "execute_result"
    }
   ],
   "source": [
    "len(visImages)"
   ]
  },
  {
   "cell_type": "code",
   "execution_count": 18,
   "metadata": {},
   "outputs": [],
   "source": [
    "for i in visImages:\n",
    "    del i['_id']\n",
    "    # del i['duplicated_images']"
   ]
  },
  {
   "cell_type": "code",
   "execution_count": 19,
   "metadata": {},
   "outputs": [],
   "source": [
    "json.dump({'images': visImages}, open(imagelist_dir/'all.json', 'w'), separators=(',', ':'))"
   ]
  },
  {
   "cell_type": "code",
   "execution_count": 20,
   "metadata": {},
   "outputs": [],
   "source": [
    "batch_cuts = [0] + [i for i in range(225, len(visImages), 400)] + [len(visImages)]\n",
    "for (batch_begin, batch_end) in zip(batch_cuts[:-1], batch_cuts[1:]):\n",
    "    json.dump({\n",
    "        'images': visImages[batch_begin:batch_end],\n",
    "        'next': f\"{batch_end}.json\" if batch_end != len(visImages) else None\n",
    "    }, open(imagelist_dir/f\"{batch_begin}.json\", 'w'), separators=(',', ':'))"
   ]
  },
  {
   "cell_type": "markdown",
   "metadata": {},
   "source": [
    "# Labels Options"
   ]
  },
  {
   "cell_type": "code",
   "execution_count": 21,
   "metadata": {},
   "outputs": [],
   "source": [
    "# labelOptions = [{\n",
    "#     'tag': 'fault',\n",
    "#     'name': 'Issues',\n",
    "#     'options': [\n",
    "#         'percentage:sum', 'percentage:encoding', 'percentage:wholepart',\n",
    "#         'label', 'description',\n",
    "#         'axis', 'axis:label', 'axis:flipped', 'axis:truncated', \"axis:missing\", 'axis:double', # axis:dual\n",
    "#         'legend',\n",
    "#         'color', 'color:over12',\n",
    "#         'scale', 'scale:log', 'scale:inconsistent', 'binning',\n",
    "#         'area',\n",
    "#         'picto:distortion', 'picto:area',\n",
    "#         'position', 'itemorder',\n",
    "#         'connection',\n",
    "#         '3d', 'animation',\n",
    "#         'cluttering', 'occulusion',\n",
    "#         'data', 'data:selective', 'data:questionable', 'data:missingvalues', 'data:redundant', 'data:prediction',\n",
    "#         'index:comparison', # index:crossbasiscomparison\n",
    "#         'parody', 'faultylogic', 'missingcontext',\n",
    "#         'confirmationbias', 'chartjunk', 'betteralternative',\n",
    "#         'faultystatistics', 'invalidcomparison',\n",
    "#         'map:population', 'invalidencoding',\n",
    "#         'unreadable', 'visuallyawful',\n",
    "#         'encoding', 'cannotaddup', 'legibility'\n",
    "#     ]}, {\n",
    "#     'tag': 'form',\n",
    "#     'name': 'Chart Type',\n",
    "#     'options': [\n",
    "#         'barchart', 'linechart', 'scatterplot', 'dotplot', 'barcodechart', 'areachart', 'histogram',\n",
    "#         'nodelink', 'radarchart', 'bubblechart', 'dumbbellplot',\n",
    "#         'piechart', 'donutchart',\n",
    "#         'pyramid', 'venn', 'choropleth', 'flowmap', 'map', 'chernoffface',\n",
    "#         'table', 'heatmap', 'treemap', 'quadrant',\n",
    "#         'boxplot', 'violinplot', 'parallelcoor', 'streamgraph',\n",
    "#         'pictogram', 'guagechart', 'sankeydiagram', 'chorddiagram', 'sunbrust', 'voronoi',\n",
    "#         'unknown'\n",
    "#     ]}, {\n",
    "#     'tag': 'data',\n",
    "#     'name': 'Data Types',\n",
    "#     'options': [\n",
    "#         'categorical', 'quantitative', 'indexvalue', 'accumulated',\n",
    "#         'percentage', 'probability',\n",
    "#         'ordinal', 'ranking', 'sequential',\n",
    "#         'timeseries', 'cyclic',\n",
    "#         'geospatial', 'flow',\n",
    "#         'network', 'tree',\n",
    "#         'set', 'bitmap',\n",
    "#         'text', 'multivariate',\n",
    "#     ]}, {\n",
    "#     'tag': 'media',\n",
    "#     'name': 'Medium',\n",
    "#     'options': [\n",
    "#         'inreallife', 'printed', 'handdrawn', 'tv', 'ads', 'news', 'NSFW'\n",
    "#     ]}, {\n",
    "#     'tag': 'layout',\n",
    "#     'name': 'Layout',\n",
    "#     'options': [\n",
    "#         'circular', 'infographics', 'stacked', 'map', 'juxtaposition', 'overlay', 'mixed'\n",
    "#     ]}, {\n",
    "#     'tag': 'metaphor',\n",
    "#     'name': 'Metaphor',\n",
    "#     'options': [\n",
    "#         'pictograph', 'periodictable', 'gear', 'clock'\n",
    "#     ]}, {\n",
    "#     'tag': 'flag',\n",
    "#     'name': 'Flag',\n",
    "#     'options': [\n",
    "#         'needreview', 'invalid', 'notbad', 'starred'\n",
    "#     ]}\n",
    "# ]"
   ]
  },
  {
   "cell_type": "code",
   "execution_count": 22,
   "metadata": {},
   "outputs": [],
   "source": [
    "# dump all tags but flag\n",
    "# json.dump(labelOptions[:-1], open(imagelist_dir/f\"labelOptions.json\", 'w'), separators=(',', ':'))"
   ]
  },
  {
   "cell_type": "code",
   "execution_count": 23,
   "metadata": {},
   "outputs": [],
   "source": [
    "labelOptions = json.load(open('tmp/labelOptions.json'))"
   ]
  },
  {
   "cell_type": "code",
   "execution_count": 24,
   "metadata": {},
   "outputs": [
    {
     "data": {
      "application/json": [
       {
        "category": "fault",
        "grouped": true,
        "hierarchical": true,
        "name": "Issues",
        "options": [
         {
          "description": "Cherry-picking the scope of data, e.g., picking an arbitrary starting point of the time axis.",
          "name": "Selective Data",
          "subcategories": [
           "data"
          ],
          "tag": "fault:data:selective"
         },
         {
          "description": "Null values in the chart that causes confusion.",
          "name": "Missing Values",
          "subcategories": [
           "data"
          ],
          "tag": "fault:data:missingvalues"
         },
         {
          "description": "Items appear more than once in the chart.",
          "name": "Redundant Values",
          "subcategories": [
           "data"
          ],
          "tag": "fault:data:redundant"
         },
         {
          "description": "Dubious data source.",
          "name": "Questionable Data",
          "subcategories": [
           "data"
          ],
          "tag": "fault:data:questionable"
         },
         {
          "description": "Not real data, but drawn like backed by data.",
          "name": "Hypothetical Data",
          "subcategories": [
           "data"
          ],
          "tag": "fault:data:hypothetical"
         },
         {
          "description": "Items are grouped arbitrarily.",
          "name": "Arbitrary Binning",
          "subcategories": [
           "derive"
          ],
          "tag": "fault:binning"
         },
         {
          "description": "Items are not sorted, or out of order.",
          "name": "Items Out of Order",
          "subcategories": [
           "derive"
          ],
          "tag": "fault:itemorder"
         },
         {
          "description": "Percentages do not add up to 100% in a whole-part relationship.",
          "name": "Percentage Not 100%",
          "subcategories": [
           "derive"
          ],
          "tag": "fault:percentage:sum"
         },
         {
          "description": "Improper use of statistics, e.g., a regression line with high error.",
          "name": "Faulty Regression",
          "subcategories": [
           "derive"
          ],
          "tag": "fault:faultystatistics"
         },
         {
          "description": "Plotting future data points derived from unreliable prediction.",
          "name": "Unreliable Forecasting",
          "subcategories": [
           "derive"
          ],
          "tag": "fault:data:prediction"
         },
         {
          "description": "Values are indexed or normalized by an unconventional method.",
          "name": "Base Line Alignment",
          "subcategories": [
           "derive"
          ],
          "tag": "fault:baselinealignment"
         },
         {
          "description": "Mismatch between colors and the objects that they represent, e.g., blue for apples.",
          "name": "Color Mismatch",
          "subcategories": [
           "design",
           "color"
          ],
          "tag": "fault:colorconvention"
         },
         {
          "description": "Ineffective color scheme, e.g., categorical colors for continuous variable.",
          "name": "Ineffective Color Scheme",
          "subcategories": [
           "design",
           "color"
          ],
          "tag": "fault:colorscale"
         },
         {
          "description": "Looks like a visualization, but not visualizing any data, also known as non-sequitur.",
          "name": "Disguised Visualization",
          "subcategories": [
           "design",
           "visual"
          ],
          "tag": "fault:nonsequitur"
         },
         {
          "description": "Description and visualization do not add up.",
          "name": "False Description",
          "subcategories": [
           "design",
           "text"
          ],
          "tag": "fault:description"
         },
         {
          "description": "Improper annotation or highlight.",
          "name": "Improper Annotation",
          "subcategories": [
           "design",
           "text"
          ],
          "tag": "fault:annotation"
         },
         {
          "description": "Lines or arrows are connecting unrelated dots.",
          "name": "Invalid Connection",
          "subcategories": [
           "design",
           "encoding"
          ],
          "tag": "fault:connection"
         },
         {
          "description": "Distort map projection to encode information",
          "name": "Distorted Map Projection",
          "subcategories": [
           "design",
           "encoding"
          ],
          "tag": "fault:mapprojection"
         },
         {
          "description": "Data is drawn to an unconventional scale.",
          "name": "Absurd Scale",
          "subcategories": [
           "design",
           "scale"
          ],
          "tag": "fault:scale"
         },
         {
          "description": "Incorrect use of log scale.",
          "name": "Incorrect Use of Log Scale",
          "subcategories": [
           "design",
           "scale"
          ],
          "tag": "fault:scale:log"
         },
         {
          "description": "Plotting more than one different scale on a single dimension, most often the y-axis.",
          "name": "Dual Axes",
          "subcategories": [
           "design",
           "axis"
          ],
          "tag": "fault:axis:double"
         },
         {
          "description": "Chart is understandable, but unintuitive, there are better alternatives.",
          "name": "Ineffective Encoding",
          "subcategories": [
           "design",
           "encoding"
          ],
          "tag": "fault:betteralternative"
         },
         {
          "description": "Poor positioning, alignment, or rotation of items.",
          "name": "Poor Positioning",
          "subcategories": [
           "design",
           "visual"
          ],
          "tag": "fault:position"
         },
         {
          "description": "Valid encoding choice but incorrectly drawn, e.g., a glitch.",
          "name": "Plotting Error",
          "subcategories": [
           "graph",
           "visual"
          ],
          "tag": "fault:encoding"
         },
         {
          "description": "Too many colors, mostly related to the scalability issues.",
          "name": "Too Many Colors",
          "subcategories": [
           "graph",
           "color"
          ],
          "tag": "fault:color:over12"
         },
         {
          "description": "The geometric shapes do not match the labelled values.",
          "name": "Misrepresentation",
          "subcategories": [
           "graph",
           "scale"
          ],
          "tag": "fault:scale:inconsistent"
         },
         {
          "description": "Different scales across related charts.",
          "name": "Inconsistent Scale Across",
          "subcategories": [
           "graph",
           "scale"
          ],
          "tag": "fault:scale:inconsistentacross"
         },
         {
          "description": "Missing label for item details.",
          "name": "Missing Item Labels",
          "subcategories": [
           "graph",
           "text"
          ],
          "tag": "fault:missinglabel"
         },
         {
          "description": "Items are labeled with incorrect description.",
          "name": "Incorrect Item Labels",
          "subcategories": [
           "graph",
           "text"
          ],
          "tag": "fault:wronglabel"
         },
         {
          "description": "Axis is missing for a coordinated chart.",
          "name": "Missing Axis",
          "subcategories": [
           "graph",
           "axis"
          ],
          "tag": "fault:axis:missing"
         },
         {
          "description": "Axis is not labeled with tick marks.",
          "name": "Missing Axis Labels",
          "subcategories": [
           "graph",
           "axis",
           "text"
          ],
          "tag": "fault:axis:label"
         },
         {
          "description": "Axis is incorrectly labeled.",
          "name": "Incorrect Axis Labels",
          "subcategories": [
           "graph",
           "axis",
           "text"
          ],
          "tag": "fault:axis:incorrectlabel"
         },
         {
          "description": "Intervals on an axis does not follow a scale.",
          "name": "Inconsistent Tick Interval",
          "subcategories": [
           "graph",
           "axis"
          ],
          "tag": "fault:inconsistentaxisinterval"
         },
         {
          "description": "Inconsistent time interval between data points.",
          "name": "Inconsistent Time Interval",
          "subcategories": [
           "graph",
           "axis"
          ],
          "tag": "fault:inconsistentinterval"
         },
         {
          "description": "Legend is needed but missing.",
          "name": "Missing Legend",
          "subcategories": [
           "graph",
           "scale"
          ],
          "tag": "fault:legend"
         },
         {
          "description": "Axis values are increasing in an unconventional direction.",
          "name": "Flipped Axis",
          "subcategories": [
           "graph",
           "axis"
          ],
          "tag": "fault:axis:flipped"
         },
         {
          "description": "Non-zero starting point on an axis that exaggerates or understates differences between items.",
          "name": "Truncated Axis",
          "subcategories": [
           "graph",
           "axis"
          ],
          "tag": "fault:axis:truncated"
         },
         {
          "description": "Categorical colors are undistinguishable with each other.",
          "name": "Undistinguishable Colors",
          "subcategories": [
           "visual",
           "color"
          ],
          "tag": "fault:colormess"
         },
         {
          "description": "Eye beats memory, comparing changes across animation frames is impossible.",
          "name": "Unjustified Animation",
          "subcategories": [
           "visual",
           "perception"
          ],
          "tag": "fault:animation"
         },
         {
          "description": "Lengend is not helpful in understanding the chart.",
          "name": "Confusing Legend",
          "subcategories": [
           "visual",
           "scale"
          ],
          "tag": "fault:legendconfuse"
         },
         {
          "description": "Labels are hard to understand or not understandable at all.",
          "name": "Confusing Label",
          "subcategories": [
           "visual",
           "text"
          ],
          "tag": "fault:labelconfuse"
         },
         {
          "description": "Overwhelmed by visual clutter.",
          "name": "Cluttering",
          "subcategories": [
           "visual"
          ],
          "tag": "fault:cluttering"
         },
         {
          "description": "Some items are not visible in the visualization because of blockage by another item.",
          "name": "Occlusion",
          "subcategories": [
           "visual"
          ],
          "tag": "fault:occulusion"
         },
         {
          "description": "Chart ornament that causes negative effect in understanding.",
          "name": "Chart Junk",
          "subcategories": [
           "visual"
          ],
          "tag": "fault:chartjunk"
         },
         {
          "description": "Text in the chart are illegible.",
          "name": "Illegible Text",
          "subcategories": [
           "visual",
           "text"
          ],
          "tag": "fault:legibility"
         },
         {
          "description": "Very disturbing while looking at it.",
          "name": "Visually Awful",
          "subcategories": [
           "visual"
          ],
          "tag": "fault:visuallyawful"
         },
         {
          "description": "Items with same or similar colors are not related.",
          "name": "False Color Correlation",
          "subcategories": [
           "perception",
           "color"
          ],
          "tag": "fault:colorcorrelation"
         },
         {
          "description": "Unjustified use of 3D, it distorts the perceived size of the items.",
          "name": "Unjustified 3D",
          "subcategories": [
           "perception",
           "visual"
          ],
          "tag": "fault:3d"
         },
         {
          "description": "Incorrect use of area encoding that exaggerates or understates differences between items.",
          "name": "Area Encoding",
          "subcategories": [
           "perception",
           "encoding"
          ],
          "tag": "fault:area"
         },
         {
          "description": "Pictogram is improperly scaled to reflect value differences.",
          "name": "Area Encoded Pictogram",
          "subcategories": [
           "perception",
           "encoding"
          ],
          "tag": "fault:picto:distortion"
         },
         {
          "description": "Cannot decode any data nor information.",
          "name": "Not Understandable",
          "subcategories": [
           "logical"
          ],
          "tag": "fault:cannotunderstand"
         },
         {
          "description": "Not whole-part relationship but draw as a chart for whole-part relationship like pie chart.",
          "name": "Faulty Whole Part",
          "subcategories": [
           "logical"
          ],
          "tag": "fault:percentage:wholepart"
         },
         {
          "description": "Conveying an illogical message.",
          "name": "Faulty Logic",
          "subcategories": [
           "logical"
          ],
          "tag": "fault:faultylogic"
         },
         {
          "description": "Need background information in order to understand the message.",
          "name": "Missing Context",
          "subcategories": [
           "logical"
          ],
          "tag": "fault:missingcontext"
         },
         {
          "description": "Comparison between items that are incomparable.",
          "name": "Invalid Comparison",
          "subcategories": [
           "logical"
          ],
          "tag": "fault:invalidcomparison"
         },
         {
          "description": "The observed pattern is nothing more than the pattern of population density.",
          "name": "Just a Population Map",
          "subcategories": [
           "logical"
          ],
          "tag": "fault:map:population"
         },
         {
          "description": "Suggesting causal relationships from correlations.",
          "name": "Spurious Correlation",
          "subcategories": [
           "logical"
          ],
          "tag": "fault:spuriousocorrelation"
         }
        ],
        "sorted": true,
        "subcategories": [
         {
          "category": "fault",
          "description": "Issues related to the axes of coordinated planes",
          "group": "grammar",
          "name": "Axis",
          "subcategory": "axis"
         },
         {
          "category": "fault",
          "description": "Issues related to legends and the use of scales",
          "group": "grammar",
          "name": "Legends and Scales",
          "subcategory": "scale"
         },
         {
          "category": "fault",
          "description": "Issues in the use of colors",
          "group": "grammar",
          "name": "Color",
          "subcategory": "color"
         },
         {
          "category": "fault",
          "description": "Issues related to titles, annotations and labels",
          "group": "grammar",
          "name": "Text",
          "subcategory": "text"
         },
         {
          "category": "fault",
          "description": "Issues related to visual encoding",
          "group": "grammar",
          "name": "Encoding",
          "subcategory": "encoding"
         },
         {
          "category": "fault",
          "description": "Issues related to the underlying data, its sources and completeness",
          "group": "pipeline",
          "name": "Data",
          "subcategory": "data"
         },
         {
          "category": "fault",
          "description": "Issues introduced when processing data or applying statistical transformations",
          "group": "pipeline",
          "name": "Data Transformation",
          "subcategory": "derive"
         },
         {
          "category": "fault",
          "description": "Issues in visual design choices",
          "group": "pipeline",
          "name": "Design Choices",
          "subcategory": "design"
         },
         {
          "category": "fault",
          "description": "Issues introduced in the graph drawing process, leads to missing graph elements or incomplete graph",
          "group": "pipeline",
          "name": "Graph Drawing",
          "subcategory": "graph"
         },
         {
          "category": "fault",
          "description": "Difficulties in reading",
          "group": "pipeline",
          "name": "Reading",
          "subcategory": "visual"
         },
         {
          "category": "fault",
          "description": "Issues related to the weaknesses in human perception",
          "group": "pipeline",
          "name": "Perception",
          "subcategory": "perception"
         },
         {
          "category": "fault",
          "description": "Visualizations that are trying to convey nonsense or illogical messages",
          "group": "pipeline",
          "name": "Message",
          "subcategory": "logical"
         }
        ]
       },
       {
        "category": "form",
        "group_subcat_threshold": 10,
        "name": "Chart Types",
        "options": [
         {
          "name": "Bar Chart",
          "subcategory": "bar",
          "tag": "form:barchart"
         },
         {
          "name": "Stacked Bar Chart",
          "subcategory": "bar",
          "tag": "form:stackedbarchart"
         },
         {
          "name": "Dot Plot",
          "subcategory": "bar",
          "tag": "form:dotplot"
         },
         {
          "name": "Histogram",
          "subcategory": "bar",
          "tag": "form:histogram"
         },
         {
          "name": "Barcode Chart",
          "subcategory": "bar",
          "tag": "form:barcodechart"
         },
         {
          "name": "Progress Bar",
          "subcategory": "bar",
          "tag": "form:progressbar"
         },
         {
          "name": "Line Chart",
          "subcategory": "line",
          "tag": "form:linechart"
         },
         {
          "name": "Node-Link Diagram",
          "subcategory": "line",
          "tag": "form:nodelink"
         },
         {
          "name": "Parallel Coordinates",
          "subcategory": "line",
          "tag": "form:parallelcoor"
         },
         {
          "name": "Radar Chart",
          "subcategory": "line",
          "tag": "form:radarchart"
         },
         {
          "name": "Sankey Diagram",
          "subcategory": "line",
          "tag": "form:sankeydiagram"
         },
         {
          "name": "Box Plot",
          "subcategory": "line",
          "tag": "form:boxplot"
         },
         {
          "name": "Violin Plot",
          "subcategory": "line",
          "tag": "form:violinplot"
         },
         {
          "name": "Time Line",
          "subcategory": "line",
          "tag": "form:timeline"
         },
         {
          "name": "Connected Scatter Plot",
          "subcategory": "dot",
          "tag": "form:connectedscatterplot"
         },
         {
          "name": "Scatter Plot",
          "subcategory": "dot",
          "tag": "form:scatterplot"
         },
         {
          "name": "Dumbbell Plot",
          "subcategory": "dot",
          "tag": "form:dumbbellplot"
         },
         {
          "name": "Polar Graph",
          "subcategory": "dot",
          "tag": "form:polargraph"
         },
         {
          "name": "Bubble Chart",
          "subcategory": "circle",
          "tag": "form:bubblechart"
         },
         {
          "name": "Pie Chart",
          "subcategory": "circle",
          "tag": "form:piechart"
         },
         {
          "name": "Donut Chart",
          "subcategory": "circle",
          "tag": "form:donutchart"
         },
         {
          "name": "Guage Chart",
          "subcategory": "circle",
          "tag": "form:guagechart"
         },
         {
          "name": "Sunbrust Diagram",
          "subcategory": "circle",
          "tag": "form:sunbrust"
         },
         {
          "name": "Venn Diagram",
          "subcategory": "circle",
          "tag": "form:venn"
         },
         {
          "name": "Nested Bubbles",
          "subcategory": "circle",
          "tag": "form:nestedbubble"
         },
         {
          "name": "Polar Area Chart",
          "subcategory": "circle",
          "tag": "form:polararea"
         },
         {
          "name": "Chord Diagram",
          "subcategory": "circle",
          "tag": "form:chord"
         },
         {
          "name": "Area Chart",
          "subcategory": "area",
          "tag": "form:areachart"
         },
         {
          "name": "Stacked Area Chart",
          "subcategory": "area",
          "tag": "form:stackedareachart"
         },
         {
          "name": "Stream Graph",
          "subcategory": "area",
          "tag": "form:streamgraph"
         },
         {
          "name": "Treemap",
          "subcategory": "area",
          "tag": "form:treemap"
         },
         {
          "name": "Voronoi Diagram",
          "subcategory": "area",
          "tag": "form:voronoi"
         },
         {
          "name": "Pyramid",
          "subcategory": "area",
          "tag": "form:pyramid"
         },
         {
          "name": "Choropleth",
          "subcategory": "map",
          "tag": "form:choropleth"
         },
         {
          "name": "Flow Map",
          "subcategory": "map",
          "tag": "form:flowmap"
         },
         {
          "name": "Map",
          "subcategory": "map",
          "tag": "form:map"
         },
         {
          "name": "Table",
          "subcategory": "table",
          "tag": "form:table"
         },
         {
          "name": "Heatmap",
          "subcategory": "table",
          "tag": "form:heatmap"
         },
         {
          "name": "Quadrant",
          "subcategory": "table",
          "tag": "form:quadrant"
         },
         {
          "name": "Pictogram",
          "subcategory": "icon",
          "tag": "form:pictogram"
         },
         {
          "name": "Chernoff Face",
          "subcategory": "icon",
          "tag": "form:chernoffface"
         },
         {
          "name": "Unclassified",
          "subcategory": "other",
          "tag": "form:unknown"
         }
        ],
        "subcategories": [
         {
          "category": "form",
          "name": "Bar",
          "subcategory": "bar"
         },
         {
          "category": "form",
          "name": "Line",
          "subcategory": "line"
         },
         {
          "category": "form",
          "name": "Dot",
          "subcategory": "dot"
         },
         {
          "category": "form",
          "name": "Circle",
          "subcategory": "circle"
         },
         {
          "category": "form",
          "name": "Area",
          "subcategory": "area"
         },
         {
          "category": "form",
          "name": "Map",
          "subcategory": "map"
         },
         {
          "category": "form",
          "name": "Table",
          "subcategory": "table"
         },
         {
          "category": "form",
          "name": "Icon",
          "subcategory": "icon"
         },
         {
          "category": "form",
          "name": "Other",
          "subcategory": "other"
         }
        ]
       },
       {
        "category": "data",
        "name": "Data Types",
        "options": [
         {
          "name": "Categorical",
          "subcategory": "attribute",
          "tag": "data:categorical"
         },
         {
          "name": "Quantitative",
          "subcategory": "attribute",
          "tag": "data:quantitative"
         },
         {
          "name": "Sequential",
          "subcategory": "attribute",
          "tag": "data:sequential"
         },
         {
          "name": "Diverging",
          "subcategory": "attribute",
          "tag": "data:diverging"
         },
         {
          "name": "Ordinal",
          "subcategory": "attribute",
          "tag": "data:ordinal"
         },
         {
          "name": "Time Series",
          "subcategory": "time",
          "tag": "data:timeseries"
         },
         {
          "name": "Cyclic",
          "subcategory": "time",
          "tag": "data:cyclic"
         },
         {
          "name": "Geospatial",
          "subcategory": "position",
          "tag": "data:geospatial"
         },
         {
          "name": "Flow",
          "subcategory": "position",
          "tag": "data:flow"
         },
         {
          "name": "Bitmap",
          "subcategory": "position",
          "tag": "data:bitmap"
         },
         {
          "name": "Positional",
          "subcategory": "position",
          "tag": "data:positional"
         },
         {
          "name": "Network",
          "subcategory": "relation",
          "tag": "data:network"
         },
         {
          "name": "Tree",
          "subcategory": "relation",
          "tag": "data:tree"
         },
         {
          "name": "Set",
          "subcategory": "relation",
          "tag": "data:set"
         },
         {
          "name": "Ranked",
          "subcategory": "derived",
          "tag": "data:ranking"
         },
         {
          "name": "Index Value",
          "subcategory": "derived",
          "tag": "data:indexvalue"
         },
         {
          "name": "Accumulated",
          "subcategory": "derived",
          "tag": "data:accumulated"
         },
         {
          "name": "Percentage",
          "subcategory": "derived",
          "tag": "data:percentage"
         },
         {
          "name": "Probability",
          "subcategory": "derived",
          "tag": "data:probability"
         },
         {
          "name": "Text",
          "subcategory": "other",
          "tag": "data:text"
         },
         {
          "name": "Multivariate",
          "subcategory": "other",
          "tag": "data:multivariate"
         }
        ],
        "subcategories": [
         {
          "category": "data",
          "description": "Basic attributes",
          "name": "Attribute",
          "subcategory": "attribute"
         },
         {
          "category": "data",
          "description": "Derived attributes",
          "name": "Derived",
          "subcategory": "derived"
         },
         {
          "category": "data",
          "description": "Time related data",
          "name": "Time",
          "subcategory": "time"
         },
         {
          "category": "data",
          "description": "Spatial meaning in x-, y-, or z-axes",
          "name": "Coordinated",
          "subcategory": "position"
         },
         {
          "category": "data",
          "description": "Items are inter-linked",
          "name": "Relational",
          "subcategory": "relation"
         },
         {
          "category": "data",
          "description": "Other uncategorized data types",
          "name": "Other",
          "subcategory": "other"
         }
        ]
       },
       {
        "category": "domain",
        "name": "Domains",
        "options": [
         {
          "name": "Politics",
          "tag": "domain:politics"
         },
         {
          "name": "Business",
          "tag": "domain:business"
         },
         {
          "name": "Entertainment",
          "tag": "domain:entertainment"
         },
         {
          "name": "Scientific",
          "tag": "domain:scientific"
         },
         {
          "name": "Sports",
          "tag": "domain:sports"
         },
         {
          "name": "Health",
          "tag": "domain:health"
         },
         {
          "name": "Education",
          "tag": "domain:education"
         },
         {
          "name": "Food",
          "tag": "domain:catering"
         },
         {
          "name": "Computer",
          "tag": "domain:computer"
         },
         {
          "name": "Environment",
          "tag": "domain:environment"
         },
         {
          "name": "International",
          "tag": "domain:international"
         },
         {
          "name": "Public",
          "tag": "domain:public"
         },
         {
          "name": "Personal",
          "tag": "domain:personal"
         },
         {
          "name": "Unknown",
          "tag": "domain:unknown"
         }
        ]
       },
       {
        "category": "media",
        "name": "Medium",
        "options": [
         {
          "name": "TV",
          "tag": "media:tv"
         },
         {
          "name": "News Article",
          "tag": "media:news"
         },
         {
          "name": "Ads",
          "tag": "media:ads"
         },
         {
          "name": "Printed",
          "tag": "media:printed"
         },
         {
          "name": "Handdrawn",
          "tag": "media:handdrawn"
         },
         {
          "name": "Inreallife",
          "tag": "media:inreallife"
         },
         {
          "name": "NSFW",
          "tag": "media:NSFW"
         },
         {
          "name": "Infographic",
          "tag": "media:infographic"
         },
         {
          "name": "Google Products",
          "tag": "media:google"
         }
        ]
       },
       {
        "category": "layout",
        "name": "Layouts",
        "options": [
         {
          "name": "Circular",
          "tag": "layout:circular"
         },
         {
          "name": "Juxtaposition",
          "tag": "layout:juxtaposition"
         },
         {
          "name": "Superimposed",
          "tag": "layout:overlay"
         },
         {
          "name": "Multiple-views",
          "tag": "layout:mixed"
         },
         {
          "name": "Periodictable",
          "tag": "layout:periodictable"
         },
         {
          "name": "Clock",
          "tag": "layout:clock"
         },
         {
          "name": "Calendar",
          "tag": "layout:calendar"
         }
        ]
       },
       {
        "category": "effect",
        "name": "Effects",
        "options": [
         {
          "name": "Reversed",
          "tag": "effect:reversed"
         },
         {
          "name": "Distorted",
          "tag": "effect:distorted"
         },
         {
          "name": "Confused",
          "tag": "effect:confuesed"
         },
         {
          "name": "Suggestive",
          "tag": "effect:suggestive"
         }
        ]
       },
       {
        "category": "flag",
        "name": "Flags",
        "options": [
         {
          "name": "Need Review",
          "tag": "flag:needreview"
         },
         {
          "name": "Duplicated",
          "tag": "flag:duplicated"
         },
         {
          "name": "Invalid",
          "tag": "flag:invalid"
         },
         {
          "name": "Not Bad",
          "tag": "flag:notbad"
         },
         {
          "name": "Starred",
          "tag": "flag:starred"
         },
         {
          "name": "Parody",
          "tag": "flag:parody"
         }
        ]
       }
      ],
      "text/plain": [
       "<IPython.core.display.JSON object>"
      ]
     },
     "execution_count": 24,
     "metadata": {
      "application/json": {
       "expanded": false,
       "root": "root"
      }
     },
     "output_type": "execute_result"
    }
   ],
   "source": [
    "JSON(labelOptions)"
   ]
  },
  {
   "cell_type": "code",
   "execution_count": 25,
   "metadata": {},
   "outputs": [],
   "source": [
    "labelTags = json.load(open('tmp/labelTags.json'))"
   ]
  },
  {
   "cell_type": "code",
   "execution_count": 26,
   "metadata": {},
   "outputs": [
    {
     "data": {
      "application/json": {
       "categories": [
        {
         "category": "fault",
         "grouped": true,
         "hierarchical": true,
         "name": "Issues",
         "sorted": true
        },
        {
         "category": "form",
         "group_subcat_threshold": 10,
         "name": "Chart Types"
        },
        {
         "category": "data",
         "name": "Data Types"
        },
        {
         "category": "domain",
         "name": "Domains"
        },
        {
         "category": "media",
         "name": "Medium"
        },
        {
         "category": "layout",
         "name": "Layouts"
        },
        {
         "category": "effect",
         "name": "Effects"
        },
        {
         "category": "flag",
         "name": "Flags"
        }
       ],
       "groups": [
        {
         "category": "fault",
         "description": "Issues grouped by different components of a graph",
         "group": "grammar",
         "name": "Grammar of Graphics"
        },
        {
         "category": "fault",
         "description": "Issues grouped by different stages of visual analytics",
         "group": "pipeline",
         "name": "Visual Analytics Pipeline"
        }
       ],
       "subcategories": [
        {
         "category": "fault",
         "description": "Issues related to the axes of coordinated planes",
         "group": "grammar",
         "name": "Axis",
         "subcategory": "axis"
        },
        {
         "category": "fault",
         "description": "Issues related to legends and the use of scales",
         "group": "grammar",
         "name": "Legends and Scales",
         "subcategory": "scale"
        },
        {
         "category": "fault",
         "description": "Issues in the use of colors",
         "group": "grammar",
         "name": "Color",
         "subcategory": "color"
        },
        {
         "category": "fault",
         "description": "Issues related to titles, annotations and labels",
         "group": "grammar",
         "name": "Text",
         "subcategory": "text"
        },
        {
         "category": "fault",
         "description": "Issues related to visual encoding",
         "group": "grammar",
         "name": "Encoding",
         "subcategory": "encoding"
        },
        {
         "category": "fault",
         "description": "Issues related to the underlying data, its sources and completeness",
         "group": "pipeline",
         "name": "Data",
         "subcategory": "data"
        },
        {
         "category": "fault",
         "description": "Issues introduced when processing data or applying statistical transformations",
         "group": "pipeline",
         "name": "Data Transformation",
         "subcategory": "derive"
        },
        {
         "category": "fault",
         "description": "Issues in visual design choices",
         "group": "pipeline",
         "name": "Design Choices",
         "subcategory": "design"
        },
        {
         "category": "fault",
         "description": "Issues introduced in the graph drawing process, leads to missing graph elements or incomplete graph",
         "group": "pipeline",
         "name": "Graph Drawing",
         "subcategory": "graph"
        },
        {
         "category": "fault",
         "description": "Difficulties in reading",
         "group": "pipeline",
         "name": "Reading",
         "subcategory": "visual"
        },
        {
         "category": "fault",
         "description": "Issues related to the weaknesses in human perception",
         "group": "pipeline",
         "name": "Perception",
         "subcategory": "perception"
        },
        {
         "category": "fault",
         "description": "Visualizations that are trying to convey nonsense or illogical messages",
         "group": "pipeline",
         "name": "Message",
         "subcategory": "logical"
        },
        {
         "category": "form",
         "name": "Bar",
         "subcategory": "bar"
        },
        {
         "category": "form",
         "name": "Line",
         "subcategory": "line"
        },
        {
         "category": "form",
         "name": "Dot",
         "subcategory": "dot"
        },
        {
         "category": "form",
         "name": "Circle",
         "subcategory": "circle"
        },
        {
         "category": "form",
         "name": "Area",
         "subcategory": "area"
        },
        {
         "category": "form",
         "name": "Map",
         "subcategory": "map"
        },
        {
         "category": "form",
         "name": "Table",
         "subcategory": "table"
        },
        {
         "category": "form",
         "name": "Icon",
         "subcategory": "icon"
        },
        {
         "category": "form",
         "name": "Other",
         "subcategory": "other"
        },
        {
         "category": "data",
         "description": "Basic attributes",
         "name": "Attribute",
         "subcategory": "attribute"
        },
        {
         "category": "data",
         "description": "Derived attributes",
         "name": "Derived",
         "subcategory": "derived"
        },
        {
         "category": "data",
         "description": "Time related data",
         "name": "Time",
         "subcategory": "time"
        },
        {
         "category": "data",
         "description": "Spatial meaning in x-, y-, or z-axes",
         "name": "Coordinated",
         "subcategory": "position"
        },
        {
         "category": "data",
         "description": "Items are inter-linked",
         "name": "Relational",
         "subcategory": "relation"
        },
        {
         "category": "data",
         "description": "Other uncategorized data types",
         "name": "Other",
         "subcategory": "other"
        }
       ],
       "tags": [
        {
         "category": "fault",
         "description": "Cherry-picking the scope of data, e.g., picking an arbitrary starting point of the time axis.",
         "name": "Selective Data",
         "subcategories": [
          "data"
         ],
         "tag": "fault:data:selective"
        },
        {
         "category": "fault",
         "description": "Null values in the chart that causes confusion.",
         "name": "Missing Values",
         "subcategories": [
          "data"
         ],
         "tag": "fault:data:missingvalues"
        },
        {
         "category": "fault",
         "description": "Items appear more than once in the chart.",
         "name": "Redundant Values",
         "subcategories": [
          "data"
         ],
         "tag": "fault:data:redundant"
        },
        {
         "category": "fault",
         "description": "Dubious data source.",
         "name": "Questionable Data",
         "subcategories": [
          "data"
         ],
         "tag": "fault:data:questionable"
        },
        {
         "category": "fault",
         "description": "Not real data, but drawn like backed by data.",
         "name": "Hypothetical Data",
         "subcategories": [
          "data"
         ],
         "tag": "fault:data:hypothetical"
        },
        {
         "category": "fault",
         "description": "Items are grouped arbitrarily.",
         "name": "Arbitrary Binning",
         "subcategories": [
          "derive"
         ],
         "tag": "fault:binning"
        },
        {
         "category": "fault",
         "description": "Items are not sorted, or out of order.",
         "name": "Items Out of Order",
         "subcategories": [
          "derive"
         ],
         "tag": "fault:itemorder"
        },
        {
         "category": "fault",
         "description": "Percentages do not add up to 100% in a whole-part relationship.",
         "name": "Percentage Not 100%",
         "subcategories": [
          "derive"
         ],
         "tag": "fault:percentage:sum"
        },
        {
         "category": "fault",
         "description": "Improper use of statistics, e.g., a regression line with high error.",
         "name": "Faulty Regression",
         "subcategories": [
          "derive"
         ],
         "tag": "fault:faultystatistics"
        },
        {
         "category": "fault",
         "description": "Plotting future data points derived from unreliable prediction.",
         "name": "Unreliable Forecasting",
         "subcategories": [
          "derive"
         ],
         "tag": "fault:data:prediction"
        },
        {
         "category": "fault",
         "description": "Values are indexed or normalized by an unconventional method.",
         "name": "Base Line Alignment",
         "subcategories": [
          "derive"
         ],
         "tag": "fault:baselinealignment"
        },
        {
         "category": "fault",
         "description": "Mismatch between colors and the objects that they represent, e.g., blue for apples.",
         "name": "Color Mismatch",
         "subcategories": [
          "design",
          "color"
         ],
         "tag": "fault:colorconvention"
        },
        {
         "category": "fault",
         "description": "Ineffective color scheme, e.g., categorical colors for continuous variable.",
         "name": "Ineffective Color Scheme",
         "subcategories": [
          "design",
          "color"
         ],
         "tag": "fault:colorscale"
        },
        {
         "category": "fault",
         "description": "Looks like a visualization, but not visualizing any data, also known as non-sequitur.",
         "name": "Disguised Visualization",
         "subcategories": [
          "design",
          "visual"
         ],
         "tag": "fault:nonsequitur"
        },
        {
         "category": "fault",
         "description": "Description and visualization do not add up.",
         "name": "False Description",
         "subcategories": [
          "design",
          "text"
         ],
         "tag": "fault:description"
        },
        {
         "category": "fault",
         "description": "Improper annotation or highlight.",
         "name": "Improper Annotation",
         "subcategories": [
          "design",
          "text"
         ],
         "tag": "fault:annotation"
        },
        {
         "category": "fault",
         "description": "Lines or arrows are connecting unrelated dots.",
         "name": "Invalid Connection",
         "subcategories": [
          "design",
          "encoding"
         ],
         "tag": "fault:connection"
        },
        {
         "category": "fault",
         "description": "Distort map projection to encode information",
         "name": "Distorted Map Projection",
         "subcategories": [
          "design",
          "encoding"
         ],
         "tag": "fault:mapprojection"
        },
        {
         "category": "fault",
         "description": "Data is drawn to an unconventional scale.",
         "name": "Absurd Scale",
         "subcategories": [
          "design",
          "scale"
         ],
         "tag": "fault:scale"
        },
        {
         "category": "fault",
         "description": "Incorrect use of log scale.",
         "name": "Incorrect Use of Log Scale",
         "subcategories": [
          "design",
          "scale"
         ],
         "tag": "fault:scale:log"
        },
        {
         "category": "fault",
         "description": "Plotting more than one different scale on a single dimension, most often the y-axis.",
         "name": "Dual Axes",
         "subcategories": [
          "design",
          "axis"
         ],
         "tag": "fault:axis:double"
        },
        {
         "category": "fault",
         "description": "Chart is understandable, but unintuitive, there are better alternatives.",
         "name": "Ineffective Encoding",
         "subcategories": [
          "design",
          "encoding"
         ],
         "tag": "fault:betteralternative"
        },
        {
         "category": "fault",
         "description": "Poor positioning, alignment, or rotation of items.",
         "name": "Poor Positioning",
         "subcategories": [
          "design",
          "visual"
         ],
         "tag": "fault:position"
        },
        {
         "category": "fault",
         "description": "Valid encoding choice but incorrectly drawn, e.g., a glitch.",
         "name": "Plotting Error",
         "subcategories": [
          "graph",
          "visual"
         ],
         "tag": "fault:encoding"
        },
        {
         "category": "fault",
         "description": "Too many colors, mostly related to the scalability issues.",
         "name": "Too Many Colors",
         "subcategories": [
          "graph",
          "color"
         ],
         "tag": "fault:color:over12"
        },
        {
         "category": "fault",
         "description": "The geometric shapes do not match the labelled values.",
         "name": "Misrepresentation",
         "subcategories": [
          "graph",
          "scale"
         ],
         "tag": "fault:scale:inconsistent"
        },
        {
         "category": "fault",
         "description": "Different scales across related charts.",
         "name": "Inconsistent Scale Across",
         "subcategories": [
          "graph",
          "scale"
         ],
         "tag": "fault:scale:inconsistentacross"
        },
        {
         "category": "fault",
         "description": "Missing label for item details.",
         "name": "Missing Item Labels",
         "subcategories": [
          "graph",
          "text"
         ],
         "tag": "fault:missinglabel"
        },
        {
         "category": "fault",
         "description": "Items are labeled with incorrect description.",
         "name": "Incorrect Item Labels",
         "subcategories": [
          "graph",
          "text"
         ],
         "tag": "fault:wronglabel"
        },
        {
         "category": "fault",
         "description": "Axis is missing for a coordinated chart.",
         "name": "Missing Axis",
         "subcategories": [
          "graph",
          "axis"
         ],
         "tag": "fault:axis:missing"
        },
        {
         "category": "fault",
         "description": "Axis is not labeled with tick marks.",
         "name": "Missing Axis Labels",
         "subcategories": [
          "graph",
          "axis",
          "text"
         ],
         "tag": "fault:axis:label"
        },
        {
         "category": "fault",
         "description": "Axis is incorrectly labeled.",
         "name": "Incorrect Axis Labels",
         "subcategories": [
          "graph",
          "axis",
          "text"
         ],
         "tag": "fault:axis:incorrectlabel"
        },
        {
         "category": "fault",
         "description": "Intervals on an axis does not follow a scale.",
         "name": "Inconsistent Tick Interval",
         "subcategories": [
          "graph",
          "axis"
         ],
         "tag": "fault:inconsistentaxisinterval"
        },
        {
         "category": "fault",
         "description": "Inconsistent time interval between data points.",
         "name": "Inconsistent Time Interval",
         "subcategories": [
          "graph",
          "axis"
         ],
         "tag": "fault:inconsistentinterval"
        },
        {
         "category": "fault",
         "description": "Legend is needed but missing.",
         "name": "Missing Legend",
         "subcategories": [
          "graph",
          "scale"
         ],
         "tag": "fault:legend"
        },
        {
         "category": "fault",
         "description": "Axis values are increasing in an unconventional direction.",
         "name": "Flipped Axis",
         "subcategories": [
          "graph",
          "axis"
         ],
         "tag": "fault:axis:flipped"
        },
        {
         "category": "fault",
         "description": "Non-zero starting point on an axis that exaggerates or understates differences between items.",
         "name": "Truncated Axis",
         "subcategories": [
          "graph",
          "axis"
         ],
         "tag": "fault:axis:truncated"
        },
        {
         "category": "fault",
         "description": "Categorical colors are undistinguishable with each other.",
         "name": "Undistinguishable Colors",
         "subcategories": [
          "visual",
          "color"
         ],
         "tag": "fault:colormess"
        },
        {
         "category": "fault",
         "description": "Eye beats memory, comparing changes across animation frames is impossible.",
         "name": "Unjustified Animation",
         "subcategories": [
          "visual",
          "perception"
         ],
         "tag": "fault:animation"
        },
        {
         "category": "fault",
         "description": "Lengend is not helpful in understanding the chart.",
         "name": "Confusing Legend",
         "subcategories": [
          "visual",
          "scale"
         ],
         "tag": "fault:legendconfuse"
        },
        {
         "category": "fault",
         "description": "Labels are hard to understand or not understandable at all.",
         "name": "Confusing Label",
         "subcategories": [
          "visual",
          "text"
         ],
         "tag": "fault:labelconfuse"
        },
        {
         "category": "fault",
         "description": "Overwhelmed by visual clutter.",
         "name": "Cluttering",
         "subcategories": [
          "visual"
         ],
         "tag": "fault:cluttering"
        },
        {
         "category": "fault",
         "description": "Some items are not visible in the visualization because of blockage by another item.",
         "name": "Occlusion",
         "subcategories": [
          "visual"
         ],
         "tag": "fault:occulusion"
        },
        {
         "category": "fault",
         "description": "Chart ornament that causes negative effect in understanding.",
         "name": "Chart Junk",
         "subcategories": [
          "visual"
         ],
         "tag": "fault:chartjunk"
        },
        {
         "category": "fault",
         "description": "Text in the chart are illegible.",
         "name": "Illegible Text",
         "subcategories": [
          "visual",
          "text"
         ],
         "tag": "fault:legibility"
        },
        {
         "category": "fault",
         "description": "Very disturbing while looking at it.",
         "name": "Visually Awful",
         "subcategories": [
          "visual"
         ],
         "tag": "fault:visuallyawful"
        },
        {
         "category": "fault",
         "description": "Items with same or similar colors are not related.",
         "name": "False Color Correlation",
         "subcategories": [
          "perception",
          "color"
         ],
         "tag": "fault:colorcorrelation"
        },
        {
         "category": "fault",
         "description": "Unjustified use of 3D, it distorts the perceived size of the items.",
         "name": "Unjustified 3D",
         "subcategories": [
          "perception",
          "visual"
         ],
         "tag": "fault:3d"
        },
        {
         "category": "fault",
         "description": "Incorrect use of area encoding that exaggerates or understates differences between items.",
         "name": "Area Encoding",
         "subcategories": [
          "perception",
          "encoding"
         ],
         "tag": "fault:area"
        },
        {
         "category": "fault",
         "description": "Pictogram is improperly scaled to reflect value differences.",
         "name": "Area Encoded Pictogram",
         "subcategories": [
          "perception",
          "encoding"
         ],
         "tag": "fault:picto:distortion"
        },
        {
         "category": "fault",
         "description": "Cannot decode any data nor information.",
         "name": "Not Understandable",
         "subcategories": [
          "logical"
         ],
         "tag": "fault:cannotunderstand"
        },
        {
         "category": "fault",
         "description": "Not whole-part relationship but draw as a chart for whole-part relationship like pie chart.",
         "name": "Faulty Whole Part",
         "subcategories": [
          "logical"
         ],
         "tag": "fault:percentage:wholepart"
        },
        {
         "category": "fault",
         "description": "Conveying an illogical message.",
         "name": "Faulty Logic",
         "subcategories": [
          "logical"
         ],
         "tag": "fault:faultylogic"
        },
        {
         "category": "fault",
         "description": "Need background information in order to understand the message.",
         "name": "Missing Context",
         "subcategories": [
          "logical"
         ],
         "tag": "fault:missingcontext"
        },
        {
         "category": "fault",
         "description": "Comparison between items that are incomparable.",
         "name": "Invalid Comparison",
         "subcategories": [
          "logical"
         ],
         "tag": "fault:invalidcomparison"
        },
        {
         "category": "fault",
         "description": "The observed pattern is nothing more than the pattern of population density.",
         "name": "Just a Population Map",
         "subcategories": [
          "logical"
         ],
         "tag": "fault:map:population"
        },
        {
         "category": "fault",
         "description": "Suggesting causal relationships from correlations.",
         "name": "Spurious Correlation",
         "subcategories": [
          "logical"
         ],
         "tag": "fault:spuriousocorrelation"
        },
        {
         "category": "form",
         "name": "Bar Chart",
         "subcategory": "bar",
         "tag": "form:barchart"
        },
        {
         "category": "form",
         "name": "Stacked Bar Chart",
         "subcategory": "bar",
         "tag": "form:stackedbarchart"
        },
        {
         "category": "form",
         "name": "Dot Plot",
         "subcategory": "bar",
         "tag": "form:dotplot"
        },
        {
         "category": "form",
         "name": "Histogram",
         "subcategory": "bar",
         "tag": "form:histogram"
        },
        {
         "category": "form",
         "name": "Barcode Chart",
         "subcategory": "bar",
         "tag": "form:barcodechart"
        },
        {
         "category": "form",
         "name": "Progress Bar",
         "subcategory": "bar",
         "tag": "form:progressbar"
        },
        {
         "category": "form",
         "name": "Line Chart",
         "subcategory": "line",
         "tag": "form:linechart"
        },
        {
         "category": "form",
         "name": "Node-Link Diagram",
         "subcategory": "line",
         "tag": "form:nodelink"
        },
        {
         "category": "form",
         "name": "Parallel Coordinates",
         "subcategory": "line",
         "tag": "form:parallelcoor"
        },
        {
         "category": "form",
         "name": "Radar Chart",
         "subcategory": "line",
         "tag": "form:radarchart"
        },
        {
         "category": "form",
         "name": "Sankey Diagram",
         "subcategory": "line",
         "tag": "form:sankeydiagram"
        },
        {
         "category": "form",
         "name": "Box Plot",
         "subcategory": "line",
         "tag": "form:boxplot"
        },
        {
         "category": "form",
         "name": "Violin Plot",
         "subcategory": "line",
         "tag": "form:violinplot"
        },
        {
         "category": "form",
         "name": "Time Line",
         "subcategory": "line",
         "tag": "form:timeline"
        },
        {
         "category": "form",
         "name": "Connected Scatter Plot",
         "subcategory": "dot",
         "tag": "form:connectedscatterplot"
        },
        {
         "category": "form",
         "name": "Scatter Plot",
         "subcategory": "dot",
         "tag": "form:scatterplot"
        },
        {
         "category": "form",
         "name": "Dumbbell Plot",
         "subcategory": "dot",
         "tag": "form:dumbbellplot"
        },
        {
         "category": "form",
         "name": "Polar Graph",
         "subcategory": "dot",
         "tag": "form:polargraph"
        },
        {
         "category": "form",
         "name": "Bubble Chart",
         "subcategory": "circle",
         "tag": "form:bubblechart"
        },
        {
         "category": "form",
         "name": "Pie Chart",
         "subcategory": "circle",
         "tag": "form:piechart"
        },
        {
         "category": "form",
         "name": "Donut Chart",
         "subcategory": "circle",
         "tag": "form:donutchart"
        },
        {
         "category": "form",
         "name": "Guage Chart",
         "subcategory": "circle",
         "tag": "form:guagechart"
        },
        {
         "category": "form",
         "name": "Sunbrust Diagram",
         "subcategory": "circle",
         "tag": "form:sunbrust"
        },
        {
         "category": "form",
         "name": "Venn Diagram",
         "subcategory": "circle",
         "tag": "form:venn"
        },
        {
         "category": "form",
         "name": "Nested Bubbles",
         "subcategory": "circle",
         "tag": "form:nestedbubble"
        },
        {
         "category": "form",
         "name": "Polar Area Chart",
         "subcategory": "circle",
         "tag": "form:polararea"
        },
        {
         "category": "form",
         "name": "Chord Diagram",
         "subcategory": "circle",
         "tag": "form:chord"
        },
        {
         "category": "form",
         "name": "Area Chart",
         "subcategory": "area",
         "tag": "form:areachart"
        },
        {
         "category": "form",
         "name": "Stacked Area Chart",
         "subcategory": "area",
         "tag": "form:stackedareachart"
        },
        {
         "category": "form",
         "name": "Stream Graph",
         "subcategory": "area",
         "tag": "form:streamgraph"
        },
        {
         "category": "form",
         "name": "Treemap",
         "subcategory": "area",
         "tag": "form:treemap"
        },
        {
         "category": "form",
         "name": "Voronoi Diagram",
         "subcategory": "area",
         "tag": "form:voronoi"
        },
        {
         "category": "form",
         "name": "Pyramid",
         "subcategory": "area",
         "tag": "form:pyramid"
        },
        {
         "category": "form",
         "name": "Choropleth",
         "subcategory": "map",
         "tag": "form:choropleth"
        },
        {
         "category": "form",
         "name": "Flow Map",
         "subcategory": "map",
         "tag": "form:flowmap"
        },
        {
         "category": "form",
         "name": "Map",
         "subcategory": "map",
         "tag": "form:map"
        },
        {
         "category": "form",
         "name": "Table",
         "subcategory": "table",
         "tag": "form:table"
        },
        {
         "category": "form",
         "name": "Heatmap",
         "subcategory": "table",
         "tag": "form:heatmap"
        },
        {
         "category": "form",
         "name": "Quadrant",
         "subcategory": "table",
         "tag": "form:quadrant"
        },
        {
         "category": "form",
         "name": "Pictogram",
         "subcategory": "icon",
         "tag": "form:pictogram"
        },
        {
         "category": "form",
         "name": "Chernoff Face",
         "subcategory": "icon",
         "tag": "form:chernoffface"
        },
        {
         "category": "form",
         "name": "Unclassified",
         "subcategory": "other",
         "tag": "form:unknown"
        },
        {
         "category": "data",
         "name": "Categorical",
         "subcategory": "attribute",
         "tag": "data:categorical"
        },
        {
         "category": "data",
         "name": "Quantitative",
         "subcategory": "attribute",
         "tag": "data:quantitative"
        },
        {
         "category": "data",
         "name": "Sequential",
         "subcategory": "attribute",
         "tag": "data:sequential"
        },
        {
         "category": "data",
         "name": "Diverging",
         "subcategory": "attribute",
         "tag": "data:diverging"
        },
        {
         "category": "data",
         "name": "Ordinal",
         "subcategory": "attribute",
         "tag": "data:ordinal"
        },
        {
         "category": "data",
         "name": "Time Series",
         "subcategory": "time",
         "tag": "data:timeseries"
        },
        {
         "category": "data",
         "name": "Cyclic",
         "subcategory": "time",
         "tag": "data:cyclic"
        },
        {
         "category": "data",
         "name": "Geospatial",
         "subcategory": "position",
         "tag": "data:geospatial"
        },
        {
         "category": "data",
         "name": "Flow",
         "subcategory": "position",
         "tag": "data:flow"
        },
        {
         "category": "data",
         "name": "Bitmap",
         "subcategory": "position",
         "tag": "data:bitmap"
        },
        {
         "category": "data",
         "name": "Positional",
         "subcategory": "position",
         "tag": "data:positional"
        },
        {
         "category": "data",
         "name": "Network",
         "subcategory": "relation",
         "tag": "data:network"
        },
        {
         "category": "data",
         "name": "Tree",
         "subcategory": "relation",
         "tag": "data:tree"
        },
        {
         "category": "data",
         "name": "Set",
         "subcategory": "relation",
         "tag": "data:set"
        },
        {
         "category": "data",
         "name": "Ranked",
         "subcategory": "derived",
         "tag": "data:ranking"
        },
        {
         "category": "data",
         "name": "Index Value",
         "subcategory": "derived",
         "tag": "data:indexvalue"
        },
        {
         "category": "data",
         "name": "Accumulated",
         "subcategory": "derived",
         "tag": "data:accumulated"
        },
        {
         "category": "data",
         "name": "Percentage",
         "subcategory": "derived",
         "tag": "data:percentage"
        },
        {
         "category": "data",
         "name": "Probability",
         "subcategory": "derived",
         "tag": "data:probability"
        },
        {
         "category": "data",
         "name": "Text",
         "subcategory": "other",
         "tag": "data:text"
        },
        {
         "category": "data",
         "name": "Multivariate",
         "subcategory": "other",
         "tag": "data:multivariate"
        },
        {
         "category": "domain",
         "name": "Politics",
         "tag": "domain:politics"
        },
        {
         "category": "domain",
         "name": "Business",
         "tag": "domain:business"
        },
        {
         "category": "domain",
         "name": "Entertainment",
         "tag": "domain:entertainment"
        },
        {
         "category": "domain",
         "name": "Scientific",
         "tag": "domain:scientific"
        },
        {
         "category": "domain",
         "name": "Sports",
         "tag": "domain:sports"
        },
        {
         "category": "domain",
         "name": "Health",
         "tag": "domain:health"
        },
        {
         "category": "domain",
         "name": "Education",
         "tag": "domain:education"
        },
        {
         "category": "domain",
         "name": "Food",
         "tag": "domain:catering"
        },
        {
         "category": "domain",
         "name": "Computer",
         "tag": "domain:computer"
        },
        {
         "category": "domain",
         "name": "Environment",
         "tag": "domain:environment"
        },
        {
         "category": "domain",
         "name": "International",
         "tag": "domain:international"
        },
        {
         "category": "domain",
         "name": "Public",
         "tag": "domain:public"
        },
        {
         "category": "domain",
         "name": "Personal",
         "tag": "domain:personal"
        },
        {
         "category": "domain",
         "name": "Unknown",
         "tag": "domain:unknown"
        },
        {
         "category": "media",
         "name": "TV",
         "tag": "media:tv"
        },
        {
         "category": "media",
         "name": "News Article",
         "tag": "media:news"
        },
        {
         "category": "media",
         "name": "Ads",
         "tag": "media:ads"
        },
        {
         "category": "media",
         "name": "Printed",
         "tag": "media:printed"
        },
        {
         "category": "media",
         "name": "Handdrawn",
         "tag": "media:handdrawn"
        },
        {
         "category": "media",
         "name": "Inreallife",
         "tag": "media:inreallife"
        },
        {
         "category": "media",
         "name": "NSFW",
         "tag": "media:NSFW"
        },
        {
         "category": "media",
         "name": "Infographic",
         "tag": "media:infographic"
        },
        {
         "category": "media",
         "name": "Google Products",
         "tag": "media:google"
        },
        {
         "category": "layout",
         "name": "Circular",
         "tag": "layout:circular"
        },
        {
         "category": "layout",
         "name": "Juxtaposition",
         "tag": "layout:juxtaposition"
        },
        {
         "category": "layout",
         "name": "Superimposed",
         "tag": "layout:overlay"
        },
        {
         "category": "layout",
         "name": "Multiple-views",
         "tag": "layout:mixed"
        },
        {
         "category": "layout",
         "name": "Periodictable",
         "tag": "layout:periodictable"
        },
        {
         "category": "layout",
         "name": "Clock",
         "tag": "layout:clock"
        },
        {
         "category": "layout",
         "name": "Calendar",
         "tag": "layout:calendar"
        },
        {
         "category": "effect",
         "name": "Reversed",
         "tag": "effect:reversed"
        },
        {
         "category": "effect",
         "name": "Distorted",
         "tag": "effect:distorted"
        },
        {
         "category": "effect",
         "name": "Confused",
         "tag": "effect:confuesed"
        },
        {
         "category": "effect",
         "name": "Suggestive",
         "tag": "effect:suggestive"
        },
        {
         "category": "flag",
         "name": "Need Review",
         "tag": "flag:needreview"
        },
        {
         "category": "flag",
         "name": "Duplicated",
         "tag": "flag:duplicated"
        },
        {
         "category": "flag",
         "name": "Invalid",
         "tag": "flag:invalid"
        },
        {
         "category": "flag",
         "name": "Not Bad",
         "tag": "flag:notbad"
        },
        {
         "category": "flag",
         "name": "Starred",
         "tag": "flag:starred"
        },
        {
         "category": "flag",
         "name": "Parody",
         "tag": "flag:parody"
        }
       ]
      },
      "text/plain": [
       "<IPython.core.display.JSON object>"
      ]
     },
     "execution_count": 26,
     "metadata": {
      "application/json": {
       "expanded": false,
       "root": "root"
      }
     },
     "output_type": "execute_result"
    }
   ],
   "source": [
    "JSON(labelTags)"
   ]
  },
  {
   "cell_type": "code",
   "execution_count": 27,
   "metadata": {},
   "outputs": [],
   "source": [
    "for t in labelTags['tags']:\n",
    "    t['images']= [i['image_name'] for i in visimages.find({'labels': t['tag']})]"
   ]
  },
  {
   "cell_type": "code",
   "execution_count": 28,
   "metadata": {},
   "outputs": [],
   "source": [
    "# dump all tags but flag\n",
    "json.dump(labelOptions[:-1], open(imagelist_dir/f\"labelOptions.json\", 'w'), separators=(',', ':'))"
   ]
  },
  {
   "cell_type": "code",
   "execution_count": 29,
   "metadata": {},
   "outputs": [],
   "source": [
    "# dump all tags but flag\n",
    "labelTags['categories'] = labelTags['categories'][:-1]\n",
    "labelTags['tags'] = [t for t in labelTags['tags'] if t['category'] != 'flag']\n",
    "json.dump(labelTags, open(imagelist_dir/f\"labelTags.json\", 'w'), separators=(',', ':'))"
   ]
  },
  {
   "cell_type": "markdown",
   "metadata": {},
   "source": [
    "# Sprite"
   ]
  },
  {
   "cell_type": "code",
   "execution_count": 30,
   "metadata": {},
   "outputs": [],
   "source": [
    "# ims = []\n",
    "# sprites_path = str(gallery_dir/'0.jpg')\n",
    "# for i in range(225):\n",
    "#     visImage = visImages[i]\n",
    "#     visImage['sprites_path'] = sprites_path\n",
    "#     visImage['sprites_pos_x'] = (i % 15) * thumbnail_size\n",
    "#     visImage['sprites_pos_y'] = (i // 15) * thumbnail_size\n",
    "#     im = cv2.imread(visImage['thumbnail_path'])\n",
    "#     w, h = im.shape[:2]\n",
    "#     new_im = cv2.copyMakeBorder(im, 0, thumbnail_size-w, 0, thumbnail_size-h, cv2.BORDER_CONSTANT, value=[0, 0, 0])\n",
    "#     ims.append(new_im)\n",
    "# montages = imutils.build_montages(ims, (140, 140), (15, 15))\n",
    "# cv2.imwrite(sprites_path, montages[0])"
   ]
  },
  {
   "cell_type": "code",
   "execution_count": null,
   "metadata": {
    "collapsed": true,
    "jupyter": {
     "outputs_hidden": true
    }
   },
   "outputs": [],
   "source": []
  }
 ],
 "metadata": {
  "kernelspec": {
   "display_name": "Python 3",
   "language": "python",
   "name": "python3"
  },
  "language_info": {
   "codemirror_mode": {
    "name": "ipython",
    "version": 3
   },
   "file_extension": ".py",
   "mimetype": "text/x-python",
   "name": "python",
   "nbconvert_exporter": "python",
   "pygments_lexer": "ipython3",
   "version": "3.8.5"
  }
 },
 "nbformat": 4,
 "nbformat_minor": 4
}
