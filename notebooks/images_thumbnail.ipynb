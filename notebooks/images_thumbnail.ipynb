{
 "cells": [
  {
   "cell_type": "code",
   "execution_count": 1,
   "metadata": {},
   "outputs": [],
   "source": [
    "# !pip install imutils\n",
    "# !pip install opencv-python"
   ]
  },
  {
   "cell_type": "code",
   "execution_count": 2,
   "metadata": {},
   "outputs": [],
   "source": [
    "from pymongo import MongoClient\n",
    "from pathlib import Path\n",
    "from tqdm.notebook import tqdm\n",
    "from shutil import copyfile\n",
    "import imutils\n",
    "import cv2\n",
    "from PIL import Image\n",
    "import json\n",
    "from itertools import chain\n",
    "from pydash import pick, omit\n",
    "from datetime import datetime\n",
    "\n",
    "from IPython.display import JSON\n",
    "\n",
    "from lib.parallel import parallel\n",
    "from lib.sort_things import sort_posts\n",
    "# from lib import images2gif"
   ]
  },
  {
   "cell_type": "code",
   "execution_count": 3,
   "metadata": {},
   "outputs": [],
   "source": [
    "images_dir = Path('../images')\n",
    "gallery_dir = Path('../')\n",
    "labelling_dir = Path('../labelling')"
   ]
  },
  {
   "cell_type": "code",
   "execution_count": 4,
   "metadata": {},
   "outputs": [],
   "source": [
    "# rebuild_images = True\n",
    "rebuild_images = False"
   ]
  },
  {
   "cell_type": "code",
   "execution_count": 5,
   "metadata": {},
   "outputs": [],
   "source": [
    "if rebuild_images:\n",
    "    !rm -r {labelling_dir/'preview'}\n",
    "    !rm -r {labelling_dir/'thumbnail'}\n",
    "\n",
    "    !rm -r {gallery_dir/'preview'}\n",
    "    !rm -r {gallery_dir/'thumbnail'}\n",
    "\n",
    "!rm -r {gallery_dir/'meta'}\n",
    "!rm -r {gallery_dir/'image_lists'}"
   ]
  },
  {
   "cell_type": "code",
   "execution_count": 6,
   "metadata": {},
   "outputs": [],
   "source": [
    "labelling_dir.mkdir(exist_ok=True)\n",
    "gallery_dir.mkdir(exist_ok=True)\n",
    "\n",
    "labelling_preview_dir = labelling_dir/'preview'\n",
    "labelling_thumbnail_dir = labelling_dir/'thumbnail'\n",
    "labelling_preview_dir.mkdir(exist_ok=True)\n",
    "labelling_thumbnail_dir.mkdir(exist_ok=True)\n",
    "\n",
    "preview_dir = gallery_dir/'preview'\n",
    "thumbnail_dir = gallery_dir/'thumbnail'\n",
    "preview_dir.mkdir(exist_ok=True)\n",
    "thumbnail_dir.mkdir(exist_ok=True)\n",
    "\n",
    "meta_dir = gallery_dir/'meta'\n",
    "imagelist_dir = gallery_dir/'image_lists'\n",
    "meta_dir.mkdir(exist_ok=True)\n",
    "imagelist_dir.mkdir(exist_ok=True)"
   ]
  },
  {
   "cell_type": "code",
   "execution_count": 7,
   "metadata": {},
   "outputs": [],
   "source": [
    "mongo = MongoClient('172.17.0.1', 27017)\n",
    "db = mongo['bad-vis']\n",
    "posts = db['posts']\n",
    "imagededup = db['imagededup']\n",
    "imagelabel = db['imagelabel']\n",
    "visimages = db['visimages']\n",
    "vislabels = db['vislabels']"
   ]
  },
  {
   "cell_type": "code",
   "execution_count": 8,
   "metadata": {},
   "outputs": [],
   "source": [
    "imagelabel.drop()\n",
    "visimages.drop()"
   ]
  },
  {
   "cell_type": "code",
   "execution_count": 9,
   "metadata": {},
   "outputs": [],
   "source": [
    "preview_size = 2048\n",
    "thumbnail_size = 140\n",
    "size_MB = 1024 * 1024"
   ]
  },
  {
   "cell_type": "code",
   "execution_count": 10,
   "metadata": {},
   "outputs": [],
   "source": [
    "class VisImage ():\n",
    "    _attrs = [\n",
    "        'id',\n",
    "        'post_id',\n",
    "        'image_name',\n",
    "        'image_path',\n",
    "        'thumbnail_path',\n",
    "\n",
    "        'datetime',\n",
    "        'url',\n",
    "        'title',\n",
    "        'author',\n",
    "        # 'source',\n",
    "        # 'source_url',\n",
    "        # 'source_platform',\n",
    "        'popularity_score',\n",
    "\n",
    "    #     'size',\n",
    "    #     'width',\n",
    "    #     'height',\n",
    "        'phash',\n",
    "        'duplicated_images',\n",
    "        'duplicated_posts',\n",
    "\n",
    "        'labels',\n",
    "        'remarks'\n",
    "    ]\n",
    "\n",
    "    def __init__ (self, image):\n",
    "        self._image = image\n",
    "\n",
    "        for k, v in image.items():\n",
    "            if k in ['labels', 'datetime', 'duplicated_posts']:\n",
    "                continue\n",
    "            setattr(self, k, v)\n",
    "\n",
    "    def digest (self, full=False):\n",
    "        digest = {a:getattr(self, a) for a in VisImage._attrs if hasattr(self, a)}\n",
    "        if full:\n",
    "            dict_digest = {k:v for k, v in self.__dict__.items() if not k.startswith('_')}\n",
    "            digest = {**digest, **dict_digest}\n",
    "            digest['labelling_path'] = self.labelling_path\n",
    "            digest['labelling_thumbnail_path'] = self.labelling_thumbnail_path\n",
    "            digest['exclude_from_list'] = self.exclude_from_list\n",
    "            digest['visLabel'] = self.visLabel\n",
    "        digest = {k:v if '_path' not in k else v[3:] for k, v in digest.items()}\n",
    "        return digest\n",
    "\n",
    "    @property\n",
    "    def image_name (self):\n",
    "        return f\"{self._image['id']}_{self._image['index_in_album']}\"\n",
    "\n",
    "    @property\n",
    "    def datetime (self):\n",
    "        return datetime.fromisoformat(self._image['datetime']).timestamp()\n",
    "\n",
    "    @property\n",
    "    def visLabel (self):\n",
    "        if not hasattr(self, '_labels'):\n",
    "            image_ids = [self._image['image_id']] + [i for i in self._image['duplicated_images']]\n",
    "            visLabels = [l for l in vislabels.find({'image_id': {'$in': image_ids}})]\n",
    "            if len(visLabels) == 0:\n",
    "                return None\n",
    "\n",
    "            if len(visLabels) > 1:\n",
    "                duplicated_labels = [l for l in visLabels if 'flag:duplicated' in l['labels']]\n",
    "                if (len(duplicated_labels) > 0):\n",
    "                    print(f\"labels duplicated: more than 1 label {len(duplicated_labels)} {image_ids} {visLabels}\")\n",
    "                    visLabels = [l for l in visLabels if l not in duplicated_labels]\n",
    "                else:\n",
    "                    print(f\"labels warning: more than 1 label {image_ids} {visLabels}\")\n",
    "\n",
    "            self._labels = visLabels[0]\n",
    "        return self._labels\n",
    "\n",
    "    @property\n",
    "    def labels (self):\n",
    "        if not self.visLabel:\n",
    "            return []\n",
    "        labels = [l for l in self.visLabel['labels'] if l != 'flag:starred']\n",
    "        if self._image.get('animated'):\n",
    "            labels.append('layout:animated')\n",
    "        return labels\n",
    "\n",
    "    @property\n",
    "    def duplicated_posts (self):\n",
    "        duplicated_post_ids = set(self._image['duplicated_posts'] + ['_'.join(image_id.split('_')[:-1]) for image_id in self._image['duplicated_images']])\n",
    "        duplicated_posts = [posts.find_one({'post_id': post_id}) for post_id in duplicated_post_ids if post_id != self.post_id]\n",
    "\n",
    "        return [{\n",
    "            **pick(p, ['url', 'title', 'author', 'post_id']),\n",
    "            'datetime': datetime.fromisoformat(p['datetime']).timestamp()\n",
    "        } for p in sort_posts(duplicated_posts)]\n",
    "\n",
    "    @property\n",
    "    def exclude_from_list (self):\n",
    "        return len(self.labels) == 0 or 'flag:invalid' in self.labels or 'flag:needreview' in self.labels or 'flag:notbad' in self.labels or 'flag:parody' in self.labels\n",
    "\n",
    "    @property\n",
    "    def remarks (self):\n",
    "        if not self.visLabel:\n",
    "            return ''\n",
    "        return self.visLabel['remarks']\n",
    "\n",
    "    @property\n",
    "    def filename (self):\n",
    "        return f\"{self.image_name}{self._image['ext']}\"\n",
    "\n",
    "    @property\n",
    "    def labelling_path (self):\n",
    "        return str(labelling_preview_dir/self.filename)\n",
    "\n",
    "    @property\n",
    "    def labelling_thumbnail_path (self):\n",
    "        return str(labelling_thumbnail_dir/self.filename)\n",
    "\n",
    "    @property\n",
    "    def image_path (self):\n",
    "        return str(preview_dir/self.filename)\n",
    "\n",
    "    @property\n",
    "    def thumbnail_path (self):\n",
    "#         return str(thumbnail_dir/f\"{self.image_name}{'.gif' if self._image['ext'] == '.gif' else '.jpg'}\")\n",
    "        return str(thumbnail_dir/f\"{self.image_name}.jpg\")\n",
    "\n",
    "    def makePreview (self, direct_copy=False):\n",
    "        if direct_copy or self._image['animated']:\n",
    "            copyfile(self._image['file_path'], self.labelling_path)\n",
    "        else:\n",
    "            im = Image.open(self._image['file_path'])\n",
    "\n",
    "            if '.jpg' in self.labelling_path:\n",
    "                im = im.convert('RGB')\n",
    "\n",
    "            # if self._image['width'] > preview_size or self._image['height'] > preview_size:\n",
    "            #     im.thumbnail((preview_size, preview_size), Image.LANCZOS)\n",
    "\n",
    "            im.save(self.labelling_path, optimize=True)\n",
    "\n",
    "            old_size = Path(self._image['file_path']).stat().st_size\n",
    "            new_size = Path(self.labelling_path).stat().st_size\n",
    "            if new_size / old_size >= 1:\n",
    "                copyfile(self._image['file_path'], self.labelling_path)\n",
    "            if new_size > 3 * size_MB:\n",
    "                print(new_size/size_MB, old_size/size_MB, new_size/old_size, self._image['file_path'], self.labelling_path)\n",
    "\n",
    "        if not self.exclude_from_list:\n",
    "            copyfile(self.labelling_path, self.image_path)\n",
    "\n",
    "    def makeThumbnail (self):\n",
    "#         if self._image['ext'] == '.gif':\n",
    "#             frames = images2gif.readGif(self._image['file_path'], False)\n",
    "#             for frame in frames:\n",
    "#                 frame.thumbnail((thumbnail_size, thumbnail_size), Image.ANTIALIAS)\n",
    "\n",
    "#             images2gif.writeGif(self.thumbnail_path, frames)\n",
    "#         else:\n",
    "\n",
    "        im = Image.open(self._image['file_path']).convert('RGB')\n",
    "        im.thumbnail((thumbnail_size, thumbnail_size), Image.LANCZOS)\n",
    "        im.save(self.labelling_thumbnail_path, optimize=True)\n",
    "\n",
    "        if not self.exclude_from_list:\n",
    "            copyfile(self.labelling_thumbnail_path, self.thumbnail_path)\n",
    "\n",
    "#         ratio = thumbnail_size / max([self._image['width'], self._image['height']])\n",
    "#         thumbnail_width = min([thumbnail_size, int(round(self._image['width'] * ratio))])\n",
    "#         thumbnail_height = min([thumbnail_size, int(round(self._image['height'] * ratio))])\n",
    "\n",
    "#         im = Image.open(self._image['file_path']).convert('RGB')\n",
    "#         im.thumbnail((thumbnail_width, thumbnail_height))\n",
    "#         im.save(self.thumbnail_path, 'JPEG')\n",
    "\n",
    "    def makeMetaData (self):\n",
    "        imagelabel.insert_one(self.digest(full=True))\n",
    "\n",
    "        if not self.exclude_from_list:\n",
    "            digest = self.digest()\n",
    "            with open(meta_dir/f\"{self.image_name}.json\", 'w') as f:\n",
    "                json.dump(digest, f)\n",
    "            visimages.insert_one(digest)"
   ]
  },
  {
   "cell_type": "code",
   "execution_count": 11,
   "metadata": {},
   "outputs": [],
   "source": [
    "def finalize_image (image):\n",
    "    visImage = VisImage(image)\n",
    "    if rebuild_images:\n",
    "        visImage.makePreview()\n",
    "        visImage.makeThumbnail()\n",
    "    visImage.makeMetaData()\n",
    "    return visImage"
   ]
  },
  {
   "cell_type": "code",
   "execution_count": 12,
   "metadata": {},
   "outputs": [
    {
     "data": {
      "application/vnd.jupyter.widget-view+json": {
       "model_id": "a69383c802c74a1890337b2d45af60dc",
       "version_major": 2,
       "version_minor": 0
      },
      "text/plain": [
       "HBox(children=(FloatProgress(value=0.0, max=5823.0), HTML(value='')))"
      ]
     },
     "metadata": {},
     "output_type": "display_data"
    },
    {
     "name": "stdout",
     "output_type": "stream",
     "text": [
      "\n"
     ]
    }
   ],
   "source": [
    "visImages = parallel(finalize_image, imagededup.find(), total=imagededup.estimated_document_count())"
   ]
  },
  {
   "cell_type": "code",
   "execution_count": 13,
   "metadata": {},
   "outputs": [],
   "source": [
    "visImages = [i for i in visImages if not i.exclude_from_list]"
   ]
  },
  {
   "cell_type": "markdown",
   "metadata": {},
   "source": [
    "# Image Lists"
   ]
  },
  {
   "cell_type": "code",
   "execution_count": 14,
   "metadata": {},
   "outputs": [],
   "source": [
    "visImages = [i for i in visimages.find()]"
   ]
  },
  {
   "cell_type": "code",
   "execution_count": 15,
   "metadata": {},
   "outputs": [],
   "source": [
    "visImages.sort(key=lambda x: x['popularity_score'])"
   ]
  },
  {
   "cell_type": "code",
   "execution_count": 16,
   "metadata": {},
   "outputs": [],
   "source": [
    "visImages.reverse()"
   ]
  },
  {
   "cell_type": "code",
   "execution_count": 17,
   "metadata": {},
   "outputs": [
    {
     "data": {
      "text/plain": [
       "911"
      ]
     },
     "execution_count": 17,
     "metadata": {},
     "output_type": "execute_result"
    }
   ],
   "source": [
    "len(visImages)"
   ]
  },
  {
   "cell_type": "code",
   "execution_count": 18,
   "metadata": {},
   "outputs": [],
   "source": [
    "for i in visImages:\n",
    "    del i['_id']\n",
    "    # del i['duplicated_images']"
   ]
  },
  {
   "cell_type": "code",
   "execution_count": 19,
   "metadata": {},
   "outputs": [],
   "source": [
    "json.dump({'images': visImages}, open(imagelist_dir/'all.json', 'w'), separators=(',', ':'))"
   ]
  },
  {
   "cell_type": "code",
   "execution_count": 20,
   "metadata": {},
   "outputs": [],
   "source": [
    "batch_cuts = [0] + [i for i in range(225, len(visImages), 400)] + [len(visImages)]\n",
    "for (batch_begin, batch_end) in zip(batch_cuts[:-1], batch_cuts[1:]):\n",
    "    json.dump({\n",
    "        'images': visImages[batch_begin:batch_end],\n",
    "        'next': f\"{batch_end}.json\" if batch_end != len(visImages) else None\n",
    "    }, open(imagelist_dir/f\"{batch_begin}.json\", 'w'), separators=(',', ':'))"
   ]
  },
  {
   "cell_type": "markdown",
   "metadata": {},
   "source": [
    "# Labels Options"
   ]
  },
  {
   "cell_type": "code",
   "execution_count": 21,
   "metadata": {},
   "outputs": [],
   "source": [
    "# labelOptions = [{\n",
    "#     'tag': 'fault',\n",
    "#     'name': 'Issues',\n",
    "#     'options': [\n",
    "#         'percentage:sum', 'percentage:encoding', 'percentage:wholepart',\n",
    "#         'label', 'description',\n",
    "#         'axis', 'axis:label', 'axis:flipped', 'axis:truncated', \"axis:missing\", 'axis:double', # axis:dual\n",
    "#         'legend',\n",
    "#         'color', 'color:over12',\n",
    "#         'scale', 'scale:log', 'scale:inconsistent', 'binning',\n",
    "#         'area',\n",
    "#         'picto:distortion', 'picto:area',\n",
    "#         'position', 'itemorder',\n",
    "#         'connection',\n",
    "#         '3d', 'animation',\n",
    "#         'cluttering', 'occulusion',\n",
    "#         'data', 'data:selective', 'data:questionable', 'data:missingvalues', 'data:redundant', 'data:prediction',\n",
    "#         'index:comparison', # index:crossbasiscomparison\n",
    "#         'parody', 'faultylogic', 'missingcontext',\n",
    "#         'confirmationbias', 'chartjunk', 'betteralternative',\n",
    "#         'faultystatistics', 'invalidcomparison',\n",
    "#         'map:population', 'invalidencoding',\n",
    "#         'unreadable', 'visuallyawful',\n",
    "#         'encoding', 'cannotaddup', 'legibility'\n",
    "#     ]}, {\n",
    "#     'tag': 'form',\n",
    "#     'name': 'Chart Type',\n",
    "#     'options': [\n",
    "#         'barchart', 'linechart', 'scatterplot', 'dotplot', 'barcodechart', 'areachart', 'histogram',\n",
    "#         'nodelink', 'radarchart', 'bubblechart', 'dumbbellplot',\n",
    "#         'piechart', 'donutchart',\n",
    "#         'pyramid', 'venn', 'choropleth', 'flowmap', 'map', 'chernoffface',\n",
    "#         'table', 'heatmap', 'treemap', 'quadrant',\n",
    "#         'boxplot', 'violinplot', 'parallelcoor', 'streamgraph',\n",
    "#         'pictogram', 'guagechart', 'sankeydiagram', 'chorddiagram', 'sunbrust', 'voronoi',\n",
    "#         'unknown'\n",
    "#     ]}, {\n",
    "#     'tag': 'data',\n",
    "#     'name': 'Data Types',\n",
    "#     'options': [\n",
    "#         'categorical', 'quantitative', 'indexvalue', 'accumulated',\n",
    "#         'percentage', 'probability',\n",
    "#         'ordinal', 'ranking', 'sequential',\n",
    "#         'timeseries', 'cyclic',\n",
    "#         'geospatial', 'flow',\n",
    "#         'network', 'tree',\n",
    "#         'set', 'bitmap',\n",
    "#         'text', 'multivariate',\n",
    "#     ]}, {\n",
    "#     'tag': 'media',\n",
    "#     'name': 'Medium',\n",
    "#     'options': [\n",
    "#         'inreallife', 'printed', 'handdrawn', 'tv', 'ads', 'news', 'NSFW'\n",
    "#     ]}, {\n",
    "#     'tag': 'layout',\n",
    "#     'name': 'Layout',\n",
    "#     'options': [\n",
    "#         'circular', 'infographics', 'stacked', 'map', 'juxtaposition', 'overlay', 'mixed'\n",
    "#     ]}, {\n",
    "#     'tag': 'metaphor',\n",
    "#     'name': 'Metaphor',\n",
    "#     'options': [\n",
    "#         'pictograph', 'periodictable', 'gear', 'clock'\n",
    "#     ]}, {\n",
    "#     'tag': 'flag',\n",
    "#     'name': 'Flag',\n",
    "#     'options': [\n",
    "#         'needreview', 'invalid', 'notbad', 'starred'\n",
    "#     ]}\n",
    "# ]"
   ]
  },
  {
   "cell_type": "code",
   "execution_count": 22,
   "metadata": {},
   "outputs": [],
   "source": [
    "# dump all tags but flag\n",
    "# json.dump(labelOptions[:-1], open(imagelist_dir/f\"labelOptions.json\", 'w'), separators=(',', ':'))"
   ]
  },
  {
   "cell_type": "code",
   "execution_count": 23,
   "metadata": {},
   "outputs": [],
   "source": [
    "labelOptions = json.load(open('tmp/labelOptions.json'))"
   ]
  },
  {
   "cell_type": "code",
   "execution_count": 24,
   "metadata": {},
   "outputs": [
    {
     "data": {
      "application/json": [
       {
        "category": "fault",
        "grouped": true,
        "hierarchical": true,
        "name": "Issues",
        "options": [
         {
          "count": 8,
          "description": "Cherry-picking the scope of data, e.g., picking an arbitrary starting point of the time axis.",
          "name": "Selective Data",
          "subcategories": [
           "data"
          ],
          "tag": "fault:data:selective"
         },
         {
          "count": 8,
          "description": "Null values in the chart that causes confusion.",
          "name": "Missing Values",
          "subcategories": [
           "data"
          ],
          "tag": "fault:data:missingvalues"
         },
         {
          "count": 2,
          "description": "Items appear more than once in the chart.",
          "name": "Redundant Values",
          "subcategories": [
           "data"
          ],
          "tag": "fault:data:redundant"
         },
         {
          "count": 21,
          "description": "Dubious data source.",
          "name": "Questionable Data",
          "subcategories": [
           "data"
          ],
          "tag": "fault:data:questionable"
         },
         {
          "count": 10,
          "description": "Not real data, but drawn like backed by data.",
          "name": "Hypothetical Data",
          "subcategories": [
           "data"
          ],
          "tag": "fault:data:hypothetical"
         },
         {
          "count": 17,
          "description": "Items are grouped arbitrarily.",
          "name": "Arbitrary Binning",
          "subcategories": [
           "derive"
          ],
          "tag": "fault:binning"
         },
         {
          "count": 22,
          "description": "Items are not sorted, or out of order.",
          "name": "Items Out of Order",
          "subcategories": [
           "derive"
          ],
          "tag": "fault:itemorder"
         },
         {
          "count": 40,
          "description": "Percentages do not add up to 100% in a whole-part relationship.",
          "name": "Percentage Not 100%",
          "subcategories": [
           "derive"
          ],
          "tag": "fault:percentage:sum"
         },
         {
          "count": 26,
          "description": "Improper use of statistics, e.g., a regression line with high error.",
          "name": "Faulty Regression",
          "subcategories": [
           "derive"
          ],
          "tag": "fault:faultystatistics"
         },
         {
          "count": 6,
          "description": "Plotting future data points derived from unreliable prediction.",
          "name": "Unreliable Forecasting",
          "subcategories": [
           "derive"
          ],
          "tag": "fault:data:prediction"
         },
         {
          "count": 1,
          "description": "Values are indexed or normalized by an unconventional method.",
          "name": "Base Line Alignment",
          "subcategories": [
           "derive"
          ],
          "tag": "fault:baselinealignment"
         },
         {
          "count": 11,
          "description": "Mismatch between colors and the objects that they represent, e.g., blue for apples.",
          "name": "Color Mismatch",
          "subcategories": [
           "design",
           "color"
          ],
          "tag": "fault:colorconvention"
         },
         {
          "count": 32,
          "description": "Ineffective color scheme, e.g., categorical colors for continuous variable.",
          "name": "Ineffective Color Scheme",
          "subcategories": [
           "design",
           "color"
          ],
          "tag": "fault:colorscale"
         },
         {
          "count": 21,
          "description": "Looks like a visualization, but not visualizing any data, also known as non-sequitur.",
          "name": "Disguised Visualization",
          "subcategories": [
           "design",
           "visual"
          ],
          "tag": "fault:nonsequitur"
         },
         {
          "count": 20,
          "description": "Description and visualization do not add up.",
          "name": "False Description",
          "subcategories": [
           "design",
           "text"
          ],
          "tag": "fault:description"
         },
         {
          "count": 5,
          "description": "Improper annotation or highlight.",
          "name": "Improper Annotation",
          "subcategories": [
           "design",
           "text"
          ],
          "tag": "fault:annotation"
         },
         {
          "count": 8,
          "description": "Lines or arrows are connecting unrelated dots.",
          "name": "Invalid Connection",
          "subcategories": [
           "design",
           "encoding"
          ],
          "tag": "fault:connection"
         },
         {
          "count": 5,
          "description": "Distort map projection to encode information",
          "name": "Distorted Map Projection",
          "subcategories": [
           "design",
           "encoding"
          ],
          "tag": "fault:mapprojection"
         },
         {
          "count": 12,
          "description": "Data is drawn to an unconventional scale.",
          "name": "Absurd Scale",
          "subcategories": [
           "design",
           "scale"
          ],
          "tag": "fault:scale"
         },
         {
          "count": 3,
          "description": "Incorrect use of log scale.",
          "name": "Incorrect Use of Log Scale",
          "subcategories": [
           "design",
           "scale"
          ],
          "tag": "fault:scale:log"
         },
         {
          "count": 19,
          "description": "Plotting more than one different scale on a single dimension, most often the y-axis.",
          "name": "Dual Axes",
          "subcategories": [
           "design",
           "axis"
          ],
          "tag": "fault:axis:double"
         },
         {
          "count": 63,
          "description": "Chart is understandable, but unintuitive, there are better alternatives.",
          "name": "Ineffective Encoding",
          "subcategories": [
           "design",
           "encoding"
          ],
          "tag": "fault:betteralternative"
         },
         {
          "count": 10,
          "description": "Poor positioning, alignment, or rotation of items.",
          "name": "Poor Positioning",
          "subcategories": [
           "design",
           "visual"
          ],
          "tag": "fault:position"
         },
         {
          "count": 12,
          "description": "Valid encoding choice but incorrectly drawn, e.g., a glitch.",
          "name": "Plotting Error",
          "subcategories": [
           "graph",
           "visual"
          ],
          "tag": "fault:encoding"
         },
         {
          "count": 36,
          "description": "Too many colors, mostly related to the scalability issues.",
          "name": "Too Many Colors",
          "subcategories": [
           "graph",
           "color"
          ],
          "tag": "fault:color:over12"
         },
         {
          "count": 160,
          "description": "The geometric shapes do not match the labelled values.",
          "name": "Misrepresentation",
          "subcategories": [
           "graph",
           "scale"
          ],
          "tag": "fault:scale:inconsistent"
         },
         {
          "count": 16,
          "description": "Different scales across related charts.",
          "name": "Inconsistent Scale Across",
          "subcategories": [
           "graph",
           "scale"
          ],
          "tag": "fault:scale:inconsistentacross"
         },
         {
          "count": 22,
          "description": "Missing label for item details.",
          "name": "Missing Item Labels",
          "subcategories": [
           "graph",
           "text"
          ],
          "tag": "fault:missinglabel"
         },
         {
          "count": 26,
          "description": "Items are labeled with incorrect description.",
          "name": "Incorrect Item Labels",
          "subcategories": [
           "graph",
           "text"
          ],
          "tag": "fault:wronglabel"
         },
         {
          "count": 40,
          "description": "Axis is missing for a coordinated chart.",
          "name": "Missing Axis",
          "subcategories": [
           "graph",
           "axis"
          ],
          "tag": "fault:axis:missing"
         },
         {
          "count": 36,
          "description": "Axis is not labeled with tick marks.",
          "name": "Missing Axis Labels",
          "subcategories": [
           "graph",
           "axis",
           "text"
          ],
          "tag": "fault:axis:label"
         },
         {
          "count": 31,
          "description": "Axis is incorrectly labeled.",
          "name": "Incorrect Axis Labels",
          "subcategories": [
           "graph",
           "axis",
           "text"
          ],
          "tag": "fault:axis:incorrectlabel"
         },
         {
          "count": 5,
          "description": "Intervals on an axis does not follow a scale.",
          "name": "Inconsistent Tick Interval",
          "subcategories": [
           "graph",
           "axis"
          ],
          "tag": "fault:inconsistentaxisinterval"
         },
         {
          "count": 17,
          "description": "Inconsistent time interval between data points.",
          "name": "Inconsistent Time Interval",
          "subcategories": [
           "graph",
           "axis"
          ],
          "tag": "fault:inconsistentinterval"
         },
         {
          "count": 34,
          "description": "Legend is needed but missing.",
          "name": "Missing Legend",
          "subcategories": [
           "graph",
           "scale"
          ],
          "tag": "fault:legend"
         },
         {
          "count": 18,
          "description": "Axis values are increasing in an unconventional direction.",
          "name": "Flipped Axis",
          "subcategories": [
           "graph",
           "axis"
          ],
          "tag": "fault:axis:flipped"
         },
         {
          "count": 63,
          "description": "Non-zero starting point on an axis that exaggerates or understates differences between items.",
          "name": "Truncated Axis",
          "subcategories": [
           "graph",
           "axis"
          ],
          "tag": "fault:axis:truncated"
         },
         {
          "count": 67,
          "description": "Categorical colors are undistinguishable with each other.",
          "name": "Undistinguishable Colors",
          "subcategories": [
           "visual",
           "color"
          ],
          "tag": "fault:colormess"
         },
         {
          "count": 14,
          "description": "Eye beats memory, comparing changes across animation frames is impossible.",
          "name": "Unjustified Animation",
          "subcategories": [
           "visual",
           "perception"
          ],
          "tag": "fault:animation"
         },
         {
          "count": 32,
          "description": "Lengend is not helpful in understanding the chart.",
          "name": "Confusing Legend",
          "subcategories": [
           "visual",
           "scale"
          ],
          "tag": "fault:legendconfuse"
         },
         {
          "count": 11,
          "description": "Labels are hard to understand or not understandable at all.",
          "name": "Confusing Label",
          "subcategories": [
           "visual",
           "text"
          ],
          "tag": "fault:labelconfuse"
         },
         {
          "count": 40,
          "description": "Overwhelmed by visual clutter.",
          "name": "Cluttering",
          "subcategories": [
           "visual"
          ],
          "tag": "fault:cluttering"
         },
         {
          "count": 14,
          "description": "Some items are not visible in the visualization because of blockage by another item.",
          "name": "Occlusion",
          "subcategories": [
           "visual"
          ],
          "tag": "fault:occulusion"
         },
         {
          "count": 13,
          "description": "Chart ornament that causes negative effect in understanding.",
          "name": "Chart Junk",
          "subcategories": [
           "visual"
          ],
          "tag": "fault:chartjunk"
         },
         {
          "count": 23,
          "description": "Text in the chart are illegible.",
          "name": "Illegible Text",
          "subcategories": [
           "visual",
           "text"
          ],
          "tag": "fault:legibility"
         },
         {
          "count": 14,
          "description": "Very disturbing while looking at it.",
          "name": "Visually Awful",
          "subcategories": [
           "visual"
          ],
          "tag": "fault:visuallyawful"
         },
         {
          "count": 6,
          "description": "Items with same or similar colors are not related.",
          "name": "False Color Correlation",
          "subcategories": [
           "perception",
           "color"
          ],
          "tag": "fault:colorcorrelation"
         },
         {
          "count": 63,
          "description": "Unjustified use of 3D, it distorts the perceived size of the items.",
          "name": "Unjustified 3D",
          "subcategories": [
           "perception",
           "visual"
          ],
          "tag": "fault:3d"
         },
         {
          "count": 24,
          "description": "Incorrect use of area encoding that exaggerates or understates differences between items.",
          "name": "Area Encoding",
          "subcategories": [
           "perception",
           "encoding"
          ],
          "tag": "fault:area"
         },
         {
          "count": 14,
          "description": "Pictogram is improperly scaled to reflect value differences.",
          "name": "Area Encoded Pictogram",
          "subcategories": [
           "perception",
           "encoding"
          ],
          "tag": "fault:picto:distortion"
         },
         {
          "count": 29,
          "description": "Cannot decode any data nor information.",
          "name": "Not Understandable",
          "subcategories": [
           "logical"
          ],
          "tag": "fault:cannotunderstand"
         },
         {
          "count": 11,
          "description": "Not whole-part relationship but draw as a chart for whole-part relationship like pie chart.",
          "name": "Faulty Whole Part",
          "subcategories": [
           "logical"
          ],
          "tag": "fault:percentage:wholepart"
         },
         {
          "count": 10,
          "description": "Conveying an illogical message.",
          "name": "Faulty Logic",
          "subcategories": [
           "logical"
          ],
          "tag": "fault:faultylogic"
         },
         {
          "count": 7,
          "description": "Need background information in order to understand the message.",
          "name": "Missing Context",
          "subcategories": [
           "logical"
          ],
          "tag": "fault:missingcontext"
         },
         {
          "count": 12,
          "description": "Comparison between items that are incomparable.",
          "name": "Invalid Comparison",
          "subcategories": [
           "logical"
          ],
          "tag": "fault:invalidcomparison"
         },
         {
          "count": 3,
          "description": "The observed pattern is nothing more than the pattern of population density.",
          "name": "Just a Population Map",
          "subcategories": [
           "logical"
          ],
          "tag": "fault:map:population"
         },
         {
          "count": 2,
          "description": "Suggesting causal relationships from correlations.",
          "name": "Spurious Correlation",
          "subcategories": [
           "logical"
          ],
          "tag": "fault:spuriousocorrelation"
         }
        ],
        "sorted": true,
        "subcategories": [
         {
          "category": "fault",
          "description": "Issues related to the axes of coordinated planes",
          "group": "grammar",
          "name": "Axis",
          "subcategory": "axis"
         },
         {
          "category": "fault",
          "description": "Issues related to legends and the use of scales",
          "group": "grammar",
          "name": "Legends and Scales",
          "subcategory": "scale"
         },
         {
          "category": "fault",
          "description": "Issues in the use of colors",
          "group": "grammar",
          "name": "Color",
          "subcategory": "color"
         },
         {
          "category": "fault",
          "description": "Issues related to titles, annotations and labels",
          "group": "grammar",
          "name": "Text",
          "subcategory": "text"
         },
         {
          "category": "fault",
          "description": "Issues related to visual encoding",
          "group": "grammar",
          "name": "Encoding",
          "subcategory": "encoding"
         },
         {
          "category": "fault",
          "description": "Issues related to the underlying data, its sources and completeness",
          "group": "pipeline",
          "name": "Data",
          "subcategory": "data"
         },
         {
          "category": "fault",
          "description": "Issues introduced when processing data or applying statistical transformations",
          "group": "pipeline",
          "name": "Data Transformation",
          "subcategory": "derive"
         },
         {
          "category": "fault",
          "description": "Issues in visual design choices",
          "group": "pipeline",
          "name": "Design Choices",
          "subcategory": "design"
         },
         {
          "category": "fault",
          "description": "Issues introduced in the graph drawing process, leads to missing graph elements or incomplete graph",
          "group": "pipeline",
          "name": "Graph Drawing",
          "subcategory": "graph"
         },
         {
          "category": "fault",
          "description": "Difficulties in reading",
          "group": "pipeline",
          "name": "Reading",
          "subcategory": "visual"
         },
         {
          "category": "fault",
          "description": "Issues related to the weaknesses in human perception",
          "group": "pipeline",
          "name": "Perception",
          "subcategory": "perception"
         },
         {
          "category": "fault",
          "description": "Visualizations that are trying to convey nonsense or illogical messages",
          "group": "pipeline",
          "name": "Message",
          "subcategory": "logical"
         }
        ]
       },
       {
        "category": "form",
        "group_subcat_threshold": 10,
        "name": "Chart Types",
        "options": [
         {
          "count": 249,
          "name": "Bar Chart",
          "subcategory": "bar",
          "tag": "form:barchart"
         },
         {
          "count": 30,
          "name": "Stacked Bar Chart",
          "subcategory": "bar",
          "tag": "form:stackedbarchart"
         },
         {
          "count": 3,
          "name": "Dot Plot",
          "subcategory": "bar",
          "tag": "form:dotplot"
         },
         {
          "count": 4,
          "name": "Histogram",
          "subcategory": "bar",
          "tag": "form:histogram"
         },
         {
          "count": 2,
          "name": "Barcode Chart",
          "subcategory": "bar",
          "tag": "form:barcodechart"
         },
         {
          "count": 4,
          "name": "Progress Bar",
          "subcategory": "bar",
          "tag": "form:progressbar"
         },
         {
          "count": 164,
          "name": "Line Chart",
          "subcategory": "line",
          "tag": "form:linechart"
         },
         {
          "count": 19,
          "name": "Node-Link Diagram",
          "subcategory": "line",
          "tag": "form:nodelink"
         },
         {
          "count": 5,
          "name": "Parallel Coordinates",
          "subcategory": "line",
          "tag": "form:parallelcoor"
         },
         {
          "count": 1,
          "name": "Radar Chart",
          "subcategory": "line",
          "tag": "form:radarchart"
         },
         {
          "count": 12,
          "name": "Sankey Diagram",
          "subcategory": "line",
          "tag": "form:sankeydiagram"
         },
         {
          "count": 4,
          "name": "Box Plot",
          "subcategory": "line",
          "tag": "form:boxplot"
         },
         {
          "count": 1,
          "name": "Violin Plot",
          "subcategory": "line",
          "tag": "form:violinplot"
         },
         {
          "count": 1,
          "name": "Time Line",
          "subcategory": "line",
          "tag": "form:timeline"
         },
         {
          "count": 10,
          "name": "Connected Scatter Plot",
          "subcategory": "dot",
          "tag": "form:connectedscatterplot"
         },
         {
          "count": 21,
          "name": "Scatter Plot",
          "subcategory": "dot",
          "tag": "form:scatterplot"
         },
         {
          "count": 2,
          "name": "Dumbbell Plot",
          "subcategory": "dot",
          "tag": "form:dumbbellplot"
         },
         {
          "count": 3,
          "name": "Polar Graph",
          "subcategory": "dot",
          "tag": "form:polargraph"
         },
         {
          "count": 10,
          "name": "Bubble Chart",
          "subcategory": "circle",
          "tag": "form:bubblechart"
         },
         {
          "count": 146,
          "name": "Pie Chart",
          "subcategory": "circle",
          "tag": "form:piechart"
         },
         {
          "count": 45,
          "name": "Donut Chart",
          "subcategory": "circle",
          "tag": "form:donutchart"
         },
         {
          "count": 3,
          "name": "Guage Chart",
          "subcategory": "circle",
          "tag": "form:guagechart"
         },
         {
          "count": 1,
          "name": "Sunbrust Diagram",
          "subcategory": "circle",
          "tag": "form:sunbrust"
         },
         {
          "count": 18,
          "name": "Venn Diagram",
          "subcategory": "circle",
          "tag": "form:venn"
         },
         {
          "count": 4,
          "name": "Nested Bubbles",
          "subcategory": "circle",
          "tag": "form:nestedbubble"
         },
         {
          "count": 6,
          "name": "Polar Area Chart",
          "subcategory": "circle",
          "tag": "form:polararea"
         },
         {
          "count": 1,
          "name": "Chord Diagram",
          "subcategory": "circle",
          "tag": "form:chord"
         },
         {
          "count": 27,
          "name": "Area Chart",
          "subcategory": "area",
          "tag": "form:areachart"
         },
         {
          "count": 12,
          "name": "Stacked Area Chart",
          "subcategory": "area",
          "tag": "form:stackedareachart"
         },
         {
          "count": 1,
          "name": "Stream Graph",
          "subcategory": "area",
          "tag": "form:streamgraph"
         },
         {
          "count": 4,
          "name": "Treemap",
          "subcategory": "area",
          "tag": "form:treemap"
         },
         {
          "count": 4,
          "name": "Voronoi Diagram",
          "subcategory": "area",
          "tag": "form:voronoi"
         },
         {
          "count": 7,
          "name": "Pyramid",
          "subcategory": "area",
          "tag": "form:pyramid"
         },
         {
          "count": 78,
          "name": "Choropleth",
          "subcategory": "map",
          "tag": "form:choropleth"
         },
         {
          "count": 2,
          "name": "Flow Map",
          "subcategory": "map",
          "tag": "form:flowmap"
         },
         {
          "count": 46,
          "name": "Map",
          "subcategory": "map",
          "tag": "form:map"
         },
         {
          "count": 37,
          "name": "Table",
          "subcategory": "table",
          "tag": "form:table"
         },
         {
          "count": 9,
          "name": "Heatmap",
          "subcategory": "table",
          "tag": "form:heatmap"
         },
         {
          "count": 6,
          "name": "Quadrant",
          "subcategory": "table",
          "tag": "form:quadrant"
         },
         {
          "count": 60,
          "name": "Pictogram",
          "subcategory": "icon",
          "tag": "form:pictogram"
         },
         {
          "count": 3,
          "name": "Chernoff Face",
          "subcategory": "icon",
          "tag": "form:chernoffface"
         },
         {
          "count": 38,
          "name": "Unclassified",
          "subcategory": "other",
          "tag": "form:unknown"
         }
        ],
        "subcategories": [
         {
          "category": "form",
          "name": "Bar",
          "subcategory": "bar"
         },
         {
          "category": "form",
          "name": "Line",
          "subcategory": "line"
         },
         {
          "category": "form",
          "name": "Dot",
          "subcategory": "dot"
         },
         {
          "category": "form",
          "name": "Circle",
          "subcategory": "circle"
         },
         {
          "category": "form",
          "name": "Area",
          "subcategory": "area"
         },
         {
          "category": "form",
          "name": "Map",
          "subcategory": "map"
         },
         {
          "category": "form",
          "name": "Table",
          "subcategory": "table"
         },
         {
          "category": "form",
          "name": "Icon",
          "subcategory": "icon"
         },
         {
          "category": "form",
          "name": "Other",
          "subcategory": "other"
         }
        ]
       },
       {
        "category": "data",
        "name": "Data Types",
        "options": [
         {
          "count": 630,
          "name": "Categorical",
          "subcategory": "attribute",
          "tag": "data:categorical"
         },
         {
          "count": 402,
          "name": "Quantitative",
          "subcategory": "attribute",
          "tag": "data:quantitative"
         },
         {
          "count": 42,
          "name": "Sequential",
          "subcategory": "attribute",
          "tag": "data:sequential"
         },
         {
          "count": 13,
          "name": "Diverging",
          "subcategory": "attribute",
          "tag": "data:diverging"
         },
         {
          "count": 34,
          "name": "Ordinal",
          "subcategory": "attribute",
          "tag": "data:ordinal"
         },
         {
          "count": 211,
          "name": "Time Series",
          "subcategory": "time",
          "tag": "data:timeseries"
         },
         {
          "count": 6,
          "name": "Cyclic",
          "subcategory": "time",
          "tag": "data:cyclic"
         },
         {
          "count": 116,
          "name": "Geospatial",
          "subcategory": "position",
          "tag": "data:geospatial"
         },
         {
          "count": 2,
          "name": "Flow",
          "subcategory": "position",
          "tag": "data:flow"
         },
         {
          "count": 4,
          "name": "Bitmap",
          "subcategory": "position",
          "tag": "data:bitmap"
         },
         {
          "count": 5,
          "name": "Positional",
          "subcategory": "position",
          "tag": "data:positional"
         },
         {
          "count": 22,
          "name": "Network",
          "subcategory": "relation",
          "tag": "data:network"
         },
         {
          "count": 4,
          "name": "Tree",
          "subcategory": "relation",
          "tag": "data:tree"
         },
         {
          "count": 18,
          "name": "Set",
          "subcategory": "relation",
          "tag": "data:set"
         },
         {
          "count": 11,
          "name": "Ranked",
          "subcategory": "derived",
          "tag": "data:ranking"
         },
         {
          "count": 28,
          "name": "Index Value",
          "subcategory": "derived",
          "tag": "data:indexvalue"
         },
         {
          "count": 4,
          "name": "Accumulated",
          "subcategory": "derived",
          "tag": "data:accumulated"
         },
         {
          "count": 355,
          "name": "Percentage",
          "subcategory": "derived",
          "tag": "data:percentage"
         },
         {
          "count": 5,
          "name": "Probability",
          "subcategory": "derived",
          "tag": "data:probability"
         },
         {
          "count": 4,
          "name": "Text",
          "subcategory": "other",
          "tag": "data:text"
         },
         {
          "count": 9,
          "name": "Multivariate",
          "subcategory": "other",
          "tag": "data:multivariate"
         }
        ],
        "subcategories": [
         {
          "category": "data",
          "description": "Basic attributes",
          "name": "Attribute",
          "subcategory": "attribute"
         },
         {
          "category": "data",
          "description": "Derived attributes",
          "name": "Derived",
          "subcategory": "derived"
         },
         {
          "category": "data",
          "description": "Time related data",
          "name": "Time",
          "subcategory": "time"
         },
         {
          "category": "data",
          "description": "Spatial meaning in x-, y-, or z-axes",
          "name": "Coordinated",
          "subcategory": "position"
         },
         {
          "category": "data",
          "description": "Items are inter-linked",
          "name": "Relational",
          "subcategory": "relation"
         },
         {
          "category": "data",
          "description": "Other uncategorized data types",
          "name": "Other",
          "subcategory": "other"
         }
        ]
       },
       {
        "category": "domain",
        "name": "Domains",
        "options": [
         {
          "count": 116,
          "name": "Politics",
          "tag": "domain:politics"
         },
         {
          "count": 86,
          "name": "Business",
          "tag": "domain:business"
         },
         {
          "count": 92,
          "name": "Entertainment",
          "tag": "domain:entertainment"
         },
         {
          "count": 25,
          "name": "Scientific",
          "tag": "domain:scientific"
         },
         {
          "count": 46,
          "name": "Sports",
          "tag": "domain:sports"
         },
         {
          "count": 128,
          "name": "Health",
          "tag": "domain:health"
         },
         {
          "count": 49,
          "name": "Education",
          "tag": "domain:education"
         },
         {
          "count": 32,
          "name": "Food",
          "tag": "domain:catering"
         },
         {
          "count": 67,
          "name": "Computer",
          "tag": "domain:computer"
         },
         {
          "count": 56,
          "name": "Environment",
          "tag": "domain:environment"
         },
         {
          "count": 78,
          "name": "International",
          "tag": "domain:international"
         },
         {
          "count": 154,
          "name": "Public",
          "tag": "domain:public"
         },
         {
          "count": 49,
          "name": "Personal",
          "tag": "domain:personal"
         },
         {
          "count": 34,
          "name": "Unknown",
          "tag": "domain:unknown"
         }
        ]
       },
       {
        "category": "media",
        "name": "Medium",
        "options": [
         {
          "count": 59,
          "name": "TV",
          "tag": "media:tv"
         },
         {
          "count": 15,
          "name": "News Article",
          "tag": "media:news"
         },
         {
          "count": 16,
          "name": "Ads",
          "tag": "media:ads"
         },
         {
          "count": 84,
          "name": "Printed",
          "tag": "media:printed"
         },
         {
          "count": 10,
          "name": "Handdrawn",
          "tag": "media:handdrawn"
         },
         {
          "count": 4,
          "name": "Inreallife",
          "tag": "media:inreallife"
         },
         {
          "count": 8,
          "name": "NSFW",
          "tag": "media:NSFW"
         },
         {
          "count": 23,
          "name": "Infographic",
          "tag": "media:infographic"
         },
         {
          "count": 15,
          "name": "Google Products",
          "tag": "media:google"
         }
        ]
       },
       {
        "category": "layout",
        "name": "Layouts",
        "options": [
         {
          "count": 13,
          "name": "Circular",
          "tag": "layout:circular"
         },
         {
          "count": 58,
          "name": "Juxtaposition",
          "tag": "layout:juxtaposition"
         },
         {
          "count": 8,
          "name": "Superimposed",
          "tag": "layout:overlay"
         },
         {
          "count": 14,
          "name": "Multiple-views",
          "tag": "layout:mixed"
         },
         {
          "count": 2,
          "name": "Periodictable",
          "tag": "layout:periodictable"
         },
         {
          "count": 4,
          "name": "Clock",
          "tag": "layout:clock"
         },
         {
          "count": 1,
          "name": "Calendar",
          "tag": "layout:calendar"
         }
        ]
       },
       {
        "category": "effect",
        "name": "Effects",
        "options": [
         {
          "count": 10,
          "name": "Reversed",
          "tag": "effect:reversed"
         },
         {
          "count": 427,
          "name": "Distorted",
          "tag": "effect:distorted"
         },
         {
          "count": 467,
          "name": "Confused",
          "tag": "effect:confuesed"
         },
         {
          "count": 18,
          "name": "Suggestive",
          "tag": "effect:suggestive"
         }
        ]
       },
       {
        "category": "flag",
        "name": "Flags",
        "options": [
         {
          "count": 59,
          "name": "Need Review",
          "tag": "flag:needreview"
         },
         {
          "count": 1,
          "name": "Duplicated",
          "tag": "flag:duplicated"
         },
         {
          "count": 13,
          "name": "Invalid",
          "tag": "flag:invalid"
         },
         {
          "count": 67,
          "name": "Not Bad",
          "tag": "flag:notbad"
         },
         {
          "count": 4,
          "name": "Starred",
          "tag": "flag:starred"
         },
         {
          "count": 14,
          "name": "Parody",
          "tag": "flag:parody"
         }
        ]
       }
      ],
      "text/plain": [
       "<IPython.core.display.JSON object>"
      ]
     },
     "execution_count": 24,
     "metadata": {
      "application/json": {
       "expanded": false,
       "root": "root"
      }
     },
     "output_type": "execute_result"
    }
   ],
   "source": [
    "JSON(labelOptions)"
   ]
  },
  {
   "cell_type": "code",
   "execution_count": 25,
   "metadata": {},
   "outputs": [],
   "source": [
    "labelTags = json.load(open('tmp/labelTags.json'))"
   ]
  },
  {
   "cell_type": "code",
   "execution_count": 26,
   "metadata": {},
   "outputs": [
    {
     "data": {
      "application/json": {
       "categories": [
        {
         "category": "fault",
         "grouped": true,
         "hierarchical": true,
         "name": "Issues",
         "sorted": true
        },
        {
         "category": "form",
         "group_subcat_threshold": 10,
         "name": "Chart Types"
        },
        {
         "category": "data",
         "name": "Data Types"
        },
        {
         "category": "domain",
         "name": "Domains"
        },
        {
         "category": "media",
         "name": "Medium"
        },
        {
         "category": "layout",
         "name": "Layouts"
        },
        {
         "category": "effect",
         "name": "Effects"
        },
        {
         "category": "flag",
         "name": "Flags"
        }
       ],
       "groups": [
        {
         "category": "fault",
         "description": "Issues grouped by different components of a graph",
         "group": "grammar",
         "name": "Grammar of Graphics"
        },
        {
         "category": "fault",
         "description": "Issues grouped by different stages of visual analytics",
         "group": "pipeline",
         "name": "Visual Analytics Pipeline"
        }
       ],
       "subcategories": [
        {
         "category": "fault",
         "description": "Issues related to the axes of coordinated planes",
         "group": "grammar",
         "name": "Axis",
         "subcategory": "axis"
        },
        {
         "category": "fault",
         "description": "Issues related to legends and the use of scales",
         "group": "grammar",
         "name": "Legends and Scales",
         "subcategory": "scale"
        },
        {
         "category": "fault",
         "description": "Issues in the use of colors",
         "group": "grammar",
         "name": "Color",
         "subcategory": "color"
        },
        {
         "category": "fault",
         "description": "Issues related to titles, annotations and labels",
         "group": "grammar",
         "name": "Text",
         "subcategory": "text"
        },
        {
         "category": "fault",
         "description": "Issues related to visual encoding",
         "group": "grammar",
         "name": "Encoding",
         "subcategory": "encoding"
        },
        {
         "category": "fault",
         "description": "Issues related to the underlying data, its sources and completeness",
         "group": "pipeline",
         "name": "Data",
         "subcategory": "data"
        },
        {
         "category": "fault",
         "description": "Issues introduced when processing data or applying statistical transformations",
         "group": "pipeline",
         "name": "Data Transformation",
         "subcategory": "derive"
        },
        {
         "category": "fault",
         "description": "Issues in visual design choices",
         "group": "pipeline",
         "name": "Design Choices",
         "subcategory": "design"
        },
        {
         "category": "fault",
         "description": "Issues introduced in the graph drawing process, leads to missing graph elements or incomplete graph",
         "group": "pipeline",
         "name": "Graph Drawing",
         "subcategory": "graph"
        },
        {
         "category": "fault",
         "description": "Difficulties in reading",
         "group": "pipeline",
         "name": "Reading",
         "subcategory": "visual"
        },
        {
         "category": "fault",
         "description": "Issues related to the weaknesses in human perception",
         "group": "pipeline",
         "name": "Perception",
         "subcategory": "perception"
        },
        {
         "category": "fault",
         "description": "Visualizations that are trying to convey nonsense or illogical messages",
         "group": "pipeline",
         "name": "Message",
         "subcategory": "logical"
        },
        {
         "category": "form",
         "name": "Bar",
         "subcategory": "bar"
        },
        {
         "category": "form",
         "name": "Line",
         "subcategory": "line"
        },
        {
         "category": "form",
         "name": "Dot",
         "subcategory": "dot"
        },
        {
         "category": "form",
         "name": "Circle",
         "subcategory": "circle"
        },
        {
         "category": "form",
         "name": "Area",
         "subcategory": "area"
        },
        {
         "category": "form",
         "name": "Map",
         "subcategory": "map"
        },
        {
         "category": "form",
         "name": "Table",
         "subcategory": "table"
        },
        {
         "category": "form",
         "name": "Icon",
         "subcategory": "icon"
        },
        {
         "category": "form",
         "name": "Other",
         "subcategory": "other"
        },
        {
         "category": "data",
         "description": "Basic attributes",
         "name": "Attribute",
         "subcategory": "attribute"
        },
        {
         "category": "data",
         "description": "Derived attributes",
         "name": "Derived",
         "subcategory": "derived"
        },
        {
         "category": "data",
         "description": "Time related data",
         "name": "Time",
         "subcategory": "time"
        },
        {
         "category": "data",
         "description": "Spatial meaning in x-, y-, or z-axes",
         "name": "Coordinated",
         "subcategory": "position"
        },
        {
         "category": "data",
         "description": "Items are inter-linked",
         "name": "Relational",
         "subcategory": "relation"
        },
        {
         "category": "data",
         "description": "Other uncategorized data types",
         "name": "Other",
         "subcategory": "other"
        }
       ],
       "tags": [
        {
         "category": "fault",
         "count": 8,
         "description": "Cherry-picking the scope of data, e.g., picking an arbitrary starting point of the time axis.",
         "name": "Selective Data",
         "subcategories": [
          "data"
         ],
         "tag": "fault:data:selective"
        },
        {
         "category": "fault",
         "count": 8,
         "description": "Null values in the chart that causes confusion.",
         "name": "Missing Values",
         "subcategories": [
          "data"
         ],
         "tag": "fault:data:missingvalues"
        },
        {
         "category": "fault",
         "count": 2,
         "description": "Items appear more than once in the chart.",
         "name": "Redundant Values",
         "subcategories": [
          "data"
         ],
         "tag": "fault:data:redundant"
        },
        {
         "category": "fault",
         "count": 21,
         "description": "Dubious data source.",
         "name": "Questionable Data",
         "subcategories": [
          "data"
         ],
         "tag": "fault:data:questionable"
        },
        {
         "category": "fault",
         "count": 10,
         "description": "Not real data, but drawn like backed by data.",
         "name": "Hypothetical Data",
         "subcategories": [
          "data"
         ],
         "tag": "fault:data:hypothetical"
        },
        {
         "category": "fault",
         "count": 17,
         "description": "Items are grouped arbitrarily.",
         "name": "Arbitrary Binning",
         "subcategories": [
          "derive"
         ],
         "tag": "fault:binning"
        },
        {
         "category": "fault",
         "count": 22,
         "description": "Items are not sorted, or out of order.",
         "name": "Items Out of Order",
         "subcategories": [
          "derive"
         ],
         "tag": "fault:itemorder"
        },
        {
         "category": "fault",
         "count": 40,
         "description": "Percentages do not add up to 100% in a whole-part relationship.",
         "name": "Percentage Not 100%",
         "subcategories": [
          "derive"
         ],
         "tag": "fault:percentage:sum"
        },
        {
         "category": "fault",
         "count": 26,
         "description": "Improper use of statistics, e.g., a regression line with high error.",
         "name": "Faulty Regression",
         "subcategories": [
          "derive"
         ],
         "tag": "fault:faultystatistics"
        },
        {
         "category": "fault",
         "count": 6,
         "description": "Plotting future data points derived from unreliable prediction.",
         "name": "Unreliable Forecasting",
         "subcategories": [
          "derive"
         ],
         "tag": "fault:data:prediction"
        },
        {
         "category": "fault",
         "count": 1,
         "description": "Values are indexed or normalized by an unconventional method.",
         "name": "Base Line Alignment",
         "subcategories": [
          "derive"
         ],
         "tag": "fault:baselinealignment"
        },
        {
         "category": "fault",
         "count": 11,
         "description": "Mismatch between colors and the objects that they represent, e.g., blue for apples.",
         "name": "Color Mismatch",
         "subcategories": [
          "design",
          "color"
         ],
         "tag": "fault:colorconvention"
        },
        {
         "category": "fault",
         "count": 32,
         "description": "Ineffective color scheme, e.g., categorical colors for continuous variable.",
         "name": "Ineffective Color Scheme",
         "subcategories": [
          "design",
          "color"
         ],
         "tag": "fault:colorscale"
        },
        {
         "category": "fault",
         "count": 21,
         "description": "Looks like a visualization, but not visualizing any data, also known as non-sequitur.",
         "name": "Disguised Visualization",
         "subcategories": [
          "design",
          "visual"
         ],
         "tag": "fault:nonsequitur"
        },
        {
         "category": "fault",
         "count": 20,
         "description": "Description and visualization do not add up.",
         "name": "False Description",
         "subcategories": [
          "design",
          "text"
         ],
         "tag": "fault:description"
        },
        {
         "category": "fault",
         "count": 5,
         "description": "Improper annotation or highlight.",
         "name": "Improper Annotation",
         "subcategories": [
          "design",
          "text"
         ],
         "tag": "fault:annotation"
        },
        {
         "category": "fault",
         "count": 8,
         "description": "Lines or arrows are connecting unrelated dots.",
         "name": "Invalid Connection",
         "subcategories": [
          "design",
          "encoding"
         ],
         "tag": "fault:connection"
        },
        {
         "category": "fault",
         "count": 5,
         "description": "Distort map projection to encode information",
         "name": "Distorted Map Projection",
         "subcategories": [
          "design",
          "encoding"
         ],
         "tag": "fault:mapprojection"
        },
        {
         "category": "fault",
         "count": 12,
         "description": "Data is drawn to an unconventional scale.",
         "name": "Absurd Scale",
         "subcategories": [
          "design",
          "scale"
         ],
         "tag": "fault:scale"
        },
        {
         "category": "fault",
         "count": 3,
         "description": "Incorrect use of log scale.",
         "name": "Incorrect Use of Log Scale",
         "subcategories": [
          "design",
          "scale"
         ],
         "tag": "fault:scale:log"
        },
        {
         "category": "fault",
         "count": 19,
         "description": "Plotting more than one different scale on a single dimension, most often the y-axis.",
         "name": "Dual Axes",
         "subcategories": [
          "design",
          "axis"
         ],
         "tag": "fault:axis:double"
        },
        {
         "category": "fault",
         "count": 63,
         "description": "Chart is understandable, but unintuitive, there are better alternatives.",
         "name": "Ineffective Encoding",
         "subcategories": [
          "design",
          "encoding"
         ],
         "tag": "fault:betteralternative"
        },
        {
         "category": "fault",
         "count": 10,
         "description": "Poor positioning, alignment, or rotation of items.",
         "name": "Poor Positioning",
         "subcategories": [
          "design",
          "visual"
         ],
         "tag": "fault:position"
        },
        {
         "category": "fault",
         "count": 12,
         "description": "Valid encoding choice but incorrectly drawn, e.g., a glitch.",
         "name": "Plotting Error",
         "subcategories": [
          "graph",
          "visual"
         ],
         "tag": "fault:encoding"
        },
        {
         "category": "fault",
         "count": 36,
         "description": "Too many colors, mostly related to the scalability issues.",
         "name": "Too Many Colors",
         "subcategories": [
          "graph",
          "color"
         ],
         "tag": "fault:color:over12"
        },
        {
         "category": "fault",
         "count": 160,
         "description": "The geometric shapes do not match the labelled values.",
         "name": "Misrepresentation",
         "subcategories": [
          "graph",
          "scale"
         ],
         "tag": "fault:scale:inconsistent"
        },
        {
         "category": "fault",
         "count": 16,
         "description": "Different scales across related charts.",
         "name": "Inconsistent Scale Across",
         "subcategories": [
          "graph",
          "scale"
         ],
         "tag": "fault:scale:inconsistentacross"
        },
        {
         "category": "fault",
         "count": 22,
         "description": "Missing label for item details.",
         "name": "Missing Item Labels",
         "subcategories": [
          "graph",
          "text"
         ],
         "tag": "fault:missinglabel"
        },
        {
         "category": "fault",
         "count": 26,
         "description": "Items are labeled with incorrect description.",
         "name": "Incorrect Item Labels",
         "subcategories": [
          "graph",
          "text"
         ],
         "tag": "fault:wronglabel"
        },
        {
         "category": "fault",
         "count": 40,
         "description": "Axis is missing for a coordinated chart.",
         "name": "Missing Axis",
         "subcategories": [
          "graph",
          "axis"
         ],
         "tag": "fault:axis:missing"
        },
        {
         "category": "fault",
         "count": 36,
         "description": "Axis is not labeled with tick marks.",
         "name": "Missing Axis Labels",
         "subcategories": [
          "graph",
          "axis",
          "text"
         ],
         "tag": "fault:axis:label"
        },
        {
         "category": "fault",
         "count": 31,
         "description": "Axis is incorrectly labeled.",
         "name": "Incorrect Axis Labels",
         "subcategories": [
          "graph",
          "axis",
          "text"
         ],
         "tag": "fault:axis:incorrectlabel"
        },
        {
         "category": "fault",
         "count": 5,
         "description": "Intervals on an axis does not follow a scale.",
         "name": "Inconsistent Tick Interval",
         "subcategories": [
          "graph",
          "axis"
         ],
         "tag": "fault:inconsistentaxisinterval"
        },
        {
         "category": "fault",
         "count": 17,
         "description": "Inconsistent time interval between data points.",
         "name": "Inconsistent Time Interval",
         "subcategories": [
          "graph",
          "axis"
         ],
         "tag": "fault:inconsistentinterval"
        },
        {
         "category": "fault",
         "count": 34,
         "description": "Legend is needed but missing.",
         "name": "Missing Legend",
         "subcategories": [
          "graph",
          "scale"
         ],
         "tag": "fault:legend"
        },
        {
         "category": "fault",
         "count": 18,
         "description": "Axis values are increasing in an unconventional direction.",
         "name": "Flipped Axis",
         "subcategories": [
          "graph",
          "axis"
         ],
         "tag": "fault:axis:flipped"
        },
        {
         "category": "fault",
         "count": 63,
         "description": "Non-zero starting point on an axis that exaggerates or understates differences between items.",
         "name": "Truncated Axis",
         "subcategories": [
          "graph",
          "axis"
         ],
         "tag": "fault:axis:truncated"
        },
        {
         "category": "fault",
         "count": 67,
         "description": "Categorical colors are undistinguishable with each other.",
         "name": "Undistinguishable Colors",
         "subcategories": [
          "visual",
          "color"
         ],
         "tag": "fault:colormess"
        },
        {
         "category": "fault",
         "count": 14,
         "description": "Eye beats memory, comparing changes across animation frames is impossible.",
         "name": "Unjustified Animation",
         "subcategories": [
          "visual",
          "perception"
         ],
         "tag": "fault:animation"
        },
        {
         "category": "fault",
         "count": 32,
         "description": "Lengend is not helpful in understanding the chart.",
         "name": "Confusing Legend",
         "subcategories": [
          "visual",
          "scale"
         ],
         "tag": "fault:legendconfuse"
        },
        {
         "category": "fault",
         "count": 11,
         "description": "Labels are hard to understand or not understandable at all.",
         "name": "Confusing Label",
         "subcategories": [
          "visual",
          "text"
         ],
         "tag": "fault:labelconfuse"
        },
        {
         "category": "fault",
         "count": 40,
         "description": "Overwhelmed by visual clutter.",
         "name": "Cluttering",
         "subcategories": [
          "visual"
         ],
         "tag": "fault:cluttering"
        },
        {
         "category": "fault",
         "count": 14,
         "description": "Some items are not visible in the visualization because of blockage by another item.",
         "name": "Occlusion",
         "subcategories": [
          "visual"
         ],
         "tag": "fault:occulusion"
        },
        {
         "category": "fault",
         "count": 13,
         "description": "Chart ornament that causes negative effect in understanding.",
         "name": "Chart Junk",
         "subcategories": [
          "visual"
         ],
         "tag": "fault:chartjunk"
        },
        {
         "category": "fault",
         "count": 23,
         "description": "Text in the chart are illegible.",
         "name": "Illegible Text",
         "subcategories": [
          "visual",
          "text"
         ],
         "tag": "fault:legibility"
        },
        {
         "category": "fault",
         "count": 14,
         "description": "Very disturbing while looking at it.",
         "name": "Visually Awful",
         "subcategories": [
          "visual"
         ],
         "tag": "fault:visuallyawful"
        },
        {
         "category": "fault",
         "count": 6,
         "description": "Items with same or similar colors are not related.",
         "name": "False Color Correlation",
         "subcategories": [
          "perception",
          "color"
         ],
         "tag": "fault:colorcorrelation"
        },
        {
         "category": "fault",
         "count": 63,
         "description": "Unjustified use of 3D, it distorts the perceived size of the items.",
         "name": "Unjustified 3D",
         "subcategories": [
          "perception",
          "visual"
         ],
         "tag": "fault:3d"
        },
        {
         "category": "fault",
         "count": 24,
         "description": "Incorrect use of area encoding that exaggerates or understates differences between items.",
         "name": "Area Encoding",
         "subcategories": [
          "perception",
          "encoding"
         ],
         "tag": "fault:area"
        },
        {
         "category": "fault",
         "count": 14,
         "description": "Pictogram is improperly scaled to reflect value differences.",
         "name": "Area Encoded Pictogram",
         "subcategories": [
          "perception",
          "encoding"
         ],
         "tag": "fault:picto:distortion"
        },
        {
         "category": "fault",
         "count": 29,
         "description": "Cannot decode any data nor information.",
         "name": "Not Understandable",
         "subcategories": [
          "logical"
         ],
         "tag": "fault:cannotunderstand"
        },
        {
         "category": "fault",
         "count": 11,
         "description": "Not whole-part relationship but draw as a chart for whole-part relationship like pie chart.",
         "name": "Faulty Whole Part",
         "subcategories": [
          "logical"
         ],
         "tag": "fault:percentage:wholepart"
        },
        {
         "category": "fault",
         "count": 10,
         "description": "Conveying an illogical message.",
         "name": "Faulty Logic",
         "subcategories": [
          "logical"
         ],
         "tag": "fault:faultylogic"
        },
        {
         "category": "fault",
         "count": 7,
         "description": "Need background information in order to understand the message.",
         "name": "Missing Context",
         "subcategories": [
          "logical"
         ],
         "tag": "fault:missingcontext"
        },
        {
         "category": "fault",
         "count": 12,
         "description": "Comparison between items that are incomparable.",
         "name": "Invalid Comparison",
         "subcategories": [
          "logical"
         ],
         "tag": "fault:invalidcomparison"
        },
        {
         "category": "fault",
         "count": 3,
         "description": "The observed pattern is nothing more than the pattern of population density.",
         "name": "Just a Population Map",
         "subcategories": [
          "logical"
         ],
         "tag": "fault:map:population"
        },
        {
         "category": "fault",
         "count": 2,
         "description": "Suggesting causal relationships from correlations.",
         "name": "Spurious Correlation",
         "subcategories": [
          "logical"
         ],
         "tag": "fault:spuriousocorrelation"
        },
        {
         "category": "form",
         "count": 249,
         "name": "Bar Chart",
         "subcategory": "bar",
         "tag": "form:barchart"
        },
        {
         "category": "form",
         "count": 30,
         "name": "Stacked Bar Chart",
         "subcategory": "bar",
         "tag": "form:stackedbarchart"
        },
        {
         "category": "form",
         "count": 3,
         "name": "Dot Plot",
         "subcategory": "bar",
         "tag": "form:dotplot"
        },
        {
         "category": "form",
         "count": 4,
         "name": "Histogram",
         "subcategory": "bar",
         "tag": "form:histogram"
        },
        {
         "category": "form",
         "count": 2,
         "name": "Barcode Chart",
         "subcategory": "bar",
         "tag": "form:barcodechart"
        },
        {
         "category": "form",
         "count": 4,
         "name": "Progress Bar",
         "subcategory": "bar",
         "tag": "form:progressbar"
        },
        {
         "category": "form",
         "count": 164,
         "name": "Line Chart",
         "subcategory": "line",
         "tag": "form:linechart"
        },
        {
         "category": "form",
         "count": 19,
         "name": "Node-Link Diagram",
         "subcategory": "line",
         "tag": "form:nodelink"
        },
        {
         "category": "form",
         "count": 5,
         "name": "Parallel Coordinates",
         "subcategory": "line",
         "tag": "form:parallelcoor"
        },
        {
         "category": "form",
         "count": 1,
         "name": "Radar Chart",
         "subcategory": "line",
         "tag": "form:radarchart"
        },
        {
         "category": "form",
         "count": 12,
         "name": "Sankey Diagram",
         "subcategory": "line",
         "tag": "form:sankeydiagram"
        },
        {
         "category": "form",
         "count": 4,
         "name": "Box Plot",
         "subcategory": "line",
         "tag": "form:boxplot"
        },
        {
         "category": "form",
         "count": 1,
         "name": "Violin Plot",
         "subcategory": "line",
         "tag": "form:violinplot"
        },
        {
         "category": "form",
         "count": 1,
         "name": "Time Line",
         "subcategory": "line",
         "tag": "form:timeline"
        },
        {
         "category": "form",
         "count": 10,
         "name": "Connected Scatter Plot",
         "subcategory": "dot",
         "tag": "form:connectedscatterplot"
        },
        {
         "category": "form",
         "count": 21,
         "name": "Scatter Plot",
         "subcategory": "dot",
         "tag": "form:scatterplot"
        },
        {
         "category": "form",
         "count": 2,
         "name": "Dumbbell Plot",
         "subcategory": "dot",
         "tag": "form:dumbbellplot"
        },
        {
         "category": "form",
         "count": 3,
         "name": "Polar Graph",
         "subcategory": "dot",
         "tag": "form:polargraph"
        },
        {
         "category": "form",
         "count": 10,
         "name": "Bubble Chart",
         "subcategory": "circle",
         "tag": "form:bubblechart"
        },
        {
         "category": "form",
         "count": 146,
         "name": "Pie Chart",
         "subcategory": "circle",
         "tag": "form:piechart"
        },
        {
         "category": "form",
         "count": 45,
         "name": "Donut Chart",
         "subcategory": "circle",
         "tag": "form:donutchart"
        },
        {
         "category": "form",
         "count": 3,
         "name": "Guage Chart",
         "subcategory": "circle",
         "tag": "form:guagechart"
        },
        {
         "category": "form",
         "count": 1,
         "name": "Sunbrust Diagram",
         "subcategory": "circle",
         "tag": "form:sunbrust"
        },
        {
         "category": "form",
         "count": 18,
         "name": "Venn Diagram",
         "subcategory": "circle",
         "tag": "form:venn"
        },
        {
         "category": "form",
         "count": 4,
         "name": "Nested Bubbles",
         "subcategory": "circle",
         "tag": "form:nestedbubble"
        },
        {
         "category": "form",
         "count": 6,
         "name": "Polar Area Chart",
         "subcategory": "circle",
         "tag": "form:polararea"
        },
        {
         "category": "form",
         "count": 1,
         "name": "Chord Diagram",
         "subcategory": "circle",
         "tag": "form:chord"
        },
        {
         "category": "form",
         "count": 27,
         "name": "Area Chart",
         "subcategory": "area",
         "tag": "form:areachart"
        },
        {
         "category": "form",
         "count": 12,
         "name": "Stacked Area Chart",
         "subcategory": "area",
         "tag": "form:stackedareachart"
        },
        {
         "category": "form",
         "count": 1,
         "name": "Stream Graph",
         "subcategory": "area",
         "tag": "form:streamgraph"
        },
        {
         "category": "form",
         "count": 4,
         "name": "Treemap",
         "subcategory": "area",
         "tag": "form:treemap"
        },
        {
         "category": "form",
         "count": 4,
         "name": "Voronoi Diagram",
         "subcategory": "area",
         "tag": "form:voronoi"
        },
        {
         "category": "form",
         "count": 7,
         "name": "Pyramid",
         "subcategory": "area",
         "tag": "form:pyramid"
        },
        {
         "category": "form",
         "count": 78,
         "name": "Choropleth",
         "subcategory": "map",
         "tag": "form:choropleth"
        },
        {
         "category": "form",
         "count": 2,
         "name": "Flow Map",
         "subcategory": "map",
         "tag": "form:flowmap"
        },
        {
         "category": "form",
         "count": 46,
         "name": "Map",
         "subcategory": "map",
         "tag": "form:map"
        },
        {
         "category": "form",
         "count": 37,
         "name": "Table",
         "subcategory": "table",
         "tag": "form:table"
        },
        {
         "category": "form",
         "count": 9,
         "name": "Heatmap",
         "subcategory": "table",
         "tag": "form:heatmap"
        },
        {
         "category": "form",
         "count": 6,
         "name": "Quadrant",
         "subcategory": "table",
         "tag": "form:quadrant"
        },
        {
         "category": "form",
         "count": 60,
         "name": "Pictogram",
         "subcategory": "icon",
         "tag": "form:pictogram"
        },
        {
         "category": "form",
         "count": 3,
         "name": "Chernoff Face",
         "subcategory": "icon",
         "tag": "form:chernoffface"
        },
        {
         "category": "form",
         "count": 38,
         "name": "Unclassified",
         "subcategory": "other",
         "tag": "form:unknown"
        },
        {
         "category": "data",
         "count": 630,
         "name": "Categorical",
         "subcategory": "attribute",
         "tag": "data:categorical"
        },
        {
         "category": "data",
         "count": 402,
         "name": "Quantitative",
         "subcategory": "attribute",
         "tag": "data:quantitative"
        },
        {
         "category": "data",
         "count": 42,
         "name": "Sequential",
         "subcategory": "attribute",
         "tag": "data:sequential"
        },
        {
         "category": "data",
         "count": 13,
         "name": "Diverging",
         "subcategory": "attribute",
         "tag": "data:diverging"
        },
        {
         "category": "data",
         "count": 34,
         "name": "Ordinal",
         "subcategory": "attribute",
         "tag": "data:ordinal"
        },
        {
         "category": "data",
         "count": 211,
         "name": "Time Series",
         "subcategory": "time",
         "tag": "data:timeseries"
        },
        {
         "category": "data",
         "count": 6,
         "name": "Cyclic",
         "subcategory": "time",
         "tag": "data:cyclic"
        },
        {
         "category": "data",
         "count": 116,
         "name": "Geospatial",
         "subcategory": "position",
         "tag": "data:geospatial"
        },
        {
         "category": "data",
         "count": 2,
         "name": "Flow",
         "subcategory": "position",
         "tag": "data:flow"
        },
        {
         "category": "data",
         "count": 4,
         "name": "Bitmap",
         "subcategory": "position",
         "tag": "data:bitmap"
        },
        {
         "category": "data",
         "count": 5,
         "name": "Positional",
         "subcategory": "position",
         "tag": "data:positional"
        },
        {
         "category": "data",
         "count": 22,
         "name": "Network",
         "subcategory": "relation",
         "tag": "data:network"
        },
        {
         "category": "data",
         "count": 4,
         "name": "Tree",
         "subcategory": "relation",
         "tag": "data:tree"
        },
        {
         "category": "data",
         "count": 18,
         "name": "Set",
         "subcategory": "relation",
         "tag": "data:set"
        },
        {
         "category": "data",
         "count": 11,
         "name": "Ranked",
         "subcategory": "derived",
         "tag": "data:ranking"
        },
        {
         "category": "data",
         "count": 28,
         "name": "Index Value",
         "subcategory": "derived",
         "tag": "data:indexvalue"
        },
        {
         "category": "data",
         "count": 4,
         "name": "Accumulated",
         "subcategory": "derived",
         "tag": "data:accumulated"
        },
        {
         "category": "data",
         "count": 355,
         "name": "Percentage",
         "subcategory": "derived",
         "tag": "data:percentage"
        },
        {
         "category": "data",
         "count": 5,
         "name": "Probability",
         "subcategory": "derived",
         "tag": "data:probability"
        },
        {
         "category": "data",
         "count": 4,
         "name": "Text",
         "subcategory": "other",
         "tag": "data:text"
        },
        {
         "category": "data",
         "count": 9,
         "name": "Multivariate",
         "subcategory": "other",
         "tag": "data:multivariate"
        },
        {
         "category": "domain",
         "count": 116,
         "name": "Politics",
         "tag": "domain:politics"
        },
        {
         "category": "domain",
         "count": 86,
         "name": "Business",
         "tag": "domain:business"
        },
        {
         "category": "domain",
         "count": 92,
         "name": "Entertainment",
         "tag": "domain:entertainment"
        },
        {
         "category": "domain",
         "count": 25,
         "name": "Scientific",
         "tag": "domain:scientific"
        },
        {
         "category": "domain",
         "count": 46,
         "name": "Sports",
         "tag": "domain:sports"
        },
        {
         "category": "domain",
         "count": 128,
         "name": "Health",
         "tag": "domain:health"
        },
        {
         "category": "domain",
         "count": 49,
         "name": "Education",
         "tag": "domain:education"
        },
        {
         "category": "domain",
         "count": 32,
         "name": "Food",
         "tag": "domain:catering"
        },
        {
         "category": "domain",
         "count": 67,
         "name": "Computer",
         "tag": "domain:computer"
        },
        {
         "category": "domain",
         "count": 56,
         "name": "Environment",
         "tag": "domain:environment"
        },
        {
         "category": "domain",
         "count": 78,
         "name": "International",
         "tag": "domain:international"
        },
        {
         "category": "domain",
         "count": 154,
         "name": "Public",
         "tag": "domain:public"
        },
        {
         "category": "domain",
         "count": 49,
         "name": "Personal",
         "tag": "domain:personal"
        },
        {
         "category": "domain",
         "count": 34,
         "name": "Unknown",
         "tag": "domain:unknown"
        },
        {
         "category": "media",
         "count": 59,
         "name": "TV",
         "tag": "media:tv"
        },
        {
         "category": "media",
         "count": 15,
         "name": "News Article",
         "tag": "media:news"
        },
        {
         "category": "media",
         "count": 16,
         "name": "Ads",
         "tag": "media:ads"
        },
        {
         "category": "media",
         "count": 84,
         "name": "Printed",
         "tag": "media:printed"
        },
        {
         "category": "media",
         "count": 10,
         "name": "Handdrawn",
         "tag": "media:handdrawn"
        },
        {
         "category": "media",
         "count": 4,
         "name": "Inreallife",
         "tag": "media:inreallife"
        },
        {
         "category": "media",
         "count": 8,
         "name": "NSFW",
         "tag": "media:NSFW"
        },
        {
         "category": "media",
         "count": 23,
         "name": "Infographic",
         "tag": "media:infographic"
        },
        {
         "category": "media",
         "count": 15,
         "name": "Google Products",
         "tag": "media:google"
        },
        {
         "category": "layout",
         "count": 13,
         "name": "Circular",
         "tag": "layout:circular"
        },
        {
         "category": "layout",
         "count": 58,
         "name": "Juxtaposition",
         "tag": "layout:juxtaposition"
        },
        {
         "category": "layout",
         "count": 8,
         "name": "Superimposed",
         "tag": "layout:overlay"
        },
        {
         "category": "layout",
         "count": 14,
         "name": "Multiple-views",
         "tag": "layout:mixed"
        },
        {
         "category": "layout",
         "count": 2,
         "name": "Periodictable",
         "tag": "layout:periodictable"
        },
        {
         "category": "layout",
         "count": 4,
         "name": "Clock",
         "tag": "layout:clock"
        },
        {
         "category": "layout",
         "count": 1,
         "name": "Calendar",
         "tag": "layout:calendar"
        },
        {
         "category": "effect",
         "count": 10,
         "name": "Reversed",
         "tag": "effect:reversed"
        },
        {
         "category": "effect",
         "count": 427,
         "name": "Distorted",
         "tag": "effect:distorted"
        },
        {
         "category": "effect",
         "count": 467,
         "name": "Confused",
         "tag": "effect:confuesed"
        },
        {
         "category": "effect",
         "count": 18,
         "name": "Suggestive",
         "tag": "effect:suggestive"
        },
        {
         "category": "flag",
         "count": 59,
         "name": "Need Review",
         "tag": "flag:needreview"
        },
        {
         "category": "flag",
         "count": 1,
         "name": "Duplicated",
         "tag": "flag:duplicated"
        },
        {
         "category": "flag",
         "count": 13,
         "name": "Invalid",
         "tag": "flag:invalid"
        },
        {
         "category": "flag",
         "count": 67,
         "name": "Not Bad",
         "tag": "flag:notbad"
        },
        {
         "category": "flag",
         "count": 4,
         "name": "Starred",
         "tag": "flag:starred"
        },
        {
         "category": "flag",
         "count": 14,
         "name": "Parody",
         "tag": "flag:parody"
        }
       ]
      },
      "text/plain": [
       "<IPython.core.display.JSON object>"
      ]
     },
     "execution_count": 26,
     "metadata": {
      "application/json": {
       "expanded": false,
       "root": "root"
      }
     },
     "output_type": "execute_result"
    }
   ],
   "source": [
    "JSON(labelTags)"
   ]
  },
  {
   "cell_type": "code",
   "execution_count": 27,
   "metadata": {},
   "outputs": [],
   "source": [
    "# dump all tags but flag\n",
    "json.dump(labelOptions[:-1], open(imagelist_dir/f\"labelOptions.json\", 'w'), separators=(',', ':'))"
   ]
  },
  {
   "cell_type": "code",
   "execution_count": 28,
   "metadata": {},
   "outputs": [],
   "source": [
    "# dump all tags but flag\n",
    "labelTags['categories'] = labelTags['categories'][:-1]\n",
    "labelTags['tags'] = [t for t in labelTags['tags'] if t['category'] != 'flag']\n",
    "json.dump(labelTags, open(imagelist_dir/f\"labelTags.json\", 'w'), separators=(',', ':'))"
   ]
  },
  {
   "cell_type": "markdown",
   "metadata": {},
   "source": [
    "# Sprite"
   ]
  },
  {
   "cell_type": "code",
   "execution_count": 29,
   "metadata": {},
   "outputs": [],
   "source": [
    "# ims = []\n",
    "# sprites_path = str(gallery_dir/'0.jpg')\n",
    "# for i in range(225):\n",
    "#     visImage = visImages[i]\n",
    "#     visImage['sprites_path'] = sprites_path\n",
    "#     visImage['sprites_pos_x'] = (i % 15) * thumbnail_size\n",
    "#     visImage['sprites_pos_y'] = (i // 15) * thumbnail_size\n",
    "#     im = cv2.imread(visImage['thumbnail_path'])\n",
    "#     w, h = im.shape[:2]\n",
    "#     new_im = cv2.copyMakeBorder(im, 0, thumbnail_size-w, 0, thumbnail_size-h, cv2.BORDER_CONSTANT, value=[0, 0, 0])\n",
    "#     ims.append(new_im)\n",
    "# montages = imutils.build_montages(ims, (140, 140), (15, 15))\n",
    "# cv2.imwrite(sprites_path, montages[0])"
   ]
  },
  {
   "cell_type": "code",
   "execution_count": null,
   "metadata": {
    "collapsed": true,
    "jupyter": {
     "outputs_hidden": true
    }
   },
   "outputs": [],
   "source": []
  }
 ],
 "metadata": {
  "kernelspec": {
   "display_name": "Python 3",
   "language": "python",
   "name": "python3"
  },
  "language_info": {
   "codemirror_mode": {
    "name": "ipython",
    "version": 3
   },
   "file_extension": ".py",
   "mimetype": "text/x-python",
   "name": "python",
   "nbconvert_exporter": "python",
   "pygments_lexer": "ipython3",
   "version": "3.8.5"
  }
 },
 "nbformat": 4,
 "nbformat_minor": 4
}
