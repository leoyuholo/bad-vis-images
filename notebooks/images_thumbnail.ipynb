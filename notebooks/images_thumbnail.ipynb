{
 "cells": [
  {
   "cell_type": "code",
   "execution_count": 1,
   "metadata": {
    "Collapsed": "false"
   },
   "outputs": [],
   "source": [
    "# !pip install imutils\n",
    "# !pip install opencv-python"
   ]
  },
  {
   "cell_type": "code",
   "execution_count": 2,
   "metadata": {
    "Collapsed": "false"
   },
   "outputs": [],
   "source": [
    "from pymongo import MongoClient\n",
    "from pathlib import Path\n",
    "from tqdm.notebook import tqdm\n",
    "from shutil import copyfile\n",
    "import imutils\n",
    "import cv2\n",
    "from PIL import Image\n",
    "import json\n",
    "from itertools import chain\n",
    "from pydash import pick, omit\n",
    "from datetime import datetime\n",
    "\n",
    "from lib.parallel import parallel\n",
    "# from lib import images2gif"
   ]
  },
  {
   "cell_type": "code",
   "execution_count": 3,
   "metadata": {
    "Collapsed": "false"
   },
   "outputs": [],
   "source": [
    "images_dir = Path('../images')\n",
    "gallery_dir = Path('../')\n",
    "labelling_dir = Path('../labelling')"
   ]
  },
  {
   "cell_type": "code",
   "execution_count": 4,
   "metadata": {
    "Collapsed": "false"
   },
   "outputs": [],
   "source": [
    "!rm -r {labelling_dir/'preview'}\n",
    "!rm -r {labelling_dir/'thumbnail'}\n",
    "\n",
    "!rm -r {gallery_dir/'preview'}\n",
    "!rm -r {gallery_dir/'thumbnail'}\n",
    "!rm -r {gallery_dir/'meta'}\n",
    "!rm -r {gallery_dir/'image_lists'}"
   ]
  },
  {
   "cell_type": "code",
   "execution_count": 5,
   "metadata": {
    "Collapsed": "false"
   },
   "outputs": [],
   "source": [
    "labelling_dir.mkdir(exist_ok=True)\n",
    "gallery_dir.mkdir(exist_ok=True)\n",
    "\n",
    "labelling_preview_dir = labelling_dir/'preview'\n",
    "labelling_thumbnail_dir = labelling_dir/'thumbnail'\n",
    "\n",
    "preview_dir = gallery_dir/'preview'\n",
    "thumbnail_dir = gallery_dir/'thumbnail'\n",
    "meta_dir = gallery_dir/'meta'\n",
    "imagelist_dir = gallery_dir/'image_lists'\n",
    "\n",
    "labelling_preview_dir.mkdir(exist_ok=True)\n",
    "labelling_thumbnail_dir.mkdir(exist_ok=True)\n",
    "\n",
    "preview_dir.mkdir(exist_ok=True)\n",
    "thumbnail_dir.mkdir(exist_ok=True)\n",
    "meta_dir.mkdir(exist_ok=True)\n",
    "imagelist_dir.mkdir(exist_ok=True)"
   ]
  },
  {
   "cell_type": "code",
   "execution_count": 6,
   "metadata": {
    "Collapsed": "false"
   },
   "outputs": [],
   "source": [
    "mongo = MongoClient('172.17.0.1', 27017)\n",
    "db = mongo['bad-vis']\n",
    "posts = db['posts']\n",
    "imagededup = db['imagededup']\n",
    "imagelabel = db['imagelabel']\n",
    "visimages = db['visimages']\n",
    "vislabels = db['vislabels']"
   ]
  },
  {
   "cell_type": "code",
   "execution_count": 7,
   "metadata": {
    "Collapsed": "false"
   },
   "outputs": [],
   "source": [
    "imagelabel.drop()\n",
    "visimages.drop()"
   ]
  },
  {
   "cell_type": "code",
   "execution_count": 8,
   "metadata": {
    "Collapsed": "false"
   },
   "outputs": [],
   "source": [
    "preview_size = 2048\n",
    "thumbnail_size = 140\n",
    "size_MB = 1024 * 1024"
   ]
  },
  {
   "cell_type": "code",
   "execution_count": 9,
   "metadata": {
    "Collapsed": "false"
   },
   "outputs": [],
   "source": [
    "class VisImage ():\n",
    "    _attrs = [\n",
    "        'id',\n",
    "        'image_name',\n",
    "        'image_path',\n",
    "        'thumbnail_path',\n",
    "\n",
    "        'datetime',\n",
    "        'url',\n",
    "        'title',\n",
    "        'author',\n",
    "        'source',\n",
    "        'source_url',\n",
    "        'source_platform',\n",
    "        'popularity_score',\n",
    "\n",
    "    #     'size',\n",
    "    #     'width',\n",
    "    #     'height',\n",
    "        'phash',\n",
    "        'duplicated_images',\n",
    "\n",
    "        'labels',\n",
    "        'remarks'\n",
    "    ]\n",
    "\n",
    "    def __init__ (self, image):\n",
    "        self._image = image\n",
    "\n",
    "        for k, v in image.items():\n",
    "            if k in ['labels', 'datetime']:\n",
    "                continue\n",
    "            setattr(self, k, v)\n",
    "\n",
    "    def digest (self, full=False):\n",
    "        digest = {a:getattr(self, a) for a in VisImage._attrs if hasattr(self, a)}\n",
    "        if full:\n",
    "            dict_digest = {k:v for k, v in self.__dict__.items() if not k.startswith('_')}\n",
    "            digest = {**digest, **dict_digest}\n",
    "            digest['labelling_path'] = self.labelling_path\n",
    "            digest['labelling_thumbnail_path'] = self.labelling_thumbnail_path\n",
    "            digest['exclude_from_list'] = self.exclude_from_list\n",
    "            digest['visLabel'] = self.visLabel\n",
    "        digest = {k:v if '_path' not in k else v[3:] for k, v in digest.items()}\n",
    "        return digest\n",
    "\n",
    "    @property\n",
    "    def image_name (self):\n",
    "        return f\"{self._image['id']}_{self._image['index_in_album']}\"\n",
    "\n",
    "    @property\n",
    "    def datetime (self):\n",
    "        return datetime.fromisoformat(self._image['datetime']).timestamp()\n",
    "\n",
    "    @property\n",
    "    def visLabel (self):\n",
    "        if not hasattr(self, '_labels'):\n",
    "            image_ids = [self._image['image_id']] + [i for i in self._image['duplicated_images']]\n",
    "            visLabels = [l for l in vislabels.find({'image_id': {'$in': image_ids}})]\n",
    "            if len(visLabels) == 0:\n",
    "                return None\n",
    "\n",
    "            if len(visLabels) > 1:\n",
    "                print(f\"labels warning: more than 1 label {image_ids} {visLabels}\")\n",
    "\n",
    "            self._labels = visLabels[0]\n",
    "        return self._labels\n",
    "\n",
    "    @property\n",
    "    def labels (self):\n",
    "        if not self.visLabel:\n",
    "            return []\n",
    "        labels = [l for l in self.visLabel['labels'] if l != 'flag:starred']\n",
    "        if self._image.get('animated'):\n",
    "            labels.append('layout:animated')\n",
    "        return labels\n",
    "\n",
    "    @property\n",
    "    def exclude_from_list (self):\n",
    "        return len(self.labels) == 0 or 'flag:invalid' in self.labels or 'flag:needreview' in self.labels or 'flag:notbad' in self.labels\n",
    "\n",
    "    @property\n",
    "    def remarks (self):\n",
    "        if not self.visLabel:\n",
    "            return ''\n",
    "        return self.visLabel['remarks']\n",
    "\n",
    "    @property\n",
    "    def filename (self):\n",
    "        return f\"{self.image_name}{self._image['ext']}\"\n",
    "\n",
    "    @property\n",
    "    def labelling_path (self):\n",
    "        return str(labelling_preview_dir/self.filename)\n",
    "\n",
    "    @property\n",
    "    def labelling_thumbnail_path (self):\n",
    "        return str(labelling_thumbnail_dir/self.filename)\n",
    "\n",
    "    @property\n",
    "    def image_path (self):\n",
    "        return str(preview_dir/self.filename)\n",
    "\n",
    "    @property\n",
    "    def thumbnail_path (self):\n",
    "#         return str(thumbnail_dir/f\"{self.image_name}{'.gif' if self._image['ext'] == '.gif' else '.jpg'}\")\n",
    "        return str(thumbnail_dir/f\"{self.image_name}.jpg\")\n",
    "\n",
    "    def makePreview (self, direct_copy=False):\n",
    "        if direct_copy:\n",
    "            copyfile(self._image['file_path'], self.labelling_path)\n",
    "        else:\n",
    "            im = Image.open(self._image['file_path'])\n",
    "\n",
    "            if '.jpg' in self.labelling_path:\n",
    "                im = im.convert('RGB')\n",
    "\n",
    "            if self._image['width'] > preview_size or self._image['height'] > preview_size:\n",
    "                im.thumbnail((preview_size, preview_size), Image.LANCZOS)\n",
    "\n",
    "            im.save(self.labelling_path, optimize=True)\n",
    "\n",
    "            old_size = Path(self._image['file_path']).stat().st_size\n",
    "            new_size = Path(self.labelling_path).stat().st_size\n",
    "            if new_size / old_size >= 1:\n",
    "                copyfile(self._image['file_path'], self.labelling_path)\n",
    "            if new_size > 3 * size_MB:\n",
    "                print(new_size/size_MB, old_size/size_MB, new_size/old_size, self._image['file_path'], self.labelling_path)\n",
    "\n",
    "        if not self.exclude_from_list:\n",
    "            copyfile(self.labelling_path, self.image_path)\n",
    "\n",
    "    def makeThumbnail (self):\n",
    "#         if self._image['ext'] == '.gif':\n",
    "#             frames = images2gif.readGif(self._image['file_path'], False)\n",
    "#             for frame in frames:\n",
    "#                 frame.thumbnail((thumbnail_size, thumbnail_size), Image.ANTIALIAS)\n",
    "\n",
    "#             images2gif.writeGif(self.thumbnail_path, frames)\n",
    "#         else:\n",
    "\n",
    "        im = Image.open(self._image['file_path']).convert('RGB')\n",
    "        im.thumbnail((thumbnail_size, thumbnail_size), Image.LANCZOS)\n",
    "        im.save(self.labelling_thumbnail_path, optimize=True)\n",
    "\n",
    "        if not self.exclude_from_list:\n",
    "            copyfile(self.labelling_thumbnail_path, self.thumbnail_path)\n",
    "\n",
    "#         ratio = thumbnail_size / max([self._image['width'], self._image['height']])\n",
    "#         thumbnail_width = min([thumbnail_size, int(round(self._image['width'] * ratio))])\n",
    "#         thumbnail_height = min([thumbnail_size, int(round(self._image['height'] * ratio))])\n",
    "\n",
    "#         im = Image.open(self._image['file_path']).convert('RGB')\n",
    "#         im.thumbnail((thumbnail_width, thumbnail_height))\n",
    "#         im.save(self.thumbnail_path, 'JPEG')\n",
    "\n",
    "    def makeMetaData (self):\n",
    "        imagelabel.insert_one(self.digest(full=True))\n",
    "\n",
    "        if not self.exclude_from_list:\n",
    "            digest = self.digest()\n",
    "            with open(meta_dir/f\"{self.image_name}.json\", 'w') as f:\n",
    "                json.dump(digest, f)\n",
    "            visimages.insert_one(digest)"
   ]
  },
  {
   "cell_type": "code",
   "execution_count": 10,
   "metadata": {
    "Collapsed": "false"
   },
   "outputs": [],
   "source": [
    "def finalize_image (image):\n",
    "    visImage = VisImage(image)\n",
    "    visImage.makePreview()\n",
    "    visImage.makeThumbnail()\n",
    "    visImage.makeMetaData()\n",
    "    return visImage"
   ]
  },
  {
   "cell_type": "code",
   "execution_count": 11,
   "metadata": {
    "Collapsed": "false"
   },
   "outputs": [
    {
     "data": {
      "application/vnd.jupyter.widget-view+json": {
       "model_id": "c58ab8602b314c41a6553339e68c13c4",
       "version_major": 2,
       "version_minor": 0
      },
      "text/plain": [
       "HBox(children=(FloatProgress(value=0.0, max=5837.0), HTML(value='')))"
      ]
     },
     "metadata": {},
     "output_type": "display_data"
    },
    {
     "name": "stderr",
     "output_type": "stream",
     "text": [
      "/opt/conda/lib/python3.7/site-packages/PIL/Image.py:1015: UserWarning: Couldn't allocate palette entry for transparency\n",
      "  warnings.warn(\"Couldn't allocate palette entry for transparency\")\n",
      "/opt/conda/lib/python3.7/site-packages/PIL/Image.py:960: UserWarning: Palette images with Transparency expressed in bytes should be converted to RGBA images\n",
      "  \"Palette images with Transparency expressed in bytes should be \"\n",
      "/opt/conda/lib/python3.7/site-packages/PIL/Image.py:2800: DecompressionBombWarning: Image size (100000000 pixels) exceeds limit of 89478485 pixels, could be decompression bomb DOS attack.\n",
      "  DecompressionBombWarning,\n"
     ]
    },
    {
     "name": "stdout",
     "output_type": "stream",
     "text": [
      "3.6549367904663086 6.073509216308594 0.601783361199497 ../images/external_link/reddit/dataisbeautiful/8e3eax.png ../labelling/preview/8ebarl_0.png\n",
      "3.694216728210449 2.377016067504883 1.5541404110440917 ../images/external_link/reddit/dataisugly/gzqgxf.png ../labelling/preview/gzqgxf_0.png\n"
     ]
    },
    {
     "name": "stderr",
     "output_type": "stream",
     "text": [
      "/opt/conda/lib/python3.7/site-packages/PIL/Image.py:2800: DecompressionBombWarning: Image size (135364608 pixels) exceeds limit of 89478485 pixels, could be decompression bomb DOS attack.\n",
      "  DecompressionBombWarning,\n"
     ]
    },
    {
     "name": "stdout",
     "output_type": "stream",
     "text": [
      "4.426243782043457 4.468886375427246 0.9904578926825562 ../images/archive/reddit/dataisugly/25rwp3.png ../labelling/preview/25rwp3_0.png\n",
      "3.507852554321289 4.053823471069336 0.8653195136284442 ../images/external_link/reddit/dataisugly/6tmtcd.png ../labelling/preview/6tmtcd_0.png\n",
      "3.0280160903930664 9.709271430969238 0.31186851783077524 ../images/preview/reddit/dataisugly/1i2d82.png ../labelling/preview/1i2d82_0.png\n",
      "5.672785758972168 13.685684204101562 0.4145050897252217 ../images/external_link/reddit/dataisugly/dr7mmy.png ../labelling/preview/dr7mmy_0.png\n",
      "\n"
     ]
    }
   ],
   "source": [
    "visImages = parallel(finalize_image, imagededup.find(), total=imagededup.estimated_document_count())"
   ]
  },
  {
   "cell_type": "code",
   "execution_count": 12,
   "metadata": {
    "Collapsed": "false"
   },
   "outputs": [],
   "source": [
    "visImages = [i for i in visImages if not i.exclude_from_list]"
   ]
  },
  {
   "cell_type": "markdown",
   "metadata": {
    "Collapsed": "false"
   },
   "source": [
    "# Image Lists"
   ]
  },
  {
   "cell_type": "code",
   "execution_count": 13,
   "metadata": {
    "Collapsed": "false"
   },
   "outputs": [],
   "source": [
    "visImages = [i for i in visimages.find()]"
   ]
  },
  {
   "cell_type": "code",
   "execution_count": 14,
   "metadata": {
    "Collapsed": "false"
   },
   "outputs": [],
   "source": [
    "visImages.sort(key=lambda x: x['popularity_score'])"
   ]
  },
  {
   "cell_type": "code",
   "execution_count": 15,
   "metadata": {
    "Collapsed": "false"
   },
   "outputs": [],
   "source": [
    "visImages.reverse()"
   ]
  },
  {
   "cell_type": "code",
   "execution_count": 16,
   "metadata": {
    "Collapsed": "false"
   },
   "outputs": [
    {
     "data": {
      "text/plain": [
       "537"
      ]
     },
     "execution_count": 16,
     "metadata": {},
     "output_type": "execute_result"
    }
   ],
   "source": [
    "len(visImages)"
   ]
  },
  {
   "cell_type": "code",
   "execution_count": 17,
   "metadata": {
    "Collapsed": "false"
   },
   "outputs": [],
   "source": [
    "for i in visImages:\n",
    "    del i['_id']"
   ]
  },
  {
   "cell_type": "code",
   "execution_count": 18,
   "metadata": {
    "Collapsed": "false"
   },
   "outputs": [],
   "source": [
    "json.dump({'images': visImages}, open(imagelist_dir/'all.json', 'w'), separators=(',', ':'))"
   ]
  },
  {
   "cell_type": "code",
   "execution_count": 19,
   "metadata": {
    "Collapsed": "false"
   },
   "outputs": [],
   "source": [
    "batch_cuts = [0] + [i for i in range(225, len(visImages), 400)] + [len(visImages)]\n",
    "for (batch_begin, batch_end) in zip(batch_cuts[:-1], batch_cuts[1:]):\n",
    "    json.dump({\n",
    "        'images': visImages[batch_begin:batch_end],\n",
    "        'next': f\"image_lists/{batch_end}.json\" if batch_end != len(visImages) else None\n",
    "    }, open(imagelist_dir/f\"{batch_begin}.json\", 'w'), separators=(',', ':'))"
   ]
  },
  {
   "cell_type": "markdown",
   "metadata": {
    "Collapsed": "false"
   },
   "source": [
    "# Labels Options"
   ]
  },
  {
   "cell_type": "code",
   "execution_count": 20,
   "metadata": {
    "Collapsed": "false"
   },
   "outputs": [],
   "source": [
    "# labelOptions = [{\n",
    "#     'tag': 'fault',\n",
    "#     'name': 'Issues',\n",
    "#     'options': [\n",
    "#         'percentage:sum', 'percentage:encoding', 'percentage:wholepart',\n",
    "#         'label', 'description',\n",
    "#         'axis', 'axis:label', 'axis:flipped', 'axis:truncated', \"axis:missing\", 'axis:double', # axis:dual\n",
    "#         'legend',\n",
    "#         'color', 'color:over12',\n",
    "#         'scale', 'scale:log', 'scale:inconsistent', 'binning',\n",
    "#         'area',\n",
    "#         'picto:distortion', 'picto:area',\n",
    "#         'position', 'itemorder',\n",
    "#         'connection',\n",
    "#         '3d', 'animation',\n",
    "#         'cluttering', 'occulusion',\n",
    "#         'data', 'data:selective', 'data:questionable', 'data:missingvalues', 'data:redundant', 'data:prediction',\n",
    "#         'index:comparison', # index:crossbasiscomparison\n",
    "#         'parody', 'faultylogic', 'missingcontext',\n",
    "#         'confirmationbias', 'chartjunk', 'betteralternative',\n",
    "#         'faultystatistics', 'invalidcomparison',\n",
    "#         'map:population', 'invalidencoding',\n",
    "#         'unreadable', 'visuallyawful',\n",
    "#         'encoding', 'cannotaddup', 'legibility'\n",
    "#     ]}, {\n",
    "#     'tag': 'form',\n",
    "#     'name': 'Chart Type',\n",
    "#     'options': [\n",
    "#         'barchart', 'linechart', 'scatterplot', 'dotplot', 'barcodechart', 'areachart', 'histogram',\n",
    "#         'nodelink', 'radarchart', 'bubblechart', 'dumbbellplot',\n",
    "#         'piechart', 'donutchart',\n",
    "#         'pyramid', 'venn', 'choropleth', 'flowmap', 'map', 'chernoffface',\n",
    "#         'table', 'heatmap', 'treemap', 'quadrant',\n",
    "#         'boxplot', 'violinplot', 'parallelcoor', 'streamgraph',\n",
    "#         'pictogram', 'guagechart', 'sankeydiagram', 'chorddiagram', 'sunbrust', 'voronoi',\n",
    "#         'unknown'\n",
    "#     ]}, {\n",
    "#     'tag': 'data',\n",
    "#     'name': 'Data Types',\n",
    "#     'options': [\n",
    "#         'categorical', 'quantitative', 'indexvalue', 'accumulated',\n",
    "#         'percentage', 'probability',\n",
    "#         'ordinal', 'ranking', 'sequential',\n",
    "#         'timeseries', 'cyclic',\n",
    "#         'geospatial', 'flow',\n",
    "#         'network', 'tree',\n",
    "#         'set', 'bitmap',\n",
    "#         'text', 'multivariate',\n",
    "#     ]}, {\n",
    "#     'tag': 'media',\n",
    "#     'name': 'Medium',\n",
    "#     'options': [\n",
    "#         'inreallife', 'printed', 'handdrawn', 'tv', 'ads', 'news', 'NSFW'\n",
    "#     ]}, {\n",
    "#     'tag': 'layout',\n",
    "#     'name': 'Layout',\n",
    "#     'options': [\n",
    "#         'circular', 'infographics', 'stacked', 'map', 'juxtaposition', 'overlay', 'mixed'\n",
    "#     ]}, {\n",
    "#     'tag': 'metaphor',\n",
    "#     'name': 'Metaphor',\n",
    "#     'options': [\n",
    "#         'pictograph', 'periodictable', 'gear', 'clock'\n",
    "#     ]}, {\n",
    "#     'tag': 'flag',\n",
    "#     'name': 'Flag',\n",
    "#     'options': [\n",
    "#         'needreview', 'invalid', 'notbad', 'starred'\n",
    "#     ]}\n",
    "# ]"
   ]
  },
  {
   "cell_type": "code",
   "execution_count": 21,
   "metadata": {
    "Collapsed": "false"
   },
   "outputs": [],
   "source": [
    "# dump all tags but flag\n",
    "# json.dump(labelOptions[:-1], open(imagelist_dir/f\"labelOptions.json\", 'w'), separators=(',', ':'))"
   ]
  },
  {
   "cell_type": "code",
   "execution_count": 22,
   "metadata": {
    "Collapsed": "false"
   },
   "outputs": [],
   "source": [
    "labelOptions = json.load(open('tmp/labelOptions.json'))"
   ]
  },
  {
   "cell_type": "code",
   "execution_count": 23,
   "metadata": {
    "Collapsed": "false"
   },
   "outputs": [],
   "source": [
    "# dump all tags but flag\n",
    "json.dump(labelOptions[:-1], open(imagelist_dir/f\"labelOptions.json\", 'w'), separators=(',', ':'))"
   ]
  },
  {
   "cell_type": "markdown",
   "metadata": {
    "Collapsed": "false"
   },
   "source": [
    "# Sprite"
   ]
  },
  {
   "cell_type": "code",
   "execution_count": 24,
   "metadata": {
    "Collapsed": "false"
   },
   "outputs": [],
   "source": [
    "# ims = []\n",
    "# sprites_path = str(gallery_dir/'0.jpg')\n",
    "# for i in range(225):\n",
    "#     visImage = visImages[i]\n",
    "#     visImage['sprites_path'] = sprites_path\n",
    "#     visImage['sprites_pos_x'] = (i % 15) * thumbnail_size\n",
    "#     visImage['sprites_pos_y'] = (i // 15) * thumbnail_size\n",
    "#     im = cv2.imread(visImage['thumbnail_path'])\n",
    "#     w, h = im.shape[:2]\n",
    "#     new_im = cv2.copyMakeBorder(im, 0, thumbnail_size-w, 0, thumbnail_size-h, cv2.BORDER_CONSTANT, value=[0, 0, 0])\n",
    "#     ims.append(new_im)\n",
    "# montages = imutils.build_montages(ims, (140, 140), (15, 15))\n",
    "# cv2.imwrite(sprites_path, montages[0])"
   ]
  },
  {
   "cell_type": "code",
   "execution_count": null,
   "metadata": {
    "Collapsed": "false"
   },
   "outputs": [],
   "source": []
  }
 ],
 "metadata": {
  "kernelspec": {
   "display_name": "Python 3",
   "language": "python",
   "name": "python3"
  },
  "language_info": {
   "codemirror_mode": {
    "name": "ipython",
    "version": 3
   },
   "file_extension": ".py",
   "mimetype": "text/x-python",
   "name": "python",
   "nbconvert_exporter": "python",
   "pygments_lexer": "ipython3",
   "version": "3.7.6"
  }
 },
 "nbformat": 4,
 "nbformat_minor": 4
}
