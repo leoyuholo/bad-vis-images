{
 "cells": [
  {
   "cell_type": "code",
   "execution_count": 1,
   "metadata": {
    "Collapsed": "false"
   },
   "outputs": [],
   "source": [
    "import json\n",
    "from pymongo import MongoClient\n",
    "from collections import Counter\n",
    "from pathlib import Path\n",
    "import os\n",
    "import datetime\n",
    "from pydash import omit\n",
    "from bson import json_util"
   ]
  },
  {
   "cell_type": "code",
   "execution_count": 2,
   "metadata": {
    "Collapsed": "false"
   },
   "outputs": [],
   "source": [
    "mongo = MongoClient('172.17.0.1', 27017)\n",
    "db = mongo['bad-vis']\n",
    "vislabels = db['vislabels']"
   ]
  },
  {
   "cell_type": "code",
   "execution_count": 3,
   "metadata": {
    "Collapsed": "false"
   },
   "outputs": [],
   "source": [
    "visLabels = [l for l in vislabels.find()]"
   ]
  },
  {
   "cell_type": "markdown",
   "metadata": {
    "Collapsed": "false"
   },
   "source": [
    "# Backup Labels"
   ]
  },
  {
   "cell_type": "code",
   "execution_count": 4,
   "metadata": {
    "Collapsed": "false"
   },
   "outputs": [],
   "source": [
    "handmade_dir = Path('./handmade')\n",
    "label_dir = handmade_dir/'labels'"
   ]
  },
  {
   "cell_type": "code",
   "execution_count": 5,
   "metadata": {
    "Collapsed": "false"
   },
   "outputs": [],
   "source": [
    "# if os.path.isfile(label_dir/'labels.json'):\n",
    "#     os.rename(label_dir/'labels.json', label_dir/f\"labels_{datetime.datetime.now().strftime('%Y%m%d%H%M%S')}.json\")"
   ]
  },
  {
   "cell_type": "code",
   "execution_count": 6,
   "metadata": {
    "Collapsed": "false"
   },
   "outputs": [],
   "source": [
    "# json.dump([omit(l, '_id') for l in vislabels.find()], open(label_dir/'labels.json', 'w'), default=json_util.default)"
   ]
  },
  {
   "cell_type": "markdown",
   "metadata": {
    "Collapsed": "true"
   },
   "source": [
    "# Label Statistic"
   ]
  },
  {
   "cell_type": "code",
   "execution_count": 7,
   "metadata": {
    "Collapsed": "false"
   },
   "outputs": [],
   "source": [
    "labels = {l for labels in visLabels for l in labels['labels']}\n",
    "labelCnts = Counter([l for labels in visLabels for l in labels['labels']])"
   ]
  },
  {
   "cell_type": "code",
   "execution_count": 8,
   "metadata": {
    "Collapsed": "false"
   },
   "outputs": [],
   "source": [
    "# labels"
   ]
  },
  {
   "cell_type": "code",
   "execution_count": 9,
   "metadata": {
    "Collapsed": "false"
   },
   "outputs": [
    {
     "data": {
      "text/plain": [
       "[('data:categorical', 377),\n",
       " ('data:quantitative', 249),\n",
       " ('data:percentage', 207),\n",
       " ('form:barchart', 152),\n",
       " ('data:timeseries', 111),\n",
       " ('form:linechart', 103),\n",
       " ('form:piechart', 85),\n",
       " ('data:geospatial', 68),\n",
       " ('fault:scale:inconsistent', 66),\n",
       " ('fault:color', 57),\n",
       " ('media:printed', 54),\n",
       " ('fault:percentage:encoding', 52),\n",
       " ('flag:needreview', 51),\n",
       " ('flag:notbad', 49),\n",
       " ('form:choropleth', 44),\n",
       " ('fault:label', 41),\n",
       " ('effect:confuesed', 40),\n",
       " ('form:pictogram', 39),\n",
       " ('effect:distorted', 39),\n",
       " ('fault:description', 36),\n",
       " ('fault:axis:label', 35),\n",
       " ('form:map', 33),\n",
       " ('fault:axis:truncated', 33),\n",
       " ('fault:betteralternative', 33),\n",
       " ('fault:legend', 33),\n",
       " ('fault:3d', 30),\n",
       " ('media:tv', 26),\n",
       " ('layout:juxtaposition', 25),\n",
       " ('fault:faultylogic', 24),\n",
       " ('form:donutchart', 24),\n",
       " ('fault:data:questionable', 24),\n",
       " ('fault:cluttering', 24),\n",
       " ('data:ordinal', 22),\n",
       " ('fault:percentage:sum', 22),\n",
       " ('domain:health', 21),\n",
       " ('data:indexvalue', 21),\n",
       " ('form:table', 20),\n",
       " ('form:stackedbarchart', 18),\n",
       " ('media:infographic', 17),\n",
       " ('fault:axis', 16),\n",
       " ('form:venn', 15),\n",
       " ('data:network', 15),\n",
       " ('domain:public', 14),\n",
       " ('flag:parody', 14),\n",
       " ('fault:color:over12', 14),\n",
       " ('data:set', 14),\n",
       " ('fault:visuallyawful', 14),\n",
       " ('form:areachart', 13),\n",
       " ('fault:itemorder', 13),\n",
       " ('fault:unreadable', 13),\n",
       " ('form:scatterplot', 12),\n",
       " ('flag:invalid', 12),\n",
       " ('fault:faultystatistics', 12),\n",
       " ('fault:animation', 11),\n",
       " ('fault:chartjunk', 11),\n",
       " ('fault:area', 11),\n",
       " ('fault:invalidencoding', 11),\n",
       " ('domain:politics', 10),\n",
       " ('form:unknown', 10),\n",
       " ('fault:invalidcomparison', 10),\n",
       " ('fault:axis:double', 10),\n",
       " ('fault:scale', 9),\n",
       " ('layout:circular', 9),\n",
       " ('form:nodelink', 9),\n",
       " ('fault:axis:flipped', 8),\n",
       " ('fault:picto:distortion', 8),\n",
       " ('fault:data:selective', 8),\n",
       " ('domain:education', 8),\n",
       " ('fault:missingcontext', 8),\n",
       " ('form:sankeydiagram', 8),\n",
       " ('domain:entertainment', 8),\n",
       " ('fault:legibility', 8),\n",
       " ('domain:business', 7),\n",
       " ('fault:binning', 7),\n",
       " ('form:bubblechart', 7),\n",
       " ('fault:occulusion', 7),\n",
       " ('fault:axis:missing', 7),\n",
       " ('domain:international', 6),\n",
       " ('fault:labelconfuse', 6),\n",
       " ('form:heatmap', 6),\n",
       " ('form:stackedareachart', 6),\n",
       " ('form:quadrant', 6),\n",
       " ('effect:reversed', 5),\n",
       " ('media:news', 5),\n",
       " ('fault:position', 5),\n",
       " ('fault:percentage:wholepart', 5),\n",
       " ('fault:colorconvention', 5),\n",
       " ('media:google', 5),\n",
       " ('fault:encoding', 5),\n",
       " ('data:ranking', 5),\n",
       " ('media:inreallife', 4),\n",
       " ('fault:index:comparison', 4),\n",
       " ('fault:confirmationbias', 4),\n",
       " ('form:treemap', 4),\n",
       " ('data:cyclic', 4),\n",
       " ('fault:map:population', 4),\n",
       " ('form:parallelcoor', 4),\n",
       " ('fault:colorscale', 4),\n",
       " ('media:NSFW', 4),\n",
       " ('media:handdrawn', 3),\n",
       " ('media:ads', 3),\n",
       " ('data:sequential', 3),\n",
       " ('layout:overlay', 3),\n",
       " ('data:accumulated', 3),\n",
       " ('form:guagechart', 3),\n",
       " ('layout:clock', 3),\n",
       " ('data:tree', 3),\n",
       " ('data:flow', 2),\n",
       " ('data:bitmap', 2),\n",
       " ('form:dotplot', 2),\n",
       " ('data:probability', 2),\n",
       " ('fault:picto:area', 2),\n",
       " ('fault:data:missingvalues', 2),\n",
       " ('form:sunbrust', 2),\n",
       " ('data:text', 2),\n",
       " ('form:barcodechart', 2),\n",
       " ('layout:mixed', 2),\n",
       " ('fault:connection', 2),\n",
       " ('form:dumbbellplot', 2),\n",
       " ('form:boxplot', 2),\n",
       " ('domain:sports', 2),\n",
       " ('form:voronoi', 2),\n",
       " ('domain:catering', 2),\n",
       " ('domain:unknown', 2),\n",
       " ('fault:cannotunderstand', 2),\n",
       " ('domain:scientific', 2),\n",
       " ('fault:data:prediction', 2),\n",
       " ('fault:inconsistentinterval', 2),\n",
       " ('form:radarchart', 2),\n",
       " ('flag:starred', 2),\n",
       " ('layout:periodictable', 2),\n",
       " ('fault:nonsequitur', 2),\n",
       " ('fault:scale:inconsistentacross', 2),\n",
       " ('fault:wronglabel', 1),\n",
       " ('form:flowmap', 1),\n",
       " ('form:histogram', 1),\n",
       " ('form:chorddiagram', 1),\n",
       " ('fault:colormess', 1),\n",
       " ('fault:data:redundant', 1),\n",
       " ('data:multivariate', 1),\n",
       " ('form:streamgraph', 1),\n",
       " ('form:chernoffface', 1),\n",
       " ('domain:personal', 1),\n",
       " ('form:pyramid', 1),\n",
       " ('fault:cannotaddup', 1),\n",
       " ('form:progressbar', 1),\n",
       " ('fault:legendconfuse', 1),\n",
       " ('data:diverging', 1)]"
      ]
     },
     "execution_count": 9,
     "metadata": {},
     "output_type": "execute_result"
    }
   ],
   "source": [
    "labelCnts.most_common()"
   ]
  },
  {
   "cell_type": "markdown",
   "metadata": {
    "Collapsed": "false"
   },
   "source": [
    "# Labels"
   ]
  },
  {
   "cell_type": "code",
   "execution_count": 10,
   "metadata": {
    "Collapsed": "false"
   },
   "outputs": [],
   "source": [
    "chart_types = [\n",
    "    {'tag': 'form:barchart',         'subcategory': 'bar',    'name': 'Bar Chart'},\n",
    "    {'tag': 'form:stackedbarchart',  'subcategory': 'bar',    'name': 'Stacked Bar Chart'},\n",
    "    {'tag': 'form:dotplot',          'subcategory': 'bar',    'name': 'Dot Plot'},\n",
    "    {'tag': 'form:histogram',        'subcategory': 'bar',    'name': 'Histogram'},\n",
    "    {'tag': 'form:barcodechart',     'subcategory': 'bar',    'name': 'Barcode Chart'},\n",
    "    {'tag': 'form:progressbar',      'subcategory': 'bar',    'name': 'Progress Bar'},\n",
    "\n",
    "    {'tag': 'form:linechart',        'subcategory': 'line',   'name': 'Line Chart'},\n",
    "    {'tag': 'form:nodelink',         'subcategory': 'line',   'name': 'Node-Link Diagram'},\n",
    "    {'tag': 'form:parallelcoor',     'subcategory': 'line',   'name': 'Parallel Coordinates'},\n",
    "    {'tag': 'form:radarchart',       'subcategory': 'line',   'name': 'Radar Chart'},\n",
    "    {'tag': 'form:sankeydiagram',    'subcategory': 'line',   'name': 'Sankey Diagram'},\n",
    "    {'tag': 'form:boxplot',          'subcategory': 'line',   'name': 'Box Plot'},\n",
    "    {'tag': 'form:violinplot',       'subcategory': 'line',   'name': 'Violin Plot'},\n",
    "\n",
    "    {'tag': 'form:scatterplot',      'subcategory': 'dot',    'name': 'Scatter Plot'},\n",
    "    {'tag': 'form:dumbbellplot',     'subcategory': 'dot',    'name': 'Dumbbell Plot'},\n",
    "\n",
    "    {'tag': 'form:bubblechart',      'subcategory': 'circle', 'name': 'Bubble Chart'},\n",
    "    {'tag': 'form:piechart',         'subcategory': 'circle', 'name': 'Pie Chart'},\n",
    "    {'tag': 'form:donutchart',       'subcategory': 'circle', 'name': 'Donut Chart'},\n",
    "    {'tag': 'form:guagechart',       'subcategory': 'circle', 'name': 'Guage Chart'},\n",
    "    {'tag': 'form:sunbrust',         'subcategory': 'circle', 'name': 'Sunbrust Diagram'},\n",
    "    {'tag': 'form:venn',             'subcategory': 'circle', 'name': 'Venn Diagram'},\n",
    "\n",
    "    {'tag': 'form:areachart',        'subcategory': 'area',   'name': 'Area Chart'},\n",
    "    {'tag': 'form:stackedareachart', 'subcategory': 'area',   'name': 'Stacked Area Chart'},\n",
    "    {'tag': 'form:streamgraph',      'subcategory': 'area',   'name': 'Stream Graph'},\n",
    "    {'tag': 'form:treemap',          'subcategory': 'area',   'name': 'Treemap'},\n",
    "    {'tag': 'form:voronoi',          'subcategory': 'area',   'name': 'Voronoi Diagram'},\n",
    "    {'tag': 'form:pyramid',          'subcategory': 'area',   'name': 'Pyramid'},\n",
    "\n",
    "    {'tag': 'form:choropleth',       'subcategory': 'map',    'name': 'Choropleth'},\n",
    "    {'tag': 'form:flowmap',          'subcategory': 'map',    'name': 'Flow Map'},\n",
    "    {'tag': 'form:map',              'subcategory': 'map',    'name': 'Map'},\n",
    "\n",
    "    {'tag': 'form:table',            'subcategory': 'table',  'name': 'Table'},\n",
    "    {'tag': 'form:heatmap',          'subcategory': 'table',  'name': 'Heatmap'},\n",
    "    {'tag': 'form:quadrant',         'subcategory': 'table',  'name': 'Quadrant'},\n",
    "\n",
    "    {'tag': 'form:pictogram',        'subcategory': 'icon',   'name': 'Pictogram'},\n",
    "    {'tag': 'form:chernoffface',     'subcategory': 'icon',   'name': 'Chernoff Face'},\n",
    "\n",
    "    {'tag': 'form:unknown',          'subcategory': 'other',  'name': 'Unclassified'},\n",
    "]\n"
   ]
  },
  {
   "cell_type": "code",
   "execution_count": 11,
   "metadata": {
    "Collapsed": "false"
   },
   "outputs": [],
   "source": [
    "data_types = [\n",
    "    # attribute level means you can tell its type by a single column\n",
    "    {'tag': 'data:categorical',  'subcategory': 'attribute', 'name': 'Categorical'},\n",
    "    # a measurement of magnitude that supports arithmetic comparison\n",
    "    {'tag': 'data:quantitative', 'subcategory': 'attribute', 'name': 'Quantitative'},\n",
    "    # homogeneous range from a **minimum** to a **maximum** value\n",
    "    {'tag': 'data:sequential',   'subcategory': 'attribute', 'name': 'Sequential'},\n",
    "    # deconstructed into two sequences pointing in opposite directions that meet at a **common zero point**\n",
    "    {'tag': 'data:diverging',    'subcategory': 'attribute', 'name': 'Diverging'},\n",
    "    # we cannot do full-fledged arithmetic, but there is a well-defined ordering\n",
    "    {'tag': 'data:ordinal',      'subcategory': 'attribute', 'name': 'Ordinal'},\n",
    "\n",
    "    # entity level means you can tell its type by a single record\n",
    "    {'tag': 'data:multivariate', 'subcategory': 'entity',    'name': 'Multivariate'},\n",
    "\n",
    "    # time related\n",
    "    {'tag': 'data:timeseries',   'subcategory': 'time',      'name': 'Time Series'},\n",
    "    {'tag': 'data:cyclic',       'subcategory': 'time',      'name': 'Cyclic'},\n",
    "\n",
    "    # coordinated, spatial meaning for x, y, or z\n",
    "    {'tag': 'data:geospatial',   'subcategory': 'position',  'name': 'Geospatial'},\n",
    "    {'tag': 'data:flow',         'subcategory': 'position',  'name': 'Flow'},\n",
    "    {'tag': 'data:bitmap',       'subcategory': 'position',  'name': 'Bitmap'},\n",
    "\n",
    "    # records are inter-linked, set type is containment relationship\n",
    "    {'tag': 'data:network',      'subcategory': 'relation',  'name': 'Network'},\n",
    "    {'tag': 'data:tree',         'subcategory': 'relation',  'name': 'Tree'},\n",
    "    {'tag': 'data:set',          'subcategory': 'relation',  'name': 'Set'},\n",
    "\n",
    "    # long string\n",
    "    {'tag': 'data:text',         'subcategory': 'text',      'name': 'Text'},\n",
    "\n",
    "    # derived attributes\n",
    "    {'tag': 'data:ranking',      'subcategory': 'derived',   'name': 'Ranked'},\n",
    "    {'tag': 'data:indexvalue',   'subcategory': 'derived',   'name': 'Index Value'},\n",
    "    {'tag': 'data:accumulated',  'subcategory': 'derived',   'name': 'Accumulated'},\n",
    "    {'tag': 'data:percentage',   'subcategory': 'derived',   'name': 'Percentage'},\n",
    "    {'tag': 'data:probability',  'subcategory': 'derived',   'name': 'Probability'},\n",
    "]\n"
   ]
  },
  {
   "cell_type": "code",
   "execution_count": 12,
   "metadata": {
    "Collapsed": "false"
   },
   "outputs": [],
   "source": [
    "layout_types = [\n",
    "    {'tag': 'layout:circular',      'name': 'Circular'},\n",
    "    {'tag': 'layout:juxtaposition', 'name': 'Juxtaposition'},\n",
    "    {'tag': 'layout:overlay',       'name': 'Superimposed'},\n",
    "    {'tag': 'layout:mixed',         'name': 'Multiple-views'},\n",
    "    {'tag': 'layout:periodictable', 'name': 'Periodictable'},\n",
    "    {'tag': 'layout:clock',         'name': 'Clock'},\n",
    "\n",
    "    # {'tag': 'layout:infographics',    'name': 'Infographics'}, # move to media\n",
    "    # {'tag': 'layout:stacked',         'name': 'Stacked'}, # stakced area chart, stacked bar chart\n",
    "    # {'tag': 'layout:map',             'name': 'Map'},\n",
    "]\n"
   ]
  },
  {
   "cell_type": "code",
   "execution_count": 13,
   "metadata": {
    "Collapsed": "false"
   },
   "outputs": [],
   "source": [
    "domain_types = [\n",
    "    {'tag': 'domain:politics',      'name': 'Politics'},\n",
    "    {'tag': 'domain:business',      'name': 'Business'},\n",
    "    {'tag': 'domain:entertainment', 'name': 'Entertainment'},\n",
    "    {'tag': 'domain:scientific',    'name': 'Scientific'},\n",
    "    {'tag': 'domain:sports',        'name': 'Sports'},\n",
    "    {'tag': 'domain:international', 'name': 'International'},\n",
    "    {'tag': 'domain:personal',      'name': 'Personal'},\n",
    "    {'tag': 'domain:public',        'name': 'Public'},\n",
    "    {'tag': 'domain:health',        'name': 'Health'},\n",
    "    {'tag': 'domain:education',     'name': 'Education'},\n",
    "    {'tag': 'domain:catering',      'name': 'Catering'},\n",
    "    {'tag': 'domain:computer',      'name': 'Computer'},\n",
    "    {'tag': 'domain:unknown',       'name': 'Unknown'},\n",
    "]"
   ]
  },
  {
   "cell_type": "code",
   "execution_count": 14,
   "metadata": {
    "Collapsed": "false"
   },
   "outputs": [],
   "source": [
    "media_types = [\n",
    "    {'tag': 'media:tv',          'name': 'TV'},\n",
    "    {'tag': 'media:news',        'name': 'News Article'},\n",
    "    {'tag': 'media:ads',         'name': 'Ads'},\n",
    "    {'tag': 'media:printed',     'name': 'Printed'},\n",
    "    {'tag': 'media:handdrawn',   'name': 'Handdrawn'},\n",
    "    {'tag': 'media:inreallife',  'name': 'Inreallife'},\n",
    "    {'tag': 'media:NSFW',        'name': 'NSFW'}, # Not safe for work\n",
    "    # the thin line between infographics and multiple-views is whether the picture is message bearing, multiple-views is for analytical purpose like dashboard\n",
    "    {'tag': 'media:infographic', 'name': 'Infographic'},\n",
    "    {'tag': 'media:google',  'name': 'Google Products'},\n",
    "]"
   ]
  },
  {
   "cell_type": "code",
   "execution_count": 15,
   "metadata": {
    "Collapsed": "false"
   },
   "outputs": [],
   "source": [
    "effect_types = [\n",
    "    {'tag': 'effect:reversed',    'name': 'Reversed'},\n",
    "    {'tag': 'effect:distorted',    'name': 'Distorted'},\n",
    "    {'tag': 'effect:confuesed',    'name': 'Confused'}\n",
    "]"
   ]
  },
  {
   "cell_type": "code",
   "execution_count": 16,
   "metadata": {
    "Collapsed": "false"
   },
   "outputs": [],
   "source": [
    "# based on Surfacing Visualization Mirage\n",
    "# errors arisen at different dicision points\n",
    "fault_types = [\n",
    "    # data curation\n",
    "#     {'tag': 'fault:data',                 'subcategory': 'data',       'name': 'data'},\n",
    "    {'tag': 'fault:data:selective',           'subcategory': 'data',       'name': 'Selective Data'},\n",
    "    {'tag': 'fault:data:questionable',        'subcategory': 'data',       'name': 'Questionable Data'},\n",
    "    {'tag': 'fault:data:missingvalues',       'subcategory': 'data',       'name': 'Missing Values'},\n",
    "    {'tag': 'fault:data:redundant',           'subcategory': 'data',       'name': 'Redundant Values'},\n",
    "\n",
    "    # data wrangling\n",
    "    {'tag': 'fault:data:prediction',          'subcategory': 'derive',     'name': 'Unreliable Prediction'},\n",
    "    {'tag': 'fault:faultystatistics',         'subcategory': 'derive',     'name': 'Faulty Statistics'},\n",
    "    {'tag': 'fault:percentage:sum',           'subcategory': 'derive',     'name': 'Percentage Not 100%'},\n",
    "    {'tag': 'fault:binning',                  'subcategory': 'derive',     'name': 'Binning'},\n",
    "    {'tag': 'fault:itemorder',                'subcategory': 'derive',     'name': 'Item Order'},\n",
    "\n",
    "    # visualizing: visual design choices, responsibility of human designer\n",
    "    {'tag': 'fault:scale',                    'subcategory': 'design',     'name': 'Absurd Scale'}, # Review\n",
    "    {'tag': 'fault:connection',               'subcategory': 'design',     'name': 'Invalid Connection'}, # Lines or arrows connecting unrelated dots\n",
    "    {'tag': 'fault:betteralternative',        'subcategory': 'design',     'name': 'Poor Encoding Choice'}, # Potentially expandable, Understandable with effort, but there are better alternatives\n",
    "    {'tag': 'fault:invalidencoding',          'subcategory': 'design',     'name': 'Invalid Encoding Choice'}, # Potentially expandable, Not understandable\n",
    "    {'tag': 'fault:nonsequitur',              'subcategory': 'design',     'name': 'Disguised Visualization'}, # Fake visualization, non-sequitur\n",
    "    {'tag': 'fault:description',              'subcategory': 'design',     'name': 'False Description'}, # Description and visualization do not add up\n",
    "    {'tag': 'fault:colorconvention',          'subcategory': 'design',     'name': 'Color Convention'}, # Categorical color for continuous variable\n",
    "\n",
    "    # visualizing: graph drawing, responsibility of computer or source data\n",
    "    {'tag': 'fault:encoding',                 'subcategory': 'graph',      'name': 'Plotting Error'}, # Valid encoding choice but incorrectly drawn\n",
    "    {'tag': 'fault:position',                 'subcategory': 'graph',      'name': 'Positioning'}, # Positioning of items, need to rename, sound like responsibility of computer but examples are human responsible\n",
    "    {'tag': 'fault:colorscale',               'subcategory': 'design',     'name': 'Color Scheme'}, # Categorical color for continuous variable\n",
    "    {'tag': 'fault:color:over12',             'subcategory': 'graph',      'name': 'Too Many Colors'}, # Scalability issue\n",
    "    {'tag': 'fault:scale:inconsistent',       'subcategory': 'graph',      'name': 'Inconsistent Scale'},\n",
    "    {'tag': 'fault:scale:inconsistentacross', 'subcategory': 'graph',      'name': 'Inconsistent Scale Across'},\n",
    "    {'tag': 'fault:incorrectportion',         'subcategory': 'graph',      'name': 'Incorrect Portion'},\n",
    "    {'tag': 'fault:scale:log',                'subcategory': 'graph',      'name': 'Log Scale'}, # Incorrect use of log scale\n",
    "    {'tag': 'fault:missinglabel',             'subcategory': 'graph',      'name': 'Missing Item Labels'},\n",
    "    {'tag': 'fault:wronglabel',               'subcategory': 'graph',      'name': 'Incorrect Item Labels'},\n",
    "    {'tag': 'fault:axis:missing',             'subcategory': 'graph',      'name': 'Missing Axis'},\n",
    "    {'tag': 'fault:axis:label',               'subcategory': 'graph',      'name': 'Missing Axis Labels'},\n",
    "    {'tag': 'fault:axis:incorrectlabel',      'subcategory': 'graph',      'name': 'Incorrect Axis Labels'},\n",
    "    {'tag': 'fault:axis:flipped',             'subcategory': 'graph',      'name': 'Flipped Axis'},\n",
    "    {'tag': 'fault:axis:truncated',           'subcategory': 'graph',      'name': 'Truncated Axis'},\n",
    "    {'tag': 'fault:axis:double',              'subcategory': 'graph',      'name': 'Dual Axes'},\n",
    "    {'tag': 'fault:inconsistentaxisinterval', 'subcategory': 'graph',      'name': 'Inconsistent Tick Interval'},\n",
    "    {'tag': 'fault:inconsistentinterval',     'subcategory': 'graph',      'name': 'Inconsistent Time Interval'},\n",
    "    {'tag': 'fault:legend',                   'subcategory': 'graph',      'name': 'Missing Legend'},\n",
    "#     {'tag': 'fault:percentage:encoding',      'subcategory': 'design',     'name': 'percentage:encoding'}, # Plotting error\n",
    "#     {'tag': 'fault:label',                    'subcategory': 'graph',      'name': 'Labels'}, # Review\n",
    "#     {'tag': 'fault:axis',                     'subcategory': 'graph',      'name': 'Axis'}, # Either missing axis labels or missing axis\n",
    "\n",
    "    # reading: reading difficulty\n",
    "    {'tag': 'fault:colormess',                'subcategory': 'visual',     'name': 'Undistinguishable Colors'},\n",
    "    {'tag': 'fault:animation',                'subcategory': 'visual',     'name': 'Animation'}, # Eye beats memory\n",
    "    {'tag': 'fault:legendconfuse',            'subcategory': 'visual',     'name': 'Confusing Legend'},\n",
    "    {'tag': 'fault:labelconfuse',             'subcategory': 'visual',     'name': 'Confusing Label'},\n",
    "    {'tag': 'fault:cluttering',               'subcategory': 'visual',     'name': 'Cluttering'},\n",
    "    {'tag': 'fault:occulusion',               'subcategory': 'visual',     'name': 'Occulusion'},\n",
    "    {'tag': 'fault:chartjunk',                'subcategory': 'visual',     'name': 'Chart Junk'}, # Ornament with negative effect\n",
    "    {'tag': 'fault:legibility',               'subcategory': 'visual',     'name': 'Illegible Text'},\n",
    "#     {'tag': 'fault:unreadable',               'subcategory': 'visual',     'name': 'Incomprehensible'}, # combine with invalid encoding choice\n",
    "    {'tag': 'fault:visuallyawful',            'subcategory': 'visual',     'name': 'Visually Awful'},\n",
    "\n",
    "    # reading: perception distortion\n",
    "    {'tag': 'fault:colorcorrelation',         'subcategory': 'perception', 'name': 'False Color Correlation'},\n",
    "    {'tag': 'fault:3d',                       'subcategory': 'perception', 'name': '3D'},\n",
    "    {'tag': 'fault:area',                     'subcategory': 'perception', 'name': 'Area Encoding'},\n",
    "    {'tag': 'fault:picto:distortion',         'subcategory': 'perception', 'name': 'Area Encoded Pictogram'},\n",
    "#     {'tag': 'fault:picto:area',               'subcategory': 'perception', 'name': 'picto:area'},\n",
    "\n",
    "    # reading: message\n",
    "    {'tag': 'fault:cannotunderstand',         'subcategory': 'logical',    'name': 'Not Understandable'},\n",
    "    {'tag': 'fault:percentage:wholepart',     'subcategory': 'logical',    'name': 'Faulty Whole Part'},\n",
    "    {'tag': 'fault:faultylogic',              'subcategory': 'logical',    'name': 'Faulty Logic'}, # Potentially expandable\n",
    "    {'tag': 'fault:missingcontext',           'subcategory': 'logical',    'name': 'Missing Context'},\n",
    "#     {'tag': 'fault:confirmationbias',         'subcategory': 'logical',    'name': 'Confirmation Bias'}, # relabel\n",
    "    {'tag': 'fault:invalidcomparison',        'subcategory': 'logical',    'name': 'Invalid Comparison'},\n",
    "    {'tag': 'fault:map:population',           'subcategory': 'logical',    'name': 'Population Map'},\n",
    "#     {'tag': 'fault:cannotaddup',              'subcategory': 'logical',    'name': 'Cannot Add Up'}, # relabel\n",
    "#     {'tag': 'fault:index:comparison',         'subcategory': 'logical',    'name': 'index:comparison'}, # combine with invalid comparison\n",
    "\n",
    "    # {'tag': 'fault:parody',                   'subcategory': 'other', 'name': 'parody'}, # move to flag\n",
    "\n",
    "]"
   ]
  },
  {
   "cell_type": "code",
   "execution_count": 17,
   "metadata": {
    "Collapsed": "false"
   },
   "outputs": [],
   "source": [
    "flag_types = [\n",
    "    {'tag': 'flag:needreview', 'name': 'Need Review'},\n",
    "    {'tag': 'flag:invalid',    'name': 'Invalid'},\n",
    "    {'tag': 'flag:notbad',     'name': 'Not Bad'},\n",
    "    {'tag': 'flag:starred',    'name': 'Starred'},\n",
    "    {'tag': 'flag:parody',    'name': 'Parody'},\n",
    "]\n"
   ]
  },
  {
   "cell_type": "code",
   "execution_count": 18,
   "metadata": {
    "Collapsed": "false"
   },
   "outputs": [],
   "source": [
    "descriptions = [\n",
    "    {'tag': 'form:barchart',     'description': 'Data encoded with length. Chart lies when length disproportional to the encoded value.'},\n",
    "    {'tag': 'form:linechart',    'description': 'Can be seen as a scatterplot with connected dots. Most widely used with time series data. Chart lies when the context is hidden, changes being magnified or diminished.'},\n",
    "    {'tag': 'form:scatterplot',  'description': 'Direct encoding of attributes into X and Y axes. Mostly use to find correlation. Chart lies when an agenda of a trend or correlation is imposed.'},\n",
    "    {'tag': 'form:dotplot',      'description': 'Similar to bar charts. Data encoded with number of dots, but compared as length since the dots are aligned. Mostly used for observing distribution.'},\n",
    "    {'tag': 'form:barcodechart', 'description': 'Can be seen as a 1-D scatter plot. Most commonly used to show frequency distribution.'},\n",
    "    {'tag': 'form:areachart',    'description': 'Can be seen as a line chart with color filled area under the curve. Most widely used to convey the accumulated volumn. Chart lies when the area is distorted by truncating the Y-axis.'},\n",
    "    {'tag': 'form:histogram',    'description': 'Similar to bar chart, but breaking down the continuous X-axis into bins in order to observe the distribution. Chart lies when the bin size is uneven or being manipulated.'},\n",
    "    {'tag': 'form:nodelink',     'description': 'Dots are connected to show their relationships. Most common diagram for network data. The X-axis or Y-axis positions of nodes has no meaning.'},\n",
    "    {'tag': 'form:parallelcoor', 'description': 'Multiple Y-axes in one chart, each line is an instance in data and each Y-axis is the attribute values. Most widely used in multi-dimensional data.'},\n",
    "    {'tag': 'form:radarchart',   'description': 'Can be seen as a parallel coordinates plot wrapped in a circle or regular polygon. The area enclosed by the lines conveys the sum of attribute values. Also common in comparison to spot the skyline (see \"skyline problem\").'},\n",
    "    {'tag': 'form:bubblechart',  'description': 'Similar to scatter plot, but with size encoding on each circle. Most common issue is occlusion, also inherits the issues of size encoding.'},\n",
    "    {'tag': 'form:boxplot',      'description': 'A box depicts the statistics summary of the underlying data. The whiskers show the maximum/minimum and box shows 25th quartile, median and 75th quartile.'},\n",
    "    {'tag': 'form:violinplot',   'description': 'Similar to box plot. In addition, the width encodes the density distribution of the underlying data. Skewed distribution can be observed.'},\n",
    "    {'tag': 'data:ordinal',      'description': 'Ordinal values are values that represent the order between items. These values can be used comparatively but not arithmetically, like alphabetical order.'},\n",
    "    {'tag': 'data:timeseries',   'description': 'Time series data concern changes over time, most commonly with a fixed interval. The time values can be absolute (Nov 23, 2012) or relative (Day 0, Day 1, ...).'},\n",
    "    {'tag': 'data:cyclic',       'description': 'Cyclical data are series of data with repeated sequences that can be aligned. Examples are running laps, seasonal and monthly cycle.'}\n",
    "]"
   ]
  },
  {
   "cell_type": "code",
   "execution_count": 19,
   "metadata": {
    "Collapsed": "false"
   },
   "outputs": [],
   "source": [
    "labelOptions = [\n",
    "    {'tag': 'fault', 'name': 'Issues', 'options': fault_types},\n",
    "    {'tag': 'form', 'name': 'Chart Types', 'options': chart_types},\n",
    "    {'tag': 'data', 'name': 'Data Types', 'options': data_types},\n",
    "    {'tag': 'domain', 'name': 'Domains', 'options': domain_types},\n",
    "    {'tag': 'media', 'name': 'Medium', 'options': media_types},\n",
    "    {'tag': 'layout', 'name': 'Layouts', 'options': layout_types},\n",
    "    {'tag': 'effect', 'name': 'Effects', 'options': effect_types},\n",
    "    {'tag': 'flag', 'name': 'Flags', 'options': flag_types},\n",
    "]"
   ]
  },
  {
   "cell_type": "code",
   "execution_count": 20,
   "metadata": {
    "Collapsed": "false"
   },
   "outputs": [],
   "source": [
    "for l in labelOptions:\n",
    "    for o in l['options']:\n",
    "        o['count'] = labelCnts[o['tag']]"
   ]
  },
  {
   "cell_type": "code",
   "execution_count": 21,
   "metadata": {
    "Collapsed": "false"
   },
   "outputs": [],
   "source": [
    "# labelOptions"
   ]
  },
  {
   "cell_type": "markdown",
   "metadata": {
    "Collapsed": "false"
   },
   "source": [
    "# Export Labels"
   ]
  },
  {
   "cell_type": "code",
   "execution_count": 22,
   "metadata": {
    "Collapsed": "false"
   },
   "outputs": [],
   "source": [
    "json.dump(labelOptions, open('tmp/labelOptions.json', 'w'), separators=(',', ':'))"
   ]
  },
  {
   "cell_type": "markdown",
   "metadata": {
    "Collapsed": "false"
   },
   "source": [
    "# Replace Labels"
   ]
  },
  {
   "cell_type": "code",
   "execution_count": 23,
   "metadata": {
    "Collapsed": "false"
   },
   "outputs": [],
   "source": [
    "# # replace labels\n",
    "# current_label = 'effect:understated'\n",
    "# new_label = 'effect:distorted'\n",
    "\n",
    "# for l in vislabels.find():\n",
    "# #     if 'form:barchart' in l['labels'] and 'layout:stacked' in l['labels']:\n",
    "#     if len([l for l in l['labels'] if current_label in l]) > 0:\n",
    "#         ori_length = len(l['labels'])\n",
    "#         print(len(l['labels']), l['_id'], l['image_id'], l['labels'])\n",
    "\n",
    "#         l['labels'] = [l for l in l['labels'] if current_label not in l]\n",
    "#         if new_label not in l['labels']:\n",
    "#             l['labels'].append(new_label)\n",
    "\n",
    "#         new_length = len(l['labels'])\n",
    "#         print(new_length - ori_length, new_label in l['labels'], len(l['labels']), l['labels'])\n",
    "\n",
    "# #         vislabels.update_one({'_id': l['_id']}, {'$set': {'labels': l['labels']}})\n",
    "# #     break"
   ]
  },
  {
   "cell_type": "code",
   "execution_count": null,
   "metadata": {
    "Collapsed": "false"
   },
   "outputs": [],
   "source": []
  }
 ],
 "metadata": {
  "kernelspec": {
   "display_name": "Python 3",
   "language": "python",
   "name": "python3"
  },
  "language_info": {
   "codemirror_mode": {
    "name": "ipython",
    "version": 3
   },
   "file_extension": ".py",
   "mimetype": "text/x-python",
   "name": "python",
   "nbconvert_exporter": "python",
   "pygments_lexer": "ipython3",
   "version": "3.7.6"
  }
 },
 "nbformat": 4,
 "nbformat_minor": 4
}
