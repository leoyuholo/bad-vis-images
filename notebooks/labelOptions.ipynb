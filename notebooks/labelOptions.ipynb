{
 "cells": [
  {
   "cell_type": "code",
   "execution_count": 1,
   "metadata": {
    "Collapsed": "false"
   },
   "outputs": [],
   "source": [
    "import json\n",
    "from pymongo import MongoClient\n",
    "from collections import Counter\n",
    "from pathlib import Path\n",
    "import os\n",
    "import datetime\n",
    "from pydash import omit\n",
    "from bson import json_util"
   ]
  },
  {
   "cell_type": "code",
   "execution_count": 2,
   "metadata": {
    "Collapsed": "false"
   },
   "outputs": [],
   "source": [
    "mongo = MongoClient('172.17.0.1', 27017)\n",
    "db = mongo['bad-vis']\n",
    "vislabels = db['vislabels']"
   ]
  },
  {
   "cell_type": "code",
   "execution_count": 3,
   "metadata": {
    "Collapsed": "false"
   },
   "outputs": [],
   "source": [
    "visLabels = [l for l in vislabels.find()]"
   ]
  },
  {
   "cell_type": "markdown",
   "metadata": {
    "Collapsed": "false"
   },
   "source": [
    "# Backup Labels"
   ]
  },
  {
   "cell_type": "code",
   "execution_count": 4,
   "metadata": {
    "Collapsed": "false"
   },
   "outputs": [],
   "source": [
    "handmade_dir = Path('./handmade')\n",
    "label_dir = handmade_dir/'labels'"
   ]
  },
  {
   "cell_type": "code",
   "execution_count": 5,
   "metadata": {
    "Collapsed": "false"
   },
   "outputs": [],
   "source": [
    "# if os.path.isfile(label_dir/'labels.json'):\n",
    "#     os.rename(label_dir/'labels.json', label_dir/f\"labels_{datetime.datetime.now().strftime('%Y%m%d%H%M%S')}.json\")"
   ]
  },
  {
   "cell_type": "code",
   "execution_count": 6,
   "metadata": {
    "Collapsed": "false"
   },
   "outputs": [],
   "source": [
    "# json.dump([omit(l, '_id') for l in vislabels.find()], open(label_dir/'labels.json', 'w'), default=json_util.default)"
   ]
  },
  {
   "cell_type": "markdown",
   "metadata": {
    "Collapsed": "true"
   },
   "source": [
    "# Label Statistic"
   ]
  },
  {
   "cell_type": "code",
   "execution_count": 7,
   "metadata": {
    "Collapsed": "false"
   },
   "outputs": [],
   "source": [
    "labels = {l for labels in visLabels for l in labels['labels']}\n",
    "labelCnts = Counter([l for labels in visLabels for l in labels['labels']])"
   ]
  },
  {
   "cell_type": "code",
   "execution_count": 8,
   "metadata": {
    "Collapsed": "false"
   },
   "outputs": [],
   "source": [
    "# labels"
   ]
  },
  {
   "cell_type": "code",
   "execution_count": 9,
   "metadata": {
    "Collapsed": "false"
   },
   "outputs": [
    {
     "data": {
      "text/plain": [
       "[('data:categorical', 356),\n",
       " ('data:quantitative', 233),\n",
       " ('data:percentage', 192),\n",
       " ('form:barchart', 147),\n",
       " ('data:timeseries', 102),\n",
       " ('form:linechart', 93),\n",
       " ('form:piechart', 80),\n",
       " ('fault:color', 63),\n",
       " ('data:geospatial', 62),\n",
       " ('fault:percentage:encoding', 61),\n",
       " ('fault:scale:inconsistent', 54),\n",
       " ('media:printed', 51),\n",
       " ('flag:needreview', 50),\n",
       " ('flag:notbad', 48),\n",
       " ('fault:label', 41),\n",
       " ('fault:description', 38),\n",
       " ('form:choropleth', 37),\n",
       " ('form:pictogram', 35),\n",
       " ('form:map', 34),\n",
       " ('fault:legend', 33),\n",
       " ('fault:axis:label', 33),\n",
       " ('fault:3d', 30),\n",
       " ('fault:betteralternative', 27),\n",
       " ('fault:axis:truncated', 26),\n",
       " ('fault:faultylogic', 25),\n",
       " ('form:donutchart', 24),\n",
       " ('data:ordinal', 23),\n",
       " ('fault:data:questionable', 23),\n",
       " ('fault:cluttering', 23),\n",
       " ('layout:juxtaposition', 21),\n",
       " ('fault:percentage:sum', 20),\n",
       " ('data:indexvalue', 20),\n",
       " ('form:table', 20),\n",
       " ('media:tv', 18),\n",
       " ('fault:axis', 17),\n",
       " ('media:infographic', 17),\n",
       " ('form:stackedbarchart', 16),\n",
       " ('fault:visuallyawful', 15),\n",
       " ('flag:parody', 14),\n",
       " ('fault:color:over12', 14),\n",
       " ('form:venn', 14),\n",
       " ('fault:unreadable', 14),\n",
       " ('form:areachart', 13),\n",
       " ('data:set', 13),\n",
       " ('fault:itemorder', 12),\n",
       " ('form:scatterplot', 12),\n",
       " ('form:unknown', 12),\n",
       " ('fault:invalidencoding', 12),\n",
       " ('fault:animation', 11),\n",
       " ('data:network', 11),\n",
       " ('fault:chartjunk', 10),\n",
       " ('flag:invalid', 10),\n",
       " ('fault:faultystatistics', 10),\n",
       " ('fault:axis:double', 10),\n",
       " ('layout:circular', 9),\n",
       " ('fault:scale', 9),\n",
       " ('fault:missingcontext', 9),\n",
       " ('fault:invalidcomparison', 9),\n",
       " ('form:nodelink', 9),\n",
       " ('fault:area', 9),\n",
       " ('fault:axis:flipped', 8),\n",
       " ('form:sankeydiagram', 8),\n",
       " ('fault:data:selective', 7),\n",
       " ('fault:binning', 7),\n",
       " ('fault:occulusion', 7),\n",
       " ('form:heatmap', 6),\n",
       " ('data:flow', 6),\n",
       " ('form:stackedareachart', 6),\n",
       " ('form:bubblechart', 6),\n",
       " ('fault:legibility', 6),\n",
       " ('form:quadrant', 6),\n",
       " ('fault:position', 5),\n",
       " ('fault:picto:area', 5),\n",
       " ('data:cyclic', 5),\n",
       " ('fault:encoding', 5),\n",
       " ('data:ranking', 5),\n",
       " ('media:inreallife', 4),\n",
       " ('fault:picto:distortion', 4),\n",
       " ('fault:index:comparison', 4),\n",
       " ('fault:confirmationbias', 4),\n",
       " ('form:treemap', 4),\n",
       " ('fault:map:population', 4),\n",
       " ('form:parallelcoor', 4),\n",
       " ('fault:percentage:wholepart', 4),\n",
       " ('media:handdrawn', 3),\n",
       " ('media:ads', 3),\n",
       " ('data:sequential', 3),\n",
       " ('media:news', 3),\n",
       " ('layout:overlay', 3),\n",
       " ('data:accumulated', 3),\n",
       " ('form:guagechart', 3),\n",
       " ('layout:clock', 3),\n",
       " ('data:tree', 3),\n",
       " ('media:NSFW', 3),\n",
       " ('data:bitmap', 2),\n",
       " ('form:dotplot', 2),\n",
       " ('data:probability', 2),\n",
       " ('fault:data:missingvalues', 2),\n",
       " ('form:sunbrust', 2),\n",
       " ('data:text', 2),\n",
       " ('form:barcodechart', 2),\n",
       " ('layout:mixed', 2),\n",
       " ('fault:connection', 2),\n",
       " ('form:dumbbellplot', 2),\n",
       " ('form:boxplot', 2),\n",
       " ('fault:data', 2),\n",
       " ('form:radarchart', 2),\n",
       " ('flag:starred', 2),\n",
       " ('layout:periodictable', 2),\n",
       " ('form:flowmap', 1),\n",
       " ('form:histogram', 1),\n",
       " ('form:chorddiagram', 1),\n",
       " ('fault:data:redundant', 1),\n",
       " ('data:multivariate', 1),\n",
       " ('form:streamgraph', 1),\n",
       " ('form:chernoffface', 1),\n",
       " ('layout:gear', 1),\n",
       " ('fault:axis:missing', 1),\n",
       " ('form:pyramid', 1),\n",
       " ('fault:data:prediction', 1),\n",
       " ('fault:cannotaddup', 1),\n",
       " ('form:voronoi', 1)]"
      ]
     },
     "execution_count": 9,
     "metadata": {},
     "output_type": "execute_result"
    }
   ],
   "source": [
    "labelCnts.most_common()"
   ]
  },
  {
   "cell_type": "markdown",
   "metadata": {
    "Collapsed": "false"
   },
   "source": [
    "# Labels"
   ]
  },
  {
   "cell_type": "code",
   "execution_count": 10,
   "metadata": {
    "Collapsed": "false"
   },
   "outputs": [],
   "source": [
    "chart_types = [\n",
    "    {'tag': 'form:barchart',         'subcategory': 'bar',    'name': 'Bar Chart'},\n",
    "    {'tag': 'form:stackedbarchart',  'subcategory': 'bar',    'name': 'Stacked Bar Chart'},\n",
    "    {'tag': 'form:dotplot',          'subcategory': 'bar',    'name': 'Dot Plot'},\n",
    "    {'tag': 'form:histogram',        'subcategory': 'bar',    'name': 'Histogram'},\n",
    "    {'tag': 'form:barcodechart',     'subcategory': 'bar',    'name': 'Barcode Chart'},\n",
    "\n",
    "    {'tag': 'form:linechart',        'subcategory': 'line',   'name': 'Line Chart'},\n",
    "    {'tag': 'form:nodelink',         'subcategory': 'line',   'name': 'Node-Link Diagram'},\n",
    "    {'tag': 'form:parallelcoor',     'subcategory': 'line',   'name': 'Parallel Coordinates'},\n",
    "    {'tag': 'form:radarchart',       'subcategory': 'line',   'name': 'Radar Chart'},\n",
    "    {'tag': 'form:sankeydiagram',    'subcategory': 'line',   'name': 'Sankey Diagram'},\n",
    "    {'tag': 'form:boxplot',          'subcategory': 'line',   'name': 'Box Plot'},\n",
    "    {'tag': 'form:violinplot',       'subcategory': 'line',   'name': 'Violin Plot'},\n",
    "\n",
    "    {'tag': 'form:scatterplot',      'subcategory': 'dot',    'name': 'Scatter Plot'},\n",
    "    {'tag': 'form:dumbbellplot',     'subcategory': 'dot',    'name': 'Dumbbell Plot'},\n",
    "\n",
    "    {'tag': 'form:bubblechart',      'subcategory': 'circle', 'name': 'Bubble Chart'},\n",
    "    {'tag': 'form:piechart',         'subcategory': 'circle', 'name': 'Pie Chart'},\n",
    "    {'tag': 'form:donutchart',       'subcategory': 'circle', 'name': 'Donut Chart'},\n",
    "    {'tag': 'form:guagechart',       'subcategory': 'circle', 'name': 'Guage Chart'},\n",
    "    {'tag': 'form:sunbrust',         'subcategory': 'circle', 'name': 'Sunbrust Diagram'},\n",
    "    {'tag': 'form:venn',             'subcategory': 'circle', 'name': 'Venn Diagram'},\n",
    "\n",
    "    {'tag': 'form:areachart',        'subcategory': 'area',   'name': 'Area Chart'},\n",
    "    {'tag': 'form:stackedareachart', 'subcategory': 'area',   'name': 'Stacked Area Chart'},\n",
    "    {'tag': 'form:streamgraph',      'subcategory': 'area',   'name': 'Stream Graph'},\n",
    "    {'tag': 'form:treemap',          'subcategory': 'area',   'name': 'Treemap'},\n",
    "    {'tag': 'form:voronoi',          'subcategory': 'area',   'name': 'Voronoi Diagram'},\n",
    "    {'tag': 'form:pyramid',          'subcategory': 'area',   'name': 'Pyramid'},\n",
    "\n",
    "    {'tag': 'form:choropleth',       'subcategory': 'map',    'name': 'Choropleth'},\n",
    "    {'tag': 'form:flowmap',          'subcategory': 'map',    'name': 'Flow Map'},\n",
    "    {'tag': 'form:map',              'subcategory': 'map',    'name': 'Map'},\n",
    "\n",
    "    {'tag': 'form:table',            'subcategory': 'table',  'name': 'Table'},\n",
    "    {'tag': 'form:heatmap',          'subcategory': 'table',  'name': 'Heatmap'},\n",
    "    {'tag': 'form:quadrant',         'subcategory': 'table',  'name': 'Quadrant'},\n",
    "\n",
    "    {'tag': 'form:pictogram',        'subcategory': 'icon',   'name': 'Pictogram'},\n",
    "    {'tag': 'form:chernoffface',     'subcategory': 'icon',   'name': 'Chernoff Face'},\n",
    "\n",
    "    {'tag': 'form:unknown',          'subcategory': 'other',  'name': 'Unclassified'},\n",
    "]\n"
   ]
  },
  {
   "cell_type": "code",
   "execution_count": 11,
   "metadata": {
    "Collapsed": "false"
   },
   "outputs": [],
   "source": [
    "data_types = [\n",
    "    # attribute level means you can tell its type by a single column\n",
    "    {'tag': 'data:categorical',  'subcategory': 'attribute', 'name': 'Categorical'},\n",
    "    {'tag': 'data:quantitative', 'subcategory': 'attribute', 'name': 'Quantitative'},\n",
    "    {'tag': 'data:sequential',   'subcategory': 'attribute', 'name': 'Sequential'},\n",
    "    {'tag': 'data:sequential',   'subcategory': 'attribute', 'name': 'Diverging'},\n",
    "    {'tag': 'data:ordinal',      'subcategory': 'attribute', 'name': 'Ordinal'},\n",
    "    {'tag': 'data:ranking',      'subcategory': 'attribute', 'name': 'Ranked'},\n",
    "\n",
    "    # entity level means you can tell its type by a single record\n",
    "    {'tag': 'data:multivariate', 'subcategory': 'entity',    'name': 'Multivariate'},\n",
    "\n",
    "    # time related\n",
    "    {'tag': 'data:timeseries',   'subcategory': 'time',      'name': 'Time Series'},\n",
    "    {'tag': 'data:cyclic',       'subcategory': 'time',      'name': 'Cyclic'},\n",
    "\n",
    "    # coordinated, spatial meaning for x, y, or z\n",
    "    {'tag': 'data:geospatial',   'subcategory': 'position',  'name': 'Geospatial'},\n",
    "    {'tag': 'data:flow',         'subcategory': 'position',  'name': 'Flow'},\n",
    "    {'tag': 'data:bitmap',       'subcategory': 'position',  'name': 'Bitmap'},\n",
    "\n",
    "    # records are inter-linked, set type is containment relationship\n",
    "    {'tag': 'data:network',      'subcategory': 'relation',  'name': 'Network'},\n",
    "    {'tag': 'data:tree',         'subcategory': 'relation',  'name': 'Tree'},\n",
    "    {'tag': 'data:set',          'subcategory': 'relation',  'name': 'Set'},\n",
    "\n",
    "    # long string\n",
    "    {'tag': 'data:text',         'subcategory': 'text',      'name': 'Text'},\n",
    "\n",
    "    # derived attributes\n",
    "    {'tag': 'data:indexvalue',   'subcategory': 'derived',   'name': 'Index Value'},\n",
    "    {'tag': 'data:accumulated',  'subcategory': 'derived',   'name': 'Accumulated'},\n",
    "    {'tag': 'data:percentage',   'subcategory': 'derived',   'name': 'Percentage'},\n",
    "    {'tag': 'data:probability',  'subcategory': 'derived',   'name': 'Probability'},\n",
    "]\n"
   ]
  },
  {
   "cell_type": "code",
   "execution_count": 12,
   "metadata": {
    "Collapsed": "false"
   },
   "outputs": [],
   "source": [
    "layout_types = [\n",
    "    {'tag': 'layout:circular',      'name': 'Circular'},\n",
    "    {'tag': 'layout:juxtaposition', 'name': 'Juxtaposition'},\n",
    "    {'tag': 'layout:overlay',       'name': 'Overlay'},\n",
    "    {'tag': 'layout:mixed',         'name': 'Multiple-views'},\n",
    "    {'tag': 'layout:gear',          'name': 'Gear'},\n",
    "    {'tag': 'layout:periodictable', 'name': 'Periodictable'},\n",
    "    {'tag': 'layout:clock',         'name': 'Clock'},\n",
    "\n",
    "    # {'tag': 'layout:infographics',    'name': 'Infographics'}, # move to media\n",
    "    # {'tag': 'layout:stacked',         'name': 'Stacked'}, # stakced area chart, stacked bar chart\n",
    "    # {'tag': 'layout:map',             'name': 'Map'},\n",
    "]\n"
   ]
  },
  {
   "cell_type": "code",
   "execution_count": 13,
   "metadata": {
    "Collapsed": "false"
   },
   "outputs": [],
   "source": [
    "media_types = [\n",
    "    {'tag': 'media:inreallife',  'name': 'Inreallife'},\n",
    "    {'tag': 'media:printed',     'name': 'Printed'},\n",
    "    {'tag': 'media:handdrawn',   'name': 'Handdrawn'},\n",
    "    {'tag': 'media:tv',          'name': 'Tv'},\n",
    "    {'tag': 'media:ads',         'name': 'Ads'},\n",
    "    {'tag': 'media:news',        'name': 'News'},\n",
    "    {'tag': 'media:NSFW',        'name': 'Nsfw'}, # Not safe for work\n",
    "    # the thin line between infographics and multiple-views is whether the picture is message bearing, multiple-views is for analytical purpose like dashboard\n",
    "    {'tag': 'media:infographic', 'name': 'Infographic'}\n",
    "]"
   ]
  },
  {
   "cell_type": "code",
   "execution_count": 14,
   "metadata": {
    "Collapsed": "false"
   },
   "outputs": [],
   "source": [
    "effect_types = [\n",
    "    {'tag': 'effect:reversed',    'name': 'Reversed'},\n",
    "    {'tag': 'effect:exaggerated', 'name': 'Exaggerated'},\n",
    "    {'tag': 'effect:understated', 'name': 'Understated'},\n",
    "]"
   ]
  },
  {
   "cell_type": "code",
   "execution_count": 15,
   "metadata": {
    "Collapsed": "false"
   },
   "outputs": [],
   "source": [
    "fault_types = [\n",
    "    # data curation\n",
    "    {'tag': 'fault:data',                 'subcategory': 'data',       'name': 'data'},\n",
    "    {'tag': 'fault:data:selective',       'subcategory': 'data',       'name': 'data:selective'},\n",
    "    {'tag': 'fault:data:questionable',    'subcategory': 'data',       'name': 'data:questionable'},\n",
    "    {'tag': 'fault:data:missingvalues',   'subcategory': 'data',       'name': 'data:missingvalues'},\n",
    "    {'tag': 'fault:data:redundant',       'subcategory': 'data',       'name': 'data:redundant'},\n",
    "\n",
    "    # data wrangling\n",
    "    {'tag': 'fault:data:prediction',      'subcategory': 'derive',     'name': 'data:prediction'},\n",
    "    {'tag': 'fault:faultystatistics',     'subcategory': 'derive',     'name': 'faultystatistics'},\n",
    "    {'tag': 'fault:percentage',           'subcategory': 'derive',     'name': 'percentage'},\n",
    "    {'tag': 'fault:percentage:sum',       'subcategory': 'derive',     'name': 'percentage:sum'},\n",
    "    {'tag': 'fault:percentage:wholepart', 'subcategory': 'derive',     'name': 'percentage:wholepart'},\n",
    "    {'tag': 'fault:binning',              'subcategory': 'derive',     'name': 'binning'},\n",
    "\n",
    "    # visual encoding choice\n",
    "    {'tag': 'fault:itemorder',            'subcategory': 'design',     'name': 'itemorder'},\n",
    "    {'tag': 'fault:scale',                'subcategory': 'design',     'name': 'scale'},\n",
    "    {'tag': 'fault:scale:log',            'subcategory': 'design',     'name': 'scale:log'},\n",
    "    {'tag': 'fault:scale:inconsistent',   'subcategory': 'design',     'name': 'scale:inconsistent'},\n",
    "    {'tag': 'fault:betteralternative',    'subcategory': 'design',     'name': 'betteralternative'},\n",
    "    {'tag': 'fault:invalidencoding',      'subcategory': 'design',     'name': 'invalidencoding'},\n",
    "    {'tag': 'fault:encoding',             'subcategory': 'design',     'name': 'encoding'},\n",
    "    {'tag': 'fault:axis:flipped',         'subcategory': 'design',     'name': 'axis:flipped'},\n",
    "    {'tag': 'fault:axis:truncated',       'subcategory': 'design',     'name': 'axis:truncated'},\n",
    "    {'tag': 'fault:axis:double',          'subcategory': 'design',     'name': 'axis:double'},\n",
    "    {'tag': 'fault:3d',                   'subcategory': 'design',     'name': '3d'},\n",
    "    {'tag': 'fault:animation',            'subcategory': 'design',     'name': 'animation'},\n",
    "    {'tag': 'fault:connection',           'subcategory': 'design',     'name': 'connection'},\n",
    "    {'tag': 'fault:color:over12',         'subcategory': 'design',     'name': 'color:over12'},\n",
    "    {'tag': 'fault:percentage:encoding',  'subcategory': 'design',     'name': 'percentage:encoding'},\n",
    "\n",
    "    # graph drawing\n",
    "    {'tag': 'fault:position',             'subcategory': 'graph',      'name': 'position'},\n",
    "    {'tag': 'fault:label',                'subcategory': 'graph',      'name': 'label'},\n",
    "    {'tag': 'fault:description',          'subcategory': 'graph',      'name': 'description'},\n",
    "    {'tag': 'fault:axis',                 'subcategory': 'graph',      'name': 'axis'},\n",
    "    {'tag': 'fault:axis:label',           'subcategory': 'graph',      'name': 'axis:label'},\n",
    "    {'tag': 'fault:axis:missing',         'subcategory': 'graph',      'name': 'axis:missing'},\n",
    "    {'tag': 'fault:legend',               'subcategory': 'graph',      'name': 'legend'},\n",
    "    {'tag': 'fault:color',                'subcategory': 'graph',      'name': 'color'},\n",
    "\n",
    "    # reading difficulty\n",
    "    {'tag': 'fault:cluttering',           'subcategory': 'visual',     'name': 'cluttering'},\n",
    "    {'tag': 'fault:occulusion',           'subcategory': 'visual',     'name': 'occulusion'},\n",
    "    {'tag': 'fault:chartjunk',            'subcategory': 'visual',     'name': 'chartjunk'},\n",
    "    {'tag': 'fault:legibility',           'subcategory': 'visual',     'name': 'legibility'},\n",
    "    {'tag': 'fault:unreadable',           'subcategory': 'visual',     'name': 'unreadable'},\n",
    "    {'tag': 'fault:visuallyawful',        'subcategory': 'visual',     'name': 'visuallyawful'},\n",
    "\n",
    "    # perception distortion\n",
    "    {'tag': 'fault:area',                 'subcategory': 'perception', 'name': 'area'},\n",
    "    {'tag': 'fault:picto:distortion',     'subcategory': 'perception', 'name': 'picto:distortion'},\n",
    "    {'tag': 'fault:picto:area',           'subcategory': 'perception', 'name': 'picto:area'},\n",
    "\n",
    "    # message\n",
    "    {'tag': 'fault:faultylogic',          'subcategory': 'logical',    'name': 'faultylogic'},\n",
    "    {'tag': 'fault:missingcontext',       'subcategory': 'logical',    'name': 'missingcontext'},\n",
    "    {'tag': 'fault:confirmationbias',     'subcategory': 'logical',    'name': 'confirmationbias'},\n",
    "    {'tag': 'fault:invalidcomparison',    'subcategory': 'logical',    'name': 'invalidcomparison'},\n",
    "    {'tag': 'fault:map:population',       'subcategory': 'logical',    'name': 'map:population'},\n",
    "    {'tag': 'fault:cannotaddup',          'subcategory': 'logical',    'name': 'cannotaddup'},\n",
    "    {'tag': 'fault:index:comparison',     'subcategory': 'logical',    'name': 'index:comparison'},\n",
    "\n",
    "    # {'tag': 'fault:parody',               'subcategory': 'other', 'name': 'parody'}, # move to flag\n",
    "\n",
    "]"
   ]
  },
  {
   "cell_type": "code",
   "execution_count": 16,
   "metadata": {
    "Collapsed": "false"
   },
   "outputs": [],
   "source": [
    "flag_types = [\n",
    "    {'tag': 'flag:needreview', 'name': 'Need Review'},\n",
    "    {'tag': 'flag:invalid',    'name': 'Invalid'},\n",
    "    {'tag': 'flag:notbad',     'name': 'Not Bad'},\n",
    "    {'tag': 'flag:starred',    'name': 'Starred'},\n",
    "    {'tag': 'flag:parody',    'name': 'Parody'},\n",
    "]\n"
   ]
  },
  {
   "cell_type": "code",
   "execution_count": 17,
   "metadata": {
    "Collapsed": "false"
   },
   "outputs": [],
   "source": [
    "descriptions = [\n",
    "    {'tag': 'form:barchart',     'description': 'Data encoded with length. Chart lies when length disproportional to the encoded value.'},\n",
    "    {'tag': 'form:linechart',    'description': 'Can be seen as a scatterplot with connected dots. Most widely used with time series data. Chart lies when the context is hidden, changes being magnified or diminished.'},\n",
    "    {'tag': 'form:scatterplot',  'description': 'Direct encoding of attributes into X and Y axes. Mostly use to find correlation. Chart lies when an agenda of a trend or correlation is imposed.'},\n",
    "    {'tag': 'form:dotplot',      'description': 'Similar to bar charts. Data encoded with number of dots, but compared as length since the dots are aligned. Mostly used for observing distribution.'},\n",
    "    {'tag': 'form:barcodechart', 'description': 'Can be seen as a 1-D scatter plot. Most commonly used to show frequency distribution.'},\n",
    "    {'tag': 'form:areachart',    'description': 'Can be seen as a line chart with color filled area under the curve. Most widely used to convey the accumulated volumn. Chart lies when the area is distorted by truncating the Y-axis.'},\n",
    "    {'tag': 'form:histogram',    'description': 'Similar to bar chart, but breaking down the continuous X-axis into bins in order to observe the distribution. Chart lies when the bin size is uneven or being manipulated.'},\n",
    "    {'tag': 'form:nodelink',     'description': 'Dots are connected to show their relationships. Most common diagram for network data. The X-axis or Y-axis positions of nodes has no meaning.'},\n",
    "    {'tag': 'form:parallelcoor', 'description': 'Multiple Y-axes in one chart, each line is an instance in data and each Y-axis is the attribute values. Most widely used in multi-dimensional data.'},\n",
    "    {'tag': 'form:radarchart',   'description': 'Can be seen as a parallel coordinates plot wrapped in a circle or regular polygon. The area enclosed by the lines conveys the sum of attribute values. Also common in comparison to spot the skyline (see \"skyline problem\").'},\n",
    "    {'tag': 'form:bubblechart',  'description': 'Similar to scatter plot, but with size encoding on each circle. Most common issue is occlusion, also inherits the issues of size encoding.'},\n",
    "    {'tag': 'form:boxplot',      'description': 'A box depicts the statistics summary of the underlying data. The whiskers show the maximum/minimum and box shows 25th quartile, median and 75th quartile.'},\n",
    "    {'tag': 'form:violinplot',   'description': 'Similar to box plot. In addition, the width encodes the density distribution of the underlying data. Skewed distribution can be observed.'},\n",
    "    {'tag': 'data:ordinal',      'description': 'Ordinal values are values that represent the order between items. These values can be used comparatively but not arithmetically, like alphabetical order.'},\n",
    "    {'tag': 'data:timeseries',   'description': 'Time series data concern changes over time, most commonly with a fixed interval. The time values can be absolute (Nov 23, 2012) or relative (Day 0, Day 1, ...).'},\n",
    "    {'tag': 'data:cyclic',       'description': 'Cyclical data are series of data with repeated sequences that can be aligned. Examples are running laps, seasonal and monthly cycle.'}\n",
    "]"
   ]
  },
  {
   "cell_type": "code",
   "execution_count": 18,
   "metadata": {
    "Collapsed": "false"
   },
   "outputs": [],
   "source": [
    "labelOptions = [\n",
    "    {'tag': 'fault', 'name': 'Issues', 'options': fault_types},\n",
    "    {'tag': 'form', 'name': 'Chart Types', 'options': chart_types},\n",
    "    {'tag': 'data', 'name': 'Data Types', 'options': data_types},\n",
    "    {'tag': 'media', 'name': 'Medium', 'options': media_types},\n",
    "    {'tag': 'layout', 'name': 'Layouts', 'options': layout_types},\n",
    "    {'tag': 'effect', 'name': 'Effects', 'options': effect_types},\n",
    "    {'tag': 'flag', 'name': 'Flags', 'options': flag_types},\n",
    "]"
   ]
  },
  {
   "cell_type": "code",
   "execution_count": 19,
   "metadata": {
    "Collapsed": "false"
   },
   "outputs": [],
   "source": [
    "for l in labelOptions:\n",
    "    for o in l['options']:\n",
    "        o['count'] = labelCnts[o['tag']]"
   ]
  },
  {
   "cell_type": "code",
   "execution_count": 20,
   "metadata": {
    "Collapsed": "false"
   },
   "outputs": [],
   "source": [
    "# labelOptions"
   ]
  },
  {
   "cell_type": "markdown",
   "metadata": {
    "Collapsed": "false"
   },
   "source": [
    "# Export Labels"
   ]
  },
  {
   "cell_type": "code",
   "execution_count": 21,
   "metadata": {
    "Collapsed": "false"
   },
   "outputs": [],
   "source": [
    "json.dump(labelOptions, open('tmp/labelOptions.json', 'w'), separators=(',', ':'))"
   ]
  },
  {
   "cell_type": "markdown",
   "metadata": {
    "Collapsed": "false"
   },
   "source": [
    "# Replace Labels"
   ]
  },
  {
   "cell_type": "code",
   "execution_count": 22,
   "metadata": {
    "Collapsed": "false"
   },
   "outputs": [],
   "source": [
    "# # replace labels\n",
    "# current_label = 'metaphor:clock'\n",
    "# new_label = 'layout:clock'\n",
    "\n",
    "# for l in vislabels.find():\n",
    "# #     if 'form:barchart' in l['labels'] and 'layout:stacked' in l['labels']:\n",
    "#     if len([l for l in l['labels'] if current_label in l]) > 0:\n",
    "#         ori_length = len(l['labels'])\n",
    "#         print(len(l['labels']), l['_id'], l['image_id'], l['labels'])\n",
    "\n",
    "#         l['labels'] = [l for l in l['labels'] if current_label not in l]\n",
    "#         if new_label not in l['labels']:\n",
    "#             l['labels'].append(new_label)\n",
    "\n",
    "#         new_length = len(l['labels'])\n",
    "#         print(new_length - ori_length, new_label in l['labels'], len(l['labels']), l['labels'])\n",
    "\n",
    "# #         vislabels.update_one({'_id': l['_id']}, {'$set': {'labels': l['labels']}})\n",
    "# #     break"
   ]
  },
  {
   "cell_type": "code",
   "execution_count": null,
   "metadata": {
    "Collapsed": "false"
   },
   "outputs": [],
   "source": []
  }
 ],
 "metadata": {
  "kernelspec": {
   "display_name": "Python 3",
   "language": "python",
   "name": "python3"
  },
  "language_info": {
   "codemirror_mode": {
    "name": "ipython",
    "version": 3
   },
   "file_extension": ".py",
   "mimetype": "text/x-python",
   "name": "python",
   "nbconvert_exporter": "python",
   "pygments_lexer": "ipython3",
   "version": "3.7.6"
  }
 },
 "nbformat": 4,
 "nbformat_minor": 4
}
