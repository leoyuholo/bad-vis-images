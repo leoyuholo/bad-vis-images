{
 "cells": [
  {
   "cell_type": "code",
   "execution_count": 1,
   "metadata": {},
   "outputs": [],
   "source": [
    "# import json\n",
    "from pymongo import MongoClient\n",
    "from collections import Counter\n",
    "from pathlib import Path\n",
    "import os\n",
    "import datetime\n",
    "from pydash import omit\n",
    "from bson import json_util\n",
    "\n",
    "from IPython.display import JSON"
   ]
  },
  {
   "cell_type": "code",
   "execution_count": 2,
   "metadata": {},
   "outputs": [],
   "source": [
    "mongo = MongoClient('172.17.0.1', 27017)\n",
    "db = mongo['bad-vis']\n",
    "vislabels = db['vislabels']"
   ]
  },
  {
   "cell_type": "code",
   "execution_count": 3,
   "metadata": {},
   "outputs": [],
   "source": [
    "visLabels = [l for l in vislabels.find()]"
   ]
  },
  {
   "cell_type": "markdown",
   "metadata": {},
   "source": [
    "# Backup Labels"
   ]
  },
  {
   "cell_type": "code",
   "execution_count": 4,
   "metadata": {},
   "outputs": [],
   "source": [
    "handmade_dir = Path('./handmade')\n",
    "label_dir = handmade_dir/'labels'"
   ]
  },
  {
   "cell_type": "code",
   "execution_count": 5,
   "metadata": {},
   "outputs": [],
   "source": [
    "# if os.path.isfile(label_dir/'labels.json'):\n",
    "#     os.rename(label_dir/'labels.json', label_dir/f\"labels_{datetime.datetime.now().strftime('%Y%m%d%H%M%S')}.json\")"
   ]
  },
  {
   "cell_type": "code",
   "execution_count": 6,
   "metadata": {},
   "outputs": [],
   "source": [
    "# json.dump([omit(l, '_id') for l in vislabels.find()], open(label_dir/'labels.json', 'w'), default=json_util.default)"
   ]
  },
  {
   "cell_type": "markdown",
   "metadata": {},
   "source": [
    "# Label Statistic"
   ]
  },
  {
   "cell_type": "code",
   "execution_count": 7,
   "metadata": {},
   "outputs": [],
   "source": [
    "labels = {l for labels in visLabels for l in labels['labels']}\n",
    "labelCnts = Counter([l for labels in visLabels for l in labels['labels']])"
   ]
  },
  {
   "cell_type": "code",
   "execution_count": 8,
   "metadata": {},
   "outputs": [],
   "source": [
    "# labels"
   ]
  },
  {
   "cell_type": "code",
   "execution_count": 9,
   "metadata": {},
   "outputs": [
    {
     "data": {
      "text/plain": [
       "[('data:categorical', 630),\n",
       " ('effect:confuesed', 467),\n",
       " ('effect:distorted', 427),\n",
       " ('data:quantitative', 402),\n",
       " ('data:percentage', 355),\n",
       " ('form:barchart', 249),\n",
       " ('data:timeseries', 211),\n",
       " ('form:linechart', 164),\n",
       " ('fault:scale:inconsistent', 160),\n",
       " ('domain:public', 154),\n",
       " ('form:piechart', 146),\n",
       " ('domain:health', 128),\n",
       " ('data:geospatial', 116),\n",
       " ('domain:politics', 116),\n",
       " ('domain:entertainment', 92),\n",
       " ('domain:business', 86),\n",
       " ('media:printed', 84),\n",
       " ('form:choropleth', 78),\n",
       " ('domain:international', 78),\n",
       " ('flag:notbad', 67),\n",
       " ('fault:colormess', 67),\n",
       " ('domain:computer', 67),\n",
       " ('fault:3d', 63),\n",
       " ('fault:axis:truncated', 63),\n",
       " ('fault:betteralternative', 63),\n",
       " ('form:pictogram', 60),\n",
       " ('media:tv', 59),\n",
       " ('flag:needreview', 59),\n",
       " ('layout:juxtaposition', 58),\n",
       " ('domain:environment', 56),\n",
       " ('domain:personal', 49),\n",
       " ('domain:education', 49),\n",
       " ('form:map', 46),\n",
       " ('domain:sports', 46),\n",
       " ('form:donutchart', 45),\n",
       " ('data:sequential', 42),\n",
       " ('fault:axis:missing', 40),\n",
       " ('fault:percentage:sum', 40),\n",
       " ('fault:cluttering', 40),\n",
       " ('form:unknown', 38),\n",
       " ('form:table', 37),\n",
       " ('fault:axis:label', 36),\n",
       " ('fault:color:over12', 36),\n",
       " ('fault:legend', 34),\n",
       " ('data:ordinal', 34),\n",
       " ('domain:unknown', 34),\n",
       " ('domain:catering', 32),\n",
       " ('fault:colorscale', 32),\n",
       " ('fault:legendconfuse', 32),\n",
       " ('fault:axis:incorrectlabel', 31),\n",
       " ('form:stackedbarchart', 30),\n",
       " ('fault:cannotunderstand', 29),\n",
       " ('data:indexvalue', 28),\n",
       " ('form:areachart', 27),\n",
       " ('fault:wronglabel', 26),\n",
       " ('fault:faultystatistics', 26),\n",
       " ('domain:scientific', 25),\n",
       " ('fault:area', 24),\n",
       " ('media:infographic', 23),\n",
       " ('fault:legibility', 23),\n",
       " ('fault:missinglabel', 22),\n",
       " ('fault:itemorder', 22),\n",
       " ('data:network', 22),\n",
       " ('fault:data:questionable', 21),\n",
       " ('fault:nonsequitur', 21),\n",
       " ('form:scatterplot', 21),\n",
       " ('fault:description', 20),\n",
       " ('fault:axis:double', 19),\n",
       " ('form:nodelink', 19),\n",
       " ('fault:axis:flipped', 18),\n",
       " ('data:set', 18),\n",
       " ('form:venn', 18),\n",
       " ('effect:suggestive', 18),\n",
       " ('fault:binning', 17),\n",
       " ('fault:inconsistentinterval', 17),\n",
       " ('media:ads', 16),\n",
       " ('fault:scale:inconsistentacross', 16),\n",
       " ('media:news', 15),\n",
       " ('media:google', 15),\n",
       " ('fault:animation', 14),\n",
       " ('flag:parody', 14),\n",
       " ('fault:picto:distortion', 14),\n",
       " ('layout:mixed', 14),\n",
       " ('fault:occulusion', 14),\n",
       " ('fault:visuallyawful', 14),\n",
       " ('data:diverging', 13),\n",
       " ('fault:chartjunk', 13),\n",
       " ('layout:circular', 13),\n",
       " ('flag:invalid', 13),\n",
       " ('fault:scale', 12),\n",
       " ('fault:invalidcomparison', 12),\n",
       " ('fault:encoding', 12),\n",
       " ('form:sankeydiagram', 12),\n",
       " ('form:stackedareachart', 12),\n",
       " ('fault:percentage:wholepart', 11),\n",
       " ('fault:labelconfuse', 11),\n",
       " ('fault:colorconvention', 11),\n",
       " ('data:ranking', 11),\n",
       " ('effect:reversed', 10),\n",
       " ('fault:position', 10),\n",
       " ('media:handdrawn', 10),\n",
       " ('form:connectedscatterplot', 10),\n",
       " ('fault:faultylogic', 10),\n",
       " ('form:bubblechart', 10),\n",
       " ('fault:data:hypothetical', 10),\n",
       " ('form:heatmap', 9),\n",
       " ('data:multivariate', 9),\n",
       " ('fault:data:selective', 8),\n",
       " ('layout:overlay', 8),\n",
       " ('fault:data:missingvalues', 8),\n",
       " ('fault:connection', 8),\n",
       " ('media:NSFW', 8),\n",
       " ('fault:missingcontext', 7),\n",
       " ('form:pyramid', 7),\n",
       " ('fault:data:prediction', 6),\n",
       " ('data:cyclic', 6),\n",
       " ('form:quadrant', 6),\n",
       " ('fault:colorcorrelation', 6),\n",
       " ('form:polararea', 6),\n",
       " ('fault:mapprojection', 5),\n",
       " ('data:probability', 5),\n",
       " ('data:positional', 5),\n",
       " ('form:parallelcoor', 5),\n",
       " ('fault:inconsistentaxisinterval', 5),\n",
       " ('fault:annotation', 5),\n",
       " ('media:inreallife', 4),\n",
       " ('data:bitmap', 4),\n",
       " ('data:accumulated', 4),\n",
       " ('form:treemap', 4),\n",
       " ('layout:clock', 4),\n",
       " ('form:nestedbubble', 4),\n",
       " ('form:histogram', 4),\n",
       " ('data:tree', 4),\n",
       " ('data:text', 4),\n",
       " ('form:boxplot', 4),\n",
       " ('form:voronoi', 4),\n",
       " ('flag:starred', 4),\n",
       " ('form:progressbar', 4),\n",
       " ('form:dotplot', 3),\n",
       " ('form:guagechart', 3),\n",
       " ('form:chernoffface', 3),\n",
       " ('fault:scale:log', 3),\n",
       " ('fault:map:population', 3),\n",
       " ('form:polargraph', 3),\n",
       " ('data:flow', 2),\n",
       " ('form:flowmap', 2),\n",
       " ('form:barcodechart', 2),\n",
       " ('form:dumbbellplot', 2),\n",
       " ('fault:data:redundant', 2),\n",
       " ('layout:periodictable', 2),\n",
       " ('fault:spuriousocorrelation', 2),\n",
       " ('form:violinplot', 1),\n",
       " ('layout:calendar', 1),\n",
       " ('form:chord', 1),\n",
       " ('form:sunbrust', 1),\n",
       " ('form:radarchart', 1),\n",
       " ('fault:baselinealignment', 1),\n",
       " ('form:streamgraph', 1),\n",
       " ('form:timeline', 1),\n",
       " ('flag:duplicated', 1)]"
      ]
     },
     "execution_count": 9,
     "metadata": {},
     "output_type": "execute_result"
    }
   ],
   "source": [
    "labelCnts.most_common()"
   ]
  },
  {
   "cell_type": "markdown",
   "metadata": {},
   "source": [
    "# Labels"
   ]
  },
  {
   "cell_type": "code",
   "execution_count": 10,
   "metadata": {},
   "outputs": [],
   "source": [
    "chart_types = [\n",
    "    {'tag': 'form:barchart',             'subcategory': 'bar',    'name': 'Bar Chart'},\n",
    "    {'tag': 'form:stackedbarchart',      'subcategory': 'bar',    'name': 'Stacked Bar Chart'},\n",
    "    {'tag': 'form:dotplot',              'subcategory': 'bar',    'name': 'Dot Plot'},\n",
    "    {'tag': 'form:histogram',            'subcategory': 'bar',    'name': 'Histogram'},\n",
    "    {'tag': 'form:barcodechart',         'subcategory': 'bar',    'name': 'Barcode Chart'},\n",
    "    {'tag': 'form:progressbar',          'subcategory': 'bar',    'name': 'Progress Bar'},\n",
    "\n",
    "    {'tag': 'form:linechart',            'subcategory': 'line',   'name': 'Line Chart'},\n",
    "    {'tag': 'form:nodelink',             'subcategory': 'line',   'name': 'Node-Link Diagram'},\n",
    "    {'tag': 'form:parallelcoor',         'subcategory': 'line',   'name': 'Parallel Coordinates'},\n",
    "    {'tag': 'form:radarchart',           'subcategory': 'line',   'name': 'Radar Chart'},\n",
    "    {'tag': 'form:sankeydiagram',        'subcategory': 'line',   'name': 'Sankey Diagram'},\n",
    "    {'tag': 'form:boxplot',              'subcategory': 'line',   'name': 'Box Plot'},\n",
    "    {'tag': 'form:violinplot',           'subcategory': 'line',   'name': 'Violin Plot'},\n",
    "    {'tag': 'form:timeline',             'subcategory': 'line',   'name': 'Time Line'},\n",
    "\n",
    "    {'tag': 'form:connectedscatterplot', 'subcategory': 'dot',    'name': 'Connected Scatter Plot'},\n",
    "    {'tag': 'form:scatterplot',          'subcategory': 'dot',    'name': 'Scatter Plot'},\n",
    "    {'tag': 'form:dumbbellplot',         'subcategory': 'dot',    'name': 'Dumbbell Plot'},\n",
    "    {'tag': 'form:polargraph',           'subcategory': 'dot',    'name': 'Polar Graph'},\n",
    "\n",
    "    {'tag': 'form:bubblechart',          'subcategory': 'circle', 'name': 'Bubble Chart'},\n",
    "    {'tag': 'form:piechart',             'subcategory': 'circle', 'name': 'Pie Chart'},\n",
    "    {'tag': 'form:donutchart',           'subcategory': 'circle', 'name': 'Donut Chart'},\n",
    "    {'tag': 'form:guagechart',           'subcategory': 'circle', 'name': 'Guage Chart'},\n",
    "    {'tag': 'form:sunbrust',             'subcategory': 'circle', 'name': 'Sunbrust Diagram'},\n",
    "    {'tag': 'form:venn',                 'subcategory': 'circle', 'name': 'Venn Diagram'},\n",
    "    {'tag': 'form:nestedbubble',         'subcategory': 'circle', 'name': 'Nested Bubbles'},\n",
    "    {'tag': 'form:polararea',            'subcategory': 'circle', 'name': 'Polar Area Chart'},\n",
    "    {'tag': 'form:chord',                'subcategory': 'circle', 'name': 'Chord Diagram'},\n",
    "\n",
    "    {'tag': 'form:areachart',            'subcategory': 'area',   'name': 'Area Chart'},\n",
    "    {'tag': 'form:stackedareachart',     'subcategory': 'area',   'name': 'Stacked Area Chart'},\n",
    "    {'tag': 'form:streamgraph',          'subcategory': 'area',   'name': 'Stream Graph'},\n",
    "    {'tag': 'form:treemap',              'subcategory': 'area',   'name': 'Treemap'},\n",
    "    {'tag': 'form:voronoi',              'subcategory': 'area',   'name': 'Voronoi Diagram'},\n",
    "    {'tag': 'form:pyramid',              'subcategory': 'area',   'name': 'Pyramid'},\n",
    "\n",
    "    {'tag': 'form:choropleth',           'subcategory': 'map',    'name': 'Choropleth'},\n",
    "    {'tag': 'form:flowmap',              'subcategory': 'map',    'name': 'Flow Map'},\n",
    "    {'tag': 'form:map',                  'subcategory': 'map',    'name': 'Map'},\n",
    "\n",
    "    {'tag': 'form:table',                'subcategory': 'table',  'name': 'Table'},\n",
    "    {'tag': 'form:heatmap',              'subcategory': 'table',  'name': 'Heatmap'},\n",
    "    {'tag': 'form:quadrant',             'subcategory': 'table',  'name': 'Quadrant'},\n",
    "\n",
    "    {'tag': 'form:pictogram',            'subcategory': 'icon',   'name': 'Pictogram'},\n",
    "    {'tag': 'form:chernoffface',         'subcategory': 'icon',   'name': 'Chernoff Face'},\n",
    "\n",
    "    {'tag': 'form:unknown',              'subcategory': 'other',  'name': 'Unclassified'},\n",
    "]\n"
   ]
  },
  {
   "cell_type": "code",
   "execution_count": 11,
   "metadata": {},
   "outputs": [],
   "source": [
    "data_types = [\n",
    "    # attribute level means you can tell its type by a single column\n",
    "    {'tag': 'data:categorical',  'subcategory': 'attribute', 'name': 'Categorical'},\n",
    "    # a measurement of magnitude that supports arithmetic comparison\n",
    "    {'tag': 'data:quantitative', 'subcategory': 'attribute', 'name': 'Quantitative'},\n",
    "    # homogeneous range from a **minimum** to a **maximum** value\n",
    "    {'tag': 'data:sequential',   'subcategory': 'attribute', 'name': 'Sequential'},\n",
    "    # deconstructed into two sequences pointing in opposite directions that meet at a **common zero point**\n",
    "    {'tag': 'data:diverging',    'subcategory': 'attribute', 'name': 'Diverging'},\n",
    "    # we cannot do full-fledged arithmetic, but there is a well-defined ordering\n",
    "    {'tag': 'data:ordinal',      'subcategory': 'attribute', 'name': 'Ordinal'},\n",
    "\n",
    "    # time related\n",
    "    {'tag': 'data:timeseries',   'subcategory': 'time',      'name': 'Time Series'},\n",
    "    {'tag': 'data:cyclic',       'subcategory': 'time',      'name': 'Cyclic'},\n",
    "\n",
    "    # coordinated, spatial meaning for x, y, or z\n",
    "    {'tag': 'data:geospatial',   'subcategory': 'position',  'name': 'Geospatial'},\n",
    "    {'tag': 'data:flow',         'subcategory': 'position',  'name': 'Flow'},\n",
    "    {'tag': 'data:bitmap',       'subcategory': 'position',  'name': 'Bitmap'},\n",
    "    {'tag': 'data:positional',   'subcategory': 'position',  'name': 'Positional'},\n",
    "\n",
    "    # records are inter-linked, set type is containment relationship\n",
    "    {'tag': 'data:network',      'subcategory': 'relation',  'name': 'Network'},\n",
    "    {'tag': 'data:tree',         'subcategory': 'relation',  'name': 'Tree'},\n",
    "    {'tag': 'data:set',          'subcategory': 'relation',  'name': 'Set'},\n",
    "\n",
    "    # derived attributes\n",
    "    {'tag': 'data:ranking',      'subcategory': 'derived',   'name': 'Ranked'},\n",
    "    {'tag': 'data:indexvalue',   'subcategory': 'derived',   'name': 'Index Value'},\n",
    "    {'tag': 'data:accumulated',  'subcategory': 'derived',   'name': 'Accumulated'},\n",
    "    {'tag': 'data:percentage',   'subcategory': 'derived',   'name': 'Percentage'},\n",
    "    {'tag': 'data:probability',  'subcategory': 'derived',   'name': 'Probability'},\n",
    "\n",
    "    # long string\n",
    "    {'tag': 'data:text',         'subcategory': 'other',      'name': 'Text'},\n",
    "    # entity level means you can tell its type by a single record\n",
    "    {'tag': 'data:multivariate', 'subcategory': 'other',    'name': 'Multivariate'},\n",
    "]\n"
   ]
  },
  {
   "cell_type": "code",
   "execution_count": 12,
   "metadata": {},
   "outputs": [],
   "source": [
    "layout_types = [\n",
    "    {'tag': 'layout:circular',      'name': 'Circular'},\n",
    "    {'tag': 'layout:juxtaposition', 'name': 'Juxtaposition'},\n",
    "    {'tag': 'layout:overlay',       'name': 'Superimposed'},\n",
    "    {'tag': 'layout:mixed',         'name': 'Multiple-views'},\n",
    "    {'tag': 'layout:periodictable', 'name': 'Periodictable'},\n",
    "    {'tag': 'layout:clock',         'name': 'Clock'},\n",
    "    {'tag': 'layout:calendar',      'name': 'Calendar'},\n",
    "\n",
    "    # {'tag': 'layout:infographics',    'name': 'Infographics'}, # move to media\n",
    "    # {'tag': 'layout:stacked',         'name': 'Stacked'}, # stakced area chart, stacked bar chart\n",
    "    # {'tag': 'layout:map',             'name': 'Map'},\n",
    "]\n"
   ]
  },
  {
   "cell_type": "code",
   "execution_count": 13,
   "metadata": {},
   "outputs": [],
   "source": [
    "domain_types = [\n",
    "    {'tag': 'domain:politics',      'name': 'Politics'},\n",
    "    {'tag': 'domain:business',      'name': 'Business'},\n",
    "    {'tag': 'domain:entertainment', 'name': 'Entertainment'},\n",
    "    {'tag': 'domain:scientific',    'name': 'Scientific'},\n",
    "    {'tag': 'domain:sports',        'name': 'Sports'},\n",
    "    {'tag': 'domain:health',        'name': 'Health'},\n",
    "    {'tag': 'domain:education',     'name': 'Education'},\n",
    "    {'tag': 'domain:catering',      'name': 'Food'},\n",
    "    {'tag': 'domain:computer',      'name': 'Computer'},\n",
    "    {'tag': 'domain:environment',   'name': 'Environment'},\n",
    "    {'tag': 'domain:international', 'name': 'International'}, # international affair\n",
    "    {'tag': 'domain:public',        'name': 'Public'}, # general public affair\n",
    "    {'tag': 'domain:personal',      'name': 'Personal'}, # personal affair\n",
    "    {'tag': 'domain:unknown',       'name': 'Unknown'},\n",
    "]"
   ]
  },
  {
   "cell_type": "code",
   "execution_count": 14,
   "metadata": {},
   "outputs": [],
   "source": [
    "media_types = [\n",
    "    {'tag': 'media:tv',          'name': 'TV'},\n",
    "    {'tag': 'media:news',        'name': 'News Article'},\n",
    "    {'tag': 'media:ads',         'name': 'Ads'},\n",
    "    {'tag': 'media:printed',     'name': 'Printed'},\n",
    "    {'tag': 'media:handdrawn',   'name': 'Handdrawn'},\n",
    "    {'tag': 'media:inreallife',  'name': 'Inreallife'},\n",
    "    {'tag': 'media:NSFW',        'name': 'NSFW'}, # Not safe for work\n",
    "    # the thin line between infographics and multiple-views is whether the picture is message bearing, multiple-views is for analytical purpose like dashboard\n",
    "    {'tag': 'media:infographic', 'name': 'Infographic'},\n",
    "    {'tag': 'media:google',      'name': 'Google Products'},\n",
    "]"
   ]
  },
  {
   "cell_type": "code",
   "execution_count": 15,
   "metadata": {},
   "outputs": [],
   "source": [
    "effect_types = [\n",
    "    {'tag': 'effect:reversed',     'name': 'Reversed'},\n",
    "    {'tag': 'effect:distorted',    'name': 'Distorted'},\n",
    "    {'tag': 'effect:confuesed',    'name': 'Confused'},\n",
    "    {'tag': 'effect:suggestive',   'name': 'Suggestive'},\n",
    "]"
   ]
  },
  {
   "cell_type": "code",
   "execution_count": 16,
   "metadata": {},
   "outputs": [],
   "source": [
    "# based on Surfacing Visualization Mirage\n",
    "# errors arisen at different dicision points\n",
    "fault_types = [\n",
    "    # data curation\n",
    "    {'tag': 'fault:data:selective',           'subcategories': ['data'],                   'name': 'Selective Data',             'description': 'Cherry-picking the scope of data, e.g., picking an arbitrary starting point of the time axis.'},\n",
    "    {'tag': 'fault:data:missingvalues',       'subcategories': ['data'],                   'name': 'Missing Values',             'description': 'Null values in the chart that causes confusion.'},\n",
    "    {'tag': 'fault:data:redundant',           'subcategories': ['data'],                   'name': 'Redundant Values',           'description': 'Items appear more than once in the chart.'},\n",
    "    {'tag': 'fault:data:questionable',        'subcategories': ['data'],                   'name': 'Questionable Data',          'description': 'Dubious data source.'},\n",
    "    {'tag': 'fault:data:hypothetical',        'subcategories': ['data'],                   'name': 'Hypothetical Data',          'description': 'Not real data, but drawn like backed by data.'},\n",
    "\n",
    "    # data wrangling\n",
    "    {'tag': 'fault:binning',                  'subcategories': ['derive'],                 'name': 'Arbitrary Binning',          'description': 'Items are grouped arbitrarily.'},\n",
    "    {'tag': 'fault:itemorder',                'subcategories': ['derive'],                 'name': 'Items Out of Order',         'description': 'Items are not sorted, or out of order.'},\n",
    "    {'tag': 'fault:percentage:sum',           'subcategories': ['derive'],                 'name': 'Percentage Not 100%',        'description': 'Percentages do not add up to 100% in a whole-part relationship.'},\n",
    "    {'tag': 'fault:faultystatistics',         'subcategories': ['derive'],                 'name': 'Faulty Regression',          'description': 'Improper use of statistics, e.g., a regression line with high error.'},\n",
    "    {'tag': 'fault:data:prediction',          'subcategories': ['derive'],                 'name': 'Unreliable Forecasting',     'description': 'Plotting future data points derived from unreliable prediction.'},\n",
    "    {'tag': 'fault:baselinealignment',        'subcategories': ['derive'],                 'name': 'Base Line Alignment',        'description': 'Values are indexed or normalized by an unconventional method.'},\n",
    "\n",
    "    # visualizing: visual design choices, responsibility of human designer\n",
    "    {'tag': 'fault:colorconvention',          'subcategories': ['design', 'color'],        'name': 'Color Mismatch',             'description': 'Mismatch between colors and the objects that they represent, e.g., blue for apples.'},\n",
    "    {'tag': 'fault:colorscale',               'subcategories': ['design', 'color'],        'name': 'Ineffective Color Scheme',   'description': 'Ineffective color scheme, e.g., categorical colors for continuous variable.'}, # Categorical color for continuous variable\n",
    "    {'tag': 'fault:nonsequitur',              'subcategories': ['design', 'visual'],       'name': 'Disguised Visualization',    'description': 'Looks like a visualization, but not visualizing any data, also known as non-sequitur.'}, # Fake visualization, non-sequitur\n",
    "    {'tag': 'fault:description',              'subcategories': ['design', 'text'],         'name': 'False Description',          'description': 'Description and visualization do not add up.'},\n",
    "    {'tag': 'fault:annotation',               'subcategories': ['design', 'text'],         'name': 'Improper Annotation',        'description': 'Improper annotation or highlight.'},\n",
    "    {'tag': 'fault:connection',               'subcategories': ['design', 'encoding'],     'name': 'Invalid Connection',         'description': 'Lines or arrows are connecting unrelated dots.'},\n",
    "    {'tag': 'fault:mapprojection',            'subcategories': ['design', 'encoding'],     'name': 'Distorted Map Projection',   'description': 'Distort map projection to encode information'},\n",
    "    {'tag': 'fault:scale',                    'subcategories': ['design', 'scale'],        'name': 'Absurd Scale',               'description': 'Data is drawn to an unconventional scale.'},\n",
    "    {'tag': 'fault:scale:log',                'subcategories': ['design', 'scale'],        'name': 'Incorrect Use of Log Scale', 'description': 'Incorrect use of log scale.'},\n",
    "    {'tag': 'fault:axis:double',              'subcategories': ['design', 'axis'],         'name': 'Dual Axes',                  'description': 'Plotting more than one different scale on a single dimension, most often the y-axis.'},\n",
    "    {'tag': 'fault:betteralternative',        'subcategories': ['design', 'encoding'],     'name': 'Ineffective Encoding',       'description': 'Chart is understandable, but unintuitive, there are better alternatives.'}, # Potentially expandable\n",
    "    {'tag': 'fault:position',                 'subcategories': ['design', 'visual'],       'name': 'Poor Positioning',           'description': 'Poor positioning, alignment, or rotation of items.'}, # Need to rename, sound like responsibility of computer but examples are human responsible\n",
    "\n",
    "    # visualizing: graph drawing, responsibility of computer or source data\n",
    "    {'tag': 'fault:encoding',                 'subcategories': ['graph', 'visual'],        'name': 'Plotting Error',             'description': 'Valid encoding choice but incorrectly drawn, e.g., a glitch.'},\n",
    "    {'tag': 'fault:color:over12',             'subcategories': ['graph', 'color'],         'name': 'Too Many Colors',            'description': 'Too many colors, mostly related to the scalability issues.'},\n",
    "    {'tag': 'fault:scale:inconsistent',       'subcategories': ['graph', 'scale'],         'name': 'Misrepresentation',          'description': 'The geometric shapes do not match the labelled values.'},\n",
    "    {'tag': 'fault:scale:inconsistentacross', 'subcategories': ['graph', 'scale'],         'name': 'Inconsistent Scale Across',  'description': 'Different scales across related charts.'},\n",
    "    {'tag': 'fault:missinglabel',             'subcategories': ['graph', 'text'],          'name': 'Missing Item Labels',        'description': 'Missing label for item details.'},\n",
    "    {'tag': 'fault:wronglabel',               'subcategories': ['graph', 'text'],          'name': 'Incorrect Item Labels',      'description': 'Items are labeled with incorrect description.'},\n",
    "    {'tag': 'fault:axis:missing',             'subcategories': ['graph', 'axis'],          'name': 'Missing Axis',               'description': 'Axis is missing for a coordinated chart.'},\n",
    "    {'tag': 'fault:axis:label',               'subcategories': ['graph', 'axis', 'text'],  'name': 'Missing Axis Labels',        'description': 'Axis is not labeled with tick marks.'},\n",
    "    {'tag': 'fault:axis:incorrectlabel',      'subcategories': ['graph', 'axis', 'text'],  'name': 'Incorrect Axis Labels',      'description': 'Axis is incorrectly labeled.'},\n",
    "    {'tag': 'fault:inconsistentaxisinterval', 'subcategories': ['graph', 'axis'],          'name': 'Inconsistent Tick Interval', 'description': 'Intervals on an axis does not follow a scale.'},\n",
    "    {'tag': 'fault:inconsistentinterval',     'subcategories': ['graph', 'axis'],          'name': 'Inconsistent Time Interval', 'description': 'Inconsistent time interval between data points.'},\n",
    "    {'tag': 'fault:legend',                   'subcategories': ['graph', 'scale'],         'name': 'Missing Legend',             'description': 'Legend is needed but missing.'},\n",
    "    {'tag': 'fault:axis:flipped',             'subcategories': ['graph', 'axis'],          'name': 'Flipped Axis',               'description': 'Axis values are increasing in an unconventional direction.'},\n",
    "    {'tag': 'fault:axis:truncated',           'subcategories': ['graph', 'axis'],          'name': 'Truncated Axis',             'description': 'Non-zero starting point on an axis that exaggerates or understates differences between items.'},\n",
    "\n",
    "    # reading: reading difficulty\n",
    "    {'tag': 'fault:colormess',                'subcategories': ['visual', 'color'],        'name': 'Undistinguishable Colors',   'description': 'Categorical colors are undistinguishable with each other.'},\n",
    "    {'tag': 'fault:animation',                'subcategories': ['visual', 'perception'],   'name': 'Unjustified Animation',      'description': 'Eye beats memory, comparing changes across animation frames is impossible.'},\n",
    "    {'tag': 'fault:legendconfuse',            'subcategories': ['visual', 'scale'],        'name': 'Confusing Legend',           'description': 'Lengend is not helpful in understanding the chart.'},\n",
    "    {'tag': 'fault:labelconfuse',             'subcategories': ['visual', 'text'],         'name': 'Confusing Label',            'description': 'Labels are hard to understand or not understandable at all.'},\n",
    "    {'tag': 'fault:cluttering',               'subcategories': ['visual'],                 'name': 'Cluttering',                 'description': 'Overwhelmed by visual clutter.'},\n",
    "    {'tag': 'fault:occulusion',               'subcategories': ['visual'],                 'name': 'Occlusion',                  'description': 'Some items are not visible in the visualization because of blockage by another item.'},\n",
    "    {'tag': 'fault:chartjunk',                'subcategories': ['visual'],                 'name': 'Chart Junk',                 'description': 'Chart ornament that causes negative effect in understanding.'},\n",
    "    {'tag': 'fault:legibility',               'subcategories': ['visual', 'text'],         'name': 'Illegible Text',             'description': 'Text in the chart are illegible.'},\n",
    "    {'tag': 'fault:visuallyawful',            'subcategories': ['visual'],                 'name': 'Visually Awful',             'description': 'Very disturbing while looking at it.'},\n",
    "\n",
    "    # reading: perception distortion\n",
    "    {'tag': 'fault:colorcorrelation',         'subcategories': ['perception', 'color'],    'name': 'False Color Correlation',    'description': 'Items with same or similar colors are not related.'},\n",
    "    {'tag': 'fault:3d',                       'subcategories': ['perception', 'visual'],   'name': 'Unjustified 3D',             'description': 'Unjustified use of 3D, it distorts the perceived size of the items.'},\n",
    "    {'tag': 'fault:area',                     'subcategories': ['perception', 'encoding'], 'name': 'Area Encoding',              'description': 'Incorrect use of area encoding that exaggerates or understates differences between items.'},\n",
    "    {'tag': 'fault:picto:distortion',         'subcategories': ['perception', 'encoding'], 'name': 'Area Encoded Pictogram',     'description': 'Pictogram is improperly scaled to reflect value differences.'},\n",
    "\n",
    "    # reading: message\n",
    "    {'tag': 'fault:cannotunderstand',         'subcategories': ['logical'],                'name': 'Not Understandable',         'description': 'Cannot decode any data nor information.'},\n",
    "    {'tag': 'fault:percentage:wholepart',     'subcategories': ['logical'],                'name': 'Faulty Whole Part',          'description': 'Not whole-part relationship but draw as a chart for whole-part relationship like pie chart.'},\n",
    "    {'tag': 'fault:faultylogic',              'subcategories': ['logical'],                'name': 'Faulty Logic',               'description': 'Conveying an illogical message.'}, # Potentially expandable\n",
    "    {'tag': 'fault:missingcontext',           'subcategories': ['logical'],                'name': 'Missing Context',            'description': 'Need background information in order to understand the message.'},\n",
    "    {'tag': 'fault:invalidcomparison',        'subcategories': ['logical'],                'name': 'Invalid Comparison',         'description': 'Comparison between items that are incomparable.'},\n",
    "    {'tag': 'fault:map:population',           'subcategories': ['logical'],                'name': 'Just a Population Map',      'description': 'The observed pattern is nothing more than the pattern of population density.'},\n",
    "    {'tag': 'fault:spuriousocorrelation',     'subcategories': ['logical'],                'name': 'Spurious Correlation',       'description': 'Suggesting causal relationships from correlations.'},\n",
    "\n",
    "    # {'tag': 'fault:data',                     'subcategories': ['data'],                 'name': 'data'},\n",
    "    # {'tag': 'fault:aggregation',              'subcategories': ['derive'],               'name': 'Improper Aggregation'},\n",
    "    # {'tag': 'fault:locationinfo',             'subcategories': ['derive'],               'name': 'Wrong Location Information'},\n",
    "    # {'tag': 'fault:picto:area',               'subcategories': ['perception'],           'name': 'picto:area'},\n",
    "    # {'tag': 'fault:percentage:encoding',      'subcategories': ['design'],               'name': 'percentage:encoding'}, # combine with Plotting error\n",
    "    # {'tag': 'fault:label',                    'subcategories': ['graph'],                'name': 'Labels'}, # Review\n",
    "    # {'tag': 'fault:axis',                     'subcategories': ['graph'],                'name': 'Axis'}, # Either missing axis labels or missing axis\n",
    "    # {'tag': 'fault:unreadable',               'subcategories': ['visual'],               'name': 'Incomprehensible'}, # combine with invalid encoding choice\n",
    "    # {'tag': 'fault:confirmationbias',         'subcategories': ['logical'],              'name': 'Confirmation Bias'}, # relabel\n",
    "    # {'tag': 'fault:cannotaddup',              'subcategories': ['logical'],              'name': 'Cannot Add Up'}, # relabel\n",
    "    # {'tag': 'fault:index:comparison',         'subcategories': ['logical'],              'name': 'index:comparison'}, # combine with invalid comparison\n",
    "    # {'tag': 'fault:invalidencoding',          'subcategories': ['design', 'encoding'],   'name': 'Invalid Encoding Choice',    'description': 'Only understandable by extracting the data from the chart, but not its visual form.'}, # combine with not understandable\n",
    "\n",
    "    # {'tag': 'fault:parody',                   'subcategories': ['other'],                'name': 'parody'}, # move to flag\n",
    "\n",
    "]\n"
   ]
  },
  {
   "cell_type": "code",
   "execution_count": 17,
   "metadata": {},
   "outputs": [],
   "source": [
    "flag_types = [\n",
    "    {'tag': 'flag:needreview', 'name': 'Need Review'},\n",
    "    {'tag': 'flag:duplicated', 'name': 'Duplicated'},\n",
    "    {'tag': 'flag:invalid',    'name': 'Invalid'},\n",
    "    {'tag': 'flag:notbad',     'name': 'Not Bad'},\n",
    "    {'tag': 'flag:starred',    'name': 'Starred'},\n",
    "    {'tag': 'flag:parody',     'name': 'Parody'},\n",
    "]\n"
   ]
  },
  {
   "cell_type": "code",
   "execution_count": 18,
   "metadata": {},
   "outputs": [],
   "source": [
    "descriptions = [\n",
    "    {'tag': 'form:barchart',     'description': 'Data encoded with length. Chart lies when length disproportional to the encoded value.'},\n",
    "    {'tag': 'form:linechart',    'description': 'Can be seen as a scatterplot with connected dots. Most widely used with time series data. Chart lies when the context is hidden, changes being magnified or diminished.'},\n",
    "    {'tag': 'form:scatterplot',  'description': 'Direct encoding of attributes into X and Y axes. Mostly use to find correlation. Chart lies when an agenda of a trend or correlation is imposed.'},\n",
    "    {'tag': 'form:dotplot',      'description': 'Similar to bar charts. Data encoded with number of dots, but compared as length since the dots are aligned. Mostly used for observing distribution.'},\n",
    "    {'tag': 'form:barcodechart', 'description': 'Can be seen as a 1-D scatter plot. Most commonly used to show frequency distribution.'},\n",
    "    {'tag': 'form:areachart',    'description': 'Can be seen as a line chart with color filled area under the curve. Most widely used to convey the accumulated volumn. Chart lies when the area is distorted by truncating the Y-axis.'},\n",
    "    {'tag': 'form:histogram',    'description': 'Similar to bar chart, but breaking down the continuous X-axis into bins in order to observe the distribution. Chart lies when the bin size is uneven or being manipulated.'},\n",
    "    {'tag': 'form:nodelink',     'description': 'Dots are connected to show their relationships. Most common diagram for network data. The X-axis or Y-axis positions of nodes has no meaning.'},\n",
    "    {'tag': 'form:parallelcoor', 'description': 'Multiple Y-axes in one chart, each line is an instance in data and each Y-axis is the attribute values. Most widely used in multi-dimensional data.'},\n",
    "    {'tag': 'form:radarchart',   'description': 'Can be seen as a parallel coordinates plot wrapped in a circle or regular polygon. The area enclosed by the lines conveys the sum of attribute values. Also common in comparison to spot the skyline (see \"skyline problem\").'},\n",
    "    {'tag': 'form:bubblechart',  'description': 'Similar to scatter plot, but with size encoding on each circle. Most common issue is occlusion, also inherits the issues of size encoding.'},\n",
    "    {'tag': 'form:boxplot',      'description': 'A box depicts the statistics summary of the underlying data. The whiskers show the maximum/minimum and box shows 25th quartile, median and 75th quartile.'},\n",
    "    {'tag': 'form:violinplot',   'description': 'Similar to box plot. In addition, the width encodes the density distribution of the underlying data. Skewed distribution can be observed.'},\n",
    "    {'tag': 'data:ordinal',      'description': 'Ordinal values are values that represent the order between items. These values can be used comparatively but not arithmetically, like alphabetical order.'},\n",
    "    {'tag': 'data:timeseries',   'description': 'Time series data concern changes over time, most commonly with a fixed interval. The time values can be absolute (Nov 23, 2012) or relative (Day 0, Day 1, ...).'},\n",
    "    {'tag': 'data:cyclic',       'description': 'Cyclical data are series of data with repeated sequences that can be aligned. Examples are running laps, seasonal and monthly cycle.'}\n",
    "]"
   ]
  },
  {
   "cell_type": "code",
   "execution_count": 19,
   "metadata": {},
   "outputs": [
    {
     "data": {
      "text/plain": [
       "[('graph', 14),\n",
       " ('visual', 13),\n",
       " ('design', 12),\n",
       " ('text', 8),\n",
       " ('axis', 8),\n",
       " ('logical', 7),\n",
       " ('derive', 6),\n",
       " ('scale', 6),\n",
       " ('data', 5),\n",
       " ('color', 5),\n",
       " ('encoding', 5),\n",
       " ('perception', 5)]"
      ]
     },
     "execution_count": 19,
     "metadata": {},
     "output_type": "execute_result"
    }
   ],
   "source": [
    "subcats = [s for f in fault_types for s in f['subcategories']]\n",
    "Counter(subcats).most_common()"
   ]
  },
  {
   "cell_type": "code",
   "execution_count": 20,
   "metadata": {},
   "outputs": [],
   "source": [
    "subcategories = [\n",
    "    {'category': 'fault', 'group': 'grammar',  'subcategory': 'axis',       'name': 'Axis',                'description': 'Issues related to the axes of coordinated planes'},\n",
    "    {'category': 'fault', 'group': 'grammar',  'subcategory': 'scale',      'name': 'Legends and Scales',  'description': 'Issues related to legends and the use of scales'},\n",
    "    {'category': 'fault', 'group': 'grammar',  'subcategory': 'color',      'name': 'Color',               'description': 'Issues in the use of colors'},\n",
    "    {'category': 'fault', 'group': 'grammar',  'subcategory': 'text',       'name': 'Text',                'description': 'Issues related to titles, annotations and labels'},\n",
    "    {'category': 'fault', 'group': 'grammar',  'subcategory': 'encoding',   'name': 'Encoding',            'description': 'Issues related to visual encoding'},\n",
    "\n",
    "    {'category': 'fault', 'group': 'pipeline', 'subcategory': 'data',       'name': 'Data',                'description': 'Issues related to the underlying data, its sources and completeness'},\n",
    "    {'category': 'fault', 'group': 'pipeline', 'subcategory': 'derive',     'name': 'Data Transformation', 'description': 'Issues introduced when processing data or applying statistical transformations'},\n",
    "    {'category': 'fault', 'group': 'pipeline', 'subcategory': 'design',     'name': 'Design Choices',      'description': 'Issues in visual design choices'},\n",
    "    {'category': 'fault', 'group': 'pipeline', 'subcategory': 'graph',      'name': 'Graph Drawing',       'description': 'Issues introduced in the graph drawing process, leads to missing graph elements or incomplete graph'},\n",
    "    {'category': 'fault', 'group': 'pipeline', 'subcategory': 'visual',     'name': 'Reading',             'description': 'Difficulties in reading'},\n",
    "    {'category': 'fault', 'group': 'pipeline', 'subcategory': 'perception', 'name': 'Perception',          'description': 'Issues related to the weaknesses in human perception'},\n",
    "    {'category': 'fault', 'group': 'pipeline', 'subcategory': 'logical',    'name': 'Message',             'description': 'Visualizations that are trying to convey nonsense or illogical messages'},\n",
    "\n",
    "    {'category': 'form',                       'subcategory': 'bar',        'name': 'Bar'},\n",
    "    {'category': 'form',                       'subcategory': 'line',       'name': 'Line'},\n",
    "    {'category': 'form',                       'subcategory': 'dot',        'name': 'Dot'},\n",
    "    {'category': 'form',                       'subcategory': 'circle',     'name': 'Circle'},\n",
    "    {'category': 'form',                       'subcategory': 'area',       'name': 'Area'},\n",
    "    {'category': 'form',                       'subcategory': 'map',        'name': 'Map'},\n",
    "    {'category': 'form',                       'subcategory': 'table',      'name': 'Table'},\n",
    "    {'category': 'form',                       'subcategory': 'icon',       'name': 'Icon'},\n",
    "    {'category': 'form',                       'subcategory': 'other',      'name': 'Other'},\n",
    "\n",
    "    {'category': 'data',                       'subcategory': 'attribute',  'name': 'Attribute',           'description': 'Basic attributes'},\n",
    "    {'category': 'data',                       'subcategory': 'derived',    'name': 'Derived',             'description': 'Derived attributes'},\n",
    "    {'category': 'data',                       'subcategory': 'time',       'name': 'Time',                'description': 'Time related data'},\n",
    "    {'category': 'data',                       'subcategory': 'position',   'name': 'Coordinated',         'description': 'Spatial meaning in x-, y-, or z-axes'},\n",
    "    {'category': 'data',                       'subcategory': 'relation',   'name': 'Relational',          'description': 'Items are inter-linked'},\n",
    "    {'category': 'data',                       'subcategory': 'other',      'name': 'Other',               'description': 'Other uncategorized data types'},\n",
    "]\n"
   ]
  },
  {
   "cell_type": "code",
   "execution_count": 21,
   "metadata": {},
   "outputs": [],
   "source": [
    "groups = [\n",
    "    {'category': 'fault', 'group': 'grammar', 'name': 'Grammar of Graphics', 'description': 'Issues grouped by different components of a graph'},\n",
    "    {'category': 'fault', 'group': 'pipeline', 'name': 'Visual Analytics Pipeline', 'description': 'Issues grouped by different stages of visual analytics'}\n",
    "]"
   ]
  },
  {
   "cell_type": "code",
   "execution_count": 22,
   "metadata": {},
   "outputs": [],
   "source": [
    "labelOptions = [\n",
    "    {'category': 'fault',  'name': 'Issues',      'options': fault_types, 'subcategories': [s for s in subcategories if s['category'] == 'fault'], 'hierarchical': True, 'grouped': True, 'sorted': True},\n",
    "    {'category': 'form',   'name': 'Chart Types', 'options': chart_types, 'subcategories': [s for s in subcategories if s['category'] == 'form'], 'group_subcat_threshold': 10},\n",
    "    {'category': 'data',   'name': 'Data Types',  'options': data_types,  'subcategories': [s for s in subcategories if s['category'] == 'data']},\n",
    "    {'category': 'domain', 'name': 'Domains',     'options': domain_types},\n",
    "    {'category': 'media',  'name': 'Medium',      'options': media_types},\n",
    "    {'category': 'layout', 'name': 'Layouts',     'options': layout_types},\n",
    "    {'category': 'effect', 'name': 'Effects',     'options': effect_types},\n",
    "    {'category': 'flag',   'name': 'Flags',       'options': flag_types},\n",
    "]\n"
   ]
  },
  {
   "cell_type": "code",
   "execution_count": 23,
   "metadata": {},
   "outputs": [],
   "source": [
    "for l in labelOptions:\n",
    "    for o in l['options']:\n",
    "        o['count'] = labelCnts[o['tag']]"
   ]
  },
  {
   "cell_type": "code",
   "execution_count": 24,
   "metadata": {},
   "outputs": [
    {
     "data": {
      "application/json": [
       {
        "category": "fault",
        "grouped": true,
        "hierarchical": true,
        "name": "Issues",
        "options": [
         {
          "count": 8,
          "description": "Cherry-picking the scope of data, e.g., picking an arbitrary starting point of the time axis.",
          "name": "Selective Data",
          "subcategories": [
           "data"
          ],
          "tag": "fault:data:selective"
         },
         {
          "count": 8,
          "description": "Null values in the chart that causes confusion.",
          "name": "Missing Values",
          "subcategories": [
           "data"
          ],
          "tag": "fault:data:missingvalues"
         },
         {
          "count": 2,
          "description": "Items appear more than once in the chart.",
          "name": "Redundant Values",
          "subcategories": [
           "data"
          ],
          "tag": "fault:data:redundant"
         },
         {
          "count": 21,
          "description": "Dubious data source.",
          "name": "Questionable Data",
          "subcategories": [
           "data"
          ],
          "tag": "fault:data:questionable"
         },
         {
          "count": 10,
          "description": "Not real data, but drawn like backed by data.",
          "name": "Hypothetical Data",
          "subcategories": [
           "data"
          ],
          "tag": "fault:data:hypothetical"
         },
         {
          "count": 17,
          "description": "Items are grouped arbitrarily.",
          "name": "Arbitrary Binning",
          "subcategories": [
           "derive"
          ],
          "tag": "fault:binning"
         },
         {
          "count": 22,
          "description": "Items are not sorted, or out of order.",
          "name": "Items Out of Order",
          "subcategories": [
           "derive"
          ],
          "tag": "fault:itemorder"
         },
         {
          "count": 40,
          "description": "Percentages do not add up to 100% in a whole-part relationship.",
          "name": "Percentage Not 100%",
          "subcategories": [
           "derive"
          ],
          "tag": "fault:percentage:sum"
         },
         {
          "count": 26,
          "description": "Improper use of statistics, e.g., a regression line with high error.",
          "name": "Faulty Regression",
          "subcategories": [
           "derive"
          ],
          "tag": "fault:faultystatistics"
         },
         {
          "count": 6,
          "description": "Plotting future data points derived from unreliable prediction.",
          "name": "Unreliable Forecasting",
          "subcategories": [
           "derive"
          ],
          "tag": "fault:data:prediction"
         },
         {
          "count": 1,
          "description": "Values are indexed or normalized by an unconventional method.",
          "name": "Base Line Alignment",
          "subcategories": [
           "derive"
          ],
          "tag": "fault:baselinealignment"
         },
         {
          "count": 11,
          "description": "Mismatch between colors and the objects that they represent, e.g., blue for apples.",
          "name": "Color Mismatch",
          "subcategories": [
           "design",
           "color"
          ],
          "tag": "fault:colorconvention"
         },
         {
          "count": 32,
          "description": "Ineffective color scheme, e.g., categorical colors for continuous variable.",
          "name": "Ineffective Color Scheme",
          "subcategories": [
           "design",
           "color"
          ],
          "tag": "fault:colorscale"
         },
         {
          "count": 21,
          "description": "Looks like a visualization, but not visualizing any data, also known as non-sequitur.",
          "name": "Disguised Visualization",
          "subcategories": [
           "design",
           "visual"
          ],
          "tag": "fault:nonsequitur"
         },
         {
          "count": 20,
          "description": "Description and visualization do not add up.",
          "name": "False Description",
          "subcategories": [
           "design",
           "text"
          ],
          "tag": "fault:description"
         },
         {
          "count": 5,
          "description": "Improper annotation or highlight.",
          "name": "Improper Annotation",
          "subcategories": [
           "design",
           "text"
          ],
          "tag": "fault:annotation"
         },
         {
          "count": 8,
          "description": "Lines or arrows are connecting unrelated dots.",
          "name": "Invalid Connection",
          "subcategories": [
           "design",
           "encoding"
          ],
          "tag": "fault:connection"
         },
         {
          "count": 5,
          "description": "Distort map projection to encode information",
          "name": "Distorted Map Projection",
          "subcategories": [
           "design",
           "encoding"
          ],
          "tag": "fault:mapprojection"
         },
         {
          "count": 12,
          "description": "Data is drawn to an unconventional scale.",
          "name": "Absurd Scale",
          "subcategories": [
           "design",
           "scale"
          ],
          "tag": "fault:scale"
         },
         {
          "count": 3,
          "description": "Incorrect use of log scale.",
          "name": "Incorrect Use of Log Scale",
          "subcategories": [
           "design",
           "scale"
          ],
          "tag": "fault:scale:log"
         },
         {
          "count": 19,
          "description": "Plotting more than one different scale on a single dimension, most often the y-axis.",
          "name": "Dual Axes",
          "subcategories": [
           "design",
           "axis"
          ],
          "tag": "fault:axis:double"
         },
         {
          "count": 63,
          "description": "Chart is understandable, but unintuitive, there are better alternatives.",
          "name": "Ineffective Encoding",
          "subcategories": [
           "design",
           "encoding"
          ],
          "tag": "fault:betteralternative"
         },
         {
          "count": 10,
          "description": "Poor positioning, alignment, or rotation of items.",
          "name": "Poor Positioning",
          "subcategories": [
           "design",
           "visual"
          ],
          "tag": "fault:position"
         },
         {
          "count": 12,
          "description": "Valid encoding choice but incorrectly drawn, e.g., a glitch.",
          "name": "Plotting Error",
          "subcategories": [
           "graph",
           "visual"
          ],
          "tag": "fault:encoding"
         },
         {
          "count": 36,
          "description": "Too many colors, mostly related to the scalability issues.",
          "name": "Too Many Colors",
          "subcategories": [
           "graph",
           "color"
          ],
          "tag": "fault:color:over12"
         },
         {
          "count": 160,
          "description": "The geometric shapes do not match the labelled values.",
          "name": "Misrepresentation",
          "subcategories": [
           "graph",
           "scale"
          ],
          "tag": "fault:scale:inconsistent"
         },
         {
          "count": 16,
          "description": "Different scales across related charts.",
          "name": "Inconsistent Scale Across",
          "subcategories": [
           "graph",
           "scale"
          ],
          "tag": "fault:scale:inconsistentacross"
         },
         {
          "count": 22,
          "description": "Missing label for item details.",
          "name": "Missing Item Labels",
          "subcategories": [
           "graph",
           "text"
          ],
          "tag": "fault:missinglabel"
         },
         {
          "count": 26,
          "description": "Items are labeled with incorrect description.",
          "name": "Incorrect Item Labels",
          "subcategories": [
           "graph",
           "text"
          ],
          "tag": "fault:wronglabel"
         },
         {
          "count": 40,
          "description": "Axis is missing for a coordinated chart.",
          "name": "Missing Axis",
          "subcategories": [
           "graph",
           "axis"
          ],
          "tag": "fault:axis:missing"
         },
         {
          "count": 36,
          "description": "Axis is not labeled with tick marks.",
          "name": "Missing Axis Labels",
          "subcategories": [
           "graph",
           "axis",
           "text"
          ],
          "tag": "fault:axis:label"
         },
         {
          "count": 31,
          "description": "Axis is incorrectly labeled.",
          "name": "Incorrect Axis Labels",
          "subcategories": [
           "graph",
           "axis",
           "text"
          ],
          "tag": "fault:axis:incorrectlabel"
         },
         {
          "count": 5,
          "description": "Intervals on an axis does not follow a scale.",
          "name": "Inconsistent Tick Interval",
          "subcategories": [
           "graph",
           "axis"
          ],
          "tag": "fault:inconsistentaxisinterval"
         },
         {
          "count": 17,
          "description": "Inconsistent time interval between data points.",
          "name": "Inconsistent Time Interval",
          "subcategories": [
           "graph",
           "axis"
          ],
          "tag": "fault:inconsistentinterval"
         },
         {
          "count": 34,
          "description": "Legend is needed but missing.",
          "name": "Missing Legend",
          "subcategories": [
           "graph",
           "scale"
          ],
          "tag": "fault:legend"
         },
         {
          "count": 18,
          "description": "Axis values are increasing in an unconventional direction.",
          "name": "Flipped Axis",
          "subcategories": [
           "graph",
           "axis"
          ],
          "tag": "fault:axis:flipped"
         },
         {
          "count": 63,
          "description": "Non-zero starting point on an axis that exaggerates or understates differences between items.",
          "name": "Truncated Axis",
          "subcategories": [
           "graph",
           "axis"
          ],
          "tag": "fault:axis:truncated"
         },
         {
          "count": 67,
          "description": "Categorical colors are undistinguishable with each other.",
          "name": "Undistinguishable Colors",
          "subcategories": [
           "visual",
           "color"
          ],
          "tag": "fault:colormess"
         },
         {
          "count": 14,
          "description": "Eye beats memory, comparing changes across animation frames is impossible.",
          "name": "Unjustified Animation",
          "subcategories": [
           "visual",
           "perception"
          ],
          "tag": "fault:animation"
         },
         {
          "count": 32,
          "description": "Lengend is not helpful in understanding the chart.",
          "name": "Confusing Legend",
          "subcategories": [
           "visual",
           "scale"
          ],
          "tag": "fault:legendconfuse"
         },
         {
          "count": 11,
          "description": "Labels are hard to understand or not understandable at all.",
          "name": "Confusing Label",
          "subcategories": [
           "visual",
           "text"
          ],
          "tag": "fault:labelconfuse"
         },
         {
          "count": 40,
          "description": "Overwhelmed by visual clutter.",
          "name": "Cluttering",
          "subcategories": [
           "visual"
          ],
          "tag": "fault:cluttering"
         },
         {
          "count": 14,
          "description": "Some items are not visible in the visualization because of blockage by another item.",
          "name": "Occlusion",
          "subcategories": [
           "visual"
          ],
          "tag": "fault:occulusion"
         },
         {
          "count": 13,
          "description": "Chart ornament that causes negative effect in understanding.",
          "name": "Chart Junk",
          "subcategories": [
           "visual"
          ],
          "tag": "fault:chartjunk"
         },
         {
          "count": 23,
          "description": "Text in the chart are illegible.",
          "name": "Illegible Text",
          "subcategories": [
           "visual",
           "text"
          ],
          "tag": "fault:legibility"
         },
         {
          "count": 14,
          "description": "Very disturbing while looking at it.",
          "name": "Visually Awful",
          "subcategories": [
           "visual"
          ],
          "tag": "fault:visuallyawful"
         },
         {
          "count": 6,
          "description": "Items with same or similar colors are not related.",
          "name": "False Color Correlation",
          "subcategories": [
           "perception",
           "color"
          ],
          "tag": "fault:colorcorrelation"
         },
         {
          "count": 63,
          "description": "Unjustified use of 3D, it distorts the perceived size of the items.",
          "name": "Unjustified 3D",
          "subcategories": [
           "perception",
           "visual"
          ],
          "tag": "fault:3d"
         },
         {
          "count": 24,
          "description": "Incorrect use of area encoding that exaggerates or understates differences between items.",
          "name": "Area Encoding",
          "subcategories": [
           "perception",
           "encoding"
          ],
          "tag": "fault:area"
         },
         {
          "count": 14,
          "description": "Pictogram is improperly scaled to reflect value differences.",
          "name": "Area Encoded Pictogram",
          "subcategories": [
           "perception",
           "encoding"
          ],
          "tag": "fault:picto:distortion"
         },
         {
          "count": 29,
          "description": "Cannot decode any data nor information.",
          "name": "Not Understandable",
          "subcategories": [
           "logical"
          ],
          "tag": "fault:cannotunderstand"
         },
         {
          "count": 11,
          "description": "Not whole-part relationship but draw as a chart for whole-part relationship like pie chart.",
          "name": "Faulty Whole Part",
          "subcategories": [
           "logical"
          ],
          "tag": "fault:percentage:wholepart"
         },
         {
          "count": 10,
          "description": "Conveying an illogical message.",
          "name": "Faulty Logic",
          "subcategories": [
           "logical"
          ],
          "tag": "fault:faultylogic"
         },
         {
          "count": 7,
          "description": "Need background information in order to understand the message.",
          "name": "Missing Context",
          "subcategories": [
           "logical"
          ],
          "tag": "fault:missingcontext"
         },
         {
          "count": 12,
          "description": "Comparison between items that are incomparable.",
          "name": "Invalid Comparison",
          "subcategories": [
           "logical"
          ],
          "tag": "fault:invalidcomparison"
         },
         {
          "count": 3,
          "description": "The observed pattern is nothing more than the pattern of population density.",
          "name": "Just a Population Map",
          "subcategories": [
           "logical"
          ],
          "tag": "fault:map:population"
         },
         {
          "count": 2,
          "description": "Suggesting causal relationships from correlations.",
          "name": "Spurious Correlation",
          "subcategories": [
           "logical"
          ],
          "tag": "fault:spuriousocorrelation"
         }
        ],
        "sorted": true,
        "subcategories": [
         {
          "category": "fault",
          "description": "Issues related to the axes of coordinated planes",
          "group": "grammar",
          "name": "Axis",
          "subcategory": "axis"
         },
         {
          "category": "fault",
          "description": "Issues related to legends and the use of scales",
          "group": "grammar",
          "name": "Legends and Scales",
          "subcategory": "scale"
         },
         {
          "category": "fault",
          "description": "Issues in the use of colors",
          "group": "grammar",
          "name": "Color",
          "subcategory": "color"
         },
         {
          "category": "fault",
          "description": "Issues related to titles, annotations and labels",
          "group": "grammar",
          "name": "Text",
          "subcategory": "text"
         },
         {
          "category": "fault",
          "description": "Issues related to visual encoding",
          "group": "grammar",
          "name": "Encoding",
          "subcategory": "encoding"
         },
         {
          "category": "fault",
          "description": "Issues related to the underlying data, its sources and completeness",
          "group": "pipeline",
          "name": "Data",
          "subcategory": "data"
         },
         {
          "category": "fault",
          "description": "Issues introduced when processing data or applying statistical transformations",
          "group": "pipeline",
          "name": "Data Transformation",
          "subcategory": "derive"
         },
         {
          "category": "fault",
          "description": "Issues in visual design choices",
          "group": "pipeline",
          "name": "Design Choices",
          "subcategory": "design"
         },
         {
          "category": "fault",
          "description": "Issues introduced in the graph drawing process, leads to missing graph elements or incomplete graph",
          "group": "pipeline",
          "name": "Graph Drawing",
          "subcategory": "graph"
         },
         {
          "category": "fault",
          "description": "Difficulties in reading",
          "group": "pipeline",
          "name": "Reading",
          "subcategory": "visual"
         },
         {
          "category": "fault",
          "description": "Issues related to the weaknesses in human perception",
          "group": "pipeline",
          "name": "Perception",
          "subcategory": "perception"
         },
         {
          "category": "fault",
          "description": "Visualizations that are trying to convey nonsense or illogical messages",
          "group": "pipeline",
          "name": "Message",
          "subcategory": "logical"
         }
        ]
       },
       {
        "category": "form",
        "group_subcat_threshold": 10,
        "name": "Chart Types",
        "options": [
         {
          "count": 249,
          "name": "Bar Chart",
          "subcategory": "bar",
          "tag": "form:barchart"
         },
         {
          "count": 30,
          "name": "Stacked Bar Chart",
          "subcategory": "bar",
          "tag": "form:stackedbarchart"
         },
         {
          "count": 3,
          "name": "Dot Plot",
          "subcategory": "bar",
          "tag": "form:dotplot"
         },
         {
          "count": 4,
          "name": "Histogram",
          "subcategory": "bar",
          "tag": "form:histogram"
         },
         {
          "count": 2,
          "name": "Barcode Chart",
          "subcategory": "bar",
          "tag": "form:barcodechart"
         },
         {
          "count": 4,
          "name": "Progress Bar",
          "subcategory": "bar",
          "tag": "form:progressbar"
         },
         {
          "count": 164,
          "name": "Line Chart",
          "subcategory": "line",
          "tag": "form:linechart"
         },
         {
          "count": 19,
          "name": "Node-Link Diagram",
          "subcategory": "line",
          "tag": "form:nodelink"
         },
         {
          "count": 5,
          "name": "Parallel Coordinates",
          "subcategory": "line",
          "tag": "form:parallelcoor"
         },
         {
          "count": 1,
          "name": "Radar Chart",
          "subcategory": "line",
          "tag": "form:radarchart"
         },
         {
          "count": 12,
          "name": "Sankey Diagram",
          "subcategory": "line",
          "tag": "form:sankeydiagram"
         },
         {
          "count": 4,
          "name": "Box Plot",
          "subcategory": "line",
          "tag": "form:boxplot"
         },
         {
          "count": 1,
          "name": "Violin Plot",
          "subcategory": "line",
          "tag": "form:violinplot"
         },
         {
          "count": 1,
          "name": "Time Line",
          "subcategory": "line",
          "tag": "form:timeline"
         },
         {
          "count": 10,
          "name": "Connected Scatter Plot",
          "subcategory": "dot",
          "tag": "form:connectedscatterplot"
         },
         {
          "count": 21,
          "name": "Scatter Plot",
          "subcategory": "dot",
          "tag": "form:scatterplot"
         },
         {
          "count": 2,
          "name": "Dumbbell Plot",
          "subcategory": "dot",
          "tag": "form:dumbbellplot"
         },
         {
          "count": 3,
          "name": "Polar Graph",
          "subcategory": "dot",
          "tag": "form:polargraph"
         },
         {
          "count": 10,
          "name": "Bubble Chart",
          "subcategory": "circle",
          "tag": "form:bubblechart"
         },
         {
          "count": 146,
          "name": "Pie Chart",
          "subcategory": "circle",
          "tag": "form:piechart"
         },
         {
          "count": 45,
          "name": "Donut Chart",
          "subcategory": "circle",
          "tag": "form:donutchart"
         },
         {
          "count": 3,
          "name": "Guage Chart",
          "subcategory": "circle",
          "tag": "form:guagechart"
         },
         {
          "count": 1,
          "name": "Sunbrust Diagram",
          "subcategory": "circle",
          "tag": "form:sunbrust"
         },
         {
          "count": 18,
          "name": "Venn Diagram",
          "subcategory": "circle",
          "tag": "form:venn"
         },
         {
          "count": 4,
          "name": "Nested Bubbles",
          "subcategory": "circle",
          "tag": "form:nestedbubble"
         },
         {
          "count": 6,
          "name": "Polar Area Chart",
          "subcategory": "circle",
          "tag": "form:polararea"
         },
         {
          "count": 1,
          "name": "Chord Diagram",
          "subcategory": "circle",
          "tag": "form:chord"
         },
         {
          "count": 27,
          "name": "Area Chart",
          "subcategory": "area",
          "tag": "form:areachart"
         },
         {
          "count": 12,
          "name": "Stacked Area Chart",
          "subcategory": "area",
          "tag": "form:stackedareachart"
         },
         {
          "count": 1,
          "name": "Stream Graph",
          "subcategory": "area",
          "tag": "form:streamgraph"
         },
         {
          "count": 4,
          "name": "Treemap",
          "subcategory": "area",
          "tag": "form:treemap"
         },
         {
          "count": 4,
          "name": "Voronoi Diagram",
          "subcategory": "area",
          "tag": "form:voronoi"
         },
         {
          "count": 7,
          "name": "Pyramid",
          "subcategory": "area",
          "tag": "form:pyramid"
         },
         {
          "count": 78,
          "name": "Choropleth",
          "subcategory": "map",
          "tag": "form:choropleth"
         },
         {
          "count": 2,
          "name": "Flow Map",
          "subcategory": "map",
          "tag": "form:flowmap"
         },
         {
          "count": 46,
          "name": "Map",
          "subcategory": "map",
          "tag": "form:map"
         },
         {
          "count": 37,
          "name": "Table",
          "subcategory": "table",
          "tag": "form:table"
         },
         {
          "count": 9,
          "name": "Heatmap",
          "subcategory": "table",
          "tag": "form:heatmap"
         },
         {
          "count": 6,
          "name": "Quadrant",
          "subcategory": "table",
          "tag": "form:quadrant"
         },
         {
          "count": 60,
          "name": "Pictogram",
          "subcategory": "icon",
          "tag": "form:pictogram"
         },
         {
          "count": 3,
          "name": "Chernoff Face",
          "subcategory": "icon",
          "tag": "form:chernoffface"
         },
         {
          "count": 38,
          "name": "Unclassified",
          "subcategory": "other",
          "tag": "form:unknown"
         }
        ],
        "subcategories": [
         {
          "category": "form",
          "name": "Bar",
          "subcategory": "bar"
         },
         {
          "category": "form",
          "name": "Line",
          "subcategory": "line"
         },
         {
          "category": "form",
          "name": "Dot",
          "subcategory": "dot"
         },
         {
          "category": "form",
          "name": "Circle",
          "subcategory": "circle"
         },
         {
          "category": "form",
          "name": "Area",
          "subcategory": "area"
         },
         {
          "category": "form",
          "name": "Map",
          "subcategory": "map"
         },
         {
          "category": "form",
          "name": "Table",
          "subcategory": "table"
         },
         {
          "category": "form",
          "name": "Icon",
          "subcategory": "icon"
         },
         {
          "category": "form",
          "name": "Other",
          "subcategory": "other"
         }
        ]
       },
       {
        "category": "data",
        "name": "Data Types",
        "options": [
         {
          "count": 630,
          "name": "Categorical",
          "subcategory": "attribute",
          "tag": "data:categorical"
         },
         {
          "count": 402,
          "name": "Quantitative",
          "subcategory": "attribute",
          "tag": "data:quantitative"
         },
         {
          "count": 42,
          "name": "Sequential",
          "subcategory": "attribute",
          "tag": "data:sequential"
         },
         {
          "count": 13,
          "name": "Diverging",
          "subcategory": "attribute",
          "tag": "data:diverging"
         },
         {
          "count": 34,
          "name": "Ordinal",
          "subcategory": "attribute",
          "tag": "data:ordinal"
         },
         {
          "count": 211,
          "name": "Time Series",
          "subcategory": "time",
          "tag": "data:timeseries"
         },
         {
          "count": 6,
          "name": "Cyclic",
          "subcategory": "time",
          "tag": "data:cyclic"
         },
         {
          "count": 116,
          "name": "Geospatial",
          "subcategory": "position",
          "tag": "data:geospatial"
         },
         {
          "count": 2,
          "name": "Flow",
          "subcategory": "position",
          "tag": "data:flow"
         },
         {
          "count": 4,
          "name": "Bitmap",
          "subcategory": "position",
          "tag": "data:bitmap"
         },
         {
          "count": 5,
          "name": "Positional",
          "subcategory": "position",
          "tag": "data:positional"
         },
         {
          "count": 22,
          "name": "Network",
          "subcategory": "relation",
          "tag": "data:network"
         },
         {
          "count": 4,
          "name": "Tree",
          "subcategory": "relation",
          "tag": "data:tree"
         },
         {
          "count": 18,
          "name": "Set",
          "subcategory": "relation",
          "tag": "data:set"
         },
         {
          "count": 11,
          "name": "Ranked",
          "subcategory": "derived",
          "tag": "data:ranking"
         },
         {
          "count": 28,
          "name": "Index Value",
          "subcategory": "derived",
          "tag": "data:indexvalue"
         },
         {
          "count": 4,
          "name": "Accumulated",
          "subcategory": "derived",
          "tag": "data:accumulated"
         },
         {
          "count": 355,
          "name": "Percentage",
          "subcategory": "derived",
          "tag": "data:percentage"
         },
         {
          "count": 5,
          "name": "Probability",
          "subcategory": "derived",
          "tag": "data:probability"
         },
         {
          "count": 4,
          "name": "Text",
          "subcategory": "other",
          "tag": "data:text"
         },
         {
          "count": 9,
          "name": "Multivariate",
          "subcategory": "other",
          "tag": "data:multivariate"
         }
        ],
        "subcategories": [
         {
          "category": "data",
          "description": "Basic attributes",
          "name": "Attribute",
          "subcategory": "attribute"
         },
         {
          "category": "data",
          "description": "Derived attributes",
          "name": "Derived",
          "subcategory": "derived"
         },
         {
          "category": "data",
          "description": "Time related data",
          "name": "Time",
          "subcategory": "time"
         },
         {
          "category": "data",
          "description": "Spatial meaning in x-, y-, or z-axes",
          "name": "Coordinated",
          "subcategory": "position"
         },
         {
          "category": "data",
          "description": "Items are inter-linked",
          "name": "Relational",
          "subcategory": "relation"
         },
         {
          "category": "data",
          "description": "Other uncategorized data types",
          "name": "Other",
          "subcategory": "other"
         }
        ]
       },
       {
        "category": "domain",
        "name": "Domains",
        "options": [
         {
          "count": 116,
          "name": "Politics",
          "tag": "domain:politics"
         },
         {
          "count": 86,
          "name": "Business",
          "tag": "domain:business"
         },
         {
          "count": 92,
          "name": "Entertainment",
          "tag": "domain:entertainment"
         },
         {
          "count": 25,
          "name": "Scientific",
          "tag": "domain:scientific"
         },
         {
          "count": 46,
          "name": "Sports",
          "tag": "domain:sports"
         },
         {
          "count": 128,
          "name": "Health",
          "tag": "domain:health"
         },
         {
          "count": 49,
          "name": "Education",
          "tag": "domain:education"
         },
         {
          "count": 32,
          "name": "Food",
          "tag": "domain:catering"
         },
         {
          "count": 67,
          "name": "Computer",
          "tag": "domain:computer"
         },
         {
          "count": 56,
          "name": "Environment",
          "tag": "domain:environment"
         },
         {
          "count": 78,
          "name": "International",
          "tag": "domain:international"
         },
         {
          "count": 154,
          "name": "Public",
          "tag": "domain:public"
         },
         {
          "count": 49,
          "name": "Personal",
          "tag": "domain:personal"
         },
         {
          "count": 34,
          "name": "Unknown",
          "tag": "domain:unknown"
         }
        ]
       },
       {
        "category": "media",
        "name": "Medium",
        "options": [
         {
          "count": 59,
          "name": "TV",
          "tag": "media:tv"
         },
         {
          "count": 15,
          "name": "News Article",
          "tag": "media:news"
         },
         {
          "count": 16,
          "name": "Ads",
          "tag": "media:ads"
         },
         {
          "count": 84,
          "name": "Printed",
          "tag": "media:printed"
         },
         {
          "count": 10,
          "name": "Handdrawn",
          "tag": "media:handdrawn"
         },
         {
          "count": 4,
          "name": "Inreallife",
          "tag": "media:inreallife"
         },
         {
          "count": 8,
          "name": "NSFW",
          "tag": "media:NSFW"
         },
         {
          "count": 23,
          "name": "Infographic",
          "tag": "media:infographic"
         },
         {
          "count": 15,
          "name": "Google Products",
          "tag": "media:google"
         }
        ]
       },
       {
        "category": "layout",
        "name": "Layouts",
        "options": [
         {
          "count": 13,
          "name": "Circular",
          "tag": "layout:circular"
         },
         {
          "count": 58,
          "name": "Juxtaposition",
          "tag": "layout:juxtaposition"
         },
         {
          "count": 8,
          "name": "Superimposed",
          "tag": "layout:overlay"
         },
         {
          "count": 14,
          "name": "Multiple-views",
          "tag": "layout:mixed"
         },
         {
          "count": 2,
          "name": "Periodictable",
          "tag": "layout:periodictable"
         },
         {
          "count": 4,
          "name": "Clock",
          "tag": "layout:clock"
         },
         {
          "count": 1,
          "name": "Calendar",
          "tag": "layout:calendar"
         }
        ]
       },
       {
        "category": "effect",
        "name": "Effects",
        "options": [
         {
          "count": 10,
          "name": "Reversed",
          "tag": "effect:reversed"
         },
         {
          "count": 427,
          "name": "Distorted",
          "tag": "effect:distorted"
         },
         {
          "count": 467,
          "name": "Confused",
          "tag": "effect:confuesed"
         },
         {
          "count": 18,
          "name": "Suggestive",
          "tag": "effect:suggestive"
         }
        ]
       },
       {
        "category": "flag",
        "name": "Flags",
        "options": [
         {
          "count": 59,
          "name": "Need Review",
          "tag": "flag:needreview"
         },
         {
          "count": 1,
          "name": "Duplicated",
          "tag": "flag:duplicated"
         },
         {
          "count": 13,
          "name": "Invalid",
          "tag": "flag:invalid"
         },
         {
          "count": 67,
          "name": "Not Bad",
          "tag": "flag:notbad"
         },
         {
          "count": 4,
          "name": "Starred",
          "tag": "flag:starred"
         },
         {
          "count": 14,
          "name": "Parody",
          "tag": "flag:parody"
         }
        ]
       }
      ],
      "text/plain": [
       "<IPython.core.display.JSON object>"
      ]
     },
     "execution_count": 24,
     "metadata": {
      "application/json": {
       "expanded": false,
       "root": "root"
      }
     },
     "output_type": "execute_result"
    }
   ],
   "source": [
    "JSON(labelOptions)"
   ]
  },
  {
   "cell_type": "code",
   "execution_count": 25,
   "metadata": {},
   "outputs": [],
   "source": [
    "labelTags = {\n",
    "    'categories': [{k:v for k, v in o.items() if k not in ['options', 'subcategories']} for o in labelOptions],\n",
    "    'subcategories': subcategories,\n",
    "    'groups': groups,\n",
    "    'tags': [{**o, 'category': c['category']} for c in labelOptions for o in c['options']],\n",
    "}"
   ]
  },
  {
   "cell_type": "code",
   "execution_count": 26,
   "metadata": {},
   "outputs": [
    {
     "data": {
      "application/json": {
       "categories": [
        {
         "category": "fault",
         "grouped": true,
         "hierarchical": true,
         "name": "Issues",
         "sorted": true
        },
        {
         "category": "form",
         "group_subcat_threshold": 10,
         "name": "Chart Types"
        },
        {
         "category": "data",
         "name": "Data Types"
        },
        {
         "category": "domain",
         "name": "Domains"
        },
        {
         "category": "media",
         "name": "Medium"
        },
        {
         "category": "layout",
         "name": "Layouts"
        },
        {
         "category": "effect",
         "name": "Effects"
        },
        {
         "category": "flag",
         "name": "Flags"
        }
       ],
       "groups": [
        {
         "category": "fault",
         "description": "Issues grouped by different components of a graph",
         "group": "grammar",
         "name": "Grammar of Graphics"
        },
        {
         "category": "fault",
         "description": "Issues grouped by different stages of visual analytics",
         "group": "pipeline",
         "name": "Visual Analytics Pipeline"
        }
       ],
       "subcategories": [
        {
         "category": "fault",
         "description": "Issues related to the axes of coordinated planes",
         "group": "grammar",
         "name": "Axis",
         "subcategory": "axis"
        },
        {
         "category": "fault",
         "description": "Issues related to legends and the use of scales",
         "group": "grammar",
         "name": "Legends and Scales",
         "subcategory": "scale"
        },
        {
         "category": "fault",
         "description": "Issues in the use of colors",
         "group": "grammar",
         "name": "Color",
         "subcategory": "color"
        },
        {
         "category": "fault",
         "description": "Issues related to titles, annotations and labels",
         "group": "grammar",
         "name": "Text",
         "subcategory": "text"
        },
        {
         "category": "fault",
         "description": "Issues related to visual encoding",
         "group": "grammar",
         "name": "Encoding",
         "subcategory": "encoding"
        },
        {
         "category": "fault",
         "description": "Issues related to the underlying data, its sources and completeness",
         "group": "pipeline",
         "name": "Data",
         "subcategory": "data"
        },
        {
         "category": "fault",
         "description": "Issues introduced when processing data or applying statistical transformations",
         "group": "pipeline",
         "name": "Data Transformation",
         "subcategory": "derive"
        },
        {
         "category": "fault",
         "description": "Issues in visual design choices",
         "group": "pipeline",
         "name": "Design Choices",
         "subcategory": "design"
        },
        {
         "category": "fault",
         "description": "Issues introduced in the graph drawing process, leads to missing graph elements or incomplete graph",
         "group": "pipeline",
         "name": "Graph Drawing",
         "subcategory": "graph"
        },
        {
         "category": "fault",
         "description": "Difficulties in reading",
         "group": "pipeline",
         "name": "Reading",
         "subcategory": "visual"
        },
        {
         "category": "fault",
         "description": "Issues related to the weaknesses in human perception",
         "group": "pipeline",
         "name": "Perception",
         "subcategory": "perception"
        },
        {
         "category": "fault",
         "description": "Visualizations that are trying to convey nonsense or illogical messages",
         "group": "pipeline",
         "name": "Message",
         "subcategory": "logical"
        },
        {
         "category": "form",
         "name": "Bar",
         "subcategory": "bar"
        },
        {
         "category": "form",
         "name": "Line",
         "subcategory": "line"
        },
        {
         "category": "form",
         "name": "Dot",
         "subcategory": "dot"
        },
        {
         "category": "form",
         "name": "Circle",
         "subcategory": "circle"
        },
        {
         "category": "form",
         "name": "Area",
         "subcategory": "area"
        },
        {
         "category": "form",
         "name": "Map",
         "subcategory": "map"
        },
        {
         "category": "form",
         "name": "Table",
         "subcategory": "table"
        },
        {
         "category": "form",
         "name": "Icon",
         "subcategory": "icon"
        },
        {
         "category": "form",
         "name": "Other",
         "subcategory": "other"
        },
        {
         "category": "data",
         "description": "Basic attributes",
         "name": "Attribute",
         "subcategory": "attribute"
        },
        {
         "category": "data",
         "description": "Derived attributes",
         "name": "Derived",
         "subcategory": "derived"
        },
        {
         "category": "data",
         "description": "Time related data",
         "name": "Time",
         "subcategory": "time"
        },
        {
         "category": "data",
         "description": "Spatial meaning in x-, y-, or z-axes",
         "name": "Coordinated",
         "subcategory": "position"
        },
        {
         "category": "data",
         "description": "Items are inter-linked",
         "name": "Relational",
         "subcategory": "relation"
        },
        {
         "category": "data",
         "description": "Other uncategorized data types",
         "name": "Other",
         "subcategory": "other"
        }
       ],
       "tags": [
        {
         "category": "fault",
         "count": 8,
         "description": "Cherry-picking the scope of data, e.g., picking an arbitrary starting point of the time axis.",
         "name": "Selective Data",
         "subcategories": [
          "data"
         ],
         "tag": "fault:data:selective"
        },
        {
         "category": "fault",
         "count": 8,
         "description": "Null values in the chart that causes confusion.",
         "name": "Missing Values",
         "subcategories": [
          "data"
         ],
         "tag": "fault:data:missingvalues"
        },
        {
         "category": "fault",
         "count": 2,
         "description": "Items appear more than once in the chart.",
         "name": "Redundant Values",
         "subcategories": [
          "data"
         ],
         "tag": "fault:data:redundant"
        },
        {
         "category": "fault",
         "count": 21,
         "description": "Dubious data source.",
         "name": "Questionable Data",
         "subcategories": [
          "data"
         ],
         "tag": "fault:data:questionable"
        },
        {
         "category": "fault",
         "count": 10,
         "description": "Not real data, but drawn like backed by data.",
         "name": "Hypothetical Data",
         "subcategories": [
          "data"
         ],
         "tag": "fault:data:hypothetical"
        },
        {
         "category": "fault",
         "count": 17,
         "description": "Items are grouped arbitrarily.",
         "name": "Arbitrary Binning",
         "subcategories": [
          "derive"
         ],
         "tag": "fault:binning"
        },
        {
         "category": "fault",
         "count": 22,
         "description": "Items are not sorted, or out of order.",
         "name": "Items Out of Order",
         "subcategories": [
          "derive"
         ],
         "tag": "fault:itemorder"
        },
        {
         "category": "fault",
         "count": 40,
         "description": "Percentages do not add up to 100% in a whole-part relationship.",
         "name": "Percentage Not 100%",
         "subcategories": [
          "derive"
         ],
         "tag": "fault:percentage:sum"
        },
        {
         "category": "fault",
         "count": 26,
         "description": "Improper use of statistics, e.g., a regression line with high error.",
         "name": "Faulty Regression",
         "subcategories": [
          "derive"
         ],
         "tag": "fault:faultystatistics"
        },
        {
         "category": "fault",
         "count": 6,
         "description": "Plotting future data points derived from unreliable prediction.",
         "name": "Unreliable Forecasting",
         "subcategories": [
          "derive"
         ],
         "tag": "fault:data:prediction"
        },
        {
         "category": "fault",
         "count": 1,
         "description": "Values are indexed or normalized by an unconventional method.",
         "name": "Base Line Alignment",
         "subcategories": [
          "derive"
         ],
         "tag": "fault:baselinealignment"
        },
        {
         "category": "fault",
         "count": 11,
         "description": "Mismatch between colors and the objects that they represent, e.g., blue for apples.",
         "name": "Color Mismatch",
         "subcategories": [
          "design",
          "color"
         ],
         "tag": "fault:colorconvention"
        },
        {
         "category": "fault",
         "count": 32,
         "description": "Ineffective color scheme, e.g., categorical colors for continuous variable.",
         "name": "Ineffective Color Scheme",
         "subcategories": [
          "design",
          "color"
         ],
         "tag": "fault:colorscale"
        },
        {
         "category": "fault",
         "count": 21,
         "description": "Looks like a visualization, but not visualizing any data, also known as non-sequitur.",
         "name": "Disguised Visualization",
         "subcategories": [
          "design",
          "visual"
         ],
         "tag": "fault:nonsequitur"
        },
        {
         "category": "fault",
         "count": 20,
         "description": "Description and visualization do not add up.",
         "name": "False Description",
         "subcategories": [
          "design",
          "text"
         ],
         "tag": "fault:description"
        },
        {
         "category": "fault",
         "count": 5,
         "description": "Improper annotation or highlight.",
         "name": "Improper Annotation",
         "subcategories": [
          "design",
          "text"
         ],
         "tag": "fault:annotation"
        },
        {
         "category": "fault",
         "count": 8,
         "description": "Lines or arrows are connecting unrelated dots.",
         "name": "Invalid Connection",
         "subcategories": [
          "design",
          "encoding"
         ],
         "tag": "fault:connection"
        },
        {
         "category": "fault",
         "count": 5,
         "description": "Distort map projection to encode information",
         "name": "Distorted Map Projection",
         "subcategories": [
          "design",
          "encoding"
         ],
         "tag": "fault:mapprojection"
        },
        {
         "category": "fault",
         "count": 12,
         "description": "Data is drawn to an unconventional scale.",
         "name": "Absurd Scale",
         "subcategories": [
          "design",
          "scale"
         ],
         "tag": "fault:scale"
        },
        {
         "category": "fault",
         "count": 3,
         "description": "Incorrect use of log scale.",
         "name": "Incorrect Use of Log Scale",
         "subcategories": [
          "design",
          "scale"
         ],
         "tag": "fault:scale:log"
        },
        {
         "category": "fault",
         "count": 19,
         "description": "Plotting more than one different scale on a single dimension, most often the y-axis.",
         "name": "Dual Axes",
         "subcategories": [
          "design",
          "axis"
         ],
         "tag": "fault:axis:double"
        },
        {
         "category": "fault",
         "count": 63,
         "description": "Chart is understandable, but unintuitive, there are better alternatives.",
         "name": "Ineffective Encoding",
         "subcategories": [
          "design",
          "encoding"
         ],
         "tag": "fault:betteralternative"
        },
        {
         "category": "fault",
         "count": 10,
         "description": "Poor positioning, alignment, or rotation of items.",
         "name": "Poor Positioning",
         "subcategories": [
          "design",
          "visual"
         ],
         "tag": "fault:position"
        },
        {
         "category": "fault",
         "count": 12,
         "description": "Valid encoding choice but incorrectly drawn, e.g., a glitch.",
         "name": "Plotting Error",
         "subcategories": [
          "graph",
          "visual"
         ],
         "tag": "fault:encoding"
        },
        {
         "category": "fault",
         "count": 36,
         "description": "Too many colors, mostly related to the scalability issues.",
         "name": "Too Many Colors",
         "subcategories": [
          "graph",
          "color"
         ],
         "tag": "fault:color:over12"
        },
        {
         "category": "fault",
         "count": 160,
         "description": "The geometric shapes do not match the labelled values.",
         "name": "Misrepresentation",
         "subcategories": [
          "graph",
          "scale"
         ],
         "tag": "fault:scale:inconsistent"
        },
        {
         "category": "fault",
         "count": 16,
         "description": "Different scales across related charts.",
         "name": "Inconsistent Scale Across",
         "subcategories": [
          "graph",
          "scale"
         ],
         "tag": "fault:scale:inconsistentacross"
        },
        {
         "category": "fault",
         "count": 22,
         "description": "Missing label for item details.",
         "name": "Missing Item Labels",
         "subcategories": [
          "graph",
          "text"
         ],
         "tag": "fault:missinglabel"
        },
        {
         "category": "fault",
         "count": 26,
         "description": "Items are labeled with incorrect description.",
         "name": "Incorrect Item Labels",
         "subcategories": [
          "graph",
          "text"
         ],
         "tag": "fault:wronglabel"
        },
        {
         "category": "fault",
         "count": 40,
         "description": "Axis is missing for a coordinated chart.",
         "name": "Missing Axis",
         "subcategories": [
          "graph",
          "axis"
         ],
         "tag": "fault:axis:missing"
        },
        {
         "category": "fault",
         "count": 36,
         "description": "Axis is not labeled with tick marks.",
         "name": "Missing Axis Labels",
         "subcategories": [
          "graph",
          "axis",
          "text"
         ],
         "tag": "fault:axis:label"
        },
        {
         "category": "fault",
         "count": 31,
         "description": "Axis is incorrectly labeled.",
         "name": "Incorrect Axis Labels",
         "subcategories": [
          "graph",
          "axis",
          "text"
         ],
         "tag": "fault:axis:incorrectlabel"
        },
        {
         "category": "fault",
         "count": 5,
         "description": "Intervals on an axis does not follow a scale.",
         "name": "Inconsistent Tick Interval",
         "subcategories": [
          "graph",
          "axis"
         ],
         "tag": "fault:inconsistentaxisinterval"
        },
        {
         "category": "fault",
         "count": 17,
         "description": "Inconsistent time interval between data points.",
         "name": "Inconsistent Time Interval",
         "subcategories": [
          "graph",
          "axis"
         ],
         "tag": "fault:inconsistentinterval"
        },
        {
         "category": "fault",
         "count": 34,
         "description": "Legend is needed but missing.",
         "name": "Missing Legend",
         "subcategories": [
          "graph",
          "scale"
         ],
         "tag": "fault:legend"
        },
        {
         "category": "fault",
         "count": 18,
         "description": "Axis values are increasing in an unconventional direction.",
         "name": "Flipped Axis",
         "subcategories": [
          "graph",
          "axis"
         ],
         "tag": "fault:axis:flipped"
        },
        {
         "category": "fault",
         "count": 63,
         "description": "Non-zero starting point on an axis that exaggerates or understates differences between items.",
         "name": "Truncated Axis",
         "subcategories": [
          "graph",
          "axis"
         ],
         "tag": "fault:axis:truncated"
        },
        {
         "category": "fault",
         "count": 67,
         "description": "Categorical colors are undistinguishable with each other.",
         "name": "Undistinguishable Colors",
         "subcategories": [
          "visual",
          "color"
         ],
         "tag": "fault:colormess"
        },
        {
         "category": "fault",
         "count": 14,
         "description": "Eye beats memory, comparing changes across animation frames is impossible.",
         "name": "Unjustified Animation",
         "subcategories": [
          "visual",
          "perception"
         ],
         "tag": "fault:animation"
        },
        {
         "category": "fault",
         "count": 32,
         "description": "Lengend is not helpful in understanding the chart.",
         "name": "Confusing Legend",
         "subcategories": [
          "visual",
          "scale"
         ],
         "tag": "fault:legendconfuse"
        },
        {
         "category": "fault",
         "count": 11,
         "description": "Labels are hard to understand or not understandable at all.",
         "name": "Confusing Label",
         "subcategories": [
          "visual",
          "text"
         ],
         "tag": "fault:labelconfuse"
        },
        {
         "category": "fault",
         "count": 40,
         "description": "Overwhelmed by visual clutter.",
         "name": "Cluttering",
         "subcategories": [
          "visual"
         ],
         "tag": "fault:cluttering"
        },
        {
         "category": "fault",
         "count": 14,
         "description": "Some items are not visible in the visualization because of blockage by another item.",
         "name": "Occlusion",
         "subcategories": [
          "visual"
         ],
         "tag": "fault:occulusion"
        },
        {
         "category": "fault",
         "count": 13,
         "description": "Chart ornament that causes negative effect in understanding.",
         "name": "Chart Junk",
         "subcategories": [
          "visual"
         ],
         "tag": "fault:chartjunk"
        },
        {
         "category": "fault",
         "count": 23,
         "description": "Text in the chart are illegible.",
         "name": "Illegible Text",
         "subcategories": [
          "visual",
          "text"
         ],
         "tag": "fault:legibility"
        },
        {
         "category": "fault",
         "count": 14,
         "description": "Very disturbing while looking at it.",
         "name": "Visually Awful",
         "subcategories": [
          "visual"
         ],
         "tag": "fault:visuallyawful"
        },
        {
         "category": "fault",
         "count": 6,
         "description": "Items with same or similar colors are not related.",
         "name": "False Color Correlation",
         "subcategories": [
          "perception",
          "color"
         ],
         "tag": "fault:colorcorrelation"
        },
        {
         "category": "fault",
         "count": 63,
         "description": "Unjustified use of 3D, it distorts the perceived size of the items.",
         "name": "Unjustified 3D",
         "subcategories": [
          "perception",
          "visual"
         ],
         "tag": "fault:3d"
        },
        {
         "category": "fault",
         "count": 24,
         "description": "Incorrect use of area encoding that exaggerates or understates differences between items.",
         "name": "Area Encoding",
         "subcategories": [
          "perception",
          "encoding"
         ],
         "tag": "fault:area"
        },
        {
         "category": "fault",
         "count": 14,
         "description": "Pictogram is improperly scaled to reflect value differences.",
         "name": "Area Encoded Pictogram",
         "subcategories": [
          "perception",
          "encoding"
         ],
         "tag": "fault:picto:distortion"
        },
        {
         "category": "fault",
         "count": 29,
         "description": "Cannot decode any data nor information.",
         "name": "Not Understandable",
         "subcategories": [
          "logical"
         ],
         "tag": "fault:cannotunderstand"
        },
        {
         "category": "fault",
         "count": 11,
         "description": "Not whole-part relationship but draw as a chart for whole-part relationship like pie chart.",
         "name": "Faulty Whole Part",
         "subcategories": [
          "logical"
         ],
         "tag": "fault:percentage:wholepart"
        },
        {
         "category": "fault",
         "count": 10,
         "description": "Conveying an illogical message.",
         "name": "Faulty Logic",
         "subcategories": [
          "logical"
         ],
         "tag": "fault:faultylogic"
        },
        {
         "category": "fault",
         "count": 7,
         "description": "Need background information in order to understand the message.",
         "name": "Missing Context",
         "subcategories": [
          "logical"
         ],
         "tag": "fault:missingcontext"
        },
        {
         "category": "fault",
         "count": 12,
         "description": "Comparison between items that are incomparable.",
         "name": "Invalid Comparison",
         "subcategories": [
          "logical"
         ],
         "tag": "fault:invalidcomparison"
        },
        {
         "category": "fault",
         "count": 3,
         "description": "The observed pattern is nothing more than the pattern of population density.",
         "name": "Just a Population Map",
         "subcategories": [
          "logical"
         ],
         "tag": "fault:map:population"
        },
        {
         "category": "fault",
         "count": 2,
         "description": "Suggesting causal relationships from correlations.",
         "name": "Spurious Correlation",
         "subcategories": [
          "logical"
         ],
         "tag": "fault:spuriousocorrelation"
        },
        {
         "category": "form",
         "count": 249,
         "name": "Bar Chart",
         "subcategory": "bar",
         "tag": "form:barchart"
        },
        {
         "category": "form",
         "count": 30,
         "name": "Stacked Bar Chart",
         "subcategory": "bar",
         "tag": "form:stackedbarchart"
        },
        {
         "category": "form",
         "count": 3,
         "name": "Dot Plot",
         "subcategory": "bar",
         "tag": "form:dotplot"
        },
        {
         "category": "form",
         "count": 4,
         "name": "Histogram",
         "subcategory": "bar",
         "tag": "form:histogram"
        },
        {
         "category": "form",
         "count": 2,
         "name": "Barcode Chart",
         "subcategory": "bar",
         "tag": "form:barcodechart"
        },
        {
         "category": "form",
         "count": 4,
         "name": "Progress Bar",
         "subcategory": "bar",
         "tag": "form:progressbar"
        },
        {
         "category": "form",
         "count": 164,
         "name": "Line Chart",
         "subcategory": "line",
         "tag": "form:linechart"
        },
        {
         "category": "form",
         "count": 19,
         "name": "Node-Link Diagram",
         "subcategory": "line",
         "tag": "form:nodelink"
        },
        {
         "category": "form",
         "count": 5,
         "name": "Parallel Coordinates",
         "subcategory": "line",
         "tag": "form:parallelcoor"
        },
        {
         "category": "form",
         "count": 1,
         "name": "Radar Chart",
         "subcategory": "line",
         "tag": "form:radarchart"
        },
        {
         "category": "form",
         "count": 12,
         "name": "Sankey Diagram",
         "subcategory": "line",
         "tag": "form:sankeydiagram"
        },
        {
         "category": "form",
         "count": 4,
         "name": "Box Plot",
         "subcategory": "line",
         "tag": "form:boxplot"
        },
        {
         "category": "form",
         "count": 1,
         "name": "Violin Plot",
         "subcategory": "line",
         "tag": "form:violinplot"
        },
        {
         "category": "form",
         "count": 1,
         "name": "Time Line",
         "subcategory": "line",
         "tag": "form:timeline"
        },
        {
         "category": "form",
         "count": 10,
         "name": "Connected Scatter Plot",
         "subcategory": "dot",
         "tag": "form:connectedscatterplot"
        },
        {
         "category": "form",
         "count": 21,
         "name": "Scatter Plot",
         "subcategory": "dot",
         "tag": "form:scatterplot"
        },
        {
         "category": "form",
         "count": 2,
         "name": "Dumbbell Plot",
         "subcategory": "dot",
         "tag": "form:dumbbellplot"
        },
        {
         "category": "form",
         "count": 3,
         "name": "Polar Graph",
         "subcategory": "dot",
         "tag": "form:polargraph"
        },
        {
         "category": "form",
         "count": 10,
         "name": "Bubble Chart",
         "subcategory": "circle",
         "tag": "form:bubblechart"
        },
        {
         "category": "form",
         "count": 146,
         "name": "Pie Chart",
         "subcategory": "circle",
         "tag": "form:piechart"
        },
        {
         "category": "form",
         "count": 45,
         "name": "Donut Chart",
         "subcategory": "circle",
         "tag": "form:donutchart"
        },
        {
         "category": "form",
         "count": 3,
         "name": "Guage Chart",
         "subcategory": "circle",
         "tag": "form:guagechart"
        },
        {
         "category": "form",
         "count": 1,
         "name": "Sunbrust Diagram",
         "subcategory": "circle",
         "tag": "form:sunbrust"
        },
        {
         "category": "form",
         "count": 18,
         "name": "Venn Diagram",
         "subcategory": "circle",
         "tag": "form:venn"
        },
        {
         "category": "form",
         "count": 4,
         "name": "Nested Bubbles",
         "subcategory": "circle",
         "tag": "form:nestedbubble"
        },
        {
         "category": "form",
         "count": 6,
         "name": "Polar Area Chart",
         "subcategory": "circle",
         "tag": "form:polararea"
        },
        {
         "category": "form",
         "count": 1,
         "name": "Chord Diagram",
         "subcategory": "circle",
         "tag": "form:chord"
        },
        {
         "category": "form",
         "count": 27,
         "name": "Area Chart",
         "subcategory": "area",
         "tag": "form:areachart"
        },
        {
         "category": "form",
         "count": 12,
         "name": "Stacked Area Chart",
         "subcategory": "area",
         "tag": "form:stackedareachart"
        },
        {
         "category": "form",
         "count": 1,
         "name": "Stream Graph",
         "subcategory": "area",
         "tag": "form:streamgraph"
        },
        {
         "category": "form",
         "count": 4,
         "name": "Treemap",
         "subcategory": "area",
         "tag": "form:treemap"
        },
        {
         "category": "form",
         "count": 4,
         "name": "Voronoi Diagram",
         "subcategory": "area",
         "tag": "form:voronoi"
        },
        {
         "category": "form",
         "count": 7,
         "name": "Pyramid",
         "subcategory": "area",
         "tag": "form:pyramid"
        },
        {
         "category": "form",
         "count": 78,
         "name": "Choropleth",
         "subcategory": "map",
         "tag": "form:choropleth"
        },
        {
         "category": "form",
         "count": 2,
         "name": "Flow Map",
         "subcategory": "map",
         "tag": "form:flowmap"
        },
        {
         "category": "form",
         "count": 46,
         "name": "Map",
         "subcategory": "map",
         "tag": "form:map"
        },
        {
         "category": "form",
         "count": 37,
         "name": "Table",
         "subcategory": "table",
         "tag": "form:table"
        },
        {
         "category": "form",
         "count": 9,
         "name": "Heatmap",
         "subcategory": "table",
         "tag": "form:heatmap"
        },
        {
         "category": "form",
         "count": 6,
         "name": "Quadrant",
         "subcategory": "table",
         "tag": "form:quadrant"
        },
        {
         "category": "form",
         "count": 60,
         "name": "Pictogram",
         "subcategory": "icon",
         "tag": "form:pictogram"
        },
        {
         "category": "form",
         "count": 3,
         "name": "Chernoff Face",
         "subcategory": "icon",
         "tag": "form:chernoffface"
        },
        {
         "category": "form",
         "count": 38,
         "name": "Unclassified",
         "subcategory": "other",
         "tag": "form:unknown"
        },
        {
         "category": "data",
         "count": 630,
         "name": "Categorical",
         "subcategory": "attribute",
         "tag": "data:categorical"
        },
        {
         "category": "data",
         "count": 402,
         "name": "Quantitative",
         "subcategory": "attribute",
         "tag": "data:quantitative"
        },
        {
         "category": "data",
         "count": 42,
         "name": "Sequential",
         "subcategory": "attribute",
         "tag": "data:sequential"
        },
        {
         "category": "data",
         "count": 13,
         "name": "Diverging",
         "subcategory": "attribute",
         "tag": "data:diverging"
        },
        {
         "category": "data",
         "count": 34,
         "name": "Ordinal",
         "subcategory": "attribute",
         "tag": "data:ordinal"
        },
        {
         "category": "data",
         "count": 211,
         "name": "Time Series",
         "subcategory": "time",
         "tag": "data:timeseries"
        },
        {
         "category": "data",
         "count": 6,
         "name": "Cyclic",
         "subcategory": "time",
         "tag": "data:cyclic"
        },
        {
         "category": "data",
         "count": 116,
         "name": "Geospatial",
         "subcategory": "position",
         "tag": "data:geospatial"
        },
        {
         "category": "data",
         "count": 2,
         "name": "Flow",
         "subcategory": "position",
         "tag": "data:flow"
        },
        {
         "category": "data",
         "count": 4,
         "name": "Bitmap",
         "subcategory": "position",
         "tag": "data:bitmap"
        },
        {
         "category": "data",
         "count": 5,
         "name": "Positional",
         "subcategory": "position",
         "tag": "data:positional"
        },
        {
         "category": "data",
         "count": 22,
         "name": "Network",
         "subcategory": "relation",
         "tag": "data:network"
        },
        {
         "category": "data",
         "count": 4,
         "name": "Tree",
         "subcategory": "relation",
         "tag": "data:tree"
        },
        {
         "category": "data",
         "count": 18,
         "name": "Set",
         "subcategory": "relation",
         "tag": "data:set"
        },
        {
         "category": "data",
         "count": 11,
         "name": "Ranked",
         "subcategory": "derived",
         "tag": "data:ranking"
        },
        {
         "category": "data",
         "count": 28,
         "name": "Index Value",
         "subcategory": "derived",
         "tag": "data:indexvalue"
        },
        {
         "category": "data",
         "count": 4,
         "name": "Accumulated",
         "subcategory": "derived",
         "tag": "data:accumulated"
        },
        {
         "category": "data",
         "count": 355,
         "name": "Percentage",
         "subcategory": "derived",
         "tag": "data:percentage"
        },
        {
         "category": "data",
         "count": 5,
         "name": "Probability",
         "subcategory": "derived",
         "tag": "data:probability"
        },
        {
         "category": "data",
         "count": 4,
         "name": "Text",
         "subcategory": "other",
         "tag": "data:text"
        },
        {
         "category": "data",
         "count": 9,
         "name": "Multivariate",
         "subcategory": "other",
         "tag": "data:multivariate"
        },
        {
         "category": "domain",
         "count": 116,
         "name": "Politics",
         "tag": "domain:politics"
        },
        {
         "category": "domain",
         "count": 86,
         "name": "Business",
         "tag": "domain:business"
        },
        {
         "category": "domain",
         "count": 92,
         "name": "Entertainment",
         "tag": "domain:entertainment"
        },
        {
         "category": "domain",
         "count": 25,
         "name": "Scientific",
         "tag": "domain:scientific"
        },
        {
         "category": "domain",
         "count": 46,
         "name": "Sports",
         "tag": "domain:sports"
        },
        {
         "category": "domain",
         "count": 128,
         "name": "Health",
         "tag": "domain:health"
        },
        {
         "category": "domain",
         "count": 49,
         "name": "Education",
         "tag": "domain:education"
        },
        {
         "category": "domain",
         "count": 32,
         "name": "Food",
         "tag": "domain:catering"
        },
        {
         "category": "domain",
         "count": 67,
         "name": "Computer",
         "tag": "domain:computer"
        },
        {
         "category": "domain",
         "count": 56,
         "name": "Environment",
         "tag": "domain:environment"
        },
        {
         "category": "domain",
         "count": 78,
         "name": "International",
         "tag": "domain:international"
        },
        {
         "category": "domain",
         "count": 154,
         "name": "Public",
         "tag": "domain:public"
        },
        {
         "category": "domain",
         "count": 49,
         "name": "Personal",
         "tag": "domain:personal"
        },
        {
         "category": "domain",
         "count": 34,
         "name": "Unknown",
         "tag": "domain:unknown"
        },
        {
         "category": "media",
         "count": 59,
         "name": "TV",
         "tag": "media:tv"
        },
        {
         "category": "media",
         "count": 15,
         "name": "News Article",
         "tag": "media:news"
        },
        {
         "category": "media",
         "count": 16,
         "name": "Ads",
         "tag": "media:ads"
        },
        {
         "category": "media",
         "count": 84,
         "name": "Printed",
         "tag": "media:printed"
        },
        {
         "category": "media",
         "count": 10,
         "name": "Handdrawn",
         "tag": "media:handdrawn"
        },
        {
         "category": "media",
         "count": 4,
         "name": "Inreallife",
         "tag": "media:inreallife"
        },
        {
         "category": "media",
         "count": 8,
         "name": "NSFW",
         "tag": "media:NSFW"
        },
        {
         "category": "media",
         "count": 23,
         "name": "Infographic",
         "tag": "media:infographic"
        },
        {
         "category": "media",
         "count": 15,
         "name": "Google Products",
         "tag": "media:google"
        },
        {
         "category": "layout",
         "count": 13,
         "name": "Circular",
         "tag": "layout:circular"
        },
        {
         "category": "layout",
         "count": 58,
         "name": "Juxtaposition",
         "tag": "layout:juxtaposition"
        },
        {
         "category": "layout",
         "count": 8,
         "name": "Superimposed",
         "tag": "layout:overlay"
        },
        {
         "category": "layout",
         "count": 14,
         "name": "Multiple-views",
         "tag": "layout:mixed"
        },
        {
         "category": "layout",
         "count": 2,
         "name": "Periodictable",
         "tag": "layout:periodictable"
        },
        {
         "category": "layout",
         "count": 4,
         "name": "Clock",
         "tag": "layout:clock"
        },
        {
         "category": "layout",
         "count": 1,
         "name": "Calendar",
         "tag": "layout:calendar"
        },
        {
         "category": "effect",
         "count": 10,
         "name": "Reversed",
         "tag": "effect:reversed"
        },
        {
         "category": "effect",
         "count": 427,
         "name": "Distorted",
         "tag": "effect:distorted"
        },
        {
         "category": "effect",
         "count": 467,
         "name": "Confused",
         "tag": "effect:confuesed"
        },
        {
         "category": "effect",
         "count": 18,
         "name": "Suggestive",
         "tag": "effect:suggestive"
        },
        {
         "category": "flag",
         "count": 59,
         "name": "Need Review",
         "tag": "flag:needreview"
        },
        {
         "category": "flag",
         "count": 1,
         "name": "Duplicated",
         "tag": "flag:duplicated"
        },
        {
         "category": "flag",
         "count": 13,
         "name": "Invalid",
         "tag": "flag:invalid"
        },
        {
         "category": "flag",
         "count": 67,
         "name": "Not Bad",
         "tag": "flag:notbad"
        },
        {
         "category": "flag",
         "count": 4,
         "name": "Starred",
         "tag": "flag:starred"
        },
        {
         "category": "flag",
         "count": 14,
         "name": "Parody",
         "tag": "flag:parody"
        }
       ]
      },
      "text/plain": [
       "<IPython.core.display.JSON object>"
      ]
     },
     "execution_count": 26,
     "metadata": {
      "application/json": {
       "expanded": false,
       "root": "root"
      }
     },
     "output_type": "execute_result"
    }
   ],
   "source": [
    "JSON(labelTags)"
   ]
  },
  {
   "cell_type": "markdown",
   "metadata": {},
   "source": [
    "# Export Labels"
   ]
  },
  {
   "cell_type": "code",
   "execution_count": 27,
   "metadata": {},
   "outputs": [],
   "source": [
    "json.dump(labelOptions, open('tmp/labelOptions.json', 'w'), separators=(',', ':'))"
   ]
  },
  {
   "cell_type": "code",
   "execution_count": 28,
   "metadata": {},
   "outputs": [],
   "source": [
    "json.dump(labelTags, open('tmp/labelTags.json', 'w'), separators=(',', ':'))"
   ]
  },
  {
   "cell_type": "markdown",
   "metadata": {},
   "source": [
    "# Replace Labels"
   ]
  },
  {
   "cell_type": "code",
   "execution_count": 29,
   "metadata": {},
   "outputs": [],
   "source": [
    "# # replace labels\n",
    "# current_label = 'fault:invalidencoding'\n",
    "# new_label = 'fault:cannotunderstand'\n",
    "\n",
    "# for l in vislabels.find():\n",
    "# #     if 'form:barchart' in l['labels'] and 'layout:stacked' in l['labels']:\n",
    "#     if len([l for l in l['labels'] if current_label in l]) > 0:\n",
    "#         ori_length = len(l['labels'])\n",
    "#         print(len(l['labels']), l['_id'], l['image_id'], l['labels'])\n",
    "\n",
    "#         l['labels'] = [l for l in l['labels'] if current_label not in l]\n",
    "#         if new_label not in l['labels']:\n",
    "#             l['labels'].append(new_label)\n",
    "\n",
    "#         new_length = len(l['labels'])\n",
    "#         print(new_length - ori_length, new_label in l['labels'], len(l['labels']), l['labels'])\n",
    "\n",
    "#         # vislabels.update_one({'_id': l['_id']}, {'$set': {'labels': l['labels']}})\n",
    "# #     break"
   ]
  },
  {
   "cell_type": "markdown",
   "metadata": {
    "jupyter": {
     "outputs_hidden": true
    }
   },
   "source": [
    "# "
   ]
  }
 ],
 "metadata": {
  "kernelspec": {
   "display_name": "Python 3",
   "language": "python",
   "name": "python3"
  },
  "language_info": {
   "codemirror_mode": {
    "name": "ipython",
    "version": 3
   },
   "file_extension": ".py",
   "mimetype": "text/x-python",
   "name": "python",
   "nbconvert_exporter": "python",
   "pygments_lexer": "ipython3",
   "version": "3.8.5"
  }
 },
 "nbformat": 4,
 "nbformat_minor": 4
}
