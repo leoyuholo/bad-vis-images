{
 "cells": [
  {
   "cell_type": "code",
   "execution_count": 1,
   "metadata": {},
   "outputs": [],
   "source": [
    "# import json\n",
    "from pymongo import MongoClient\n",
    "from collections import Counter\n",
    "from pathlib import Path\n",
    "import os\n",
    "import datetime\n",
    "from pydash import omit\n",
    "from bson import json_util\n",
    "\n",
    "from IPython.display import JSON"
   ]
  },
  {
   "cell_type": "code",
   "execution_count": 2,
   "metadata": {},
   "outputs": [],
   "source": [
    "mongo = MongoClient('172.17.0.1', 27017)\n",
    "db = mongo['bad-vis']\n",
    "vislabels = db['vislabels']"
   ]
  },
  {
   "cell_type": "code",
   "execution_count": 3,
   "metadata": {},
   "outputs": [],
   "source": [
    "visLabels = [l for l in vislabels.find()]"
   ]
  },
  {
   "cell_type": "markdown",
   "metadata": {},
   "source": [
    "# Backup Labels"
   ]
  },
  {
   "cell_type": "code",
   "execution_count": 4,
   "metadata": {},
   "outputs": [],
   "source": [
    "handmade_dir = Path('./handmade')\n",
    "label_dir = handmade_dir/'labels'"
   ]
  },
  {
   "cell_type": "code",
   "execution_count": 5,
   "metadata": {},
   "outputs": [],
   "source": [
    "# if os.path.isfile(label_dir/'labels.json'):\n",
    "#     os.rename(label_dir/'labels.json', label_dir/f\"labels_{datetime.datetime.now().strftime('%Y%m%d%H%M%S')}.json\")"
   ]
  },
  {
   "cell_type": "code",
   "execution_count": 6,
   "metadata": {},
   "outputs": [],
   "source": [
    "# json.dump([omit(l, '_id') for l in vislabels.find()], open(label_dir/'labels.json', 'w'), default=json_util.default)"
   ]
  },
  {
   "cell_type": "markdown",
   "metadata": {},
   "source": [
    "# Label Statistic"
   ]
  },
  {
   "cell_type": "code",
   "execution_count": 7,
   "metadata": {},
   "outputs": [],
   "source": [
    "idxLabelPairs = {(idx, l) for idx, labels in enumerate(visLabels) for l in labels['labels']}\n",
    "labelCnts = Counter([l for labels in visLabels for l in labels['labels']])"
   ]
  },
  {
   "cell_type": "code",
   "execution_count": 8,
   "metadata": {},
   "outputs": [],
   "source": [
    "# idxLabelPairs"
   ]
  },
  {
   "cell_type": "code",
   "execution_count": 9,
   "metadata": {},
   "outputs": [
    {
     "data": {
      "text/plain": [
       "[('data:categorical', 630),\n",
       " ('effect:confuesed', 467),\n",
       " ('effect:distorted', 427),\n",
       " ('data:quantitative', 402),\n",
       " ('data:percentage', 355),\n",
       " ('form:barchart', 249),\n",
       " ('data:timeseries', 211),\n",
       " ('form:linechart', 164),\n",
       " ('fault:scale:inconsistent', 160),\n",
       " ('domain:public', 154),\n",
       " ('form:piechart', 146),\n",
       " ('domain:health', 128),\n",
       " ('data:geospatial', 116),\n",
       " ('domain:politics', 116),\n",
       " ('domain:entertainment', 92),\n",
       " ('domain:business', 86),\n",
       " ('media:printed', 84),\n",
       " ('form:choropleth', 78),\n",
       " ('domain:international', 78),\n",
       " ('flag:notbad', 67),\n",
       " ('fault:colormess', 67),\n",
       " ('domain:computer', 67),\n",
       " ('fault:3d', 63),\n",
       " ('fault:axis:truncated', 63),\n",
       " ('fault:betteralternative', 63),\n",
       " ('form:pictogram', 60),\n",
       " ('media:tv', 59),\n",
       " ('flag:needreview', 59),\n",
       " ('layout:juxtaposition', 58),\n",
       " ('domain:environment', 56),\n",
       " ('domain:personal', 49),\n",
       " ('domain:education', 49),\n",
       " ('form:map', 46),\n",
       " ('domain:sports', 46),\n",
       " ('form:donutchart', 45),\n",
       " ('data:sequential', 42),\n",
       " ('fault:axis:missing', 40),\n",
       " ('fault:percentage:sum', 40),\n",
       " ('fault:cluttering', 40),\n",
       " ('form:unknown', 38),\n",
       " ('form:table', 37),\n",
       " ('fault:axis:label', 36),\n",
       " ('fault:color:over12', 36),\n",
       " ('fault:legend', 34),\n",
       " ('data:ordinal', 34),\n",
       " ('domain:unknown', 34),\n",
       " ('domain:catering', 32),\n",
       " ('fault:colorscale', 32),\n",
       " ('fault:legendconfuse', 32),\n",
       " ('fault:axis:incorrectlabel', 31),\n",
       " ('form:stackedbarchart', 30),\n",
       " ('fault:cannotunderstand', 29),\n",
       " ('data:indexvalue', 28),\n",
       " ('form:areachart', 27),\n",
       " ('fault:wronglabel', 26),\n",
       " ('fault:faultystatistics', 26),\n",
       " ('domain:scientific', 25),\n",
       " ('fault:area', 24),\n",
       " ('media:infographic', 23),\n",
       " ('fault:legibility', 23),\n",
       " ('fault:missinglabel', 22),\n",
       " ('fault:itemorder', 22),\n",
       " ('data:network', 22),\n",
       " ('fault:data:questionable', 21),\n",
       " ('fault:nonsequitur', 21),\n",
       " ('form:scatterplot', 21),\n",
       " ('fault:description', 20),\n",
       " ('fault:axis:double', 19),\n",
       " ('form:nodelink', 19),\n",
       " ('fault:axis:flipped', 18),\n",
       " ('data:set', 18),\n",
       " ('form:venn', 18),\n",
       " ('effect:suggestive', 18),\n",
       " ('fault:binning', 17),\n",
       " ('fault:inconsistentinterval', 17),\n",
       " ('media:ads', 16),\n",
       " ('fault:scale:inconsistentacross', 16),\n",
       " ('media:news', 15),\n",
       " ('media:google', 15),\n",
       " ('fault:animation', 14),\n",
       " ('flag:parody', 14),\n",
       " ('fault:picto:distortion', 14),\n",
       " ('layout:mixed', 14),\n",
       " ('fault:occulusion', 14),\n",
       " ('fault:visuallyawful', 14),\n",
       " ('data:diverging', 13),\n",
       " ('fault:chartjunk', 13),\n",
       " ('layout:circular', 13),\n",
       " ('flag:invalid', 13),\n",
       " ('fault:scale', 12),\n",
       " ('fault:invalidcomparison', 12),\n",
       " ('fault:encoding', 12),\n",
       " ('form:sankeydiagram', 12),\n",
       " ('form:stackedareachart', 12),\n",
       " ('fault:percentage:wholepart', 11),\n",
       " ('fault:labelconfuse', 11),\n",
       " ('fault:colorconvention', 11),\n",
       " ('data:ranking', 11),\n",
       " ('effect:reversed', 10),\n",
       " ('fault:position', 10),\n",
       " ('media:handdrawn', 10),\n",
       " ('form:connectedscatterplot', 10),\n",
       " ('fault:faultylogic', 10),\n",
       " ('form:bubblechart', 10),\n",
       " ('fault:data:hypothetical', 10),\n",
       " ('form:heatmap', 9),\n",
       " ('data:multivariate', 9),\n",
       " ('fault:data:selective', 8),\n",
       " ('layout:overlay', 8),\n",
       " ('fault:data:missingvalues', 8),\n",
       " ('fault:connection', 8),\n",
       " ('media:NSFW', 8),\n",
       " ('fault:missingcontext', 7),\n",
       " ('form:pyramid', 7),\n",
       " ('fault:data:prediction', 6),\n",
       " ('data:cyclic', 6),\n",
       " ('form:quadrant', 6),\n",
       " ('fault:colorcorrelation', 6),\n",
       " ('form:polararea', 6),\n",
       " ('fault:mapprojection', 5),\n",
       " ('data:probability', 5),\n",
       " ('data:positional', 5),\n",
       " ('form:parallelcoor', 5),\n",
       " ('fault:inconsistentaxisinterval', 5),\n",
       " ('fault:annotation', 5),\n",
       " ('media:inreallife', 4),\n",
       " ('data:bitmap', 4),\n",
       " ('data:accumulated', 4),\n",
       " ('form:treemap', 4),\n",
       " ('layout:clock', 4),\n",
       " ('form:nestedbubble', 4),\n",
       " ('form:histogram', 4),\n",
       " ('data:tree', 4),\n",
       " ('data:text', 4),\n",
       " ('form:boxplot', 4),\n",
       " ('form:voronoi', 4),\n",
       " ('flag:starred', 4),\n",
       " ('form:progressbar', 4),\n",
       " ('form:dotplot', 3),\n",
       " ('form:guagechart', 3),\n",
       " ('form:chernoffface', 3),\n",
       " ('fault:scale:log', 3),\n",
       " ('fault:map:population', 3),\n",
       " ('form:polargraph', 3),\n",
       " ('data:flow', 2),\n",
       " ('form:flowmap', 2),\n",
       " ('form:barcodechart', 2),\n",
       " ('form:dumbbellplot', 2),\n",
       " ('fault:data:redundant', 2),\n",
       " ('layout:periodictable', 2),\n",
       " ('fault:spuriousocorrelation', 2),\n",
       " ('form:violinplot', 1),\n",
       " ('layout:calendar', 1),\n",
       " ('form:chord', 1),\n",
       " ('form:sunbrust', 1),\n",
       " ('form:radarchart', 1),\n",
       " ('fault:baselinealignment', 1),\n",
       " ('form:streamgraph', 1),\n",
       " ('form:timeline', 1),\n",
       " ('flag:duplicated', 1)]"
      ]
     },
     "execution_count": 9,
     "metadata": {},
     "output_type": "execute_result"
    }
   ],
   "source": [
    "labelCnts.most_common()"
   ]
  },
  {
   "cell_type": "markdown",
   "metadata": {},
   "source": [
    "# Labels"
   ]
  },
  {
   "cell_type": "code",
   "execution_count": 10,
   "metadata": {},
   "outputs": [],
   "source": [
    "chart_types = [\n",
    "    {'tag': 'form:barchart',             'subcategory': 'bar',    'name': 'Bar Chart'},\n",
    "    {'tag': 'form:stackedbarchart',      'subcategory': 'bar',    'name': 'Stacked Bar Chart'},\n",
    "    {'tag': 'form:dotplot',              'subcategory': 'bar',    'name': 'Dot Plot'},\n",
    "    {'tag': 'form:histogram',            'subcategory': 'bar',    'name': 'Histogram'},\n",
    "    {'tag': 'form:barcodechart',         'subcategory': 'bar',    'name': 'Barcode Chart'},\n",
    "    {'tag': 'form:progressbar',          'subcategory': 'bar',    'name': 'Progress Bar'},\n",
    "\n",
    "    {'tag': 'form:linechart',            'subcategory': 'line',   'name': 'Line Chart'},\n",
    "    {'tag': 'form:nodelink',             'subcategory': 'line',   'name': 'Node-Link Diagram'},\n",
    "    {'tag': 'form:parallelcoor',         'subcategory': 'line',   'name': 'Parallel Coordinates'},\n",
    "    {'tag': 'form:radarchart',           'subcategory': 'line',   'name': 'Radar Chart'},\n",
    "    {'tag': 'form:sankeydiagram',        'subcategory': 'line',   'name': 'Sankey Diagram'},\n",
    "    {'tag': 'form:boxplot',              'subcategory': 'line',   'name': 'Box Plot'},\n",
    "    {'tag': 'form:violinplot',           'subcategory': 'line',   'name': 'Violin Plot'},\n",
    "    {'tag': 'form:timeline',             'subcategory': 'line',   'name': 'Time Line'},\n",
    "\n",
    "    {'tag': 'form:connectedscatterplot', 'subcategory': 'dot',    'name': 'Connected Scatter Plot'},\n",
    "    {'tag': 'form:scatterplot',          'subcategory': 'dot',    'name': 'Scatter Plot'},\n",
    "    {'tag': 'form:dumbbellplot',         'subcategory': 'dot',    'name': 'Dumbbell Plot'},\n",
    "    {'tag': 'form:polargraph',           'subcategory': 'dot',    'name': 'Polar Graph'},\n",
    "\n",
    "    {'tag': 'form:bubblechart',          'subcategory': 'circle', 'name': 'Bubble Chart'},\n",
    "    {'tag': 'form:piechart',             'subcategory': 'circle', 'name': 'Pie Chart'},\n",
    "    {'tag': 'form:donutchart',           'subcategory': 'circle', 'name': 'Donut Chart'},\n",
    "    {'tag': 'form:guagechart',           'subcategory': 'circle', 'name': 'Guage Chart'},\n",
    "    {'tag': 'form:sunbrust',             'subcategory': 'circle', 'name': 'Sunbrust Diagram'},\n",
    "    {'tag': 'form:venn',                 'subcategory': 'circle', 'name': 'Venn Diagram'},\n",
    "    {'tag': 'form:nestedbubble',         'subcategory': 'circle', 'name': 'Nested Bubbles'},\n",
    "    {'tag': 'form:polararea',            'subcategory': 'circle', 'name': 'Polar Area Chart'},\n",
    "    {'tag': 'form:chord',                'subcategory': 'circle', 'name': 'Chord Diagram'},\n",
    "\n",
    "    {'tag': 'form:areachart',            'subcategory': 'area',   'name': 'Area Chart'},\n",
    "    {'tag': 'form:stackedareachart',     'subcategory': 'area',   'name': 'Stacked Area Chart'},\n",
    "    {'tag': 'form:streamgraph',          'subcategory': 'area',   'name': 'Stream Graph'},\n",
    "    {'tag': 'form:treemap',              'subcategory': 'area',   'name': 'Treemap'},\n",
    "    {'tag': 'form:voronoi',              'subcategory': 'area',   'name': 'Voronoi Diagram'},\n",
    "    {'tag': 'form:pyramid',              'subcategory': 'area',   'name': 'Pyramid'},\n",
    "\n",
    "    {'tag': 'form:choropleth',           'subcategory': 'map',    'name': 'Choropleth'},\n",
    "    {'tag': 'form:flowmap',              'subcategory': 'map',    'name': 'Flow Map'},\n",
    "    {'tag': 'form:map',                  'subcategory': 'map',    'name': 'Map'},\n",
    "\n",
    "    {'tag': 'form:table',                'subcategory': 'table',  'name': 'Table'},\n",
    "    {'tag': 'form:heatmap',              'subcategory': 'table',  'name': 'Heatmap'},\n",
    "    {'tag': 'form:quadrant',             'subcategory': 'table',  'name': 'Quadrant'},\n",
    "\n",
    "    {'tag': 'form:pictogram',            'subcategory': 'icon',   'name': 'Pictogram'},\n",
    "    {'tag': 'form:chernoffface',         'subcategory': 'icon',   'name': 'Chernoff Face'},\n",
    "\n",
    "    {'tag': 'form:unknown',              'subcategory': 'other',  'name': 'Unclassified'},\n",
    "]\n"
   ]
  },
  {
   "cell_type": "code",
   "execution_count": 11,
   "metadata": {},
   "outputs": [],
   "source": [
    "data_types = [\n",
    "    # attribute level means you can tell its type by a single column\n",
    "    {'tag': 'data:categorical',  'subcategory': 'attribute', 'name': 'Categorical'},\n",
    "    # a measurement of magnitude that supports arithmetic comparison\n",
    "    {'tag': 'data:quantitative', 'subcategory': 'attribute', 'name': 'Quantitative'},\n",
    "    # homogeneous range from a **minimum** to a **maximum** value\n",
    "    {'tag': 'data:sequential',   'subcategory': 'attribute', 'name': 'Sequential'},\n",
    "    # deconstructed into two sequences pointing in opposite directions that meet at a **common zero point**\n",
    "    {'tag': 'data:diverging',    'subcategory': 'attribute', 'name': 'Diverging'},\n",
    "    # we cannot do full-fledged arithmetic, but there is a well-defined ordering\n",
    "    {'tag': 'data:ordinal',      'subcategory': 'attribute', 'name': 'Ordinal'},\n",
    "\n",
    "    # time related\n",
    "    {'tag': 'data:timeseries',   'subcategory': 'time',      'name': 'Time Series'},\n",
    "    {'tag': 'data:cyclic',       'subcategory': 'time',      'name': 'Cyclic'},\n",
    "\n",
    "    # coordinated, spatial meaning for x, y, or z\n",
    "    {'tag': 'data:geospatial',   'subcategory': 'position',  'name': 'Geospatial'},\n",
    "    {'tag': 'data:flow',         'subcategory': 'position',  'name': 'Flow'},\n",
    "    {'tag': 'data:bitmap',       'subcategory': 'position',  'name': 'Bitmap'},\n",
    "    {'tag': 'data:positional',   'subcategory': 'position',  'name': 'Positional'},\n",
    "\n",
    "    # records are inter-linked, set type is containment relationship\n",
    "    {'tag': 'data:network',      'subcategory': 'relation',  'name': 'Network'},\n",
    "    {'tag': 'data:tree',         'subcategory': 'relation',  'name': 'Tree'},\n",
    "    {'tag': 'data:set',          'subcategory': 'relation',  'name': 'Set'},\n",
    "\n",
    "    # derived attributes\n",
    "    {'tag': 'data:ranking',      'subcategory': 'derived',   'name': 'Ranked'},\n",
    "    {'tag': 'data:indexvalue',   'subcategory': 'derived',   'name': 'Index Value'},\n",
    "    {'tag': 'data:accumulated',  'subcategory': 'derived',   'name': 'Accumulated'},\n",
    "    {'tag': 'data:percentage',   'subcategory': 'derived',   'name': 'Percentage'},\n",
    "    {'tag': 'data:probability',  'subcategory': 'derived',   'name': 'Probability'},\n",
    "\n",
    "    # long string\n",
    "    {'tag': 'data:text',         'subcategory': 'other',      'name': 'Text'},\n",
    "    # entity level means you can tell its type by a single record\n",
    "    {'tag': 'data:multivariate', 'subcategory': 'other',    'name': 'Multivariate'},\n",
    "]\n"
   ]
  },
  {
   "cell_type": "code",
   "execution_count": 12,
   "metadata": {},
   "outputs": [],
   "source": [
    "layout_types = [\n",
    "    {'tag': 'layout:circular',      'name': 'Circular'},\n",
    "    {'tag': 'layout:juxtaposition', 'name': 'Juxtaposition'},\n",
    "    {'tag': 'layout:overlay',       'name': 'Superimposed'},\n",
    "    {'tag': 'layout:mixed',         'name': 'Multiple-views'},\n",
    "    {'tag': 'layout:periodictable', 'name': 'Periodictable'},\n",
    "    {'tag': 'layout:clock',         'name': 'Clock'},\n",
    "    {'tag': 'layout:calendar',      'name': 'Calendar'},\n",
    "\n",
    "    # {'tag': 'layout:infographics',    'name': 'Infographics'}, # move to media\n",
    "    # {'tag': 'layout:stacked',         'name': 'Stacked'}, # stakced area chart, stacked bar chart\n",
    "    # {'tag': 'layout:map',             'name': 'Map'},\n",
    "]\n"
   ]
  },
  {
   "cell_type": "code",
   "execution_count": 13,
   "metadata": {},
   "outputs": [],
   "source": [
    "domain_types = [\n",
    "    {'tag': 'domain:politics',      'name': 'Politics'},\n",
    "    {'tag': 'domain:business',      'name': 'Business'},\n",
    "    {'tag': 'domain:entertainment', 'name': 'Entertainment'},\n",
    "    {'tag': 'domain:scientific',    'name': 'Scientific'},\n",
    "    {'tag': 'domain:sports',        'name': 'Sports'},\n",
    "    {'tag': 'domain:health',        'name': 'Health'},\n",
    "    {'tag': 'domain:education',     'name': 'Education'},\n",
    "    {'tag': 'domain:catering',      'name': 'Food'},\n",
    "    {'tag': 'domain:computer',      'name': 'Computer'},\n",
    "    {'tag': 'domain:environment',   'name': 'Environment'},\n",
    "    {'tag': 'domain:international', 'name': 'International'}, # international affair\n",
    "    {'tag': 'domain:public',        'name': 'Public'}, # general public affair\n",
    "    {'tag': 'domain:personal',      'name': 'Personal'}, # personal affair\n",
    "    {'tag': 'domain:unknown',       'name': 'Unknown'},\n",
    "]"
   ]
  },
  {
   "cell_type": "code",
   "execution_count": 14,
   "metadata": {},
   "outputs": [],
   "source": [
    "media_types = [\n",
    "    {'tag': 'media:tv',          'name': 'TV'},\n",
    "    {'tag': 'media:news',        'name': 'News Article'},\n",
    "    {'tag': 'media:ads',         'name': 'Ads'},\n",
    "    {'tag': 'media:printed',     'name': 'Printed'},\n",
    "    {'tag': 'media:handdrawn',   'name': 'Handdrawn'},\n",
    "    {'tag': 'media:inreallife',  'name': 'Inreallife'},\n",
    "    {'tag': 'media:NSFW',        'name': 'NSFW'}, # Not safe for work\n",
    "    # the thin line between infographics and multiple-views is whether the picture is message bearing, multiple-views is for analytical purpose like dashboard\n",
    "    {'tag': 'media:infographic', 'name': 'Infographic'},\n",
    "    {'tag': 'media:google',      'name': 'Google Products'},\n",
    "]"
   ]
  },
  {
   "cell_type": "code",
   "execution_count": 15,
   "metadata": {},
   "outputs": [],
   "source": [
    "effect_types = [\n",
    "    {'tag': 'effect:reversed',     'name': 'Reversed'},\n",
    "    {'tag': 'effect:distorted',    'name': 'Distorted'},\n",
    "    {'tag': 'effect:confuesed',    'name': 'Confused'},\n",
    "    {'tag': 'effect:suggestive',   'name': 'Suggestive'},\n",
    "]"
   ]
  },
  {
   "cell_type": "code",
   "execution_count": 16,
   "metadata": {},
   "outputs": [],
   "source": [
    "# based on Surfacing Visualization Mirage\n",
    "# errors arisen at different dicision points\n",
    "fault_types = [\n",
    "    # data curation\n",
    "    {'tag': 'fault:data:selective',           'subcategories': ['data'],                   'name': 'Selective Data',             'description': 'Cherry-picking the scope of data, e.g., picking an arbitrary starting point of the time axis.'},\n",
    "    {'tag': 'fault:data:missingvalues',       'subcategories': ['data'],                   'name': 'Missing Values',             'description': 'Null values in the chart that causes confusion.'},\n",
    "    {'tag': 'fault:data:redundant',           'subcategories': ['data'],                   'name': 'Redundant Values',           'description': 'Items appear more than once in the chart.'},\n",
    "    {'tag': 'fault:data:questionable',        'subcategories': ['data'],                   'name': 'Questionable Data',          'description': 'Dubious data source.'},\n",
    "    {'tag': 'fault:data:hypothetical',        'subcategories': ['data'],                   'name': 'Hypothetical Data',          'description': 'Not real data, but drawn like backed by data.'},\n",
    "\n",
    "    # data wrangling\n",
    "    {'tag': 'fault:binning',                  'subcategories': ['derive'],                 'name': 'Arbitrary Binning',          'description': 'Items are grouped arbitrarily.'},\n",
    "    {'tag': 'fault:itemorder',                'subcategories': ['derive'],                 'name': 'Items Out of Order',         'description': 'Items are not sorted, or out of order.'},\n",
    "    {'tag': 'fault:percentage:sum',           'subcategories': ['derive'],                 'name': 'Percentage Not 100%',        'description': 'Percentages do not add up to 100% in a whole-part relationship.'},\n",
    "    {'tag': 'fault:faultystatistics',         'subcategories': ['derive'],                 'name': 'Faulty Regression',          'description': 'Improper use of statistics, e.g., a regression line with high error.'},\n",
    "    {'tag': 'fault:data:prediction',          'subcategories': ['derive'],                 'name': 'Unreliable Forecasting',     'description': 'Plotting future data points derived from unreliable prediction.'},\n",
    "    {'tag': 'fault:baselinealignment',        'subcategories': ['derive'],                 'name': 'Base Line Alignment',        'description': 'Values are indexed or normalized by an unconventional method.'},\n",
    "\n",
    "    # visualizing: visual design choices, responsibility of human designer\n",
    "    {'tag': 'fault:colorconvention',          'subcategories': ['design', 'color'],        'name': 'Color Mismatch',             'description': 'Mismatch between colors and the objects that they represent, e.g., blue for apples.'},\n",
    "    {'tag': 'fault:colorscale',               'subcategories': ['design', 'color'],        'name': 'Ineffective Color Scheme',   'description': 'Ineffective color scheme, e.g., categorical colors for continuous variable.'}, # Categorical color for continuous variable\n",
    "    {'tag': 'fault:nonsequitur',              'subcategories': ['design', 'visual'],       'name': 'Disguised Visualization',    'description': 'Looks like a visualization, but not visualizing any data, also known as non-sequitur.'}, # Fake visualization, non-sequitur\n",
    "    {'tag': 'fault:description',              'subcategories': ['design', 'text'],         'name': 'False Description',          'description': 'Description and visualization do not add up.'},\n",
    "    {'tag': 'fault:annotation',               'subcategories': ['design', 'text'],         'name': 'Improper Annotation',        'description': 'Improper annotation or highlight.'},\n",
    "    {'tag': 'fault:connection',               'subcategories': ['design', 'encoding'],     'name': 'Invalid Connection',         'description': 'Lines or arrows are connecting unrelated dots.'},\n",
    "    {'tag': 'fault:mapprojection',            'subcategories': ['design', 'encoding'],     'name': 'Distorted Map Projection',   'description': 'Distort map projection to encode information'},\n",
    "    {'tag': 'fault:scale',                    'subcategories': ['design', 'scale'],        'name': 'Absurd Scale',               'description': 'Data is drawn to an unconventional scale.'},\n",
    "    {'tag': 'fault:scale:log',                'subcategories': ['design', 'scale'],        'name': 'Incorrect Use of Log Scale', 'description': 'Incorrect use of log scale.'},\n",
    "    {'tag': 'fault:axis:double',              'subcategories': ['design', 'axis'],         'name': 'Dual Axes',                  'description': 'Plotting more than one different scale on a single dimension, most often the y-axis.'},\n",
    "    {'tag': 'fault:betteralternative',        'subcategories': ['design', 'encoding'],     'name': 'Ineffective Encoding',       'description': 'Chart is understandable, but unintuitive, there are better alternatives.'}, # Potentially expandable\n",
    "    {'tag': 'fault:position',                 'subcategories': ['design', 'visual'],       'name': 'Poor Positioning',           'description': 'Poor positioning, alignment, or rotation of items.'}, # Need to rename, sound like responsibility of computer but examples are human responsible\n",
    "\n",
    "    # visualizing: graph drawing, responsibility of computer or source data\n",
    "    {'tag': 'fault:encoding',                 'subcategories': ['graph', 'visual'],        'name': 'Plotting Error',             'description': 'Valid encoding choice but incorrectly drawn, e.g., a glitch.'},\n",
    "    {'tag': 'fault:color:over12',             'subcategories': ['graph', 'color'],         'name': 'Too Many Colors',            'description': 'Too many colors, mostly related to the scalability issues.'},\n",
    "    {'tag': 'fault:scale:inconsistent',       'subcategories': ['graph', 'scale'],         'name': 'Misrepresentation',          'description': 'The geometric shapes do not match the labelled values.'},\n",
    "    {'tag': 'fault:scale:inconsistentacross', 'subcategories': ['graph', 'scale'],         'name': 'Inconsistent Scale Across',  'description': 'Different scales across related charts.'},\n",
    "    {'tag': 'fault:missinglabel',             'subcategories': ['graph', 'text'],          'name': 'Missing Item Labels',        'description': 'Missing label for item details.'},\n",
    "    {'tag': 'fault:wronglabel',               'subcategories': ['graph', 'text'],          'name': 'Incorrect Item Labels',      'description': 'Items are labeled with incorrect description.'},\n",
    "    {'tag': 'fault:axis:missing',             'subcategories': ['graph', 'axis'],          'name': 'Missing Axis',               'description': 'Axis is missing for a coordinated chart.'},\n",
    "    {'tag': 'fault:axis:label',               'subcategories': ['graph', 'axis', 'text'],  'name': 'Missing Axis Labels',        'description': 'Axis is not labeled with tick marks.'},\n",
    "    {'tag': 'fault:axis:incorrectlabel',      'subcategories': ['graph', 'axis', 'text'],  'name': 'Incorrect Axis Labels',      'description': 'Axis is incorrectly labeled.'},\n",
    "    {'tag': 'fault:inconsistentaxisinterval', 'subcategories': ['graph', 'axis'],          'name': 'Inconsistent Tick Interval', 'description': 'Intervals on an axis does not follow a scale.'},\n",
    "    {'tag': 'fault:inconsistentinterval',     'subcategories': ['graph', 'axis'],          'name': 'Inconsistent Time Interval', 'description': 'Inconsistent time interval between data points.'},\n",
    "    {'tag': 'fault:legend',                   'subcategories': ['graph', 'scale'],         'name': 'Missing Legend',             'description': 'Legend is needed but missing.'},\n",
    "    {'tag': 'fault:axis:flipped',             'subcategories': ['graph', 'axis'],          'name': 'Flipped Axis',               'description': 'Axis values are increasing in an unconventional direction.'},\n",
    "    {'tag': 'fault:axis:truncated',           'subcategories': ['graph', 'axis'],          'name': 'Truncated Axis',             'description': 'Non-zero starting point on an axis that exaggerates or understates differences between items.'},\n",
    "\n",
    "    # reading: reading difficulty\n",
    "    {'tag': 'fault:colormess',                'subcategories': ['visual', 'color'],        'name': 'Undistinguishable Colors',   'description': 'Categorical colors are undistinguishable with each other.'},\n",
    "    {'tag': 'fault:animation',                'subcategories': ['visual', 'perception'],   'name': 'Unjustified Animation',      'description': 'Eye beats memory, comparing changes across animation frames is impossible.'},\n",
    "    {'tag': 'fault:legendconfuse',            'subcategories': ['visual', 'scale'],        'name': 'Confusing Legend',           'description': 'Lengend is not helpful in understanding the chart.'},\n",
    "    {'tag': 'fault:labelconfuse',             'subcategories': ['visual', 'text'],         'name': 'Confusing Label',            'description': 'Labels are hard to understand or not understandable at all.'},\n",
    "    {'tag': 'fault:cluttering',               'subcategories': ['visual'],                 'name': 'Cluttering',                 'description': 'Overwhelmed by visual clutter.'},\n",
    "    {'tag': 'fault:occulusion',               'subcategories': ['visual'],                 'name': 'Occlusion',                  'description': 'Some items are not visible in the visualization because of blockage by another item.'},\n",
    "    {'tag': 'fault:chartjunk',                'subcategories': ['visual'],                 'name': 'Chart Junk',                 'description': 'Chart ornament that causes negative effect in understanding.'},\n",
    "    {'tag': 'fault:legibility',               'subcategories': ['visual', 'text'],         'name': 'Illegible Text',             'description': 'Text in the chart are illegible.'},\n",
    "    {'tag': 'fault:visuallyawful',            'subcategories': ['visual'],                 'name': 'Visually Awful',             'description': 'Very disturbing while looking at it.'},\n",
    "\n",
    "    # reading: perception distortion\n",
    "    {'tag': 'fault:colorcorrelation',         'subcategories': ['perception', 'color'],    'name': 'False Color Correlation',    'description': 'Items with same or similar colors are not related.'},\n",
    "    {'tag': 'fault:3d',                       'subcategories': ['perception', 'visual'],   'name': 'Unjustified 3D',             'description': 'Unjustified use of 3D, it distorts the perceived size of the items.'},\n",
    "    {'tag': 'fault:area',                     'subcategories': ['perception', 'encoding'], 'name': 'Area Encoding',              'description': 'Incorrect use of area encoding that exaggerates or understates differences between items.'},\n",
    "    {'tag': 'fault:picto:distortion',         'subcategories': ['perception', 'encoding'], 'name': 'Area Encoded Pictogram',     'description': 'Pictogram is improperly scaled to reflect value differences.'},\n",
    "\n",
    "    # reading: message\n",
    "    {'tag': 'fault:cannotunderstand',         'subcategories': ['logical'],                'name': 'Not Understandable',         'description': 'Cannot decode any data nor information.'},\n",
    "    {'tag': 'fault:percentage:wholepart',     'subcategories': ['logical'],                'name': 'Faulty Whole Part',          'description': 'Not whole-part relationship but draw as a chart for whole-part relationship like pie chart.'},\n",
    "    {'tag': 'fault:faultylogic',              'subcategories': ['logical'],                'name': 'Faulty Logic',               'description': 'Conveying an illogical message.'}, # Potentially expandable\n",
    "    {'tag': 'fault:missingcontext',           'subcategories': ['logical'],                'name': 'Missing Context',            'description': 'Need background information in order to understand the message.'},\n",
    "    {'tag': 'fault:invalidcomparison',        'subcategories': ['logical'],                'name': 'Invalid Comparison',         'description': 'Comparison between items that are incomparable.'},\n",
    "    {'tag': 'fault:map:population',           'subcategories': ['logical'],                'name': 'Just a Population Map',      'description': 'The observed pattern is nothing more than the pattern of population density.'},\n",
    "    {'tag': 'fault:spuriousocorrelation',     'subcategories': ['logical'],                'name': 'Spurious Correlation',       'description': 'Suggesting causal relationships from correlations.'},\n",
    "\n",
    "    # {'tag': 'fault:data',                     'subcategories': ['data'],                 'name': 'data'},\n",
    "    # {'tag': 'fault:aggregation',              'subcategories': ['derive'],               'name': 'Improper Aggregation'},\n",
    "    # {'tag': 'fault:locationinfo',             'subcategories': ['derive'],               'name': 'Wrong Location Information'},\n",
    "    # {'tag': 'fault:picto:area',               'subcategories': ['perception'],           'name': 'picto:area'},\n",
    "    # {'tag': 'fault:percentage:encoding',      'subcategories': ['design'],               'name': 'percentage:encoding'}, # combine with Plotting error\n",
    "    # {'tag': 'fault:label',                    'subcategories': ['graph'],                'name': 'Labels'}, # Review\n",
    "    # {'tag': 'fault:axis',                     'subcategories': ['graph'],                'name': 'Axis'}, # Either missing axis labels or missing axis\n",
    "    # {'tag': 'fault:unreadable',               'subcategories': ['visual'],               'name': 'Incomprehensible'}, # combine with invalid encoding choice\n",
    "    # {'tag': 'fault:confirmationbias',         'subcategories': ['logical'],              'name': 'Confirmation Bias'}, # relabel\n",
    "    # {'tag': 'fault:cannotaddup',              'subcategories': ['logical'],              'name': 'Cannot Add Up'}, # relabel\n",
    "    # {'tag': 'fault:index:comparison',         'subcategories': ['logical'],              'name': 'index:comparison'}, # combine with invalid comparison\n",
    "    # {'tag': 'fault:invalidencoding',          'subcategories': ['design', 'encoding'],   'name': 'Invalid Encoding Choice',    'description': 'Only understandable by extracting the data from the chart, but not its visual form.'}, # combine with not understandable\n",
    "\n",
    "    # {'tag': 'fault:parody',                   'subcategories': ['other'],                'name': 'parody'}, # move to flag\n",
    "\n",
    "]\n"
   ]
  },
  {
   "cell_type": "code",
   "execution_count": 17,
   "metadata": {},
   "outputs": [],
   "source": [
    "flag_types = [\n",
    "    {'tag': 'flag:needreview', 'name': 'Need Review'},\n",
    "    {'tag': 'flag:duplicated', 'name': 'Duplicated'},\n",
    "    {'tag': 'flag:invalid',    'name': 'Invalid'},\n",
    "    {'tag': 'flag:notbad',     'name': 'Not Bad'},\n",
    "    {'tag': 'flag:starred',    'name': 'Starred'},\n",
    "    {'tag': 'flag:parody',     'name': 'Parody'},\n",
    "]\n"
   ]
  },
  {
   "cell_type": "code",
   "execution_count": 18,
   "metadata": {},
   "outputs": [],
   "source": [
    "descriptions = [\n",
    "    {'tag': 'form:barchart',     'description': 'Data encoded with length. Chart lies when length disproportional to the encoded value.'},\n",
    "    {'tag': 'form:linechart',    'description': 'Can be seen as a scatterplot with connected dots. Most widely used with time series data. Chart lies when the context is hidden, changes being magnified or diminished.'},\n",
    "    {'tag': 'form:scatterplot',  'description': 'Direct encoding of attributes into X and Y axes. Mostly use to find correlation. Chart lies when an agenda of a trend or correlation is imposed.'},\n",
    "    {'tag': 'form:dotplot',      'description': 'Similar to bar charts. Data encoded with number of dots, but compared as length since the dots are aligned. Mostly used for observing distribution.'},\n",
    "    {'tag': 'form:barcodechart', 'description': 'Can be seen as a 1-D scatter plot. Most commonly used to show frequency distribution.'},\n",
    "    {'tag': 'form:areachart',    'description': 'Can be seen as a line chart with color filled area under the curve. Most widely used to convey the accumulated volumn. Chart lies when the area is distorted by truncating the Y-axis.'},\n",
    "    {'tag': 'form:histogram',    'description': 'Similar to bar chart, but breaking down the continuous X-axis into bins in order to observe the distribution. Chart lies when the bin size is uneven or being manipulated.'},\n",
    "    {'tag': 'form:nodelink',     'description': 'Dots are connected to show their relationships. Most common diagram for network data. The X-axis or Y-axis positions of nodes has no meaning.'},\n",
    "    {'tag': 'form:parallelcoor', 'description': 'Multiple Y-axes in one chart, each line is an instance in data and each Y-axis is the attribute values. Most widely used in multi-dimensional data.'},\n",
    "    {'tag': 'form:radarchart',   'description': 'Can be seen as a parallel coordinates plot wrapped in a circle or regular polygon. The area enclosed by the lines conveys the sum of attribute values. Also common in comparison to spot the skyline (see \"skyline problem\").'},\n",
    "    {'tag': 'form:bubblechart',  'description': 'Similar to scatter plot, but with size encoding on each circle. Most common issue is occlusion, also inherits the issues of size encoding.'},\n",
    "    {'tag': 'form:boxplot',      'description': 'A box depicts the statistics summary of the underlying data. The whiskers show the maximum/minimum and box shows 25th quartile, median and 75th quartile.'},\n",
    "    {'tag': 'form:violinplot',   'description': 'Similar to box plot. In addition, the width encodes the density distribution of the underlying data. Skewed distribution can be observed.'},\n",
    "    {'tag': 'data:ordinal',      'description': 'Ordinal values are values that represent the order between items. These values can be used comparatively but not arithmetically, like alphabetical order.'},\n",
    "    {'tag': 'data:timeseries',   'description': 'Time series data concern changes over time, most commonly with a fixed interval. The time values can be absolute (Nov 23, 2012) or relative (Day 0, Day 1, ...).'},\n",
    "    {'tag': 'data:cyclic',       'description': 'Cyclical data are series of data with repeated sequences that can be aligned. Examples are running laps, seasonal and monthly cycle.'}\n",
    "]"
   ]
  },
  {
   "cell_type": "code",
   "execution_count": 19,
   "metadata": {},
   "outputs": [
    {
     "data": {
      "text/plain": [
       "[('graph', 14),\n",
       " ('visual', 13),\n",
       " ('design', 12),\n",
       " ('text', 8),\n",
       " ('axis', 8),\n",
       " ('logical', 7),\n",
       " ('derive', 6),\n",
       " ('scale', 6),\n",
       " ('data', 5),\n",
       " ('color', 5),\n",
       " ('encoding', 5),\n",
       " ('perception', 5)]"
      ]
     },
     "execution_count": 19,
     "metadata": {},
     "output_type": "execute_result"
    }
   ],
   "source": [
    "subcats = [s for f in fault_types for s in f['subcategories']]\n",
    "Counter(subcats).most_common()"
   ]
  },
  {
   "cell_type": "code",
   "execution_count": 20,
   "metadata": {},
   "outputs": [],
   "source": [
    "subcategories = [\n",
    "    {'category': 'fault', 'group': 'grammar',  'subcategory': 'axis',       'name': 'Axis',                'description': 'Issues related to the axes of coordinated planes'},\n",
    "    {'category': 'fault', 'group': 'grammar',  'subcategory': 'scale',      'name': 'Legends and Scales',  'description': 'Issues related to legends and the use of scales'},\n",
    "    {'category': 'fault', 'group': 'grammar',  'subcategory': 'color',      'name': 'Color',               'description': 'Issues in the use of colors'},\n",
    "    {'category': 'fault', 'group': 'grammar',  'subcategory': 'text',       'name': 'Text',                'description': 'Issues related to titles, annotations and labels'},\n",
    "    {'category': 'fault', 'group': 'grammar',  'subcategory': 'encoding',   'name': 'Encoding',            'description': 'Issues related to visual encoding'},\n",
    "\n",
    "    {'category': 'fault', 'group': 'pipeline', 'subcategory': 'data',       'name': 'Data',                'description': 'Issues related to the underlying data, its sources and completeness'},\n",
    "    {'category': 'fault', 'group': 'pipeline', 'subcategory': 'derive',     'name': 'Data Transformation', 'description': 'Issues introduced when processing data or applying statistical transformations'},\n",
    "    {'category': 'fault', 'group': 'pipeline', 'subcategory': 'design',     'name': 'Design Choices',      'description': 'Issues in visual design choices'},\n",
    "    {'category': 'fault', 'group': 'pipeline', 'subcategory': 'graph',      'name': 'Graph Drawing',       'description': 'Issues introduced in the graph drawing process, leads to missing graph elements or incomplete graph'},\n",
    "    {'category': 'fault', 'group': 'pipeline', 'subcategory': 'visual',     'name': 'Reading',             'description': 'Difficulties in reading'},\n",
    "    {'category': 'fault', 'group': 'pipeline', 'subcategory': 'perception', 'name': 'Perception',          'description': 'Issues related to the weaknesses in human perception'},\n",
    "    {'category': 'fault', 'group': 'pipeline', 'subcategory': 'logical',    'name': 'Message',             'description': 'Visualizations that are trying to convey nonsense or illogical messages'},\n",
    "\n",
    "    {'category': 'form',                       'subcategory': 'bar',        'name': 'Bar'},\n",
    "    {'category': 'form',                       'subcategory': 'line',       'name': 'Line'},\n",
    "    {'category': 'form',                       'subcategory': 'dot',        'name': 'Dot'},\n",
    "    {'category': 'form',                       'subcategory': 'circle',     'name': 'Circle'},\n",
    "    {'category': 'form',                       'subcategory': 'area',       'name': 'Area'},\n",
    "    {'category': 'form',                       'subcategory': 'map',        'name': 'Map'},\n",
    "    {'category': 'form',                       'subcategory': 'table',      'name': 'Table'},\n",
    "    {'category': 'form',                       'subcategory': 'icon',       'name': 'Icon'},\n",
    "    {'category': 'form',                       'subcategory': 'other',      'name': 'Other'},\n",
    "\n",
    "    {'category': 'data',                       'subcategory': 'attribute',  'name': 'Attribute',           'description': 'Basic attributes'},\n",
    "    {'category': 'data',                       'subcategory': 'derived',    'name': 'Derived',             'description': 'Derived attributes'},\n",
    "    {'category': 'data',                       'subcategory': 'time',       'name': 'Time',                'description': 'Time related data'},\n",
    "    {'category': 'data',                       'subcategory': 'position',   'name': 'Coordinated',         'description': 'Spatial meaning in x-, y-, or z-axes'},\n",
    "    {'category': 'data',                       'subcategory': 'relation',   'name': 'Relational',          'description': 'Items are inter-linked'},\n",
    "    {'category': 'data',                       'subcategory': 'other',      'name': 'Other',               'description': 'Other uncategorized data types'},\n",
    "]\n"
   ]
  },
  {
   "cell_type": "code",
   "execution_count": 21,
   "metadata": {},
   "outputs": [],
   "source": [
    "groups = [\n",
    "    {'category': 'fault', 'group': 'grammar', 'name': 'Grammar of Graphics', 'description': 'Issues grouped by different components of a graph'},\n",
    "    {'category': 'fault', 'group': 'pipeline', 'name': 'Visual Analytics Pipeline', 'description': 'Issues grouped by different stages of visual analytics'}\n",
    "]"
   ]
  },
  {
   "cell_type": "code",
   "execution_count": 22,
   "metadata": {},
   "outputs": [],
   "source": [
    "labelOptions = [\n",
    "    {'category': 'fault',  'name': 'Issues',      'options': fault_types, 'subcategories': [s for s in subcategories if s['category'] == 'fault'], 'hierarchical': True, 'grouped': True, 'sorted': True},\n",
    "    {'category': 'form',   'name': 'Chart Types', 'options': chart_types, 'subcategories': [s for s in subcategories if s['category'] == 'form'], 'group_subcat_threshold': 10},\n",
    "    {'category': 'data',   'name': 'Data Types',  'options': data_types,  'subcategories': [s for s in subcategories if s['category'] == 'data']},\n",
    "    {'category': 'domain', 'name': 'Domains',     'options': domain_types},\n",
    "    {'category': 'media',  'name': 'Medium',      'options': media_types},\n",
    "    {'category': 'layout', 'name': 'Layouts',     'options': layout_types},\n",
    "    {'category': 'effect', 'name': 'Effects',     'options': effect_types},\n",
    "    {'category': 'flag',   'name': 'Flags',       'options': flag_types},\n",
    "]\n"
   ]
  },
  {
   "cell_type": "code",
   "execution_count": 23,
   "metadata": {},
   "outputs": [],
   "source": [
    "# for l in labelOptions:\n",
    "#     for o in l['options']:\n",
    "#         o['count'] = labelCnts[o['tag']]"
   ]
  },
  {
   "cell_type": "code",
   "execution_count": 24,
   "metadata": {},
   "outputs": [
    {
     "data": {
      "application/json": [
       {
        "category": "fault",
        "grouped": true,
        "hierarchical": true,
        "name": "Issues",
        "options": [
         {
          "description": "Cherry-picking the scope of data, e.g., picking an arbitrary starting point of the time axis.",
          "name": "Selective Data",
          "subcategories": [
           "data"
          ],
          "tag": "fault:data:selective"
         },
         {
          "description": "Null values in the chart that causes confusion.",
          "name": "Missing Values",
          "subcategories": [
           "data"
          ],
          "tag": "fault:data:missingvalues"
         },
         {
          "description": "Items appear more than once in the chart.",
          "name": "Redundant Values",
          "subcategories": [
           "data"
          ],
          "tag": "fault:data:redundant"
         },
         {
          "description": "Dubious data source.",
          "name": "Questionable Data",
          "subcategories": [
           "data"
          ],
          "tag": "fault:data:questionable"
         },
         {
          "description": "Not real data, but drawn like backed by data.",
          "name": "Hypothetical Data",
          "subcategories": [
           "data"
          ],
          "tag": "fault:data:hypothetical"
         },
         {
          "description": "Items are grouped arbitrarily.",
          "name": "Arbitrary Binning",
          "subcategories": [
           "derive"
          ],
          "tag": "fault:binning"
         },
         {
          "description": "Items are not sorted, or out of order.",
          "name": "Items Out of Order",
          "subcategories": [
           "derive"
          ],
          "tag": "fault:itemorder"
         },
         {
          "description": "Percentages do not add up to 100% in a whole-part relationship.",
          "name": "Percentage Not 100%",
          "subcategories": [
           "derive"
          ],
          "tag": "fault:percentage:sum"
         },
         {
          "description": "Improper use of statistics, e.g., a regression line with high error.",
          "name": "Faulty Regression",
          "subcategories": [
           "derive"
          ],
          "tag": "fault:faultystatistics"
         },
         {
          "description": "Plotting future data points derived from unreliable prediction.",
          "name": "Unreliable Forecasting",
          "subcategories": [
           "derive"
          ],
          "tag": "fault:data:prediction"
         },
         {
          "description": "Values are indexed or normalized by an unconventional method.",
          "name": "Base Line Alignment",
          "subcategories": [
           "derive"
          ],
          "tag": "fault:baselinealignment"
         },
         {
          "description": "Mismatch between colors and the objects that they represent, e.g., blue for apples.",
          "name": "Color Mismatch",
          "subcategories": [
           "design",
           "color"
          ],
          "tag": "fault:colorconvention"
         },
         {
          "description": "Ineffective color scheme, e.g., categorical colors for continuous variable.",
          "name": "Ineffective Color Scheme",
          "subcategories": [
           "design",
           "color"
          ],
          "tag": "fault:colorscale"
         },
         {
          "description": "Looks like a visualization, but not visualizing any data, also known as non-sequitur.",
          "name": "Disguised Visualization",
          "subcategories": [
           "design",
           "visual"
          ],
          "tag": "fault:nonsequitur"
         },
         {
          "description": "Description and visualization do not add up.",
          "name": "False Description",
          "subcategories": [
           "design",
           "text"
          ],
          "tag": "fault:description"
         },
         {
          "description": "Improper annotation or highlight.",
          "name": "Improper Annotation",
          "subcategories": [
           "design",
           "text"
          ],
          "tag": "fault:annotation"
         },
         {
          "description": "Lines or arrows are connecting unrelated dots.",
          "name": "Invalid Connection",
          "subcategories": [
           "design",
           "encoding"
          ],
          "tag": "fault:connection"
         },
         {
          "description": "Distort map projection to encode information",
          "name": "Distorted Map Projection",
          "subcategories": [
           "design",
           "encoding"
          ],
          "tag": "fault:mapprojection"
         },
         {
          "description": "Data is drawn to an unconventional scale.",
          "name": "Absurd Scale",
          "subcategories": [
           "design",
           "scale"
          ],
          "tag": "fault:scale"
         },
         {
          "description": "Incorrect use of log scale.",
          "name": "Incorrect Use of Log Scale",
          "subcategories": [
           "design",
           "scale"
          ],
          "tag": "fault:scale:log"
         },
         {
          "description": "Plotting more than one different scale on a single dimension, most often the y-axis.",
          "name": "Dual Axes",
          "subcategories": [
           "design",
           "axis"
          ],
          "tag": "fault:axis:double"
         },
         {
          "description": "Chart is understandable, but unintuitive, there are better alternatives.",
          "name": "Ineffective Encoding",
          "subcategories": [
           "design",
           "encoding"
          ],
          "tag": "fault:betteralternative"
         },
         {
          "description": "Poor positioning, alignment, or rotation of items.",
          "name": "Poor Positioning",
          "subcategories": [
           "design",
           "visual"
          ],
          "tag": "fault:position"
         },
         {
          "description": "Valid encoding choice but incorrectly drawn, e.g., a glitch.",
          "name": "Plotting Error",
          "subcategories": [
           "graph",
           "visual"
          ],
          "tag": "fault:encoding"
         },
         {
          "description": "Too many colors, mostly related to the scalability issues.",
          "name": "Too Many Colors",
          "subcategories": [
           "graph",
           "color"
          ],
          "tag": "fault:color:over12"
         },
         {
          "description": "The geometric shapes do not match the labelled values.",
          "name": "Misrepresentation",
          "subcategories": [
           "graph",
           "scale"
          ],
          "tag": "fault:scale:inconsistent"
         },
         {
          "description": "Different scales across related charts.",
          "name": "Inconsistent Scale Across",
          "subcategories": [
           "graph",
           "scale"
          ],
          "tag": "fault:scale:inconsistentacross"
         },
         {
          "description": "Missing label for item details.",
          "name": "Missing Item Labels",
          "subcategories": [
           "graph",
           "text"
          ],
          "tag": "fault:missinglabel"
         },
         {
          "description": "Items are labeled with incorrect description.",
          "name": "Incorrect Item Labels",
          "subcategories": [
           "graph",
           "text"
          ],
          "tag": "fault:wronglabel"
         },
         {
          "description": "Axis is missing for a coordinated chart.",
          "name": "Missing Axis",
          "subcategories": [
           "graph",
           "axis"
          ],
          "tag": "fault:axis:missing"
         },
         {
          "description": "Axis is not labeled with tick marks.",
          "name": "Missing Axis Labels",
          "subcategories": [
           "graph",
           "axis",
           "text"
          ],
          "tag": "fault:axis:label"
         },
         {
          "description": "Axis is incorrectly labeled.",
          "name": "Incorrect Axis Labels",
          "subcategories": [
           "graph",
           "axis",
           "text"
          ],
          "tag": "fault:axis:incorrectlabel"
         },
         {
          "description": "Intervals on an axis does not follow a scale.",
          "name": "Inconsistent Tick Interval",
          "subcategories": [
           "graph",
           "axis"
          ],
          "tag": "fault:inconsistentaxisinterval"
         },
         {
          "description": "Inconsistent time interval between data points.",
          "name": "Inconsistent Time Interval",
          "subcategories": [
           "graph",
           "axis"
          ],
          "tag": "fault:inconsistentinterval"
         },
         {
          "description": "Legend is needed but missing.",
          "name": "Missing Legend",
          "subcategories": [
           "graph",
           "scale"
          ],
          "tag": "fault:legend"
         },
         {
          "description": "Axis values are increasing in an unconventional direction.",
          "name": "Flipped Axis",
          "subcategories": [
           "graph",
           "axis"
          ],
          "tag": "fault:axis:flipped"
         },
         {
          "description": "Non-zero starting point on an axis that exaggerates or understates differences between items.",
          "name": "Truncated Axis",
          "subcategories": [
           "graph",
           "axis"
          ],
          "tag": "fault:axis:truncated"
         },
         {
          "description": "Categorical colors are undistinguishable with each other.",
          "name": "Undistinguishable Colors",
          "subcategories": [
           "visual",
           "color"
          ],
          "tag": "fault:colormess"
         },
         {
          "description": "Eye beats memory, comparing changes across animation frames is impossible.",
          "name": "Unjustified Animation",
          "subcategories": [
           "visual",
           "perception"
          ],
          "tag": "fault:animation"
         },
         {
          "description": "Lengend is not helpful in understanding the chart.",
          "name": "Confusing Legend",
          "subcategories": [
           "visual",
           "scale"
          ],
          "tag": "fault:legendconfuse"
         },
         {
          "description": "Labels are hard to understand or not understandable at all.",
          "name": "Confusing Label",
          "subcategories": [
           "visual",
           "text"
          ],
          "tag": "fault:labelconfuse"
         },
         {
          "description": "Overwhelmed by visual clutter.",
          "name": "Cluttering",
          "subcategories": [
           "visual"
          ],
          "tag": "fault:cluttering"
         },
         {
          "description": "Some items are not visible in the visualization because of blockage by another item.",
          "name": "Occlusion",
          "subcategories": [
           "visual"
          ],
          "tag": "fault:occulusion"
         },
         {
          "description": "Chart ornament that causes negative effect in understanding.",
          "name": "Chart Junk",
          "subcategories": [
           "visual"
          ],
          "tag": "fault:chartjunk"
         },
         {
          "description": "Text in the chart are illegible.",
          "name": "Illegible Text",
          "subcategories": [
           "visual",
           "text"
          ],
          "tag": "fault:legibility"
         },
         {
          "description": "Very disturbing while looking at it.",
          "name": "Visually Awful",
          "subcategories": [
           "visual"
          ],
          "tag": "fault:visuallyawful"
         },
         {
          "description": "Items with same or similar colors are not related.",
          "name": "False Color Correlation",
          "subcategories": [
           "perception",
           "color"
          ],
          "tag": "fault:colorcorrelation"
         },
         {
          "description": "Unjustified use of 3D, it distorts the perceived size of the items.",
          "name": "Unjustified 3D",
          "subcategories": [
           "perception",
           "visual"
          ],
          "tag": "fault:3d"
         },
         {
          "description": "Incorrect use of area encoding that exaggerates or understates differences between items.",
          "name": "Area Encoding",
          "subcategories": [
           "perception",
           "encoding"
          ],
          "tag": "fault:area"
         },
         {
          "description": "Pictogram is improperly scaled to reflect value differences.",
          "name": "Area Encoded Pictogram",
          "subcategories": [
           "perception",
           "encoding"
          ],
          "tag": "fault:picto:distortion"
         },
         {
          "description": "Cannot decode any data nor information.",
          "name": "Not Understandable",
          "subcategories": [
           "logical"
          ],
          "tag": "fault:cannotunderstand"
         },
         {
          "description": "Not whole-part relationship but draw as a chart for whole-part relationship like pie chart.",
          "name": "Faulty Whole Part",
          "subcategories": [
           "logical"
          ],
          "tag": "fault:percentage:wholepart"
         },
         {
          "description": "Conveying an illogical message.",
          "name": "Faulty Logic",
          "subcategories": [
           "logical"
          ],
          "tag": "fault:faultylogic"
         },
         {
          "description": "Need background information in order to understand the message.",
          "name": "Missing Context",
          "subcategories": [
           "logical"
          ],
          "tag": "fault:missingcontext"
         },
         {
          "description": "Comparison between items that are incomparable.",
          "name": "Invalid Comparison",
          "subcategories": [
           "logical"
          ],
          "tag": "fault:invalidcomparison"
         },
         {
          "description": "The observed pattern is nothing more than the pattern of population density.",
          "name": "Just a Population Map",
          "subcategories": [
           "logical"
          ],
          "tag": "fault:map:population"
         },
         {
          "description": "Suggesting causal relationships from correlations.",
          "name": "Spurious Correlation",
          "subcategories": [
           "logical"
          ],
          "tag": "fault:spuriousocorrelation"
         }
        ],
        "sorted": true,
        "subcategories": [
         {
          "category": "fault",
          "description": "Issues related to the axes of coordinated planes",
          "group": "grammar",
          "name": "Axis",
          "subcategory": "axis"
         },
         {
          "category": "fault",
          "description": "Issues related to legends and the use of scales",
          "group": "grammar",
          "name": "Legends and Scales",
          "subcategory": "scale"
         },
         {
          "category": "fault",
          "description": "Issues in the use of colors",
          "group": "grammar",
          "name": "Color",
          "subcategory": "color"
         },
         {
          "category": "fault",
          "description": "Issues related to titles, annotations and labels",
          "group": "grammar",
          "name": "Text",
          "subcategory": "text"
         },
         {
          "category": "fault",
          "description": "Issues related to visual encoding",
          "group": "grammar",
          "name": "Encoding",
          "subcategory": "encoding"
         },
         {
          "category": "fault",
          "description": "Issues related to the underlying data, its sources and completeness",
          "group": "pipeline",
          "name": "Data",
          "subcategory": "data"
         },
         {
          "category": "fault",
          "description": "Issues introduced when processing data or applying statistical transformations",
          "group": "pipeline",
          "name": "Data Transformation",
          "subcategory": "derive"
         },
         {
          "category": "fault",
          "description": "Issues in visual design choices",
          "group": "pipeline",
          "name": "Design Choices",
          "subcategory": "design"
         },
         {
          "category": "fault",
          "description": "Issues introduced in the graph drawing process, leads to missing graph elements or incomplete graph",
          "group": "pipeline",
          "name": "Graph Drawing",
          "subcategory": "graph"
         },
         {
          "category": "fault",
          "description": "Difficulties in reading",
          "group": "pipeline",
          "name": "Reading",
          "subcategory": "visual"
         },
         {
          "category": "fault",
          "description": "Issues related to the weaknesses in human perception",
          "group": "pipeline",
          "name": "Perception",
          "subcategory": "perception"
         },
         {
          "category": "fault",
          "description": "Visualizations that are trying to convey nonsense or illogical messages",
          "group": "pipeline",
          "name": "Message",
          "subcategory": "logical"
         }
        ]
       },
       {
        "category": "form",
        "group_subcat_threshold": 10,
        "name": "Chart Types",
        "options": [
         {
          "name": "Bar Chart",
          "subcategory": "bar",
          "tag": "form:barchart"
         },
         {
          "name": "Stacked Bar Chart",
          "subcategory": "bar",
          "tag": "form:stackedbarchart"
         },
         {
          "name": "Dot Plot",
          "subcategory": "bar",
          "tag": "form:dotplot"
         },
         {
          "name": "Histogram",
          "subcategory": "bar",
          "tag": "form:histogram"
         },
         {
          "name": "Barcode Chart",
          "subcategory": "bar",
          "tag": "form:barcodechart"
         },
         {
          "name": "Progress Bar",
          "subcategory": "bar",
          "tag": "form:progressbar"
         },
         {
          "name": "Line Chart",
          "subcategory": "line",
          "tag": "form:linechart"
         },
         {
          "name": "Node-Link Diagram",
          "subcategory": "line",
          "tag": "form:nodelink"
         },
         {
          "name": "Parallel Coordinates",
          "subcategory": "line",
          "tag": "form:parallelcoor"
         },
         {
          "name": "Radar Chart",
          "subcategory": "line",
          "tag": "form:radarchart"
         },
         {
          "name": "Sankey Diagram",
          "subcategory": "line",
          "tag": "form:sankeydiagram"
         },
         {
          "name": "Box Plot",
          "subcategory": "line",
          "tag": "form:boxplot"
         },
         {
          "name": "Violin Plot",
          "subcategory": "line",
          "tag": "form:violinplot"
         },
         {
          "name": "Time Line",
          "subcategory": "line",
          "tag": "form:timeline"
         },
         {
          "name": "Connected Scatter Plot",
          "subcategory": "dot",
          "tag": "form:connectedscatterplot"
         },
         {
          "name": "Scatter Plot",
          "subcategory": "dot",
          "tag": "form:scatterplot"
         },
         {
          "name": "Dumbbell Plot",
          "subcategory": "dot",
          "tag": "form:dumbbellplot"
         },
         {
          "name": "Polar Graph",
          "subcategory": "dot",
          "tag": "form:polargraph"
         },
         {
          "name": "Bubble Chart",
          "subcategory": "circle",
          "tag": "form:bubblechart"
         },
         {
          "name": "Pie Chart",
          "subcategory": "circle",
          "tag": "form:piechart"
         },
         {
          "name": "Donut Chart",
          "subcategory": "circle",
          "tag": "form:donutchart"
         },
         {
          "name": "Guage Chart",
          "subcategory": "circle",
          "tag": "form:guagechart"
         },
         {
          "name": "Sunbrust Diagram",
          "subcategory": "circle",
          "tag": "form:sunbrust"
         },
         {
          "name": "Venn Diagram",
          "subcategory": "circle",
          "tag": "form:venn"
         },
         {
          "name": "Nested Bubbles",
          "subcategory": "circle",
          "tag": "form:nestedbubble"
         },
         {
          "name": "Polar Area Chart",
          "subcategory": "circle",
          "tag": "form:polararea"
         },
         {
          "name": "Chord Diagram",
          "subcategory": "circle",
          "tag": "form:chord"
         },
         {
          "name": "Area Chart",
          "subcategory": "area",
          "tag": "form:areachart"
         },
         {
          "name": "Stacked Area Chart",
          "subcategory": "area",
          "tag": "form:stackedareachart"
         },
         {
          "name": "Stream Graph",
          "subcategory": "area",
          "tag": "form:streamgraph"
         },
         {
          "name": "Treemap",
          "subcategory": "area",
          "tag": "form:treemap"
         },
         {
          "name": "Voronoi Diagram",
          "subcategory": "area",
          "tag": "form:voronoi"
         },
         {
          "name": "Pyramid",
          "subcategory": "area",
          "tag": "form:pyramid"
         },
         {
          "name": "Choropleth",
          "subcategory": "map",
          "tag": "form:choropleth"
         },
         {
          "name": "Flow Map",
          "subcategory": "map",
          "tag": "form:flowmap"
         },
         {
          "name": "Map",
          "subcategory": "map",
          "tag": "form:map"
         },
         {
          "name": "Table",
          "subcategory": "table",
          "tag": "form:table"
         },
         {
          "name": "Heatmap",
          "subcategory": "table",
          "tag": "form:heatmap"
         },
         {
          "name": "Quadrant",
          "subcategory": "table",
          "tag": "form:quadrant"
         },
         {
          "name": "Pictogram",
          "subcategory": "icon",
          "tag": "form:pictogram"
         },
         {
          "name": "Chernoff Face",
          "subcategory": "icon",
          "tag": "form:chernoffface"
         },
         {
          "name": "Unclassified",
          "subcategory": "other",
          "tag": "form:unknown"
         }
        ],
        "subcategories": [
         {
          "category": "form",
          "name": "Bar",
          "subcategory": "bar"
         },
         {
          "category": "form",
          "name": "Line",
          "subcategory": "line"
         },
         {
          "category": "form",
          "name": "Dot",
          "subcategory": "dot"
         },
         {
          "category": "form",
          "name": "Circle",
          "subcategory": "circle"
         },
         {
          "category": "form",
          "name": "Area",
          "subcategory": "area"
         },
         {
          "category": "form",
          "name": "Map",
          "subcategory": "map"
         },
         {
          "category": "form",
          "name": "Table",
          "subcategory": "table"
         },
         {
          "category": "form",
          "name": "Icon",
          "subcategory": "icon"
         },
         {
          "category": "form",
          "name": "Other",
          "subcategory": "other"
         }
        ]
       },
       {
        "category": "data",
        "name": "Data Types",
        "options": [
         {
          "name": "Categorical",
          "subcategory": "attribute",
          "tag": "data:categorical"
         },
         {
          "name": "Quantitative",
          "subcategory": "attribute",
          "tag": "data:quantitative"
         },
         {
          "name": "Sequential",
          "subcategory": "attribute",
          "tag": "data:sequential"
         },
         {
          "name": "Diverging",
          "subcategory": "attribute",
          "tag": "data:diverging"
         },
         {
          "name": "Ordinal",
          "subcategory": "attribute",
          "tag": "data:ordinal"
         },
         {
          "name": "Time Series",
          "subcategory": "time",
          "tag": "data:timeseries"
         },
         {
          "name": "Cyclic",
          "subcategory": "time",
          "tag": "data:cyclic"
         },
         {
          "name": "Geospatial",
          "subcategory": "position",
          "tag": "data:geospatial"
         },
         {
          "name": "Flow",
          "subcategory": "position",
          "tag": "data:flow"
         },
         {
          "name": "Bitmap",
          "subcategory": "position",
          "tag": "data:bitmap"
         },
         {
          "name": "Positional",
          "subcategory": "position",
          "tag": "data:positional"
         },
         {
          "name": "Network",
          "subcategory": "relation",
          "tag": "data:network"
         },
         {
          "name": "Tree",
          "subcategory": "relation",
          "tag": "data:tree"
         },
         {
          "name": "Set",
          "subcategory": "relation",
          "tag": "data:set"
         },
         {
          "name": "Ranked",
          "subcategory": "derived",
          "tag": "data:ranking"
         },
         {
          "name": "Index Value",
          "subcategory": "derived",
          "tag": "data:indexvalue"
         },
         {
          "name": "Accumulated",
          "subcategory": "derived",
          "tag": "data:accumulated"
         },
         {
          "name": "Percentage",
          "subcategory": "derived",
          "tag": "data:percentage"
         },
         {
          "name": "Probability",
          "subcategory": "derived",
          "tag": "data:probability"
         },
         {
          "name": "Text",
          "subcategory": "other",
          "tag": "data:text"
         },
         {
          "name": "Multivariate",
          "subcategory": "other",
          "tag": "data:multivariate"
         }
        ],
        "subcategories": [
         {
          "category": "data",
          "description": "Basic attributes",
          "name": "Attribute",
          "subcategory": "attribute"
         },
         {
          "category": "data",
          "description": "Derived attributes",
          "name": "Derived",
          "subcategory": "derived"
         },
         {
          "category": "data",
          "description": "Time related data",
          "name": "Time",
          "subcategory": "time"
         },
         {
          "category": "data",
          "description": "Spatial meaning in x-, y-, or z-axes",
          "name": "Coordinated",
          "subcategory": "position"
         },
         {
          "category": "data",
          "description": "Items are inter-linked",
          "name": "Relational",
          "subcategory": "relation"
         },
         {
          "category": "data",
          "description": "Other uncategorized data types",
          "name": "Other",
          "subcategory": "other"
         }
        ]
       },
       {
        "category": "domain",
        "name": "Domains",
        "options": [
         {
          "name": "Politics",
          "tag": "domain:politics"
         },
         {
          "name": "Business",
          "tag": "domain:business"
         },
         {
          "name": "Entertainment",
          "tag": "domain:entertainment"
         },
         {
          "name": "Scientific",
          "tag": "domain:scientific"
         },
         {
          "name": "Sports",
          "tag": "domain:sports"
         },
         {
          "name": "Health",
          "tag": "domain:health"
         },
         {
          "name": "Education",
          "tag": "domain:education"
         },
         {
          "name": "Food",
          "tag": "domain:catering"
         },
         {
          "name": "Computer",
          "tag": "domain:computer"
         },
         {
          "name": "Environment",
          "tag": "domain:environment"
         },
         {
          "name": "International",
          "tag": "domain:international"
         },
         {
          "name": "Public",
          "tag": "domain:public"
         },
         {
          "name": "Personal",
          "tag": "domain:personal"
         },
         {
          "name": "Unknown",
          "tag": "domain:unknown"
         }
        ]
       },
       {
        "category": "media",
        "name": "Medium",
        "options": [
         {
          "name": "TV",
          "tag": "media:tv"
         },
         {
          "name": "News Article",
          "tag": "media:news"
         },
         {
          "name": "Ads",
          "tag": "media:ads"
         },
         {
          "name": "Printed",
          "tag": "media:printed"
         },
         {
          "name": "Handdrawn",
          "tag": "media:handdrawn"
         },
         {
          "name": "Inreallife",
          "tag": "media:inreallife"
         },
         {
          "name": "NSFW",
          "tag": "media:NSFW"
         },
         {
          "name": "Infographic",
          "tag": "media:infographic"
         },
         {
          "name": "Google Products",
          "tag": "media:google"
         }
        ]
       },
       {
        "category": "layout",
        "name": "Layouts",
        "options": [
         {
          "name": "Circular",
          "tag": "layout:circular"
         },
         {
          "name": "Juxtaposition",
          "tag": "layout:juxtaposition"
         },
         {
          "name": "Superimposed",
          "tag": "layout:overlay"
         },
         {
          "name": "Multiple-views",
          "tag": "layout:mixed"
         },
         {
          "name": "Periodictable",
          "tag": "layout:periodictable"
         },
         {
          "name": "Clock",
          "tag": "layout:clock"
         },
         {
          "name": "Calendar",
          "tag": "layout:calendar"
         }
        ]
       },
       {
        "category": "effect",
        "name": "Effects",
        "options": [
         {
          "name": "Reversed",
          "tag": "effect:reversed"
         },
         {
          "name": "Distorted",
          "tag": "effect:distorted"
         },
         {
          "name": "Confused",
          "tag": "effect:confuesed"
         },
         {
          "name": "Suggestive",
          "tag": "effect:suggestive"
         }
        ]
       },
       {
        "category": "flag",
        "name": "Flags",
        "options": [
         {
          "name": "Need Review",
          "tag": "flag:needreview"
         },
         {
          "name": "Duplicated",
          "tag": "flag:duplicated"
         },
         {
          "name": "Invalid",
          "tag": "flag:invalid"
         },
         {
          "name": "Not Bad",
          "tag": "flag:notbad"
         },
         {
          "name": "Starred",
          "tag": "flag:starred"
         },
         {
          "name": "Parody",
          "tag": "flag:parody"
         }
        ]
       }
      ],
      "text/plain": [
       "<IPython.core.display.JSON object>"
      ]
     },
     "execution_count": 24,
     "metadata": {
      "application/json": {
       "expanded": false,
       "root": "root"
      }
     },
     "output_type": "execute_result"
    }
   ],
   "source": [
    "JSON(labelOptions)"
   ]
  },
  {
   "cell_type": "code",
   "execution_count": 25,
   "metadata": {},
   "outputs": [],
   "source": [
    "labelTags = {\n",
    "    'categories': [{k:v for k, v in o.items() if k not in ['options', 'subcategories']} for o in labelOptions],\n",
    "    'subcategories': subcategories,\n",
    "    'groups': groups,\n",
    "    'tags': [{**o, 'category': c['category']} for c in labelOptions for o in c['options']],\n",
    "}"
   ]
  },
  {
   "cell_type": "code",
   "execution_count": 26,
   "metadata": {},
   "outputs": [
    {
     "data": {
      "application/json": {
       "categories": [
        {
         "category": "fault",
         "grouped": true,
         "hierarchical": true,
         "name": "Issues",
         "sorted": true
        },
        {
         "category": "form",
         "group_subcat_threshold": 10,
         "name": "Chart Types"
        },
        {
         "category": "data",
         "name": "Data Types"
        },
        {
         "category": "domain",
         "name": "Domains"
        },
        {
         "category": "media",
         "name": "Medium"
        },
        {
         "category": "layout",
         "name": "Layouts"
        },
        {
         "category": "effect",
         "name": "Effects"
        },
        {
         "category": "flag",
         "name": "Flags"
        }
       ],
       "groups": [
        {
         "category": "fault",
         "description": "Issues grouped by different components of a graph",
         "group": "grammar",
         "name": "Grammar of Graphics"
        },
        {
         "category": "fault",
         "description": "Issues grouped by different stages of visual analytics",
         "group": "pipeline",
         "name": "Visual Analytics Pipeline"
        }
       ],
       "subcategories": [
        {
         "category": "fault",
         "description": "Issues related to the axes of coordinated planes",
         "group": "grammar",
         "name": "Axis",
         "subcategory": "axis"
        },
        {
         "category": "fault",
         "description": "Issues related to legends and the use of scales",
         "group": "grammar",
         "name": "Legends and Scales",
         "subcategory": "scale"
        },
        {
         "category": "fault",
         "description": "Issues in the use of colors",
         "group": "grammar",
         "name": "Color",
         "subcategory": "color"
        },
        {
         "category": "fault",
         "description": "Issues related to titles, annotations and labels",
         "group": "grammar",
         "name": "Text",
         "subcategory": "text"
        },
        {
         "category": "fault",
         "description": "Issues related to visual encoding",
         "group": "grammar",
         "name": "Encoding",
         "subcategory": "encoding"
        },
        {
         "category": "fault",
         "description": "Issues related to the underlying data, its sources and completeness",
         "group": "pipeline",
         "name": "Data",
         "subcategory": "data"
        },
        {
         "category": "fault",
         "description": "Issues introduced when processing data or applying statistical transformations",
         "group": "pipeline",
         "name": "Data Transformation",
         "subcategory": "derive"
        },
        {
         "category": "fault",
         "description": "Issues in visual design choices",
         "group": "pipeline",
         "name": "Design Choices",
         "subcategory": "design"
        },
        {
         "category": "fault",
         "description": "Issues introduced in the graph drawing process, leads to missing graph elements or incomplete graph",
         "group": "pipeline",
         "name": "Graph Drawing",
         "subcategory": "graph"
        },
        {
         "category": "fault",
         "description": "Difficulties in reading",
         "group": "pipeline",
         "name": "Reading",
         "subcategory": "visual"
        },
        {
         "category": "fault",
         "description": "Issues related to the weaknesses in human perception",
         "group": "pipeline",
         "name": "Perception",
         "subcategory": "perception"
        },
        {
         "category": "fault",
         "description": "Visualizations that are trying to convey nonsense or illogical messages",
         "group": "pipeline",
         "name": "Message",
         "subcategory": "logical"
        },
        {
         "category": "form",
         "name": "Bar",
         "subcategory": "bar"
        },
        {
         "category": "form",
         "name": "Line",
         "subcategory": "line"
        },
        {
         "category": "form",
         "name": "Dot",
         "subcategory": "dot"
        },
        {
         "category": "form",
         "name": "Circle",
         "subcategory": "circle"
        },
        {
         "category": "form",
         "name": "Area",
         "subcategory": "area"
        },
        {
         "category": "form",
         "name": "Map",
         "subcategory": "map"
        },
        {
         "category": "form",
         "name": "Table",
         "subcategory": "table"
        },
        {
         "category": "form",
         "name": "Icon",
         "subcategory": "icon"
        },
        {
         "category": "form",
         "name": "Other",
         "subcategory": "other"
        },
        {
         "category": "data",
         "description": "Basic attributes",
         "name": "Attribute",
         "subcategory": "attribute"
        },
        {
         "category": "data",
         "description": "Derived attributes",
         "name": "Derived",
         "subcategory": "derived"
        },
        {
         "category": "data",
         "description": "Time related data",
         "name": "Time",
         "subcategory": "time"
        },
        {
         "category": "data",
         "description": "Spatial meaning in x-, y-, or z-axes",
         "name": "Coordinated",
         "subcategory": "position"
        },
        {
         "category": "data",
         "description": "Items are inter-linked",
         "name": "Relational",
         "subcategory": "relation"
        },
        {
         "category": "data",
         "description": "Other uncategorized data types",
         "name": "Other",
         "subcategory": "other"
        }
       ],
       "tags": [
        {
         "category": "fault",
         "description": "Cherry-picking the scope of data, e.g., picking an arbitrary starting point of the time axis.",
         "name": "Selective Data",
         "subcategories": [
          "data"
         ],
         "tag": "fault:data:selective"
        },
        {
         "category": "fault",
         "description": "Null values in the chart that causes confusion.",
         "name": "Missing Values",
         "subcategories": [
          "data"
         ],
         "tag": "fault:data:missingvalues"
        },
        {
         "category": "fault",
         "description": "Items appear more than once in the chart.",
         "name": "Redundant Values",
         "subcategories": [
          "data"
         ],
         "tag": "fault:data:redundant"
        },
        {
         "category": "fault",
         "description": "Dubious data source.",
         "name": "Questionable Data",
         "subcategories": [
          "data"
         ],
         "tag": "fault:data:questionable"
        },
        {
         "category": "fault",
         "description": "Not real data, but drawn like backed by data.",
         "name": "Hypothetical Data",
         "subcategories": [
          "data"
         ],
         "tag": "fault:data:hypothetical"
        },
        {
         "category": "fault",
         "description": "Items are grouped arbitrarily.",
         "name": "Arbitrary Binning",
         "subcategories": [
          "derive"
         ],
         "tag": "fault:binning"
        },
        {
         "category": "fault",
         "description": "Items are not sorted, or out of order.",
         "name": "Items Out of Order",
         "subcategories": [
          "derive"
         ],
         "tag": "fault:itemorder"
        },
        {
         "category": "fault",
         "description": "Percentages do not add up to 100% in a whole-part relationship.",
         "name": "Percentage Not 100%",
         "subcategories": [
          "derive"
         ],
         "tag": "fault:percentage:sum"
        },
        {
         "category": "fault",
         "description": "Improper use of statistics, e.g., a regression line with high error.",
         "name": "Faulty Regression",
         "subcategories": [
          "derive"
         ],
         "tag": "fault:faultystatistics"
        },
        {
         "category": "fault",
         "description": "Plotting future data points derived from unreliable prediction.",
         "name": "Unreliable Forecasting",
         "subcategories": [
          "derive"
         ],
         "tag": "fault:data:prediction"
        },
        {
         "category": "fault",
         "description": "Values are indexed or normalized by an unconventional method.",
         "name": "Base Line Alignment",
         "subcategories": [
          "derive"
         ],
         "tag": "fault:baselinealignment"
        },
        {
         "category": "fault",
         "description": "Mismatch between colors and the objects that they represent, e.g., blue for apples.",
         "name": "Color Mismatch",
         "subcategories": [
          "design",
          "color"
         ],
         "tag": "fault:colorconvention"
        },
        {
         "category": "fault",
         "description": "Ineffective color scheme, e.g., categorical colors for continuous variable.",
         "name": "Ineffective Color Scheme",
         "subcategories": [
          "design",
          "color"
         ],
         "tag": "fault:colorscale"
        },
        {
         "category": "fault",
         "description": "Looks like a visualization, but not visualizing any data, also known as non-sequitur.",
         "name": "Disguised Visualization",
         "subcategories": [
          "design",
          "visual"
         ],
         "tag": "fault:nonsequitur"
        },
        {
         "category": "fault",
         "description": "Description and visualization do not add up.",
         "name": "False Description",
         "subcategories": [
          "design",
          "text"
         ],
         "tag": "fault:description"
        },
        {
         "category": "fault",
         "description": "Improper annotation or highlight.",
         "name": "Improper Annotation",
         "subcategories": [
          "design",
          "text"
         ],
         "tag": "fault:annotation"
        },
        {
         "category": "fault",
         "description": "Lines or arrows are connecting unrelated dots.",
         "name": "Invalid Connection",
         "subcategories": [
          "design",
          "encoding"
         ],
         "tag": "fault:connection"
        },
        {
         "category": "fault",
         "description": "Distort map projection to encode information",
         "name": "Distorted Map Projection",
         "subcategories": [
          "design",
          "encoding"
         ],
         "tag": "fault:mapprojection"
        },
        {
         "category": "fault",
         "description": "Data is drawn to an unconventional scale.",
         "name": "Absurd Scale",
         "subcategories": [
          "design",
          "scale"
         ],
         "tag": "fault:scale"
        },
        {
         "category": "fault",
         "description": "Incorrect use of log scale.",
         "name": "Incorrect Use of Log Scale",
         "subcategories": [
          "design",
          "scale"
         ],
         "tag": "fault:scale:log"
        },
        {
         "category": "fault",
         "description": "Plotting more than one different scale on a single dimension, most often the y-axis.",
         "name": "Dual Axes",
         "subcategories": [
          "design",
          "axis"
         ],
         "tag": "fault:axis:double"
        },
        {
         "category": "fault",
         "description": "Chart is understandable, but unintuitive, there are better alternatives.",
         "name": "Ineffective Encoding",
         "subcategories": [
          "design",
          "encoding"
         ],
         "tag": "fault:betteralternative"
        },
        {
         "category": "fault",
         "description": "Poor positioning, alignment, or rotation of items.",
         "name": "Poor Positioning",
         "subcategories": [
          "design",
          "visual"
         ],
         "tag": "fault:position"
        },
        {
         "category": "fault",
         "description": "Valid encoding choice but incorrectly drawn, e.g., a glitch.",
         "name": "Plotting Error",
         "subcategories": [
          "graph",
          "visual"
         ],
         "tag": "fault:encoding"
        },
        {
         "category": "fault",
         "description": "Too many colors, mostly related to the scalability issues.",
         "name": "Too Many Colors",
         "subcategories": [
          "graph",
          "color"
         ],
         "tag": "fault:color:over12"
        },
        {
         "category": "fault",
         "description": "The geometric shapes do not match the labelled values.",
         "name": "Misrepresentation",
         "subcategories": [
          "graph",
          "scale"
         ],
         "tag": "fault:scale:inconsistent"
        },
        {
         "category": "fault",
         "description": "Different scales across related charts.",
         "name": "Inconsistent Scale Across",
         "subcategories": [
          "graph",
          "scale"
         ],
         "tag": "fault:scale:inconsistentacross"
        },
        {
         "category": "fault",
         "description": "Missing label for item details.",
         "name": "Missing Item Labels",
         "subcategories": [
          "graph",
          "text"
         ],
         "tag": "fault:missinglabel"
        },
        {
         "category": "fault",
         "description": "Items are labeled with incorrect description.",
         "name": "Incorrect Item Labels",
         "subcategories": [
          "graph",
          "text"
         ],
         "tag": "fault:wronglabel"
        },
        {
         "category": "fault",
         "description": "Axis is missing for a coordinated chart.",
         "name": "Missing Axis",
         "subcategories": [
          "graph",
          "axis"
         ],
         "tag": "fault:axis:missing"
        },
        {
         "category": "fault",
         "description": "Axis is not labeled with tick marks.",
         "name": "Missing Axis Labels",
         "subcategories": [
          "graph",
          "axis",
          "text"
         ],
         "tag": "fault:axis:label"
        },
        {
         "category": "fault",
         "description": "Axis is incorrectly labeled.",
         "name": "Incorrect Axis Labels",
         "subcategories": [
          "graph",
          "axis",
          "text"
         ],
         "tag": "fault:axis:incorrectlabel"
        },
        {
         "category": "fault",
         "description": "Intervals on an axis does not follow a scale.",
         "name": "Inconsistent Tick Interval",
         "subcategories": [
          "graph",
          "axis"
         ],
         "tag": "fault:inconsistentaxisinterval"
        },
        {
         "category": "fault",
         "description": "Inconsistent time interval between data points.",
         "name": "Inconsistent Time Interval",
         "subcategories": [
          "graph",
          "axis"
         ],
         "tag": "fault:inconsistentinterval"
        },
        {
         "category": "fault",
         "description": "Legend is needed but missing.",
         "name": "Missing Legend",
         "subcategories": [
          "graph",
          "scale"
         ],
         "tag": "fault:legend"
        },
        {
         "category": "fault",
         "description": "Axis values are increasing in an unconventional direction.",
         "name": "Flipped Axis",
         "subcategories": [
          "graph",
          "axis"
         ],
         "tag": "fault:axis:flipped"
        },
        {
         "category": "fault",
         "description": "Non-zero starting point on an axis that exaggerates or understates differences between items.",
         "name": "Truncated Axis",
         "subcategories": [
          "graph",
          "axis"
         ],
         "tag": "fault:axis:truncated"
        },
        {
         "category": "fault",
         "description": "Categorical colors are undistinguishable with each other.",
         "name": "Undistinguishable Colors",
         "subcategories": [
          "visual",
          "color"
         ],
         "tag": "fault:colormess"
        },
        {
         "category": "fault",
         "description": "Eye beats memory, comparing changes across animation frames is impossible.",
         "name": "Unjustified Animation",
         "subcategories": [
          "visual",
          "perception"
         ],
         "tag": "fault:animation"
        },
        {
         "category": "fault",
         "description": "Lengend is not helpful in understanding the chart.",
         "name": "Confusing Legend",
         "subcategories": [
          "visual",
          "scale"
         ],
         "tag": "fault:legendconfuse"
        },
        {
         "category": "fault",
         "description": "Labels are hard to understand or not understandable at all.",
         "name": "Confusing Label",
         "subcategories": [
          "visual",
          "text"
         ],
         "tag": "fault:labelconfuse"
        },
        {
         "category": "fault",
         "description": "Overwhelmed by visual clutter.",
         "name": "Cluttering",
         "subcategories": [
          "visual"
         ],
         "tag": "fault:cluttering"
        },
        {
         "category": "fault",
         "description": "Some items are not visible in the visualization because of blockage by another item.",
         "name": "Occlusion",
         "subcategories": [
          "visual"
         ],
         "tag": "fault:occulusion"
        },
        {
         "category": "fault",
         "description": "Chart ornament that causes negative effect in understanding.",
         "name": "Chart Junk",
         "subcategories": [
          "visual"
         ],
         "tag": "fault:chartjunk"
        },
        {
         "category": "fault",
         "description": "Text in the chart are illegible.",
         "name": "Illegible Text",
         "subcategories": [
          "visual",
          "text"
         ],
         "tag": "fault:legibility"
        },
        {
         "category": "fault",
         "description": "Very disturbing while looking at it.",
         "name": "Visually Awful",
         "subcategories": [
          "visual"
         ],
         "tag": "fault:visuallyawful"
        },
        {
         "category": "fault",
         "description": "Items with same or similar colors are not related.",
         "name": "False Color Correlation",
         "subcategories": [
          "perception",
          "color"
         ],
         "tag": "fault:colorcorrelation"
        },
        {
         "category": "fault",
         "description": "Unjustified use of 3D, it distorts the perceived size of the items.",
         "name": "Unjustified 3D",
         "subcategories": [
          "perception",
          "visual"
         ],
         "tag": "fault:3d"
        },
        {
         "category": "fault",
         "description": "Incorrect use of area encoding that exaggerates or understates differences between items.",
         "name": "Area Encoding",
         "subcategories": [
          "perception",
          "encoding"
         ],
         "tag": "fault:area"
        },
        {
         "category": "fault",
         "description": "Pictogram is improperly scaled to reflect value differences.",
         "name": "Area Encoded Pictogram",
         "subcategories": [
          "perception",
          "encoding"
         ],
         "tag": "fault:picto:distortion"
        },
        {
         "category": "fault",
         "description": "Cannot decode any data nor information.",
         "name": "Not Understandable",
         "subcategories": [
          "logical"
         ],
         "tag": "fault:cannotunderstand"
        },
        {
         "category": "fault",
         "description": "Not whole-part relationship but draw as a chart for whole-part relationship like pie chart.",
         "name": "Faulty Whole Part",
         "subcategories": [
          "logical"
         ],
         "tag": "fault:percentage:wholepart"
        },
        {
         "category": "fault",
         "description": "Conveying an illogical message.",
         "name": "Faulty Logic",
         "subcategories": [
          "logical"
         ],
         "tag": "fault:faultylogic"
        },
        {
         "category": "fault",
         "description": "Need background information in order to understand the message.",
         "name": "Missing Context",
         "subcategories": [
          "logical"
         ],
         "tag": "fault:missingcontext"
        },
        {
         "category": "fault",
         "description": "Comparison between items that are incomparable.",
         "name": "Invalid Comparison",
         "subcategories": [
          "logical"
         ],
         "tag": "fault:invalidcomparison"
        },
        {
         "category": "fault",
         "description": "The observed pattern is nothing more than the pattern of population density.",
         "name": "Just a Population Map",
         "subcategories": [
          "logical"
         ],
         "tag": "fault:map:population"
        },
        {
         "category": "fault",
         "description": "Suggesting causal relationships from correlations.",
         "name": "Spurious Correlation",
         "subcategories": [
          "logical"
         ],
         "tag": "fault:spuriousocorrelation"
        },
        {
         "category": "form",
         "name": "Bar Chart",
         "subcategory": "bar",
         "tag": "form:barchart"
        },
        {
         "category": "form",
         "name": "Stacked Bar Chart",
         "subcategory": "bar",
         "tag": "form:stackedbarchart"
        },
        {
         "category": "form",
         "name": "Dot Plot",
         "subcategory": "bar",
         "tag": "form:dotplot"
        },
        {
         "category": "form",
         "name": "Histogram",
         "subcategory": "bar",
         "tag": "form:histogram"
        },
        {
         "category": "form",
         "name": "Barcode Chart",
         "subcategory": "bar",
         "tag": "form:barcodechart"
        },
        {
         "category": "form",
         "name": "Progress Bar",
         "subcategory": "bar",
         "tag": "form:progressbar"
        },
        {
         "category": "form",
         "name": "Line Chart",
         "subcategory": "line",
         "tag": "form:linechart"
        },
        {
         "category": "form",
         "name": "Node-Link Diagram",
         "subcategory": "line",
         "tag": "form:nodelink"
        },
        {
         "category": "form",
         "name": "Parallel Coordinates",
         "subcategory": "line",
         "tag": "form:parallelcoor"
        },
        {
         "category": "form",
         "name": "Radar Chart",
         "subcategory": "line",
         "tag": "form:radarchart"
        },
        {
         "category": "form",
         "name": "Sankey Diagram",
         "subcategory": "line",
         "tag": "form:sankeydiagram"
        },
        {
         "category": "form",
         "name": "Box Plot",
         "subcategory": "line",
         "tag": "form:boxplot"
        },
        {
         "category": "form",
         "name": "Violin Plot",
         "subcategory": "line",
         "tag": "form:violinplot"
        },
        {
         "category": "form",
         "name": "Time Line",
         "subcategory": "line",
         "tag": "form:timeline"
        },
        {
         "category": "form",
         "name": "Connected Scatter Plot",
         "subcategory": "dot",
         "tag": "form:connectedscatterplot"
        },
        {
         "category": "form",
         "name": "Scatter Plot",
         "subcategory": "dot",
         "tag": "form:scatterplot"
        },
        {
         "category": "form",
         "name": "Dumbbell Plot",
         "subcategory": "dot",
         "tag": "form:dumbbellplot"
        },
        {
         "category": "form",
         "name": "Polar Graph",
         "subcategory": "dot",
         "tag": "form:polargraph"
        },
        {
         "category": "form",
         "name": "Bubble Chart",
         "subcategory": "circle",
         "tag": "form:bubblechart"
        },
        {
         "category": "form",
         "name": "Pie Chart",
         "subcategory": "circle",
         "tag": "form:piechart"
        },
        {
         "category": "form",
         "name": "Donut Chart",
         "subcategory": "circle",
         "tag": "form:donutchart"
        },
        {
         "category": "form",
         "name": "Guage Chart",
         "subcategory": "circle",
         "tag": "form:guagechart"
        },
        {
         "category": "form",
         "name": "Sunbrust Diagram",
         "subcategory": "circle",
         "tag": "form:sunbrust"
        },
        {
         "category": "form",
         "name": "Venn Diagram",
         "subcategory": "circle",
         "tag": "form:venn"
        },
        {
         "category": "form",
         "name": "Nested Bubbles",
         "subcategory": "circle",
         "tag": "form:nestedbubble"
        },
        {
         "category": "form",
         "name": "Polar Area Chart",
         "subcategory": "circle",
         "tag": "form:polararea"
        },
        {
         "category": "form",
         "name": "Chord Diagram",
         "subcategory": "circle",
         "tag": "form:chord"
        },
        {
         "category": "form",
         "name": "Area Chart",
         "subcategory": "area",
         "tag": "form:areachart"
        },
        {
         "category": "form",
         "name": "Stacked Area Chart",
         "subcategory": "area",
         "tag": "form:stackedareachart"
        },
        {
         "category": "form",
         "name": "Stream Graph",
         "subcategory": "area",
         "tag": "form:streamgraph"
        },
        {
         "category": "form",
         "name": "Treemap",
         "subcategory": "area",
         "tag": "form:treemap"
        },
        {
         "category": "form",
         "name": "Voronoi Diagram",
         "subcategory": "area",
         "tag": "form:voronoi"
        },
        {
         "category": "form",
         "name": "Pyramid",
         "subcategory": "area",
         "tag": "form:pyramid"
        },
        {
         "category": "form",
         "name": "Choropleth",
         "subcategory": "map",
         "tag": "form:choropleth"
        },
        {
         "category": "form",
         "name": "Flow Map",
         "subcategory": "map",
         "tag": "form:flowmap"
        },
        {
         "category": "form",
         "name": "Map",
         "subcategory": "map",
         "tag": "form:map"
        },
        {
         "category": "form",
         "name": "Table",
         "subcategory": "table",
         "tag": "form:table"
        },
        {
         "category": "form",
         "name": "Heatmap",
         "subcategory": "table",
         "tag": "form:heatmap"
        },
        {
         "category": "form",
         "name": "Quadrant",
         "subcategory": "table",
         "tag": "form:quadrant"
        },
        {
         "category": "form",
         "name": "Pictogram",
         "subcategory": "icon",
         "tag": "form:pictogram"
        },
        {
         "category": "form",
         "name": "Chernoff Face",
         "subcategory": "icon",
         "tag": "form:chernoffface"
        },
        {
         "category": "form",
         "name": "Unclassified",
         "subcategory": "other",
         "tag": "form:unknown"
        },
        {
         "category": "data",
         "name": "Categorical",
         "subcategory": "attribute",
         "tag": "data:categorical"
        },
        {
         "category": "data",
         "name": "Quantitative",
         "subcategory": "attribute",
         "tag": "data:quantitative"
        },
        {
         "category": "data",
         "name": "Sequential",
         "subcategory": "attribute",
         "tag": "data:sequential"
        },
        {
         "category": "data",
         "name": "Diverging",
         "subcategory": "attribute",
         "tag": "data:diverging"
        },
        {
         "category": "data",
         "name": "Ordinal",
         "subcategory": "attribute",
         "tag": "data:ordinal"
        },
        {
         "category": "data",
         "name": "Time Series",
         "subcategory": "time",
         "tag": "data:timeseries"
        },
        {
         "category": "data",
         "name": "Cyclic",
         "subcategory": "time",
         "tag": "data:cyclic"
        },
        {
         "category": "data",
         "name": "Geospatial",
         "subcategory": "position",
         "tag": "data:geospatial"
        },
        {
         "category": "data",
         "name": "Flow",
         "subcategory": "position",
         "tag": "data:flow"
        },
        {
         "category": "data",
         "name": "Bitmap",
         "subcategory": "position",
         "tag": "data:bitmap"
        },
        {
         "category": "data",
         "name": "Positional",
         "subcategory": "position",
         "tag": "data:positional"
        },
        {
         "category": "data",
         "name": "Network",
         "subcategory": "relation",
         "tag": "data:network"
        },
        {
         "category": "data",
         "name": "Tree",
         "subcategory": "relation",
         "tag": "data:tree"
        },
        {
         "category": "data",
         "name": "Set",
         "subcategory": "relation",
         "tag": "data:set"
        },
        {
         "category": "data",
         "name": "Ranked",
         "subcategory": "derived",
         "tag": "data:ranking"
        },
        {
         "category": "data",
         "name": "Index Value",
         "subcategory": "derived",
         "tag": "data:indexvalue"
        },
        {
         "category": "data",
         "name": "Accumulated",
         "subcategory": "derived",
         "tag": "data:accumulated"
        },
        {
         "category": "data",
         "name": "Percentage",
         "subcategory": "derived",
         "tag": "data:percentage"
        },
        {
         "category": "data",
         "name": "Probability",
         "subcategory": "derived",
         "tag": "data:probability"
        },
        {
         "category": "data",
         "name": "Text",
         "subcategory": "other",
         "tag": "data:text"
        },
        {
         "category": "data",
         "name": "Multivariate",
         "subcategory": "other",
         "tag": "data:multivariate"
        },
        {
         "category": "domain",
         "name": "Politics",
         "tag": "domain:politics"
        },
        {
         "category": "domain",
         "name": "Business",
         "tag": "domain:business"
        },
        {
         "category": "domain",
         "name": "Entertainment",
         "tag": "domain:entertainment"
        },
        {
         "category": "domain",
         "name": "Scientific",
         "tag": "domain:scientific"
        },
        {
         "category": "domain",
         "name": "Sports",
         "tag": "domain:sports"
        },
        {
         "category": "domain",
         "name": "Health",
         "tag": "domain:health"
        },
        {
         "category": "domain",
         "name": "Education",
         "tag": "domain:education"
        },
        {
         "category": "domain",
         "name": "Food",
         "tag": "domain:catering"
        },
        {
         "category": "domain",
         "name": "Computer",
         "tag": "domain:computer"
        },
        {
         "category": "domain",
         "name": "Environment",
         "tag": "domain:environment"
        },
        {
         "category": "domain",
         "name": "International",
         "tag": "domain:international"
        },
        {
         "category": "domain",
         "name": "Public",
         "tag": "domain:public"
        },
        {
         "category": "domain",
         "name": "Personal",
         "tag": "domain:personal"
        },
        {
         "category": "domain",
         "name": "Unknown",
         "tag": "domain:unknown"
        },
        {
         "category": "media",
         "name": "TV",
         "tag": "media:tv"
        },
        {
         "category": "media",
         "name": "News Article",
         "tag": "media:news"
        },
        {
         "category": "media",
         "name": "Ads",
         "tag": "media:ads"
        },
        {
         "category": "media",
         "name": "Printed",
         "tag": "media:printed"
        },
        {
         "category": "media",
         "name": "Handdrawn",
         "tag": "media:handdrawn"
        },
        {
         "category": "media",
         "name": "Inreallife",
         "tag": "media:inreallife"
        },
        {
         "category": "media",
         "name": "NSFW",
         "tag": "media:NSFW"
        },
        {
         "category": "media",
         "name": "Infographic",
         "tag": "media:infographic"
        },
        {
         "category": "media",
         "name": "Google Products",
         "tag": "media:google"
        },
        {
         "category": "layout",
         "name": "Circular",
         "tag": "layout:circular"
        },
        {
         "category": "layout",
         "name": "Juxtaposition",
         "tag": "layout:juxtaposition"
        },
        {
         "category": "layout",
         "name": "Superimposed",
         "tag": "layout:overlay"
        },
        {
         "category": "layout",
         "name": "Multiple-views",
         "tag": "layout:mixed"
        },
        {
         "category": "layout",
         "name": "Periodictable",
         "tag": "layout:periodictable"
        },
        {
         "category": "layout",
         "name": "Clock",
         "tag": "layout:clock"
        },
        {
         "category": "layout",
         "name": "Calendar",
         "tag": "layout:calendar"
        },
        {
         "category": "effect",
         "name": "Reversed",
         "tag": "effect:reversed"
        },
        {
         "category": "effect",
         "name": "Distorted",
         "tag": "effect:distorted"
        },
        {
         "category": "effect",
         "name": "Confused",
         "tag": "effect:confuesed"
        },
        {
         "category": "effect",
         "name": "Suggestive",
         "tag": "effect:suggestive"
        },
        {
         "category": "flag",
         "name": "Need Review",
         "tag": "flag:needreview"
        },
        {
         "category": "flag",
         "name": "Duplicated",
         "tag": "flag:duplicated"
        },
        {
         "category": "flag",
         "name": "Invalid",
         "tag": "flag:invalid"
        },
        {
         "category": "flag",
         "name": "Not Bad",
         "tag": "flag:notbad"
        },
        {
         "category": "flag",
         "name": "Starred",
         "tag": "flag:starred"
        },
        {
         "category": "flag",
         "name": "Parody",
         "tag": "flag:parody"
        }
       ]
      },
      "text/plain": [
       "<IPython.core.display.JSON object>"
      ]
     },
     "execution_count": 26,
     "metadata": {
      "application/json": {
       "expanded": false,
       "root": "root"
      }
     },
     "output_type": "execute_result"
    }
   ],
   "source": [
    "JSON(labelTags)"
   ]
  },
  {
   "cell_type": "markdown",
   "metadata": {},
   "source": [
    "# Export Labels"
   ]
  },
  {
   "cell_type": "code",
   "execution_count": 27,
   "metadata": {},
   "outputs": [],
   "source": [
    "json.dump(labelOptions, open('tmp/labelOptions.json', 'w'), separators=(',', ':'))"
   ]
  },
  {
   "cell_type": "code",
   "execution_count": 28,
   "metadata": {},
   "outputs": [],
   "source": [
    "json.dump(labelTags, open('tmp/labelTags.json', 'w'), separators=(',', ':'))"
   ]
  },
  {
   "cell_type": "markdown",
   "metadata": {},
   "source": [
    "# Replace Labels"
   ]
  },
  {
   "cell_type": "code",
   "execution_count": 29,
   "metadata": {},
   "outputs": [],
   "source": [
    "# # replace labels\n",
    "# current_label = 'fault:invalidencoding'\n",
    "# new_label = 'fault:cannotunderstand'\n",
    "\n",
    "# for l in vislabels.find():\n",
    "# #     if 'form:barchart' in l['labels'] and 'layout:stacked' in l['labels']:\n",
    "#     if len([l for l in l['labels'] if current_label in l]) > 0:\n",
    "#         ori_length = len(l['labels'])\n",
    "#         print(len(l['labels']), l['_id'], l['image_id'], l['labels'])\n",
    "\n",
    "#         l['labels'] = [l for l in l['labels'] if current_label not in l]\n",
    "#         if new_label not in l['labels']:\n",
    "#             l['labels'].append(new_label)\n",
    "\n",
    "#         new_length = len(l['labels'])\n",
    "#         print(new_length - ori_length, new_label in l['labels'], len(l['labels']), l['labels'])\n",
    "\n",
    "#         # vislabels.update_one({'_id': l['_id']}, {'$set': {'labels': l['labels']}})\n",
    "# #     break"
   ]
  },
  {
   "cell_type": "markdown",
   "metadata": {
    "jupyter": {
     "outputs_hidden": true
    }
   },
   "source": [
    "# "
   ]
  }
 ],
 "metadata": {
  "kernelspec": {
   "display_name": "Python 3",
   "language": "python",
   "name": "python3"
  },
  "language_info": {
   "codemirror_mode": {
    "name": "ipython",
    "version": 3
   },
   "file_extension": ".py",
   "mimetype": "text/x-python",
   "name": "python",
   "nbconvert_exporter": "python",
   "pygments_lexer": "ipython3",
   "version": "3.8.5"
  }
 },
 "nbformat": 4,
 "nbformat_minor": 4
}
