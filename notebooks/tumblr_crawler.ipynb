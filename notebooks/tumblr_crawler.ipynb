{
 "cells": [
  {
   "cell_type": "code",
   "execution_count": null,
   "metadata": {},
   "outputs": [],
   "source": [
    "# !pip install pytumblr\n",
    "# !pip install requests-cache\n",
    "# !pip install pymongo"
   ]
  },
  {
   "cell_type": "code",
   "execution_count": 2,
   "metadata": {},
   "outputs": [],
   "source": [
    "import requests\n",
    "import requests_cache\n",
    "!mkdir -p web_cache\n",
    "requests_cache.install_cache('web_cache/tumblrcrawler')\n",
    "# requests_cache.clear()"
   ]
  },
  {
   "cell_type": "code",
   "execution_count": 3,
   "metadata": {},
   "outputs": [],
   "source": [
    "import pytumblr\n",
    "import json\n",
    "from pymongo import MongoClient\n",
    "from datetime import datetime\n",
    "from pathlib import Path\n",
    "from bs4 import BeautifulSoup as bs\n",
    "from collections.abc import MutableMapping, Sequence\n",
    "from collections import Counter\n",
    "\n",
    "from tqdm.notebook import tqdm\n",
    "from IPython.display import JSON\n",
    "\n",
    "from lib.labels_from_tags import labels_from_tags"
   ]
  },
  {
   "cell_type": "code",
   "execution_count": 4,
   "metadata": {},
   "outputs": [],
   "source": [
    "mongo_uri = json.load(open('./credentials/mongodb_credentials.json'))['uri']\n",
    "mongo = MongoClient(mongo_uri)\n",
    "db = mongo['bad-vis']\n",
    "raw = db['tumblr-raw']\n",
    "posts = db['posts']"
   ]
  },
  {
   "cell_type": "code",
   "execution_count": 5,
   "metadata": {},
   "outputs": [],
   "source": [
    "credentials = \"\"\n",
    "\n",
    "with open('./credentials/tumblr_credentials.json') as f:\n",
    "    credentials = json.load(f)"
   ]
  },
  {
   "cell_type": "code",
   "execution_count": 6,
   "metadata": {},
   "outputs": [],
   "source": [
    "client = pytumblr.TumblrRestClient(credentials['consumer_key'])"
   ]
  },
  {
   "cell_type": "code",
   "execution_count": 7,
   "metadata": {},
   "outputs": [
    {
     "data": {
      "application/json": {
       "_links": {
        "next": {
         "href": "/v2/blog/badvisualisations.tumblr.com/posts?limit=1&offset=1&page_number=2",
         "method": "GET",
         "query_params": {
          "limit": "1",
          "offset": "1",
          "page_number": "2"
         }
        }
       },
       "blog": {
        "ask": true,
        "ask_anon": true,
        "ask_page_title": "Ask me anything about visualisations",
        "asks_allow_media": true,
        "avatar": [
         {
          "height": 512,
          "url": "https://64.media.tumblr.com/avatar_ce83395d7f32_512.png",
          "width": 512
         },
         {
          "height": 128,
          "url": "https://64.media.tumblr.com/avatar_ce83395d7f32_128.png",
          "width": 128
         },
         {
          "height": 96,
          "url": "https://64.media.tumblr.com/avatar_ce83395d7f32_96.png",
          "width": 96
         },
         {
          "height": 64,
          "url": "https://64.media.tumblr.com/avatar_ce83395d7f32_64.png",
          "width": 64
         }
        ],
        "can_chat": true,
        "can_subscribe": false,
        "description": "A collection of weird graphics and visualisations from here, there and everywhere. \n\nDon't follow if you love pie charts and are unwilling to change your mind about them",
        "is_nsfw": false,
        "is_optout_ads": false,
        "likes": 1,
        "name": "badvisualisations",
        "posts": 121,
        "share_likes": true,
        "subscribed": false,
        "theme": {
         "avatar_shape": "square",
         "background_color": "#FAFAFA",
         "body_font": "Helvetica Neue",
         "header_bounds": 0,
         "header_image": "https://assets.tumblr.com/images/default_header/optica_pattern_04.png?_v=7c4e5e82cf797042596e2e64af1c383f",
         "header_image_focused": "https://assets.tumblr.com/images/default_header/optica_pattern_04.png?_v=7c4e5e82cf797042596e2e64af1c383f",
         "header_image_poster": "",
         "header_image_scaled": "https://assets.tumblr.com/images/default_header/optica_pattern_04.png?_v=7c4e5e82cf797042596e2e64af1c383f",
         "header_stretch": true,
         "link_color": "#bb2a11",
         "show_avatar": true,
         "show_description": true,
         "show_header_image": false,
         "show_title": true,
         "title_color": "#444444",
         "title_font": "Gibson",
         "title_font_weight": "bold"
        },
        "title": "Bad Visualisations",
        "total_posts": 121,
        "updated": 1566173423,
        "url": "https://badvisualisations.tumblr.com/",
        "uuid": "t:SbzyslRUMBlp21LVg8400Q"
       },
       "posts": [
        {
         "blog": {
          "description": "A collection of weird graphics and visualisations from here, there and everywhere. \n\nDon't follow if you love pie charts and are unwilling to change your mind about them",
          "name": "badvisualisations",
          "title": "Bad Visualisations",
          "updated": 1566173423,
          "url": "https://badvisualisations.tumblr.com/",
          "uuid": "t:SbzyslRUMBlp21LVg8400Q"
         },
         "blog_name": "badvisualisations",
         "can_like": false,
         "can_reblog": false,
         "can_reply": false,
         "can_send_in_message": true,
         "caption": "<p>The graphic adds no value. To get any sort of information from this you need to read the (rather dense) text associated with each graphic. </p><p>It’s another case of a graphic designer trying to be too clever and destroying the information in the process. If the use of the same shapes in different sizes for different bars is bad enough, here the designer has tried to use different shapes for each city. So there is no way at all that the size of any building says anything about the quantity it is trying to depict.</p><p>Also there are two quantities being represented here (runs and average), and it’s not clear what the bar is trying to show.</p><p>Now I’m starting to wonder if this is intended to be a graphic at all. </p><p>Source: <a href=\"https://www.espncricinfo.com/story/_/id/27358389/which-top-cricket-city-win-world-cup\">https://www.espncricinfo.com/story/_/id/27358389/which-top-cricket-city-win-world-cup</a></p>",
         "date": "2019-08-19 00:10:23 GMT",
         "display_avatar": true,
         "format": "html",
         "id": 187107071331,
         "id_string": "187107071331",
         "image_permalink": "https://badvisualisations.tumblr.com/image/187107071331",
         "note_count": 0,
         "photos": [
          {
           "alt_sizes": [
            {
             "height": 452,
             "url": "https://64.media.tumblr.com/1a2eaf8a9098222c050b5f978b628d59/tumblr_pwgj5bXRBJ1xbq2wwo1_640.jpg",
             "width": 570
            },
            {
             "height": 428,
             "url": "https://64.media.tumblr.com/1a2eaf8a9098222c050b5f978b628d59/tumblr_pwgj5bXRBJ1xbq2wwo1_540.jpg",
             "width": 540
            },
            {
             "height": 396,
             "url": "https://64.media.tumblr.com/1a2eaf8a9098222c050b5f978b628d59/tumblr_pwgj5bXRBJ1xbq2wwo1_500.jpg",
             "width": 500
            },
            {
             "height": 317,
             "url": "https://64.media.tumblr.com/1a2eaf8a9098222c050b5f978b628d59/tumblr_pwgj5bXRBJ1xbq2wwo1_400.jpg",
             "width": 400
            },
            {
             "height": 198,
             "url": "https://64.media.tumblr.com/1a2eaf8a9098222c050b5f978b628d59/tumblr_pwgj5bXRBJ1xbq2wwo1_250.jpg",
             "width": 250
            },
            {
             "height": 79,
             "url": "https://64.media.tumblr.com/1a2eaf8a9098222c050b5f978b628d59/tumblr_pwgj5bXRBJ1xbq2wwo1_100.jpg",
             "width": 100
            },
            {
             "height": 75,
             "url": "https://64.media.tumblr.com/1a2eaf8a9098222c050b5f978b628d59/tumblr_pwgj5bXRBJ1xbq2wwo1_75sq.jpg",
             "width": 75
            }
           ],
           "caption": "",
           "original_size": {
            "height": 452,
            "url": "https://64.media.tumblr.com/1a2eaf8a9098222c050b5f978b628d59/tumblr_pwgj5bXRBJ1xbq2wwo1_640.jpg",
            "width": 570
           }
          }
         ],
         "post_url": "https://badvisualisations.tumblr.com/post/187107071331/the-graphic-adds-no-value-to-get-any-sort-of",
         "reblog": {
          "comment": "<p>The graphic adds no value. To get any sort of information from this you need to read the (rather dense) text associated with each graphic. </p><p>It’s another case of a graphic designer trying to be too clever and destroying the information in the process. If the use of the same shapes in different sizes for different bars is bad enough, here the designer has tried to use different shapes for each city. So there is no way at all that the size of any building says anything about the quantity it is trying to depict.</p><p>Also there are two quantities being represented here (runs and average), and it’s not clear what the bar is trying to show.</p><p>Now I’m starting to wonder if this is intended to be a graphic at all. </p><p>Source: <a href=\"https://www.espncricinfo.com/story/_/id/27358389/which-top-cricket-city-win-world-cup\">https://www.espncricinfo.com/story/_/id/27358389/which-top-cricket-city-win-world-cup</a></p>",
          "tree_html": ""
         },
         "reblog_key": "OXAwNZ99",
         "recommended_color": null,
         "recommended_source": null,
         "short_url": "https://tmblr.co/ZTaz8Z2kGSrLZ",
         "should_open_in_legacy": true,
         "slug": "the-graphic-adds-no-value-to-get-any-sort-of",
         "state": "published",
         "summary": "The graphic adds no value. To get any sort of information from this you need to read the (rather dense) text associated with...",
         "tags": [
          "data visualisation",
          "bar graph"
         ],
         "timestamp": 1566173423,
         "trail": [
          {
           "blog": {
            "active": true,
            "can_be_followed": true,
            "name": "badvisualisations",
            "share_following": true,
            "share_likes": true,
            "theme": {
             "avatar_shape": "square",
             "background_color": "#FAFAFA",
             "body_font": "Helvetica Neue",
             "header_bounds": 0,
             "header_image": "https://assets.tumblr.com/images/default_header/optica_pattern_04.png?_v=7c4e5e82cf797042596e2e64af1c383f",
             "header_image_focused": "https://assets.tumblr.com/images/default_header/optica_pattern_04.png?_v=7c4e5e82cf797042596e2e64af1c383f",
             "header_image_poster": "",
             "header_image_scaled": "https://assets.tumblr.com/images/default_header/optica_pattern_04.png?_v=7c4e5e82cf797042596e2e64af1c383f",
             "header_stretch": true,
             "link_color": "#bb2a11",
             "show_avatar": true,
             "show_description": true,
             "show_header_image": false,
             "show_title": true,
             "title_color": "#444444",
             "title_font": "Gibson",
             "title_font_weight": "bold"
            }
           },
           "content": "<p>The graphic adds no value. To get any sort of information from this you need to read the (rather dense) text associated with each graphic.&nbsp;</p><p>It&rsquo;s another case of a graphic designer trying to be too clever and destroying the information in the process. If the use of the same shapes in different sizes for different bars is bad enough, here the designer has tried to use different shapes for each city. So there is no way at all that the size of any building says anything about the quantity it is trying to depict.</p><p>Also there are two quantities being represented here (runs and average), and it&rsquo;s not clear what the bar is trying to show.</p><p>Now I&rsquo;m starting to wonder if this is intended to be a graphic at all.&nbsp;</p><p>Source:&nbsp;<a href=\"https://www.espncricinfo.com/story/_/id/27358389/which-top-cricket-city-win-world-cup\">https://www.espncricinfo.com/story/_/id/27358389/which-top-cricket-city-win-world-cup</a></p>",
           "content_raw": "<p>The graphic adds no value. To get any sort of information from this you need to read the (rather dense) text associated with each graphic. </p><p>It’s another case of a graphic designer trying to be too clever and destroying the information in the process. If the use of the same shapes in different sizes for different bars is bad enough, here the designer has tried to use different shapes for each city. So there is no way at all that the size of any building says anything about the quantity it is trying to depict.</p><p>Also there are two quantities being represented here (runs and average), and it’s not clear what the bar is trying to show.</p><p>Now I’m starting to wonder if this is intended to be a graphic at all. </p><p>Source: <a href=\"https://www.espncricinfo.com/story/_/id/27358389/which-top-cricket-city-win-world-cup\">https://www.espncricinfo.com/story/_/id/27358389/which-top-cricket-city-win-world-cup</a></p>",
           "is_current_item": true,
           "is_root_item": true,
           "post": {
            "id": "187107071331"
           }
          }
         ],
         "type": "photo"
        }
       ],
       "total_posts": 121
      },
      "text/plain": [
       "<IPython.core.display.JSON object>"
      ]
     },
     "execution_count": 7,
     "metadata": {
      "application/json": {
       "expanded": false,
       "root": "root"
      }
     },
     "output_type": "execute_result"
    }
   ],
   "source": [
    "JSON(client.posts('badvisualisations.tumblr.com', limit=1))"
   ]
  },
  {
   "cell_type": "code",
   "execution_count": 8,
   "metadata": {},
   "outputs": [],
   "source": [
    "reply = client.posts('badvisualisations.tumblr.com', limit=100)"
   ]
  },
  {
   "cell_type": "code",
   "execution_count": 9,
   "metadata": {},
   "outputs": [
    {
     "data": {
      "text/plain": [
       "50"
      ]
     },
     "execution_count": 9,
     "metadata": {},
     "output_type": "execute_result"
    }
   ],
   "source": [
    "len(reply['posts'])"
   ]
  },
  {
   "cell_type": "code",
   "execution_count": 10,
   "metadata": {},
   "outputs": [
    {
     "data": {
      "application/json": {
       "blog": {
        "description": "A collection of weird graphics and visualisations from here, there and everywhere. \n\nDon't follow if you love pie charts and are unwilling to change your mind about them",
        "name": "badvisualisations",
        "title": "Bad Visualisations",
        "updated": 1566173423,
        "url": "https://badvisualisations.tumblr.com/",
        "uuid": "t:SbzyslRUMBlp21LVg8400Q"
       },
       "blog_name": "badvisualisations",
       "can_like": false,
       "can_reblog": false,
       "can_reply": false,
       "can_send_in_message": true,
       "caption": "<p>The graphic adds no value. To get any sort of information from this you need to read the (rather dense) text associated with each graphic. </p><p>It’s another case of a graphic designer trying to be too clever and destroying the information in the process. If the use of the same shapes in different sizes for different bars is bad enough, here the designer has tried to use different shapes for each city. So there is no way at all that the size of any building says anything about the quantity it is trying to depict.</p><p>Also there are two quantities being represented here (runs and average), and it’s not clear what the bar is trying to show.</p><p>Now I’m starting to wonder if this is intended to be a graphic at all. </p><p>Source: <a href=\"https://www.espncricinfo.com/story/_/id/27358389/which-top-cricket-city-win-world-cup\">https://www.espncricinfo.com/story/_/id/27358389/which-top-cricket-city-win-world-cup</a></p>",
       "date": "2019-08-19 00:10:23 GMT",
       "display_avatar": true,
       "format": "html",
       "id": 187107071331,
       "id_string": "187107071331",
       "image_permalink": "https://badvisualisations.tumblr.com/image/187107071331",
       "note_count": 0,
       "photos": [
        {
         "alt_sizes": [
          {
           "height": 452,
           "url": "https://64.media.tumblr.com/1a2eaf8a9098222c050b5f978b628d59/tumblr_pwgj5bXRBJ1xbq2wwo1_640.jpg",
           "width": 570
          },
          {
           "height": 428,
           "url": "https://64.media.tumblr.com/1a2eaf8a9098222c050b5f978b628d59/tumblr_pwgj5bXRBJ1xbq2wwo1_540.jpg",
           "width": 540
          },
          {
           "height": 396,
           "url": "https://64.media.tumblr.com/1a2eaf8a9098222c050b5f978b628d59/tumblr_pwgj5bXRBJ1xbq2wwo1_500.jpg",
           "width": 500
          },
          {
           "height": 317,
           "url": "https://64.media.tumblr.com/1a2eaf8a9098222c050b5f978b628d59/tumblr_pwgj5bXRBJ1xbq2wwo1_400.jpg",
           "width": 400
          },
          {
           "height": 198,
           "url": "https://64.media.tumblr.com/1a2eaf8a9098222c050b5f978b628d59/tumblr_pwgj5bXRBJ1xbq2wwo1_250.jpg",
           "width": 250
          },
          {
           "height": 79,
           "url": "https://64.media.tumblr.com/1a2eaf8a9098222c050b5f978b628d59/tumblr_pwgj5bXRBJ1xbq2wwo1_100.jpg",
           "width": 100
          },
          {
           "height": 75,
           "url": "https://64.media.tumblr.com/1a2eaf8a9098222c050b5f978b628d59/tumblr_pwgj5bXRBJ1xbq2wwo1_75sq.jpg",
           "width": 75
          }
         ],
         "caption": "",
         "original_size": {
          "height": 452,
          "url": "https://64.media.tumblr.com/1a2eaf8a9098222c050b5f978b628d59/tumblr_pwgj5bXRBJ1xbq2wwo1_640.jpg",
          "width": 570
         }
        }
       ],
       "post_url": "https://badvisualisations.tumblr.com/post/187107071331/the-graphic-adds-no-value-to-get-any-sort-of",
       "reblog": {
        "comment": "<p>The graphic adds no value. To get any sort of information from this you need to read the (rather dense) text associated with each graphic. </p><p>It’s another case of a graphic designer trying to be too clever and destroying the information in the process. If the use of the same shapes in different sizes for different bars is bad enough, here the designer has tried to use different shapes for each city. So there is no way at all that the size of any building says anything about the quantity it is trying to depict.</p><p>Also there are two quantities being represented here (runs and average), and it’s not clear what the bar is trying to show.</p><p>Now I’m starting to wonder if this is intended to be a graphic at all. </p><p>Source: <a href=\"https://www.espncricinfo.com/story/_/id/27358389/which-top-cricket-city-win-world-cup\">https://www.espncricinfo.com/story/_/id/27358389/which-top-cricket-city-win-world-cup</a></p>",
        "tree_html": ""
       },
       "reblog_key": "OXAwNZ99",
       "recommended_color": null,
       "recommended_source": null,
       "short_url": "https://tmblr.co/ZTaz8Z2kGSrLZ",
       "should_open_in_legacy": true,
       "slug": "the-graphic-adds-no-value-to-get-any-sort-of",
       "state": "published",
       "summary": "The graphic adds no value. To get any sort of information from this you need to read the (rather dense) text associated with...",
       "tags": [
        "data visualisation",
        "bar graph"
       ],
       "timestamp": 1566173423,
       "trail": [
        {
         "blog": {
          "active": true,
          "can_be_followed": true,
          "name": "badvisualisations",
          "share_following": true,
          "share_likes": true,
          "theme": {
           "avatar_shape": "square",
           "background_color": "#FAFAFA",
           "body_font": "Helvetica Neue",
           "header_bounds": 0,
           "header_image": "https://assets.tumblr.com/images/default_header/optica_pattern_04.png?_v=7c4e5e82cf797042596e2e64af1c383f",
           "header_image_focused": "https://assets.tumblr.com/images/default_header/optica_pattern_04.png?_v=7c4e5e82cf797042596e2e64af1c383f",
           "header_image_poster": "",
           "header_image_scaled": "https://assets.tumblr.com/images/default_header/optica_pattern_04.png?_v=7c4e5e82cf797042596e2e64af1c383f",
           "header_stretch": true,
           "link_color": "#bb2a11",
           "show_avatar": true,
           "show_description": true,
           "show_header_image": false,
           "show_title": true,
           "title_color": "#444444",
           "title_font": "Gibson",
           "title_font_weight": "bold"
          }
         },
         "content": "<p>The graphic adds no value. To get any sort of information from this you need to read the (rather dense) text associated with each graphic.&nbsp;</p><p>It&rsquo;s another case of a graphic designer trying to be too clever and destroying the information in the process. If the use of the same shapes in different sizes for different bars is bad enough, here the designer has tried to use different shapes for each city. So there is no way at all that the size of any building says anything about the quantity it is trying to depict.</p><p>Also there are two quantities being represented here (runs and average), and it&rsquo;s not clear what the bar is trying to show.</p><p>Now I&rsquo;m starting to wonder if this is intended to be a graphic at all.&nbsp;</p><p>Source:&nbsp;<a href=\"https://www.espncricinfo.com/story/_/id/27358389/which-top-cricket-city-win-world-cup\">https://www.espncricinfo.com/story/_/id/27358389/which-top-cricket-city-win-world-cup</a></p>",
         "content_raw": "<p>The graphic adds no value. To get any sort of information from this you need to read the (rather dense) text associated with each graphic. </p><p>It’s another case of a graphic designer trying to be too clever and destroying the information in the process. If the use of the same shapes in different sizes for different bars is bad enough, here the designer has tried to use different shapes for each city. So there is no way at all that the size of any building says anything about the quantity it is trying to depict.</p><p>Also there are two quantities being represented here (runs and average), and it’s not clear what the bar is trying to show.</p><p>Now I’m starting to wonder if this is intended to be a graphic at all. </p><p>Source: <a href=\"https://www.espncricinfo.com/story/_/id/27358389/which-top-cricket-city-win-world-cup\">https://www.espncricinfo.com/story/_/id/27358389/which-top-cricket-city-win-world-cup</a></p>",
         "is_current_item": true,
         "is_root_item": true,
         "post": {
          "id": "187107071331"
         }
        }
       ],
       "type": "photo"
      },
      "text/plain": [
       "<IPython.core.display.JSON object>"
      ]
     },
     "execution_count": 10,
     "metadata": {
      "application/json": {
       "expanded": false,
       "root": "root"
      }
     },
     "output_type": "execute_result"
    }
   ],
   "source": [
    "JSON(reply['posts'][0])"
   ]
  },
  {
   "cell_type": "code",
   "execution_count": 11,
   "metadata": {},
   "outputs": [],
   "source": [
    "def digest_post (post):\n",
    "    if not raw.find_one({'id': post['id']}, {'_id': 1}):\n",
    "        return raw.insert_one(post)\n",
    "    else:\n",
    "        return ''\n",
    "\n",
    "def retrieve (blog, offset=0, limit=50):\n",
    "    url = blog\n",
    "    reply = client.posts(url, offset=offset, limit=limit)\n",
    "    total = reply['total_posts']\n",
    "    return [post for post in reply['posts']], total\n",
    "\n",
    "def posts_iter (blog):\n",
    "    offset = 0\n",
    "    total = 1\n",
    "    while offset < total:\n",
    "        posts, total = retrieve(blog, offset)\n",
    "        offset += len(posts)\n",
    "        for post in posts:\n",
    "            yield post\n",
    "\n",
    "def retrieve_posts (blog):\n",
    "    return (digest_post(p) for p in tqdm(posts_iter(blog)))"
   ]
  },
  {
   "cell_type": "code",
   "execution_count": 12,
   "metadata": {},
   "outputs": [],
   "source": [
    "crawler_queue = [\n",
    "    {'source': 'badvisualisations', 'file': 'badvisualisations.json', 'blog': 'badvisualisations.tumblr.com'},\n",
    "    {'source': 'wtf-viz', 'file': 'wtf-viz.json', 'blog': 'viz.wtf'}\n",
    "]"
   ]
  },
  {
   "cell_type": "code",
   "execution_count": 13,
   "metadata": {},
   "outputs": [
    {
     "data": {
      "application/vnd.jupyter.widget-view+json": {
       "model_id": "68e1f17997fd445d98afc8d3bb2a100b",
       "version_major": 2,
       "version_minor": 0
      },
      "text/plain": [
       "HBox(children=(FloatProgress(value=1.0, bar_style='info', layout=Layout(width='20px'), max=1.0), HTML(value=''…"
      ]
     },
     "metadata": {},
     "output_type": "display_data"
    },
    {
     "name": "stdout",
     "output_type": "stream",
     "text": [
      "\n"
     ]
    },
    {
     "data": {
      "application/vnd.jupyter.widget-view+json": {
       "model_id": "cc4bddc4a05f44959152547e4f30b623",
       "version_major": 2,
       "version_minor": 0
      },
      "text/plain": [
       "HBox(children=(FloatProgress(value=1.0, bar_style='info', layout=Layout(width='20px'), max=1.0), HTML(value=''…"
      ]
     },
     "metadata": {},
     "output_type": "display_data"
    },
    {
     "name": "stdout",
     "output_type": "stream",
     "text": [
      "\n"
     ]
    }
   ],
   "source": [
    "for c in crawler_queue:\n",
    "    [p for p in retrieve_posts(c['blog'])]"
   ]
  },
  {
   "cell_type": "markdown",
   "metadata": {},
   "source": [
    "# Digest into posts"
   ]
  },
  {
   "cell_type": "code",
   "execution_count": 14,
   "metadata": {},
   "outputs": [
    {
     "data": {
      "text/plain": [
       "<pymongo.results.DeleteResult at 0x7f62403a9600>"
      ]
     },
     "execution_count": 14,
     "metadata": {},
     "output_type": "execute_result"
    }
   ],
   "source": [
    "posts.delete_many({'source_platform': 'tumblr'})"
   ]
  },
  {
   "cell_type": "code",
   "execution_count": 15,
   "metadata": {},
   "outputs": [],
   "source": [
    "# from https://stackoverflow.com/questions/51488240/python-get-json-keys-as-full-path\n",
    "def get_paths(source):\n",
    "    paths = []\n",
    "    if isinstance(source, MutableMapping):  # found a dict-like structure...\n",
    "        for k, v in source.items():  # iterate over it; Python 2.x: source.iteritems()\n",
    "            paths.append([k])  # add the current child path\n",
    "            paths += [[k] + x for x in get_paths(v)]  # get sub-paths, extend with the current\n",
    "    # else, check if a list-like structure, remove if you don't want list paths included\n",
    "    elif isinstance(source, Sequence) and not isinstance(source, str):\n",
    "        #                          Python 2.x: use basestring instead of str ^\n",
    "        for i, v in enumerate(source):\n",
    "            paths.append([i])\n",
    "            paths += [[i] + x for x in get_paths(v)]  # get sub-paths, extend with the current\n",
    "    return paths\n",
    "\n",
    "c = Counter([str(p) for s in raw.find() for p in get_paths(s)])\n",
    "with open('tumblr_attrs.txt', 'w') as f:\n",
    "    f.write(str(c))"
   ]
  },
  {
   "cell_type": "code",
   "execution_count": 16,
   "metadata": {},
   "outputs": [],
   "source": [
    "class Post ():\n",
    "    _attrs = [\n",
    "        'id',\n",
    "        'post_id',\n",
    "        'datetime',\n",
    "        'url',\n",
    "        'title',\n",
    "        'content',\n",
    "        'thumbnail',\n",
    "        'preview',\n",
    "        'num_comments',\n",
    "        'source',\n",
    "        'source_platform',\n",
    "        'source_url',\n",
    "        'tags',\n",
    "        'media_type',\n",
    "        'labels'\n",
    "    ]\n",
    "\n",
    "    def __init__ (self, p):\n",
    "        self._p = p\n",
    "        self.id = p['id']\n",
    "        self.post_id = f'tumblr/{p[\"blog_name\"]}/{p[\"id\"]}'\n",
    "        self.url = p['post_url']\n",
    "        self.title = p['summary']\n",
    "        self.num_comments = p['note_count']\n",
    "        self.source = p['blog']['name']\n",
    "        self.source_platform = 'tumblr'\n",
    "        self.source_url = p['blog']['url']\n",
    "\n",
    "    def digest (self):\n",
    "        return {a:getattr(self, a) for a in Post._attrs}\n",
    "\n",
    "    @property\n",
    "    def datetime (self):\n",
    "        return datetime.fromtimestamp(self._p['timestamp']).isoformat()\n",
    "\n",
    "    @property\n",
    "    def content (self):\n",
    "        if 'caption' in self._p:\n",
    "            return bs(self._p['caption'], 'html.parser').get_text()\n",
    "        else:\n",
    "            return ''\n",
    "\n",
    "    @property\n",
    "    def tags (self):\n",
    "        return self._p['tags']\n",
    "\n",
    "    @property\n",
    "    def labels (self):\n",
    "        return {\n",
    "            'auto': labels_from_tags(self.tags)\n",
    "        }\n",
    "\n",
    "    @property\n",
    "    def media_type (self):\n",
    "        if self.preview['url'] == '':\n",
    "            return self._p['type']\n",
    "        else:\n",
    "            return 'image'\n",
    "\n",
    "    @property\n",
    "    def preview (self):\n",
    "        if 'photos' in self._p:\n",
    "            return {\n",
    "                'url': self._p['photos'][0]['original_size']['url'],\n",
    "                'width': self._p['photos'][0]['original_size']['width'],\n",
    "                'height': self._p['photos'][0]['original_size']['height']\n",
    "            }\n",
    "        elif self._p['type'] == 'video':\n",
    "            print('Video type')\n",
    "            if self._p['video_type'] == \"unknown\":\n",
    "                print(\"Unknown video type\")\n",
    "                print(self._p['player'][-1]['embed_code'])\n",
    "            else:\n",
    "                print(f'Tumblr post {self._p[\"id\"]} has video: {self._p[\"permalink_url\"]}')\n",
    "        elif self._p['type'] == 'text':\n",
    "            print('Text type')\n",
    "            if 'body' in self._p:\n",
    "                img = bs(self._p['body'], 'html.parser').find('img')\n",
    "                if img:\n",
    "                    print(f'Tumblr posts {self._p[\"id\"]} has img in body: {img[\"data-orig-width\"]} {img[\"data-orig-height\"]} {img[\"src\"]}')\n",
    "                    print()\n",
    "                    return {\n",
    "                        'url': img['src'],\n",
    "                        'width': img['data-orig-width'],\n",
    "                        'height': img['data-orig-height'],\n",
    "                    }\n",
    "\n",
    "        print(f'Tumblr posts missing photos: {self._p[\"id\"]}')\n",
    "        print()\n",
    "        return {\n",
    "            'url': '',\n",
    "            'width': 0,\n",
    "            'height': 0\n",
    "        }\n",
    "\n",
    "    @property\n",
    "    def thumbnail (self):\n",
    "        if 'photos' in self._p:\n",
    "            thumbnails = [s for s in self._p['photos'][0]['alt_sizes'] if s['width'] > 140 or s['height'] > 140]\n",
    "            thumbnail = self._p['photos'][0]['alt_sizes'][0] if len(thumbnails) == 0 else thumbnails[-1]\n",
    "            return {\n",
    "                'url': thumbnail['url'],\n",
    "                'width': thumbnail['width'],\n",
    "                'height': thumbnail['height']\n",
    "            }\n",
    "        else:\n",
    "            return {\n",
    "                'url': '',\n",
    "                'width': 0,\n",
    "                'height': 0\n",
    "            }"
   ]
  },
  {
   "cell_type": "code",
   "execution_count": 17,
   "metadata": {},
   "outputs": [],
   "source": [
    "def digest_all_posts ():\n",
    "    for p in tqdm(raw.find()):\n",
    "        post = Post(p)\n",
    "        posts.replace_one({'post_id': post.post_id}, post.digest(), upsert=True)\n",
    "    return"
   ]
  },
  {
   "cell_type": "code",
   "execution_count": 18,
   "metadata": {},
   "outputs": [
    {
     "data": {
      "application/vnd.jupyter.widget-view+json": {
       "model_id": "271deee6a833496ab820642c3cff285e",
       "version_major": 2,
       "version_minor": 0
      },
      "text/plain": [
       "HBox(children=(FloatProgress(value=1.0, bar_style='info', layout=Layout(width='20px'), max=1.0), HTML(value=''…"
      ]
     },
     "metadata": {},
     "output_type": "display_data"
    },
    {
     "name": "stdout",
     "output_type": "stream",
     "text": [
      "Text type\n",
      "Tumblr posts 184638752491 has img in body: 1204 950 https://66.media.tumblr.com/bfe6995aeeee5056aaa49bf797d1907d/tumblr_inline_pqyyx3YYtI1w54cvo_540.png\n",
      "\n",
      "Text type\n",
      "Tumblr posts 184638752491 has img in body: 1204 950 https://66.media.tumblr.com/bfe6995aeeee5056aaa49bf797d1907d/tumblr_inline_pqyyx3YYtI1w54cvo_540.png\n",
      "\n",
      "Video type\n",
      "Unknown video type\n",
      "<blockquote class=\"twitter-tweet\" data-lang=\"en\"><p lang=\"en\" dir=\"ltr\">Look how infant mortality has fallen with growth, across states of India! Each state has its own story: Maharashtra better than most southern states, Bihar stagnating under RJD, Odisha&#39;s gains despite low growth...what do you see? <br>Cool <a href=\"https://twitter.com/hashtag/Datavisualization?src=hash&amp;ref_src=twsrc%5Etfw\">#Datavisualization</a> from Prof. <a href=\"https://twitter.com/muditkapoor?ref_src=twsrc%5Etfw\">@muditkapoor</a> <a href=\"https://t.co/d49U3GVo5M\">pic.twitter.com/d49U3GVo5M</a></p>&mdash; Shamika Ravi (@ShamikaRavi) <a href=\"https://twitter.com/ShamikaRavi/status/1021984942086135808?ref_src=twsrc%5Etfw\">July 25, 2018</a></blockquote> <script async src=\"https://platform.twitter.com/widgets.js\" charset=\"utf-8\"></script>\n",
      "Tumblr posts missing photos: 176295318781\n",
      "\n",
      "Video type\n",
      "Unknown video type\n",
      "<blockquote class=\"twitter-tweet\" data-lang=\"en\"><p lang=\"en\" dir=\"ltr\">Look how infant mortality has fallen with growth, across states of India! Each state has its own story: Maharashtra better than most southern states, Bihar stagnating under RJD, Odisha&#39;s gains despite low growth...what do you see? <br>Cool <a href=\"https://twitter.com/hashtag/Datavisualization?src=hash&amp;ref_src=twsrc%5Etfw\">#Datavisualization</a> from Prof. <a href=\"https://twitter.com/muditkapoor?ref_src=twsrc%5Etfw\">@muditkapoor</a> <a href=\"https://t.co/d49U3GVo5M\">pic.twitter.com/d49U3GVo5M</a></p>&mdash; Shamika Ravi (@ShamikaRavi) <a href=\"https://twitter.com/ShamikaRavi/status/1021984942086135808?ref_src=twsrc%5Etfw\">July 25, 2018</a></blockquote> <script async src=\"https://platform.twitter.com/widgets.js\" charset=\"utf-8\"></script>\n",
      "Tumblr posts missing photos: 176295318781\n",
      "\n",
      "Text type\n",
      "Tumblr posts 185156798890 has img in body: 600 600 https://66.media.tumblr.com/1e1ad4876aab45a5aa4a6a4280d7ecd5/tumblr_pre9k4e5o11wd31sx_540.jpg\n",
      "\n",
      "Text type\n",
      "Tumblr posts 185156798890 has img in body: 600 600 https://66.media.tumblr.com/1e1ad4876aab45a5aa4a6a4280d7ecd5/tumblr_pre9k4e5o11wd31sx_540.jpg\n",
      "\n",
      "Video type\n",
      "Unknown video type\n",
      "<iframe src=\"https://www.facebook.com/plugins/video.php?href=https%3A%2F%2Fwww.facebook.com%2Fsocialdemokratiet%2Fvideos%2F10155224468428030%2F&show_text=0&width=476\" width=\"500\" height=\"500\" style=\"border:none;overflow:hidden\" scrolling=\"no\" frameborder=\"0\" allowTransparency=\"true\" allowFullScreen=\"true\"></iframe>\n",
      "Tumblr posts missing photos: 171022697184\n",
      "\n",
      "Video type\n",
      "Unknown video type\n",
      "<iframe src=\"https://www.facebook.com/plugins/video.php?href=https%3A%2F%2Fwww.facebook.com%2Fsocialdemokratiet%2Fvideos%2F10155224468428030%2F&show_text=0&width=476\" width=\"500\" height=\"500\" style=\"border:none;overflow:hidden\" scrolling=\"no\" frameborder=\"0\" allowTransparency=\"true\" allowFullScreen=\"true\"></iframe>\n",
      "Tumblr posts missing photos: 171022697184\n",
      "\n",
      "Video type\n",
      "Tumblr post 150825677735 has video: https://www.youtube.com/watch?v=w10dgthpDqY\n",
      "Tumblr posts missing photos: 150825677735\n",
      "\n",
      "Video type\n",
      "Tumblr post 150825677735 has video: https://www.youtube.com/watch?v=w10dgthpDqY\n",
      "Tumblr posts missing photos: 150825677735\n",
      "\n",
      "Video type\n",
      "Unknown video type\n",
      "<div class=\"tumblr-post\" data-href=\"https://embed.tumblr.com/embed/post/wWJtcScQpmsxRAxNLdG4Vg/132054889908\" data-did=\"d8c3ddfd3074629e34cfe798a9d44f7552a547f8\"><a href=\"http://playswithdata.tumblr.com/post/132054889908/playswithdata-captures-definitive-wtfviz\">http://playswithdata.tumblr.com/post/132054889908/playswithdata-captures-definitive-wtfviz</a></div><script async src=\"https://secure.assets.tumblr.com/post.js\"></script>\n",
      "Tumblr posts missing photos: 132221142171\n",
      "\n",
      "Video type\n",
      "Unknown video type\n",
      "<div class=\"tumblr-post\" data-href=\"https://embed.tumblr.com/embed/post/wWJtcScQpmsxRAxNLdG4Vg/132054889908\" data-did=\"d8c3ddfd3074629e34cfe798a9d44f7552a547f8\"><a href=\"http://playswithdata.tumblr.com/post/132054889908/playswithdata-captures-definitive-wtfviz\">http://playswithdata.tumblr.com/post/132054889908/playswithdata-captures-definitive-wtfviz</a></div><script async src=\"https://secure.assets.tumblr.com/post.js\"></script>\n",
      "Tumblr posts missing photos: 132221142171\n",
      "\n",
      "Video type\n",
      "Tumblr post 84934513313 has video: https://www.youtube.com/watch?v=2JtNjP-aZuE\n",
      "Tumblr posts missing photos: 84934513313\n",
      "\n",
      "Video type\n",
      "Tumblr post 84934513313 has video: https://www.youtube.com/watch?v=2JtNjP-aZuE\n",
      "Tumblr posts missing photos: 84934513313\n",
      "\n",
      "Video type\n",
      "Tumblr post 74420608516 has video: https://www.youtube.com/watch?v=jrnC5tKnNK4\n",
      "Tumblr posts missing photos: 74420608516\n",
      "\n",
      "Video type\n",
      "Tumblr post 74420608516 has video: https://www.youtube.com/watch?v=jrnC5tKnNK4\n",
      "Tumblr posts missing photos: 74420608516\n",
      "\n",
      "Video type\n",
      "Tumblr post 67859310132 has video: https://vimeo.com/65825545\n",
      "Tumblr posts missing photos: 67859310132\n",
      "\n",
      "Video type\n",
      "Tumblr post 67859310132 has video: https://vimeo.com/65825545\n",
      "Tumblr posts missing photos: 67859310132\n",
      "\n",
      "Text type\n",
      "Tumblr posts missing photos: 64121103593\n",
      "\n",
      "Text type\n",
      "Tumblr posts missing photos: 64121103593\n",
      "\n",
      "Text type\n",
      "Tumblr posts missing photos: 61710774124\n",
      "\n",
      "Text type\n",
      "Tumblr posts missing photos: 61710774124\n",
      "\n",
      "\n"
     ]
    }
   ],
   "source": [
    "digest_all_posts()"
   ]
  },
  {
   "cell_type": "code",
   "execution_count": null,
   "metadata": {},
   "outputs": [],
   "source": []
  }
 ],
 "metadata": {
  "kernelspec": {
   "display_name": "Python 3",
   "language": "python",
   "name": "python3"
  },
  "language_info": {
   "codemirror_mode": {
    "name": "ipython",
    "version": 3
   },
   "file_extension": ".py",
   "mimetype": "text/x-python",
   "name": "python",
   "nbconvert_exporter": "python",
   "pygments_lexer": "ipython3",
   "version": "3.8.5"
  }
 },
 "nbformat": 4,
 "nbformat_minor": 4
}
