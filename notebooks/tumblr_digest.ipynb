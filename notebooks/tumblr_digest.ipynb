{
 "cells": [
  {
   "cell_type": "code",
   "execution_count": 1,
   "metadata": {
    "Collapsed": "false"
   },
   "outputs": [],
   "source": [
    "from pymongo import MongoClient\n",
    "import json\n",
    "from datetime import datetime\n",
    "from tqdm.notebook import tqdm\n",
    "from pathlib import Path\n",
    "from IPython.display import JSON\n",
    "from bs4 import BeautifulSoup as bs\n",
    "\n",
    "from lib.labels_from_tags import labels_from_tags"
   ]
  },
  {
   "cell_type": "code",
   "execution_count": 2,
   "metadata": {
    "Collapsed": "false"
   },
   "outputs": [],
   "source": [
    "mongo = MongoClient('172.17.0.1', 27017)\n",
    "db = mongo['bad-vis']\n",
    "raw = db['tumblr-raw']\n",
    "posts = db['posts']"
   ]
  },
  {
   "cell_type": "code",
   "execution_count": 3,
   "metadata": {
    "Collapsed": "false"
   },
   "outputs": [],
   "source": [
    "from collections.abc import MutableMapping, Sequence\n",
    "from collections import Counter\n",
    "\n",
    "# from https://stackoverflow.com/questions/51488240/python-get-json-keys-as-full-path\n",
    "def get_paths(source):\n",
    "    paths = []\n",
    "    if isinstance(source, MutableMapping):  # found a dict-like structure...\n",
    "        for k, v in source.items():  # iterate over it; Python 2.x: source.iteritems()\n",
    "            paths.append([k])  # add the current child path\n",
    "            paths += [[k] + x for x in get_paths(v)]  # get sub-paths, extend with the current\n",
    "    # else, check if a list-like structure, remove if you don't want list paths included\n",
    "    elif isinstance(source, Sequence) and not isinstance(source, str):\n",
    "        #                          Python 2.x: use basestring instead of str ^\n",
    "        for i, v in enumerate(source):\n",
    "            paths.append([i])\n",
    "            paths += [[i] + x for x in get_paths(v)]  # get sub-paths, extend with the current\n",
    "    return paths\n",
    "\n",
    "c = Counter([str(p) for s in raw.find() for p in get_paths(s)])\n",
    "with open('tumblr_attrs.txt', 'w') as f:\n",
    "    f.write(str(c))"
   ]
  },
  {
   "cell_type": "code",
   "execution_count": 4,
   "metadata": {
    "Collapsed": "false"
   },
   "outputs": [],
   "source": [
    "class Post ():\n",
    "    _attrs = [\n",
    "        'id',\n",
    "        'post_id',\n",
    "        'datetime',\n",
    "        'url',\n",
    "        'title',\n",
    "        'content',\n",
    "        'thumbnail',\n",
    "        'preview',\n",
    "        'num_comments',\n",
    "        'source',\n",
    "        'source_platform',\n",
    "        'source_url',\n",
    "        'tags',\n",
    "        'media_type',\n",
    "        'labels'\n",
    "    ]\n",
    "\n",
    "    def __init__ (self, p):\n",
    "        self._p = p\n",
    "        self.id = p['id']\n",
    "        self.post_id = f'tumblr/{p[\"blog_name\"]}/{p[\"id\"]}'\n",
    "        self.url = p['post_url']\n",
    "        self.title = p['summary']\n",
    "        self.num_comments = p['note_count']\n",
    "        self.source = p['blog']['name']\n",
    "        self.source_platform = 'tumblr'\n",
    "        self.source_url = p['blog']['url']\n",
    "\n",
    "    def digest (self):\n",
    "        return {a:getattr(self, a) for a in Post._attrs}\n",
    "\n",
    "    @property\n",
    "    def datetime (self):\n",
    "        return datetime.fromtimestamp(self._p['timestamp']).isoformat()\n",
    "\n",
    "    @property\n",
    "    def content (self):\n",
    "        if 'caption' in self._p:\n",
    "            return bs(self._p['caption'], 'html.parser').get_text()\n",
    "        else:\n",
    "            return ''\n",
    "\n",
    "    @property\n",
    "    def tags (self):\n",
    "        return self._p['tags']\n",
    "\n",
    "    @property\n",
    "    def labels (self):\n",
    "        return {\n",
    "            'auto': labels_from_tags(self.tags)\n",
    "        }\n",
    "\n",
    "    @property\n",
    "    def media_type (self):\n",
    "        if self.preview['url'] == '':\n",
    "            return self._p['type']\n",
    "        else:\n",
    "            return 'image'\n",
    "\n",
    "    @property\n",
    "    def preview (self):\n",
    "        if 'photos' in self._p:\n",
    "            return {\n",
    "                'url': self._p['photos'][0]['original_size']['url'],\n",
    "                'width': self._p['photos'][0]['original_size']['width'],\n",
    "                'height': self._p['photos'][0]['original_size']['height']\n",
    "            }\n",
    "        elif self._p['type'] == 'video':\n",
    "            print('Video type')\n",
    "            if self._p['video_type'] == \"unknown\":\n",
    "                print(\"Unknown video type\")\n",
    "                print(self._p['player'][-1]['embed_code'])\n",
    "            else:\n",
    "                print(f'Tumblr post {self._p[\"id\"]} has video: {self._p[\"permalink_url\"]}')\n",
    "        elif self._p['type'] == 'text':\n",
    "            print('Text type')\n",
    "            if 'body' in self._p:\n",
    "                img = bs(self._p['body'], 'html.parser').find('img')\n",
    "                if img:\n",
    "                    print(f'Tumblr posts {self._p[\"id\"]} has img in body: {img[\"data-orig-width\"]} {img[\"data-orig-height\"]} {img[\"src\"]}')\n",
    "                    print()\n",
    "                    return {\n",
    "                        'url': img['src'],\n",
    "                        'width': img['data-orig-width'],\n",
    "                        'height': img['data-orig-height'],\n",
    "                    }\n",
    "\n",
    "        print(f'Tumblr posts missing photos: {self._p[\"id\"]}')\n",
    "        print()\n",
    "        return {\n",
    "            'url': '',\n",
    "            'width': 0,\n",
    "            'height': 0\n",
    "        }\n",
    "\n",
    "    @property\n",
    "    def thumbnail (self):\n",
    "        if 'photos' in self._p:\n",
    "            thumbnails = [s for s in self._p['photos'][0]['alt_sizes'] if s['width'] > 140 or s['height'] > 140]\n",
    "            thumbnail = self._p['photos'][0]['alt_sizes'][0] if len(thumbnails) == 0 else thumbnails[-1]\n",
    "            return {\n",
    "                'url': thumbnail['url'],\n",
    "                'width': thumbnail['width'],\n",
    "                'height': thumbnail['height']\n",
    "            }\n",
    "        else:\n",
    "            return {\n",
    "                'url': '',\n",
    "                'width': 0,\n",
    "                'height': 0\n",
    "            }"
   ]
  },
  {
   "cell_type": "code",
   "execution_count": 5,
   "metadata": {
    "Collapsed": "false"
   },
   "outputs": [],
   "source": [
    "def digest_all_posts ():\n",
    "    for p in tqdm(raw.find()):\n",
    "        post = Post(p)\n",
    "        posts.replace_one({'post_id': post.post_id}, post.digest(), upsert=True)\n",
    "    return"
   ]
  },
  {
   "cell_type": "code",
   "execution_count": 6,
   "metadata": {
    "Collapsed": "false"
   },
   "outputs": [
    {
     "data": {
      "application/vnd.jupyter.widget-view+json": {
       "model_id": "9cb9af2c63e348b1bca860683e498489",
       "version_major": 2,
       "version_minor": 0
      },
      "text/plain": [
       "HBox(children=(FloatProgress(value=1.0, bar_style='info', max=1.0), HTML(value='')))"
      ]
     },
     "metadata": {},
     "output_type": "display_data"
    },
    {
     "name": "stdout",
     "output_type": "stream",
     "text": [
      "Text type\n",
      "Tumblr posts 184638752491 has img in body: 1204 950 https://66.media.tumblr.com/bfe6995aeeee5056aaa49bf797d1907d/tumblr_inline_pqyyx3YYtI1w54cvo_540.png\n",
      "\n",
      "Text type\n",
      "Tumblr posts 184638752491 has img in body: 1204 950 https://66.media.tumblr.com/bfe6995aeeee5056aaa49bf797d1907d/tumblr_inline_pqyyx3YYtI1w54cvo_540.png\n",
      "\n",
      "Video type\n",
      "Unknown video type\n",
      "<blockquote class=\"twitter-tweet\" data-lang=\"en\"><p lang=\"en\" dir=\"ltr\">Look how infant mortality has fallen with growth, across states of India! Each state has its own story: Maharashtra better than most southern states, Bihar stagnating under RJD, Odisha&#39;s gains despite low growth...what do you see? <br>Cool <a href=\"https://twitter.com/hashtag/Datavisualization?src=hash&amp;ref_src=twsrc%5Etfw\">#Datavisualization</a> from Prof. <a href=\"https://twitter.com/muditkapoor?ref_src=twsrc%5Etfw\">@muditkapoor</a> <a href=\"https://t.co/d49U3GVo5M\">pic.twitter.com/d49U3GVo5M</a></p>&mdash; Shamika Ravi (@ShamikaRavi) <a href=\"https://twitter.com/ShamikaRavi/status/1021984942086135808?ref_src=twsrc%5Etfw\">July 25, 2018</a></blockquote> <script async src=\"https://platform.twitter.com/widgets.js\" charset=\"utf-8\"></script>\n",
      "Tumblr posts missing photos: 176295318781\n",
      "\n",
      "Video type\n",
      "Unknown video type\n",
      "<blockquote class=\"twitter-tweet\" data-lang=\"en\"><p lang=\"en\" dir=\"ltr\">Look how infant mortality has fallen with growth, across states of India! Each state has its own story: Maharashtra better than most southern states, Bihar stagnating under RJD, Odisha&#39;s gains despite low growth...what do you see? <br>Cool <a href=\"https://twitter.com/hashtag/Datavisualization?src=hash&amp;ref_src=twsrc%5Etfw\">#Datavisualization</a> from Prof. <a href=\"https://twitter.com/muditkapoor?ref_src=twsrc%5Etfw\">@muditkapoor</a> <a href=\"https://t.co/d49U3GVo5M\">pic.twitter.com/d49U3GVo5M</a></p>&mdash; Shamika Ravi (@ShamikaRavi) <a href=\"https://twitter.com/ShamikaRavi/status/1021984942086135808?ref_src=twsrc%5Etfw\">July 25, 2018</a></blockquote> <script async src=\"https://platform.twitter.com/widgets.js\" charset=\"utf-8\"></script>\n",
      "Tumblr posts missing photos: 176295318781\n",
      "\n",
      "Text type\n",
      "Tumblr posts 185156798890 has img in body: 600 600 https://66.media.tumblr.com/1e1ad4876aab45a5aa4a6a4280d7ecd5/tumblr_pre9k4e5o11wd31sx_540.jpg\n",
      "\n",
      "Text type\n",
      "Tumblr posts 185156798890 has img in body: 600 600 https://66.media.tumblr.com/1e1ad4876aab45a5aa4a6a4280d7ecd5/tumblr_pre9k4e5o11wd31sx_540.jpg\n",
      "\n",
      "Video type\n",
      "Unknown video type\n",
      "<iframe src=\"https://www.facebook.com/plugins/video.php?href=https%3A%2F%2Fwww.facebook.com%2Fsocialdemokratiet%2Fvideos%2F10155224468428030%2F&show_text=0&width=476\" width=\"500\" height=\"500\" style=\"border:none;overflow:hidden\" scrolling=\"no\" frameborder=\"0\" allowTransparency=\"true\" allowFullScreen=\"true\"></iframe>\n",
      "Tumblr posts missing photos: 171022697184\n",
      "\n",
      "Video type\n",
      "Unknown video type\n",
      "<iframe src=\"https://www.facebook.com/plugins/video.php?href=https%3A%2F%2Fwww.facebook.com%2Fsocialdemokratiet%2Fvideos%2F10155224468428030%2F&show_text=0&width=476\" width=\"500\" height=\"500\" style=\"border:none;overflow:hidden\" scrolling=\"no\" frameborder=\"0\" allowTransparency=\"true\" allowFullScreen=\"true\"></iframe>\n",
      "Tumblr posts missing photos: 171022697184\n",
      "\n",
      "Video type\n",
      "Tumblr post 150825677735 has video: https://www.youtube.com/watch?v=w10dgthpDqY\n",
      "Tumblr posts missing photos: 150825677735\n",
      "\n",
      "Video type\n",
      "Tumblr post 150825677735 has video: https://www.youtube.com/watch?v=w10dgthpDqY\n",
      "Tumblr posts missing photos: 150825677735\n",
      "\n",
      "Video type\n",
      "Unknown video type\n",
      "<div class=\"tumblr-post\" data-href=\"https://embed.tumblr.com/embed/post/wWJtcScQpmsxRAxNLdG4Vg/132054889908\" data-did=\"d8c3ddfd3074629e34cfe798a9d44f7552a547f8\"><a href=\"http://playswithdata.tumblr.com/post/132054889908/playswithdata-captures-definitive-wtfviz\">http://playswithdata.tumblr.com/post/132054889908/playswithdata-captures-definitive-wtfviz</a></div><script async src=\"https://secure.assets.tumblr.com/post.js\"></script>\n",
      "Tumblr posts missing photos: 132221142171\n",
      "\n",
      "Video type\n",
      "Unknown video type\n",
      "<div class=\"tumblr-post\" data-href=\"https://embed.tumblr.com/embed/post/wWJtcScQpmsxRAxNLdG4Vg/132054889908\" data-did=\"d8c3ddfd3074629e34cfe798a9d44f7552a547f8\"><a href=\"http://playswithdata.tumblr.com/post/132054889908/playswithdata-captures-definitive-wtfviz\">http://playswithdata.tumblr.com/post/132054889908/playswithdata-captures-definitive-wtfviz</a></div><script async src=\"https://secure.assets.tumblr.com/post.js\"></script>\n",
      "Tumblr posts missing photos: 132221142171\n",
      "\n",
      "Video type\n",
      "Tumblr post 84934513313 has video: https://www.youtube.com/watch?v=2JtNjP-aZuE\n",
      "Tumblr posts missing photos: 84934513313\n",
      "\n",
      "Video type\n",
      "Tumblr post 84934513313 has video: https://www.youtube.com/watch?v=2JtNjP-aZuE\n",
      "Tumblr posts missing photos: 84934513313\n",
      "\n",
      "Video type\n",
      "Tumblr post 74420608516 has video: https://www.youtube.com/watch?v=jrnC5tKnNK4\n",
      "Tumblr posts missing photos: 74420608516\n",
      "\n",
      "Video type\n",
      "Tumblr post 74420608516 has video: https://www.youtube.com/watch?v=jrnC5tKnNK4\n",
      "Tumblr posts missing photos: 74420608516\n",
      "\n",
      "Video type\n",
      "Tumblr post 67859310132 has video: https://vimeo.com/65825545\n",
      "Tumblr posts missing photos: 67859310132\n",
      "\n",
      "Video type\n",
      "Tumblr post 67859310132 has video: https://vimeo.com/65825545\n",
      "Tumblr posts missing photos: 67859310132\n",
      "\n",
      "Text type\n",
      "Tumblr posts missing photos: 64121103593\n",
      "\n",
      "Text type\n",
      "Tumblr posts missing photos: 64121103593\n",
      "\n",
      "Text type\n",
      "Tumblr posts missing photos: 61710774124\n",
      "\n",
      "Text type\n",
      "Tumblr posts missing photos: 61710774124\n",
      "\n",
      "\n"
     ]
    }
   ],
   "source": [
    "digest_all_posts()"
   ]
  },
  {
   "cell_type": "code",
   "execution_count": null,
   "metadata": {
    "Collapsed": "false"
   },
   "outputs": [],
   "source": []
  }
 ],
 "metadata": {
  "kernelspec": {
   "display_name": "Python 3",
   "language": "python",
   "name": "python3"
  },
  "language_info": {
   "codemirror_mode": {
    "name": "ipython",
    "version": 3
   },
   "file_extension": ".py",
   "mimetype": "text/x-python",
   "name": "python",
   "nbconvert_exporter": "python",
   "pygments_lexer": "ipython3",
   "version": "3.7.6"
  },
  "widgets": {
   "application/vnd.jupyter.widget-state+json": {
    "state": {
     "230ea958dba34495a83a74494c68ed88": {
      "model_module": "@jupyter-widgets/base",
      "model_module_version": "1.2.0",
      "model_name": "LayoutModel",
      "state": {}
     },
     "6d5a23442c2341639380212dd69f9f3f": {
      "model_module": "@jupyter-widgets/controls",
      "model_module_version": "1.5.0",
      "model_name": "ProgressStyleModel",
      "state": {
       "description_width": "initial"
      }
     },
     "710dbda7a99e4c3785b3615be1b84144": {
      "model_module": "@jupyter-widgets/controls",
      "model_module_version": "1.5.0",
      "model_name": "FloatProgressModel",
      "state": {
       "bar_style": "success",
       "layout": "IPY_MODEL_95daeb735e6946858a505c0950e42eee",
       "max": 1,
       "style": "IPY_MODEL_6d5a23442c2341639380212dd69f9f3f",
       "value": 1
      }
     },
     "7c69cf99f9554ebb88a79f5c0876148f": {
      "model_module": "@jupyter-widgets/base",
      "model_module_version": "1.2.0",
      "model_name": "LayoutModel",
      "state": {}
     },
     "951d347f0f854c2b8c34351a59fd819a": {
      "model_module": "@jupyter-widgets/controls",
      "model_module_version": "1.5.0",
      "model_name": "DescriptionStyleModel",
      "state": {
       "description_width": ""
      }
     },
     "95daeb735e6946858a505c0950e42eee": {
      "model_module": "@jupyter-widgets/base",
      "model_module_version": "1.2.0",
      "model_name": "LayoutModel",
      "state": {}
     },
     "c2f4c398059341fd866e7e76f713814e": {
      "model_module": "@jupyter-widgets/controls",
      "model_module_version": "1.5.0",
      "model_name": "HTMLModel",
      "state": {
       "layout": "IPY_MODEL_7c69cf99f9554ebb88a79f5c0876148f",
       "style": "IPY_MODEL_951d347f0f854c2b8c34351a59fd819a",
       "value": " 2339/? [00:02&lt;00:00, 995.77it/s]"
      }
     },
     "eb9fd6cf2115497d8eb598fda86cfe00": {
      "model_module": "@jupyter-widgets/controls",
      "model_module_version": "1.5.0",
      "model_name": "HBoxModel",
      "state": {
       "children": [
        "IPY_MODEL_710dbda7a99e4c3785b3615be1b84144",
        "IPY_MODEL_c2f4c398059341fd866e7e76f713814e"
       ],
       "layout": "IPY_MODEL_230ea958dba34495a83a74494c68ed88"
      }
     }
    },
    "version_major": 2,
    "version_minor": 0
   }
  }
 },
 "nbformat": 4,
 "nbformat_minor": 4
}
