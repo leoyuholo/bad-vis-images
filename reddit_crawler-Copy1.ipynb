{
 "cells": [
  {
   "cell_type": "code",
   "execution_count": 1,
   "metadata": {},
   "outputs": [],
   "source": [
    "# !pip install praw\n",
    "# !pip install requests-cache\n",
    "# !pip install pymongo"
   ]
  },
  {
   "cell_type": "code",
   "execution_count": 1,
   "metadata": {},
   "outputs": [],
   "source": [
    "import requests_cache\n",
    "requests_cache.install_cache('web_cache')"
   ]
  },
  {
   "cell_type": "code",
   "execution_count": 2,
   "metadata": {},
   "outputs": [],
   "source": [
    "import praw\n",
    "from pymongo import MongoClient\n",
    "import json\n",
    "import datetime\n",
    "import pandas as pd\n",
    "from tqdm.notebook import tqdm\n",
    "from pathlib import Path\n",
    "from IPython.display import JSON"
   ]
  },
  {
   "cell_type": "code",
   "execution_count": 3,
   "metadata": {},
   "outputs": [],
   "source": [
    "mongo = MongoClient('172.17.0.1', 27017)\n",
    "db = mongo['bad-vis']\n",
    "raw = db['reddit-raw']"
   ]
  },
  {
   "cell_type": "code",
   "execution_count": 3,
   "metadata": {},
   "outputs": [],
   "source": [
    "data_dir = Path('./data')"
   ]
  },
  {
   "cell_type": "code",
   "execution_count": 4,
   "metadata": {},
   "outputs": [],
   "source": [
    "credentials = \"\"\n",
    "\n",
    "with open('./reddit_credentials.json') as f:\n",
    "    credentials = json.load(f)"
   ]
  },
  {
   "cell_type": "code",
   "execution_count": 5,
   "metadata": {},
   "outputs": [],
   "source": [
    "reddit = praw.Reddit(client_id=credentials['client_id'],\n",
    "                     client_secret=credentials['client_secret'],\n",
    "                     password=credentials['password'],\n",
    "                     user_agent=credentials['user_agent'],\n",
    "                     username=credentials['username'])"
   ]
  },
  {
   "cell_type": "code",
   "execution_count": 6,
   "metadata": {},
   "outputs": [
    {
     "data": {
      "text/plain": [
       "[Submission(id='enn8n7'), Submission(id='eni5xa')]"
      ]
     },
     "execution_count": 6,
     "metadata": {},
     "output_type": "execute_result"
    }
   ],
   "source": [
    "submissions = [s for s in reddit.subreddit('dataisugly').new(limit=2)]\n",
    "submissions"
   ]
  },
  {
   "cell_type": "code",
   "execution_count": 7,
   "metadata": {},
   "outputs": [],
   "source": [
    "error_submissions = []\n",
    "\n",
    "def digest_submission_preview (submission):\n",
    "    try:\n",
    "        if hasattr(submission, 'preview'):\n",
    "            return submission.preview['images'][0]['source']['url']\n",
    "        else:\n",
    "            return ''\n",
    "    except Exception as inst:\n",
    "        print(f'Reddit submissions preview digest error: {inst}')\n",
    "        return f'Preview error: {inst}'\n",
    "\n",
    "def digest_submission (submission):\n",
    "    try:\n",
    "        return {\n",
    "            'title': submission.title,\n",
    "            'permalink': submission.permalink,\n",
    "            'datetime': datetime.datetime.fromtimestamp(submission.created_utc).isoformat(),\n",
    "            'author': submission.author.name if submission.author else '',\n",
    "            'selftext': submission.selftext,\n",
    "            'link': submission.url,\n",
    "            'preview': digest_submission_preview(submission),\n",
    "            'id': submission.id,\n",
    "            'num_comments': submission.num_comments,\n",
    "            'score': submission.score,\n",
    "#             'upvote_ratio': submission.upvote_ratio # require extra request\n",
    "        }\n",
    "    except Exception as inst:\n",
    "        print(f'Reddit submissions digest error: {inst} idx: {len(error_submissions)}')\n",
    "        return {\n",
    "            'title': 'digest error',\n",
    "            'idx': len(error_submissions),\n",
    "            'error': str(inst)\n",
    "        }\n",
    "\n",
    "def submissions_iter (r, sort, limit):\n",
    "    if sort == 'top_all':\n",
    "        return reddit.subreddit(r).top('all', limit=limit)\n",
    "    elif sort == 'top_year':\n",
    "        return reddit.subreddit(r).top('year', limit=limit)\n",
    "    else:\n",
    "        return reddit.subreddit(r).new(limit=limit)\n",
    "\n",
    "def retrieve_submissions (r='dataisugly', sort='top_all', limit=100):\n",
    "    return (digest_submission(s) for s in tqdm(submissions_iter(r, sort, limit), total=limit))"
   ]
  },
  {
   "cell_type": "code",
   "execution_count": 8,
   "metadata": {},
   "outputs": [],
   "source": [
    "# crawler_queue = [\n",
    "#     {'file': 'r_dataisugly_test.json', 'r': 'dataisugly', 'sort': 'top_all', 'limit': 10}\n",
    "# ]\n",
    "\n",
    "crawler_queue = [\n",
    "    {'file': 'r_dataisugly_top_all_1000.json', 'r': 'dataisugly', 'sort': 'top_all', 'limit': 1000},\n",
    "    {'file': 'r_dataisugly_top_year_1000.json', 'r': 'dataisugly', 'sort': 'top_year', 'limit': 1000},\n",
    "    {'file': 'r_dataisugly_new_1000.json', 'r': 'dataisugly', 'sort': 'new', 'limit': 1000}\n",
    "]"
   ]
  },
  {
   "cell_type": "code",
   "execution_count": 9,
   "metadata": {},
   "outputs": [
    {
     "data": {
      "application/vnd.jupyter.widget-view+json": {
       "model_id": "0da5832d74354461a5bf1c97c98424bd",
       "version_major": 2,
       "version_minor": 0
      },
      "text/plain": [
       "HBox(children=(FloatProgress(value=0.0, max=1000.0), HTML(value='')))"
      ]
     },
     "metadata": {},
     "output_type": "display_data"
    },
    {
     "name": "stdout",
     "output_type": "stream",
     "text": [
      "\n"
     ]
    },
    {
     "data": {
      "application/vnd.jupyter.widget-view+json": {
       "model_id": "47c385aadc8e4bb986191cb51232e09b",
       "version_major": 2,
       "version_minor": 0
      },
      "text/plain": [
       "HBox(children=(FloatProgress(value=0.0, max=1000.0), HTML(value='')))"
      ]
     },
     "metadata": {},
     "output_type": "display_data"
    },
    {
     "name": "stdout",
     "output_type": "stream",
     "text": [
      "\n"
     ]
    },
    {
     "data": {
      "application/vnd.jupyter.widget-view+json": {
       "model_id": "8b8a29689b3c44c5bd959f283cbb284f",
       "version_major": 2,
       "version_minor": 0
      },
      "text/plain": [
       "HBox(children=(FloatProgress(value=0.0, max=1000.0), HTML(value='')))"
      ]
     },
     "metadata": {},
     "output_type": "display_data"
    },
    {
     "name": "stdout",
     "output_type": "stream",
     "text": [
      "\n"
     ]
    }
   ],
   "source": [
    "for c in crawler_queue:\n",
    "    submissions = [s for s in retrieve_submissions(r=c['r'], sor=c['sort'], limit=c['limit'])]\n",
    "    with open(data_dir/c['file'], 'w') as f:\n",
    "        f.write(json.dumps(submissions))"
   ]
  },
  {
   "cell_type": "code",
   "execution_count": 10,
   "metadata": {},
   "outputs": [
    {
     "data": {
      "text/plain": [
       "[]"
      ]
     },
     "execution_count": 10,
     "metadata": {},
     "output_type": "execute_result"
    }
   ],
   "source": [
    "error_submissions"
   ]
  },
  {
   "cell_type": "code",
   "execution_count": 14,
   "metadata": {},
   "outputs": [
    {
     "data": {
      "text/html": [
       "<div>\n",
       "<style scoped>\n",
       "    .dataframe tbody tr th:only-of-type {\n",
       "        vertical-align: middle;\n",
       "    }\n",
       "\n",
       "    .dataframe tbody tr th {\n",
       "        vertical-align: top;\n",
       "    }\n",
       "\n",
       "    .dataframe thead th {\n",
       "        text-align: right;\n",
       "    }\n",
       "</style>\n",
       "<table border=\"1\" class=\"dataframe\">\n",
       "  <thead>\n",
       "    <tr style=\"text-align: right;\">\n",
       "      <th></th>\n",
       "      <th>title</th>\n",
       "      <th>permalink</th>\n",
       "      <th>datetime</th>\n",
       "      <th>author</th>\n",
       "      <th>selftext</th>\n",
       "      <th>link</th>\n",
       "      <th>preview</th>\n",
       "      <th>id</th>\n",
       "      <th>num_comments</th>\n",
       "      <th>score</th>\n",
       "    </tr>\n",
       "  </thead>\n",
       "  <tbody>\n",
       "    <tr>\n",
       "      <th>0</th>\n",
       "      <td>Accurate</td>\n",
       "      <td>/r/dataisugly/comments/66i283/accurate/</td>\n",
       "      <td>2017-04-20 14:33:08</td>\n",
       "      <td>Taipan100</td>\n",
       "      <td></td>\n",
       "      <td>https://i.redd.it/9fxvy22dypsy.jpg</td>\n",
       "      <td>https://preview.redd.it/9fxvy22dypsy.jpg?auto=...</td>\n",
       "      <td>66i283</td>\n",
       "      <td>47</td>\n",
       "      <td>2073</td>\n",
       "    </tr>\n",
       "    <tr>\n",
       "      <th>1</th>\n",
       "      <td>\"fuckin idk just flip the graph upside down\"</td>\n",
       "      <td>/r/dataisugly/comments/e2cvur/fuckin_idk_just_...</td>\n",
       "      <td>2019-11-27 08:03:07</td>\n",
       "      <td>khodor2012</td>\n",
       "      <td></td>\n",
       "      <td>https://i.imgur.com/sTVYOIH.jpg</td>\n",
       "      <td>https://external-preview.redd.it/7KwLWyf4c1EvB...</td>\n",
       "      <td>e2cvur</td>\n",
       "      <td>27</td>\n",
       "      <td>1211</td>\n",
       "    </tr>\n",
       "    <tr>\n",
       "      <th>2</th>\n",
       "      <td>I present to you the printed press in Britain</td>\n",
       "      <td>/r/dataisugly/comments/6h6cr9/i_present_to_you...</td>\n",
       "      <td>2017-06-14 09:12:54</td>\n",
       "      <td>Anotimpuri</td>\n",
       "      <td></td>\n",
       "      <td>https://i.redd.it/w5kjne5dvk3z.jpg</td>\n",
       "      <td>https://preview.redd.it/w5kjne5dvk3z.jpg?auto=...</td>\n",
       "      <td>6h6cr9</td>\n",
       "      <td>16</td>\n",
       "      <td>1199</td>\n",
       "    </tr>\n",
       "    <tr>\n",
       "      <th>3</th>\n",
       "      <td>One banana is most certainly better than two</td>\n",
       "      <td>/r/dataisugly/comments/4xjubo/one_banana_is_mo...</td>\n",
       "      <td>2016-08-13 16:44:06</td>\n",
       "      <td>AnAverageCat</td>\n",
       "      <td></td>\n",
       "      <td>http://imgur.com/a/DD28T</td>\n",
       "      <td>https://external-preview.redd.it/I4-QVL487d_fh...</td>\n",
       "      <td>4xjubo</td>\n",
       "      <td>39</td>\n",
       "      <td>1168</td>\n",
       "    </tr>\n",
       "    <tr>\n",
       "      <th>4</th>\n",
       "      <td>When Venn diagram goes wrong</td>\n",
       "      <td>/r/dataisugly/comments/boo6ld/when_venn_diagra...</td>\n",
       "      <td>2019-05-14 20:34:31</td>\n",
       "      <td>seretidediskus</td>\n",
       "      <td></td>\n",
       "      <td>https://i.redd.it/yke7x1e5m8y21.jpg</td>\n",
       "      <td>https://preview.redd.it/yke7x1e5m8y21.jpg?auto...</td>\n",
       "      <td>boo6ld</td>\n",
       "      <td>14</td>\n",
       "      <td>1043</td>\n",
       "    </tr>\n",
       "    <tr>\n",
       "      <th>...</th>\n",
       "      <td>...</td>\n",
       "      <td>...</td>\n",
       "      <td>...</td>\n",
       "      <td>...</td>\n",
       "      <td>...</td>\n",
       "      <td>...</td>\n",
       "      <td>...</td>\n",
       "      <td>...</td>\n",
       "      <td>...</td>\n",
       "      <td>...</td>\n",
       "    </tr>\n",
       "    <tr>\n",
       "      <th>995</th>\n",
       "      <td>[OC] England's homeownership rate by age, 1981...</td>\n",
       "      <td>/r/dataisugly/comments/9bzlxi/oc_englands_home...</td>\n",
       "      <td>2018-09-01 02:23:37</td>\n",
       "      <td>TentacleYuri</td>\n",
       "      <td></td>\n",
       "      <td>https://i.redd.it/k15ne8sc7ij11.png</td>\n",
       "      <td>https://preview.redd.it/k15ne8sc7ij11.png?auto...</td>\n",
       "      <td>9bzlxi</td>\n",
       "      <td>8</td>\n",
       "      <td>147</td>\n",
       "    </tr>\n",
       "    <tr>\n",
       "      <th>996</th>\n",
       "      <td>How Important is the MCAT? More important than...</td>\n",
       "      <td>/r/dataisugly/comments/9bxosl/how_important_is...</td>\n",
       "      <td>2018-08-31 21:39:57</td>\n",
       "      <td>nosretttapL</td>\n",
       "      <td></td>\n",
       "      <td>https://i.redd.it/7ufxjhi3zhj11.jpg</td>\n",
       "      <td>https://preview.redd.it/7ufxjhi3zhj11.jpg?auto...</td>\n",
       "      <td>9bxosl</td>\n",
       "      <td>1</td>\n",
       "      <td>22</td>\n",
       "    </tr>\n",
       "    <tr>\n",
       "      <th>997</th>\n",
       "      <td>Having the same spacing is nice and all, but s...</td>\n",
       "      <td>/r/dataisugly/comments/9bvo4v/having_the_same_...</td>\n",
       "      <td>2018-08-31 17:37:03</td>\n",
       "      <td>srgnknd</td>\n",
       "      <td></td>\n",
       "      <td>https://i.imgur.com/DUHG2u4.png</td>\n",
       "      <td>https://external-preview.redd.it/TCIf15X0ZCPUc...</td>\n",
       "      <td>9bvo4v</td>\n",
       "      <td>1</td>\n",
       "      <td>18</td>\n",
       "    </tr>\n",
       "    <tr>\n",
       "      <th>998</th>\n",
       "      <td>This is how another instructor sent me his stu...</td>\n",
       "      <td>/r/dataisugly/comments/9bva50/this_is_how_anot...</td>\n",
       "      <td>2018-08-31 16:52:11</td>\n",
       "      <td>dirtydog85</td>\n",
       "      <td>&amp;#x200B;\\n\\n[Also, the red overall \\\\\"column\\\\...</td>\n",
       "      <td>https://www.reddit.com/r/dataisugly/comments/9...</td>\n",
       "      <td></td>\n",
       "      <td>9bva50</td>\n",
       "      <td>11</td>\n",
       "      <td>85</td>\n",
       "    </tr>\n",
       "    <tr>\n",
       "      <th>999</th>\n",
       "      <td>TIL that 11 is more than 14</td>\n",
       "      <td>/r/dataisugly/comments/9bmdm6/til_that_11_is_m...</td>\n",
       "      <td>2018-08-30 18:48:12</td>\n",
       "      <td>mixedbagofdisaster</td>\n",
       "      <td></td>\n",
       "      <td>https://i.redd.it/utibcw3mv9j11.jpg</td>\n",
       "      <td>https://preview.redd.it/utibcw3mv9j11.jpg?auto...</td>\n",
       "      <td>9bmdm6</td>\n",
       "      <td>0</td>\n",
       "      <td>9</td>\n",
       "    </tr>\n",
       "  </tbody>\n",
       "</table>\n",
       "<p>2765 rows × 10 columns</p>\n",
       "</div>"
      ],
      "text/plain": [
       "                                                 title  \\\n",
       "0                                             Accurate   \n",
       "1         \"fuckin idk just flip the graph upside down\"   \n",
       "2        I present to you the printed press in Britain   \n",
       "3         One banana is most certainly better than two   \n",
       "4                         When Venn diagram goes wrong   \n",
       "..                                                 ...   \n",
       "995  [OC] England's homeownership rate by age, 1981...   \n",
       "996  How Important is the MCAT? More important than...   \n",
       "997  Having the same spacing is nice and all, but s...   \n",
       "998  This is how another instructor sent me his stu...   \n",
       "999                        TIL that 11 is more than 14   \n",
       "\n",
       "                                             permalink            datetime  \\\n",
       "0              /r/dataisugly/comments/66i283/accurate/ 2017-04-20 14:33:08   \n",
       "1    /r/dataisugly/comments/e2cvur/fuckin_idk_just_... 2019-11-27 08:03:07   \n",
       "2    /r/dataisugly/comments/6h6cr9/i_present_to_you... 2017-06-14 09:12:54   \n",
       "3    /r/dataisugly/comments/4xjubo/one_banana_is_mo... 2016-08-13 16:44:06   \n",
       "4    /r/dataisugly/comments/boo6ld/when_venn_diagra... 2019-05-14 20:34:31   \n",
       "..                                                 ...                 ...   \n",
       "995  /r/dataisugly/comments/9bzlxi/oc_englands_home... 2018-09-01 02:23:37   \n",
       "996  /r/dataisugly/comments/9bxosl/how_important_is... 2018-08-31 21:39:57   \n",
       "997  /r/dataisugly/comments/9bvo4v/having_the_same_... 2018-08-31 17:37:03   \n",
       "998  /r/dataisugly/comments/9bva50/this_is_how_anot... 2018-08-31 16:52:11   \n",
       "999  /r/dataisugly/comments/9bmdm6/til_that_11_is_m... 2018-08-30 18:48:12   \n",
       "\n",
       "                 author                                           selftext  \\\n",
       "0             Taipan100                                                      \n",
       "1            khodor2012                                                      \n",
       "2            Anotimpuri                                                      \n",
       "3          AnAverageCat                                                      \n",
       "4        seretidediskus                                                      \n",
       "..                  ...                                                ...   \n",
       "995        TentacleYuri                                                      \n",
       "996         nosretttapL                                                      \n",
       "997             srgnknd                                                      \n",
       "998          dirtydog85  &#x200B;\\n\\n[Also, the red overall \\\\\"column\\\\...   \n",
       "999  mixedbagofdisaster                                                      \n",
       "\n",
       "                                                  link  \\\n",
       "0                   https://i.redd.it/9fxvy22dypsy.jpg   \n",
       "1                      https://i.imgur.com/sTVYOIH.jpg   \n",
       "2                   https://i.redd.it/w5kjne5dvk3z.jpg   \n",
       "3                             http://imgur.com/a/DD28T   \n",
       "4                  https://i.redd.it/yke7x1e5m8y21.jpg   \n",
       "..                                                 ...   \n",
       "995                https://i.redd.it/k15ne8sc7ij11.png   \n",
       "996                https://i.redd.it/7ufxjhi3zhj11.jpg   \n",
       "997                    https://i.imgur.com/DUHG2u4.png   \n",
       "998  https://www.reddit.com/r/dataisugly/comments/9...   \n",
       "999                https://i.redd.it/utibcw3mv9j11.jpg   \n",
       "\n",
       "                                               preview      id  num_comments  \\\n",
       "0    https://preview.redd.it/9fxvy22dypsy.jpg?auto=...  66i283            47   \n",
       "1    https://external-preview.redd.it/7KwLWyf4c1EvB...  e2cvur            27   \n",
       "2    https://preview.redd.it/w5kjne5dvk3z.jpg?auto=...  6h6cr9            16   \n",
       "3    https://external-preview.redd.it/I4-QVL487d_fh...  4xjubo            39   \n",
       "4    https://preview.redd.it/yke7x1e5m8y21.jpg?auto...  boo6ld            14   \n",
       "..                                                 ...     ...           ...   \n",
       "995  https://preview.redd.it/k15ne8sc7ij11.png?auto...  9bzlxi             8   \n",
       "996  https://preview.redd.it/7ufxjhi3zhj11.jpg?auto...  9bxosl             1   \n",
       "997  https://external-preview.redd.it/TCIf15X0ZCPUc...  9bvo4v             1   \n",
       "998                                                     9bva50            11   \n",
       "999  https://preview.redd.it/utibcw3mv9j11.jpg?auto...  9bmdm6             0   \n",
       "\n",
       "     score  \n",
       "0     2073  \n",
       "1     1211  \n",
       "2     1199  \n",
       "3     1168  \n",
       "4     1043  \n",
       "..     ...  \n",
       "995    147  \n",
       "996     22  \n",
       "997     18  \n",
       "998     85  \n",
       "999      9  \n",
       "\n",
       "[2765 rows x 10 columns]"
      ]
     },
     "execution_count": 14,
     "metadata": {},
     "output_type": "execute_result"
    }
   ],
   "source": [
    "df = pd.concat([pd.read_json(data_dir/c['file']) for c in crawler_queue])\n",
    "df"
   ]
  },
  {
   "cell_type": "code",
   "execution_count": 17,
   "metadata": {},
   "outputs": [],
   "source": [
    "df.to_csv(data_dir/'r_dataisugly.csv', index=False)"
   ]
  },
  {
   "cell_type": "code",
   "execution_count": null,
   "metadata": {},
   "outputs": [],
   "source": []
  }
 ],
 "metadata": {
  "kernelspec": {
   "display_name": "Python 3",
   "language": "python",
   "name": "python3"
  },
  "language_info": {
   "codemirror_mode": {
    "name": "ipython",
    "version": 3
   },
   "file_extension": ".py",
   "mimetype": "text/x-python",
   "name": "python",
   "nbconvert_exporter": "python",
   "pygments_lexer": "ipython3",
   "version": "3.7.3"
  }
 },
 "nbformat": 4,
 "nbformat_minor": 4
}
