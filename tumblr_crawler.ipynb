{
 "cells": [
  {
   "cell_type": "code",
   "execution_count": 1,
   "metadata": {},
   "outputs": [],
   "source": [
    "# !pip install pytumblr\n",
    "# !pip install requests-cache\n",
    "# !pip install pymongo"
   ]
  },
  {
   "cell_type": "code",
   "execution_count": 2,
   "metadata": {},
   "outputs": [],
   "source": [
    "# !rm web_cache.sqlite"
   ]
  },
  {
   "cell_type": "code",
   "execution_count": 3,
   "metadata": {},
   "outputs": [],
   "source": [
    "import requests_cache\n",
    "requests_cache.install_cache('web_cache')"
   ]
  },
  {
   "cell_type": "code",
   "execution_count": 4,
   "metadata": {},
   "outputs": [],
   "source": [
    "import pytumblr\n",
    "import json\n",
    "from pymongo import MongoClient\n",
    "from tqdm.notebook import tqdm\n",
    "from IPython.display import JSON"
   ]
  },
  {
   "cell_type": "code",
   "execution_count": 5,
   "metadata": {},
   "outputs": [],
   "source": [
    "mongo = MongoClient('172.17.0.1', 27017)\n",
    "db = mongo['bad-vis']\n",
    "raw = db['tumblr-raw']"
   ]
  },
  {
   "cell_type": "code",
   "execution_count": 6,
   "metadata": {},
   "outputs": [],
   "source": [
    "credentials = \"\"\n",
    "\n",
    "with open('./tumblr_credentials.json') as f:\n",
    "    credentials = json.load(f)"
   ]
  },
  {
   "cell_type": "code",
   "execution_count": 7,
   "metadata": {},
   "outputs": [],
   "source": [
    "client = pytumblr.TumblrRestClient(credentials['consumer_key'])"
   ]
  },
  {
   "cell_type": "code",
   "execution_count": 8,
   "metadata": {},
   "outputs": [
    {
     "data": {
      "application/json": {
       "_links": {
        "next": {
         "href": "/v2/blog/badvisualisations.tumblr.com/posts?limit=1&offset=1&page_number=2",
         "method": "GET",
         "query_params": {
          "limit": "1",
          "offset": "1",
          "page_number": "2"
         }
        }
       },
       "blog": {
        "ask": true,
        "ask_anon": true,
        "ask_page_title": "Ask me anything about visualisations",
        "avatar": [
         {
          "height": 512,
          "url": "https://66.media.tumblr.com/avatar_ce83395d7f32_512.png",
          "width": 512
         },
         {
          "height": 128,
          "url": "https://66.media.tumblr.com/avatar_ce83395d7f32_128.png",
          "width": 128
         },
         {
          "height": 96,
          "url": "https://66.media.tumblr.com/avatar_ce83395d7f32_96.png",
          "width": 96
         },
         {
          "height": 64,
          "url": "https://66.media.tumblr.com/avatar_ce83395d7f32_64.png",
          "width": 64
         }
        ],
        "can_chat": true,
        "can_subscribe": false,
        "description": "A collection of weird graphics and visualisations from here, there and everywhere. \n\nDon't follow if you love pie charts and are unwilling to change your mind about them",
        "is_nsfw": false,
        "is_optout_ads": false,
        "likes": 1,
        "name": "badvisualisations",
        "posts": 121,
        "share_likes": true,
        "subscribed": false,
        "theme": {
         "avatar_shape": "square",
         "background_color": "#FAFAFA",
         "body_font": "Helvetica Neue",
         "header_bounds": 0,
         "header_image": "https://assets.tumblr.com/images/default_header/optica_pattern_04.png?_v=7c4e5e82cf797042596e2e64af1c383f",
         "header_image_focused": "https://assets.tumblr.com/images/default_header/optica_pattern_04.png?_v=7c4e5e82cf797042596e2e64af1c383f",
         "header_image_scaled": "https://assets.tumblr.com/images/default_header/optica_pattern_04.png?_v=7c4e5e82cf797042596e2e64af1c383f",
         "header_stretch": true,
         "link_color": "#bb2a11",
         "show_avatar": true,
         "show_description": true,
         "show_header_image": false,
         "show_title": true,
         "title_color": "#444444",
         "title_font": "Gibson",
         "title_font_weight": "bold"
        },
        "title": "Bad Visualisations",
        "total_posts": 121,
        "updated": 1566173423,
        "url": "https://badvisualisations.tumblr.com/",
        "uuid": "t:SbzyslRUMBlp21LVg8400Q"
       },
       "posts": [
        {
         "blog": {
          "description": "A collection of weird graphics and visualisations from here, there and everywhere. \n\nDon't follow if you love pie charts and are unwilling to change your mind about them",
          "name": "badvisualisations",
          "title": "Bad Visualisations",
          "updated": 1566173423,
          "url": "https://badvisualisations.tumblr.com/",
          "uuid": "t:SbzyslRUMBlp21LVg8400Q"
         },
         "blog_name": "badvisualisations",
         "can_like": false,
         "can_reblog": false,
         "can_reply": false,
         "can_send_in_message": true,
         "caption": "<p>The graphic adds no value. To get any sort of information from this you need to read the (rather dense) text associated with each graphic. </p><p>It’s another case of a graphic designer trying to be too clever and destroying the information in the process. If the use of the same shapes in different sizes for different bars is bad enough, here the designer has tried to use different shapes for each city. So there is no way at all that the size of any building says anything about the quantity it is trying to depict.</p><p>Also there are two quantities being represented here (runs and average), and it’s not clear what the bar is trying to show.</p><p>Now I’m starting to wonder if this is intended to be a graphic at all. </p><p>Source: <a href=\"https://www.espncricinfo.com/story/_/id/27358389/which-top-cricket-city-win-world-cup\">https://www.espncricinfo.com/story/_/id/27358389/which-top-cricket-city-win-world-cup</a></p>",
         "date": "2019-08-19 00:10:23 GMT",
         "display_avatar": true,
         "format": "html",
         "id": 187107071331,
         "image_permalink": "https://badvisualisations.tumblr.com/image/187107071331",
         "note_count": 0,
         "photos": [
          {
           "alt_sizes": [
            {
             "height": 452,
             "url": "https://66.media.tumblr.com/1a2eaf8a9098222c050b5f978b628d59/tumblr_pwgj5bXRBJ1xbq2wwo1_640.jpg",
             "width": 570
            },
            {
             "height": 428,
             "url": "https://66.media.tumblr.com/1a2eaf8a9098222c050b5f978b628d59/tumblr_pwgj5bXRBJ1xbq2wwo1_540.jpg",
             "width": 540
            },
            {
             "height": 396,
             "url": "https://66.media.tumblr.com/1a2eaf8a9098222c050b5f978b628d59/tumblr_pwgj5bXRBJ1xbq2wwo1_500.jpg",
             "width": 500
            },
            {
             "height": 317,
             "url": "https://66.media.tumblr.com/1a2eaf8a9098222c050b5f978b628d59/tumblr_pwgj5bXRBJ1xbq2wwo1_400.jpg",
             "width": 400
            },
            {
             "height": 198,
             "url": "https://66.media.tumblr.com/1a2eaf8a9098222c050b5f978b628d59/tumblr_pwgj5bXRBJ1xbq2wwo1_250.jpg",
             "width": 250
            },
            {
             "height": 79,
             "url": "https://66.media.tumblr.com/1a2eaf8a9098222c050b5f978b628d59/tumblr_pwgj5bXRBJ1xbq2wwo1_100.jpg",
             "width": 100
            },
            {
             "height": 75,
             "url": "https://66.media.tumblr.com/1a2eaf8a9098222c050b5f978b628d59/tumblr_pwgj5bXRBJ1xbq2wwo1_75sq.jpg",
             "width": 75
            }
           ],
           "caption": "",
           "original_size": {
            "height": 452,
            "url": "https://66.media.tumblr.com/1a2eaf8a9098222c050b5f978b628d59/tumblr_pwgj5bXRBJ1xbq2wwo1_640.jpg",
            "width": 570
           }
          }
         ],
         "post_url": "https://badvisualisations.tumblr.com/post/187107071331/the-graphic-adds-no-value-to-get-any-sort-of",
         "reblog": {
          "comment": "<p>The graphic adds no value. To get any sort of information from this you need to read the (rather dense) text associated with each graphic. </p><p>It’s another case of a graphic designer trying to be too clever and destroying the information in the process. If the use of the same shapes in different sizes for different bars is bad enough, here the designer has tried to use different shapes for each city. So there is no way at all that the size of any building says anything about the quantity it is trying to depict.</p><p>Also there are two quantities being represented here (runs and average), and it’s not clear what the bar is trying to show.</p><p>Now I’m starting to wonder if this is intended to be a graphic at all. </p><p>Source: <a href=\"https://www.espncricinfo.com/story/_/id/27358389/which-top-cricket-city-win-world-cup\">https://www.espncricinfo.com/story/_/id/27358389/which-top-cricket-city-win-world-cup</a></p>",
          "tree_html": ""
         },
         "reblog_key": "OXAwNZ99",
         "recommended_color": null,
         "recommended_source": null,
         "short_url": "https://tmblr.co/ZTaz8Z2kGSrLZ",
         "should_open_in_legacy": true,
         "slug": "the-graphic-adds-no-value-to-get-any-sort-of",
         "state": "published",
         "summary": "The graphic adds no value. To get any sort of information from this you need to read the (rather dense) text associated with...",
         "tags": [
          "data visualisation",
          "bar graph"
         ],
         "timestamp": 1566173423,
         "trail": [
          {
           "blog": {
            "active": true,
            "can_be_followed": true,
            "name": "badvisualisations",
            "share_following": true,
            "share_likes": true,
            "theme": {
             "avatar_shape": "square",
             "background_color": "#FAFAFA",
             "body_font": "Helvetica Neue",
             "header_bounds": 0,
             "header_image": "https://assets.tumblr.com/images/default_header/optica_pattern_04.png?_v=7c4e5e82cf797042596e2e64af1c383f",
             "header_image_focused": "https://assets.tumblr.com/images/default_header/optica_pattern_04.png?_v=7c4e5e82cf797042596e2e64af1c383f",
             "header_image_scaled": "https://assets.tumblr.com/images/default_header/optica_pattern_04.png?_v=7c4e5e82cf797042596e2e64af1c383f",
             "header_stretch": true,
             "link_color": "#bb2a11",
             "show_avatar": true,
             "show_description": true,
             "show_header_image": false,
             "show_title": true,
             "title_color": "#444444",
             "title_font": "Gibson",
             "title_font_weight": "bold"
            }
           },
           "content": "<p>The graphic adds no value. To get any sort of information from this you need to read the (rather dense) text associated with each graphic.&nbsp;</p><p>It&rsquo;s another case of a graphic designer trying to be too clever and destroying the information in the process. If the use of the same shapes in different sizes for different bars is bad enough, here the designer has tried to use different shapes for each city. So there is no way at all that the size of any building says anything about the quantity it is trying to depict.</p><p>Also there are two quantities being represented here (runs and average), and it&rsquo;s not clear what the bar is trying to show.</p><p>Now I&rsquo;m starting to wonder if this is intended to be a graphic at all.&nbsp;</p><p>Source:&nbsp;<a href=\"https://www.espncricinfo.com/story/_/id/27358389/which-top-cricket-city-win-world-cup\">https://www.espncricinfo.com/story/_/id/27358389/which-top-cricket-city-win-world-cup</a></p>",
           "content_raw": "<p>The graphic adds no value. To get any sort of information from this you need to read the (rather dense) text associated with each graphic. </p><p>It’s another case of a graphic designer trying to be too clever and destroying the information in the process. If the use of the same shapes in different sizes for different bars is bad enough, here the designer has tried to use different shapes for each city. So there is no way at all that the size of any building says anything about the quantity it is trying to depict.</p><p>Also there are two quantities being represented here (runs and average), and it’s not clear what the bar is trying to show.</p><p>Now I’m starting to wonder if this is intended to be a graphic at all. </p><p>Source: <a href=\"https://www.espncricinfo.com/story/_/id/27358389/which-top-cricket-city-win-world-cup\">https://www.espncricinfo.com/story/_/id/27358389/which-top-cricket-city-win-world-cup</a></p>",
           "is_current_item": true,
           "is_root_item": true,
           "post": {
            "id": "187107071331"
           }
          }
         ],
         "type": "photo"
        }
       ],
       "total_posts": 121
      },
      "text/plain": [
       "<IPython.core.display.JSON object>"
      ]
     },
     "execution_count": 8,
     "metadata": {
      "application/json": {
       "expanded": false,
       "root": "root"
      }
     },
     "output_type": "execute_result"
    }
   ],
   "source": [
    "JSON(client.posts('badvisualisations.tumblr.com', limit=1))"
   ]
  },
  {
   "cell_type": "code",
   "execution_count": 9,
   "metadata": {},
   "outputs": [],
   "source": [
    "reply = client.posts('badvisualisations.tumblr.com', limit=100)"
   ]
  },
  {
   "cell_type": "code",
   "execution_count": 10,
   "metadata": {},
   "outputs": [
    {
     "data": {
      "text/plain": [
       "50"
      ]
     },
     "execution_count": 10,
     "metadata": {},
     "output_type": "execute_result"
    }
   ],
   "source": [
    "len(reply['posts'])"
   ]
  },
  {
   "cell_type": "code",
   "execution_count": 11,
   "metadata": {},
   "outputs": [
    {
     "data": {
      "application/json": {
       "blog": {
        "description": "A collection of weird graphics and visualisations from here, there and everywhere. \n\nDon't follow if you love pie charts and are unwilling to change your mind about them",
        "name": "badvisualisations",
        "title": "Bad Visualisations",
        "updated": 1566173423,
        "url": "https://badvisualisations.tumblr.com/",
        "uuid": "t:SbzyslRUMBlp21LVg8400Q"
       },
       "blog_name": "badvisualisations",
       "can_like": false,
       "can_reblog": false,
       "can_reply": false,
       "can_send_in_message": true,
       "caption": "<p>The graphic adds no value. To get any sort of information from this you need to read the (rather dense) text associated with each graphic. </p><p>It’s another case of a graphic designer trying to be too clever and destroying the information in the process. If the use of the same shapes in different sizes for different bars is bad enough, here the designer has tried to use different shapes for each city. So there is no way at all that the size of any building says anything about the quantity it is trying to depict.</p><p>Also there are two quantities being represented here (runs and average), and it’s not clear what the bar is trying to show.</p><p>Now I’m starting to wonder if this is intended to be a graphic at all. </p><p>Source: <a href=\"https://www.espncricinfo.com/story/_/id/27358389/which-top-cricket-city-win-world-cup\">https://www.espncricinfo.com/story/_/id/27358389/which-top-cricket-city-win-world-cup</a></p>",
       "date": "2019-08-19 00:10:23 GMT",
       "display_avatar": true,
       "format": "html",
       "id": 187107071331,
       "image_permalink": "https://badvisualisations.tumblr.com/image/187107071331",
       "note_count": 0,
       "photos": [
        {
         "alt_sizes": [
          {
           "height": 452,
           "url": "https://66.media.tumblr.com/1a2eaf8a9098222c050b5f978b628d59/tumblr_pwgj5bXRBJ1xbq2wwo1_640.jpg",
           "width": 570
          },
          {
           "height": 428,
           "url": "https://66.media.tumblr.com/1a2eaf8a9098222c050b5f978b628d59/tumblr_pwgj5bXRBJ1xbq2wwo1_540.jpg",
           "width": 540
          },
          {
           "height": 396,
           "url": "https://66.media.tumblr.com/1a2eaf8a9098222c050b5f978b628d59/tumblr_pwgj5bXRBJ1xbq2wwo1_500.jpg",
           "width": 500
          },
          {
           "height": 317,
           "url": "https://66.media.tumblr.com/1a2eaf8a9098222c050b5f978b628d59/tumblr_pwgj5bXRBJ1xbq2wwo1_400.jpg",
           "width": 400
          },
          {
           "height": 198,
           "url": "https://66.media.tumblr.com/1a2eaf8a9098222c050b5f978b628d59/tumblr_pwgj5bXRBJ1xbq2wwo1_250.jpg",
           "width": 250
          },
          {
           "height": 79,
           "url": "https://66.media.tumblr.com/1a2eaf8a9098222c050b5f978b628d59/tumblr_pwgj5bXRBJ1xbq2wwo1_100.jpg",
           "width": 100
          },
          {
           "height": 75,
           "url": "https://66.media.tumblr.com/1a2eaf8a9098222c050b5f978b628d59/tumblr_pwgj5bXRBJ1xbq2wwo1_75sq.jpg",
           "width": 75
          }
         ],
         "caption": "",
         "original_size": {
          "height": 452,
          "url": "https://66.media.tumblr.com/1a2eaf8a9098222c050b5f978b628d59/tumblr_pwgj5bXRBJ1xbq2wwo1_640.jpg",
          "width": 570
         }
        }
       ],
       "post_url": "https://badvisualisations.tumblr.com/post/187107071331/the-graphic-adds-no-value-to-get-any-sort-of",
       "reblog": {
        "comment": "<p>The graphic adds no value. To get any sort of information from this you need to read the (rather dense) text associated with each graphic. </p><p>It’s another case of a graphic designer trying to be too clever and destroying the information in the process. If the use of the same shapes in different sizes for different bars is bad enough, here the designer has tried to use different shapes for each city. So there is no way at all that the size of any building says anything about the quantity it is trying to depict.</p><p>Also there are two quantities being represented here (runs and average), and it’s not clear what the bar is trying to show.</p><p>Now I’m starting to wonder if this is intended to be a graphic at all. </p><p>Source: <a href=\"https://www.espncricinfo.com/story/_/id/27358389/which-top-cricket-city-win-world-cup\">https://www.espncricinfo.com/story/_/id/27358389/which-top-cricket-city-win-world-cup</a></p>",
        "tree_html": ""
       },
       "reblog_key": "OXAwNZ99",
       "recommended_color": null,
       "recommended_source": null,
       "short_url": "https://tmblr.co/ZTaz8Z2kGSrLZ",
       "should_open_in_legacy": true,
       "slug": "the-graphic-adds-no-value-to-get-any-sort-of",
       "state": "published",
       "summary": "The graphic adds no value. To get any sort of information from this you need to read the (rather dense) text associated with...",
       "tags": [
        "data visualisation",
        "bar graph"
       ],
       "timestamp": 1566173423,
       "trail": [
        {
         "blog": {
          "active": true,
          "can_be_followed": true,
          "name": "badvisualisations",
          "share_following": true,
          "share_likes": true,
          "theme": {
           "avatar_shape": "square",
           "background_color": "#FAFAFA",
           "body_font": "Helvetica Neue",
           "header_bounds": 0,
           "header_image": "https://assets.tumblr.com/images/default_header/optica_pattern_04.png?_v=7c4e5e82cf797042596e2e64af1c383f",
           "header_image_focused": "https://assets.tumblr.com/images/default_header/optica_pattern_04.png?_v=7c4e5e82cf797042596e2e64af1c383f",
           "header_image_scaled": "https://assets.tumblr.com/images/default_header/optica_pattern_04.png?_v=7c4e5e82cf797042596e2e64af1c383f",
           "header_stretch": true,
           "link_color": "#bb2a11",
           "show_avatar": true,
           "show_description": true,
           "show_header_image": false,
           "show_title": true,
           "title_color": "#444444",
           "title_font": "Gibson",
           "title_font_weight": "bold"
          }
         },
         "content": "<p>The graphic adds no value. To get any sort of information from this you need to read the (rather dense) text associated with each graphic.&nbsp;</p><p>It&rsquo;s another case of a graphic designer trying to be too clever and destroying the information in the process. If the use of the same shapes in different sizes for different bars is bad enough, here the designer has tried to use different shapes for each city. So there is no way at all that the size of any building says anything about the quantity it is trying to depict.</p><p>Also there are two quantities being represented here (runs and average), and it&rsquo;s not clear what the bar is trying to show.</p><p>Now I&rsquo;m starting to wonder if this is intended to be a graphic at all.&nbsp;</p><p>Source:&nbsp;<a href=\"https://www.espncricinfo.com/story/_/id/27358389/which-top-cricket-city-win-world-cup\">https://www.espncricinfo.com/story/_/id/27358389/which-top-cricket-city-win-world-cup</a></p>",
         "content_raw": "<p>The graphic adds no value. To get any sort of information from this you need to read the (rather dense) text associated with each graphic. </p><p>It’s another case of a graphic designer trying to be too clever and destroying the information in the process. If the use of the same shapes in different sizes for different bars is bad enough, here the designer has tried to use different shapes for each city. So there is no way at all that the size of any building says anything about the quantity it is trying to depict.</p><p>Also there are two quantities being represented here (runs and average), and it’s not clear what the bar is trying to show.</p><p>Now I’m starting to wonder if this is intended to be a graphic at all. </p><p>Source: <a href=\"https://www.espncricinfo.com/story/_/id/27358389/which-top-cricket-city-win-world-cup\">https://www.espncricinfo.com/story/_/id/27358389/which-top-cricket-city-win-world-cup</a></p>",
         "is_current_item": true,
         "is_root_item": true,
         "post": {
          "id": "187107071331"
         }
        }
       ],
       "type": "photo"
      },
      "text/plain": [
       "<IPython.core.display.JSON object>"
      ]
     },
     "execution_count": 11,
     "metadata": {
      "application/json": {
       "expanded": false,
       "root": "root"
      }
     },
     "output_type": "execute_result"
    }
   ],
   "source": [
    "JSON(reply['posts'][0])"
   ]
  },
  {
   "cell_type": "code",
   "execution_count": 12,
   "metadata": {},
   "outputs": [],
   "source": [
    "def digest_post (post):\n",
    "    if not raw.find_one({'id': post['id']}, {'_id': 1}):\n",
    "        return raw.insert_one(post)\n",
    "    else:\n",
    "        return ''\n",
    "\n",
    "def retrieve (blog, offset=0, limit=50):\n",
    "    url = blog\n",
    "    reply = client.posts(url, offset=offset, limit=limit)\n",
    "    total = reply['total_posts']\n",
    "    return [post for post in reply['posts']], total\n",
    "\n",
    "def posts_iter (blog):\n",
    "    offset = 0\n",
    "    total = 1\n",
    "    while offset < total:\n",
    "        posts, total = retrieve(blog, offset)\n",
    "        offset += len(posts)\n",
    "        for post in posts:\n",
    "            yield post\n",
    "\n",
    "def retrieve_posts (blog):\n",
    "    return (digest_post(p) for p in tqdm(posts_iter(blog)))"
   ]
  },
  {
   "cell_type": "code",
   "execution_count": 13,
   "metadata": {},
   "outputs": [],
   "source": [
    "crawler_queue = [\n",
    "    {'source': 'badvisualisations', 'file': 'badvisualisations.json', 'blog': 'badvisualisations.tumblr.com'},\n",
    "    {'source': 'wtf-viz', 'file': 'wtf-viz.json', 'blog': 'viz.wtf'}\n",
    "]"
   ]
  },
  {
   "cell_type": "code",
   "execution_count": 14,
   "metadata": {},
   "outputs": [
    {
     "data": {
      "application/vnd.jupyter.widget-view+json": {
       "model_id": "6e688b73b2e34784813a1b191fa4b4f5",
       "version_major": 2,
       "version_minor": 0
      },
      "text/plain": [
       "HBox(children=(FloatProgress(value=1.0, bar_style='info', max=1.0), HTML(value='')))"
      ]
     },
     "metadata": {},
     "output_type": "display_data"
    },
    {
     "name": "stdout",
     "output_type": "stream",
     "text": [
      "\n"
     ]
    },
    {
     "data": {
      "application/vnd.jupyter.widget-view+json": {
       "model_id": "9b6fdd3f26ea4a79a4af255ed0b07477",
       "version_major": 2,
       "version_minor": 0
      },
      "text/plain": [
       "HBox(children=(FloatProgress(value=1.0, bar_style='info', max=1.0), HTML(value='')))"
      ]
     },
     "metadata": {},
     "output_type": "display_data"
    },
    {
     "name": "stdout",
     "output_type": "stream",
     "text": [
      "\n"
     ]
    }
   ],
   "source": [
    "for c in crawler_queue:\n",
    "    posts = [p for p in retrieve_posts(c['blog'])]"
   ]
  },
  {
   "cell_type": "code",
   "execution_count": null,
   "metadata": {},
   "outputs": [],
   "source": []
  }
 ],
 "metadata": {
  "kernelspec": {
   "display_name": "Python 3",
   "language": "python",
   "name": "python3"
  },
  "language_info": {
   "codemirror_mode": {
    "name": "ipython",
    "version": 3
   },
   "file_extension": ".py",
   "mimetype": "text/x-python",
   "name": "python",
   "nbconvert_exporter": "python",
   "pygments_lexer": "ipython3",
   "version": "3.7.3"
  }
 },
 "nbformat": 4,
 "nbformat_minor": 4
}
