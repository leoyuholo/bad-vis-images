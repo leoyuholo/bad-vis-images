{
 "cells": [
  {
   "cell_type": "code",
   "execution_count": 2,
   "metadata": {},
   "outputs": [],
   "source": [
    "import requests\n",
    "import json\n",
    "import datetime\n",
    "import pandas as pd\n",
    "from tqdm.notebook import tqdm\n",
    "from pathlib import Path\n",
    "from IPython.display import JSON"
   ]
  },
  {
   "cell_type": "code",
   "execution_count": 5,
   "metadata": {},
   "outputs": [],
   "source": [
    "r = requests.get('https://api.typepad.com/users/6p00d8341e992c53ef/blogs.json')"
   ]
  },
  {
   "cell_type": "code",
   "execution_count": 10,
   "metadata": {},
   "outputs": [
    {
     "data": {
      "application/json": {
       "entries": [
        {
         "description": "Kaiser Fung's blog. Recycling chartjunk as junk art. Data visualization criticism.",
         "homeUrl": "https://junkcharts.typepad.com/junk_charts/",
         "id": "tag:api.typepad.com,2009:6a00d8341e992c53ef00d8341e9a0553ef",
         "objectType": "Blog",
         "objectTypes": [
          "tag:api.typepad.com,2009:Blog"
         ],
         "owner": {
          "aboutMe": "Kaiser Fung, Author, Junk Charts, Numbersense, Numbers Rule Your World",
          "avatarLink": {
           "height": 250,
           "url": "https://static.typepad.com/.shared/default-userpics/03-250si.gif",
           "width": 250
          },
          "displayName": "junkcharts",
          "id": "tag:api.typepad.com,2009:6p00d8341e992c53ef",
          "interests": [
           "practical statistics",
           "data visualization",
           "business analytics",
           "bootcamp",
           "data science"
          ],
          "location": null,
          "objectType": "User",
          "objectTypes": [
           "tag:api.typepad.com,2009:User"
          ],
          "preferredUsername": "junkcharts",
          "profilePageUrl": "http://profile.typepad.com/junkcharts",
          "urlId": "6p00d8341e992c53ef"
         },
         "title": "Junk Charts",
         "urlId": "6a00d8341e992c53ef00d8341e9a0553ef"
        },
        {
         "description": "Kaiser Fung, author of \"Numbers Rule Your World: the hidden influence of probability and statistics in everything you do\" and \"Numbersense: How to use Big Data to your advantage\". Comments on how data science, algorithms, software shape current events. ",
         "homeUrl": "https://junkcharts.typepad.com/numbersruleyourworld/",
         "id": "tag:api.typepad.com,2009:6a00d8341e992c53ef0120a54a3916970c",
         "objectType": "Blog",
         "objectTypes": [
          "tag:api.typepad.com,2009:Blog"
         ],
         "owner": {
          "aboutMe": "Kaiser Fung, Author, Junk Charts, Numbersense, Numbers Rule Your World",
          "avatarLink": {
           "height": 250,
           "url": "https://static.typepad.com/.shared/default-userpics/03-250si.gif",
           "width": 250
          },
          "displayName": "junkcharts",
          "id": "tag:api.typepad.com,2009:6p00d8341e992c53ef",
          "interests": [
           "practical statistics",
           "data visualization",
           "business analytics",
           "bootcamp",
           "data science"
          ],
          "location": null,
          "objectType": "User",
          "objectTypes": [
           "tag:api.typepad.com,2009:User"
          ],
          "preferredUsername": "junkcharts",
          "profilePageUrl": "http://profile.typepad.com/junkcharts",
          "urlId": "6p00d8341e992c53ef"
         },
         "title": "Big Data, Plainly Spoken (aka Numbers Rule Your World)",
         "urlId": "6a00d8341e992c53ef0120a54a3916970c"
        }
       ],
       "totalResults": 2
      },
      "text/plain": [
       "<IPython.core.display.JSON object>"
      ]
     },
     "execution_count": 10,
     "metadata": {
      "application/json": {
       "expanded": false,
       "root": "root"
      }
     },
     "output_type": "execute_result"
    }
   ],
   "source": [
    "JSON(r.json())"
   ]
  },
  {
   "cell_type": "code",
   "execution_count": 11,
   "metadata": {},
   "outputs": [],
   "source": [
    "r2 = requests.get('https://api.typepad.com/blogs/6a00d8341e992c53ef00d8341e9a0553ef/post-assets.json?max-results=4')"
   ]
  },
  {
   "cell_type": "code",
   "execution_count": 12,
   "metadata": {},
   "outputs": [
    {
     "data": {
      "application/json": {
       "entries": [
        {
         "author": {
          "aboutMe": "Kaiser Fung, Author, Junk Charts, Numbersense, Numbers Rule Your World",
          "avatarLink": {
           "height": 250,
           "url": "https://static.typepad.com/.shared/default-userpics/03-250si.gif",
           "width": 250
          },
          "displayName": "junkcharts",
          "id": "tag:api.typepad.com,2009:6p00d8341e992c53ef",
          "interests": [
           "practical statistics",
           "data visualization",
           "business analytics",
           "bootcamp",
           "data science"
          ],
          "location": null,
          "objectType": "User",
          "objectTypes": [
           "tag:api.typepad.com,2009:User"
          ],
          "preferredUsername": "junkcharts",
          "profilePageUrl": "http://profile.typepad.com/junkcharts",
          "urlId": "6p00d8341e992c53ef"
         },
         "categories": [
          "Axis",
          "Bubble chart",
          "Business",
          "Comparability",
          "Current Affairs",
          "Design",
          "Economics",
          "Food and Drink",
          "Living",
          "Map",
          "Small multiples",
          "Sorting",
          "Specialty plots",
          "Time series",
          "Trifecta checkup",
          "WSJ"
         ],
         "commentCount": 0,
         "container": {
          "displayName": "Junk Charts",
          "homeUrl": "https://junkcharts.typepad.com/junk_charts/",
          "id": "tag:api.typepad.com,2009:6a00d8341e992c53ef00d8341e9a0553ef",
          "objectType": "Blog",
          "urlId": "6a00d8341e992c53ef00d8341e9a0553ef"
         },
         "content": "<p>A recent <a href=\"https://www.wsj.com/articles/roundup-ruled-the-farm-now-its-maker-has-a-challenger-11578328409\" title=\"Link to WSJ\">article</a> in the <em>Wall Street Journal</em> about a challenger to the dominant weedkiller, Roundup, contains a nice selection of graphics. (Dicamba is the up-and-comer.)</p>\r\n<p><a class=\"asset-img-link\" href=\"https://junkcharts.typepad.com/.a/6a00d8341e992c53ef0240a4b3c5c7200c-pi\" style=\"display: inline;\"><img alt=\"Wsj_roundup_img1\" class=\"asset  asset-image at-xid-6a00d8341e992c53ef0240a4b3c5c7200c img-responsive\" src=\"https://junkcharts.typepad.com/.a/6a00d8341e992c53ef0240a4b3c5c7200c-450wi\" style=\"width: 425px;\" title=\"Wsj_roundup_img1\" /></a><br /><br /><br /></p>\r\n<p>The change in usage of three brands of weedkillers is rendered as a <a href=\"https://junkcharts.typepad.com/junk_charts/small_multiples\" title=\"Posts about small multiples\">small-multiples</a> of choropleth <a href=\"https://junkcharts.typepad.com/junk_charts/map\" title=\"Posts about maps\">maps</a>. This graphic displays geographical and time changes simultaneously.</p>\r\n<p>The staircase chart shows weeds have become resistant to Roundup over time. This is considered a weakness in the Roundup business.</p>\r\n<p>***</p>\r\n<p>In this post, my focus is on the chart at the bottom, which shows complaints about Dicamba by state in 2019. This is a <a href=\"https://junkcharts.typepad.com/junk_charts/bubble_chart\" title=\"Posts about bubble charts\">bubble chart</a>, with the bubbles <a href=\"https://junkcharts.typepad.com/junk_charts/sorting\" title=\"Posts about order\">sorted</a> along the horizontal <a href=\"https://junkcharts.typepad.com/junk_charts/axis\" title=\"Posts about axes\">axis</a> by the acreage of farmland by state.</p>\r\n<p><a class=\"asset-img-link\" href=\"https://junkcharts.typepad.com/.a/6a00d8341e992c53ef0240a50194c5200b-pi\" style=\"display: inline;\"><img alt=\"Wsj_roundup_img2\" class=\"asset  asset-image at-xid-6a00d8341e992c53ef0240a50194c5200b img-responsive\" src=\"https://junkcharts.typepad.com/.a/6a00d8341e992c53ef0240a50194c5200b-450wi\" style=\"width: 425px;\" title=\"Wsj_roundup_img2\" /></a></p>\r\n<p>Below left is a more standard version of such a chart, in which the bubbles are allowed to overlap. (I only included the bubbles that were labeled in the original chart).</p>\r\n<p><a class=\"asset-img-link\" href=\"https://junkcharts.typepad.com/.a/6a00d8341e992c53ef0240a4b3c5f2200c-pi\" style=\"display: inline;\"><img alt=\"Redo_roundupwsj0\" class=\"asset  asset-image at-xid-6a00d8341e992c53ef0240a4b3c5f2200c img-responsive\" src=\"https://junkcharts.typepad.com/.a/6a00d8341e992c53ef0240a4b3c5f2200c-350wi\" style=\"width: 350px;\" title=\"Redo_roundupwsj0\" /></a></p>\r\n<p>The WSJ’s twist is to use the vertical spacing to avoid overlapping bubbles. The vertical <a href=\"https://junkcharts.typepad.com/junk_charts/axis\" title=\"Posts about axes\">axis</a> serves a design perogative and does not encode data. &#0160;</p>\r\n<p>I’m going to stick with the more traditional overlapping bubbles here – I’m getting to a different matter.</p>\r\n<p>***</p>\r\n<p>The <strong>question</strong> being addressed by this chart is: which states have the most serious Dicamba problem, as revealed by the frequency of complaints? The designer recognizes that the amount of farmland matters. One should expect <strong>the more acres, the more complaints</strong>.</p>\r\n<p>Let&#39;s consider computing directly the number of complaints per million acres.</p>\r\n<p>The resulting chart (shown below right) – while retaining the design – gives a wholly different feeling. Arkansas now owns the largest bubble even though it has the least acreage among the included states. The huge Illinois bubble is still large but is no longer a loner.</p>\r\n<p><a class=\"asset-img-link\" href=\"https://junkcharts.typepad.com/.a/6a00d8341e992c53ef0240a4b3c5cf200c-pi\" style=\"display: inline;\"><img alt=\"Redo_dicambacomplaints1\" class=\"asset  asset-image at-xid-6a00d8341e992c53ef0240a4b3c5cf200c img-responsive\" src=\"https://junkcharts.typepad.com/.a/6a00d8341e992c53ef0240a4b3c5cf200c-450wi\" style=\"width: 450px;\" title=\"Redo_dicambacomplaints1\" /></a></p>\r\n<p>Now return to the original design for a moment (the chart on the left). In theory, this should work in the following manner: if complaints grow purely as a function of acreage, then the bubbles should grow proportionally from left to right. The trouble is that <strong>proportional areas are not as easily detected as proportional lengths</strong>.</p>\r\n<p>The pair of charts below depict made-up data in which all states have 30 complaints for each million acres of farmland. It’s not intuitive that the bubbles on the left chart are growing proportionally.</p>\r\n<p><a class=\"asset-img-link\" href=\"https://junkcharts.typepad.com/.a/6a00d8341e992c53ef0240a4b3c650200c-pi\" style=\"display: inline;\"><img alt=\"Redo_dicambacomplaints2\" class=\"asset  asset-image at-xid-6a00d8341e992c53ef0240a4b3c650200c img-responsive\" src=\"https://junkcharts.typepad.com/.a/6a00d8341e992c53ef0240a4b3c650200c-450wi\" style=\"width: 450px;\" title=\"Redo_dicambacomplaints2\" /></a></p>\r\n<p>Now if you look at the right chart, which shows the relative metric of complaints per million acres, it’s impossible not to notice that all bubbles are the same size.</p>",
         "description": "Kaiser Fung considers proportional bubble sizes in the context of Wall Street Journal's chart about an emerging competitor of Roundup weedkiller.",
         "embeddedAudioLinks": [],
         "embeddedImageLinks": [
          {
           "height": 1016,
           "url": "https://a7.typepad.com/6a00d8341e992c53ef0240a4b3c5c7200c-pi",
           "urlTemplate": "https://a7.typepad.com/6a00d8341e992c53ef0240a4b3c5c7200c-{spec}",
           "width": 1446
          },
          {
           "height": 638,
           "url": "https://a5.typepad.com/6a00d8341e992c53ef0240a50194c5200b-pi",
           "urlTemplate": "https://a5.typepad.com/6a00d8341e992c53ef0240a50194c5200b-{spec}",
           "width": 1452
          },
          {
           "height": 820,
           "url": "https://a2.typepad.com/6a00d8341e992c53ef0240a4b3c5f2200c-pi",
           "urlTemplate": "https://a2.typepad.com/6a00d8341e992c53ef0240a4b3c5f2200c-{spec}",
           "width": 1048
          },
          {
           "height": 796,
           "url": "https://a7.typepad.com/6a00d8341e992c53ef0240a4b3c5cf200c-pi",
           "urlTemplate": "https://a7.typepad.com/6a00d8341e992c53ef0240a4b3c5cf200c-{spec}",
           "width": 1710
          },
          {
           "height": 786,
           "url": "https://a0.typepad.com/6a00d8341e992c53ef0240a4b3c650200c-pi",
           "urlTemplate": "https://a0.typepad.com/6a00d8341e992c53ef0240a4b3c650200c-{spec}",
           "width": 1714
          }
         ],
         "embeddedVideoLinks": [],
         "excerpt": "Kaiser Fung considers proportional bubble sizes in the context of Wall Street Journal's chart about an emerging competitor of Roundup weedkiller.",
         "favoriteCount": 0,
         "filename": "bubble-charts-ratios-and-proportionality",
         "groups": [],
         "hasExtendedContent": false,
         "id": "tag:api.typepad.com,2009:6a00d8341e992c53ef0240a501959b200b",
         "objectType": "Post",
         "objectTypes": [
          "tag:api.typepad.com,2009:Post"
         ],
         "permalinkUrl": "https://junkcharts.typepad.com/junk_charts/2020/01/bubble-charts-ratios-and-proportionality.html",
         "published": "2020-01-13T13:21:00Z",
         "reblogCount": 0,
         "renderedContent": "<p>A recent <a href=\"https://www.wsj.com/articles/roundup-ruled-the-farm-now-its-maker-has-a-challenger-11578328409\" title=\"Link to WSJ\">article</a> in the <em>Wall Street Journal</em> about a challenger to the dominant weedkiller, Roundup, contains a nice selection of graphics. (Dicamba is the up-and-comer.)</p>\r\n<p><a class=\"asset-img-link\" href=\"https://junkcharts.typepad.com/.a/6a00d8341e992c53ef0240a4b3c5c7200c-pi\" style=\"display: inline;\"><img alt=\"Wsj_roundup_img1\" class=\"asset  asset-image at-xid-6a00d8341e992c53ef0240a4b3c5c7200c img-responsive\" src=\"https://junkcharts.typepad.com/.a/6a00d8341e992c53ef0240a4b3c5c7200c-450wi\" style=\"width: 425px;\" title=\"Wsj_roundup_img1\" /></a><br /><br /><br /></p>\r\n<p>The change in usage of three brands of weedkillers is rendered as a <a href=\"https://junkcharts.typepad.com/junk_charts/small_multiples\" title=\"Posts about small multiples\">small-multiples</a> of choropleth <a href=\"https://junkcharts.typepad.com/junk_charts/map\" title=\"Posts about maps\">maps</a>. This graphic displays geographical and time changes simultaneously.</p>\r\n<p>The staircase chart shows weeds have become resistant to Roundup over time. This is considered a weakness in the Roundup business.</p>\r\n<p>***</p>\r\n<p>In this post, my focus is on the chart at the bottom, which shows complaints about Dicamba by state in 2019. This is a <a href=\"https://junkcharts.typepad.com/junk_charts/bubble_chart\" title=\"Posts about bubble charts\">bubble chart</a>, with the bubbles <a href=\"https://junkcharts.typepad.com/junk_charts/sorting\" title=\"Posts about order\">sorted</a> along the horizontal <a href=\"https://junkcharts.typepad.com/junk_charts/axis\" title=\"Posts about axes\">axis</a> by the acreage of farmland by state.</p>\r\n<p><a class=\"asset-img-link\" href=\"https://junkcharts.typepad.com/.a/6a00d8341e992c53ef0240a50194c5200b-pi\" style=\"display: inline;\"><img alt=\"Wsj_roundup_img2\" class=\"asset  asset-image at-xid-6a00d8341e992c53ef0240a50194c5200b img-responsive\" src=\"https://junkcharts.typepad.com/.a/6a00d8341e992c53ef0240a50194c5200b-450wi\" style=\"width: 425px;\" title=\"Wsj_roundup_img2\" /></a></p>\r\n<p>Below left is a more standard version of such a chart, in which the bubbles are allowed to overlap. (I only included the bubbles that were labeled in the original chart).</p>\r\n<p><a class=\"asset-img-link\" href=\"https://junkcharts.typepad.com/.a/6a00d8341e992c53ef0240a4b3c5f2200c-pi\" style=\"display: inline;\"><img alt=\"Redo_roundupwsj0\" class=\"asset  asset-image at-xid-6a00d8341e992c53ef0240a4b3c5f2200c img-responsive\" src=\"https://junkcharts.typepad.com/.a/6a00d8341e992c53ef0240a4b3c5f2200c-350wi\" style=\"width: 350px;\" title=\"Redo_roundupwsj0\" /></a></p>\r\n<p>The WSJ’s twist is to use the vertical spacing to avoid overlapping bubbles. The vertical <a href=\"https://junkcharts.typepad.com/junk_charts/axis\" title=\"Posts about axes\">axis</a> serves a design perogative and does not encode data. &#0160;</p>\r\n<p>I’m going to stick with the more traditional overlapping bubbles here – I’m getting to a different matter.</p>\r\n<p>***</p>\r\n<p>The <strong>question</strong> being addressed by this chart is: which states have the most serious Dicamba problem, as revealed by the frequency of complaints? The designer recognizes that the amount of farmland matters. One should expect <strong>the more acres, the more complaints</strong>.</p>\r\n<p>Let&#39;s consider computing directly the number of complaints per million acres.</p>\r\n<p>The resulting chart (shown below right) – while retaining the design – gives a wholly different feeling. Arkansas now owns the largest bubble even though it has the least acreage among the included states. The huge Illinois bubble is still large but is no longer a loner.</p>\r\n<p><a class=\"asset-img-link\" href=\"https://junkcharts.typepad.com/.a/6a00d8341e992c53ef0240a4b3c5cf200c-pi\" style=\"display: inline;\"><img alt=\"Redo_dicambacomplaints1\" class=\"asset  asset-image at-xid-6a00d8341e992c53ef0240a4b3c5cf200c img-responsive\" src=\"https://junkcharts.typepad.com/.a/6a00d8341e992c53ef0240a4b3c5cf200c-450wi\" style=\"width: 450px;\" title=\"Redo_dicambacomplaints1\" /></a></p>\r\n<p>Now return to the original design for a moment (the chart on the left). In theory, this should work in the following manner: if complaints grow purely as a function of acreage, then the bubbles should grow proportionally from left to right. The trouble is that <strong>proportional areas are not as easily detected as proportional lengths</strong>.</p>\r\n<p>The pair of charts below depict made-up data in which all states have 30 complaints for each million acres of farmland. It’s not intuitive that the bubbles on the left chart are growing proportionally.</p>\r\n<p><a class=\"asset-img-link\" href=\"https://junkcharts.typepad.com/.a/6a00d8341e992c53ef0240a4b3c650200c-pi\" style=\"display: inline;\"><img alt=\"Redo_dicambacomplaints2\" class=\"asset  asset-image at-xid-6a00d8341e992c53ef0240a4b3c650200c img-responsive\" src=\"https://junkcharts.typepad.com/.a/6a00d8341e992c53ef0240a4b3c650200c-450wi\" style=\"width: 450px;\" title=\"Redo_dicambacomplaints2\" /></a></p>\r\n<p>Now if you look at the right chart, which shows the relative metric of complaints per million acres, it’s impossible not to notice that all bubbles are the same size.</p>",
         "shortUrl": "http://bit.ly/30eSExg",
         "textFormat": "html",
         "title": "Bubble charts, ratios and proportionality",
         "urlId": "6a00d8341e992c53ef0240a501959b200b"
        },
        {
         "author": {
          "aboutMe": "Kaiser Fung, Author, Junk Charts, Numbersense, Numbers Rule Your World",
          "avatarLink": {
           "height": 250,
           "url": "https://static.typepad.com/.shared/default-userpics/03-250si.gif",
           "width": 250
          },
          "displayName": "junkcharts",
          "id": "tag:api.typepad.com,2009:6p00d8341e992c53ef",
          "interests": [
           "practical statistics",
           "data visualization",
           "business analytics",
           "bootcamp",
           "data science"
          ],
          "location": null,
          "objectType": "User",
          "objectTypes": [
           "tag:api.typepad.com,2009:User"
          ],
          "preferredUsername": "junkcharts",
          "profilePageUrl": "http://profile.typepad.com/junkcharts",
          "urlId": "6p00d8341e992c53ef"
         },
         "categories": [
          "Bar chart",
          "Business",
          "Color",
          "Economics",
          "Economist",
          "Food and Drink",
          "Hierarchy",
          "Legend",
          "Sorting"
         ],
         "commentCount": 2,
         "container": {
          "displayName": "Junk Charts",
          "homeUrl": "https://junkcharts.typepad.com/junk_charts/",
          "id": "tag:api.typepad.com,2009:6a00d8341e992c53ef00d8341e9a0553ef",
          "objectType": "Blog",
          "urlId": "6a00d8341e992c53ef00d8341e9a0553ef"
         },
         "content": "<p>Happy new year! Good luck and best wishes!</p>\r\n<p>***</p>\r\n<p>We&#39;ll start 2020 with something lighter. On a recent flight, I saw a chart in <a href=\"https://junkcharts.typepad.com/junk_charts/economist\" title=\"Posts about Economist charts\">The Economist</a> that shows the proportion of operating income derived from overseas markets by major grocery chains - the headline said that some of these chains are withdrawing from international markets.</p>\r\n<p><a class=\"asset-img-link\" href=\"https://junkcharts.typepad.com/.a/6a00d8341e992c53ef0240a4dabe0b200d-pi\" style=\"display: inline;\"><img alt=\"Econ_internationalgroceries_sm\" class=\"asset  asset-image at-xid-6a00d8341e992c53ef0240a4dabe0b200d img-responsive\" src=\"https://junkcharts.typepad.com/.a/6a00d8341e992c53ef0240a4dabe0b200d-350wi\" style=\"width: 350px;\" title=\"Econ_internationalgroceries_sm\" /></a></p>\r\n<p>The designer used one <a href=\"https://junkcharts.typepad.com/junk_charts/color\" title=\"Posts about colors\">color</a> for each grocery chain, and two shades within each color. The <a href=\"https://junkcharts.typepad.com/junk_charts/legend\" title=\"Posts about legend\">legend</a> describes the shades as &quot;total&quot; and &quot;of which: overseas&quot;. As with all stacked <a href=\"https://junkcharts.typepad.com/junk_charts/bar_chart\" title=\"Posts about bar charts\">bar charts</a>, it&#39;s a bit confusing where to find the data. The &quot;total&quot; is actually the entire bar, not just the darker shaded part. The darker shaded part is better labeled &quot;home market&quot; as shown below:</p>\r\n<p><a class=\"asset-img-link\" href=\"https://junkcharts.typepad.com/.a/6a00d8341e992c53ef0240a4ff3768200b-pi\" style=\"display: inline;\"><img alt=\"Redo_econgroceriesintl_1\" class=\"asset  asset-image at-xid-6a00d8341e992c53ef0240a4ff3768200b img-responsive\" src=\"https://junkcharts.typepad.com/.a/6a00d8341e992c53ef0240a4ff3768200b-350wi\" style=\"width: 350px;\" title=\"Redo_econgroceriesintl_1\" /></a></p>\r\n<p>The designer&#39;s instinct to bring out the importance of international markets to each company&#39;s income is well placed. A second small edit helps: plot the international income amounts first, so they line up with the vertical zero axis. Like this:</p>\r\n<p><a class=\"asset-img-link\" href=\"https://junkcharts.typepad.com/.a/6a00d8341e992c53ef0240a4da947b200d-pi\" style=\"display: inline;\"><img alt=\"Redo_econgroceriesintl_2\" class=\"asset  asset-image at-xid-6a00d8341e992c53ef0240a4da947b200d img-responsive\" src=\"https://junkcharts.typepad.com/.a/6a00d8341e992c53ef0240a4da947b200d-350wi\" style=\"width: 350px;\" title=\"Redo_econgroceriesintl_2\" /></a></p>\r\n<p>This is essentially the same chart. The order of international and home market is reversed. I also reversed the shading, so that the international share of income is displayed darker. This shading draws the readers&#39; attention to the key message of the chart.</p>\r\n<p>A stacked bar chart of the absolute dollar amounts is not ideal for showing proportions, because each bar is a different length. Sometimes, plotting relative values summing to 100% for each company may work better.</p>\r\n<p>As it stands, the chart above calls attention to a different message: that Walmart dwarfs the other three global chains. Just the international income of Walmart is larger than the total income of Costco.</p>\r\n<p>***</p>\r\n<p>Please comment below or write me directly if you have ideas for this blog as we enter a new decade. What do you want to see more of? less of?</p>",
         "description": "Kaiser (Junkcharts, Principal Analytics Prep) makes small edits to an Economist chart about income share of major global grocery chains.",
         "embeddedAudioLinks": [],
         "embeddedImageLinks": [
          {
           "height": 292,
           "url": "https://a3.typepad.com/6a00d8341e992c53ef0240a4dabe0b200d-pi",
           "urlTemplate": "https://a3.typepad.com/6a00d8341e992c53ef0240a4dabe0b200d-{spec}",
           "width": 500
          },
          {
           "height": 710,
           "url": "https://a0.typepad.com/6a00d8341e992c53ef0240a4ff3768200b-pi",
           "urlTemplate": "https://a0.typepad.com/6a00d8341e992c53ef0240a4ff3768200b-{spec}",
           "width": 1138
          },
          {
           "height": 696,
           "url": "https://a3.typepad.com/6a00d8341e992c53ef0240a4da947b200d-pi",
           "urlTemplate": "https://a3.typepad.com/6a00d8341e992c53ef0240a4da947b200d-{spec}",
           "width": 1068
          }
         ],
         "embeddedVideoLinks": [],
         "excerpt": "Kaiser (Junkcharts, Principal Analytics Prep) makes small edits to an Economist chart about income share of major global grocery chains.",
         "favoriteCount": 0,
         "filename": "taking-small-steps-to-bring-out-the-message",
         "groups": [],
         "hasExtendedContent": false,
         "id": "tag:api.typepad.com,2009:6a00d8341e992c53ef0240a4ff3891200b",
         "objectType": "Post",
         "objectTypes": [
          "tag:api.typepad.com,2009:Post"
         ],
         "permalinkUrl": "https://junkcharts.typepad.com/junk_charts/2020/01/taking-small-steps-to-bring-out-the-message.html",
         "published": "2020-01-06T16:48:00Z",
         "reblogCount": 0,
         "renderedContent": "<p>Happy new year! Good luck and best wishes!</p>\r\n<p>***</p>\r\n<p>We&#39;ll start 2020 with something lighter. On a recent flight, I saw a chart in <a href=\"https://junkcharts.typepad.com/junk_charts/economist\" title=\"Posts about Economist charts\">The Economist</a> that shows the proportion of operating income derived from overseas markets by major grocery chains - the headline said that some of these chains are withdrawing from international markets.</p>\r\n<p><a class=\"asset-img-link\" href=\"https://junkcharts.typepad.com/.a/6a00d8341e992c53ef0240a4dabe0b200d-pi\" style=\"display: inline;\"><img alt=\"Econ_internationalgroceries_sm\" class=\"asset  asset-image at-xid-6a00d8341e992c53ef0240a4dabe0b200d img-responsive\" src=\"https://junkcharts.typepad.com/.a/6a00d8341e992c53ef0240a4dabe0b200d-350wi\" style=\"width: 350px;\" title=\"Econ_internationalgroceries_sm\" /></a></p>\r\n<p>The designer used one <a href=\"https://junkcharts.typepad.com/junk_charts/color\" title=\"Posts about colors\">color</a> for each grocery chain, and two shades within each color. The <a href=\"https://junkcharts.typepad.com/junk_charts/legend\" title=\"Posts about legend\">legend</a> describes the shades as &quot;total&quot; and &quot;of which: overseas&quot;. As with all stacked <a href=\"https://junkcharts.typepad.com/junk_charts/bar_chart\" title=\"Posts about bar charts\">bar charts</a>, it&#39;s a bit confusing where to find the data. The &quot;total&quot; is actually the entire bar, not just the darker shaded part. The darker shaded part is better labeled &quot;home market&quot; as shown below:</p>\r\n<p><a class=\"asset-img-link\" href=\"https://junkcharts.typepad.com/.a/6a00d8341e992c53ef0240a4ff3768200b-pi\" style=\"display: inline;\"><img alt=\"Redo_econgroceriesintl_1\" class=\"asset  asset-image at-xid-6a00d8341e992c53ef0240a4ff3768200b img-responsive\" src=\"https://junkcharts.typepad.com/.a/6a00d8341e992c53ef0240a4ff3768200b-350wi\" style=\"width: 350px;\" title=\"Redo_econgroceriesintl_1\" /></a></p>\r\n<p>The designer&#39;s instinct to bring out the importance of international markets to each company&#39;s income is well placed. A second small edit helps: plot the international income amounts first, so they line up with the vertical zero axis. Like this:</p>\r\n<p><a class=\"asset-img-link\" href=\"https://junkcharts.typepad.com/.a/6a00d8341e992c53ef0240a4da947b200d-pi\" style=\"display: inline;\"><img alt=\"Redo_econgroceriesintl_2\" class=\"asset  asset-image at-xid-6a00d8341e992c53ef0240a4da947b200d img-responsive\" src=\"https://junkcharts.typepad.com/.a/6a00d8341e992c53ef0240a4da947b200d-350wi\" style=\"width: 350px;\" title=\"Redo_econgroceriesintl_2\" /></a></p>\r\n<p>This is essentially the same chart. The order of international and home market is reversed. I also reversed the shading, so that the international share of income is displayed darker. This shading draws the readers&#39; attention to the key message of the chart.</p>\r\n<p>A stacked bar chart of the absolute dollar amounts is not ideal for showing proportions, because each bar is a different length. Sometimes, plotting relative values summing to 100% for each company may work better.</p>\r\n<p>As it stands, the chart above calls attention to a different message: that Walmart dwarfs the other three global chains. Just the international income of Walmart is larger than the total income of Costco.</p>\r\n<p>***</p>\r\n<p>Please comment below or write me directly if you have ideas for this blog as we enter a new decade. What do you want to see more of? less of?</p>",
         "shortUrl": "http://bit.ly/2QPkoo6",
         "textFormat": "html",
         "title": "Taking small steps to bring out the message",
         "urlId": "6a00d8341e992c53ef0240a4ff3891200b"
        },
        {
         "author": {
          "aboutMe": "Kaiser Fung, Author, Junk Charts, Numbersense, Numbers Rule Your World",
          "avatarLink": {
           "height": 250,
           "url": "https://static.typepad.com/.shared/default-userpics/03-250si.gif",
           "width": 250
          },
          "displayName": "junkcharts",
          "id": "tag:api.typepad.com,2009:6p00d8341e992c53ef",
          "interests": [
           "practical statistics",
           "data visualization",
           "business analytics",
           "bootcamp",
           "data science"
          ],
          "location": null,
          "objectType": "User",
          "objectTypes": [
           "tag:api.typepad.com,2009:User"
          ],
          "preferredUsername": "junkcharts",
          "profilePageUrl": "http://profile.typepad.com/junkcharts",
          "urlId": "6p00d8341e992c53ef"
         },
         "categories": [
          "Comparability",
          "Dot plot",
          "Economics",
          "Medicine",
          "NYT",
          "Outlier",
          "Text",
          "Trifecta checkup",
          "United Kingdom",
          "Variance"
         ],
         "commentCount": 3,
         "container": {
          "displayName": "Junk Charts",
          "homeUrl": "https://junkcharts.typepad.com/junk_charts/",
          "id": "tag:api.typepad.com,2009:6a00d8341e992c53ef00d8341e9a0553ef",
          "objectType": "Blog",
          "urlId": "6a00d8341e992c53ef00d8341e9a0553ef"
         },
         "content": "<p><a class=\"asset-img-link\" href=\"https://junkcharts.typepad.com/.a/6a00d8341e992c53ef0240a4d83a0d200d-pi\" style=\"display: inline;\"><img alt=\"Nyt_medicalprocedureprices\" class=\"asset  asset-image at-xid-6a00d8341e992c53ef0240a4d83a0d200d img-responsive\" src=\"https://junkcharts.typepad.com/.a/6a00d8341e992c53ef0240a4d83a0d200d-350wi\" style=\"width: 350px;\" title=\"Nyt_medicalprocedureprices\" /></a></p>\r\n<p>A former student asked me about this chart from the <a href=\"https://junkcharts.typepad.com/junk_charts/nyt\" title=\"Posts about NYT graphics\">New York Times</a> that highlights much higher prices of hospital procedures in the U.S. relative to a comparison group of seven countries.</p>\r\n<p>The <a href=\"https://junkcharts.typepad.com/junk_charts/dot_plot\" title=\"Posts about dot plots\">dot plot</a> is clearly thought through. It is not a default chart that pops out of software.</p>\r\n<p>Based on its design, we surmise that the designer has the following intentions:</p>\r\n<ol>\r\n<li>The names of the medical procedures are printed to be read, thus the long text is placed horizontally.<br /><br /></li>\r\n<li>The actual price is not as important as the <strong>relative price</strong>, expressed as an<strong> index with the U.S. price at 100%</strong>. These reference values are printed in glaring red, unignorable.<br /><br /></li>\r\n<li>Notwithstanding the above point, the actual price is still of secondary importance, and the values are provided as a supplement to the row labels. Getting to the actual prices in the comparison countries requires further effort, and a calculator.<br /><br /></li>\r\n<li>The primary comparison is between the U.S. and the rest of the world (or the group of seven countries included). It is less important to distinguish specific countries in the comparison group, and thus the non-U.S. dots are given pastels that take some effort to differentiate.<br /><br /></li>\r\n<li>Probably due to reader feedback, the font size is subject to a minimum so that some labels are split into two lines to prevent the text from dominating the plotting region.</li>\r\n</ol>\r\n<p>***</p>\r\n<p>In the <strong>Trifecta Checkup</strong> <a href=\"https://bitly.com/trifectacheckup\" title=\"Guide to Trifecta Checkup\">view</a> of the world, there is no single best design. The best design depends on the intended message and what’s in the available data.</p>\r\n<p>To illustate this, I will present a few variants of the above design, and discuss how these alternative designs reflect the designer&#39;s intentions.</p>\r\n<p>Note that in all my charts, I expressed the relative price in terms of discounts, which is the mirror image of premiums. Instead of saying Country A&#39;s price is 80% of the U.S. price, I prefer to say Country A&#39;s price is a 20% saving (or discount) off the U.S. price.</p>\r\n<p>First up is the following chart that emphasizes countries instead of hospital procedures:</p>\r\n<p><a class=\"asset-img-link\" href=\"https://junkcharts.typepad.com/.a/6a00d8341e992c53ef0240a4d83b66200d-pi\" style=\"display: inline;\"><img alt=\"Redo_medicalprice_hor_dot\" class=\"asset  asset-image at-xid-6a00d8341e992c53ef0240a4d83b66200d img-responsive\" src=\"https://junkcharts.typepad.com/.a/6a00d8341e992c53ef0240a4d83b66200d-350wi\" style=\"width: 350px;\" title=\"Redo_medicalprice_hor_dot\" /></a></p>\r\n<p>This chart encourages readers to draw conclusions such as &quot;Hospital prices are 60-80 percent cheaper in Holland relative to the U.S.&quot; But it is more taxing to compare the cost of a specific procedure across countries.</p>\r\n<p>The indexing strategy already creates a barrier to understanding relative costs of a specific procedure. For example, the value for angioplasty in Australia is about 55% and in Switzerland, about 75%. The difference 75%-55% is meaningless because both numbers are relative savings from the U.S. baseline. Comparing Australia and Switzerland requires a ratio (0.75/0.55 = 1.36): Australia&#39;s prices are 36% above Swiss prices, or alternatively, Swiss prices are a<span style=\"text-decoration: line-through;\"> 64%</span> 26% discount off Australia&#39;s prices.</p>\r\n<p>The following design takes it even further, excluding details of individual procedures:</p>\r\n<p><a class=\"asset-img-link\" href=\"https://junkcharts.typepad.com/.a/6a00d8341e992c53ef0240a4d83b62200d-pi\" style=\"display: inline;\"><img alt=\"Redo_medicalprice_hor_bar\" class=\"asset  asset-image at-xid-6a00d8341e992c53ef0240a4d83b62200d img-responsive\" src=\"https://junkcharts.typepad.com/.a/6a00d8341e992c53ef0240a4d83b62200d-350wi\" style=\"width: 350px;\" title=\"Redo_medicalprice_hor_bar\" /></a></p>\r\n<p>For some readers, less is more. It’s even easier to get a rough estimate of how much cheaper prices are in the comparison countries, for now, except for two “outliers”, the chart does not display individual values.</p>\r\n<p>The widths of these bars reveal that in some countries, the amount of savings depends on the specific procedures.</p>\r\n<p>The <a href=\"https://junkcharts.typepad.com/junk_charts/bar_chart\" title=\"Posts about bar charts\">bar</a> design releases the designer from a horizontal orientation. The country labels are shorter and can be placed at the bottom in a vertical design:</p>\r\n<p><a class=\"asset-img-link\" href=\"https://junkcharts.typepad.com/.a/6a00d8341e992c53ef0240a4d83bbf200d-pi\" style=\"display: inline;\"><img alt=\"Redo_medicalprice_vert_bar\" class=\"asset  asset-image at-xid-6a00d8341e992c53ef0240a4d83bbf200d img-responsive\" src=\"https://junkcharts.typepad.com/.a/6a00d8341e992c53ef0240a4d83bbf200d-350wi\" style=\"width: 350px;\" title=\"Redo_medicalprice_vert_bar\" /></a></p>\r\n<p>It&#39;s not that one design is obviously superior to the others. Each version does some things better. A good designer recognizes the strengths and weaknesses of each design, and selects one to fulfil his/her intentions.</p>\r\n<p>&#0160;</p>\r\n<p>P.S. [1/3/20] Corrected a computation, explained in Ken&#39;s comment.</p>",
         "description": "In the last post of 2019, Kaiser Fung considers different versions of a chart on U.S. hospital prices relative to other countries, discussing how designers make choices based on their intentions.",
         "embeddedAudioLinks": [],
         "embeddedImageLinks": [
          {
           "height": 421,
           "url": "https://a5.typepad.com/6a00d8341e992c53ef0240a4d83a0d200d-pi",
           "urlTemplate": "https://a5.typepad.com/6a00d8341e992c53ef0240a4d83a0d200d-{spec}",
           "width": 414
          },
          {
           "height": 1044,
           "url": "https://a6.typepad.com/6a00d8341e992c53ef0240a4d83b66200d-pi",
           "urlTemplate": "https://a6.typepad.com/6a00d8341e992c53ef0240a4d83b66200d-{spec}",
           "width": 1354
          },
          {
           "height": 1054,
           "url": "https://a2.typepad.com/6a00d8341e992c53ef0240a4d83b62200d-pi",
           "urlTemplate": "https://a2.typepad.com/6a00d8341e992c53ef0240a4d83b62200d-{spec}",
           "width": 1178
          },
          {
           "height": 1080,
           "url": "https://a7.typepad.com/6a00d8341e992c53ef0240a4d83bbf200d-pi",
           "urlTemplate": "https://a7.typepad.com/6a00d8341e992c53ef0240a4d83bbf200d-{spec}",
           "width": 1162
          }
         ],
         "embeddedVideoLinks": [],
         "excerpt": "In the last post of 2019, Kaiser Fung considers different versions of a chart on U.S. hospital prices relative to other countries, discussing how designers make choices based on their intentions.",
         "favoriteCount": 0,
         "filename": "all-these-charts-lament-the-high-prices-charged-by-us-hospitals",
         "groups": [],
         "hasExtendedContent": false,
         "id": "tag:api.typepad.com,2009:6a00d8341e992c53ef0240a4af1482200c",
         "objectType": "Post",
         "objectTypes": [
          "tag:api.typepad.com,2009:Post"
         ],
         "permalinkUrl": "https://junkcharts.typepad.com/junk_charts/2019/12/all-these-charts-lament-the-high-prices-charged-by-us-hospitals.html",
         "published": "2019-12-31T17:00:00Z",
         "reblogCount": 0,
         "renderedContent": "<p><a class=\"asset-img-link\" href=\"https://junkcharts.typepad.com/.a/6a00d8341e992c53ef0240a4d83a0d200d-pi\" style=\"display: inline;\"><img alt=\"Nyt_medicalprocedureprices\" class=\"asset  asset-image at-xid-6a00d8341e992c53ef0240a4d83a0d200d img-responsive\" src=\"https://junkcharts.typepad.com/.a/6a00d8341e992c53ef0240a4d83a0d200d-350wi\" style=\"width: 350px;\" title=\"Nyt_medicalprocedureprices\" /></a></p>\r\n<p>A former student asked me about this chart from the <a href=\"https://junkcharts.typepad.com/junk_charts/nyt\" title=\"Posts about NYT graphics\">New York Times</a> that highlights much higher prices of hospital procedures in the U.S. relative to a comparison group of seven countries.</p>\r\n<p>The <a href=\"https://junkcharts.typepad.com/junk_charts/dot_plot\" title=\"Posts about dot plots\">dot plot</a> is clearly thought through. It is not a default chart that pops out of software.</p>\r\n<p>Based on its design, we surmise that the designer has the following intentions:</p>\r\n<ol>\r\n<li>The names of the medical procedures are printed to be read, thus the long text is placed horizontally.<br /><br /></li>\r\n<li>The actual price is not as important as the <strong>relative price</strong>, expressed as an<strong> index with the U.S. price at 100%</strong>. These reference values are printed in glaring red, unignorable.<br /><br /></li>\r\n<li>Notwithstanding the above point, the actual price is still of secondary importance, and the values are provided as a supplement to the row labels. Getting to the actual prices in the comparison countries requires further effort, and a calculator.<br /><br /></li>\r\n<li>The primary comparison is between the U.S. and the rest of the world (or the group of seven countries included). It is less important to distinguish specific countries in the comparison group, and thus the non-U.S. dots are given pastels that take some effort to differentiate.<br /><br /></li>\r\n<li>Probably due to reader feedback, the font size is subject to a minimum so that some labels are split into two lines to prevent the text from dominating the plotting region.</li>\r\n</ol>\r\n<p>***</p>\r\n<p>In the <strong>Trifecta Checkup</strong> <a href=\"https://bitly.com/trifectacheckup\" title=\"Guide to Trifecta Checkup\">view</a> of the world, there is no single best design. The best design depends on the intended message and what’s in the available data.</p>\r\n<p>To illustate this, I will present a few variants of the above design, and discuss how these alternative designs reflect the designer&#39;s intentions.</p>\r\n<p>Note that in all my charts, I expressed the relative price in terms of discounts, which is the mirror image of premiums. Instead of saying Country A&#39;s price is 80% of the U.S. price, I prefer to say Country A&#39;s price is a 20% saving (or discount) off the U.S. price.</p>\r\n<p>First up is the following chart that emphasizes countries instead of hospital procedures:</p>\r\n<p><a class=\"asset-img-link\" href=\"https://junkcharts.typepad.com/.a/6a00d8341e992c53ef0240a4d83b66200d-pi\" style=\"display: inline;\"><img alt=\"Redo_medicalprice_hor_dot\" class=\"asset  asset-image at-xid-6a00d8341e992c53ef0240a4d83b66200d img-responsive\" src=\"https://junkcharts.typepad.com/.a/6a00d8341e992c53ef0240a4d83b66200d-350wi\" style=\"width: 350px;\" title=\"Redo_medicalprice_hor_dot\" /></a></p>\r\n<p>This chart encourages readers to draw conclusions such as &quot;Hospital prices are 60-80 percent cheaper in Holland relative to the U.S.&quot; But it is more taxing to compare the cost of a specific procedure across countries.</p>\r\n<p>The indexing strategy already creates a barrier to understanding relative costs of a specific procedure. For example, the value for angioplasty in Australia is about 55% and in Switzerland, about 75%. The difference 75%-55% is meaningless because both numbers are relative savings from the U.S. baseline. Comparing Australia and Switzerland requires a ratio (0.75/0.55 = 1.36): Australia&#39;s prices are 36% above Swiss prices, or alternatively, Swiss prices are a<span style=\"text-decoration: line-through;\"> 64%</span> 26% discount off Australia&#39;s prices.</p>\r\n<p>The following design takes it even further, excluding details of individual procedures:</p>\r\n<p><a class=\"asset-img-link\" href=\"https://junkcharts.typepad.com/.a/6a00d8341e992c53ef0240a4d83b62200d-pi\" style=\"display: inline;\"><img alt=\"Redo_medicalprice_hor_bar\" class=\"asset  asset-image at-xid-6a00d8341e992c53ef0240a4d83b62200d img-responsive\" src=\"https://junkcharts.typepad.com/.a/6a00d8341e992c53ef0240a4d83b62200d-350wi\" style=\"width: 350px;\" title=\"Redo_medicalprice_hor_bar\" /></a></p>\r\n<p>For some readers, less is more. It’s even easier to get a rough estimate of how much cheaper prices are in the comparison countries, for now, except for two “outliers”, the chart does not display individual values.</p>\r\n<p>The widths of these bars reveal that in some countries, the amount of savings depends on the specific procedures.</p>\r\n<p>The <a href=\"https://junkcharts.typepad.com/junk_charts/bar_chart\" title=\"Posts about bar charts\">bar</a> design releases the designer from a horizontal orientation. The country labels are shorter and can be placed at the bottom in a vertical design:</p>\r\n<p><a class=\"asset-img-link\" href=\"https://junkcharts.typepad.com/.a/6a00d8341e992c53ef0240a4d83bbf200d-pi\" style=\"display: inline;\"><img alt=\"Redo_medicalprice_vert_bar\" class=\"asset  asset-image at-xid-6a00d8341e992c53ef0240a4d83bbf200d img-responsive\" src=\"https://junkcharts.typepad.com/.a/6a00d8341e992c53ef0240a4d83bbf200d-350wi\" style=\"width: 350px;\" title=\"Redo_medicalprice_vert_bar\" /></a></p>\r\n<p>It&#39;s not that one design is obviously superior to the others. Each version does some things better. A good designer recognizes the strengths and weaknesses of each design, and selects one to fulfil his/her intentions.</p>\r\n<p>&#0160;</p>\r\n<p>P.S. [1/3/20] Corrected a computation, explained in Ken&#39;s comment.</p>",
         "shortUrl": "http://bit.ly/39pAxsF",
         "textFormat": "html",
         "title": "All these charts lament the high prices charged by U.S. hospitals",
         "urlId": "6a00d8341e992c53ef0240a4af1482200c"
        },
        {
         "author": {
          "aboutMe": "Kaiser Fung, Author, Junk Charts, Numbersense, Numbers Rule Your World",
          "avatarLink": {
           "height": 250,
           "url": "https://static.typepad.com/.shared/default-userpics/03-250si.gif",
           "width": 250
          },
          "displayName": "junkcharts",
          "id": "tag:api.typepad.com,2009:6p00d8341e992c53ef",
          "interests": [
           "practical statistics",
           "data visualization",
           "business analytics",
           "bootcamp",
           "data science"
          ],
          "location": null,
          "objectType": "User",
          "objectTypes": [
           "tag:api.typepad.com,2009:User"
          ],
          "preferredUsername": "junkcharts",
          "profilePageUrl": "http://profile.typepad.com/junkcharts",
          "urlId": "6p00d8341e992c53ef"
         },
         "categories": [
          "Data",
          "Design",
          "Interactive",
          "Text",
          "Trifecta checkup"
         ],
         "commentCount": 0,
         "container": {
          "displayName": "Junk Charts",
          "homeUrl": "https://junkcharts.typepad.com/junk_charts/",
          "id": "tag:api.typepad.com,2009:6a00d8341e992c53ef00d8341e9a0553ef",
          "objectType": "Blog",
          "urlId": "6a00d8341e992c53ef00d8341e9a0553ef"
         },
         "content": "<p>In response to the reader who left a comment asking for ideas for improving the &quot;marginal abatements chart&quot; that was discussed <a href=\"https://junkcharts.typepad.com/junk_charts/2019/11/how-to-read-this-cost-benefit-chart-and-why-it-is-so-confusing.html\" title=\"Link to prior post\">here</a>, I thought it might be helpful to lay out the process I go through when conceptualizing a chart. (Just a reminder, here is the chart we&#39;re dealing with.)</p>\r\n<p><a class=\"asset-img-link\" href=\"https://junkcharts.typepad.com/.a/6a00d8341e992c53ef0240a4aa4129200c-pi\" style=\"display: inline;\"><img alt=\"Ar_submit_Fig-3-2-The-policy-cost-curve-525\" class=\"asset  asset-image at-xid-6a00d8341e992c53ef0240a4aa4129200c img-responsive\" src=\"https://junkcharts.typepad.com/.a/6a00d8341e992c53ef0240a4aa4129200c-350wi\" style=\"width: 350px;\" title=\"Ar_submit_Fig-3-2-The-policy-cost-curve-525\" /></a></p>\r\n<p>First, I&#39;m very concerned about the long program names. I see their proper placement in a horizontal orientation as a <strong>hard constraint</strong> on the design. I&#39;d reject every design that displays the <a href=\"https://junkcharts.typepad.com/junk_charts/text\" title=\"Posts about text\">text</a> vertically, at an angle, or hides it behind some hover effect, or abbreviates or abridges the text.</p>\r\n<p>Second, I strongly suggest re-thinking the &quot;cost-effectiveness&quot; metric on the vertical axis. Flipping the sign of this metric makes a return-on-investment-type metric, which is much more intuitive. Just to reiterate a prior point, it feels odd to be selecting more negative projects before more positive projects.</p>\r\n<p>Third, I&#39;d like to decide what metrics to place on the two axes. There are three main possibilities: a) benefits (that is, the average annual emissions abatement shown on the horizontal axis currently), b) costs, and c) some function that ties together costs and benefits (currently, this design uses cost per unit benefit, and calls it cost effectivness but there are a variety of similar metrics that can be defined).</p>\r\n<p>For each of these metrics, there is a secondary choice. I can use the by-project value or the cumulative value. The cumulative value is dependent on a selection order, in this case, determined by the criterion of selecting from the most cost-effective program to the least (regardless of project size or any other criteria).</p>\r\n<p>This is where I&#39;d bring in the <strong>Trifecta Checkup</strong> framework (see <a href=\"https://bitly.com/trifectacheckup\" title=\"Guide to Trifecta Checkup Junkcharts\">here</a> for a guide).</p>\r\n<p><a class=\"asset-img-link\" href=\"https://junkcharts.typepad.com/.a/6a00d8341e992c53ef0240a4aa4160200c-pi\" style=\"display: inline;\"><img alt=\"Trifectacheckup_junkcharts_image\" class=\"asset  asset-image at-xid-6a00d8341e992c53ef0240a4aa4160200c img-responsive\" src=\"https://junkcharts.typepad.com/.a/6a00d8341e992c53ef0240a4aa4160200c-250wi\" style=\"width: 250px;\" title=\"Trifectacheckup_junkcharts_image\" /></a><br />The decision of which metrics to use on the axes means I&#39;m operating in the &quot;D&quot; corner. But this decision must be made with respect to the &quot;Q&quot; corner, thus the green arrow between the two. Which two metrics are the most relevant depends on what we want the chart to accomplish. That in turn depends on the audience and what specific question we are addressing for them.</p>\r\n<p>Fourth, if the purpose of the chart is exploratory - that is to say, we use it to guide decision-makers in choosing a subset of programs, then I would want to introduce an element of <a href=\"https://junkcharts.typepad.com/junk_charts/interactive\" title=\"posts about interactive charts\">interactivity</a>. Imagine an interface that allows the user to move programs in and out of the chart, while the chart updates itself to compute the total costs and total benefits.</p>\r\n<p>This last point ties together the entire <strong>Trifacta Checkup</strong> framework (<a href=\"https://bitly.com/trifectacheckup\" title=\"Guide to Trifecta Checkup Junkcharts\">link</a>). The <strong>Question</strong> being exploratory in nature suggests a certain way of organizing and analyzing the <strong>Data</strong> as well as a <strong>Visual</strong> form that facilitates interacting with the information.</p>\r\n<p>&#0160;</p>\r\n<p>&#0160;</p>",
         "description": "Kaiser uses the Trifecta Checkup framework to re-conceptualize a cost-benefit analysis graphic for policy-makers",
         "embeddedAudioLinks": [],
         "embeddedImageLinks": [
          {
           "height": 769,
           "url": "https://a1.typepad.com/6a00d8341e992c53ef0240a4aa4129200c-pi",
           "urlTemplate": "https://a1.typepad.com/6a00d8341e992c53ef0240a4aa4129200c-{spec}",
           "width": 525
          },
          {
           "height": 888,
           "url": "https://a0.typepad.com/6a00d8341e992c53ef0240a4aa4160200c-pi",
           "urlTemplate": "https://a0.typepad.com/6a00d8341e992c53ef0240a4aa4160200c-{spec}",
           "width": 938
          }
         ],
         "embeddedVideoLinks": [],
         "excerpt": "Kaiser uses the Trifecta Checkup framework to re-conceptualize a cost-benefit analysis graphic for policy-makers",
         "favoriteCount": 0,
         "filename": "conceptualizing-a-chart-using-trifecta-a-practical-example",
         "groups": [],
         "hasExtendedContent": false,
         "id": "tag:api.typepad.com,2009:6a00d8341e992c53ef0240a4f80f7e200b",
         "objectType": "Post",
         "objectTypes": [
          "tag:api.typepad.com,2009:Post"
         ],
         "permalinkUrl": "https://junkcharts.typepad.com/junk_charts/2019/12/conceptualizing-a-chart-using-trifecta-a-practical-example.html",
         "published": "2019-12-17T17:15:00Z",
         "reblogCount": 0,
         "renderedContent": "<p>In response to the reader who left a comment asking for ideas for improving the &quot;marginal abatements chart&quot; that was discussed <a href=\"https://junkcharts.typepad.com/junk_charts/2019/11/how-to-read-this-cost-benefit-chart-and-why-it-is-so-confusing.html\" title=\"Link to prior post\">here</a>, I thought it might be helpful to lay out the process I go through when conceptualizing a chart. (Just a reminder, here is the chart we&#39;re dealing with.)</p>\r\n<p><a class=\"asset-img-link\" href=\"https://junkcharts.typepad.com/.a/6a00d8341e992c53ef0240a4aa4129200c-pi\" style=\"display: inline;\"><img alt=\"Ar_submit_Fig-3-2-The-policy-cost-curve-525\" class=\"asset  asset-image at-xid-6a00d8341e992c53ef0240a4aa4129200c img-responsive\" src=\"https://junkcharts.typepad.com/.a/6a00d8341e992c53ef0240a4aa4129200c-350wi\" style=\"width: 350px;\" title=\"Ar_submit_Fig-3-2-The-policy-cost-curve-525\" /></a></p>\r\n<p>First, I&#39;m very concerned about the long program names. I see their proper placement in a horizontal orientation as a <strong>hard constraint</strong> on the design. I&#39;d reject every design that displays the <a href=\"https://junkcharts.typepad.com/junk_charts/text\" title=\"Posts about text\">text</a> vertically, at an angle, or hides it behind some hover effect, or abbreviates or abridges the text.</p>\r\n<p>Second, I strongly suggest re-thinking the &quot;cost-effectiveness&quot; metric on the vertical axis. Flipping the sign of this metric makes a return-on-investment-type metric, which is much more intuitive. Just to reiterate a prior point, it feels odd to be selecting more negative projects before more positive projects.</p>\r\n<p>Third, I&#39;d like to decide what metrics to place on the two axes. There are three main possibilities: a) benefits (that is, the average annual emissions abatement shown on the horizontal axis currently), b) costs, and c) some function that ties together costs and benefits (currently, this design uses cost per unit benefit, and calls it cost effectivness but there are a variety of similar metrics that can be defined).</p>\r\n<p>For each of these metrics, there is a secondary choice. I can use the by-project value or the cumulative value. The cumulative value is dependent on a selection order, in this case, determined by the criterion of selecting from the most cost-effective program to the least (regardless of project size or any other criteria).</p>\r\n<p>This is where I&#39;d bring in the <strong>Trifecta Checkup</strong> framework (see <a href=\"https://bitly.com/trifectacheckup\" title=\"Guide to Trifecta Checkup Junkcharts\">here</a> for a guide).</p>\r\n<p><a class=\"asset-img-link\" href=\"https://junkcharts.typepad.com/.a/6a00d8341e992c53ef0240a4aa4160200c-pi\" style=\"display: inline;\"><img alt=\"Trifectacheckup_junkcharts_image\" class=\"asset  asset-image at-xid-6a00d8341e992c53ef0240a4aa4160200c img-responsive\" src=\"https://junkcharts.typepad.com/.a/6a00d8341e992c53ef0240a4aa4160200c-250wi\" style=\"width: 250px;\" title=\"Trifectacheckup_junkcharts_image\" /></a><br />The decision of which metrics to use on the axes means I&#39;m operating in the &quot;D&quot; corner. But this decision must be made with respect to the &quot;Q&quot; corner, thus the green arrow between the two. Which two metrics are the most relevant depends on what we want the chart to accomplish. That in turn depends on the audience and what specific question we are addressing for them.</p>\r\n<p>Fourth, if the purpose of the chart is exploratory - that is to say, we use it to guide decision-makers in choosing a subset of programs, then I would want to introduce an element of <a href=\"https://junkcharts.typepad.com/junk_charts/interactive\" title=\"posts about interactive charts\">interactivity</a>. Imagine an interface that allows the user to move programs in and out of the chart, while the chart updates itself to compute the total costs and total benefits.</p>\r\n<p>This last point ties together the entire <strong>Trifacta Checkup</strong> framework (<a href=\"https://bitly.com/trifectacheckup\" title=\"Guide to Trifecta Checkup Junkcharts\">link</a>). The <strong>Question</strong> being exploratory in nature suggests a certain way of organizing and analyzing the <strong>Data</strong> as well as a <strong>Visual</strong> form that facilitates interacting with the information.</p>\r\n<p>&#0160;</p>\r\n<p>&#0160;</p>",
         "shortUrl": "http://bit.ly/36NNI4O",
         "textFormat": "html",
         "title": "Conceptualizing a chart using Trifecta: a practical example",
         "urlId": "6a00d8341e992c53ef0240a4f80f7e200b"
        }
       ],
       "totalResults": 1228
      },
      "text/plain": [
       "<IPython.core.display.JSON object>"
      ]
     },
     "execution_count": 12,
     "metadata": {
      "application/json": {
       "expanded": false,
       "root": "root"
      }
     },
     "output_type": "execute_result"
    }
   ],
   "source": [
    "JSON(r2.json())"
   ]
  },
  {
   "cell_type": "code",
   "execution_count": 15,
   "metadata": {},
   "outputs": [],
   "source": [
    "r3 = requests.get('https://api.typepad.com/blogs/6a00d8341e992c53ef00d8341e9a0553ef/post-assets.json?start-index=5&max-results=4')"
   ]
  },
  {
   "cell_type": "code",
   "execution_count": 16,
   "metadata": {},
   "outputs": [
    {
     "data": {
      "application/json": {
       "entries": [
        {
         "author": {
          "aboutMe": "Kaiser Fung, Author, Junk Charts, Numbersense, Numbers Rule Your World",
          "avatarLink": {
           "height": 250,
           "url": "https://static.typepad.com/.shared/default-userpics/03-250si.gif",
           "width": 250
          },
          "displayName": "junkcharts",
          "id": "tag:api.typepad.com,2009:6p00d8341e992c53ef",
          "interests": [
           "practical statistics",
           "data visualization",
           "business analytics",
           "bootcamp",
           "data science"
          ],
          "location": null,
          "objectType": "User",
          "objectTypes": [
           "tag:api.typepad.com,2009:User"
          ],
          "preferredUsername": "junkcharts",
          "profilePageUrl": "http://profile.typepad.com/junkcharts",
          "urlId": "6p00d8341e992c53ef"
         },
         "categories": [
          "Business",
          "Comparability",
          "Dot plot",
          "Economics",
          "Time series",
          "Travel"
         ],
         "commentCount": 0,
         "container": {
          "displayName": "Junk Charts",
          "homeUrl": "https://junkcharts.typepad.com/junk_charts/",
          "id": "tag:api.typepad.com,2009:6a00d8341e992c53ef00d8341e9a0553ef",
          "objectType": "Blog",
          "urlId": "6a00d8341e992c53ef00d8341e9a0553ef"
         },
         "content": "<p>We looked at the following chart in the previous <a href=\"https://junkcharts.typepad.com/junk_charts/2019/12/this-excel-chart-looks-standard-but-gets-everything-wrong.html\" title=\"Link to previous blog\">blog</a>. The data concern the growth rates of car sales in different regions of the world over time.</p>\r\n<p><a class=\"asset-img-link\" href=\"https://junkcharts.typepad.com/.a/6a00d8341e992c53ef0240a4f2b210200b-pi\" style=\"display: inline;\"><img alt=\"Cnbc zh global car sales \" class=\"asset  asset-image at-xid-6a00d8341e992c53ef0240a4f2b210200b img-responsive\" src=\"https://junkcharts.typepad.com/.a/6a00d8341e992c53ef0240a4f2b210200b-350wi\" style=\"width: 350px;\" title=\"Cnbc zh global car sales \" /></a></p>\r\n<p>Here is a different visualization of the same data.</p>\r\n<p><a class=\"asset-img-link\" href=\"https://junkcharts.typepad.com/.a/6a00d8341e992c53ef0240a4ce079c200d-pi\" style=\"display: inline;\"><img alt=\"Redo_cnbc_globalcarsales\" class=\"asset  asset-image at-xid-6a00d8341e992c53ef0240a4ce079c200d img-responsive\" src=\"https://junkcharts.typepad.com/.a/6a00d8341e992c53ef0240a4ce079c200d-350wi\" style=\"width: 350px;\" title=\"Redo_cnbc_globalcarsales\" /></a></p>\r\n<p>Well, it&#39;s not quite the same data. I divided the global average growth rate by four to yield an approximation of the true global average. (The reason for this is explained in the other day&#39;s <a href=\"https://junkcharts.typepad.com/junk_charts/2019/12/this-excel-chart-looks-standard-but-gets-everything-wrong.html\" title=\"Link to previous blog\">post</a>.)</p>\r\n<p>The chart emphasizes how each region was helping or hurting the global growth. It also features the trend in growth within each region.</p>\r\n<p>&#0160;</p>",
         "description": "Kaiser Fung (Junk Charts, Principal Analytics Prep) presents a new visualization of the global car sales data. ",
         "embeddedAudioLinks": [],
         "embeddedImageLinks": [
          {
           "height": 375,
           "url": "https://a0.typepad.com/6a00d8341e992c53ef0240a4f2b210200b-pi",
           "urlTemplate": "https://a0.typepad.com/6a00d8341e992c53ef0240a4f2b210200b-{spec}",
           "width": 517
          },
          {
           "height": 1168,
           "url": "https://a4.typepad.com/6a00d8341e992c53ef0240a4ce079c200d-pi",
           "urlTemplate": "https://a4.typepad.com/6a00d8341e992c53ef0240a4ce079c200d-{spec}",
           "width": 1274
          }
         ],
         "embeddedVideoLinks": [],
         "excerpt": "Kaiser Fung (Junk Charts, Principal Analytics Prep) presents a new visualization of the global car sales data. ",
         "favoriteCount": 0,
         "filename": "revisiting-global-car-sales",
         "groups": [],
         "hasExtendedContent": false,
         "id": "tag:api.typepad.com,2009:6a00d8341e992c53ef0240a4a4dc01200c",
         "objectType": "Post",
         "objectTypes": [
          "tag:api.typepad.com,2009:Post"
         ],
         "permalinkUrl": "https://junkcharts.typepad.com/junk_charts/2019/12/revisiting-global-car-sales.html",
         "published": "2019-12-04T13:36:00Z",
         "reblogCount": 0,
         "renderedContent": "<p>We looked at the following chart in the previous <a href=\"https://junkcharts.typepad.com/junk_charts/2019/12/this-excel-chart-looks-standard-but-gets-everything-wrong.html\" title=\"Link to previous blog\">blog</a>. The data concern the growth rates of car sales in different regions of the world over time.</p>\r\n<p><a class=\"asset-img-link\" href=\"https://junkcharts.typepad.com/.a/6a00d8341e992c53ef0240a4f2b210200b-pi\" style=\"display: inline;\"><img alt=\"Cnbc zh global car sales \" class=\"asset  asset-image at-xid-6a00d8341e992c53ef0240a4f2b210200b img-responsive\" src=\"https://junkcharts.typepad.com/.a/6a00d8341e992c53ef0240a4f2b210200b-350wi\" style=\"width: 350px;\" title=\"Cnbc zh global car sales \" /></a></p>\r\n<p>Here is a different visualization of the same data.</p>\r\n<p><a class=\"asset-img-link\" href=\"https://junkcharts.typepad.com/.a/6a00d8341e992c53ef0240a4ce079c200d-pi\" style=\"display: inline;\"><img alt=\"Redo_cnbc_globalcarsales\" class=\"asset  asset-image at-xid-6a00d8341e992c53ef0240a4ce079c200d img-responsive\" src=\"https://junkcharts.typepad.com/.a/6a00d8341e992c53ef0240a4ce079c200d-350wi\" style=\"width: 350px;\" title=\"Redo_cnbc_globalcarsales\" /></a></p>\r\n<p>Well, it&#39;s not quite the same data. I divided the global average growth rate by four to yield an approximation of the true global average. (The reason for this is explained in the other day&#39;s <a href=\"https://junkcharts.typepad.com/junk_charts/2019/12/this-excel-chart-looks-standard-but-gets-everything-wrong.html\" title=\"Link to previous blog\">post</a>.)</p>\r\n<p>The chart emphasizes how each region was helping or hurting the global growth. It also features the trend in growth within each region.</p>\r\n<p>&#0160;</p>",
         "shortUrl": "http://bit.ly/2OPpktp",
         "textFormat": "html",
         "title": "Revisiting global car sales",
         "urlId": "6a00d8341e992c53ef0240a4a4dc01200c"
        },
        {
         "author": {
          "aboutMe": "Kaiser Fung, Author, Junk Charts, Numbersense, Numbers Rule Your World",
          "avatarLink": {
           "height": 250,
           "url": "https://static.typepad.com/.shared/default-userpics/03-250si.gif",
           "width": 250
          },
          "displayName": "junkcharts",
          "id": "tag:api.typepad.com,2009:6p00d8341e992c53ef",
          "interests": [
           "practical statistics",
           "data visualization",
           "business analytics",
           "bootcamp",
           "data science"
          ],
          "location": null,
          "objectType": "User",
          "objectTypes": [
           "tag:api.typepad.com,2009:User"
          ],
          "preferredUsername": "junkcharts",
          "profilePageUrl": "http://profile.typepad.com/junkcharts",
          "urlId": "6p00d8341e992c53ef"
         },
         "categories": [
          "Aggregation",
          "Axis",
          "Bar chart",
          "Business",
          "Comparability",
          "Compound plots",
          "Current Affairs",
          "Economics",
          "Legend",
          "Line chart",
          "Living",
          "Time series",
          "Tools",
          "Travel"
         ],
         "commentCount": 6,
         "container": {
          "displayName": "Junk Charts",
          "homeUrl": "https://junkcharts.typepad.com/junk_charts/",
          "id": "tag:api.typepad.com,2009:6a00d8341e992c53ef00d8341e9a0553ef",
          "objectType": "Blog",
          "urlId": "6a00d8341e992c53ef00d8341e9a0553ef"
         },
         "content": "<p>The following CNBC chart (<a href=\"https://www.cnbc.com/2019/11/25/global-car-sales-expected-to-slide-by-3point1-million-this-year-in-biggest-drop-since-recession.html\" title=\"Link to CNBC\">link</a>) shows the trend of global car sales by region (or so we think).</p>\r\n<p><a class=\"asset-img-link\" href=\"https://junkcharts.typepad.com/.a/6a00d8341e992c53ef0240a4cd155c200d-pi\" style=\"display: inline;\"><img alt=\"Cnbc zh global car sales \" class=\"asset  asset-image at-xid-6a00d8341e992c53ef0240a4cd155c200d img-responsive\" src=\"https://junkcharts.typepad.com/.a/6a00d8341e992c53ef0240a4cd155c200d-350wi\" style=\"width: 350px;\" title=\"Cnbc zh global car sales \" /></a></p>\r\n<p>This type of chart is quite common in finance/business circles, and has the fingerprint of Excel. After examining it, I nominate it for the Hall of Shame.</p>\r\n<p>***</p>\r\n<p>The chart has three major components vying for our attention: (1) the stacked <a href=\"https://junkcharts.typepad.com/junk_charts/bar_chart\" title=\"Posts about bar charts\">columns</a>, (2) the yellow <a href=\"https://junkcharts.typepad.com/junk_charts/line_chart\" title=\"Posts about line charts\">line</a>, and (3) the big red dashed arrow.</p>\r\n<p>The easiest to interpret is the yellow line, which is labeled &quot;Total&quot; in the <a href=\"https://junkcharts.typepad.com/junk_charts/legend\" title=\"Posts about legend\">legend</a>. It displays the annual growth rate of car sales around the globe. The data consist of annual percentage changes in car sales, so the slope of the yellow line represents a change of change, which is not particularly useful.</p>\r\n<p>The big red arrow is making the point that the projected decline in global car sales in 2019 will return the world to the slowdown of 2008-9 after almost a decade of growth.</p>\r\n<p>The stacked <a href=\"https://junkcharts.typepad.com/junk_charts/bar_chart\" title=\"Posts about column charts\">columns</a> appear to provide a breakdown of the global growth rate by region. Looked at carefully, you&#39;ll soon learn that the visual form has hopelessly mangled the data.</p>\r\n<p><a class=\"asset-img-link\" href=\"https://junkcharts.typepad.com/.a/6a00d8341e992c53ef0240a4cd15b4200d-pi\" style=\"float: left;\"><img alt=\"Cnbc_globalcarsales_2006\" class=\"asset  asset-image at-xid-6a00d8341e992c53ef0240a4cd15b4200d img-responsive\" src=\"https://junkcharts.typepad.com/.a/6a00d8341e992c53ef0240a4cd15b4200d-150wi\" style=\"width: 150px; margin: 0px 5px 5px 0px; border: 4px solid #FFFFFF;\" title=\"Cnbc_globalcarsales_2006\" /></a></p>\r\n<p>What is the growth rate for Chinese car sales in 2006? Is it 2.5%, the top edge of China&#39;s part of the column? Between 1.5% and 2.5%, the extant of China&#39;s section? The answer is neither. Because of the stacking, China&#39;s growth rate is actually the height of the relevant section, that is to say, 1 percent. So the labels on the vertical <a href=\"https://junkcharts.typepad.com/junk_charts/axis\" title=\"Posts about axis\">axis</a> are not directly useful to learning regional growth rates for most sections of the chart.</p>\r\n<p>Can we read the vertical axis as global growth rate? That&#39;s not proper either. The different markets are not equal in size so growth rates cannot be <a href=\"https://junkcharts.typepad.com/junk_charts/aggregation\" title=\"Posts about aggregation\">aggregated</a> by simple summing - they must be weighted by relative size.</p>\r\n<p>The negative growth rates present another problem. Even if we agree to sum growth rates ignoring relative market sizes, we still can&#39;t get directly to the global growth rate. We would have to take the total of the positive rates and subtract the total of the negative rates. &#0160;</p>\r\n<p>***</p>\r\n<p>At this point, you may begin to question everything you thought you knew about this chart. Remember the yellow line, which we thought measures the global growth rate. Take a look at the 2006 column again.</p>\r\n<p>The global growth rate is depicted as 2 percent. And yet every region experienced growth rates below 2 percent! No matter how you aggregate the regions, it&#39;s not possible for the world average to be larger than the value of each region.</p>\r\n<p>For 2006, the regional growth rates are: China, 1%; Rest of the World, 1%; Western Europe, 0.1%; United States, -0.25%. A simple sum of those four rates yields 2%, which is shown on the yellow line.</p>\r\n<p>But this number must be divided by four. If we give the four regions equal weight, each is worth a quarter of the total. So the overall average is the sum of each growth rate weighted by 1/4, which is 0.5%. [In reality, the weights of each region should be scaled to reflect its market size.]</p>\r\n<p>***</p>\r\n<p>tldr; The stacked <a href=\"https://junkcharts.typepad.com/junk_charts/bar_chart\" title=\"Posts about column charts\">column chart</a> with a line overlay not only fails to communicate the contents of the car sales data but it also leads to misinterpretation.</p>\r\n<p>I discussed several serious problems of this chart form:&#0160;</p>\r\n<ul>\r\n<li>stacking the columns make it hard to learn the regional data<br /><br /></li>\r\n<li>the trend by region takes a super effort to decipher<br /><br /></li>\r\n<li>column stacking promotes reading meaning into the height of the column but the total height is meaningless (because of the negative section) while the net height (positive minus negative) also misleads due to presumptive equal weighting<br /><br /></li>\r\n<li>the yellow line shows the sum of the regional data, which is four times the global growth rate that it purports to represent</li>\r\n</ul>\r\n<p>&#0160;</p>\r\n<p>***</p>\r\n<p>PS. [12/4/2019: New <a href=\"https://junkcharts.typepad.com/junk_charts/2019/12/this-excel-chart-looks-standard-but-gets-everything-wrong.html\" title=\"Link to next post\">post</a> up with a different visualization.]</p>",
         "description": "Kaiser Fung (Junkcharts, Principal Analytics Prep) explains why the stacked column chart showing global car sales fails to communicate the underlying data. ",
         "embeddedAudioLinks": [],
         "embeddedImageLinks": [
          {
           "height": 375,
           "url": "https://a4.typepad.com/6a00d8341e992c53ef0240a4cd155c200d-pi",
           "urlTemplate": "https://a4.typepad.com/6a00d8341e992c53ef0240a4cd155c200d-{spec}",
           "width": 517
          },
          {
           "height": 816,
           "url": "https://a4.typepad.com/6a00d8341e992c53ef0240a4cd15b4200d-pi",
           "urlTemplate": "https://a4.typepad.com/6a00d8341e992c53ef0240a4cd15b4200d-{spec}",
           "width": 362
          }
         ],
         "embeddedVideoLinks": [],
         "excerpt": "Kaiser Fung (Junkcharts, Principal Analytics Prep) explains why the stacked column chart showing global car sales fails to communicate the underlying data. ",
         "favoriteCount": 0,
         "filename": "this-excel-chart-looks-standard-but-gets-everything-wrong",
         "groups": [],
         "hasExtendedContent": false,
         "id": "tag:api.typepad.com,2009:6a00d8341e992c53ef0240a4cd161e200d",
         "objectType": "Post",
         "objectTypes": [
          "tag:api.typepad.com,2009:Post"
         ],
         "permalinkUrl": "https://junkcharts.typepad.com/junk_charts/2019/12/this-excel-chart-looks-standard-but-gets-everything-wrong.html",
         "published": "2019-12-02T13:53:00Z",
         "reblogCount": 0,
         "renderedContent": "<p>The following CNBC chart (<a href=\"https://www.cnbc.com/2019/11/25/global-car-sales-expected-to-slide-by-3point1-million-this-year-in-biggest-drop-since-recession.html\" title=\"Link to CNBC\">link</a>) shows the trend of global car sales by region (or so we think).</p>\r\n<p><a class=\"asset-img-link\" href=\"https://junkcharts.typepad.com/.a/6a00d8341e992c53ef0240a4cd155c200d-pi\" style=\"display: inline;\"><img alt=\"Cnbc zh global car sales \" class=\"asset  asset-image at-xid-6a00d8341e992c53ef0240a4cd155c200d img-responsive\" src=\"https://junkcharts.typepad.com/.a/6a00d8341e992c53ef0240a4cd155c200d-350wi\" style=\"width: 350px;\" title=\"Cnbc zh global car sales \" /></a></p>\r\n<p>This type of chart is quite common in finance/business circles, and has the fingerprint of Excel. After examining it, I nominate it for the Hall of Shame.</p>\r\n<p>***</p>\r\n<p>The chart has three major components vying for our attention: (1) the stacked <a href=\"https://junkcharts.typepad.com/junk_charts/bar_chart\" title=\"Posts about bar charts\">columns</a>, (2) the yellow <a href=\"https://junkcharts.typepad.com/junk_charts/line_chart\" title=\"Posts about line charts\">line</a>, and (3) the big red dashed arrow.</p>\r\n<p>The easiest to interpret is the yellow line, which is labeled &quot;Total&quot; in the <a href=\"https://junkcharts.typepad.com/junk_charts/legend\" title=\"Posts about legend\">legend</a>. It displays the annual growth rate of car sales around the globe. The data consist of annual percentage changes in car sales, so the slope of the yellow line represents a change of change, which is not particularly useful.</p>\r\n<p>The big red arrow is making the point that the projected decline in global car sales in 2019 will return the world to the slowdown of 2008-9 after almost a decade of growth.</p>\r\n<p>The stacked <a href=\"https://junkcharts.typepad.com/junk_charts/bar_chart\" title=\"Posts about column charts\">columns</a> appear to provide a breakdown of the global growth rate by region. Looked at carefully, you&#39;ll soon learn that the visual form has hopelessly mangled the data.</p>\r\n<p><a class=\"asset-img-link\" href=\"https://junkcharts.typepad.com/.a/6a00d8341e992c53ef0240a4cd15b4200d-pi\" style=\"float: left;\"><img alt=\"Cnbc_globalcarsales_2006\" class=\"asset  asset-image at-xid-6a00d8341e992c53ef0240a4cd15b4200d img-responsive\" src=\"https://junkcharts.typepad.com/.a/6a00d8341e992c53ef0240a4cd15b4200d-150wi\" style=\"width: 150px; margin: 0px 5px 5px 0px; border: 4px solid #FFFFFF;\" title=\"Cnbc_globalcarsales_2006\" /></a></p>\r\n<p>What is the growth rate for Chinese car sales in 2006? Is it 2.5%, the top edge of China&#39;s part of the column? Between 1.5% and 2.5%, the extant of China&#39;s section? The answer is neither. Because of the stacking, China&#39;s growth rate is actually the height of the relevant section, that is to say, 1 percent. So the labels on the vertical <a href=\"https://junkcharts.typepad.com/junk_charts/axis\" title=\"Posts about axis\">axis</a> are not directly useful to learning regional growth rates for most sections of the chart.</p>\r\n<p>Can we read the vertical axis as global growth rate? That&#39;s not proper either. The different markets are not equal in size so growth rates cannot be <a href=\"https://junkcharts.typepad.com/junk_charts/aggregation\" title=\"Posts about aggregation\">aggregated</a> by simple summing - they must be weighted by relative size.</p>\r\n<p>The negative growth rates present another problem. Even if we agree to sum growth rates ignoring relative market sizes, we still can&#39;t get directly to the global growth rate. We would have to take the total of the positive rates and subtract the total of the negative rates. &#0160;</p>\r\n<p>***</p>\r\n<p>At this point, you may begin to question everything you thought you knew about this chart. Remember the yellow line, which we thought measures the global growth rate. Take a look at the 2006 column again.</p>\r\n<p>The global growth rate is depicted as 2 percent. And yet every region experienced growth rates below 2 percent! No matter how you aggregate the regions, it&#39;s not possible for the world average to be larger than the value of each region.</p>\r\n<p>For 2006, the regional growth rates are: China, 1%; Rest of the World, 1%; Western Europe, 0.1%; United States, -0.25%. A simple sum of those four rates yields 2%, which is shown on the yellow line.</p>\r\n<p>But this number must be divided by four. If we give the four regions equal weight, each is worth a quarter of the total. So the overall average is the sum of each growth rate weighted by 1/4, which is 0.5%. [In reality, the weights of each region should be scaled to reflect its market size.]</p>\r\n<p>***</p>\r\n<p>tldr; The stacked <a href=\"https://junkcharts.typepad.com/junk_charts/bar_chart\" title=\"Posts about column charts\">column chart</a> with a line overlay not only fails to communicate the contents of the car sales data but it also leads to misinterpretation.</p>\r\n<p>I discussed several serious problems of this chart form:&#0160;</p>\r\n<ul>\r\n<li>stacking the columns make it hard to learn the regional data<br /><br /></li>\r\n<li>the trend by region takes a super effort to decipher<br /><br /></li>\r\n<li>column stacking promotes reading meaning into the height of the column but the total height is meaningless (because of the negative section) while the net height (positive minus negative) also misleads due to presumptive equal weighting<br /><br /></li>\r\n<li>the yellow line shows the sum of the regional data, which is four times the global growth rate that it purports to represent</li>\r\n</ul>\r\n<p>&#0160;</p>\r\n<p>***</p>\r\n<p>PS. [12/4/2019: New <a href=\"https://junkcharts.typepad.com/junk_charts/2019/12/this-excel-chart-looks-standard-but-gets-everything-wrong.html\" title=\"Link to next post\">post</a> up with a different visualization.]</p>",
         "shortUrl": "http://bit.ly/2OHyUOT",
         "textFormat": "html",
         "title": "This Excel chart looks standard but gets everything wrong",
         "urlId": "6a00d8341e992c53ef0240a4cd161e200d"
        },
        {
         "author": {
          "aboutMe": "Kaiser Fung, Author, Junk Charts, Numbersense, Numbers Rule Your World",
          "avatarLink": {
           "height": 250,
           "url": "https://static.typepad.com/.shared/default-userpics/03-250si.gif",
           "width": 250
          },
          "displayName": "junkcharts",
          "id": "tag:api.typepad.com,2009:6p00d8341e992c53ef",
          "interests": [
           "practical statistics",
           "data visualization",
           "business analytics",
           "bootcamp",
           "data science"
          ],
          "location": null,
          "objectType": "User",
          "objectTypes": [
           "tag:api.typepad.com,2009:User"
          ],
          "preferredUsername": "junkcharts",
          "profilePageUrl": "http://profile.typepad.com/junkcharts",
          "urlId": "6p00d8341e992c53ef"
         },
         "categories": [
          "Aggregation",
          "Axis",
          "Business",
          "Data",
          "Design",
          "Economics",
          "Heatmap",
          "Line chart",
          "Living",
          "Small multiples"
         ],
         "commentCount": 1,
         "container": {
          "displayName": "Junk Charts",
          "homeUrl": "https://junkcharts.typepad.com/junk_charts/",
          "id": "tag:api.typepad.com,2009:6a00d8341e992c53ef00d8341e9a0553ef",
          "objectType": "Blog",
          "urlId": "6a00d8341e992c53ef00d8341e9a0553ef"
         },
         "content": "<p>Via twitter, John B. sent me the following YouGov chart (<a href=\"https://yougov.co.uk/topics/politics/articles-reports/2017/06/02/how-much-money-do-you-need-earn-year-be-rich\" title=\"Link to YouGov\">link</a>) that he finds difficult to read:</p>\r\n<p><a class=\"asset-img-link\" href=\"https://junkcharts.typepad.com/.a/6a00d8341e992c53ef0240a4ca4057200d-pi\" style=\"display: inline;\"><img alt=\"Yougov_whoisrich\" class=\"asset  asset-image at-xid-6a00d8341e992c53ef0240a4ca4057200d img-responsive\" src=\"https://junkcharts.typepad.com/.a/6a00d8341e992c53ef0240a4ca4057200d-500wi\" style=\"width: 500px;\" title=\"Yougov_whoisrich\" /></a></p>\r\n<p>The title is clear enough: the higher your income, the higher you set the bar.</p>\r\n<p>When one then moves from the title to the chart, one gets misdirected. The horizontal <a href=\"https://junkcharts.typepad.com/junk_charts/axis\" title=\"posts about axis\">axis</a> shows pound values, so the axis naturally maps to &quot;the higher your income&quot;. But it doesn&#39;t. Those pound values are the &quot;cutoff&quot; values - the line between &quot;rich&quot; and &quot;not rich&quot;. Even after one realizes this detail, the axis&#0160; presents further challenges: the cutoff values are arbitrary numbers such as &quot;45,001&quot; sterling; and these continuous numbers are treated as discrete categories, with irregular intervals between each category.</p>\r\n<p>There is some very interesting and hard to obtain data sitting behind this chart but the visual form suppresses them. The best way to understand this dataset is to first think about each income group. Say, people who make between 20 to 30 thousand sterling a year. Roughly 10% of these people think &quot;rich&quot; starts at 25,000. Forty percent of this income group think &quot;rich&quot; start at 40,000.</p>\r\n<p>For each income group, we have data on Z percent think &quot;rich&quot; starts at X. I put all of these data points into a <a href=\"https://junkcharts.typepad.com/junk_charts/heatmap\" title=\"Posts about heatmap\">heatmap</a>, like this:</p>\r\n<p><a class=\"asset-img-link\" href=\"https://junkcharts.typepad.com/.a/6a00d8341e992c53ef0240a4a11626200c-pi\" style=\"display: inline;\"><img alt=\"Redo_junkcharts_yougovuk_whoisrich\" class=\"asset  asset-image at-xid-6a00d8341e992c53ef0240a4a11626200c img-responsive\" src=\"https://junkcharts.typepad.com/.a/6a00d8341e992c53ef0240a4a11626200c-400wi\" style=\"width: 400px;\" title=\"Redo_junkcharts_yougovuk_whoisrich\" /></a><br /><br /></p>\r\n<p>Technical note: in order to restore the horizontal axis to a continuous scale, you can take the discrete data from the original chart, then fit a smoothed curve through those points, and finally compute the interpolated values for any income level using the smoothing model.</p>\r\n<p>***</p>\r\n<p>There are some concerns about the survey design. It&#39;s hard to get enough samples for higher-income people. This is probably why the highest income segment starts at 50,000. But notice that 50,ooo is around the level at which lower-income people consider &quot;rich&quot;. So, this survey is primarily about how low-income people perceive &quot;rich&quot; people.</p>\r\n<p>The curve for the highest income group is much straighter and smoother than the other lines - that&#39;s because it&#39;s really the average of a number of curves (for each 10,000 sterling segment).</p>\r\n<p>&#0160;</p>\r\n<p>P.S. The YouGov tweet that publicized the small-multiples chart shown above links to a <a href=\"https://yougov.co.uk/topics/politics/articles-reports/2017/06/02/how-much-money-do-you-need-earn-year-be-rich\" title=\"Link to YouGov\">page</a> that no longer contains the chart. They may have replaced it due to feedback.</p>\r\n<p>&#0160;</p>\r\n<p>&#0160;</p>",
         "description": "Kaiser Fung (Junk Charts, Principal Analytics Prep) looks at a chart showing what \"rich\" means to different income groups.",
         "embeddedAudioLinks": [],
         "embeddedImageLinks": [
          {
           "height": 1024,
           "url": "https://a7.typepad.com/6a00d8341e992c53ef0240a4ca4057200d-pi",
           "urlTemplate": "https://a7.typepad.com/6a00d8341e992c53ef0240a4ca4057200d-{spec}",
           "width": 2048
          },
          {
           "height": 966,
           "url": "https://a6.typepad.com/6a00d8341e992c53ef0240a4a11626200c-pi",
           "urlTemplate": "https://a6.typepad.com/6a00d8341e992c53ef0240a4a11626200c-{spec}",
           "width": 1468
          }
         ],
         "embeddedVideoLinks": [],
         "excerpt": "Kaiser Fung (Junk Charts, Principal Analytics Prep) looks at a chart showing what \"rich\" means to different income groups.",
         "favoriteCount": 0,
         "filename": "this-chart-tells-you-how-rich-is-rich-if-you-can-read-it",
         "groups": [],
         "hasExtendedContent": false,
         "id": "tag:api.typepad.com,2009:6a00d8341e992c53ef0240a4eef46c200b",
         "objectType": "Post",
         "objectTypes": [
          "tag:api.typepad.com,2009:Post"
         ],
         "permalinkUrl": "https://junkcharts.typepad.com/junk_charts/2019/11/this-chart-tells-you-how-rich-is-rich-if-you-can-read-it.html",
         "published": "2019-11-25T13:15:00Z",
         "reblogCount": 0,
         "renderedContent": "<p>Via twitter, John B. sent me the following YouGov chart (<a href=\"https://yougov.co.uk/topics/politics/articles-reports/2017/06/02/how-much-money-do-you-need-earn-year-be-rich\" title=\"Link to YouGov\">link</a>) that he finds difficult to read:</p>\r\n<p><a class=\"asset-img-link\" href=\"https://junkcharts.typepad.com/.a/6a00d8341e992c53ef0240a4ca4057200d-pi\" style=\"display: inline;\"><img alt=\"Yougov_whoisrich\" class=\"asset  asset-image at-xid-6a00d8341e992c53ef0240a4ca4057200d img-responsive\" src=\"https://junkcharts.typepad.com/.a/6a00d8341e992c53ef0240a4ca4057200d-500wi\" style=\"width: 500px;\" title=\"Yougov_whoisrich\" /></a></p>\r\n<p>The title is clear enough: the higher your income, the higher you set the bar.</p>\r\n<p>When one then moves from the title to the chart, one gets misdirected. The horizontal <a href=\"https://junkcharts.typepad.com/junk_charts/axis\" title=\"posts about axis\">axis</a> shows pound values, so the axis naturally maps to &quot;the higher your income&quot;. But it doesn&#39;t. Those pound values are the &quot;cutoff&quot; values - the line between &quot;rich&quot; and &quot;not rich&quot;. Even after one realizes this detail, the axis&#0160; presents further challenges: the cutoff values are arbitrary numbers such as &quot;45,001&quot; sterling; and these continuous numbers are treated as discrete categories, with irregular intervals between each category.</p>\r\n<p>There is some very interesting and hard to obtain data sitting behind this chart but the visual form suppresses them. The best way to understand this dataset is to first think about each income group. Say, people who make between 20 to 30 thousand sterling a year. Roughly 10% of these people think &quot;rich&quot; starts at 25,000. Forty percent of this income group think &quot;rich&quot; start at 40,000.</p>\r\n<p>For each income group, we have data on Z percent think &quot;rich&quot; starts at X. I put all of these data points into a <a href=\"https://junkcharts.typepad.com/junk_charts/heatmap\" title=\"Posts about heatmap\">heatmap</a>, like this:</p>\r\n<p><a class=\"asset-img-link\" href=\"https://junkcharts.typepad.com/.a/6a00d8341e992c53ef0240a4a11626200c-pi\" style=\"display: inline;\"><img alt=\"Redo_junkcharts_yougovuk_whoisrich\" class=\"asset  asset-image at-xid-6a00d8341e992c53ef0240a4a11626200c img-responsive\" src=\"https://junkcharts.typepad.com/.a/6a00d8341e992c53ef0240a4a11626200c-400wi\" style=\"width: 400px;\" title=\"Redo_junkcharts_yougovuk_whoisrich\" /></a><br /><br /></p>\r\n<p>Technical note: in order to restore the horizontal axis to a continuous scale, you can take the discrete data from the original chart, then fit a smoothed curve through those points, and finally compute the interpolated values for any income level using the smoothing model.</p>\r\n<p>***</p>\r\n<p>There are some concerns about the survey design. It&#39;s hard to get enough samples for higher-income people. This is probably why the highest income segment starts at 50,000. But notice that 50,ooo is around the level at which lower-income people consider &quot;rich&quot;. So, this survey is primarily about how low-income people perceive &quot;rich&quot; people.</p>\r\n<p>The curve for the highest income group is much straighter and smoother than the other lines - that&#39;s because it&#39;s really the average of a number of curves (for each 10,000 sterling segment).</p>\r\n<p>&#0160;</p>\r\n<p>P.S. The YouGov tweet that publicized the small-multiples chart shown above links to a <a href=\"https://yougov.co.uk/topics/politics/articles-reports/2017/06/02/how-much-money-do-you-need-earn-year-be-rich\" title=\"Link to YouGov\">page</a> that no longer contains the chart. They may have replaced it due to feedback.</p>\r\n<p>&#0160;</p>\r\n<p>&#0160;</p>",
         "shortUrl": "http://bit.ly/2Oi5E0H",
         "textFormat": "html",
         "title": "This chart tells you how rich is rich - if you can read it",
         "urlId": "6a00d8341e992c53ef0240a4eef46c200b"
        },
        {
         "author": {
          "aboutMe": "Kaiser Fung, Author, Junk Charts, Numbersense, Numbers Rule Your World",
          "avatarLink": {
           "height": 250,
           "url": "https://static.typepad.com/.shared/default-userpics/03-250si.gif",
           "width": 250
          },
          "displayName": "junkcharts",
          "id": "tag:api.typepad.com,2009:6p00d8341e992c53ef",
          "interests": [
           "practical statistics",
           "data visualization",
           "business analytics",
           "bootcamp",
           "data science"
          ],
          "location": null,
          "objectType": "User",
          "objectTypes": [
           "tag:api.typepad.com,2009:User"
          ],
          "preferredUsername": "junkcharts",
          "profilePageUrl": "http://profile.typepad.com/junkcharts",
          "urlId": "6p00d8341e992c53ef"
         },
         "categories": [
          "Axis",
          "Bar chart",
          "Comparability",
          "Design",
          "Dot plot",
          "Economics",
          "Living",
          "Scale",
          "Science",
          "Sorting",
          "Text",
          "Trifecta checkup"
         ],
         "commentCount": 2,
         "container": {
          "displayName": "Junk Charts",
          "homeUrl": "https://junkcharts.typepad.com/junk_charts/",
          "id": "tag:api.typepad.com,2009:6a00d8341e992c53ef00d8341e9a0553ef",
          "objectType": "Blog",
          "urlId": "6a00d8341e992c53ef00d8341e9a0553ef"
         },
         "content": "<p>Long-time reader Antonio R. found today&#39;s chart hard to follow, and he isn&#39;t alone. It took two of us multiple emails and some Web searching before we think we &quot;got it&quot;.</p>\r\n<p><a class=\"asset-img-link\" href=\"https://junkcharts.typepad.com/.a/6a00d8341e992c53ef0240a49fab3c200c-pi\" style=\"display: inline;\"><img alt=\"Ar_submit_Fig-3-2-The-policy-cost-curve-525\" class=\"asset  asset-image at-xid-6a00d8341e992c53ef0240a49fab3c200c img-responsive\" src=\"https://junkcharts.typepad.com/.a/6a00d8341e992c53ef0240a49fab3c200c-400wi\" style=\"width: 400px;\" title=\"Ar_submit_Fig-3-2-The-policy-cost-curve-525\" /></a></p>\r\n<p>&#0160;</p>\r\n<p>Antonio first encountered the chart in a book review (<a href=\"https://anoutsidechance.com/2019/03/06/designing-climate-solutions-review/\" title=\"Link to An Outside Chance\">link</a>) of Hal Harvey et. al, <em>Designing Climate Solutions</em>. It addresses the general topic of <strong>costs and benefits</strong> of various programs to abate CO2 emissions. The reviewer praised the &quot;wealth of graphics [in the book] which present complex information in visually effective formats.&quot; He presented the above chart as evidence, and described its function as:</p>\r\n<blockquote>\r\n<p>policy-makers can focus on the areas which make the most difference in emissions, while also being mindful of the cost issues that can be so important in getting political buy-in.</p>\r\n</blockquote>\r\n<p>(This description is much more informative than the original chart title, which states &quot;The policy cost curve shows the cost-effectiveness and emission reduction potential of different policies.&quot;)</p>\r\n<p>Spend a little time with the chart now before you read the discussion below.</p>\r\n<p>Warning: this is a long read but well worth it.</p>\r\n<p>&#0160;</p>\r\n<p>***</p>\r\n<p>&#0160;</p>\r\n<p>If your experience is anything like ours, scraps of information flew at you from different parts of the chart, and you had a hard time piecing together a story.</p>\r\n<p><strong>What are the reasons why this data graphic is so confusing?</strong></p>\r\n<p>Everyone recognizes that this is a <a href=\"https://junkcharts.typepad.com/junk_charts/bar_chart\" title=\"Posts about bar and column charts\">column chart</a>. For a column chart, we interpret the heights of the columns so we look first at the vertical axis. The axis title informs us that the height represents &quot;cost effectiveness&quot; measured in dollars per million metric tons of CO2. In a cost-benefit sense, that appears to mean the cost to society of obtaining the benefit of reducing CO2 by a given amount.</p>\r\n<p>That&#39;s how far I went before hitting the first roadblock.</p>\r\n<p>For environmental policies, opponents frequently object to the high price of implementation. For example, we can&#39;t have higher fuel efficiency in cars because it would raise the price of gasoline too much. <strong>Asking about cost-effectiveness makes sense: a cost-benefit trade-off analysis encapsulates the something-for-something principle.</strong> <strong>What doesn&#39;t follow is that the vertical scale sinks far into the negative</strong>. The chart depicts the majority of the emissions abatement programs as having <em>negative cost effectiveness</em>.</p>\r\n<p>What does it mean to be negatively cost-effective? Does it mean society saves money (makes a profit) while also reducing CO2 emissions? Wouldn&#39;t those policies - more than half of the programs shown - be slam dunks? Who can object to programs that improve the environment <em>at no cost</em>?</p>\r\n<p>I tabled that thought, and proceeded to the horizontal <a href=\"https://junkcharts.typepad.com/junk_charts/axis\" title=\"Posts about axes\">axis</a>.</p>\r\n<p>I noticed that this isn&#39;t a standard column chart, in which the width of the columns is fixed and uneventful. Here, the widths of the columns are varying.</p>\r\n<p>***</p>\r\n<p>In the meantime, my eyes are distracted by the constellation of <a href=\"https://junkcharts.typepad.com/junk_charts/text\" title=\"Posts about text annotation\">text</a> labels. The viewing area of this column chart is occupied - at least 50% - by text. These labels tell me that each column represents a program to reduce CO2 emissions.</p>\r\n<p>The dominance of text labels is a feature of this design. For a conventional <a href=\"https://anoutsidechance.com/2019/03/06/designing-climate-solutions-review/\">column chart</a>, the labels are situated below each column. Since the width does not usually carry any data, we tend to keep the columns narrow - Tufte, ever the minimalist, has even advocated reducing columns to vertical lines. That leaves insufficient room for long labels. Have you noticed that government programs hold long titles? It&#39;s tough to capture even the outline of a program with fewer than three big words, e.g. &quot;Renewable Portfolio Standard&quot; (what?).</p>\r\n<p>The design solution here is to let the column labels run horizontally. So the graphical element for each program is a vertical column coupled with a horizontal label that invades the territories of the next few programs. Like this:</p>\r\n<p><a class=\"asset-img-link\" href=\"https://junkcharts.typepad.com/.a/6a00d8341e992c53ef0240a49fc051200c-pi\" style=\"display: inline;\"><img alt=\"Redo_fueleconomystandardscars\" class=\"asset  asset-image at-xid-6a00d8341e992c53ef0240a49fc051200c img-responsive\" src=\"https://junkcharts.typepad.com/.a/6a00d8341e992c53ef0240a49fc051200c-350wi\" style=\"width: 350px;\" title=\"Redo_fueleconomystandardscars\" /></a></p>\r\n<p>The horror of this design constraint is fully realized in the following chart, a similar design produced for the state of Oregon (lifted from the Plan Washington webpage listed as a resource below):</p>\r\n<p><strong><a class=\"asset-img-link\" href=\"https://junkcharts.typepad.com/.a/6a00d8341e992c53ef0240a4c8dc0d200d-pi\" style=\"display: inline;\"><img alt=\"Figure 2 oregon greenhouse\" class=\"asset  asset-image at-xid-6a00d8341e992c53ef0240a4c8dc0d200d img-responsive\" src=\"https://junkcharts.typepad.com/.a/6a00d8341e992c53ef0240a4c8dc0d200d-450wi\" style=\"width: 450px;\" title=\"Figure 2 oregon greenhouse\" /></a></strong></p>\r\n<p>In a re-design, horizontal labeling should be a priority.</p>\r\n<p>&#0160;</p>\r\n<p>***</p>\r\n<p>Realizing that I&#39;ve been distracted by the text labels, back to the horizontal <a href=\"https://junkcharts.typepad.com/junk_charts/axis\" title=\"posts about axes\">axis</a> I went.</p>\r\n<p>This is where I encountered the next roadblock.</p>\r\n<p>The axis title says &quot;Average Annual Emissions Abatement&quot; measured in millions metric tons. The unit matches the second part of the vertical scale, which is comforting. But how does one reconcile the widths of columns with a continuous scale? I was expecting each program to have a projected annual abatement benefit, and those would fall as dots on a line, like this:</p>\r\n<p><a class=\"asset-img-link\" href=\"https://junkcharts.typepad.com/.a/6a00d8341e992c53ef0240a4ed9cec200b-pi\" style=\"display: inline;\"><img alt=\"Redo_abatement_benefit_dotplot\" class=\"asset  asset-image at-xid-6a00d8341e992c53ef0240a4ed9cec200b img-responsive\" src=\"https://junkcharts.typepad.com/.a/6a00d8341e992c53ef0240a4ed9cec200b-250wi\" style=\"width: 250px;\" title=\"Redo_abatement_benefit_dotplot\" /></a></p>\r\n<p>Instead, we have line segments sitting on a line, like this:</p>\r\n<p><a class=\"asset-img-link\" href=\"https://junkcharts.typepad.com/.a/6a00d8341e992c53ef0240a49fb9c9200c-pi\" style=\"display: inline;\"><img alt=\"Redo_abatement_benefit_bars_end2end_annuallabel\" class=\"asset  asset-image at-xid-6a00d8341e992c53ef0240a49fb9c9200c img-responsive\" src=\"https://junkcharts.typepad.com/.a/6a00d8341e992c53ef0240a49fb9c9200c-250wi\" style=\"width: 250px;\" title=\"Redo_abatement_benefit_bars_end2end_annuallabel\" /></a></p>\r\n<p>Think of these bars as the bottom edges of the columns. These line segments can be better compared to each other if structured as a <a href=\"https://junkcharts.typepad.com/junk_charts/bar_chart\" title=\"Posts about bar and column charts\">bar chart</a>:</p>\r\n<p><a class=\"asset-img-link\" href=\"https://junkcharts.typepad.com/.a/6a00d8341e992c53ef0240a4c8e758200d-pi\" style=\"display: inline;\"><img alt=\"Redo_abatement_benefit_bars\" class=\"asset  asset-image at-xid-6a00d8341e992c53ef0240a4c8e758200d img-responsive\" src=\"https://junkcharts.typepad.com/.a/6a00d8341e992c53ef0240a4c8e758200d-250wi\" style=\"width: 250px;\" title=\"Redo_abatement_benefit_bars\" /></a></p>\r\n<p>Instead, the design arranges these lines end-to-end.</p>\r\n<p>To unravel this mystery, we go back to the objective of the chart, as announced by the book reviewer. Here it is again:</p>\r\n<blockquote>\r\n<p>policy-makers can focus on the areas which make the most difference in emissions, while also being mindful of the cost issues that can be so important in getting political buy-in.</p>\r\n</blockquote>\r\n<p>The primary goal of the chart is a <strong>decision-making tool for policy-makers</strong> who are evaluating programs. Each program has a cost and also a benefit. The cost is shown on the vertical axis and the benefit is shown on the horizontal. The decision-maker will select some subset of these programs based on the cost-benefit analysis. That subset of programs will have a projected <em>total</em> expected benefit (CO2 abatement) and a projected total cost.</p>\r\n<p>By stacking the line segments end to end on top of the horizontal axis, the chart designer elevates the task of computing the <em>total</em> benefits of a subset of programs, relative to the task of learning the benefits of any individual program. Thus, the horizontal axis is better labeled &quot;Cumulative annual emissions abatement&quot;.</p>\r\n<p>&#0160;</p>\r\n<p>Look at that axis again. Imagine you are required to learn the specific benefit of program titled &quot;Fuel Economy Standards: Cars &amp; SUVs&quot;. &#0160;</p>\r\n<p><a class=\"asset-img-link\" href=\"https://junkcharts.typepad.com/.a/6a00d8341e992c53ef0240a49fc03d200c-pi\" style=\"display: inline;\"><img alt=\"Redo_abatement_benefit_bars_end2end_cumlabel\" class=\"asset  asset-image at-xid-6a00d8341e992c53ef0240a49fc03d200c img-responsive\" src=\"https://junkcharts.typepad.com/.a/6a00d8341e992c53ef0240a49fc03d200c-350wi\" style=\"width: 350px;\" title=\"Redo_abatement_benefit_bars_end2end_cumlabel\" /></a></p>\r\n<p>This is impossible to do without pulling out a ruler and a calculator. What the axis labels do tell us is that if all the programs to the left of Fuel Economy Standards: Cars &amp; SUVs were adopted, the cumulative benefits would be 285 million metric tons of CO2 per year. And if Fuel Economy Standards: Cars &amp; SUVs were also implemented, the cumulative benefits would rise to 375 million metric tons.</p>\r\n<p>***</p>\r\n<p>At long last, we have arrived at a reasonable interpretation of the cost-benefit chart.</p>\r\n<p>Policy-makers are considering throwing their support behind specific programs aimed at abating CO2 emissions. Different organizations have come up with different ways to achieve this goal. This goal may even have specific benchmarks; the government may have committed to an international agreement, for example, to reduce emissions by some set amount by 2030. Each candidate abatement program is evaluated on both cost and benefit dimensions. Benefit is given by the amount of CO2 abated. Cost is measured as a &quot;marginal cost,&quot; the amount of dollars required to achieve each million metric ton of abatement.</p>\r\n<p>This &quot;<strong>marginal abatement cost curve</strong>&quot; aids the decision-making. It lines up the programs from the most cost-effective to the least cost-effective. The decision-maker is presumed to prefer a more cost-effective program than a less cost-effective program. The chart answers the following question: for any given subset of programs (so long as we select them left to right contiguously), we can read off the cumulative amount of CO2 abated.</p>\r\n<p>***</p>\r\n<p>There are still more limitations of the chart design.</p>\r\n<ul>\r\n<li>We can&#39;t directly read off the cumulative cost of the selected subset of programs because the vertical axis is not cumulative. The cumulative cost turns out to be the <strong>total area</strong> of all the columns that correspond to the selected programs. (Area is height x width, which is cost per benefit multiplied by benefit, which leaves us with the cost.) Unfortunately, it takes rulers and calculators to compute this total area.<br /><br /></li>\r\n<li><strong>We have presumed that policy-makers will make the Go-No-go decision based on cost effectiveness alone</strong>. This point of view has already been contradicted. Remember the mystery around negatively cost-effective programs - their existence shows that some programs are stalled even when they reduce emissions in addition to making money!<br /><br /></li>\r\n<li>Since many, if not most, programs have negative cost-effectiveness (by the way they measured it), I&#39;d flip the metric over and call it profitability (or return on investment). Doing so removes another barrier to our understanding. With the current cost-effectiveness metric, policy-makers are selecting the &quot;negative&quot; programs before the &quot;positive&quot; programs. <strong>It makes more sense to select the &quot;positive&quot; programs before the &quot;negative&quot; ones!</strong></li>\r\n</ul>\r\n<p>***</p>\r\n<p>In a <strong>Trifecta Checkup </strong>(<a href=\"https://bitly.com/trifectacheckup\" title=\"Guide to Trifecta Checkup\">guide</a>), I rate this chart <strong>Type V</strong>. The chart has a great purpose, and the design reveals a keen sense of the decision-making process. It&#39;s not a data dump for sure. In addition, an impressive amount of data gathering and analysis - and synthesis - went into preparing the two data series required to construct the chart. (Sure, for something so subjective and speculative, the analysis methodology will inevitably be challenged by wonks.) Those two data series are reasonable measures for the stated purpose of the chart.</p>\r\n<p>The chart form, though, has various shortcomings, as shown here. &#0160;</p>\r\n<p>***</p>\r\n<p>In our email exchange, Antonio and I found the Plan Washington <a href=\"http://planwashington.org/blog/archive/understanding-carbon-reduction-marginal-abatement-cost-curves/\" title=\"Link to Plan Washington\">website</a> useful. This is where we learned that this chart is called the marginal abatement cost curve.</p>\r\n<p>Also, the consulting firm McKinsey is responsible for popularizing this chart form. They have published this long <a href=\"https://www.mckinsey.com/business-functions/sustainability/our-insights/reducing-us-greenhouse-gas-emissions\" title=\"link to Mckinsey\">report</a> that explains even more of the analysis behind constructing this chart, for those who want further details.</p>",
         "description": "Kaiser Fung (Junkcharts, Principal Analytics Prep) discusses a chart showing cost-benefit analysis submitted by a long-time reader. Why are some charts so confusing?",
         "embeddedAudioLinks": [],
         "embeddedImageLinks": [
          {
           "height": 769,
           "url": "https://a4.typepad.com/6a00d8341e992c53ef0240a49fab3c200c-pi",
           "urlTemplate": "https://a4.typepad.com/6a00d8341e992c53ef0240a49fab3c200c-{spec}",
           "width": 525
          },
          {
           "height": 268,
           "url": "https://a1.typepad.com/6a00d8341e992c53ef0240a49fc051200c-pi",
           "urlTemplate": "https://a1.typepad.com/6a00d8341e992c53ef0240a49fc051200c-{spec}",
           "width": 638
          },
          {
           "height": 1063,
           "url": "https://a5.typepad.com/6a00d8341e992c53ef0240a4c8dc0d200d-pi",
           "urlTemplate": "https://a5.typepad.com/6a00d8341e992c53ef0240a4c8dc0d200d-{spec}",
           "width": 1845
          },
          {
           "height": 1160,
           "url": "https://a4.typepad.com/6a00d8341e992c53ef0240a4ed9cec200b-pi",
           "urlTemplate": "https://a4.typepad.com/6a00d8341e992c53ef0240a4ed9cec200b-{spec}",
           "width": 1114
          },
          {
           "height": 310,
           "url": "https://a1.typepad.com/6a00d8341e992c53ef0240a49fb9c9200c-pi",
           "urlTemplate": "https://a1.typepad.com/6a00d8341e992c53ef0240a49fb9c9200c-{spec}",
           "width": 946
          },
          {
           "height": 820,
           "url": "https://a0.typepad.com/6a00d8341e992c53ef0240a4c8e758200d-pi",
           "urlTemplate": "https://a0.typepad.com/6a00d8341e992c53ef0240a4c8e758200d-{spec}",
           "width": 710
          },
          {
           "height": 534,
           "url": "https://a5.typepad.com/6a00d8341e992c53ef0240a49fc03d200c-pi",
           "urlTemplate": "https://a5.typepad.com/6a00d8341e992c53ef0240a49fc03d200c-{spec}",
           "width": 996
          }
         ],
         "embeddedVideoLinks": [],
         "excerpt": "Kaiser Fung (Junkcharts, Principal Analytics Prep) discusses a chart showing cost-benefit analysis submitted by a long-time reader. Why are some charts so confusing?",
         "favoriteCount": 0,
         "filename": "how-to-read-this-cost-benefit-chart-and-why-it-is-so-confusing",
         "groups": [],
         "hasExtendedContent": false,
         "id": "tag:api.typepad.com,2009:6a00d8341e992c53ef0240a49fab5e200c",
         "objectType": "Post",
         "objectTypes": [
          "tag:api.typepad.com,2009:Post"
         ],
         "permalinkUrl": "https://junkcharts.typepad.com/junk_charts/2019/11/how-to-read-this-cost-benefit-chart-and-why-it-is-so-confusing.html",
         "published": "2019-11-22T13:30:00Z",
         "reblogCount": 0,
         "renderedContent": "<p>Long-time reader Antonio R. found today&#39;s chart hard to follow, and he isn&#39;t alone. It took two of us multiple emails and some Web searching before we think we &quot;got it&quot;.</p>\r\n<p><a class=\"asset-img-link\" href=\"https://junkcharts.typepad.com/.a/6a00d8341e992c53ef0240a49fab3c200c-pi\" style=\"display: inline;\"><img alt=\"Ar_submit_Fig-3-2-The-policy-cost-curve-525\" class=\"asset  asset-image at-xid-6a00d8341e992c53ef0240a49fab3c200c img-responsive\" src=\"https://junkcharts.typepad.com/.a/6a00d8341e992c53ef0240a49fab3c200c-400wi\" style=\"width: 400px;\" title=\"Ar_submit_Fig-3-2-The-policy-cost-curve-525\" /></a></p>\r\n<p>&#0160;</p>\r\n<p>Antonio first encountered the chart in a book review (<a href=\"https://anoutsidechance.com/2019/03/06/designing-climate-solutions-review/\" title=\"Link to An Outside Chance\">link</a>) of Hal Harvey et. al, <em>Designing Climate Solutions</em>. It addresses the general topic of <strong>costs and benefits</strong> of various programs to abate CO2 emissions. The reviewer praised the &quot;wealth of graphics [in the book] which present complex information in visually effective formats.&quot; He presented the above chart as evidence, and described its function as:</p>\r\n<blockquote>\r\n<p>policy-makers can focus on the areas which make the most difference in emissions, while also being mindful of the cost issues that can be so important in getting political buy-in.</p>\r\n</blockquote>\r\n<p>(This description is much more informative than the original chart title, which states &quot;The policy cost curve shows the cost-effectiveness and emission reduction potential of different policies.&quot;)</p>\r\n<p>Spend a little time with the chart now before you read the discussion below.</p>\r\n<p>Warning: this is a long read but well worth it.</p>\r\n<p>&#0160;</p>\r\n<p>***</p>\r\n<p>&#0160;</p>\r\n<p>If your experience is anything like ours, scraps of information flew at you from different parts of the chart, and you had a hard time piecing together a story.</p>\r\n<p><strong>What are the reasons why this data graphic is so confusing?</strong></p>\r\n<p>Everyone recognizes that this is a <a href=\"https://junkcharts.typepad.com/junk_charts/bar_chart\" title=\"Posts about bar and column charts\">column chart</a>. For a column chart, we interpret the heights of the columns so we look first at the vertical axis. The axis title informs us that the height represents &quot;cost effectiveness&quot; measured in dollars per million metric tons of CO2. In a cost-benefit sense, that appears to mean the cost to society of obtaining the benefit of reducing CO2 by a given amount.</p>\r\n<p>That&#39;s how far I went before hitting the first roadblock.</p>\r\n<p>For environmental policies, opponents frequently object to the high price of implementation. For example, we can&#39;t have higher fuel efficiency in cars because it would raise the price of gasoline too much. <strong>Asking about cost-effectiveness makes sense: a cost-benefit trade-off analysis encapsulates the something-for-something principle.</strong> <strong>What doesn&#39;t follow is that the vertical scale sinks far into the negative</strong>. The chart depicts the majority of the emissions abatement programs as having <em>negative cost effectiveness</em>.</p>\r\n<p>What does it mean to be negatively cost-effective? Does it mean society saves money (makes a profit) while also reducing CO2 emissions? Wouldn&#39;t those policies - more than half of the programs shown - be slam dunks? Who can object to programs that improve the environment <em>at no cost</em>?</p>\r\n<p>I tabled that thought, and proceeded to the horizontal <a href=\"https://junkcharts.typepad.com/junk_charts/axis\" title=\"Posts about axes\">axis</a>.</p>\r\n<p>I noticed that this isn&#39;t a standard column chart, in which the width of the columns is fixed and uneventful. Here, the widths of the columns are varying.</p>\r\n<p>***</p>\r\n<p>In the meantime, my eyes are distracted by the constellation of <a href=\"https://junkcharts.typepad.com/junk_charts/text\" title=\"Posts about text annotation\">text</a> labels. The viewing area of this column chart is occupied - at least 50% - by text. These labels tell me that each column represents a program to reduce CO2 emissions.</p>\r\n<p>The dominance of text labels is a feature of this design. For a conventional <a href=\"https://anoutsidechance.com/2019/03/06/designing-climate-solutions-review/\">column chart</a>, the labels are situated below each column. Since the width does not usually carry any data, we tend to keep the columns narrow - Tufte, ever the minimalist, has even advocated reducing columns to vertical lines. That leaves insufficient room for long labels. Have you noticed that government programs hold long titles? It&#39;s tough to capture even the outline of a program with fewer than three big words, e.g. &quot;Renewable Portfolio Standard&quot; (what?).</p>\r\n<p>The design solution here is to let the column labels run horizontally. So the graphical element for each program is a vertical column coupled with a horizontal label that invades the territories of the next few programs. Like this:</p>\r\n<p><a class=\"asset-img-link\" href=\"https://junkcharts.typepad.com/.a/6a00d8341e992c53ef0240a49fc051200c-pi\" style=\"display: inline;\"><img alt=\"Redo_fueleconomystandardscars\" class=\"asset  asset-image at-xid-6a00d8341e992c53ef0240a49fc051200c img-responsive\" src=\"https://junkcharts.typepad.com/.a/6a00d8341e992c53ef0240a49fc051200c-350wi\" style=\"width: 350px;\" title=\"Redo_fueleconomystandardscars\" /></a></p>\r\n<p>The horror of this design constraint is fully realized in the following chart, a similar design produced for the state of Oregon (lifted from the Plan Washington webpage listed as a resource below):</p>\r\n<p><strong><a class=\"asset-img-link\" href=\"https://junkcharts.typepad.com/.a/6a00d8341e992c53ef0240a4c8dc0d200d-pi\" style=\"display: inline;\"><img alt=\"Figure 2 oregon greenhouse\" class=\"asset  asset-image at-xid-6a00d8341e992c53ef0240a4c8dc0d200d img-responsive\" src=\"https://junkcharts.typepad.com/.a/6a00d8341e992c53ef0240a4c8dc0d200d-450wi\" style=\"width: 450px;\" title=\"Figure 2 oregon greenhouse\" /></a></strong></p>\r\n<p>In a re-design, horizontal labeling should be a priority.</p>\r\n<p>&#0160;</p>\r\n<p>***</p>\r\n<p>Realizing that I&#39;ve been distracted by the text labels, back to the horizontal <a href=\"https://junkcharts.typepad.com/junk_charts/axis\" title=\"posts about axes\">axis</a> I went.</p>\r\n<p>This is where I encountered the next roadblock.</p>\r\n<p>The axis title says &quot;Average Annual Emissions Abatement&quot; measured in millions metric tons. The unit matches the second part of the vertical scale, which is comforting. But how does one reconcile the widths of columns with a continuous scale? I was expecting each program to have a projected annual abatement benefit, and those would fall as dots on a line, like this:</p>\r\n<p><a class=\"asset-img-link\" href=\"https://junkcharts.typepad.com/.a/6a00d8341e992c53ef0240a4ed9cec200b-pi\" style=\"display: inline;\"><img alt=\"Redo_abatement_benefit_dotplot\" class=\"asset  asset-image at-xid-6a00d8341e992c53ef0240a4ed9cec200b img-responsive\" src=\"https://junkcharts.typepad.com/.a/6a00d8341e992c53ef0240a4ed9cec200b-250wi\" style=\"width: 250px;\" title=\"Redo_abatement_benefit_dotplot\" /></a></p>\r\n<p>Instead, we have line segments sitting on a line, like this:</p>\r\n<p><a class=\"asset-img-link\" href=\"https://junkcharts.typepad.com/.a/6a00d8341e992c53ef0240a49fb9c9200c-pi\" style=\"display: inline;\"><img alt=\"Redo_abatement_benefit_bars_end2end_annuallabel\" class=\"asset  asset-image at-xid-6a00d8341e992c53ef0240a49fb9c9200c img-responsive\" src=\"https://junkcharts.typepad.com/.a/6a00d8341e992c53ef0240a49fb9c9200c-250wi\" style=\"width: 250px;\" title=\"Redo_abatement_benefit_bars_end2end_annuallabel\" /></a></p>\r\n<p>Think of these bars as the bottom edges of the columns. These line segments can be better compared to each other if structured as a <a href=\"https://junkcharts.typepad.com/junk_charts/bar_chart\" title=\"Posts about bar and column charts\">bar chart</a>:</p>\r\n<p><a class=\"asset-img-link\" href=\"https://junkcharts.typepad.com/.a/6a00d8341e992c53ef0240a4c8e758200d-pi\" style=\"display: inline;\"><img alt=\"Redo_abatement_benefit_bars\" class=\"asset  asset-image at-xid-6a00d8341e992c53ef0240a4c8e758200d img-responsive\" src=\"https://junkcharts.typepad.com/.a/6a00d8341e992c53ef0240a4c8e758200d-250wi\" style=\"width: 250px;\" title=\"Redo_abatement_benefit_bars\" /></a></p>\r\n<p>Instead, the design arranges these lines end-to-end.</p>\r\n<p>To unravel this mystery, we go back to the objective of the chart, as announced by the book reviewer. Here it is again:</p>\r\n<blockquote>\r\n<p>policy-makers can focus on the areas which make the most difference in emissions, while also being mindful of the cost issues that can be so important in getting political buy-in.</p>\r\n</blockquote>\r\n<p>The primary goal of the chart is a <strong>decision-making tool for policy-makers</strong> who are evaluating programs. Each program has a cost and also a benefit. The cost is shown on the vertical axis and the benefit is shown on the horizontal. The decision-maker will select some subset of these programs based on the cost-benefit analysis. That subset of programs will have a projected <em>total</em> expected benefit (CO2 abatement) and a projected total cost.</p>\r\n<p>By stacking the line segments end to end on top of the horizontal axis, the chart designer elevates the task of computing the <em>total</em> benefits of a subset of programs, relative to the task of learning the benefits of any individual program. Thus, the horizontal axis is better labeled &quot;Cumulative annual emissions abatement&quot;.</p>\r\n<p>&#0160;</p>\r\n<p>Look at that axis again. Imagine you are required to learn the specific benefit of program titled &quot;Fuel Economy Standards: Cars &amp; SUVs&quot;. &#0160;</p>\r\n<p><a class=\"asset-img-link\" href=\"https://junkcharts.typepad.com/.a/6a00d8341e992c53ef0240a49fc03d200c-pi\" style=\"display: inline;\"><img alt=\"Redo_abatement_benefit_bars_end2end_cumlabel\" class=\"asset  asset-image at-xid-6a00d8341e992c53ef0240a49fc03d200c img-responsive\" src=\"https://junkcharts.typepad.com/.a/6a00d8341e992c53ef0240a49fc03d200c-350wi\" style=\"width: 350px;\" title=\"Redo_abatement_benefit_bars_end2end_cumlabel\" /></a></p>\r\n<p>This is impossible to do without pulling out a ruler and a calculator. What the axis labels do tell us is that if all the programs to the left of Fuel Economy Standards: Cars &amp; SUVs were adopted, the cumulative benefits would be 285 million metric tons of CO2 per year. And if Fuel Economy Standards: Cars &amp; SUVs were also implemented, the cumulative benefits would rise to 375 million metric tons.</p>\r\n<p>***</p>\r\n<p>At long last, we have arrived at a reasonable interpretation of the cost-benefit chart.</p>\r\n<p>Policy-makers are considering throwing their support behind specific programs aimed at abating CO2 emissions. Different organizations have come up with different ways to achieve this goal. This goal may even have specific benchmarks; the government may have committed to an international agreement, for example, to reduce emissions by some set amount by 2030. Each candidate abatement program is evaluated on both cost and benefit dimensions. Benefit is given by the amount of CO2 abated. Cost is measured as a &quot;marginal cost,&quot; the amount of dollars required to achieve each million metric ton of abatement.</p>\r\n<p>This &quot;<strong>marginal abatement cost curve</strong>&quot; aids the decision-making. It lines up the programs from the most cost-effective to the least cost-effective. The decision-maker is presumed to prefer a more cost-effective program than a less cost-effective program. The chart answers the following question: for any given subset of programs (so long as we select them left to right contiguously), we can read off the cumulative amount of CO2 abated.</p>\r\n<p>***</p>\r\n<p>There are still more limitations of the chart design.</p>\r\n<ul>\r\n<li>We can&#39;t directly read off the cumulative cost of the selected subset of programs because the vertical axis is not cumulative. The cumulative cost turns out to be the <strong>total area</strong> of all the columns that correspond to the selected programs. (Area is height x width, which is cost per benefit multiplied by benefit, which leaves us with the cost.) Unfortunately, it takes rulers and calculators to compute this total area.<br /><br /></li>\r\n<li><strong>We have presumed that policy-makers will make the Go-No-go decision based on cost effectiveness alone</strong>. This point of view has already been contradicted. Remember the mystery around negatively cost-effective programs - their existence shows that some programs are stalled even when they reduce emissions in addition to making money!<br /><br /></li>\r\n<li>Since many, if not most, programs have negative cost-effectiveness (by the way they measured it), I&#39;d flip the metric over and call it profitability (or return on investment). Doing so removes another barrier to our understanding. With the current cost-effectiveness metric, policy-makers are selecting the &quot;negative&quot; programs before the &quot;positive&quot; programs. <strong>It makes more sense to select the &quot;positive&quot; programs before the &quot;negative&quot; ones!</strong></li>\r\n</ul>\r\n<p>***</p>\r\n<p>In a <strong>Trifecta Checkup </strong>(<a href=\"https://bitly.com/trifectacheckup\" title=\"Guide to Trifecta Checkup\">guide</a>), I rate this chart <strong>Type V</strong>. The chart has a great purpose, and the design reveals a keen sense of the decision-making process. It&#39;s not a data dump for sure. In addition, an impressive amount of data gathering and analysis - and synthesis - went into preparing the two data series required to construct the chart. (Sure, for something so subjective and speculative, the analysis methodology will inevitably be challenged by wonks.) Those two data series are reasonable measures for the stated purpose of the chart.</p>\r\n<p>The chart form, though, has various shortcomings, as shown here. &#0160;</p>\r\n<p>***</p>\r\n<p>In our email exchange, Antonio and I found the Plan Washington <a href=\"http://planwashington.org/blog/archive/understanding-carbon-reduction-marginal-abatement-cost-curves/\" title=\"Link to Plan Washington\">website</a> useful. This is where we learned that this chart is called the marginal abatement cost curve.</p>\r\n<p>Also, the consulting firm McKinsey is responsible for popularizing this chart form. They have published this long <a href=\"https://www.mckinsey.com/business-functions/sustainability/our-insights/reducing-us-greenhouse-gas-emissions\" title=\"link to Mckinsey\">report</a> that explains even more of the analysis behind constructing this chart, for those who want further details.</p>",
         "shortUrl": "http://bit.ly/2s8zool",
         "textFormat": "html",
         "title": "How to read this cost-benefit chart, and why it is so confusing",
         "urlId": "6a00d8341e992c53ef0240a49fab5e200c"
        }
       ],
       "totalResults": 1228
      },
      "text/plain": [
       "<IPython.core.display.JSON object>"
      ]
     },
     "execution_count": 16,
     "metadata": {
      "application/json": {
       "expanded": false,
       "root": "root"
      }
     },
     "output_type": "execute_result"
    }
   ],
   "source": [
    "JSON(r3.json())"
   ]
  },
  {
   "cell_type": "code",
   "execution_count": 17,
   "metadata": {},
   "outputs": [],
   "source": [
    "r4 = requests.get('https://api.typepad.com/blogs/6a00d8341e992c53ef00d8341e9a0553ef/post-assets.json')"
   ]
  },
  {
   "cell_type": "code",
   "execution_count": 18,
   "metadata": {},
   "outputs": [
    {
     "data": {
      "application/json": {
       "entries": [
        {
         "author": {
          "aboutMe": "Kaiser Fung, Author, Junk Charts, Numbersense, Numbers Rule Your World",
          "avatarLink": {
           "height": 250,
           "url": "https://static.typepad.com/.shared/default-userpics/03-250si.gif",
           "width": 250
          },
          "displayName": "junkcharts",
          "id": "tag:api.typepad.com,2009:6p00d8341e992c53ef",
          "interests": [
           "practical statistics",
           "data visualization",
           "business analytics",
           "bootcamp",
           "data science"
          ],
          "location": null,
          "objectType": "User",
          "objectTypes": [
           "tag:api.typepad.com,2009:User"
          ],
          "preferredUsername": "junkcharts",
          "profilePageUrl": "http://profile.typepad.com/junkcharts",
          "urlId": "6p00d8341e992c53ef"
         },
         "categories": [
          "Axis",
          "Bubble chart",
          "Business",
          "Comparability",
          "Current Affairs",
          "Design",
          "Economics",
          "Food and Drink",
          "Living",
          "Map",
          "Small multiples",
          "Sorting",
          "Specialty plots",
          "Time series",
          "Trifecta checkup",
          "WSJ"
         ],
         "commentCount": 0,
         "container": {
          "displayName": "Junk Charts",
          "homeUrl": "https://junkcharts.typepad.com/junk_charts/",
          "id": "tag:api.typepad.com,2009:6a00d8341e992c53ef00d8341e9a0553ef",
          "objectType": "Blog",
          "urlId": "6a00d8341e992c53ef00d8341e9a0553ef"
         },
         "content": "<p>A recent <a href=\"https://www.wsj.com/articles/roundup-ruled-the-farm-now-its-maker-has-a-challenger-11578328409\" title=\"Link to WSJ\">article</a> in the <em>Wall Street Journal</em> about a challenger to the dominant weedkiller, Roundup, contains a nice selection of graphics. (Dicamba is the up-and-comer.)</p>\r\n<p><a class=\"asset-img-link\" href=\"https://junkcharts.typepad.com/.a/6a00d8341e992c53ef0240a4b3c5c7200c-pi\" style=\"display: inline;\"><img alt=\"Wsj_roundup_img1\" class=\"asset  asset-image at-xid-6a00d8341e992c53ef0240a4b3c5c7200c img-responsive\" src=\"https://junkcharts.typepad.com/.a/6a00d8341e992c53ef0240a4b3c5c7200c-450wi\" style=\"width: 425px;\" title=\"Wsj_roundup_img1\" /></a><br /><br /><br /></p>\r\n<p>The change in usage of three brands of weedkillers is rendered as a <a href=\"https://junkcharts.typepad.com/junk_charts/small_multiples\" title=\"Posts about small multiples\">small-multiples</a> of choropleth <a href=\"https://junkcharts.typepad.com/junk_charts/map\" title=\"Posts about maps\">maps</a>. This graphic displays geographical and time changes simultaneously.</p>\r\n<p>The staircase chart shows weeds have become resistant to Roundup over time. This is considered a weakness in the Roundup business.</p>\r\n<p>***</p>\r\n<p>In this post, my focus is on the chart at the bottom, which shows complaints about Dicamba by state in 2019. This is a <a href=\"https://junkcharts.typepad.com/junk_charts/bubble_chart\" title=\"Posts about bubble charts\">bubble chart</a>, with the bubbles <a href=\"https://junkcharts.typepad.com/junk_charts/sorting\" title=\"Posts about order\">sorted</a> along the horizontal <a href=\"https://junkcharts.typepad.com/junk_charts/axis\" title=\"Posts about axes\">axis</a> by the acreage of farmland by state.</p>\r\n<p><a class=\"asset-img-link\" href=\"https://junkcharts.typepad.com/.a/6a00d8341e992c53ef0240a50194c5200b-pi\" style=\"display: inline;\"><img alt=\"Wsj_roundup_img2\" class=\"asset  asset-image at-xid-6a00d8341e992c53ef0240a50194c5200b img-responsive\" src=\"https://junkcharts.typepad.com/.a/6a00d8341e992c53ef0240a50194c5200b-450wi\" style=\"width: 425px;\" title=\"Wsj_roundup_img2\" /></a></p>\r\n<p>Below left is a more standard version of such a chart, in which the bubbles are allowed to overlap. (I only included the bubbles that were labeled in the original chart).</p>\r\n<p><a class=\"asset-img-link\" href=\"https://junkcharts.typepad.com/.a/6a00d8341e992c53ef0240a4b3c5f2200c-pi\" style=\"display: inline;\"><img alt=\"Redo_roundupwsj0\" class=\"asset  asset-image at-xid-6a00d8341e992c53ef0240a4b3c5f2200c img-responsive\" src=\"https://junkcharts.typepad.com/.a/6a00d8341e992c53ef0240a4b3c5f2200c-350wi\" style=\"width: 350px;\" title=\"Redo_roundupwsj0\" /></a></p>\r\n<p>The WSJ’s twist is to use the vertical spacing to avoid overlapping bubbles. The vertical <a href=\"https://junkcharts.typepad.com/junk_charts/axis\" title=\"Posts about axes\">axis</a> serves a design perogative and does not encode data. &#0160;</p>\r\n<p>I’m going to stick with the more traditional overlapping bubbles here – I’m getting to a different matter.</p>\r\n<p>***</p>\r\n<p>The <strong>question</strong> being addressed by this chart is: which states have the most serious Dicamba problem, as revealed by the frequency of complaints? The designer recognizes that the amount of farmland matters. One should expect <strong>the more acres, the more complaints</strong>.</p>\r\n<p>Let&#39;s consider computing directly the number of complaints per million acres.</p>\r\n<p>The resulting chart (shown below right) – while retaining the design – gives a wholly different feeling. Arkansas now owns the largest bubble even though it has the least acreage among the included states. The huge Illinois bubble is still large but is no longer a loner.</p>\r\n<p><a class=\"asset-img-link\" href=\"https://junkcharts.typepad.com/.a/6a00d8341e992c53ef0240a4b3c5cf200c-pi\" style=\"display: inline;\"><img alt=\"Redo_dicambacomplaints1\" class=\"asset  asset-image at-xid-6a00d8341e992c53ef0240a4b3c5cf200c img-responsive\" src=\"https://junkcharts.typepad.com/.a/6a00d8341e992c53ef0240a4b3c5cf200c-450wi\" style=\"width: 450px;\" title=\"Redo_dicambacomplaints1\" /></a></p>\r\n<p>Now return to the original design for a moment (the chart on the left). In theory, this should work in the following manner: if complaints grow purely as a function of acreage, then the bubbles should grow proportionally from left to right. The trouble is that <strong>proportional areas are not as easily detected as proportional lengths</strong>.</p>\r\n<p>The pair of charts below depict made-up data in which all states have 30 complaints for each million acres of farmland. It’s not intuitive that the bubbles on the left chart are growing proportionally.</p>\r\n<p><a class=\"asset-img-link\" href=\"https://junkcharts.typepad.com/.a/6a00d8341e992c53ef0240a4b3c650200c-pi\" style=\"display: inline;\"><img alt=\"Redo_dicambacomplaints2\" class=\"asset  asset-image at-xid-6a00d8341e992c53ef0240a4b3c650200c img-responsive\" src=\"https://junkcharts.typepad.com/.a/6a00d8341e992c53ef0240a4b3c650200c-450wi\" style=\"width: 450px;\" title=\"Redo_dicambacomplaints2\" /></a></p>\r\n<p>Now if you look at the right chart, which shows the relative metric of complaints per million acres, it’s impossible not to notice that all bubbles are the same size.</p>",
         "description": "Kaiser Fung considers proportional bubble sizes in the context of Wall Street Journal's chart about an emerging competitor of Roundup weedkiller.",
         "embeddedAudioLinks": [],
         "embeddedImageLinks": [
          {
           "height": 1016,
           "url": "https://a7.typepad.com/6a00d8341e992c53ef0240a4b3c5c7200c-pi",
           "urlTemplate": "https://a7.typepad.com/6a00d8341e992c53ef0240a4b3c5c7200c-{spec}",
           "width": 1446
          },
          {
           "height": 638,
           "url": "https://a5.typepad.com/6a00d8341e992c53ef0240a50194c5200b-pi",
           "urlTemplate": "https://a5.typepad.com/6a00d8341e992c53ef0240a50194c5200b-{spec}",
           "width": 1452
          },
          {
           "height": 820,
           "url": "https://a2.typepad.com/6a00d8341e992c53ef0240a4b3c5f2200c-pi",
           "urlTemplate": "https://a2.typepad.com/6a00d8341e992c53ef0240a4b3c5f2200c-{spec}",
           "width": 1048
          },
          {
           "height": 796,
           "url": "https://a7.typepad.com/6a00d8341e992c53ef0240a4b3c5cf200c-pi",
           "urlTemplate": "https://a7.typepad.com/6a00d8341e992c53ef0240a4b3c5cf200c-{spec}",
           "width": 1710
          },
          {
           "height": 786,
           "url": "https://a0.typepad.com/6a00d8341e992c53ef0240a4b3c650200c-pi",
           "urlTemplate": "https://a0.typepad.com/6a00d8341e992c53ef0240a4b3c650200c-{spec}",
           "width": 1714
          }
         ],
         "embeddedVideoLinks": [],
         "excerpt": "Kaiser Fung considers proportional bubble sizes in the context of Wall Street Journal's chart about an emerging competitor of Roundup weedkiller.",
         "favoriteCount": 0,
         "filename": "bubble-charts-ratios-and-proportionality",
         "groups": [],
         "hasExtendedContent": false,
         "id": "tag:api.typepad.com,2009:6a00d8341e992c53ef0240a501959b200b",
         "objectType": "Post",
         "objectTypes": [
          "tag:api.typepad.com,2009:Post"
         ],
         "permalinkUrl": "https://junkcharts.typepad.com/junk_charts/2020/01/bubble-charts-ratios-and-proportionality.html",
         "published": "2020-01-13T13:21:00Z",
         "reblogCount": 0,
         "renderedContent": "<p>A recent <a href=\"https://www.wsj.com/articles/roundup-ruled-the-farm-now-its-maker-has-a-challenger-11578328409\" title=\"Link to WSJ\">article</a> in the <em>Wall Street Journal</em> about a challenger to the dominant weedkiller, Roundup, contains a nice selection of graphics. (Dicamba is the up-and-comer.)</p>\r\n<p><a class=\"asset-img-link\" href=\"https://junkcharts.typepad.com/.a/6a00d8341e992c53ef0240a4b3c5c7200c-pi\" style=\"display: inline;\"><img alt=\"Wsj_roundup_img1\" class=\"asset  asset-image at-xid-6a00d8341e992c53ef0240a4b3c5c7200c img-responsive\" src=\"https://junkcharts.typepad.com/.a/6a00d8341e992c53ef0240a4b3c5c7200c-450wi\" style=\"width: 425px;\" title=\"Wsj_roundup_img1\" /></a><br /><br /><br /></p>\r\n<p>The change in usage of three brands of weedkillers is rendered as a <a href=\"https://junkcharts.typepad.com/junk_charts/small_multiples\" title=\"Posts about small multiples\">small-multiples</a> of choropleth <a href=\"https://junkcharts.typepad.com/junk_charts/map\" title=\"Posts about maps\">maps</a>. This graphic displays geographical and time changes simultaneously.</p>\r\n<p>The staircase chart shows weeds have become resistant to Roundup over time. This is considered a weakness in the Roundup business.</p>\r\n<p>***</p>\r\n<p>In this post, my focus is on the chart at the bottom, which shows complaints about Dicamba by state in 2019. This is a <a href=\"https://junkcharts.typepad.com/junk_charts/bubble_chart\" title=\"Posts about bubble charts\">bubble chart</a>, with the bubbles <a href=\"https://junkcharts.typepad.com/junk_charts/sorting\" title=\"Posts about order\">sorted</a> along the horizontal <a href=\"https://junkcharts.typepad.com/junk_charts/axis\" title=\"Posts about axes\">axis</a> by the acreage of farmland by state.</p>\r\n<p><a class=\"asset-img-link\" href=\"https://junkcharts.typepad.com/.a/6a00d8341e992c53ef0240a50194c5200b-pi\" style=\"display: inline;\"><img alt=\"Wsj_roundup_img2\" class=\"asset  asset-image at-xid-6a00d8341e992c53ef0240a50194c5200b img-responsive\" src=\"https://junkcharts.typepad.com/.a/6a00d8341e992c53ef0240a50194c5200b-450wi\" style=\"width: 425px;\" title=\"Wsj_roundup_img2\" /></a></p>\r\n<p>Below left is a more standard version of such a chart, in which the bubbles are allowed to overlap. (I only included the bubbles that were labeled in the original chart).</p>\r\n<p><a class=\"asset-img-link\" href=\"https://junkcharts.typepad.com/.a/6a00d8341e992c53ef0240a4b3c5f2200c-pi\" style=\"display: inline;\"><img alt=\"Redo_roundupwsj0\" class=\"asset  asset-image at-xid-6a00d8341e992c53ef0240a4b3c5f2200c img-responsive\" src=\"https://junkcharts.typepad.com/.a/6a00d8341e992c53ef0240a4b3c5f2200c-350wi\" style=\"width: 350px;\" title=\"Redo_roundupwsj0\" /></a></p>\r\n<p>The WSJ’s twist is to use the vertical spacing to avoid overlapping bubbles. The vertical <a href=\"https://junkcharts.typepad.com/junk_charts/axis\" title=\"Posts about axes\">axis</a> serves a design perogative and does not encode data. &#0160;</p>\r\n<p>I’m going to stick with the more traditional overlapping bubbles here – I’m getting to a different matter.</p>\r\n<p>***</p>\r\n<p>The <strong>question</strong> being addressed by this chart is: which states have the most serious Dicamba problem, as revealed by the frequency of complaints? The designer recognizes that the amount of farmland matters. One should expect <strong>the more acres, the more complaints</strong>.</p>\r\n<p>Let&#39;s consider computing directly the number of complaints per million acres.</p>\r\n<p>The resulting chart (shown below right) – while retaining the design – gives a wholly different feeling. Arkansas now owns the largest bubble even though it has the least acreage among the included states. The huge Illinois bubble is still large but is no longer a loner.</p>\r\n<p><a class=\"asset-img-link\" href=\"https://junkcharts.typepad.com/.a/6a00d8341e992c53ef0240a4b3c5cf200c-pi\" style=\"display: inline;\"><img alt=\"Redo_dicambacomplaints1\" class=\"asset  asset-image at-xid-6a00d8341e992c53ef0240a4b3c5cf200c img-responsive\" src=\"https://junkcharts.typepad.com/.a/6a00d8341e992c53ef0240a4b3c5cf200c-450wi\" style=\"width: 450px;\" title=\"Redo_dicambacomplaints1\" /></a></p>\r\n<p>Now return to the original design for a moment (the chart on the left). In theory, this should work in the following manner: if complaints grow purely as a function of acreage, then the bubbles should grow proportionally from left to right. The trouble is that <strong>proportional areas are not as easily detected as proportional lengths</strong>.</p>\r\n<p>The pair of charts below depict made-up data in which all states have 30 complaints for each million acres of farmland. It’s not intuitive that the bubbles on the left chart are growing proportionally.</p>\r\n<p><a class=\"asset-img-link\" href=\"https://junkcharts.typepad.com/.a/6a00d8341e992c53ef0240a4b3c650200c-pi\" style=\"display: inline;\"><img alt=\"Redo_dicambacomplaints2\" class=\"asset  asset-image at-xid-6a00d8341e992c53ef0240a4b3c650200c img-responsive\" src=\"https://junkcharts.typepad.com/.a/6a00d8341e992c53ef0240a4b3c650200c-450wi\" style=\"width: 450px;\" title=\"Redo_dicambacomplaints2\" /></a></p>\r\n<p>Now if you look at the right chart, which shows the relative metric of complaints per million acres, it’s impossible not to notice that all bubbles are the same size.</p>",
         "shortUrl": "http://bit.ly/30eSExg",
         "textFormat": "html",
         "title": "Bubble charts, ratios and proportionality",
         "urlId": "6a00d8341e992c53ef0240a501959b200b"
        },
        {
         "author": {
          "aboutMe": "Kaiser Fung, Author, Junk Charts, Numbersense, Numbers Rule Your World",
          "avatarLink": {
           "height": 250,
           "url": "https://static.typepad.com/.shared/default-userpics/03-250si.gif",
           "width": 250
          },
          "displayName": "junkcharts",
          "id": "tag:api.typepad.com,2009:6p00d8341e992c53ef",
          "interests": [
           "practical statistics",
           "data visualization",
           "business analytics",
           "bootcamp",
           "data science"
          ],
          "location": null,
          "objectType": "User",
          "objectTypes": [
           "tag:api.typepad.com,2009:User"
          ],
          "preferredUsername": "junkcharts",
          "profilePageUrl": "http://profile.typepad.com/junkcharts",
          "urlId": "6p00d8341e992c53ef"
         },
         "categories": [
          "Bar chart",
          "Business",
          "Color",
          "Economics",
          "Economist",
          "Food and Drink",
          "Hierarchy",
          "Legend",
          "Sorting"
         ],
         "commentCount": 2,
         "container": {
          "displayName": "Junk Charts",
          "homeUrl": "https://junkcharts.typepad.com/junk_charts/",
          "id": "tag:api.typepad.com,2009:6a00d8341e992c53ef00d8341e9a0553ef",
          "objectType": "Blog",
          "urlId": "6a00d8341e992c53ef00d8341e9a0553ef"
         },
         "content": "<p>Happy new year! Good luck and best wishes!</p>\r\n<p>***</p>\r\n<p>We&#39;ll start 2020 with something lighter. On a recent flight, I saw a chart in <a href=\"https://junkcharts.typepad.com/junk_charts/economist\" title=\"Posts about Economist charts\">The Economist</a> that shows the proportion of operating income derived from overseas markets by major grocery chains - the headline said that some of these chains are withdrawing from international markets.</p>\r\n<p><a class=\"asset-img-link\" href=\"https://junkcharts.typepad.com/.a/6a00d8341e992c53ef0240a4dabe0b200d-pi\" style=\"display: inline;\"><img alt=\"Econ_internationalgroceries_sm\" class=\"asset  asset-image at-xid-6a00d8341e992c53ef0240a4dabe0b200d img-responsive\" src=\"https://junkcharts.typepad.com/.a/6a00d8341e992c53ef0240a4dabe0b200d-350wi\" style=\"width: 350px;\" title=\"Econ_internationalgroceries_sm\" /></a></p>\r\n<p>The designer used one <a href=\"https://junkcharts.typepad.com/junk_charts/color\" title=\"Posts about colors\">color</a> for each grocery chain, and two shades within each color. The <a href=\"https://junkcharts.typepad.com/junk_charts/legend\" title=\"Posts about legend\">legend</a> describes the shades as &quot;total&quot; and &quot;of which: overseas&quot;. As with all stacked <a href=\"https://junkcharts.typepad.com/junk_charts/bar_chart\" title=\"Posts about bar charts\">bar charts</a>, it&#39;s a bit confusing where to find the data. The &quot;total&quot; is actually the entire bar, not just the darker shaded part. The darker shaded part is better labeled &quot;home market&quot; as shown below:</p>\r\n<p><a class=\"asset-img-link\" href=\"https://junkcharts.typepad.com/.a/6a00d8341e992c53ef0240a4ff3768200b-pi\" style=\"display: inline;\"><img alt=\"Redo_econgroceriesintl_1\" class=\"asset  asset-image at-xid-6a00d8341e992c53ef0240a4ff3768200b img-responsive\" src=\"https://junkcharts.typepad.com/.a/6a00d8341e992c53ef0240a4ff3768200b-350wi\" style=\"width: 350px;\" title=\"Redo_econgroceriesintl_1\" /></a></p>\r\n<p>The designer&#39;s instinct to bring out the importance of international markets to each company&#39;s income is well placed. A second small edit helps: plot the international income amounts first, so they line up with the vertical zero axis. Like this:</p>\r\n<p><a class=\"asset-img-link\" href=\"https://junkcharts.typepad.com/.a/6a00d8341e992c53ef0240a4da947b200d-pi\" style=\"display: inline;\"><img alt=\"Redo_econgroceriesintl_2\" class=\"asset  asset-image at-xid-6a00d8341e992c53ef0240a4da947b200d img-responsive\" src=\"https://junkcharts.typepad.com/.a/6a00d8341e992c53ef0240a4da947b200d-350wi\" style=\"width: 350px;\" title=\"Redo_econgroceriesintl_2\" /></a></p>\r\n<p>This is essentially the same chart. The order of international and home market is reversed. I also reversed the shading, so that the international share of income is displayed darker. This shading draws the readers&#39; attention to the key message of the chart.</p>\r\n<p>A stacked bar chart of the absolute dollar amounts is not ideal for showing proportions, because each bar is a different length. Sometimes, plotting relative values summing to 100% for each company may work better.</p>\r\n<p>As it stands, the chart above calls attention to a different message: that Walmart dwarfs the other three global chains. Just the international income of Walmart is larger than the total income of Costco.</p>\r\n<p>***</p>\r\n<p>Please comment below or write me directly if you have ideas for this blog as we enter a new decade. What do you want to see more of? less of?</p>",
         "description": "Kaiser (Junkcharts, Principal Analytics Prep) makes small edits to an Economist chart about income share of major global grocery chains.",
         "embeddedAudioLinks": [],
         "embeddedImageLinks": [
          {
           "height": 292,
           "url": "https://a3.typepad.com/6a00d8341e992c53ef0240a4dabe0b200d-pi",
           "urlTemplate": "https://a3.typepad.com/6a00d8341e992c53ef0240a4dabe0b200d-{spec}",
           "width": 500
          },
          {
           "height": 710,
           "url": "https://a0.typepad.com/6a00d8341e992c53ef0240a4ff3768200b-pi",
           "urlTemplate": "https://a0.typepad.com/6a00d8341e992c53ef0240a4ff3768200b-{spec}",
           "width": 1138
          },
          {
           "height": 696,
           "url": "https://a3.typepad.com/6a00d8341e992c53ef0240a4da947b200d-pi",
           "urlTemplate": "https://a3.typepad.com/6a00d8341e992c53ef0240a4da947b200d-{spec}",
           "width": 1068
          }
         ],
         "embeddedVideoLinks": [],
         "excerpt": "Kaiser (Junkcharts, Principal Analytics Prep) makes small edits to an Economist chart about income share of major global grocery chains.",
         "favoriteCount": 0,
         "filename": "taking-small-steps-to-bring-out-the-message",
         "groups": [],
         "hasExtendedContent": false,
         "id": "tag:api.typepad.com,2009:6a00d8341e992c53ef0240a4ff3891200b",
         "objectType": "Post",
         "objectTypes": [
          "tag:api.typepad.com,2009:Post"
         ],
         "permalinkUrl": "https://junkcharts.typepad.com/junk_charts/2020/01/taking-small-steps-to-bring-out-the-message.html",
         "published": "2020-01-06T16:48:00Z",
         "reblogCount": 0,
         "renderedContent": "<p>Happy new year! Good luck and best wishes!</p>\r\n<p>***</p>\r\n<p>We&#39;ll start 2020 with something lighter. On a recent flight, I saw a chart in <a href=\"https://junkcharts.typepad.com/junk_charts/economist\" title=\"Posts about Economist charts\">The Economist</a> that shows the proportion of operating income derived from overseas markets by major grocery chains - the headline said that some of these chains are withdrawing from international markets.</p>\r\n<p><a class=\"asset-img-link\" href=\"https://junkcharts.typepad.com/.a/6a00d8341e992c53ef0240a4dabe0b200d-pi\" style=\"display: inline;\"><img alt=\"Econ_internationalgroceries_sm\" class=\"asset  asset-image at-xid-6a00d8341e992c53ef0240a4dabe0b200d img-responsive\" src=\"https://junkcharts.typepad.com/.a/6a00d8341e992c53ef0240a4dabe0b200d-350wi\" style=\"width: 350px;\" title=\"Econ_internationalgroceries_sm\" /></a></p>\r\n<p>The designer used one <a href=\"https://junkcharts.typepad.com/junk_charts/color\" title=\"Posts about colors\">color</a> for each grocery chain, and two shades within each color. The <a href=\"https://junkcharts.typepad.com/junk_charts/legend\" title=\"Posts about legend\">legend</a> describes the shades as &quot;total&quot; and &quot;of which: overseas&quot;. As with all stacked <a href=\"https://junkcharts.typepad.com/junk_charts/bar_chart\" title=\"Posts about bar charts\">bar charts</a>, it&#39;s a bit confusing where to find the data. The &quot;total&quot; is actually the entire bar, not just the darker shaded part. The darker shaded part is better labeled &quot;home market&quot; as shown below:</p>\r\n<p><a class=\"asset-img-link\" href=\"https://junkcharts.typepad.com/.a/6a00d8341e992c53ef0240a4ff3768200b-pi\" style=\"display: inline;\"><img alt=\"Redo_econgroceriesintl_1\" class=\"asset  asset-image at-xid-6a00d8341e992c53ef0240a4ff3768200b img-responsive\" src=\"https://junkcharts.typepad.com/.a/6a00d8341e992c53ef0240a4ff3768200b-350wi\" style=\"width: 350px;\" title=\"Redo_econgroceriesintl_1\" /></a></p>\r\n<p>The designer&#39;s instinct to bring out the importance of international markets to each company&#39;s income is well placed. A second small edit helps: plot the international income amounts first, so they line up with the vertical zero axis. Like this:</p>\r\n<p><a class=\"asset-img-link\" href=\"https://junkcharts.typepad.com/.a/6a00d8341e992c53ef0240a4da947b200d-pi\" style=\"display: inline;\"><img alt=\"Redo_econgroceriesintl_2\" class=\"asset  asset-image at-xid-6a00d8341e992c53ef0240a4da947b200d img-responsive\" src=\"https://junkcharts.typepad.com/.a/6a00d8341e992c53ef0240a4da947b200d-350wi\" style=\"width: 350px;\" title=\"Redo_econgroceriesintl_2\" /></a></p>\r\n<p>This is essentially the same chart. The order of international and home market is reversed. I also reversed the shading, so that the international share of income is displayed darker. This shading draws the readers&#39; attention to the key message of the chart.</p>\r\n<p>A stacked bar chart of the absolute dollar amounts is not ideal for showing proportions, because each bar is a different length. Sometimes, plotting relative values summing to 100% for each company may work better.</p>\r\n<p>As it stands, the chart above calls attention to a different message: that Walmart dwarfs the other three global chains. Just the international income of Walmart is larger than the total income of Costco.</p>\r\n<p>***</p>\r\n<p>Please comment below or write me directly if you have ideas for this blog as we enter a new decade. What do you want to see more of? less of?</p>",
         "shortUrl": "http://bit.ly/2QPkoo6",
         "textFormat": "html",
         "title": "Taking small steps to bring out the message",
         "urlId": "6a00d8341e992c53ef0240a4ff3891200b"
        },
        {
         "author": {
          "aboutMe": "Kaiser Fung, Author, Junk Charts, Numbersense, Numbers Rule Your World",
          "avatarLink": {
           "height": 250,
           "url": "https://static.typepad.com/.shared/default-userpics/03-250si.gif",
           "width": 250
          },
          "displayName": "junkcharts",
          "id": "tag:api.typepad.com,2009:6p00d8341e992c53ef",
          "interests": [
           "practical statistics",
           "data visualization",
           "business analytics",
           "bootcamp",
           "data science"
          ],
          "location": null,
          "objectType": "User",
          "objectTypes": [
           "tag:api.typepad.com,2009:User"
          ],
          "preferredUsername": "junkcharts",
          "profilePageUrl": "http://profile.typepad.com/junkcharts",
          "urlId": "6p00d8341e992c53ef"
         },
         "categories": [
          "Comparability",
          "Dot plot",
          "Economics",
          "Medicine",
          "NYT",
          "Outlier",
          "Text",
          "Trifecta checkup",
          "United Kingdom",
          "Variance"
         ],
         "commentCount": 3,
         "container": {
          "displayName": "Junk Charts",
          "homeUrl": "https://junkcharts.typepad.com/junk_charts/",
          "id": "tag:api.typepad.com,2009:6a00d8341e992c53ef00d8341e9a0553ef",
          "objectType": "Blog",
          "urlId": "6a00d8341e992c53ef00d8341e9a0553ef"
         },
         "content": "<p><a class=\"asset-img-link\" href=\"https://junkcharts.typepad.com/.a/6a00d8341e992c53ef0240a4d83a0d200d-pi\" style=\"display: inline;\"><img alt=\"Nyt_medicalprocedureprices\" class=\"asset  asset-image at-xid-6a00d8341e992c53ef0240a4d83a0d200d img-responsive\" src=\"https://junkcharts.typepad.com/.a/6a00d8341e992c53ef0240a4d83a0d200d-350wi\" style=\"width: 350px;\" title=\"Nyt_medicalprocedureprices\" /></a></p>\r\n<p>A former student asked me about this chart from the <a href=\"https://junkcharts.typepad.com/junk_charts/nyt\" title=\"Posts about NYT graphics\">New York Times</a> that highlights much higher prices of hospital procedures in the U.S. relative to a comparison group of seven countries.</p>\r\n<p>The <a href=\"https://junkcharts.typepad.com/junk_charts/dot_plot\" title=\"Posts about dot plots\">dot plot</a> is clearly thought through. It is not a default chart that pops out of software.</p>\r\n<p>Based on its design, we surmise that the designer has the following intentions:</p>\r\n<ol>\r\n<li>The names of the medical procedures are printed to be read, thus the long text is placed horizontally.<br /><br /></li>\r\n<li>The actual price is not as important as the <strong>relative price</strong>, expressed as an<strong> index with the U.S. price at 100%</strong>. These reference values are printed in glaring red, unignorable.<br /><br /></li>\r\n<li>Notwithstanding the above point, the actual price is still of secondary importance, and the values are provided as a supplement to the row labels. Getting to the actual prices in the comparison countries requires further effort, and a calculator.<br /><br /></li>\r\n<li>The primary comparison is between the U.S. and the rest of the world (or the group of seven countries included). It is less important to distinguish specific countries in the comparison group, and thus the non-U.S. dots are given pastels that take some effort to differentiate.<br /><br /></li>\r\n<li>Probably due to reader feedback, the font size is subject to a minimum so that some labels are split into two lines to prevent the text from dominating the plotting region.</li>\r\n</ol>\r\n<p>***</p>\r\n<p>In the <strong>Trifecta Checkup</strong> <a href=\"https://bitly.com/trifectacheckup\" title=\"Guide to Trifecta Checkup\">view</a> of the world, there is no single best design. The best design depends on the intended message and what’s in the available data.</p>\r\n<p>To illustate this, I will present a few variants of the above design, and discuss how these alternative designs reflect the designer&#39;s intentions.</p>\r\n<p>Note that in all my charts, I expressed the relative price in terms of discounts, which is the mirror image of premiums. Instead of saying Country A&#39;s price is 80% of the U.S. price, I prefer to say Country A&#39;s price is a 20% saving (or discount) off the U.S. price.</p>\r\n<p>First up is the following chart that emphasizes countries instead of hospital procedures:</p>\r\n<p><a class=\"asset-img-link\" href=\"https://junkcharts.typepad.com/.a/6a00d8341e992c53ef0240a4d83b66200d-pi\" style=\"display: inline;\"><img alt=\"Redo_medicalprice_hor_dot\" class=\"asset  asset-image at-xid-6a00d8341e992c53ef0240a4d83b66200d img-responsive\" src=\"https://junkcharts.typepad.com/.a/6a00d8341e992c53ef0240a4d83b66200d-350wi\" style=\"width: 350px;\" title=\"Redo_medicalprice_hor_dot\" /></a></p>\r\n<p>This chart encourages readers to draw conclusions such as &quot;Hospital prices are 60-80 percent cheaper in Holland relative to the U.S.&quot; But it is more taxing to compare the cost of a specific procedure across countries.</p>\r\n<p>The indexing strategy already creates a barrier to understanding relative costs of a specific procedure. For example, the value for angioplasty in Australia is about 55% and in Switzerland, about 75%. The difference 75%-55% is meaningless because both numbers are relative savings from the U.S. baseline. Comparing Australia and Switzerland requires a ratio (0.75/0.55 = 1.36): Australia&#39;s prices are 36% above Swiss prices, or alternatively, Swiss prices are a<span style=\"text-decoration: line-through;\"> 64%</span> 26% discount off Australia&#39;s prices.</p>\r\n<p>The following design takes it even further, excluding details of individual procedures:</p>\r\n<p><a class=\"asset-img-link\" href=\"https://junkcharts.typepad.com/.a/6a00d8341e992c53ef0240a4d83b62200d-pi\" style=\"display: inline;\"><img alt=\"Redo_medicalprice_hor_bar\" class=\"asset  asset-image at-xid-6a00d8341e992c53ef0240a4d83b62200d img-responsive\" src=\"https://junkcharts.typepad.com/.a/6a00d8341e992c53ef0240a4d83b62200d-350wi\" style=\"width: 350px;\" title=\"Redo_medicalprice_hor_bar\" /></a></p>\r\n<p>For some readers, less is more. It’s even easier to get a rough estimate of how much cheaper prices are in the comparison countries, for now, except for two “outliers”, the chart does not display individual values.</p>\r\n<p>The widths of these bars reveal that in some countries, the amount of savings depends on the specific procedures.</p>\r\n<p>The <a href=\"https://junkcharts.typepad.com/junk_charts/bar_chart\" title=\"Posts about bar charts\">bar</a> design releases the designer from a horizontal orientation. The country labels are shorter and can be placed at the bottom in a vertical design:</p>\r\n<p><a class=\"asset-img-link\" href=\"https://junkcharts.typepad.com/.a/6a00d8341e992c53ef0240a4d83bbf200d-pi\" style=\"display: inline;\"><img alt=\"Redo_medicalprice_vert_bar\" class=\"asset  asset-image at-xid-6a00d8341e992c53ef0240a4d83bbf200d img-responsive\" src=\"https://junkcharts.typepad.com/.a/6a00d8341e992c53ef0240a4d83bbf200d-350wi\" style=\"width: 350px;\" title=\"Redo_medicalprice_vert_bar\" /></a></p>\r\n<p>It&#39;s not that one design is obviously superior to the others. Each version does some things better. A good designer recognizes the strengths and weaknesses of each design, and selects one to fulfil his/her intentions.</p>\r\n<p>&#0160;</p>\r\n<p>P.S. [1/3/20] Corrected a computation, explained in Ken&#39;s comment.</p>",
         "description": "In the last post of 2019, Kaiser Fung considers different versions of a chart on U.S. hospital prices relative to other countries, discussing how designers make choices based on their intentions.",
         "embeddedAudioLinks": [],
         "embeddedImageLinks": [
          {
           "height": 421,
           "url": "https://a5.typepad.com/6a00d8341e992c53ef0240a4d83a0d200d-pi",
           "urlTemplate": "https://a5.typepad.com/6a00d8341e992c53ef0240a4d83a0d200d-{spec}",
           "width": 414
          },
          {
           "height": 1044,
           "url": "https://a6.typepad.com/6a00d8341e992c53ef0240a4d83b66200d-pi",
           "urlTemplate": "https://a6.typepad.com/6a00d8341e992c53ef0240a4d83b66200d-{spec}",
           "width": 1354
          },
          {
           "height": 1054,
           "url": "https://a2.typepad.com/6a00d8341e992c53ef0240a4d83b62200d-pi",
           "urlTemplate": "https://a2.typepad.com/6a00d8341e992c53ef0240a4d83b62200d-{spec}",
           "width": 1178
          },
          {
           "height": 1080,
           "url": "https://a7.typepad.com/6a00d8341e992c53ef0240a4d83bbf200d-pi",
           "urlTemplate": "https://a7.typepad.com/6a00d8341e992c53ef0240a4d83bbf200d-{spec}",
           "width": 1162
          }
         ],
         "embeddedVideoLinks": [],
         "excerpt": "In the last post of 2019, Kaiser Fung considers different versions of a chart on U.S. hospital prices relative to other countries, discussing how designers make choices based on their intentions.",
         "favoriteCount": 0,
         "filename": "all-these-charts-lament-the-high-prices-charged-by-us-hospitals",
         "groups": [],
         "hasExtendedContent": false,
         "id": "tag:api.typepad.com,2009:6a00d8341e992c53ef0240a4af1482200c",
         "objectType": "Post",
         "objectTypes": [
          "tag:api.typepad.com,2009:Post"
         ],
         "permalinkUrl": "https://junkcharts.typepad.com/junk_charts/2019/12/all-these-charts-lament-the-high-prices-charged-by-us-hospitals.html",
         "published": "2019-12-31T17:00:00Z",
         "reblogCount": 0,
         "renderedContent": "<p><a class=\"asset-img-link\" href=\"https://junkcharts.typepad.com/.a/6a00d8341e992c53ef0240a4d83a0d200d-pi\" style=\"display: inline;\"><img alt=\"Nyt_medicalprocedureprices\" class=\"asset  asset-image at-xid-6a00d8341e992c53ef0240a4d83a0d200d img-responsive\" src=\"https://junkcharts.typepad.com/.a/6a00d8341e992c53ef0240a4d83a0d200d-350wi\" style=\"width: 350px;\" title=\"Nyt_medicalprocedureprices\" /></a></p>\r\n<p>A former student asked me about this chart from the <a href=\"https://junkcharts.typepad.com/junk_charts/nyt\" title=\"Posts about NYT graphics\">New York Times</a> that highlights much higher prices of hospital procedures in the U.S. relative to a comparison group of seven countries.</p>\r\n<p>The <a href=\"https://junkcharts.typepad.com/junk_charts/dot_plot\" title=\"Posts about dot plots\">dot plot</a> is clearly thought through. It is not a default chart that pops out of software.</p>\r\n<p>Based on its design, we surmise that the designer has the following intentions:</p>\r\n<ol>\r\n<li>The names of the medical procedures are printed to be read, thus the long text is placed horizontally.<br /><br /></li>\r\n<li>The actual price is not as important as the <strong>relative price</strong>, expressed as an<strong> index with the U.S. price at 100%</strong>. These reference values are printed in glaring red, unignorable.<br /><br /></li>\r\n<li>Notwithstanding the above point, the actual price is still of secondary importance, and the values are provided as a supplement to the row labels. Getting to the actual prices in the comparison countries requires further effort, and a calculator.<br /><br /></li>\r\n<li>The primary comparison is between the U.S. and the rest of the world (or the group of seven countries included). It is less important to distinguish specific countries in the comparison group, and thus the non-U.S. dots are given pastels that take some effort to differentiate.<br /><br /></li>\r\n<li>Probably due to reader feedback, the font size is subject to a minimum so that some labels are split into two lines to prevent the text from dominating the plotting region.</li>\r\n</ol>\r\n<p>***</p>\r\n<p>In the <strong>Trifecta Checkup</strong> <a href=\"https://bitly.com/trifectacheckup\" title=\"Guide to Trifecta Checkup\">view</a> of the world, there is no single best design. The best design depends on the intended message and what’s in the available data.</p>\r\n<p>To illustate this, I will present a few variants of the above design, and discuss how these alternative designs reflect the designer&#39;s intentions.</p>\r\n<p>Note that in all my charts, I expressed the relative price in terms of discounts, which is the mirror image of premiums. Instead of saying Country A&#39;s price is 80% of the U.S. price, I prefer to say Country A&#39;s price is a 20% saving (or discount) off the U.S. price.</p>\r\n<p>First up is the following chart that emphasizes countries instead of hospital procedures:</p>\r\n<p><a class=\"asset-img-link\" href=\"https://junkcharts.typepad.com/.a/6a00d8341e992c53ef0240a4d83b66200d-pi\" style=\"display: inline;\"><img alt=\"Redo_medicalprice_hor_dot\" class=\"asset  asset-image at-xid-6a00d8341e992c53ef0240a4d83b66200d img-responsive\" src=\"https://junkcharts.typepad.com/.a/6a00d8341e992c53ef0240a4d83b66200d-350wi\" style=\"width: 350px;\" title=\"Redo_medicalprice_hor_dot\" /></a></p>\r\n<p>This chart encourages readers to draw conclusions such as &quot;Hospital prices are 60-80 percent cheaper in Holland relative to the U.S.&quot; But it is more taxing to compare the cost of a specific procedure across countries.</p>\r\n<p>The indexing strategy already creates a barrier to understanding relative costs of a specific procedure. For example, the value for angioplasty in Australia is about 55% and in Switzerland, about 75%. The difference 75%-55% is meaningless because both numbers are relative savings from the U.S. baseline. Comparing Australia and Switzerland requires a ratio (0.75/0.55 = 1.36): Australia&#39;s prices are 36% above Swiss prices, or alternatively, Swiss prices are a<span style=\"text-decoration: line-through;\"> 64%</span> 26% discount off Australia&#39;s prices.</p>\r\n<p>The following design takes it even further, excluding details of individual procedures:</p>\r\n<p><a class=\"asset-img-link\" href=\"https://junkcharts.typepad.com/.a/6a00d8341e992c53ef0240a4d83b62200d-pi\" style=\"display: inline;\"><img alt=\"Redo_medicalprice_hor_bar\" class=\"asset  asset-image at-xid-6a00d8341e992c53ef0240a4d83b62200d img-responsive\" src=\"https://junkcharts.typepad.com/.a/6a00d8341e992c53ef0240a4d83b62200d-350wi\" style=\"width: 350px;\" title=\"Redo_medicalprice_hor_bar\" /></a></p>\r\n<p>For some readers, less is more. It’s even easier to get a rough estimate of how much cheaper prices are in the comparison countries, for now, except for two “outliers”, the chart does not display individual values.</p>\r\n<p>The widths of these bars reveal that in some countries, the amount of savings depends on the specific procedures.</p>\r\n<p>The <a href=\"https://junkcharts.typepad.com/junk_charts/bar_chart\" title=\"Posts about bar charts\">bar</a> design releases the designer from a horizontal orientation. The country labels are shorter and can be placed at the bottom in a vertical design:</p>\r\n<p><a class=\"asset-img-link\" href=\"https://junkcharts.typepad.com/.a/6a00d8341e992c53ef0240a4d83bbf200d-pi\" style=\"display: inline;\"><img alt=\"Redo_medicalprice_vert_bar\" class=\"asset  asset-image at-xid-6a00d8341e992c53ef0240a4d83bbf200d img-responsive\" src=\"https://junkcharts.typepad.com/.a/6a00d8341e992c53ef0240a4d83bbf200d-350wi\" style=\"width: 350px;\" title=\"Redo_medicalprice_vert_bar\" /></a></p>\r\n<p>It&#39;s not that one design is obviously superior to the others. Each version does some things better. A good designer recognizes the strengths and weaknesses of each design, and selects one to fulfil his/her intentions.</p>\r\n<p>&#0160;</p>\r\n<p>P.S. [1/3/20] Corrected a computation, explained in Ken&#39;s comment.</p>",
         "shortUrl": "http://bit.ly/39pAxsF",
         "textFormat": "html",
         "title": "All these charts lament the high prices charged by U.S. hospitals",
         "urlId": "6a00d8341e992c53ef0240a4af1482200c"
        },
        {
         "author": {
          "aboutMe": "Kaiser Fung, Author, Junk Charts, Numbersense, Numbers Rule Your World",
          "avatarLink": {
           "height": 250,
           "url": "https://static.typepad.com/.shared/default-userpics/03-250si.gif",
           "width": 250
          },
          "displayName": "junkcharts",
          "id": "tag:api.typepad.com,2009:6p00d8341e992c53ef",
          "interests": [
           "practical statistics",
           "data visualization",
           "business analytics",
           "bootcamp",
           "data science"
          ],
          "location": null,
          "objectType": "User",
          "objectTypes": [
           "tag:api.typepad.com,2009:User"
          ],
          "preferredUsername": "junkcharts",
          "profilePageUrl": "http://profile.typepad.com/junkcharts",
          "urlId": "6p00d8341e992c53ef"
         },
         "categories": [
          "Data",
          "Design",
          "Interactive",
          "Text",
          "Trifecta checkup"
         ],
         "commentCount": 0,
         "container": {
          "displayName": "Junk Charts",
          "homeUrl": "https://junkcharts.typepad.com/junk_charts/",
          "id": "tag:api.typepad.com,2009:6a00d8341e992c53ef00d8341e9a0553ef",
          "objectType": "Blog",
          "urlId": "6a00d8341e992c53ef00d8341e9a0553ef"
         },
         "content": "<p>In response to the reader who left a comment asking for ideas for improving the &quot;marginal abatements chart&quot; that was discussed <a href=\"https://junkcharts.typepad.com/junk_charts/2019/11/how-to-read-this-cost-benefit-chart-and-why-it-is-so-confusing.html\" title=\"Link to prior post\">here</a>, I thought it might be helpful to lay out the process I go through when conceptualizing a chart. (Just a reminder, here is the chart we&#39;re dealing with.)</p>\r\n<p><a class=\"asset-img-link\" href=\"https://junkcharts.typepad.com/.a/6a00d8341e992c53ef0240a4aa4129200c-pi\" style=\"display: inline;\"><img alt=\"Ar_submit_Fig-3-2-The-policy-cost-curve-525\" class=\"asset  asset-image at-xid-6a00d8341e992c53ef0240a4aa4129200c img-responsive\" src=\"https://junkcharts.typepad.com/.a/6a00d8341e992c53ef0240a4aa4129200c-350wi\" style=\"width: 350px;\" title=\"Ar_submit_Fig-3-2-The-policy-cost-curve-525\" /></a></p>\r\n<p>First, I&#39;m very concerned about the long program names. I see their proper placement in a horizontal orientation as a <strong>hard constraint</strong> on the design. I&#39;d reject every design that displays the <a href=\"https://junkcharts.typepad.com/junk_charts/text\" title=\"Posts about text\">text</a> vertically, at an angle, or hides it behind some hover effect, or abbreviates or abridges the text.</p>\r\n<p>Second, I strongly suggest re-thinking the &quot;cost-effectiveness&quot; metric on the vertical axis. Flipping the sign of this metric makes a return-on-investment-type metric, which is much more intuitive. Just to reiterate a prior point, it feels odd to be selecting more negative projects before more positive projects.</p>\r\n<p>Third, I&#39;d like to decide what metrics to place on the two axes. There are three main possibilities: a) benefits (that is, the average annual emissions abatement shown on the horizontal axis currently), b) costs, and c) some function that ties together costs and benefits (currently, this design uses cost per unit benefit, and calls it cost effectivness but there are a variety of similar metrics that can be defined).</p>\r\n<p>For each of these metrics, there is a secondary choice. I can use the by-project value or the cumulative value. The cumulative value is dependent on a selection order, in this case, determined by the criterion of selecting from the most cost-effective program to the least (regardless of project size or any other criteria).</p>\r\n<p>This is where I&#39;d bring in the <strong>Trifecta Checkup</strong> framework (see <a href=\"https://bitly.com/trifectacheckup\" title=\"Guide to Trifecta Checkup Junkcharts\">here</a> for a guide).</p>\r\n<p><a class=\"asset-img-link\" href=\"https://junkcharts.typepad.com/.a/6a00d8341e992c53ef0240a4aa4160200c-pi\" style=\"display: inline;\"><img alt=\"Trifectacheckup_junkcharts_image\" class=\"asset  asset-image at-xid-6a00d8341e992c53ef0240a4aa4160200c img-responsive\" src=\"https://junkcharts.typepad.com/.a/6a00d8341e992c53ef0240a4aa4160200c-250wi\" style=\"width: 250px;\" title=\"Trifectacheckup_junkcharts_image\" /></a><br />The decision of which metrics to use on the axes means I&#39;m operating in the &quot;D&quot; corner. But this decision must be made with respect to the &quot;Q&quot; corner, thus the green arrow between the two. Which two metrics are the most relevant depends on what we want the chart to accomplish. That in turn depends on the audience and what specific question we are addressing for them.</p>\r\n<p>Fourth, if the purpose of the chart is exploratory - that is to say, we use it to guide decision-makers in choosing a subset of programs, then I would want to introduce an element of <a href=\"https://junkcharts.typepad.com/junk_charts/interactive\" title=\"posts about interactive charts\">interactivity</a>. Imagine an interface that allows the user to move programs in and out of the chart, while the chart updates itself to compute the total costs and total benefits.</p>\r\n<p>This last point ties together the entire <strong>Trifacta Checkup</strong> framework (<a href=\"https://bitly.com/trifectacheckup\" title=\"Guide to Trifecta Checkup Junkcharts\">link</a>). The <strong>Question</strong> being exploratory in nature suggests a certain way of organizing and analyzing the <strong>Data</strong> as well as a <strong>Visual</strong> form that facilitates interacting with the information.</p>\r\n<p>&#0160;</p>\r\n<p>&#0160;</p>",
         "description": "Kaiser uses the Trifecta Checkup framework to re-conceptualize a cost-benefit analysis graphic for policy-makers",
         "embeddedAudioLinks": [],
         "embeddedImageLinks": [
          {
           "height": 769,
           "url": "https://a1.typepad.com/6a00d8341e992c53ef0240a4aa4129200c-pi",
           "urlTemplate": "https://a1.typepad.com/6a00d8341e992c53ef0240a4aa4129200c-{spec}",
           "width": 525
          },
          {
           "height": 888,
           "url": "https://a0.typepad.com/6a00d8341e992c53ef0240a4aa4160200c-pi",
           "urlTemplate": "https://a0.typepad.com/6a00d8341e992c53ef0240a4aa4160200c-{spec}",
           "width": 938
          }
         ],
         "embeddedVideoLinks": [],
         "excerpt": "Kaiser uses the Trifecta Checkup framework to re-conceptualize a cost-benefit analysis graphic for policy-makers",
         "favoriteCount": 0,
         "filename": "conceptualizing-a-chart-using-trifecta-a-practical-example",
         "groups": [],
         "hasExtendedContent": false,
         "id": "tag:api.typepad.com,2009:6a00d8341e992c53ef0240a4f80f7e200b",
         "objectType": "Post",
         "objectTypes": [
          "tag:api.typepad.com,2009:Post"
         ],
         "permalinkUrl": "https://junkcharts.typepad.com/junk_charts/2019/12/conceptualizing-a-chart-using-trifecta-a-practical-example.html",
         "published": "2019-12-17T17:15:00Z",
         "reblogCount": 0,
         "renderedContent": "<p>In response to the reader who left a comment asking for ideas for improving the &quot;marginal abatements chart&quot; that was discussed <a href=\"https://junkcharts.typepad.com/junk_charts/2019/11/how-to-read-this-cost-benefit-chart-and-why-it-is-so-confusing.html\" title=\"Link to prior post\">here</a>, I thought it might be helpful to lay out the process I go through when conceptualizing a chart. (Just a reminder, here is the chart we&#39;re dealing with.)</p>\r\n<p><a class=\"asset-img-link\" href=\"https://junkcharts.typepad.com/.a/6a00d8341e992c53ef0240a4aa4129200c-pi\" style=\"display: inline;\"><img alt=\"Ar_submit_Fig-3-2-The-policy-cost-curve-525\" class=\"asset  asset-image at-xid-6a00d8341e992c53ef0240a4aa4129200c img-responsive\" src=\"https://junkcharts.typepad.com/.a/6a00d8341e992c53ef0240a4aa4129200c-350wi\" style=\"width: 350px;\" title=\"Ar_submit_Fig-3-2-The-policy-cost-curve-525\" /></a></p>\r\n<p>First, I&#39;m very concerned about the long program names. I see their proper placement in a horizontal orientation as a <strong>hard constraint</strong> on the design. I&#39;d reject every design that displays the <a href=\"https://junkcharts.typepad.com/junk_charts/text\" title=\"Posts about text\">text</a> vertically, at an angle, or hides it behind some hover effect, or abbreviates or abridges the text.</p>\r\n<p>Second, I strongly suggest re-thinking the &quot;cost-effectiveness&quot; metric on the vertical axis. Flipping the sign of this metric makes a return-on-investment-type metric, which is much more intuitive. Just to reiterate a prior point, it feels odd to be selecting more negative projects before more positive projects.</p>\r\n<p>Third, I&#39;d like to decide what metrics to place on the two axes. There are three main possibilities: a) benefits (that is, the average annual emissions abatement shown on the horizontal axis currently), b) costs, and c) some function that ties together costs and benefits (currently, this design uses cost per unit benefit, and calls it cost effectivness but there are a variety of similar metrics that can be defined).</p>\r\n<p>For each of these metrics, there is a secondary choice. I can use the by-project value or the cumulative value. The cumulative value is dependent on a selection order, in this case, determined by the criterion of selecting from the most cost-effective program to the least (regardless of project size or any other criteria).</p>\r\n<p>This is where I&#39;d bring in the <strong>Trifecta Checkup</strong> framework (see <a href=\"https://bitly.com/trifectacheckup\" title=\"Guide to Trifecta Checkup Junkcharts\">here</a> for a guide).</p>\r\n<p><a class=\"asset-img-link\" href=\"https://junkcharts.typepad.com/.a/6a00d8341e992c53ef0240a4aa4160200c-pi\" style=\"display: inline;\"><img alt=\"Trifectacheckup_junkcharts_image\" class=\"asset  asset-image at-xid-6a00d8341e992c53ef0240a4aa4160200c img-responsive\" src=\"https://junkcharts.typepad.com/.a/6a00d8341e992c53ef0240a4aa4160200c-250wi\" style=\"width: 250px;\" title=\"Trifectacheckup_junkcharts_image\" /></a><br />The decision of which metrics to use on the axes means I&#39;m operating in the &quot;D&quot; corner. But this decision must be made with respect to the &quot;Q&quot; corner, thus the green arrow between the two. Which two metrics are the most relevant depends on what we want the chart to accomplish. That in turn depends on the audience and what specific question we are addressing for them.</p>\r\n<p>Fourth, if the purpose of the chart is exploratory - that is to say, we use it to guide decision-makers in choosing a subset of programs, then I would want to introduce an element of <a href=\"https://junkcharts.typepad.com/junk_charts/interactive\" title=\"posts about interactive charts\">interactivity</a>. Imagine an interface that allows the user to move programs in and out of the chart, while the chart updates itself to compute the total costs and total benefits.</p>\r\n<p>This last point ties together the entire <strong>Trifacta Checkup</strong> framework (<a href=\"https://bitly.com/trifectacheckup\" title=\"Guide to Trifecta Checkup Junkcharts\">link</a>). The <strong>Question</strong> being exploratory in nature suggests a certain way of organizing and analyzing the <strong>Data</strong> as well as a <strong>Visual</strong> form that facilitates interacting with the information.</p>\r\n<p>&#0160;</p>\r\n<p>&#0160;</p>",
         "shortUrl": "http://bit.ly/36NNI4O",
         "textFormat": "html",
         "title": "Conceptualizing a chart using Trifecta: a practical example",
         "urlId": "6a00d8341e992c53ef0240a4f80f7e200b"
        },
        {
         "author": {
          "aboutMe": "Kaiser Fung, Author, Junk Charts, Numbersense, Numbers Rule Your World",
          "avatarLink": {
           "height": 250,
           "url": "https://static.typepad.com/.shared/default-userpics/03-250si.gif",
           "width": 250
          },
          "displayName": "junkcharts",
          "id": "tag:api.typepad.com,2009:6p00d8341e992c53ef",
          "interests": [
           "practical statistics",
           "data visualization",
           "business analytics",
           "bootcamp",
           "data science"
          ],
          "location": null,
          "objectType": "User",
          "objectTypes": [
           "tag:api.typepad.com,2009:User"
          ],
          "preferredUsername": "junkcharts",
          "profilePageUrl": "http://profile.typepad.com/junkcharts",
          "urlId": "6p00d8341e992c53ef"
         },
         "categories": [
          "Business",
          "Comparability",
          "Dot plot",
          "Economics",
          "Time series",
          "Travel"
         ],
         "commentCount": 0,
         "container": {
          "displayName": "Junk Charts",
          "homeUrl": "https://junkcharts.typepad.com/junk_charts/",
          "id": "tag:api.typepad.com,2009:6a00d8341e992c53ef00d8341e9a0553ef",
          "objectType": "Blog",
          "urlId": "6a00d8341e992c53ef00d8341e9a0553ef"
         },
         "content": "<p>We looked at the following chart in the previous <a href=\"https://junkcharts.typepad.com/junk_charts/2019/12/this-excel-chart-looks-standard-but-gets-everything-wrong.html\" title=\"Link to previous blog\">blog</a>. The data concern the growth rates of car sales in different regions of the world over time.</p>\r\n<p><a class=\"asset-img-link\" href=\"https://junkcharts.typepad.com/.a/6a00d8341e992c53ef0240a4f2b210200b-pi\" style=\"display: inline;\"><img alt=\"Cnbc zh global car sales \" class=\"asset  asset-image at-xid-6a00d8341e992c53ef0240a4f2b210200b img-responsive\" src=\"https://junkcharts.typepad.com/.a/6a00d8341e992c53ef0240a4f2b210200b-350wi\" style=\"width: 350px;\" title=\"Cnbc zh global car sales \" /></a></p>\r\n<p>Here is a different visualization of the same data.</p>\r\n<p><a class=\"asset-img-link\" href=\"https://junkcharts.typepad.com/.a/6a00d8341e992c53ef0240a4ce079c200d-pi\" style=\"display: inline;\"><img alt=\"Redo_cnbc_globalcarsales\" class=\"asset  asset-image at-xid-6a00d8341e992c53ef0240a4ce079c200d img-responsive\" src=\"https://junkcharts.typepad.com/.a/6a00d8341e992c53ef0240a4ce079c200d-350wi\" style=\"width: 350px;\" title=\"Redo_cnbc_globalcarsales\" /></a></p>\r\n<p>Well, it&#39;s not quite the same data. I divided the global average growth rate by four to yield an approximation of the true global average. (The reason for this is explained in the other day&#39;s <a href=\"https://junkcharts.typepad.com/junk_charts/2019/12/this-excel-chart-looks-standard-but-gets-everything-wrong.html\" title=\"Link to previous blog\">post</a>.)</p>\r\n<p>The chart emphasizes how each region was helping or hurting the global growth. It also features the trend in growth within each region.</p>\r\n<p>&#0160;</p>",
         "description": "Kaiser Fung (Junk Charts, Principal Analytics Prep) presents a new visualization of the global car sales data. ",
         "embeddedAudioLinks": [],
         "embeddedImageLinks": [
          {
           "height": 375,
           "url": "https://a0.typepad.com/6a00d8341e992c53ef0240a4f2b210200b-pi",
           "urlTemplate": "https://a0.typepad.com/6a00d8341e992c53ef0240a4f2b210200b-{spec}",
           "width": 517
          },
          {
           "height": 1168,
           "url": "https://a4.typepad.com/6a00d8341e992c53ef0240a4ce079c200d-pi",
           "urlTemplate": "https://a4.typepad.com/6a00d8341e992c53ef0240a4ce079c200d-{spec}",
           "width": 1274
          }
         ],
         "embeddedVideoLinks": [],
         "excerpt": "Kaiser Fung (Junk Charts, Principal Analytics Prep) presents a new visualization of the global car sales data. ",
         "favoriteCount": 0,
         "filename": "revisiting-global-car-sales",
         "groups": [],
         "hasExtendedContent": false,
         "id": "tag:api.typepad.com,2009:6a00d8341e992c53ef0240a4a4dc01200c",
         "objectType": "Post",
         "objectTypes": [
          "tag:api.typepad.com,2009:Post"
         ],
         "permalinkUrl": "https://junkcharts.typepad.com/junk_charts/2019/12/revisiting-global-car-sales.html",
         "published": "2019-12-04T13:36:00Z",
         "reblogCount": 0,
         "renderedContent": "<p>We looked at the following chart in the previous <a href=\"https://junkcharts.typepad.com/junk_charts/2019/12/this-excel-chart-looks-standard-but-gets-everything-wrong.html\" title=\"Link to previous blog\">blog</a>. The data concern the growth rates of car sales in different regions of the world over time.</p>\r\n<p><a class=\"asset-img-link\" href=\"https://junkcharts.typepad.com/.a/6a00d8341e992c53ef0240a4f2b210200b-pi\" style=\"display: inline;\"><img alt=\"Cnbc zh global car sales \" class=\"asset  asset-image at-xid-6a00d8341e992c53ef0240a4f2b210200b img-responsive\" src=\"https://junkcharts.typepad.com/.a/6a00d8341e992c53ef0240a4f2b210200b-350wi\" style=\"width: 350px;\" title=\"Cnbc zh global car sales \" /></a></p>\r\n<p>Here is a different visualization of the same data.</p>\r\n<p><a class=\"asset-img-link\" href=\"https://junkcharts.typepad.com/.a/6a00d8341e992c53ef0240a4ce079c200d-pi\" style=\"display: inline;\"><img alt=\"Redo_cnbc_globalcarsales\" class=\"asset  asset-image at-xid-6a00d8341e992c53ef0240a4ce079c200d img-responsive\" src=\"https://junkcharts.typepad.com/.a/6a00d8341e992c53ef0240a4ce079c200d-350wi\" style=\"width: 350px;\" title=\"Redo_cnbc_globalcarsales\" /></a></p>\r\n<p>Well, it&#39;s not quite the same data. I divided the global average growth rate by four to yield an approximation of the true global average. (The reason for this is explained in the other day&#39;s <a href=\"https://junkcharts.typepad.com/junk_charts/2019/12/this-excel-chart-looks-standard-but-gets-everything-wrong.html\" title=\"Link to previous blog\">post</a>.)</p>\r\n<p>The chart emphasizes how each region was helping or hurting the global growth. It also features the trend in growth within each region.</p>\r\n<p>&#0160;</p>",
         "shortUrl": "http://bit.ly/2OPpktp",
         "textFormat": "html",
         "title": "Revisiting global car sales",
         "urlId": "6a00d8341e992c53ef0240a4a4dc01200c"
        },
        {
         "author": {
          "aboutMe": "Kaiser Fung, Author, Junk Charts, Numbersense, Numbers Rule Your World",
          "avatarLink": {
           "height": 250,
           "url": "https://static.typepad.com/.shared/default-userpics/03-250si.gif",
           "width": 250
          },
          "displayName": "junkcharts",
          "id": "tag:api.typepad.com,2009:6p00d8341e992c53ef",
          "interests": [
           "practical statistics",
           "data visualization",
           "business analytics",
           "bootcamp",
           "data science"
          ],
          "location": null,
          "objectType": "User",
          "objectTypes": [
           "tag:api.typepad.com,2009:User"
          ],
          "preferredUsername": "junkcharts",
          "profilePageUrl": "http://profile.typepad.com/junkcharts",
          "urlId": "6p00d8341e992c53ef"
         },
         "categories": [
          "Aggregation",
          "Axis",
          "Bar chart",
          "Business",
          "Comparability",
          "Compound plots",
          "Current Affairs",
          "Economics",
          "Legend",
          "Line chart",
          "Living",
          "Time series",
          "Tools",
          "Travel"
         ],
         "commentCount": 6,
         "container": {
          "displayName": "Junk Charts",
          "homeUrl": "https://junkcharts.typepad.com/junk_charts/",
          "id": "tag:api.typepad.com,2009:6a00d8341e992c53ef00d8341e9a0553ef",
          "objectType": "Blog",
          "urlId": "6a00d8341e992c53ef00d8341e9a0553ef"
         },
         "content": "<p>The following CNBC chart (<a href=\"https://www.cnbc.com/2019/11/25/global-car-sales-expected-to-slide-by-3point1-million-this-year-in-biggest-drop-since-recession.html\" title=\"Link to CNBC\">link</a>) shows the trend of global car sales by region (or so we think).</p>\r\n<p><a class=\"asset-img-link\" href=\"https://junkcharts.typepad.com/.a/6a00d8341e992c53ef0240a4cd155c200d-pi\" style=\"display: inline;\"><img alt=\"Cnbc zh global car sales \" class=\"asset  asset-image at-xid-6a00d8341e992c53ef0240a4cd155c200d img-responsive\" src=\"https://junkcharts.typepad.com/.a/6a00d8341e992c53ef0240a4cd155c200d-350wi\" style=\"width: 350px;\" title=\"Cnbc zh global car sales \" /></a></p>\r\n<p>This type of chart is quite common in finance/business circles, and has the fingerprint of Excel. After examining it, I nominate it for the Hall of Shame.</p>\r\n<p>***</p>\r\n<p>The chart has three major components vying for our attention: (1) the stacked <a href=\"https://junkcharts.typepad.com/junk_charts/bar_chart\" title=\"Posts about bar charts\">columns</a>, (2) the yellow <a href=\"https://junkcharts.typepad.com/junk_charts/line_chart\" title=\"Posts about line charts\">line</a>, and (3) the big red dashed arrow.</p>\r\n<p>The easiest to interpret is the yellow line, which is labeled &quot;Total&quot; in the <a href=\"https://junkcharts.typepad.com/junk_charts/legend\" title=\"Posts about legend\">legend</a>. It displays the annual growth rate of car sales around the globe. The data consist of annual percentage changes in car sales, so the slope of the yellow line represents a change of change, which is not particularly useful.</p>\r\n<p>The big red arrow is making the point that the projected decline in global car sales in 2019 will return the world to the slowdown of 2008-9 after almost a decade of growth.</p>\r\n<p>The stacked <a href=\"https://junkcharts.typepad.com/junk_charts/bar_chart\" title=\"Posts about column charts\">columns</a> appear to provide a breakdown of the global growth rate by region. Looked at carefully, you&#39;ll soon learn that the visual form has hopelessly mangled the data.</p>\r\n<p><a class=\"asset-img-link\" href=\"https://junkcharts.typepad.com/.a/6a00d8341e992c53ef0240a4cd15b4200d-pi\" style=\"float: left;\"><img alt=\"Cnbc_globalcarsales_2006\" class=\"asset  asset-image at-xid-6a00d8341e992c53ef0240a4cd15b4200d img-responsive\" src=\"https://junkcharts.typepad.com/.a/6a00d8341e992c53ef0240a4cd15b4200d-150wi\" style=\"width: 150px; margin: 0px 5px 5px 0px; border: 4px solid #FFFFFF;\" title=\"Cnbc_globalcarsales_2006\" /></a></p>\r\n<p>What is the growth rate for Chinese car sales in 2006? Is it 2.5%, the top edge of China&#39;s part of the column? Between 1.5% and 2.5%, the extant of China&#39;s section? The answer is neither. Because of the stacking, China&#39;s growth rate is actually the height of the relevant section, that is to say, 1 percent. So the labels on the vertical <a href=\"https://junkcharts.typepad.com/junk_charts/axis\" title=\"Posts about axis\">axis</a> are not directly useful to learning regional growth rates for most sections of the chart.</p>\r\n<p>Can we read the vertical axis as global growth rate? That&#39;s not proper either. The different markets are not equal in size so growth rates cannot be <a href=\"https://junkcharts.typepad.com/junk_charts/aggregation\" title=\"Posts about aggregation\">aggregated</a> by simple summing - they must be weighted by relative size.</p>\r\n<p>The negative growth rates present another problem. Even if we agree to sum growth rates ignoring relative market sizes, we still can&#39;t get directly to the global growth rate. We would have to take the total of the positive rates and subtract the total of the negative rates. &#0160;</p>\r\n<p>***</p>\r\n<p>At this point, you may begin to question everything you thought you knew about this chart. Remember the yellow line, which we thought measures the global growth rate. Take a look at the 2006 column again.</p>\r\n<p>The global growth rate is depicted as 2 percent. And yet every region experienced growth rates below 2 percent! No matter how you aggregate the regions, it&#39;s not possible for the world average to be larger than the value of each region.</p>\r\n<p>For 2006, the regional growth rates are: China, 1%; Rest of the World, 1%; Western Europe, 0.1%; United States, -0.25%. A simple sum of those four rates yields 2%, which is shown on the yellow line.</p>\r\n<p>But this number must be divided by four. If we give the four regions equal weight, each is worth a quarter of the total. So the overall average is the sum of each growth rate weighted by 1/4, which is 0.5%. [In reality, the weights of each region should be scaled to reflect its market size.]</p>\r\n<p>***</p>\r\n<p>tldr; The stacked <a href=\"https://junkcharts.typepad.com/junk_charts/bar_chart\" title=\"Posts about column charts\">column chart</a> with a line overlay not only fails to communicate the contents of the car sales data but it also leads to misinterpretation.</p>\r\n<p>I discussed several serious problems of this chart form:&#0160;</p>\r\n<ul>\r\n<li>stacking the columns make it hard to learn the regional data<br /><br /></li>\r\n<li>the trend by region takes a super effort to decipher<br /><br /></li>\r\n<li>column stacking promotes reading meaning into the height of the column but the total height is meaningless (because of the negative section) while the net height (positive minus negative) also misleads due to presumptive equal weighting<br /><br /></li>\r\n<li>the yellow line shows the sum of the regional data, which is four times the global growth rate that it purports to represent</li>\r\n</ul>\r\n<p>&#0160;</p>\r\n<p>***</p>\r\n<p>PS. [12/4/2019: New <a href=\"https://junkcharts.typepad.com/junk_charts/2019/12/this-excel-chart-looks-standard-but-gets-everything-wrong.html\" title=\"Link to next post\">post</a> up with a different visualization.]</p>",
         "description": "Kaiser Fung (Junkcharts, Principal Analytics Prep) explains why the stacked column chart showing global car sales fails to communicate the underlying data. ",
         "embeddedAudioLinks": [],
         "embeddedImageLinks": [
          {
           "height": 375,
           "url": "https://a4.typepad.com/6a00d8341e992c53ef0240a4cd155c200d-pi",
           "urlTemplate": "https://a4.typepad.com/6a00d8341e992c53ef0240a4cd155c200d-{spec}",
           "width": 517
          },
          {
           "height": 816,
           "url": "https://a4.typepad.com/6a00d8341e992c53ef0240a4cd15b4200d-pi",
           "urlTemplate": "https://a4.typepad.com/6a00d8341e992c53ef0240a4cd15b4200d-{spec}",
           "width": 362
          }
         ],
         "embeddedVideoLinks": [],
         "excerpt": "Kaiser Fung (Junkcharts, Principal Analytics Prep) explains why the stacked column chart showing global car sales fails to communicate the underlying data. ",
         "favoriteCount": 0,
         "filename": "this-excel-chart-looks-standard-but-gets-everything-wrong",
         "groups": [],
         "hasExtendedContent": false,
         "id": "tag:api.typepad.com,2009:6a00d8341e992c53ef0240a4cd161e200d",
         "objectType": "Post",
         "objectTypes": [
          "tag:api.typepad.com,2009:Post"
         ],
         "permalinkUrl": "https://junkcharts.typepad.com/junk_charts/2019/12/this-excel-chart-looks-standard-but-gets-everything-wrong.html",
         "published": "2019-12-02T13:53:00Z",
         "reblogCount": 0,
         "renderedContent": "<p>The following CNBC chart (<a href=\"https://www.cnbc.com/2019/11/25/global-car-sales-expected-to-slide-by-3point1-million-this-year-in-biggest-drop-since-recession.html\" title=\"Link to CNBC\">link</a>) shows the trend of global car sales by region (or so we think).</p>\r\n<p><a class=\"asset-img-link\" href=\"https://junkcharts.typepad.com/.a/6a00d8341e992c53ef0240a4cd155c200d-pi\" style=\"display: inline;\"><img alt=\"Cnbc zh global car sales \" class=\"asset  asset-image at-xid-6a00d8341e992c53ef0240a4cd155c200d img-responsive\" src=\"https://junkcharts.typepad.com/.a/6a00d8341e992c53ef0240a4cd155c200d-350wi\" style=\"width: 350px;\" title=\"Cnbc zh global car sales \" /></a></p>\r\n<p>This type of chart is quite common in finance/business circles, and has the fingerprint of Excel. After examining it, I nominate it for the Hall of Shame.</p>\r\n<p>***</p>\r\n<p>The chart has three major components vying for our attention: (1) the stacked <a href=\"https://junkcharts.typepad.com/junk_charts/bar_chart\" title=\"Posts about bar charts\">columns</a>, (2) the yellow <a href=\"https://junkcharts.typepad.com/junk_charts/line_chart\" title=\"Posts about line charts\">line</a>, and (3) the big red dashed arrow.</p>\r\n<p>The easiest to interpret is the yellow line, which is labeled &quot;Total&quot; in the <a href=\"https://junkcharts.typepad.com/junk_charts/legend\" title=\"Posts about legend\">legend</a>. It displays the annual growth rate of car sales around the globe. The data consist of annual percentage changes in car sales, so the slope of the yellow line represents a change of change, which is not particularly useful.</p>\r\n<p>The big red arrow is making the point that the projected decline in global car sales in 2019 will return the world to the slowdown of 2008-9 after almost a decade of growth.</p>\r\n<p>The stacked <a href=\"https://junkcharts.typepad.com/junk_charts/bar_chart\" title=\"Posts about column charts\">columns</a> appear to provide a breakdown of the global growth rate by region. Looked at carefully, you&#39;ll soon learn that the visual form has hopelessly mangled the data.</p>\r\n<p><a class=\"asset-img-link\" href=\"https://junkcharts.typepad.com/.a/6a00d8341e992c53ef0240a4cd15b4200d-pi\" style=\"float: left;\"><img alt=\"Cnbc_globalcarsales_2006\" class=\"asset  asset-image at-xid-6a00d8341e992c53ef0240a4cd15b4200d img-responsive\" src=\"https://junkcharts.typepad.com/.a/6a00d8341e992c53ef0240a4cd15b4200d-150wi\" style=\"width: 150px; margin: 0px 5px 5px 0px; border: 4px solid #FFFFFF;\" title=\"Cnbc_globalcarsales_2006\" /></a></p>\r\n<p>What is the growth rate for Chinese car sales in 2006? Is it 2.5%, the top edge of China&#39;s part of the column? Between 1.5% and 2.5%, the extant of China&#39;s section? The answer is neither. Because of the stacking, China&#39;s growth rate is actually the height of the relevant section, that is to say, 1 percent. So the labels on the vertical <a href=\"https://junkcharts.typepad.com/junk_charts/axis\" title=\"Posts about axis\">axis</a> are not directly useful to learning regional growth rates for most sections of the chart.</p>\r\n<p>Can we read the vertical axis as global growth rate? That&#39;s not proper either. The different markets are not equal in size so growth rates cannot be <a href=\"https://junkcharts.typepad.com/junk_charts/aggregation\" title=\"Posts about aggregation\">aggregated</a> by simple summing - they must be weighted by relative size.</p>\r\n<p>The negative growth rates present another problem. Even if we agree to sum growth rates ignoring relative market sizes, we still can&#39;t get directly to the global growth rate. We would have to take the total of the positive rates and subtract the total of the negative rates. &#0160;</p>\r\n<p>***</p>\r\n<p>At this point, you may begin to question everything you thought you knew about this chart. Remember the yellow line, which we thought measures the global growth rate. Take a look at the 2006 column again.</p>\r\n<p>The global growth rate is depicted as 2 percent. And yet every region experienced growth rates below 2 percent! No matter how you aggregate the regions, it&#39;s not possible for the world average to be larger than the value of each region.</p>\r\n<p>For 2006, the regional growth rates are: China, 1%; Rest of the World, 1%; Western Europe, 0.1%; United States, -0.25%. A simple sum of those four rates yields 2%, which is shown on the yellow line.</p>\r\n<p>But this number must be divided by four. If we give the four regions equal weight, each is worth a quarter of the total. So the overall average is the sum of each growth rate weighted by 1/4, which is 0.5%. [In reality, the weights of each region should be scaled to reflect its market size.]</p>\r\n<p>***</p>\r\n<p>tldr; The stacked <a href=\"https://junkcharts.typepad.com/junk_charts/bar_chart\" title=\"Posts about column charts\">column chart</a> with a line overlay not only fails to communicate the contents of the car sales data but it also leads to misinterpretation.</p>\r\n<p>I discussed several serious problems of this chart form:&#0160;</p>\r\n<ul>\r\n<li>stacking the columns make it hard to learn the regional data<br /><br /></li>\r\n<li>the trend by region takes a super effort to decipher<br /><br /></li>\r\n<li>column stacking promotes reading meaning into the height of the column but the total height is meaningless (because of the negative section) while the net height (positive minus negative) also misleads due to presumptive equal weighting<br /><br /></li>\r\n<li>the yellow line shows the sum of the regional data, which is four times the global growth rate that it purports to represent</li>\r\n</ul>\r\n<p>&#0160;</p>\r\n<p>***</p>\r\n<p>PS. [12/4/2019: New <a href=\"https://junkcharts.typepad.com/junk_charts/2019/12/this-excel-chart-looks-standard-but-gets-everything-wrong.html\" title=\"Link to next post\">post</a> up with a different visualization.]</p>",
         "shortUrl": "http://bit.ly/2OHyUOT",
         "textFormat": "html",
         "title": "This Excel chart looks standard but gets everything wrong",
         "urlId": "6a00d8341e992c53ef0240a4cd161e200d"
        },
        {
         "author": {
          "aboutMe": "Kaiser Fung, Author, Junk Charts, Numbersense, Numbers Rule Your World",
          "avatarLink": {
           "height": 250,
           "url": "https://static.typepad.com/.shared/default-userpics/03-250si.gif",
           "width": 250
          },
          "displayName": "junkcharts",
          "id": "tag:api.typepad.com,2009:6p00d8341e992c53ef",
          "interests": [
           "practical statistics",
           "data visualization",
           "business analytics",
           "bootcamp",
           "data science"
          ],
          "location": null,
          "objectType": "User",
          "objectTypes": [
           "tag:api.typepad.com,2009:User"
          ],
          "preferredUsername": "junkcharts",
          "profilePageUrl": "http://profile.typepad.com/junkcharts",
          "urlId": "6p00d8341e992c53ef"
         },
         "categories": [
          "Aggregation",
          "Axis",
          "Business",
          "Data",
          "Design",
          "Economics",
          "Heatmap",
          "Line chart",
          "Living",
          "Small multiples"
         ],
         "commentCount": 1,
         "container": {
          "displayName": "Junk Charts",
          "homeUrl": "https://junkcharts.typepad.com/junk_charts/",
          "id": "tag:api.typepad.com,2009:6a00d8341e992c53ef00d8341e9a0553ef",
          "objectType": "Blog",
          "urlId": "6a00d8341e992c53ef00d8341e9a0553ef"
         },
         "content": "<p>Via twitter, John B. sent me the following YouGov chart (<a href=\"https://yougov.co.uk/topics/politics/articles-reports/2017/06/02/how-much-money-do-you-need-earn-year-be-rich\" title=\"Link to YouGov\">link</a>) that he finds difficult to read:</p>\r\n<p><a class=\"asset-img-link\" href=\"https://junkcharts.typepad.com/.a/6a00d8341e992c53ef0240a4ca4057200d-pi\" style=\"display: inline;\"><img alt=\"Yougov_whoisrich\" class=\"asset  asset-image at-xid-6a00d8341e992c53ef0240a4ca4057200d img-responsive\" src=\"https://junkcharts.typepad.com/.a/6a00d8341e992c53ef0240a4ca4057200d-500wi\" style=\"width: 500px;\" title=\"Yougov_whoisrich\" /></a></p>\r\n<p>The title is clear enough: the higher your income, the higher you set the bar.</p>\r\n<p>When one then moves from the title to the chart, one gets misdirected. The horizontal <a href=\"https://junkcharts.typepad.com/junk_charts/axis\" title=\"posts about axis\">axis</a> shows pound values, so the axis naturally maps to &quot;the higher your income&quot;. But it doesn&#39;t. Those pound values are the &quot;cutoff&quot; values - the line between &quot;rich&quot; and &quot;not rich&quot;. Even after one realizes this detail, the axis&#0160; presents further challenges: the cutoff values are arbitrary numbers such as &quot;45,001&quot; sterling; and these continuous numbers are treated as discrete categories, with irregular intervals between each category.</p>\r\n<p>There is some very interesting and hard to obtain data sitting behind this chart but the visual form suppresses them. The best way to understand this dataset is to first think about each income group. Say, people who make between 20 to 30 thousand sterling a year. Roughly 10% of these people think &quot;rich&quot; starts at 25,000. Forty percent of this income group think &quot;rich&quot; start at 40,000.</p>\r\n<p>For each income group, we have data on Z percent think &quot;rich&quot; starts at X. I put all of these data points into a <a href=\"https://junkcharts.typepad.com/junk_charts/heatmap\" title=\"Posts about heatmap\">heatmap</a>, like this:</p>\r\n<p><a class=\"asset-img-link\" href=\"https://junkcharts.typepad.com/.a/6a00d8341e992c53ef0240a4a11626200c-pi\" style=\"display: inline;\"><img alt=\"Redo_junkcharts_yougovuk_whoisrich\" class=\"asset  asset-image at-xid-6a00d8341e992c53ef0240a4a11626200c img-responsive\" src=\"https://junkcharts.typepad.com/.a/6a00d8341e992c53ef0240a4a11626200c-400wi\" style=\"width: 400px;\" title=\"Redo_junkcharts_yougovuk_whoisrich\" /></a><br /><br /></p>\r\n<p>Technical note: in order to restore the horizontal axis to a continuous scale, you can take the discrete data from the original chart, then fit a smoothed curve through those points, and finally compute the interpolated values for any income level using the smoothing model.</p>\r\n<p>***</p>\r\n<p>There are some concerns about the survey design. It&#39;s hard to get enough samples for higher-income people. This is probably why the highest income segment starts at 50,000. But notice that 50,ooo is around the level at which lower-income people consider &quot;rich&quot;. So, this survey is primarily about how low-income people perceive &quot;rich&quot; people.</p>\r\n<p>The curve for the highest income group is much straighter and smoother than the other lines - that&#39;s because it&#39;s really the average of a number of curves (for each 10,000 sterling segment).</p>\r\n<p>&#0160;</p>\r\n<p>P.S. The YouGov tweet that publicized the small-multiples chart shown above links to a <a href=\"https://yougov.co.uk/topics/politics/articles-reports/2017/06/02/how-much-money-do-you-need-earn-year-be-rich\" title=\"Link to YouGov\">page</a> that no longer contains the chart. They may have replaced it due to feedback.</p>\r\n<p>&#0160;</p>\r\n<p>&#0160;</p>",
         "description": "Kaiser Fung (Junk Charts, Principal Analytics Prep) looks at a chart showing what \"rich\" means to different income groups.",
         "embeddedAudioLinks": [],
         "embeddedImageLinks": [
          {
           "height": 1024,
           "url": "https://a7.typepad.com/6a00d8341e992c53ef0240a4ca4057200d-pi",
           "urlTemplate": "https://a7.typepad.com/6a00d8341e992c53ef0240a4ca4057200d-{spec}",
           "width": 2048
          },
          {
           "height": 966,
           "url": "https://a6.typepad.com/6a00d8341e992c53ef0240a4a11626200c-pi",
           "urlTemplate": "https://a6.typepad.com/6a00d8341e992c53ef0240a4a11626200c-{spec}",
           "width": 1468
          }
         ],
         "embeddedVideoLinks": [],
         "excerpt": "Kaiser Fung (Junk Charts, Principal Analytics Prep) looks at a chart showing what \"rich\" means to different income groups.",
         "favoriteCount": 0,
         "filename": "this-chart-tells-you-how-rich-is-rich-if-you-can-read-it",
         "groups": [],
         "hasExtendedContent": false,
         "id": "tag:api.typepad.com,2009:6a00d8341e992c53ef0240a4eef46c200b",
         "objectType": "Post",
         "objectTypes": [
          "tag:api.typepad.com,2009:Post"
         ],
         "permalinkUrl": "https://junkcharts.typepad.com/junk_charts/2019/11/this-chart-tells-you-how-rich-is-rich-if-you-can-read-it.html",
         "published": "2019-11-25T13:15:00Z",
         "reblogCount": 0,
         "renderedContent": "<p>Via twitter, John B. sent me the following YouGov chart (<a href=\"https://yougov.co.uk/topics/politics/articles-reports/2017/06/02/how-much-money-do-you-need-earn-year-be-rich\" title=\"Link to YouGov\">link</a>) that he finds difficult to read:</p>\r\n<p><a class=\"asset-img-link\" href=\"https://junkcharts.typepad.com/.a/6a00d8341e992c53ef0240a4ca4057200d-pi\" style=\"display: inline;\"><img alt=\"Yougov_whoisrich\" class=\"asset  asset-image at-xid-6a00d8341e992c53ef0240a4ca4057200d img-responsive\" src=\"https://junkcharts.typepad.com/.a/6a00d8341e992c53ef0240a4ca4057200d-500wi\" style=\"width: 500px;\" title=\"Yougov_whoisrich\" /></a></p>\r\n<p>The title is clear enough: the higher your income, the higher you set the bar.</p>\r\n<p>When one then moves from the title to the chart, one gets misdirected. The horizontal <a href=\"https://junkcharts.typepad.com/junk_charts/axis\" title=\"posts about axis\">axis</a> shows pound values, so the axis naturally maps to &quot;the higher your income&quot;. But it doesn&#39;t. Those pound values are the &quot;cutoff&quot; values - the line between &quot;rich&quot; and &quot;not rich&quot;. Even after one realizes this detail, the axis&#0160; presents further challenges: the cutoff values are arbitrary numbers such as &quot;45,001&quot; sterling; and these continuous numbers are treated as discrete categories, with irregular intervals between each category.</p>\r\n<p>There is some very interesting and hard to obtain data sitting behind this chart but the visual form suppresses them. The best way to understand this dataset is to first think about each income group. Say, people who make between 20 to 30 thousand sterling a year. Roughly 10% of these people think &quot;rich&quot; starts at 25,000. Forty percent of this income group think &quot;rich&quot; start at 40,000.</p>\r\n<p>For each income group, we have data on Z percent think &quot;rich&quot; starts at X. I put all of these data points into a <a href=\"https://junkcharts.typepad.com/junk_charts/heatmap\" title=\"Posts about heatmap\">heatmap</a>, like this:</p>\r\n<p><a class=\"asset-img-link\" href=\"https://junkcharts.typepad.com/.a/6a00d8341e992c53ef0240a4a11626200c-pi\" style=\"display: inline;\"><img alt=\"Redo_junkcharts_yougovuk_whoisrich\" class=\"asset  asset-image at-xid-6a00d8341e992c53ef0240a4a11626200c img-responsive\" src=\"https://junkcharts.typepad.com/.a/6a00d8341e992c53ef0240a4a11626200c-400wi\" style=\"width: 400px;\" title=\"Redo_junkcharts_yougovuk_whoisrich\" /></a><br /><br /></p>\r\n<p>Technical note: in order to restore the horizontal axis to a continuous scale, you can take the discrete data from the original chart, then fit a smoothed curve through those points, and finally compute the interpolated values for any income level using the smoothing model.</p>\r\n<p>***</p>\r\n<p>There are some concerns about the survey design. It&#39;s hard to get enough samples for higher-income people. This is probably why the highest income segment starts at 50,000. But notice that 50,ooo is around the level at which lower-income people consider &quot;rich&quot;. So, this survey is primarily about how low-income people perceive &quot;rich&quot; people.</p>\r\n<p>The curve for the highest income group is much straighter and smoother than the other lines - that&#39;s because it&#39;s really the average of a number of curves (for each 10,000 sterling segment).</p>\r\n<p>&#0160;</p>\r\n<p>P.S. The YouGov tweet that publicized the small-multiples chart shown above links to a <a href=\"https://yougov.co.uk/topics/politics/articles-reports/2017/06/02/how-much-money-do-you-need-earn-year-be-rich\" title=\"Link to YouGov\">page</a> that no longer contains the chart. They may have replaced it due to feedback.</p>\r\n<p>&#0160;</p>\r\n<p>&#0160;</p>",
         "shortUrl": "http://bit.ly/2Oi5E0H",
         "textFormat": "html",
         "title": "This chart tells you how rich is rich - if you can read it",
         "urlId": "6a00d8341e992c53ef0240a4eef46c200b"
        },
        {
         "author": {
          "aboutMe": "Kaiser Fung, Author, Junk Charts, Numbersense, Numbers Rule Your World",
          "avatarLink": {
           "height": 250,
           "url": "https://static.typepad.com/.shared/default-userpics/03-250si.gif",
           "width": 250
          },
          "displayName": "junkcharts",
          "id": "tag:api.typepad.com,2009:6p00d8341e992c53ef",
          "interests": [
           "practical statistics",
           "data visualization",
           "business analytics",
           "bootcamp",
           "data science"
          ],
          "location": null,
          "objectType": "User",
          "objectTypes": [
           "tag:api.typepad.com,2009:User"
          ],
          "preferredUsername": "junkcharts",
          "profilePageUrl": "http://profile.typepad.com/junkcharts",
          "urlId": "6p00d8341e992c53ef"
         },
         "categories": [
          "Axis",
          "Bar chart",
          "Comparability",
          "Design",
          "Dot plot",
          "Economics",
          "Living",
          "Scale",
          "Science",
          "Sorting",
          "Text",
          "Trifecta checkup"
         ],
         "commentCount": 2,
         "container": {
          "displayName": "Junk Charts",
          "homeUrl": "https://junkcharts.typepad.com/junk_charts/",
          "id": "tag:api.typepad.com,2009:6a00d8341e992c53ef00d8341e9a0553ef",
          "objectType": "Blog",
          "urlId": "6a00d8341e992c53ef00d8341e9a0553ef"
         },
         "content": "<p>Long-time reader Antonio R. found today&#39;s chart hard to follow, and he isn&#39;t alone. It took two of us multiple emails and some Web searching before we think we &quot;got it&quot;.</p>\r\n<p><a class=\"asset-img-link\" href=\"https://junkcharts.typepad.com/.a/6a00d8341e992c53ef0240a49fab3c200c-pi\" style=\"display: inline;\"><img alt=\"Ar_submit_Fig-3-2-The-policy-cost-curve-525\" class=\"asset  asset-image at-xid-6a00d8341e992c53ef0240a49fab3c200c img-responsive\" src=\"https://junkcharts.typepad.com/.a/6a00d8341e992c53ef0240a49fab3c200c-400wi\" style=\"width: 400px;\" title=\"Ar_submit_Fig-3-2-The-policy-cost-curve-525\" /></a></p>\r\n<p>&#0160;</p>\r\n<p>Antonio first encountered the chart in a book review (<a href=\"https://anoutsidechance.com/2019/03/06/designing-climate-solutions-review/\" title=\"Link to An Outside Chance\">link</a>) of Hal Harvey et. al, <em>Designing Climate Solutions</em>. It addresses the general topic of <strong>costs and benefits</strong> of various programs to abate CO2 emissions. The reviewer praised the &quot;wealth of graphics [in the book] which present complex information in visually effective formats.&quot; He presented the above chart as evidence, and described its function as:</p>\r\n<blockquote>\r\n<p>policy-makers can focus on the areas which make the most difference in emissions, while also being mindful of the cost issues that can be so important in getting political buy-in.</p>\r\n</blockquote>\r\n<p>(This description is much more informative than the original chart title, which states &quot;The policy cost curve shows the cost-effectiveness and emission reduction potential of different policies.&quot;)</p>\r\n<p>Spend a little time with the chart now before you read the discussion below.</p>\r\n<p>Warning: this is a long read but well worth it.</p>\r\n<p>&#0160;</p>\r\n<p>***</p>\r\n<p>&#0160;</p>\r\n<p>If your experience is anything like ours, scraps of information flew at you from different parts of the chart, and you had a hard time piecing together a story.</p>\r\n<p><strong>What are the reasons why this data graphic is so confusing?</strong></p>\r\n<p>Everyone recognizes that this is a <a href=\"https://junkcharts.typepad.com/junk_charts/bar_chart\" title=\"Posts about bar and column charts\">column chart</a>. For a column chart, we interpret the heights of the columns so we look first at the vertical axis. The axis title informs us that the height represents &quot;cost effectiveness&quot; measured in dollars per million metric tons of CO2. In a cost-benefit sense, that appears to mean the cost to society of obtaining the benefit of reducing CO2 by a given amount.</p>\r\n<p>That&#39;s how far I went before hitting the first roadblock.</p>\r\n<p>For environmental policies, opponents frequently object to the high price of implementation. For example, we can&#39;t have higher fuel efficiency in cars because it would raise the price of gasoline too much. <strong>Asking about cost-effectiveness makes sense: a cost-benefit trade-off analysis encapsulates the something-for-something principle.</strong> <strong>What doesn&#39;t follow is that the vertical scale sinks far into the negative</strong>. The chart depicts the majority of the emissions abatement programs as having <em>negative cost effectiveness</em>.</p>\r\n<p>What does it mean to be negatively cost-effective? Does it mean society saves money (makes a profit) while also reducing CO2 emissions? Wouldn&#39;t those policies - more than half of the programs shown - be slam dunks? Who can object to programs that improve the environment <em>at no cost</em>?</p>\r\n<p>I tabled that thought, and proceeded to the horizontal <a href=\"https://junkcharts.typepad.com/junk_charts/axis\" title=\"Posts about axes\">axis</a>.</p>\r\n<p>I noticed that this isn&#39;t a standard column chart, in which the width of the columns is fixed and uneventful. Here, the widths of the columns are varying.</p>\r\n<p>***</p>\r\n<p>In the meantime, my eyes are distracted by the constellation of <a href=\"https://junkcharts.typepad.com/junk_charts/text\" title=\"Posts about text annotation\">text</a> labels. The viewing area of this column chart is occupied - at least 50% - by text. These labels tell me that each column represents a program to reduce CO2 emissions.</p>\r\n<p>The dominance of text labels is a feature of this design. For a conventional <a href=\"https://anoutsidechance.com/2019/03/06/designing-climate-solutions-review/\">column chart</a>, the labels are situated below each column. Since the width does not usually carry any data, we tend to keep the columns narrow - Tufte, ever the minimalist, has even advocated reducing columns to vertical lines. That leaves insufficient room for long labels. Have you noticed that government programs hold long titles? It&#39;s tough to capture even the outline of a program with fewer than three big words, e.g. &quot;Renewable Portfolio Standard&quot; (what?).</p>\r\n<p>The design solution here is to let the column labels run horizontally. So the graphical element for each program is a vertical column coupled with a horizontal label that invades the territories of the next few programs. Like this:</p>\r\n<p><a class=\"asset-img-link\" href=\"https://junkcharts.typepad.com/.a/6a00d8341e992c53ef0240a49fc051200c-pi\" style=\"display: inline;\"><img alt=\"Redo_fueleconomystandardscars\" class=\"asset  asset-image at-xid-6a00d8341e992c53ef0240a49fc051200c img-responsive\" src=\"https://junkcharts.typepad.com/.a/6a00d8341e992c53ef0240a49fc051200c-350wi\" style=\"width: 350px;\" title=\"Redo_fueleconomystandardscars\" /></a></p>\r\n<p>The horror of this design constraint is fully realized in the following chart, a similar design produced for the state of Oregon (lifted from the Plan Washington webpage listed as a resource below):</p>\r\n<p><strong><a class=\"asset-img-link\" href=\"https://junkcharts.typepad.com/.a/6a00d8341e992c53ef0240a4c8dc0d200d-pi\" style=\"display: inline;\"><img alt=\"Figure 2 oregon greenhouse\" class=\"asset  asset-image at-xid-6a00d8341e992c53ef0240a4c8dc0d200d img-responsive\" src=\"https://junkcharts.typepad.com/.a/6a00d8341e992c53ef0240a4c8dc0d200d-450wi\" style=\"width: 450px;\" title=\"Figure 2 oregon greenhouse\" /></a></strong></p>\r\n<p>In a re-design, horizontal labeling should be a priority.</p>\r\n<p>&#0160;</p>\r\n<p>***</p>\r\n<p>Realizing that I&#39;ve been distracted by the text labels, back to the horizontal <a href=\"https://junkcharts.typepad.com/junk_charts/axis\" title=\"posts about axes\">axis</a> I went.</p>\r\n<p>This is where I encountered the next roadblock.</p>\r\n<p>The axis title says &quot;Average Annual Emissions Abatement&quot; measured in millions metric tons. The unit matches the second part of the vertical scale, which is comforting. But how does one reconcile the widths of columns with a continuous scale? I was expecting each program to have a projected annual abatement benefit, and those would fall as dots on a line, like this:</p>\r\n<p><a class=\"asset-img-link\" href=\"https://junkcharts.typepad.com/.a/6a00d8341e992c53ef0240a4ed9cec200b-pi\" style=\"display: inline;\"><img alt=\"Redo_abatement_benefit_dotplot\" class=\"asset  asset-image at-xid-6a00d8341e992c53ef0240a4ed9cec200b img-responsive\" src=\"https://junkcharts.typepad.com/.a/6a00d8341e992c53ef0240a4ed9cec200b-250wi\" style=\"width: 250px;\" title=\"Redo_abatement_benefit_dotplot\" /></a></p>\r\n<p>Instead, we have line segments sitting on a line, like this:</p>\r\n<p><a class=\"asset-img-link\" href=\"https://junkcharts.typepad.com/.a/6a00d8341e992c53ef0240a49fb9c9200c-pi\" style=\"display: inline;\"><img alt=\"Redo_abatement_benefit_bars_end2end_annuallabel\" class=\"asset  asset-image at-xid-6a00d8341e992c53ef0240a49fb9c9200c img-responsive\" src=\"https://junkcharts.typepad.com/.a/6a00d8341e992c53ef0240a49fb9c9200c-250wi\" style=\"width: 250px;\" title=\"Redo_abatement_benefit_bars_end2end_annuallabel\" /></a></p>\r\n<p>Think of these bars as the bottom edges of the columns. These line segments can be better compared to each other if structured as a <a href=\"https://junkcharts.typepad.com/junk_charts/bar_chart\" title=\"Posts about bar and column charts\">bar chart</a>:</p>\r\n<p><a class=\"asset-img-link\" href=\"https://junkcharts.typepad.com/.a/6a00d8341e992c53ef0240a4c8e758200d-pi\" style=\"display: inline;\"><img alt=\"Redo_abatement_benefit_bars\" class=\"asset  asset-image at-xid-6a00d8341e992c53ef0240a4c8e758200d img-responsive\" src=\"https://junkcharts.typepad.com/.a/6a00d8341e992c53ef0240a4c8e758200d-250wi\" style=\"width: 250px;\" title=\"Redo_abatement_benefit_bars\" /></a></p>\r\n<p>Instead, the design arranges these lines end-to-end.</p>\r\n<p>To unravel this mystery, we go back to the objective of the chart, as announced by the book reviewer. Here it is again:</p>\r\n<blockquote>\r\n<p>policy-makers can focus on the areas which make the most difference in emissions, while also being mindful of the cost issues that can be so important in getting political buy-in.</p>\r\n</blockquote>\r\n<p>The primary goal of the chart is a <strong>decision-making tool for policy-makers</strong> who are evaluating programs. Each program has a cost and also a benefit. The cost is shown on the vertical axis and the benefit is shown on the horizontal. The decision-maker will select some subset of these programs based on the cost-benefit analysis. That subset of programs will have a projected <em>total</em> expected benefit (CO2 abatement) and a projected total cost.</p>\r\n<p>By stacking the line segments end to end on top of the horizontal axis, the chart designer elevates the task of computing the <em>total</em> benefits of a subset of programs, relative to the task of learning the benefits of any individual program. Thus, the horizontal axis is better labeled &quot;Cumulative annual emissions abatement&quot;.</p>\r\n<p>&#0160;</p>\r\n<p>Look at that axis again. Imagine you are required to learn the specific benefit of program titled &quot;Fuel Economy Standards: Cars &amp; SUVs&quot;. &#0160;</p>\r\n<p><a class=\"asset-img-link\" href=\"https://junkcharts.typepad.com/.a/6a00d8341e992c53ef0240a49fc03d200c-pi\" style=\"display: inline;\"><img alt=\"Redo_abatement_benefit_bars_end2end_cumlabel\" class=\"asset  asset-image at-xid-6a00d8341e992c53ef0240a49fc03d200c img-responsive\" src=\"https://junkcharts.typepad.com/.a/6a00d8341e992c53ef0240a49fc03d200c-350wi\" style=\"width: 350px;\" title=\"Redo_abatement_benefit_bars_end2end_cumlabel\" /></a></p>\r\n<p>This is impossible to do without pulling out a ruler and a calculator. What the axis labels do tell us is that if all the programs to the left of Fuel Economy Standards: Cars &amp; SUVs were adopted, the cumulative benefits would be 285 million metric tons of CO2 per year. And if Fuel Economy Standards: Cars &amp; SUVs were also implemented, the cumulative benefits would rise to 375 million metric tons.</p>\r\n<p>***</p>\r\n<p>At long last, we have arrived at a reasonable interpretation of the cost-benefit chart.</p>\r\n<p>Policy-makers are considering throwing their support behind specific programs aimed at abating CO2 emissions. Different organizations have come up with different ways to achieve this goal. This goal may even have specific benchmarks; the government may have committed to an international agreement, for example, to reduce emissions by some set amount by 2030. Each candidate abatement program is evaluated on both cost and benefit dimensions. Benefit is given by the amount of CO2 abated. Cost is measured as a &quot;marginal cost,&quot; the amount of dollars required to achieve each million metric ton of abatement.</p>\r\n<p>This &quot;<strong>marginal abatement cost curve</strong>&quot; aids the decision-making. It lines up the programs from the most cost-effective to the least cost-effective. The decision-maker is presumed to prefer a more cost-effective program than a less cost-effective program. The chart answers the following question: for any given subset of programs (so long as we select them left to right contiguously), we can read off the cumulative amount of CO2 abated.</p>\r\n<p>***</p>\r\n<p>There are still more limitations of the chart design.</p>\r\n<ul>\r\n<li>We can&#39;t directly read off the cumulative cost of the selected subset of programs because the vertical axis is not cumulative. The cumulative cost turns out to be the <strong>total area</strong> of all the columns that correspond to the selected programs. (Area is height x width, which is cost per benefit multiplied by benefit, which leaves us with the cost.) Unfortunately, it takes rulers and calculators to compute this total area.<br /><br /></li>\r\n<li><strong>We have presumed that policy-makers will make the Go-No-go decision based on cost effectiveness alone</strong>. This point of view has already been contradicted. Remember the mystery around negatively cost-effective programs - their existence shows that some programs are stalled even when they reduce emissions in addition to making money!<br /><br /></li>\r\n<li>Since many, if not most, programs have negative cost-effectiveness (by the way they measured it), I&#39;d flip the metric over and call it profitability (or return on investment). Doing so removes another barrier to our understanding. With the current cost-effectiveness metric, policy-makers are selecting the &quot;negative&quot; programs before the &quot;positive&quot; programs. <strong>It makes more sense to select the &quot;positive&quot; programs before the &quot;negative&quot; ones!</strong></li>\r\n</ul>\r\n<p>***</p>\r\n<p>In a <strong>Trifecta Checkup </strong>(<a href=\"https://bitly.com/trifectacheckup\" title=\"Guide to Trifecta Checkup\">guide</a>), I rate this chart <strong>Type V</strong>. The chart has a great purpose, and the design reveals a keen sense of the decision-making process. It&#39;s not a data dump for sure. In addition, an impressive amount of data gathering and analysis - and synthesis - went into preparing the two data series required to construct the chart. (Sure, for something so subjective and speculative, the analysis methodology will inevitably be challenged by wonks.) Those two data series are reasonable measures for the stated purpose of the chart.</p>\r\n<p>The chart form, though, has various shortcomings, as shown here. &#0160;</p>\r\n<p>***</p>\r\n<p>In our email exchange, Antonio and I found the Plan Washington <a href=\"http://planwashington.org/blog/archive/understanding-carbon-reduction-marginal-abatement-cost-curves/\" title=\"Link to Plan Washington\">website</a> useful. This is where we learned that this chart is called the marginal abatement cost curve.</p>\r\n<p>Also, the consulting firm McKinsey is responsible for popularizing this chart form. They have published this long <a href=\"https://www.mckinsey.com/business-functions/sustainability/our-insights/reducing-us-greenhouse-gas-emissions\" title=\"link to Mckinsey\">report</a> that explains even more of the analysis behind constructing this chart, for those who want further details.</p>",
         "description": "Kaiser Fung (Junkcharts, Principal Analytics Prep) discusses a chart showing cost-benefit analysis submitted by a long-time reader. Why are some charts so confusing?",
         "embeddedAudioLinks": [],
         "embeddedImageLinks": [
          {
           "height": 769,
           "url": "https://a4.typepad.com/6a00d8341e992c53ef0240a49fab3c200c-pi",
           "urlTemplate": "https://a4.typepad.com/6a00d8341e992c53ef0240a49fab3c200c-{spec}",
           "width": 525
          },
          {
           "height": 268,
           "url": "https://a1.typepad.com/6a00d8341e992c53ef0240a49fc051200c-pi",
           "urlTemplate": "https://a1.typepad.com/6a00d8341e992c53ef0240a49fc051200c-{spec}",
           "width": 638
          },
          {
           "height": 1063,
           "url": "https://a5.typepad.com/6a00d8341e992c53ef0240a4c8dc0d200d-pi",
           "urlTemplate": "https://a5.typepad.com/6a00d8341e992c53ef0240a4c8dc0d200d-{spec}",
           "width": 1845
          },
          {
           "height": 1160,
           "url": "https://a4.typepad.com/6a00d8341e992c53ef0240a4ed9cec200b-pi",
           "urlTemplate": "https://a4.typepad.com/6a00d8341e992c53ef0240a4ed9cec200b-{spec}",
           "width": 1114
          },
          {
           "height": 310,
           "url": "https://a1.typepad.com/6a00d8341e992c53ef0240a49fb9c9200c-pi",
           "urlTemplate": "https://a1.typepad.com/6a00d8341e992c53ef0240a49fb9c9200c-{spec}",
           "width": 946
          },
          {
           "height": 820,
           "url": "https://a0.typepad.com/6a00d8341e992c53ef0240a4c8e758200d-pi",
           "urlTemplate": "https://a0.typepad.com/6a00d8341e992c53ef0240a4c8e758200d-{spec}",
           "width": 710
          },
          {
           "height": 534,
           "url": "https://a5.typepad.com/6a00d8341e992c53ef0240a49fc03d200c-pi",
           "urlTemplate": "https://a5.typepad.com/6a00d8341e992c53ef0240a49fc03d200c-{spec}",
           "width": 996
          }
         ],
         "embeddedVideoLinks": [],
         "excerpt": "Kaiser Fung (Junkcharts, Principal Analytics Prep) discusses a chart showing cost-benefit analysis submitted by a long-time reader. Why are some charts so confusing?",
         "favoriteCount": 0,
         "filename": "how-to-read-this-cost-benefit-chart-and-why-it-is-so-confusing",
         "groups": [],
         "hasExtendedContent": false,
         "id": "tag:api.typepad.com,2009:6a00d8341e992c53ef0240a49fab5e200c",
         "objectType": "Post",
         "objectTypes": [
          "tag:api.typepad.com,2009:Post"
         ],
         "permalinkUrl": "https://junkcharts.typepad.com/junk_charts/2019/11/how-to-read-this-cost-benefit-chart-and-why-it-is-so-confusing.html",
         "published": "2019-11-22T13:30:00Z",
         "reblogCount": 0,
         "renderedContent": "<p>Long-time reader Antonio R. found today&#39;s chart hard to follow, and he isn&#39;t alone. It took two of us multiple emails and some Web searching before we think we &quot;got it&quot;.</p>\r\n<p><a class=\"asset-img-link\" href=\"https://junkcharts.typepad.com/.a/6a00d8341e992c53ef0240a49fab3c200c-pi\" style=\"display: inline;\"><img alt=\"Ar_submit_Fig-3-2-The-policy-cost-curve-525\" class=\"asset  asset-image at-xid-6a00d8341e992c53ef0240a49fab3c200c img-responsive\" src=\"https://junkcharts.typepad.com/.a/6a00d8341e992c53ef0240a49fab3c200c-400wi\" style=\"width: 400px;\" title=\"Ar_submit_Fig-3-2-The-policy-cost-curve-525\" /></a></p>\r\n<p>&#0160;</p>\r\n<p>Antonio first encountered the chart in a book review (<a href=\"https://anoutsidechance.com/2019/03/06/designing-climate-solutions-review/\" title=\"Link to An Outside Chance\">link</a>) of Hal Harvey et. al, <em>Designing Climate Solutions</em>. It addresses the general topic of <strong>costs and benefits</strong> of various programs to abate CO2 emissions. The reviewer praised the &quot;wealth of graphics [in the book] which present complex information in visually effective formats.&quot; He presented the above chart as evidence, and described its function as:</p>\r\n<blockquote>\r\n<p>policy-makers can focus on the areas which make the most difference in emissions, while also being mindful of the cost issues that can be so important in getting political buy-in.</p>\r\n</blockquote>\r\n<p>(This description is much more informative than the original chart title, which states &quot;The policy cost curve shows the cost-effectiveness and emission reduction potential of different policies.&quot;)</p>\r\n<p>Spend a little time with the chart now before you read the discussion below.</p>\r\n<p>Warning: this is a long read but well worth it.</p>\r\n<p>&#0160;</p>\r\n<p>***</p>\r\n<p>&#0160;</p>\r\n<p>If your experience is anything like ours, scraps of information flew at you from different parts of the chart, and you had a hard time piecing together a story.</p>\r\n<p><strong>What are the reasons why this data graphic is so confusing?</strong></p>\r\n<p>Everyone recognizes that this is a <a href=\"https://junkcharts.typepad.com/junk_charts/bar_chart\" title=\"Posts about bar and column charts\">column chart</a>. For a column chart, we interpret the heights of the columns so we look first at the vertical axis. The axis title informs us that the height represents &quot;cost effectiveness&quot; measured in dollars per million metric tons of CO2. In a cost-benefit sense, that appears to mean the cost to society of obtaining the benefit of reducing CO2 by a given amount.</p>\r\n<p>That&#39;s how far I went before hitting the first roadblock.</p>\r\n<p>For environmental policies, opponents frequently object to the high price of implementation. For example, we can&#39;t have higher fuel efficiency in cars because it would raise the price of gasoline too much. <strong>Asking about cost-effectiveness makes sense: a cost-benefit trade-off analysis encapsulates the something-for-something principle.</strong> <strong>What doesn&#39;t follow is that the vertical scale sinks far into the negative</strong>. The chart depicts the majority of the emissions abatement programs as having <em>negative cost effectiveness</em>.</p>\r\n<p>What does it mean to be negatively cost-effective? Does it mean society saves money (makes a profit) while also reducing CO2 emissions? Wouldn&#39;t those policies - more than half of the programs shown - be slam dunks? Who can object to programs that improve the environment <em>at no cost</em>?</p>\r\n<p>I tabled that thought, and proceeded to the horizontal <a href=\"https://junkcharts.typepad.com/junk_charts/axis\" title=\"Posts about axes\">axis</a>.</p>\r\n<p>I noticed that this isn&#39;t a standard column chart, in which the width of the columns is fixed and uneventful. Here, the widths of the columns are varying.</p>\r\n<p>***</p>\r\n<p>In the meantime, my eyes are distracted by the constellation of <a href=\"https://junkcharts.typepad.com/junk_charts/text\" title=\"Posts about text annotation\">text</a> labels. The viewing area of this column chart is occupied - at least 50% - by text. These labels tell me that each column represents a program to reduce CO2 emissions.</p>\r\n<p>The dominance of text labels is a feature of this design. For a conventional <a href=\"https://anoutsidechance.com/2019/03/06/designing-climate-solutions-review/\">column chart</a>, the labels are situated below each column. Since the width does not usually carry any data, we tend to keep the columns narrow - Tufte, ever the minimalist, has even advocated reducing columns to vertical lines. That leaves insufficient room for long labels. Have you noticed that government programs hold long titles? It&#39;s tough to capture even the outline of a program with fewer than three big words, e.g. &quot;Renewable Portfolio Standard&quot; (what?).</p>\r\n<p>The design solution here is to let the column labels run horizontally. So the graphical element for each program is a vertical column coupled with a horizontal label that invades the territories of the next few programs. Like this:</p>\r\n<p><a class=\"asset-img-link\" href=\"https://junkcharts.typepad.com/.a/6a00d8341e992c53ef0240a49fc051200c-pi\" style=\"display: inline;\"><img alt=\"Redo_fueleconomystandardscars\" class=\"asset  asset-image at-xid-6a00d8341e992c53ef0240a49fc051200c img-responsive\" src=\"https://junkcharts.typepad.com/.a/6a00d8341e992c53ef0240a49fc051200c-350wi\" style=\"width: 350px;\" title=\"Redo_fueleconomystandardscars\" /></a></p>\r\n<p>The horror of this design constraint is fully realized in the following chart, a similar design produced for the state of Oregon (lifted from the Plan Washington webpage listed as a resource below):</p>\r\n<p><strong><a class=\"asset-img-link\" href=\"https://junkcharts.typepad.com/.a/6a00d8341e992c53ef0240a4c8dc0d200d-pi\" style=\"display: inline;\"><img alt=\"Figure 2 oregon greenhouse\" class=\"asset  asset-image at-xid-6a00d8341e992c53ef0240a4c8dc0d200d img-responsive\" src=\"https://junkcharts.typepad.com/.a/6a00d8341e992c53ef0240a4c8dc0d200d-450wi\" style=\"width: 450px;\" title=\"Figure 2 oregon greenhouse\" /></a></strong></p>\r\n<p>In a re-design, horizontal labeling should be a priority.</p>\r\n<p>&#0160;</p>\r\n<p>***</p>\r\n<p>Realizing that I&#39;ve been distracted by the text labels, back to the horizontal <a href=\"https://junkcharts.typepad.com/junk_charts/axis\" title=\"posts about axes\">axis</a> I went.</p>\r\n<p>This is where I encountered the next roadblock.</p>\r\n<p>The axis title says &quot;Average Annual Emissions Abatement&quot; measured in millions metric tons. The unit matches the second part of the vertical scale, which is comforting. But how does one reconcile the widths of columns with a continuous scale? I was expecting each program to have a projected annual abatement benefit, and those would fall as dots on a line, like this:</p>\r\n<p><a class=\"asset-img-link\" href=\"https://junkcharts.typepad.com/.a/6a00d8341e992c53ef0240a4ed9cec200b-pi\" style=\"display: inline;\"><img alt=\"Redo_abatement_benefit_dotplot\" class=\"asset  asset-image at-xid-6a00d8341e992c53ef0240a4ed9cec200b img-responsive\" src=\"https://junkcharts.typepad.com/.a/6a00d8341e992c53ef0240a4ed9cec200b-250wi\" style=\"width: 250px;\" title=\"Redo_abatement_benefit_dotplot\" /></a></p>\r\n<p>Instead, we have line segments sitting on a line, like this:</p>\r\n<p><a class=\"asset-img-link\" href=\"https://junkcharts.typepad.com/.a/6a00d8341e992c53ef0240a49fb9c9200c-pi\" style=\"display: inline;\"><img alt=\"Redo_abatement_benefit_bars_end2end_annuallabel\" class=\"asset  asset-image at-xid-6a00d8341e992c53ef0240a49fb9c9200c img-responsive\" src=\"https://junkcharts.typepad.com/.a/6a00d8341e992c53ef0240a49fb9c9200c-250wi\" style=\"width: 250px;\" title=\"Redo_abatement_benefit_bars_end2end_annuallabel\" /></a></p>\r\n<p>Think of these bars as the bottom edges of the columns. These line segments can be better compared to each other if structured as a <a href=\"https://junkcharts.typepad.com/junk_charts/bar_chart\" title=\"Posts about bar and column charts\">bar chart</a>:</p>\r\n<p><a class=\"asset-img-link\" href=\"https://junkcharts.typepad.com/.a/6a00d8341e992c53ef0240a4c8e758200d-pi\" style=\"display: inline;\"><img alt=\"Redo_abatement_benefit_bars\" class=\"asset  asset-image at-xid-6a00d8341e992c53ef0240a4c8e758200d img-responsive\" src=\"https://junkcharts.typepad.com/.a/6a00d8341e992c53ef0240a4c8e758200d-250wi\" style=\"width: 250px;\" title=\"Redo_abatement_benefit_bars\" /></a></p>\r\n<p>Instead, the design arranges these lines end-to-end.</p>\r\n<p>To unravel this mystery, we go back to the objective of the chart, as announced by the book reviewer. Here it is again:</p>\r\n<blockquote>\r\n<p>policy-makers can focus on the areas which make the most difference in emissions, while also being mindful of the cost issues that can be so important in getting political buy-in.</p>\r\n</blockquote>\r\n<p>The primary goal of the chart is a <strong>decision-making tool for policy-makers</strong> who are evaluating programs. Each program has a cost and also a benefit. The cost is shown on the vertical axis and the benefit is shown on the horizontal. The decision-maker will select some subset of these programs based on the cost-benefit analysis. That subset of programs will have a projected <em>total</em> expected benefit (CO2 abatement) and a projected total cost.</p>\r\n<p>By stacking the line segments end to end on top of the horizontal axis, the chart designer elevates the task of computing the <em>total</em> benefits of a subset of programs, relative to the task of learning the benefits of any individual program. Thus, the horizontal axis is better labeled &quot;Cumulative annual emissions abatement&quot;.</p>\r\n<p>&#0160;</p>\r\n<p>Look at that axis again. Imagine you are required to learn the specific benefit of program titled &quot;Fuel Economy Standards: Cars &amp; SUVs&quot;. &#0160;</p>\r\n<p><a class=\"asset-img-link\" href=\"https://junkcharts.typepad.com/.a/6a00d8341e992c53ef0240a49fc03d200c-pi\" style=\"display: inline;\"><img alt=\"Redo_abatement_benefit_bars_end2end_cumlabel\" class=\"asset  asset-image at-xid-6a00d8341e992c53ef0240a49fc03d200c img-responsive\" src=\"https://junkcharts.typepad.com/.a/6a00d8341e992c53ef0240a49fc03d200c-350wi\" style=\"width: 350px;\" title=\"Redo_abatement_benefit_bars_end2end_cumlabel\" /></a></p>\r\n<p>This is impossible to do without pulling out a ruler and a calculator. What the axis labels do tell us is that if all the programs to the left of Fuel Economy Standards: Cars &amp; SUVs were adopted, the cumulative benefits would be 285 million metric tons of CO2 per year. And if Fuel Economy Standards: Cars &amp; SUVs were also implemented, the cumulative benefits would rise to 375 million metric tons.</p>\r\n<p>***</p>\r\n<p>At long last, we have arrived at a reasonable interpretation of the cost-benefit chart.</p>\r\n<p>Policy-makers are considering throwing their support behind specific programs aimed at abating CO2 emissions. Different organizations have come up with different ways to achieve this goal. This goal may even have specific benchmarks; the government may have committed to an international agreement, for example, to reduce emissions by some set amount by 2030. Each candidate abatement program is evaluated on both cost and benefit dimensions. Benefit is given by the amount of CO2 abated. Cost is measured as a &quot;marginal cost,&quot; the amount of dollars required to achieve each million metric ton of abatement.</p>\r\n<p>This &quot;<strong>marginal abatement cost curve</strong>&quot; aids the decision-making. It lines up the programs from the most cost-effective to the least cost-effective. The decision-maker is presumed to prefer a more cost-effective program than a less cost-effective program. The chart answers the following question: for any given subset of programs (so long as we select them left to right contiguously), we can read off the cumulative amount of CO2 abated.</p>\r\n<p>***</p>\r\n<p>There are still more limitations of the chart design.</p>\r\n<ul>\r\n<li>We can&#39;t directly read off the cumulative cost of the selected subset of programs because the vertical axis is not cumulative. The cumulative cost turns out to be the <strong>total area</strong> of all the columns that correspond to the selected programs. (Area is height x width, which is cost per benefit multiplied by benefit, which leaves us with the cost.) Unfortunately, it takes rulers and calculators to compute this total area.<br /><br /></li>\r\n<li><strong>We have presumed that policy-makers will make the Go-No-go decision based on cost effectiveness alone</strong>. This point of view has already been contradicted. Remember the mystery around negatively cost-effective programs - their existence shows that some programs are stalled even when they reduce emissions in addition to making money!<br /><br /></li>\r\n<li>Since many, if not most, programs have negative cost-effectiveness (by the way they measured it), I&#39;d flip the metric over and call it profitability (or return on investment). Doing so removes another barrier to our understanding. With the current cost-effectiveness metric, policy-makers are selecting the &quot;negative&quot; programs before the &quot;positive&quot; programs. <strong>It makes more sense to select the &quot;positive&quot; programs before the &quot;negative&quot; ones!</strong></li>\r\n</ul>\r\n<p>***</p>\r\n<p>In a <strong>Trifecta Checkup </strong>(<a href=\"https://bitly.com/trifectacheckup\" title=\"Guide to Trifecta Checkup\">guide</a>), I rate this chart <strong>Type V</strong>. The chart has a great purpose, and the design reveals a keen sense of the decision-making process. It&#39;s not a data dump for sure. In addition, an impressive amount of data gathering and analysis - and synthesis - went into preparing the two data series required to construct the chart. (Sure, for something so subjective and speculative, the analysis methodology will inevitably be challenged by wonks.) Those two data series are reasonable measures for the stated purpose of the chart.</p>\r\n<p>The chart form, though, has various shortcomings, as shown here. &#0160;</p>\r\n<p>***</p>\r\n<p>In our email exchange, Antonio and I found the Plan Washington <a href=\"http://planwashington.org/blog/archive/understanding-carbon-reduction-marginal-abatement-cost-curves/\" title=\"Link to Plan Washington\">website</a> useful. This is where we learned that this chart is called the marginal abatement cost curve.</p>\r\n<p>Also, the consulting firm McKinsey is responsible for popularizing this chart form. They have published this long <a href=\"https://www.mckinsey.com/business-functions/sustainability/our-insights/reducing-us-greenhouse-gas-emissions\" title=\"link to Mckinsey\">report</a> that explains even more of the analysis behind constructing this chart, for those who want further details.</p>",
         "shortUrl": "http://bit.ly/2s8zool",
         "textFormat": "html",
         "title": "How to read this cost-benefit chart, and why it is so confusing",
         "urlId": "6a00d8341e992c53ef0240a49fab5e200c"
        },
        {
         "author": {
          "aboutMe": "Kaiser Fung, Author, Junk Charts, Numbersense, Numbers Rule Your World",
          "avatarLink": {
           "height": 250,
           "url": "https://static.typepad.com/.shared/default-userpics/03-250si.gif",
           "width": 250
          },
          "displayName": "junkcharts",
          "id": "tag:api.typepad.com,2009:6p00d8341e992c53ef",
          "interests": [
           "practical statistics",
           "data visualization",
           "business analytics",
           "bootcamp",
           "data science"
          ],
          "location": null,
          "objectType": "User",
          "objectTypes": [
           "tag:api.typepad.com,2009:User"
          ],
          "preferredUsername": "junkcharts",
          "profilePageUrl": "http://profile.typepad.com/junkcharts",
          "urlId": "6p00d8341e992c53ef"
         },
         "categories": [
          "Area chart",
          "Bumps chart",
          "Education",
          "Line chart",
          "Simplicity",
          "Time series"
         ],
         "commentCount": 0,
         "container": {
          "displayName": "Junk Charts",
          "homeUrl": "https://junkcharts.typepad.com/junk_charts/",
          "id": "tag:api.typepad.com,2009:6a00d8341e992c53ef00d8341e9a0553ef",
          "objectType": "Blog",
          "urlId": "6a00d8341e992c53ef00d8341e9a0553ef"
         },
         "content": "<p>Ben Jones tweeted out this chart, which has an unusual feature:</p>\r\n<p><a class=\"asset-img-link\" href=\"https://junkcharts.typepad.com/.a/6a00d8341e992c53ef0240a4c62bac200d-pi\" style=\"display: inline;\"><img alt=\"Malefemaleliteracyrates\" class=\"asset  asset-image at-xid-6a00d8341e992c53ef0240a4c62bac200d img-responsive\" src=\"https://junkcharts.typepad.com/.a/6a00d8341e992c53ef0240a4c62bac200d-350wi\" style=\"width: 350px;\" title=\"Malefemaleliteracyrates\" /></a></p>\r\n<p>What&#39;s unusual is that time runs in both directions. Usually, the rule is that time runs left to right (except, of course, in right-to-left cultures). Here, the purple <a href=\"https://junkcharts.typepad.com/junk_charts/area_chart\" title=\"Posts about area chart\">area chart</a> follows that convention while the yellow area chart inverts it.</p>\r\n<p>On the one hand, this is quite cute. Lines meeting in the middle. Converging. I get it.</p>\r\n<p>On the other hand, every time a designer defies conventions, the reader has to recognize it, and to rationalize it.</p>\r\n<p>In this particular graphic, I&#39;m not convinced. There are four numbers only. The trend on either side looks linear so the story is simple. Why complicate it using unusual visual design?</p>\r\n<p>Here is an entirely conventional bumps-like chart that tells the story:</p>\r\n<p><a class=\"asset-img-link\" href=\"https://junkcharts.typepad.com/.a/6a00d8341e992c53ef0240a4c62bdc200d-pi\" style=\"display: inline;\"><img alt=\"Redo_literacyratebygender\" class=\"asset  asset-image at-xid-6a00d8341e992c53ef0240a4c62bdc200d img-responsive\" src=\"https://junkcharts.typepad.com/.a/6a00d8341e992c53ef0240a4c62bdc200d-350wi\" style=\"width: 350px;\" title=\"Redo_literacyratebygender\" /></a></p>\r\n<p>I&#39;ve done a couple of things here that might be considered controversial.</p>\r\n<p>First, I completely straightened out the lines. I don&#39;t see what additional precision is bringing to the chart.</p>\r\n<p>Second, despite having just four numbers, I added the year 1996 and vertical gridlines indicating decades. A Tufte purist will surely object.</p>\r\n<p>***</p>\r\n<p>Related blog post: &quot;The Return on Effort in Data Graphics&quot; (<a href=\"https://junkcharts.typepad.com/junk_charts/2011/08/the-return-on-effort-in-data-graphics.html\" title=\"Link to prior post\">link</a>)</p>",
         "description": "Kaiser Fung (Junkcharts, Principal Analytics Prep) discusses a chart in which time runs in both directions.",
         "embeddedAudioLinks": [],
         "embeddedImageLinks": [
          {
           "height": 1142,
           "url": "https://a4.typepad.com/6a00d8341e992c53ef0240a4c62bac200d-pi",
           "urlTemplate": "https://a4.typepad.com/6a00d8341e992c53ef0240a4c62bac200d-{spec}",
           "width": 1200
          },
          {
           "height": 1022,
           "url": "https://a4.typepad.com/6a00d8341e992c53ef0240a4c62bdc200d-pi",
           "urlTemplate": "https://a4.typepad.com/6a00d8341e992c53ef0240a4c62bdc200d-{spec}",
           "width": 722
          }
         ],
         "embeddedVideoLinks": [],
         "excerpt": "Kaiser Fung (Junkcharts, Principal Analytics Prep) discusses a chart in which time runs in both directions.",
         "favoriteCount": 0,
         "filename": "graph-literacy-in-a-sense",
         "groups": [],
         "hasExtendedContent": false,
         "id": "tag:api.typepad.com,2009:6a00d8341e992c53ef0240a4c62d4b200d",
         "objectType": "Post",
         "objectTypes": [
          "tag:api.typepad.com,2009:Post"
         ],
         "permalinkUrl": "https://junkcharts.typepad.com/junk_charts/2019/11/graph-literacy-in-a-sense.html",
         "published": "2019-11-14T17:55:00Z",
         "reblogCount": 0,
         "renderedContent": "<p>Ben Jones tweeted out this chart, which has an unusual feature:</p>\r\n<p><a class=\"asset-img-link\" href=\"https://junkcharts.typepad.com/.a/6a00d8341e992c53ef0240a4c62bac200d-pi\" style=\"display: inline;\"><img alt=\"Malefemaleliteracyrates\" class=\"asset  asset-image at-xid-6a00d8341e992c53ef0240a4c62bac200d img-responsive\" src=\"https://junkcharts.typepad.com/.a/6a00d8341e992c53ef0240a4c62bac200d-350wi\" style=\"width: 350px;\" title=\"Malefemaleliteracyrates\" /></a></p>\r\n<p>What&#39;s unusual is that time runs in both directions. Usually, the rule is that time runs left to right (except, of course, in right-to-left cultures). Here, the purple <a href=\"https://junkcharts.typepad.com/junk_charts/area_chart\" title=\"Posts about area chart\">area chart</a> follows that convention while the yellow area chart inverts it.</p>\r\n<p>On the one hand, this is quite cute. Lines meeting in the middle. Converging. I get it.</p>\r\n<p>On the other hand, every time a designer defies conventions, the reader has to recognize it, and to rationalize it.</p>\r\n<p>In this particular graphic, I&#39;m not convinced. There are four numbers only. The trend on either side looks linear so the story is simple. Why complicate it using unusual visual design?</p>\r\n<p>Here is an entirely conventional bumps-like chart that tells the story:</p>\r\n<p><a class=\"asset-img-link\" href=\"https://junkcharts.typepad.com/.a/6a00d8341e992c53ef0240a4c62bdc200d-pi\" style=\"display: inline;\"><img alt=\"Redo_literacyratebygender\" class=\"asset  asset-image at-xid-6a00d8341e992c53ef0240a4c62bdc200d img-responsive\" src=\"https://junkcharts.typepad.com/.a/6a00d8341e992c53ef0240a4c62bdc200d-350wi\" style=\"width: 350px;\" title=\"Redo_literacyratebygender\" /></a></p>\r\n<p>I&#39;ve done a couple of things here that might be considered controversial.</p>\r\n<p>First, I completely straightened out the lines. I don&#39;t see what additional precision is bringing to the chart.</p>\r\n<p>Second, despite having just four numbers, I added the year 1996 and vertical gridlines indicating decades. A Tufte purist will surely object.</p>\r\n<p>***</p>\r\n<p>Related blog post: &quot;The Return on Effort in Data Graphics&quot; (<a href=\"https://junkcharts.typepad.com/junk_charts/2011/08/the-return-on-effort-in-data-graphics.html\" title=\"Link to prior post\">link</a>)</p>",
         "shortUrl": "http://bit.ly/32N9yD5",
         "textFormat": "html",
         "title": "Graph literacy, in a sense",
         "urlId": "6a00d8341e992c53ef0240a4c62d4b200d"
        },
        {
         "author": {
          "aboutMe": "Kaiser Fung, Author, Junk Charts, Numbersense, Numbers Rule Your World",
          "avatarLink": {
           "height": 250,
           "url": "https://static.typepad.com/.shared/default-userpics/03-250si.gif",
           "width": 250
          },
          "displayName": "junkcharts",
          "id": "tag:api.typepad.com,2009:6p00d8341e992c53ef",
          "interests": [
           "practical statistics",
           "data visualization",
           "business analytics",
           "bootcamp",
           "data science"
          ],
          "location": null,
          "objectType": "User",
          "objectTypes": [
           "tag:api.typepad.com,2009:User"
          ],
          "preferredUsername": "junkcharts",
          "profilePageUrl": "http://profile.typepad.com/junkcharts",
          "urlId": "6p00d8341e992c53ef"
         },
         "categories": [
          "Bar chart",
          "Business",
          "Clustering",
          "Color",
          "Living",
          "Small multiples",
          "Trifecta checkup",
          "Variance"
         ],
         "commentCount": 0,
         "container": {
          "displayName": "Junk Charts",
          "homeUrl": "https://junkcharts.typepad.com/junk_charts/",
          "id": "tag:api.typepad.com,2009:6a00d8341e992c53ef00d8341e9a0553ef",
          "objectType": "Blog",
          "urlId": "6a00d8341e992c53ef00d8341e9a0553ef"
         },
         "content": "<p>When I posted about the lack of a standard definition of &quot;millennials&quot;, Dean Eckles tweeted about the arbitrary division of age into generational categories. His view is further reinforced by the following chart, courtesy of PewResearch by way of MarketingCharts.com.</p>\r\n<p><a class=\"asset-img-link\" href=\"https://junkcharts.typepad.com/.a/6a00d8341e992c53ef0240a4e55d9d200b-pi\" style=\"display: inline;\"><img alt=\"PewResearch-Generational-Identification-Sept2015\" class=\"asset  asset-image at-xid-6a00d8341e992c53ef0240a4e55d9d200b img-responsive\" src=\"https://junkcharts.typepad.com/.a/6a00d8341e992c53ef0240a4e55d9d200b-400wi\" style=\"width: 400px;\" title=\"PewResearch-Generational-Identification-Sept2015\" /></a></p>\r\n<p>Pew asked people what generation they belong to. The amount of people who fail to place themselves in the right category is remarkable. One way to interpret this finding is that these are marketing categories created by the marketing profession. We learned in my other <a href=\"https://junkcharts.typepad.com/junk_charts/2019/10/who-is-a-millennial-an-example-of-handling-uncertainty.html\" title=\"Link to prior post\">post</a> that even people who use the term millennial do not have a consensus definition of it. Perhaps the 8 percent of &quot;millennials&quot; who identify as &quot;boomers&quot; are handing in a protest vote!</p>\r\n<p>The chart is best read row by row - the use of stacked <a href=\"https://junkcharts.typepad.com/junk_charts/bar_chart\" title=\"posts about bar charts\">bar charts</a> provides a clue. Forty percent of millennials identified as millennials, which leaves sixty percent identifying as some other generation (with about 5 percent indicating &quot;other&quot; responses).&#0160;</p>\r\n<p>While this chart is not pretty, and may confuse some readers, it actually shows a healthy degree of analytical thinking. Arranging for the row-first interpretation is a good start. The designer also realizes the importance of the diagonal entries - what proportion of each generation self-identify as a member of that generation. Dotted borders are deployed to draw eyes to the diagonal.</p>\r\n<p>***</p>\r\n<p>The design doesn&#39;t do full justice for the analytical intelligence. Despite the use of the bar chart form, readers may be tempted to read column by column due to the color scheme. The chart doesn&#39;t have an easy column-by-column interpretation.</p>\r\n<p>It&#39;s not obvious which axis has the true category and which, the self-identified category. The designer adds a hint in the sub-title to counteract this problem.</p>\r\n<p>Finally, the dotted borders are no match for the differential <a href=\"https://junkcharts.typepad.com/junk_charts/color\" title=\"Posts about color\">colors</a>. So a key message of the chart is buried.</p>\r\n<p>Here is a revised chart, using a grouped bar chart format:</p>\r\n<p><a class=\"asset-img-link\" href=\"https://junkcharts.typepad.com/.a/6a00d8341e992c53ef0240a4c0b67c200d-pi\" style=\"display: inline;\"><img alt=\"Redo_junkcharts_millennial_id\" class=\"asset  asset-image at-xid-6a00d8341e992c53ef0240a4c0b67c200d img-responsive\" src=\"https://junkcharts.typepad.com/.a/6a00d8341e992c53ef0240a4c0b67c200d-400wi\" style=\"width: 400px;\" title=\"Redo_junkcharts_millennial_id\" /></a></p>\r\n<p>***</p>\r\n<p>In a Trifecta checkup (<a href=\"https://bitly.com/trifectacheckup\" title=\"Posts about Trifecta Checkup\">link</a>), the original chart is a Type V chart. It addresses a popular, pertinent question, and it shows mature analytical thinking but the visual design does not do full justice to the data story.</p>\r\n<p>&#0160;</p>\r\n<p>&#0160;</p>",
         "description": "Kaiser Fung (Junkcharts, Principal Analytics Prep) examines poll results from Pew about self-identification by different generations. Millennials identify as millennials only 40 percent of the time.",
         "embeddedAudioLinks": [],
         "embeddedImageLinks": [
          {
           "height": 535,
           "url": "https://a5.typepad.com/6a00d8341e992c53ef0240a4e55d9d200b-pi",
           "urlTemplate": "https://a5.typepad.com/6a00d8341e992c53ef0240a4e55d9d200b-{spec}",
           "width": 1000
          },
          {
           "height": 588,
           "url": "https://a4.typepad.com/6a00d8341e992c53ef0240a4c0b67c200d-pi",
           "urlTemplate": "https://a4.typepad.com/6a00d8341e992c53ef0240a4c0b67c200d-{spec}",
           "width": 1394
          }
         ],
         "embeddedVideoLinks": [],
         "excerpt": "Kaiser Fung (Junkcharts, Principal Analytics Prep) examines poll results from Pew about self-identification by different generations. Millennials identify as millennials only 40 percent of the time.",
         "favoriteCount": 0,
         "filename": "marketers-want-millennials-to-know-theyre-millennials",
         "groups": [],
         "hasExtendedContent": false,
         "id": "tag:api.typepad.com,2009:6a00d8341e992c53ef0240a4e50fa1200b",
         "objectType": "Post",
         "objectTypes": [
          "tag:api.typepad.com,2009:Post"
         ],
         "permalinkUrl": "https://junkcharts.typepad.com/junk_charts/2019/10/marketers-want-millennials-to-know-theyre-millennials.html",
         "published": "2019-10-30T12:37:00Z",
         "reblogCount": 0,
         "renderedContent": "<p>When I posted about the lack of a standard definition of &quot;millennials&quot;, Dean Eckles tweeted about the arbitrary division of age into generational categories. His view is further reinforced by the following chart, courtesy of PewResearch by way of MarketingCharts.com.</p>\r\n<p><a class=\"asset-img-link\" href=\"https://junkcharts.typepad.com/.a/6a00d8341e992c53ef0240a4e55d9d200b-pi\" style=\"display: inline;\"><img alt=\"PewResearch-Generational-Identification-Sept2015\" class=\"asset  asset-image at-xid-6a00d8341e992c53ef0240a4e55d9d200b img-responsive\" src=\"https://junkcharts.typepad.com/.a/6a00d8341e992c53ef0240a4e55d9d200b-400wi\" style=\"width: 400px;\" title=\"PewResearch-Generational-Identification-Sept2015\" /></a></p>\r\n<p>Pew asked people what generation they belong to. The amount of people who fail to place themselves in the right category is remarkable. One way to interpret this finding is that these are marketing categories created by the marketing profession. We learned in my other <a href=\"https://junkcharts.typepad.com/junk_charts/2019/10/who-is-a-millennial-an-example-of-handling-uncertainty.html\" title=\"Link to prior post\">post</a> that even people who use the term millennial do not have a consensus definition of it. Perhaps the 8 percent of &quot;millennials&quot; who identify as &quot;boomers&quot; are handing in a protest vote!</p>\r\n<p>The chart is best read row by row - the use of stacked <a href=\"https://junkcharts.typepad.com/junk_charts/bar_chart\" title=\"posts about bar charts\">bar charts</a> provides a clue. Forty percent of millennials identified as millennials, which leaves sixty percent identifying as some other generation (with about 5 percent indicating &quot;other&quot; responses).&#0160;</p>\r\n<p>While this chart is not pretty, and may confuse some readers, it actually shows a healthy degree of analytical thinking. Arranging for the row-first interpretation is a good start. The designer also realizes the importance of the diagonal entries - what proportion of each generation self-identify as a member of that generation. Dotted borders are deployed to draw eyes to the diagonal.</p>\r\n<p>***</p>\r\n<p>The design doesn&#39;t do full justice for the analytical intelligence. Despite the use of the bar chart form, readers may be tempted to read column by column due to the color scheme. The chart doesn&#39;t have an easy column-by-column interpretation.</p>\r\n<p>It&#39;s not obvious which axis has the true category and which, the self-identified category. The designer adds a hint in the sub-title to counteract this problem.</p>\r\n<p>Finally, the dotted borders are no match for the differential <a href=\"https://junkcharts.typepad.com/junk_charts/color\" title=\"Posts about color\">colors</a>. So a key message of the chart is buried.</p>\r\n<p>Here is a revised chart, using a grouped bar chart format:</p>\r\n<p><a class=\"asset-img-link\" href=\"https://junkcharts.typepad.com/.a/6a00d8341e992c53ef0240a4c0b67c200d-pi\" style=\"display: inline;\"><img alt=\"Redo_junkcharts_millennial_id\" class=\"asset  asset-image at-xid-6a00d8341e992c53ef0240a4c0b67c200d img-responsive\" src=\"https://junkcharts.typepad.com/.a/6a00d8341e992c53ef0240a4c0b67c200d-400wi\" style=\"width: 400px;\" title=\"Redo_junkcharts_millennial_id\" /></a></p>\r\n<p>***</p>\r\n<p>In a Trifecta checkup (<a href=\"https://bitly.com/trifectacheckup\" title=\"Posts about Trifecta Checkup\">link</a>), the original chart is a Type V chart. It addresses a popular, pertinent question, and it shows mature analytical thinking but the visual design does not do full justice to the data story.</p>\r\n<p>&#0160;</p>\r\n<p>&#0160;</p>",
         "shortUrl": "http://bit.ly/331pySH",
         "textFormat": "html",
         "title": "Marketers want millennials to know they're millennials",
         "urlId": "6a00d8341e992c53ef0240a4e50fa1200b"
        },
        {
         "author": {
          "aboutMe": "Kaiser Fung, Author, Junk Charts, Numbersense, Numbers Rule Your World",
          "avatarLink": {
           "height": 250,
           "url": "https://static.typepad.com/.shared/default-userpics/03-250si.gif",
           "width": 250
          },
          "displayName": "junkcharts",
          "id": "tag:api.typepad.com,2009:6p00d8341e992c53ef",
          "interests": [
           "practical statistics",
           "data visualization",
           "business analytics",
           "bootcamp",
           "data science"
          ],
          "location": null,
          "objectType": "User",
          "objectTypes": [
           "tag:api.typepad.com,2009:User"
          ],
          "preferredUsername": "junkcharts",
          "profilePageUrl": "http://profile.typepad.com/junkcharts",
          "urlId": "6p00d8341e992c53ef"
         },
         "categories": [
          "Color",
          "Light entertainment",
          "Living",
          "Scale",
          "Sorting",
          "Web/Tech"
         ],
         "commentCount": 3,
         "container": {
          "displayName": "Junk Charts",
          "homeUrl": "https://junkcharts.typepad.com/junk_charts/",
          "id": "tag:api.typepad.com,2009:6a00d8341e992c53ef00d8341e9a0553ef",
          "objectType": "Blog",
          "urlId": "6a00d8341e992c53ef00d8341e9a0553ef"
         },
         "content": "<p>What colors do the &quot;average&quot; person like the most and the least? The following chart found <a href=\"https://www.hotdesign.com/marketing/whats-your-favorite-color/\" title=\"Link to Scott Design\">here</a> (Scott Design) tells you favorite and least favorite colors by age groups:</p>\r\n<p><a class=\"asset-img-link\" href=\"https://junkcharts.typepad.com/.a/6a00d8341e992c53ef0240a4969274200c-pi\" style=\"display: inline;\"><img alt=\"Color-preferences-by-age\" class=\"asset  asset-image at-xid-6a00d8341e992c53ef0240a4969274200c img-responsive\" src=\"https://junkcharts.typepad.com/.a/6a00d8341e992c53ef0240a4969274200c-350wi\" style=\"width: 350px;\" title=\"Color-preferences-by-age\" /></a></p>\r\n<p>(This is one of a series of charts. A total of 10 colors is covered by the survey. The same color can appear in both favorites and least favorites since these are aggregate proportions. Almost 40% of the respondents are under 18 and only one percent are over 70.)</p>\r\n<p>Here&#39;s one item that has stumped me thus far: how are the <a href=\"https://junkcharts.typepad.com/junk_charts/color\" title=\"Posts about colors\">colors</a> <a href=\"https://junkcharts.typepad.com/junk_charts/sorting\" title=\"Posts about order\">ordered</a> within each figurine?</p>",
         "description": "Kaiser Fung (Junkcharts, Principal Analytics Prep) figures out how to read a chart about colors people love and hate.",
         "embeddedAudioLinks": [],
         "embeddedImageLinks": [
          {
           "height": 1526,
           "url": "https://a4.typepad.com/6a00d8341e992c53ef0240a4969274200c-pi",
           "urlTemplate": "https://a4.typepad.com/6a00d8341e992c53ef0240a4969274200c-{spec}",
           "width": 1880
          }
         ],
         "embeddedVideoLinks": [],
         "excerpt": "Kaiser Fung (Junkcharts, Principal Analytics Prep) figures out how to read a chart about colors people love and hate.",
         "favoriteCount": 0,
         "filename": "light-entertainment-people-of-color",
         "groups": [],
         "hasExtendedContent": false,
         "id": "tag:api.typepad.com,2009:6a00d8341e992c53ef0240a49693b8200c",
         "objectType": "Post",
         "objectTypes": [
          "tag:api.typepad.com,2009:Post"
         ],
         "permalinkUrl": "https://junkcharts.typepad.com/junk_charts/2019/10/light-entertainment-people-of-color.html",
         "published": "2019-10-28T12:50:00Z",
         "reblogCount": 0,
         "renderedContent": "<p>What colors do the &quot;average&quot; person like the most and the least? The following chart found <a href=\"https://www.hotdesign.com/marketing/whats-your-favorite-color/\" title=\"Link to Scott Design\">here</a> (Scott Design) tells you favorite and least favorite colors by age groups:</p>\r\n<p><a class=\"asset-img-link\" href=\"https://junkcharts.typepad.com/.a/6a00d8341e992c53ef0240a4969274200c-pi\" style=\"display: inline;\"><img alt=\"Color-preferences-by-age\" class=\"asset  asset-image at-xid-6a00d8341e992c53ef0240a4969274200c img-responsive\" src=\"https://junkcharts.typepad.com/.a/6a00d8341e992c53ef0240a4969274200c-350wi\" style=\"width: 350px;\" title=\"Color-preferences-by-age\" /></a></p>\r\n<p>(This is one of a series of charts. A total of 10 colors is covered by the survey. The same color can appear in both favorites and least favorites since these are aggregate proportions. Almost 40% of the respondents are under 18 and only one percent are over 70.)</p>\r\n<p>Here&#39;s one item that has stumped me thus far: how are the <a href=\"https://junkcharts.typepad.com/junk_charts/color\" title=\"Posts about colors\">colors</a> <a href=\"https://junkcharts.typepad.com/junk_charts/sorting\" title=\"Posts about order\">ordered</a> within each figurine?</p>",
         "shortUrl": "http://bit.ly/349MGic",
         "textFormat": "html",
         "title": "Light entertainment: people of color",
         "urlId": "6a00d8341e992c53ef0240a49693b8200c"
        },
        {
         "author": {
          "aboutMe": "Kaiser Fung, Author, Junk Charts, Numbersense, Numbers Rule Your World",
          "avatarLink": {
           "height": 250,
           "url": "https://static.typepad.com/.shared/default-userpics/03-250si.gif",
           "width": 250
          },
          "displayName": "junkcharts",
          "id": "tag:api.typepad.com,2009:6p00d8341e992c53ef",
          "interests": [
           "practical statistics",
           "data visualization",
           "business analytics",
           "bootcamp",
           "data science"
          ],
          "location": null,
          "objectType": "User",
          "objectTypes": [
           "tag:api.typepad.com,2009:User"
          ],
          "preferredUsername": "junkcharts",
          "profilePageUrl": "http://profile.typepad.com/junkcharts",
          "urlId": "6p00d8341e992c53ef"
         },
         "categories": [
          "Bar chart",
          "Comparability",
          "Gridlines",
          "Living",
          "Text",
          "Variance"
         ],
         "commentCount": 6,
         "container": {
          "displayName": "Junk Charts",
          "homeUrl": "https://junkcharts.typepad.com/junk_charts/",
          "id": "tag:api.typepad.com,2009:6a00d8341e992c53ef00d8341e9a0553ef",
          "objectType": "Blog",
          "urlId": "6a00d8341e992c53ef00d8341e9a0553ef"
         },
         "content": "<p>I found this fascinating chart from CNBC, which attempts to nail down the definition of a millennial.</p>\r\n<p><a class=\"asset-img-link\" href=\"https://junkcharts.typepad.com/.a/6a00d8341e992c53ef0240a4bba80e200d-pi\" style=\"display: inline;\"><img alt=\"Millennials2-01\" class=\"asset  asset-image at-xid-6a00d8341e992c53ef0240a4bba80e200d img-responsive\" src=\"https://junkcharts.typepad.com/.a/6a00d8341e992c53ef0240a4bba80e200d-350wi\" style=\"width: 350px;\" title=\"Millennials2-01\" /></a></p>\r\n<p>It turns out everyone defines &quot;millennials&quot; differently. They found 23 different definitions. Some media outlets apply different definitions in different items.</p>\r\n<p>I appreciate this effort a lot. The design is thoughtful. In making this chart, the designer added the following guides:</p>\r\n<ul>\r\n<li>The <a href=\"https://junkcharts.typepad.com/junk_charts/text\" title=\"Posts about text\">text</a> draws attention to the definition with the shortest range of birth years, and the one with the largest range.</li>\r\n<li>The dashed gray <a href=\"https://junkcharts.typepad.com/junk_charts/gridlines\" title=\"Posts about gridlines\">gridlines</a> help with reading the endpoints of each bar.</li>\r\n<li>The yellow band illustrates the so-called average range. It appears that this average range is formed by taking the average of the beginning years and the average of the ending years. This indicates a desire to allow <a href=\"https://junkcharts.typepad.com/junk_charts/comparability\" title=\"Posts about comparisons\">comparisons</a> between each definition and the average range.</li>\r\n<li>The bars are ordered by the ending birth year (right edge).</li>\r\n</ul>\r\n<p>The underlying issue is <strong>how to display uncertainty</strong>. The interest here is not just to feature the &quot;average&quot; definition of a millennial but to show the <a href=\"https://junkcharts.typepad.com/junk_charts/variance\" title=\"Posts about variance\">range</a> of definitions.</p>\r\n<p>***</p>\r\n<p>In making my chart, I apply a different way to find the &quot;average&quot; range. Given any year, say 1990, what is the chance that it is included in any of the definitions? In other words, what proportion of the definitions include that year? In the following chart, the darker the color, the more likely that year is included by the &quot;average&quot; opinion.</p>\r\n<p><a class=\"asset-img-link\" href=\"https://junkcharts.typepad.com/.a/6a00d8341e992c53ef0240a4e056cf200b-pi\" style=\"display: inline;\"><img alt=\"Redo_junkcharts_cnbcmillennials\" class=\"asset  asset-image at-xid-6a00d8341e992c53ef0240a4e056cf200b img-responsive\" src=\"https://junkcharts.typepad.com/.a/6a00d8341e992c53ef0240a4e056cf200b-350wi\" style=\"width: 350px;\" title=\"Redo_junkcharts_cnbcmillennials\" /></a></p>\r\n<p>I ordered the bars from shortest to the longest so there is no need to annotate them. Based on this analysis, 90 percent (or higher) of the sources list <span style=\"text-decoration: line-through;\">1965</span>1985 to 1993 as part of the range while 70 percent (or higher) list <span style=\"text-decoration: line-through;\">1961</span>1981 to 1996 as part of the range.</p>\r\n<p>&#0160;</p>\r\n<p>&#0160;</p>",
         "description": "Kaiser shows how to deal with variability in the data, showing how there is no clear definition of who is a millennial. #principalanalyticsprep #junkcharts",
         "embeddedAudioLinks": [],
         "embeddedImageLinks": [
          {
           "height": 2675,
           "url": "https://a6.typepad.com/6a00d8341e992c53ef0240a4bba80e200d-pi",
           "urlTemplate": "https://a6.typepad.com/6a00d8341e992c53ef0240a4bba80e200d-{spec}",
           "width": 2208
          },
          {
           "height": 954,
           "url": "https://a7.typepad.com/6a00d8341e992c53ef0240a4e056cf200b-pi",
           "urlTemplate": "https://a7.typepad.com/6a00d8341e992c53ef0240a4e056cf200b-{spec}",
           "width": 1116
          }
         ],
         "embeddedVideoLinks": [],
         "excerpt": "Kaiser shows how to deal with variability in the data, showing how there is no clear definition of who is a millennial. #principalanalyticsprep #junkcharts",
         "favoriteCount": 0,
         "filename": "who-is-a-millennial-an-example-of-handling-uncertainty",
         "groups": [],
         "hasExtendedContent": false,
         "id": "tag:api.typepad.com,2009:6a00d8341e992c53ef0240a4927c0b200c",
         "objectType": "Post",
         "objectTypes": [
          "tag:api.typepad.com,2009:Post"
         ],
         "permalinkUrl": "https://junkcharts.typepad.com/junk_charts/2019/10/who-is-a-millennial-an-example-of-handling-uncertainty.html",
         "published": "2019-10-17T17:35:00Z",
         "reblogCount": 0,
         "renderedContent": "<p>I found this fascinating chart from CNBC, which attempts to nail down the definition of a millennial.</p>\r\n<p><a class=\"asset-img-link\" href=\"https://junkcharts.typepad.com/.a/6a00d8341e992c53ef0240a4bba80e200d-pi\" style=\"display: inline;\"><img alt=\"Millennials2-01\" class=\"asset  asset-image at-xid-6a00d8341e992c53ef0240a4bba80e200d img-responsive\" src=\"https://junkcharts.typepad.com/.a/6a00d8341e992c53ef0240a4bba80e200d-350wi\" style=\"width: 350px;\" title=\"Millennials2-01\" /></a></p>\r\n<p>It turns out everyone defines &quot;millennials&quot; differently. They found 23 different definitions. Some media outlets apply different definitions in different items.</p>\r\n<p>I appreciate this effort a lot. The design is thoughtful. In making this chart, the designer added the following guides:</p>\r\n<ul>\r\n<li>The <a href=\"https://junkcharts.typepad.com/junk_charts/text\" title=\"Posts about text\">text</a> draws attention to the definition with the shortest range of birth years, and the one with the largest range.</li>\r\n<li>The dashed gray <a href=\"https://junkcharts.typepad.com/junk_charts/gridlines\" title=\"Posts about gridlines\">gridlines</a> help with reading the endpoints of each bar.</li>\r\n<li>The yellow band illustrates the so-called average range. It appears that this average range is formed by taking the average of the beginning years and the average of the ending years. This indicates a desire to allow <a href=\"https://junkcharts.typepad.com/junk_charts/comparability\" title=\"Posts about comparisons\">comparisons</a> between each definition and the average range.</li>\r\n<li>The bars are ordered by the ending birth year (right edge).</li>\r\n</ul>\r\n<p>The underlying issue is <strong>how to display uncertainty</strong>. The interest here is not just to feature the &quot;average&quot; definition of a millennial but to show the <a href=\"https://junkcharts.typepad.com/junk_charts/variance\" title=\"Posts about variance\">range</a> of definitions.</p>\r\n<p>***</p>\r\n<p>In making my chart, I apply a different way to find the &quot;average&quot; range. Given any year, say 1990, what is the chance that it is included in any of the definitions? In other words, what proportion of the definitions include that year? In the following chart, the darker the color, the more likely that year is included by the &quot;average&quot; opinion.</p>\r\n<p><a class=\"asset-img-link\" href=\"https://junkcharts.typepad.com/.a/6a00d8341e992c53ef0240a4e056cf200b-pi\" style=\"display: inline;\"><img alt=\"Redo_junkcharts_cnbcmillennials\" class=\"asset  asset-image at-xid-6a00d8341e992c53ef0240a4e056cf200b img-responsive\" src=\"https://junkcharts.typepad.com/.a/6a00d8341e992c53ef0240a4e056cf200b-350wi\" style=\"width: 350px;\" title=\"Redo_junkcharts_cnbcmillennials\" /></a></p>\r\n<p>I ordered the bars from shortest to the longest so there is no need to annotate them. Based on this analysis, 90 percent (or higher) of the sources list <span style=\"text-decoration: line-through;\">1965</span>1985 to 1993 as part of the range while 70 percent (or higher) list <span style=\"text-decoration: line-through;\">1961</span>1981 to 1996 as part of the range.</p>\r\n<p>&#0160;</p>\r\n<p>&#0160;</p>",
         "shortUrl": "http://bit.ly/31kLyGt",
         "textFormat": "html",
         "title": "Who is a millennial? An example of handling uncertainty",
         "urlId": "6a00d8341e992c53ef0240a4927c0b200c"
        },
        {
         "author": {
          "aboutMe": "Kaiser Fung, Author, Junk Charts, Numbersense, Numbers Rule Your World",
          "avatarLink": {
           "height": 250,
           "url": "https://static.typepad.com/.shared/default-userpics/03-250si.gif",
           "width": 250
          },
          "displayName": "junkcharts",
          "id": "tag:api.typepad.com,2009:6p00d8341e992c53ef",
          "interests": [
           "practical statistics",
           "data visualization",
           "business analytics",
           "bootcamp",
           "data science"
          ],
          "location": null,
          "objectType": "User",
          "objectTypes": [
           "tag:api.typepad.com,2009:User"
          ],
          "preferredUsername": "junkcharts",
          "profilePageUrl": "http://profile.typepad.com/junkcharts",
          "urlId": "6p00d8341e992c53ef"
         },
         "categories": [
          "Axis",
          "Economist",
          "Education",
          "Food and Drink",
          "Scatter plot",
          "Statistics",
          "Trifecta checkup",
          "Variance"
         ],
         "commentCount": 7,
         "container": {
          "displayName": "Junk Charts",
          "homeUrl": "https://junkcharts.typepad.com/junk_charts/",
          "id": "tag:api.typepad.com,2009:6a00d8341e992c53ef00d8341e9a0553ef",
          "objectType": "Blog",
          "urlId": "6a00d8341e992c53ef00d8341e9a0553ef"
         },
         "content": "<p>When making a scatter plot, the two variables should not be placed arbitrarily. There is a rule governing this: the outcome variable should be shown on the vertical axis (also called y-axis), and the explanatory variable on the horizontal (or x-) axis.</p>\r\n<p>This chart from the archives of the <a href=\"https://junkcharts.typepad.com/junk_charts/economist\" title=\"Discussion of Economist charts\">Economist</a> has this reversed:</p>\r\n<p><a class=\"asset-img-link\" href=\"https://junkcharts.typepad.com/.a/6a00d8341e992c53ef0240a4badcbc200d-pi\" style=\"display: inline;\"><img alt=\"20160402_WOC883_icecream_PISA\" class=\"asset  asset-image at-xid-6a00d8341e992c53ef0240a4badcbc200d img-responsive\" src=\"https://junkcharts.typepad.com/.a/6a00d8341e992c53ef0240a4badcbc200d-400wi\" style=\"width: 400px;\" title=\"20160402_WOC883_icecream_PISA\" /></a></p>\r\n<p>The title of the accompanying <a href=\"https://www.economist.com/graphic-detail/2016/04/01/ice-cream-and-iq\" title=\"Link to Economist\">article</a> is &quot;Ice Cream and IQ&quot;...</p>\r\n<p>In a <strong>Trifecta Checkup </strong>(<a href=\"https://bitly.com/trifectacheckup\" title=\"Guide to Trifecta Checkup\">link</a>), it&#39;s a <strong>Type DV</strong> chart. It&#39;s preposterous to claim eating ice cream makes one smarter without more careful studies. The chart also carries the <a href=\"https://junkcharts.typepad.com/numbersruleyourworld/xyopia\" title=\"Posts about xyopia\"><strong>xyopia</strong></a> fallacy: by showing just two variables, readers are unwittingly led to explain differences in &quot;IQ&quot; using differences in per-capita ice-cream consumption when lots of other stronger variables will explain any gaps in IQ.</p>\r\n<p>In this post, I put aside my objections to the analysis, and focus on the issue of assigning variables to axes. Notice that this chart reverses the convention: the outcome variable (IQ) is shown on the horizontal, and the explanatory variable (ice cream) is shown on the vertical.</p>\r\n<p>Here is a reconstruction of the above chart, showing only the dots that were labeled with country names. I fitted a straight regression line instead of a curve. (I don&#39;t understand why the red line in the original chart bends upwards when the data for Japan, South Korea, Singapore and Hong Kong should be dragging it down.)</p>\r\n<p><a class=\"asset-img-link\" href=\"https://junkcharts.typepad.com/.a/6a00d8341e992c53ef0240a4df8982200b-pi\" style=\"display: inline;\"><img alt=\"Redo_econ_icecreamIQ_1A\" class=\"asset  asset-image at-xid-6a00d8341e992c53ef0240a4df8982200b img-responsive\" src=\"https://junkcharts.typepad.com/.a/6a00d8341e992c53ef0240a4df8982200b-500wi\" style=\"width: 500px;\" title=\"Redo_econ_icecreamIQ_1A\" /></a></p>\r\n<p>Note that the interpretation of the regression line raises eyebrows because the presumed causality is reversed. For each 50 points increase in PISA score (IQ), this line says to expect ice cream consumption to raise by about 1-2 liters per person per year. So higher IQ makes people eat more ice cream.</p>\r\n<p>***</p>\r\n<p>If the convention is respected, then the following <a href=\"https://junkcharts.typepad.com/junk_charts/scatter_plot\" title=\"Posts about scatter plots\">scatter plot</a> results:</p>\r\n<p><a class=\"asset-img-link\" href=\"https://junkcharts.typepad.com/.a/6a00d8341e992c53ef0240a4df89c0200b-pi\" style=\"display: inline;\"><img alt=\"Redo_econ_icecreamIQ_2\" class=\"asset  asset-image at-xid-6a00d8341e992c53ef0240a4df89c0200b img-responsive\" src=\"https://junkcharts.typepad.com/.a/6a00d8341e992c53ef0240a4df89c0200b-500wi\" style=\"width: 500px;\" title=\"Redo_econ_icecreamIQ_2\" /></a></p>\r\n<p>The first thing to note is that the regression analysis is different here from that shown in the previous chart. The blue regression line is not equivalent to the black regression line from the previous chart. You cannot reverse the roles of the x and y variables in a regression analysis, and so neither should you reverse the roles of the x and y variables in a scatter plot.</p>\r\n<p>The blue regression line can be interpreted as having two sections, roughly, for countries consuming more than or less than 6 liters of ice cream per person per year. In the less-ice-cream countries, the correlation between ice cream and IQ is stronger (I don&#39;t endorse the causal interpretation of this statement).</p>\r\n<p>***</p>\r\n<p>When you make a scatter plot, you have two variables for which you want to analyze their correlation. In most cases, you are exploring a cause-effect relationship.</p>\r\n<p>Higher income households cares more on politics. <br />Less educated citizens are more likely to not register to vote. <br />Companies with more diverse workforce has better business performance.</p>\r\n<p>Frequently, the reverse correlation does not admit a causal interpretation:</p>\r\n<p>Caring more about politics does not make one richer.<br />Not registering to vote does not make one less educated.<br />Making more profits does not lead to more diversity in hiring.</p>\r\n<p>In each of these examples, it&#39;s clear that one variable is the outcome, the other variable is the explanatory factor. Always put the outcome in the vertical axis, and the explanation in the horizontal axis.</p>\r\n<p>The justification is scientific. If you are going to add a regression line (what Excel calls a &quot;trendline&quot;), you must follow this convention, otherwise, your regression analysis will yield the wrong result, with an absurd interpretation!</p>\r\n<p>&#0160;</p>\r\n<p>[PS. 11/3/2019: The <a href=\"https://junkcharts.typepad.com/junk_charts/2019/10/the-rule-governing-which-variable-to-put-on-which-axis-served-a-la-mode.html#comments\" title=\"Link to comments\">comments</a> below contain different theories that link the two variables, including theories that treat PISA score (&quot;IQ&quot;) as the explanatory variable and ice cream consumption as the outcome. Also, I elaborated that the rule does not dictate which variable is the outcome - the designer effectively signals to the reader which variable is regarded as the outcome by placing it in the vertical axis.]</p>",
         "description": "Kaiser explains which variable you should place on which axis, when making a scatter plot. A long-ago chart by the Economist explored ice cream and IQ but reversed the roles of the variables.",
         "embeddedAudioLinks": [],
         "embeddedImageLinks": [
          {
           "height": 710,
           "url": "https://a4.typepad.com/6a00d8341e992c53ef0240a4badcbc200d-pi",
           "urlTemplate": "https://a4.typepad.com/6a00d8341e992c53ef0240a4badcbc200d-{spec}",
           "width": 1190
          },
          {
           "height": 1000,
           "url": "https://a2.typepad.com/6a00d8341e992c53ef0240a4df8982200b-pi",
           "urlTemplate": "https://a2.typepad.com/6a00d8341e992c53ef0240a4df8982200b-{spec}",
           "width": 1816
          },
          {
           "height": 912,
           "url": "https://a0.typepad.com/6a00d8341e992c53ef0240a4df89c0200b-pi",
           "urlTemplate": "https://a0.typepad.com/6a00d8341e992c53ef0240a4df89c0200b-{spec}",
           "width": 1646
          }
         ],
         "embeddedVideoLinks": [],
         "excerpt": "Kaiser explains which variable you should place on which axis, when making a scatter plot. A long-ago chart by the Economist explored ice cream and IQ but reversed the roles of the variables.",
         "favoriteCount": 0,
         "filename": "the-rule-governing-which-variable-to-put-on-which-axis-served-a-la-mode",
         "groups": [],
         "hasExtendedContent": false,
         "id": "tag:api.typepad.com,2009:6a00d8341e992c53ef0240a4df89d0200b",
         "objectType": "Post",
         "objectTypes": [
          "tag:api.typepad.com,2009:Post"
         ],
         "permalinkUrl": "https://junkcharts.typepad.com/junk_charts/2019/10/the-rule-governing-which-variable-to-put-on-which-axis-served-a-la-mode.html",
         "published": "2019-10-16T12:05:00Z",
         "reblogCount": 0,
         "renderedContent": "<p>When making a scatter plot, the two variables should not be placed arbitrarily. There is a rule governing this: the outcome variable should be shown on the vertical axis (also called y-axis), and the explanatory variable on the horizontal (or x-) axis.</p>\r\n<p>This chart from the archives of the <a href=\"https://junkcharts.typepad.com/junk_charts/economist\" title=\"Discussion of Economist charts\">Economist</a> has this reversed:</p>\r\n<p><a class=\"asset-img-link\" href=\"https://junkcharts.typepad.com/.a/6a00d8341e992c53ef0240a4badcbc200d-pi\" style=\"display: inline;\"><img alt=\"20160402_WOC883_icecream_PISA\" class=\"asset  asset-image at-xid-6a00d8341e992c53ef0240a4badcbc200d img-responsive\" src=\"https://junkcharts.typepad.com/.a/6a00d8341e992c53ef0240a4badcbc200d-400wi\" style=\"width: 400px;\" title=\"20160402_WOC883_icecream_PISA\" /></a></p>\r\n<p>The title of the accompanying <a href=\"https://www.economist.com/graphic-detail/2016/04/01/ice-cream-and-iq\" title=\"Link to Economist\">article</a> is &quot;Ice Cream and IQ&quot;...</p>\r\n<p>In a <strong>Trifecta Checkup </strong>(<a href=\"https://bitly.com/trifectacheckup\" title=\"Guide to Trifecta Checkup\">link</a>), it&#39;s a <strong>Type DV</strong> chart. It&#39;s preposterous to claim eating ice cream makes one smarter without more careful studies. The chart also carries the <a href=\"https://junkcharts.typepad.com/numbersruleyourworld/xyopia\" title=\"Posts about xyopia\"><strong>xyopia</strong></a> fallacy: by showing just two variables, readers are unwittingly led to explain differences in &quot;IQ&quot; using differences in per-capita ice-cream consumption when lots of other stronger variables will explain any gaps in IQ.</p>\r\n<p>In this post, I put aside my objections to the analysis, and focus on the issue of assigning variables to axes. Notice that this chart reverses the convention: the outcome variable (IQ) is shown on the horizontal, and the explanatory variable (ice cream) is shown on the vertical.</p>\r\n<p>Here is a reconstruction of the above chart, showing only the dots that were labeled with country names. I fitted a straight regression line instead of a curve. (I don&#39;t understand why the red line in the original chart bends upwards when the data for Japan, South Korea, Singapore and Hong Kong should be dragging it down.)</p>\r\n<p><a class=\"asset-img-link\" href=\"https://junkcharts.typepad.com/.a/6a00d8341e992c53ef0240a4df8982200b-pi\" style=\"display: inline;\"><img alt=\"Redo_econ_icecreamIQ_1A\" class=\"asset  asset-image at-xid-6a00d8341e992c53ef0240a4df8982200b img-responsive\" src=\"https://junkcharts.typepad.com/.a/6a00d8341e992c53ef0240a4df8982200b-500wi\" style=\"width: 500px;\" title=\"Redo_econ_icecreamIQ_1A\" /></a></p>\r\n<p>Note that the interpretation of the regression line raises eyebrows because the presumed causality is reversed. For each 50 points increase in PISA score (IQ), this line says to expect ice cream consumption to raise by about 1-2 liters per person per year. So higher IQ makes people eat more ice cream.</p>\r\n<p>***</p>\r\n<p>If the convention is respected, then the following <a href=\"https://junkcharts.typepad.com/junk_charts/scatter_plot\" title=\"Posts about scatter plots\">scatter plot</a> results:</p>\r\n<p><a class=\"asset-img-link\" href=\"https://junkcharts.typepad.com/.a/6a00d8341e992c53ef0240a4df89c0200b-pi\" style=\"display: inline;\"><img alt=\"Redo_econ_icecreamIQ_2\" class=\"asset  asset-image at-xid-6a00d8341e992c53ef0240a4df89c0200b img-responsive\" src=\"https://junkcharts.typepad.com/.a/6a00d8341e992c53ef0240a4df89c0200b-500wi\" style=\"width: 500px;\" title=\"Redo_econ_icecreamIQ_2\" /></a></p>\r\n<p>The first thing to note is that the regression analysis is different here from that shown in the previous chart. The blue regression line is not equivalent to the black regression line from the previous chart. You cannot reverse the roles of the x and y variables in a regression analysis, and so neither should you reverse the roles of the x and y variables in a scatter plot.</p>\r\n<p>The blue regression line can be interpreted as having two sections, roughly, for countries consuming more than or less than 6 liters of ice cream per person per year. In the less-ice-cream countries, the correlation between ice cream and IQ is stronger (I don&#39;t endorse the causal interpretation of this statement).</p>\r\n<p>***</p>\r\n<p>When you make a scatter plot, you have two variables for which you want to analyze their correlation. In most cases, you are exploring a cause-effect relationship.</p>\r\n<p>Higher income households cares more on politics. <br />Less educated citizens are more likely to not register to vote. <br />Companies with more diverse workforce has better business performance.</p>\r\n<p>Frequently, the reverse correlation does not admit a causal interpretation:</p>\r\n<p>Caring more about politics does not make one richer.<br />Not registering to vote does not make one less educated.<br />Making more profits does not lead to more diversity in hiring.</p>\r\n<p>In each of these examples, it&#39;s clear that one variable is the outcome, the other variable is the explanatory factor. Always put the outcome in the vertical axis, and the explanation in the horizontal axis.</p>\r\n<p>The justification is scientific. If you are going to add a regression line (what Excel calls a &quot;trendline&quot;), you must follow this convention, otherwise, your regression analysis will yield the wrong result, with an absurd interpretation!</p>\r\n<p>&#0160;</p>\r\n<p>[PS. 11/3/2019: The <a href=\"https://junkcharts.typepad.com/junk_charts/2019/10/the-rule-governing-which-variable-to-put-on-which-axis-served-a-la-mode.html#comments\" title=\"Link to comments\">comments</a> below contain different theories that link the two variables, including theories that treat PISA score (&quot;IQ&quot;) as the explanatory variable and ice cream consumption as the outcome. Also, I elaborated that the rule does not dictate which variable is the outcome - the designer effectively signals to the reader which variable is regarded as the outcome by placing it in the vertical axis.]</p>",
         "shortUrl": "http://bit.ly/2oO4bVZ",
         "textFormat": "html",
         "title": "The rule governing which variable to put on which axis, served a la mode",
         "urlId": "6a00d8341e992c53ef0240a4df89d0200b"
        },
        {
         "author": {
          "aboutMe": "Kaiser Fung, Author, Junk Charts, Numbersense, Numbers Rule Your World",
          "avatarLink": {
           "height": 250,
           "url": "https://static.typepad.com/.shared/default-userpics/03-250si.gif",
           "width": 250
          },
          "displayName": "junkcharts",
          "id": "tag:api.typepad.com,2009:6p00d8341e992c53ef",
          "interests": [
           "practical statistics",
           "data visualization",
           "business analytics",
           "bootcamp",
           "data science"
          ],
          "location": null,
          "objectType": "User",
          "objectTypes": [
           "tag:api.typepad.com,2009:User"
          ],
          "preferredUsername": "junkcharts",
          "profilePageUrl": "http://profile.typepad.com/junkcharts",
          "urlId": "6p00d8341e992c53ef"
         },
         "categories": [
          "Statistics"
         ],
         "commentCount": 0,
         "container": {
          "displayName": "Junk Charts",
          "homeUrl": "https://junkcharts.typepad.com/junk_charts/",
          "id": "tag:api.typepad.com,2009:6a00d8341e992c53ef00d8341e9a0553ef",
          "objectType": "Blog",
          "urlId": "6a00d8341e992c53ef00d8341e9a0553ef"
         },
         "content": "<p>There are some statistical concepts that all data visualization practitioners should know about, and the concept of <strong>statistical significance</strong> is one of them.</p>\r\n<p>It&#39;s a hard concept to grasp because it requires one to think beyond the data that are collected. The abstract thinking is necessary since we typically want to make general statements - while using the collected data as evidence.</p>\r\n<p>My new <a href=\"https://youtu.be/Zk6m5H-SOTc\" title=\"Link to Youtube\">video</a> in the <strong>Data Science: The Missing Pieces</strong> series explains statistical significance. To be precise, it explains <strong>NOT statistically significant</strong>. When something is not significant, it causes all sorts of anxieties, panics, half-measures, re-examinations, and havoc. Much of the time, the result is confusion and misinterpretation.</p>\r\n<p>The video addresses a recent news item - Instagram&#39;s experiment to hide the Like count. See for example this <a href=\"https://www.buzzfeednews.com/article/ryanmac/instagram-hide-like-counts-in-test%20the like counter\" title=\"Link to Instagram\">article</a>. After running this experiment, Instagram&#39;s analysts will look for statistical significance. If the result is NOT significant, what does it mean?</p>\r\n<p>Check out the <a href=\"https://youtu.be/Zk6m5H-SOTc\" title=\"Link to YouTube\">video</a> for more.</p>\r\n<p>&#0160;</p>\r\n<p class=\"asset-video\"><iframe allow=\"accelerometer; autoplay; encrypted-media; gyroscope; picture-in-picture\" allowfullscreen=\"\" frameborder=\"0\" height=\"281\" src=\"https://www.youtube.com/embed/Zk6m5H-SOTc?feature=oembed\" width=\"500\"></iframe></p>\r\n<p>***<br />Placed here to serve the machine:</p>\r\n<p><a class=\"asset-img-link\" href=\"https://youtu.be/Zk6m5H-SOTc\" style=\"display: inline;\" title=\"Link to Youtube\"><img alt=\"DSTMP3_thumb_significance\" class=\"asset  asset-image at-xid-6a00d8341e992c53ef0240a4dc8b26200b img-responsive\" src=\"https://junkcharts.typepad.com/.a/6a00d8341e992c53ef0240a4dc8b26200b-350wi\" style=\"width: 350px;\" title=\"DSTMP3_thumb_significance\" /></a></p>",
         "description": "Kaiser explains what it means to be \"not statistically significant\" while commenting on Instagram's experiment on hiding the Likes counter.",
         "embeddedAudioLinks": [],
         "embeddedImageLinks": [
          {
           "height": 1052,
           "url": "https://a6.typepad.com/6a00d8341e992c53ef0240a4dc8b26200b-pi",
           "urlTemplate": "https://a6.typepad.com/6a00d8341e992c53ef0240a4dc8b26200b-{spec}",
           "width": 1864
          }
         ],
         "embeddedVideoLinks": [
          {
           "embedCode": "<iframe allow=\"accelerometer; autoplay; encrypted-media; gyroscope; picture-in-picture\" allowfullscreen=\"\" frameborder=\"0\" height=\"281\" src=\"https://www.youtube.com/embed/Zk6m5H-SOTc?feature=oembed\" width=\"500\"></iframe>"
          }
         ],
         "excerpt": "Kaiser explains what it means to be \"not statistically significant\" while commenting on Instagram's experiment on hiding the Likes counter.",
         "favoriteCount": 0,
         "filename": "statistical-significance-explainer-and-instagrams-experiment-to-hide-likes",
         "groups": [],
         "hasExtendedContent": false,
         "id": "tag:api.typepad.com,2009:6a00d8341e992c53ef0240a4b7f7a2200d",
         "objectType": "Post",
         "objectTypes": [
          "tag:api.typepad.com,2009:Post"
         ],
         "permalinkUrl": "https://junkcharts.typepad.com/junk_charts/2019/10/statistical-significance-explainer-and-instagrams-experiment-to-hide-likes.html",
         "published": "2019-10-09T16:25:00Z",
         "reblogCount": 0,
         "renderedContent": "<p>There are some statistical concepts that all data visualization practitioners should know about, and the concept of <strong>statistical significance</strong> is one of them.</p>\r\n<p>It&#39;s a hard concept to grasp because it requires one to think beyond the data that are collected. The abstract thinking is necessary since we typically want to make general statements - while using the collected data as evidence.</p>\r\n<p>My new <a href=\"https://youtu.be/Zk6m5H-SOTc\" title=\"Link to Youtube\">video</a> in the <strong>Data Science: The Missing Pieces</strong> series explains statistical significance. To be precise, it explains <strong>NOT statistically significant</strong>. When something is not significant, it causes all sorts of anxieties, panics, half-measures, re-examinations, and havoc. Much of the time, the result is confusion and misinterpretation.</p>\r\n<p>The video addresses a recent news item - Instagram&#39;s experiment to hide the Like count. See for example this <a href=\"https://www.buzzfeednews.com/article/ryanmac/instagram-hide-like-counts-in-test%20the like counter\" title=\"Link to Instagram\">article</a>. After running this experiment, Instagram&#39;s analysts will look for statistical significance. If the result is NOT significant, what does it mean?</p>\r\n<p>Check out the <a href=\"https://youtu.be/Zk6m5H-SOTc\" title=\"Link to YouTube\">video</a> for more.</p>\r\n<p>&#0160;</p>\r\n<p class=\"asset-video\"><iframe allow=\"accelerometer; autoplay; encrypted-media; gyroscope; picture-in-picture\" allowfullscreen=\"\" frameborder=\"0\" height=\"281\" src=\"https://www.youtube.com/embed/Zk6m5H-SOTc?feature=oembed\" width=\"500\"></iframe></p>\r\n<p>***<br />Placed here to serve the machine:</p>\r\n<p><a class=\"asset-img-link\" href=\"https://youtu.be/Zk6m5H-SOTc\" style=\"display: inline;\" title=\"Link to Youtube\"><img alt=\"DSTMP3_thumb_significance\" class=\"asset  asset-image at-xid-6a00d8341e992c53ef0240a4dc8b26200b img-responsive\" src=\"https://junkcharts.typepad.com/.a/6a00d8341e992c53ef0240a4dc8b26200b-350wi\" style=\"width: 350px;\" title=\"DSTMP3_thumb_significance\" /></a></p>",
         "shortUrl": "http://bit.ly/2LYVbX2",
         "textFormat": "html",
         "title": "Statistical significance explainer, and Instagram's experiment to hide Likes",
         "urlId": "6a00d8341e992c53ef0240a4b7f7a2200d"
        },
        {
         "author": {
          "aboutMe": "Kaiser Fung, Author, Junk Charts, Numbersense, Numbers Rule Your World",
          "avatarLink": {
           "height": 250,
           "url": "https://static.typepad.com/.shared/default-userpics/03-250si.gif",
           "width": 250
          },
          "displayName": "junkcharts",
          "id": "tag:api.typepad.com,2009:6p00d8341e992c53ef",
          "interests": [
           "practical statistics",
           "data visualization",
           "business analytics",
           "bootcamp",
           "data science"
          ],
          "location": null,
          "objectType": "User",
          "objectTypes": [
           "tag:api.typepad.com,2009:User"
          ],
          "preferredUsername": "junkcharts",
          "profilePageUrl": "http://profile.typepad.com/junkcharts",
          "urlId": "6p00d8341e992c53ef"
         },
         "categories": [
          "Bar chart",
          "Business",
          "Data",
          "Economics",
          "Gridlines",
          "Time series",
          "Trifecta checkup",
          "Web/Tech"
         ],
         "commentCount": 3,
         "container": {
          "displayName": "Junk Charts",
          "homeUrl": "https://junkcharts.typepad.com/junk_charts/",
          "id": "tag:api.typepad.com,2009:6a00d8341e992c53ef00d8341e9a0553ef",
          "objectType": "Blog",
          "urlId": "6a00d8341e992c53ef00d8341e9a0553ef"
         },
         "content": "<p>The Hustle has an interesting <a href=\"https://thehustle.co/graphing-calculators-expensive/\" title=\"Link to Hustle\">article</a> on the demise of the TI calculator, which is popular in business circles. The article uses this <a href=\"https://junkcharts.typepad.com/junk_charts/bar_chart\" title=\"posts about bar charts\">bar chart</a>:</p>\r\n<p><a class=\"asset-img-link\" href=\"https://junkcharts.typepad.com/.a/6a00d8341e992c53ef0240a48bc2b9200c-pi\" style=\"display: inline;\"><img alt=\"Hustle_ti_calculator_chart\" class=\"asset  asset-image at-xid-6a00d8341e992c53ef0240a48bc2b9200c img-responsive\" src=\"https://junkcharts.typepad.com/.a/6a00d8341e992c53ef0240a48bc2b9200c-350wi\" style=\"width: 350px;\" title=\"Hustle_ti_calculator_chart\" /></a></p>\r\n<p>From a Trifecta Checkup perspective, this is a Type DV chart. (See this <a href=\"https://bitly.com/trifectacheckup\" title=\"Guide to Trifecta Checkup by Junkcharts\">guide</a> to the Trifecta Checkup.)</p>\r\n<p>The chart addresses a nice question: is the TI graphing calculator a victim of new technologies?</p>\r\n<p>The visual design is marred by the use of the calculator images. The images add nothing to our understanding and create potential for confusion. Here is a version without the images for comparison.</p>\r\n<p><a class=\"asset-img-link\" href=\"https://junkcharts.typepad.com/.a/6a00d8341e992c53ef0240a4b50f75200d-pi\" style=\"display: inline;\"><img alt=\"Redo_junkcharts_hustlet1calc\" class=\"asset  asset-image at-xid-6a00d8341e992c53ef0240a4b50f75200d img-responsive\" src=\"https://junkcharts.typepad.com/.a/6a00d8341e992c53ef0240a4b50f75200d-350wi\" style=\"width: 350px;\" title=\"Redo_junkcharts_hustlet1calc\" /></a></p>\r\n<p>The gridlines are placed to reveal the steepness of the decline. The sales in 2019 will likely be half those of 2014.</p>\r\n<p>What about the Data? This would have been straightforward if the revenues shown are sales of the TI calculator. But according to the subtitle, the data include a whole lot more than calculators - it&#39;s the &quot;other revenues&quot; category in the financial reports of Texas Instrument which markets the TI.&#0160;</p>\r\n<p>It requires a leap of faith to believe this data. It is entirely possible that TI calculator sales increased while total &quot;other revenues&quot; decreased! The decline of TI calculator could be more drastic than shown here. We simply don&#39;t have enough data to say for sure.</p>\r\n<p>&#0160;</p>\r\n<p>P.S. [10/3/2019] Fixed TI.</p>\r\n<p>&#0160;</p>\r\n<p>&#0160;</p>",
         "description": "Kaiser Fung (Junkcharts, Principal Analytics Prep) applies the Trifecta Checkup on a bar chart about T1 calculators from the Hustle.",
         "embeddedAudioLinks": [],
         "embeddedImageLinks": [
          {
           "height": 502,
           "url": "https://a1.typepad.com/6a00d8341e992c53ef0240a48bc2b9200c-pi",
           "urlTemplate": "https://a1.typepad.com/6a00d8341e992c53ef0240a48bc2b9200c-{spec}",
           "width": 600
          },
          {
           "height": 960,
           "url": "https://a5.typepad.com/6a00d8341e992c53ef0240a4b50f75200d-pi",
           "urlTemplate": "https://a5.typepad.com/6a00d8341e992c53ef0240a4b50f75200d-{spec}",
           "width": 1144
          }
         ],
         "embeddedVideoLinks": [],
         "excerpt": "Kaiser Fung (Junkcharts, Principal Analytics Prep) applies the Trifecta Checkup on a bar chart about T1 calculators from the Hustle.",
         "favoriteCount": 0,
         "filename": "does-this-chart-tell-the-sordid-tale-of-t1s-decline",
         "groups": [],
         "hasExtendedContent": false,
         "id": "tag:api.typepad.com,2009:6a00d8341e992c53ef0240a4d99ce3200b",
         "objectType": "Post",
         "objectTypes": [
          "tag:api.typepad.com,2009:Post"
         ],
         "permalinkUrl": "https://junkcharts.typepad.com/junk_charts/2019/10/does-this-chart-tell-the-sordid-tale-of-t1s-decline.html",
         "published": "2019-10-03T12:55:00Z",
         "reblogCount": 0,
         "renderedContent": "<p>The Hustle has an interesting <a href=\"https://thehustle.co/graphing-calculators-expensive/\" title=\"Link to Hustle\">article</a> on the demise of the TI calculator, which is popular in business circles. The article uses this <a href=\"https://junkcharts.typepad.com/junk_charts/bar_chart\" title=\"posts about bar charts\">bar chart</a>:</p>\r\n<p><a class=\"asset-img-link\" href=\"https://junkcharts.typepad.com/.a/6a00d8341e992c53ef0240a48bc2b9200c-pi\" style=\"display: inline;\"><img alt=\"Hustle_ti_calculator_chart\" class=\"asset  asset-image at-xid-6a00d8341e992c53ef0240a48bc2b9200c img-responsive\" src=\"https://junkcharts.typepad.com/.a/6a00d8341e992c53ef0240a48bc2b9200c-350wi\" style=\"width: 350px;\" title=\"Hustle_ti_calculator_chart\" /></a></p>\r\n<p>From a Trifecta Checkup perspective, this is a Type DV chart. (See this <a href=\"https://bitly.com/trifectacheckup\" title=\"Guide to Trifecta Checkup by Junkcharts\">guide</a> to the Trifecta Checkup.)</p>\r\n<p>The chart addresses a nice question: is the TI graphing calculator a victim of new technologies?</p>\r\n<p>The visual design is marred by the use of the calculator images. The images add nothing to our understanding and create potential for confusion. Here is a version without the images for comparison.</p>\r\n<p><a class=\"asset-img-link\" href=\"https://junkcharts.typepad.com/.a/6a00d8341e992c53ef0240a4b50f75200d-pi\" style=\"display: inline;\"><img alt=\"Redo_junkcharts_hustlet1calc\" class=\"asset  asset-image at-xid-6a00d8341e992c53ef0240a4b50f75200d img-responsive\" src=\"https://junkcharts.typepad.com/.a/6a00d8341e992c53ef0240a4b50f75200d-350wi\" style=\"width: 350px;\" title=\"Redo_junkcharts_hustlet1calc\" /></a></p>\r\n<p>The gridlines are placed to reveal the steepness of the decline. The sales in 2019 will likely be half those of 2014.</p>\r\n<p>What about the Data? This would have been straightforward if the revenues shown are sales of the TI calculator. But according to the subtitle, the data include a whole lot more than calculators - it&#39;s the &quot;other revenues&quot; category in the financial reports of Texas Instrument which markets the TI.&#0160;</p>\r\n<p>It requires a leap of faith to believe this data. It is entirely possible that TI calculator sales increased while total &quot;other revenues&quot; decreased! The decline of TI calculator could be more drastic than shown here. We simply don&#39;t have enough data to say for sure.</p>\r\n<p>&#0160;</p>\r\n<p>P.S. [10/3/2019] Fixed TI.</p>\r\n<p>&#0160;</p>\r\n<p>&#0160;</p>",
         "shortUrl": "http://bit.ly/2pGKEXO",
         "textFormat": "html",
         "title": "Does this chart tell the sordid tale of TI's decline?",
         "urlId": "6a00d8341e992c53ef0240a4d99ce3200b"
        },
        {
         "author": {
          "aboutMe": "Kaiser Fung, Author, Junk Charts, Numbersense, Numbers Rule Your World",
          "avatarLink": {
           "height": 250,
           "url": "https://static.typepad.com/.shared/default-userpics/03-250si.gif",
           "width": 250
          },
          "displayName": "junkcharts",
          "id": "tag:api.typepad.com,2009:6p00d8341e992c53ef",
          "interests": [
           "practical statistics",
           "data visualization",
           "business analytics",
           "bootcamp",
           "data science"
          ],
          "location": null,
          "objectType": "User",
          "objectTypes": [
           "tag:api.typepad.com,2009:User"
          ],
          "preferredUsername": "junkcharts",
          "profilePageUrl": "http://profile.typepad.com/junkcharts",
          "urlId": "6p00d8341e992c53ef"
         },
         "categories": [
          "Clustering",
          "Current Affairs",
          "Flow chart",
          "Sports",
          "Time series",
          "Wikipedia"
         ],
         "commentCount": 1,
         "container": {
          "displayName": "Junk Charts",
          "homeUrl": "https://junkcharts.typepad.com/junk_charts/",
          "id": "tag:api.typepad.com,2009:6a00d8341e992c53ef00d8341e9a0553ef",
          "objectType": "Blog",
          "urlId": "6a00d8341e992c53ef00d8341e9a0553ef"
         },
         "content": "<p>When I first saw the following chart, I wondered whether it is really that challenging for these eight teams to get into the Rugby World Cup, currently playing in Japan:</p>\r\n<p><a class=\"asset-img-link\" href=\"https://junkcharts.typepad.com/.a/6a00d8341e992c53ef0240a488c735200c-pi\" style=\"display: inline;\"><img alt=\"1920px-2019_Rugby_World_Cup_Qualifying_Process_Diagram.svg\" class=\"asset  asset-image at-xid-6a00d8341e992c53ef0240a488c735200c img-responsive\" src=\"https://junkcharts.typepad.com/.a/6a00d8341e992c53ef0240a488c735200c-350wi\" style=\"width: 350px;\" title=\"1920px-2019_Rugby_World_Cup_Qualifying_Process_Diagram.svg\" /></a></p>\r\n<p>Another visualization of the process conveys a similar message. Both of these are uploaded to Wikipedia.</p>\r\n<p><a class=\"asset-img-link\" href=\"https://junkcharts.typepad.com/.a/6a00d8341e992c53ef0240a4d6a928200b-pi\" style=\"display: inline;\"> </a> <a class=\"asset-img-link\" href=\"https://junkcharts.typepad.com/.a/6a00d8341e992c53ef0240a488c745200c-pi\" style=\"display: inline;\"><img alt=\"Rugby_World_Cup_2019_Qualification_illustrated_v2\" class=\"asset  asset-image at-xid-6a00d8341e992c53ef0240a488c745200c img-responsive\" src=\"https://junkcharts.typepad.com/.a/6a00d8341e992c53ef0240a488c745200c-350wi\" style=\"width: 350px;\" title=\"Rugby_World_Cup_2019_Qualification_illustrated_v2\" /></a></p>\r\n<p>(This one hasn&#39;t been updated and still contains blank entries.)<br /><a class=\"asset-img-link\" href=\"https://junkcharts.typepad.com/.a/6a00d8341e992c53ef0240a4d6a928200b-pi\" style=\"display: inline;\"><br /></a></p>\r\n<p>***</p>\r\n<p>What are some of the key messages one would want the dataviz to deliver?</p>\r\n<ul>\r\n<li>For the eight countries that got in (not automatically), track their paths to the World Cup. How many competitions did they have to play?</li>\r\n<li>For those countries that failed to qualify, track their paths to the point that they were stopped. How many competitions did they play?</li>\r\n<li>What is the structure of the qualification rounds? (These are organized regionally, in addition to certain playoffs across regions.)</li>\r\n<li>How many countries had a chance to win one of the eight spots?</li>\r\n<li>Within each competition, how many teams participated? Did the winner immediately qualify, or face yet another hurdle? Did the losers immediately disqualify, or were they offered another chance?</li>\r\n</ul>\r\n<p>Here&#39;s my take on this chart:</p>\r\n<p><a class=\"asset-img-link\" href=\"https://junkcharts.typepad.com/.a/6a00d8341e992c53ef0240a488c774200c-pi\" style=\"display: inline;\"><img alt=\"Rugby_path_to_world_cup_sm\" class=\"asset  asset-image at-xid-6a00d8341e992c53ef0240a488c774200c img-responsive\" src=\"https://junkcharts.typepad.com/.a/6a00d8341e992c53ef0240a488c774200c-450wi\" style=\"width: 450px;\" title=\"Rugby_path_to_world_cup_sm\" /></a></p>\r\n<p>&#0160;</p>",
         "description": "Kaiser Fung (Junkcharts, Principal Analytics Prep) visualizes the windy paths eight nations took to arrive at the Rugby World Cup 2019, currently playing in Japan.",
         "embeddedAudioLinks": [],
         "embeddedImageLinks": [
          {
           "height": 1591,
           "url": "https://a5.typepad.com/6a00d8341e992c53ef0240a488c735200c-pi",
           "urlTemplate": "https://a5.typepad.com/6a00d8341e992c53ef0240a488c735200c-{spec}",
           "width": 1920
          },
          {
           "height": 1007,
           "url": "https://a5.typepad.com/6a00d8341e992c53ef0240a488c745200c-pi",
           "urlTemplate": "https://a5.typepad.com/6a00d8341e992c53ef0240a488c745200c-{spec}",
           "width": 1172
          },
          {
           "height": 1666,
           "url": "https://a4.typepad.com/6a00d8341e992c53ef0240a488c774200c-pi",
           "urlTemplate": "https://a4.typepad.com/6a00d8341e992c53ef0240a488c774200c-{spec}",
           "width": 1200
          }
         ],
         "embeddedVideoLinks": [],
         "excerpt": "Kaiser Fung (Junkcharts, Principal Analytics Prep) visualizes the windy paths eight nations took to arrive at the Rugby World Cup 2019, currently playing in Japan.",
         "favoriteCount": 0,
         "filename": "the-windy-path-to-the-rugby-world-cup",
         "groups": [],
         "hasExtendedContent": false,
         "id": "tag:api.typepad.com,2009:6a00d8341e992c53ef0240a4d6a96b200b",
         "objectType": "Post",
         "objectTypes": [
          "tag:api.typepad.com,2009:Post"
         ],
         "permalinkUrl": "https://junkcharts.typepad.com/junk_charts/2019/09/the-windy-path-to-the-rugby-world-cup.html",
         "published": "2019-09-26T12:52:00Z",
         "reblogCount": 0,
         "renderedContent": "<p>When I first saw the following chart, I wondered whether it is really that challenging for these eight teams to get into the Rugby World Cup, currently playing in Japan:</p>\r\n<p><a class=\"asset-img-link\" href=\"https://junkcharts.typepad.com/.a/6a00d8341e992c53ef0240a488c735200c-pi\" style=\"display: inline;\"><img alt=\"1920px-2019_Rugby_World_Cup_Qualifying_Process_Diagram.svg\" class=\"asset  asset-image at-xid-6a00d8341e992c53ef0240a488c735200c img-responsive\" src=\"https://junkcharts.typepad.com/.a/6a00d8341e992c53ef0240a488c735200c-350wi\" style=\"width: 350px;\" title=\"1920px-2019_Rugby_World_Cup_Qualifying_Process_Diagram.svg\" /></a></p>\r\n<p>Another visualization of the process conveys a similar message. Both of these are uploaded to Wikipedia.</p>\r\n<p><a class=\"asset-img-link\" href=\"https://junkcharts.typepad.com/.a/6a00d8341e992c53ef0240a4d6a928200b-pi\" style=\"display: inline;\"> </a> <a class=\"asset-img-link\" href=\"https://junkcharts.typepad.com/.a/6a00d8341e992c53ef0240a488c745200c-pi\" style=\"display: inline;\"><img alt=\"Rugby_World_Cup_2019_Qualification_illustrated_v2\" class=\"asset  asset-image at-xid-6a00d8341e992c53ef0240a488c745200c img-responsive\" src=\"https://junkcharts.typepad.com/.a/6a00d8341e992c53ef0240a488c745200c-350wi\" style=\"width: 350px;\" title=\"Rugby_World_Cup_2019_Qualification_illustrated_v2\" /></a></p>\r\n<p>(This one hasn&#39;t been updated and still contains blank entries.)<br /><a class=\"asset-img-link\" href=\"https://junkcharts.typepad.com/.a/6a00d8341e992c53ef0240a4d6a928200b-pi\" style=\"display: inline;\"><br /></a></p>\r\n<p>***</p>\r\n<p>What are some of the key messages one would want the dataviz to deliver?</p>\r\n<ul>\r\n<li>For the eight countries that got in (not automatically), track their paths to the World Cup. How many competitions did they have to play?</li>\r\n<li>For those countries that failed to qualify, track their paths to the point that they were stopped. How many competitions did they play?</li>\r\n<li>What is the structure of the qualification rounds? (These are organized regionally, in addition to certain playoffs across regions.)</li>\r\n<li>How many countries had a chance to win one of the eight spots?</li>\r\n<li>Within each competition, how many teams participated? Did the winner immediately qualify, or face yet another hurdle? Did the losers immediately disqualify, or were they offered another chance?</li>\r\n</ul>\r\n<p>Here&#39;s my take on this chart:</p>\r\n<p><a class=\"asset-img-link\" href=\"https://junkcharts.typepad.com/.a/6a00d8341e992c53ef0240a488c774200c-pi\" style=\"display: inline;\"><img alt=\"Rugby_path_to_world_cup_sm\" class=\"asset  asset-image at-xid-6a00d8341e992c53ef0240a488c774200c img-responsive\" src=\"https://junkcharts.typepad.com/.a/6a00d8341e992c53ef0240a488c774200c-450wi\" style=\"width: 450px;\" title=\"Rugby_path_to_world_cup_sm\" /></a></p>\r\n<p>&#0160;</p>",
         "shortUrl": "http://bit.ly/2lilDQM",
         "textFormat": "html",
         "title": "The windy path to the Rugby World Cup",
         "urlId": "6a00d8341e992c53ef0240a4d6a96b200b"
        },
        {
         "author": {
          "aboutMe": "Kaiser Fung, Author, Junk Charts, Numbersense, Numbers Rule Your World",
          "avatarLink": {
           "height": 250,
           "url": "https://static.typepad.com/.shared/default-userpics/03-250si.gif",
           "width": 250
          },
          "displayName": "junkcharts",
          "id": "tag:api.typepad.com,2009:6p00d8341e992c53ef",
          "interests": [
           "practical statistics",
           "data visualization",
           "business analytics",
           "bootcamp",
           "data science"
          ],
          "location": null,
          "objectType": "User",
          "objectTypes": [
           "tag:api.typepad.com,2009:User"
          ],
          "preferredUsername": "junkcharts",
          "profilePageUrl": "http://profile.typepad.com/junkcharts",
          "urlId": "6p00d8341e992c53ef"
         },
         "categories": [
          "Color",
          "Gridlines",
          "Legend",
          "Principal Analytics Prep",
          "Table"
         ],
         "commentCount": 2,
         "container": {
          "displayName": "Junk Charts",
          "homeUrl": "https://junkcharts.typepad.com/junk_charts/",
          "id": "tag:api.typepad.com,2009:6a00d8341e992c53ef00d8341e9a0553ef",
          "objectType": "Blog",
          "urlId": "6a00d8341e992c53ef00d8341e9a0553ef"
         },
         "content": "<p>The recent <a href=\"https://junkcharts.typepad.com/junk_charts/2019/09/pulling-the-multi-national-story-out-step-by-step.html\" title=\"Link to prior post\">post</a> about multi-national companies reminded me of an older <a href=\"https://junkcharts.typepad.com/junk_charts/2018/07/some-tufte-basics-brought-to-you-by-your-favorite-birds.html\" title=\"Link to prior post\">post</a>, in which I stepped through data table enhancements.</p>\r\n<p>Here is a <a href=\"https://youtu.be/3ju3tD8tCV8\" title=\"Link to youtube\">video</a> of the process. You can use any tool to implement the steps; even Excel is good enough.</p>\r\n<p>&#0160;</p>\r\n<p class=\"asset-video\"><iframe allow=\"accelerometer; autoplay; encrypted-media; gyroscope; picture-in-picture\" allowfullscreen=\"\" frameborder=\"0\" height=\"281\" src=\"https://www.youtube.com/embed/3ju3tD8tCV8?feature=oembed\" width=\"500\"></iframe></p>\r\n<p class=\"asset-video\">&#0160;</p>\r\n<p class=\"asset-video\">The video is part of a series called &quot;Data science: the Missing Pieces&quot;. In these episodes, I cover the parts of data science that are between the cracks, the little things that textbooks and courses do not typically cover - the things that often block students from learning efficiently.</p>\r\n<p class=\"asset-video\">If you have encountered such things, please comment below to suggest future topics. What is something about visualizing data you wish you learned formally?</p>\r\n<p class=\"asset-video\">***</p>\r\n<p class=\"asset-video\">P.S. Placed here to please the twitter-bot</p>\r\n<p class=\"asset-video\"><a class=\"asset-img-link\" href=\"https://youtu.be/3ju3tD8tCV8\" style=\"display: inline;\" title=\"Link to Youtube\"><img alt=\"DSTMP2_goodchart_thumb\" class=\"asset  asset-image at-xid-6a00d8341e992c53ef0240a488781b200c img-responsive\" src=\"https://junkcharts.typepad.com/.a/6a00d8341e992c53ef0240a488781b200c-350wi\" style=\"width: 350px;\" title=\"DSTMP2_goodchart_thumb\" /></a></p>\r\n<p class=\"asset-video\">&#0160;</p>\r\n<p>&#0160;</p>",
         "description": "Kaiser Fung (Junkcharts, Principal Analytics Prep) demonstrates how to make better charts without using fancy tools.",
         "embeddedAudioLinks": [],
         "embeddedImageLinks": [
          {
           "height": 978,
           "url": "https://a3.typepad.com/6a00d8341e992c53ef0240a488781b200c-pi",
           "urlTemplate": "https://a3.typepad.com/6a00d8341e992c53ef0240a488781b200c-{spec}",
           "width": 1738
          }
         ],
         "embeddedVideoLinks": [
          {
           "embedCode": "<iframe allow=\"accelerometer; autoplay; encrypted-media; gyroscope; picture-in-picture\" allowfullscreen=\"\" frameborder=\"0\" height=\"281\" src=\"https://www.youtube.com/embed/3ju3tD8tCV8?feature=oembed\" width=\"500\"></iframe>"
          }
         ],
         "excerpt": "Kaiser Fung (Junkcharts, Principal Analytics Prep) demonstrates how to make better charts without using fancy tools.",
         "favoriteCount": 0,
         "filename": "the-time-of-bird-seeds-and-chart-tuneups",
         "groups": [],
         "hasExtendedContent": false,
         "id": "tag:api.typepad.com,2009:6a00d8341e992c53ef0240a4d65cde200b",
         "objectType": "Post",
         "objectTypes": [
          "tag:api.typepad.com,2009:Post"
         ],
         "permalinkUrl": "https://junkcharts.typepad.com/junk_charts/2019/09/the-time-of-bird-seeds-and-chart-tuneups.html",
         "published": "2019-09-25T14:10:00Z",
         "reblogCount": 0,
         "renderedContent": "<p>The recent <a href=\"https://junkcharts.typepad.com/junk_charts/2019/09/pulling-the-multi-national-story-out-step-by-step.html\" title=\"Link to prior post\">post</a> about multi-national companies reminded me of an older <a href=\"https://junkcharts.typepad.com/junk_charts/2018/07/some-tufte-basics-brought-to-you-by-your-favorite-birds.html\" title=\"Link to prior post\">post</a>, in which I stepped through data table enhancements.</p>\r\n<p>Here is a <a href=\"https://youtu.be/3ju3tD8tCV8\" title=\"Link to youtube\">video</a> of the process. You can use any tool to implement the steps; even Excel is good enough.</p>\r\n<p>&#0160;</p>\r\n<p class=\"asset-video\"><iframe allow=\"accelerometer; autoplay; encrypted-media; gyroscope; picture-in-picture\" allowfullscreen=\"\" frameborder=\"0\" height=\"281\" src=\"https://www.youtube.com/embed/3ju3tD8tCV8?feature=oembed\" width=\"500\"></iframe></p>\r\n<p class=\"asset-video\">&#0160;</p>\r\n<p class=\"asset-video\">The video is part of a series called &quot;Data science: the Missing Pieces&quot;. In these episodes, I cover the parts of data science that are between the cracks, the little things that textbooks and courses do not typically cover - the things that often block students from learning efficiently.</p>\r\n<p class=\"asset-video\">If you have encountered such things, please comment below to suggest future topics. What is something about visualizing data you wish you learned formally?</p>\r\n<p class=\"asset-video\">***</p>\r\n<p class=\"asset-video\">P.S. Placed here to please the twitter-bot</p>\r\n<p class=\"asset-video\"><a class=\"asset-img-link\" href=\"https://youtu.be/3ju3tD8tCV8\" style=\"display: inline;\" title=\"Link to Youtube\"><img alt=\"DSTMP2_goodchart_thumb\" class=\"asset  asset-image at-xid-6a00d8341e992c53ef0240a488781b200c img-responsive\" src=\"https://junkcharts.typepad.com/.a/6a00d8341e992c53ef0240a488781b200c-350wi\" style=\"width: 350px;\" title=\"DSTMP2_goodchart_thumb\" /></a></p>\r\n<p class=\"asset-video\">&#0160;</p>\r\n<p>&#0160;</p>",
         "shortUrl": "http://bit.ly/2mGZDPM",
         "textFormat": "html",
         "title": "The time of bird seeds and chart tuneups",
         "urlId": "6a00d8341e992c53ef0240a4d65cde200b"
        },
        {
         "author": {
          "aboutMe": "Kaiser Fung, Author, Junk Charts, Numbersense, Numbers Rule Your World",
          "avatarLink": {
           "height": 250,
           "url": "https://static.typepad.com/.shared/default-userpics/03-250si.gif",
           "width": 250
          },
          "displayName": "junkcharts",
          "id": "tag:api.typepad.com,2009:6p00d8341e992c53ef",
          "interests": [
           "practical statistics",
           "data visualization",
           "business analytics",
           "bootcamp",
           "data science"
          ],
          "location": null,
          "objectType": "User",
          "objectTypes": [
           "tag:api.typepad.com,2009:User"
          ],
          "preferredUsername": "junkcharts",
          "profilePageUrl": "http://profile.typepad.com/junkcharts",
          "urlId": "6p00d8341e992c53ef"
         },
         "categories": [
          "Aggregation",
          "Background",
          "Business",
          "Clustering",
          "Color",
          "Dot plot",
          "Economics",
          "Economist",
          "Finance",
          "Gridlines",
          "Legend",
          "Simplicity",
          "Sorting",
          "Variance"
         ],
         "commentCount": 1,
         "container": {
          "displayName": "Junk Charts",
          "homeUrl": "https://junkcharts.typepad.com/junk_charts/",
          "id": "tag:api.typepad.com,2009:6a00d8341e992c53ef00d8341e9a0553ef",
          "objectType": "Blog",
          "urlId": "6a00d8341e992c53ef00d8341e9a0553ef"
         },
         "content": "<p>Reader Aleksander B. found this <em>Economist</em> chart difficult to understand.</p>\r\n<p><a class=\"asset-img-link\" href=\"https://junkcharts.typepad.com/.a/6a00d8341e992c53ef0240a4aea33f200d-pi\" style=\"display: inline;\"><img alt=\"Redo_multinat_1\" class=\"asset  asset-image at-xid-6a00d8341e992c53ef0240a4aea33f200d img-responsive\" src=\"https://junkcharts.typepad.com/.a/6a00d8341e992c53ef0240a4aea33f200d-350wi\" style=\"width: 350px;\" title=\"Redo_multinat_1\" /></a></p>\r\n<p>Given the chart title, the reader is looking for a story about multinationals producing lower return on equity than local firms. The first item displayed indicates that multinationals out-performed local firms in the technology sector.</p>\r\n<p>The <a href=\"https://junkcharts.typepad.com/junk_charts/pie_chart\" title=\"Posts about pie charts\">pie charts</a> on the right column provide additional information about the share of each sector by the type of firms. Is there a correlation between the share of multinationals, and their performance differential relative to local firms?</p>\r\n<p>***</p>\r\n<p>We can clean up the presentation. The first changes include using <a href=\"https://junkcharts.typepad.com/junk_charts/dot_plot\" title=\"Posts about dot plots\">dots</a> in place of pipes, removing the vertical <a href=\"https://junkcharts.typepad.com/junk_charts/gridlines\" title=\"Posts about gridlines\">gridlines</a>, and pushing the zero line to the background:</p>\r\n<p><a class=\"asset-img-link\" href=\"https://junkcharts.typepad.com/.a/6a00d8341e992c53ef0240a4854c8b200c-pi\" style=\"display: inline;\"><img alt=\"Redo_multinat_2\" class=\"asset  asset-image at-xid-6a00d8341e992c53ef0240a4854c8b200c img-responsive\" src=\"https://junkcharts.typepad.com/.a/6a00d8341e992c53ef0240a4854c8b200c-350wi\" style=\"width: 350px;\" title=\"Redo_multinat_2\" /></a></p>\r\n<p>The horizontal <a href=\"https://junkcharts.typepad.com/junk_charts/gridlines\" title=\"Posts about gridlines\">gridlines</a> attached to the zero line can also be removed:</p>\r\n<p><a class=\"asset-img-link\" href=\"https://junkcharts.typepad.com/.a/6a00d8341e992c53ef0240a4aea38c200d-pi\" style=\"display: inline;\"><img alt=\"Redo_multinat_3\" class=\"asset  asset-image at-xid-6a00d8341e992c53ef0240a4aea38c200d img-responsive\" src=\"https://junkcharts.typepad.com/.a/6a00d8341e992c53ef0240a4aea38c200d-350wi\" style=\"width: 350px;\" title=\"Redo_multinat_3\" /></a></p>\r\n<p>Now, we re-order the rows. Start with the aggregate &quot;All sectors&quot;. Then, <a href=\"https://junkcharts.typepad.com/junk_charts/sorting\" title=\"Posts about sorting\">order</a> sectors from the largest under-performance by multinationals to the smallest.</p>\r\n<p><a class=\"asset-img-link\" href=\"https://junkcharts.typepad.com/.a/6a00d8341e992c53ef0240a4d3374e200b-pi\" style=\"display: inline;\"><img alt=\"Redo_multinat_4\" class=\"asset  asset-image at-xid-6a00d8341e992c53ef0240a4d3374e200b img-responsive\" src=\"https://junkcharts.typepad.com/.a/6a00d8341e992c53ef0240a4d3374e200b-350wi\" style=\"width: 350px;\" title=\"Redo_multinat_4\" /></a></p>\r\n<p>The <a href=\"https://junkcharts.typepad.com/junk_charts/pie_chart\" title=\"Posts about pie charts\">pie charts</a> focus only on the share of multinationals. Taking away the remainders speeds up our perception:</p>\r\n<p><a class=\"asset-img-link\" href=\"https://junkcharts.typepad.com/.a/6a00d8341e992c53ef0240a4d3375e200b-pi\" style=\"display: inline;\"><img alt=\"Redo_multinat_5\" class=\"asset  asset-image at-xid-6a00d8341e992c53ef0240a4d3375e200b img-responsive\" src=\"https://junkcharts.typepad.com/.a/6a00d8341e992c53ef0240a4d3375e200b-350wi\" style=\"width: 350px;\" title=\"Redo_multinat_5\" /></a></p>\r\n<p>Help the reader understand the data by dividing the sectors into groups, organized by the performance differential:</p>\r\n<p><a class=\"asset-img-link\" href=\"https://junkcharts.typepad.com/.a/6a00d8341e992c53ef0240a4854ca3200c-pi\" style=\"display: inline;\"><img alt=\"Redo_multinat_6\" class=\"asset  asset-image at-xid-6a00d8341e992c53ef0240a4854ca3200c img-responsive\" src=\"https://junkcharts.typepad.com/.a/6a00d8341e992c53ef0240a4854ca3200c-350wi\" style=\"width: 350px;\" title=\"Redo_multinat_6\" /></a></p>\r\n<p>For what it&#39;s worth, re-<a href=\"https://junkcharts.typepad.com/junk_charts/sorting\" title=\"Posts about sort order\">sort</a> the sectors from largest to smallest share of multinationals:</p>\r\n<p><a class=\"asset-img-link\" href=\"https://junkcharts.typepad.com/.a/6a00d8341e992c53ef0240a4854cb5200c-pi\" style=\"display: inline;\"><img alt=\"Redo_multinat_7\" class=\"asset  asset-image at-xid-6a00d8341e992c53ef0240a4854cb5200c img-responsive\" src=\"https://junkcharts.typepad.com/.a/6a00d8341e992c53ef0240a4854cb5200c-350wi\" style=\"width: 350px;\" title=\"Redo_multinat_7\" /></a></p>\r\n<p>Having created groups of sectors by share of multinationals, I simplify further by showing the average pie chart within each group:</p>\r\n<p><a class=\"asset-img-link\" href=\"https://junkcharts.typepad.com/.a/6a00d8341e992c53ef0240a4aea3c2200d-pi\" style=\"display: inline;\"><img alt=\"Redo_multinat_8\" class=\"asset  asset-image at-xid-6a00d8341e992c53ef0240a4aea3c2200d img-responsive\" src=\"https://junkcharts.typepad.com/.a/6a00d8341e992c53ef0240a4aea3c2200d-350wi\" style=\"width: 350px;\" title=\"Redo_multinat_8\" /></a></p>\r\n<p>***</p>\r\n<p>To recap all the edits, here is an animated gif: (if it doesn&#39;t play automatically, click on it)</p>\r\n<p><a class=\"asset-img-link\" href=\"https://junkcharts.typepad.com/.a/6a00d8341e992c53ef0240a4d33787200b-pi\" style=\"display: inline;\"><img alt=\"Redo_junkcharts_econmultinat\" class=\"asset  asset-image at-xid-6a00d8341e992c53ef0240a4d33787200b img-responsive\" src=\"https://junkcharts.typepad.com/.a/6a00d8341e992c53ef0240a4d33787200b-350wi\" style=\"width: 350px;\" title=\"Redo_junkcharts_econmultinat\" /></a></p>\r\n<p>***</p>\r\n<p>Judging from the last graphic, I am not sure there is much correlation between share of multinationals and the performance differentials. It&#39;s interesting that in aggregate, local firms and multinationals performed the same. The average hides the variability by sector: in some sectors, local firms out-performed multinationals, as the original chart title asserted.</p>",
         "description": "Kaiser Fung (Junkcharts, Principal Analytics Prep) cleans up a chart showing multinational corporate performance from the Economist. ",
         "embeddedAudioLinks": [],
         "embeddedImageLinks": [
          {
           "height": 1170,
           "url": "https://a7.typepad.com/6a00d8341e992c53ef0240a4aea33f200d-pi",
           "urlTemplate": "https://a7.typepad.com/6a00d8341e992c53ef0240a4aea33f200d-{spec}",
           "width": 1252
          },
          {
           "height": 1174,
           "url": "https://a3.typepad.com/6a00d8341e992c53ef0240a4854c8b200c-pi",
           "urlTemplate": "https://a3.typepad.com/6a00d8341e992c53ef0240a4854c8b200c-{spec}",
           "width": 1252
          },
          {
           "height": 1176,
           "url": "https://a4.typepad.com/6a00d8341e992c53ef0240a4aea38c200d-pi",
           "urlTemplate": "https://a4.typepad.com/6a00d8341e992c53ef0240a4aea38c200d-{spec}",
           "width": 1252
          },
          {
           "height": 1176,
           "url": "https://a6.typepad.com/6a00d8341e992c53ef0240a4d3374e200b-pi",
           "urlTemplate": "https://a6.typepad.com/6a00d8341e992c53ef0240a4d3374e200b-{spec}",
           "width": 1252
          },
          {
           "height": 1176,
           "url": "https://a6.typepad.com/6a00d8341e992c53ef0240a4d3375e200b-pi",
           "urlTemplate": "https://a6.typepad.com/6a00d8341e992c53ef0240a4d3375e200b-{spec}",
           "width": 1252
          },
          {
           "height": 1176,
           "url": "https://a3.typepad.com/6a00d8341e992c53ef0240a4854ca3200c-pi",
           "urlTemplate": "https://a3.typepad.com/6a00d8341e992c53ef0240a4854ca3200c-{spec}",
           "width": 1254
          },
          {
           "height": 1174,
           "url": "https://a5.typepad.com/6a00d8341e992c53ef0240a4854cb5200c-pi",
           "urlTemplate": "https://a5.typepad.com/6a00d8341e992c53ef0240a4854cb5200c-{spec}",
           "width": 1252
          },
          {
           "height": 1174,
           "url": "https://a2.typepad.com/6a00d8341e992c53ef0240a4aea3c2200d-pi",
           "urlTemplate": "https://a2.typepad.com/6a00d8341e992c53ef0240a4aea3c2200d-{spec}",
           "width": 1252
          },
          {
           "height": 1118,
           "url": "https://a7.typepad.com/6a00d8341e992c53ef0240a4d33787200b-pi",
           "urlTemplate": "https://a7.typepad.com/6a00d8341e992c53ef0240a4d33787200b-{spec}",
           "width": 1200
          }
         ],
         "embeddedVideoLinks": [],
         "excerpt": "Kaiser Fung (Junkcharts, Principal Analytics Prep) cleans up a chart showing multinational corporate performance from the Economist. ",
         "favoriteCount": 0,
         "filename": "pulling-the-multi-national-story-out-step-by-step",
         "groups": [],
         "hasExtendedContent": false,
         "id": "tag:api.typepad.com,2009:6a00d8341e992c53ef0240a4d33754200b",
         "objectType": "Post",
         "objectTypes": [
          "tag:api.typepad.com,2009:Post"
         ],
         "permalinkUrl": "https://junkcharts.typepad.com/junk_charts/2019/09/pulling-the-multi-national-story-out-step-by-step.html",
         "published": "2019-09-18T12:38:00Z",
         "reblogCount": 0,
         "renderedContent": "<p>Reader Aleksander B. found this <em>Economist</em> chart difficult to understand.</p>\r\n<p><a class=\"asset-img-link\" href=\"https://junkcharts.typepad.com/.a/6a00d8341e992c53ef0240a4aea33f200d-pi\" style=\"display: inline;\"><img alt=\"Redo_multinat_1\" class=\"asset  asset-image at-xid-6a00d8341e992c53ef0240a4aea33f200d img-responsive\" src=\"https://junkcharts.typepad.com/.a/6a00d8341e992c53ef0240a4aea33f200d-350wi\" style=\"width: 350px;\" title=\"Redo_multinat_1\" /></a></p>\r\n<p>Given the chart title, the reader is looking for a story about multinationals producing lower return on equity than local firms. The first item displayed indicates that multinationals out-performed local firms in the technology sector.</p>\r\n<p>The <a href=\"https://junkcharts.typepad.com/junk_charts/pie_chart\" title=\"Posts about pie charts\">pie charts</a> on the right column provide additional information about the share of each sector by the type of firms. Is there a correlation between the share of multinationals, and their performance differential relative to local firms?</p>\r\n<p>***</p>\r\n<p>We can clean up the presentation. The first changes include using <a href=\"https://junkcharts.typepad.com/junk_charts/dot_plot\" title=\"Posts about dot plots\">dots</a> in place of pipes, removing the vertical <a href=\"https://junkcharts.typepad.com/junk_charts/gridlines\" title=\"Posts about gridlines\">gridlines</a>, and pushing the zero line to the background:</p>\r\n<p><a class=\"asset-img-link\" href=\"https://junkcharts.typepad.com/.a/6a00d8341e992c53ef0240a4854c8b200c-pi\" style=\"display: inline;\"><img alt=\"Redo_multinat_2\" class=\"asset  asset-image at-xid-6a00d8341e992c53ef0240a4854c8b200c img-responsive\" src=\"https://junkcharts.typepad.com/.a/6a00d8341e992c53ef0240a4854c8b200c-350wi\" style=\"width: 350px;\" title=\"Redo_multinat_2\" /></a></p>\r\n<p>The horizontal <a href=\"https://junkcharts.typepad.com/junk_charts/gridlines\" title=\"Posts about gridlines\">gridlines</a> attached to the zero line can also be removed:</p>\r\n<p><a class=\"asset-img-link\" href=\"https://junkcharts.typepad.com/.a/6a00d8341e992c53ef0240a4aea38c200d-pi\" style=\"display: inline;\"><img alt=\"Redo_multinat_3\" class=\"asset  asset-image at-xid-6a00d8341e992c53ef0240a4aea38c200d img-responsive\" src=\"https://junkcharts.typepad.com/.a/6a00d8341e992c53ef0240a4aea38c200d-350wi\" style=\"width: 350px;\" title=\"Redo_multinat_3\" /></a></p>\r\n<p>Now, we re-order the rows. Start with the aggregate &quot;All sectors&quot;. Then, <a href=\"https://junkcharts.typepad.com/junk_charts/sorting\" title=\"Posts about sorting\">order</a> sectors from the largest under-performance by multinationals to the smallest.</p>\r\n<p><a class=\"asset-img-link\" href=\"https://junkcharts.typepad.com/.a/6a00d8341e992c53ef0240a4d3374e200b-pi\" style=\"display: inline;\"><img alt=\"Redo_multinat_4\" class=\"asset  asset-image at-xid-6a00d8341e992c53ef0240a4d3374e200b img-responsive\" src=\"https://junkcharts.typepad.com/.a/6a00d8341e992c53ef0240a4d3374e200b-350wi\" style=\"width: 350px;\" title=\"Redo_multinat_4\" /></a></p>\r\n<p>The <a href=\"https://junkcharts.typepad.com/junk_charts/pie_chart\" title=\"Posts about pie charts\">pie charts</a> focus only on the share of multinationals. Taking away the remainders speeds up our perception:</p>\r\n<p><a class=\"asset-img-link\" href=\"https://junkcharts.typepad.com/.a/6a00d8341e992c53ef0240a4d3375e200b-pi\" style=\"display: inline;\"><img alt=\"Redo_multinat_5\" class=\"asset  asset-image at-xid-6a00d8341e992c53ef0240a4d3375e200b img-responsive\" src=\"https://junkcharts.typepad.com/.a/6a00d8341e992c53ef0240a4d3375e200b-350wi\" style=\"width: 350px;\" title=\"Redo_multinat_5\" /></a></p>\r\n<p>Help the reader understand the data by dividing the sectors into groups, organized by the performance differential:</p>\r\n<p><a class=\"asset-img-link\" href=\"https://junkcharts.typepad.com/.a/6a00d8341e992c53ef0240a4854ca3200c-pi\" style=\"display: inline;\"><img alt=\"Redo_multinat_6\" class=\"asset  asset-image at-xid-6a00d8341e992c53ef0240a4854ca3200c img-responsive\" src=\"https://junkcharts.typepad.com/.a/6a00d8341e992c53ef0240a4854ca3200c-350wi\" style=\"width: 350px;\" title=\"Redo_multinat_6\" /></a></p>\r\n<p>For what it&#39;s worth, re-<a href=\"https://junkcharts.typepad.com/junk_charts/sorting\" title=\"Posts about sort order\">sort</a> the sectors from largest to smallest share of multinationals:</p>\r\n<p><a class=\"asset-img-link\" href=\"https://junkcharts.typepad.com/.a/6a00d8341e992c53ef0240a4854cb5200c-pi\" style=\"display: inline;\"><img alt=\"Redo_multinat_7\" class=\"asset  asset-image at-xid-6a00d8341e992c53ef0240a4854cb5200c img-responsive\" src=\"https://junkcharts.typepad.com/.a/6a00d8341e992c53ef0240a4854cb5200c-350wi\" style=\"width: 350px;\" title=\"Redo_multinat_7\" /></a></p>\r\n<p>Having created groups of sectors by share of multinationals, I simplify further by showing the average pie chart within each group:</p>\r\n<p><a class=\"asset-img-link\" href=\"https://junkcharts.typepad.com/.a/6a00d8341e992c53ef0240a4aea3c2200d-pi\" style=\"display: inline;\"><img alt=\"Redo_multinat_8\" class=\"asset  asset-image at-xid-6a00d8341e992c53ef0240a4aea3c2200d img-responsive\" src=\"https://junkcharts.typepad.com/.a/6a00d8341e992c53ef0240a4aea3c2200d-350wi\" style=\"width: 350px;\" title=\"Redo_multinat_8\" /></a></p>\r\n<p>***</p>\r\n<p>To recap all the edits, here is an animated gif: (if it doesn&#39;t play automatically, click on it)</p>\r\n<p><a class=\"asset-img-link\" href=\"https://junkcharts.typepad.com/.a/6a00d8341e992c53ef0240a4d33787200b-pi\" style=\"display: inline;\"><img alt=\"Redo_junkcharts_econmultinat\" class=\"asset  asset-image at-xid-6a00d8341e992c53ef0240a4d33787200b img-responsive\" src=\"https://junkcharts.typepad.com/.a/6a00d8341e992c53ef0240a4d33787200b-350wi\" style=\"width: 350px;\" title=\"Redo_junkcharts_econmultinat\" /></a></p>\r\n<p>***</p>\r\n<p>Judging from the last graphic, I am not sure there is much correlation between share of multinationals and the performance differentials. It&#39;s interesting that in aggregate, local firms and multinationals performed the same. The average hides the variability by sector: in some sectors, local firms out-performed multinationals, as the original chart title asserted.</p>",
         "shortUrl": "http://bit.ly/2ArrHKN",
         "textFormat": "html",
         "title": "Pulling the multi-national story out, step by step",
         "urlId": "6a00d8341e992c53ef0240a4d33754200b"
        },
        {
         "author": {
          "aboutMe": "Kaiser Fung, Author, Junk Charts, Numbersense, Numbers Rule Your World",
          "avatarLink": {
           "height": 250,
           "url": "https://static.typepad.com/.shared/default-userpics/03-250si.gif",
           "width": 250
          },
          "displayName": "junkcharts",
          "id": "tag:api.typepad.com,2009:6p00d8341e992c53ef",
          "interests": [
           "practical statistics",
           "data visualization",
           "business analytics",
           "bootcamp",
           "data science"
          ],
          "location": null,
          "objectType": "User",
          "objectTypes": [
           "tag:api.typepad.com,2009:User"
          ],
          "preferredUsername": "junkcharts",
          "profilePageUrl": "http://profile.typepad.com/junkcharts",
          "urlId": "6p00d8341e992c53ef"
         },
         "categories": [
          "Bar chart",
          "Color",
          "Line chart",
          "Specialty plots",
          "Sports",
          "Text",
          "Time series",
          "Variance"
         ],
         "commentCount": 1,
         "container": {
          "displayName": "Junk Charts",
          "homeUrl": "https://junkcharts.typepad.com/junk_charts/",
          "id": "tag:api.typepad.com,2009:6a00d8341e992c53ef00d8341e9a0553ef",
          "objectType": "Blog",
          "urlId": "6a00d8341e992c53ef00d8341e9a0553ef"
         },
         "content": "<p>The following chart of world No. 1 tennis players looks pretty but the payoff of spending time to understand it isn&#39;t high enough. The light colors against the tennis net backdrop don&#39;t work as intended. The annotation is well done, and it&#39;s always neat to tug a legend inside the text.</p>\r\n<p><a class=\"asset-img-link\" href=\"https://junkcharts.typepad.com/.a/6a00d8341e992c53ef0240a482a0b3200c-pi\" style=\"display: inline;\"><img alt=\"Tableautennisnumberones\" class=\"asset  asset-image at-xid-6a00d8341e992c53ef0240a482a0b3200c img-responsive\" src=\"https://junkcharts.typepad.com/.a/6a00d8341e992c53ef0240a482a0b3200c-500wi\" style=\"width: 480px;\" title=\"Tableautennisnumberones\" /></a></p>\r\n<p>The original is found at Tableau Public (<a href=\"https://public.tableau.com/profile/neil.richards#!/vizhome/tennisages/Dashboard1\" title=\"Link to Tableau Public\">link</a>).</p>\r\n<p>The topic of the analysis appears to be the ages at which tennis players attained world #1 ranking. Here are the male players visualized differently:</p>\r\n<p><a class=\"asset-img-link\" href=\"https://junkcharts.typepad.com/.a/6a00d8341e992c53ef0240a4d08234200b-pi\" style=\"display: inline;\"><img alt=\"Redo_junkcharts_no1tennisplayers\" class=\"asset  asset-image at-xid-6a00d8341e992c53ef0240a4d08234200b img-responsive\" src=\"https://junkcharts.typepad.com/.a/6a00d8341e992c53ef0240a4d08234200b-350wi\" style=\"width: 350px;\" title=\"Redo_junkcharts_no1tennisplayers\" /></a></p>\r\n<p>Some players like Jimmy Connors and Federer have second springs after dominating the game in their late twenties. It&#39;s relatively rare for players to get to #1 after 30.</p>",
         "description": "Kaiser Fung (Junkcharts, Principal Analytics Prep) visualizes the ages of tennis players who have attained world number one ranking since 1973.",
         "embeddedAudioLinks": [],
         "embeddedImageLinks": [
          {
           "height": 826,
           "url": "https://a3.typepad.com/6a00d8341e992c53ef0240a482a0b3200c-pi",
           "urlTemplate": "https://a3.typepad.com/6a00d8341e992c53ef0240a482a0b3200c-{spec}",
           "width": 2299
          },
          {
           "height": 1150,
           "url": "https://a4.typepad.com/6a00d8341e992c53ef0240a4d08234200b-pi",
           "urlTemplate": "https://a4.typepad.com/6a00d8341e992c53ef0240a4d08234200b-{spec}",
           "width": 982
          }
         ],
         "embeddedVideoLinks": [],
         "excerpt": "Kaiser Fung (Junkcharts, Principal Analytics Prep) visualizes the ages of tennis players who have attained world number one ranking since 1973.",
         "favoriteCount": 0,
         "filename": "tennis-greats-at-the-top-of-their-game",
         "groups": [],
         "hasExtendedContent": false,
         "id": "tag:api.typepad.com,2009:6a00d8341e992c53ef0240a482a0f2200c",
         "objectType": "Post",
         "objectTypes": [
          "tag:api.typepad.com,2009:Post"
         ],
         "permalinkUrl": "https://junkcharts.typepad.com/junk_charts/2019/09/tennis-greats-at-the-top-of-their-game.html",
         "published": "2019-09-12T12:44:00Z",
         "reblogCount": 0,
         "renderedContent": "<p>The following chart of world No. 1 tennis players looks pretty but the payoff of spending time to understand it isn&#39;t high enough. The light colors against the tennis net backdrop don&#39;t work as intended. The annotation is well done, and it&#39;s always neat to tug a legend inside the text.</p>\r\n<p><a class=\"asset-img-link\" href=\"https://junkcharts.typepad.com/.a/6a00d8341e992c53ef0240a482a0b3200c-pi\" style=\"display: inline;\"><img alt=\"Tableautennisnumberones\" class=\"asset  asset-image at-xid-6a00d8341e992c53ef0240a482a0b3200c img-responsive\" src=\"https://junkcharts.typepad.com/.a/6a00d8341e992c53ef0240a482a0b3200c-500wi\" style=\"width: 480px;\" title=\"Tableautennisnumberones\" /></a></p>\r\n<p>The original is found at Tableau Public (<a href=\"https://public.tableau.com/profile/neil.richards#!/vizhome/tennisages/Dashboard1\" title=\"Link to Tableau Public\">link</a>).</p>\r\n<p>The topic of the analysis appears to be the ages at which tennis players attained world #1 ranking. Here are the male players visualized differently:</p>\r\n<p><a class=\"asset-img-link\" href=\"https://junkcharts.typepad.com/.a/6a00d8341e992c53ef0240a4d08234200b-pi\" style=\"display: inline;\"><img alt=\"Redo_junkcharts_no1tennisplayers\" class=\"asset  asset-image at-xid-6a00d8341e992c53ef0240a4d08234200b img-responsive\" src=\"https://junkcharts.typepad.com/.a/6a00d8341e992c53ef0240a4d08234200b-350wi\" style=\"width: 350px;\" title=\"Redo_junkcharts_no1tennisplayers\" /></a></p>\r\n<p>Some players like Jimmy Connors and Federer have second springs after dominating the game in their late twenties. It&#39;s relatively rare for players to get to #1 after 30.</p>",
         "shortUrl": "http://bit.ly/2Q6Gjd5",
         "textFormat": "html",
         "title": "Tennis greats at the top of their game",
         "urlId": "6a00d8341e992c53ef0240a482a0f2200c"
        },
        {
         "author": {
          "aboutMe": "Kaiser Fung, Author, Junk Charts, Numbersense, Numbers Rule Your World",
          "avatarLink": {
           "height": 250,
           "url": "https://static.typepad.com/.shared/default-userpics/03-250si.gif",
           "width": 250
          },
          "displayName": "junkcharts",
          "id": "tag:api.typepad.com,2009:6p00d8341e992c53ef",
          "interests": [
           "practical statistics",
           "data visualization",
           "business analytics",
           "bootcamp",
           "data science"
          ],
          "location": null,
          "objectType": "User",
          "objectTypes": [
           "tag:api.typepad.com,2009:User"
          ],
          "preferredUsername": "junkcharts",
          "profilePageUrl": "http://profile.typepad.com/junkcharts",
          "urlId": "6p00d8341e992c53ef"
         },
         "categories": [
          "Data",
          "Education",
          "Principal Analytics Prep",
          "Statistics"
         ],
         "commentCount": 0,
         "container": {
          "displayName": "Junk Charts",
          "homeUrl": "https://junkcharts.typepad.com/junk_charts/",
          "id": "tag:api.typepad.com,2009:6a00d8341e992c53ef00d8341e9a0553ef",
          "objectType": "Blog",
          "urlId": "6a00d8341e992c53ef00d8341e9a0553ef"
         },
         "content": "<p>Interrupting the flow of dataviz with the following announcement.</p>\r\n<p>If you&#39;re looking to shore up your data skills, modernize your skill set, or know someone looking for hands-on, high-touch instruction in Machine Learning, R, Cloud Computing, Data Quality, Digital Analytics,&#0160; A/B Testing and Financial Analysis, Principal Analytics Prep is offering evening classes this Fall. Click <a href=\"https://www.principalanalyticsprep.com/part-time-immersive?utm_source=blog&amp;utm_medium=jcblog&amp;utm_campaign=jcblog_abvimgpart_091019\" title=\"Link to Principal Analytics Prep Part Time\">here</a> to learn about our courses.&#0160;</p>\r\n<p>Our instructors are industry veterans with 10+ years of practical industry experience. And class size is capped to 10, ensuring a high-touch learning environment.</p>\r\n<p><a class=\"asset-img-link\" href=\"https://www.principalanalyticsprep.com/part-time-immersive?utm_source=blog&amp;utm_medium=jcblog&amp;utm_campaign=jcblog_imgpart_091019\" style=\"display: inline;\" title=\"Link to Principal Analytics Prep Part-Time\"><img alt=\"Facebook_pap_parttimeimmersive_tree\" class=\"asset  asset-image at-xid-6a00d8341e992c53ef0240a4cfcb13200b img-responsive\" src=\"https://junkcharts.typepad.com/.a/6a00d8341e992c53ef0240a4cfcb13200b-350wi\" style=\"width: 350px;\" title=\"Facebook_pap_parttimeimmersive_tree\" /></a></p>\r\n<p>&#0160;</p>",
         "description": "Announcement: Principal Analytics Prep Part-Time Immersive Program, including courses in Machine Learning, R programming, Digital Analytics, Data Quality, A/B Testing, Financial Analysis and Cloud Computing.",
         "embeddedAudioLinks": [],
         "embeddedImageLinks": [
          {
           "height": 938,
           "url": "https://a3.typepad.com/6a00d8341e992c53ef0240a4cfcb13200b-pi",
           "urlTemplate": "https://a3.typepad.com/6a00d8341e992c53ef0240a4cfcb13200b-{spec}",
           "width": 620
          }
         ],
         "embeddedVideoLinks": [],
         "excerpt": "Announcement: Principal Analytics Prep Part-Time Immersive Program, including courses in Machine Learning, R programming, Digital Analytics, Data Quality, A/B Testing, Financial Analysis and Cloud Computing.",
         "favoriteCount": 0,
         "filename": "announcement-advancing-your-data-skills-fall-2019",
         "groups": [],
         "hasExtendedContent": false,
         "id": "tag:api.typepad.com,2009:6a00d8341e992c53ef0240a4cfcb93200b",
         "objectType": "Post",
         "objectTypes": [
          "tag:api.typepad.com,2009:Post"
         ],
         "permalinkUrl": "https://junkcharts.typepad.com/junk_charts/2019/09/announcement-advancing-your-data-skills-fall-2019.html",
         "published": "2019-09-10T16:01:00Z",
         "reblogCount": 0,
         "renderedContent": "<p>Interrupting the flow of dataviz with the following announcement.</p>\r\n<p>If you&#39;re looking to shore up your data skills, modernize your skill set, or know someone looking for hands-on, high-touch instruction in Machine Learning, R, Cloud Computing, Data Quality, Digital Analytics,&#0160; A/B Testing and Financial Analysis, Principal Analytics Prep is offering evening classes this Fall. Click <a href=\"https://www.principalanalyticsprep.com/part-time-immersive?utm_source=blog&amp;utm_medium=jcblog&amp;utm_campaign=jcblog_abvimgpart_091019\" title=\"Link to Principal Analytics Prep Part Time\">here</a> to learn about our courses.&#0160;</p>\r\n<p>Our instructors are industry veterans with 10+ years of practical industry experience. And class size is capped to 10, ensuring a high-touch learning environment.</p>\r\n<p><a class=\"asset-img-link\" href=\"https://www.principalanalyticsprep.com/part-time-immersive?utm_source=blog&amp;utm_medium=jcblog&amp;utm_campaign=jcblog_imgpart_091019\" style=\"display: inline;\" title=\"Link to Principal Analytics Prep Part-Time\"><img alt=\"Facebook_pap_parttimeimmersive_tree\" class=\"asset  asset-image at-xid-6a00d8341e992c53ef0240a4cfcb13200b img-responsive\" src=\"https://junkcharts.typepad.com/.a/6a00d8341e992c53ef0240a4cfcb13200b-350wi\" style=\"width: 350px;\" title=\"Facebook_pap_parttimeimmersive_tree\" /></a></p>\r\n<p>&#0160;</p>",
         "shortUrl": "http://bit.ly/2ZPMIhf",
         "textFormat": "html",
         "title": "Announcement: Advancing your data skills, Fall 2019",
         "urlId": "6a00d8341e992c53ef0240a4cfcb93200b"
        },
        {
         "author": {
          "aboutMe": "Kaiser Fung, Author, Junk Charts, Numbersense, Numbers Rule Your World",
          "avatarLink": {
           "height": 250,
           "url": "https://static.typepad.com/.shared/default-userpics/03-250si.gif",
           "width": 250
          },
          "displayName": "junkcharts",
          "id": "tag:api.typepad.com,2009:6p00d8341e992c53ef",
          "interests": [
           "practical statistics",
           "data visualization",
           "business analytics",
           "bootcamp",
           "data science"
          ],
          "location": null,
          "objectType": "User",
          "objectTypes": [
           "tag:api.typepad.com,2009:User"
          ],
          "preferredUsername": "junkcharts",
          "profilePageUrl": "http://profile.typepad.com/junkcharts",
          "urlId": "6p00d8341e992c53ef"
         },
         "categories": [
          "Aggregation",
          "Environment",
          "Line chart",
          "Living",
          "Map",
          "Medicine",
          "Science",
          "Statistics",
          "Time series",
          "Variance"
         ],
         "commentCount": 1,
         "container": {
          "displayName": "Junk Charts",
          "homeUrl": "https://junkcharts.typepad.com/junk_charts/",
          "id": "tag:api.typepad.com,2009:6a00d8341e992c53ef00d8341e9a0553ef",
          "objectType": "Blog",
          "urlId": "6a00d8341e992c53ef00d8341e9a0553ef"
         },
         "content": "<p>Friend/reader Thomas B. alerted me to this <a href=\"https://academic.oup.com/jnci/article/108/8/djw031/2457493\" title=\"Link to paper\">paper</a> that describes some of the key chart forms used by cancer researchers.</p>\r\n<p>It strikes me that many of the &quot;new&quot; charts plot granular data at the individual level. This <strong>heatmap</strong> showing gene expressions show one column per patient:</p>\r\n<p><a class=\"asset-img-link\" href=\"https://junkcharts.typepad.com/.a/6a00d8341e992c53ef0240a47f4fdf200c-pi\" style=\"display: inline;\"><img alt=\"Jnci_genemap\" class=\"asset  asset-image at-xid-6a00d8341e992c53ef0240a47f4fdf200c img-responsive\" src=\"https://junkcharts.typepad.com/.a/6a00d8341e992c53ef0240a47f4fdf200c-350wi\" style=\"width: 350px;\" title=\"Jnci_genemap\" /></a></p>\r\n<p>This so-called <strong>swimmer plot</strong> shows one bar per patient:</p>\r\n<p><a class=\"asset-img-link\" href=\"https://junkcharts.typepad.com/.a/6a00d8341e992c53ef0240a4a88b65200d-pi\" style=\"display: inline;\"><img alt=\"Jnci_swimlanes\" class=\"asset  asset-image at-xid-6a00d8341e992c53ef0240a4a88b65200d img-responsive\" src=\"https://junkcharts.typepad.com/.a/6a00d8341e992c53ef0240a4a88b65200d-350wi\" style=\"width: 350px;\" title=\"Jnci_swimlanes\" /></a></p>\r\n<p>This <strong>spider plot</strong> shows the progression of individual patients over time. Key events are marked with symbols.</p>\r\n<p><a class=\"asset-img-link\" href=\"https://junkcharts.typepad.com/.a/6a00d8341e992c53ef0240a47f4fcd200c-pi\" style=\"display: inline;\"><img alt=\"Jnci_spaghetti\" class=\"asset  asset-image at-xid-6a00d8341e992c53ef0240a47f4fcd200c img-responsive\" src=\"https://junkcharts.typepad.com/.a/6a00d8341e992c53ef0240a47f4fcd200c-350wi\" style=\"width: 350px;\" title=\"Jnci_spaghetti\" /></a></p>\r\n<p>These chart forms are distinguished from other ones that plot aggregated statistics: statistical averages, medians, subgroup averages, and so on.</p>\r\n<p>One obvious limitation of such charts is their lack of scalability. The number of patients, the variability of the metric, and the timing of trends all drive up the amount of messiness.</p>\r\n<p>I am left wondering what <strong>Question</strong> is being addressed by these plots. If we are concerned about treatment of an individual patient, then showing each line by itself would be clearer. If we are interested in the average trends of patients, then a chart that plots the overall average, or subgroup averages would be more accurate. If the interpretation of the individual&#39;s trend requires comparing with similar patients, then showing that individual&#39;s line against the subgroup average would be preferred.</p>\r\n<p>When shown these charts of individual lines, readers are tempted to <strong>play the statistician - without using appropriate tools!</strong> Readers draw aggregate conclusions, performing the <a href=\"https://junkcharts.typepad.com/junk_charts/aggregation\" title=\"Posts about aggregation\">aggregation</a> in their heads.</p>\r\n<p>The authors of the paper note: &quot;Spider plots only provide good visual qualitative assessment but do not allow for formal statistical inference.&quot; I agree with the second part. The first part is a fallacy - if the visual qualitative assessment is good enough, then no formal inference is necessary! The same argument is often made when people say they don&#39;t need advanced analysis because their simple analysis is &quot;directionally accurate&quot;. When is something &quot;directionally inaccurate&quot;? How would one know?</p>\r\n<p><span style=\"font-size: 10pt;\"><em>Reference</em>: Chia, Gedye, et. al., &quot;</span><span style=\"font-size: 11pt; font-family: georgia, palatino; color: #111111;\"><span style=\"font-size: 10pt;\">Current and Evolving Methods to Visualize Biological Data in Cancer Research&quot;, JNCI, 2016, 108(8). (<a href=\"https://academic.oup.com/jnci/article/108/8/djw031/2457493\" title=\"Link to paper\">link</a>)</span><br /></span></p>\r\n<p>***</p>\r\n<p>Meteoreologists, whom I featured in the previous <a href=\"https://junkcharts.typepad.com/junk_charts/2019/09/as-dorian-confounds-meteorologists-we-keep-our-minds-clear-on-hurricane-graphics-and-discover-correl.html\" title=\"Link to prior post\">post</a>, also have their own spider-like chart for hurricanes. They call it a <strong>spaghetti map</strong>:</p>\r\n<p><a class=\"asset-img-link\" href=\"https://junkcharts.typepad.com/.a/6a00d8341e992c53ef0240a4cd91a8200b-pi\" style=\"display: inline;\"><img alt=\"Dorian_spaghetti\" class=\"asset  asset-image at-xid-6a00d8341e992c53ef0240a4cd91a8200b img-responsive\" src=\"https://junkcharts.typepad.com/.a/6a00d8341e992c53ef0240a4cd91a8200b-350wi\" style=\"width: 350px;\" title=\"Dorian_spaghetti\" /></a></p>\r\n<p>Compare this to the &quot;cone of uncertainty&quot; map that was featured in the prior <a href=\"https://junkcharts.typepad.com/junk_charts/2019/09/as-dorian-confounds-meteorologists-we-keep-our-minds-clear-on-hurricane-graphics-and-discover-correl.html\" title=\"Link to prior post\">post</a>:</p>\r\n<p><a class=\"asset-img-link\" href=\"https://junkcharts.typepad.com/.a/6a00d8341e992c53ef0240a4a8900c200d-pi\" style=\"display: inline;\"><img alt=\"AL052019_5day_cone_with_line_and_wind\" class=\"asset  asset-image at-xid-6a00d8341e992c53ef0240a4a8900c200d img-responsive\" src=\"https://junkcharts.typepad.com/.a/6a00d8341e992c53ef0240a4a8900c200d-350wi\" style=\"width: 350px;\" title=\"AL052019_5day_cone_with_line_and_wind\" /></a></p>\r\n<p>These two charts build upon the same dataset. The cone map, as we discussed, shows the range of probable paths of the storm center, based on all simulations of all acceptable models for projection. The spaghetti map shows selected individual simulations. Each line is the most likely trajectory of the storm center as predicted by a single simulation from a single model.</p>\r\n<p>The problem is that each predictive model type has its own historical accuracy (known as &quot;skill&quot;), and so the lines embody different levels of importance. Further, it&#39;s not immediately clear if all possible lines are drawn so any reader making conclusions of, say, the envelope containing x percent of these lines is likely to be fooled. Eyeballing the &quot;cone&quot; that contains x percent of the lines is not trivial either. We tend to naturally drift toward aggregate statistical conclusions without the benefit of appropriate tools.</p>\r\n<p>Plots of individuals should be used to address the specific problem of assessing individuals.</p>",
         "description": "Kaiser Fung (Junkcharts, Principal Analytics Prep) compares spider plots used by cancer researchers and spaghetti charts used by meteorologists.",
         "embeddedAudioLinks": [],
         "embeddedImageLinks": [
          {
           "height": 1094,
           "url": "https://a7.typepad.com/6a00d8341e992c53ef0240a47f4fdf200c-pi",
           "urlTemplate": "https://a7.typepad.com/6a00d8341e992c53ef0240a47f4fdf200c-{spec}",
           "width": 1346
          },
          {
           "height": 600,
           "url": "https://a5.typepad.com/6a00d8341e992c53ef0240a4a88b65200d-pi",
           "urlTemplate": "https://a5.typepad.com/6a00d8341e992c53ef0240a4a88b65200d-{spec}",
           "width": 934
          },
          {
           "height": 592,
           "url": "https://a5.typepad.com/6a00d8341e992c53ef0240a47f4fcd200c-pi",
           "urlTemplate": "https://a5.typepad.com/6a00d8341e992c53ef0240a47f4fcd200c-{spec}",
           "width": 838
          },
          {
           "height": 600,
           "url": "https://a0.typepad.com/6a00d8341e992c53ef0240a4cd91a8200b-pi",
           "urlTemplate": "https://a0.typepad.com/6a00d8341e992c53ef0240a4cd91a8200b-{spec}",
           "width": 800
          },
          {
           "height": 736,
           "url": "https://a4.typepad.com/6a00d8341e992c53ef0240a4a8900c200d-pi",
           "urlTemplate": "https://a4.typepad.com/6a00d8341e992c53ef0240a4a8900c200d-{spec}",
           "width": 897
          }
         ],
         "embeddedVideoLinks": [],
         "excerpt": "Kaiser Fung (Junkcharts, Principal Analytics Prep) compares spider plots used by cancer researchers and spaghetti charts used by meteorologists.",
         "favoriteCount": 0,
         "filename": "choosing-between-individuals-and-aggregates",
         "groups": [],
         "hasExtendedContent": false,
         "id": "tag:api.typepad.com,2009:6a00d8341e992c53ef0240a4cd2eeb200b",
         "objectType": "Post",
         "objectTypes": [
          "tag:api.typepad.com,2009:Post"
         ],
         "permalinkUrl": "https://junkcharts.typepad.com/junk_charts/2019/09/choosing-between-individuals-and-aggregates.html",
         "published": "2019-09-05T18:00:00Z",
         "reblogCount": 0,
         "renderedContent": "<p>Friend/reader Thomas B. alerted me to this <a href=\"https://academic.oup.com/jnci/article/108/8/djw031/2457493\" title=\"Link to paper\">paper</a> that describes some of the key chart forms used by cancer researchers.</p>\r\n<p>It strikes me that many of the &quot;new&quot; charts plot granular data at the individual level. This <strong>heatmap</strong> showing gene expressions show one column per patient:</p>\r\n<p><a class=\"asset-img-link\" href=\"https://junkcharts.typepad.com/.a/6a00d8341e992c53ef0240a47f4fdf200c-pi\" style=\"display: inline;\"><img alt=\"Jnci_genemap\" class=\"asset  asset-image at-xid-6a00d8341e992c53ef0240a47f4fdf200c img-responsive\" src=\"https://junkcharts.typepad.com/.a/6a00d8341e992c53ef0240a47f4fdf200c-350wi\" style=\"width: 350px;\" title=\"Jnci_genemap\" /></a></p>\r\n<p>This so-called <strong>swimmer plot</strong> shows one bar per patient:</p>\r\n<p><a class=\"asset-img-link\" href=\"https://junkcharts.typepad.com/.a/6a00d8341e992c53ef0240a4a88b65200d-pi\" style=\"display: inline;\"><img alt=\"Jnci_swimlanes\" class=\"asset  asset-image at-xid-6a00d8341e992c53ef0240a4a88b65200d img-responsive\" src=\"https://junkcharts.typepad.com/.a/6a00d8341e992c53ef0240a4a88b65200d-350wi\" style=\"width: 350px;\" title=\"Jnci_swimlanes\" /></a></p>\r\n<p>This <strong>spider plot</strong> shows the progression of individual patients over time. Key events are marked with symbols.</p>\r\n<p><a class=\"asset-img-link\" href=\"https://junkcharts.typepad.com/.a/6a00d8341e992c53ef0240a47f4fcd200c-pi\" style=\"display: inline;\"><img alt=\"Jnci_spaghetti\" class=\"asset  asset-image at-xid-6a00d8341e992c53ef0240a47f4fcd200c img-responsive\" src=\"https://junkcharts.typepad.com/.a/6a00d8341e992c53ef0240a47f4fcd200c-350wi\" style=\"width: 350px;\" title=\"Jnci_spaghetti\" /></a></p>\r\n<p>These chart forms are distinguished from other ones that plot aggregated statistics: statistical averages, medians, subgroup averages, and so on.</p>\r\n<p>One obvious limitation of such charts is their lack of scalability. The number of patients, the variability of the metric, and the timing of trends all drive up the amount of messiness.</p>\r\n<p>I am left wondering what <strong>Question</strong> is being addressed by these plots. If we are concerned about treatment of an individual patient, then showing each line by itself would be clearer. If we are interested in the average trends of patients, then a chart that plots the overall average, or subgroup averages would be more accurate. If the interpretation of the individual&#39;s trend requires comparing with similar patients, then showing that individual&#39;s line against the subgroup average would be preferred.</p>\r\n<p>When shown these charts of individual lines, readers are tempted to <strong>play the statistician - without using appropriate tools!</strong> Readers draw aggregate conclusions, performing the <a href=\"https://junkcharts.typepad.com/junk_charts/aggregation\" title=\"Posts about aggregation\">aggregation</a> in their heads.</p>\r\n<p>The authors of the paper note: &quot;Spider plots only provide good visual qualitative assessment but do not allow for formal statistical inference.&quot; I agree with the second part. The first part is a fallacy - if the visual qualitative assessment is good enough, then no formal inference is necessary! The same argument is often made when people say they don&#39;t need advanced analysis because their simple analysis is &quot;directionally accurate&quot;. When is something &quot;directionally inaccurate&quot;? How would one know?</p>\r\n<p><span style=\"font-size: 10pt;\"><em>Reference</em>: Chia, Gedye, et. al., &quot;</span><span style=\"font-size: 11pt; font-family: georgia, palatino; color: #111111;\"><span style=\"font-size: 10pt;\">Current and Evolving Methods to Visualize Biological Data in Cancer Research&quot;, JNCI, 2016, 108(8). (<a href=\"https://academic.oup.com/jnci/article/108/8/djw031/2457493\" title=\"Link to paper\">link</a>)</span><br /></span></p>\r\n<p>***</p>\r\n<p>Meteoreologists, whom I featured in the previous <a href=\"https://junkcharts.typepad.com/junk_charts/2019/09/as-dorian-confounds-meteorologists-we-keep-our-minds-clear-on-hurricane-graphics-and-discover-correl.html\" title=\"Link to prior post\">post</a>, also have their own spider-like chart for hurricanes. They call it a <strong>spaghetti map</strong>:</p>\r\n<p><a class=\"asset-img-link\" href=\"https://junkcharts.typepad.com/.a/6a00d8341e992c53ef0240a4cd91a8200b-pi\" style=\"display: inline;\"><img alt=\"Dorian_spaghetti\" class=\"asset  asset-image at-xid-6a00d8341e992c53ef0240a4cd91a8200b img-responsive\" src=\"https://junkcharts.typepad.com/.a/6a00d8341e992c53ef0240a4cd91a8200b-350wi\" style=\"width: 350px;\" title=\"Dorian_spaghetti\" /></a></p>\r\n<p>Compare this to the &quot;cone of uncertainty&quot; map that was featured in the prior <a href=\"https://junkcharts.typepad.com/junk_charts/2019/09/as-dorian-confounds-meteorologists-we-keep-our-minds-clear-on-hurricane-graphics-and-discover-correl.html\" title=\"Link to prior post\">post</a>:</p>\r\n<p><a class=\"asset-img-link\" href=\"https://junkcharts.typepad.com/.a/6a00d8341e992c53ef0240a4a8900c200d-pi\" style=\"display: inline;\"><img alt=\"AL052019_5day_cone_with_line_and_wind\" class=\"asset  asset-image at-xid-6a00d8341e992c53ef0240a4a8900c200d img-responsive\" src=\"https://junkcharts.typepad.com/.a/6a00d8341e992c53ef0240a4a8900c200d-350wi\" style=\"width: 350px;\" title=\"AL052019_5day_cone_with_line_and_wind\" /></a></p>\r\n<p>These two charts build upon the same dataset. The cone map, as we discussed, shows the range of probable paths of the storm center, based on all simulations of all acceptable models for projection. The spaghetti map shows selected individual simulations. Each line is the most likely trajectory of the storm center as predicted by a single simulation from a single model.</p>\r\n<p>The problem is that each predictive model type has its own historical accuracy (known as &quot;skill&quot;), and so the lines embody different levels of importance. Further, it&#39;s not immediately clear if all possible lines are drawn so any reader making conclusions of, say, the envelope containing x percent of these lines is likely to be fooled. Eyeballing the &quot;cone&quot; that contains x percent of the lines is not trivial either. We tend to naturally drift toward aggregate statistical conclusions without the benefit of appropriate tools.</p>\r\n<p>Plots of individuals should be used to address the specific problem of assessing individuals.</p>",
         "shortUrl": "http://bit.ly/2LwjeLh",
         "textFormat": "html",
         "title": "Choosing between individuals and aggregates",
         "urlId": "6a00d8341e992c53ef0240a4cd2eeb200b"
        },
        {
         "author": {
          "aboutMe": "Kaiser Fung, Author, Junk Charts, Numbersense, Numbers Rule Your World",
          "avatarLink": {
           "height": 250,
           "url": "https://static.typepad.com/.shared/default-userpics/03-250si.gif",
           "width": 250
          },
          "displayName": "junkcharts",
          "id": "tag:api.typepad.com,2009:6p00d8341e992c53ef",
          "interests": [
           "practical statistics",
           "data visualization",
           "business analytics",
           "bootcamp",
           "data science"
          ],
          "location": null,
          "objectType": "User",
          "objectTypes": [
           "tag:api.typepad.com,2009:User"
          ],
          "preferredUsername": "junkcharts",
          "profilePageUrl": "http://profile.typepad.com/junkcharts",
          "urlId": "6p00d8341e992c53ef"
         },
         "categories": [],
         "commentCount": 0,
         "container": {
          "displayName": "Junk Charts",
          "homeUrl": "https://junkcharts.typepad.com/junk_charts/",
          "id": "tag:api.typepad.com,2009:6a00d8341e992c53ef00d8341e9a0553ef",
          "objectType": "Blog",
          "urlId": "6a00d8341e992c53ef00d8341e9a0553ef"
         },
         "content": "<p><a class=\"asset-img-link\" href=\"https://junkcharts.typepad.com/.a/6a00d8341e992c53ef0240a4cd921f200b-pi\" style=\"display: inline;\"><img alt=\"Junkcharts_newdesign_2019\" class=\"asset  asset-image at-xid-6a00d8341e992c53ef0240a4cd921f200b img-responsive\" src=\"https://junkcharts.typepad.com/.a/6a00d8341e992c53ef0240a4cd921f200b-400wi\" style=\"width: 400px;\" title=\"Junkcharts_newdesign_2019\" /></a></p>\r\n<p><br />After a number of years, I finally took time this long weekend to refresh the blog design. I hope you like it.</p>\r\n<p>The key changes are:</p>\r\n<ul>\r\n<li>This design is responsive, so mobile users should have a better experience.</li>\r\n<li>The Welcome message that was pinned to the top has been moved to the top navigation menu. Someone complained about that a long time ago, and I can finally say it&#39;s now fixed.</li>\r\n<li>The Search box is shown at the top (for non-mobile users), which is another request from some time ago.</li>\r\n<li>Many of the links on the side have been updated or made secure.</li>\r\n</ul>\r\n<p>Comment below if you encounter any problems, especially if you&#39;re using mobile.</p>",
         "description": "",
         "embeddedAudioLinks": [],
         "embeddedImageLinks": [
          {
           "height": 1196,
           "url": "https://a7.typepad.com/6a00d8341e992c53ef0240a4cd921f200b-pi",
           "urlTemplate": "https://a7.typepad.com/6a00d8341e992c53ef0240a4cd921f200b-{spec}",
           "width": 2052
          }
         ],
         "embeddedVideoLinks": [],
         "excerpt": "After a number of years, I finally took time this long weekend to refresh the blog design. I hope you like it. The key changes are: This design is responsive, so mobile users should have a better experience. The Welcome...",
         "favoriteCount": 0,
         "filename": "blog-receives-a-facelift",
         "groups": [],
         "hasExtendedContent": false,
         "id": "tag:api.typepad.com,2009:6a00d8341e992c53ef0240a4a802b6200d",
         "objectType": "Post",
         "objectTypes": [
          "tag:api.typepad.com,2009:Post"
         ],
         "permalinkUrl": "https://junkcharts.typepad.com/junk_charts/2019/09/blog-receives-a-facelift.html",
         "published": "2019-09-04T12:00:00Z",
         "reblogCount": 0,
         "renderedContent": "<p><a class=\"asset-img-link\" href=\"https://junkcharts.typepad.com/.a/6a00d8341e992c53ef0240a4cd921f200b-pi\" style=\"display: inline;\"><img alt=\"Junkcharts_newdesign_2019\" class=\"asset  asset-image at-xid-6a00d8341e992c53ef0240a4cd921f200b img-responsive\" src=\"https://junkcharts.typepad.com/.a/6a00d8341e992c53ef0240a4cd921f200b-400wi\" style=\"width: 400px;\" title=\"Junkcharts_newdesign_2019\" /></a></p>\r\n<p><br />After a number of years, I finally took time this long weekend to refresh the blog design. I hope you like it.</p>\r\n<p>The key changes are:</p>\r\n<ul>\r\n<li>This design is responsive, so mobile users should have a better experience.</li>\r\n<li>The Welcome message that was pinned to the top has been moved to the top navigation menu. Someone complained about that a long time ago, and I can finally say it&#39;s now fixed.</li>\r\n<li>The Search box is shown at the top (for non-mobile users), which is another request from some time ago.</li>\r\n<li>Many of the links on the side have been updated or made secure.</li>\r\n</ul>\r\n<p>Comment below if you encounter any problems, especially if you&#39;re using mobile.</p>",
         "shortUrl": "http://bit.ly/2LDBnXZ",
         "textFormat": "html",
         "title": "Blog receives a facelift",
         "urlId": "6a00d8341e992c53ef0240a4a802b6200d"
        },
        {
         "author": {
          "aboutMe": "Kaiser Fung, Author, Junk Charts, Numbersense, Numbers Rule Your World",
          "avatarLink": {
           "height": 250,
           "url": "https://static.typepad.com/.shared/default-userpics/03-250si.gif",
           "width": 250
          },
          "displayName": "junkcharts",
          "id": "tag:api.typepad.com,2009:6p00d8341e992c53ef",
          "interests": [
           "practical statistics",
           "data visualization",
           "business analytics",
           "bootcamp",
           "data science"
          ],
          "location": null,
          "objectType": "User",
          "objectTypes": [
           "tag:api.typepad.com,2009:User"
          ],
          "preferredUsername": "junkcharts",
          "profilePageUrl": "http://profile.typepad.com/junkcharts",
          "urlId": "6p00d8341e992c53ef"
         },
         "categories": [
          "Color",
          "Environment",
          "Legend",
          "Living",
          "Map",
          "Science",
          "Statistics",
          "Time series",
          "Variance"
         ],
         "commentCount": 0,
         "container": {
          "displayName": "Junk Charts",
          "homeUrl": "https://junkcharts.typepad.com/junk_charts/",
          "id": "tag:api.typepad.com,2009:6a00d8341e992c53ef00d8341e9a0553ef",
          "objectType": "Blog",
          "urlId": "6a00d8341e992c53ef00d8341e9a0553ef"
         },
         "content": "<p>As Hurricane Dorian threatens the southeastern coast of the U.S., forecasters are fretting about the lack of consensus among various predictive models used to predict the storm’s trajectory. The uncertainty of these models, as reflected in graphical displays, has been a controversial issue in the visualization community for some time.</p>\r\n<p>Let’s start by reviewing a visual design that has captured meteorologists in recent years, something known as the <strong>cone map</strong>.</p>\r\n<p><a class=\"asset-img-link\" href=\"https://junkcharts.typepad.com/.a/6a00d8341e992c53ef0240a4cc518c200b-pi\" style=\"display: inline;\"><img alt=\"Charley_oldconemap\" class=\"asset  asset-image at-xid-6a00d8341e992c53ef0240a4cc518c200b img-responsive\" src=\"https://junkcharts.typepad.com/.a/6a00d8341e992c53ef0240a4cc518c200b-350wi\" style=\"width: 350px;\" title=\"Charley_oldconemap\" /></a></p>\r\n<p>If asked to explain this <a href=\"https://junkcharts.typepad.com/junk_charts/map\" title=\"Posts about maps\">map</a>, most of us trace a line through the middle of the cone understood to be the center of the storm, the “cone” as the areas near the storm center that are affected, and the warmer colors (red, orange) as indicating higher levels of impact. [Note: We will&#0160; design for this type of map circa 2000s.]</p>\r\n<p>The above interpretation is complete, and feasible. Nevertheless, the data used to make the map are forward-looking, not historical. It is still possible to stick to the same interpretation by substituting historical measurement of impact with its projection. As such, the “warmer” regions are projected to suffer worse damage from the storm than the “cooler” regions (yellow).</p>\r\n<p>After I replace the text that was removed from the map (see below), you may notice the color <a href=\"https://junkcharts.typepad.com/junk_charts/legend\" title=\"Posts about legend\">legend</a>, which discloses that the <a href=\"https://junkcharts.typepad.com/junk_charts/color\" title=\"Posts about colors\">colors</a> on the map encode probabilities, not storm intensity. The text further explains that the chart shows the most probable path of the <em>center</em> of the storm – while the coloring shows the probability that the storm center will reach specific areas.</p>\r\n<p><a class=\"asset-img-link\" href=\"https://junkcharts.typepad.com/.a/6a00d8341e992c53ef0240a4cc51c6200b-pi\" style=\"display: inline;\"><img alt=\"Charley_oldconemap\" class=\"asset  asset-image at-xid-6a00d8341e992c53ef0240a4cc51c6200b img-responsive\" src=\"https://junkcharts.typepad.com/.a/6a00d8341e992c53ef0240a4cc51c6200b-350wi\" style=\"width: 350px;\" title=\"Charley_oldconemap\" /></a></p>\r\n<p>***</p>\r\n<p>When reading a data graphic, we rarely first look for text about how to read the chart. In the case of the cone map, those who didn’t seek out the instructions may form one of these misunderstandings:</p>\r\n<ol>\r\n<li>For someone living in the yellow-shaded areas, the map does not say that the impact of the storm is projected to be lighter; it’s that the center of the storm has a lower chance of passing right through. If, however, the storm does pay a visit, the intensity of the winds will reach hurricane grade.</li>\r\n<li>For someone living outside the cone, the map does not say that the storm will definitely bypass you; it’s that the chance of a direct hit is below the threshold needed to show up on the cone map. Thee threshold is set to attain 66% accurate. The actual paths of storms are expected to stay inside the cone two out of three times.</li>\r\n</ol>\r\n<p>Adding to the confusion, other designers have produced cone maps in which color is encoding projections of wind speeds. Here is the one for Dorian.</p>\r\n<p><a class=\"asset-img-link\" href=\"https://junkcharts.typepad.com/.a/6a00d8341e992c53ef0240a47e6d61200c-pi\" style=\"display: inline;\"><img alt=\"AL052019_wind_probs_64_F120\" class=\"asset  asset-image at-xid-6a00d8341e992c53ef0240a47e6d61200c img-responsive\" src=\"https://junkcharts.typepad.com/.a/6a00d8341e992c53ef0240a47e6d61200c-350wi\" style=\"width: 350px;\" title=\"AL052019_wind_probs_64_F120\" /></a></p>\r\n<p>This map displays essentially what we thought the first cone map was showing.</p>\r\n<p>One way to differentiate the two maps is to roll time forward, and imagine what the maps should look like after the storm has passed through. In the wind-speed map (shown below right), we will see a <strong>cone of damage</strong>, with warmer colors indicating regions that experienced stronger winds.</p>\r\n<p><a class=\"asset-img-link\" href=\"https://junkcharts.typepad.com/.a/6a00d8341e992c53ef0240a4a7a281200d-pi\" style=\"display: inline;\"><img alt=\"Projectedactualwinds_irma\" class=\"asset  asset-image at-xid-6a00d8341e992c53ef0240a4a7a281200d img-responsive\" src=\"https://junkcharts.typepad.com/.a/6a00d8341e992c53ef0240a4a7a281200d-500wi\" style=\"width: 500px;\" title=\"Projectedactualwinds_irma\" /></a></p>\r\n<p>In the storm-center map (below right), we should see a single curve, showing the exact trajectory of the center of the storm. In other words, the <strong>cone of uncertainty</strong> dissipates over time, just like the storm itself.</p>\r\n<p><a class=\"asset-img-link\" href=\"https://junkcharts.typepad.com/.a/6a00d8341e992c53ef0240a47e6d83200c-pi\" style=\"display: inline;\"><img alt=\"Projectedactualstormcenter_irma\" class=\"asset  asset-image at-xid-6a00d8341e992c53ef0240a47e6d83200c img-responsive\" src=\"https://junkcharts.typepad.com/.a/6a00d8341e992c53ef0240a47e6d83200c-500wi\" style=\"width: 500px;\" title=\"Projectedactualstormcenter_irma\" /></a></p>\r\n<p>&#0160;</p>\r\n<p>After scientists learned that readers were misinterpreting the cone maps, they started to issue warnings, and also re-designed the cone map. The cone map now comes with a black-box health warning right up top. Also, in the storm-center cone map, color is no longer used. The National Hurricane Center even made a <a href=\"https://www.youtube.com/watch?v=04QRN5gUe08\" title=\"Link to Youtube\">youtube</a> pointing out the dos and donts of using the cone map.</p>\r\n<p><a class=\"asset-img-link\" href=\"https://junkcharts.typepad.com/.a/6a00d8341e992c53ef0240a47e6d9f200c-pi\" style=\"display: inline;\"><img alt=\"AL052019_5day_cone_with_line_and_wind\" class=\"asset  asset-image at-xid-6a00d8341e992c53ef0240a47e6d9f200c img-responsive\" src=\"https://junkcharts.typepad.com/.a/6a00d8341e992c53ef0240a47e6d9f200c-350wi\" style=\"width: 350px;\" title=\"AL052019_5day_cone_with_line_and_wind\" /></a></p>\r\n<p>***</p>\r\n<p>The conclusion drawn from misreading the cone map isn’t as devastating as it’s made out to be. This is because the two issues are correlated. Since wind speeds are likely to be stronger nearer to the center of the storm, if one lives in a region that has a low chance of being a direct hit, then that region is also likely to experience lower average wind speeds than those nearer to the projected center of the storm’s path.</p>\r\n<p><a href=\"https://thefunctionalart.com\" title=\"Link to Alberto Cairo\">Alberto Cairo</a> has written often about these maps, and in his upcoming book, <em>How Charts Lie</em>, there is a nice section addressing his work with colleagues at the University of Miami on improving public understanding of these hurricane graphics. I highly recommended Cairo’s book <a href=\"https://junkcharts.typepad.com/junk_charts/2019/03/book-preview-how-charts-lie-by-alberto-cairo.html\" title=\"Link to prior post\">here</a>.</p>\r\n<p>P.S. [9/5/2019] Alberto also put out a <a href=\"http://www.thefunctionalart.com/2019/09/explaining-visualizations-in-new-york.html\" title=\"Link to Alberto Cairo\">post</a> about the hurricane cone map.</p>\r\n<p>&#0160;</p>\r\n<p>&#0160;</p>\r\n<p>&#0160;</p>",
         "description": "Kaiser Fung (Junkcharts, Principal Analytics Prep) explains how model uncertainty affects data visualization of hurricane projections.",
         "embeddedAudioLinks": [],
         "embeddedImageLinks": [
          {
           "height": 690,
           "url": "https://a4.typepad.com/6a00d8341e992c53ef0240a4cc518c200b-pi",
           "urlTemplate": "https://a4.typepad.com/6a00d8341e992c53ef0240a4cc518c200b-{spec}",
           "width": 864
          },
          {
           "height": 400,
           "url": "https://a6.typepad.com/6a00d8341e992c53ef0240a4cc51c6200b-pi",
           "urlTemplate": "https://a6.typepad.com/6a00d8341e992c53ef0240a4cc51c6200b-{spec}",
           "width": 500
          },
          {
           "height": 738,
           "url": "https://a1.typepad.com/6a00d8341e992c53ef0240a47e6d61200c-pi",
           "urlTemplate": "https://a1.typepad.com/6a00d8341e992c53ef0240a47e6d61200c-{spec}",
           "width": 897
          },
          {
           "height": 954,
           "url": "https://a1.typepad.com/6a00d8341e992c53ef0240a4a7a281200d-pi",
           "urlTemplate": "https://a1.typepad.com/6a00d8341e992c53ef0240a4a7a281200d-{spec}",
           "width": 1526
          },
          {
           "height": 778,
           "url": "https://a3.typepad.com/6a00d8341e992c53ef0240a47e6d83200c-pi",
           "urlTemplate": "https://a3.typepad.com/6a00d8341e992c53ef0240a47e6d83200c-{spec}",
           "width": 1596
          },
          {
           "height": 736,
           "url": "https://a7.typepad.com/6a00d8341e992c53ef0240a47e6d9f200c-pi",
           "urlTemplate": "https://a7.typepad.com/6a00d8341e992c53ef0240a47e6d9f200c-{spec}",
           "width": 897
          }
         ],
         "embeddedVideoLinks": [],
         "excerpt": "Kaiser Fung (Junkcharts, Principal Analytics Prep) explains how model uncertainty affects data visualization of hurricane projections.",
         "favoriteCount": 0,
         "filename": "as-dorian-confounds-meteorologists-we-keep-our-minds-clear-on-hurricane-graphics-and-discover-correl",
         "groups": [],
         "hasExtendedContent": false,
         "id": "tag:api.typepad.com,2009:6a00d8341e992c53ef0240a4a7a213200d",
         "objectType": "Post",
         "objectTypes": [
          "tag:api.typepad.com,2009:Post"
         ],
         "permalinkUrl": "https://junkcharts.typepad.com/junk_charts/2019/09/as-dorian-confounds-meteorologists-we-keep-our-minds-clear-on-hurricane-graphics-and-discover-correl.html",
         "published": "2019-09-03T12:27:00Z",
         "reblogCount": 0,
         "renderedContent": "<p>As Hurricane Dorian threatens the southeastern coast of the U.S., forecasters are fretting about the lack of consensus among various predictive models used to predict the storm’s trajectory. The uncertainty of these models, as reflected in graphical displays, has been a controversial issue in the visualization community for some time.</p>\r\n<p>Let’s start by reviewing a visual design that has captured meteorologists in recent years, something known as the <strong>cone map</strong>.</p>\r\n<p><a class=\"asset-img-link\" href=\"https://junkcharts.typepad.com/.a/6a00d8341e992c53ef0240a4cc518c200b-pi\" style=\"display: inline;\"><img alt=\"Charley_oldconemap\" class=\"asset  asset-image at-xid-6a00d8341e992c53ef0240a4cc518c200b img-responsive\" src=\"https://junkcharts.typepad.com/.a/6a00d8341e992c53ef0240a4cc518c200b-350wi\" style=\"width: 350px;\" title=\"Charley_oldconemap\" /></a></p>\r\n<p>If asked to explain this <a href=\"https://junkcharts.typepad.com/junk_charts/map\" title=\"Posts about maps\">map</a>, most of us trace a line through the middle of the cone understood to be the center of the storm, the “cone” as the areas near the storm center that are affected, and the warmer colors (red, orange) as indicating higher levels of impact. [Note: We will&#0160; design for this type of map circa 2000s.]</p>\r\n<p>The above interpretation is complete, and feasible. Nevertheless, the data used to make the map are forward-looking, not historical. It is still possible to stick to the same interpretation by substituting historical measurement of impact with its projection. As such, the “warmer” regions are projected to suffer worse damage from the storm than the “cooler” regions (yellow).</p>\r\n<p>After I replace the text that was removed from the map (see below), you may notice the color <a href=\"https://junkcharts.typepad.com/junk_charts/legend\" title=\"Posts about legend\">legend</a>, which discloses that the <a href=\"https://junkcharts.typepad.com/junk_charts/color\" title=\"Posts about colors\">colors</a> on the map encode probabilities, not storm intensity. The text further explains that the chart shows the most probable path of the <em>center</em> of the storm – while the coloring shows the probability that the storm center will reach specific areas.</p>\r\n<p><a class=\"asset-img-link\" href=\"https://junkcharts.typepad.com/.a/6a00d8341e992c53ef0240a4cc51c6200b-pi\" style=\"display: inline;\"><img alt=\"Charley_oldconemap\" class=\"asset  asset-image at-xid-6a00d8341e992c53ef0240a4cc51c6200b img-responsive\" src=\"https://junkcharts.typepad.com/.a/6a00d8341e992c53ef0240a4cc51c6200b-350wi\" style=\"width: 350px;\" title=\"Charley_oldconemap\" /></a></p>\r\n<p>***</p>\r\n<p>When reading a data graphic, we rarely first look for text about how to read the chart. In the case of the cone map, those who didn’t seek out the instructions may form one of these misunderstandings:</p>\r\n<ol>\r\n<li>For someone living in the yellow-shaded areas, the map does not say that the impact of the storm is projected to be lighter; it’s that the center of the storm has a lower chance of passing right through. If, however, the storm does pay a visit, the intensity of the winds will reach hurricane grade.</li>\r\n<li>For someone living outside the cone, the map does not say that the storm will definitely bypass you; it’s that the chance of a direct hit is below the threshold needed to show up on the cone map. Thee threshold is set to attain 66% accurate. The actual paths of storms are expected to stay inside the cone two out of three times.</li>\r\n</ol>\r\n<p>Adding to the confusion, other designers have produced cone maps in which color is encoding projections of wind speeds. Here is the one for Dorian.</p>\r\n<p><a class=\"asset-img-link\" href=\"https://junkcharts.typepad.com/.a/6a00d8341e992c53ef0240a47e6d61200c-pi\" style=\"display: inline;\"><img alt=\"AL052019_wind_probs_64_F120\" class=\"asset  asset-image at-xid-6a00d8341e992c53ef0240a47e6d61200c img-responsive\" src=\"https://junkcharts.typepad.com/.a/6a00d8341e992c53ef0240a47e6d61200c-350wi\" style=\"width: 350px;\" title=\"AL052019_wind_probs_64_F120\" /></a></p>\r\n<p>This map displays essentially what we thought the first cone map was showing.</p>\r\n<p>One way to differentiate the two maps is to roll time forward, and imagine what the maps should look like after the storm has passed through. In the wind-speed map (shown below right), we will see a <strong>cone of damage</strong>, with warmer colors indicating regions that experienced stronger winds.</p>\r\n<p><a class=\"asset-img-link\" href=\"https://junkcharts.typepad.com/.a/6a00d8341e992c53ef0240a4a7a281200d-pi\" style=\"display: inline;\"><img alt=\"Projectedactualwinds_irma\" class=\"asset  asset-image at-xid-6a00d8341e992c53ef0240a4a7a281200d img-responsive\" src=\"https://junkcharts.typepad.com/.a/6a00d8341e992c53ef0240a4a7a281200d-500wi\" style=\"width: 500px;\" title=\"Projectedactualwinds_irma\" /></a></p>\r\n<p>In the storm-center map (below right), we should see a single curve, showing the exact trajectory of the center of the storm. In other words, the <strong>cone of uncertainty</strong> dissipates over time, just like the storm itself.</p>\r\n<p><a class=\"asset-img-link\" href=\"https://junkcharts.typepad.com/.a/6a00d8341e992c53ef0240a47e6d83200c-pi\" style=\"display: inline;\"><img alt=\"Projectedactualstormcenter_irma\" class=\"asset  asset-image at-xid-6a00d8341e992c53ef0240a47e6d83200c img-responsive\" src=\"https://junkcharts.typepad.com/.a/6a00d8341e992c53ef0240a47e6d83200c-500wi\" style=\"width: 500px;\" title=\"Projectedactualstormcenter_irma\" /></a></p>\r\n<p>&#0160;</p>\r\n<p>After scientists learned that readers were misinterpreting the cone maps, they started to issue warnings, and also re-designed the cone map. The cone map now comes with a black-box health warning right up top. Also, in the storm-center cone map, color is no longer used. The National Hurricane Center even made a <a href=\"https://www.youtube.com/watch?v=04QRN5gUe08\" title=\"Link to Youtube\">youtube</a> pointing out the dos and donts of using the cone map.</p>\r\n<p><a class=\"asset-img-link\" href=\"https://junkcharts.typepad.com/.a/6a00d8341e992c53ef0240a47e6d9f200c-pi\" style=\"display: inline;\"><img alt=\"AL052019_5day_cone_with_line_and_wind\" class=\"asset  asset-image at-xid-6a00d8341e992c53ef0240a47e6d9f200c img-responsive\" src=\"https://junkcharts.typepad.com/.a/6a00d8341e992c53ef0240a47e6d9f200c-350wi\" style=\"width: 350px;\" title=\"AL052019_5day_cone_with_line_and_wind\" /></a></p>\r\n<p>***</p>\r\n<p>The conclusion drawn from misreading the cone map isn’t as devastating as it’s made out to be. This is because the two issues are correlated. Since wind speeds are likely to be stronger nearer to the center of the storm, if one lives in a region that has a low chance of being a direct hit, then that region is also likely to experience lower average wind speeds than those nearer to the projected center of the storm’s path.</p>\r\n<p><a href=\"https://thefunctionalart.com\" title=\"Link to Alberto Cairo\">Alberto Cairo</a> has written often about these maps, and in his upcoming book, <em>How Charts Lie</em>, there is a nice section addressing his work with colleagues at the University of Miami on improving public understanding of these hurricane graphics. I highly recommended Cairo’s book <a href=\"https://junkcharts.typepad.com/junk_charts/2019/03/book-preview-how-charts-lie-by-alberto-cairo.html\" title=\"Link to prior post\">here</a>.</p>\r\n<p>P.S. [9/5/2019] Alberto also put out a <a href=\"http://www.thefunctionalart.com/2019/09/explaining-visualizations-in-new-york.html\" title=\"Link to Alberto Cairo\">post</a> about the hurricane cone map.</p>\r\n<p>&#0160;</p>\r\n<p>&#0160;</p>\r\n<p>&#0160;</p>",
         "shortUrl": "http://bit.ly/2ZsWYvM",
         "textFormat": "html",
         "title": "As Dorian confounds meteorologists, we keep our minds clear on hurricane graphics, and discover correlation as our friend",
         "urlId": "6a00d8341e992c53ef0240a4a7a213200d"
        },
        {
         "author": {
          "aboutMe": "Kaiser Fung, Author, Junk Charts, Numbersense, Numbers Rule Your World",
          "avatarLink": {
           "height": 250,
           "url": "https://static.typepad.com/.shared/default-userpics/03-250si.gif",
           "width": 250
          },
          "displayName": "junkcharts",
          "id": "tag:api.typepad.com,2009:6p00d8341e992c53ef",
          "interests": [
           "practical statistics",
           "data visualization",
           "business analytics",
           "bootcamp",
           "data science"
          ],
          "location": null,
          "objectType": "User",
          "objectTypes": [
           "tag:api.typepad.com,2009:User"
          ],
          "preferredUsername": "junkcharts",
          "profilePageUrl": "http://profile.typepad.com/junkcharts",
          "urlId": "6p00d8341e992c53ef"
         },
         "categories": [
          "Aggregation",
          "Bubble chart",
          "Color",
          "Environment",
          "Living",
          "Map",
          "Variance",
          "Washington Post"
         ],
         "commentCount": 0,
         "container": {
          "displayName": "Junk Charts",
          "homeUrl": "https://junkcharts.typepad.com/junk_charts/",
          "id": "tag:api.typepad.com,2009:6a00d8341e992c53ef00d8341e9a0553ef",
          "objectType": "Blog",
          "urlId": "6a00d8341e992c53ef00d8341e9a0553ef"
         },
         "content": "<p>Via Alberto <a href=\"https://thefunctionart.com\">Cairo</a> (whose new <a href=\"https://junkcharts.typepad.com/junk_charts/2019/03/book-preview-how-charts-lie-by-alberto-cairo.html\" title=\"Link to Alberto Cairo book review\">book</a> <em>How Charts Lie</em> can be <a href=\"https://amzn.to/2Fi8PRx\" title=\"Link to Alberto Cairo new book page\">pre-ordered</a>!), I found the Water Stress data visualization by the Washington Post. (<a href=\"https://www.washingtonpost.com/climate-environment/2019/08/06/mapping-strain-our-water/\" title=\"Link to Washington Post\">link</a>)</p>\r\n<p>The main interest here is how they visualized the different levels of water stress across the U.S. Water stress is some metric defined by the Water Resources Institute that, to my mind, measures the demand versus supply of water. The higher the water stress, the higher the risk of experiencing droughts.</p>\r\n<p>There are two ways in which the water stress data are shown: the first is a <a href=\"https://junkcharts.typepad.com/junk_charts/map\" title=\"Posts about maps\">map</a>, and the second is a <a href=\"https://junkcharts.typepad.com/junk_charts/bubble_plot\" title=\"Posts about bubble plots\">bubble plot</a>.</p>\r\n<p><a class=\"asset-img-link\" href=\"https://junkcharts.typepad.com/.a/6a00d8341e992c53ef0240a4a5c38d200d-pi\" style=\"display: inline;\"><img alt=\"Wp_waterstress\" class=\"asset  asset-image at-xid-6a00d8341e992c53ef0240a4a5c38d200d img-responsive\" src=\"https://junkcharts.typepad.com/.a/6a00d8341e992c53ef0240a4a5c38d200d-450wi\" style=\"width: 450px;\" title=\"Wp_waterstress\" /></a></p>\r\n<p>This project provides a great setting to compare and contrast these chart forms.</p>\r\n<p><strong>How Data are Coded</strong></p>\r\n<p>In a map, the data are usually coded as <a href=\"https://junkcharts.typepad.com/junk_charts/color\" title=\"Posts about color\">colors</a>. Sometimes, additional details can be coded as shades, or moire patterns within the colors. But the map form locks down a number of useful dimensions - including x and y location, size and shape. The outline map reserves all these dimensions, rendering them unavailable to encode data.</p>\r\n<p>By contrast, the bubble plot admits a good number of dimensions. The key ones are the x- and y- location. Then, you can also encode data in the size of the dots, the shape, and the color of the dots.</p>\r\n<p>In our map example, the colors encode the water stress level, and a moire pattern encodes &quot;arid areas&quot;. For the scatter plot, x = daily water use, y = water stress level, grouped by magnitude, color = water stress level, size = population. (Shape is constant.)</p>\r\n<p><strong>Spatial Correlation</strong></p>\r\n<p>The map is far superior in displaying spatial correlation. It&#39;s visually obvious that the southwestern states experience higher stress levels.</p>\r\n<p>This spatial knowledge is relinquished when using a bubble plot. The designer relies on the knowledge of the U.S. map in the head of the readers. It is possible to code this into one of the available dimensions, e.g. one could make x = U.S. regions, but another variable is sacrificed.</p>\r\n<p><strong>Non-contiguous Spatial Patterns</strong></p>\r\n<p>When spatial patterns are contiguous, the map functions well. Sometimes, spatial patterns are disjoint. In that case, the bubble plot, which de-emphasizes the physcial locations, can be superior. In our example, the vertical axis divides the states into five groups based on their water stress levels. Try figuring out which states are &quot;medium to high&quot; water stress from the map, and you&#39;ll see the difference.</p>\r\n<p><strong>Finer Geographies</strong></p>\r\n<p>The map handles finer geographical units like counties and precincts better. It&#39;s completely natural.</p>\r\n<p>In the bubble plot, shifting to finer units causes the number of dots to explode. This clutters up the chart. Besides, while most (we hope) Americans know the 50 states, most of us can&#39;t recite counties or precincts. Thus, the designer can&#39;t rely on knowledge in our heads. It would be impossible to learn spatial patterns from such a chart.</p>\r\n<p>***</p>\r\n<p>The key, as always, is to nail down your message, then select the right chart form.</p>\r\n<p>&#0160;</p>\r\n<p>&#0160;</p>",
         "description": "Kaiser Fung (Junkcharts, Principal Analytics Prep) looks at how the Washington Post serves up water stress data two ways - should you use a map or a bubble plot?",
         "embeddedAudioLinks": [],
         "embeddedImageLinks": [
          {
           "height": 788,
           "url": "https://a5.typepad.com/6a00d8341e992c53ef0240a4a5c38d200d-pi",
           "urlTemplate": "https://a5.typepad.com/6a00d8341e992c53ef0240a4a5c38d200d-{spec}",
           "width": 1782
          }
         ],
         "embeddedVideoLinks": [],
         "excerpt": "Kaiser Fung (Junkcharts, Principal Analytics Prep) looks at how the Washington Post serves up water stress data two ways - should you use a map or a bubble plot?",
         "favoriteCount": 0,
         "filename": "water-stress-served-two-ways",
         "groups": [],
         "hasExtendedContent": false,
         "id": "tag:api.typepad.com,2009:6a00d8341e992c53ef0240a4a5c3a7200d",
         "objectType": "Post",
         "objectTypes": [
          "tag:api.typepad.com,2009:Post"
         ],
         "permalinkUrl": "https://junkcharts.typepad.com/junk_charts/2019/08/water-stress-served-two-ways.html",
         "published": "2019-08-29T20:00:00Z",
         "reblogCount": 0,
         "renderedContent": "<p>Via Alberto <a href=\"https://thefunctionart.com\">Cairo</a> (whose new <a href=\"https://junkcharts.typepad.com/junk_charts/2019/03/book-preview-how-charts-lie-by-alberto-cairo.html\" title=\"Link to Alberto Cairo book review\">book</a> <em>How Charts Lie</em> can be <a href=\"https://amzn.to/2Fi8PRx\" title=\"Link to Alberto Cairo new book page\">pre-ordered</a>!), I found the Water Stress data visualization by the Washington Post. (<a href=\"https://www.washingtonpost.com/climate-environment/2019/08/06/mapping-strain-our-water/\" title=\"Link to Washington Post\">link</a>)</p>\r\n<p>The main interest here is how they visualized the different levels of water stress across the U.S. Water stress is some metric defined by the Water Resources Institute that, to my mind, measures the demand versus supply of water. The higher the water stress, the higher the risk of experiencing droughts.</p>\r\n<p>There are two ways in which the water stress data are shown: the first is a <a href=\"https://junkcharts.typepad.com/junk_charts/map\" title=\"Posts about maps\">map</a>, and the second is a <a href=\"https://junkcharts.typepad.com/junk_charts/bubble_plot\" title=\"Posts about bubble plots\">bubble plot</a>.</p>\r\n<p><a class=\"asset-img-link\" href=\"https://junkcharts.typepad.com/.a/6a00d8341e992c53ef0240a4a5c38d200d-pi\" style=\"display: inline;\"><img alt=\"Wp_waterstress\" class=\"asset  asset-image at-xid-6a00d8341e992c53ef0240a4a5c38d200d img-responsive\" src=\"https://junkcharts.typepad.com/.a/6a00d8341e992c53ef0240a4a5c38d200d-450wi\" style=\"width: 450px;\" title=\"Wp_waterstress\" /></a></p>\r\n<p>This project provides a great setting to compare and contrast these chart forms.</p>\r\n<p><strong>How Data are Coded</strong></p>\r\n<p>In a map, the data are usually coded as <a href=\"https://junkcharts.typepad.com/junk_charts/color\" title=\"Posts about color\">colors</a>. Sometimes, additional details can be coded as shades, or moire patterns within the colors. But the map form locks down a number of useful dimensions - including x and y location, size and shape. The outline map reserves all these dimensions, rendering them unavailable to encode data.</p>\r\n<p>By contrast, the bubble plot admits a good number of dimensions. The key ones are the x- and y- location. Then, you can also encode data in the size of the dots, the shape, and the color of the dots.</p>\r\n<p>In our map example, the colors encode the water stress level, and a moire pattern encodes &quot;arid areas&quot;. For the scatter plot, x = daily water use, y = water stress level, grouped by magnitude, color = water stress level, size = population. (Shape is constant.)</p>\r\n<p><strong>Spatial Correlation</strong></p>\r\n<p>The map is far superior in displaying spatial correlation. It&#39;s visually obvious that the southwestern states experience higher stress levels.</p>\r\n<p>This spatial knowledge is relinquished when using a bubble plot. The designer relies on the knowledge of the U.S. map in the head of the readers. It is possible to code this into one of the available dimensions, e.g. one could make x = U.S. regions, but another variable is sacrificed.</p>\r\n<p><strong>Non-contiguous Spatial Patterns</strong></p>\r\n<p>When spatial patterns are contiguous, the map functions well. Sometimes, spatial patterns are disjoint. In that case, the bubble plot, which de-emphasizes the physcial locations, can be superior. In our example, the vertical axis divides the states into five groups based on their water stress levels. Try figuring out which states are &quot;medium to high&quot; water stress from the map, and you&#39;ll see the difference.</p>\r\n<p><strong>Finer Geographies</strong></p>\r\n<p>The map handles finer geographical units like counties and precincts better. It&#39;s completely natural.</p>\r\n<p>In the bubble plot, shifting to finer units causes the number of dots to explode. This clutters up the chart. Besides, while most (we hope) Americans know the 50 states, most of us can&#39;t recite counties or precincts. Thus, the designer can&#39;t rely on knowledge in our heads. It would be impossible to learn spatial patterns from such a chart.</p>\r\n<p>***</p>\r\n<p>The key, as always, is to nail down your message, then select the right chart form.</p>\r\n<p>&#0160;</p>\r\n<p>&#0160;</p>",
         "shortUrl": "http://bit.ly/2LfOVZs",
         "textFormat": "html",
         "title": "Water stress served two ways",
         "urlId": "6a00d8341e992c53ef0240a4a5c3a7200d"
        },
        {
         "author": {
          "aboutMe": "Kaiser Fung, Author, Junk Charts, Numbersense, Numbers Rule Your World",
          "avatarLink": {
           "height": 250,
           "url": "https://static.typepad.com/.shared/default-userpics/03-250si.gif",
           "width": 250
          },
          "displayName": "junkcharts",
          "id": "tag:api.typepad.com,2009:6p00d8341e992c53ef",
          "interests": [
           "practical statistics",
           "data visualization",
           "business analytics",
           "bootcamp",
           "data science"
          ],
          "location": null,
          "objectType": "User",
          "objectTypes": [
           "tag:api.typepad.com,2009:User"
          ],
          "preferredUsername": "junkcharts",
          "profilePageUrl": "http://profile.typepad.com/junkcharts",
          "urlId": "6p00d8341e992c53ef"
         },
         "categories": [
          "Bar chart",
          "Business",
          "Color",
          "Comparability",
          "Current Affairs",
          "Data",
          "Design",
          "Economics",
          "Living",
          "Scale",
          "Time series",
          "Trifecta checkup"
         ],
         "commentCount": 3,
         "container": {
          "displayName": "Junk Charts",
          "homeUrl": "https://junkcharts.typepad.com/junk_charts/",
          "id": "tag:api.typepad.com,2009:6a00d8341e992c53ef00d8341e9a0553ef",
          "objectType": "Blog",
          "urlId": "6a00d8341e992c53ef00d8341e9a0553ef"
         },
         "content": "<p>I was drawn to the following chart in <em>Business Insider</em> because of the calendar metaphor. (The accompanying article is <a href=\"https://www.businessinsider.com/equal-pay-day-gender-pay-gap-calendar-2019-8\" title=\"Link to Business Insider\">here</a>.)</p>\r\n<p><a class=\"asset-img-link\" href=\"https://junkcharts.typepad.com/.a/6a00d8341e992c53ef0240a4a3b2f8200d-pi\" style=\"display: inline;\"><img alt=\"Businessinsider_payday\" class=\"asset  asset-image at-xid-6a00d8341e992c53ef0240a4a3b2f8200d img-responsive\" src=\"https://junkcharts.typepad.com/.a/6a00d8341e992c53ef0240a4a3b2f8200d-350wi\" style=\"width: 350px;\" title=\"Businessinsider_payday\" /></a></p>\r\n<p>Sometimes, the calendar helps readers grasp concepts faster but I&#39;m afraid the usage here slows us down.</p>\r\n<p>The underlying data consist of just four numbers: the wage gaps between race and gender in the U.S., considered simply from an aggregate median personal income perspective. The analyst adopts the median annual salary of a white male worker as a baseline. Then, s/he imputes the number of extra days that others must work to attain the same level of income. For example, the median Asian female worker must work 64 extra days (at her daily salary level) to match the white guy&#39;s annual pay. Meanwhile, Hispanic female workers must work 324 days extra.</p>\r\n<p>There are a host of reasons why the calendar metaphor backfired.</p>\r\n<p>Firstly, it draws attention to an uncomfortable detail of the analysis - which papers over the fact that weekends or public holidays are counted as workdays. The coloring of the boxes compounds this issue. (And the designer also got confused and slipped up when applying the purple color for Hispanic women.)</p>\r\n<p>Secondly, the calendar focuses on Year 2 while Year 1 lurks in the background - white men have to work to get that income (roughly $46,000 in 2017 according to the Census Bureau).</p>\r\n<p>Thirdly, the calendar view exposes another sore point around the underlying analysis. In reality, the white male workers are continuing to earn wages during Year 2.</p>\r\n<p>The realism of the calendar clashes with the hypothetical nature of the analysis.</p>\r\n<p>***</p>\r\n<p>One can just use a <a href=\"https://junkcharts.typepad.com/junk_charts/bar_chart\" title=\"Posts about bar charts\">bar chart</a>, comparing the number of extra days needed. The calendar design can be considered a set of overlapping bars, wrapped around the shape of a calendar.</p>\r\n<p>The staid bars do not bring to life the extra toil - the message is that these women have to work harder to get the same amount of pay. This led me to a different metaphor - the white men got to the destination in a straight line but the women must go around loops (extra days) before reaching the same endpoint.</p>\r\n<p><a class=\"asset-img-link\" href=\"https://junkcharts.typepad.com/.a/6a00d8341e992c53ef0240a4c8617b200b-pi\" style=\"display: inline;\"><img alt=\"Redo_businessinsider_racegenderpaygap\" class=\"asset  asset-image at-xid-6a00d8341e992c53ef0240a4c8617b200b img-responsive\" src=\"https://junkcharts.typepad.com/.a/6a00d8341e992c53ef0240a4c8617b200b-350wi\" style=\"width: 350px;\" title=\"Redo_businessinsider_racegenderpaygap\" /></a></p>\r\n<p>While the above is a rough sketch, I made sure that the total length of the lines including the loops roughly matches the total number of days the women needed to work to earn $46,000.</p>\r\n<p>***</p>\r\n<p>The above discussion focuses solely on the V(isual) corner of the <a href=\"https://bitly.com/trifectacheckup\" title=\"Link to Trifecta Checkup Guide\">Trifecta Checkup</a>, but this data visualization is also interesting from the D(ata) perspective. Statisticians won&#39;t like such a simple analysis that ignores, among other things, the different mix of jobs and industries underlying these aggregate pay figures.</p>\r\n<p>Now go to my other <a href=\"https://junkcharts.typepad.com/numbersruleyourworld/2019/08/wage-inequality-and-its-sources.html%20\" title=\"Link to Big Data Plainly Spoken\">post</a> on the sister (book) blog for a discussion of the underlying analysis.</p>\r\n<p>&#0160;</p>\r\n<p>&#0160;</p>",
         "description": "Kaiser Fung (JunkCharts, Principal Analytics Prep) sizes up a chart of wage inequality in the U.S., published in the Business Insider.",
         "embeddedAudioLinks": [],
         "embeddedImageLinks": [
          {
           "height": 1088,
           "url": "https://a0.typepad.com/6a00d8341e992c53ef0240a4a3b2f8200d-pi",
           "urlTemplate": "https://a0.typepad.com/6a00d8341e992c53ef0240a4a3b2f8200d-{spec}",
           "width": 960
          },
          {
           "height": 1068,
           "url": "https://a3.typepad.com/6a00d8341e992c53ef0240a4c8617b200b-pi",
           "urlTemplate": "https://a3.typepad.com/6a00d8341e992c53ef0240a4c8617b200b-{spec}",
           "width": 846
          }
         ],
         "embeddedVideoLinks": [],
         "excerpt": "Kaiser Fung (JunkCharts, Principal Analytics Prep) sizes up a chart of wage inequality in the U.S., published in the Business Insider.",
         "favoriteCount": 0,
         "filename": "women-workers-taken-for-a-loop-or-four",
         "groups": [],
         "hasExtendedContent": false,
         "id": "tag:api.typepad.com,2009:6a00d8341e992c53ef0240a4a3b31a200d",
         "objectType": "Post",
         "objectTypes": [
          "tag:api.typepad.com,2009:Post"
         ],
         "permalinkUrl": "https://junkcharts.typepad.com/junk_charts/2019/08/women-workers-taken-for-a-loop-or-four.html",
         "published": "2019-08-26T12:08:00Z",
         "reblogCount": 0,
         "renderedContent": "<p>I was drawn to the following chart in <em>Business Insider</em> because of the calendar metaphor. (The accompanying article is <a href=\"https://www.businessinsider.com/equal-pay-day-gender-pay-gap-calendar-2019-8\" title=\"Link to Business Insider\">here</a>.)</p>\r\n<p><a class=\"asset-img-link\" href=\"https://junkcharts.typepad.com/.a/6a00d8341e992c53ef0240a4a3b2f8200d-pi\" style=\"display: inline;\"><img alt=\"Businessinsider_payday\" class=\"asset  asset-image at-xid-6a00d8341e992c53ef0240a4a3b2f8200d img-responsive\" src=\"https://junkcharts.typepad.com/.a/6a00d8341e992c53ef0240a4a3b2f8200d-350wi\" style=\"width: 350px;\" title=\"Businessinsider_payday\" /></a></p>\r\n<p>Sometimes, the calendar helps readers grasp concepts faster but I&#39;m afraid the usage here slows us down.</p>\r\n<p>The underlying data consist of just four numbers: the wage gaps between race and gender in the U.S., considered simply from an aggregate median personal income perspective. The analyst adopts the median annual salary of a white male worker as a baseline. Then, s/he imputes the number of extra days that others must work to attain the same level of income. For example, the median Asian female worker must work 64 extra days (at her daily salary level) to match the white guy&#39;s annual pay. Meanwhile, Hispanic female workers must work 324 days extra.</p>\r\n<p>There are a host of reasons why the calendar metaphor backfired.</p>\r\n<p>Firstly, it draws attention to an uncomfortable detail of the analysis - which papers over the fact that weekends or public holidays are counted as workdays. The coloring of the boxes compounds this issue. (And the designer also got confused and slipped up when applying the purple color for Hispanic women.)</p>\r\n<p>Secondly, the calendar focuses on Year 2 while Year 1 lurks in the background - white men have to work to get that income (roughly $46,000 in 2017 according to the Census Bureau).</p>\r\n<p>Thirdly, the calendar view exposes another sore point around the underlying analysis. In reality, the white male workers are continuing to earn wages during Year 2.</p>\r\n<p>The realism of the calendar clashes with the hypothetical nature of the analysis.</p>\r\n<p>***</p>\r\n<p>One can just use a <a href=\"https://junkcharts.typepad.com/junk_charts/bar_chart\" title=\"Posts about bar charts\">bar chart</a>, comparing the number of extra days needed. The calendar design can be considered a set of overlapping bars, wrapped around the shape of a calendar.</p>\r\n<p>The staid bars do not bring to life the extra toil - the message is that these women have to work harder to get the same amount of pay. This led me to a different metaphor - the white men got to the destination in a straight line but the women must go around loops (extra days) before reaching the same endpoint.</p>\r\n<p><a class=\"asset-img-link\" href=\"https://junkcharts.typepad.com/.a/6a00d8341e992c53ef0240a4c8617b200b-pi\" style=\"display: inline;\"><img alt=\"Redo_businessinsider_racegenderpaygap\" class=\"asset  asset-image at-xid-6a00d8341e992c53ef0240a4c8617b200b img-responsive\" src=\"https://junkcharts.typepad.com/.a/6a00d8341e992c53ef0240a4c8617b200b-350wi\" style=\"width: 350px;\" title=\"Redo_businessinsider_racegenderpaygap\" /></a></p>\r\n<p>While the above is a rough sketch, I made sure that the total length of the lines including the loops roughly matches the total number of days the women needed to work to earn $46,000.</p>\r\n<p>***</p>\r\n<p>The above discussion focuses solely on the V(isual) corner of the <a href=\"https://bitly.com/trifectacheckup\" title=\"Link to Trifecta Checkup Guide\">Trifecta Checkup</a>, but this data visualization is also interesting from the D(ata) perspective. Statisticians won&#39;t like such a simple analysis that ignores, among other things, the different mix of jobs and industries underlying these aggregate pay figures.</p>\r\n<p>Now go to my other <a href=\"https://junkcharts.typepad.com/numbersruleyourworld/2019/08/wage-inequality-and-its-sources.html%20\" title=\"Link to Big Data Plainly Spoken\">post</a> on the sister (book) blog for a discussion of the underlying analysis.</p>\r\n<p>&#0160;</p>\r\n<p>&#0160;</p>",
         "shortUrl": "http://bit.ly/2L8SfFz",
         "textFormat": "html",
         "title": "Women workers taken for a loop or four",
         "urlId": "6a00d8341e992c53ef0240a4a3b31a200d"
        },
        {
         "author": {
          "aboutMe": "Kaiser Fung, Author, Junk Charts, Numbersense, Numbers Rule Your World",
          "avatarLink": {
           "height": 250,
           "url": "https://static.typepad.com/.shared/default-userpics/03-250si.gif",
           "width": 250
          },
          "displayName": "junkcharts",
          "id": "tag:api.typepad.com,2009:6p00d8341e992c53ef",
          "interests": [
           "practical statistics",
           "data visualization",
           "business analytics",
           "bootcamp",
           "data science"
          ],
          "location": null,
          "objectType": "User",
          "objectTypes": [
           "tag:api.typepad.com,2009:User"
          ],
          "preferredUsername": "junkcharts",
          "profilePageUrl": "http://profile.typepad.com/junkcharts",
          "urlId": "6p00d8341e992c53ef"
         },
         "categories": [
          "Data labels",
          "Dot plot",
          "Hierarchy",
          "Line chart",
          "Sports",
          "Text",
          "Time series",
          "Trifecta checkup",
          "United Kingdom",
          "Variance"
         ],
         "commentCount": 3,
         "container": {
          "displayName": "Junk Charts",
          "homeUrl": "https://junkcharts.typepad.com/junk_charts/",
          "id": "tag:api.typepad.com,2009:6a00d8341e992c53ef00d8341e9a0553ef",
          "objectType": "Blog",
          "urlId": "6a00d8341e992c53ef00d8341e9a0553ef"
         },
         "content": "<p><a class=\"asset-img-link\" href=\"https://junkcharts.typepad.com/.a/6a00d8341e992c53ef0240a4c5ba53200b-pi\" style=\"display: inline;\"><img alt=\"Ft_wimbledonage\" class=\"asset  asset-image at-xid-6a00d8341e992c53ef0240a4c5ba53200b img-responsive\" src=\"https://junkcharts.typepad.com/.a/6a00d8341e992c53ef0240a4c5ba53200b-350wi\" style=\"width: 350px;\" title=\"Ft_wimbledonage\" /></a></p>\r\n<p><br />This <em>Financial Times</em> chart paints the picture of the emerging trend in <strong>Wimbledon</strong> men’s tennis: the average age of players has been rising, and hits 30 years old for the first time ever in 2019.</p>\r\n<p>The chart works brilliantly. Let&#39;s look at the design decisions that contributed to its success.</p>\r\n<p>The chart contains a good amount of data and the presentation is carefully <a href=\"https://junkcharts.typepad.com/junk_charts/hierarchy\" title=\"Posts about hierarchy\">layered</a>, with the layers nicely tied to some visual cues.</p>\r\n<p>Readers are drawn immediately to the average line, which conveys the key statistical finding. The blue dot&#0160; reinforces the key message, aided by the dotted line drawn at 30 years old. The single <a href=\"https://junkcharts.typepad.com/junk_charts/data_labels\" title=\"Posts about data labels\">data label</a> that shows a number also highlights the message.</p>\r\n<p>Next, readers may notice the large font that is applied to selected players. This device draws attention to the human stories behind the dry data. Knowledgable fans may recall fondly when Borg, Becker and Chang burst onto the scene as teenagers.</p>\r\n<p>&#0160;</p>\r\n<p>Then, readers may pick up on the ticker-tape data that display the <a href=\"https://junkcharts.typepad.com/junk_charts/variance\" title=\"Posts about variability\">spread</a> of ages of Wimbledon players in any given year. There is some shading involved, not clearly explained, but we surmise that it illustrates the range of ages of most of the contestants. In a sense, the range of probable ages and the average age tell the same story. The current<strong><a href=\"https://junkcharts.typepad.com/junk_charts/time_series\" title=\"Posts about time-series data\"> trend</a> of rising ages began around 2005</strong>.</p>\r\n<p>&#0160;</p>\r\n<p>Finally, a key data processing decision is disclosed in chart header and sub-header. The chart only plots the players who reached the fourth round (16). Like most decisions involved in data analysis, this choice has both desirable and undesirable effects. I like it because it thins out the data. The chart would have appeared more cluttered otherwise, in a negative way.</p>\r\n<p>The removal of players eliminated in the early rounds limits the conclusion that one can draw from the chart. We are tempted to generalize the finding, saying that the average men’s player has increased in age – that was what I said in the first paragraph. Thinking about that for a second, I am not so sure the general statement is valid.</p>\r\n<p>The overall field might have gone younger or not grown older, even as the older players assert their presence in the tournament. (This <a href=\"https://medium.com/@mathzero/why-are-tennis-players-getting-older-eb2fb5895929\" title=\"Link to Medium\">article</a> provides side evidence that the conjecture might be true: the author looked at the average age of players in the top 100 ATP ranking versus top 1000, and learned that the average age of the top 1000 has barely shifted while the top 100 players have definitely grown older.)</p>\r\n<p>So kudos to these reporters for writing a careful headline that stays true to the analysis.</p>\r\n<p>I also found this <a href=\"https://www.ft.com/video/b7976514-feef-4f4f-a5ab-08a65469744e\" title=\"Link to Financial Times\">video</a> at FT that discussed the chart.</p>\r\n<p>***</p>\r\n<p>This chart about Wimbledon players hits the <strong>Trifecta</strong>. It has an interesting – to some, surprising – message (Q). It demonstrates thoughtful processing and analysis of the data (D). And the visual design fits well with its intended message (V). (For a comprehensive guide to the Trifecta Checkup, see <a href=\"https://bitly.com/trifectacheckup\" title=\"Link to Trifect Checkup Guide by Junkcharts\">here</a>.)</p>",
         "description": "Kaiser Fung (Junkcharts, Principal Analytics Prep) likes the Financial Times's take on male Wimbledon players getting older. ",
         "embeddedAudioLinks": [],
         "embeddedImageLinks": [
          {
           "height": 857,
           "url": "https://a3.typepad.com/6a00d8341e992c53ef0240a4c5ba53200b-pi",
           "urlTemplate": "https://a3.typepad.com/6a00d8341e992c53ef0240a4c5ba53200b-{spec}",
           "width": 1200
          }
         ],
         "embeddedVideoLinks": [],
         "excerpt": "Kaiser Fung (Junkcharts, Principal Analytics Prep) likes the Financial Times's take on male Wimbledon players getting older. ",
         "favoriteCount": 0,
         "filename": "this-wimbledon-beauty-will-be-ageless",
         "groups": [],
         "hasExtendedContent": false,
         "id": "tag:api.typepad.com,2009:6a00d8341e992c53ef0240a4c5ba35200b",
         "objectType": "Post",
         "objectTypes": [
          "tag:api.typepad.com,2009:Post"
         ],
         "permalinkUrl": "https://junkcharts.typepad.com/junk_charts/2019/08/this-wimbledon-beauty-will-be-ageless.html",
         "published": "2019-08-19T12:13:00Z",
         "reblogCount": 0,
         "renderedContent": "<p><a class=\"asset-img-link\" href=\"https://junkcharts.typepad.com/.a/6a00d8341e992c53ef0240a4c5ba53200b-pi\" style=\"display: inline;\"><img alt=\"Ft_wimbledonage\" class=\"asset  asset-image at-xid-6a00d8341e992c53ef0240a4c5ba53200b img-responsive\" src=\"https://junkcharts.typepad.com/.a/6a00d8341e992c53ef0240a4c5ba53200b-350wi\" style=\"width: 350px;\" title=\"Ft_wimbledonage\" /></a></p>\r\n<p><br />This <em>Financial Times</em> chart paints the picture of the emerging trend in <strong>Wimbledon</strong> men’s tennis: the average age of players has been rising, and hits 30 years old for the first time ever in 2019.</p>\r\n<p>The chart works brilliantly. Let&#39;s look at the design decisions that contributed to its success.</p>\r\n<p>The chart contains a good amount of data and the presentation is carefully <a href=\"https://junkcharts.typepad.com/junk_charts/hierarchy\" title=\"Posts about hierarchy\">layered</a>, with the layers nicely tied to some visual cues.</p>\r\n<p>Readers are drawn immediately to the average line, which conveys the key statistical finding. The blue dot&#0160; reinforces the key message, aided by the dotted line drawn at 30 years old. The single <a href=\"https://junkcharts.typepad.com/junk_charts/data_labels\" title=\"Posts about data labels\">data label</a> that shows a number also highlights the message.</p>\r\n<p>Next, readers may notice the large font that is applied to selected players. This device draws attention to the human stories behind the dry data. Knowledgable fans may recall fondly when Borg, Becker and Chang burst onto the scene as teenagers.</p>\r\n<p>&#0160;</p>\r\n<p>Then, readers may pick up on the ticker-tape data that display the <a href=\"https://junkcharts.typepad.com/junk_charts/variance\" title=\"Posts about variability\">spread</a> of ages of Wimbledon players in any given year. There is some shading involved, not clearly explained, but we surmise that it illustrates the range of ages of most of the contestants. In a sense, the range of probable ages and the average age tell the same story. The current<strong><a href=\"https://junkcharts.typepad.com/junk_charts/time_series\" title=\"Posts about time-series data\"> trend</a> of rising ages began around 2005</strong>.</p>\r\n<p>&#0160;</p>\r\n<p>Finally, a key data processing decision is disclosed in chart header and sub-header. The chart only plots the players who reached the fourth round (16). Like most decisions involved in data analysis, this choice has both desirable and undesirable effects. I like it because it thins out the data. The chart would have appeared more cluttered otherwise, in a negative way.</p>\r\n<p>The removal of players eliminated in the early rounds limits the conclusion that one can draw from the chart. We are tempted to generalize the finding, saying that the average men’s player has increased in age – that was what I said in the first paragraph. Thinking about that for a second, I am not so sure the general statement is valid.</p>\r\n<p>The overall field might have gone younger or not grown older, even as the older players assert their presence in the tournament. (This <a href=\"https://medium.com/@mathzero/why-are-tennis-players-getting-older-eb2fb5895929\" title=\"Link to Medium\">article</a> provides side evidence that the conjecture might be true: the author looked at the average age of players in the top 100 ATP ranking versus top 1000, and learned that the average age of the top 1000 has barely shifted while the top 100 players have definitely grown older.)</p>\r\n<p>So kudos to these reporters for writing a careful headline that stays true to the analysis.</p>\r\n<p>I also found this <a href=\"https://www.ft.com/video/b7976514-feef-4f4f-a5ab-08a65469744e\" title=\"Link to Financial Times\">video</a> at FT that discussed the chart.</p>\r\n<p>***</p>\r\n<p>This chart about Wimbledon players hits the <strong>Trifecta</strong>. It has an interesting – to some, surprising – message (Q). It demonstrates thoughtful processing and analysis of the data (D). And the visual design fits well with its intended message (V). (For a comprehensive guide to the Trifecta Checkup, see <a href=\"https://bitly.com/trifectacheckup\" title=\"Link to Trifect Checkup Guide by Junkcharts\">here</a>.)</p>",
         "shortUrl": "http://bit.ly/2MpK7n8",
         "textFormat": "html",
         "title": "This Wimbledon beauty will be ageless",
         "urlId": "6a00d8341e992c53ef0240a4c5ba35200b"
        },
        {
         "author": {
          "aboutMe": "Kaiser Fung, Author, Junk Charts, Numbersense, Numbers Rule Your World",
          "avatarLink": {
           "height": 250,
           "url": "https://static.typepad.com/.shared/default-userpics/03-250si.gif",
           "width": 250
          },
          "displayName": "junkcharts",
          "id": "tag:api.typepad.com,2009:6p00d8341e992c53ef",
          "interests": [
           "practical statistics",
           "data visualization",
           "business analytics",
           "bootcamp",
           "data science"
          ],
          "location": null,
          "objectType": "User",
          "objectTypes": [
           "tag:api.typepad.com,2009:User"
          ],
          "preferredUsername": "junkcharts",
          "profilePageUrl": "http://profile.typepad.com/junkcharts",
          "urlId": "6p00d8341e992c53ef"
         },
         "categories": [
          "Current Affairs",
          "Map",
          "NYT",
          "Politics",
          "Scale",
          "Small multiples"
         ],
         "commentCount": 0,
         "container": {
          "displayName": "Junk Charts",
          "homeUrl": "https://junkcharts.typepad.com/junk_charts/",
          "id": "tag:api.typepad.com,2009:6a00d8341e992c53ef00d8341e9a0553ef",
          "objectType": "Blog",
          "urlId": "6a00d8341e992c53ef00d8341e9a0553ef"
         },
         "content": "<p>I like Alberto&#39;s <a href=\"http://www.thefunctionalart.com/2019/08/lovely-maps-by-nyt.html\" title=\"Link to The Functional Art\">discussion</a> of the attractive <a href=\"https://junkcharts.typepad.com/junk_charts/maps\" title=\"Posts about maps\">maps</a> about donors to Democratic presidential candidates, produced by the New York Times (direct <a href=\"https://www.nytimes.com/interactive/2019/08/02/us/politics/2020-democratic-fundraising.html\" title=\"Link to NYTimes\">link</a>).</p>\r\n<p>Here is the headline map:</p>\r\n<p><a class=\"asset-img-link\" href=\"https://junkcharts.typepad.com/.a/6a00d8341e992c53ef0240a4c3053f200b-pi\" style=\"display: inline;\"><img alt=\"Nyt_demdonormaps\" class=\"asset  asset-image at-xid-6a00d8341e992c53ef0240a4c3053f200b img-responsive\" src=\"https://junkcharts.typepad.com/.a/6a00d8341e992c53ef0240a4c3053f200b-500wi\" style=\"width: 500px;\" title=\"Nyt_demdonormaps\" /></a></p>\r\n<p>The message is clear: Bernie Sanders is the only candidate with nation-wide appeal. The breadth of his coverage is breath-taking. (I agree with Alberto&#39;s critique about the lack of a color <a href=\"https://junkcharts.typepad.com/junk_charts/scale\" title=\"Posts about scale\">scale</a>. It&#39;s impossible to know if the counts are trivial or not.)</p>\r\n<p>Bernie&#39;s coverage is so broad that his numbers overwhelm those of all other candidates except in their home bases (e.g. O&#39;Rourke in Texas).</p>\r\n<p>A remedy to this is to look at the data after removing Bernie&#39;s numbers.</p>\r\n<p><a class=\"asset-img-link\" href=\"https://junkcharts.typepad.com/.a/6a00d8341e992c53ef0240a4c30583200b-pi\" style=\"display: inline;\"><img alt=\"Nyt_demdonormap_2\" class=\"asset  asset-image at-xid-6a00d8341e992c53ef0240a4c30583200b img-responsive\" src=\"https://junkcharts.typepad.com/.a/6a00d8341e992c53ef0240a4c30583200b-450wi\" style=\"width: 450px;\" title=\"Nyt_demdonormap_2\" /></a></p>\r\n<p>&#0160;</p>\r\n<p>This pair of maps reminds me of the Sri Lanka religions map that I revisualized in this <a href=\"https://junkcharts.typepad.com/junk_charts/2019/05/morphing-small-multiples-to-investigate-sri-lankas-religions.html\" title=\"Link to prior post on Sri Lanka\">post</a>.</p>\r\n<p><a class=\"asset-img-link\" href=\"https://junkcharts.typepad.com/.a/6a00d8341e992c53ef0240a49e5615200d-pi\" style=\"display: inline;\"><img alt=\"Redo_srilankareligiondistricts_v2\" class=\"asset  asset-image at-xid-6a00d8341e992c53ef0240a49e5615200d img-responsive\" src=\"https://junkcharts.typepad.com/.a/6a00d8341e992c53ef0240a49e5615200d-500wi\" style=\"width: 500px;\" title=\"Redo_srilankareligiondistricts_v2\" /></a></p>\r\n<p>The first two maps divide the districts into those in which one religion dominates and those in which multiple religions share the limelight. The third map then shows the second-rank religion in the mixed-religions districts.</p>\r\n<p>The second <a href=\"https://junkcharts.typepad.com/junk_charts/maps\" title=\"Posts about maps\">map</a> in the NYT&#39;s donor map series plots the second-rank candidate in all the precincts that Bernie Sanders lead. It&#39;s like the designer pulled off the top layer (blue: Bernie) to reveal what&#39;s underneath.</p>\r\n<p>Because all of Bernie&#39;s data are removed, O&#39;Rourke is still dominating Texas, Buttigieg in Indiana, etc. An alternative is to pull off the top layer in those pockets as well. Then, it&#39;s likely to see Bernie showing up in those areas.</p>\r\n<p>The other startling observation is how small Joe Biden&#39;s presence is on these maps. This is likely because Biden relies primarily on big donors.</p>\r\n<p>See <a href=\"https://www.nytimes.com/interactive/2019/08/02/us/politics/2020-democratic-fundraising.html\" title=\"Link to NYTimes\">here</a> for the entire series of donor maps. See <a href=\"https://junkcharts.typepad.com/junk_charts/nyt\" title=\"Posts about NYT Graphics\">here</a> for past discussion of New York Times&#39;s graphics.</p>",
         "description": "Kaiser Fung (JunkCharts) reviews maps of Democratic donors published by the New York Times.",
         "embeddedAudioLinks": [],
         "embeddedImageLinks": [
          {
           "height": 1260,
           "url": "https://a7.typepad.com/6a00d8341e992c53ef0240a4c3053f200b-pi",
           "urlTemplate": "https://a7.typepad.com/6a00d8341e992c53ef0240a4c3053f200b-{spec}",
           "width": 1758
          },
          {
           "height": 1266,
           "url": "https://a3.typepad.com/6a00d8341e992c53ef0240a4c30583200b-pi",
           "urlTemplate": "https://a3.typepad.com/6a00d8341e992c53ef0240a4c30583200b-{spec}",
           "width": 1648
          },
          {
           "height": 892,
           "url": "https://a5.typepad.com/6a00d8341e992c53ef0240a49e5615200d-pi",
           "urlTemplate": "https://a5.typepad.com/6a00d8341e992c53ef0240a49e5615200d-{spec}",
           "width": 1374
          }
         ],
         "embeddedVideoLinks": [],
         "excerpt": "Kaiser Fung (JunkCharts) reviews maps of Democratic donors published by the New York Times.",
         "favoriteCount": 0,
         "filename": "where-are-the-democratic-donors",
         "groups": [],
         "hasExtendedContent": false,
         "id": "tag:api.typepad.com,2009:6a00d8341e992c53ef0240a4752520200c",
         "objectType": "Post",
         "objectTypes": [
          "tag:api.typepad.com,2009:Post"
         ],
         "permalinkUrl": "https://junkcharts.typepad.com/junk_charts/2019/08/where-are-the-democratic-donors.html",
         "published": "2019-08-13T12:27:00Z",
         "reblogCount": 0,
         "renderedContent": "<p>I like Alberto&#39;s <a href=\"http://www.thefunctionalart.com/2019/08/lovely-maps-by-nyt.html\" title=\"Link to The Functional Art\">discussion</a> of the attractive <a href=\"https://junkcharts.typepad.com/junk_charts/maps\" title=\"Posts about maps\">maps</a> about donors to Democratic presidential candidates, produced by the New York Times (direct <a href=\"https://www.nytimes.com/interactive/2019/08/02/us/politics/2020-democratic-fundraising.html\" title=\"Link to NYTimes\">link</a>).</p>\r\n<p>Here is the headline map:</p>\r\n<p><a class=\"asset-img-link\" href=\"https://junkcharts.typepad.com/.a/6a00d8341e992c53ef0240a4c3053f200b-pi\" style=\"display: inline;\"><img alt=\"Nyt_demdonormaps\" class=\"asset  asset-image at-xid-6a00d8341e992c53ef0240a4c3053f200b img-responsive\" src=\"https://junkcharts.typepad.com/.a/6a00d8341e992c53ef0240a4c3053f200b-500wi\" style=\"width: 500px;\" title=\"Nyt_demdonormaps\" /></a></p>\r\n<p>The message is clear: Bernie Sanders is the only candidate with nation-wide appeal. The breadth of his coverage is breath-taking. (I agree with Alberto&#39;s critique about the lack of a color <a href=\"https://junkcharts.typepad.com/junk_charts/scale\" title=\"Posts about scale\">scale</a>. It&#39;s impossible to know if the counts are trivial or not.)</p>\r\n<p>Bernie&#39;s coverage is so broad that his numbers overwhelm those of all other candidates except in their home bases (e.g. O&#39;Rourke in Texas).</p>\r\n<p>A remedy to this is to look at the data after removing Bernie&#39;s numbers.</p>\r\n<p><a class=\"asset-img-link\" href=\"https://junkcharts.typepad.com/.a/6a00d8341e992c53ef0240a4c30583200b-pi\" style=\"display: inline;\"><img alt=\"Nyt_demdonormap_2\" class=\"asset  asset-image at-xid-6a00d8341e992c53ef0240a4c30583200b img-responsive\" src=\"https://junkcharts.typepad.com/.a/6a00d8341e992c53ef0240a4c30583200b-450wi\" style=\"width: 450px;\" title=\"Nyt_demdonormap_2\" /></a></p>\r\n<p>&#0160;</p>\r\n<p>This pair of maps reminds me of the Sri Lanka religions map that I revisualized in this <a href=\"https://junkcharts.typepad.com/junk_charts/2019/05/morphing-small-multiples-to-investigate-sri-lankas-religions.html\" title=\"Link to prior post on Sri Lanka\">post</a>.</p>\r\n<p><a class=\"asset-img-link\" href=\"https://junkcharts.typepad.com/.a/6a00d8341e992c53ef0240a49e5615200d-pi\" style=\"display: inline;\"><img alt=\"Redo_srilankareligiondistricts_v2\" class=\"asset  asset-image at-xid-6a00d8341e992c53ef0240a49e5615200d img-responsive\" src=\"https://junkcharts.typepad.com/.a/6a00d8341e992c53ef0240a49e5615200d-500wi\" style=\"width: 500px;\" title=\"Redo_srilankareligiondistricts_v2\" /></a></p>\r\n<p>The first two maps divide the districts into those in which one religion dominates and those in which multiple religions share the limelight. The third map then shows the second-rank religion in the mixed-religions districts.</p>\r\n<p>The second <a href=\"https://junkcharts.typepad.com/junk_charts/maps\" title=\"Posts about maps\">map</a> in the NYT&#39;s donor map series plots the second-rank candidate in all the precincts that Bernie Sanders lead. It&#39;s like the designer pulled off the top layer (blue: Bernie) to reveal what&#39;s underneath.</p>\r\n<p>Because all of Bernie&#39;s data are removed, O&#39;Rourke is still dominating Texas, Buttigieg in Indiana, etc. An alternative is to pull off the top layer in those pockets as well. Then, it&#39;s likely to see Bernie showing up in those areas.</p>\r\n<p>The other startling observation is how small Joe Biden&#39;s presence is on these maps. This is likely because Biden relies primarily on big donors.</p>\r\n<p>See <a href=\"https://www.nytimes.com/interactive/2019/08/02/us/politics/2020-democratic-fundraising.html\" title=\"Link to NYTimes\">here</a> for the entire series of donor maps. See <a href=\"https://junkcharts.typepad.com/junk_charts/nyt\" title=\"Posts about NYT Graphics\">here</a> for past discussion of New York Times&#39;s graphics.</p>",
         "shortUrl": "http://bit.ly/2MgrVMC",
         "textFormat": "html",
         "title": "Where are the Democratic donors?",
         "urlId": "6a00d8341e992c53ef0240a4752520200c"
        },
        {
         "author": {
          "aboutMe": "Kaiser Fung, Author, Junk Charts, Numbersense, Numbers Rule Your World",
          "avatarLink": {
           "height": 250,
           "url": "https://static.typepad.com/.shared/default-userpics/03-250si.gif",
           "width": 250
          },
          "displayName": "junkcharts",
          "id": "tag:api.typepad.com,2009:6p00d8341e992c53ef",
          "interests": [
           "practical statistics",
           "data visualization",
           "business analytics",
           "bootcamp",
           "data science"
          ],
          "location": null,
          "objectType": "User",
          "objectTypes": [
           "tag:api.typepad.com,2009:User"
          ],
          "preferredUsername": "junkcharts",
          "profilePageUrl": "http://profile.typepad.com/junkcharts",
          "urlId": "6p00d8341e992c53ef"
         },
         "categories": [
          "Axis",
          "Business",
          "Color",
          "Dot plot",
          "Legend",
          "Medicine",
          "Science",
          "Sorting",
          "Table",
          "Text",
          "Time series",
          "Variance",
          "Weblogs"
         ],
         "commentCount": 1,
         "container": {
          "displayName": "Junk Charts",
          "homeUrl": "https://junkcharts.typepad.com/junk_charts/",
          "id": "tag:api.typepad.com,2009:6a00d8341e992c53ef00d8341e9a0553ef",
          "objectType": "Blog",
          "urlId": "6a00d8341e992c53ef00d8341e9a0553ef"
         },
         "content": "<p>Several of us discussed this <a href=\"https://www.aerodatalab.org/birds-eye-view-of-research-landscape\" title=\"Link to Aero Data Lab\">data visualization</a> over twitter last week. The dataviz by Aero Data Lab is called “A <strong>Bird’s Eye View of Pharmaceutical Research and Development</strong>”. There is a separate <a href=\"https://www.statnews.com/2019/07/18/clinical-trials-birds-eye-view-drug-development/\" title=\"Link to STAT News\">discussion</a> on STAT News.</p>\r\n<p>Here is the top section of the chart:</p>\r\n<p><a class=\"asset-img-link\" href=\"https://junkcharts.typepad.com/.a/6a00d8341e992c53ef0240a472bb7f200c-pi\" style=\"display: inline;\"><img alt=\"Aerodatalab_research_top\" class=\"asset  asset-image at-xid-6a00d8341e992c53ef0240a472bb7f200c img-responsive\" src=\"https://junkcharts.typepad.com/.a/6a00d8341e992c53ef0240a472bb7f200c-450wi\" style=\"width: 450px;\" title=\"Aerodatalab_research_top\" /></a></p>\r\n<p>We faced a number of hurdles in understanding this chart as <strong>there is so much going on</strong>. The size of the shapes is perhaps the first thing readers notice, followed by where the shapes are located along the horizontal (time) axis. After that, readers may see the color of the shapes, and finally, the different shapes (circles, triangles,...).</p>\r\n<p>It would help to have a <a href=\"https://junkcharts.typepad.com/junk_charts/legend\" title=\"Posts about legends\">legend</a> explaining the sizes, shapes and colors. These were explained within the text. The size encodes the number of test subjects in the clinical trials. The color encodes pharmaceutical companies, of which the graphic focuses on 10 major ones. Circles represent completed trials, crosses inside circles represent terminated trials, triangles represent trials that are still active and recruiting, and squares for other statuses.</p>\r\n<p>The vertical <a href=\"https://junkcharts.typepad.com/junk_charts/axis\" title=\"Posts about axes\">axis</a> presents another challenge. It shows the disease conditions being investigated. As a lay-person, I cannot comprehend the logic of the <a href=\"https://junkcharts.typepad.com/junk_charts/sorting\" title=\"Posts about order\">order</a>. With over 800 conditions, it became impossible to find a particular condition. The search function on my browser skipped over the entire graphic. I believe the order is based on some established taxonomy.</p>\r\n<p>***</p>\r\n<p>In creating the alternative shown below, I stayed close to the original intent of the dataviz, retaining all the dimensions of the dataset. Instead of the fancy dot plot, I used an enhanced data <a href=\"https://junkcharts.typepad.com/junk_charts/table\" title=\"Posts about tables\">table</a>. The encoding methods reflect what I’d like my readers to notice first. The color shading reflects the size of each clinical trial. The pharmaceutical companies are represented by their first initials. The status of the trial is shown by a dot, a cross or a square.</p>\r\n<p>Here is a sketch of this concept showing just the top 10 rows.</p>\r\n<p><a class=\"asset-img-link\" href=\"https://junkcharts.typepad.com/.a/6a00d8341e992c53ef0240a49beb87200d-pi\" style=\"display: inline;\"><img alt=\"Redo_aero_pharmard\" class=\"asset  asset-image at-xid-6a00d8341e992c53ef0240a49beb87200d img-responsive\" src=\"https://junkcharts.typepad.com/.a/6a00d8341e992c53ef0240a49beb87200d-450wi\" style=\"width: 450px;\" title=\"Redo_aero_pharmard\" /></a></p>\r\n<p>Certain conditions attracted much more investment. Certain pharmas are placing bets on cures for certain conditions. For example, Novartis is heavily into research on Meningnitis, meningococcal while GSK has spent quite a bit on researching &quot;bacterial infections.&quot;</p>",
         "description": "Kaiser Fung (Junkcharts) simplifes a complex data visualization by Aero Data Lab showing where top pharmas are placing bets.",
         "embeddedAudioLinks": [],
         "embeddedImageLinks": [
          {
           "height": 844,
           "url": "https://a7.typepad.com/6a00d8341e992c53ef0240a472bb7f200c-pi",
           "urlTemplate": "https://a7.typepad.com/6a00d8341e992c53ef0240a472bb7f200c-{spec}",
           "width": 2060
          },
          {
           "height": 970,
           "url": "https://a7.typepad.com/6a00d8341e992c53ef0240a49beb87200d-pi",
           "urlTemplate": "https://a7.typepad.com/6a00d8341e992c53ef0240a49beb87200d-{spec}",
           "width": 1900
          }
         ],
         "embeddedVideoLinks": [],
         "excerpt": "Kaiser Fung (Junkcharts) simplifes a complex data visualization by Aero Data Lab showing where top pharmas are placing bets.",
         "favoriteCount": 0,
         "filename": "too-much-of-a-good-thing",
         "groups": [],
         "hasExtendedContent": false,
         "id": "tag:api.typepad.com,2009:6a00d8341e992c53ef0240a49beb63200d",
         "objectType": "Post",
         "objectTypes": [
          "tag:api.typepad.com,2009:Post"
         ],
         "permalinkUrl": "https://junkcharts.typepad.com/junk_charts/2019/08/too-much-of-a-good-thing.html",
         "published": "2019-08-05T12:37:00Z",
         "reblogCount": 0,
         "renderedContent": "<p>Several of us discussed this <a href=\"https://www.aerodatalab.org/birds-eye-view-of-research-landscape\" title=\"Link to Aero Data Lab\">data visualization</a> over twitter last week. The dataviz by Aero Data Lab is called “A <strong>Bird’s Eye View of Pharmaceutical Research and Development</strong>”. There is a separate <a href=\"https://www.statnews.com/2019/07/18/clinical-trials-birds-eye-view-drug-development/\" title=\"Link to STAT News\">discussion</a> on STAT News.</p>\r\n<p>Here is the top section of the chart:</p>\r\n<p><a class=\"asset-img-link\" href=\"https://junkcharts.typepad.com/.a/6a00d8341e992c53ef0240a472bb7f200c-pi\" style=\"display: inline;\"><img alt=\"Aerodatalab_research_top\" class=\"asset  asset-image at-xid-6a00d8341e992c53ef0240a472bb7f200c img-responsive\" src=\"https://junkcharts.typepad.com/.a/6a00d8341e992c53ef0240a472bb7f200c-450wi\" style=\"width: 450px;\" title=\"Aerodatalab_research_top\" /></a></p>\r\n<p>We faced a number of hurdles in understanding this chart as <strong>there is so much going on</strong>. The size of the shapes is perhaps the first thing readers notice, followed by where the shapes are located along the horizontal (time) axis. After that, readers may see the color of the shapes, and finally, the different shapes (circles, triangles,...).</p>\r\n<p>It would help to have a <a href=\"https://junkcharts.typepad.com/junk_charts/legend\" title=\"Posts about legends\">legend</a> explaining the sizes, shapes and colors. These were explained within the text. The size encodes the number of test subjects in the clinical trials. The color encodes pharmaceutical companies, of which the graphic focuses on 10 major ones. Circles represent completed trials, crosses inside circles represent terminated trials, triangles represent trials that are still active and recruiting, and squares for other statuses.</p>\r\n<p>The vertical <a href=\"https://junkcharts.typepad.com/junk_charts/axis\" title=\"Posts about axes\">axis</a> presents another challenge. It shows the disease conditions being investigated. As a lay-person, I cannot comprehend the logic of the <a href=\"https://junkcharts.typepad.com/junk_charts/sorting\" title=\"Posts about order\">order</a>. With over 800 conditions, it became impossible to find a particular condition. The search function on my browser skipped over the entire graphic. I believe the order is based on some established taxonomy.</p>\r\n<p>***</p>\r\n<p>In creating the alternative shown below, I stayed close to the original intent of the dataviz, retaining all the dimensions of the dataset. Instead of the fancy dot plot, I used an enhanced data <a href=\"https://junkcharts.typepad.com/junk_charts/table\" title=\"Posts about tables\">table</a>. The encoding methods reflect what I’d like my readers to notice first. The color shading reflects the size of each clinical trial. The pharmaceutical companies are represented by their first initials. The status of the trial is shown by a dot, a cross or a square.</p>\r\n<p>Here is a sketch of this concept showing just the top 10 rows.</p>\r\n<p><a class=\"asset-img-link\" href=\"https://junkcharts.typepad.com/.a/6a00d8341e992c53ef0240a49beb87200d-pi\" style=\"display: inline;\"><img alt=\"Redo_aero_pharmard\" class=\"asset  asset-image at-xid-6a00d8341e992c53ef0240a49beb87200d img-responsive\" src=\"https://junkcharts.typepad.com/.a/6a00d8341e992c53ef0240a49beb87200d-450wi\" style=\"width: 450px;\" title=\"Redo_aero_pharmard\" /></a></p>\r\n<p>Certain conditions attracted much more investment. Certain pharmas are placing bets on cures for certain conditions. For example, Novartis is heavily into research on Meningnitis, meningococcal while GSK has spent quite a bit on researching &quot;bacterial infections.&quot;</p>",
         "shortUrl": "http://bit.ly/2M0UWMb",
         "textFormat": "html",
         "title": "Too much of a good thing",
         "urlId": "6a00d8341e992c53ef0240a49beb63200d"
        },
        {
         "author": {
          "aboutMe": "Kaiser Fung, Author, Junk Charts, Numbersense, Numbers Rule Your World",
          "avatarLink": {
           "height": 250,
           "url": "https://static.typepad.com/.shared/default-userpics/03-250si.gif",
           "width": 250
          },
          "displayName": "junkcharts",
          "id": "tag:api.typepad.com,2009:6p00d8341e992c53ef",
          "interests": [
           "practical statistics",
           "data visualization",
           "business analytics",
           "bootcamp",
           "data science"
          ],
          "location": null,
          "objectType": "User",
          "objectTypes": [
           "tag:api.typepad.com,2009:User"
          ],
          "preferredUsername": "junkcharts",
          "profilePageUrl": "http://profile.typepad.com/junkcharts",
          "urlId": "6p00d8341e992c53ef"
         },
         "categories": [
          "Bar chart",
          "Clustering",
          "Color",
          "Dot plot",
          "Environment",
          "Living",
          "Science",
          "Sorting",
          "Time series",
          "Variance"
         ],
         "commentCount": 3,
         "container": {
          "displayName": "Junk Charts",
          "homeUrl": "https://junkcharts.typepad.com/junk_charts/",
          "id": "tag:api.typepad.com,2009:6a00d8341e992c53ef00d8341e9a0553ef",
          "objectType": "Blog",
          "urlId": "6a00d8341e992c53ef00d8341e9a0553ef"
         },
         "content": "<p>A twitter user pointed to the following chart, which shows that Alaska has experienced extreme heat this summer, with the July statewide average temperature shattering the previous record;</p>\r\n<p><a class=\"asset-img-link\" href=\"https://junkcharts.typepad.com/.a/6a00d8341e992c53ef0240a49af8fd200d-pi\" style=\"display: inline;\"><img alt=\"Alaskaheat\" class=\"asset  asset-image at-xid-6a00d8341e992c53ef0240a49af8fd200d img-responsive\" src=\"https://junkcharts.typepad.com/.a/6a00d8341e992c53ef0240a49af8fd200d-400wi\" style=\"width: 400px;\" title=\"Alaskaheat\" /></a></p>\r\n<p>This <a href=\"https://junkcharts.typepad.com/junk_charts/bar_chart\" title=\"Posts about bar charts\">column chart</a> is clear in its primary message: the red column shows that the average temperature this year is quite a bit higher than the next highest temperature, recorded in July 2004. The error bar is useful for statistically-literate people - the uncertainty is (presumably) due to measurement errors. (If a similar error bar is drawn for the July 2004 column, these bars probably overlap a bit.)</p>\r\n<p>The chart violates one of the rules of making column charts - the vertical axis is truncated at 53F, thus the heights or areas of the columns shouldn&#39;t be compared. This violation was recently nominated by two dataviz bloggers when asked about &quot;bad charts&quot; (see <a href=\"https://junkcharts.typepad.com/junk_charts/2019/07/what-is-a-bad-chart.html\" title=\"Link to prior post\">here</a>).</p>\r\n<p>Now look at the horizontal axis. These are the years of the top 20 temperature records, ordered from highest to lowest. The months are almost always July except for the year 2004 when all three summer months entered the top 20. I find it hard to make sense of these dates when they are jumping around.</p>\r\n<p>In the following version, I plotted the 20 temperatures on a chronological axis. Color is used to divide the 20 data points into four groups. The chart is meant to be read top to bottom.&#0160; </p>\r\n<p><a class=\"asset-img-link\" href=\"https://junkcharts.typepad.com/.a/6a00d8341e992c53ef0240a4bf9ee4200b-pi\" style=\"display: inline;\"><img alt=\"Redo_junkcharts_alaska_heat\" class=\"asset  asset-image at-xid-6a00d8341e992c53ef0240a4bf9ee4200b img-responsive\" src=\"https://junkcharts.typepad.com/.a/6a00d8341e992c53ef0240a4bf9ee4200b-350wi\" style=\"width: 350px;\" title=\"Redo_junkcharts_alaska_heat\" /></a></p>\r\n<p>&#0160;</p>",
         "description": "Kaiser Fung (Junk Charts) makes a top 20 chart of average temperatures in Alaska.",
         "embeddedAudioLinks": [],
         "embeddedImageLinks": [
          {
           "height": 438,
           "url": "https://a5.typepad.com/6a00d8341e992c53ef0240a49af8fd200d-pi",
           "urlTemplate": "https://a5.typepad.com/6a00d8341e992c53ef0240a49af8fd200d-{spec}",
           "width": 682
          },
          {
           "height": 1028,
           "url": "https://a4.typepad.com/6a00d8341e992c53ef0240a4bf9ee4200b-pi",
           "urlTemplate": "https://a4.typepad.com/6a00d8341e992c53ef0240a4bf9ee4200b-{spec}",
           "width": 1048
          }
         ],
         "embeddedVideoLinks": [],
         "excerpt": "Kaiser Fung (Junk Charts) makes a top 20 chart of average temperatures in Alaska.",
         "favoriteCount": 0,
         "filename": "its-hot-even-in-alaska",
         "groups": [],
         "hasExtendedContent": false,
         "id": "tag:api.typepad.com,2009:6a00d8341e992c53ef0240a4bf9ef1200b",
         "objectType": "Post",
         "objectTypes": [
          "tag:api.typepad.com,2009:Post"
         ],
         "permalinkUrl": "https://junkcharts.typepad.com/junk_charts/2019/07/its-hot-even-in-alaska.html",
         "published": "2019-07-31T12:09:00Z",
         "reblogCount": 0,
         "renderedContent": "<p>A twitter user pointed to the following chart, which shows that Alaska has experienced extreme heat this summer, with the July statewide average temperature shattering the previous record;</p>\r\n<p><a class=\"asset-img-link\" href=\"https://junkcharts.typepad.com/.a/6a00d8341e992c53ef0240a49af8fd200d-pi\" style=\"display: inline;\"><img alt=\"Alaskaheat\" class=\"asset  asset-image at-xid-6a00d8341e992c53ef0240a49af8fd200d img-responsive\" src=\"https://junkcharts.typepad.com/.a/6a00d8341e992c53ef0240a49af8fd200d-400wi\" style=\"width: 400px;\" title=\"Alaskaheat\" /></a></p>\r\n<p>This <a href=\"https://junkcharts.typepad.com/junk_charts/bar_chart\" title=\"Posts about bar charts\">column chart</a> is clear in its primary message: the red column shows that the average temperature this year is quite a bit higher than the next highest temperature, recorded in July 2004. The error bar is useful for statistically-literate people - the uncertainty is (presumably) due to measurement errors. (If a similar error bar is drawn for the July 2004 column, these bars probably overlap a bit.)</p>\r\n<p>The chart violates one of the rules of making column charts - the vertical axis is truncated at 53F, thus the heights or areas of the columns shouldn&#39;t be compared. This violation was recently nominated by two dataviz bloggers when asked about &quot;bad charts&quot; (see <a href=\"https://junkcharts.typepad.com/junk_charts/2019/07/what-is-a-bad-chart.html\" title=\"Link to prior post\">here</a>).</p>\r\n<p>Now look at the horizontal axis. These are the years of the top 20 temperature records, ordered from highest to lowest. The months are almost always July except for the year 2004 when all three summer months entered the top 20. I find it hard to make sense of these dates when they are jumping around.</p>\r\n<p>In the following version, I plotted the 20 temperatures on a chronological axis. Color is used to divide the 20 data points into four groups. The chart is meant to be read top to bottom.&#0160; </p>\r\n<p><a class=\"asset-img-link\" href=\"https://junkcharts.typepad.com/.a/6a00d8341e992c53ef0240a4bf9ee4200b-pi\" style=\"display: inline;\"><img alt=\"Redo_junkcharts_alaska_heat\" class=\"asset  asset-image at-xid-6a00d8341e992c53ef0240a4bf9ee4200b img-responsive\" src=\"https://junkcharts.typepad.com/.a/6a00d8341e992c53ef0240a4bf9ee4200b-350wi\" style=\"width: 350px;\" title=\"Redo_junkcharts_alaska_heat\" /></a></p>\r\n<p>&#0160;</p>",
         "shortUrl": "http://bit.ly/2YmHxoB",
         "textFormat": "html",
         "title": "It's hot even in Alaska",
         "urlId": "6a00d8341e992c53ef0240a4bf9ef1200b"
        },
        {
         "author": {
          "aboutMe": "Kaiser Fung, Author, Junk Charts, Numbersense, Numbers Rule Your World",
          "avatarLink": {
           "height": 250,
           "url": "https://static.typepad.com/.shared/default-userpics/03-250si.gif",
           "width": 250
          },
          "displayName": "junkcharts",
          "id": "tag:api.typepad.com,2009:6p00d8341e992c53ef",
          "interests": [
           "practical statistics",
           "data visualization",
           "business analytics",
           "bootcamp",
           "data science"
          ],
          "location": null,
          "objectType": "User",
          "objectTypes": [
           "tag:api.typepad.com,2009:User"
          ],
          "preferredUsername": "junkcharts",
          "profilePageUrl": "http://profile.typepad.com/junkcharts",
          "urlId": "6p00d8341e992c53ef"
         },
         "categories": [
          "Art",
          "Comparability",
          "Current Affairs",
          "Design",
          "Economics",
          "Living",
          "NYT"
         ],
         "commentCount": 0,
         "container": {
          "displayName": "Junk Charts",
          "homeUrl": "https://junkcharts.typepad.com/junk_charts/",
          "id": "tag:api.typepad.com,2009:6a00d8341e992c53ef00d8341e9a0553ef",
          "objectType": "Blog",
          "urlId": "6a00d8341e992c53ef00d8341e9a0553ef"
         },
         "content": "<p>I was going to react to <a href=\"https://thefunctionalart.com\" title=\"Link to Alberto Cairo blog\">Alberto</a>&#39;s <a href=\"http://www.thefunctionalart.com/2019/07/making-data-concrete-with-photoviz.html\" title=\"Link to Alberto Cairo\">post</a> about the <em>New York Times</em>&#39;s <a href=\"https://www.nytimes.com/interactive/2019/07/22/world/asia/hong-kong-housing-inequality.html\" title=\"Link to New York Times\">article</a> about economic inequality in Hong Kong, which is proposed as one origin to explain the current protest movement. I agree that the best graphic in this set is the &quot;photoviz&quot; showing the &quot;coffins&quot; or &quot;cages&quot; that many residents live in, because of the population density.&#0160;</p>\r\n<p><a class=\"asset-img-link\" href=\"https://www.nytimes.com/interactive/2019/07/22/world/asia/hong-kong-housing-inequality.html\" style=\"display: inline;\"><img alt=\"Nyt_hongkong_apartment_photoviz\" class=\"asset  asset-image at-xid-6a00d8341e992c53ef0240a49a5bda200d img-responsive\" src=\"https://junkcharts.typepad.com/.a/6a00d8341e992c53ef0240a49a5bda200d-350wi\" style=\"width: 350px;\" title=\"Nyt_hongkong_apartment_photoviz\" /></a></p>\r\n<p>Then I searched the archives, and found this <strong>old <a href=\"https://junkcharts.typepad.com/junk_charts/2015/06/mosquito-shoebox-and-an-ingenious-apartment-design.html\" title=\"Link to prior post\">post</a> from 2015</strong> which is the perfect response to it. What&#39;s even better, that post was also inspired by Alberto.</p>\r\n<p>The older <a href=\"https://junkcharts.typepad.com/junk_charts/2015/06/mosquito-shoebox-and-an-ingenious-apartment-design.html\" title=\"Link to prior post\">post</a> featured a wonderful campaign by human rights organization <a href=\"https://soco.org.hk/\" title=\"Link to Society for Community Organization\">Society for Community Organization</a> that uses photoviz to draw attention to the problem of housing conditions in Hong Kong. They organized a photography <a href=\"https://soco.org.hk/soco_past/trapped2014/index.htm\" title=\"Link to Society for Community Organization\">exhibit</a> on this theme in 2014. They then updated the <a href=\"https://soco.org.hk/soco_past/trapped/index.htm\" title=\"Link to Society for Community Organization\">exhibit</a> in 2016.</p>\r\n<p>Here is one of the iconic photos by Benny Lam:</p>\r\n<p><a class=\"asset-img-link\" href=\"https://soco.org.hk/soco_past/trapped/index.htm\" style=\"display: inline;\"><img alt=\"Soco_trapped_B1\" class=\"asset  asset-image at-xid-6a00d8341e992c53ef0240a4bf02b3200b img-responsive\" src=\"https://junkcharts.typepad.com/.a/6a00d8341e992c53ef0240a4bf02b3200b-350wi\" style=\"width: 350px;\" title=\"Soco_trapped_B1\" /></a></p>\r\n<p>I found more coverage of Benny&#39;s work <a href=\"http://photographyofchina.com/blog/benny-lam\" title=\"Link to Photography of China\">here</a>. There is also a <a href=\"http://www.studioinclineltd.com.hk/portfolio/benny-lam/publication/\" title=\"Link to Benny Lam book\">book</a> that we can flip on <a href=\"https://vimeo.com/196691710\" title=\"Link to Vimeo\">Vimeo</a>.</p>\r\n<p>In 2017, the South China Morning Post (SCMP) published <a href=\"https://www.scmp.com/video/hong-kong/2098110/birds-eye-view-claustrophobic-hong-kong-living\" title=\"Link to SCMP\">drone footage</a> showing the outside view of the apartment buildings.</p>\r\n<p>***</p>\r\n<p>What&#39;s missing is the visual comparison to the luxury condos where the top 1 percent live. For these, one can&#0160; visit the real estate sites, such as Sotheby&#39;s. Here is their &quot;12 luxury homes for sales&quot; <a href=\"https://www.sothebysrealty.com/eng/sales/hkg\" title=\"Link to Sotheby&#39;s\">page</a>.</p>\r\n<p>Another comparison: a 1000 sq feet apartment that sits between those extremes. The photo by John Butlin comes from SCMP&#39;s Post Magazine&#39;s <a href=\"https://www.scmp.com/magazines/post-magazine/article/1843023/design-tweak-gives-hong-kong-home-flow-and-plenty-storage\" title=\"Link to SCMP Post Magazine\">feature</a> on the apartment:</p>\r\n<p><a class=\"asset-img-link\" href=\"https://www.scmp.com/magazines/post-magazine/article/1843023/design-tweak-gives-hong-kong-home-flow-and-plenty-storage\" style=\"display: inline;\"><img alt=\"Butlin_scmp_home\" class=\"asset  asset-image at-xid-6a00d8341e992c53ef0240a49a5d4a200d img-responsive\" src=\"https://junkcharts.typepad.com/.a/6a00d8341e992c53ef0240a49a5d4a200d-350wi\" style=\"width: 350px;\" title=\"Butlin_scmp_home\" /></a></p>\r\n<p>***</p>\r\n<p>Also check out my <a href=\"https://junkcharts.typepad.com/junk_charts/2019/03/book-preview-how-charts-lie-by-alberto-cairo.html\" title=\"Link to Kaiser Fung review of Alberto Cairo How Charts Lie\">review</a> of Alberto&#39;s fantastic, recent book, <a href=\"https://amzn.to/2Yr0AJk\" title=\"Link to Alberto Cairo How Charts Lie Amazon\">How Charts Lie</a>.</p>\r\n<p><a class=\"asset-img-link\" href=\"https://amzn.to/2Yr0AJk\" style=\"display: inline;\"><img alt=\"Cairo_howchartslie_cover\" class=\"asset  asset-image at-xid-6a00d8341e992c53ef0240a4bf03cb200b img-responsive\" src=\"https://junkcharts.typepad.com/.a/6a00d8341e992c53ef0240a4bf03cb200b-200wi\" style=\"width: 200px;\" title=\"Cairo_howchartslie_cover\" /></a></p>\r\n<p>&#0160;</p>\r\n<p>&#0160;</p>",
         "description": "Kaiser Fung (JunkCharts) reacts to Alberto Cairo's post about the photographs visualizing the cramped living conditions in mosquito apartments in Hong Kong.",
         "embeddedAudioLinks": [],
         "embeddedImageLinks": [
          {
           "height": 1244,
           "url": "https://a2.typepad.com/6a00d8341e992c53ef0240a49a5bda200d-pi",
           "urlTemplate": "https://a2.typepad.com/6a00d8341e992c53ef0240a49a5bda200d-{spec}",
           "width": 1896
          },
          {
           "height": 299,
           "url": "https://a3.typepad.com/6a00d8341e992c53ef0240a4bf02b3200b-pi",
           "urlTemplate": "https://a3.typepad.com/6a00d8341e992c53ef0240a4bf02b3200b-{spec}",
           "width": 448
          },
          {
           "height": 800,
           "url": "https://a2.typepad.com/6a00d8341e992c53ef0240a49a5d4a200d-pi",
           "urlTemplate": "https://a2.typepad.com/6a00d8341e992c53ef0240a49a5d4a200d-{spec}",
           "width": 1200
          },
          {
           "height": 303,
           "url": "https://a3.typepad.com/6a00d8341e992c53ef0240a4bf03cb200b-pi",
           "urlTemplate": "https://a3.typepad.com/6a00d8341e992c53ef0240a4bf03cb200b-{spec}",
           "width": 200
          }
         ],
         "embeddedVideoLinks": [],
         "excerpt": "Kaiser Fung (JunkCharts) reacts to Alberto Cairo's post about the photographs visualizing the cramped living conditions in mosquito apartments in Hong Kong.",
         "favoriteCount": 0,
         "filename": "powerful-photos-visualizing-housing-conditions-in-hong-kong",
         "groups": [],
         "hasExtendedContent": false,
         "id": "tag:api.typepad.com,2009:6a00d8341e992c53ef0240a47121b7200c",
         "objectType": "Post",
         "objectTypes": [
          "tag:api.typepad.com,2009:Post"
         ],
         "permalinkUrl": "https://junkcharts.typepad.com/junk_charts/2019/07/powerful-photos-visualizing-housing-conditions-in-hong-kong.html",
         "published": "2019-07-29T12:34:00Z",
         "reblogCount": 0,
         "renderedContent": "<p>I was going to react to <a href=\"https://thefunctionalart.com\" title=\"Link to Alberto Cairo blog\">Alberto</a>&#39;s <a href=\"http://www.thefunctionalart.com/2019/07/making-data-concrete-with-photoviz.html\" title=\"Link to Alberto Cairo\">post</a> about the <em>New York Times</em>&#39;s <a href=\"https://www.nytimes.com/interactive/2019/07/22/world/asia/hong-kong-housing-inequality.html\" title=\"Link to New York Times\">article</a> about economic inequality in Hong Kong, which is proposed as one origin to explain the current protest movement. I agree that the best graphic in this set is the &quot;photoviz&quot; showing the &quot;coffins&quot; or &quot;cages&quot; that many residents live in, because of the population density.&#0160;</p>\r\n<p><a class=\"asset-img-link\" href=\"https://www.nytimes.com/interactive/2019/07/22/world/asia/hong-kong-housing-inequality.html\" style=\"display: inline;\"><img alt=\"Nyt_hongkong_apartment_photoviz\" class=\"asset  asset-image at-xid-6a00d8341e992c53ef0240a49a5bda200d img-responsive\" src=\"https://junkcharts.typepad.com/.a/6a00d8341e992c53ef0240a49a5bda200d-350wi\" style=\"width: 350px;\" title=\"Nyt_hongkong_apartment_photoviz\" /></a></p>\r\n<p>Then I searched the archives, and found this <strong>old <a href=\"https://junkcharts.typepad.com/junk_charts/2015/06/mosquito-shoebox-and-an-ingenious-apartment-design.html\" title=\"Link to prior post\">post</a> from 2015</strong> which is the perfect response to it. What&#39;s even better, that post was also inspired by Alberto.</p>\r\n<p>The older <a href=\"https://junkcharts.typepad.com/junk_charts/2015/06/mosquito-shoebox-and-an-ingenious-apartment-design.html\" title=\"Link to prior post\">post</a> featured a wonderful campaign by human rights organization <a href=\"https://soco.org.hk/\" title=\"Link to Society for Community Organization\">Society for Community Organization</a> that uses photoviz to draw attention to the problem of housing conditions in Hong Kong. They organized a photography <a href=\"https://soco.org.hk/soco_past/trapped2014/index.htm\" title=\"Link to Society for Community Organization\">exhibit</a> on this theme in 2014. They then updated the <a href=\"https://soco.org.hk/soco_past/trapped/index.htm\" title=\"Link to Society for Community Organization\">exhibit</a> in 2016.</p>\r\n<p>Here is one of the iconic photos by Benny Lam:</p>\r\n<p><a class=\"asset-img-link\" href=\"https://soco.org.hk/soco_past/trapped/index.htm\" style=\"display: inline;\"><img alt=\"Soco_trapped_B1\" class=\"asset  asset-image at-xid-6a00d8341e992c53ef0240a4bf02b3200b img-responsive\" src=\"https://junkcharts.typepad.com/.a/6a00d8341e992c53ef0240a4bf02b3200b-350wi\" style=\"width: 350px;\" title=\"Soco_trapped_B1\" /></a></p>\r\n<p>I found more coverage of Benny&#39;s work <a href=\"http://photographyofchina.com/blog/benny-lam\" title=\"Link to Photography of China\">here</a>. There is also a <a href=\"http://www.studioinclineltd.com.hk/portfolio/benny-lam/publication/\" title=\"Link to Benny Lam book\">book</a> that we can flip on <a href=\"https://vimeo.com/196691710\" title=\"Link to Vimeo\">Vimeo</a>.</p>\r\n<p>In 2017, the South China Morning Post (SCMP) published <a href=\"https://www.scmp.com/video/hong-kong/2098110/birds-eye-view-claustrophobic-hong-kong-living\" title=\"Link to SCMP\">drone footage</a> showing the outside view of the apartment buildings.</p>\r\n<p>***</p>\r\n<p>What&#39;s missing is the visual comparison to the luxury condos where the top 1 percent live. For these, one can&#0160; visit the real estate sites, such as Sotheby&#39;s. Here is their &quot;12 luxury homes for sales&quot; <a href=\"https://www.sothebysrealty.com/eng/sales/hkg\" title=\"Link to Sotheby&#39;s\">page</a>.</p>\r\n<p>Another comparison: a 1000 sq feet apartment that sits between those extremes. The photo by John Butlin comes from SCMP&#39;s Post Magazine&#39;s <a href=\"https://www.scmp.com/magazines/post-magazine/article/1843023/design-tweak-gives-hong-kong-home-flow-and-plenty-storage\" title=\"Link to SCMP Post Magazine\">feature</a> on the apartment:</p>\r\n<p><a class=\"asset-img-link\" href=\"https://www.scmp.com/magazines/post-magazine/article/1843023/design-tweak-gives-hong-kong-home-flow-and-plenty-storage\" style=\"display: inline;\"><img alt=\"Butlin_scmp_home\" class=\"asset  asset-image at-xid-6a00d8341e992c53ef0240a49a5d4a200d img-responsive\" src=\"https://junkcharts.typepad.com/.a/6a00d8341e992c53ef0240a49a5d4a200d-350wi\" style=\"width: 350px;\" title=\"Butlin_scmp_home\" /></a></p>\r\n<p>***</p>\r\n<p>Also check out my <a href=\"https://junkcharts.typepad.com/junk_charts/2019/03/book-preview-how-charts-lie-by-alberto-cairo.html\" title=\"Link to Kaiser Fung review of Alberto Cairo How Charts Lie\">review</a> of Alberto&#39;s fantastic, recent book, <a href=\"https://amzn.to/2Yr0AJk\" title=\"Link to Alberto Cairo How Charts Lie Amazon\">How Charts Lie</a>.</p>\r\n<p><a class=\"asset-img-link\" href=\"https://amzn.to/2Yr0AJk\" style=\"display: inline;\"><img alt=\"Cairo_howchartslie_cover\" class=\"asset  asset-image at-xid-6a00d8341e992c53ef0240a4bf03cb200b img-responsive\" src=\"https://junkcharts.typepad.com/.a/6a00d8341e992c53ef0240a4bf03cb200b-200wi\" style=\"width: 200px;\" title=\"Cairo_howchartslie_cover\" /></a></p>\r\n<p>&#0160;</p>\r\n<p>&#0160;</p>",
         "shortUrl": "http://bit.ly/2OqCyOP",
         "textFormat": "html",
         "title": "Powerful photos visualizing housing conditions in Hong Kong",
         "urlId": "6a00d8341e992c53ef0240a47121b7200c"
        },
        {
         "author": {
          "aboutMe": "Kaiser Fung, Author, Junk Charts, Numbersense, Numbers Rule Your World",
          "avatarLink": {
           "height": 250,
           "url": "https://static.typepad.com/.shared/default-userpics/03-250si.gif",
           "width": 250
          },
          "displayName": "junkcharts",
          "id": "tag:api.typepad.com,2009:6p00d8341e992c53ef",
          "interests": [
           "practical statistics",
           "data visualization",
           "business analytics",
           "bootcamp",
           "data science"
          ],
          "location": null,
          "objectType": "User",
          "objectTypes": [
           "tag:api.typepad.com,2009:User"
          ],
          "preferredUsername": "junkcharts",
          "profilePageUrl": "http://profile.typepad.com/junkcharts",
          "urlId": "6p00d8341e992c53ef"
         },
         "categories": [
          "Bar chart",
          "Color",
          "Comparability",
          "Craft",
          "Data",
          "Design",
          "Economics",
          "Infographics",
          "Map",
          "Pictogram",
          "Politics",
          "Text",
          "Trifecta checkup",
          "Weblogs"
         ],
         "commentCount": 2,
         "container": {
          "displayName": "Junk Charts",
          "homeUrl": "https://junkcharts.typepad.com/junk_charts/",
          "id": "tag:api.typepad.com,2009:6a00d8341e992c53ef00d8341e9a0553ef",
          "objectType": "Blog",
          "urlId": "6a00d8341e992c53ef00d8341e9a0553ef"
         },
         "content": "<p>In the recent <a href=\"https://datajournalism.com/read/newsletters/bad-charts\" title=\"Link to DataJournalism\">issue</a> of Madolyn Smith’s Conversations with Data newsletter hosted by <a href=\"https://datajournalism.com\">DataJournalism.com</a>, she discusses “bad charts,” featuring submissions from several dataviz bloggers, including myself.</p>\r\n<p>What is a “bad chart”? Based on this <a href=\"https://datajournalism.com/read/newsletters/bad-charts\" title=\"Link to newsletter\">collection</a> of curated &quot;bad charts&quot;, it is not easy to nail down “bad-ness”. The common theme is the <strong>mismatch between the message intended by the designer and the message received by the reader, a classic error of communication</strong>. How such mismatch arises depends on the specific example. I am able to divide the “bad charts” into two groups: charts that are misinterpreted, and charts that are misleading.</p>\r\n<p>&#0160;</p>\r\n<p><strong>Charts that are misinterpreted</strong></p>\r\n<p>The Causes of Death entry, submitted by <a href=\"http://www.thefunctionalart.com/\" title=\"Link to Alberto Cairo\">Alberto Cairo</a>, is a “well-designed” chart that requires “reading the story where it is inserted and the numerous caveats.” So readers may <strong>misinterpret</strong> the chart if they do not also partake the <a href=\"https://ourworldindata.org/does-the-news-reflect-what-we-die-from\" title=\"Link to Our World in Data\">story</a> at Our World in Data which runs over 1,500 words not including the appendix.</p>\r\n<p><a class=\"asset-img-link\" href=\"https://junkcharts.typepad.com/.a/6a00d8341e992c53ef0240a4bde6bc200b-pi\" style=\"display: inline;\"><img alt=\"Ourworldindata_causesofdeath\" class=\"asset  asset-image at-xid-6a00d8341e992c53ef0240a4bde6bc200b img-responsive\" src=\"https://junkcharts.typepad.com/.a/6a00d8341e992c53ef0240a4bde6bc200b-300wi\" style=\"width: 300px;\" title=\"Ourworldindata_causesofdeath\" /></a></p>\r\n<p>The map of Canada, submitted by Highsoft, highlights in green the provinces where the majority of residents are members of the First Nations. The “bad” is that readers may incorrectly “infer that a sizable part of the Canadian population is First Nations.”</p>\r\n<p><a class=\"asset-img-link\" href=\"https://junkcharts.typepad.com/.a/6a00d8341e992c53ef0240a4bde6c3200b-pi\" style=\"display: inline;\"><img alt=\"Highsoft_CanadaFirstNations\" class=\"asset  asset-image at-xid-6a00d8341e992c53ef0240a4bde6c3200b img-responsive\" src=\"https://junkcharts.typepad.com/.a/6a00d8341e992c53ef0240a4bde6c3200b-300wi\" style=\"width: 300px;\" title=\"Highsoft_CanadaFirstNations\" /></a></p>\r\n<p>In these two examples, the graphic is considered adequate and yet the reader fails to glean the message intended by the designer.</p>\r\n<p>&#0160;</p>\r\n<p><strong>Charts that are misleading</strong></p>\r\n<p>Two fellow bloggers, <a href=\"https://www.storytellingwithdata.com/\" title=\"Link to Storytelling with Data\">Cole Knaflic</a> and <a href=\"https://policyviz.com/\">Jon Schwabish,</a> offer the advice to start bars at zero (here&#39;s my <a href=\"https://junkcharts.typepad.com/junk_charts/2014/04/when-to-use-the-start-at-zero-rule-.html\" title=\"Link to prior post\">take</a> on this rule). The “bad” is the distortion introduced when encoding the data into the visual elements.</p>\r\n<p>The Color-blindness pictogram, submitted by <a href=\"https://www.severinoribecca.one\" title=\"Link to Severino Ribecca\">Severino Ribecca</a>, commits a similar faux pas. To compare the rates among men and women, the pictograms should use the same baseline.</p>\r\n<p><a class=\"asset-img-link\" href=\"https://junkcharts.typepad.com/.a/6a00d8341e992c53ef0240a4994719200d-pi\" style=\"display: inline;\"><img alt=\"Colourblindness_pictogram\" class=\"asset  asset-image at-xid-6a00d8341e992c53ef0240a4994719200d img-responsive\" src=\"https://junkcharts.typepad.com/.a/6a00d8341e992c53ef0240a4994719200d-300wi\" style=\"width: 300px;\" title=\"Colourblindness_pictogram\" /></a></p>\r\n<p>In these examples, <strong>readers who correctly read the charts nonetheless leave with the wrong message</strong>. (We assume the designer does not intend to distort the data.) The readers misinterpret the data without misinterpreting the graphics.</p>\r\n<p>&#0160;</p>\r\n<p><strong>Using the Trifecta Checkup </strong></p>\r\n<p>In the <a href=\"https://junkcharts.typepad.com/junk_charts/trifecta-checkup\" title=\"Posts about Trifecta Checkup\">Trifecta Checkup</a> framework, these problems are second-level problems, represented by the green arrows linking up the three corners. (Click <a href=\"https://bitly.com/trifectacheckup\" title=\"Link to Guide to Trifecta Checkup\">here</a> to learn more about using the Trifecta Checkup.)</p>\r\n<p><a class=\"asset-img-link\" href=\"https://bitly.com/trifectacheckup\" style=\"display: inline;\" title=\"Trifecta Checkup Guide\"><img alt=\"Trifectacheckup_img\" class=\"asset  asset-image at-xid-6a00d8341e992c53ef0240a47010e2200c img-responsive\" src=\"https://junkcharts.typepad.com/.a/6a00d8341e992c53ef0240a47010e2200c-350wi\" style=\"width: 350px;\" title=\"Trifectacheckup_img\" /></a></p>\r\n<p>The visual design of the Causes of Death chart is not under question, and the intended message of the author is clearly articulated in the text. Our concern is that the reader must go outside the graphic to learn the full message. This suggests a problem related to the syncing between the visual design and the message (the QV edge).</p>\r\n<p>By contrast, in the Color Blindness graphic, the data are not under question, nor is the use of pictograms. Our concern is how the data got turned into figurines. This suggests a problem related to the syncing between the data and the visual (the DV edge).</p>\r\n<p>***</p>\r\n<p>When you complain about a misleading chart, or a chart being misinterpreted, what do you really mean? Is it a visual design problem? a data problem? Or is it a syncing problem between two components?</p>",
         "description": "Kaiser Fung (JunkCharts, Principal Analytics Prep) discussed what \"bad charts\" mean, after contributing an example to DataJournalism.com's newsletter.",
         "embeddedAudioLinks": [],
         "embeddedImageLinks": [
          {
           "height": 590,
           "url": "https://a4.typepad.com/6a00d8341e992c53ef0240a4bde6bc200b-pi",
           "urlTemplate": "https://a4.typepad.com/6a00d8341e992c53ef0240a4bde6bc200b-{spec}",
           "width": 768
          },
          {
           "height": 584,
           "url": "https://a3.typepad.com/6a00d8341e992c53ef0240a4bde6c3200b-pi",
           "urlTemplate": "https://a3.typepad.com/6a00d8341e992c53ef0240a4bde6c3200b-{spec}",
           "width": 1061
          },
          {
           "height": 521,
           "url": "https://a1.typepad.com/6a00d8341e992c53ef0240a4994719200d-pi",
           "urlTemplate": "https://a1.typepad.com/6a00d8341e992c53ef0240a4994719200d-{spec}",
           "width": 1097
          },
          {
           "height": 888,
           "url": "https://a2.typepad.com/6a00d8341e992c53ef0240a47010e2200c-pi",
           "urlTemplate": "https://a2.typepad.com/6a00d8341e992c53ef0240a47010e2200c-{spec}",
           "width": 938
          }
         ],
         "embeddedVideoLinks": [],
         "excerpt": "Kaiser Fung (JunkCharts, Principal Analytics Prep) discussed what \"bad charts\" mean, after contributing an example to DataJournalism.com's newsletter.",
         "favoriteCount": 0,
         "filename": "what-is-a-bad-chart",
         "groups": [],
         "hasExtendedContent": false,
         "id": "tag:api.typepad.com,2009:6a00d8341e992c53ef0240a49946cd200d",
         "objectType": "Post",
         "objectTypes": [
          "tag:api.typepad.com,2009:Post"
         ],
         "permalinkUrl": "https://junkcharts.typepad.com/junk_charts/2019/07/what-is-a-bad-chart.html",
         "published": "2019-07-22T12:59:00Z",
         "reblogCount": 0,
         "renderedContent": "<p>In the recent <a href=\"https://datajournalism.com/read/newsletters/bad-charts\" title=\"Link to DataJournalism\">issue</a> of Madolyn Smith’s Conversations with Data newsletter hosted by <a href=\"https://datajournalism.com\">DataJournalism.com</a>, she discusses “bad charts,” featuring submissions from several dataviz bloggers, including myself.</p>\r\n<p>What is a “bad chart”? Based on this <a href=\"https://datajournalism.com/read/newsletters/bad-charts\" title=\"Link to newsletter\">collection</a> of curated &quot;bad charts&quot;, it is not easy to nail down “bad-ness”. The common theme is the <strong>mismatch between the message intended by the designer and the message received by the reader, a classic error of communication</strong>. How such mismatch arises depends on the specific example. I am able to divide the “bad charts” into two groups: charts that are misinterpreted, and charts that are misleading.</p>\r\n<p>&#0160;</p>\r\n<p><strong>Charts that are misinterpreted</strong></p>\r\n<p>The Causes of Death entry, submitted by <a href=\"http://www.thefunctionalart.com/\" title=\"Link to Alberto Cairo\">Alberto Cairo</a>, is a “well-designed” chart that requires “reading the story where it is inserted and the numerous caveats.” So readers may <strong>misinterpret</strong> the chart if they do not also partake the <a href=\"https://ourworldindata.org/does-the-news-reflect-what-we-die-from\" title=\"Link to Our World in Data\">story</a> at Our World in Data which runs over 1,500 words not including the appendix.</p>\r\n<p><a class=\"asset-img-link\" href=\"https://junkcharts.typepad.com/.a/6a00d8341e992c53ef0240a4bde6bc200b-pi\" style=\"display: inline;\"><img alt=\"Ourworldindata_causesofdeath\" class=\"asset  asset-image at-xid-6a00d8341e992c53ef0240a4bde6bc200b img-responsive\" src=\"https://junkcharts.typepad.com/.a/6a00d8341e992c53ef0240a4bde6bc200b-300wi\" style=\"width: 300px;\" title=\"Ourworldindata_causesofdeath\" /></a></p>\r\n<p>The map of Canada, submitted by Highsoft, highlights in green the provinces where the majority of residents are members of the First Nations. The “bad” is that readers may incorrectly “infer that a sizable part of the Canadian population is First Nations.”</p>\r\n<p><a class=\"asset-img-link\" href=\"https://junkcharts.typepad.com/.a/6a00d8341e992c53ef0240a4bde6c3200b-pi\" style=\"display: inline;\"><img alt=\"Highsoft_CanadaFirstNations\" class=\"asset  asset-image at-xid-6a00d8341e992c53ef0240a4bde6c3200b img-responsive\" src=\"https://junkcharts.typepad.com/.a/6a00d8341e992c53ef0240a4bde6c3200b-300wi\" style=\"width: 300px;\" title=\"Highsoft_CanadaFirstNations\" /></a></p>\r\n<p>In these two examples, the graphic is considered adequate and yet the reader fails to glean the message intended by the designer.</p>\r\n<p>&#0160;</p>\r\n<p><strong>Charts that are misleading</strong></p>\r\n<p>Two fellow bloggers, <a href=\"https://www.storytellingwithdata.com/\" title=\"Link to Storytelling with Data\">Cole Knaflic</a> and <a href=\"https://policyviz.com/\">Jon Schwabish,</a> offer the advice to start bars at zero (here&#39;s my <a href=\"https://junkcharts.typepad.com/junk_charts/2014/04/when-to-use-the-start-at-zero-rule-.html\" title=\"Link to prior post\">take</a> on this rule). The “bad” is the distortion introduced when encoding the data into the visual elements.</p>\r\n<p>The Color-blindness pictogram, submitted by <a href=\"https://www.severinoribecca.one\" title=\"Link to Severino Ribecca\">Severino Ribecca</a>, commits a similar faux pas. To compare the rates among men and women, the pictograms should use the same baseline.</p>\r\n<p><a class=\"asset-img-link\" href=\"https://junkcharts.typepad.com/.a/6a00d8341e992c53ef0240a4994719200d-pi\" style=\"display: inline;\"><img alt=\"Colourblindness_pictogram\" class=\"asset  asset-image at-xid-6a00d8341e992c53ef0240a4994719200d img-responsive\" src=\"https://junkcharts.typepad.com/.a/6a00d8341e992c53ef0240a4994719200d-300wi\" style=\"width: 300px;\" title=\"Colourblindness_pictogram\" /></a></p>\r\n<p>In these examples, <strong>readers who correctly read the charts nonetheless leave with the wrong message</strong>. (We assume the designer does not intend to distort the data.) The readers misinterpret the data without misinterpreting the graphics.</p>\r\n<p>&#0160;</p>\r\n<p><strong>Using the Trifecta Checkup </strong></p>\r\n<p>In the <a href=\"https://junkcharts.typepad.com/junk_charts/trifecta-checkup\" title=\"Posts about Trifecta Checkup\">Trifecta Checkup</a> framework, these problems are second-level problems, represented by the green arrows linking up the three corners. (Click <a href=\"https://bitly.com/trifectacheckup\" title=\"Link to Guide to Trifecta Checkup\">here</a> to learn more about using the Trifecta Checkup.)</p>\r\n<p><a class=\"asset-img-link\" href=\"https://bitly.com/trifectacheckup\" style=\"display: inline;\" title=\"Trifecta Checkup Guide\"><img alt=\"Trifectacheckup_img\" class=\"asset  asset-image at-xid-6a00d8341e992c53ef0240a47010e2200c img-responsive\" src=\"https://junkcharts.typepad.com/.a/6a00d8341e992c53ef0240a47010e2200c-350wi\" style=\"width: 350px;\" title=\"Trifectacheckup_img\" /></a></p>\r\n<p>The visual design of the Causes of Death chart is not under question, and the intended message of the author is clearly articulated in the text. Our concern is that the reader must go outside the graphic to learn the full message. This suggests a problem related to the syncing between the visual design and the message (the QV edge).</p>\r\n<p>By contrast, in the Color Blindness graphic, the data are not under question, nor is the use of pictograms. Our concern is how the data got turned into figurines. This suggests a problem related to the syncing between the data and the visual (the DV edge).</p>\r\n<p>***</p>\r\n<p>When you complain about a misleading chart, or a chart being misinterpreted, what do you really mean? Is it a visual design problem? a data problem? Or is it a syncing problem between two components?</p>",
         "shortUrl": "http://bit.ly/2Gr8sEG",
         "textFormat": "html",
         "title": "What is a bad chart?",
         "urlId": "6a00d8341e992c53ef0240a49946cd200d"
        },
        {
         "author": {
          "aboutMe": "Kaiser Fung, Author, Junk Charts, Numbersense, Numbers Rule Your World",
          "avatarLink": {
           "height": 250,
           "url": "https://static.typepad.com/.shared/default-userpics/03-250si.gif",
           "width": 250
          },
          "displayName": "junkcharts",
          "id": "tag:api.typepad.com,2009:6p00d8341e992c53ef",
          "interests": [
           "practical statistics",
           "data visualization",
           "business analytics",
           "bootcamp",
           "data science"
          ],
          "location": null,
          "objectType": "User",
          "objectTypes": [
           "tag:api.typepad.com,2009:User"
          ],
          "preferredUsername": "junkcharts",
          "profilePageUrl": "http://profile.typepad.com/junkcharts",
          "urlId": "6p00d8341e992c53ef"
         },
         "categories": [
          "Bar chart",
          "Current Affairs",
          "Interactive",
          "Line chart",
          "Politics",
          "Scale"
         ],
         "commentCount": 0,
         "container": {
          "displayName": "Junk Charts",
          "homeUrl": "https://junkcharts.typepad.com/junk_charts/",
          "id": "tag:api.typepad.com,2009:6a00d8341e992c53ef00d8341e9a0553ef",
          "objectType": "Blog",
          "urlId": "6a00d8341e992c53ef00d8341e9a0553ef"
         },
         "content": "<p>In the past month, there have been several large-scale protests in Hong Kong. The largest one featured up to two million residents taking to the streets on June 16 to oppose an extradition act that was working its way through the legislature. If the count was accurate, about 25 percent of the city’s population joined in the protest. Another large demonstration occurred on July 1, the anniversary of Hong Kong’s return to Chinese rule.</p>\r\n<p><a href=\"https://scmp.com\" title=\"Link to South China Morning Post\">South China Morning Post</a>, which can be considered the New York Times of Hong Kong, is well known for its award-winning <a href=\"https://www.twitter.com/scmpgraphics\" title=\"Link to Twitter\">infographics</a>, and they rose to the occasion with this <a href=\"https://multimedia.scmp.com/infographics/news/hong-kong/article/3016815/hong-kong-protest-city/index.html\" title=\"Link to SCMP\">effort</a>.</p>\r\n<p>This is one of the rare infographics that you’d not regret spending time reading. After reading it, you have learned a few new things about protesting in Hong Kong.</p>\r\n<p>In particular, you’ll learn that the recent demonstrations are part of a larger pattern in which Hong Kong residents express their dissatisfaction with the city’s governing class, frequently accused of acting as puppets of the Chinese state. Under the “one country, two systems” arrangement, the city’s officials occupy an unenviable position of mediating the various contradictions of the two systems.</p>\r\n<p>This <a href=\"https://junkcharts.typepad.com/junk_charts/bar_chart\" title=\"Posts about bar charts\">bar chart</a> shows the growth in the protest movement. The recent massive protests didn&#39;t come out of nowhere.&#0160;</p>\r\n<p><a class=\"asset-img-link\" href=\"https://junkcharts.typepad.com/.a/6a00d8341e992c53ef0240a4981027200d-pi\" style=\"display: inline;\"><img alt=\"Scmp_protestsovertime\" class=\"asset  asset-image at-xid-6a00d8341e992c53ef0240a4981027200d img-responsive\" src=\"https://junkcharts.typepad.com/.a/6a00d8341e992c53ef0240a4981027200d-350wi\" style=\"width: 350px;\" title=\"Scmp_protestsovertime\" /></a></p>\r\n<p>This <a href=\"https://junkcharts.typepad.com/junk_charts/line_chart\" title=\"Posts about line charts\">line chart</a> offers a possible explanation for burgeoning protests. Residents’ perceived their freedoms eroding in the last decade.</p>\r\n<p><a class=\"asset-img-link\" href=\"https://junkcharts.typepad.com/.a/6a00d8341e992c53ef0240a46ed2a5200c-pi\" style=\"display: inline;\"><img alt=\"Scmp_freedomsurvey\" class=\"asset  asset-image at-xid-6a00d8341e992c53ef0240a46ed2a5200c img-responsive\" src=\"https://junkcharts.typepad.com/.a/6a00d8341e992c53ef0240a46ed2a5200c-350wi\" style=\"width: 350px;\" title=\"Scmp_freedomsurvey\" /></a></p>\r\n<p>If you have seen videos of the protests, you’ll have noticed the peculiar protest costumes. Umbrellas are used to block pepper sprays, for example. The following lovely graphic shows how the costumes have evolved:</p>\r\n<p><a class=\"asset-img-link\" href=\"https://junkcharts.typepad.com/.a/6a00d8341e992c53ef0240a4bcad82200b-pi\" style=\"display: inline;\"><img alt=\"Scmp_protestcostume\" class=\"asset  asset-image at-xid-6a00d8341e992c53ef0240a4bcad82200b img-responsive\" src=\"https://junkcharts.typepad.com/.a/6a00d8341e992c53ef0240a4bcad82200b-450wi\" style=\"width: 425px;\" title=\"Scmp_protestcostume\" /></a></p>\r\n<p>The scale of these protests captures the imagination. The last part in the infographic places the number of protestors in context, by expressing it in terms of football pitches (as soccer fields are known outside the U.S.) This is a sort of universal measure due to the popularity of football almost everywhere. (Nevertheless, according to <a href=\"https://en.wikipedia.org/wiki/Football_pitch\" title=\"Link to wikipedia\">Wikipedia</a>, the fields do not have one fixed dimension even though fields used for international matches are standardized to 105 m by 68 m.)</p>\r\n<p><a class=\"asset-img-link\" href=\"https://junkcharts.typepad.com/.a/6a00d8341e992c53ef0240a46ed2c4200c-pi\" style=\"display: inline;\"><img alt=\"Scmp_protestscale_pitches\" class=\"asset  asset-image at-xid-6a00d8341e992c53ef0240a46ed2c4200c img-responsive\" src=\"https://junkcharts.typepad.com/.a/6a00d8341e992c53ef0240a46ed2c4200c-350wi\" style=\"width: 350px;\" title=\"Scmp_protestscale_pitches\" /></a></p>\r\n<p>This chart could be presented as a bar chart. It’s just that the data have been re-<a href=\"https://junkcharts.typepad.com/junk_charts/scale\" title=\"Posts about scale\">scaled</a> – from counting individuals to counting football pitches-ful of individuals.&#0160;</p>\r\n<p>***<br /><a href=\"https://multimedia.scmp.com/infographics/news/hong-kong/article/3016815/hong-kong-protest-city/index.html\" title=\"Link to South China Morning Post\">Here</a> is the entire infographics.</p>",
         "description": "Kaiser Fung (JunkCharts, Principal Analytics Prep) introduces a fantastic infographic by South China Morning Post about the protest movement in Hong Kong.",
         "embeddedAudioLinks": [],
         "embeddedImageLinks": [
          {
           "height": 1016,
           "url": "https://a7.typepad.com/6a00d8341e992c53ef0240a4981027200d-pi",
           "urlTemplate": "https://a7.typepad.com/6a00d8341e992c53ef0240a4981027200d-{spec}",
           "width": 984
          },
          {
           "height": 928,
           "url": "https://a5.typepad.com/6a00d8341e992c53ef0240a46ed2a5200c-pi",
           "urlTemplate": "https://a5.typepad.com/6a00d8341e992c53ef0240a46ed2a5200c-{spec}",
           "width": 1570
          },
          {
           "height": 990,
           "url": "https://a2.typepad.com/6a00d8341e992c53ef0240a4bcad82200b-pi",
           "urlTemplate": "https://a2.typepad.com/6a00d8341e992c53ef0240a4bcad82200b-{spec}",
           "width": 2024
          },
          {
           "height": 1160,
           "url": "https://a4.typepad.com/6a00d8341e992c53ef0240a46ed2c4200c-pi",
           "urlTemplate": "https://a4.typepad.com/6a00d8341e992c53ef0240a46ed2c4200c-{spec}",
           "width": 1524
          }
         ],
         "embeddedVideoLinks": [],
         "excerpt": "Kaiser Fung (JunkCharts, Principal Analytics Prep) introduces a fantastic infographic by South China Morning Post about the protest movement in Hong Kong.",
         "favoriteCount": 0,
         "filename": "scmps-fantastic-infographic-on-hong-kong-protests",
         "groups": [],
         "hasExtendedContent": false,
         "id": "tag:api.typepad.com,2009:6a00d8341e992c53ef0240a46ed275200c",
         "objectType": "Post",
         "objectTypes": [
          "tag:api.typepad.com,2009:Post"
         ],
         "permalinkUrl": "https://junkcharts.typepad.com/junk_charts/2019/07/scmps-fantastic-infographic-on-hong-kong-protests.html",
         "published": "2019-07-16T12:53:00Z",
         "reblogCount": 0,
         "renderedContent": "<p>In the past month, there have been several large-scale protests in Hong Kong. The largest one featured up to two million residents taking to the streets on June 16 to oppose an extradition act that was working its way through the legislature. If the count was accurate, about 25 percent of the city’s population joined in the protest. Another large demonstration occurred on July 1, the anniversary of Hong Kong’s return to Chinese rule.</p>\r\n<p><a href=\"https://scmp.com\" title=\"Link to South China Morning Post\">South China Morning Post</a>, which can be considered the New York Times of Hong Kong, is well known for its award-winning <a href=\"https://www.twitter.com/scmpgraphics\" title=\"Link to Twitter\">infographics</a>, and they rose to the occasion with this <a href=\"https://multimedia.scmp.com/infographics/news/hong-kong/article/3016815/hong-kong-protest-city/index.html\" title=\"Link to SCMP\">effort</a>.</p>\r\n<p>This is one of the rare infographics that you’d not regret spending time reading. After reading it, you have learned a few new things about protesting in Hong Kong.</p>\r\n<p>In particular, you’ll learn that the recent demonstrations are part of a larger pattern in which Hong Kong residents express their dissatisfaction with the city’s governing class, frequently accused of acting as puppets of the Chinese state. Under the “one country, two systems” arrangement, the city’s officials occupy an unenviable position of mediating the various contradictions of the two systems.</p>\r\n<p>This <a href=\"https://junkcharts.typepad.com/junk_charts/bar_chart\" title=\"Posts about bar charts\">bar chart</a> shows the growth in the protest movement. The recent massive protests didn&#39;t come out of nowhere.&#0160;</p>\r\n<p><a class=\"asset-img-link\" href=\"https://junkcharts.typepad.com/.a/6a00d8341e992c53ef0240a4981027200d-pi\" style=\"display: inline;\"><img alt=\"Scmp_protestsovertime\" class=\"asset  asset-image at-xid-6a00d8341e992c53ef0240a4981027200d img-responsive\" src=\"https://junkcharts.typepad.com/.a/6a00d8341e992c53ef0240a4981027200d-350wi\" style=\"width: 350px;\" title=\"Scmp_protestsovertime\" /></a></p>\r\n<p>This <a href=\"https://junkcharts.typepad.com/junk_charts/line_chart\" title=\"Posts about line charts\">line chart</a> offers a possible explanation for burgeoning protests. Residents’ perceived their freedoms eroding in the last decade.</p>\r\n<p><a class=\"asset-img-link\" href=\"https://junkcharts.typepad.com/.a/6a00d8341e992c53ef0240a46ed2a5200c-pi\" style=\"display: inline;\"><img alt=\"Scmp_freedomsurvey\" class=\"asset  asset-image at-xid-6a00d8341e992c53ef0240a46ed2a5200c img-responsive\" src=\"https://junkcharts.typepad.com/.a/6a00d8341e992c53ef0240a46ed2a5200c-350wi\" style=\"width: 350px;\" title=\"Scmp_freedomsurvey\" /></a></p>\r\n<p>If you have seen videos of the protests, you’ll have noticed the peculiar protest costumes. Umbrellas are used to block pepper sprays, for example. The following lovely graphic shows how the costumes have evolved:</p>\r\n<p><a class=\"asset-img-link\" href=\"https://junkcharts.typepad.com/.a/6a00d8341e992c53ef0240a4bcad82200b-pi\" style=\"display: inline;\"><img alt=\"Scmp_protestcostume\" class=\"asset  asset-image at-xid-6a00d8341e992c53ef0240a4bcad82200b img-responsive\" src=\"https://junkcharts.typepad.com/.a/6a00d8341e992c53ef0240a4bcad82200b-450wi\" style=\"width: 425px;\" title=\"Scmp_protestcostume\" /></a></p>\r\n<p>The scale of these protests captures the imagination. The last part in the infographic places the number of protestors in context, by expressing it in terms of football pitches (as soccer fields are known outside the U.S.) This is a sort of universal measure due to the popularity of football almost everywhere. (Nevertheless, according to <a href=\"https://en.wikipedia.org/wiki/Football_pitch\" title=\"Link to wikipedia\">Wikipedia</a>, the fields do not have one fixed dimension even though fields used for international matches are standardized to 105 m by 68 m.)</p>\r\n<p><a class=\"asset-img-link\" href=\"https://junkcharts.typepad.com/.a/6a00d8341e992c53ef0240a46ed2c4200c-pi\" style=\"display: inline;\"><img alt=\"Scmp_protestscale_pitches\" class=\"asset  asset-image at-xid-6a00d8341e992c53ef0240a46ed2c4200c img-responsive\" src=\"https://junkcharts.typepad.com/.a/6a00d8341e992c53ef0240a46ed2c4200c-350wi\" style=\"width: 350px;\" title=\"Scmp_protestscale_pitches\" /></a></p>\r\n<p>This chart could be presented as a bar chart. It’s just that the data have been re-<a href=\"https://junkcharts.typepad.com/junk_charts/scale\" title=\"Posts about scale\">scaled</a> – from counting individuals to counting football pitches-ful of individuals.&#0160;</p>\r\n<p>***<br /><a href=\"https://multimedia.scmp.com/infographics/news/hong-kong/article/3016815/hong-kong-protest-city/index.html\" title=\"Link to South China Morning Post\">Here</a> is the entire infographics.</p>",
         "shortUrl": "http://bit.ly/2kbUcaJ",
         "textFormat": "html",
         "title": "SCMP's fantastic infographic on Hong Kong protests",
         "urlId": "6a00d8341e992c53ef0240a46ed275200c"
        },
        {
         "author": {
          "aboutMe": "Kaiser Fung, Author, Junk Charts, Numbersense, Numbers Rule Your World",
          "avatarLink": {
           "height": 250,
           "url": "https://static.typepad.com/.shared/default-userpics/03-250si.gif",
           "width": 250
          },
          "displayName": "junkcharts",
          "id": "tag:api.typepad.com,2009:6p00d8341e992c53ef",
          "interests": [
           "practical statistics",
           "data visualization",
           "business analytics",
           "bootcamp",
           "data science"
          ],
          "location": null,
          "objectType": "User",
          "objectTypes": [
           "tag:api.typepad.com,2009:User"
          ],
          "preferredUsername": "junkcharts",
          "profilePageUrl": "http://profile.typepad.com/junkcharts",
          "urlId": "6p00d8341e992c53ef"
         },
         "categories": [
          "Bar chart",
          "Color",
          "Comparability",
          "Composition",
          "Current Affairs",
          "Dot plot",
          "Politics"
         ],
         "commentCount": 0,
         "container": {
          "displayName": "Junk Charts",
          "homeUrl": "https://junkcharts.typepad.com/junk_charts/",
          "id": "tag:api.typepad.com,2009:6a00d8341e992c53ef00d8341e9a0553ef",
          "objectType": "Blog",
          "urlId": "6a00d8341e992c53ef00d8341e9a0553ef"
         },
         "content": "<p>Reader Fernando P. was baffled by this chart from the Perception Gap report by More in Common. (link to <a href=\"https://www.moreincommon.com/publications/\" title=\"Link to More in Common\">report</a>)</p>\r\n<p><a class=\"asset-img-link\" href=\"https://junkcharts.typepad.com/.a/6a00d8341e992c53ef0240a46cf8a5200c-pi\" style=\"display: inline;\"><img alt=\"Moreincommon_perceptiongap_republicans\" class=\"asset  asset-image at-xid-6a00d8341e992c53ef0240a46cf8a5200c img-responsive\" src=\"https://junkcharts.typepad.com/.a/6a00d8341e992c53ef0240a46cf8a5200c-450wi\" style=\"width: 450px;\" title=\"Moreincommon_perceptiongap_republicans\" /></a><br /><br /></p>\r\n<p>Overall, this chart is quite good. Its flaws are subtle. There is so much going on, perhaps even the designer found it hard to keep level.</p>\r\n<p>The title is &quot;Democrat&#39;s Perception Gap&quot; which actually means the gap between Democrats&#39; perception of Republicans and Republican&#39;s self-reported views. We are talking about two estimates of Republican views. Conversely, in Figure 2 (not shown), the &quot;Republican&#39;s Perception Gap&quot; describes two estimates of Democrat views.</p>\r\n<p>The gap is visually shown as the gray <a href=\"https://junkcharts.typepad.com/junk_charts/bar_chart\" title=\"Posts about bar charts\">bar</a> between the red <a href=\"https://junkcharts.typepad.com/junk_charts/dot_plot\" title=\"Posts about dot plots\">dot</a> and the blue dot. This is labeled perception gap, and its values are printed on the right column, also labeled perception gap.</p>\r\n<p>Perhaps as an after-thought, the designer added the yellow stripes, which is a third estimate of Republican views, this time by Independents. This little addition wreaks havoc. There are now three estimates - and two gaps. There is a new gap, between Independents&#39; perception of Republican views, and Republican&#39;s self-reported views. This I-gap is hidden in plain sight. The words &quot;perception gap&quot; obstinately sticks to the D-gap.</p>\r\n<p>***</p>\r\n<p>Here is a slightly modified version of the same chart.</p>\r\n<p><a class=\"asset-img-link\" href=\"https://junkcharts.typepad.com/.a/6a00d8341e992c53ef0240a46cf8ed200c-pi\" style=\"display: inline;\"><img alt=\"Redo_perceptiongap_republicans\" class=\"asset  asset-image at-xid-6a00d8341e992c53ef0240a46cf8ed200c img-responsive\" src=\"https://junkcharts.typepad.com/.a/6a00d8341e992c53ef0240a46cf8ed200c-450wi\" style=\"width: 450px;\" title=\"Redo_perceptiongap_republicans\" /></a></p>\r\n<p>&#0160;</p>\r\n<p>The design focuses attention on the two gaps (bars). It also identifies the Republican self-perception as the anchor point from which the gaps are computed.</p>\r\n<p>I have chosen to describe the Republican dot as &quot;self-perception&quot; rather than &quot;actual view,&quot; which connotes a form of &quot;truth.&quot; Rather than considering the gap as an error of estimation, I like to think of the gap as the difference between two groups of people asked to estimate a common quantity.</p>\r\n<p>Also, one should note that on the last two issues, there is virtual agreement.</p>\r\n<p>***</p>\r\n<p>Aside from the visual, I have doubts about the value of such a study. Only the most divisive issues are being addressed here. Adding a few bipartisan issues would provide controls that can be useful to tease out what is the baseline perception gap.</p>\r\n<p>I wonder whether there is a self-selection in survey response, such that people with extreme views (from each party) will be under-represented. Further, do we believe that all survey respondents will provide truthful answers to sensitive questions that deal with racism, sexism, etc.? For example, if I am a moderate holding racist views, would I really admit to racism in a survey?</p>\r\n<p>&#0160;</p>\r\n<p>&#0160;</p>",
         "description": "Kaiser Fung (Junkcharts, Principal Analytics Prep) examines a chart that illustrates the wide political gap between Republican, Democrat, and Independent voters in the U.S.",
         "embeddedAudioLinks": [],
         "embeddedImageLinks": [
          {
           "height": 1280,
           "url": "https://a5.typepad.com/6a00d8341e992c53ef0240a46cf8a5200c-pi",
           "urlTemplate": "https://a5.typepad.com/6a00d8341e992c53ef0240a46cf8a5200c-{spec}",
           "width": 1332
          },
          {
           "height": 974,
           "url": "https://a5.typepad.com/6a00d8341e992c53ef0240a46cf8ed200c-pi",
           "urlTemplate": "https://a5.typepad.com/6a00d8341e992c53ef0240a46cf8ed200c-{spec}",
           "width": 1454
          }
         ],
         "embeddedVideoLinks": [],
         "excerpt": "Kaiser Fung (Junkcharts, Principal Analytics Prep) examines a chart that illustrates the wide political gap between Republican, Democrat, and Independent voters in the U.S.",
         "favoriteCount": 0,
         "filename": "three-estimates-two-differences-trip-up-an-otherwise-good-design",
         "groups": [],
         "hasExtendedContent": false,
         "id": "tag:api.typepad.com,2009:6a00d8341e992c53ef0240a4bad89e200b",
         "objectType": "Post",
         "objectTypes": [
          "tag:api.typepad.com,2009:Post"
         ],
         "permalinkUrl": "https://junkcharts.typepad.com/junk_charts/2019/07/three-estimates-two-differences-trip-up-an-otherwise-good-design.html",
         "published": "2019-07-10T12:41:00Z",
         "reblogCount": 0,
         "renderedContent": "<p>Reader Fernando P. was baffled by this chart from the Perception Gap report by More in Common. (link to <a href=\"https://www.moreincommon.com/publications/\" title=\"Link to More in Common\">report</a>)</p>\r\n<p><a class=\"asset-img-link\" href=\"https://junkcharts.typepad.com/.a/6a00d8341e992c53ef0240a46cf8a5200c-pi\" style=\"display: inline;\"><img alt=\"Moreincommon_perceptiongap_republicans\" class=\"asset  asset-image at-xid-6a00d8341e992c53ef0240a46cf8a5200c img-responsive\" src=\"https://junkcharts.typepad.com/.a/6a00d8341e992c53ef0240a46cf8a5200c-450wi\" style=\"width: 450px;\" title=\"Moreincommon_perceptiongap_republicans\" /></a><br /><br /></p>\r\n<p>Overall, this chart is quite good. Its flaws are subtle. There is so much going on, perhaps even the designer found it hard to keep level.</p>\r\n<p>The title is &quot;Democrat&#39;s Perception Gap&quot; which actually means the gap between Democrats&#39; perception of Republicans and Republican&#39;s self-reported views. We are talking about two estimates of Republican views. Conversely, in Figure 2 (not shown), the &quot;Republican&#39;s Perception Gap&quot; describes two estimates of Democrat views.</p>\r\n<p>The gap is visually shown as the gray <a href=\"https://junkcharts.typepad.com/junk_charts/bar_chart\" title=\"Posts about bar charts\">bar</a> between the red <a href=\"https://junkcharts.typepad.com/junk_charts/dot_plot\" title=\"Posts about dot plots\">dot</a> and the blue dot. This is labeled perception gap, and its values are printed on the right column, also labeled perception gap.</p>\r\n<p>Perhaps as an after-thought, the designer added the yellow stripes, which is a third estimate of Republican views, this time by Independents. This little addition wreaks havoc. There are now three estimates - and two gaps. There is a new gap, between Independents&#39; perception of Republican views, and Republican&#39;s self-reported views. This I-gap is hidden in plain sight. The words &quot;perception gap&quot; obstinately sticks to the D-gap.</p>\r\n<p>***</p>\r\n<p>Here is a slightly modified version of the same chart.</p>\r\n<p><a class=\"asset-img-link\" href=\"https://junkcharts.typepad.com/.a/6a00d8341e992c53ef0240a46cf8ed200c-pi\" style=\"display: inline;\"><img alt=\"Redo_perceptiongap_republicans\" class=\"asset  asset-image at-xid-6a00d8341e992c53ef0240a46cf8ed200c img-responsive\" src=\"https://junkcharts.typepad.com/.a/6a00d8341e992c53ef0240a46cf8ed200c-450wi\" style=\"width: 450px;\" title=\"Redo_perceptiongap_republicans\" /></a></p>\r\n<p>&#0160;</p>\r\n<p>The design focuses attention on the two gaps (bars). It also identifies the Republican self-perception as the anchor point from which the gaps are computed.</p>\r\n<p>I have chosen to describe the Republican dot as &quot;self-perception&quot; rather than &quot;actual view,&quot; which connotes a form of &quot;truth.&quot; Rather than considering the gap as an error of estimation, I like to think of the gap as the difference between two groups of people asked to estimate a common quantity.</p>\r\n<p>Also, one should note that on the last two issues, there is virtual agreement.</p>\r\n<p>***</p>\r\n<p>Aside from the visual, I have doubts about the value of such a study. Only the most divisive issues are being addressed here. Adding a few bipartisan issues would provide controls that can be useful to tease out what is the baseline perception gap.</p>\r\n<p>I wonder whether there is a self-selection in survey response, such that people with extreme views (from each party) will be under-represented. Further, do we believe that all survey respondents will provide truthful answers to sensitive questions that deal with racism, sexism, etc.? For example, if I am a moderate holding racist views, would I really admit to racism in a survey?</p>\r\n<p>&#0160;</p>\r\n<p>&#0160;</p>",
         "shortUrl": "http://bit.ly/2Y3wP5q",
         "textFormat": "html",
         "title": "Three estimates, two differences trip up an otherwise good design",
         "urlId": "6a00d8341e992c53ef0240a4bad89e200b"
        },
        {
         "author": {
          "aboutMe": "Kaiser Fung, Author, Junk Charts, Numbersense, Numbers Rule Your World",
          "avatarLink": {
           "height": 250,
           "url": "https://static.typepad.com/.shared/default-userpics/03-250si.gif",
           "width": 250
          },
          "displayName": "junkcharts",
          "id": "tag:api.typepad.com,2009:6p00d8341e992c53ef",
          "interests": [
           "practical statistics",
           "data visualization",
           "business analytics",
           "bootcamp",
           "data science"
          ],
          "location": null,
          "objectType": "User",
          "objectTypes": [
           "tag:api.typepad.com,2009:User"
          ],
          "preferredUsername": "junkcharts",
          "profilePageUrl": "http://profile.typepad.com/junkcharts",
          "urlId": "6p00d8341e992c53ef"
         },
         "categories": [
          "Bar chart",
          "Comparability",
          "Dot plot",
          "Politics",
          "Sorting",
          "United Kingdom"
         ],
         "commentCount": 2,
         "container": {
          "displayName": "Junk Charts",
          "homeUrl": "https://junkcharts.typepad.com/junk_charts/",
          "id": "tag:api.typepad.com,2009:6a00d8341e992c53ef00d8341e9a0553ef",
          "objectType": "Blog",
          "urlId": "6a00d8341e992c53ef00d8341e9a0553ef"
         },
         "content": "<p>Reader Steve M. noticed an oversight in the Guardian in the following bar chart (<a href=\"https://www.theguardian.com/commentisfree/2019/jul/04/post-brexit-election-boris-johnson-polls-jeremy-corbyn\" title=\"Link to Guardian\">link</a>):</p>\r\n<p><a class=\"asset-img-link\" href=\"https://junkcharts.typepad.com/.a/6a00d8341e992c53ef0240a46d379e200c-pi\" style=\"display: inline;\"><img alt=\"Guardian_Brexitpoll_1\" class=\"asset  asset-image at-xid-6a00d8341e992c53ef0240a46d379e200c img-responsive\" src=\"https://junkcharts.typepad.com/.a/6a00d8341e992c53ef0240a46d379e200c-350wi\" style=\"width: 330px;\" title=\"Guardian_Brexitpoll_1\" /></a></p>\r\n<p>The reporter was discussing an important story that speaks to the need for careful polling design. He was comparing two polls, one by Ipsos Mori, and one by YouGov, that estimates the vote support for each party in the future U.K. general election. The bottom line is that the YouGov poll predicts about double the support for the Brexit Party than the Ipsos-Mori poll.</p>\r\n<p>The stacked <a href=\"https://junkcharts.typepad.com/junk_charts/bar_chart\" title=\"Posts about bar charts\">bar chart</a> should only be used for data that can be added up. Here, we should be <a href=\"https://junkcharts.typepad.com/junk_charts/comparability\" title=\"Posts about comparisons\">comparing</a> the numbers side by side:</p>\r\n<p><a class=\"asset-img-link\" href=\"https://junkcharts.typepad.com/.a/6a00d8341e992c53ef0240a49676d5200d-pi\" style=\"display: inline;\"><img alt=\"Redo_junkcharts_brexitpoll_1\" class=\"asset  asset-image at-xid-6a00d8341e992c53ef0240a49676d5200d img-responsive\" src=\"https://junkcharts.typepad.com/.a/6a00d8341e992c53ef0240a49676d5200d-350wi\" style=\"width: 330px;\" title=\"Redo_junkcharts_brexitpoll_1\" /></a></p>\r\n<p>I&#39;ve always found this standard display inadequate. The story here is the gap in the two bar lengths for the Brexit Party. A secondary story is that the support for the Brexit Party might come from voters breaking from Labour. In other words, we really want the reader to see:</p>\r\n<p><a class=\"asset-img-link\" href=\"https://junkcharts.typepad.com/.a/6a00d8341e992c53ef0240a49676f4200d-pi\" style=\"display: inline;\"><img alt=\"Redo_junkcharts_brexitpoll_1b\" class=\"asset  asset-image at-xid-6a00d8341e992c53ef0240a49676f4200d img-responsive\" src=\"https://junkcharts.typepad.com/.a/6a00d8341e992c53ef0240a49676f4200d-350wi\" style=\"width: 330px;\" title=\"Redo_junkcharts_brexitpoll_1b\" /></a></p>\r\n<p>Switching to a <a href=\"https://junkcharts.typepad.com/junk_charts/dot_plot\" title=\"Posts about dot plots\">dot plot</a> helps bring attention to the gaps:</p>\r\n<p><a class=\"asset-img-link\" href=\"https://junkcharts.typepad.com/.a/6a00d8341e992c53ef0240a46d37f7200c-pi\" style=\"display: inline;\"><img alt=\"Redo_junkcharts_brexitpoll_2\" class=\"asset  asset-image at-xid-6a00d8341e992c53ef0240a46d37f7200c img-responsive\" src=\"https://junkcharts.typepad.com/.a/6a00d8341e992c53ef0240a46d37f7200c-350wi\" style=\"width: 330px;\" title=\"Redo_junkcharts_brexitpoll_2\" /></a></p>\r\n<p>Now, putting the house in <a href=\"https://junkcharts.typepad.com/junk_charts/sorting\" title=\"Posts about sorting\">order</a>:</p>\r\n<p><a class=\"asset-img-link\" href=\"https://junkcharts.typepad.com/.a/6a00d8341e992c53ef0240a4bb19da200b-pi\" style=\"display: inline;\"><img alt=\"Redo_junkcharts_brexitpoll_2b\" class=\"asset  asset-image at-xid-6a00d8341e992c53ef0240a4bb19da200b img-responsive\" src=\"https://junkcharts.typepad.com/.a/6a00d8341e992c53ef0240a4bb19da200b-350wi\" style=\"width: 330px;\" title=\"Redo_junkcharts_brexitpoll_2b\" /></a></p>\r\n<p>Why do these two polls show such different results? As the reporter explained, the answer is in how the question was asked. The Ipsos-Mori is unprompted, meaning the Brexit Party was not announced to the respondent as one of the choices while the YouGov is prompted.</p>\r\n<p>This last version imposes a direction on the gaps to bring out the secondary message - that the support for Brexit might be coming from voters breaking from Labour.</p>\r\n<p><a class=\"asset-img-link\" href=\"https://junkcharts.typepad.com/.a/6a00d8341e992c53ef0240a4967748200d-pi\" style=\"display: inline;\"><img alt=\"Redo_junkcharts_brexitpoll_2c\" class=\"asset  asset-image at-xid-6a00d8341e992c53ef0240a4967748200d img-responsive\" src=\"https://junkcharts.typepad.com/.a/6a00d8341e992c53ef0240a4967748200d-350wi\" style=\"width: 330px;\" title=\"Redo_junkcharts_brexitpoll_2c\" /></a></p>\r\n<p>&#0160;</p>\r\n<p>&#0160;</p>",
         "description": "Kaiser Fung (Junk Charts, Principal Analytics Prep) fixes a Guardian chart that compares two widely divergent poll results regarding voter intention in the U.K. general election.",
         "embeddedAudioLinks": [],
         "embeddedImageLinks": [
          {
           "height": 792,
           "url": "https://a6.typepad.com/6a00d8341e992c53ef0240a46d379e200c-pi",
           "urlTemplate": "https://a6.typepad.com/6a00d8341e992c53ef0240a46d379e200c-{spec}",
           "width": 1368
          },
          {
           "height": 952,
           "url": "https://a5.typepad.com/6a00d8341e992c53ef0240a49676d5200d-pi",
           "urlTemplate": "https://a5.typepad.com/6a00d8341e992c53ef0240a49676d5200d-{spec}",
           "width": 1192
          },
          {
           "height": 940,
           "url": "https://a4.typepad.com/6a00d8341e992c53ef0240a49676f4200d-pi",
           "urlTemplate": "https://a4.typepad.com/6a00d8341e992c53ef0240a49676f4200d-{spec}",
           "width": 1188
          },
          {
           "height": 910,
           "url": "https://a7.typepad.com/6a00d8341e992c53ef0240a46d37f7200c-pi",
           "urlTemplate": "https://a7.typepad.com/6a00d8341e992c53ef0240a46d37f7200c-{spec}",
           "width": 1190
          },
          {
           "height": 908,
           "url": "https://a2.typepad.com/6a00d8341e992c53ef0240a4bb19da200b-pi",
           "urlTemplate": "https://a2.typepad.com/6a00d8341e992c53ef0240a4bb19da200b-{spec}",
           "width": 1202
          },
          {
           "height": 904,
           "url": "https://a0.typepad.com/6a00d8341e992c53ef0240a4967748200d-pi",
           "urlTemplate": "https://a0.typepad.com/6a00d8341e992c53ef0240a4967748200d-{spec}",
           "width": 1182
          }
         ],
         "embeddedVideoLinks": [],
         "excerpt": "Kaiser Fung (Junk Charts, Principal Analytics Prep) fixes a Guardian chart that compares two widely divergent poll results regarding voter intention in the U.K. general election.",
         "favoriteCount": 0,
         "filename": "putting-the-house-in-order-two-brexit-polls",
         "groups": [],
         "hasExtendedContent": false,
         "id": "tag:api.typepad.com,2009:6a00d8341e992c53ef0240a4bb19fa200b",
         "objectType": "Post",
         "objectTypes": [
          "tag:api.typepad.com,2009:Post"
         ],
         "permalinkUrl": "https://junkcharts.typepad.com/junk_charts/2019/07/putting-the-house-in-order-two-brexit-polls.html",
         "published": "2019-07-08T12:08:00Z",
         "reblogCount": 0,
         "renderedContent": "<p>Reader Steve M. noticed an oversight in the Guardian in the following bar chart (<a href=\"https://www.theguardian.com/commentisfree/2019/jul/04/post-brexit-election-boris-johnson-polls-jeremy-corbyn\" title=\"Link to Guardian\">link</a>):</p>\r\n<p><a class=\"asset-img-link\" href=\"https://junkcharts.typepad.com/.a/6a00d8341e992c53ef0240a46d379e200c-pi\" style=\"display: inline;\"><img alt=\"Guardian_Brexitpoll_1\" class=\"asset  asset-image at-xid-6a00d8341e992c53ef0240a46d379e200c img-responsive\" src=\"https://junkcharts.typepad.com/.a/6a00d8341e992c53ef0240a46d379e200c-350wi\" style=\"width: 330px;\" title=\"Guardian_Brexitpoll_1\" /></a></p>\r\n<p>The reporter was discussing an important story that speaks to the need for careful polling design. He was comparing two polls, one by Ipsos Mori, and one by YouGov, that estimates the vote support for each party in the future U.K. general election. The bottom line is that the YouGov poll predicts about double the support for the Brexit Party than the Ipsos-Mori poll.</p>\r\n<p>The stacked <a href=\"https://junkcharts.typepad.com/junk_charts/bar_chart\" title=\"Posts about bar charts\">bar chart</a> should only be used for data that can be added up. Here, we should be <a href=\"https://junkcharts.typepad.com/junk_charts/comparability\" title=\"Posts about comparisons\">comparing</a> the numbers side by side:</p>\r\n<p><a class=\"asset-img-link\" href=\"https://junkcharts.typepad.com/.a/6a00d8341e992c53ef0240a49676d5200d-pi\" style=\"display: inline;\"><img alt=\"Redo_junkcharts_brexitpoll_1\" class=\"asset  asset-image at-xid-6a00d8341e992c53ef0240a49676d5200d img-responsive\" src=\"https://junkcharts.typepad.com/.a/6a00d8341e992c53ef0240a49676d5200d-350wi\" style=\"width: 330px;\" title=\"Redo_junkcharts_brexitpoll_1\" /></a></p>\r\n<p>I&#39;ve always found this standard display inadequate. The story here is the gap in the two bar lengths for the Brexit Party. A secondary story is that the support for the Brexit Party might come from voters breaking from Labour. In other words, we really want the reader to see:</p>\r\n<p><a class=\"asset-img-link\" href=\"https://junkcharts.typepad.com/.a/6a00d8341e992c53ef0240a49676f4200d-pi\" style=\"display: inline;\"><img alt=\"Redo_junkcharts_brexitpoll_1b\" class=\"asset  asset-image at-xid-6a00d8341e992c53ef0240a49676f4200d img-responsive\" src=\"https://junkcharts.typepad.com/.a/6a00d8341e992c53ef0240a49676f4200d-350wi\" style=\"width: 330px;\" title=\"Redo_junkcharts_brexitpoll_1b\" /></a></p>\r\n<p>Switching to a <a href=\"https://junkcharts.typepad.com/junk_charts/dot_plot\" title=\"Posts about dot plots\">dot plot</a> helps bring attention to the gaps:</p>\r\n<p><a class=\"asset-img-link\" href=\"https://junkcharts.typepad.com/.a/6a00d8341e992c53ef0240a46d37f7200c-pi\" style=\"display: inline;\"><img alt=\"Redo_junkcharts_brexitpoll_2\" class=\"asset  asset-image at-xid-6a00d8341e992c53ef0240a46d37f7200c img-responsive\" src=\"https://junkcharts.typepad.com/.a/6a00d8341e992c53ef0240a46d37f7200c-350wi\" style=\"width: 330px;\" title=\"Redo_junkcharts_brexitpoll_2\" /></a></p>\r\n<p>Now, putting the house in <a href=\"https://junkcharts.typepad.com/junk_charts/sorting\" title=\"Posts about sorting\">order</a>:</p>\r\n<p><a class=\"asset-img-link\" href=\"https://junkcharts.typepad.com/.a/6a00d8341e992c53ef0240a4bb19da200b-pi\" style=\"display: inline;\"><img alt=\"Redo_junkcharts_brexitpoll_2b\" class=\"asset  asset-image at-xid-6a00d8341e992c53ef0240a4bb19da200b img-responsive\" src=\"https://junkcharts.typepad.com/.a/6a00d8341e992c53ef0240a4bb19da200b-350wi\" style=\"width: 330px;\" title=\"Redo_junkcharts_brexitpoll_2b\" /></a></p>\r\n<p>Why do these two polls show such different results? As the reporter explained, the answer is in how the question was asked. The Ipsos-Mori is unprompted, meaning the Brexit Party was not announced to the respondent as one of the choices while the YouGov is prompted.</p>\r\n<p>This last version imposes a direction on the gaps to bring out the secondary message - that the support for Brexit might be coming from voters breaking from Labour.</p>\r\n<p><a class=\"asset-img-link\" href=\"https://junkcharts.typepad.com/.a/6a00d8341e992c53ef0240a4967748200d-pi\" style=\"display: inline;\"><img alt=\"Redo_junkcharts_brexitpoll_2c\" class=\"asset  asset-image at-xid-6a00d8341e992c53ef0240a4967748200d img-responsive\" src=\"https://junkcharts.typepad.com/.a/6a00d8341e992c53ef0240a4967748200d-350wi\" style=\"width: 330px;\" title=\"Redo_junkcharts_brexitpoll_2c\" /></a></p>\r\n<p>&#0160;</p>\r\n<p>&#0160;</p>",
         "shortUrl": "http://bit.ly/2XSbADh",
         "textFormat": "html",
         "title": "Putting the house in order, two Brexit polls",
         "urlId": "6a00d8341e992c53ef0240a4bb19fa200b"
        },
        {
         "author": {
          "aboutMe": "Kaiser Fung, Author, Junk Charts, Numbersense, Numbers Rule Your World",
          "avatarLink": {
           "height": 250,
           "url": "https://static.typepad.com/.shared/default-userpics/03-250si.gif",
           "width": 250
          },
          "displayName": "junkcharts",
          "id": "tag:api.typepad.com,2009:6p00d8341e992c53ef",
          "interests": [
           "practical statistics",
           "data visualization",
           "business analytics",
           "bootcamp",
           "data science"
          ],
          "location": null,
          "objectType": "User",
          "objectTypes": [
           "tag:api.typepad.com,2009:User"
          ],
          "preferredUsername": "junkcharts",
          "profilePageUrl": "http://profile.typepad.com/junkcharts",
          "urlId": "6p00d8341e992c53ef"
         },
         "categories": [
          "Aggregation",
          "Bar chart",
          "Color",
          "Data labels",
          "Education",
          "Pie chart",
          "Science",
          "Small multiples",
          "Text",
          "Trifecta checkup"
         ],
         "commentCount": 0,
         "container": {
          "displayName": "Junk Charts",
          "homeUrl": "https://junkcharts.typepad.com/junk_charts/",
          "id": "tag:api.typepad.com,2009:6a00d8341e992c53ef00d8341e9a0553ef",
          "objectType": "Blog",
          "urlId": "6a00d8341e992c53ef00d8341e9a0553ef"
         },
         "content": "<p>The editors of ASA&#39;s <em>Amstat News</em> certainly got my attention, in a recent <a href=\"https://magazine.amstat.org/blog/2019/06/01/school-counselors/\" title=\"Link to Amstat News\">article</a> on school counselling. A research team asked two questions. The first was HOW ARE YOU FELINE?</p>\r\n<p>Stats and cats. The pun got my attention and presumably also made others stop and wonder. The second question was HOW DO YOU REMEMBER FEELING while you were taking a college statistics course? Well, it&#39;s hard to imagine the average response to that question would be positive.</p>\r\n<p>What also drew me to the <a href=\"https://magazine.amstat.org/blog/2019/06/01/school-counselors/\" title=\"Link to Amstat News\">article</a> was this pair of charts:</p>\r\n<p><a class=\"asset-img-link\" href=\"https://junkcharts.typepad.com/.a/6a00d8341e992c53ef0240a4ba1deb200b-pi\" style=\"display: inline;\"><img alt=\"Counselors_Figure1small\" class=\"asset  asset-image at-xid-6a00d8341e992c53ef0240a4ba1deb200b img-responsive\" src=\"https://junkcharts.typepad.com/.a/6a00d8341e992c53ef0240a4ba1deb200b-350wi\" style=\"width: 350px;\" title=\"Counselors_Figure1small\" /></a></p>\r\n<p>Surely, ASA can do better. (I&#39;m happy to volunteer my time!)</p>\r\n<p>Rotate the chart, clean up the <a href=\"https://junkcharts.typepad.com/junk_charts/color\" title=\"Posts about color\">colors</a>, remove the decimals, put the chart titles up top, etc.</p>\r\n<p>***</p>\r\n<p>The above remedies fall into the V corner of my <a href=\"https://bitly.com/trifectacheckup\" title=\"Posts about Trifecta Checkup\">Trifecta</a> checkup.</p>\r\n<p><a class=\"asset-img-link\" href=\"https://junkcharts.typepad.com/.a/6a00d8341e992c53ef0240a46c472b200c-pi\" style=\"float: right;\"><img alt=\"Trifectacheckup_junkcharts_image\" class=\"asset  asset-image at-xid-6a00d8341e992c53ef0240a46c472b200c img-responsive\" src=\"https://junkcharts.typepad.com/.a/6a00d8341e992c53ef0240a46c472b200c-300wi\" style=\"width: 300px; margin: 0px 0px 5px 5px;\" title=\"Trifectacheckup_junkcharts_image\" /></a>The key to fixing this chart is to <strong>tighten the bond between the message and the visual</strong>. This means working that <em>green link</em> between the Q and V corners.</p>\r\n<p>This much became clear after reading the article. The following paragraphs are central to the research (<span style=\"font-family: helvetica;\"><strong>bolding</strong></span> is mine):</p>\r\n<div class=\"page\" title=\"Page 3\">\r\n<div class=\"section\" style=\"background-color: rgb(100.000000%, 100.000000%, 100.000000%);\">\r\n<div class=\"layoutArea\">\r\n<div class=\"column\">\r\n<p style=\"padding-left: 40px;\"><span style=\"font-family: helvetica;\"><span style=\"font-size: 10pt;\">Responses indicated the majority of school counselors <strong>recalled experiences</strong> of studying statistics in college that they described with words associated with more <strong>unpleasant affect</strong> (i.e., alarm, anger, distress, fear, misery, gloom, depression, sadness, and tiredness; </span><span style=\"font-size: 10pt; font-style: italic;\">n </span><span style=\"font-size: 10pt;\">= 93; 66%). By contrast, a majority of counselors reported same-day (i.e., <strong>current) emotions</strong> that appeared to be associated with more <strong>pleasant affect</strong> (i.e., pleasure, happiness, excitement, astonishment, sleepiness, satisfaction, and calm; </span><span style=\"font-size: 10pt; font-style: italic;\">n </span><span style=\"font-size: 10pt;\">= 123; 88%). </span></span></p>\r\n<p style=\"padding-left: 40px;\"><span style=\"font-family: helvetica;\"><span style=\"font-size: 10pt;\"><strong>Both recalled emotive experiences and current emotional states appeared approximately</strong> <strong>balanced on dimensions of arousal</strong>: recalled experiences associated with lower arousal (i.e., pleasure, misery, gloom, depression, sadness, tiredness, sleepiness, satisfaction, and calm, </span><span style=\"font-size: 10pt; font-style: italic;\">n </span><span style=\"font-size: 10pt;\">= 65, 46%); recalled experiences associated with higher arousal (i.e., happiness, excitement, astonishment, alarm, anger, distress, fear, </span><span style=\"font-size: 10pt; font-style: italic;\">n </span><span style=\"font-size: 10pt;\">= 70, 50%); current emotions associated with lower arousal (</span><span style=\"font-size: 10pt; font-style: italic;\">n </span><span style=\"font-size: 10pt;\">= 60, 43%); current experiences associated with higher arousal (i.e., </span><span style=\"font-size: 10pt; font-style: italic;\">n </span></span><span style=\"font-size: 10.000000pt; font-family: &#39;Times&#39;;\"><span style=\"font-family: helvetica;\">= 79, 56%).</span> </span></p>\r\n<p>These paragraphs convey two crucial pieces of information: the structure of the analysis, and its insights.</p>\r\n<p>The two survey questions measure two states of experiences, described as <span style=\"font-family: helvetica;\"><strong>current</strong></span> versus <span style=\"font-family: helvetica;\"><strong>recalled</strong></span>. Then the individual affects (of which there were 16 plus an option of &quot;other&quot;) are scored on two dimensions, pleasure and arousal. Each affect maps to high or low pleasure, and separately to high or low arousal.</p>\r\n<p>The research insight is that current experience was noticably higher than recalled experience on the pleasure dimension but both experiences were similar on the arousal dimension.</p>\r\n<p>Any visualization of this research must bring out this insight.</p>\r\n<p>***</p>\r\n<p>Here is an attempt to illustrate those paragraphs:</p>\r\n<p><a class=\"asset-img-link\" href=\"https://junkcharts.typepad.com/.a/6a00d8341e992c53ef0240a495875e200d-pi\" style=\"display: inline;\"><img alt=\"Redo_junkcharts_amstat_feline\" class=\"asset  asset-image at-xid-6a00d8341e992c53ef0240a495875e200d img-responsive\" src=\"https://junkcharts.typepad.com/.a/6a00d8341e992c53ef0240a495875e200d-500wi\" style=\"width: 500px;\" title=\"Redo_junkcharts_amstat_feline\" /></a></p>\r\n<p>The primary conclusion can be read from the four simple <a href=\"https://junkcharts.typepad.com/junk_charts/pie_chart\" title=\"Posts about pie charts\">pie charts</a> in the middle of the page. The <a href=\"https://junkcharts.typepad.com/junk_charts/color\" title=\"Posts about color\">color</a> scheme shines light on which affects are coded as high or low for each dimension. For example, &quot;distressed&quot; is scored as showing low pleasure and high arousal.</p>\r\n<p>A successful data visualization for this situation has to bring out the conclusion drawn at the aggregated level, while explaining the connection between individual affects and their aggregates.</p>\r\n</div>\r\n</div>\r\n</div>\r\n</div>",
         "description": "Kaiser Fung (Junkcharts, Principal Analytics Prep) finds a data visualization that brings out the core finding of research on school counsellors related to statistical education.",
         "embeddedAudioLinks": [],
         "embeddedImageLinks": [
          {
           "height": 482,
           "url": "https://a3.typepad.com/6a00d8341e992c53ef0240a4ba1deb200b-pi",
           "urlTemplate": "https://a3.typepad.com/6a00d8341e992c53ef0240a4ba1deb200b-{spec}",
           "width": 450
          },
          {
           "height": 888,
           "url": "https://a3.typepad.com/6a00d8341e992c53ef0240a46c472b200c-pi",
           "urlTemplate": "https://a3.typepad.com/6a00d8341e992c53ef0240a46c472b200c-{spec}",
           "width": 938
          },
          {
           "height": 1066,
           "url": "https://a6.typepad.com/6a00d8341e992c53ef0240a495875e200d-pi",
           "urlTemplate": "https://a6.typepad.com/6a00d8341e992c53ef0240a495875e200d-{spec}",
           "width": 1694
          }
         ],
         "embeddedVideoLinks": [],
         "excerpt": "Kaiser Fung (Junkcharts, Principal Analytics Prep) finds a data visualization that brings out the core finding of research on school counsellors related to statistical education.",
         "favoriteCount": 0,
         "filename": "tightening-the-bond-between-the-message-and-the-visual-hello-stats-cats",
         "groups": [],
         "hasExtendedContent": false,
         "id": "tag:api.typepad.com,2009:6a00d8341e992c53ef0240a4ba1e54200b",
         "objectType": "Post",
         "objectTypes": [
          "tag:api.typepad.com,2009:Post"
         ],
         "permalinkUrl": "https://junkcharts.typepad.com/junk_charts/2019/07/tightening-the-bond-between-the-message-and-the-visual-hello-stats-cats.html",
         "published": "2019-07-02T17:35:00Z",
         "reblogCount": 0,
         "renderedContent": "<p>The editors of ASA&#39;s <em>Amstat News</em> certainly got my attention, in a recent <a href=\"https://magazine.amstat.org/blog/2019/06/01/school-counselors/\" title=\"Link to Amstat News\">article</a> on school counselling. A research team asked two questions. The first was HOW ARE YOU FELINE?</p>\r\n<p>Stats and cats. The pun got my attention and presumably also made others stop and wonder. The second question was HOW DO YOU REMEMBER FEELING while you were taking a college statistics course? Well, it&#39;s hard to imagine the average response to that question would be positive.</p>\r\n<p>What also drew me to the <a href=\"https://magazine.amstat.org/blog/2019/06/01/school-counselors/\" title=\"Link to Amstat News\">article</a> was this pair of charts:</p>\r\n<p><a class=\"asset-img-link\" href=\"https://junkcharts.typepad.com/.a/6a00d8341e992c53ef0240a4ba1deb200b-pi\" style=\"display: inline;\"><img alt=\"Counselors_Figure1small\" class=\"asset  asset-image at-xid-6a00d8341e992c53ef0240a4ba1deb200b img-responsive\" src=\"https://junkcharts.typepad.com/.a/6a00d8341e992c53ef0240a4ba1deb200b-350wi\" style=\"width: 350px;\" title=\"Counselors_Figure1small\" /></a></p>\r\n<p>Surely, ASA can do better. (I&#39;m happy to volunteer my time!)</p>\r\n<p>Rotate the chart, clean up the <a href=\"https://junkcharts.typepad.com/junk_charts/color\" title=\"Posts about color\">colors</a>, remove the decimals, put the chart titles up top, etc.</p>\r\n<p>***</p>\r\n<p>The above remedies fall into the V corner of my <a href=\"https://bitly.com/trifectacheckup\" title=\"Posts about Trifecta Checkup\">Trifecta</a> checkup.</p>\r\n<p><a class=\"asset-img-link\" href=\"https://junkcharts.typepad.com/.a/6a00d8341e992c53ef0240a46c472b200c-pi\" style=\"float: right;\"><img alt=\"Trifectacheckup_junkcharts_image\" class=\"asset  asset-image at-xid-6a00d8341e992c53ef0240a46c472b200c img-responsive\" src=\"https://junkcharts.typepad.com/.a/6a00d8341e992c53ef0240a46c472b200c-300wi\" style=\"width: 300px; margin: 0px 0px 5px 5px;\" title=\"Trifectacheckup_junkcharts_image\" /></a>The key to fixing this chart is to <strong>tighten the bond between the message and the visual</strong>. This means working that <em>green link</em> between the Q and V corners.</p>\r\n<p>This much became clear after reading the article. The following paragraphs are central to the research (<span style=\"font-family: helvetica;\"><strong>bolding</strong></span> is mine):</p>\r\n<div class=\"page\" title=\"Page 3\">\r\n<div class=\"section\" style=\"background-color: rgb(100.000000%, 100.000000%, 100.000000%);\">\r\n<div class=\"layoutArea\">\r\n<div class=\"column\">\r\n<p style=\"padding-left: 40px;\"><span style=\"font-family: helvetica;\"><span style=\"font-size: 10pt;\">Responses indicated the majority of school counselors <strong>recalled experiences</strong> of studying statistics in college that they described with words associated with more <strong>unpleasant affect</strong> (i.e., alarm, anger, distress, fear, misery, gloom, depression, sadness, and tiredness; </span><span style=\"font-size: 10pt; font-style: italic;\">n </span><span style=\"font-size: 10pt;\">= 93; 66%). By contrast, a majority of counselors reported same-day (i.e., <strong>current) emotions</strong> that appeared to be associated with more <strong>pleasant affect</strong> (i.e., pleasure, happiness, excitement, astonishment, sleepiness, satisfaction, and calm; </span><span style=\"font-size: 10pt; font-style: italic;\">n </span><span style=\"font-size: 10pt;\">= 123; 88%). </span></span></p>\r\n<p style=\"padding-left: 40px;\"><span style=\"font-family: helvetica;\"><span style=\"font-size: 10pt;\"><strong>Both recalled emotive experiences and current emotional states appeared approximately</strong> <strong>balanced on dimensions of arousal</strong>: recalled experiences associated with lower arousal (i.e., pleasure, misery, gloom, depression, sadness, tiredness, sleepiness, satisfaction, and calm, </span><span style=\"font-size: 10pt; font-style: italic;\">n </span><span style=\"font-size: 10pt;\">= 65, 46%); recalled experiences associated with higher arousal (i.e., happiness, excitement, astonishment, alarm, anger, distress, fear, </span><span style=\"font-size: 10pt; font-style: italic;\">n </span><span style=\"font-size: 10pt;\">= 70, 50%); current emotions associated with lower arousal (</span><span style=\"font-size: 10pt; font-style: italic;\">n </span><span style=\"font-size: 10pt;\">= 60, 43%); current experiences associated with higher arousal (i.e., </span><span style=\"font-size: 10pt; font-style: italic;\">n </span></span><span style=\"font-size: 10.000000pt; font-family: &#39;Times&#39;;\"><span style=\"font-family: helvetica;\">= 79, 56%).</span> </span></p>\r\n<p>These paragraphs convey two crucial pieces of information: the structure of the analysis, and its insights.</p>\r\n<p>The two survey questions measure two states of experiences, described as <span style=\"font-family: helvetica;\"><strong>current</strong></span> versus <span style=\"font-family: helvetica;\"><strong>recalled</strong></span>. Then the individual affects (of which there were 16 plus an option of &quot;other&quot;) are scored on two dimensions, pleasure and arousal. Each affect maps to high or low pleasure, and separately to high or low arousal.</p>\r\n<p>The research insight is that current experience was noticably higher than recalled experience on the pleasure dimension but both experiences were similar on the arousal dimension.</p>\r\n<p>Any visualization of this research must bring out this insight.</p>\r\n<p>***</p>\r\n<p>Here is an attempt to illustrate those paragraphs:</p>\r\n<p><a class=\"asset-img-link\" href=\"https://junkcharts.typepad.com/.a/6a00d8341e992c53ef0240a495875e200d-pi\" style=\"display: inline;\"><img alt=\"Redo_junkcharts_amstat_feline\" class=\"asset  asset-image at-xid-6a00d8341e992c53ef0240a495875e200d img-responsive\" src=\"https://junkcharts.typepad.com/.a/6a00d8341e992c53ef0240a495875e200d-500wi\" style=\"width: 500px;\" title=\"Redo_junkcharts_amstat_feline\" /></a></p>\r\n<p>The primary conclusion can be read from the four simple <a href=\"https://junkcharts.typepad.com/junk_charts/pie_chart\" title=\"Posts about pie charts\">pie charts</a> in the middle of the page. The <a href=\"https://junkcharts.typepad.com/junk_charts/color\" title=\"Posts about color\">color</a> scheme shines light on which affects are coded as high or low for each dimension. For example, &quot;distressed&quot; is scored as showing low pleasure and high arousal.</p>\r\n<p>A successful data visualization for this situation has to bring out the conclusion drawn at the aggregated level, while explaining the connection between individual affects and their aggregates.</p>\r\n</div>\r\n</div>\r\n</div>\r\n</div>",
         "shortUrl": "http://bit.ly/2XMFloY",
         "textFormat": "html",
         "title": "Tightening the bond between the message and the visual: hello stats-cats",
         "urlId": "6a00d8341e992c53ef0240a4ba1e54200b"
        },
        {
         "author": {
          "aboutMe": "Kaiser Fung, Author, Junk Charts, Numbersense, Numbers Rule Your World",
          "avatarLink": {
           "height": 250,
           "url": "https://static.typepad.com/.shared/default-userpics/03-250si.gif",
           "width": 250
          },
          "displayName": "junkcharts",
          "id": "tag:api.typepad.com,2009:6p00d8341e992c53ef",
          "interests": [
           "practical statistics",
           "data visualization",
           "business analytics",
           "bootcamp",
           "data science"
          ],
          "location": null,
          "objectType": "User",
          "objectTypes": [
           "tag:api.typepad.com,2009:User"
          ],
          "preferredUsername": "junkcharts",
          "profilePageUrl": "http://profile.typepad.com/junkcharts",
          "urlId": "6p00d8341e992c53ef"
         },
         "categories": [
          "Aggregation",
          "Book",
          "Small multiples",
          "Software",
          "Sports",
          "Statistics",
          "Text"
         ],
         "commentCount": 1,
         "container": {
          "displayName": "Junk Charts",
          "homeUrl": "https://junkcharts.typepad.com/junk_charts/",
          "id": "tag:api.typepad.com,2009:6a00d8341e992c53ef00d8341e9a0553ef",
          "objectType": "Blog",
          "urlId": "6a00d8341e992c53ef00d8341e9a0553ef"
         },
         "content": "<p><span style=\"font-size: 8pt;\">I requested a copy of Jim Albert’s Visualizing Baseball book, which is part of the ASA-CRC series on Statistical Reasoning in Science and Society that has the explicit goal of reaching a mass audience.</span></p>\r\n<p><a class=\"asset-img-link\" href=\"https://www.amazon.com/gp/product/1498782752/ref=as_li_qf_asin_il_tl?ie=UTF8&amp;tag=numrulyouwor-20&amp;creative=9325&amp;linkCode=as2&amp;creativeASIN=1498782752&amp;linkId=04a3a34f6c08420de8224769e406bfb8\" style=\"float: right;\" title=\"Visualizing Baseball by Jim Albert\"><img alt=\"Visualizingbaseball_cover\" class=\"asset  asset-image at-xid-6a00d8341e992c53ef0240a49404fd200d img-responsive\" src=\"https://junkcharts.typepad.com/.a/6a00d8341e992c53ef0240a49404fd200d-200wi\" style=\"width: 200px; margin: 0px 0px 5px 5px;\" title=\"Visualizingbaseball_cover\" /></a>The best feature of Albert’s new <a href=\"https://www.amazon.com/gp/product/1498782752/ref=as_li_qf_asin_il_tl?ie=UTF8&amp;tag=numrulyouwor-20&amp;creative=9325&amp;linkCode=as2&amp;creativeASIN=1498782752&amp;linkId=04a3a34f6c08420de8224769e406bfb8\" title=\"Link to Amazon\">volume</a> is its brevity. For someone with a decent background in statistics (and grasp of basic baseball jargon), it’s a book that can be consumed within one week, after which one receives a good overview of baseball analytics, otherwise known as sabermetrics.</p>\r\n<p>Within fewer than 200 pages, Albert outlines approaches to a variety of problems, including:</p>\r\n<ul>\r\n<li>Comparing baseball players by key hitting (or pitching) metrics</li>\r\n<li>Tracking a player’s career</li>\r\n<li>Estimating the value of different plays, such as a single, a triple or a walk</li>\r\n<li>Predicting expected runs in an inning from the current state of play</li>\r\n<li>Analyzing pitches and swings using PitchFX data</li>\r\n<li>Describing the effect of ballparks on home runs</li>\r\n<li>Estimating the effect of particular plays on the outcome of a game</li>\r\n<li>Simulating “fake” games and seasons in order to produce probabilistic forecasts such as X% chance that team Y will win the World Series</li>\r\n<li>Examining whether a hitter is “streaky” or not</li>\r\n</ul>\r\n<p>Most of the analyses are descriptive in nature, e.g. describing the number and types of pitches thrown by a particular pitcher, or the change in on-base percentage over the career of a particular hitter. A lesser number of pages are devoted to predictive analytics. This structure is acceptable in a short introductory book. In practice, decision-makers require more sophisticated work on top of these descriptive analyses. For example, what’s the value of telling a coach that the home run was the pivotal moment in a 1-0 game that has played out?</p>\r\n<p>To appreciate the practical implications of the analyses included in this volume, I’d recommend reading <a href=\"https://www.amazon.com/gp/product/0393324818/ref=as_li_qf_asin_il_tl?ie=UTF8&amp;tag=numrulyouwor-20&amp;creative=9325&amp;linkCode=as2&amp;creativeASIN=0393324818&amp;linkId=13b6dba56d6c6ed2555275fccadd6803\" title=\"Link to Amazon\"><em>Moneyball</em></a> by Michael Lewis, or the more recent <a href=\"https://www.amazon.com/gp/product/0525576649/ref=as_li_qf_asin_il_tl?ie=UTF8&amp;tag=numrulyouwor-20&amp;creative=9325&amp;linkCode=as2&amp;creativeASIN=0525576649&amp;linkId=524081f327cf186cd0c9d0ff58db9ee0\" title=\"Link to Amazon\"><em>Astroball</em></a> by Ben Reiter.</p>\r\n<p>For the more serious student of sabermetrics, key omitted details will need to be gleaned from other sources, including other books by the same author – for years, I have recommended <a href=\"https://www.amazon.com/gp/product/038700193X/ref=as_li_qf_asin_il_tl?ie=UTF8&amp;tag=numrulyouwor-20&amp;creative=9325&amp;linkCode=as2&amp;creativeASIN=038700193X&amp;linkId=6abe93c903ebae6645a4b5711b96676f\" title=\"Link to Curve Ball\"><em>Curve Ball</em></a> by Albert and Bennett to my students.</p>\r\n<p>***</p>\r\n<p>In the final chapters, Albert introduced the simulation of “fake” seasons that underlies predictions. An inquiring reader should investigate how the process is tied back to the reality of what actually happened; otherwise, the simulation will have a life of its own. Further, if one simulates 1,000 seasons of 2018 baseball, a large number of these fake seasons would crown some team other than the Red Sox as the 2018 World Series winner. Think about it: that’s how it is possible to make the prediction that the Red Sox has a say 60 percent chance of winning the World Series in 2018! <strong>A key to understanding the statistical way of thinking is to accept the logic of this fake simulated world</strong>. It is not the stated goal of Albert to convince readers of the statistical way of thinking – but you’re not going to be convinced unless you think about why we do it this way.</p>\r\n<p>***</p>\r\n<p>While there are plenty of charts included in the book, a more appropriate title for “Visualizing Baseball” would have been “Fast Intro to Baseball Analytics”. With several exceptions, the charts are not essential to understanding the analyses. The dominant form of exposition is first describe the analytical conclusion, then introduce a chart to illustrate that conclusion. The inverse would be: Start with the chart, and use the chart to explain the analysis.</p>\r\n<p>The visualizations are generally of good quality, emphasizing clarity over prettiness. The choice of sticking to one software, ggplot2 in R, without post-production, constrains the visual designer to the preferences of the software designer. Such limitations are evident in chart elements like legends and titles. Here is one example (Chapter 5, Figure 5.8):</p>\r\n<p><a class=\"asset-img-link\" href=\"https://junkcharts.typepad.com/.a/6a00d8341e992c53ef0240a46ac30d200c-pi\" style=\"display: inline;\"><img alt=\"Albert_visualizingbaseball_chart\" class=\"asset  asset-image at-xid-6a00d8341e992c53ef0240a46ac30d200c img-responsive\" src=\"https://junkcharts.typepad.com/.a/6a00d8341e992c53ef0240a46ac30d200c-300wi\" style=\"width: 300px;\" title=\"Albert_visualizingbaseball_chart\" /></a></p>\r\n<p>By default, the <a href=\"https://junkcharts.typepad.com/junk_charts/software\" title=\"Posts about software\">software</a> prints the names of data columns in the titles. Imagine if the plot titles were Changeup, Fastball and Slider instead of CU, FF and SL. Or that the axis labels were “horizontal location” and “vertical location” (check) instead of px and pz. [Note: The chart above was taken from the book&#39;s github site; in the&#0160; Figure 5.8 in the printed book, the chart titles were edited as suggested.]</p>\r\n<p>The chart analyzes the location relative to the strike zone of pitches that were missed versus pitches that were hit (not missed). By default, the software takes the name of the binary variable (“Miss”) as the legend title, and lists the values of the variable (“True” and “False”) as the labels of the two colors. Imagine if True appeared as “Miss” and False as “Hit” .</p>\r\n<p>Finally, the chart exhibits over-plotting, making it tough to know how many blue or gray dots are present. Smaller dot size might help, or else some form of aggregation.</p>\r\n<p>***</p>\r\n<p><a href=\"https://www.amazon.com/gp/product/1498782752/ref=as_li_qf_asin_il_tl?ie=UTF8&amp;tag=numrulyouwor-20&amp;creative=9325&amp;linkCode=as2&amp;creativeASIN=1498782752&amp;linkId=04a3a34f6c08420de8224769e406bfb8\" title=\"Link to Visualizing Baseball\"><em>Visualizing Baseball</em> </a>is not the book for readers who learn by running code as no code is included in the book. A github page by the author hosts the code, but only the R/ggplot2 code for generating the data visualization. Each script begins <em>after</em> the analysis or modeling has been completed. If you already know R and ggplot2, the github is worth a visit. In any case, I don’t recommend learning coding from copying and pasting clean code.</p>\r\n<p>All in all, I can recommend this short book to any <strong>baseball enthusiast who’s beginning to look at baseball data</strong>. It may expand your appreciation of what can be done. For details, and practical implications, look elsewhere.</p>",
         "description": "Kaiser Fung (Junkcharts, Numbers Rule Your World) reviews Jim Albert's new book, Visualizing Baseball.",
         "embeddedAudioLinks": [],
         "embeddedImageLinks": [
          {
           "height": 499,
           "url": "https://a5.typepad.com/6a00d8341e992c53ef0240a49404fd200d-pi",
           "urlTemplate": "https://a5.typepad.com/6a00d8341e992c53ef0240a49404fd200d-{spec}",
           "width": 304
          },
          {
           "height": 960,
           "url": "https://a5.typepad.com/6a00d8341e992c53ef0240a46ac30d200c-pi",
           "urlTemplate": "https://a5.typepad.com/6a00d8341e992c53ef0240a46ac30d200c-{spec}",
           "width": 1152
          }
         ],
         "embeddedVideoLinks": [],
         "excerpt": "Kaiser Fung (Junkcharts, Numbers Rule Your World) reviews Jim Albert's new book, Visualizing Baseball.",
         "favoriteCount": 0,
         "filename": "book-review-visualizing-basebal",
         "groups": [],
         "hasExtendedContent": false,
         "id": "tag:api.typepad.com,2009:6a00d8341e992c53ef0240a46ac22c200c",
         "objectType": "Post",
         "objectTypes": [
          "tag:api.typepad.com,2009:Post"
         ],
         "permalinkUrl": "https://junkcharts.typepad.com/junk_charts/2019/06/book-review-visualizing-basebal.html",
         "published": "2019-06-27T12:54:00Z",
         "reblogCount": 0,
         "renderedContent": "<p><span style=\"font-size: 8pt;\">I requested a copy of Jim Albert’s Visualizing Baseball book, which is part of the ASA-CRC series on Statistical Reasoning in Science and Society that has the explicit goal of reaching a mass audience.</span></p>\r\n<p><a class=\"asset-img-link\" href=\"https://www.amazon.com/gp/product/1498782752/ref=as_li_qf_asin_il_tl?ie=UTF8&amp;tag=numrulyouwor-20&amp;creative=9325&amp;linkCode=as2&amp;creativeASIN=1498782752&amp;linkId=04a3a34f6c08420de8224769e406bfb8\" style=\"float: right;\" title=\"Visualizing Baseball by Jim Albert\"><img alt=\"Visualizingbaseball_cover\" class=\"asset  asset-image at-xid-6a00d8341e992c53ef0240a49404fd200d img-responsive\" src=\"https://junkcharts.typepad.com/.a/6a00d8341e992c53ef0240a49404fd200d-200wi\" style=\"width: 200px; margin: 0px 0px 5px 5px;\" title=\"Visualizingbaseball_cover\" /></a>The best feature of Albert’s new <a href=\"https://www.amazon.com/gp/product/1498782752/ref=as_li_qf_asin_il_tl?ie=UTF8&amp;tag=numrulyouwor-20&amp;creative=9325&amp;linkCode=as2&amp;creativeASIN=1498782752&amp;linkId=04a3a34f6c08420de8224769e406bfb8\" title=\"Link to Amazon\">volume</a> is its brevity. For someone with a decent background in statistics (and grasp of basic baseball jargon), it’s a book that can be consumed within one week, after which one receives a good overview of baseball analytics, otherwise known as sabermetrics.</p>\r\n<p>Within fewer than 200 pages, Albert outlines approaches to a variety of problems, including:</p>\r\n<ul>\r\n<li>Comparing baseball players by key hitting (or pitching) metrics</li>\r\n<li>Tracking a player’s career</li>\r\n<li>Estimating the value of different plays, such as a single, a triple or a walk</li>\r\n<li>Predicting expected runs in an inning from the current state of play</li>\r\n<li>Analyzing pitches and swings using PitchFX data</li>\r\n<li>Describing the effect of ballparks on home runs</li>\r\n<li>Estimating the effect of particular plays on the outcome of a game</li>\r\n<li>Simulating “fake” games and seasons in order to produce probabilistic forecasts such as X% chance that team Y will win the World Series</li>\r\n<li>Examining whether a hitter is “streaky” or not</li>\r\n</ul>\r\n<p>Most of the analyses are descriptive in nature, e.g. describing the number and types of pitches thrown by a particular pitcher, or the change in on-base percentage over the career of a particular hitter. A lesser number of pages are devoted to predictive analytics. This structure is acceptable in a short introductory book. In practice, decision-makers require more sophisticated work on top of these descriptive analyses. For example, what’s the value of telling a coach that the home run was the pivotal moment in a 1-0 game that has played out?</p>\r\n<p>To appreciate the practical implications of the analyses included in this volume, I’d recommend reading <a href=\"https://www.amazon.com/gp/product/0393324818/ref=as_li_qf_asin_il_tl?ie=UTF8&amp;tag=numrulyouwor-20&amp;creative=9325&amp;linkCode=as2&amp;creativeASIN=0393324818&amp;linkId=13b6dba56d6c6ed2555275fccadd6803\" title=\"Link to Amazon\"><em>Moneyball</em></a> by Michael Lewis, or the more recent <a href=\"https://www.amazon.com/gp/product/0525576649/ref=as_li_qf_asin_il_tl?ie=UTF8&amp;tag=numrulyouwor-20&amp;creative=9325&amp;linkCode=as2&amp;creativeASIN=0525576649&amp;linkId=524081f327cf186cd0c9d0ff58db9ee0\" title=\"Link to Amazon\"><em>Astroball</em></a> by Ben Reiter.</p>\r\n<p>For the more serious student of sabermetrics, key omitted details will need to be gleaned from other sources, including other books by the same author – for years, I have recommended <a href=\"https://www.amazon.com/gp/product/038700193X/ref=as_li_qf_asin_il_tl?ie=UTF8&amp;tag=numrulyouwor-20&amp;creative=9325&amp;linkCode=as2&amp;creativeASIN=038700193X&amp;linkId=6abe93c903ebae6645a4b5711b96676f\" title=\"Link to Curve Ball\"><em>Curve Ball</em></a> by Albert and Bennett to my students.</p>\r\n<p>***</p>\r\n<p>In the final chapters, Albert introduced the simulation of “fake” seasons that underlies predictions. An inquiring reader should investigate how the process is tied back to the reality of what actually happened; otherwise, the simulation will have a life of its own. Further, if one simulates 1,000 seasons of 2018 baseball, a large number of these fake seasons would crown some team other than the Red Sox as the 2018 World Series winner. Think about it: that’s how it is possible to make the prediction that the Red Sox has a say 60 percent chance of winning the World Series in 2018! <strong>A key to understanding the statistical way of thinking is to accept the logic of this fake simulated world</strong>. It is not the stated goal of Albert to convince readers of the statistical way of thinking – but you’re not going to be convinced unless you think about why we do it this way.</p>\r\n<p>***</p>\r\n<p>While there are plenty of charts included in the book, a more appropriate title for “Visualizing Baseball” would have been “Fast Intro to Baseball Analytics”. With several exceptions, the charts are not essential to understanding the analyses. The dominant form of exposition is first describe the analytical conclusion, then introduce a chart to illustrate that conclusion. The inverse would be: Start with the chart, and use the chart to explain the analysis.</p>\r\n<p>The visualizations are generally of good quality, emphasizing clarity over prettiness. The choice of sticking to one software, ggplot2 in R, without post-production, constrains the visual designer to the preferences of the software designer. Such limitations are evident in chart elements like legends and titles. Here is one example (Chapter 5, Figure 5.8):</p>\r\n<p><a class=\"asset-img-link\" href=\"https://junkcharts.typepad.com/.a/6a00d8341e992c53ef0240a46ac30d200c-pi\" style=\"display: inline;\"><img alt=\"Albert_visualizingbaseball_chart\" class=\"asset  asset-image at-xid-6a00d8341e992c53ef0240a46ac30d200c img-responsive\" src=\"https://junkcharts.typepad.com/.a/6a00d8341e992c53ef0240a46ac30d200c-300wi\" style=\"width: 300px;\" title=\"Albert_visualizingbaseball_chart\" /></a></p>\r\n<p>By default, the <a href=\"https://junkcharts.typepad.com/junk_charts/software\" title=\"Posts about software\">software</a> prints the names of data columns in the titles. Imagine if the plot titles were Changeup, Fastball and Slider instead of CU, FF and SL. Or that the axis labels were “horizontal location” and “vertical location” (check) instead of px and pz. [Note: The chart above was taken from the book&#39;s github site; in the&#0160; Figure 5.8 in the printed book, the chart titles were edited as suggested.]</p>\r\n<p>The chart analyzes the location relative to the strike zone of pitches that were missed versus pitches that were hit (not missed). By default, the software takes the name of the binary variable (“Miss”) as the legend title, and lists the values of the variable (“True” and “False”) as the labels of the two colors. Imagine if True appeared as “Miss” and False as “Hit” .</p>\r\n<p>Finally, the chart exhibits over-plotting, making it tough to know how many blue or gray dots are present. Smaller dot size might help, or else some form of aggregation.</p>\r\n<p>***</p>\r\n<p><a href=\"https://www.amazon.com/gp/product/1498782752/ref=as_li_qf_asin_il_tl?ie=UTF8&amp;tag=numrulyouwor-20&amp;creative=9325&amp;linkCode=as2&amp;creativeASIN=1498782752&amp;linkId=04a3a34f6c08420de8224769e406bfb8\" title=\"Link to Visualizing Baseball\"><em>Visualizing Baseball</em> </a>is not the book for readers who learn by running code as no code is included in the book. A github page by the author hosts the code, but only the R/ggplot2 code for generating the data visualization. Each script begins <em>after</em> the analysis or modeling has been completed. If you already know R and ggplot2, the github is worth a visit. In any case, I don’t recommend learning coding from copying and pasting clean code.</p>\r\n<p>All in all, I can recommend this short book to any <strong>baseball enthusiast who’s beginning to look at baseball data</strong>. It may expand your appreciation of what can be done. For details, and practical implications, look elsewhere.</p>",
         "shortUrl": "http://bit.ly/2ZPuWGz",
         "textFormat": "html",
         "title": "Book review: Visualizing Baseball",
         "urlId": "6a00d8341e992c53ef0240a46ac22c200c"
        },
        {
         "author": {
          "aboutMe": "Kaiser Fung, Author, Junk Charts, Numbersense, Numbers Rule Your World",
          "avatarLink": {
           "height": 250,
           "url": "https://static.typepad.com/.shared/default-userpics/03-250si.gif",
           "width": 250
          },
          "displayName": "junkcharts",
          "id": "tag:api.typepad.com,2009:6p00d8341e992c53ef",
          "interests": [
           "practical statistics",
           "data visualization",
           "business analytics",
           "bootcamp",
           "data science"
          ],
          "location": null,
          "objectType": "User",
          "objectTypes": [
           "tag:api.typepad.com,2009:User"
          ],
          "preferredUsername": "junkcharts",
          "profilePageUrl": "http://profile.typepad.com/junkcharts",
          "urlId": "6p00d8341e992c53ef"
         },
         "categories": [
          "Hierarchy",
          "Pictogram",
          "Pie chart",
          "Science"
         ],
         "commentCount": 1,
         "container": {
          "displayName": "Junk Charts",
          "homeUrl": "https://junkcharts.typepad.com/junk_charts/",
          "id": "tag:api.typepad.com,2009:6a00d8341e992c53ef00d8341e9a0553ef",
          "objectType": "Blog",
          "urlId": "6a00d8341e992c53ef00d8341e9a0553ef"
         },
         "content": "<p>Reader Antonio R. forwarded a tweet about the following &quot;waterfall of pie charts&quot; to me:</p>\r\n<p><a class=\"asset-img-link\" href=\"https://junkcharts.typepad.com/.a/6a00d8341e992c53ef0240a4b83e9e200b-pi\" style=\"display: inline;\"><img alt=\"Water-stats-pie21\" class=\"asset  asset-image at-xid-6a00d8341e992c53ef0240a4b83e9e200b img-responsive\" src=\"https://junkcharts.typepad.com/.a/6a00d8341e992c53ef0240a4b83e9e200b-400wi\" style=\"width: 400px;\" title=\"Water-stats-pie21\" /></a></p>\r\n<p>Maarten Lamberts loved these charts (source: <a href=\"https://thiswoo.wordpress.com/2008/10/21/i-give-you-statistical-pie-charts/\" title=\"Link to ThisWoo\">here</a>).</p>\r\n<p>I am immediately attracted to the visual thinking behind this chart. The data are presented in a hierarchy with three levels. The levels are nested in the sense that the pieces in each pie chart add up to 100%. From the first level to the second, the category of freshwater is sub-divided into three parts. From the second level to the third, the &quot;others&quot; subgroup under freshwater is sub-divided into five further categories.</p>\r\n<p>The designer faces a twofold challenge: presenting the proportions at each level, and integrating the three levels into one graphic. The second challenge is harder to master.</p>\r\n<p>The solution here is quite ingenious. A waterfall/waterdrop metaphor is used to link each layer to the one below. It visually conveys the hierarchical structure.</p>\r\n<p>***</p>\r\n<p>There remains a little problem. There is a confusion related to the part and the whole. The link between levels should be that one part of the upper level becomes the <em>whole</em> of the lower level. Because of the color scheme, it appears that the part above does not account for the entirety of the pie below. For example, water in lakes is plotted on both the second and third layers while water in soil suddenly enters the diagram at the third level even though it should be part of the &quot;drop&quot; from the second layer.</p>\r\n<p>***</p>\r\n<p>I started playing around with various related forms. I like the concept of linking the layers and want to retain it. Here is one graphic inspired by the waterfall pies from above:</p>\r\n<p><a class=\"asset-img-link\" href=\"https://junkcharts.typepad.com/.a/6a00d8341e992c53ef0240a4b83fc5200b-pi\" style=\"display: inline;\"><img alt=\"Redo_waterfall_pies\" class=\"asset  asset-image at-xid-6a00d8341e992c53ef0240a4b83fc5200b img-responsive\" src=\"https://junkcharts.typepad.com/.a/6a00d8341e992c53ef0240a4b83fc5200b-450wi\" style=\"width: 420px;\" title=\"Redo_waterfall_pies\" /></a></p>\r\n<p>&#0160;</p>",
         "description": "Kaiser Fung (Junkcharts, Principal Analytics Prep) finds inspiration from a waterfall of pie charts.",
         "embeddedAudioLinks": [],
         "embeddedImageLinks": [
          {
           "height": 893,
           "url": "https://a6.typepad.com/6a00d8341e992c53ef0240a4b83e9e200b-pi",
           "urlTemplate": "https://a6.typepad.com/6a00d8341e992c53ef0240a4b83e9e200b-{spec}",
           "width": 834
          },
          {
           "height": 900,
           "url": "https://a5.typepad.com/6a00d8341e992c53ef0240a4b83fc5200b-pi",
           "urlTemplate": "https://a5.typepad.com/6a00d8341e992c53ef0240a4b83fc5200b-{spec}",
           "width": 1144
          }
         ],
         "embeddedVideoLinks": [],
         "excerpt": "Kaiser Fung (Junkcharts, Principal Analytics Prep) finds inspiration from a waterfall of pie charts.",
         "favoriteCount": 0,
         "filename": "inspiration-from-a-waterfall-of-pie-charts-illustrating-hierarchies",
         "groups": [],
         "hasExtendedContent": false,
         "id": "tag:api.typepad.com,2009:6a00d8341e992c53ef0240a4939748200d",
         "objectType": "Post",
         "objectTypes": [
          "tag:api.typepad.com,2009:Post"
         ],
         "permalinkUrl": "https://junkcharts.typepad.com/junk_charts/2019/06/inspiration-from-a-waterfall-of-pie-charts-illustrating-hierarchies.html",
         "published": "2019-06-26T12:29:00Z",
         "reblogCount": 0,
         "renderedContent": "<p>Reader Antonio R. forwarded a tweet about the following &quot;waterfall of pie charts&quot; to me:</p>\r\n<p><a class=\"asset-img-link\" href=\"https://junkcharts.typepad.com/.a/6a00d8341e992c53ef0240a4b83e9e200b-pi\" style=\"display: inline;\"><img alt=\"Water-stats-pie21\" class=\"asset  asset-image at-xid-6a00d8341e992c53ef0240a4b83e9e200b img-responsive\" src=\"https://junkcharts.typepad.com/.a/6a00d8341e992c53ef0240a4b83e9e200b-400wi\" style=\"width: 400px;\" title=\"Water-stats-pie21\" /></a></p>\r\n<p>Maarten Lamberts loved these charts (source: <a href=\"https://thiswoo.wordpress.com/2008/10/21/i-give-you-statistical-pie-charts/\" title=\"Link to ThisWoo\">here</a>).</p>\r\n<p>I am immediately attracted to the visual thinking behind this chart. The data are presented in a hierarchy with three levels. The levels are nested in the sense that the pieces in each pie chart add up to 100%. From the first level to the second, the category of freshwater is sub-divided into three parts. From the second level to the third, the &quot;others&quot; subgroup under freshwater is sub-divided into five further categories.</p>\r\n<p>The designer faces a twofold challenge: presenting the proportions at each level, and integrating the three levels into one graphic. The second challenge is harder to master.</p>\r\n<p>The solution here is quite ingenious. A waterfall/waterdrop metaphor is used to link each layer to the one below. It visually conveys the hierarchical structure.</p>\r\n<p>***</p>\r\n<p>There remains a little problem. There is a confusion related to the part and the whole. The link between levels should be that one part of the upper level becomes the <em>whole</em> of the lower level. Because of the color scheme, it appears that the part above does not account for the entirety of the pie below. For example, water in lakes is plotted on both the second and third layers while water in soil suddenly enters the diagram at the third level even though it should be part of the &quot;drop&quot; from the second layer.</p>\r\n<p>***</p>\r\n<p>I started playing around with various related forms. I like the concept of linking the layers and want to retain it. Here is one graphic inspired by the waterfall pies from above:</p>\r\n<p><a class=\"asset-img-link\" href=\"https://junkcharts.typepad.com/.a/6a00d8341e992c53ef0240a4b83fc5200b-pi\" style=\"display: inline;\"><img alt=\"Redo_waterfall_pies\" class=\"asset  asset-image at-xid-6a00d8341e992c53ef0240a4b83fc5200b img-responsive\" src=\"https://junkcharts.typepad.com/.a/6a00d8341e992c53ef0240a4b83fc5200b-450wi\" style=\"width: 420px;\" title=\"Redo_waterfall_pies\" /></a></p>\r\n<p>&#0160;</p>",
         "shortUrl": "http://bit.ly/2Xtk9V2",
         "textFormat": "html",
         "title": "Inspiration from a waterfall of pie charts: illustrating hierarchies",
         "urlId": "6a00d8341e992c53ef0240a4939748200d"
        },
        {
         "author": {
          "aboutMe": "Kaiser Fung, Author, Junk Charts, Numbersense, Numbers Rule Your World",
          "avatarLink": {
           "height": 250,
           "url": "https://static.typepad.com/.shared/default-userpics/03-250si.gif",
           "width": 250
          },
          "displayName": "junkcharts",
          "id": "tag:api.typepad.com,2009:6p00d8341e992c53ef",
          "interests": [
           "practical statistics",
           "data visualization",
           "business analytics",
           "bootcamp",
           "data science"
          ],
          "location": null,
          "objectType": "User",
          "objectTypes": [
           "tag:api.typepad.com,2009:User"
          ],
          "preferredUsername": "junkcharts",
          "profilePageUrl": "http://profile.typepad.com/junkcharts",
          "urlId": "6p00d8341e992c53ef"
         },
         "categories": [
          "Clustering",
          "Color",
          "Comparability",
          "Composition",
          "Design",
          "Infographics",
          "Science",
          "Sorting",
          "Specialty plots",
          "Table",
          "Web/Tech"
         ],
         "commentCount": 3,
         "container": {
          "displayName": "Junk Charts",
          "homeUrl": "https://junkcharts.typepad.com/junk_charts/",
          "id": "tag:api.typepad.com,2009:6a00d8341e992c53ef00d8341e9a0553ef",
          "objectType": "Blog",
          "urlId": "6a00d8341e992c53ef00d8341e9a0553ef"
         },
         "content": "<p>Reader Chris P. points me to this <a href=\"https://www.sciencealert.com/the-periodic-table-could-be-organised-more-like-a-network-than-a-matrix\" title=\"Link to ScienceAlert\">article</a> about the design of the Periodic Table. I then learned that 2019 is the “International Year of the Periodic Table,” according to the United Nations.</p>\r\n<p>Here is the canonical design of the Periodic Table that science students are familiar with.</p>\r\n<p><a class=\"asset-img-link\" href=\"https://junkcharts.typepad.com/.a/6a00d8341e992c53ef0240a4691884200c-pi\" style=\"display: inline;\"><img alt=\"Wiki-Simple_Periodic_Table_Chart-en.svg\" class=\"asset  asset-image at-xid-6a00d8341e992c53ef0240a4691884200c img-responsive\" src=\"https://junkcharts.typepad.com/.a/6a00d8341e992c53ef0240a4691884200c-500wi\" style=\"width: 500px;\" title=\"Wiki-Simple_Periodic_Table_Chart-en.svg\" /></a></p>\r\n<p>(Source: <a href=\"https://en.wikipedia.org/wiki/Periodic_table\" title=\"Link to Wikipedia\">Wikipedia</a>.)</p>\r\n<p>The Periodic Table is an exercise of information organization and display. It&#39;s about adding structure to over 100 elements, so as to enhance comprehension and lookup. The canonical tabular design has columns and rows. The columns (Groups) impose a primary classification; the rows (Periods) provide a secondary classification. The elements also follow an aggregate order, which is traced by reading from top left to bottom right. The row structure makes clear the &quot;periodicity&quot; of the elements: the &quot;period&quot; of recurrence is not constant, tending to increase with the heavier elements at the bottom.</p>\r\n<p>As with most complex datasets, these elements defy simple organization, due to a curse of dimensionality. The general goal is to <strong>put the similar elements closer together</strong>. Similarity can be defined in an infinite number of ways, such as chemical, physical or statistical properties. The canonical design, usually attributed to Russian chemist Mendeleev, attained its status because the community accepted his organizing principles, that is, his definitions of similarity (subsequently modified).</p>\r\n<p>***</p>\r\n<p>Of interest, there is a list of unsettled issues. According to <a href=\"https://en.wikipedia.org/wiki/Periodic_table#Open_questions_and_controversies\" title=\"Link to wikipedia\">Wikipedia</a>, the most common arguments concern:</p>\r\n<ul>\r\n<li><em>Hydrogen</em>: typically shown as a member of Group 1 (first column), some argue that it doesn’t belong there since it is a gas not a metal. It is sometimes placed in Group 17 (halogens), where it forms a nice “triad” with fluorine and chlorine. Other designers just float hydrogen up top.</li>\r\n<li><em>Helium</em>: typically shown as a member of Group 18 (rightmost column), the&#0160; <span style=\"text-decoration: line-through;\">halogens</span> noble gases, it may also be placed in Group 2.</li>\r\n<li><em>Mercury</em>: usually found in Group 12, some argue that it is not a metal like cadmium and zinc.</li>\r\n<li><em>Group 3</em>: other than the first two elements , there are various voices about how to place the other elements in Group 3. In particular, the pairs of lanthanum / actinium and lutetium / lawrencium are sometimes shown in the main table, sometimes shown in the ‘f-orbital’ sub-table usually placed below the main table.</li>\r\n</ul>\r\n<p>***</p>\r\n<p>Over the years, there have been numerous attempts to re-design the Periodic table. Some of these are featured in the article that Chris sent me (<a href=\"https://www.sciencealert.com/the-periodic-table-could-be-organised-more-like-a-network-than-a-matrix\" title=\"Link to ScienceAlert\">link</a>).</p>\r\n<p>I checked how these alternative designs deal with those unsettled issues. The short answer is they don&#39;t settle the issues.</p>\r\n<p><strong>Wide Table (Janet)</strong></p>\r\n<p>The key change is to remove the separation between the main table and the f-orbital (pink) section shown below, as a &quot;footnote&quot;. This change clarifies the periodicity of the elements, especially the elongating periods as one moves down the table. This form is also called &quot;long step&quot;.</p>\r\n<p><a class=\"asset-img-link\" href=\"https://junkcharts.typepad.com/.a/6a00d8341e992c53ef0240a4695dad200c-pi\" style=\"display: inline;\"><img alt=\"Mg32190402_long_conventional\" class=\"asset  asset-image at-xid-6a00d8341e992c53ef0240a4695dad200c img-responsive\" src=\"https://junkcharts.typepad.com/.a/6a00d8341e992c53ef0240a4695dad200c-500wi\" style=\"width: 500px;\" title=\"Mg32190402_long_conventional\" /></a></p>\r\n<p>As a tradeoff, this table requires more space and has an awkward aspect ratio.</p>\r\n<p>In this version of the wide table, the designer chooses to stack lutetium / lawrencium in Group 3 as part of the main table. Other versions place lanthanum / actinium in Group 3 as part of the main table. There are even versions that leave Group 3 with two elements.</p>\r\n<p>Hydrogen, helium and mercury retain their conventional positions.</p>\r\n<p>&#0160;</p>\r\n<p><strong>Spiral Design (Hyde)</strong></p>\r\n<p>There are many attempts at spiral designs. Here is one I found on this <a href=\"https://markcareaga.tumblr.com/post/82358240742/periodic-representation-four-unusual-and\" title=\"Link to Mark Careaga\">tumblr</a>:</p>\r\n<p><a class=\"asset-img-link\" href=\"https://junkcharts.typepad.com/.a/6a00d8341e992c53ef0240a492964e200d-pi\" style=\"display: inline;\"><img alt=\"Hyde_periodictable\" class=\"asset  asset-image at-xid-6a00d8341e992c53ef0240a492964e200d img-responsive\" src=\"https://junkcharts.typepad.com/.a/6a00d8341e992c53ef0240a492964e200d-500wi\" style=\"width: 500px;\" title=\"Hyde_periodictable\" /></a></p>\r\n<p>The spiral leverages the correspondence between periodic and circular. It is visually more pleasing than a tabular arrangement. But there is a tradeoff. Because of the increasing &quot;diameter&quot; from inner to outer rings, the inner elements are visually constrained compared to the outer ones.</p>\r\n<p>In these spiral diagrams, the designer solves the aspect-ratio problem by creating local loops, sometimes called peninsulas. This is analogous to the footnote table solution, and visually distorts the longer periodicity of the heavier elements.</p>\r\n<p>For Hyde&#39;s diagram, hydrogen is floated, helium is assigned to Group 2, and mercury stays in Group 12.</p>\r\n<p>&#0160;</p>\r\n<p><strong>Racetrack</strong></p>\r\n<p>I also found this design on the same <a href=\"https://markcareaga.tumblr.com/post/82358240742/periodic-representation-four-unusual-and\" title=\"Link to Mark Careaga\">tumblr</a>, but unattributed. It may have come from <a href=\"https://books.google.co.uk/books?id=_04EAAAAMBAJ&amp;pg=PA68&amp;hl=en#v=onepage&amp;q&amp;f=false\" title=\"Link to Google Books\">Life</a> magazine.</p>\r\n<p><a class=\"asset-img-link\" href=\"https://junkcharts.typepad.com/.a/6a00d8341e992c53ef0240a4696035200c-pi\" style=\"display: inline;\"><img alt=\"Tumblr_n3tbz5rIKk1s3r80lo3_1280\" class=\"asset  asset-image at-xid-6a00d8341e992c53ef0240a4696035200c img-responsive\" src=\"https://junkcharts.typepad.com/.a/6a00d8341e992c53ef0240a4696035200c-500wi\" style=\"width: 500px;\" title=\"Tumblr_n3tbz5rIKk1s3r80lo3_1280\" /></a></p>\r\n<p>It&#39;s a variant of the spiral. Instead of peninsulas, the designer squeezes the f-orbital section under Group 3, so this is analogous to the wide table solution.</p>\r\n<p>The circular diagrams convey the sense of periodic return but the wide table displays the magnitudes more clearly.</p>\r\n<p>This designer places hydrogen in group 18 forming a triad with fluorine and chlorine. Helium is in Group 17 and mercury in the usual Group 12 .</p>\r\n<p>&#0160;</p>\r\n<p><strong>Cartogram (Sheehan)</strong></p>\r\n<p>This version is different.</p>\r\n<p><a class=\"asset-img-link\" href=\"https://junkcharts.typepad.com/.a/6a00d8341e992c53ef0240a4b747b7200b-pi\" style=\"display: inline;\"><img alt=\"Elements_relative_abundance\" class=\"asset  asset-image at-xid-6a00d8341e992c53ef0240a4b747b7200b img-responsive\" src=\"https://junkcharts.typepad.com/.a/6a00d8341e992c53ef0240a4b747b7200b-450wi\" style=\"width: 450px;\" title=\"Elements_relative_abundance\" /></a></p>\r\n<p>The designer chooses a statistical property (abundance) as the primary organizing principle. The key insight is that the lighter elements in the top few rows are generally more abundant - thus more important in a sense. The cartogram reveals a key weakness of the spiral diagrams that draw the reader&#39;s attention to the outer (heavier) elements.</p>\r\n<p>Because of the distorted shapes, the cartogram form obscures much of the other data. In terms of the unsettled issues, hydrogen and helium are placed in Groups 1 and 2. Mercury is in Group 12. Group 3 is squeezed inside the main table rather than shown below.</p>\r\n<p>&#0160;</p>\r\n<p><strong>Network</strong></p>\r\n<p>The centerpiece of the article Chris sent me is a network graph.</p>\r\n<p><a class=\"asset-img-link\" href=\"https://junkcharts.typepad.com/.a/6a00d8341e992c53ef0240a4b77eb8200b-pi\" style=\"display: inline;\"><img alt=\"Periodic-bonds_1024\" class=\"asset  asset-image at-xid-6a00d8341e992c53ef0240a4b77eb8200b img-responsive\" src=\"https://junkcharts.typepad.com/.a/6a00d8341e992c53ef0240a4b77eb8200b-500wi\" style=\"width: 500px;\" title=\"Periodic-bonds_1024\" /></a></p>\r\n<p>This is a complete redesign, de-emphasizing the periodicity. It&#39;s a result of radically changing the definition of similarity between elements. One barrier when introducing entirely new displays is the tendency of readers to expect the familiar.</p>\r\n<p><strong>***</strong></p>\r\n<p>I found the following articles useful when researching this post:</p>\r\n<p><a href=\"https://theconversation.com/the-periodic-table-from-its-classic-design-to-use-in-popular-culture-52822\" title=\"Link to the Conversation\">The Conversation</a></p>\r\n<p><a href=\"https://eic.rsc.org/feature/trouble-in-the-periodic-table/2020266.article\" title=\"Link to Royal Chemistry Society\">Royal Chemistry Society</a></p>\r\n<p>&#0160;</p>",
         "description": "Kaiser Fung (JunkCharts, Principal Analytics Prep) explores the design choices behind different visualizations of the Periodic Table.",
         "embeddedAudioLinks": [],
         "embeddedImageLinks": [
          {
           "height": 1355,
           "url": "https://a4.typepad.com/6a00d8341e992c53ef0240a4691884200c-pi",
           "urlTemplate": "https://a4.typepad.com/6a00d8341e992c53ef0240a4691884200c-{spec}",
           "width": 2560
          },
          {
           "height": 690,
           "url": "https://a5.typepad.com/6a00d8341e992c53ef0240a4695dad200c-pi",
           "urlTemplate": "https://a5.typepad.com/6a00d8341e992c53ef0240a4695dad200c-{spec}",
           "width": 2103
          },
          {
           "height": 897,
           "url": "https://a6.typepad.com/6a00d8341e992c53ef0240a492964e200d-pi",
           "urlTemplate": "https://a6.typepad.com/6a00d8341e992c53ef0240a492964e200d-{spec}",
           "width": 1200
          },
          {
           "height": 741,
           "url": "https://a5.typepad.com/6a00d8341e992c53ef0240a4696035200c-pi",
           "urlTemplate": "https://a5.typepad.com/6a00d8341e992c53ef0240a4696035200c-{spec}",
           "width": 1200
          },
          {
           "height": 868,
           "url": "https://a7.typepad.com/6a00d8341e992c53ef0240a4b747b7200b-pi",
           "urlTemplate": "https://a7.typepad.com/6a00d8341e992c53ef0240a4b747b7200b-{spec}",
           "width": 1092
          },
          {
           "height": 415,
           "url": "https://a0.typepad.com/6a00d8341e992c53ef0240a4b77eb8200b-pi",
           "urlTemplate": "https://a0.typepad.com/6a00d8341e992c53ef0240a4b77eb8200b-{spec}",
           "width": 1024
          }
         ],
         "embeddedVideoLinks": [],
         "excerpt": "Kaiser Fung (JunkCharts, Principal Analytics Prep) explores the design choices behind different visualizations of the Periodic Table.",
         "favoriteCount": 0,
         "filename": "the-periodic-table-a-challenge-in-information-organization",
         "groups": [],
         "hasExtendedContent": false,
         "id": "tag:api.typepad.com,2009:6a00d8341e992c53ef0240a46918e2200c",
         "objectType": "Post",
         "objectTypes": [
          "tag:api.typepad.com,2009:Post"
         ],
         "permalinkUrl": "https://junkcharts.typepad.com/junk_charts/2019/06/the-periodic-table-a-challenge-in-information-organization.html",
         "published": "2019-06-24T12:25:00Z",
         "reblogCount": 0,
         "renderedContent": "<p>Reader Chris P. points me to this <a href=\"https://www.sciencealert.com/the-periodic-table-could-be-organised-more-like-a-network-than-a-matrix\" title=\"Link to ScienceAlert\">article</a> about the design of the Periodic Table. I then learned that 2019 is the “International Year of the Periodic Table,” according to the United Nations.</p>\r\n<p>Here is the canonical design of the Periodic Table that science students are familiar with.</p>\r\n<p><a class=\"asset-img-link\" href=\"https://junkcharts.typepad.com/.a/6a00d8341e992c53ef0240a4691884200c-pi\" style=\"display: inline;\"><img alt=\"Wiki-Simple_Periodic_Table_Chart-en.svg\" class=\"asset  asset-image at-xid-6a00d8341e992c53ef0240a4691884200c img-responsive\" src=\"https://junkcharts.typepad.com/.a/6a00d8341e992c53ef0240a4691884200c-500wi\" style=\"width: 500px;\" title=\"Wiki-Simple_Periodic_Table_Chart-en.svg\" /></a></p>\r\n<p>(Source: <a href=\"https://en.wikipedia.org/wiki/Periodic_table\" title=\"Link to Wikipedia\">Wikipedia</a>.)</p>\r\n<p>The Periodic Table is an exercise of information organization and display. It&#39;s about adding structure to over 100 elements, so as to enhance comprehension and lookup. The canonical tabular design has columns and rows. The columns (Groups) impose a primary classification; the rows (Periods) provide a secondary classification. The elements also follow an aggregate order, which is traced by reading from top left to bottom right. The row structure makes clear the &quot;periodicity&quot; of the elements: the &quot;period&quot; of recurrence is not constant, tending to increase with the heavier elements at the bottom.</p>\r\n<p>As with most complex datasets, these elements defy simple organization, due to a curse of dimensionality. The general goal is to <strong>put the similar elements closer together</strong>. Similarity can be defined in an infinite number of ways, such as chemical, physical or statistical properties. The canonical design, usually attributed to Russian chemist Mendeleev, attained its status because the community accepted his organizing principles, that is, his definitions of similarity (subsequently modified).</p>\r\n<p>***</p>\r\n<p>Of interest, there is a list of unsettled issues. According to <a href=\"https://en.wikipedia.org/wiki/Periodic_table#Open_questions_and_controversies\" title=\"Link to wikipedia\">Wikipedia</a>, the most common arguments concern:</p>\r\n<ul>\r\n<li><em>Hydrogen</em>: typically shown as a member of Group 1 (first column), some argue that it doesn’t belong there since it is a gas not a metal. It is sometimes placed in Group 17 (halogens), where it forms a nice “triad” with fluorine and chlorine. Other designers just float hydrogen up top.</li>\r\n<li><em>Helium</em>: typically shown as a member of Group 18 (rightmost column), the&#0160; <span style=\"text-decoration: line-through;\">halogens</span> noble gases, it may also be placed in Group 2.</li>\r\n<li><em>Mercury</em>: usually found in Group 12, some argue that it is not a metal like cadmium and zinc.</li>\r\n<li><em>Group 3</em>: other than the first two elements , there are various voices about how to place the other elements in Group 3. In particular, the pairs of lanthanum / actinium and lutetium / lawrencium are sometimes shown in the main table, sometimes shown in the ‘f-orbital’ sub-table usually placed below the main table.</li>\r\n</ul>\r\n<p>***</p>\r\n<p>Over the years, there have been numerous attempts to re-design the Periodic table. Some of these are featured in the article that Chris sent me (<a href=\"https://www.sciencealert.com/the-periodic-table-could-be-organised-more-like-a-network-than-a-matrix\" title=\"Link to ScienceAlert\">link</a>).</p>\r\n<p>I checked how these alternative designs deal with those unsettled issues. The short answer is they don&#39;t settle the issues.</p>\r\n<p><strong>Wide Table (Janet)</strong></p>\r\n<p>The key change is to remove the separation between the main table and the f-orbital (pink) section shown below, as a &quot;footnote&quot;. This change clarifies the periodicity of the elements, especially the elongating periods as one moves down the table. This form is also called &quot;long step&quot;.</p>\r\n<p><a class=\"asset-img-link\" href=\"https://junkcharts.typepad.com/.a/6a00d8341e992c53ef0240a4695dad200c-pi\" style=\"display: inline;\"><img alt=\"Mg32190402_long_conventional\" class=\"asset  asset-image at-xid-6a00d8341e992c53ef0240a4695dad200c img-responsive\" src=\"https://junkcharts.typepad.com/.a/6a00d8341e992c53ef0240a4695dad200c-500wi\" style=\"width: 500px;\" title=\"Mg32190402_long_conventional\" /></a></p>\r\n<p>As a tradeoff, this table requires more space and has an awkward aspect ratio.</p>\r\n<p>In this version of the wide table, the designer chooses to stack lutetium / lawrencium in Group 3 as part of the main table. Other versions place lanthanum / actinium in Group 3 as part of the main table. There are even versions that leave Group 3 with two elements.</p>\r\n<p>Hydrogen, helium and mercury retain their conventional positions.</p>\r\n<p>&#0160;</p>\r\n<p><strong>Spiral Design (Hyde)</strong></p>\r\n<p>There are many attempts at spiral designs. Here is one I found on this <a href=\"https://markcareaga.tumblr.com/post/82358240742/periodic-representation-four-unusual-and\" title=\"Link to Mark Careaga\">tumblr</a>:</p>\r\n<p><a class=\"asset-img-link\" href=\"https://junkcharts.typepad.com/.a/6a00d8341e992c53ef0240a492964e200d-pi\" style=\"display: inline;\"><img alt=\"Hyde_periodictable\" class=\"asset  asset-image at-xid-6a00d8341e992c53ef0240a492964e200d img-responsive\" src=\"https://junkcharts.typepad.com/.a/6a00d8341e992c53ef0240a492964e200d-500wi\" style=\"width: 500px;\" title=\"Hyde_periodictable\" /></a></p>\r\n<p>The spiral leverages the correspondence between periodic and circular. It is visually more pleasing than a tabular arrangement. But there is a tradeoff. Because of the increasing &quot;diameter&quot; from inner to outer rings, the inner elements are visually constrained compared to the outer ones.</p>\r\n<p>In these spiral diagrams, the designer solves the aspect-ratio problem by creating local loops, sometimes called peninsulas. This is analogous to the footnote table solution, and visually distorts the longer periodicity of the heavier elements.</p>\r\n<p>For Hyde&#39;s diagram, hydrogen is floated, helium is assigned to Group 2, and mercury stays in Group 12.</p>\r\n<p>&#0160;</p>\r\n<p><strong>Racetrack</strong></p>\r\n<p>I also found this design on the same <a href=\"https://markcareaga.tumblr.com/post/82358240742/periodic-representation-four-unusual-and\" title=\"Link to Mark Careaga\">tumblr</a>, but unattributed. It may have come from <a href=\"https://books.google.co.uk/books?id=_04EAAAAMBAJ&amp;pg=PA68&amp;hl=en#v=onepage&amp;q&amp;f=false\" title=\"Link to Google Books\">Life</a> magazine.</p>\r\n<p><a class=\"asset-img-link\" href=\"https://junkcharts.typepad.com/.a/6a00d8341e992c53ef0240a4696035200c-pi\" style=\"display: inline;\"><img alt=\"Tumblr_n3tbz5rIKk1s3r80lo3_1280\" class=\"asset  asset-image at-xid-6a00d8341e992c53ef0240a4696035200c img-responsive\" src=\"https://junkcharts.typepad.com/.a/6a00d8341e992c53ef0240a4696035200c-500wi\" style=\"width: 500px;\" title=\"Tumblr_n3tbz5rIKk1s3r80lo3_1280\" /></a></p>\r\n<p>It&#39;s a variant of the spiral. Instead of peninsulas, the designer squeezes the f-orbital section under Group 3, so this is analogous to the wide table solution.</p>\r\n<p>The circular diagrams convey the sense of periodic return but the wide table displays the magnitudes more clearly.</p>\r\n<p>This designer places hydrogen in group 18 forming a triad with fluorine and chlorine. Helium is in Group 17 and mercury in the usual Group 12 .</p>\r\n<p>&#0160;</p>\r\n<p><strong>Cartogram (Sheehan)</strong></p>\r\n<p>This version is different.</p>\r\n<p><a class=\"asset-img-link\" href=\"https://junkcharts.typepad.com/.a/6a00d8341e992c53ef0240a4b747b7200b-pi\" style=\"display: inline;\"><img alt=\"Elements_relative_abundance\" class=\"asset  asset-image at-xid-6a00d8341e992c53ef0240a4b747b7200b img-responsive\" src=\"https://junkcharts.typepad.com/.a/6a00d8341e992c53ef0240a4b747b7200b-450wi\" style=\"width: 450px;\" title=\"Elements_relative_abundance\" /></a></p>\r\n<p>The designer chooses a statistical property (abundance) as the primary organizing principle. The key insight is that the lighter elements in the top few rows are generally more abundant - thus more important in a sense. The cartogram reveals a key weakness of the spiral diagrams that draw the reader&#39;s attention to the outer (heavier) elements.</p>\r\n<p>Because of the distorted shapes, the cartogram form obscures much of the other data. In terms of the unsettled issues, hydrogen and helium are placed in Groups 1 and 2. Mercury is in Group 12. Group 3 is squeezed inside the main table rather than shown below.</p>\r\n<p>&#0160;</p>\r\n<p><strong>Network</strong></p>\r\n<p>The centerpiece of the article Chris sent me is a network graph.</p>\r\n<p><a class=\"asset-img-link\" href=\"https://junkcharts.typepad.com/.a/6a00d8341e992c53ef0240a4b77eb8200b-pi\" style=\"display: inline;\"><img alt=\"Periodic-bonds_1024\" class=\"asset  asset-image at-xid-6a00d8341e992c53ef0240a4b77eb8200b img-responsive\" src=\"https://junkcharts.typepad.com/.a/6a00d8341e992c53ef0240a4b77eb8200b-500wi\" style=\"width: 500px;\" title=\"Periodic-bonds_1024\" /></a></p>\r\n<p>This is a complete redesign, de-emphasizing the periodicity. It&#39;s a result of radically changing the definition of similarity between elements. One barrier when introducing entirely new displays is the tendency of readers to expect the familiar.</p>\r\n<p><strong>***</strong></p>\r\n<p>I found the following articles useful when researching this post:</p>\r\n<p><a href=\"https://theconversation.com/the-periodic-table-from-its-classic-design-to-use-in-popular-culture-52822\" title=\"Link to the Conversation\">The Conversation</a></p>\r\n<p><a href=\"https://eic.rsc.org/feature/trouble-in-the-periodic-table/2020266.article\" title=\"Link to Royal Chemistry Society\">Royal Chemistry Society</a></p>\r\n<p>&#0160;</p>",
         "shortUrl": "http://bit.ly/2XsM2fJ",
         "textFormat": "html",
         "title": "The Periodic Table, a challenge in information organization",
         "urlId": "6a00d8341e992c53ef0240a46918e2200c"
        },
        {
         "author": {
          "aboutMe": "Kaiser Fung, Author, Junk Charts, Numbersense, Numbers Rule Your World",
          "avatarLink": {
           "height": 250,
           "url": "https://static.typepad.com/.shared/default-userpics/03-250si.gif",
           "width": 250
          },
          "displayName": "junkcharts",
          "id": "tag:api.typepad.com,2009:6p00d8341e992c53ef",
          "interests": [
           "practical statistics",
           "data visualization",
           "business analytics",
           "bootcamp",
           "data science"
          ],
          "location": null,
          "objectType": "User",
          "objectTypes": [
           "tag:api.typepad.com,2009:User"
          ],
          "preferredUsername": "junkcharts",
          "profilePageUrl": "http://profile.typepad.com/junkcharts",
          "urlId": "6p00d8341e992c53ef"
         },
         "categories": [
          "Current Affairs",
          "Education",
          "Line chart"
         ],
         "commentCount": 0,
         "container": {
          "displayName": "Junk Charts",
          "homeUrl": "https://junkcharts.typepad.com/junk_charts/",
          "id": "tag:api.typepad.com,2009:6a00d8341e992c53ef00d8341e9a0553ef",
          "objectType": "Blog",
          "urlId": "6a00d8341e992c53ef00d8341e9a0553ef"
         },
         "content": "<p>Been experimenting with short videos recently. My <a href=\"https://youtu.be/aKgPXxcLm-Q\" title=\"Link to Youtube\">latest</a> is a short explainer on why some parents are willing to spend over a million dollars to open back doors to college admissions. I even inserted a chart showing some statistics. Click <a href=\"https://youtu.be/aKgPXxcLm-Q\" title=\"Link to Youtube\">here</a> to see the video.</p>\r\n<p>&#0160;</p>\r\n<p class=\"asset-video\"><iframe allow=\"accelerometer; autoplay; encrypted-media; gyroscope; picture-in-picture\" allowfullscreen=\"\" frameborder=\"0\" height=\"281\" src=\"https://www.youtube.com/embed/aKgPXxcLm-Q?feature=oembed\" width=\"500\"></iframe></p>\r\n<p>Also, subscribe to my <a href=\"https://youtube.com/c/KaiserFungPrincipalAnalyticsPrep\" title=\"Link to YoutubeChannel\">channel</a> to see future episodes of <strong>Inside the Black Box.</strong></p>\r\n<p><strong>***</strong></p>\r\n<p>Here are a couple of recent posts related to college admissions.</p>\r\n<ul>\r\n<li>About those so-called adversity scores (<a href=\"https://junkcharts.typepad.com/numbersruleyourworld/2019/06/college-board-adversity-score-controversy-its-an-argument-over-all-else-being-equal.html\" title=\"Link to Big Data Plainly Spoken blog\">link</a>)</li>\r\n<li>A more detailed post on various college admissions statistics (<a href=\"https://junkcharts.typepad.com/junk_charts/2019/04/visually-exploring-the-relationship-between-college-applicants-and-enrollment.html\" title=\"Link to prior post\">link</a>)</li>\r\n</ul>",
         "description": "",
         "embeddedAudioLinks": [],
         "embeddedImageLinks": [],
         "embeddedVideoLinks": [
          {
           "embedCode": "<iframe allow=\"accelerometer; autoplay; encrypted-media; gyroscope; picture-in-picture\" allowfullscreen=\"\" frameborder=\"0\" height=\"281\" src=\"https://www.youtube.com/embed/aKgPXxcLm-Q?feature=oembed\" width=\"500\"></iframe>"
          }
         ],
         "excerpt": "Been experimenting with short videos recently. My latest is a short explainer on why some parents are willing to spend over a million dollars to open back doors to college admissions. I even inserted a chart showing some statistics. Click...",
         "favoriteCount": 0,
         "filename": "a-chart-makes-an-appearance-in-my-new-video",
         "groups": [],
         "hasExtendedContent": false,
         "id": "tag:api.typepad.com,2009:6a00d8341e992c53ef0240a467b9a6200c",
         "objectType": "Post",
         "objectTypes": [
          "tag:api.typepad.com,2009:Post"
         ],
         "permalinkUrl": "https://junkcharts.typepad.com/junk_charts/2019/06/a-chart-makes-an-appearance-in-my-new-video.html",
         "published": "2019-06-19T14:15:00Z",
         "reblogCount": 0,
         "renderedContent": "<p>Been experimenting with short videos recently. My <a href=\"https://youtu.be/aKgPXxcLm-Q\" title=\"Link to Youtube\">latest</a> is a short explainer on why some parents are willing to spend over a million dollars to open back doors to college admissions. I even inserted a chart showing some statistics. Click <a href=\"https://youtu.be/aKgPXxcLm-Q\" title=\"Link to Youtube\">here</a> to see the video.</p>\r\n<p>&#0160;</p>\r\n<p class=\"asset-video\"><iframe allow=\"accelerometer; autoplay; encrypted-media; gyroscope; picture-in-picture\" allowfullscreen=\"\" frameborder=\"0\" height=\"281\" src=\"https://www.youtube.com/embed/aKgPXxcLm-Q?feature=oembed\" width=\"500\"></iframe></p>\r\n<p>Also, subscribe to my <a href=\"https://youtube.com/c/KaiserFungPrincipalAnalyticsPrep\" title=\"Link to YoutubeChannel\">channel</a> to see future episodes of <strong>Inside the Black Box.</strong></p>\r\n<p><strong>***</strong></p>\r\n<p>Here are a couple of recent posts related to college admissions.</p>\r\n<ul>\r\n<li>About those so-called adversity scores (<a href=\"https://junkcharts.typepad.com/numbersruleyourworld/2019/06/college-board-adversity-score-controversy-its-an-argument-over-all-else-being-equal.html\" title=\"Link to Big Data Plainly Spoken blog\">link</a>)</li>\r\n<li>A more detailed post on various college admissions statistics (<a href=\"https://junkcharts.typepad.com/junk_charts/2019/04/visually-exploring-the-relationship-between-college-applicants-and-enrollment.html\" title=\"Link to prior post\">link</a>)</li>\r\n</ul>",
         "shortUrl": "http://bit.ly/2ZExIhX",
         "textFormat": "html",
         "title": "A chart makes an appearance in my new video",
         "urlId": "6a00d8341e992c53ef0240a467b9a6200c"
        },
        {
         "author": {
          "aboutMe": "Kaiser Fung, Author, Junk Charts, Numbersense, Numbers Rule Your World",
          "avatarLink": {
           "height": 250,
           "url": "https://static.typepad.com/.shared/default-userpics/03-250si.gif",
           "width": 250
          },
          "displayName": "junkcharts",
          "id": "tag:api.typepad.com,2009:6p00d8341e992c53ef",
          "interests": [
           "practical statistics",
           "data visualization",
           "business analytics",
           "bootcamp",
           "data science"
          ],
          "location": null,
          "objectType": "User",
          "objectTypes": [
           "tag:api.typepad.com,2009:User"
          ],
          "preferredUsername": "junkcharts",
          "profilePageUrl": "http://profile.typepad.com/junkcharts",
          "urlId": "6p00d8341e992c53ef"
         },
         "categories": [
          "Axis",
          "Color",
          "Comparability",
          "Composition",
          "Dot plot",
          "Legend",
          "Scatter plot",
          "Trifecta checkup"
         ],
         "commentCount": 0,
         "container": {
          "displayName": "Junk Charts",
          "homeUrl": "https://junkcharts.typepad.com/junk_charts/",
          "id": "tag:api.typepad.com,2009:6a00d8341e992c53ef00d8341e9a0553ef",
          "objectType": "Blog",
          "urlId": "6a00d8341e992c53ef00d8341e9a0553ef"
         },
         "content": "<p>Reader Chris P. submitted the following graph, found on <a href=\"https://amp.axios.com/news-consumption-read-topics-56467fe6-81bd-4ae5-9173-cdff9865deda.html\" title=\"Link to Axios\">Axios</a>:</p>\r\n<p><a class=\"asset-img-link\" href=\"https://junkcharts.typepad.com/.a/6a00d8341e992c53ef0240a4b4776a200b-pi\" style=\"display: inline;\"><img alt=\"Axios_newstopics\" class=\"asset  asset-image at-xid-6a00d8341e992c53ef0240a4b4776a200b img-responsive\" src=\"https://junkcharts.typepad.com/.a/6a00d8341e992c53ef0240a4b4776a200b-300wi\" style=\"width: 300px;\" title=\"Axios_newstopics\" /></a></p>\r\n<p>From a Trifecta Checkup perspective, the chart has a clear question: are consumers getting what they wanted to read in the news they are reading?</p>\r\n<p>Nevertheless, the chart is a visual mess, and the underlying data analytics fail to convince. So, it’s a Type DV chart. (See this <a href=\"https://bitly.com/trifectacheckup\" title=\"Guide to Trifecta Checkup\">overview</a> of the Trifecta Checkup for the taxonomy.)</p>\r\n<p>***</p>\r\n<p>The designer did something tricky with the <a href=\"https://junkcharts.typepad.com/junk_charts/axis\" title=\"Posts about axis\">axis</a> but the trick went off the rails. The underlying data consist of two set of ranks, one for news people consumed and the other for news people wanted covered. With 14 topics included in the study, the two data series contain the same values, 1 to 14. The trick is to collapse both axes onto one. The trouble is that the same value occurs twice, and the reader must differentiate the plot symbols (triangle or circle) to figure out which is which.</p>\r\n<p>It does not help that the lines look like arrows suggesting movement. Without first reading the text, readers may assume that topics change in rank between two periods of time. Some topics moved right, increasing in importance while others shifted left.</p>\r\n<p>The design wisely separated the 14 topics into three logical groups. The blue group comprises news topics for which “want covered” ranking exceeds the “read” ranking. The orange group has the opposite disposition such that the data for “read” sit to the right side of the data for “want covered”. Unfortunately, the <a href=\"https://junkcharts.typepad.com/junk_charts/legend\" title=\"Posts about legend\">legend</a> up top does more harm than good: it literally takes sides!</p>\r\n<p>**</p>\r\n<p>Here, I&#39;ve put the data onto a <a href=\"https://junkcharts.typepad.com/junk_charts/scatter_plot\" title=\"Posts about scatter plots\">scatter plot</a>:</p>\r\n<p><a class=\"asset-img-link\" href=\"https://junkcharts.typepad.com/.a/6a00d8341e992c53ef0240a4b479a5200b-pi\" style=\"display: inline;\"><img alt=\"Redo_junkcharts_aiosnewstopics_1\" class=\"asset  asset-image at-xid-6a00d8341e992c53ef0240a4b479a5200b img-responsive\" src=\"https://junkcharts.typepad.com/.a/6a00d8341e992c53ef0240a4b479a5200b-300wi\" style=\"width: 270px;\" title=\"Redo_junkcharts_aiosnewstopics_1\" /></a></p>\r\n<p>The two sets of ranks are basically uncorrelated, as the regression line is almost flat, with “R-squared” of 0.02.</p>\r\n<p>The analyst tried to &quot;rescue&quot; the data in the following way. Draw the 45-degree line, and color the points above the diagonal blue, and those below the diagonal orange. Color the points on the line gray. Then, write stories about those three subgroups.</p>\r\n<p><a class=\"asset-img-link\" href=\"https://junkcharts.typepad.com/.a/6a00d8341e992c53ef0240a4669ce4200c-pi\" style=\"display: inline;\"><img alt=\"Redo_junkcharts_aiosnewstopics_2\" class=\"asset  asset-image at-xid-6a00d8341e992c53ef0240a4669ce4200c img-responsive\" src=\"https://junkcharts.typepad.com/.a/6a00d8341e992c53ef0240a4669ce4200c-300wi\" style=\"width: 270px;\" title=\"Redo_junkcharts_aiosnewstopics_2\" /></a></p>\r\n<p>Further, the ranking of what was read came from Parse.ly, which appears to be surveillance data (“traffic analytics”) while the ranking of what people want covered came from an Axios/SurveyMonkey poll. As for as I could tell, there was no attempt to establish that the two populations are compatible and <a href=\"https://junkcharts.typepad.com/junk_charts/comparability\" title=\"Posts about comparisons\">comparable</a>.</p>\r\n<p>&#0160;</p>\r\n<p>&#0160;</p>\r\n<p>&#0160;</p>\r\n<p>&#0160;</p>\r\n<p>&#0160;</p>",
         "description": "Kaiser Fung (Junkcharts, Principal Analytics Prep) reacts to an Axios chart showing a gap between what readers want covered in the news and what they consume.",
         "embeddedAudioLinks": [],
         "embeddedImageLinks": [
          {
           "height": 1400,
           "url": "https://a2.typepad.com/6a00d8341e992c53ef0240a4b4776a200b-pi",
           "urlTemplate": "https://a2.typepad.com/6a00d8341e992c53ef0240a4b4776a200b-{spec}",
           "width": 1350
          },
          {
           "height": 1086,
           "url": "https://a5.typepad.com/6a00d8341e992c53ef0240a4b479a5200b-pi",
           "urlTemplate": "https://a5.typepad.com/6a00d8341e992c53ef0240a4b479a5200b-{spec}",
           "width": 1238
          },
          {
           "height": 1088,
           "url": "https://a4.typepad.com/6a00d8341e992c53ef0240a4669ce4200c-pi",
           "urlTemplate": "https://a4.typepad.com/6a00d8341e992c53ef0240a4669ce4200c-{spec}",
           "width": 1200
          }
         ],
         "embeddedVideoLinks": [],
         "excerpt": "Kaiser Fung (Junkcharts, Principal Analytics Prep) reacts to an Axios chart showing a gap between what readers want covered in the news and what they consume.",
         "favoriteCount": 0,
         "filename": "wayward-legend-takes-sides-in-a-chart-of-two-sides-plus-data-woes",
         "groups": [],
         "hasExtendedContent": false,
         "id": "tag:api.typepad.com,2009:6a00d8341e992c53ef0240a4669b2c200c",
         "objectType": "Post",
         "objectTypes": [
          "tag:api.typepad.com,2009:Post"
         ],
         "permalinkUrl": "https://junkcharts.typepad.com/junk_charts/2019/06/wayward-legend-takes-sides-in-a-chart-of-two-sides-plus-data-woes.html",
         "published": "2019-06-17T12:55:00Z",
         "reblogCount": 0,
         "renderedContent": "<p>Reader Chris P. submitted the following graph, found on <a href=\"https://amp.axios.com/news-consumption-read-topics-56467fe6-81bd-4ae5-9173-cdff9865deda.html\" title=\"Link to Axios\">Axios</a>:</p>\r\n<p><a class=\"asset-img-link\" href=\"https://junkcharts.typepad.com/.a/6a00d8341e992c53ef0240a4b4776a200b-pi\" style=\"display: inline;\"><img alt=\"Axios_newstopics\" class=\"asset  asset-image at-xid-6a00d8341e992c53ef0240a4b4776a200b img-responsive\" src=\"https://junkcharts.typepad.com/.a/6a00d8341e992c53ef0240a4b4776a200b-300wi\" style=\"width: 300px;\" title=\"Axios_newstopics\" /></a></p>\r\n<p>From a Trifecta Checkup perspective, the chart has a clear question: are consumers getting what they wanted to read in the news they are reading?</p>\r\n<p>Nevertheless, the chart is a visual mess, and the underlying data analytics fail to convince. So, it’s a Type DV chart. (See this <a href=\"https://bitly.com/trifectacheckup\" title=\"Guide to Trifecta Checkup\">overview</a> of the Trifecta Checkup for the taxonomy.)</p>\r\n<p>***</p>\r\n<p>The designer did something tricky with the <a href=\"https://junkcharts.typepad.com/junk_charts/axis\" title=\"Posts about axis\">axis</a> but the trick went off the rails. The underlying data consist of two set of ranks, one for news people consumed and the other for news people wanted covered. With 14 topics included in the study, the two data series contain the same values, 1 to 14. The trick is to collapse both axes onto one. The trouble is that the same value occurs twice, and the reader must differentiate the plot symbols (triangle or circle) to figure out which is which.</p>\r\n<p>It does not help that the lines look like arrows suggesting movement. Without first reading the text, readers may assume that topics change in rank between two periods of time. Some topics moved right, increasing in importance while others shifted left.</p>\r\n<p>The design wisely separated the 14 topics into three logical groups. The blue group comprises news topics for which “want covered” ranking exceeds the “read” ranking. The orange group has the opposite disposition such that the data for “read” sit to the right side of the data for “want covered”. Unfortunately, the <a href=\"https://junkcharts.typepad.com/junk_charts/legend\" title=\"Posts about legend\">legend</a> up top does more harm than good: it literally takes sides!</p>\r\n<p>**</p>\r\n<p>Here, I&#39;ve put the data onto a <a href=\"https://junkcharts.typepad.com/junk_charts/scatter_plot\" title=\"Posts about scatter plots\">scatter plot</a>:</p>\r\n<p><a class=\"asset-img-link\" href=\"https://junkcharts.typepad.com/.a/6a00d8341e992c53ef0240a4b479a5200b-pi\" style=\"display: inline;\"><img alt=\"Redo_junkcharts_aiosnewstopics_1\" class=\"asset  asset-image at-xid-6a00d8341e992c53ef0240a4b479a5200b img-responsive\" src=\"https://junkcharts.typepad.com/.a/6a00d8341e992c53ef0240a4b479a5200b-300wi\" style=\"width: 270px;\" title=\"Redo_junkcharts_aiosnewstopics_1\" /></a></p>\r\n<p>The two sets of ranks are basically uncorrelated, as the regression line is almost flat, with “R-squared” of 0.02.</p>\r\n<p>The analyst tried to &quot;rescue&quot; the data in the following way. Draw the 45-degree line, and color the points above the diagonal blue, and those below the diagonal orange. Color the points on the line gray. Then, write stories about those three subgroups.</p>\r\n<p><a class=\"asset-img-link\" href=\"https://junkcharts.typepad.com/.a/6a00d8341e992c53ef0240a4669ce4200c-pi\" style=\"display: inline;\"><img alt=\"Redo_junkcharts_aiosnewstopics_2\" class=\"asset  asset-image at-xid-6a00d8341e992c53ef0240a4669ce4200c img-responsive\" src=\"https://junkcharts.typepad.com/.a/6a00d8341e992c53ef0240a4669ce4200c-300wi\" style=\"width: 270px;\" title=\"Redo_junkcharts_aiosnewstopics_2\" /></a></p>\r\n<p>Further, the ranking of what was read came from Parse.ly, which appears to be surveillance data (“traffic analytics”) while the ranking of what people want covered came from an Axios/SurveyMonkey poll. As for as I could tell, there was no attempt to establish that the two populations are compatible and <a href=\"https://junkcharts.typepad.com/junk_charts/comparability\" title=\"Posts about comparisons\">comparable</a>.</p>\r\n<p>&#0160;</p>\r\n<p>&#0160;</p>\r\n<p>&#0160;</p>\r\n<p>&#0160;</p>\r\n<p>&#0160;</p>",
         "shortUrl": "http://bit.ly/2Xj1cnM",
         "textFormat": "html",
         "title": "Wayward legend takes sides in a chart of two sides, plus data woes",
         "urlId": "6a00d8341e992c53ef0240a4669b2c200c"
        },
        {
         "author": {
          "aboutMe": "Kaiser Fung, Author, Junk Charts, Numbersense, Numbers Rule Your World",
          "avatarLink": {
           "height": 250,
           "url": "https://static.typepad.com/.shared/default-userpics/03-250si.gif",
           "width": 250
          },
          "displayName": "junkcharts",
          "id": "tag:api.typepad.com,2009:6p00d8341e992c53ef",
          "interests": [
           "practical statistics",
           "data visualization",
           "business analytics",
           "bootcamp",
           "data science"
          ],
          "location": null,
          "objectType": "User",
          "objectTypes": [
           "tag:api.typepad.com,2009:User"
          ],
          "preferredUsername": "junkcharts",
          "profilePageUrl": "http://profile.typepad.com/junkcharts",
          "urlId": "6p00d8341e992c53ef"
         },
         "categories": [
          "Axis",
          "Color",
          "Comparability",
          "Economics",
          "Gridlines",
          "Legend",
          "Line chart",
          "Text",
          "Time series"
         ],
         "commentCount": 1,
         "container": {
          "displayName": "Junk Charts",
          "homeUrl": "https://junkcharts.typepad.com/junk_charts/",
          "id": "tag:api.typepad.com,2009:6a00d8341e992c53ef00d8341e9a0553ef",
          "objectType": "Blog",
          "urlId": "6a00d8341e992c53ef00d8341e9a0553ef"
         },
         "content": "<p>If you&#39;re pondering over the following chart for five minutes or more, don&#39;t be ashamed. I took longer than that.</p>\r\n<p><a class=\"asset-img-link\" href=\"https://junkcharts.typepad.com/.a/6a00d8341e992c53ef0240a4b227d7200b-pi\" style=\"display: inline;\"><img alt=\"Ft_ukgenerationalhousing\" class=\"asset  asset-image at-xid-6a00d8341e992c53ef0240a4b227d7200b img-responsive\" src=\"https://junkcharts.typepad.com/.a/6a00d8341e992c53ef0240a4b227d7200b-400wi\" style=\"width: 400px;\" title=\"Ft_ukgenerationalhousing\" /></a></p>\r\n<p>The chart accompanied a <em>Financial Times</em> article about inter-generational fairness in the U.K. To cut to the chase, a recently released study found that younger generations are spending substantially higher proportions of their incomes to pay for housing costs. The FT article is <a href=\"https://www.ft.com/content/05a68ec4-6691-11e9-9adc-98bf1d35a056\" title=\"Link to Financial Times\">here</a> (behind paywall). FT actually slightly modified the original chart, which I pulled from the Home Affront report by the Intergenerational Commission.</p>\r\n<p><a class=\"asset-img-link\" href=\"https://junkcharts.typepad.com/.a/6a00d8341e992c53ef0240a4644a94200c-pi\" style=\"display: inline;\"><img alt=\"Uk_generational_propincomehousing\" class=\"asset  asset-image at-xid-6a00d8341e992c53ef0240a4644a94200c img-responsive\" src=\"https://junkcharts.typepad.com/.a/6a00d8341e992c53ef0240a4644a94200c-450wi\" style=\"width: 425px;\" title=\"Uk_generational_propincomehousing\" /></a></p>\r\n<p>One stumbling block is to figure out what is plotted on the horizontal axis. The label &quot;Age&quot; has gone missing. Even though I am familiar with cohort analysis (here, generational analysis), it took effort to understand why the lines are not uniformly growing in lengths. Typically, the older generation is observed for a longer period of time, and thus should have a longer line.</p>\r\n<p>In particular, the orange line, representing people born before 1895 only shows up for a five-year range, from ages 70 to 75. This was confusing because surely these people have lived through ages 20 to 70. I&#39;m assuming the &quot;left censoring&quot; (missing data on the left side) is because of non-existence of old records.</p>\r\n<p>The dataset is also right-censored (missing data on the right side). This occurs with the younger generations (the top three lines) because those cohorts have not yet reached certain ages. The interpretation is further complicated by the range of birth years in each cohort but let me not go there.</p>\r\n<p>TL;DR ... each line represents a generation of Britons, defined by their birth years. The generations are compared by how much of their incomes did they spend on housing costs. The twist is that we control for age, meaning that we compare these generations at the same age (i.e. at each life stage).</p>\r\n<p>***</p>\r\n<p>Here is my version of the same chart:</p>\r\n<p><a class=\"asset-img-link\" href=\"https://junkcharts.typepad.com/.a/6a00d8341e992c53ef0240a4644bb0200c-pi\" style=\"display: inline;\"><img alt=\"Junkcharts_redo_ukgenerationalhousing_1\" class=\"asset  asset-image at-xid-6a00d8341e992c53ef0240a4644bb0200c img-responsive\" src=\"https://junkcharts.typepad.com/.a/6a00d8341e992c53ef0240a4644bb0200c-450wi\" style=\"width: 425px;\" title=\"Junkcharts_redo_ukgenerationalhousing_1\" /></a></p>\r\n<p>Here are some of the key edits:</p>\r\n<ul>\r\n<li>Vertical blocks are introduced to break up the analysis by life stage. These guide readers to compare the lines vertically i.e. across generations</li>\r\n<li>The generations are explicitly described as cohorts by birth years</li>\r\n<li>The labels for the generations are placed next to the lines</li>\r\n<li><a href=\"https://junkcharts.typepad.com/junk_charts/gridlines\" title=\"Posts about gridlines\">Gridlines</a> are pushed to the back</li>\r\n<li>The age axis is explicitly labeled</li>\r\n<li>Age <a href=\"https://junkcharts.typepad.com/junk_charts/text\" title=\"Posts about text\">labels</a> are thinned</li>\r\n<li>A hierarchy on <a href=\"https://junkcharts.typepad.com/junk_charts/color\" title=\"Posts about colors\">colors</a></li>\r\n<li>The line segments with incomplete records are dimmed</li>\r\n</ul>\r\n<p>The harmful effect of colors can be seen below. This chart is the same as the one above, except for retaining the colors of the original chart:</p>\r\n<p><a class=\"asset-img-link\" href=\"https://junkcharts.typepad.com/.a/6a00d8341e992c53ef0240a4644d8a200c-pi\" style=\"display: inline;\"><img alt=\"Junkcharts_redo_ukgenerationalhousing_2\" class=\"asset  asset-image at-xid-6a00d8341e992c53ef0240a4644d8a200c img-responsive\" src=\"https://junkcharts.typepad.com/.a/6a00d8341e992c53ef0240a4644d8a200c-450wi\" style=\"width: 425px;\" title=\"Junkcharts_redo_ukgenerationalhousing_2\" /></a></p>\r\n<p>&#0160;</p>\r\n<p>&#0160;</p>",
         "description": "Kaiser Fung (Junkcharts, Principal Analytics Prep) re-visualizes charts by Financial Times and Intergenerational Commission showing the proportion of income spent on housing in the U.K.",
         "embeddedAudioLinks": [],
         "embeddedImageLinks": [
          {
           "height": 846,
           "url": "https://a7.typepad.com/6a00d8341e992c53ef0240a4b227d7200b-pi",
           "urlTemplate": "https://a7.typepad.com/6a00d8341e992c53ef0240a4b227d7200b-{spec}",
           "width": 1164
          },
          {
           "height": 1264,
           "url": "https://a4.typepad.com/6a00d8341e992c53ef0240a4644a94200c-pi",
           "urlTemplate": "https://a4.typepad.com/6a00d8341e992c53ef0240a4644a94200c-{spec}",
           "width": 1834
          },
          {
           "height": 928,
           "url": "https://a0.typepad.com/6a00d8341e992c53ef0240a4644bb0200c-pi",
           "urlTemplate": "https://a0.typepad.com/6a00d8341e992c53ef0240a4644bb0200c-{spec}",
           "width": 1734
          },
          {
           "height": 942,
           "url": "https://a2.typepad.com/6a00d8341e992c53ef0240a4644d8a200c-pi",
           "urlTemplate": "https://a2.typepad.com/6a00d8341e992c53ef0240a4644d8a200c-{spec}",
           "width": 1732
          }
         ],
         "embeddedVideoLinks": [],
         "excerpt": "Kaiser Fung (Junkcharts, Principal Analytics Prep) re-visualizes charts by Financial Times and Intergenerational Commission showing the proportion of income spent on housing in the U.K.",
         "favoriteCount": 0,
         "filename": "clarifying-comparisons-in-censored-cohort-data-uk-housing-affordability",
         "groups": [],
         "hasExtendedContent": false,
         "id": "tag:api.typepad.com,2009:6a00d8341e992c53ef0240a4b22657200b",
         "objectType": "Post",
         "objectTypes": [
          "tag:api.typepad.com,2009:Post"
         ],
         "permalinkUrl": "https://junkcharts.typepad.com/junk_charts/2019/06/clarifying-comparisons-in-censored-cohort-data-uk-housing-affordability.html",
         "published": "2019-06-11T12:45:00Z",
         "reblogCount": 0,
         "renderedContent": "<p>If you&#39;re pondering over the following chart for five minutes or more, don&#39;t be ashamed. I took longer than that.</p>\r\n<p><a class=\"asset-img-link\" href=\"https://junkcharts.typepad.com/.a/6a00d8341e992c53ef0240a4b227d7200b-pi\" style=\"display: inline;\"><img alt=\"Ft_ukgenerationalhousing\" class=\"asset  asset-image at-xid-6a00d8341e992c53ef0240a4b227d7200b img-responsive\" src=\"https://junkcharts.typepad.com/.a/6a00d8341e992c53ef0240a4b227d7200b-400wi\" style=\"width: 400px;\" title=\"Ft_ukgenerationalhousing\" /></a></p>\r\n<p>The chart accompanied a <em>Financial Times</em> article about inter-generational fairness in the U.K. To cut to the chase, a recently released study found that younger generations are spending substantially higher proportions of their incomes to pay for housing costs. The FT article is <a href=\"https://www.ft.com/content/05a68ec4-6691-11e9-9adc-98bf1d35a056\" title=\"Link to Financial Times\">here</a> (behind paywall). FT actually slightly modified the original chart, which I pulled from the Home Affront report by the Intergenerational Commission.</p>\r\n<p><a class=\"asset-img-link\" href=\"https://junkcharts.typepad.com/.a/6a00d8341e992c53ef0240a4644a94200c-pi\" style=\"display: inline;\"><img alt=\"Uk_generational_propincomehousing\" class=\"asset  asset-image at-xid-6a00d8341e992c53ef0240a4644a94200c img-responsive\" src=\"https://junkcharts.typepad.com/.a/6a00d8341e992c53ef0240a4644a94200c-450wi\" style=\"width: 425px;\" title=\"Uk_generational_propincomehousing\" /></a></p>\r\n<p>One stumbling block is to figure out what is plotted on the horizontal axis. The label &quot;Age&quot; has gone missing. Even though I am familiar with cohort analysis (here, generational analysis), it took effort to understand why the lines are not uniformly growing in lengths. Typically, the older generation is observed for a longer period of time, and thus should have a longer line.</p>\r\n<p>In particular, the orange line, representing people born before 1895 only shows up for a five-year range, from ages 70 to 75. This was confusing because surely these people have lived through ages 20 to 70. I&#39;m assuming the &quot;left censoring&quot; (missing data on the left side) is because of non-existence of old records.</p>\r\n<p>The dataset is also right-censored (missing data on the right side). This occurs with the younger generations (the top three lines) because those cohorts have not yet reached certain ages. The interpretation is further complicated by the range of birth years in each cohort but let me not go there.</p>\r\n<p>TL;DR ... each line represents a generation of Britons, defined by their birth years. The generations are compared by how much of their incomes did they spend on housing costs. The twist is that we control for age, meaning that we compare these generations at the same age (i.e. at each life stage).</p>\r\n<p>***</p>\r\n<p>Here is my version of the same chart:</p>\r\n<p><a class=\"asset-img-link\" href=\"https://junkcharts.typepad.com/.a/6a00d8341e992c53ef0240a4644bb0200c-pi\" style=\"display: inline;\"><img alt=\"Junkcharts_redo_ukgenerationalhousing_1\" class=\"asset  asset-image at-xid-6a00d8341e992c53ef0240a4644bb0200c img-responsive\" src=\"https://junkcharts.typepad.com/.a/6a00d8341e992c53ef0240a4644bb0200c-450wi\" style=\"width: 425px;\" title=\"Junkcharts_redo_ukgenerationalhousing_1\" /></a></p>\r\n<p>Here are some of the key edits:</p>\r\n<ul>\r\n<li>Vertical blocks are introduced to break up the analysis by life stage. These guide readers to compare the lines vertically i.e. across generations</li>\r\n<li>The generations are explicitly described as cohorts by birth years</li>\r\n<li>The labels for the generations are placed next to the lines</li>\r\n<li><a href=\"https://junkcharts.typepad.com/junk_charts/gridlines\" title=\"Posts about gridlines\">Gridlines</a> are pushed to the back</li>\r\n<li>The age axis is explicitly labeled</li>\r\n<li>Age <a href=\"https://junkcharts.typepad.com/junk_charts/text\" title=\"Posts about text\">labels</a> are thinned</li>\r\n<li>A hierarchy on <a href=\"https://junkcharts.typepad.com/junk_charts/color\" title=\"Posts about colors\">colors</a></li>\r\n<li>The line segments with incomplete records are dimmed</li>\r\n</ul>\r\n<p>The harmful effect of colors can be seen below. This chart is the same as the one above, except for retaining the colors of the original chart:</p>\r\n<p><a class=\"asset-img-link\" href=\"https://junkcharts.typepad.com/.a/6a00d8341e992c53ef0240a4644d8a200c-pi\" style=\"display: inline;\"><img alt=\"Junkcharts_redo_ukgenerationalhousing_2\" class=\"asset  asset-image at-xid-6a00d8341e992c53ef0240a4644d8a200c img-responsive\" src=\"https://junkcharts.typepad.com/.a/6a00d8341e992c53ef0240a4644d8a200c-450wi\" style=\"width: 425px;\" title=\"Junkcharts_redo_ukgenerationalhousing_2\" /></a></p>\r\n<p>&#0160;</p>\r\n<p>&#0160;</p>",
         "shortUrl": "http://bit.ly/2ZclRHA",
         "textFormat": "html",
         "title": "Clarifying comparisons in censored cohort data: UK housing affordability",
         "urlId": "6a00d8341e992c53ef0240a4b22657200b"
        },
        {
         "author": {
          "aboutMe": "Kaiser Fung, Author, Junk Charts, Numbersense, Numbers Rule Your World",
          "avatarLink": {
           "height": 250,
           "url": "https://static.typepad.com/.shared/default-userpics/03-250si.gif",
           "width": 250
          },
          "displayName": "junkcharts",
          "id": "tag:api.typepad.com,2009:6p00d8341e992c53ef",
          "interests": [
           "practical statistics",
           "data visualization",
           "business analytics",
           "bootcamp",
           "data science"
          ],
          "location": null,
          "objectType": "User",
          "objectTypes": [
           "tag:api.typepad.com,2009:User"
          ],
          "preferredUsername": "junkcharts",
          "profilePageUrl": "http://profile.typepad.com/junkcharts",
          "urlId": "6p00d8341e992c53ef"
         },
         "categories": [
          "Economics",
          "Scatter plot",
          "Simplicity",
          "Text",
          "Time series"
         ],
         "commentCount": 4,
         "container": {
          "displayName": "Junk Charts",
          "homeUrl": "https://junkcharts.typepad.com/junk_charts/",
          "id": "tag:api.typepad.com,2009:6a00d8341e992c53ef00d8341e9a0553ef",
          "objectType": "Blog",
          "urlId": "6a00d8341e992c53ef00d8341e9a0553ef"
         },
         "content": "<p>This chart by the Financial Times has a strong message, and I like a lot about it:</p>\r\n<p><a class=\"asset-img-link\" href=\"https://junkcharts.typepad.com/.a/6a00d8341e992c53ef0240a4b05892200b-pi\" style=\"display: inline;\"><img alt=\"Ft-europe-growth\" class=\"asset  asset-image at-xid-6a00d8341e992c53ef0240a4b05892200b img-responsive\" src=\"https://junkcharts.typepad.com/.a/6a00d8341e992c53ef0240a4b05892200b-400wi\" style=\"width: 400px;\" title=\"Ft-europe-growth\" /></a></p>\r\n<p>The countries are by and large aligned along a diagonal, with the poorer countries growing strongly between 2007-2019 while the richer countries suffered negative growth.</p>\r\n<p>A small issue with the chart is the thick forest of <a href=\"https://junkcharts.typepad.com/junk_charts/text\" title=\"Posts about text\">text</a> - redundant text. The sub-title, the axis titles, the quadrant labels, and the left-right-half labels all repeat the same things. In the following chart, I simplify the text:</p>\r\n<p><a class=\"asset-img-link\" href=\"https://junkcharts.typepad.com/.a/6a00d8341e992c53ef0240a4b0589d200b-pi\" style=\"display: inline;\"><img alt=\"Redo_fteuropegrowth_text\" class=\"asset  asset-image at-xid-6a00d8341e992c53ef0240a4b0589d200b img-responsive\" src=\"https://junkcharts.typepad.com/.a/6a00d8341e992c53ef0240a4b0589d200b-400wi\" style=\"width: 400px;\" title=\"Redo_fteuropegrowth_text\" /></a></p>\r\n<p>Typically, I don&#39;t put axis titles as a sub-header (or, header of the graphic) but as this may be part of the FT style, I respected it.</p>",
         "description": "Kaiser Fung (Junkcharts, Principal Analytics Prep) clears out a forest of text on a nice scatter plot showing growth rates of European economies.",
         "embeddedAudioLinks": [],
         "embeddedImageLinks": [
          {
           "height": 1200,
           "url": "https://a2.typepad.com/6a00d8341e992c53ef0240a4b05892200b-pi",
           "urlTemplate": "https://a2.typepad.com/6a00d8341e992c53ef0240a4b05892200b-{spec}",
           "width": 1200
          },
          {
           "height": 1016,
           "url": "https://a5.typepad.com/6a00d8341e992c53ef0240a4b0589d200b-pi",
           "urlTemplate": "https://a5.typepad.com/6a00d8341e992c53ef0240a4b0589d200b-{spec}",
           "width": 1172
          }
         ],
         "embeddedVideoLinks": [],
         "excerpt": "Kaiser Fung (Junkcharts, Principal Analytics Prep) clears out a forest of text on a nice scatter plot showing growth rates of European economies.",
         "favoriteCount": 0,
         "filename": "clearing-a-forest-of-labels",
         "groups": [],
         "hasExtendedContent": false,
         "id": "tag:api.typepad.com,2009:6a00d8341e992c53ef0240a4627ea6200c",
         "objectType": "Post",
         "objectTypes": [
          "tag:api.typepad.com,2009:Post"
         ],
         "permalinkUrl": "https://junkcharts.typepad.com/junk_charts/2019/06/clearing-a-forest-of-labels.html",
         "published": "2019-06-05T12:45:00Z",
         "reblogCount": 0,
         "renderedContent": "<p>This chart by the Financial Times has a strong message, and I like a lot about it:</p>\r\n<p><a class=\"asset-img-link\" href=\"https://junkcharts.typepad.com/.a/6a00d8341e992c53ef0240a4b05892200b-pi\" style=\"display: inline;\"><img alt=\"Ft-europe-growth\" class=\"asset  asset-image at-xid-6a00d8341e992c53ef0240a4b05892200b img-responsive\" src=\"https://junkcharts.typepad.com/.a/6a00d8341e992c53ef0240a4b05892200b-400wi\" style=\"width: 400px;\" title=\"Ft-europe-growth\" /></a></p>\r\n<p>The countries are by and large aligned along a diagonal, with the poorer countries growing strongly between 2007-2019 while the richer countries suffered negative growth.</p>\r\n<p>A small issue with the chart is the thick forest of <a href=\"https://junkcharts.typepad.com/junk_charts/text\" title=\"Posts about text\">text</a> - redundant text. The sub-title, the axis titles, the quadrant labels, and the left-right-half labels all repeat the same things. In the following chart, I simplify the text:</p>\r\n<p><a class=\"asset-img-link\" href=\"https://junkcharts.typepad.com/.a/6a00d8341e992c53ef0240a4b0589d200b-pi\" style=\"display: inline;\"><img alt=\"Redo_fteuropegrowth_text\" class=\"asset  asset-image at-xid-6a00d8341e992c53ef0240a4b0589d200b img-responsive\" src=\"https://junkcharts.typepad.com/.a/6a00d8341e992c53ef0240a4b0589d200b-400wi\" style=\"width: 400px;\" title=\"Redo_fteuropegrowth_text\" /></a></p>\r\n<p>Typically, I don&#39;t put axis titles as a sub-header (or, header of the graphic) but as this may be part of the FT style, I respected it.</p>",
         "shortUrl": "http://bit.ly/2Z8YOx7",
         "textFormat": "html",
         "title": "Clearing a forest of labels",
         "urlId": "6a00d8341e992c53ef0240a4627ea6200c"
        },
        {
         "author": {
          "aboutMe": "Kaiser Fung, Author, Junk Charts, Numbersense, Numbers Rule Your World",
          "avatarLink": {
           "height": 250,
           "url": "https://static.typepad.com/.shared/default-userpics/03-250si.gif",
           "width": 250
          },
          "displayName": "junkcharts",
          "id": "tag:api.typepad.com,2009:6p00d8341e992c53ef",
          "interests": [
           "practical statistics",
           "data visualization",
           "business analytics",
           "bootcamp",
           "data science"
          ],
          "location": null,
          "objectType": "User",
          "objectTypes": [
           "tag:api.typepad.com,2009:User"
          ],
          "preferredUsername": "junkcharts",
          "profilePageUrl": "http://profile.typepad.com/junkcharts",
          "urlId": "6p00d8341e992c53ef"
         },
         "categories": [
          "Axis",
          "Background",
          "Bar chart",
          "Business",
          "Data labels",
          "Economics",
          "Finance",
          "Gridlines",
          "Legend"
         ],
         "commentCount": 0,
         "container": {
          "displayName": "Junk Charts",
          "homeUrl": "https://junkcharts.typepad.com/junk_charts/",
          "id": "tag:api.typepad.com,2009:6a00d8341e992c53ef00d8341e9a0553ef",
          "objectType": "Blog",
          "urlId": "6a00d8341e992c53ef00d8341e9a0553ef"
         },
         "content": "<p>Here is a typical business chart.</p>\r\n<p><a class=\"asset-img-link\" href=\"https://junkcharts.typepad.com/.a/6a00d8341e992c53ef0240a461a26b200c-pi\" style=\"display: inline;\"><img alt=\"Cetera_amd_chart\" class=\"asset  asset-image at-xid-6a00d8341e992c53ef0240a461a26b200c img-responsive\" src=\"https://junkcharts.typepad.com/.a/6a00d8341e992c53ef0240a461a26b200c-400wi\" style=\"width: 400px;\" title=\"Cetera_amd_chart\" /></a></p>\r\n<p>A possible story here: institutional investors are generally buying AMD stock, except in Q3 2018.</p>\r\n<p>Let&#39;s give this chart a three-step treatment.</p>\r\n<p>STEP 1: The Basics</p>\r\n<p>Remove the <a href=\"https://junkcharts.typepad.com/junk_charts/data_labels\" title=\"Posts about data labels\">data labels</a>, which stand sideways awkwardly, and are redundant given the <a href=\"https://junkcharts.typepad.com/junk_charts/axis\" title=\"Posts about axis\">axis</a> labels. If the audience includes people who want to take the underlying data, then supply a separate data table. It&#39;s easier to copy and paste from, and doing so removes clutter from the visual.</p>\r\n<p>The value <a href=\"https://junkcharts.typepad.com/junk_charts/axis\" title=\"Posts about axis\">axis</a> is probably created by an algorithm - hard to imagine someone deliberately placing axis labels&#0160; $262 million apart.</p>\r\n<p>The <a href=\"https://junkcharts.typepad.com/junk_charts/gridlines\" title=\"Posts about gridlines\">gridlines</a> are optional.</p>\r\n<p><a class=\"asset-img-link\" href=\"https://junkcharts.typepad.com/.a/6a00d8341e992c53ef0240a48b0e49200d-pi\" style=\"display: inline;\"><img alt=\"Redo_amdinstitution_1\" class=\"asset  asset-image at-xid-6a00d8341e992c53ef0240a48b0e49200d img-responsive\" src=\"https://junkcharts.typepad.com/.a/6a00d8341e992c53ef0240a48b0e49200d-400wi\" style=\"width: 400px;\" title=\"Redo_amdinstitution_1\" /></a></p>\r\n<p>STEP 2: Intermediate</p>\r\n<p>Simplify and re-organize the time <a href=\"https://junkcharts.typepad.com/junk_charts/axis\" title=\"Posts about axis\">axis</a> labels; show the quarter and year structure. The years need not repeat.</p>\r\n<p>Align the vocabulary on the chart. The <a href=\"https://junkcharts.typepad.com/junk_charts/legend\" title=\"Posts about legend\">legend</a> mentions &quot;inflows and outflows&quot; while the chart title uses the words &quot;buying and selling&quot;. Inflows is buying; outflows is selling.</p>\r\n<p><a class=\"asset-img-link\" href=\"https://junkcharts.typepad.com/.a/6a00d8341e992c53ef0240a48b0e4f200d-pi\" style=\"display: inline;\"><img alt=\"Redo_amdinstitution_2\" class=\"asset  asset-image at-xid-6a00d8341e992c53ef0240a48b0e4f200d img-responsive\" src=\"https://junkcharts.typepad.com/.a/6a00d8341e992c53ef0240a48b0e4f200d-400wi\" style=\"width: 400px;\" title=\"Redo_amdinstitution_2\" /></a></p>\r\n<p>STEP 3: Advanced</p>\r\n<p>This type of data presents an interesting design challenge. <strong>Arguably the most important metric is the net purchases (or the net flow)</strong>, i.e. inflows minus outflows. And yet, the chart form leaves this element in the gaps, visually.</p>\r\n<p>The outflows are numerically opposite to inflows. The sign of the flow is encoded in the color scheme. An outflow still points upwards. This isn&#39;t a criticism, but rather a limitation of the chart form. If the red bars are made to point downwards to indicate negative flow, then the &quot;net flow&quot; is almost impossible to visually compute!</p>\r\n<p>Putting the columns side by side allows the reader to visually compute the gap, but it is hard to visually <em>compare</em> gaps from quarter to quarter because each gap is hanging off a different baseline.</p>\r\n<p>The following graphic solves this issue by focusing the chart on the net flows. The buying and selling are still plotted but are deliberately pushed to the side:</p>\r\n<p><a class=\"asset-img-link\" href=\"https://junkcharts.typepad.com/.a/6a00d8341e992c53ef0240a48affcb200d-pi\" style=\"display: inline;\"><img alt=\"Redo_amd_1\" class=\"asset  asset-image at-xid-6a00d8341e992c53ef0240a48affcb200d img-responsive\" src=\"https://junkcharts.typepad.com/.a/6a00d8341e992c53ef0240a48affcb200d-400wi\" style=\"width: 400px;\" title=\"Redo_amd_1\" /></a></p>\r\n<p>The structure of the data is such that the gray and pink sections are &quot;symmetric&quot; around the brown columns. A purist may consider removing one of these columns. In other words:</p>\r\n<p><a class=\"asset-img-link\" href=\"https://junkcharts.typepad.com/.a/6a00d8341e992c53ef0240a48affd5200d-pi\" style=\"display: inline;\"><img alt=\"Redo_amd_2\" class=\"asset  asset-image at-xid-6a00d8341e992c53ef0240a48affd5200d img-responsive\" src=\"https://junkcharts.typepad.com/.a/6a00d8341e992c53ef0240a48affd5200d-400wi\" style=\"width: 400px;\" title=\"Redo_amd_2\" /></a></p>\r\n<p>Here, the gray columns represent gross purchases while the brown columns display net purchases. The reader is then asked to infer the gross selling, which is the difference between the two column heights.</p>\r\n<p>We are almost back to the original chart, except that the net buying is brought to the foreground while the gross selling is pushed to the background.</p>\r\n<p>&#0160;</p>",
         "description": "Kaiser Fung (Junkcharts, Principal Analytics Prep) analyzes a standard business chart, showing net purchases of AMD stock.",
         "embeddedAudioLinks": [],
         "embeddedImageLinks": [
          {
           "height": 350,
           "url": "https://a3.typepad.com/6a00d8341e992c53ef0240a461a26b200c-pi",
           "urlTemplate": "https://a3.typepad.com/6a00d8341e992c53ef0240a461a26b200c-{spec}",
           "width": 650
          },
          {
           "height": 1002,
           "url": "https://a1.typepad.com/6a00d8341e992c53ef0240a48b0e49200d-pi",
           "urlTemplate": "https://a1.typepad.com/6a00d8341e992c53ef0240a48b0e49200d-{spec}",
           "width": 1498
          },
          {
           "height": 978,
           "url": "https://a7.typepad.com/6a00d8341e992c53ef0240a48b0e4f200d-pi",
           "urlTemplate": "https://a7.typepad.com/6a00d8341e992c53ef0240a48b0e4f200d-{spec}",
           "width": 1480
          },
          {
           "height": 898,
           "url": "https://a3.typepad.com/6a00d8341e992c53ef0240a48affcb200d-pi",
           "urlTemplate": "https://a3.typepad.com/6a00d8341e992c53ef0240a48affcb200d-{spec}",
           "width": 1434
          },
          {
           "height": 910,
           "url": "https://a5.typepad.com/6a00d8341e992c53ef0240a48affd5200d-pi",
           "urlTemplate": "https://a5.typepad.com/6a00d8341e992c53ef0240a48affd5200d-{spec}",
           "width": 1440
          }
         ],
         "embeddedVideoLinks": [],
         "excerpt": "Kaiser Fung (Junkcharts, Principal Analytics Prep) analyzes a standard business chart, showing net purchases of AMD stock.",
         "favoriteCount": 0,
         "filename": "re-thinking-a-standard-business-chart-of-stock-purchases-and-sales",
         "groups": [],
         "hasExtendedContent": false,
         "id": "tag:api.typepad.com,2009:6a00d8341e992c53ef0240a4af75c7200b",
         "objectType": "Post",
         "objectTypes": [
          "tag:api.typepad.com,2009:Post"
         ],
         "permalinkUrl": "https://junkcharts.typepad.com/junk_charts/2019/06/re-thinking-a-standard-business-chart-of-stock-purchases-and-sales.html",
         "published": "2019-06-03T12:50:00Z",
         "reblogCount": 0,
         "renderedContent": "<p>Here is a typical business chart.</p>\r\n<p><a class=\"asset-img-link\" href=\"https://junkcharts.typepad.com/.a/6a00d8341e992c53ef0240a461a26b200c-pi\" style=\"display: inline;\"><img alt=\"Cetera_amd_chart\" class=\"asset  asset-image at-xid-6a00d8341e992c53ef0240a461a26b200c img-responsive\" src=\"https://junkcharts.typepad.com/.a/6a00d8341e992c53ef0240a461a26b200c-400wi\" style=\"width: 400px;\" title=\"Cetera_amd_chart\" /></a></p>\r\n<p>A possible story here: institutional investors are generally buying AMD stock, except in Q3 2018.</p>\r\n<p>Let&#39;s give this chart a three-step treatment.</p>\r\n<p>STEP 1: The Basics</p>\r\n<p>Remove the <a href=\"https://junkcharts.typepad.com/junk_charts/data_labels\" title=\"Posts about data labels\">data labels</a>, which stand sideways awkwardly, and are redundant given the <a href=\"https://junkcharts.typepad.com/junk_charts/axis\" title=\"Posts about axis\">axis</a> labels. If the audience includes people who want to take the underlying data, then supply a separate data table. It&#39;s easier to copy and paste from, and doing so removes clutter from the visual.</p>\r\n<p>The value <a href=\"https://junkcharts.typepad.com/junk_charts/axis\" title=\"Posts about axis\">axis</a> is probably created by an algorithm - hard to imagine someone deliberately placing axis labels&#0160; $262 million apart.</p>\r\n<p>The <a href=\"https://junkcharts.typepad.com/junk_charts/gridlines\" title=\"Posts about gridlines\">gridlines</a> are optional.</p>\r\n<p><a class=\"asset-img-link\" href=\"https://junkcharts.typepad.com/.a/6a00d8341e992c53ef0240a48b0e49200d-pi\" style=\"display: inline;\"><img alt=\"Redo_amdinstitution_1\" class=\"asset  asset-image at-xid-6a00d8341e992c53ef0240a48b0e49200d img-responsive\" src=\"https://junkcharts.typepad.com/.a/6a00d8341e992c53ef0240a48b0e49200d-400wi\" style=\"width: 400px;\" title=\"Redo_amdinstitution_1\" /></a></p>\r\n<p>STEP 2: Intermediate</p>\r\n<p>Simplify and re-organize the time <a href=\"https://junkcharts.typepad.com/junk_charts/axis\" title=\"Posts about axis\">axis</a> labels; show the quarter and year structure. The years need not repeat.</p>\r\n<p>Align the vocabulary on the chart. The <a href=\"https://junkcharts.typepad.com/junk_charts/legend\" title=\"Posts about legend\">legend</a> mentions &quot;inflows and outflows&quot; while the chart title uses the words &quot;buying and selling&quot;. Inflows is buying; outflows is selling.</p>\r\n<p><a class=\"asset-img-link\" href=\"https://junkcharts.typepad.com/.a/6a00d8341e992c53ef0240a48b0e4f200d-pi\" style=\"display: inline;\"><img alt=\"Redo_amdinstitution_2\" class=\"asset  asset-image at-xid-6a00d8341e992c53ef0240a48b0e4f200d img-responsive\" src=\"https://junkcharts.typepad.com/.a/6a00d8341e992c53ef0240a48b0e4f200d-400wi\" style=\"width: 400px;\" title=\"Redo_amdinstitution_2\" /></a></p>\r\n<p>STEP 3: Advanced</p>\r\n<p>This type of data presents an interesting design challenge. <strong>Arguably the most important metric is the net purchases (or the net flow)</strong>, i.e. inflows minus outflows. And yet, the chart form leaves this element in the gaps, visually.</p>\r\n<p>The outflows are numerically opposite to inflows. The sign of the flow is encoded in the color scheme. An outflow still points upwards. This isn&#39;t a criticism, but rather a limitation of the chart form. If the red bars are made to point downwards to indicate negative flow, then the &quot;net flow&quot; is almost impossible to visually compute!</p>\r\n<p>Putting the columns side by side allows the reader to visually compute the gap, but it is hard to visually <em>compare</em> gaps from quarter to quarter because each gap is hanging off a different baseline.</p>\r\n<p>The following graphic solves this issue by focusing the chart on the net flows. The buying and selling are still plotted but are deliberately pushed to the side:</p>\r\n<p><a class=\"asset-img-link\" href=\"https://junkcharts.typepad.com/.a/6a00d8341e992c53ef0240a48affcb200d-pi\" style=\"display: inline;\"><img alt=\"Redo_amd_1\" class=\"asset  asset-image at-xid-6a00d8341e992c53ef0240a48affcb200d img-responsive\" src=\"https://junkcharts.typepad.com/.a/6a00d8341e992c53ef0240a48affcb200d-400wi\" style=\"width: 400px;\" title=\"Redo_amd_1\" /></a></p>\r\n<p>The structure of the data is such that the gray and pink sections are &quot;symmetric&quot; around the brown columns. A purist may consider removing one of these columns. In other words:</p>\r\n<p><a class=\"asset-img-link\" href=\"https://junkcharts.typepad.com/.a/6a00d8341e992c53ef0240a48affd5200d-pi\" style=\"display: inline;\"><img alt=\"Redo_amd_2\" class=\"asset  asset-image at-xid-6a00d8341e992c53ef0240a48affd5200d img-responsive\" src=\"https://junkcharts.typepad.com/.a/6a00d8341e992c53ef0240a48affd5200d-400wi\" style=\"width: 400px;\" title=\"Redo_amd_2\" /></a></p>\r\n<p>Here, the gray columns represent gross purchases while the brown columns display net purchases. The reader is then asked to infer the gross selling, which is the difference between the two column heights.</p>\r\n<p>We are almost back to the original chart, except that the net buying is brought to the foreground while the gross selling is pushed to the background.</p>\r\n<p>&#0160;</p>",
         "shortUrl": "http://bit.ly/2XmFrQL",
         "textFormat": "html",
         "title": "Re-thinking a standard business chart of stock purchases and sales",
         "urlId": "6a00d8341e992c53ef0240a4af75c7200b"
        },
        {
         "author": {
          "aboutMe": "Kaiser Fung, Author, Junk Charts, Numbersense, Numbers Rule Your World",
          "avatarLink": {
           "height": 250,
           "url": "https://static.typepad.com/.shared/default-userpics/03-250si.gif",
           "width": 250
          },
          "displayName": "junkcharts",
          "id": "tag:api.typepad.com,2009:6p00d8341e992c53ef",
          "interests": [
           "practical statistics",
           "data visualization",
           "business analytics",
           "bootcamp",
           "data science"
          ],
          "location": null,
          "objectType": "User",
          "objectTypes": [
           "tag:api.typepad.com,2009:User"
          ],
          "preferredUsername": "junkcharts",
          "profilePageUrl": "http://profile.typepad.com/junkcharts",
          "urlId": "6p00d8341e992c53ef"
         },
         "categories": [
          "Business",
          "Comparability",
          "Data labels",
          "Dot plot",
          "Economics",
          "Interactive",
          "Small multiples",
          "Sorting",
          "Variance",
          "WSJ"
         ],
         "commentCount": 2,
         "container": {
          "displayName": "Junk Charts",
          "homeUrl": "https://junkcharts.typepad.com/junk_charts/",
          "id": "tag:api.typepad.com,2009:6a00d8341e992c53ef00d8341e9a0553ef",
          "objectType": "Blog",
          "urlId": "6a00d8341e992c53ef00d8341e9a0553ef"
         },
         "content": "<p>The Wall Street Journal published a graphic showing the median pay levels at &quot;most&quot; public companies in the U.S. <a href=\"https://www.wsj.com/graphics/how-does-your-pay-stack-up/\" title=\"Link to Wall Street Journal\">here</a>.</p>\r\n<p><a class=\"asset-img-link\" href=\"https://junkcharts.typepad.com/.a/6a00d8341e992c53ef0240a460b4bc200c-pi\" style=\"display: inline;\"><img alt=\"Wsj_mediancompanypay\" class=\"asset  asset-image at-xid-6a00d8341e992c53ef0240a460b4bc200c img-responsive\" src=\"https://junkcharts.typepad.com/.a/6a00d8341e992c53ef0240a460b4bc200c-450wi\" style=\"width: 420px;\" title=\"Wsj_mediancompanypay\" /></a></p>\r\n<p>People who attended my dataviz seminar might recognize the similarity with the graphic showing internet download speeds by different broadband technologies. It&#39;s a clean, clear way of showing multiple comparisons on the same chart.</p>\r\n<p>You can see the distribution of pay levels of companies within each industry grouping, and the vertical lines showing the sector medians allow comparison across sectors. The median pay levels are quite similar with the energy sector leaning higher, and consumer sector leaning lower.</p>\r\n<p>The consumer sector is extremely heavy on the low side of the pay range. Companies like Universal, Abercrombie, Skechers, Mattel, Gap, etc. all pay at least half their employees less than $6,000. The data is sourced to MyLogIQ. I have no knowledge of how reliable or valid the data are. It&#39;s curious to me that Dunkin Brands showed a median of $110K while Starbucks showed $13K.</p>\r\n<p><a class=\"asset-img-link\" href=\"https://junkcharts.typepad.com/.a/6a00d8341e992c53ef0240a48a0499200d-pi\" style=\"display: inline;\"><img alt=\"Wsj_medianpay_dunkinstarbucks\" class=\"asset  asset-image at-xid-6a00d8341e992c53ef0240a48a0499200d img-responsive\" src=\"https://junkcharts.typepad.com/.a/6a00d8341e992c53ef0240a48a0499200d-400wi\" style=\"width: 400px;\" title=\"Wsj_medianpay_dunkinstarbucks\" /></a></p>\r\n<p>***</p>\r\n<p>I like the <a href=\"https://junkcharts.typepad.com/junk_charts/interactive\">interactive</a> features.</p>\r\n<p>The window control lets the user zoom in to different parts of the pay range. This is necessary because of the extremely high salaries. The control doubles as a presentation of the overall distribution of median salaries.</p>\r\n<p>The text box can be used to add data labels to specific companies.</p>\r\n<p>***</p>\r\n<p>See previous discussion of <a href=\"https://junkcharts.typepad.com/junk_charts/wsj\" title=\"Posts about WSJ\">WSJ</a> Graphics.</p>\r\n<p>&#0160;</p>",
         "description": "Kaiser Fung (Principal Analytics Prep, Junkcharts) reviews the graphic by Wall Street Journal on U.S. corporate pay levels.",
         "embeddedAudioLinks": [],
         "embeddedImageLinks": [
          {
           "height": 1242,
           "url": "https://a4.typepad.com/6a00d8341e992c53ef0240a460b4bc200c-pi",
           "urlTemplate": "https://a4.typepad.com/6a00d8341e992c53ef0240a460b4bc200c-{spec}",
           "width": 2072
          },
          {
           "height": 240,
           "url": "https://a1.typepad.com/6a00d8341e992c53ef0240a48a0499200d-pi",
           "urlTemplate": "https://a1.typepad.com/6a00d8341e992c53ef0240a48a0499200d-{spec}",
           "width": 1322
          }
         ],
         "embeddedVideoLinks": [],
         "excerpt": "Kaiser Fung (Principal Analytics Prep, Junkcharts) reviews the graphic by Wall Street Journal on U.S. corporate pay levels.",
         "favoriteCount": 0,
         "filename": "pay-levels-in-the-us",
         "groups": [],
         "hasExtendedContent": false,
         "id": "tag:api.typepad.com,2009:6a00d8341e992c53ef0240a4ae8ae1200b",
         "objectType": "Post",
         "objectTypes": [
          "tag:api.typepad.com,2009:Post"
         ],
         "permalinkUrl": "https://junkcharts.typepad.com/junk_charts/2019/05/pay-levels-in-the-us.html",
         "published": "2019-05-28T12:45:00Z",
         "reblogCount": 0,
         "renderedContent": "<p>The Wall Street Journal published a graphic showing the median pay levels at &quot;most&quot; public companies in the U.S. <a href=\"https://www.wsj.com/graphics/how-does-your-pay-stack-up/\" title=\"Link to Wall Street Journal\">here</a>.</p>\r\n<p><a class=\"asset-img-link\" href=\"https://junkcharts.typepad.com/.a/6a00d8341e992c53ef0240a460b4bc200c-pi\" style=\"display: inline;\"><img alt=\"Wsj_mediancompanypay\" class=\"asset  asset-image at-xid-6a00d8341e992c53ef0240a460b4bc200c img-responsive\" src=\"https://junkcharts.typepad.com/.a/6a00d8341e992c53ef0240a460b4bc200c-450wi\" style=\"width: 420px;\" title=\"Wsj_mediancompanypay\" /></a></p>\r\n<p>People who attended my dataviz seminar might recognize the similarity with the graphic showing internet download speeds by different broadband technologies. It&#39;s a clean, clear way of showing multiple comparisons on the same chart.</p>\r\n<p>You can see the distribution of pay levels of companies within each industry grouping, and the vertical lines showing the sector medians allow comparison across sectors. The median pay levels are quite similar with the energy sector leaning higher, and consumer sector leaning lower.</p>\r\n<p>The consumer sector is extremely heavy on the low side of the pay range. Companies like Universal, Abercrombie, Skechers, Mattel, Gap, etc. all pay at least half their employees less than $6,000. The data is sourced to MyLogIQ. I have no knowledge of how reliable or valid the data are. It&#39;s curious to me that Dunkin Brands showed a median of $110K while Starbucks showed $13K.</p>\r\n<p><a class=\"asset-img-link\" href=\"https://junkcharts.typepad.com/.a/6a00d8341e992c53ef0240a48a0499200d-pi\" style=\"display: inline;\"><img alt=\"Wsj_medianpay_dunkinstarbucks\" class=\"asset  asset-image at-xid-6a00d8341e992c53ef0240a48a0499200d img-responsive\" src=\"https://junkcharts.typepad.com/.a/6a00d8341e992c53ef0240a48a0499200d-400wi\" style=\"width: 400px;\" title=\"Wsj_medianpay_dunkinstarbucks\" /></a></p>\r\n<p>***</p>\r\n<p>I like the <a href=\"https://junkcharts.typepad.com/junk_charts/interactive\">interactive</a> features.</p>\r\n<p>The window control lets the user zoom in to different parts of the pay range. This is necessary because of the extremely high salaries. The control doubles as a presentation of the overall distribution of median salaries.</p>\r\n<p>The text box can be used to add data labels to specific companies.</p>\r\n<p>***</p>\r\n<p>See previous discussion of <a href=\"https://junkcharts.typepad.com/junk_charts/wsj\" title=\"Posts about WSJ\">WSJ</a> Graphics.</p>\r\n<p>&#0160;</p>",
         "shortUrl": "http://bit.ly/2EDMwVX",
         "textFormat": "html",
         "title": "Pay levels in the U.S.",
         "urlId": "6a00d8341e992c53ef0240a4ae8ae1200b"
        },
        {
         "author": {
          "aboutMe": "Kaiser Fung, Author, Junk Charts, Numbersense, Numbers Rule Your World",
          "avatarLink": {
           "height": 250,
           "url": "https://static.typepad.com/.shared/default-userpics/03-250si.gif",
           "width": 250
          },
          "displayName": "junkcharts",
          "id": "tag:api.typepad.com,2009:6p00d8341e992c53ef",
          "interests": [
           "practical statistics",
           "data visualization",
           "business analytics",
           "bootcamp",
           "data science"
          ],
          "location": null,
          "objectType": "User",
          "objectTypes": [
           "tag:api.typepad.com,2009:User"
          ],
          "preferredUsername": "junkcharts",
          "profilePageUrl": "http://profile.typepad.com/junkcharts",
          "urlId": "6p00d8341e992c53ef"
         },
         "categories": [
          "Art",
          "Comparability",
          "Dot plot",
          "Medicine",
          "Time series"
         ],
         "commentCount": 1,
         "container": {
          "displayName": "Junk Charts",
          "homeUrl": "https://junkcharts.typepad.com/junk_charts/",
          "id": "tag:api.typepad.com,2009:6a00d8341e992c53ef00d8341e9a0553ef",
          "objectType": "Blog",
          "urlId": "6a00d8341e992c53ef00d8341e9a0553ef"
         },
         "content": "<p>Mona Chalabi has made this remarkable graphic to illustrate the effect of the anti-vaccine movement on measles cases in the U.S.: (<a href=\"https://www.instagram.com/p/BtTjIYwngqn/\" title=\"Link to Mona Chalabi instagram\">link</a>)</p>\r\n<p><a class=\"asset-img-link\" href=\"https://junkcharts.typepad.com/.a/6a00d8341e992c53ef0240a45f7fbe200c-pi\" style=\"display: inline;\"><img alt=\"Monachalabi_measles\" class=\"asset  asset-image at-xid-6a00d8341e992c53ef0240a45f7fbe200c img-responsive\" src=\"https://junkcharts.typepad.com/.a/6a00d8341e992c53ef0240a45f7fbe200c-500wi\" style=\"width: 500px;\" title=\"Monachalabi_measles\" /></a></p>\r\n<p>As a form of agitprop, the graphic seizes upon the fear engendered by the defacing red rash of the disease. And it&#39;s very effective in articulating its social message.</p>\r\n<p>***</p>\r\n<p>I wasn&#39;t able to find the data except for a specific year or two. So, this post is more inspired by the graphic than a direct response to it.</p>\r\n<p>I think the left-side legend should say &quot;1 case of measles in someone who was <span style=\"text-decoration: underline;\"><strong>not</strong></span> vaccinated&quot; (as opposed to 1 case of measles in aggregate).</p>\r\n<p>The chart encodes the data in the density of the red dots. What does the density of the red dots signify? There are two possibilities: case counts or case rates.</p>\r\n<p>2013 is a year in which I could find data. In 2013, the U.S. saw 187 cases of measles, only 4 of them in someone who was vaccinated. In other words, there are 49 times as many measles cases among the unvaccinated as the vaccinated.</p>\r\n<p>But note that about 90 percent of the population (using 13-17 year olds as a proxy) are vaccinated. The chance of getting measles in the unvaccinated is 0.8 per million, compared to 0.002 per million in the vaccinated - 422 times higher.</p>\r\n<p>The following chart shows the relative appearance of the dot densities. The bottom row which compares the relative chance of getting measles is the more appropriate metric, and it looks much worse.</p>\r\n<p><a class=\"asset-img-link\" href=\"https://junkcharts.typepad.com/.a/6a00d8341e992c53ef0240a4ad5c7c200b-pi\" style=\"display: inline;\"><img alt=\"Junkcharts_monachalabi_measles\" class=\"asset  asset-image at-xid-6a00d8341e992c53ef0240a4ad5c7c200b img-responsive\" src=\"https://junkcharts.typepad.com/.a/6a00d8341e992c53ef0240a4ad5c7c200b-350wi\" style=\"width: 350px;\" title=\"Junkcharts_monachalabi_measles\" /></a></p>\r\n<p>***</p>\r\n<p>Mona&#39;s <a href=\"https://www.instagram.com/monachalabi/\" title=\"Link to Mona Chalabi instagram\">instagram</a> has many other provocative graphics.</p>\r\n<p>&#0160;</p>",
         "description": "Kaiser Fung (Junk Charts, Principal Analytics Prep) features Mona Chalabi's remarkable infographics on measles cases in the U.S.",
         "embeddedAudioLinks": [],
         "embeddedImageLinks": [
          {
           "height": 924,
           "url": "https://a6.typepad.com/6a00d8341e992c53ef0240a45f7fbe200c-pi",
           "urlTemplate": "https://a6.typepad.com/6a00d8341e992c53ef0240a45f7fbe200c-{spec}",
           "width": 1682
          },
          {
           "height": 794,
           "url": "https://a4.typepad.com/6a00d8341e992c53ef0240a4ad5c7c200b-pi",
           "urlTemplate": "https://a4.typepad.com/6a00d8341e992c53ef0240a4ad5c7c200b-{spec}",
           "width": 892
          }
         ],
         "embeddedVideoLinks": [],
         "excerpt": "Kaiser Fung (Junk Charts, Principal Analytics Prep) features Mona Chalabi's remarkable infographics on measles cases in the U.S.",
         "favoriteCount": 0,
         "filename": "measles-babies",
         "groups": [],
         "hasExtendedContent": false,
         "id": "tag:api.typepad.com,2009:6a00d8341e992c53ef0240a4ad5cf3200b",
         "objectType": "Post",
         "objectTypes": [
          "tag:api.typepad.com,2009:Post"
         ],
         "permalinkUrl": "https://junkcharts.typepad.com/junk_charts/2019/05/measles-babies.html",
         "published": "2019-05-22T12:45:00Z",
         "reblogCount": 0,
         "renderedContent": "<p>Mona Chalabi has made this remarkable graphic to illustrate the effect of the anti-vaccine movement on measles cases in the U.S.: (<a href=\"https://www.instagram.com/p/BtTjIYwngqn/\" title=\"Link to Mona Chalabi instagram\">link</a>)</p>\r\n<p><a class=\"asset-img-link\" href=\"https://junkcharts.typepad.com/.a/6a00d8341e992c53ef0240a45f7fbe200c-pi\" style=\"display: inline;\"><img alt=\"Monachalabi_measles\" class=\"asset  asset-image at-xid-6a00d8341e992c53ef0240a45f7fbe200c img-responsive\" src=\"https://junkcharts.typepad.com/.a/6a00d8341e992c53ef0240a45f7fbe200c-500wi\" style=\"width: 500px;\" title=\"Monachalabi_measles\" /></a></p>\r\n<p>As a form of agitprop, the graphic seizes upon the fear engendered by the defacing red rash of the disease. And it&#39;s very effective in articulating its social message.</p>\r\n<p>***</p>\r\n<p>I wasn&#39;t able to find the data except for a specific year or two. So, this post is more inspired by the graphic than a direct response to it.</p>\r\n<p>I think the left-side legend should say &quot;1 case of measles in someone who was <span style=\"text-decoration: underline;\"><strong>not</strong></span> vaccinated&quot; (as opposed to 1 case of measles in aggregate).</p>\r\n<p>The chart encodes the data in the density of the red dots. What does the density of the red dots signify? There are two possibilities: case counts or case rates.</p>\r\n<p>2013 is a year in which I could find data. In 2013, the U.S. saw 187 cases of measles, only 4 of them in someone who was vaccinated. In other words, there are 49 times as many measles cases among the unvaccinated as the vaccinated.</p>\r\n<p>But note that about 90 percent of the population (using 13-17 year olds as a proxy) are vaccinated. The chance of getting measles in the unvaccinated is 0.8 per million, compared to 0.002 per million in the vaccinated - 422 times higher.</p>\r\n<p>The following chart shows the relative appearance of the dot densities. The bottom row which compares the relative chance of getting measles is the more appropriate metric, and it looks much worse.</p>\r\n<p><a class=\"asset-img-link\" href=\"https://junkcharts.typepad.com/.a/6a00d8341e992c53ef0240a4ad5c7c200b-pi\" style=\"display: inline;\"><img alt=\"Junkcharts_monachalabi_measles\" class=\"asset  asset-image at-xid-6a00d8341e992c53ef0240a4ad5c7c200b img-responsive\" src=\"https://junkcharts.typepad.com/.a/6a00d8341e992c53ef0240a4ad5c7c200b-350wi\" style=\"width: 350px;\" title=\"Junkcharts_monachalabi_measles\" /></a></p>\r\n<p>***</p>\r\n<p>Mona&#39;s <a href=\"https://www.instagram.com/monachalabi/\" title=\"Link to Mona Chalabi instagram\">instagram</a> has many other provocative graphics.</p>\r\n<p>&#0160;</p>",
         "shortUrl": "http://bit.ly/2WXQRKz",
         "textFormat": "html",
         "title": "Measles babies",
         "urlId": "6a00d8341e992c53ef0240a4ad5cf3200b"
        },
        {
         "author": {
          "aboutMe": "Kaiser Fung, Author, Junk Charts, Numbersense, Numbers Rule Your World",
          "avatarLink": {
           "height": 250,
           "url": "https://static.typepad.com/.shared/default-userpics/03-250si.gif",
           "width": 250
          },
          "displayName": "junkcharts",
          "id": "tag:api.typepad.com,2009:6p00d8341e992c53ef",
          "interests": [
           "practical statistics",
           "data visualization",
           "business analytics",
           "bootcamp",
           "data science"
          ],
          "location": null,
          "objectType": "User",
          "objectTypes": [
           "tag:api.typepad.com,2009:User"
          ],
          "preferredUsername": "junkcharts",
          "profilePageUrl": "http://profile.typepad.com/junkcharts",
          "urlId": "6p00d8341e992c53ef"
         },
         "categories": [
          "Aggregation",
          "Area chart",
          "Bar chart",
          "Bloomberg",
          "Politics",
          "Small multiples"
         ],
         "commentCount": 1,
         "container": {
          "displayName": "Junk Charts",
          "homeUrl": "https://junkcharts.typepad.com/junk_charts/",
          "id": "tag:api.typepad.com,2009:6a00d8341e992c53ef00d8341e9a0553ef",
          "objectType": "Blog",
          "urlId": "6a00d8341e992c53ef00d8341e9a0553ef"
         },
         "content": "<p>The Bloomberg team has come up with a few goodies lately. I was captivated by the following graphic about the ebb and flow of U.S. presidential candidates across recent campaigns. Link to the full presentation <a href=\"https://www.bloomberg.com/graphics/democratic-party-candidates-running-2020-election/\" title=\"Link to Bloomberg\">here</a>.</p>\r\n<p>The highlight is at the bottom of the page. This is an excerpt of the chart:</p>\r\n<p><a class=\"asset-img-link\" href=\"https://junkcharts.typepad.com/.a/6a00d8341e992c53ef0240a45e5f68200c-pi\" style=\"display: inline;\"><img alt=\"Bloomberg_presidentialcandidates_1\" class=\"asset  asset-image at-xid-6a00d8341e992c53ef0240a45e5f68200c img-responsive\" src=\"https://junkcharts.typepad.com/.a/6a00d8341e992c53ef0240a45e5f68200c-350wi\" style=\"width: 350px;\" title=\"Bloomberg_presidentialcandidates_1\" /></a></p>\r\n<p>From top to bottom are the sequential presidential races. The far right vertical axis is the finish line. Going right to left is the time before the finish line. In 2008, for example, there are candidates who entered the race much earlier than typical.</p>\r\n<p>This chart presents an aggregate view of the data. We get a sense of when most of the candidates enter the race, when most of them are knocked out, and also a glimpse of outliers. The general pattern across multiple elections is also clear. The design is a stacked <a href=\"https://junkcharts.typepad.com/junk_charts/area_chart\" title=\"Posts about area charts\">area chart</a> with the baseline in the middle, rather than the bottom, of the chart.</p>\r\n<p>Sure, the chart can disappoint those readers who want details and precise numbers. It&#39;s not immediately apparent how many candidates were in the race at the height of 2008, nor who the candidates were.</p>\r\n<p>The designer added a nice touch. By clicking on any of the stacks, it transforms into a <a href=\"https://junkcharts.typepad.com/junk_charts/bar_chart\" title=\"Posts about bar charts\">bar chart</a>, showing the extent of each candidate&#39;s participation in the race.</p>\r\n<p><a class=\"asset-img-link\" href=\"https://junkcharts.typepad.com/.a/6a00d8341e992c53ef0240a45e5fb0200c-pi\" style=\"display: inline;\"><img alt=\"Bloomberg_presidentialcandidates_2\" class=\"asset  asset-image at-xid-6a00d8341e992c53ef0240a45e5fb0200c img-responsive\" src=\"https://junkcharts.typepad.com/.a/6a00d8341e992c53ef0240a45e5fb0200c-350wi\" style=\"width: 350px;\" title=\"Bloomberg_presidentialcandidates_2\" /></a></p>\r\n<p>I wish this was a way to collapse the bar chart back to the stack. You can reload the page to start afresh.</p>\r\n<p>***</p>\r\n<p>This elegant design touch makes the user experience playful. It&#39;s also an elegant way to present what is essentially a panel of plots. Imagine the more traditional presentation of placing the stack and the bar chart side by side.</p>\r\n<p>This design does not escape the trade-off between entertainment value and data integrity. Looking at the 2004 campaign, one should expect to see the blue stack halve in size around day 100 when Kerry became the last man standing. That moment is not marked in the stack. The stack can be interpreted as a <em>smoothed</em> version of the count of active candidates.</p>\r\n<p><a class=\"asset-img-link\" href=\"https://junkcharts.typepad.com/.a/6a00d8341e992c53ef0240a45e6347200c-pi\" style=\"display: inline;\"><img alt=\"Redo_bloombergpresidentialcandidates_3\" class=\"asset  asset-image at-xid-6a00d8341e992c53ef0240a45e6347200c img-responsive\" src=\"https://junkcharts.typepad.com/.a/6a00d8341e992c53ef0240a45e6347200c-350wi\" style=\"width: 350px;\" title=\"Redo_bloombergpresidentialcandidates_3\" /></a></p>\r\n<p>I suppose some may complain the stack misrepresents the data somewhat. I find it an attractive way of presenting the big-picture message to an audience that mostly spend less than a minute looking at the graphic.</p>",
         "description": "Kaiser Fung (Junkcharts, Principal Analytics Prep) appreciates a Bloomberg data visualization about the ebb and flow of presidential primary elections in the U.S. featuring a stack area chart morphing into a bar chart.",
         "embeddedAudioLinks": [],
         "embeddedImageLinks": [
          {
           "height": 966,
           "url": "https://a0.typepad.com/6a00d8341e992c53ef0240a45e5f68200c-pi",
           "urlTemplate": "https://a0.typepad.com/6a00d8341e992c53ef0240a45e5f68200c-{spec}",
           "width": 1272
          },
          {
           "height": 942,
           "url": "https://a0.typepad.com/6a00d8341e992c53ef0240a45e5fb0200c-pi",
           "urlTemplate": "https://a0.typepad.com/6a00d8341e992c53ef0240a45e5fb0200c-{spec}",
           "width": 1260
          },
          {
           "height": 776,
           "url": "https://a7.typepad.com/6a00d8341e992c53ef0240a45e6347200c-pi",
           "urlTemplate": "https://a7.typepad.com/6a00d8341e992c53ef0240a45e6347200c-{spec}",
           "width": 1014
          }
         ],
         "embeddedVideoLinks": [],
         "excerpt": "Kaiser Fung (Junkcharts, Principal Analytics Prep) appreciates a Bloomberg data visualization about the ebb and flow of presidential primary elections in the U.S. featuring a stack area chart morphing into a bar chart.",
         "favoriteCount": 0,
         "filename": "elegant-way-to-present-a-pair-of-charts",
         "groups": [],
         "hasExtendedContent": false,
         "id": "tag:api.typepad.com,2009:6a00d8341e992c53ef0240a4ac3105200b",
         "objectType": "Post",
         "objectTypes": [
          "tag:api.typepad.com,2009:Post"
         ],
         "permalinkUrl": "https://junkcharts.typepad.com/junk_charts/2019/05/elegant-way-to-present-a-pair-of-charts.html",
         "published": "2019-05-17T13:05:00Z",
         "reblogCount": 0,
         "renderedContent": "<p>The Bloomberg team has come up with a few goodies lately. I was captivated by the following graphic about the ebb and flow of U.S. presidential candidates across recent campaigns. Link to the full presentation <a href=\"https://www.bloomberg.com/graphics/democratic-party-candidates-running-2020-election/\" title=\"Link to Bloomberg\">here</a>.</p>\r\n<p>The highlight is at the bottom of the page. This is an excerpt of the chart:</p>\r\n<p><a class=\"asset-img-link\" href=\"https://junkcharts.typepad.com/.a/6a00d8341e992c53ef0240a45e5f68200c-pi\" style=\"display: inline;\"><img alt=\"Bloomberg_presidentialcandidates_1\" class=\"asset  asset-image at-xid-6a00d8341e992c53ef0240a45e5f68200c img-responsive\" src=\"https://junkcharts.typepad.com/.a/6a00d8341e992c53ef0240a45e5f68200c-350wi\" style=\"width: 350px;\" title=\"Bloomberg_presidentialcandidates_1\" /></a></p>\r\n<p>From top to bottom are the sequential presidential races. The far right vertical axis is the finish line. Going right to left is the time before the finish line. In 2008, for example, there are candidates who entered the race much earlier than typical.</p>\r\n<p>This chart presents an aggregate view of the data. We get a sense of when most of the candidates enter the race, when most of them are knocked out, and also a glimpse of outliers. The general pattern across multiple elections is also clear. The design is a stacked <a href=\"https://junkcharts.typepad.com/junk_charts/area_chart\" title=\"Posts about area charts\">area chart</a> with the baseline in the middle, rather than the bottom, of the chart.</p>\r\n<p>Sure, the chart can disappoint those readers who want details and precise numbers. It&#39;s not immediately apparent how many candidates were in the race at the height of 2008, nor who the candidates were.</p>\r\n<p>The designer added a nice touch. By clicking on any of the stacks, it transforms into a <a href=\"https://junkcharts.typepad.com/junk_charts/bar_chart\" title=\"Posts about bar charts\">bar chart</a>, showing the extent of each candidate&#39;s participation in the race.</p>\r\n<p><a class=\"asset-img-link\" href=\"https://junkcharts.typepad.com/.a/6a00d8341e992c53ef0240a45e5fb0200c-pi\" style=\"display: inline;\"><img alt=\"Bloomberg_presidentialcandidates_2\" class=\"asset  asset-image at-xid-6a00d8341e992c53ef0240a45e5fb0200c img-responsive\" src=\"https://junkcharts.typepad.com/.a/6a00d8341e992c53ef0240a45e5fb0200c-350wi\" style=\"width: 350px;\" title=\"Bloomberg_presidentialcandidates_2\" /></a></p>\r\n<p>I wish this was a way to collapse the bar chart back to the stack. You can reload the page to start afresh.</p>\r\n<p>***</p>\r\n<p>This elegant design touch makes the user experience playful. It&#39;s also an elegant way to present what is essentially a panel of plots. Imagine the more traditional presentation of placing the stack and the bar chart side by side.</p>\r\n<p>This design does not escape the trade-off between entertainment value and data integrity. Looking at the 2004 campaign, one should expect to see the blue stack halve in size around day 100 when Kerry became the last man standing. That moment is not marked in the stack. The stack can be interpreted as a <em>smoothed</em> version of the count of active candidates.</p>\r\n<p><a class=\"asset-img-link\" href=\"https://junkcharts.typepad.com/.a/6a00d8341e992c53ef0240a45e6347200c-pi\" style=\"display: inline;\"><img alt=\"Redo_bloombergpresidentialcandidates_3\" class=\"asset  asset-image at-xid-6a00d8341e992c53ef0240a45e6347200c img-responsive\" src=\"https://junkcharts.typepad.com/.a/6a00d8341e992c53ef0240a45e6347200c-350wi\" style=\"width: 350px;\" title=\"Redo_bloombergpresidentialcandidates_3\" /></a></p>\r\n<p>I suppose some may complain the stack misrepresents the data somewhat. I find it an attractive way of presenting the big-picture message to an audience that mostly spend less than a minute looking at the graphic.</p>",
         "shortUrl": "http://bit.ly/2WNcHk5",
         "textFormat": "html",
         "title": "Elegant way to present a pair of charts",
         "urlId": "6a00d8341e992c53ef0240a4ac3105200b"
        },
        {
         "author": {
          "aboutMe": "Kaiser Fung, Author, Junk Charts, Numbersense, Numbers Rule Your World",
          "avatarLink": {
           "height": 250,
           "url": "https://static.typepad.com/.shared/default-userpics/03-250si.gif",
           "width": 250
          },
          "displayName": "junkcharts",
          "id": "tag:api.typepad.com,2009:6p00d8341e992c53ef",
          "interests": [
           "practical statistics",
           "data visualization",
           "business analytics",
           "bootcamp",
           "data science"
          ],
          "location": null,
          "objectType": "User",
          "objectTypes": [
           "tag:api.typepad.com,2009:User"
          ],
          "preferredUsername": "junkcharts",
          "profilePageUrl": "http://profile.typepad.com/junkcharts",
          "urlId": "6p00d8341e992c53ef"
         },
         "categories": [
          "Aggregation",
          "Bar chart",
          "Bloomberg",
          "Color",
          "Comparability",
          "Compound plots",
          "Dot plot",
          "Economics",
          "Pie chart",
          "Simplicity",
          "Small multiples",
          "Sorting",
          "Statistics"
         ],
         "commentCount": 0,
         "container": {
          "displayName": "Junk Charts",
          "homeUrl": "https://junkcharts.typepad.com/junk_charts/",
          "id": "tag:api.typepad.com,2009:6a00d8341e992c53ef00d8341e9a0553ef",
          "objectType": "Blog",
          "urlId": "6a00d8341e992c53ef00d8341e9a0553ef"
         },
         "content": "<p>Bloomberg featured a thought-provoking <a href=\"https://www.bloomberg.com/graphics/2019-uk-gender-pay-gap/\" title=\"Link to Bloomberg\">dataviz</a> that illustrates the pay gap by gender in the U.K. The dataset underlying this effort is complex, and the designers did a good job simplifying the data for ease of comprehension.</p>\r\n<p>U.K. companies are required to submit data on salaries and bonuses by gender, and by pay quartiles. The dataset is incomplete, since some companies are slow to report, and the analyst decided not to merge companies that changed names.</p>\r\n<p>Companies are classified into industry groups. Readers who read Chapter 3 of <span style=\"color: #438059;\"><strong>Numbers Rule Your World</strong></span> (<a href=\"https://amzn.to/2zssjj4\" title=\"Link to Amazon\">link</a>) should ask whether these group differences are meaningful by themselves, without controlling for seniority, job titles, etc. The chapter features one method used by the educational testing industry to take a more nuanced analysis of group differences.</p>\r\n<p>***</p>\r\n<p>The Bloomberg visualization has two sections. In the top section, each company is represented by the percent difference between average female pay and average male pay. Then the companies within a given industry is shown in a histogram. The histograms provide a view of the disparity between companies within a given industry. The black line represents the relative proportion of companies in a given industry that have no gender pay gap but it’s the weight of the histogram on either side of the black line that carries the graphic’s message.</p>\r\n<p>This is the histogram for arts, entertainment and recreation.</p>\r\n<p><a class=\"asset-img-link\" href=\"https://junkcharts.typepad.com/.a/6a00d8341e992c53ef0240a45d5dc3200c-pi\" style=\"display: inline;\"><img alt=\"Bloomberg_genderpaygap_arts\" class=\"asset  asset-image at-xid-6a00d8341e992c53ef0240a45d5dc3200c img-responsive\" src=\"https://junkcharts.typepad.com/.a/6a00d8341e992c53ef0240a45d5dc3200c-450wi\" style=\"width: 425px;\" title=\"Bloomberg_genderpaygap_arts\" /></a></p>\r\n<p>The spread within this industry is very wide, especially on the left side of the black line. A large proportion of these companies pay women less on average than men, and how much less is highly variable. There is one extreme positive value: Chelsea FC Foundation that pays the average female about 40% more than the average male.</p>\r\n<p>This is the histogram for the public sector.</p>\r\n<p><a class=\"asset-img-link\" href=\"https://junkcharts.typepad.com/.a/6a00d8341e992c53ef0240a45d5df4200c-pi\" style=\"display: inline;\"><img alt=\"Bloomberg_genderpaygap_public\" class=\"asset  asset-image at-xid-6a00d8341e992c53ef0240a45d5df4200c img-responsive\" src=\"https://junkcharts.typepad.com/.a/6a00d8341e992c53ef0240a45d5df4200c-450wi\" style=\"width: 425px;\" title=\"Bloomberg_genderpaygap_public\" /></a><br />It is a much tighter distribution, meaning that the pay gaps vary less from organization to organization (this statement ignores the possibility that there are outliers not visible on this graphic). Again, the vast majority of entities in this sector pay women less than men on average.</p>\r\n<p>***</p>\r\n<p>The second part of the visualization look at the quartile data. The employees of each company are divided into four equal-sized groups, based on their wages. Think of these groups as the Top 25% Earners, the Second 25%, etc. Within each group, the analyst looks at the proportion of women. If gender is independent of pay, then we should expect the proportions of women to be about the same for all four quartiles. (This analysis considers gender to be the only explainer for pay gaps. This is a problem I&#39;ve called <a href=\"https://junkcharts.typepad.com/numbersruleyourworld/xyopia\" title=\"Posts about xyopia\">xyopia</a>, that frames a complex multivariate issue as a bivariate problem involving one outcome and one explanatory variable. Chapter 3 of&#0160;<span style=\"color: #438059;\"><strong>Numbers Rule Your World</strong></span> (<a href=\"https://amzn.to/2zssjj4\" title=\"Link to Amazon\">link</a>) discusses how statisticians approach this issue.)</p>\r\n<p><a class=\"asset-img-link\" href=\"https://junkcharts.typepad.com/.a/6a00d8341e992c53ef0240a4868e9f200d-pi\" style=\"float: right;\"><img alt=\"Bloomberg_genderpaygap_public_pie\" class=\"asset  asset-image at-xid-6a00d8341e992c53ef0240a4868e9f200d img-responsive\" src=\"https://junkcharts.typepad.com/.a/6a00d8341e992c53ef0240a4868e9f200d-200wi\" style=\"width: 200px; margin: 0px 0px 5px 5px;\" title=\"Bloomberg_genderpaygap_public_pie\" /></a>On the right is the chart for the public sector. This is a pie chart used as a container. Every pie has four equal-sized slices representing the four quartiles of pay.</p>\r\n<p>The female proportion is encoded in both the size and color of the pie slices. The size encoding is more precise while the color encoding has only 4 levels so it provides a “binned” summary view of the same data.</p>\r\n<p>For the public sector, the lighter-colored slice shows the top 25% earners, and its light color means the proportion of women in the top 25% earners group is between 30 and 50 percent. As we move clockwise around the pie, the slices represent the 2nd, 3rd and bottom 25% earners, and women form 50 to 70 percent of each of those three quartiles.</p>\r\n<p>To read this chart properly, <strong>the reader must first do one calculation</strong>. Women represent about 60% of the top 25% earners in the public sector. Is that good or bad? This depends on the overall representation of women in the public sector. If the sector employs 75 percent women overall, then the 60 percent does not look good but if it employs 40 percent women, then the same value of 60% tells us that the female employees are disproportionately found in the top 25% earners.</p>\r\n<p>That means the reader must compare each value in the pie chart against the overall proportion of women, which is learned from the average of the four quartiles.</p>\r\n<p>***</p>\r\n<p>In the chart below, I make this relative <a href=\"https://junkcharts.typepad.com/junk_charts/comparability\" title=\"Posts about comparability\">comparison</a> explicit. The overall proportion of women in each industry is shown using an open dot. Then the graphic displays two <a href=\"https://junkcharts.typepad.com/junk_charts/bar_chart\" title=\"Posts about bar charts\">bars</a>, one for the Top 25% earners, and one for the Bottom 25% earners. The bars show the gap between those quartiles and the overall female proportion. For the top earners, the size of the red bars shows the degree of under-representation of women while for the bottom earners, the size of the gray bars shows the degree of over-representation of women.</p>\r\n<p><a class=\"asset-img-link\" href=\"https://junkcharts.typepad.com/.a/6a00d8341e992c53ef0240a4868f64200d-pi\" style=\"display: inline;\"><img alt=\"Redo_junkcharts_bloombergukgendergap\" class=\"asset  asset-image at-xid-6a00d8341e992c53ef0240a4868f64200d img-responsive\" src=\"https://junkcharts.typepad.com/.a/6a00d8341e992c53ef0240a4868f64200d-500wi\" style=\"width: 500px;\" title=\"Redo_junkcharts_bloombergukgendergap\" /></a></p>\r\n<p>The net sum of the bar lengths is a plausible measure of gender inequality.</p>\r\n<p>The industries are <a href=\"https://junkcharts.typepad.com/junk_charts/sorting\" title=\"Posts about order\">sorted</a> from the ones employing fewer women (at the top) to the ones employing the most women (at the bottom). An alternative is to sort by total bar lengths. In the original Bloomberg chart - the small multiples of pie charts, the industries are sorted by the proportion of women in the bottom 25% pay quartile, from smallest to largest.</p>\r\n<p>In making this dataviz, I elected to ignore the middle 50%. This is not a problem since any quartile above the average must be compensated by a different quartile below the average.</p>\r\n<p>***</p>\r\n<p>The challenge of complex datasets is discovering simple ways to convey the underlying message. This usually requires quite a bit of upfront analytics, data transformation, and lots of sketching.</p>\r\n<p>&#0160;</p>\r\n<p>&#0160;</p>",
         "description": "Kaiser Fung (Junkcharts, Principal Analytics Prep) looks at Bloomberg's visualization of the U.K. gender pay gap across industries, and discusses ways to simplify complex datasets for visualization.",
         "embeddedAudioLinks": [],
         "embeddedImageLinks": [
          {
           "height": 270,
           "url": "https://a3.typepad.com/6a00d8341e992c53ef0240a45d5dc3200c-pi",
           "urlTemplate": "https://a3.typepad.com/6a00d8341e992c53ef0240a45d5dc3200c-{spec}",
           "width": 1424
          },
          {
           "height": 712,
           "url": "https://a4.typepad.com/6a00d8341e992c53ef0240a45d5df4200c-pi",
           "urlTemplate": "https://a4.typepad.com/6a00d8341e992c53ef0240a45d5df4200c-{spec}",
           "width": 1480
          },
          {
           "height": 378,
           "url": "https://a7.typepad.com/6a00d8341e992c53ef0240a4868e9f200d-pi",
           "urlTemplate": "https://a7.typepad.com/6a00d8341e992c53ef0240a4868e9f200d-{spec}",
           "width": 294
          },
          {
           "height": 1002,
           "url": "https://a4.typepad.com/6a00d8341e992c53ef0240a4868f64200d-pi",
           "urlTemplate": "https://a4.typepad.com/6a00d8341e992c53ef0240a4868f64200d-{spec}",
           "width": 1726
          }
         ],
         "embeddedVideoLinks": [],
         "excerpt": "Kaiser Fung (Junkcharts, Principal Analytics Prep) looks at Bloomberg's visualization of the U.K. gender pay gap across industries, and discusses ways to simplify complex datasets for visualization.",
         "favoriteCount": 0,
         "filename": "seeking-simplicity-in-complex-data-bloombergs-dataviz-on-uk-gender-pay-gap",
         "groups": [],
         "hasExtendedContent": false,
         "id": "tag:api.typepad.com,2009:6a00d8341e992c53ef0240a4868d80200d",
         "objectType": "Post",
         "objectTypes": [
          "tag:api.typepad.com,2009:Post"
         ],
         "permalinkUrl": "https://junkcharts.typepad.com/junk_charts/2019/05/seeking-simplicity-in-complex-data-bloombergs-dataviz-on-uk-gender-pay-gap.html",
         "published": "2019-05-13T16:10:00Z",
         "reblogCount": 0,
         "renderedContent": "<p>Bloomberg featured a thought-provoking <a href=\"https://www.bloomberg.com/graphics/2019-uk-gender-pay-gap/\" title=\"Link to Bloomberg\">dataviz</a> that illustrates the pay gap by gender in the U.K. The dataset underlying this effort is complex, and the designers did a good job simplifying the data for ease of comprehension.</p>\r\n<p>U.K. companies are required to submit data on salaries and bonuses by gender, and by pay quartiles. The dataset is incomplete, since some companies are slow to report, and the analyst decided not to merge companies that changed names.</p>\r\n<p>Companies are classified into industry groups. Readers who read Chapter 3 of <span style=\"color: #438059;\"><strong>Numbers Rule Your World</strong></span> (<a href=\"https://amzn.to/2zssjj4\" title=\"Link to Amazon\">link</a>) should ask whether these group differences are meaningful by themselves, without controlling for seniority, job titles, etc. The chapter features one method used by the educational testing industry to take a more nuanced analysis of group differences.</p>\r\n<p>***</p>\r\n<p>The Bloomberg visualization has two sections. In the top section, each company is represented by the percent difference between average female pay and average male pay. Then the companies within a given industry is shown in a histogram. The histograms provide a view of the disparity between companies within a given industry. The black line represents the relative proportion of companies in a given industry that have no gender pay gap but it’s the weight of the histogram on either side of the black line that carries the graphic’s message.</p>\r\n<p>This is the histogram for arts, entertainment and recreation.</p>\r\n<p><a class=\"asset-img-link\" href=\"https://junkcharts.typepad.com/.a/6a00d8341e992c53ef0240a45d5dc3200c-pi\" style=\"display: inline;\"><img alt=\"Bloomberg_genderpaygap_arts\" class=\"asset  asset-image at-xid-6a00d8341e992c53ef0240a45d5dc3200c img-responsive\" src=\"https://junkcharts.typepad.com/.a/6a00d8341e992c53ef0240a45d5dc3200c-450wi\" style=\"width: 425px;\" title=\"Bloomberg_genderpaygap_arts\" /></a></p>\r\n<p>The spread within this industry is very wide, especially on the left side of the black line. A large proportion of these companies pay women less on average than men, and how much less is highly variable. There is one extreme positive value: Chelsea FC Foundation that pays the average female about 40% more than the average male.</p>\r\n<p>This is the histogram for the public sector.</p>\r\n<p><a class=\"asset-img-link\" href=\"https://junkcharts.typepad.com/.a/6a00d8341e992c53ef0240a45d5df4200c-pi\" style=\"display: inline;\"><img alt=\"Bloomberg_genderpaygap_public\" class=\"asset  asset-image at-xid-6a00d8341e992c53ef0240a45d5df4200c img-responsive\" src=\"https://junkcharts.typepad.com/.a/6a00d8341e992c53ef0240a45d5df4200c-450wi\" style=\"width: 425px;\" title=\"Bloomberg_genderpaygap_public\" /></a><br />It is a much tighter distribution, meaning that the pay gaps vary less from organization to organization (this statement ignores the possibility that there are outliers not visible on this graphic). Again, the vast majority of entities in this sector pay women less than men on average.</p>\r\n<p>***</p>\r\n<p>The second part of the visualization look at the quartile data. The employees of each company are divided into four equal-sized groups, based on their wages. Think of these groups as the Top 25% Earners, the Second 25%, etc. Within each group, the analyst looks at the proportion of women. If gender is independent of pay, then we should expect the proportions of women to be about the same for all four quartiles. (This analysis considers gender to be the only explainer for pay gaps. This is a problem I&#39;ve called <a href=\"https://junkcharts.typepad.com/numbersruleyourworld/xyopia\" title=\"Posts about xyopia\">xyopia</a>, that frames a complex multivariate issue as a bivariate problem involving one outcome and one explanatory variable. Chapter 3 of&#0160;<span style=\"color: #438059;\"><strong>Numbers Rule Your World</strong></span> (<a href=\"https://amzn.to/2zssjj4\" title=\"Link to Amazon\">link</a>) discusses how statisticians approach this issue.)</p>\r\n<p><a class=\"asset-img-link\" href=\"https://junkcharts.typepad.com/.a/6a00d8341e992c53ef0240a4868e9f200d-pi\" style=\"float: right;\"><img alt=\"Bloomberg_genderpaygap_public_pie\" class=\"asset  asset-image at-xid-6a00d8341e992c53ef0240a4868e9f200d img-responsive\" src=\"https://junkcharts.typepad.com/.a/6a00d8341e992c53ef0240a4868e9f200d-200wi\" style=\"width: 200px; margin: 0px 0px 5px 5px;\" title=\"Bloomberg_genderpaygap_public_pie\" /></a>On the right is the chart for the public sector. This is a pie chart used as a container. Every pie has four equal-sized slices representing the four quartiles of pay.</p>\r\n<p>The female proportion is encoded in both the size and color of the pie slices. The size encoding is more precise while the color encoding has only 4 levels so it provides a “binned” summary view of the same data.</p>\r\n<p>For the public sector, the lighter-colored slice shows the top 25% earners, and its light color means the proportion of women in the top 25% earners group is between 30 and 50 percent. As we move clockwise around the pie, the slices represent the 2nd, 3rd and bottom 25% earners, and women form 50 to 70 percent of each of those three quartiles.</p>\r\n<p>To read this chart properly, <strong>the reader must first do one calculation</strong>. Women represent about 60% of the top 25% earners in the public sector. Is that good or bad? This depends on the overall representation of women in the public sector. If the sector employs 75 percent women overall, then the 60 percent does not look good but if it employs 40 percent women, then the same value of 60% tells us that the female employees are disproportionately found in the top 25% earners.</p>\r\n<p>That means the reader must compare each value in the pie chart against the overall proportion of women, which is learned from the average of the four quartiles.</p>\r\n<p>***</p>\r\n<p>In the chart below, I make this relative <a href=\"https://junkcharts.typepad.com/junk_charts/comparability\" title=\"Posts about comparability\">comparison</a> explicit. The overall proportion of women in each industry is shown using an open dot. Then the graphic displays two <a href=\"https://junkcharts.typepad.com/junk_charts/bar_chart\" title=\"Posts about bar charts\">bars</a>, one for the Top 25% earners, and one for the Bottom 25% earners. The bars show the gap between those quartiles and the overall female proportion. For the top earners, the size of the red bars shows the degree of under-representation of women while for the bottom earners, the size of the gray bars shows the degree of over-representation of women.</p>\r\n<p><a class=\"asset-img-link\" href=\"https://junkcharts.typepad.com/.a/6a00d8341e992c53ef0240a4868f64200d-pi\" style=\"display: inline;\"><img alt=\"Redo_junkcharts_bloombergukgendergap\" class=\"asset  asset-image at-xid-6a00d8341e992c53ef0240a4868f64200d img-responsive\" src=\"https://junkcharts.typepad.com/.a/6a00d8341e992c53ef0240a4868f64200d-500wi\" style=\"width: 500px;\" title=\"Redo_junkcharts_bloombergukgendergap\" /></a></p>\r\n<p>The net sum of the bar lengths is a plausible measure of gender inequality.</p>\r\n<p>The industries are <a href=\"https://junkcharts.typepad.com/junk_charts/sorting\" title=\"Posts about order\">sorted</a> from the ones employing fewer women (at the top) to the ones employing the most women (at the bottom). An alternative is to sort by total bar lengths. In the original Bloomberg chart - the small multiples of pie charts, the industries are sorted by the proportion of women in the bottom 25% pay quartile, from smallest to largest.</p>\r\n<p>In making this dataviz, I elected to ignore the middle 50%. This is not a problem since any quartile above the average must be compensated by a different quartile below the average.</p>\r\n<p>***</p>\r\n<p>The challenge of complex datasets is discovering simple ways to convey the underlying message. This usually requires quite a bit of upfront analytics, data transformation, and lots of sketching.</p>\r\n<p>&#0160;</p>\r\n<p>&#0160;</p>",
         "shortUrl": "http://bit.ly/2WG15PN",
         "textFormat": "html",
         "title": "Seeking simplicity in complex data: Bloomberg's dataviz on UK gender pay gap",
         "urlId": "6a00d8341e992c53ef0240a4868d80200d"
        },
        {
         "author": {
          "aboutMe": "Kaiser Fung, Author, Junk Charts, Numbersense, Numbers Rule Your World",
          "avatarLink": {
           "height": 250,
           "url": "https://static.typepad.com/.shared/default-userpics/03-250si.gif",
           "width": 250
          },
          "displayName": "junkcharts",
          "id": "tag:api.typepad.com,2009:6p00d8341e992c53ef",
          "interests": [
           "practical statistics",
           "data visualization",
           "business analytics",
           "bootcamp",
           "data science"
          ],
          "location": null,
          "objectType": "User",
          "objectTypes": [
           "tag:api.typepad.com,2009:User"
          ],
          "preferredUsername": "junkcharts",
          "profilePageUrl": "http://profile.typepad.com/junkcharts",
          "urlId": "6p00d8341e992c53ef"
         },
         "categories": [
          "Color",
          "Current Affairs",
          "Design",
          "Living",
          "Map",
          "Politics",
          "Small multiples",
          "Trifecta checkup",
          "Variance"
         ],
         "commentCount": 3,
         "container": {
          "displayName": "Junk Charts",
          "homeUrl": "https://junkcharts.typepad.com/junk_charts/",
          "id": "tag:api.typepad.com,2009:6a00d8341e992c53ef00d8341e9a0553ef",
          "objectType": "Blog",
          "urlId": "6a00d8341e992c53ef00d8341e9a0553ef"
         },
         "content": "<p>Earlier this month, the bombs in Sri Lanka led to some data graphics in the media, educating us on the religious tensions within the island nation. I like this effort by Reuters using <a href=\"https://junkcharts.typepad.com/junk_charts/small_multiples\" title=\"Posts about small multiples\">small multiples</a> to show which religions are represented in which districts of Sri Lanka (lifted from their twitter feed):</p>\r\n<p><a class=\"asset-img-link\" href=\"https://junkcharts.typepad.com/.a/6a00d8341e992c53ef0240a4a8cb45200b-pi\" style=\"display: inline;\"><img alt=\"Reuters_srilanka_religiondistricts\" class=\"asset  asset-image at-xid-6a00d8341e992c53ef0240a4a8cb45200b img-responsive\" src=\"https://junkcharts.typepad.com/.a/6a00d8341e992c53ef0240a4a8cb45200b-450wi\" style=\"width: 425px;\" title=\"Reuters_srilanka_religiondistricts\" /></a></p>\r\n<p>The key to reading this <a href=\"https://junkcharts.typepad.com/junk_charts/map\" title=\"Posts about maps\">map</a> is the top <a href=\"https://junkcharts.typepad.com/junk_charts/legend\" title=\"Posts about legend\">legend</a>. From there, you&#39;ll notice that many of the <a href=\"https://junkcharts.typepad.com/junk_charts/color\" title=\"Posts about color\">color</a> blocks, especially for Muslims and Catholics are well short of 50 percent. The absence of the darkest tints of green and blue conveys important information. Looking at the blue map by itself misleads - Catholics are in the minority in every district except one. In this setup, readers are expected to compare between maps, and between map and legend.</p>\r\n<p>The overall distribution at the bottom of the chart is a nice piece of context.</p>\r\n<p>***</p>\r\n<p>The above design isolates each religion in its own chart, and displays the spatial spheres of influence. I played around with using different ways of paneling the <a href=\"https://junkcharts.typepad.com/junk_charts/small_multiples\" title=\"Posts about small multiples\">small multiples</a>.</p>\r\n<p>In the following graphic, the panels represent the level of dominance within each district. The first panel shows the districts in which the top religion is practiced by at least 70 percent of the population (if religions were evenly distributed across all districts, we expect 70 percent of each to be Buddhists.) The second panel shows the religions that account for 40 to 70 percent of the district&#39;s residents. By this definition, no district can appear on both the left and middle maps. This division is effective at showing districts with one dominant religion, and those that are &quot;mixed&quot;.</p>\r\n<p>In the middle panel, the displayed religion represents the top religion in a mixed district. The last panel shows the second religion in each mixed district, and these religions typically take up between 25 and 40 percent of the residents.</p>\r\n<p><a class=\"asset-img-link\" href=\"https://junkcharts.typepad.com/.a/6a00d8341e992c53ef0240a4a94211200b-pi\" style=\"display: inline;\"><img alt=\"Redo_srilankareligiondistricts_v2\" class=\"asset  asset-image at-xid-6a00d8341e992c53ef0240a4a94211200b img-responsive\" src=\"https://junkcharts.typepad.com/.a/6a00d8341e992c53ef0240a4a94211200b-450wi\" style=\"width: 425px;\" title=\"Redo_srilankareligiondistricts_v2\" /></a></p>\r\n<p>The chart shows that other than Buddhists, Hinduism is the only religion that dominates specific districts, concentrated at the northern end of the island. The districts along the east and west coasts and the &quot;neck&quot; are mixed with the top religion accounting for 40 to 70 percent of the residents. By assimilating the second and the third panels, the reader sees the top and the second religions in each of these mixed districts.</p>\r\n<p>***</p>\r\n<p>This example shows why in the <a href=\"https://bitly.com/trifectacheckup\" title=\"Posts about Trifecta Checkup\">Trifecta Checkup</a>, the Visual is a separate corner from the Question and the Data. Both maps utilize the same visual design, in terms of forms and colors and so on, but they deliver different expereinces to readers by answering different questions, and cutting the data differently.</p>\r\n<p>&#0160;</p>\r\n<p>P.S. [5/7/2019] Corrected spelling of Hindu.</p>",
         "description": "Kaiser Fung (Junk Charts, Principal Analytics Prep) takes a nice set of maps from Reuters, and explores religious diversity in Sri Lanka. This post illustrates how to produce different charts without changing the visual design.",
         "embeddedAudioLinks": [],
         "embeddedImageLinks": [
          {
           "height": 858,
           "url": "https://a5.typepad.com/6a00d8341e992c53ef0240a4a8cb45200b-pi",
           "urlTemplate": "https://a5.typepad.com/6a00d8341e992c53ef0240a4a8cb45200b-{spec}",
           "width": 1199
          },
          {
           "height": 892,
           "url": "https://a1.typepad.com/6a00d8341e992c53ef0240a4a94211200b-pi",
           "urlTemplate": "https://a1.typepad.com/6a00d8341e992c53ef0240a4a94211200b-{spec}",
           "width": 1374
          }
         ],
         "embeddedVideoLinks": [],
         "excerpt": "Kaiser Fung (Junk Charts, Principal Analytics Prep) takes a nice set of maps from Reuters, and explores religious diversity in Sri Lanka. This post illustrates how to produce different charts without changing the visual design.",
         "favoriteCount": 0,
         "filename": "morphing-small-multiples-to-investigate-sri-lankas-religions",
         "groups": [],
         "hasExtendedContent": false,
         "id": "tag:api.typepad.com,2009:6a00d8341e992c53ef0240a45afe27200c",
         "objectType": "Post",
         "objectTypes": [
          "tag:api.typepad.com,2009:Post"
         ],
         "permalinkUrl": "https://junkcharts.typepad.com/junk_charts/2019/05/morphing-small-multiples-to-investigate-sri-lankas-religions.html",
         "published": "2019-05-06T15:20:00Z",
         "reblogCount": 0,
         "renderedContent": "<p>Earlier this month, the bombs in Sri Lanka led to some data graphics in the media, educating us on the religious tensions within the island nation. I like this effort by Reuters using <a href=\"https://junkcharts.typepad.com/junk_charts/small_multiples\" title=\"Posts about small multiples\">small multiples</a> to show which religions are represented in which districts of Sri Lanka (lifted from their twitter feed):</p>\r\n<p><a class=\"asset-img-link\" href=\"https://junkcharts.typepad.com/.a/6a00d8341e992c53ef0240a4a8cb45200b-pi\" style=\"display: inline;\"><img alt=\"Reuters_srilanka_religiondistricts\" class=\"asset  asset-image at-xid-6a00d8341e992c53ef0240a4a8cb45200b img-responsive\" src=\"https://junkcharts.typepad.com/.a/6a00d8341e992c53ef0240a4a8cb45200b-450wi\" style=\"width: 425px;\" title=\"Reuters_srilanka_religiondistricts\" /></a></p>\r\n<p>The key to reading this <a href=\"https://junkcharts.typepad.com/junk_charts/map\" title=\"Posts about maps\">map</a> is the top <a href=\"https://junkcharts.typepad.com/junk_charts/legend\" title=\"Posts about legend\">legend</a>. From there, you&#39;ll notice that many of the <a href=\"https://junkcharts.typepad.com/junk_charts/color\" title=\"Posts about color\">color</a> blocks, especially for Muslims and Catholics are well short of 50 percent. The absence of the darkest tints of green and blue conveys important information. Looking at the blue map by itself misleads - Catholics are in the minority in every district except one. In this setup, readers are expected to compare between maps, and between map and legend.</p>\r\n<p>The overall distribution at the bottom of the chart is a nice piece of context.</p>\r\n<p>***</p>\r\n<p>The above design isolates each religion in its own chart, and displays the spatial spheres of influence. I played around with using different ways of paneling the <a href=\"https://junkcharts.typepad.com/junk_charts/small_multiples\" title=\"Posts about small multiples\">small multiples</a>.</p>\r\n<p>In the following graphic, the panels represent the level of dominance within each district. The first panel shows the districts in which the top religion is practiced by at least 70 percent of the population (if religions were evenly distributed across all districts, we expect 70 percent of each to be Buddhists.) The second panel shows the religions that account for 40 to 70 percent of the district&#39;s residents. By this definition, no district can appear on both the left and middle maps. This division is effective at showing districts with one dominant religion, and those that are &quot;mixed&quot;.</p>\r\n<p>In the middle panel, the displayed religion represents the top religion in a mixed district. The last panel shows the second religion in each mixed district, and these religions typically take up between 25 and 40 percent of the residents.</p>\r\n<p><a class=\"asset-img-link\" href=\"https://junkcharts.typepad.com/.a/6a00d8341e992c53ef0240a4a94211200b-pi\" style=\"display: inline;\"><img alt=\"Redo_srilankareligiondistricts_v2\" class=\"asset  asset-image at-xid-6a00d8341e992c53ef0240a4a94211200b img-responsive\" src=\"https://junkcharts.typepad.com/.a/6a00d8341e992c53ef0240a4a94211200b-450wi\" style=\"width: 425px;\" title=\"Redo_srilankareligiondistricts_v2\" /></a></p>\r\n<p>The chart shows that other than Buddhists, Hinduism is the only religion that dominates specific districts, concentrated at the northern end of the island. The districts along the east and west coasts and the &quot;neck&quot; are mixed with the top religion accounting for 40 to 70 percent of the residents. By assimilating the second and the third panels, the reader sees the top and the second religions in each of these mixed districts.</p>\r\n<p>***</p>\r\n<p>This example shows why in the <a href=\"https://bitly.com/trifectacheckup\" title=\"Posts about Trifecta Checkup\">Trifecta Checkup</a>, the Visual is a separate corner from the Question and the Data. Both maps utilize the same visual design, in terms of forms and colors and so on, but they deliver different expereinces to readers by answering different questions, and cutting the data differently.</p>\r\n<p>&#0160;</p>\r\n<p>P.S. [5/7/2019] Corrected spelling of Hindu.</p>",
         "shortUrl": "http://bit.ly/2Wmkyop",
         "textFormat": "html",
         "title": "Morphing small multiples to investigate Sri Lanka's religions",
         "urlId": "6a00d8341e992c53ef0240a45afe27200c"
        },
        {
         "author": {
          "aboutMe": "Kaiser Fung, Author, Junk Charts, Numbersense, Numbers Rule Your World",
          "avatarLink": {
           "height": 250,
           "url": "https://static.typepad.com/.shared/default-userpics/03-250si.gif",
           "width": 250
          },
          "displayName": "junkcharts",
          "id": "tag:api.typepad.com,2009:6p00d8341e992c53ef",
          "interests": [
           "practical statistics",
           "data visualization",
           "business analytics",
           "bootcamp",
           "data science"
          ],
          "location": null,
          "objectType": "User",
          "objectTypes": [
           "tag:api.typepad.com,2009:User"
          ],
          "preferredUsername": "junkcharts",
          "profilePageUrl": "http://profile.typepad.com/junkcharts",
          "urlId": "6p00d8341e992c53ef"
         },
         "categories": [
          "Bar chart",
          "Color",
          "Data labels",
          "Finance",
          "Pie chart",
          "Sorting",
          "Sufficiency"
         ],
         "commentCount": 0,
         "container": {
          "displayName": "Junk Charts",
          "homeUrl": "https://junkcharts.typepad.com/junk_charts/",
          "id": "tag:api.typepad.com,2009:6a00d8341e992c53ef00d8341e9a0553ef",
          "objectType": "Blog",
          "urlId": "6a00d8341e992c53ef00d8341e9a0553ef"
         },
         "content": "<p>Today we return to the basics. In a twitter exchange with Dean E., I found the following <a href=\"https://junkcharts.typepad.com/junk_charts/pie_chart\" title=\"Posts about pie charts\">pie chart</a> in an Atlantic <a href=\"https://www.theatlantic.com/technology/archive/2019/04/san-francisco-city-apps-built-or-destroyed/587389/\" title=\"Link to The Atlantic\">article</a> about who&#39;s buying San Francisco real estate:</p>\r\n<p><a class=\"asset-img-link\" href=\"https://junkcharts.typepad.com/.a/6a00d8341e992c53ef0240a482b551200d-pi\" style=\"display: inline;\"><img alt=\"Atlantic_sfrealestatepie\" border=\"0\" class=\"asset  asset-image at-xid-6a00d8341e992c53ef0240a482b551200d image-full img-responsive\" src=\"https://junkcharts.typepad.com/.a/6a00d8341e992c53ef0240a482b551200d-800wi\" title=\"Atlantic_sfrealestatepie\" /></a></p>\r\n<p>The <a href=\"https://junkcharts.typepad.com/junk_charts/pie_chart\" title=\"Posts about pie charts\">pie chart</a> is great at one thing, showing how workers in the software industry accounted for half of the real estate purchases. (Dean and I both want to see more details of the analysis as we have many questions about the underlying data. In this post, I ignore these questions.)</p>\r\n<p>After that, if we want to learn anything else from the pie chart, we have to read the <a href=\"https://junkcharts.typepad.com/junk_charts/data_labels\" title=\"Posts about data labels\">data labels</a>. This calls for one of my key recommendations: make your charts <strong>sufficient</strong>. The <em>principle</em> of self-sufficiency is that the visual elements of the data graphic should by themselves say something about the data. The <em>test</em> of self-sufficiency is executed by removing the data printed on the chart so that one can assess how much work the visual elements are performing. If the visual elements require data labels to work, then the data graphic is effectively a lookup table.</p>\r\n<p>This is the same pie chart, minus the data:</p>\r\n<p><a class=\"asset-img-link\" href=\"https://junkcharts.typepad.com/.a/6a00d8341e992c53ef0240a45981d6200c-pi\" style=\"display: inline;\"><img alt=\"Redo_atlanticsfrealestate_sufficiency\" class=\"asset  asset-image at-xid-6a00d8341e992c53ef0240a45981d6200c img-responsive\" src=\"https://junkcharts.typepad.com/.a/6a00d8341e992c53ef0240a45981d6200c-500wi\" title=\"Redo_atlanticsfrealestate_sufficiency\" /></a></p>\r\n<p>Almost all pie charts with a large number of slices are packed with data labels. Think of the labeling as a corrective action to fix the shortcoming of the form.</p>\r\n<p>Here is a <a href=\"https://junkcharts.typepad.com/junk_charts/bar_chart\" title=\"Posts about bar charts\">bar chart</a> showing the same data:</p>\r\n<p><a class=\"asset-img-link\" href=\"https://junkcharts.typepad.com/.a/6a00d8341e992c53ef0240a45981d2200c-pi\" style=\"display: inline;\"><img alt=\"Junkcharts_redo_atlanticsfrealestatebar\" class=\"asset  asset-image at-xid-6a00d8341e992c53ef0240a45981d2200c img-responsive\" src=\"https://junkcharts.typepad.com/.a/6a00d8341e992c53ef0240a45981d2200c-350wi\" style=\"width: 350px;\" title=\"Junkcharts_redo_atlanticsfrealestatebar\" /></a><br /><br /></p>\r\n<p>***</p>\r\n<p>Let&#39;s look at all the efforts made to overcome the lack of self-sufficiency.</p>\r\n<p>Here is a zoom-in on the left side of the chart:</p>\r\n<p><a class=\"asset-img-link\" href=\"https://junkcharts.typepad.com/.a/6a00d8341e992c53ef0240a45981e3200c-pi\" style=\"display: inline;\"><img alt=\"Redo_atlanticsfrealestate_labeling_1\" class=\"asset  asset-image at-xid-6a00d8341e992c53ef0240a45981e3200c img-responsive\" src=\"https://junkcharts.typepad.com/.a/6a00d8341e992c53ef0240a45981e3200c-250wi\" style=\"width: 250px;\" title=\"Redo_atlanticsfrealestate_labeling_1\" /></a></p>\r\n<p><a href=\"https://junkcharts.typepad.com/junk_charts/data_labels\" title=\"Posts about data labels\">Data labels</a> are necessary to help readers perceive the sizes of the slices. But as the slices are getting smaller, the labels are getting too dense, so the guiding lines are being stretched.</p>\r\n<p>Eventually, the designer gave up on labeling every slice. You can see that some slices are missing labels:</p>\r\n<p><a class=\"asset-img-link\" href=\"https://junkcharts.typepad.com/.a/6a00d8341e992c53ef0240a482b647200d-pi\" style=\"display: inline;\"><img alt=\"Redo_atlanticsfrealestate_labeling_3\" class=\"asset  asset-image at-xid-6a00d8341e992c53ef0240a482b647200d img-responsive\" src=\"https://junkcharts.typepad.com/.a/6a00d8341e992c53ef0240a482b647200d-250wi\" style=\"width: 250px;\" title=\"Redo_atlanticsfrealestate_labeling_3\" /></a></p>\r\n<p>The designer also had to give up on <a href=\"https://junkcharts.typepad.com/junk_charts/sorting\" title=\"Posts about order\">sequencing</a> the slices by the data. For example, hardware with a value of 2.4% should be placed between Education and Law. It is shifted to the top left side to make the labeling easier.</p>\r\n<p><a class=\"asset-img-link\" href=\"https://junkcharts.typepad.com/.a/6a00d8341e992c53ef0240a4a75336200b-pi\" style=\"display: inline;\"><img alt=\"Redo_atlanticsfrealestate_labeling_2\" class=\"asset  asset-image at-xid-6a00d8341e992c53ef0240a4a75336200b img-responsive\" src=\"https://junkcharts.typepad.com/.a/6a00d8341e992c53ef0240a4a75336200b-250wi\" style=\"width: 250px;\" title=\"Redo_atlanticsfrealestate_labeling_2\" /></a></p>\r\n<p>Fitting all the data labels to the slices becomes the singular task at hand.</p>\r\n<p>&#0160;</p>",
         "description": "Kaiser Fung (Junkcharts, Principal Analytics Prep) explores a fundamental shortcoming of pie charts, in the context of the principle of self-sufficiency, using a graphic from the Altantic on San Francisco home sales.",
         "embeddedAudioLinks": [],
         "embeddedImageLinks": [
          {
           "height": 372,
           "url": "https://a1.typepad.com/6a00d8341e992c53ef0240a482b551200d-pi",
           "urlTemplate": "https://a1.typepad.com/6a00d8341e992c53ef0240a482b551200d-{spec}",
           "width": 672
          },
          {
           "height": 644,
           "url": "https://a6.typepad.com/6a00d8341e992c53ef0240a45981d6200c-pi",
           "urlTemplate": "https://a6.typepad.com/6a00d8341e992c53ef0240a45981d6200c-{spec}",
           "width": 920
          },
          {
           "height": 1008,
           "url": "https://a2.typepad.com/6a00d8341e992c53ef0240a45981d2200c-pi",
           "urlTemplate": "https://a2.typepad.com/6a00d8341e992c53ef0240a45981d2200c-{spec}",
           "width": 928
          },
          {
           "height": 666,
           "url": "https://a3.typepad.com/6a00d8341e992c53ef0240a45981e3200c-pi",
           "urlTemplate": "https://a3.typepad.com/6a00d8341e992c53ef0240a45981e3200c-{spec}",
           "width": 566
          },
          {
           "height": 616,
           "url": "https://a7.typepad.com/6a00d8341e992c53ef0240a482b647200d-pi",
           "urlTemplate": "https://a7.typepad.com/6a00d8341e992c53ef0240a482b647200d-{spec}",
           "width": 610
          },
          {
           "height": 822,
           "url": "https://a6.typepad.com/6a00d8341e992c53ef0240a4a75336200b-pi",
           "urlTemplate": "https://a6.typepad.com/6a00d8341e992c53ef0240a4a75336200b-{spec}",
           "width": 782
          }
         ],
         "embeddedVideoLinks": [],
         "excerpt": "Kaiser Fung (Junkcharts, Principal Analytics Prep) explores a fundamental shortcoming of pie charts, in the context of the principle of self-sufficiency, using a graphic from the Altantic on San Francisco home sales.",
         "favoriteCount": 0,
         "filename": "watching-a-valiant-effort-to-rescue-the-pie-chart",
         "groups": [],
         "hasExtendedContent": false,
         "id": "tag:api.typepad.com,2009:6a00d8341e992c53ef0240a45980e1200c",
         "objectType": "Post",
         "objectTypes": [
          "tag:api.typepad.com,2009:Post"
         ],
         "permalinkUrl": "https://junkcharts.typepad.com/junk_charts/2019/05/watching-a-valiant-effort-to-rescue-the-pie-chart.html",
         "published": "2019-05-02T12:42:00Z",
         "reblogCount": 0,
         "renderedContent": "<p>Today we return to the basics. In a twitter exchange with Dean E., I found the following <a href=\"https://junkcharts.typepad.com/junk_charts/pie_chart\" title=\"Posts about pie charts\">pie chart</a> in an Atlantic <a href=\"https://www.theatlantic.com/technology/archive/2019/04/san-francisco-city-apps-built-or-destroyed/587389/\" title=\"Link to The Atlantic\">article</a> about who&#39;s buying San Francisco real estate:</p>\r\n<p><a class=\"asset-img-link\" href=\"https://junkcharts.typepad.com/.a/6a00d8341e992c53ef0240a482b551200d-pi\" style=\"display: inline;\"><img alt=\"Atlantic_sfrealestatepie\" border=\"0\" class=\"asset  asset-image at-xid-6a00d8341e992c53ef0240a482b551200d image-full img-responsive\" src=\"https://junkcharts.typepad.com/.a/6a00d8341e992c53ef0240a482b551200d-800wi\" title=\"Atlantic_sfrealestatepie\" /></a></p>\r\n<p>The <a href=\"https://junkcharts.typepad.com/junk_charts/pie_chart\" title=\"Posts about pie charts\">pie chart</a> is great at one thing, showing how workers in the software industry accounted for half of the real estate purchases. (Dean and I both want to see more details of the analysis as we have many questions about the underlying data. In this post, I ignore these questions.)</p>\r\n<p>After that, if we want to learn anything else from the pie chart, we have to read the <a href=\"https://junkcharts.typepad.com/junk_charts/data_labels\" title=\"Posts about data labels\">data labels</a>. This calls for one of my key recommendations: make your charts <strong>sufficient</strong>. The <em>principle</em> of self-sufficiency is that the visual elements of the data graphic should by themselves say something about the data. The <em>test</em> of self-sufficiency is executed by removing the data printed on the chart so that one can assess how much work the visual elements are performing. If the visual elements require data labels to work, then the data graphic is effectively a lookup table.</p>\r\n<p>This is the same pie chart, minus the data:</p>\r\n<p><a class=\"asset-img-link\" href=\"https://junkcharts.typepad.com/.a/6a00d8341e992c53ef0240a45981d6200c-pi\" style=\"display: inline;\"><img alt=\"Redo_atlanticsfrealestate_sufficiency\" class=\"asset  asset-image at-xid-6a00d8341e992c53ef0240a45981d6200c img-responsive\" src=\"https://junkcharts.typepad.com/.a/6a00d8341e992c53ef0240a45981d6200c-500wi\" title=\"Redo_atlanticsfrealestate_sufficiency\" /></a></p>\r\n<p>Almost all pie charts with a large number of slices are packed with data labels. Think of the labeling as a corrective action to fix the shortcoming of the form.</p>\r\n<p>Here is a <a href=\"https://junkcharts.typepad.com/junk_charts/bar_chart\" title=\"Posts about bar charts\">bar chart</a> showing the same data:</p>\r\n<p><a class=\"asset-img-link\" href=\"https://junkcharts.typepad.com/.a/6a00d8341e992c53ef0240a45981d2200c-pi\" style=\"display: inline;\"><img alt=\"Junkcharts_redo_atlanticsfrealestatebar\" class=\"asset  asset-image at-xid-6a00d8341e992c53ef0240a45981d2200c img-responsive\" src=\"https://junkcharts.typepad.com/.a/6a00d8341e992c53ef0240a45981d2200c-350wi\" style=\"width: 350px;\" title=\"Junkcharts_redo_atlanticsfrealestatebar\" /></a><br /><br /></p>\r\n<p>***</p>\r\n<p>Let&#39;s look at all the efforts made to overcome the lack of self-sufficiency.</p>\r\n<p>Here is a zoom-in on the left side of the chart:</p>\r\n<p><a class=\"asset-img-link\" href=\"https://junkcharts.typepad.com/.a/6a00d8341e992c53ef0240a45981e3200c-pi\" style=\"display: inline;\"><img alt=\"Redo_atlanticsfrealestate_labeling_1\" class=\"asset  asset-image at-xid-6a00d8341e992c53ef0240a45981e3200c img-responsive\" src=\"https://junkcharts.typepad.com/.a/6a00d8341e992c53ef0240a45981e3200c-250wi\" style=\"width: 250px;\" title=\"Redo_atlanticsfrealestate_labeling_1\" /></a></p>\r\n<p><a href=\"https://junkcharts.typepad.com/junk_charts/data_labels\" title=\"Posts about data labels\">Data labels</a> are necessary to help readers perceive the sizes of the slices. But as the slices are getting smaller, the labels are getting too dense, so the guiding lines are being stretched.</p>\r\n<p>Eventually, the designer gave up on labeling every slice. You can see that some slices are missing labels:</p>\r\n<p><a class=\"asset-img-link\" href=\"https://junkcharts.typepad.com/.a/6a00d8341e992c53ef0240a482b647200d-pi\" style=\"display: inline;\"><img alt=\"Redo_atlanticsfrealestate_labeling_3\" class=\"asset  asset-image at-xid-6a00d8341e992c53ef0240a482b647200d img-responsive\" src=\"https://junkcharts.typepad.com/.a/6a00d8341e992c53ef0240a482b647200d-250wi\" style=\"width: 250px;\" title=\"Redo_atlanticsfrealestate_labeling_3\" /></a></p>\r\n<p>The designer also had to give up on <a href=\"https://junkcharts.typepad.com/junk_charts/sorting\" title=\"Posts about order\">sequencing</a> the slices by the data. For example, hardware with a value of 2.4% should be placed between Education and Law. It is shifted to the top left side to make the labeling easier.</p>\r\n<p><a class=\"asset-img-link\" href=\"https://junkcharts.typepad.com/.a/6a00d8341e992c53ef0240a4a75336200b-pi\" style=\"display: inline;\"><img alt=\"Redo_atlanticsfrealestate_labeling_2\" class=\"asset  asset-image at-xid-6a00d8341e992c53ef0240a4a75336200b img-responsive\" src=\"https://junkcharts.typepad.com/.a/6a00d8341e992c53ef0240a4a75336200b-250wi\" style=\"width: 250px;\" title=\"Redo_atlanticsfrealestate_labeling_2\" /></a></p>\r\n<p>Fitting all the data labels to the slices becomes the singular task at hand.</p>\r\n<p>&#0160;</p>",
         "shortUrl": "http://bit.ly/2Wqcu6h",
         "textFormat": "html",
         "title": "Watching a valiant effort to rescue the pie chart",
         "urlId": "6a00d8341e992c53ef0240a45980e1200c"
        },
        {
         "author": {
          "aboutMe": "Kaiser Fung, Author, Junk Charts, Numbersense, Numbers Rule Your World",
          "avatarLink": {
           "height": 250,
           "url": "https://static.typepad.com/.shared/default-userpics/03-250si.gif",
           "width": 250
          },
          "displayName": "junkcharts",
          "id": "tag:api.typepad.com,2009:6p00d8341e992c53ef",
          "interests": [
           "practical statistics",
           "data visualization",
           "business analytics",
           "bootcamp",
           "data science"
          ],
          "location": null,
          "objectType": "User",
          "objectTypes": [
           "tag:api.typepad.com,2009:User"
          ],
          "preferredUsername": "junkcharts",
          "profilePageUrl": "http://profile.typepad.com/junkcharts",
          "urlId": "6p00d8341e992c53ef"
         },
         "categories": [
          "Aggregation",
          "Animation",
          "Current Affairs",
          "Legend",
          "Map",
          "NYT",
          "Politics",
          "Small multiples",
          "Time series",
          "Travel"
         ],
         "commentCount": 0,
         "container": {
          "displayName": "Junk Charts",
          "homeUrl": "https://junkcharts.typepad.com/junk_charts/",
          "id": "tag:api.typepad.com,2009:6a00d8341e992c53ef00d8341e9a0553ef",
          "objectType": "Blog",
          "urlId": "6a00d8341e992c53ef00d8341e9a0553ef"
         },
         "content": "<p>I enjoyed the <a href=\"https://junkcharts.typepad.com/junk_charts/nyt\" title=\"Commentary on NYT Graphics\">New York Times</a>&#39;s data viz showing how actively the Democratic candidates were criss-crossing the nation in the month of March (<a href=\"https://www.nytimes.com/interactive/2019/04/05/us/politics/2020-democrats-campaign-stops.html\" title=\"Link to New York Times\">link</a>).</p>\r\n<p>It is a great example of layering the presentation, starting with an eye-catching <a href=\"https://junkcharts.typepad.com/junk_charts/map\" title=\"Posts about maps\">map</a> at the most <a href=\"https://junkcharts.typepad.com/junk_charts/aggregation\" title=\"Posts about aggregation\">aggregate</a> level. The designers looped through the same dataset three times.</p>\r\n<p><a class=\"asset-img-link\" href=\"https://junkcharts.typepad.com/.a/6a00d8341e992c53ef0240a4a68d4f200b-pi\" style=\"display: inline;\"><img alt=\"Nyt_candidatemap_1\" class=\"asset  asset-image at-xid-6a00d8341e992c53ef0240a4a68d4f200b img-responsive\" src=\"https://junkcharts.typepad.com/.a/6a00d8341e992c53ef0240a4a68d4f200b-450wi\" style=\"width: 425px;\" title=\"Nyt_candidatemap_1\" /></a></p>\r\n<p>This compact display packs quite a lot. We can easily identify which were the most popular states; and which candidate visited which states the most.</p>\r\n<p>I noticed how they handled the <a href=\"https://junkcharts.typepad.com/junk_charts/legend\" title=\"Posts about legend\">legend</a>. There is no explicit legend. The candidate names are spread around the map. The size legend is also missing, replaced by a short sentence explaining that size encodes the number of cities visited within the state. For a chart like this, having a precise size legend isn&#39;t that useful.</p>\r\n<p>The next section presents the same data in a <a href=\"https://junkcharts.typepad.com/junk_charts/small-multiples\" title=\"Posts about small multiples\">small-multiples</a> layout. The heads are replaced by dots.</p>\r\n<p><a class=\"asset-img-link\" href=\"https://junkcharts.typepad.com/.a/6a00d8341e992c53ef0240a481f1ec200d-pi\" style=\"display: inline;\"><img alt=\"Nyt_candidatemap_2\" class=\"asset  asset-image at-xid-6a00d8341e992c53ef0240a481f1ec200d img-responsive\" src=\"https://junkcharts.typepad.com/.a/6a00d8341e992c53ef0240a481f1ec200d-450wi\" style=\"width: 425px;\" title=\"Nyt_candidatemap_2\" /></a></p>\r\n<p>This allows more precise comparison of one candidate to another, and one location to another.</p>\r\n<p>This display has one shortcoming. If you compare the left two <a href=\"https://junkcharts.typepad.com/junk_charts/map\">maps</a> above, those for Amy Klobuchar and Beto O&#39;Rourke, it looks like they have visited roughly similar number of cities when in fact Beto went to 42 compared to 25. Reducing the size of the dots might work.</p>\r\n<p>Then, in the third visualization of the same data, the <a href=\"https://junkcharts.typepad.com/junk_charts/time-series\" title=\"Posts about time series\">time</a> dimension is emphasized. Lines are used to <a href=\"https://junkcharts.typepad.com/junk_charts/animation\" title=\"Posts about animation\">animate</a> the daily movements of the candidates, one by one.</p>\r\n<p><a class=\"asset-img-link\" href=\"https://junkcharts.typepad.com/.a/6a00d8341e992c53ef0240a458b9a7200c-pi\" style=\"display: inline;\"><img alt=\"Nyt_candidatemap_3\" class=\"asset  asset-image at-xid-6a00d8341e992c53ef0240a458b9a7200c img-responsive\" src=\"https://junkcharts.typepad.com/.a/6a00d8341e992c53ef0240a458b9a7200c-450wi\" style=\"width: 425px;\" title=\"Nyt_candidatemap_3\" /></a></p>\r\n<p>Click <a href=\"https://www.nytimes.com/interactive/2019/04/05/us/politics/2020-democrats-campaign-stops.html\" title=\"Link to New York Times\">here</a> to see the animation.</p>\r\n<p>When repetition is done right, it doesn&#39;t feel like repetition.</p>\r\n<p>&#0160;</p>",
         "description": "Kaiser Fung (Junkcharts, Principal Analytics Prep) shows why the visualization of Democratic candidate itineraries by the New York TImes is effective. ",
         "embeddedAudioLinks": [],
         "embeddedImageLinks": [
          {
           "height": 1164,
           "url": "https://a7.typepad.com/6a00d8341e992c53ef0240a4a68d4f200b-pi",
           "urlTemplate": "https://a7.typepad.com/6a00d8341e992c53ef0240a4a68d4f200b-{spec}",
           "width": 1866
          },
          {
           "height": 422,
           "url": "https://a4.typepad.com/6a00d8341e992c53ef0240a481f1ec200d-pi",
           "urlTemplate": "https://a4.typepad.com/6a00d8341e992c53ef0240a481f1ec200d-{spec}",
           "width": 1868
          },
          {
           "height": 1032,
           "url": "https://a7.typepad.com/6a00d8341e992c53ef0240a458b9a7200c-pi",
           "urlTemplate": "https://a7.typepad.com/6a00d8341e992c53ef0240a458b9a7200c-{spec}",
           "width": 1472
          }
         ],
         "embeddedVideoLinks": [],
         "excerpt": "Kaiser Fung (Junkcharts, Principal Analytics Prep) shows why the visualization of Democratic candidate itineraries by the New York TImes is effective. ",
         "favoriteCount": 0,
         "filename": "say-it-thrice-a-nice-example-of-layering-and-story-telling",
         "groups": [],
         "hasExtendedContent": false,
         "id": "tag:api.typepad.com,2009:6a00d8341e992c53ef0240a481f3b1200d",
         "objectType": "Post",
         "objectTypes": [
          "tag:api.typepad.com,2009:Post"
         ],
         "permalinkUrl": "https://junkcharts.typepad.com/junk_charts/2019/04/say-it-thrice-a-nice-example-of-layering-and-story-telling.html",
         "published": "2019-04-30T12:41:00Z",
         "reblogCount": 0,
         "renderedContent": "<p>I enjoyed the <a href=\"https://junkcharts.typepad.com/junk_charts/nyt\" title=\"Commentary on NYT Graphics\">New York Times</a>&#39;s data viz showing how actively the Democratic candidates were criss-crossing the nation in the month of March (<a href=\"https://www.nytimes.com/interactive/2019/04/05/us/politics/2020-democrats-campaign-stops.html\" title=\"Link to New York Times\">link</a>).</p>\r\n<p>It is a great example of layering the presentation, starting with an eye-catching <a href=\"https://junkcharts.typepad.com/junk_charts/map\" title=\"Posts about maps\">map</a> at the most <a href=\"https://junkcharts.typepad.com/junk_charts/aggregation\" title=\"Posts about aggregation\">aggregate</a> level. The designers looped through the same dataset three times.</p>\r\n<p><a class=\"asset-img-link\" href=\"https://junkcharts.typepad.com/.a/6a00d8341e992c53ef0240a4a68d4f200b-pi\" style=\"display: inline;\"><img alt=\"Nyt_candidatemap_1\" class=\"asset  asset-image at-xid-6a00d8341e992c53ef0240a4a68d4f200b img-responsive\" src=\"https://junkcharts.typepad.com/.a/6a00d8341e992c53ef0240a4a68d4f200b-450wi\" style=\"width: 425px;\" title=\"Nyt_candidatemap_1\" /></a></p>\r\n<p>This compact display packs quite a lot. We can easily identify which were the most popular states; and which candidate visited which states the most.</p>\r\n<p>I noticed how they handled the <a href=\"https://junkcharts.typepad.com/junk_charts/legend\" title=\"Posts about legend\">legend</a>. There is no explicit legend. The candidate names are spread around the map. The size legend is also missing, replaced by a short sentence explaining that size encodes the number of cities visited within the state. For a chart like this, having a precise size legend isn&#39;t that useful.</p>\r\n<p>The next section presents the same data in a <a href=\"https://junkcharts.typepad.com/junk_charts/small-multiples\" title=\"Posts about small multiples\">small-multiples</a> layout. The heads are replaced by dots.</p>\r\n<p><a class=\"asset-img-link\" href=\"https://junkcharts.typepad.com/.a/6a00d8341e992c53ef0240a481f1ec200d-pi\" style=\"display: inline;\"><img alt=\"Nyt_candidatemap_2\" class=\"asset  asset-image at-xid-6a00d8341e992c53ef0240a481f1ec200d img-responsive\" src=\"https://junkcharts.typepad.com/.a/6a00d8341e992c53ef0240a481f1ec200d-450wi\" style=\"width: 425px;\" title=\"Nyt_candidatemap_2\" /></a></p>\r\n<p>This allows more precise comparison of one candidate to another, and one location to another.</p>\r\n<p>This display has one shortcoming. If you compare the left two <a href=\"https://junkcharts.typepad.com/junk_charts/map\">maps</a> above, those for Amy Klobuchar and Beto O&#39;Rourke, it looks like they have visited roughly similar number of cities when in fact Beto went to 42 compared to 25. Reducing the size of the dots might work.</p>\r\n<p>Then, in the third visualization of the same data, the <a href=\"https://junkcharts.typepad.com/junk_charts/time-series\" title=\"Posts about time series\">time</a> dimension is emphasized. Lines are used to <a href=\"https://junkcharts.typepad.com/junk_charts/animation\" title=\"Posts about animation\">animate</a> the daily movements of the candidates, one by one.</p>\r\n<p><a class=\"asset-img-link\" href=\"https://junkcharts.typepad.com/.a/6a00d8341e992c53ef0240a458b9a7200c-pi\" style=\"display: inline;\"><img alt=\"Nyt_candidatemap_3\" class=\"asset  asset-image at-xid-6a00d8341e992c53ef0240a458b9a7200c img-responsive\" src=\"https://junkcharts.typepad.com/.a/6a00d8341e992c53ef0240a458b9a7200c-450wi\" style=\"width: 425px;\" title=\"Nyt_candidatemap_3\" /></a></p>\r\n<p>Click <a href=\"https://www.nytimes.com/interactive/2019/04/05/us/politics/2020-democrats-campaign-stops.html\" title=\"Link to New York Times\">here</a> to see the animation.</p>\r\n<p>When repetition is done right, it doesn&#39;t feel like repetition.</p>\r\n<p>&#0160;</p>",
         "shortUrl": "http://bit.ly/2DFUr4F",
         "textFormat": "html",
         "title": "Say it thrice: a nice example of layering and story-telling",
         "urlId": "6a00d8341e992c53ef0240a481f3b1200d"
        }
       ],
       "totalResults": 1228
      },
      "text/plain": [
       "<IPython.core.display.JSON object>"
      ]
     },
     "execution_count": 18,
     "metadata": {
      "application/json": {
       "expanded": false,
       "root": "root"
      }
     },
     "output_type": "execute_result"
    }
   ],
   "source": [
    "JSON(r4.json())"
   ]
  },
  {
   "cell_type": "code",
   "execution_count": null,
   "metadata": {},
   "outputs": [],
   "source": []
  }
 ],
 "metadata": {
  "kernelspec": {
   "display_name": "Python 3",
   "language": "python",
   "name": "python3"
  },
  "language_info": {
   "codemirror_mode": {
    "name": "ipython",
    "version": 3
   },
   "file_extension": ".py",
   "mimetype": "text/x-python",
   "name": "python",
   "nbconvert_exporter": "python",
   "pygments_lexer": "ipython3",
   "version": "3.7.3"
  }
 },
 "nbformat": 4,
 "nbformat_minor": 4
}
